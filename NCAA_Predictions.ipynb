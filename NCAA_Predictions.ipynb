{
 "cells": [
  {
   "cell_type": "markdown",
   "metadata": {},
   "source": [
    "# NCAA Basketball Game Prediction Model\n",
    "\n",
    "This notebook uses scikit-learn to predict the outcomes of upcoming NCAA basketball games based on completed games data."
   ]
  },
  {
   "cell_type": "code",
   "execution_count": 1,
   "metadata": {
    "execution": {
     "iopub.execute_input": "2025-03-15T12:22:00.540999Z",
     "iopub.status.busy": "2025-03-15T12:22:00.540422Z",
     "iopub.status.idle": "2025-03-15T12:22:04.743178Z",
     "shell.execute_reply": "2025-03-15T12:22:04.742615Z"
    }
   },
   "outputs": [],
   "source": [
    "# Import necessary libraries\n",
    "import pandas as pd\n",
    "import numpy as np\n",
    "import matplotlib.pyplot as plt\n",
    "import seaborn as sns\n",
    "from sklearn.model_selection import train_test_split, cross_val_score\n",
    "from sklearn.preprocessing import StandardScaler, OneHotEncoder\n",
    "from sklearn.compose import ColumnTransformer\n",
    "from sklearn.pipeline import Pipeline\n",
    "from sklearn.ensemble import RandomForestClassifier\n",
    "from sklearn.linear_model import LogisticRegression\n",
    "from sklearn.metrics import accuracy_score, classification_report, confusion_matrix\n",
    "from sklearn.impute import SimpleImputer"
   ]
  },
  {
   "cell_type": "code",
   "execution_count": 2,
   "metadata": {
    "execution": {
     "iopub.execute_input": "2025-03-15T12:22:04.745730Z",
     "iopub.status.busy": "2025-03-15T12:22:04.745119Z",
     "iopub.status.idle": "2025-03-15T12:22:04.774180Z",
     "shell.execute_reply": "2025-03-15T12:22:04.773545Z"
    }
   },
   "outputs": [
    {
     "name": "stdout",
     "output_type": "stream",
     "text": [
      "Loaded 6142 completed games and 23 upcoming games\n"
     ]
    }
   ],
   "source": [
    "# Load the data\n",
    "completed_games = pd.read_csv('Completed_Games.csv')\n",
    "upcoming_games = pd.read_csv('Upcoming_Games.csv')\n",
    "\n",
    "print(f\"Loaded {len(completed_games)} completed games and {len(upcoming_games)} upcoming games\")"
   ]
  },
  {
   "cell_type": "markdown",
   "metadata": {},
   "source": [
    "## Data Exploration"
   ]
  },
  {
   "cell_type": "code",
   "execution_count": 3,
   "metadata": {
    "execution": {
     "iopub.execute_input": "2025-03-15T12:22:04.811342Z",
     "iopub.status.busy": "2025-03-15T12:22:04.810898Z",
     "iopub.status.idle": "2025-03-15T12:22:04.828704Z",
     "shell.execute_reply": "2025-03-15T12:22:04.828124Z"
    }
   },
   "outputs": [
    {
     "name": "stdout",
     "output_type": "stream",
     "text": [
      "Completed games columns:\n",
      "['game_id', 'game_status', 'home_team', 'home_id', 'home_rank', 'home_record', 'home_score', 'away_team', 'away_id', 'away_rank', 'away_record', 'away_score', 'home_point_spread', 'home_win', 'num_ots', 'is_conference', 'is_neutral', 'is_postseason', 'tournament', 'game_day', 'game_time', 'game_loc', 'arena', 'arena_capacity', 'attendance', 'tv_network', 'referee_1', 'referee_2', 'referee_3']\n"
     ]
    },
    {
     "data": {
      "text/html": [
       "<div>\n",
       "<style scoped>\n",
       "    .dataframe tbody tr th:only-of-type {\n",
       "        vertical-align: middle;\n",
       "    }\n",
       "\n",
       "    .dataframe tbody tr th {\n",
       "        vertical-align: top;\n",
       "    }\n",
       "\n",
       "    .dataframe thead th {\n",
       "        text-align: right;\n",
       "    }\n",
       "</style>\n",
       "<table border=\"1\" class=\"dataframe\">\n",
       "  <thead>\n",
       "    <tr style=\"text-align: right;\">\n",
       "      <th></th>\n",
       "      <th>game_id</th>\n",
       "      <th>game_status</th>\n",
       "      <th>home_team</th>\n",
       "      <th>home_id</th>\n",
       "      <th>home_rank</th>\n",
       "      <th>home_record</th>\n",
       "      <th>home_score</th>\n",
       "      <th>away_team</th>\n",
       "      <th>away_id</th>\n",
       "      <th>away_rank</th>\n",
       "      <th>...</th>\n",
       "      <th>game_day</th>\n",
       "      <th>game_time</th>\n",
       "      <th>game_loc</th>\n",
       "      <th>arena</th>\n",
       "      <th>arena_capacity</th>\n",
       "      <th>attendance</th>\n",
       "      <th>tv_network</th>\n",
       "      <th>referee_1</th>\n",
       "      <th>referee_2</th>\n",
       "      <th>referee_3</th>\n",
       "    </tr>\n",
       "  </thead>\n",
       "  <tbody>\n",
       "    <tr>\n",
       "      <th>0</th>\n",
       "      <td>401727499</td>\n",
       "      <td>Final</td>\n",
       "      <td>IU Indianapolis Jaguars</td>\n",
       "      <td>85</td>\n",
       "      <td>NaN</td>\n",
       "      <td>1-0</td>\n",
       "      <td>100</td>\n",
       "      <td>IU Columbus Crimson Pride</td>\n",
       "      <td>nd-iu-columbus-crimson-pride</td>\n",
       "      <td>NaN</td>\n",
       "      <td>...</td>\n",
       "      <td>November 04, 2024</td>\n",
       "      <td>08:00 AM PST</td>\n",
       "      <td>Indianapolis, IN</td>\n",
       "      <td>Corteva Coliseum</td>\n",
       "      <td>NaN</td>\n",
       "      <td>3716.0</td>\n",
       "      <td>ESPN+</td>\n",
       "      <td>Rod Mrakovich</td>\n",
       "      <td>Martin Spencer</td>\n",
       "      <td>Adam Sensibaugh</td>\n",
       "    </tr>\n",
       "    <tr>\n",
       "      <th>1</th>\n",
       "      <td>401715872</td>\n",
       "      <td>Final</td>\n",
       "      <td>Southern Illinois Salukis</td>\n",
       "      <td>79</td>\n",
       "      <td>NaN</td>\n",
       "      <td>0-1</td>\n",
       "      <td>80</td>\n",
       "      <td>Charleston Cougars</td>\n",
       "      <td>232</td>\n",
       "      <td>NaN</td>\n",
       "      <td>...</td>\n",
       "      <td>November 04, 2024</td>\n",
       "      <td>09:00 AM PST</td>\n",
       "      <td>Sioux Falls, SD</td>\n",
       "      <td>Sanford Pentagon</td>\n",
       "      <td>NaN</td>\n",
       "      <td>0.0</td>\n",
       "      <td>NaN</td>\n",
       "      <td>Brad Ferrie</td>\n",
       "      <td>Antinio Petty</td>\n",
       "      <td>Ben Wolfe</td>\n",
       "    </tr>\n",
       "    <tr>\n",
       "      <th>2</th>\n",
       "      <td>401725796</td>\n",
       "      <td>Final</td>\n",
       "      <td>UT Arlington Mavericks</td>\n",
       "      <td>250</td>\n",
       "      <td>NaN</td>\n",
       "      <td>1-0</td>\n",
       "      <td>90</td>\n",
       "      <td>UNT Dallas Trailblazers</td>\n",
       "      <td>nd-unt-dallas-trailblazers</td>\n",
       "      <td>NaN</td>\n",
       "      <td>...</td>\n",
       "      <td>November 04, 2024</td>\n",
       "      <td>09:00 AM PST</td>\n",
       "      <td>Arlington, TX</td>\n",
       "      <td>College Park Center</td>\n",
       "      <td>NaN</td>\n",
       "      <td>1001.0</td>\n",
       "      <td>ESPN+</td>\n",
       "      <td>Doug George</td>\n",
       "      <td>Randal Anders</td>\n",
       "      <td>Trenton Chaney</td>\n",
       "    </tr>\n",
       "    <tr>\n",
       "      <th>3</th>\n",
       "      <td>401726400</td>\n",
       "      <td>Final</td>\n",
       "      <td>Middle Tennessee Blue Raiders</td>\n",
       "      <td>2393</td>\n",
       "      <td>NaN</td>\n",
       "      <td>1-0</td>\n",
       "      <td>97</td>\n",
       "      <td>Oglethorpe Stormy Petrels</td>\n",
       "      <td>nd-oglethorpe-stormy-petrels</td>\n",
       "      <td>NaN</td>\n",
       "      <td>...</td>\n",
       "      <td>November 04, 2024</td>\n",
       "      <td>09:00 AM PST</td>\n",
       "      <td>Murfreesboro, TN</td>\n",
       "      <td>Murphy Center</td>\n",
       "      <td>NaN</td>\n",
       "      <td>7501.0</td>\n",
       "      <td>ESPN+</td>\n",
       "      <td>Kevin Mathis</td>\n",
       "      <td>James Curran</td>\n",
       "      <td>Klajdi Mulla</td>\n",
       "    </tr>\n",
       "    <tr>\n",
       "      <th>4</th>\n",
       "      <td>401726395</td>\n",
       "      <td>Final</td>\n",
       "      <td>Jacksonville State Gamecocks</td>\n",
       "      <td>55</td>\n",
       "      <td>NaN</td>\n",
       "      <td>1-0</td>\n",
       "      <td>112</td>\n",
       "      <td>LaGrange Panthers</td>\n",
       "      <td>nd-lagrange-panthers</td>\n",
       "      <td>NaN</td>\n",
       "      <td>...</td>\n",
       "      <td>November 04, 2024</td>\n",
       "      <td>09:30 AM PST</td>\n",
       "      <td>Jacksonville, AL</td>\n",
       "      <td>Pete Mathews Coliseum</td>\n",
       "      <td>NaN</td>\n",
       "      <td>2055.0</td>\n",
       "      <td>ESPN+</td>\n",
       "      <td>Barry Mathis</td>\n",
       "      <td>Nick Meyer</td>\n",
       "      <td>Jeremy Trussell</td>\n",
       "    </tr>\n",
       "  </tbody>\n",
       "</table>\n",
       "<p>5 rows × 29 columns</p>\n",
       "</div>"
      ],
      "text/plain": [
       "     game_id game_status                      home_team home_id  home_rank  \\\n",
       "0  401727499       Final        IU Indianapolis Jaguars      85        NaN   \n",
       "1  401715872       Final      Southern Illinois Salukis      79        NaN   \n",
       "2  401725796       Final         UT Arlington Mavericks     250        NaN   \n",
       "3  401726400       Final  Middle Tennessee Blue Raiders    2393        NaN   \n",
       "4  401726395       Final   Jacksonville State Gamecocks      55        NaN   \n",
       "\n",
       "  home_record  home_score                  away_team  \\\n",
       "0         1-0         100  IU Columbus Crimson Pride   \n",
       "1         0-1          80         Charleston Cougars   \n",
       "2         1-0          90    UNT Dallas Trailblazers   \n",
       "3         1-0          97  Oglethorpe Stormy Petrels   \n",
       "4         1-0         112          LaGrange Panthers   \n",
       "\n",
       "                        away_id  away_rank  ...           game_day  \\\n",
       "0  nd-iu-columbus-crimson-pride        NaN  ...  November 04, 2024   \n",
       "1                           232        NaN  ...  November 04, 2024   \n",
       "2    nd-unt-dallas-trailblazers        NaN  ...  November 04, 2024   \n",
       "3  nd-oglethorpe-stormy-petrels        NaN  ...  November 04, 2024   \n",
       "4          nd-lagrange-panthers        NaN  ...  November 04, 2024   \n",
       "\n",
       "      game_time          game_loc                  arena  arena_capacity  \\\n",
       "0  08:00 AM PST  Indianapolis, IN       Corteva Coliseum             NaN   \n",
       "1  09:00 AM PST   Sioux Falls, SD       Sanford Pentagon             NaN   \n",
       "2  09:00 AM PST     Arlington, TX    College Park Center             NaN   \n",
       "3  09:00 AM PST  Murfreesboro, TN          Murphy Center             NaN   \n",
       "4  09:30 AM PST  Jacksonville, AL  Pete Mathews Coliseum             NaN   \n",
       "\n",
       "   attendance  tv_network      referee_1       referee_2        referee_3  \n",
       "0      3716.0       ESPN+  Rod Mrakovich  Martin Spencer  Adam Sensibaugh  \n",
       "1         0.0         NaN    Brad Ferrie   Antinio Petty        Ben Wolfe  \n",
       "2      1001.0       ESPN+    Doug George   Randal Anders   Trenton Chaney  \n",
       "3      7501.0       ESPN+   Kevin Mathis    James Curran     Klajdi Mulla  \n",
       "4      2055.0       ESPN+   Barry Mathis      Nick Meyer  Jeremy Trussell  \n",
       "\n",
       "[5 rows x 29 columns]"
      ]
     },
     "execution_count": 3,
     "metadata": {},
     "output_type": "execute_result"
    }
   ],
   "source": [
    "# Examine the data\n",
    "print(\"Completed games columns:\")\n",
    "print(completed_games.columns.tolist())\n",
    "completed_games.head()"
   ]
  },
  {
   "cell_type": "code",
   "execution_count": 4,
   "metadata": {
    "execution": {
     "iopub.execute_input": "2025-03-15T12:22:04.830799Z",
     "iopub.status.busy": "2025-03-15T12:22:04.830360Z",
     "iopub.status.idle": "2025-03-15T12:22:04.841080Z",
     "shell.execute_reply": "2025-03-15T12:22:04.840541Z"
    }
   },
   "outputs": [
    {
     "name": "stdout",
     "output_type": "stream",
     "text": [
      "Missing values in completed games:\n",
      "home_rank            5660\n",
      "home_record             7\n",
      "away_rank            5808\n",
      "away_record           520\n",
      "home_point_spread     577\n",
      "tournament           5298\n",
      "arena_capacity       6142\n",
      "tv_network            518\n",
      "referee_1             190\n",
      "referee_2             195\n",
      "referee_3             219\n",
      "dtype: int64\n"
     ]
    }
   ],
   "source": [
    "# Check for missing values\n",
    "print(\"Missing values in completed games:\")\n",
    "print(completed_games.isna().sum()[completed_games.isna().sum() > 0])"
   ]
  },
  {
   "cell_type": "code",
   "execution_count": 5,
   "metadata": {
    "execution": {
     "iopub.execute_input": "2025-03-15T12:22:04.843115Z",
     "iopub.status.busy": "2025-03-15T12:22:04.842660Z",
     "iopub.status.idle": "2025-03-15T12:22:04.856358Z",
     "shell.execute_reply": "2025-03-15T12:22:04.855926Z"
    }
   },
   "outputs": [
    {
     "name": "stdout",
     "output_type": "stream",
     "text": [
      "Upcoming games columns:\n",
      "['game_id', 'game_status', 'home_team', 'home_id', 'home_rank', 'home_record', 'home_score', 'away_team', 'away_id', 'away_rank', 'away_record', 'away_score', 'home_point_spread', 'home_win', 'num_ots', 'is_conference', 'is_neutral', 'is_postseason', 'tournament', 'game_day', 'game_time', 'game_loc', 'arena', 'arena_capacity', 'attendance', 'tv_network', 'referee_1', 'referee_2', 'referee_3']\n"
     ]
    },
    {
     "data": {
      "text/html": [
       "<div>\n",
       "<style scoped>\n",
       "    .dataframe tbody tr th:only-of-type {\n",
       "        vertical-align: middle;\n",
       "    }\n",
       "\n",
       "    .dataframe tbody tr th {\n",
       "        vertical-align: top;\n",
       "    }\n",
       "\n",
       "    .dataframe thead th {\n",
       "        text-align: right;\n",
       "    }\n",
       "</style>\n",
       "<table border=\"1\" class=\"dataframe\">\n",
       "  <thead>\n",
       "    <tr style=\"text-align: right;\">\n",
       "      <th></th>\n",
       "      <th>game_id</th>\n",
       "      <th>game_status</th>\n",
       "      <th>home_team</th>\n",
       "      <th>home_id</th>\n",
       "      <th>home_rank</th>\n",
       "      <th>home_record</th>\n",
       "      <th>home_score</th>\n",
       "      <th>away_team</th>\n",
       "      <th>away_id</th>\n",
       "      <th>away_rank</th>\n",
       "      <th>...</th>\n",
       "      <th>game_day</th>\n",
       "      <th>game_time</th>\n",
       "      <th>game_loc</th>\n",
       "      <th>arena</th>\n",
       "      <th>arena_capacity</th>\n",
       "      <th>attendance</th>\n",
       "      <th>tv_network</th>\n",
       "      <th>referee_1</th>\n",
       "      <th>referee_2</th>\n",
       "      <th>referee_3</th>\n",
       "    </tr>\n",
       "  </thead>\n",
       "  <tbody>\n",
       "    <tr>\n",
       "      <th>0</th>\n",
       "      <td>401726454</td>\n",
       "      <td>Scheduled</td>\n",
       "      <td>Northwestern State Demons</td>\n",
       "      <td>2466</td>\n",
       "      <td>NaN</td>\n",
       "      <td>16-16</td>\n",
       "      <td>0</td>\n",
       "      <td>John Melvin Millers</td>\n",
       "      <td>nd-john-melvin-millers</td>\n",
       "      <td>NaN</td>\n",
       "      <td>...</td>\n",
       "      <td>November 19, 2024</td>\n",
       "      <td>04:30 PM PST</td>\n",
       "      <td>Natchitoches, LA</td>\n",
       "      <td>Prather Coliseum</td>\n",
       "      <td>NaN</td>\n",
       "      <td>NaN</td>\n",
       "      <td>NaN</td>\n",
       "      <td>Ross Cullins</td>\n",
       "      <td>Garrett Theriot</td>\n",
       "      <td>Kevin Montz</td>\n",
       "    </tr>\n",
       "    <tr>\n",
       "      <th>1</th>\n",
       "      <td>401743986</td>\n",
       "      <td>Scheduled</td>\n",
       "      <td>Yale Bulldogs</td>\n",
       "      <td>43</td>\n",
       "      <td>NaN</td>\n",
       "      <td>20-7</td>\n",
       "      <td>0</td>\n",
       "      <td>Princeton Tigers</td>\n",
       "      <td>163</td>\n",
       "      <td>NaN</td>\n",
       "      <td>...</td>\n",
       "      <td>March 15, 2025</td>\n",
       "      <td>08:00 AM PDT</td>\n",
       "      <td>Providence, RI</td>\n",
       "      <td>Pizzitola Sports Center</td>\n",
       "      <td>NaN</td>\n",
       "      <td>NaN</td>\n",
       "      <td>ESPNU/ESPN+</td>\n",
       "      <td>NaN</td>\n",
       "      <td>NaN</td>\n",
       "      <td>NaN</td>\n",
       "    </tr>\n",
       "    <tr>\n",
       "      <th>2</th>\n",
       "      <td>401745889</td>\n",
       "      <td>Scheduled</td>\n",
       "      <td>Bryant Bulldogs</td>\n",
       "      <td>2803</td>\n",
       "      <td>NaN</td>\n",
       "      <td>22-11</td>\n",
       "      <td>0</td>\n",
       "      <td>Maine Black Bears</td>\n",
       "      <td>311</td>\n",
       "      <td>NaN</td>\n",
       "      <td>...</td>\n",
       "      <td>March 15, 2025</td>\n",
       "      <td>08:00 AM PDT</td>\n",
       "      <td>Smithfield, RI</td>\n",
       "      <td>Chace Athletic Center</td>\n",
       "      <td>NaN</td>\n",
       "      <td>NaN</td>\n",
       "      <td>ESPN2/ESPN+</td>\n",
       "      <td>NaN</td>\n",
       "      <td>NaN</td>\n",
       "      <td>NaN</td>\n",
       "    </tr>\n",
       "    <tr>\n",
       "      <th>3</th>\n",
       "      <td>401743817</td>\n",
       "      <td>Scheduled</td>\n",
       "      <td>VCU Rams</td>\n",
       "      <td>2670</td>\n",
       "      <td>NaN</td>\n",
       "      <td>26-6</td>\n",
       "      <td>0</td>\n",
       "      <td>Loyola Chicago Ramblers</td>\n",
       "      <td>2350</td>\n",
       "      <td>NaN</td>\n",
       "      <td>...</td>\n",
       "      <td>March 15, 2025</td>\n",
       "      <td>10:00 AM PDT</td>\n",
       "      <td>Washington, DC</td>\n",
       "      <td>Capital One Arena</td>\n",
       "      <td>NaN</td>\n",
       "      <td>NaN</td>\n",
       "      <td>CBSSN</td>\n",
       "      <td>NaN</td>\n",
       "      <td>NaN</td>\n",
       "      <td>NaN</td>\n",
       "    </tr>\n",
       "    <tr>\n",
       "      <th>4</th>\n",
       "      <td>401743940</td>\n",
       "      <td>Scheduled</td>\n",
       "      <td>Michigan State Spartans</td>\n",
       "      <td>127</td>\n",
       "      <td>7.0</td>\n",
       "      <td>27-5</td>\n",
       "      <td>0</td>\n",
       "      <td>Wisconsin Badgers</td>\n",
       "      <td>275</td>\n",
       "      <td>18.0</td>\n",
       "      <td>...</td>\n",
       "      <td>March 15, 2025</td>\n",
       "      <td>10:00 AM PDT</td>\n",
       "      <td>Indianapolis, IN</td>\n",
       "      <td>Gainbridge Fieldhouse</td>\n",
       "      <td>NaN</td>\n",
       "      <td>NaN</td>\n",
       "      <td>CBS/Paramount+</td>\n",
       "      <td>NaN</td>\n",
       "      <td>NaN</td>\n",
       "      <td>NaN</td>\n",
       "    </tr>\n",
       "  </tbody>\n",
       "</table>\n",
       "<p>5 rows × 29 columns</p>\n",
       "</div>"
      ],
      "text/plain": [
       "     game_id game_status                  home_team  home_id  home_rank  \\\n",
       "0  401726454   Scheduled  Northwestern State Demons     2466        NaN   \n",
       "1  401743986   Scheduled              Yale Bulldogs       43        NaN   \n",
       "2  401745889   Scheduled            Bryant Bulldogs     2803        NaN   \n",
       "3  401743817   Scheduled                   VCU Rams     2670        NaN   \n",
       "4  401743940   Scheduled    Michigan State Spartans      127        7.0   \n",
       "\n",
       "  home_record  home_score                away_team                 away_id  \\\n",
       "0       16-16           0      John Melvin Millers  nd-john-melvin-millers   \n",
       "1        20-7           0         Princeton Tigers                     163   \n",
       "2       22-11           0        Maine Black Bears                     311   \n",
       "3        26-6           0  Loyola Chicago Ramblers                    2350   \n",
       "4        27-5           0        Wisconsin Badgers                     275   \n",
       "\n",
       "   away_rank  ...           game_day     game_time          game_loc  \\\n",
       "0        NaN  ...  November 19, 2024  04:30 PM PST  Natchitoches, LA   \n",
       "1        NaN  ...     March 15, 2025  08:00 AM PDT    Providence, RI   \n",
       "2        NaN  ...     March 15, 2025  08:00 AM PDT    Smithfield, RI   \n",
       "3        NaN  ...     March 15, 2025  10:00 AM PDT    Washington, DC   \n",
       "4       18.0  ...     March 15, 2025  10:00 AM PDT  Indianapolis, IN   \n",
       "\n",
       "                     arena  arena_capacity  attendance      tv_network  \\\n",
       "0         Prather Coliseum             NaN         NaN             NaN   \n",
       "1  Pizzitola Sports Center             NaN         NaN     ESPNU/ESPN+   \n",
       "2    Chace Athletic Center             NaN         NaN     ESPN2/ESPN+   \n",
       "3        Capital One Arena             NaN         NaN           CBSSN   \n",
       "4    Gainbridge Fieldhouse             NaN         NaN  CBS/Paramount+   \n",
       "\n",
       "      referee_1        referee_2    referee_3  \n",
       "0  Ross Cullins  Garrett Theriot  Kevin Montz  \n",
       "1           NaN              NaN          NaN  \n",
       "2           NaN              NaN          NaN  \n",
       "3           NaN              NaN          NaN  \n",
       "4           NaN              NaN          NaN  \n",
       "\n",
       "[5 rows x 29 columns]"
      ]
     },
     "execution_count": 5,
     "metadata": {},
     "output_type": "execute_result"
    }
   ],
   "source": [
    "# Look at upcoming games structure\n",
    "print(\"Upcoming games columns:\")\n",
    "print(upcoming_games.columns.tolist())\n",
    "upcoming_games.head()"
   ]
  },
  {
   "cell_type": "markdown",
   "metadata": {},
   "source": [
    "## Data Preprocessing"
   ]
  },
  {
   "cell_type": "code",
   "execution_count": 6,
   "metadata": {
    "execution": {
     "iopub.execute_input": "2025-03-15T12:22:04.858331Z",
     "iopub.status.busy": "2025-03-15T12:22:04.857915Z",
     "iopub.status.idle": "2025-03-15T12:22:04.871252Z",
     "shell.execute_reply": "2025-03-15T12:22:04.870711Z"
    }
   },
   "outputs": [],
   "source": [
    "# Clean and preprocess data\n",
    "\n",
    "# Convert records to win percentage\n",
    "def extract_win_pct(record):\n",
    "    if pd.isna(record) or record == '':\n",
    "        return np.nan\n",
    "    try:\n",
    "        wins, losses = record.split('-')\n",
    "        wins, losses = int(wins), int(losses)\n",
    "        if wins + losses > 0:\n",
    "            return wins / (wins + losses)\n",
    "        return 0.5  # Default for teams with no games\n",
    "    except:\n",
    "        return np.nan\n",
    "\n",
    "# Apply to both datasets\n",
    "completed_games['home_win_pct'] = completed_games['home_record'].apply(extract_win_pct)\n",
    "completed_games['away_win_pct'] = completed_games['away_record'].apply(extract_win_pct)\n",
    "\n",
    "upcoming_games['home_win_pct'] = upcoming_games['home_record'].apply(extract_win_pct)\n",
    "upcoming_games['away_win_pct'] = upcoming_games['away_record'].apply(extract_win_pct)"
   ]
  },
  {
   "cell_type": "code",
   "execution_count": 7,
   "metadata": {
    "execution": {
     "iopub.execute_input": "2025-03-15T12:22:04.873004Z",
     "iopub.status.busy": "2025-03-15T12:22:04.872668Z",
     "iopub.status.idle": "2025-03-15T12:22:04.883208Z",
     "shell.execute_reply": "2025-03-15T12:22:04.882683Z"
    }
   },
   "outputs": [],
   "source": [
    "# Handle ranks (lower is better, NaN means unranked)\n",
    "def process_rank(rank):\n",
    "    if pd.isna(rank):\n",
    "        return 50  # Default value for unranked teams\n",
    "    try:\n",
    "        return float(rank)\n",
    "    except:\n",
    "        return 50\n",
    "\n",
    "completed_games['home_rank_processed'] = completed_games['home_rank'].apply(process_rank)\n",
    "completed_games['away_rank_processed'] = completed_games['away_rank'].apply(process_rank)\n",
    "\n",
    "upcoming_games['home_rank_processed'] = upcoming_games['home_rank'].apply(process_rank)\n",
    "upcoming_games['away_rank_processed'] = upcoming_games['away_rank'].apply(process_rank)"
   ]
  },
  {
   "cell_type": "code",
   "execution_count": 8,
   "metadata": {
    "execution": {
     "iopub.execute_input": "2025-03-15T12:22:04.884891Z",
     "iopub.status.busy": "2025-03-15T12:22:04.884613Z",
     "iopub.status.idle": "2025-03-15T12:22:04.888309Z",
     "shell.execute_reply": "2025-03-15T12:22:04.887874Z"
    }
   },
   "outputs": [],
   "source": [
    "# Create feature for point spread (betting line)\n",
    "# Negative spread means home team is favored\n",
    "completed_games['point_spread'] = pd.to_numeric(completed_games['home_point_spread'], errors='coerce')\n",
    "\n",
    "# Create target variable: did home team win?\n",
    "completed_games['home_team_won'] = (completed_games['home_score'] > completed_games['away_score']).astype(int)"
   ]
  },
  {
   "cell_type": "code",
   "execution_count": 9,
   "metadata": {
    "execution": {
     "iopub.execute_input": "2025-03-15T12:22:04.889998Z",
     "iopub.status.busy": "2025-03-15T12:22:04.889817Z",
     "iopub.status.idle": "2025-03-15T12:22:05.227250Z",
     "shell.execute_reply": "2025-03-15T12:22:05.226690Z"
    }
   },
   "outputs": [],
   "source": [
    "# Create team statistics based on completed games\n",
    "\n",
    "# Calculate average points scored and allowed for each team\n",
    "team_stats = {}\n",
    "\n",
    "for _, row in completed_games.iterrows():\n",
    "    home_team = row['home_team']\n",
    "    away_team = row['away_team']\n",
    "    \n",
    "    # Initialize if not exists\n",
    "    if home_team not in team_stats:\n",
    "        team_stats[home_team] = {'games': 0, 'points_scored': 0, 'points_allowed': 0, 'wins': 0}\n",
    "    if away_team not in team_stats:\n",
    "        team_stats[away_team] = {'games': 0, 'points_scored': 0, 'points_allowed': 0, 'wins': 0}\n",
    "    \n",
    "    # Update stats\n",
    "    team_stats[home_team]['games'] += 1\n",
    "    team_stats[home_team]['points_scored'] += row['home_score']\n",
    "    team_stats[home_team]['points_allowed'] += row['away_score']\n",
    "    team_stats[home_team]['wins'] += 1 if row['home_score'] > row['away_score'] else 0\n",
    "    \n",
    "    team_stats[away_team]['games'] += 1\n",
    "    team_stats[away_team]['points_scored'] += row['away_score']\n",
    "    team_stats[away_team]['points_allowed'] += row['home_score']\n",
    "    team_stats[away_team]['wins'] += 1 if row['away_score'] > row['home_score'] else 0\n",
    "\n",
    "# Calculate averages\n",
    "for team in team_stats:\n",
    "    if team_stats[team]['games'] > 0:\n",
    "        team_stats[team]['avg_points_scored'] = team_stats[team]['points_scored'] / team_stats[team]['games']\n",
    "        team_stats[team]['avg_points_allowed'] = team_stats[team]['points_allowed'] / team_stats[team]['games']\n",
    "        team_stats[team]['win_pct'] = team_stats[team]['wins'] / team_stats[team]['games']\n",
    "    else:\n",
    "        team_stats[team]['avg_points_scored'] = 70  # Default values\n",
    "        team_stats[team]['avg_points_allowed'] = 70\n",
    "        team_stats[team]['win_pct'] = 0.5"
   ]
  },
  {
   "cell_type": "code",
   "execution_count": 10,
   "metadata": {
    "execution": {
     "iopub.execute_input": "2025-03-15T12:22:05.229356Z",
     "iopub.status.busy": "2025-03-15T12:22:05.229148Z",
     "iopub.status.idle": "2025-03-15T12:22:05.988067Z",
     "shell.execute_reply": "2025-03-15T12:22:05.987500Z"
    }
   },
   "outputs": [],
   "source": [
    "# Function to add team stats to games dataframe\n",
    "def add_team_stats(df):\n",
    "    # Initialize new columns\n",
    "    df['home_avg_points'] = np.nan\n",
    "    df['home_avg_points_allowed'] = np.nan\n",
    "    df['home_calculated_win_pct'] = np.nan\n",
    "    df['away_avg_points'] = np.nan\n",
    "    df['away_avg_points_allowed'] = np.nan\n",
    "    df['away_calculated_win_pct'] = np.nan\n",
    "    \n",
    "    # Populate with stats\n",
    "    for i, row in df.iterrows():\n",
    "        home_team = row['home_team']\n",
    "        away_team = row['away_team']\n",
    "        \n",
    "        if home_team in team_stats:\n",
    "            df.at[i, 'home_avg_points'] = team_stats[home_team]['avg_points_scored']\n",
    "            df.at[i, 'home_avg_points_allowed'] = team_stats[home_team]['avg_points_allowed']\n",
    "            df.at[i, 'home_calculated_win_pct'] = team_stats[home_team]['win_pct']\n",
    "        \n",
    "        if away_team in team_stats:\n",
    "            df.at[i, 'away_avg_points'] = team_stats[away_team]['avg_points_scored']\n",
    "            df.at[i, 'away_avg_points_allowed'] = team_stats[away_team]['avg_points_allowed']\n",
    "            df.at[i, 'away_calculated_win_pct'] = team_stats[away_team]['win_pct']\n",
    "    \n",
    "    return df\n",
    "\n",
    "# Add stats to both datasets\n",
    "completed_games = add_team_stats(completed_games)\n",
    "upcoming_games = add_team_stats(upcoming_games)"
   ]
  },
  {
   "cell_type": "code",
   "execution_count": 11,
   "metadata": {
    "execution": {
     "iopub.execute_input": "2025-03-15T12:22:05.990101Z",
     "iopub.status.busy": "2025-03-15T12:22:05.989898Z",
     "iopub.status.idle": "2025-03-15T12:22:05.998476Z",
     "shell.execute_reply": "2025-03-15T12:22:05.997898Z"
    }
   },
   "outputs": [],
   "source": [
    "# Create additional features for modeling\n",
    "def create_model_features(df):\n",
    "    # Create matchup features\n",
    "    df['rank_difference'] = df['away_rank_processed'] - df['home_rank_processed']\n",
    "    df['win_pct_difference'] = df['home_calculated_win_pct'] - df['away_calculated_win_pct']\n",
    "    df['scoring_diff'] = df['home_avg_points'] - df['away_avg_points']\n",
    "    df['defense_diff'] = df['away_avg_points_allowed'] - df['home_avg_points_allowed']\n",
    "    df['points_diff'] = df['home_avg_points'] - df['away_avg_points']\n",
    "    df['allowed_points_diff'] = df['home_avg_points_allowed'] - df['away_avg_points_allowed']\n",
    "    \n",
    "    # Home court advantage (is_neutral=False means home advantage exists)\n",
    "    df['home_advantage'] = (~df['is_neutral'].astype(bool)).astype(int)\n",
    "    \n",
    "    return df\n",
    "\n",
    "completed_games = create_model_features(completed_games)\n",
    "upcoming_games = create_model_features(upcoming_games)"
   ]
  },
  {
   "cell_type": "markdown",
   "metadata": {},
   "source": [
    "## Model Building"
   ]
  },
  {
   "cell_type": "code",
   "execution_count": 12,
   "metadata": {
    "execution": {
     "iopub.execute_input": "2025-03-15T12:22:06.000554Z",
     "iopub.status.busy": "2025-03-15T12:22:06.000119Z",
     "iopub.status.idle": "2025-03-15T12:22:06.009688Z",
     "shell.execute_reply": "2025-03-15T12:22:06.009223Z"
    }
   },
   "outputs": [
    {
     "name": "stdout",
     "output_type": "stream",
     "text": [
      "Using 6142 out of 6142 games for modeling\n"
     ]
    }
   ],
   "source": [
    "# Select features for modeling\n",
    "features = [\n",
    "    'home_rank_processed', 'away_rank_processed', 'rank_difference',\n",
    "    'home_calculated_win_pct', 'away_calculated_win_pct', 'win_pct_difference',\n",
    "    'home_avg_points', 'away_avg_points', 'scoring_diff',\n",
    "    'home_avg_points_allowed', 'away_avg_points_allowed', 'defense_diff',\n",
    "    'home_advantage', 'points_diff', 'allowed_points_diff'\n",
    "]\n",
    "\n",
    "# Filter rows with complete data for features\n",
    "model_data = completed_games.dropna(subset=features)\n",
    "print(f\"Using {len(model_data)} out of {len(completed_games)} games for modeling\")\n",
    "\n",
    "X = model_data[features]\n",
    "y = model_data['home_team_won']\n",
    "\n",
    "# Split data into training and testing sets\n",
    "X_train, X_test, y_train, y_test = train_test_split(X, y, test_size=0.25, random_state=42)"
   ]
  },
  {
   "cell_type": "code",
   "execution_count": 13,
   "metadata": {
    "execution": {
     "iopub.execute_input": "2025-03-15T12:22:06.011607Z",
     "iopub.status.busy": "2025-03-15T12:22:06.011241Z",
     "iopub.status.idle": "2025-03-15T12:40:39.054497Z",
     "shell.execute_reply": "2025-03-15T12:40:39.053855Z"
    }
   },
   "outputs": [
    {
     "name": "stdout",
     "output_type": "stream",
     "text": [
      "Best parameters: {'classifier__bootstrap': True, 'classifier__max_depth': 10, 'classifier__max_features': 'sqrt', 'classifier__min_samples_leaf': 4, 'classifier__min_samples_split': 10, 'classifier__n_estimators': 200}\n",
      "Model accuracy on test data: 0.7507\n",
      "\n",
      "Classification Report:\n",
      "              precision    recall  f1-score   support\n",
      "\n",
      "           0       0.67      0.53      0.59       524\n",
      "           1       0.78      0.86      0.82      1012\n",
      "\n",
      "    accuracy                           0.75      1536\n",
      "   macro avg       0.73      0.70      0.71      1536\n",
      "weighted avg       0.74      0.75      0.74      1536\n",
      "\n"
     ]
    },
    {
     "name": "stdout",
     "output_type": "stream",
     "text": [
      "\n",
      "Cross-validation accuracy: 0.7548 ± 0.0096\n"
     ]
    }
   ],
   "source": [
    "# Create preprocessing pipeline\n",
    "numeric_transformer = Pipeline(steps=[\n",
    "    ('imputer', SimpleImputer(strategy='median')),\n",
    "    ('scaler', StandardScaler())\n",
    "])\n",
    "\n",
    "# Create full preprocessing and modeling pipeline\n",
    "model_pipeline = Pipeline(steps=[\n",
    "    ('preprocessor', numeric_transformer),\n",
    "    ('classifier', RandomForestClassifier(random_state=42))\n",
    "])\n",
    "\n",
    "# Hyperparameter tuning\n",
    "from sklearn.model_selection import GridSearchCV\n",
    "\n",
    "param_grid = {\n",
    "    'classifier__n_estimators': [100, 200, 300],\n",
    "    'classifier__max_depth': [None, 10, 20, 30],\n",
    "    'classifier__min_samples_split': [2, 5, 10],\n",
    "    'classifier__min_samples_leaf': [1, 2, 4],\n",
    "    'classifier__bootstrap': [True, False],\n",
    "    'classifier__max_features': ['sqrt', 'log2']\n",
    "}\n",
    "\n",
    "grid_search = GridSearchCV(model_pipeline, param_grid, cv=5, n_jobs=-1, verbose=0)\n",
    "grid_search.fit(X_train, y_train)\n",
    "\n",
    "print(f\"Best parameters: {grid_search.best_params_}\")\n",
    "best_model = grid_search.best_estimator_\n",
    "\n",
    "# Evaluate on test data\n",
    "y_pred = best_model.predict(X_test)\n",
    "accuracy = accuracy_score(y_test, y_pred)\n",
    "print(f\"Model accuracy on test data: {accuracy:.4f}\")\n",
    "print(\"\\nClassification Report:\")\n",
    "print(classification_report(y_test, y_pred))\n",
    "\n",
    "# Cross-validation score\n",
    "cv_scores = cross_val_score(best_model, X, y, cv=5)\n",
    "print(f\"\\nCross-validation accuracy: {cv_scores.mean():.4f} ± {cv_scores.std():.4f}\")"
   ]
  },
  {
   "cell_type": "code",
   "execution_count": 14,
   "metadata": {
    "execution": {
     "iopub.execute_input": "2025-03-15T12:40:39.056838Z",
     "iopub.status.busy": "2025-03-15T12:40:39.056158Z",
     "iopub.status.idle": "2025-03-15T12:40:39.243841Z",
     "shell.execute_reply": "2025-03-15T12:40:39.243238Z"
    }
   },
   "outputs": [
    {
     "data": {
      "image/png": "[encoded data removed]",
      "text/plain": [
       "<Figure size 1000x800 with 1 Axes>"
      ]
     },
     "metadata": {},
     "output_type": "display_data"
    }
   ],
   "source": [
    "# Feature importance\n",
    "feature_importance = best_model.named_steps['classifier'].feature_importances_\n",
    "sorted_idx = np.argsort(feature_importance)\n",
    "\n",
    "plt.figure(figsize=(10, 8))\n",
    "plt.barh(range(len(sorted_idx)), feature_importance[sorted_idx], align='center')\n",
    "plt.yticks(range(len(sorted_idx)), np.array(features)[sorted_idx])\n",
    "plt.title('Feature Importance')\n",
    "plt.tight_layout()\n",
    "plt.show()"
   ]
  },
  {
   "cell_type": "markdown",
   "metadata": {},
   "source": [
    "## Predicting Upcoming Games"
   ]
  },
  {
   "cell_type": "code",
   "execution_count": 15,
   "metadata": {
    "execution": {
     "iopub.execute_input": "2025-03-15T12:40:39.245734Z",
     "iopub.status.busy": "2025-03-15T12:40:39.245553Z",
     "iopub.status.idle": "2025-03-15T12:40:39.273844Z",
     "shell.execute_reply": "2025-03-15T12:40:39.273334Z"
    }
   },
   "outputs": [
    {
     "name": "stdout",
     "output_type": "stream",
     "text": [
      "Making predictions for 22 out of 23 upcoming games\n"
     ]
    },
    {
     "name": "stderr",
     "output_type": "stream",
     "text": [
      "/tmp/ipykernel_2296/2442767040.py:19: SettingWithCopyWarning: \n",
      "A value is trying to be set on a copy of a slice from a DataFrame.\n",
      "Try using .loc[row_indexer,col_indexer] = value instead\n",
      "\n",
      "See the caveats in the documentation: https://pandas.pydata.org/pandas-docs/stable/user_guide/indexing.html#returning-a-view-versus-a-copy\n",
      "  upcoming_features['home_win_probability'] = best_model.predict_proba(X_upcoming)[:, 1]\n",
      "/tmp/ipykernel_2296/2442767040.py:20: SettingWithCopyWarning: \n",
      "A value is trying to be set on a copy of a slice from a DataFrame.\n",
      "Try using .loc[row_indexer,col_indexer] = value instead\n",
      "\n",
      "See the caveats in the documentation: https://pandas.pydata.org/pandas-docs/stable/user_guide/indexing.html#returning-a-view-versus-a-copy\n",
      "  upcoming_features['predicted_winner'] = np.where(\n",
      "/tmp/ipykernel_2296/2442767040.py:25: SettingWithCopyWarning: \n",
      "A value is trying to be set on a copy of a slice from a DataFrame.\n",
      "Try using .loc[row_indexer,col_indexer] = value instead\n",
      "\n",
      "See the caveats in the documentation: https://pandas.pydata.org/pandas-docs/stable/user_guide/indexing.html#returning-a-view-versus-a-copy\n",
      "  upcoming_features['win_probability'] = np.where(\n"
     ]
    }
   ],
   "source": [
    "# Prepare upcoming games data for prediction\n",
    "existing_features = [feature for feature in features if feature in upcoming_games.columns]\n",
    "\n",
    "\n",
    "# Drop rows with missing values in other features\n",
    "upcoming_features = upcoming_games.dropna(subset=existing_features)\n",
    "\n",
    "print(f\"Making predictions for {len(upcoming_features)} out of {len(upcoming_games)} upcoming games\")\n",
    "\n",
    "# Fill missing values in other features with 0\n",
    "for feature in existing_features:\n",
    "    if feature not in upcoming_features.columns:\n",
    "        upcoming_features[feature] = 0\n",
    "    else:\n",
    "        upcoming_features.loc[:, feature] = upcoming_features[feature].fillna(0)\n",
    "\n",
    "# Make predictions\n",
    "X_upcoming = upcoming_features[existing_features]\n",
    "upcoming_features['home_win_probability'] = best_model.predict_proba(X_upcoming)[:, 1]\n",
    "upcoming_features['predicted_winner'] = np.where(\n",
    "    upcoming_features['home_win_probability'] > 0.5,\n",
    "    upcoming_features['home_team'],\n",
    "    upcoming_features['away_team']\n",
    ")\n",
    "upcoming_features['win_probability'] = np.where(\n",
    "    upcoming_features['home_win_probability'] > 0.5,\n",
    "    upcoming_features['home_win_probability'],\n",
    "    1 - upcoming_features['home_win_probability']\n",
    ")"
   ]
  },
  {
   "cell_type": "code",
   "execution_count": 16,
   "metadata": {
    "execution": {
     "iopub.execute_input": "2025-03-15T12:40:39.275857Z",
     "iopub.status.busy": "2025-03-15T12:40:39.275502Z",
     "iopub.status.idle": "2025-03-15T12:40:39.283915Z",
     "shell.execute_reply": "2025-03-15T12:40:39.283350Z"
    }
   },
   "outputs": [
    {
     "data": {
      "text/html": [
       "<div>\n",
       "<style scoped>\n",
       "    .dataframe tbody tr th:only-of-type {\n",
       "        vertical-align: middle;\n",
       "    }\n",
       "\n",
       "    .dataframe tbody tr th {\n",
       "        vertical-align: top;\n",
       "    }\n",
       "\n",
       "    .dataframe thead th {\n",
       "        text-align: right;\n",
       "    }\n",
       "</style>\n",
       "<table border=\"1\" class=\"dataframe\">\n",
       "  <thead>\n",
       "    <tr style=\"text-align: right;\">\n",
       "      <th></th>\n",
       "      <th>game_day</th>\n",
       "      <th>home_team</th>\n",
       "      <th>away_team</th>\n",
       "      <th>predicted_winner</th>\n",
       "      <th>win_probability</th>\n",
       "    </tr>\n",
       "  </thead>\n",
       "  <tbody>\n",
       "    <tr>\n",
       "      <th>1</th>\n",
       "      <td>March 15, 2025</td>\n",
       "      <td>Yale Bulldogs</td>\n",
       "      <td>Princeton Tigers</td>\n",
       "      <td>Yale Bulldogs</td>\n",
       "      <td>0.890833</td>\n",
       "    </tr>\n",
       "    <tr>\n",
       "      <th>20</th>\n",
       "      <td>March 15, 2025</td>\n",
       "      <td>UC San Diego Tritons</td>\n",
       "      <td>UC Irvine Anteaters</td>\n",
       "      <td>UC San Diego Tritons</td>\n",
       "      <td>0.659227</td>\n",
       "    </tr>\n",
       "    <tr>\n",
       "      <th>19</th>\n",
       "      <td>March 15, 2025</td>\n",
       "      <td>Liberty Flames</td>\n",
       "      <td>Jacksonville State Gamecocks</td>\n",
       "      <td>Liberty Flames</td>\n",
       "      <td>0.846459</td>\n",
       "    </tr>\n",
       "    <tr>\n",
       "      <th>18</th>\n",
       "      <td>March 15, 2025</td>\n",
       "      <td>Duke Blue Devils</td>\n",
       "      <td>Louisville Cardinals</td>\n",
       "      <td>Duke Blue Devils</td>\n",
       "      <td>0.672355</td>\n",
       "    </tr>\n",
       "    <tr>\n",
       "      <th>17</th>\n",
       "      <td>March 15, 2025</td>\n",
       "      <td>Akron Zips</td>\n",
       "      <td>Miami (OH) RedHawks</td>\n",
       "      <td>Akron Zips</td>\n",
       "      <td>0.783331</td>\n",
       "    </tr>\n",
       "    <tr>\n",
       "      <th>16</th>\n",
       "      <td>March 15, 2025</td>\n",
       "      <td>Iona Gaels</td>\n",
       "      <td>Mount St. Mary's Mountaineers</td>\n",
       "      <td>Mount St. Mary's Mountaineers</td>\n",
       "      <td>0.537535</td>\n",
       "    </tr>\n",
       "    <tr>\n",
       "      <th>15</th>\n",
       "      <td>March 15, 2025</td>\n",
       "      <td>St. John's Red Storm</td>\n",
       "      <td>Creighton Bluejays</td>\n",
       "      <td>St. John's Red Storm</td>\n",
       "      <td>0.823844</td>\n",
       "    </tr>\n",
       "    <tr>\n",
       "      <th>14</th>\n",
       "      <td>March 15, 2025</td>\n",
       "      <td>Colorado State Rams</td>\n",
       "      <td>Boise State Broncos</td>\n",
       "      <td>Colorado State Rams</td>\n",
       "      <td>0.641644</td>\n",
       "    </tr>\n",
       "    <tr>\n",
       "      <th>13</th>\n",
       "      <td>March 15, 2025</td>\n",
       "      <td>Houston Cougars</td>\n",
       "      <td>Arizona Wildcats</td>\n",
       "      <td>Houston Cougars</td>\n",
       "      <td>0.802006</td>\n",
       "    </tr>\n",
       "    <tr>\n",
       "      <th>12</th>\n",
       "      <td>March 15, 2025</td>\n",
       "      <td>North Texas Mean Green</td>\n",
       "      <td>UAB Blazers</td>\n",
       "      <td>North Texas Mean Green</td>\n",
       "      <td>0.729254</td>\n",
       "    </tr>\n",
       "  </tbody>\n",
       "</table>\n",
       "</div>"
      ],
      "text/plain": [
       "          game_day               home_team                      away_team  \\\n",
       "1   March 15, 2025           Yale Bulldogs               Princeton Tigers   \n",
       "20  March 15, 2025    UC San Diego Tritons            UC Irvine Anteaters   \n",
       "19  March 15, 2025          Liberty Flames   Jacksonville State Gamecocks   \n",
       "18  March 15, 2025        Duke Blue Devils           Louisville Cardinals   \n",
       "17  March 15, 2025              Akron Zips            Miami (OH) RedHawks   \n",
       "16  March 15, 2025              Iona Gaels  Mount St. Mary's Mountaineers   \n",
       "15  March 15, 2025    St. John's Red Storm             Creighton Bluejays   \n",
       "14  March 15, 2025     Colorado State Rams            Boise State Broncos   \n",
       "13  March 15, 2025         Houston Cougars               Arizona Wildcats   \n",
       "12  March 15, 2025  North Texas Mean Green                    UAB Blazers   \n",
       "\n",
       "                 predicted_winner  win_probability  \n",
       "1                   Yale Bulldogs         0.890833  \n",
       "20           UC San Diego Tritons         0.659227  \n",
       "19                 Liberty Flames         0.846459  \n",
       "18               Duke Blue Devils         0.672355  \n",
       "17                     Akron Zips         0.783331  \n",
       "16  Mount St. Mary's Mountaineers         0.537535  \n",
       "15           St. John's Red Storm         0.823844  \n",
       "14            Colorado State Rams         0.641644  \n",
       "13                Houston Cougars         0.802006  \n",
       "12         North Texas Mean Green         0.729254  "
      ]
     },
     "execution_count": 16,
     "metadata": {},
     "output_type": "execute_result"
    }
   ],
   "source": [
    "# Sort and display predictions\n",
    "prediction_results = upcoming_features[[\n",
    "     'game_day', 'home_team', 'away_team', \n",
    "     'predicted_winner', 'win_probability'\n",
    "]].sort_values('game_day')\n",
    "\n",
    "prediction_results.head(10)"
   ]
  },
  {
   "cell_type": "markdown",
   "metadata": {},
   "source": [
    "## Model Analysis and Insights"
   ]
  },
  {
   "cell_type": "code",
   "execution_count": 17,
   "metadata": {
    "execution": {
     "iopub.execute_input": "2025-03-15T12:40:39.285956Z",
     "iopub.status.busy": "2025-03-15T12:40:39.285543Z",
     "iopub.status.idle": "2025-03-15T12:40:39.298051Z",
     "shell.execute_reply": "2025-03-15T12:40:39.297612Z"
    }
   },
   "outputs": [
    {
     "name": "stdout",
     "output_type": "stream",
     "text": [
      "Predictions exported to NCAA_Game_Predictions.csv\n",
      "\n",
      "Highly confident predictions (7 games):\n",
      "README.md updated with latest model performance and high confidence predictions.\n"
     ]
    }
   ],
   "source": [
    "import datetime\n",
    "\n",
    "# Export predictions to CSV\n",
    "prediction_results.to_csv('NCAA_Game_Predictions.csv', index=False)\n",
    "print(\"Predictions exported to NCAA_Game_Predictions.csv\")\n",
    "\n",
    "# Show predictions for highly confident games (probability > 0.8)\n",
    "high_confidence = prediction_results[prediction_results['win_probability'] > 0.8].sort_values('win_probability', ascending=False)\n",
    "print(f\"\\nHighly confident predictions ({len(high_confidence)} games):\")\n",
    "high_confidence.head(10)\n",
    "\n",
    "# Prepare new README content\n",
    "readme_content = [\n",
    "    '# NCAA Game Predictions\\n\\n',\n",
    "    'This project aims to predict the outcomes of NCAA basketball games using machine learning models. The code leverages the `scikit-learn` library for building and evaluating the models, and the `cbbpy` library for scraping game data.\\n\\n',\n",
    "    '## High Confidence Predictions:\\n'\n",
    "]\n",
    "\n",
    "# Format high confidence predictions with readable headers\n",
    "high_confidence = high_confidence.rename(columns={\n",
    "    'game_day': 'Game Day',\n",
    "    'home_team': 'Home Team',\n",
    "    'away_team': 'Away Team',\n",
    "    'predicted_winner': 'Predicted Winner',\n",
    "    'win_probability': 'Win Probability'\n",
    "})\n",
    "\n",
    "# Round Win Probability to 2 decimal places\n",
    "high_confidence['Win Probability'] = high_confidence['Win Probability'].round(2)\n",
    "\n",
    "# Convert high confidence predictions to a Markdown table\n",
    "high_confidence_table = high_confidence.head(10).to_markdown(index=False)\n",
    "\n",
    "# Add high confidence predictions and model performance to README content\n",
    "readme_content += [\n",
    "    high_confidence_table,\n",
    "    '\\n\\n',\n",
    "    f\"Model Accuracy For 2025: {accuracy:.4f}\\n\\n\"\n",
    "]\n",
    "\n",
    "# Add the new description and libraries used content at the bottom\n",
    "description_content = [\n",
    "    '## Description\\n\\n',\n",
    "    'The main functionalities of this project include:\\n\\n',\n",
    "    '- Scraping NCAA basketball game data using the `cbbpy` library.\\n',\n",
    "    '- Preprocessing the data for model training.\\n',\n",
    "    '- Building and evaluating machine learning models using `scikit-learn`.\\n',\n",
    "    '- Generating predictions for upcoming games.\\n',\n",
    "    '- Exporting predictions to [NCAA_Game_Predictions.csv](NCAA_Game_Predictions.csv).\\n',\n",
    "    '- Updating the README file with the latest model performance and high confidence predictions.\\n\\n',\n",
    "    '## Libraries Used\\n\\n',\n",
    "    '- [scikit-learn](https://scikit-learn.org/stable/): A machine learning library for Python that provides simple and efficient tools for data mining and data analysis.\\n',\n",
    "    '- [cbbpy](https://pypi.org/project/cbbpy/): A Python library for scraping NCAA basketball data.\\n\\n'\n",
    "]\n",
    "\n",
    "# Add the last updated date and time\n",
    "last_updated = datetime.datetime.now().strftime(\"%B %d, %Y at %I:%M %p\")\n",
    "last_updated_content = [f'**Last updated:** {last_updated}\\n']\n",
    "\n",
    "# Combine all content\n",
    "readme_content += description_content + last_updated_content\n",
    "\n",
    "# Write the new README content to the file\n",
    "with open('README.md', 'w') as file:\n",
    "    file.writelines(readme_content)\n",
    "print(\"README.md updated with latest model performance and high confidence predictions.\")"
   ]
  },
  {
   "cell_type": "code",
   "execution_count": 18,
   "metadata": {
    "execution": {
     "iopub.execute_input": "2025-03-15T12:40:39.299931Z",
     "iopub.status.busy": "2025-03-15T12:40:39.299591Z",
     "iopub.status.idle": "2025-03-15T12:40:39.439110Z",
     "shell.execute_reply": "2025-03-15T12:40:39.438580Z"
    }
   },
   "outputs": [
    {
     "data": {
      "image/png": "[encoded data removed]",
      "text/plain": [
       "<Figure size 1000x600 with 1 Axes>"
      ]
     },
     "metadata": {},
     "output_type": "display_data"
    }
   ],
   "source": [
    "# Create visualization of prediction distribution\n",
    "plt.figure(figsize=(10, 6))\n",
    "sns.histplot(upcoming_features['win_probability'], bins=20)\n",
    "plt.title('Distribution of Win Probabilities')\n",
    "plt.xlabel('Win Probability')\n",
    "plt.ylabel('Count')\n",
    "plt.axvline(0.5, color='red', linestyle='--', alpha=0.7)\n",
    "plt.grid(True, alpha=0.3)\n",
    "plt.show()"
   ]
  }
 ],
 "metadata": {
  "kernelspec": {
   "display_name": "Python 3",
   "language": "python",
   "name": "python3"
  },
  "language_info": {
   "codemirror_mode": {
    "name": "ipython",
    "version": 3
   },
   "file_extension": ".py",
   "mimetype": "text/x-python",
   "name": "python",
   "nbconvert_exporter": "python",
   "pygments_lexer": "ipython3",
   "version": "3.13.2"
  }
 },
 "nbformat": 4,
 "nbformat_minor": 2
}
