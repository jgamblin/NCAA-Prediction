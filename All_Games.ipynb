{
 "cells": [
  {
   "cell_type": "code",
   "execution_count": 1,
   "metadata": {
    "execution": {
     "iopub.execute_input": "2025-08-25T12:06:25.734229Z",
     "iopub.status.busy": "2025-08-25T12:06:25.734024Z",
     "iopub.status.idle": "2025-08-25T12:17:06.749595Z",
     "shell.execute_reply": "2025-08-25T12:17:06.749076Z"
    }
   },
   "outputs": [
    {
     "name": "stderr",
     "output_type": "stream",
     "text": [
      "\r",
      "  0%|          | 0 of 182 days scraped in 0.0 sec"
     ]
    },
    {
     "name": "stderr",
     "output_type": "stream",
     "text": [
      "\r",
      "Scraping 0 games on 11/01/24:   0%|          | 0 of 182 days scraped in 0.2 sec"
     ]
    },
    {
     "name": "stderr",
     "output_type": "stream",
     "text": [
      "\r",
      "No games on 11/01/24:   1%|          | 1 of 182 days scraped in 0.2 sec        "
     ]
    },
    {
     "name": "stderr",
     "output_type": "stream",
     "text": [
      "\r",
      "Scraping 0 games on 11/02/24:   1%|          | 1 of 182 days scraped in 0.5 sec"
     ]
    },
    {
     "name": "stderr",
     "output_type": "stream",
     "text": [
      "\r",
      "No games on 11/02/24:   1%|          | 2 of 182 days scraped in 0.5 sec        "
     ]
    },
    {
     "name": "stderr",
     "output_type": "stream",
     "text": [
      "\r",
      "Scraping 0 games on 11/03/24:   1%|          | 2 of 182 days scraped in 0.7 sec"
     ]
    },
    {
     "name": "stderr",
     "output_type": "stream",
     "text": [
      "\r",
      "No games on 11/03/24:   2%|▏         | 3 of 182 days scraped in 0.7 sec        "
     ]
    },
    {
     "name": "stderr",
     "output_type": "stream",
     "text": [
      "\r",
      "Scraping 199 games on 11/04/24:   2%|▏         | 3 of 182 days scraped in 2.1 sec"
     ]
    },
    {
     "name": "stderr",
     "output_type": "stream",
     "text": [
      "Traceback (most recent call last):\n",
      "  File \u001b[35m\"/opt/hostedtoolcache/Python/3.13.7/x64/lib/python3.13/multiprocessing/resource_tracker.py\"\u001b[0m, line \u001b[35m295\u001b[0m, in \u001b[35mmain\u001b[0m\n",
      "    raise ValueError(\n",
      "        f'Cannot register {name} for automatic cleanup: '\n",
      "        f'unknown resource type {rtype}')\n",
      "\u001b[1;35mValueError\u001b[0m: \u001b[35mCannot register /dev/shm/joblib_memmapping_folder_2196_b3491d4793c54c2b805d4ce56703e198_dacddf82b50945b59b489ddba9365ee1 for automatic cleanup: unknown resource type folder\u001b[0m\n",
      "Traceback (most recent call last):\n",
      "  File \u001b[35m\"/opt/hostedtoolcache/Python/3.13.7/x64/lib/python3.13/multiprocessing/resource_tracker.py\"\u001b[0m, line \u001b[35m295\u001b[0m, in \u001b[35mmain\u001b[0m\n",
      "    raise ValueError(\n",
      "        f'Cannot register {name} for automatic cleanup: '\n",
      "        f'unknown resource type {rtype}')\n",
      "\u001b[1;35mValueError\u001b[0m: \u001b[35mCannot register /loky-2196-rkzojlsx for automatic cleanup: unknown resource type semlock\u001b[0m\n",
      "Traceback (most recent call last):\n",
      "  File \u001b[35m\"/opt/hostedtoolcache/Python/3.13.7/x64/lib/python3.13/multiprocessing/resource_tracker.py\"\u001b[0m, line \u001b[35m295\u001b[0m, in \u001b[35mmain\u001b[0m\n",
      "    raise ValueError(\n",
      "        f'Cannot register {name} for automatic cleanup: '\n",
      "        f'unknown resource type {rtype}')\n",
      "\u001b[1;35mValueError\u001b[0m: \u001b[35mCannot register /loky-2196-mmup1h5h for automatic cleanup: unknown resource type semlock\u001b[0m\n",
      "Traceback (most recent call last):\n",
      "  File \u001b[35m\"/opt/hostedtoolcache/Python/3.13.7/x64/lib/python3.13/multiprocessing/resource_tracker.py\"\u001b[0m, line \u001b[35m295\u001b[0m, in \u001b[35mmain\u001b[0m\n",
      "    raise ValueError(\n",
      "        f'Cannot register {name} for automatic cleanup: '\n",
      "        f'unknown resource type {rtype}')\n",
      "\u001b[1;35mValueError\u001b[0m: \u001b[35mCannot register /loky-2196-42h511du for automatic cleanup: unknown resource type semlock\u001b[0m\n",
      "Traceback (most recent call last):\n",
      "  File \u001b[35m\"/opt/hostedtoolcache/Python/3.13.7/x64/lib/python3.13/multiprocessing/resource_tracker.py\"\u001b[0m, line \u001b[35m295\u001b[0m, in \u001b[35mmain\u001b[0m\n",
      "    raise ValueError(\n",
      "        f'Cannot register {name} for automatic cleanup: '\n",
      "        f'unknown resource type {rtype}')\n",
      "\u001b[1;35mValueError\u001b[0m: \u001b[35mCannot register /loky-2196-44o69kgn for automatic cleanup: unknown resource type semlock\u001b[0m\n",
      "Traceback (most recent call last):\n",
      "  File \u001b[35m\"/opt/hostedtoolcache/Python/3.13.7/x64/lib/python3.13/multiprocessing/resource_tracker.py\"\u001b[0m, line \u001b[35m295\u001b[0m, in \u001b[35mmain\u001b[0m\n",
      "    raise ValueError(\n",
      "        f'Cannot register {name} for automatic cleanup: '\n",
      "        f'unknown resource type {rtype}')\n",
      "\u001b[1;35mValueError\u001b[0m: \u001b[35mCannot register /loky-2196-l3uvjsow for automatic cleanup: unknown resource type semlock\u001b[0m\n",
      "Traceback (most recent call last):\n",
      "  File \u001b[35m\"/opt/hostedtoolcache/Python/3.13.7/x64/lib/python3.13/multiprocessing/resource_tracker.py\"\u001b[0m, line \u001b[35m295\u001b[0m, in \u001b[35mmain\u001b[0m\n",
      "    raise ValueError(\n",
      "        f'Cannot register {name} for automatic cleanup: '\n",
      "        f'unknown resource type {rtype}')\n",
      "\u001b[1;35mValueError\u001b[0m: \u001b[35mCannot register /loky-2196-0kd61e_p for automatic cleanup: unknown resource type semlock\u001b[0m\n",
      "Traceback (most recent call last):\n",
      "  File \u001b[35m\"/opt/hostedtoolcache/Python/3.13.7/x64/lib/python3.13/multiprocessing/resource_tracker.py\"\u001b[0m, line \u001b[35m295\u001b[0m, in \u001b[35mmain\u001b[0m\n",
      "    raise ValueError(\n",
      "        f'Cannot register {name} for automatic cleanup: '\n",
      "        f'unknown resource type {rtype}')\n",
      "\u001b[1;35mValueError\u001b[0m: \u001b[35mCannot register /dev/shm/joblib_memmapping_folder_2196_b3491d4793c54c2b805d4ce56703e198_7d88dfff4a4f4ae4b08550f5a345e1fd for automatic cleanup: unknown resource type folder\u001b[0m\n",
      "Traceback (most recent call last):\n",
      "  File \u001b[35m\"/opt/hostedtoolcache/Python/3.13.7/x64/lib/python3.13/multiprocessing/resource_tracker.py\"\u001b[0m, line \u001b[35m295\u001b[0m, in \u001b[35mmain\u001b[0m\n",
      "    raise ValueError(\n",
      "        f'Cannot register {name} for automatic cleanup: '\n",
      "        f'unknown resource type {rtype}')\n",
      "\u001b[1;35mValueError\u001b[0m: \u001b[35mCannot register /loky-2196-pxvya0va for automatic cleanup: unknown resource type semlock\u001b[0m\n",
      "Traceback (most recent call last):\n",
      "  File \u001b[35m\"/opt/hostedtoolcache/Python/3.13.7/x64/lib/python3.13/multiprocessing/resource_tracker.py\"\u001b[0m, line \u001b[35m295\u001b[0m, in \u001b[35mmain\u001b[0m\n",
      "    raise ValueError(\n",
      "        f'Cannot register {name} for automatic cleanup: '\n",
      "        f'unknown resource type {rtype}')\n",
      "\u001b[1;35mValueError\u001b[0m: \u001b[35mCannot register /loky-2196-3c9p57xf for automatic cleanup: unknown resource type semlock\u001b[0m\n",
      "Traceback (most recent call last):\n",
      "  File \u001b[35m\"/opt/hostedtoolcache/Python/3.13.7/x64/lib/python3.13/multiprocessing/resource_tracker.py\"\u001b[0m, line \u001b[35m295\u001b[0m, in \u001b[35mmain\u001b[0m\n",
      "    raise ValueError(\n",
      "        f'Cannot register {name} for automatic cleanup: '\n",
      "        f'unknown resource type {rtype}')\n",
      "\u001b[1;35mValueError\u001b[0m: \u001b[35mCannot register /loky-2196-4j7_5wak for automatic cleanup: unknown resource type semlock\u001b[0m\n"
     ]
    },
    {
     "name": "stderr",
     "output_type": "stream",
     "text": [
      "\r",
      "Scraping 199 games on 11/04/24:   2%|▏         | 4 of 182 days scraped in 18.9 secTraceback (most recent call last):\n"
     ]
    },
    {
     "name": "stderr",
     "output_type": "stream",
     "text": [
      "  File \u001b[35m\"/opt/hostedtoolcache/Python/3.13.7/x64/lib/python3.13/multiprocessing/resource_tracker.py\"\u001b[0m, line \u001b[35m295\u001b[0m, in \u001b[35mmain\u001b[0m\n",
      "    raise ValueError(\n",
      "        f'Cannot register {name} for automatic cleanup: '\n",
      "        f'unknown resource type {rtype}')\n",
      "\u001b[1;35mValueError\u001b[0m: \u001b[35mCannot register /dev/shm/joblib_memmapping_folder_2196_b3491d4793c54c2b805d4ce56703e198_7d88dfff4a4f4ae4b08550f5a345e1fd for automatic cleanup: unknown resource type folder\u001b[0m\n"
     ]
    },
    {
     "name": "stderr",
     "output_type": "stream",
     "text": [
      "\r",
      "Scraping 11 games on 11/05/24:   2%|▏         | 4 of 182 days scraped in 19.2 sec "
     ]
    },
    {
     "name": "stderr",
     "output_type": "stream",
     "text": [
      "Traceback (most recent call last):\n",
      "  File \u001b[35m\"/opt/hostedtoolcache/Python/3.13.7/x64/lib/python3.13/multiprocessing/resource_tracker.py\"\u001b[0m, line \u001b[35m295\u001b[0m, in \u001b[35mmain\u001b[0m\n",
      "    raise ValueError(\n",
      "        f'Cannot register {name} for automatic cleanup: '\n",
      "        f'unknown resource type {rtype}')\n",
      "\u001b[1;35mValueError\u001b[0m: \u001b[35mCannot register /dev/shm/joblib_memmapping_folder_2196_70f9e5eaa4e642a2892f0303ccc479d5_26eed5eb6f8a46f09eeeaaf2706271e7 for automatic cleanup: unknown resource type folder\u001b[0m\n",
      "Traceback (most recent call last):\n",
      "  File \u001b[35m\"/opt/hostedtoolcache/Python/3.13.7/x64/lib/python3.13/multiprocessing/resource_tracker.py\"\u001b[0m, line \u001b[35m295\u001b[0m, in \u001b[35mmain\u001b[0m\n",
      "    raise ValueError(\n",
      "        f'Cannot register {name} for automatic cleanup: '\n",
      "        f'unknown resource type {rtype}')\n",
      "\u001b[1;35mValueError\u001b[0m: \u001b[35mCannot register /dev/shm/joblib_memmapping_folder_2196_b3491d4793c54c2b805d4ce56703e198_81bae8a49ca349ed880fa2c4c094b927 for automatic cleanup: unknown resource type folder\u001b[0m\n"
     ]
    },
    {
     "name": "stderr",
     "output_type": "stream",
     "text": [
      "\r",
      "Scraping 11 games on 11/05/24:   3%|▎         | 5 of 182 days scraped in 20.3 sec"
     ]
    },
    {
     "name": "stderr",
     "output_type": "stream",
     "text": [
      "Traceback (most recent call last):\n",
      "  File \u001b[35m\"/opt/hostedtoolcache/Python/3.13.7/x64/lib/python3.13/multiprocessing/resource_tracker.py\"\u001b[0m, line \u001b[35m295\u001b[0m, in \u001b[35mmain\u001b[0m\n",
      "    raise ValueError(\n",
      "        f'Cannot register {name} for automatic cleanup: '\n",
      "        f'unknown resource type {rtype}')\n",
      "\u001b[1;35mValueError\u001b[0m: \u001b[35mCannot register /dev/shm/joblib_memmapping_folder_2196_b3491d4793c54c2b805d4ce56703e198_81bae8a49ca349ed880fa2c4c094b927 for automatic cleanup: unknown resource type folder\u001b[0m\n"
     ]
    },
    {
     "name": "stderr",
     "output_type": "stream",
     "text": [
      "\r",
      "Scraping 37 games on 11/06/24:   3%|▎         | 5 of 182 days scraped in 20.7 sec"
     ]
    },
    {
     "name": "stderr",
     "output_type": "stream",
     "text": [
      "Traceback (most recent call last):\n",
      "  File \u001b[35m\"/opt/hostedtoolcache/Python/3.13.7/x64/lib/python3.13/multiprocessing/resource_tracker.py\"\u001b[0m, line \u001b[35m295\u001b[0m, in \u001b[35mmain\u001b[0m\n",
      "    raise ValueError(\n",
      "        f'Cannot register {name} for automatic cleanup: '\n",
      "        f'unknown resource type {rtype}')\n",
      "\u001b[1;35mValueError\u001b[0m: \u001b[35mCannot register /dev/shm/joblib_memmapping_folder_2196_4b7d7a2c0ca7443685cbd76caf11ae58_15010a9628804e44af587c830b1ffaca for automatic cleanup: unknown resource type folder\u001b[0m\n",
      "Traceback (most recent call last):\n",
      "  File \u001b[35m\"/opt/hostedtoolcache/Python/3.13.7/x64/lib/python3.13/multiprocessing/resource_tracker.py\"\u001b[0m, line \u001b[35m295\u001b[0m, in \u001b[35mmain\u001b[0m\n",
      "    raise ValueError(\n",
      "        f'Cannot register {name} for automatic cleanup: '\n",
      "        f'unknown resource type {rtype}')\n",
      "\u001b[1;35mValueError\u001b[0m: \u001b[35mCannot register /dev/shm/joblib_memmapping_folder_2196_b3491d4793c54c2b805d4ce56703e198_6a85448731ce4092af9339e9d37e4846 for automatic cleanup: unknown resource type folder\u001b[0m\n"
     ]
    },
    {
     "name": "stderr",
     "output_type": "stream",
     "text": [
      "\r",
      "Scraping 37 games on 11/06/24:   3%|▎         | 6 of 182 days scraped in 23.8 secTraceback (most recent call last):\n"
     ]
    },
    {
     "name": "stderr",
     "output_type": "stream",
     "text": [
      "  File \u001b[35m\"/opt/hostedtoolcache/Python/3.13.7/x64/lib/python3.13/multiprocessing/resource_tracker.py\"\u001b[0m, line \u001b[35m295\u001b[0m, in \u001b[35mmain\u001b[0m\n",
      "    raise ValueError(\n",
      "        f'Cannot register {name} for automatic cleanup: '\n",
      "        f'unknown resource type {rtype}')\n",
      "\u001b[1;35mValueError\u001b[0m: \u001b[35mCannot register /dev/shm/joblib_memmapping_folder_2196_b3491d4793c54c2b805d4ce56703e198_6a85448731ce4092af9339e9d37e4846 for automatic cleanup: unknown resource type folder\u001b[0m\n"
     ]
    },
    {
     "name": "stderr",
     "output_type": "stream",
     "text": [
      "\r",
      "Scraping 42 games on 11/07/24:   3%|▎         | 6 of 182 days scraped in 24.3 sec"
     ]
    },
    {
     "name": "stderr",
     "output_type": "stream",
     "text": [
      "Traceback (most recent call last):\n",
      "  File \u001b[35m\"/opt/hostedtoolcache/Python/3.13.7/x64/lib/python3.13/multiprocessing/resource_tracker.py\"\u001b[0m, line \u001b[35m295\u001b[0m, in \u001b[35mmain\u001b[0m\n",
      "    raise ValueError(\n",
      "        f'Cannot register {name} for automatic cleanup: '\n",
      "        f'unknown resource type {rtype}')\n",
      "\u001b[1;35mValueError\u001b[0m: \u001b[35mCannot register /dev/shm/joblib_memmapping_folder_2196_e6773b6179a44dc99c37bd272b977756_45fca65235aa447baa432d74a0f3fb83 for automatic cleanup: unknown resource type folder\u001b[0m\n",
      "Traceback (most recent call last):\n",
      "  File \u001b[35m\"/opt/hostedtoolcache/Python/3.13.7/x64/lib/python3.13/multiprocessing/resource_tracker.py\"\u001b[0m, line \u001b[35m295\u001b[0m, in \u001b[35mmain\u001b[0m\n",
      "    raise ValueError(\n",
      "        f'Cannot register {name} for automatic cleanup: '\n",
      "        f'unknown resource type {rtype}')\n",
      "\u001b[1;35mValueError\u001b[0m: \u001b[35mCannot register /dev/shm/joblib_memmapping_folder_2196_b3491d4793c54c2b805d4ce56703e198_57c638666dac48be8648abc9ab126d27 for automatic cleanup: unknown resource type folder\u001b[0m\n"
     ]
    },
    {
     "name": "stderr",
     "output_type": "stream",
     "text": [
      "\r",
      "Scraping 42 games on 11/07/24:   4%|▍         | 7 of 182 days scraped in 27.8 sec"
     ]
    },
    {
     "name": "stderr",
     "output_type": "stream",
     "text": [
      "Traceback (most recent call last):\n",
      "  File \u001b[35m\"/opt/hostedtoolcache/Python/3.13.7/x64/lib/python3.13/multiprocessing/resource_tracker.py\"\u001b[0m, line \u001b[35m295\u001b[0m, in \u001b[35mmain\u001b[0m\n",
      "    raise ValueError(\n",
      "        f'Cannot register {name} for automatic cleanup: '\n",
      "        f'unknown resource type {rtype}')\n",
      "\u001b[1;35mValueError\u001b[0m: \u001b[35mCannot register /dev/shm/joblib_memmapping_folder_2196_b3491d4793c54c2b805d4ce56703e198_57c638666dac48be8648abc9ab126d27 for automatic cleanup: unknown resource type folder\u001b[0m\n"
     ]
    },
    {
     "name": "stderr",
     "output_type": "stream",
     "text": [
      "\r",
      "Scraping 80 games on 11/08/24:   4%|▍         | 7 of 182 days scraped in 28.6 sec"
     ]
    },
    {
     "name": "stderr",
     "output_type": "stream",
     "text": [
      "Traceback (most recent call last):\n",
      "  File \u001b[35m\"/opt/hostedtoolcache/Python/3.13.7/x64/lib/python3.13/multiprocessing/resource_tracker.py\"\u001b[0m, line \u001b[35m295\u001b[0m, in \u001b[35mmain\u001b[0m\n",
      "    raise ValueError(\n",
      "        f'Cannot register {name} for automatic cleanup: '\n",
      "        f'unknown resource type {rtype}')\n",
      "\u001b[1;35mValueError\u001b[0m: \u001b[35mCannot register /dev/shm/joblib_memmapping_folder_2196_c63a474266ba4bf68e24c06b0100886f_2e56ac8e982942bbaa811a68ea171ee4 for automatic cleanup: unknown resource type folder\u001b[0m\n",
      "Traceback (most recent call last):\n",
      "  File \u001b[35m\"/opt/hostedtoolcache/Python/3.13.7/x64/lib/python3.13/multiprocessing/resource_tracker.py\"\u001b[0m, line \u001b[35m295\u001b[0m, in \u001b[35mmain\u001b[0m\n",
      "    raise ValueError(\n",
      "        f'Cannot register {name} for automatic cleanup: '\n",
      "        f'unknown resource type {rtype}')\n",
      "\u001b[1;35mValueError\u001b[0m: \u001b[35mCannot register /dev/shm/joblib_memmapping_folder_2196_b3491d4793c54c2b805d4ce56703e198_c5819bca2cff45a2b61cc8338c6285d2 for automatic cleanup: unknown resource type folder\u001b[0m\n"
     ]
    },
    {
     "name": "stderr",
     "output_type": "stream",
     "text": [
      "\r",
      "Scraping 80 games on 11/08/24:   4%|▍         | 8 of 182 days scraped in 35.5 sec"
     ]
    },
    {
     "name": "stderr",
     "output_type": "stream",
     "text": [
      "Traceback (most recent call last):\n",
      "  File \u001b[35m\"/opt/hostedtoolcache/Python/3.13.7/x64/lib/python3.13/multiprocessing/resource_tracker.py\"\u001b[0m, line \u001b[35m295\u001b[0m, in \u001b[35mmain\u001b[0m\n",
      "    raise ValueError(\n",
      "        f'Cannot register {name} for automatic cleanup: '\n",
      "        f'unknown resource type {rtype}')\n",
      "\u001b[1;35mValueError\u001b[0m: \u001b[35mCannot register /dev/shm/joblib_memmapping_folder_2196_b3491d4793c54c2b805d4ce56703e198_c5819bca2cff45a2b61cc8338c6285d2 for automatic cleanup: unknown resource type folder\u001b[0m\n"
     ]
    },
    {
     "name": "stderr",
     "output_type": "stream",
     "text": [
      "\r",
      "Scraping 64 games on 11/09/24:   4%|▍         | 8 of 182 days scraped in 36.3 sec"
     ]
    },
    {
     "name": "stderr",
     "output_type": "stream",
     "text": [
      "Traceback (most recent call last):\n",
      "  File \u001b[35m\"/opt/hostedtoolcache/Python/3.13.7/x64/lib/python3.13/multiprocessing/resource_tracker.py\"\u001b[0m, line \u001b[35m295\u001b[0m, in \u001b[35mmain\u001b[0m\n",
      "    raise ValueError(\n",
      "        f'Cannot register {name} for automatic cleanup: '\n",
      "        f'unknown resource type {rtype}')\n",
      "\u001b[1;35mValueError\u001b[0m: \u001b[35mCannot register /dev/shm/joblib_memmapping_folder_2196_d6643ca187604f1da83b9778b060a90b_30fa5930b3764ea895a3e7a149b72d6f for automatic cleanup: unknown resource type folder\u001b[0m\n",
      "Traceback (most recent call last):\n",
      "  File \u001b[35m\"/opt/hostedtoolcache/Python/3.13.7/x64/lib/python3.13/multiprocessing/resource_tracker.py\"\u001b[0m, line \u001b[35m295\u001b[0m, in \u001b[35mmain\u001b[0m\n",
      "    raise ValueError(\n",
      "        f'Cannot register {name} for automatic cleanup: '\n",
      "        f'unknown resource type {rtype}')\n",
      "\u001b[1;35mValueError\u001b[0m: \u001b[35mCannot register /dev/shm/joblib_memmapping_folder_2196_b3491d4793c54c2b805d4ce56703e198_760afba2d36b43b8a5d6da0f76c39118 for automatic cleanup: unknown resource type folder\u001b[0m\n"
     ]
    },
    {
     "name": "stderr",
     "output_type": "stream",
     "text": [
      "\r",
      "Scraping 64 games on 11/09/24:   5%|▍         | 9 of 182 days scraped in 41.6 sec"
     ]
    },
    {
     "name": "stderr",
     "output_type": "stream",
     "text": [
      "Traceback (most recent call last):\n",
      "  File \u001b[35m\"/opt/hostedtoolcache/Python/3.13.7/x64/lib/python3.13/multiprocessing/resource_tracker.py\"\u001b[0m, line \u001b[35m295\u001b[0m, in \u001b[35mmain\u001b[0m\n",
      "    raise ValueError(\n",
      "        f'Cannot register {name} for automatic cleanup: '\n",
      "        f'unknown resource type {rtype}')\n",
      "\u001b[1;35mValueError\u001b[0m: \u001b[35mCannot register /dev/shm/joblib_memmapping_folder_2196_b3491d4793c54c2b805d4ce56703e198_760afba2d36b43b8a5d6da0f76c39118 for automatic cleanup: unknown resource type folder\u001b[0m\n"
     ]
    },
    {
     "name": "stderr",
     "output_type": "stream",
     "text": [
      "\r",
      "Scraping 29 games on 11/10/24:   5%|▍         | 9 of 182 days scraped in 41.9 sec"
     ]
    },
    {
     "name": "stderr",
     "output_type": "stream",
     "text": [
      "Traceback (most recent call last):\n",
      "  File \u001b[35m\"/opt/hostedtoolcache/Python/3.13.7/x64/lib/python3.13/multiprocessing/resource_tracker.py\"\u001b[0m, line \u001b[35m295\u001b[0m, in \u001b[35mmain\u001b[0m\n",
      "    raise ValueError(\n",
      "        f'Cannot register {name} for automatic cleanup: '\n",
      "        f'unknown resource type {rtype}')\n",
      "\u001b[1;35mValueError\u001b[0m: \u001b[35mCannot register /dev/shm/joblib_memmapping_folder_2196_fc4bd8a602ef4d7fb4692375d2708ec0_f73b4a10056f4e02b5622da6d9729623 for automatic cleanup: unknown resource type folder\u001b[0m\n",
      "Traceback (most recent call last):\n",
      "  File \u001b[35m\"/opt/hostedtoolcache/Python/3.13.7/x64/lib/python3.13/multiprocessing/resource_tracker.py\"\u001b[0m, line \u001b[35m295\u001b[0m, in \u001b[35mmain\u001b[0m\n",
      "    raise ValueError(\n",
      "        f'Cannot register {name} for automatic cleanup: '\n",
      "        f'unknown resource type {rtype}')\n",
      "\u001b[1;35mValueError\u001b[0m: \u001b[35mCannot register /dev/shm/joblib_memmapping_folder_2196_b3491d4793c54c2b805d4ce56703e198_7a27626ea3be466a85af8b2e67392527 for automatic cleanup: unknown resource type folder\u001b[0m\n"
     ]
    },
    {
     "name": "stderr",
     "output_type": "stream",
     "text": [
      "\r",
      "Scraping 29 games on 11/10/24:   5%|▌         | 10 of 182 days scraped in 44.5 sec"
     ]
    },
    {
     "name": "stderr",
     "output_type": "stream",
     "text": [
      "Traceback (most recent call last):\n",
      "  File \u001b[35m\"/opt/hostedtoolcache/Python/3.13.7/x64/lib/python3.13/multiprocessing/resource_tracker.py\"\u001b[0m, line \u001b[35m295\u001b[0m, in \u001b[35mmain\u001b[0m\n",
      "    raise ValueError(\n",
      "        f'Cannot register {name} for automatic cleanup: '\n",
      "        f'unknown resource type {rtype}')\n",
      "\u001b[1;35mValueError\u001b[0m: \u001b[35mCannot register /dev/shm/joblib_memmapping_folder_2196_b3491d4793c54c2b805d4ce56703e198_7a27626ea3be466a85af8b2e67392527 for automatic cleanup: unknown resource type folder\u001b[0m\n"
     ]
    },
    {
     "name": "stderr",
     "output_type": "stream",
     "text": [
      "\r",
      "Scraping 42 games on 11/11/24:   5%|▌         | 10 of 182 days scraped in 45.1 sec"
     ]
    },
    {
     "name": "stderr",
     "output_type": "stream",
     "text": [
      "Traceback (most recent call last):\n",
      "  File \u001b[35m\"/opt/hostedtoolcache/Python/3.13.7/x64/lib/python3.13/multiprocessing/resource_tracker.py\"\u001b[0m, line \u001b[35m295\u001b[0m, in \u001b[35mmain\u001b[0m\n",
      "    raise ValueError(\n",
      "        f'Cannot register {name} for automatic cleanup: '\n",
      "        f'unknown resource type {rtype}')\n",
      "\u001b[1;35mValueError\u001b[0m: \u001b[35mCannot register /dev/shm/joblib_memmapping_folder_2196_db6f3aed006c497fbcca02b12465235d_f74d58793c874f78b041f1c3f13c49bf for automatic cleanup: unknown resource type folder\u001b[0m\n",
      "Traceback (most recent call last):\n",
      "  File \u001b[35m\"/opt/hostedtoolcache/Python/3.13.7/x64/lib/python3.13/multiprocessing/resource_tracker.py\"\u001b[0m, line \u001b[35m295\u001b[0m, in \u001b[35mmain\u001b[0m\n",
      "    raise ValueError(\n",
      "        f'Cannot register {name} for automatic cleanup: '\n",
      "        f'unknown resource type {rtype}')\n",
      "\u001b[1;35mValueError\u001b[0m: \u001b[35mCannot register /dev/shm/joblib_memmapping_folder_2196_b3491d4793c54c2b805d4ce56703e198_139b472a786d4aa3af2799d37665771a for automatic cleanup: unknown resource type folder\u001b[0m\n"
     ]
    },
    {
     "name": "stderr",
     "output_type": "stream",
     "text": [
      "\r",
      "Scraping 42 games on 11/11/24:   6%|▌         | 11 of 182 days scraped in 48.7 sec"
     ]
    },
    {
     "name": "stderr",
     "output_type": "stream",
     "text": [
      "Traceback (most recent call last):\n",
      "  File \u001b[35m\"/opt/hostedtoolcache/Python/3.13.7/x64/lib/python3.13/multiprocessing/resource_tracker.py\"\u001b[0m, line \u001b[35m295\u001b[0m, in \u001b[35mmain\u001b[0m\n",
      "    raise ValueError(\n",
      "        f'Cannot register {name} for automatic cleanup: '\n",
      "        f'unknown resource type {rtype}')\n",
      "\u001b[1;35mValueError\u001b[0m: \u001b[35mCannot register /dev/shm/joblib_memmapping_folder_2196_b3491d4793c54c2b805d4ce56703e198_139b472a786d4aa3af2799d37665771a for automatic cleanup: unknown resource type folder\u001b[0m\n"
     ]
    },
    {
     "name": "stderr",
     "output_type": "stream",
     "text": [
      "\r",
      "Scraping 79 games on 11/12/24:   6%|▌         | 11 of 182 days scraped in 49.4 sec"
     ]
    },
    {
     "name": "stderr",
     "output_type": "stream",
     "text": [
      "Traceback (most recent call last):\n",
      "  File \u001b[35m\"/opt/hostedtoolcache/Python/3.13.7/x64/lib/python3.13/multiprocessing/resource_tracker.py\"\u001b[0m, line \u001b[35m295\u001b[0m, in \u001b[35mmain\u001b[0m\n",
      "    raise ValueError(\n",
      "        f'Cannot register {name} for automatic cleanup: '\n",
      "        f'unknown resource type {rtype}')\n",
      "\u001b[1;35mValueError\u001b[0m: \u001b[35mCannot register /dev/shm/joblib_memmapping_folder_2196_9691ac6e71834818a8689e302cde452c_099ce87bc0a541b080381594a68b717d for automatic cleanup: unknown resource type folder\u001b[0m\n",
      "Traceback (most recent call last):\n",
      "  File \u001b[35m\"/opt/hostedtoolcache/Python/3.13.7/x64/lib/python3.13/multiprocessing/resource_tracker.py\"\u001b[0m, line \u001b[35m295\u001b[0m, in \u001b[35mmain\u001b[0m\n",
      "    raise ValueError(\n",
      "        f'Cannot register {name} for automatic cleanup: '\n",
      "        f'unknown resource type {rtype}')\n",
      "\u001b[1;35mValueError\u001b[0m: \u001b[35mCannot register /dev/shm/joblib_memmapping_folder_2196_b3491d4793c54c2b805d4ce56703e198_25df290c06044f8da9334040e576fe98 for automatic cleanup: unknown resource type folder\u001b[0m\n"
     ]
    },
    {
     "name": "stderr",
     "output_type": "stream",
     "text": [
      "\r",
      "Scraping 79 games on 11/12/24:   7%|▋         | 12 of 182 days scraped in 56.2 sec"
     ]
    },
    {
     "name": "stderr",
     "output_type": "stream",
     "text": [
      "Traceback (most recent call last):\n",
      "  File \u001b[35m\"/opt/hostedtoolcache/Python/3.13.7/x64/lib/python3.13/multiprocessing/resource_tracker.py\"\u001b[0m, line \u001b[35m295\u001b[0m, in \u001b[35mmain\u001b[0m\n",
      "    raise ValueError(\n",
      "        f'Cannot register {name} for automatic cleanup: '\n",
      "        f'unknown resource type {rtype}')\n",
      "\u001b[1;35mValueError\u001b[0m: \u001b[35mCannot register /dev/shm/joblib_memmapping_folder_2196_b3491d4793c54c2b805d4ce56703e198_25df290c06044f8da9334040e576fe98 for automatic cleanup: unknown resource type folder\u001b[0m\n"
     ]
    },
    {
     "name": "stderr",
     "output_type": "stream",
     "text": [
      "\r",
      "Scraping 55 games on 11/13/24:   7%|▋         | 12 of 182 days scraped in 56.9 sec"
     ]
    },
    {
     "name": "stderr",
     "output_type": "stream",
     "text": [
      "Traceback (most recent call last):\n",
      "  File \u001b[35m\"/opt/hostedtoolcache/Python/3.13.7/x64/lib/python3.13/multiprocessing/resource_tracker.py\"\u001b[0m, line \u001b[35m295\u001b[0m, in \u001b[35mmain\u001b[0m\n",
      "    raise ValueError(\n",
      "        f'Cannot register {name} for automatic cleanup: '\n",
      "        f'unknown resource type {rtype}')\n",
      "\u001b[1;35mValueError\u001b[0m: \u001b[35mCannot register /dev/shm/joblib_memmapping_folder_2196_d5cade89e2754139ab48f0dd600fca62_1cb6d2a3bf6c4af9bff85a822cf99c6e for automatic cleanup: unknown resource type folder\u001b[0m\n",
      "Traceback (most recent call last):\n",
      "  File \u001b[35m\"/opt/hostedtoolcache/Python/3.13.7/x64/lib/python3.13/multiprocessing/resource_tracker.py\"\u001b[0m, line \u001b[35m295\u001b[0m, in \u001b[35mmain\u001b[0m\n",
      "    raise ValueError(\n",
      "        f'Cannot register {name} for automatic cleanup: '\n",
      "        f'unknown resource type {rtype}')\n",
      "\u001b[1;35mValueError\u001b[0m: \u001b[35mCannot register /dev/shm/joblib_memmapping_folder_2196_b3491d4793c54c2b805d4ce56703e198_398f16a034c545a8897cf6e9f8bb6bbd for automatic cleanup: unknown resource type folder\u001b[0m\n"
     ]
    },
    {
     "name": "stderr",
     "output_type": "stream",
     "text": [
      "\r",
      "Scraping 55 games on 11/13/24:   7%|▋         | 13 of 182 days scraped in 61.6 sec"
     ]
    },
    {
     "name": "stderr",
     "output_type": "stream",
     "text": [
      "Traceback (most recent call last):\n",
      "  File \u001b[35m\"/opt/hostedtoolcache/Python/3.13.7/x64/lib/python3.13/multiprocessing/resource_tracker.py\"\u001b[0m, line \u001b[35m295\u001b[0m, in \u001b[35mmain\u001b[0m\n",
      "    raise ValueError(\n",
      "        f'Cannot register {name} for automatic cleanup: '\n",
      "        f'unknown resource type {rtype}')\n",
      "\u001b[1;35mValueError\u001b[0m: \u001b[35mCannot register /dev/shm/joblib_memmapping_folder_2196_b3491d4793c54c2b805d4ce56703e198_398f16a034c545a8897cf6e9f8bb6bbd for automatic cleanup: unknown resource type folder\u001b[0m\n"
     ]
    },
    {
     "name": "stderr",
     "output_type": "stream",
     "text": [
      "\r",
      "Scraping 26 games on 11/14/24:   7%|▋         | 13 of 182 days scraped in 62.0 sec"
     ]
    },
    {
     "name": "stderr",
     "output_type": "stream",
     "text": [
      "Traceback (most recent call last):\n",
      "  File \u001b[35m\"/opt/hostedtoolcache/Python/3.13.7/x64/lib/python3.13/multiprocessing/resource_tracker.py\"\u001b[0m, line \u001b[35m295\u001b[0m, in \u001b[35mmain\u001b[0m\n",
      "    raise ValueError(\n",
      "        f'Cannot register {name} for automatic cleanup: '\n",
      "        f'unknown resource type {rtype}')\n",
      "\u001b[1;35mValueError\u001b[0m: \u001b[35mCannot register /dev/shm/joblib_memmapping_folder_2196_f58f8e96e10f41648e77edc1dea3b974_56f4072675df46d586a28c02f27689f2 for automatic cleanup: unknown resource type folder\u001b[0m\n",
      "Traceback (most recent call last):\n",
      "  File \u001b[35m\"/opt/hostedtoolcache/Python/3.13.7/x64/lib/python3.13/multiprocessing/resource_tracker.py\"\u001b[0m, line \u001b[35m295\u001b[0m, in \u001b[35mmain\u001b[0m\n",
      "    raise ValueError(\n",
      "        f'Cannot register {name} for automatic cleanup: '\n",
      "        f'unknown resource type {rtype}')\n",
      "\u001b[1;35mValueError\u001b[0m: \u001b[35mCannot register /dev/shm/joblib_memmapping_folder_2196_b3491d4793c54c2b805d4ce56703e198_1be23f3e457c4a34b0286849e0528bae for automatic cleanup: unknown resource type folder\u001b[0m\n"
     ]
    },
    {
     "name": "stderr",
     "output_type": "stream",
     "text": [
      "\r",
      "Scraping 26 games on 11/14/24:   8%|▊         | 14 of 182 days scraped in 64.2 sec"
     ]
    },
    {
     "name": "stderr",
     "output_type": "stream",
     "text": [
      "Traceback (most recent call last):\n",
      "  File \u001b[35m\"/opt/hostedtoolcache/Python/3.13.7/x64/lib/python3.13/multiprocessing/resource_tracker.py\"\u001b[0m, line \u001b[35m295\u001b[0m, in \u001b[35mmain\u001b[0m\n",
      "    raise ValueError(\n",
      "        f'Cannot register {name} for automatic cleanup: '\n",
      "        f'unknown resource type {rtype}')\n",
      "\u001b[1;35mValueError\u001b[0m: \u001b[35mCannot register /dev/shm/joblib_memmapping_folder_2196_b3491d4793c54c2b805d4ce56703e198_1be23f3e457c4a34b0286849e0528bae for automatic cleanup: unknown resource type folder\u001b[0m\n"
     ]
    },
    {
     "name": "stderr",
     "output_type": "stream",
     "text": [
      "\r",
      "Scraping 50 games on 11/15/24:   8%|▊         | 14 of 182 days scraped in 64.8 sec"
     ]
    },
    {
     "name": "stderr",
     "output_type": "stream",
     "text": [
      "Traceback (most recent call last):\n",
      "  File \u001b[35m\"/opt/hostedtoolcache/Python/3.13.7/x64/lib/python3.13/multiprocessing/resource_tracker.py\"\u001b[0m, line \u001b[35m295\u001b[0m, in \u001b[35mmain\u001b[0m\n",
      "    raise ValueError(\n",
      "        f'Cannot register {name} for automatic cleanup: '\n",
      "        f'unknown resource type {rtype}')\n",
      "\u001b[1;35mValueError\u001b[0m: \u001b[35mCannot register /dev/shm/joblib_memmapping_folder_2196_54b35cab14574953a936f8958f3b2f33_397c1799ad834a51bcd4c8a929629a19 for automatic cleanup: unknown resource type folder\u001b[0m\n",
      "Traceback (most recent call last):\n",
      "  File \u001b[35m\"/opt/hostedtoolcache/Python/3.13.7/x64/lib/python3.13/multiprocessing/resource_tracker.py\"\u001b[0m, line \u001b[35m295\u001b[0m, in \u001b[35mmain\u001b[0m\n",
      "    raise ValueError(\n",
      "        f'Cannot register {name} for automatic cleanup: '\n",
      "        f'unknown resource type {rtype}')\n",
      "\u001b[1;35mValueError\u001b[0m: \u001b[35mCannot register /dev/shm/joblib_memmapping_folder_2196_b3491d4793c54c2b805d4ce56703e198_ef1b969acafc4183a3fd98f2a041d7af for automatic cleanup: unknown resource type folder\u001b[0m\n"
     ]
    },
    {
     "name": "stderr",
     "output_type": "stream",
     "text": [
      "\r",
      "Scraping 50 games on 11/15/24:   8%|▊         | 15 of 182 days scraped in 69.4 sec"
     ]
    },
    {
     "name": "stderr",
     "output_type": "stream",
     "text": [
      "Traceback (most recent call last):\n",
      "  File \u001b[35m\"/opt/hostedtoolcache/Python/3.13.7/x64/lib/python3.13/multiprocessing/resource_tracker.py\"\u001b[0m, line \u001b[35m295\u001b[0m, in \u001b[35mmain\u001b[0m\n",
      "    raise ValueError(\n",
      "        f'Cannot register {name} for automatic cleanup: '\n",
      "        f'unknown resource type {rtype}')\n",
      "\u001b[1;35mValueError\u001b[0m: \u001b[35mCannot register /dev/shm/joblib_memmapping_folder_2196_b3491d4793c54c2b805d4ce56703e198_ef1b969acafc4183a3fd98f2a041d7af for automatic cleanup: unknown resource type folder\u001b[0m\n"
     ]
    },
    {
     "name": "stderr",
     "output_type": "stream",
     "text": [
      "\r",
      "Scraping 82 games on 11/16/24:   8%|▊         | 15 of 182 days scraped in 70.1 sec"
     ]
    },
    {
     "name": "stderr",
     "output_type": "stream",
     "text": [
      "Traceback (most recent call last):\n",
      "  File \u001b[35m\"/opt/hostedtoolcache/Python/3.13.7/x64/lib/python3.13/multiprocessing/resource_tracker.py\"\u001b[0m, line \u001b[35m295\u001b[0m, in \u001b[35mmain\u001b[0m\n",
      "    raise ValueError(\n",
      "        f'Cannot register {name} for automatic cleanup: '\n",
      "        f'unknown resource type {rtype}')\n",
      "\u001b[1;35mValueError\u001b[0m: \u001b[35mCannot register /dev/shm/joblib_memmapping_folder_2196_2fb3dcd830c740db88663a5e9d9bec14_3270579fc8db4ed5bfa7c6c97bee0c97 for automatic cleanup: unknown resource type folder\u001b[0m\n",
      "Traceback (most recent call last):\n",
      "  File \u001b[35m\"/opt/hostedtoolcache/Python/3.13.7/x64/lib/python3.13/multiprocessing/resource_tracker.py\"\u001b[0m, line \u001b[35m295\u001b[0m, in \u001b[35mmain\u001b[0m\n",
      "    raise ValueError(\n",
      "        f'Cannot register {name} for automatic cleanup: '\n",
      "        f'unknown resource type {rtype}')\n",
      "\u001b[1;35mValueError\u001b[0m: \u001b[35mCannot register /dev/shm/joblib_memmapping_folder_2196_b3491d4793c54c2b805d4ce56703e198_257c499ee07849028ae58d6388669696 for automatic cleanup: unknown resource type folder\u001b[0m\n"
     ]
    },
    {
     "name": "stderr",
     "output_type": "stream",
     "text": [
      "\r",
      "Scraping 82 games on 11/16/24:   9%|▉         | 16 of 182 days scraped in 77.1 sec"
     ]
    },
    {
     "name": "stderr",
     "output_type": "stream",
     "text": [
      "Traceback (most recent call last):\n",
      "  File \u001b[35m\"/opt/hostedtoolcache/Python/3.13.7/x64/lib/python3.13/multiprocessing/resource_tracker.py\"\u001b[0m, line \u001b[35m295\u001b[0m, in \u001b[35mmain\u001b[0m\n",
      "    raise ValueError(\n",
      "        f'Cannot register {name} for automatic cleanup: '\n",
      "        f'unknown resource type {rtype}')\n",
      "\u001b[1;35mValueError\u001b[0m: \u001b[35mCannot register /dev/shm/joblib_memmapping_folder_2196_b3491d4793c54c2b805d4ce56703e198_257c499ee07849028ae58d6388669696 for automatic cleanup: unknown resource type folder\u001b[0m\n"
     ]
    },
    {
     "name": "stderr",
     "output_type": "stream",
     "text": [
      "\r",
      "Scraping 36 games on 11/17/24:   9%|▉         | 16 of 182 days scraped in 77.5 sec"
     ]
    },
    {
     "name": "stderr",
     "output_type": "stream",
     "text": [
      "Traceback (most recent call last):\n",
      "  File \u001b[35m\"/opt/hostedtoolcache/Python/3.13.7/x64/lib/python3.13/multiprocessing/resource_tracker.py\"\u001b[0m, line \u001b[35m295\u001b[0m, in \u001b[35mmain\u001b[0m\n",
      "    raise ValueError(\n",
      "        f'Cannot register {name} for automatic cleanup: '\n",
      "        f'unknown resource type {rtype}')\n",
      "\u001b[1;35mValueError\u001b[0m: \u001b[35mCannot register /dev/shm/joblib_memmapping_folder_2196_03b357fa7946450ba3b59a115269648f_22a1deeb32f04a1096cd3dc8fed660a4 for automatic cleanup: unknown resource type folder\u001b[0m\n",
      "Traceback (most recent call last):\n",
      "  File \u001b[35m\"/opt/hostedtoolcache/Python/3.13.7/x64/lib/python3.13/multiprocessing/resource_tracker.py\"\u001b[0m, line \u001b[35m295\u001b[0m, in \u001b[35mmain\u001b[0m\n",
      "    raise ValueError(\n",
      "        f'Cannot register {name} for automatic cleanup: '\n",
      "        f'unknown resource type {rtype}')\n",
      "\u001b[1;35mValueError\u001b[0m: \u001b[35mCannot register /dev/shm/joblib_memmapping_folder_2196_b3491d4793c54c2b805d4ce56703e198_4c1511aa42a54f6eb80ec3add9dc4a4c for automatic cleanup: unknown resource type folder\u001b[0m\n"
     ]
    },
    {
     "name": "stderr",
     "output_type": "stream",
     "text": [
      "\r",
      "Scraping 36 games on 11/17/24:   9%|▉         | 17 of 182 days scraped in 80.6 sec"
     ]
    },
    {
     "name": "stderr",
     "output_type": "stream",
     "text": [
      "Traceback (most recent call last):\n",
      "  File \u001b[35m\"/opt/hostedtoolcache/Python/3.13.7/x64/lib/python3.13/multiprocessing/resource_tracker.py\"\u001b[0m, line \u001b[35m295\u001b[0m, in \u001b[35mmain\u001b[0m\n",
      "    raise ValueError(\n",
      "        f'Cannot register {name} for automatic cleanup: '\n",
      "        f'unknown resource type {rtype}')\n",
      "\u001b[1;35mValueError\u001b[0m: \u001b[35mCannot register /dev/shm/joblib_memmapping_folder_2196_b3491d4793c54c2b805d4ce56703e198_4c1511aa42a54f6eb80ec3add9dc4a4c for automatic cleanup: unknown resource type folder\u001b[0m\n"
     ]
    },
    {
     "name": "stderr",
     "output_type": "stream",
     "text": [
      "\r",
      "Scraping 31 games on 11/18/24:   9%|▉         | 17 of 182 days scraped in 81.1 sec"
     ]
    },
    {
     "name": "stderr",
     "output_type": "stream",
     "text": [
      "Traceback (most recent call last):\n",
      "  File \u001b[35m\"/opt/hostedtoolcache/Python/3.13.7/x64/lib/python3.13/multiprocessing/resource_tracker.py\"\u001b[0m, line \u001b[35m295\u001b[0m, in \u001b[35mmain\u001b[0m\n",
      "    raise ValueError(\n",
      "        f'Cannot register {name} for automatic cleanup: '\n",
      "        f'unknown resource type {rtype}')\n",
      "\u001b[1;35mValueError\u001b[0m: \u001b[35mCannot register /dev/shm/joblib_memmapping_folder_2196_6bab38b0266948389430e3d318893bd0_cc349caac39040c78d7e0a41536ef68a for automatic cleanup: unknown resource type folder\u001b[0m\n",
      "Traceback (most recent call last):\n",
      "  File \u001b[35m\"/opt/hostedtoolcache/Python/3.13.7/x64/lib/python3.13/multiprocessing/resource_tracker.py\"\u001b[0m, line \u001b[35m295\u001b[0m, in \u001b[35mmain\u001b[0m\n",
      "    raise ValueError(\n",
      "        f'Cannot register {name} for automatic cleanup: '\n",
      "        f'unknown resource type {rtype}')\n",
      "\u001b[1;35mValueError\u001b[0m: \u001b[35mCannot register /dev/shm/joblib_memmapping_folder_2196_b3491d4793c54c2b805d4ce56703e198_5b65241d676a44259f093e3aa7aa8a4f for automatic cleanup: unknown resource type folder\u001b[0m\n"
     ]
    },
    {
     "name": "stderr",
     "output_type": "stream",
     "text": [
      "\r",
      "Scraping 31 games on 11/18/24:  10%|▉         | 18 of 182 days scraped in 83.9 sec"
     ]
    },
    {
     "name": "stderr",
     "output_type": "stream",
     "text": [
      "Traceback (most recent call last):\n",
      "  File \u001b[35m\"/opt/hostedtoolcache/Python/3.13.7/x64/lib/python3.13/multiprocessing/resource_tracker.py\"\u001b[0m, line \u001b[35m295\u001b[0m, in \u001b[35mmain\u001b[0m\n",
      "    raise ValueError(\n",
      "        f'Cannot register {name} for automatic cleanup: '\n",
      "        f'unknown resource type {rtype}')\n",
      "\u001b[1;35mValueError\u001b[0m: \u001b[35mCannot register /dev/shm/joblib_memmapping_folder_2196_b3491d4793c54c2b805d4ce56703e198_5b65241d676a44259f093e3aa7aa8a4f for automatic cleanup: unknown resource type folder\u001b[0m\n"
     ]
    },
    {
     "name": "stderr",
     "output_type": "stream",
     "text": [
      "\r",
      "Scraping 54 games on 11/19/24:  10%|▉         | 18 of 182 days scraped in 84.6 sec"
     ]
    },
    {
     "name": "stderr",
     "output_type": "stream",
     "text": [
      "Traceback (most recent call last):\n",
      "  File \u001b[35m\"/opt/hostedtoolcache/Python/3.13.7/x64/lib/python3.13/multiprocessing/resource_tracker.py\"\u001b[0m, line \u001b[35m295\u001b[0m, in \u001b[35mmain\u001b[0m\n",
      "    raise ValueError(\n",
      "        f'Cannot register {name} for automatic cleanup: '\n",
      "        f'unknown resource type {rtype}')\n",
      "\u001b[1;35mValueError\u001b[0m: \u001b[35mCannot register /dev/shm/joblib_memmapping_folder_2196_6a96fbdbbefa4da680b9a748deb34933_4923ea0dca3341b0882ba1cd4c8a45e7 for automatic cleanup: unknown resource type folder\u001b[0m\n",
      "Traceback (most recent call last):\n",
      "  File \u001b[35m\"/opt/hostedtoolcache/Python/3.13.7/x64/lib/python3.13/multiprocessing/resource_tracker.py\"\u001b[0m, line \u001b[35m295\u001b[0m, in \u001b[35mmain\u001b[0m\n",
      "    raise ValueError(\n",
      "        f'Cannot register {name} for automatic cleanup: '\n",
      "        f'unknown resource type {rtype}')\n",
      "\u001b[1;35mValueError\u001b[0m: \u001b[35mCannot register /dev/shm/joblib_memmapping_folder_2196_b3491d4793c54c2b805d4ce56703e198_2056ef5ac6a24f01aec6f6ed5f26f092 for automatic cleanup: unknown resource type folder\u001b[0m\n"
     ]
    },
    {
     "name": "stderr",
     "output_type": "stream",
     "text": [
      "\r",
      "Scraping 54 games on 11/19/24:  10%|█         | 19 of 182 days scraped in 89.4 sec"
     ]
    },
    {
     "name": "stderr",
     "output_type": "stream",
     "text": [
      "Traceback (most recent call last):\n",
      "  File \u001b[35m\"/opt/hostedtoolcache/Python/3.13.7/x64/lib/python3.13/multiprocessing/resource_tracker.py\"\u001b[0m, line \u001b[35m295\u001b[0m, in \u001b[35mmain\u001b[0m\n",
      "    raise ValueError(\n",
      "        f'Cannot register {name} for automatic cleanup: '\n",
      "        f'unknown resource type {rtype}')\n",
      "\u001b[1;35mValueError\u001b[0m: \u001b[35mCannot register /dev/shm/joblib_memmapping_folder_2196_b3491d4793c54c2b805d4ce56703e198_2056ef5ac6a24f01aec6f6ed5f26f092 for automatic cleanup: unknown resource type folder\u001b[0m\n"
     ]
    },
    {
     "name": "stderr",
     "output_type": "stream",
     "text": [
      "\r",
      "Scraping 47 games on 11/20/24:  10%|█         | 19 of 182 days scraped in 89.9 sec"
     ]
    },
    {
     "name": "stderr",
     "output_type": "stream",
     "text": [
      "Traceback (most recent call last):\n",
      "  File \u001b[35m\"/opt/hostedtoolcache/Python/3.13.7/x64/lib/python3.13/multiprocessing/resource_tracker.py\"\u001b[0m, line \u001b[35m295\u001b[0m, in \u001b[35mmain\u001b[0m\n",
      "    raise ValueError(\n",
      "        f'Cannot register {name} for automatic cleanup: '\n",
      "        f'unknown resource type {rtype}')\n",
      "\u001b[1;35mValueError\u001b[0m: \u001b[35mCannot register /dev/shm/joblib_memmapping_folder_2196_65dfa3d11de6469a88600290400014ff_808d96ce2c7a42139c7de4674ee1fd20 for automatic cleanup: unknown resource type folder\u001b[0m\n",
      "Traceback (most recent call last):\n",
      "  File \u001b[35m\"/opt/hostedtoolcache/Python/3.13.7/x64/lib/python3.13/multiprocessing/resource_tracker.py\"\u001b[0m, line \u001b[35m295\u001b[0m, in \u001b[35mmain\u001b[0m\n",
      "    raise ValueError(\n",
      "        f'Cannot register {name} for automatic cleanup: '\n",
      "        f'unknown resource type {rtype}')\n",
      "\u001b[1;35mValueError\u001b[0m: \u001b[35mCannot register /dev/shm/joblib_memmapping_folder_2196_b3491d4793c54c2b805d4ce56703e198_b5e4cc04a18446dab5d9cabe0fc7a318 for automatic cleanup: unknown resource type folder\u001b[0m\n"
     ]
    },
    {
     "name": "stderr",
     "output_type": "stream",
     "text": [
      "\r",
      "Scraping 47 games on 11/20/24:  11%|█         | 20 of 182 days scraped in 94.1 sec"
     ]
    },
    {
     "name": "stderr",
     "output_type": "stream",
     "text": [
      "Traceback (most recent call last):\n",
      "  File \u001b[35m\"/opt/hostedtoolcache/Python/3.13.7/x64/lib/python3.13/multiprocessing/resource_tracker.py\"\u001b[0m, line \u001b[35m295\u001b[0m, in \u001b[35mmain\u001b[0m\n",
      "    raise ValueError(\n",
      "        f'Cannot register {name} for automatic cleanup: '\n",
      "        f'unknown resource type {rtype}')\n",
      "\u001b[1;35mValueError\u001b[0m: \u001b[35mCannot register /dev/shm/joblib_memmapping_folder_2196_b3491d4793c54c2b805d4ce56703e198_b5e4cc04a18446dab5d9cabe0fc7a318 for automatic cleanup: unknown resource type folder\u001b[0m\n"
     ]
    },
    {
     "name": "stderr",
     "output_type": "stream",
     "text": [
      "\r",
      "Scraping 44 games on 11/21/24:  11%|█         | 20 of 182 days scraped in 94.6 sec"
     ]
    },
    {
     "name": "stderr",
     "output_type": "stream",
     "text": [
      "Traceback (most recent call last):\n",
      "  File \u001b[35m\"/opt/hostedtoolcache/Python/3.13.7/x64/lib/python3.13/multiprocessing/resource_tracker.py\"\u001b[0m, line \u001b[35m295\u001b[0m, in \u001b[35mmain\u001b[0m\n",
      "    raise ValueError(\n",
      "        f'Cannot register {name} for automatic cleanup: '\n",
      "        f'unknown resource type {rtype}')\n",
      "\u001b[1;35mValueError\u001b[0m: \u001b[35mCannot register /dev/shm/joblib_memmapping_folder_2196_7905120b6e4340f69279837c582faa71_bf302f38e8ea4216a4d7014c0443d0e3 for automatic cleanup: unknown resource type folder\u001b[0m\n",
      "Traceback (most recent call last):\n",
      "  File \u001b[35m\"/opt/hostedtoolcache/Python/3.13.7/x64/lib/python3.13/multiprocessing/resource_tracker.py\"\u001b[0m, line \u001b[35m295\u001b[0m, in \u001b[35mmain\u001b[0m\n",
      "    raise ValueError(\n",
      "        f'Cannot register {name} for automatic cleanup: '\n",
      "        f'unknown resource type {rtype}')\n",
      "\u001b[1;35mValueError\u001b[0m: \u001b[35mCannot register /dev/shm/joblib_memmapping_folder_2196_b3491d4793c54c2b805d4ce56703e198_cfd5ff409ea1456db29cc1f01dab03f1 for automatic cleanup: unknown resource type folder\u001b[0m\n"
     ]
    },
    {
     "name": "stderr",
     "output_type": "stream",
     "text": [
      "\r",
      "Scraping 44 games on 11/21/24:  12%|█▏        | 21 of 182 days scraped in 98.4 sec"
     ]
    },
    {
     "name": "stderr",
     "output_type": "stream",
     "text": [
      "Traceback (most recent call last):\n",
      "  File \u001b[35m\"/opt/hostedtoolcache/Python/3.13.7/x64/lib/python3.13/multiprocessing/resource_tracker.py\"\u001b[0m, line \u001b[35m295\u001b[0m, in \u001b[35mmain\u001b[0m\n",
      "    raise ValueError(\n",
      "        f'Cannot register {name} for automatic cleanup: '\n",
      "        f'unknown resource type {rtype}')\n",
      "\u001b[1;35mValueError\u001b[0m: \u001b[35mCannot register /dev/shm/joblib_memmapping_folder_2196_b3491d4793c54c2b805d4ce56703e198_cfd5ff409ea1456db29cc1f01dab03f1 for automatic cleanup: unknown resource type folder\u001b[0m\n"
     ]
    },
    {
     "name": "stderr",
     "output_type": "stream",
     "text": [
      "\r",
      "Scraping 82 games on 11/22/24:  12%|█▏        | 21 of 182 days scraped in 99.2 sec"
     ]
    },
    {
     "name": "stderr",
     "output_type": "stream",
     "text": [
      "Traceback (most recent call last):\n",
      "  File \u001b[35m\"/opt/hostedtoolcache/Python/3.13.7/x64/lib/python3.13/multiprocessing/resource_tracker.py\"\u001b[0m, line \u001b[35m295\u001b[0m, in \u001b[35mmain\u001b[0m\n",
      "    raise ValueError(\n",
      "        f'Cannot register {name} for automatic cleanup: '\n",
      "        f'unknown resource type {rtype}')\n",
      "\u001b[1;35mValueError\u001b[0m: \u001b[35mCannot register /dev/shm/joblib_memmapping_folder_2196_906ac322e39b42c691915f80eb06e9e2_97b46cb8c3bb4bee8fc3e107bda35058 for automatic cleanup: unknown resource type folder\u001b[0m\n",
      "Traceback (most recent call last):\n",
      "  File \u001b[35m\"/opt/hostedtoolcache/Python/3.13.7/x64/lib/python3.13/multiprocessing/resource_tracker.py\"\u001b[0m, line \u001b[35m295\u001b[0m, in \u001b[35mmain\u001b[0m\n",
      "    raise ValueError(\n",
      "        f'Cannot register {name} for automatic cleanup: '\n",
      "        f'unknown resource type {rtype}')\n",
      "\u001b[1;35mValueError\u001b[0m: \u001b[35mCannot register /dev/shm/joblib_memmapping_folder_2196_b3491d4793c54c2b805d4ce56703e198_99bdaa263212499da0d187a946c6da8d for automatic cleanup: unknown resource type folder\u001b[0m\n"
     ]
    },
    {
     "name": "stderr",
     "output_type": "stream",
     "text": [
      "\r",
      "Scraping 82 games on 11/22/24:  12%|█▏        | 22 of 182 days scraped in 106.3 sec"
     ]
    },
    {
     "name": "stderr",
     "output_type": "stream",
     "text": [
      "Traceback (most recent call last):\n",
      "  File \u001b[35m\"/opt/hostedtoolcache/Python/3.13.7/x64/lib/python3.13/multiprocessing/resource_tracker.py\"\u001b[0m, line \u001b[35m295\u001b[0m, in \u001b[35mmain\u001b[0m\n",
      "    raise ValueError(\n",
      "        f'Cannot register {name} for automatic cleanup: '\n",
      "        f'unknown resource type {rtype}')\n",
      "\u001b[1;35mValueError\u001b[0m: \u001b[35mCannot register /dev/shm/joblib_memmapping_folder_2196_b3491d4793c54c2b805d4ce56703e198_99bdaa263212499da0d187a946c6da8d for automatic cleanup: unknown resource type folder\u001b[0m\n"
     ]
    },
    {
     "name": "stderr",
     "output_type": "stream",
     "text": [
      "\r",
      "Scraping 56 games on 11/23/24:  12%|█▏        | 22 of 182 days scraped in 106.8 sec"
     ]
    },
    {
     "name": "stderr",
     "output_type": "stream",
     "text": [
      "Traceback (most recent call last):\n",
      "  File \u001b[35m\"/opt/hostedtoolcache/Python/3.13.7/x64/lib/python3.13/multiprocessing/resource_tracker.py\"\u001b[0m, line \u001b[35m295\u001b[0m, in \u001b[35mmain\u001b[0m\n",
      "    raise ValueError(\n",
      "        f'Cannot register {name} for automatic cleanup: '\n",
      "        f'unknown resource type {rtype}')\n",
      "\u001b[1;35mValueError\u001b[0m: \u001b[35mCannot register /dev/shm/joblib_memmapping_folder_2196_7dfa2b3266fc4162bf3a59120eecc074_b4175b1050a049d5b2b7a64a85554bd4 for automatic cleanup: unknown resource type folder\u001b[0m\n",
      "Traceback (most recent call last):\n",
      "  File \u001b[35m\"/opt/hostedtoolcache/Python/3.13.7/x64/lib/python3.13/multiprocessing/resource_tracker.py\"\u001b[0m, line \u001b[35m295\u001b[0m, in \u001b[35mmain\u001b[0m\n",
      "    raise ValueError(\n",
      "        f'Cannot register {name} for automatic cleanup: '\n",
      "        f'unknown resource type {rtype}')\n",
      "\u001b[1;35mValueError\u001b[0m: \u001b[35mCannot register /dev/shm/joblib_memmapping_folder_2196_b3491d4793c54c2b805d4ce56703e198_f574565ac805451b8015ff1bc9d0b302 for automatic cleanup: unknown resource type folder\u001b[0m\n"
     ]
    },
    {
     "name": "stderr",
     "output_type": "stream",
     "text": [
      "\r",
      "Scraping 56 games on 11/23/24:  13%|█▎        | 23 of 182 days scraped in 111.6 secTraceback (most recent call last):\n"
     ]
    },
    {
     "name": "stderr",
     "output_type": "stream",
     "text": [
      "  File \u001b[35m\"/opt/hostedtoolcache/Python/3.13.7/x64/lib/python3.13/multiprocessing/resource_tracker.py\"\u001b[0m, line \u001b[35m295\u001b[0m, in \u001b[35mmain\u001b[0m\n",
      "    raise ValueError(\n",
      "        f'Cannot register {name} for automatic cleanup: '\n",
      "        f'unknown resource type {rtype}')\n",
      "\u001b[1;35mValueError\u001b[0m: \u001b[35mCannot register /dev/shm/joblib_memmapping_folder_2196_b3491d4793c54c2b805d4ce56703e198_f574565ac805451b8015ff1bc9d0b302 for automatic cleanup: unknown resource type folder\u001b[0m\n"
     ]
    },
    {
     "name": "stderr",
     "output_type": "stream",
     "text": [
      "\r",
      "Scraping 54 games on 11/24/24:  13%|█▎        | 23 of 182 days scraped in 112.1 sec"
     ]
    },
    {
     "name": "stderr",
     "output_type": "stream",
     "text": [
      "Traceback (most recent call last):\n",
      "  File \u001b[35m\"/opt/hostedtoolcache/Python/3.13.7/x64/lib/python3.13/multiprocessing/resource_tracker.py\"\u001b[0m, line \u001b[35m295\u001b[0m, in \u001b[35mmain\u001b[0m\n",
      "    raise ValueError(\n",
      "        f'Cannot register {name} for automatic cleanup: '\n",
      "        f'unknown resource type {rtype}')\n",
      "\u001b[1;35mValueError\u001b[0m: \u001b[35mCannot register /dev/shm/joblib_memmapping_folder_2196_5a1b0eb13e7c478ea19bb3ca968e7c62_72b9fb2cf2274bf8a6386da3a6e79e47 for automatic cleanup: unknown resource type folder\u001b[0m\n",
      "Traceback (most recent call last):\n",
      "  File \u001b[35m\"/opt/hostedtoolcache/Python/3.13.7/x64/lib/python3.13/multiprocessing/resource_tracker.py\"\u001b[0m, line \u001b[35m295\u001b[0m, in \u001b[35mmain\u001b[0m\n",
      "    raise ValueError(\n",
      "        f'Cannot register {name} for automatic cleanup: '\n",
      "        f'unknown resource type {rtype}')\n",
      "\u001b[1;35mValueError\u001b[0m: \u001b[35mCannot register /dev/shm/joblib_memmapping_folder_2196_b3491d4793c54c2b805d4ce56703e198_83029681f28a49e6905a701fad610a9d for automatic cleanup: unknown resource type folder\u001b[0m\n"
     ]
    },
    {
     "name": "stderr",
     "output_type": "stream",
     "text": [
      "\r",
      "Scraping 54 games on 11/24/24:  13%|█▎        | 24 of 182 days scraped in 116.7 sec"
     ]
    },
    {
     "name": "stderr",
     "output_type": "stream",
     "text": [
      "Traceback (most recent call last):\n",
      "  File \u001b[35m\"/opt/hostedtoolcache/Python/3.13.7/x64/lib/python3.13/multiprocessing/resource_tracker.py\"\u001b[0m, line \u001b[35m295\u001b[0m, in \u001b[35mmain\u001b[0m\n",
      "    raise ValueError(\n",
      "        f'Cannot register {name} for automatic cleanup: '\n",
      "        f'unknown resource type {rtype}')\n",
      "\u001b[1;35mValueError\u001b[0m: \u001b[35mCannot register /dev/shm/joblib_memmapping_folder_2196_b3491d4793c54c2b805d4ce56703e198_83029681f28a49e6905a701fad610a9d for automatic cleanup: unknown resource type folder\u001b[0m\n"
     ]
    },
    {
     "name": "stderr",
     "output_type": "stream",
     "text": [
      "\r",
      "Scraping 57 games on 11/25/24:  13%|█▎        | 24 of 182 days scraped in 117.3 sec"
     ]
    },
    {
     "name": "stderr",
     "output_type": "stream",
     "text": [
      "Traceback (most recent call last):\n",
      "  File \u001b[35m\"/opt/hostedtoolcache/Python/3.13.7/x64/lib/python3.13/multiprocessing/resource_tracker.py\"\u001b[0m, line \u001b[35m295\u001b[0m, in \u001b[35mmain\u001b[0m\n",
      "    raise ValueError(\n",
      "        f'Cannot register {name} for automatic cleanup: '\n",
      "        f'unknown resource type {rtype}')\n",
      "\u001b[1;35mValueError\u001b[0m: \u001b[35mCannot register /dev/shm/joblib_memmapping_folder_2196_51270e8c8fad47a4a30904fd933d731b_7de5f11248ae4260986c5e77f77247ea for automatic cleanup: unknown resource type folder\u001b[0m\n",
      "Traceback (most recent call last):\n",
      "  File \u001b[35m\"/opt/hostedtoolcache/Python/3.13.7/x64/lib/python3.13/multiprocessing/resource_tracker.py\"\u001b[0m, line \u001b[35m295\u001b[0m, in \u001b[35mmain\u001b[0m\n",
      "    raise ValueError(\n",
      "        f'Cannot register {name} for automatic cleanup: '\n",
      "        f'unknown resource type {rtype}')\n",
      "\u001b[1;35mValueError\u001b[0m: \u001b[35mCannot register /dev/shm/joblib_memmapping_folder_2196_b3491d4793c54c2b805d4ce56703e198_ee6154d2fc3342718430609532064720 for automatic cleanup: unknown resource type folder\u001b[0m\n"
     ]
    },
    {
     "name": "stderr",
     "output_type": "stream",
     "text": [
      "\r",
      "Scraping 57 games on 11/25/24:  14%|█▎        | 25 of 182 days scraped in 122.1 secTraceback (most recent call last):\n"
     ]
    },
    {
     "name": "stderr",
     "output_type": "stream",
     "text": [
      "  File \u001b[35m\"/opt/hostedtoolcache/Python/3.13.7/x64/lib/python3.13/multiprocessing/resource_tracker.py\"\u001b[0m, line \u001b[35m295\u001b[0m, in \u001b[35mmain\u001b[0m\n",
      "    raise ValueError(\n",
      "        f'Cannot register {name} for automatic cleanup: '\n",
      "        f'unknown resource type {rtype}')\n",
      "\u001b[1;35mValueError\u001b[0m: \u001b[35mCannot register /dev/shm/joblib_memmapping_folder_2196_b3491d4793c54c2b805d4ce56703e198_ee6154d2fc3342718430609532064720 for automatic cleanup: unknown resource type folder\u001b[0m\n"
     ]
    },
    {
     "name": "stderr",
     "output_type": "stream",
     "text": [
      "\r",
      "Scraping 64 games on 11/26/24:  14%|█▎        | 25 of 182 days scraped in 122.7 sec"
     ]
    },
    {
     "name": "stderr",
     "output_type": "stream",
     "text": [
      "Traceback (most recent call last):\n",
      "  File \u001b[35m\"/opt/hostedtoolcache/Python/3.13.7/x64/lib/python3.13/multiprocessing/resource_tracker.py\"\u001b[0m, line \u001b[35m295\u001b[0m, in \u001b[35mmain\u001b[0m\n",
      "    raise ValueError(\n",
      "        f'Cannot register {name} for automatic cleanup: '\n",
      "        f'unknown resource type {rtype}')\n",
      "\u001b[1;35mValueError\u001b[0m: \u001b[35mCannot register /dev/shm/joblib_memmapping_folder_2196_ef8d2f439f6644a9a49885e50a872fa4_981ab2c53e9f44d0a9d479ecf593d4c7 for automatic cleanup: unknown resource type folder\u001b[0m\n",
      "Traceback (most recent call last):\n",
      "  File \u001b[35m\"/opt/hostedtoolcache/Python/3.13.7/x64/lib/python3.13/multiprocessing/resource_tracker.py\"\u001b[0m, line \u001b[35m295\u001b[0m, in \u001b[35mmain\u001b[0m\n",
      "    raise ValueError(\n",
      "        f'Cannot register {name} for automatic cleanup: '\n",
      "        f'unknown resource type {rtype}')\n",
      "\u001b[1;35mValueError\u001b[0m: \u001b[35mCannot register /dev/shm/joblib_memmapping_folder_2196_b3491d4793c54c2b805d4ce56703e198_758addfefc944288847f94c6d02ad711 for automatic cleanup: unknown resource type folder\u001b[0m\n"
     ]
    },
    {
     "name": "stderr",
     "output_type": "stream",
     "text": [
      "\r",
      "Scraping 64 games on 11/26/24:  14%|█▍        | 26 of 182 days scraped in 128.1 sec"
     ]
    },
    {
     "name": "stderr",
     "output_type": "stream",
     "text": [
      "Traceback (most recent call last):\n",
      "  File \u001b[35m\"/opt/hostedtoolcache/Python/3.13.7/x64/lib/python3.13/multiprocessing/resource_tracker.py\"\u001b[0m, line \u001b[35m295\u001b[0m, in \u001b[35mmain\u001b[0m\n",
      "    raise ValueError(\n",
      "        f'Cannot register {name} for automatic cleanup: '\n",
      "        f'unknown resource type {rtype}')\n",
      "\u001b[1;35mValueError\u001b[0m: \u001b[35mCannot register /dev/shm/joblib_memmapping_folder_2196_b3491d4793c54c2b805d4ce56703e198_758addfefc944288847f94c6d02ad711 for automatic cleanup: unknown resource type folder\u001b[0m\n"
     ]
    },
    {
     "name": "stderr",
     "output_type": "stream",
     "text": [
      "\r",
      "Scraping 70 games on 11/27/24:  14%|█▍        | 26 of 182 days scraped in 129.1 sec"
     ]
    },
    {
     "name": "stderr",
     "output_type": "stream",
     "text": [
      "Traceback (most recent call last):\n",
      "  File \u001b[35m\"/opt/hostedtoolcache/Python/3.13.7/x64/lib/python3.13/multiprocessing/resource_tracker.py\"\u001b[0m, line \u001b[35m295\u001b[0m, in \u001b[35mmain\u001b[0m\n",
      "    raise ValueError(\n",
      "        f'Cannot register {name} for automatic cleanup: '\n",
      "        f'unknown resource type {rtype}')\n",
      "\u001b[1;35mValueError\u001b[0m: \u001b[35mCannot register /dev/shm/joblib_memmapping_folder_2196_542e168a6be446d9a0517d98a917d670_e8da116c74374b2dbe206e09d6f2c02b for automatic cleanup: unknown resource type folder\u001b[0m\n",
      "Traceback (most recent call last):\n",
      "  File \u001b[35m\"/opt/hostedtoolcache/Python/3.13.7/x64/lib/python3.13/multiprocessing/resource_tracker.py\"\u001b[0m, line \u001b[35m295\u001b[0m, in \u001b[35mmain\u001b[0m\n",
      "    raise ValueError(\n",
      "        f'Cannot register {name} for automatic cleanup: '\n",
      "        f'unknown resource type {rtype}')\n",
      "\u001b[1;35mValueError\u001b[0m: \u001b[35mCannot register /dev/shm/joblib_memmapping_folder_2196_b3491d4793c54c2b805d4ce56703e198_ab60fab4c4624245b2c38b4860dc03de for automatic cleanup: unknown resource type folder\u001b[0m\n"
     ]
    },
    {
     "name": "stderr",
     "output_type": "stream",
     "text": [
      "\r",
      "Scraping 70 games on 11/27/24:  15%|█▍        | 27 of 182 days scraped in 135.2 sec"
     ]
    },
    {
     "name": "stderr",
     "output_type": "stream",
     "text": [
      "Traceback (most recent call last):\n",
      "  File \u001b[35m\"/opt/hostedtoolcache/Python/3.13.7/x64/lib/python3.13/multiprocessing/resource_tracker.py\"\u001b[0m, line \u001b[35m295\u001b[0m, in \u001b[35mmain\u001b[0m\n",
      "    raise ValueError(\n",
      "        f'Cannot register {name} for automatic cleanup: '\n",
      "        f'unknown resource type {rtype}')\n",
      "\u001b[1;35mValueError\u001b[0m: \u001b[35mCannot register /dev/shm/joblib_memmapping_folder_2196_b3491d4793c54c2b805d4ce56703e198_ab60fab4c4624245b2c38b4860dc03de for automatic cleanup: unknown resource type folder\u001b[0m\n"
     ]
    },
    {
     "name": "stderr",
     "output_type": "stream",
     "text": [
      "\r",
      "Scraping 21 games on 11/28/24:  15%|█▍        | 27 of 182 days scraped in 135.6 sec"
     ]
    },
    {
     "name": "stderr",
     "output_type": "stream",
     "text": [
      "Traceback (most recent call last):\n",
      "  File \u001b[35m\"/opt/hostedtoolcache/Python/3.13.7/x64/lib/python3.13/multiprocessing/resource_tracker.py\"\u001b[0m, line \u001b[35m295\u001b[0m, in \u001b[35mmain\u001b[0m\n",
      "    raise ValueError(\n",
      "        f'Cannot register {name} for automatic cleanup: '\n",
      "        f'unknown resource type {rtype}')\n",
      "\u001b[1;35mValueError\u001b[0m: \u001b[35mCannot register /dev/shm/joblib_memmapping_folder_2196_3a8987faa4a54c72a50b52d8befbbb5c_1da22e7152b2458c812af08ad093bb82 for automatic cleanup: unknown resource type folder\u001b[0m\n",
      "Traceback (most recent call last):\n",
      "  File \u001b[35m\"/opt/hostedtoolcache/Python/3.13.7/x64/lib/python3.13/multiprocessing/resource_tracker.py\"\u001b[0m, line \u001b[35m295\u001b[0m, in \u001b[35mmain\u001b[0m\n",
      "    raise ValueError(\n",
      "        f'Cannot register {name} for automatic cleanup: '\n",
      "        f'unknown resource type {rtype}')\n",
      "\u001b[1;35mValueError\u001b[0m: \u001b[35mCannot register /dev/shm/joblib_memmapping_folder_2196_b3491d4793c54c2b805d4ce56703e198_e2028430dbee417591bfd939a6b8e9a3 for automatic cleanup: unknown resource type folder\u001b[0m\n"
     ]
    },
    {
     "name": "stderr",
     "output_type": "stream",
     "text": [
      "\r",
      "Scraping 21 games on 11/28/24:  15%|█▌        | 28 of 182 days scraped in 137.6 sec"
     ]
    },
    {
     "name": "stderr",
     "output_type": "stream",
     "text": [
      "Traceback (most recent call last):\n",
      "  File \u001b[35m\"/opt/hostedtoolcache/Python/3.13.7/x64/lib/python3.13/multiprocessing/resource_tracker.py\"\u001b[0m, line \u001b[35m295\u001b[0m, in \u001b[35mmain\u001b[0m\n",
      "    raise ValueError(\n",
      "        f'Cannot register {name} for automatic cleanup: '\n",
      "        f'unknown resource type {rtype}')\n",
      "\u001b[1;35mValueError\u001b[0m: \u001b[35mCannot register /dev/shm/joblib_memmapping_folder_2196_b3491d4793c54c2b805d4ce56703e198_e2028430dbee417591bfd939a6b8e9a3 for automatic cleanup: unknown resource type folder\u001b[0m\n"
     ]
    },
    {
     "name": "stderr",
     "output_type": "stream",
     "text": [
      "\r",
      "Scraping 56 games on 11/29/24:  15%|█▌        | 28 of 182 days scraped in 138.2 sec"
     ]
    },
    {
     "name": "stderr",
     "output_type": "stream",
     "text": [
      "Traceback (most recent call last):\n",
      "  File \u001b[35m\"/opt/hostedtoolcache/Python/3.13.7/x64/lib/python3.13/multiprocessing/resource_tracker.py\"\u001b[0m, line \u001b[35m295\u001b[0m, in \u001b[35mmain\u001b[0m\n",
      "    raise ValueError(\n",
      "        f'Cannot register {name} for automatic cleanup: '\n",
      "        f'unknown resource type {rtype}')\n",
      "\u001b[1;35mValueError\u001b[0m: \u001b[35mCannot register /dev/shm/joblib_memmapping_folder_2196_2be98a9260f04e53a3baa221adc67c70_6963e5a52d0c4180944ac5b6ac1234a7 for automatic cleanup: unknown resource type folder\u001b[0m\n",
      "Traceback (most recent call last):\n",
      "  File \u001b[35m\"/opt/hostedtoolcache/Python/3.13.7/x64/lib/python3.13/multiprocessing/resource_tracker.py\"\u001b[0m, line \u001b[35m295\u001b[0m, in \u001b[35mmain\u001b[0m\n",
      "    raise ValueError(\n",
      "        f'Cannot register {name} for automatic cleanup: '\n",
      "        f'unknown resource type {rtype}')\n",
      "\u001b[1;35mValueError\u001b[0m: \u001b[35mCannot register /dev/shm/joblib_memmapping_folder_2196_b3491d4793c54c2b805d4ce56703e198_3ac3162d1a894f07a7b6d73b331cc96c for automatic cleanup: unknown resource type folder\u001b[0m\n"
     ]
    },
    {
     "name": "stderr",
     "output_type": "stream",
     "text": [
      "\r",
      "Scraping 56 games on 11/29/24:  16%|█▌        | 29 of 182 days scraped in 143.0 sec"
     ]
    },
    {
     "name": "stderr",
     "output_type": "stream",
     "text": [
      "Traceback (most recent call last):\n",
      "  File \u001b[35m\"/opt/hostedtoolcache/Python/3.13.7/x64/lib/python3.13/multiprocessing/resource_tracker.py\"\u001b[0m, line \u001b[35m295\u001b[0m, in \u001b[35mmain\u001b[0m\n",
      "    raise ValueError(\n",
      "        f'Cannot register {name} for automatic cleanup: '\n",
      "        f'unknown resource type {rtype}')\n",
      "\u001b[1;35mValueError\u001b[0m: \u001b[35mCannot register /dev/shm/joblib_memmapping_folder_2196_b3491d4793c54c2b805d4ce56703e198_3ac3162d1a894f07a7b6d73b331cc96c for automatic cleanup: unknown resource type folder\u001b[0m\n"
     ]
    },
    {
     "name": "stderr",
     "output_type": "stream",
     "text": [
      "\r",
      "Scraping 68 games on 11/30/24:  16%|█▌        | 29 of 182 days scraped in 143.7 sec"
     ]
    },
    {
     "name": "stderr",
     "output_type": "stream",
     "text": [
      "Traceback (most recent call last):\n",
      "  File \u001b[35m\"/opt/hostedtoolcache/Python/3.13.7/x64/lib/python3.13/multiprocessing/resource_tracker.py\"\u001b[0m, line \u001b[35m295\u001b[0m, in \u001b[35mmain\u001b[0m\n",
      "    raise ValueError(\n",
      "        f'Cannot register {name} for automatic cleanup: '\n",
      "        f'unknown resource type {rtype}')\n",
      "\u001b[1;35mValueError\u001b[0m: \u001b[35mCannot register /dev/shm/joblib_memmapping_folder_2196_abea8a1870f24c0abc1a23c4265d5829_ed6f92d6da694e1ebe16d6e61cb89b9c for automatic cleanup: unknown resource type folder\u001b[0m\n",
      "Traceback (most recent call last):\n",
      "  File \u001b[35m\"/opt/hostedtoolcache/Python/3.13.7/x64/lib/python3.13/multiprocessing/resource_tracker.py\"\u001b[0m, line \u001b[35m295\u001b[0m, in \u001b[35mmain\u001b[0m\n",
      "    raise ValueError(\n",
      "        f'Cannot register {name} for automatic cleanup: '\n",
      "        f'unknown resource type {rtype}')\n",
      "\u001b[1;35mValueError\u001b[0m: \u001b[35mCannot register /dev/shm/joblib_memmapping_folder_2196_b3491d4793c54c2b805d4ce56703e198_c6769ced23674970a01c08f53aaf7ee0 for automatic cleanup: unknown resource type folder\u001b[0m\n"
     ]
    },
    {
     "name": "stderr",
     "output_type": "stream",
     "text": [
      "\r",
      "Scraping 68 games on 11/30/24:  16%|█▋        | 30 of 182 days scraped in 149.5 sec"
     ]
    },
    {
     "name": "stderr",
     "output_type": "stream",
     "text": [
      "Traceback (most recent call last):\n",
      "  File \u001b[35m\"/opt/hostedtoolcache/Python/3.13.7/x64/lib/python3.13/multiprocessing/resource_tracker.py\"\u001b[0m, line \u001b[35m295\u001b[0m, in \u001b[35mmain\u001b[0m\n",
      "    raise ValueError(\n",
      "        f'Cannot register {name} for automatic cleanup: '\n",
      "        f'unknown resource type {rtype}')\n",
      "\u001b[1;35mValueError\u001b[0m: \u001b[35mCannot register /dev/shm/joblib_memmapping_folder_2196_b3491d4793c54c2b805d4ce56703e198_c6769ced23674970a01c08f53aaf7ee0 for automatic cleanup: unknown resource type folder\u001b[0m\n"
     ]
    },
    {
     "name": "stderr",
     "output_type": "stream",
     "text": [
      "\r",
      "Scraping 34 games on 12/01/24:  16%|█▋        | 30 of 182 days scraped in 150.0 sec"
     ]
    },
    {
     "name": "stderr",
     "output_type": "stream",
     "text": [
      "Traceback (most recent call last):\n",
      "  File \u001b[35m\"/opt/hostedtoolcache/Python/3.13.7/x64/lib/python3.13/multiprocessing/resource_tracker.py\"\u001b[0m, line \u001b[35m295\u001b[0m, in \u001b[35mmain\u001b[0m\n",
      "    raise ValueError(\n",
      "        f'Cannot register {name} for automatic cleanup: '\n",
      "        f'unknown resource type {rtype}')\n",
      "\u001b[1;35mValueError\u001b[0m: \u001b[35mCannot register /dev/shm/joblib_memmapping_folder_2196_efbf025423644a2db4fa6a5ce902b9cc_327661646f8b4a4581ca029e23ad5428 for automatic cleanup: unknown resource type folder\u001b[0m\n",
      "Traceback (most recent call last):\n",
      "  File \u001b[35m\"/opt/hostedtoolcache/Python/3.13.7/x64/lib/python3.13/multiprocessing/resource_tracker.py\"\u001b[0m, line \u001b[35m295\u001b[0m, in \u001b[35mmain\u001b[0m\n",
      "    raise ValueError(\n",
      "        f'Cannot register {name} for automatic cleanup: '\n",
      "        f'unknown resource type {rtype}')\n",
      "\u001b[1;35mValueError\u001b[0m: \u001b[35mCannot register /dev/shm/joblib_memmapping_folder_2196_b3491d4793c54c2b805d4ce56703e198_e27f7f494901488d84611f7ec1bb4f40 for automatic cleanup: unknown resource type folder\u001b[0m\n"
     ]
    },
    {
     "name": "stderr",
     "output_type": "stream",
     "text": [
      "\r",
      "Scraping 34 games on 12/01/24:  17%|█▋        | 31 of 182 days scraped in 153.0 sec"
     ]
    },
    {
     "name": "stderr",
     "output_type": "stream",
     "text": [
      "Traceback (most recent call last):\n",
      "  File \u001b[35m\"/opt/hostedtoolcache/Python/3.13.7/x64/lib/python3.13/multiprocessing/resource_tracker.py\"\u001b[0m, line \u001b[35m295\u001b[0m, in \u001b[35mmain\u001b[0m\n",
      "    raise ValueError(\n",
      "        f'Cannot register {name} for automatic cleanup: '\n",
      "        f'unknown resource type {rtype}')\n",
      "\u001b[1;35mValueError\u001b[0m: \u001b[35mCannot register /dev/shm/joblib_memmapping_folder_2196_b3491d4793c54c2b805d4ce56703e198_e27f7f494901488d84611f7ec1bb4f40 for automatic cleanup: unknown resource type folder\u001b[0m\n"
     ]
    },
    {
     "name": "stderr",
     "output_type": "stream",
     "text": [
      "\r",
      "Scraping 16 games on 12/02/24:  17%|█▋        | 31 of 182 days scraped in 153.2 sec"
     ]
    },
    {
     "name": "stderr",
     "output_type": "stream",
     "text": [
      "Traceback (most recent call last):\n",
      "  File \u001b[35m\"/opt/hostedtoolcache/Python/3.13.7/x64/lib/python3.13/multiprocessing/resource_tracker.py\"\u001b[0m, line \u001b[35m295\u001b[0m, in \u001b[35mmain\u001b[0m\n",
      "    raise ValueError(\n",
      "        f'Cannot register {name} for automatic cleanup: '\n",
      "        f'unknown resource type {rtype}')\n",
      "\u001b[1;35mValueError\u001b[0m: \u001b[35mCannot register /dev/shm/joblib_memmapping_folder_2196_f4d47ae18a4f499184aedf9378c3008f_0241c86b1ad248189f90dcc749c1bd60 for automatic cleanup: unknown resource type folder\u001b[0m\n",
      "Traceback (most recent call last):\n",
      "  File \u001b[35m\"/opt/hostedtoolcache/Python/3.13.7/x64/lib/python3.13/multiprocessing/resource_tracker.py\"\u001b[0m, line \u001b[35m295\u001b[0m, in \u001b[35mmain\u001b[0m\n",
      "    raise ValueError(\n",
      "        f'Cannot register {name} for automatic cleanup: '\n",
      "        f'unknown resource type {rtype}')\n",
      "\u001b[1;35mValueError\u001b[0m: \u001b[35mCannot register /dev/shm/joblib_memmapping_folder_2196_b3491d4793c54c2b805d4ce56703e198_8baca99a531d42b49b9570456d5a835a for automatic cleanup: unknown resource type folder\u001b[0m\n"
     ]
    },
    {
     "name": "stderr",
     "output_type": "stream",
     "text": [
      "\r",
      "Scraping 16 games on 12/02/24:  18%|█▊        | 32 of 182 days scraped in 154.7 sec"
     ]
    },
    {
     "name": "stderr",
     "output_type": "stream",
     "text": [
      "Traceback (most recent call last):\n",
      "  File \u001b[35m\"/opt/hostedtoolcache/Python/3.13.7/x64/lib/python3.13/multiprocessing/resource_tracker.py\"\u001b[0m, line \u001b[35m295\u001b[0m, in \u001b[35mmain\u001b[0m\n",
      "    raise ValueError(\n",
      "        f'Cannot register {name} for automatic cleanup: '\n",
      "        f'unknown resource type {rtype}')\n",
      "\u001b[1;35mValueError\u001b[0m: \u001b[35mCannot register /dev/shm/joblib_memmapping_folder_2196_b3491d4793c54c2b805d4ce56703e198_8baca99a531d42b49b9570456d5a835a for automatic cleanup: unknown resource type folder\u001b[0m\n"
     ]
    },
    {
     "name": "stderr",
     "output_type": "stream",
     "text": [
      "\r",
      "Scraping 56 games on 12/03/24:  18%|█▊        | 32 of 182 days scraped in 155.3 sec"
     ]
    },
    {
     "name": "stderr",
     "output_type": "stream",
     "text": [
      "Traceback (most recent call last):\n",
      "  File \u001b[35m\"/opt/hostedtoolcache/Python/3.13.7/x64/lib/python3.13/multiprocessing/resource_tracker.py\"\u001b[0m, line \u001b[35m295\u001b[0m, in \u001b[35mmain\u001b[0m\n",
      "    raise ValueError(\n",
      "        f'Cannot register {name} for automatic cleanup: '\n",
      "        f'unknown resource type {rtype}')\n",
      "\u001b[1;35mValueError\u001b[0m: \u001b[35mCannot register /dev/shm/joblib_memmapping_folder_2196_3605c53688534a90b0955cd3a04d2f4b_6ea94ffad14344279dc68ca9bedb3742 for automatic cleanup: unknown resource type folder\u001b[0m\n",
      "Traceback (most recent call last):\n",
      "  File \u001b[35m\"/opt/hostedtoolcache/Python/3.13.7/x64/lib/python3.13/multiprocessing/resource_tracker.py\"\u001b[0m, line \u001b[35m295\u001b[0m, in \u001b[35mmain\u001b[0m\n",
      "    raise ValueError(\n",
      "        f'Cannot register {name} for automatic cleanup: '\n",
      "        f'unknown resource type {rtype}')\n",
      "\u001b[1;35mValueError\u001b[0m: \u001b[35mCannot register /dev/shm/joblib_memmapping_folder_2196_b3491d4793c54c2b805d4ce56703e198_b25a44957a094e439887ad8ff5c5108a for automatic cleanup: unknown resource type folder\u001b[0m\n"
     ]
    },
    {
     "name": "stderr",
     "output_type": "stream",
     "text": [
      "\r",
      "Scraping 56 games on 12/03/24:  18%|█▊        | 33 of 182 days scraped in 160.0 sec"
     ]
    },
    {
     "name": "stderr",
     "output_type": "stream",
     "text": [
      "Traceback (most recent call last):\n",
      "  File \u001b[35m\"/opt/hostedtoolcache/Python/3.13.7/x64/lib/python3.13/multiprocessing/resource_tracker.py\"\u001b[0m, line \u001b[35m295\u001b[0m, in \u001b[35mmain\u001b[0m\n",
      "    raise ValueError(\n",
      "        f'Cannot register {name} for automatic cleanup: '\n",
      "        f'unknown resource type {rtype}')\n",
      "\u001b[1;35mValueError\u001b[0m: \u001b[35mCannot register /dev/shm/joblib_memmapping_folder_2196_b3491d4793c54c2b805d4ce56703e198_b25a44957a094e439887ad8ff5c5108a for automatic cleanup: unknown resource type folder\u001b[0m\n"
     ]
    },
    {
     "name": "stderr",
     "output_type": "stream",
     "text": [
      "\r",
      "Scraping 67 games on 12/04/24:  18%|█▊        | 33 of 182 days scraped in 160.6 sec"
     ]
    },
    {
     "name": "stderr",
     "output_type": "stream",
     "text": [
      "Traceback (most recent call last):\n",
      "  File \u001b[35m\"/opt/hostedtoolcache/Python/3.13.7/x64/lib/python3.13/multiprocessing/resource_tracker.py\"\u001b[0m, line \u001b[35m295\u001b[0m, in \u001b[35mmain\u001b[0m\n",
      "    raise ValueError(\n",
      "        f'Cannot register {name} for automatic cleanup: '\n",
      "        f'unknown resource type {rtype}')\n",
      "\u001b[1;35mValueError\u001b[0m: \u001b[35mCannot register /dev/shm/joblib_memmapping_folder_2196_5e46726577ed4a949a2a890044f96ce7_87022c52a0d84f7ba3ff0c01539a97c0 for automatic cleanup: unknown resource type folder\u001b[0m\n",
      "Traceback (most recent call last):\n",
      "  File \u001b[35m\"/opt/hostedtoolcache/Python/3.13.7/x64/lib/python3.13/multiprocessing/resource_tracker.py\"\u001b[0m, line \u001b[35m295\u001b[0m, in \u001b[35mmain\u001b[0m\n",
      "    raise ValueError(\n",
      "        f'Cannot register {name} for automatic cleanup: '\n",
      "        f'unknown resource type {rtype}')\n",
      "\u001b[1;35mValueError\u001b[0m: \u001b[35mCannot register /dev/shm/joblib_memmapping_folder_2196_b3491d4793c54c2b805d4ce56703e198_a69bb2df6b4941b29bc0f5fd3158b7fd for automatic cleanup: unknown resource type folder\u001b[0m\n"
     ]
    },
    {
     "name": "stderr",
     "output_type": "stream",
     "text": [
      "\r",
      "Scraping 67 games on 12/04/24:  19%|█▊        | 34 of 182 days scraped in 166.2 sec"
     ]
    },
    {
     "name": "stderr",
     "output_type": "stream",
     "text": [
      "Traceback (most recent call last):\n",
      "  File \u001b[35m\"/opt/hostedtoolcache/Python/3.13.7/x64/lib/python3.13/multiprocessing/resource_tracker.py\"\u001b[0m, line \u001b[35m295\u001b[0m, in \u001b[35mmain\u001b[0m\n",
      "    raise ValueError(\n",
      "        f'Cannot register {name} for automatic cleanup: '\n",
      "        f'unknown resource type {rtype}')\n",
      "\u001b[1;35mValueError\u001b[0m: \u001b[35mCannot register /dev/shm/joblib_memmapping_folder_2196_b3491d4793c54c2b805d4ce56703e198_a69bb2df6b4941b29bc0f5fd3158b7fd for automatic cleanup: unknown resource type folder\u001b[0m\n"
     ]
    },
    {
     "name": "stderr",
     "output_type": "stream",
     "text": [
      "\r",
      "Scraping 26 games on 12/05/24:  19%|█▊        | 34 of 182 days scraped in 166.6 sec"
     ]
    },
    {
     "name": "stderr",
     "output_type": "stream",
     "text": [
      "Traceback (most recent call last):\n",
      "  File \u001b[35m\"/opt/hostedtoolcache/Python/3.13.7/x64/lib/python3.13/multiprocessing/resource_tracker.py\"\u001b[0m, line \u001b[35m295\u001b[0m, in \u001b[35mmain\u001b[0m\n",
      "    raise ValueError(\n",
      "        f'Cannot register {name} for automatic cleanup: '\n",
      "        f'unknown resource type {rtype}')\n",
      "\u001b[1;35mValueError\u001b[0m: \u001b[35mCannot register /dev/shm/joblib_memmapping_folder_2196_f1191dc49157462ca393eabdb8fc6862_d5346fff6bb142a79b234dee786eaa27 for automatic cleanup: unknown resource type folder\u001b[0m\n",
      "Traceback (most recent call last):\n",
      "  File \u001b[35m\"/opt/hostedtoolcache/Python/3.13.7/x64/lib/python3.13/multiprocessing/resource_tracker.py\"\u001b[0m, line \u001b[35m295\u001b[0m, in \u001b[35mmain\u001b[0m\n",
      "    raise ValueError(\n",
      "        f'Cannot register {name} for automatic cleanup: '\n",
      "        f'unknown resource type {rtype}')\n",
      "\u001b[1;35mValueError\u001b[0m: \u001b[35mCannot register /dev/shm/joblib_memmapping_folder_2196_b3491d4793c54c2b805d4ce56703e198_c3d741ea55c54619af961568c32177fe for automatic cleanup: unknown resource type folder\u001b[0m\n"
     ]
    },
    {
     "name": "stderr",
     "output_type": "stream",
     "text": [
      "\r",
      "Scraping 26 games on 12/05/24:  19%|█▉        | 35 of 182 days scraped in 169.0 secTraceback (most recent call last):\n"
     ]
    },
    {
     "name": "stderr",
     "output_type": "stream",
     "text": [
      "  File \u001b[35m\"/opt/hostedtoolcache/Python/3.13.7/x64/lib/python3.13/multiprocessing/resource_tracker.py\"\u001b[0m, line \u001b[35m295\u001b[0m, in \u001b[35mmain\u001b[0m\n",
      "    raise ValueError(\n",
      "        f'Cannot register {name} for automatic cleanup: '\n",
      "        f'unknown resource type {rtype}')\n",
      "\u001b[1;35mValueError\u001b[0m: \u001b[35mCannot register /dev/shm/joblib_memmapping_folder_2196_b3491d4793c54c2b805d4ce56703e198_c3d741ea55c54619af961568c32177fe for automatic cleanup: unknown resource type folder\u001b[0m\n"
     ]
    },
    {
     "name": "stderr",
     "output_type": "stream",
     "text": [
      "\r",
      "Scraping 22 games on 12/06/24:  19%|█▉        | 35 of 182 days scraped in 169.5 sec"
     ]
    },
    {
     "name": "stderr",
     "output_type": "stream",
     "text": [
      "Traceback (most recent call last):\n",
      "  File \u001b[35m\"/opt/hostedtoolcache/Python/3.13.7/x64/lib/python3.13/multiprocessing/resource_tracker.py\"\u001b[0m, line \u001b[35m295\u001b[0m, in \u001b[35mmain\u001b[0m\n",
      "    raise ValueError(\n",
      "        f'Cannot register {name} for automatic cleanup: '\n",
      "        f'unknown resource type {rtype}')\n",
      "\u001b[1;35mValueError\u001b[0m: \u001b[35mCannot register /dev/shm/joblib_memmapping_folder_2196_d10251da78a048fe9ac7a409b620908a_2c0be97b9bb34184aa71c2fb1a3132a4 for automatic cleanup: unknown resource type folder\u001b[0m\n",
      "Traceback (most recent call last):\n",
      "  File \u001b[35m\"/opt/hostedtoolcache/Python/3.13.7/x64/lib/python3.13/multiprocessing/resource_tracker.py\"\u001b[0m, line \u001b[35m295\u001b[0m, in \u001b[35mmain\u001b[0m\n",
      "    raise ValueError(\n",
      "        f'Cannot register {name} for automatic cleanup: '\n",
      "        f'unknown resource type {rtype}')\n",
      "\u001b[1;35mValueError\u001b[0m: \u001b[35mCannot register /dev/shm/joblib_memmapping_folder_2196_b3491d4793c54c2b805d4ce56703e198_b741678477c3415491bb57d13d91add9 for automatic cleanup: unknown resource type folder\u001b[0m\n"
     ]
    },
    {
     "name": "stderr",
     "output_type": "stream",
     "text": [
      "\r",
      "Scraping 22 games on 12/06/24:  20%|█▉        | 36 of 182 days scraped in 171.4 secTraceback (most recent call last):\n"
     ]
    },
    {
     "name": "stderr",
     "output_type": "stream",
     "text": [
      "  File \u001b[35m\"/opt/hostedtoolcache/Python/3.13.7/x64/lib/python3.13/multiprocessing/resource_tracker.py\"\u001b[0m, line \u001b[35m295\u001b[0m, in \u001b[35mmain\u001b[0m\n",
      "    raise ValueError(\n",
      "        f'Cannot register {name} for automatic cleanup: '\n",
      "        f'unknown resource type {rtype}')\n",
      "\u001b[1;35mValueError\u001b[0m: \u001b[35mCannot register /dev/shm/joblib_memmapping_folder_2196_b3491d4793c54c2b805d4ce56703e198_b741678477c3415491bb57d13d91add9 for automatic cleanup: unknown resource type folder\u001b[0m\n"
     ]
    },
    {
     "name": "stderr",
     "output_type": "stream",
     "text": [
      "\r",
      "Scraping 108 games on 12/07/24:  20%|█▉        | 36 of 182 days scraped in 172.3 sec"
     ]
    },
    {
     "name": "stderr",
     "output_type": "stream",
     "text": [
      "Traceback (most recent call last):\n",
      "  File \u001b[35m\"/opt/hostedtoolcache/Python/3.13.7/x64/lib/python3.13/multiprocessing/resource_tracker.py\"\u001b[0m, line \u001b[35m295\u001b[0m, in \u001b[35mmain\u001b[0m\n",
      "    raise ValueError(\n",
      "        f'Cannot register {name} for automatic cleanup: '\n",
      "        f'unknown resource type {rtype}')\n",
      "\u001b[1;35mValueError\u001b[0m: \u001b[35mCannot register /dev/shm/joblib_memmapping_folder_2196_11044dfffbe54ec7b449fc08911d77f8_5765e866f0614bd0af881354fb5853f6 for automatic cleanup: unknown resource type folder\u001b[0m\n",
      "Traceback (most recent call last):\n",
      "  File \u001b[35m\"/opt/hostedtoolcache/Python/3.13.7/x64/lib/python3.13/multiprocessing/resource_tracker.py\"\u001b[0m, line \u001b[35m295\u001b[0m, in \u001b[35mmain\u001b[0m\n",
      "    raise ValueError(\n",
      "        f'Cannot register {name} for automatic cleanup: '\n",
      "        f'unknown resource type {rtype}')\n",
      "\u001b[1;35mValueError\u001b[0m: \u001b[35mCannot register /dev/shm/joblib_memmapping_folder_2196_b3491d4793c54c2b805d4ce56703e198_2d6bedddeb4d4f4aa67bd4511f6bb302 for automatic cleanup: unknown resource type folder\u001b[0m\n"
     ]
    },
    {
     "name": "stderr",
     "output_type": "stream",
     "text": [
      "\r",
      "Scraping 108 games on 12/07/24:  20%|██        | 37 of 182 days scraped in 181.6 secTraceback (most recent call last):\n"
     ]
    },
    {
     "name": "stderr",
     "output_type": "stream",
     "text": [
      "  File \u001b[35m\"/opt/hostedtoolcache/Python/3.13.7/x64/lib/python3.13/multiprocessing/resource_tracker.py\"\u001b[0m, line \u001b[35m295\u001b[0m, in \u001b[35mmain\u001b[0m\n",
      "    raise ValueError(\n",
      "        f'Cannot register {name} for automatic cleanup: '\n",
      "        f'unknown resource type {rtype}')\n",
      "\u001b[1;35mValueError\u001b[0m: \u001b[35mCannot register /dev/shm/joblib_memmapping_folder_2196_b3491d4793c54c2b805d4ce56703e198_2d6bedddeb4d4f4aa67bd4511f6bb302 for automatic cleanup: unknown resource type folder\u001b[0m\n"
     ]
    },
    {
     "name": "stderr",
     "output_type": "stream",
     "text": [
      "\r",
      "Scraping 39 games on 12/08/24:  20%|██        | 37 of 182 days scraped in 182.1 sec "
     ]
    },
    {
     "name": "stderr",
     "output_type": "stream",
     "text": [
      "Traceback (most recent call last):\n",
      "  File \u001b[35m\"/opt/hostedtoolcache/Python/3.13.7/x64/lib/python3.13/multiprocessing/resource_tracker.py\"\u001b[0m, line \u001b[35m295\u001b[0m, in \u001b[35mmain\u001b[0m\n",
      "    raise ValueError(\n",
      "        f'Cannot register {name} for automatic cleanup: '\n",
      "        f'unknown resource type {rtype}')\n",
      "\u001b[1;35mValueError\u001b[0m: \u001b[35mCannot register /dev/shm/joblib_memmapping_folder_2196_862e16070a434405bcfcc942c9e52f63_63266a44c2ab4e0999092f34a5d14cfd for automatic cleanup: unknown resource type folder\u001b[0m\n",
      "Traceback (most recent call last):\n",
      "  File \u001b[35m\"/opt/hostedtoolcache/Python/3.13.7/x64/lib/python3.13/multiprocessing/resource_tracker.py\"\u001b[0m, line \u001b[35m295\u001b[0m, in \u001b[35mmain\u001b[0m\n",
      "    raise ValueError(\n",
      "        f'Cannot register {name} for automatic cleanup: '\n",
      "        f'unknown resource type {rtype}')\n",
      "\u001b[1;35mValueError\u001b[0m: \u001b[35mCannot register /dev/shm/joblib_memmapping_folder_2196_b3491d4793c54c2b805d4ce56703e198_602f373687ad490abc5edff39f23f284 for automatic cleanup: unknown resource type folder\u001b[0m\n"
     ]
    },
    {
     "name": "stderr",
     "output_type": "stream",
     "text": [
      "\r",
      "Scraping 39 games on 12/08/24:  21%|██        | 38 of 182 days scraped in 185.4 sec"
     ]
    },
    {
     "name": "stderr",
     "output_type": "stream",
     "text": [
      "Traceback (most recent call last):\n",
      "  File \u001b[35m\"/opt/hostedtoolcache/Python/3.13.7/x64/lib/python3.13/multiprocessing/resource_tracker.py\"\u001b[0m, line \u001b[35m295\u001b[0m, in \u001b[35mmain\u001b[0m\n",
      "    raise ValueError(\n",
      "        f'Cannot register {name} for automatic cleanup: '\n",
      "        f'unknown resource type {rtype}')\n",
      "\u001b[1;35mValueError\u001b[0m: \u001b[35mCannot register /dev/shm/joblib_memmapping_folder_2196_b3491d4793c54c2b805d4ce56703e198_602f373687ad490abc5edff39f23f284 for automatic cleanup: unknown resource type folder\u001b[0m\n"
     ]
    },
    {
     "name": "stderr",
     "output_type": "stream",
     "text": [
      "\r",
      "Scraping 8 games on 12/09/24:  21%|██        | 38 of 182 days scraped in 185.7 sec "
     ]
    },
    {
     "name": "stderr",
     "output_type": "stream",
     "text": [
      "Traceback (most recent call last):\n",
      "  File \u001b[35m\"/opt/hostedtoolcache/Python/3.13.7/x64/lib/python3.13/multiprocessing/resource_tracker.py\"\u001b[0m, line \u001b[35m295\u001b[0m, in \u001b[35mmain\u001b[0m\n",
      "    raise ValueError(\n",
      "        f'Cannot register {name} for automatic cleanup: '\n",
      "        f'unknown resource type {rtype}')\n",
      "\u001b[1;35mValueError\u001b[0m: \u001b[35mCannot register /dev/shm/joblib_memmapping_folder_2196_ecb83c039cce4aefb9c5d6586c794950_83ee59f85dc846719baac25f8830a4f1 for automatic cleanup: unknown resource type folder\u001b[0m\n",
      "Traceback (most recent call last):\n",
      "  File \u001b[35m\"/opt/hostedtoolcache/Python/3.13.7/x64/lib/python3.13/multiprocessing/resource_tracker.py\"\u001b[0m, line \u001b[35m295\u001b[0m, in \u001b[35mmain\u001b[0m\n",
      "    raise ValueError(\n",
      "        f'Cannot register {name} for automatic cleanup: '\n",
      "        f'unknown resource type {rtype}')\n",
      "\u001b[1;35mValueError\u001b[0m: \u001b[35mCannot register /dev/shm/joblib_memmapping_folder_2196_b3491d4793c54c2b805d4ce56703e198_0ad4bf93449a4e77b9925442cca70778 for automatic cleanup: unknown resource type folder\u001b[0m\n"
     ]
    },
    {
     "name": "stderr",
     "output_type": "stream",
     "text": [
      "\r",
      "Scraping 8 games on 12/09/24:  21%|██▏       | 39 of 182 days scraped in 186.5 sec"
     ]
    },
    {
     "name": "stderr",
     "output_type": "stream",
     "text": [
      "Traceback (most recent call last):\n",
      "  File \u001b[35m\"/opt/hostedtoolcache/Python/3.13.7/x64/lib/python3.13/multiprocessing/resource_tracker.py\"\u001b[0m, line \u001b[35m295\u001b[0m, in \u001b[35mmain\u001b[0m\n",
      "    raise ValueError(\n",
      "        f'Cannot register {name} for automatic cleanup: '\n",
      "        f'unknown resource type {rtype}')\n",
      "\u001b[1;35mValueError\u001b[0m: \u001b[35mCannot register /dev/shm/joblib_memmapping_folder_2196_b3491d4793c54c2b805d4ce56703e198_0ad4bf93449a4e77b9925442cca70778 for automatic cleanup: unknown resource type folder\u001b[0m\n"
     ]
    },
    {
     "name": "stderr",
     "output_type": "stream",
     "text": [
      "\r",
      "Scraping 37 games on 12/10/24:  21%|██▏       | 39 of 182 days scraped in 186.9 sec"
     ]
    },
    {
     "name": "stderr",
     "output_type": "stream",
     "text": [
      "Traceback (most recent call last):\n",
      "  File \u001b[35m\"/opt/hostedtoolcache/Python/3.13.7/x64/lib/python3.13/multiprocessing/resource_tracker.py\"\u001b[0m, line \u001b[35m295\u001b[0m, in \u001b[35mmain\u001b[0m\n",
      "    raise ValueError(\n",
      "        f'Cannot register {name} for automatic cleanup: '\n",
      "        f'unknown resource type {rtype}')\n",
      "\u001b[1;35mValueError\u001b[0m: \u001b[35mCannot register /dev/shm/joblib_memmapping_folder_2196_db083001264f40478c021f50c4d8ed76_0e9145d10afb470cbe3aff757b709486 for automatic cleanup: unknown resource type folder\u001b[0m\n",
      "Traceback (most recent call last):\n",
      "  File \u001b[35m\"/opt/hostedtoolcache/Python/3.13.7/x64/lib/python3.13/multiprocessing/resource_tracker.py\"\u001b[0m, line \u001b[35m295\u001b[0m, in \u001b[35mmain\u001b[0m\n",
      "    raise ValueError(\n",
      "        f'Cannot register {name} for automatic cleanup: '\n",
      "        f'unknown resource type {rtype}')\n",
      "\u001b[1;35mValueError\u001b[0m: \u001b[35mCannot register /dev/shm/joblib_memmapping_folder_2196_b3491d4793c54c2b805d4ce56703e198_e58f10ac4dcb41508ecc67bc3466b3ac for automatic cleanup: unknown resource type folder\u001b[0m\n"
     ]
    },
    {
     "name": "stderr",
     "output_type": "stream",
     "text": [
      "\r",
      "Scraping 37 games on 12/10/24:  22%|██▏       | 40 of 182 days scraped in 190.0 secTraceback (most recent call last):\n"
     ]
    },
    {
     "name": "stderr",
     "output_type": "stream",
     "text": [
      "  File \u001b[35m\"/opt/hostedtoolcache/Python/3.13.7/x64/lib/python3.13/multiprocessing/resource_tracker.py\"\u001b[0m, line \u001b[35m295\u001b[0m, in \u001b[35mmain\u001b[0m\n",
      "    raise ValueError(\n",
      "        f'Cannot register {name} for automatic cleanup: '\n",
      "        f'unknown resource type {rtype}')\n",
      "\u001b[1;35mValueError\u001b[0m: \u001b[35mCannot register /dev/shm/joblib_memmapping_folder_2196_b3491d4793c54c2b805d4ce56703e198_e58f10ac4dcb41508ecc67bc3466b3ac for automatic cleanup: unknown resource type folder\u001b[0m\n"
     ]
    },
    {
     "name": "stderr",
     "output_type": "stream",
     "text": [
      "\r",
      "Scraping 28 games on 12/11/24:  22%|██▏       | 40 of 182 days scraped in 190.4 sec"
     ]
    },
    {
     "name": "stderr",
     "output_type": "stream",
     "text": [
      "Traceback (most recent call last):\n",
      "  File \u001b[35m\"/opt/hostedtoolcache/Python/3.13.7/x64/lib/python3.13/multiprocessing/resource_tracker.py\"\u001b[0m, line \u001b[35m295\u001b[0m, in \u001b[35mmain\u001b[0m\n",
      "    raise ValueError(\n",
      "        f'Cannot register {name} for automatic cleanup: '\n",
      "        f'unknown resource type {rtype}')\n",
      "\u001b[1;35mValueError\u001b[0m: \u001b[35mCannot register /dev/shm/joblib_memmapping_folder_2196_aab6d936168f49eda3f526ab291a6521_e4a195e373e24c469fbcaacff633f009 for automatic cleanup: unknown resource type folder\u001b[0m\n",
      "Traceback (most recent call last):\n",
      "  File \u001b[35m\"/opt/hostedtoolcache/Python/3.13.7/x64/lib/python3.13/multiprocessing/resource_tracker.py\"\u001b[0m, line \u001b[35m295\u001b[0m, in \u001b[35mmain\u001b[0m\n",
      "    raise ValueError(\n",
      "        f'Cannot register {name} for automatic cleanup: '\n",
      "        f'unknown resource type {rtype}')\n",
      "\u001b[1;35mValueError\u001b[0m: \u001b[35mCannot register /dev/shm/joblib_memmapping_folder_2196_b3491d4793c54c2b805d4ce56703e198_1c6f1b53c0b64037b1ca7095402ee064 for automatic cleanup: unknown resource type folder\u001b[0m\n"
     ]
    },
    {
     "name": "stderr",
     "output_type": "stream",
     "text": [
      "\r",
      "Scraping 28 games on 12/11/24:  23%|██▎       | 41 of 182 days scraped in 192.6 sec"
     ]
    },
    {
     "name": "stderr",
     "output_type": "stream",
     "text": [
      "Traceback (most recent call last):\n",
      "  File \u001b[35m\"/opt/hostedtoolcache/Python/3.13.7/x64/lib/python3.13/multiprocessing/resource_tracker.py\"\u001b[0m, line \u001b[35m295\u001b[0m, in \u001b[35mmain\u001b[0m\n",
      "    raise ValueError(\n",
      "        f'Cannot register {name} for automatic cleanup: '\n",
      "        f'unknown resource type {rtype}')\n",
      "\u001b[1;35mValueError\u001b[0m: \u001b[35mCannot register /dev/shm/joblib_memmapping_folder_2196_b3491d4793c54c2b805d4ce56703e198_1c6f1b53c0b64037b1ca7095402ee064 for automatic cleanup: unknown resource type folder\u001b[0m\n"
     ]
    },
    {
     "name": "stderr",
     "output_type": "stream",
     "text": [
      "\r",
      "Scraping 10 games on 12/12/24:  23%|██▎       | 41 of 182 days scraped in 192.9 sec"
     ]
    },
    {
     "name": "stderr",
     "output_type": "stream",
     "text": [
      "Traceback (most recent call last):\n",
      "  File \u001b[35m\"/opt/hostedtoolcache/Python/3.13.7/x64/lib/python3.13/multiprocessing/resource_tracker.py\"\u001b[0m, line \u001b[35m295\u001b[0m, in \u001b[35mmain\u001b[0m\n",
      "    raise ValueError(\n",
      "        f'Cannot register {name} for automatic cleanup: '\n",
      "        f'unknown resource type {rtype}')\n",
      "\u001b[1;35mValueError\u001b[0m: \u001b[35mCannot register /dev/shm/joblib_memmapping_folder_2196_fb4f06192e38401a9ff9d0bd633b49fb_531fe6084dd94f1e87de4cec1e3d9029 for automatic cleanup: unknown resource type folder\u001b[0m\n",
      "Traceback (most recent call last):\n",
      "  File \u001b[35m\"/opt/hostedtoolcache/Python/3.13.7/x64/lib/python3.13/multiprocessing/resource_tracker.py\"\u001b[0m, line \u001b[35m295\u001b[0m, in \u001b[35mmain\u001b[0m\n",
      "    raise ValueError(\n",
      "        f'Cannot register {name} for automatic cleanup: '\n",
      "        f'unknown resource type {rtype}')\n",
      "\u001b[1;35mValueError\u001b[0m: \u001b[35mCannot register /dev/shm/joblib_memmapping_folder_2196_b3491d4793c54c2b805d4ce56703e198_4fbb743aa2404968a0901d95a7b984ed for automatic cleanup: unknown resource type folder\u001b[0m\n"
     ]
    },
    {
     "name": "stderr",
     "output_type": "stream",
     "text": [
      "\r",
      "Scraping 10 games on 12/12/24:  23%|██▎       | 42 of 182 days scraped in 193.8 secTraceback (most recent call last):\n"
     ]
    },
    {
     "name": "stderr",
     "output_type": "stream",
     "text": [
      "  File \u001b[35m\"/opt/hostedtoolcache/Python/3.13.7/x64/lib/python3.13/multiprocessing/resource_tracker.py\"\u001b[0m, line \u001b[35m295\u001b[0m, in \u001b[35mmain\u001b[0m\n",
      "    raise ValueError(\n",
      "        f'Cannot register {name} for automatic cleanup: '\n",
      "        f'unknown resource type {rtype}')\n",
      "\u001b[1;35mValueError\u001b[0m: \u001b[35mCannot register /dev/shm/joblib_memmapping_folder_2196_b3491d4793c54c2b805d4ce56703e198_4fbb743aa2404968a0901d95a7b984ed for automatic cleanup: unknown resource type folder\u001b[0m\n"
     ]
    },
    {
     "name": "stderr",
     "output_type": "stream",
     "text": [
      "\r",
      "Scraping 10 games on 12/13/24:  23%|██▎       | 42 of 182 days scraped in 194.1 sec"
     ]
    },
    {
     "name": "stderr",
     "output_type": "stream",
     "text": [
      "Traceback (most recent call last):\n",
      "  File \u001b[35m\"/opt/hostedtoolcache/Python/3.13.7/x64/lib/python3.13/multiprocessing/resource_tracker.py\"\u001b[0m, line \u001b[35m295\u001b[0m, in \u001b[35mmain\u001b[0m\n",
      "    raise ValueError(\n",
      "        f'Cannot register {name} for automatic cleanup: '\n",
      "        f'unknown resource type {rtype}')\n",
      "\u001b[1;35mValueError\u001b[0m: \u001b[35mCannot register /dev/shm/joblib_memmapping_folder_2196_dd40628e0a3e4304951c3acdcfb377b0_73445742262a4ade90d416b02e097e72 for automatic cleanup: unknown resource type folder\u001b[0m\n",
      "Traceback (most recent call last):\n",
      "  File \u001b[35m\"/opt/hostedtoolcache/Python/3.13.7/x64/lib/python3.13/multiprocessing/resource_tracker.py\"\u001b[0m, line \u001b[35m295\u001b[0m, in \u001b[35mmain\u001b[0m\n",
      "    raise ValueError(\n",
      "        f'Cannot register {name} for automatic cleanup: '\n",
      "        f'unknown resource type {rtype}')\n",
      "\u001b[1;35mValueError\u001b[0m: \u001b[35mCannot register /dev/shm/joblib_memmapping_folder_2196_b3491d4793c54c2b805d4ce56703e198_8ce23a0bbaf143bab97c098ff1baea4e for automatic cleanup: unknown resource type folder\u001b[0m\n"
     ]
    },
    {
     "name": "stderr",
     "output_type": "stream",
     "text": [
      "\r",
      "Scraping 10 games on 12/13/24:  24%|██▎       | 43 of 182 days scraped in 195.1 sec"
     ]
    },
    {
     "name": "stderr",
     "output_type": "stream",
     "text": [
      "Traceback (most recent call last):\n",
      "  File \u001b[35m\"/opt/hostedtoolcache/Python/3.13.7/x64/lib/python3.13/multiprocessing/resource_tracker.py\"\u001b[0m, line \u001b[35m295\u001b[0m, in \u001b[35mmain\u001b[0m\n",
      "    raise ValueError(\n",
      "        f'Cannot register {name} for automatic cleanup: '\n",
      "        f'unknown resource type {rtype}')\n",
      "\u001b[1;35mValueError\u001b[0m: \u001b[35mCannot register /dev/shm/joblib_memmapping_folder_2196_b3491d4793c54c2b805d4ce56703e198_8ce23a0bbaf143bab97c098ff1baea4e for automatic cleanup: unknown resource type folder\u001b[0m\n"
     ]
    },
    {
     "name": "stderr",
     "output_type": "stream",
     "text": [
      "\r",
      "Scraping 97 games on 12/14/24:  24%|██▎       | 43 of 182 days scraped in 196.0 sec"
     ]
    },
    {
     "name": "stderr",
     "output_type": "stream",
     "text": [
      "Traceback (most recent call last):\n",
      "  File \u001b[35m\"/opt/hostedtoolcache/Python/3.13.7/x64/lib/python3.13/multiprocessing/resource_tracker.py\"\u001b[0m, line \u001b[35m295\u001b[0m, in \u001b[35mmain\u001b[0m\n",
      "    raise ValueError(\n",
      "        f'Cannot register {name} for automatic cleanup: '\n",
      "        f'unknown resource type {rtype}')\n",
      "\u001b[1;35mValueError\u001b[0m: \u001b[35mCannot register /dev/shm/joblib_memmapping_folder_2196_610704619b7248d0b390317101155739_f07c0645760146509aeb7749929a6200 for automatic cleanup: unknown resource type folder\u001b[0m\n",
      "Traceback (most recent call last):\n",
      "  File \u001b[35m\"/opt/hostedtoolcache/Python/3.13.7/x64/lib/python3.13/multiprocessing/resource_tracker.py\"\u001b[0m, line \u001b[35m295\u001b[0m, in \u001b[35mmain\u001b[0m\n",
      "    raise ValueError(\n",
      "        f'Cannot register {name} for automatic cleanup: '\n",
      "        f'unknown resource type {rtype}')\n",
      "\u001b[1;35mValueError\u001b[0m: \u001b[35mCannot register /dev/shm/joblib_memmapping_folder_2196_b3491d4793c54c2b805d4ce56703e198_22324869676b438796405c48a12c487d for automatic cleanup: unknown resource type folder\u001b[0m\n"
     ]
    },
    {
     "name": "stderr",
     "output_type": "stream",
     "text": [
      "\r",
      "Scraping 97 games on 12/14/24:  24%|██▍       | 44 of 182 days scraped in 204.6 sec"
     ]
    },
    {
     "name": "stderr",
     "output_type": "stream",
     "text": [
      "Traceback (most recent call last):\n",
      "  File \u001b[35m\"/opt/hostedtoolcache/Python/3.13.7/x64/lib/python3.13/multiprocessing/resource_tracker.py\"\u001b[0m, line \u001b[35m295\u001b[0m, in \u001b[35mmain\u001b[0m\n",
      "    raise ValueError(\n",
      "        f'Cannot register {name} for automatic cleanup: '\n",
      "        f'unknown resource type {rtype}')\n",
      "\u001b[1;35mValueError\u001b[0m: \u001b[35mCannot register /dev/shm/joblib_memmapping_folder_2196_b3491d4793c54c2b805d4ce56703e198_22324869676b438796405c48a12c487d for automatic cleanup: unknown resource type folder\u001b[0m\n"
     ]
    },
    {
     "name": "stderr",
     "output_type": "stream",
     "text": [
      "\r",
      "Scraping 40 games on 12/15/24:  24%|██▍       | 44 of 182 days scraped in 205.1 sec"
     ]
    },
    {
     "name": "stderr",
     "output_type": "stream",
     "text": [
      "Traceback (most recent call last):\n",
      "  File \u001b[35m\"/opt/hostedtoolcache/Python/3.13.7/x64/lib/python3.13/multiprocessing/resource_tracker.py\"\u001b[0m, line \u001b[35m295\u001b[0m, in \u001b[35mmain\u001b[0m\n",
      "    raise ValueError(\n",
      "        f'Cannot register {name} for automatic cleanup: '\n",
      "        f'unknown resource type {rtype}')\n",
      "\u001b[1;35mValueError\u001b[0m: \u001b[35mCannot register /dev/shm/joblib_memmapping_folder_2196_e2394c804cac4e35ac8133bf5463bb9c_1124206aa8a446609f8d59342eae7965 for automatic cleanup: unknown resource type folder\u001b[0m\n",
      "Traceback (most recent call last):\n",
      "  File \u001b[35m\"/opt/hostedtoolcache/Python/3.13.7/x64/lib/python3.13/multiprocessing/resource_tracker.py\"\u001b[0m, line \u001b[35m295\u001b[0m, in \u001b[35mmain\u001b[0m\n",
      "    raise ValueError(\n",
      "        f'Cannot register {name} for automatic cleanup: '\n",
      "        f'unknown resource type {rtype}')\n",
      "\u001b[1;35mValueError\u001b[0m: \u001b[35mCannot register /dev/shm/joblib_memmapping_folder_2196_b3491d4793c54c2b805d4ce56703e198_bd5557c3e63a43cabb2a2df83e972de9 for automatic cleanup: unknown resource type folder\u001b[0m\n"
     ]
    },
    {
     "name": "stderr",
     "output_type": "stream",
     "text": [
      "\r",
      "Scraping 40 games on 12/15/24:  25%|██▍       | 45 of 182 days scraped in 208.6 secTraceback (most recent call last):\n"
     ]
    },
    {
     "name": "stderr",
     "output_type": "stream",
     "text": [
      "  File \u001b[35m\"/opt/hostedtoolcache/Python/3.13.7/x64/lib/python3.13/multiprocessing/resource_tracker.py\"\u001b[0m, line \u001b[35m295\u001b[0m, in \u001b[35mmain\u001b[0m\n",
      "    raise ValueError(\n",
      "        f'Cannot register {name} for automatic cleanup: '\n",
      "        f'unknown resource type {rtype}')\n",
      "\u001b[1;35mValueError\u001b[0m: \u001b[35mCannot register /dev/shm/joblib_memmapping_folder_2196_b3491d4793c54c2b805d4ce56703e198_bd5557c3e63a43cabb2a2df83e972de9 for automatic cleanup: unknown resource type folder\u001b[0m\n"
     ]
    },
    {
     "name": "stderr",
     "output_type": "stream",
     "text": [
      "\r",
      "Scraping 18 games on 12/16/24:  25%|██▍       | 45 of 182 days scraped in 208.9 sec"
     ]
    },
    {
     "name": "stderr",
     "output_type": "stream",
     "text": [
      "Traceback (most recent call last):\n",
      "  File \u001b[35m\"/opt/hostedtoolcache/Python/3.13.7/x64/lib/python3.13/multiprocessing/resource_tracker.py\"\u001b[0m, line \u001b[35m295\u001b[0m, in \u001b[35mmain\u001b[0m\n",
      "    raise ValueError(\n",
      "        f'Cannot register {name} for automatic cleanup: '\n",
      "        f'unknown resource type {rtype}')\n",
      "\u001b[1;35mValueError\u001b[0m: \u001b[35mCannot register /dev/shm/joblib_memmapping_folder_2196_6268b3a62f1d47b1b7a0db10ea1c4cc6_fe0359038201423ba50fc8f0f845d81b for automatic cleanup: unknown resource type folder\u001b[0m\n",
      "Traceback (most recent call last):\n",
      "  File \u001b[35m\"/opt/hostedtoolcache/Python/3.13.7/x64/lib/python3.13/multiprocessing/resource_tracker.py\"\u001b[0m, line \u001b[35m295\u001b[0m, in \u001b[35mmain\u001b[0m\n",
      "    raise ValueError(\n",
      "        f'Cannot register {name} for automatic cleanup: '\n",
      "        f'unknown resource type {rtype}')\n",
      "\u001b[1;35mValueError\u001b[0m: \u001b[35mCannot register /dev/shm/joblib_memmapping_folder_2196_b3491d4793c54c2b805d4ce56703e198_b125bf6685394550bb847122b287b3f2 for automatic cleanup: unknown resource type folder\u001b[0m\n"
     ]
    },
    {
     "name": "stderr",
     "output_type": "stream",
     "text": [
      "\r",
      "Scraping 18 games on 12/16/24:  25%|██▌       | 46 of 182 days scraped in 210.4 sec"
     ]
    },
    {
     "name": "stderr",
     "output_type": "stream",
     "text": [
      "Traceback (most recent call last):\n",
      "  File \u001b[35m\"/opt/hostedtoolcache/Python/3.13.7/x64/lib/python3.13/multiprocessing/resource_tracker.py\"\u001b[0m, line \u001b[35m295\u001b[0m, in \u001b[35mmain\u001b[0m\n",
      "    raise ValueError(\n",
      "        f'Cannot register {name} for automatic cleanup: '\n",
      "        f'unknown resource type {rtype}')\n",
      "\u001b[1;35mValueError\u001b[0m: \u001b[35mCannot register /dev/shm/joblib_memmapping_folder_2196_b3491d4793c54c2b805d4ce56703e198_b125bf6685394550bb847122b287b3f2 for automatic cleanup: unknown resource type folder\u001b[0m\n"
     ]
    },
    {
     "name": "stderr",
     "output_type": "stream",
     "text": [
      "\r",
      "Scraping 48 games on 12/17/24:  25%|██▌       | 46 of 182 days scraped in 211.1 sec"
     ]
    },
    {
     "name": "stderr",
     "output_type": "stream",
     "text": [
      "Traceback (most recent call last):\n",
      "  File \u001b[35m\"/opt/hostedtoolcache/Python/3.13.7/x64/lib/python3.13/multiprocessing/resource_tracker.py\"\u001b[0m, line \u001b[35m295\u001b[0m, in \u001b[35mmain\u001b[0m\n",
      "    raise ValueError(\n",
      "        f'Cannot register {name} for automatic cleanup: '\n",
      "        f'unknown resource type {rtype}')\n",
      "\u001b[1;35mValueError\u001b[0m: \u001b[35mCannot register /dev/shm/joblib_memmapping_folder_2196_f748b3537ce145bcbbb297eb9dfaf810_4f5ea967b55d4587bfd23b766067ca73 for automatic cleanup: unknown resource type folder\u001b[0m\n",
      "Traceback (most recent call last):\n",
      "  File \u001b[35m\"/opt/hostedtoolcache/Python/3.13.7/x64/lib/python3.13/multiprocessing/resource_tracker.py\"\u001b[0m, line \u001b[35m295\u001b[0m, in \u001b[35mmain\u001b[0m\n",
      "    raise ValueError(\n",
      "        f'Cannot register {name} for automatic cleanup: '\n",
      "        f'unknown resource type {rtype}')\n",
      "\u001b[1;35mValueError\u001b[0m: \u001b[35mCannot register /dev/shm/joblib_memmapping_folder_2196_b3491d4793c54c2b805d4ce56703e198_66551267c5254a329dbcdf4e71d29353 for automatic cleanup: unknown resource type folder\u001b[0m\n"
     ]
    },
    {
     "name": "stderr",
     "output_type": "stream",
     "text": [
      "\r",
      "Scraping 48 games on 12/17/24:  26%|██▌       | 47 of 182 days scraped in 215.1 secTraceback (most recent call last):\n"
     ]
    },
    {
     "name": "stderr",
     "output_type": "stream",
     "text": [
      "  File \u001b[35m\"/opt/hostedtoolcache/Python/3.13.7/x64/lib/python3.13/multiprocessing/resource_tracker.py\"\u001b[0m, line \u001b[35m295\u001b[0m, in \u001b[35mmain\u001b[0m\n",
      "    raise ValueError(\n",
      "        f'Cannot register {name} for automatic cleanup: '\n",
      "        f'unknown resource type {rtype}')\n",
      "\u001b[1;35mValueError\u001b[0m: \u001b[35mCannot register /dev/shm/joblib_memmapping_folder_2196_b3491d4793c54c2b805d4ce56703e198_66551267c5254a329dbcdf4e71d29353 for automatic cleanup: unknown resource type folder\u001b[0m\n"
     ]
    },
    {
     "name": "stderr",
     "output_type": "stream",
     "text": [
      "\r",
      "Scraping 64 games on 12/18/24:  26%|██▌       | 47 of 182 days scraped in 215.8 sec"
     ]
    },
    {
     "name": "stderr",
     "output_type": "stream",
     "text": [
      "Traceback (most recent call last):\n",
      "  File \u001b[35m\"/opt/hostedtoolcache/Python/3.13.7/x64/lib/python3.13/multiprocessing/resource_tracker.py\"\u001b[0m, line \u001b[35m295\u001b[0m, in \u001b[35mmain\u001b[0m\n",
      "    raise ValueError(\n",
      "        f'Cannot register {name} for automatic cleanup: '\n",
      "        f'unknown resource type {rtype}')\n",
      "\u001b[1;35mValueError\u001b[0m: \u001b[35mCannot register /dev/shm/joblib_memmapping_folder_2196_5d1fd1004f294b67ae62427a0ecc3ccc_f88b87f78c64410eaf8aa4e137698968 for automatic cleanup: unknown resource type folder\u001b[0m\n",
      "Traceback (most recent call last):\n",
      "  File \u001b[35m\"/opt/hostedtoolcache/Python/3.13.7/x64/lib/python3.13/multiprocessing/resource_tracker.py\"\u001b[0m, line \u001b[35m295\u001b[0m, in \u001b[35mmain\u001b[0m\n",
      "    raise ValueError(\n",
      "        f'Cannot register {name} for automatic cleanup: '\n",
      "        f'unknown resource type {rtype}')\n",
      "\u001b[1;35mValueError\u001b[0m: \u001b[35mCannot register /dev/shm/joblib_memmapping_folder_2196_b3491d4793c54c2b805d4ce56703e198_7b30b9b8973045a08ddaa7d49f604821 for automatic cleanup: unknown resource type folder\u001b[0m\n"
     ]
    },
    {
     "name": "stderr",
     "output_type": "stream",
     "text": [
      "\r",
      "Scraping 64 games on 12/18/24:  26%|██▋       | 48 of 182 days scraped in 221.5 sec"
     ]
    },
    {
     "name": "stderr",
     "output_type": "stream",
     "text": [
      "Traceback (most recent call last):\n",
      "  File \u001b[35m\"/opt/hostedtoolcache/Python/3.13.7/x64/lib/python3.13/multiprocessing/resource_tracker.py\"\u001b[0m, line \u001b[35m295\u001b[0m, in \u001b[35mmain\u001b[0m\n",
      "    raise ValueError(\n",
      "        f'Cannot register {name} for automatic cleanup: '\n",
      "        f'unknown resource type {rtype}')\n",
      "\u001b[1;35mValueError\u001b[0m: \u001b[35mCannot register /dev/shm/joblib_memmapping_folder_2196_b3491d4793c54c2b805d4ce56703e198_7b30b9b8973045a08ddaa7d49f604821 for automatic cleanup: unknown resource type folder\u001b[0m\n"
     ]
    },
    {
     "name": "stderr",
     "output_type": "stream",
     "text": [
      "\r",
      "Scraping 26 games on 12/19/24:  26%|██▋       | 48 of 182 days scraped in 221.9 sec"
     ]
    },
    {
     "name": "stderr",
     "output_type": "stream",
     "text": [
      "Traceback (most recent call last):\n",
      "  File \u001b[35m\"/opt/hostedtoolcache/Python/3.13.7/x64/lib/python3.13/multiprocessing/resource_tracker.py\"\u001b[0m, line \u001b[35m295\u001b[0m, in \u001b[35mmain\u001b[0m\n",
      "    raise ValueError(\n",
      "        f'Cannot register {name} for automatic cleanup: '\n",
      "        f'unknown resource type {rtype}')\n",
      "\u001b[1;35mValueError\u001b[0m: \u001b[35mCannot register /dev/shm/joblib_memmapping_folder_2196_4a3639e0cb0946f48c07ee5dd1e7f926_0fd21b1b22584e0695cc1f9ff1db4a22 for automatic cleanup: unknown resource type folder\u001b[0m\n",
      "Traceback (most recent call last):\n",
      "  File \u001b[35m\"/opt/hostedtoolcache/Python/3.13.7/x64/lib/python3.13/multiprocessing/resource_tracker.py\"\u001b[0m, line \u001b[35m295\u001b[0m, in \u001b[35mmain\u001b[0m\n",
      "    raise ValueError(\n",
      "        f'Cannot register {name} for automatic cleanup: '\n",
      "        f'unknown resource type {rtype}')\n",
      "\u001b[1;35mValueError\u001b[0m: \u001b[35mCannot register /dev/shm/joblib_memmapping_folder_2196_b3491d4793c54c2b805d4ce56703e198_5c930d7678b44369bdf78c6b69d26ad7 for automatic cleanup: unknown resource type folder\u001b[0m\n"
     ]
    },
    {
     "name": "stderr",
     "output_type": "stream",
     "text": [
      "\r",
      "Scraping 26 games on 12/19/24:  27%|██▋       | 49 of 182 days scraped in 224.2 sec"
     ]
    },
    {
     "name": "stderr",
     "output_type": "stream",
     "text": [
      "Traceback (most recent call last):\n",
      "  File \u001b[35m\"/opt/hostedtoolcache/Python/3.13.7/x64/lib/python3.13/multiprocessing/resource_tracker.py\"\u001b[0m, line \u001b[35m295\u001b[0m, in \u001b[35mmain\u001b[0m\n",
      "    raise ValueError(\n",
      "        f'Cannot register {name} for automatic cleanup: '\n",
      "        f'unknown resource type {rtype}')\n",
      "\u001b[1;35mValueError\u001b[0m: \u001b[35mCannot register /dev/shm/joblib_memmapping_folder_2196_b3491d4793c54c2b805d4ce56703e198_5c930d7678b44369bdf78c6b69d26ad7 for automatic cleanup: unknown resource type folder\u001b[0m\n"
     ]
    },
    {
     "name": "stderr",
     "output_type": "stream",
     "text": [
      "\r",
      "Scraping 23 games on 12/20/24:  27%|██▋       | 49 of 182 days scraped in 224.5 sec"
     ]
    },
    {
     "name": "stderr",
     "output_type": "stream",
     "text": [
      "Traceback (most recent call last):\n",
      "  File \u001b[35m\"/opt/hostedtoolcache/Python/3.13.7/x64/lib/python3.13/multiprocessing/resource_tracker.py\"\u001b[0m, line \u001b[35m295\u001b[0m, in \u001b[35mmain\u001b[0m\n",
      "    raise ValueError(\n",
      "        f'Cannot register {name} for automatic cleanup: '\n",
      "        f'unknown resource type {rtype}')\n",
      "\u001b[1;35mValueError\u001b[0m: \u001b[35mCannot register /dev/shm/joblib_memmapping_folder_2196_6b011a53d1444674b561868d99eb2dc1_ddd9b96e3a524773899ecdeefdb037c0 for automatic cleanup: unknown resource type folder\u001b[0m\n",
      "Traceback (most recent call last):\n",
      "  File \u001b[35m\"/opt/hostedtoolcache/Python/3.13.7/x64/lib/python3.13/multiprocessing/resource_tracker.py\"\u001b[0m, line \u001b[35m295\u001b[0m, in \u001b[35mmain\u001b[0m\n",
      "    raise ValueError(\n",
      "        f'Cannot register {name} for automatic cleanup: '\n",
      "        f'unknown resource type {rtype}')\n",
      "\u001b[1;35mValueError\u001b[0m: \u001b[35mCannot register /dev/shm/joblib_memmapping_folder_2196_b3491d4793c54c2b805d4ce56703e198_aba16b5d410b4364a83ddb1f10330d34 for automatic cleanup: unknown resource type folder\u001b[0m\n"
     ]
    },
    {
     "name": "stderr",
     "output_type": "stream",
     "text": [
      "\r",
      "Scraping 23 games on 12/20/24:  27%|██▋       | 50 of 182 days scraped in 226.5 sec"
     ]
    },
    {
     "name": "stderr",
     "output_type": "stream",
     "text": [
      "Traceback (most recent call last):\n",
      "  File \u001b[35m\"/opt/hostedtoolcache/Python/3.13.7/x64/lib/python3.13/multiprocessing/resource_tracker.py\"\u001b[0m, line \u001b[35m295\u001b[0m, in \u001b[35mmain\u001b[0m\n",
      "    raise ValueError(\n",
      "        f'Cannot register {name} for automatic cleanup: '\n",
      "        f'unknown resource type {rtype}')\n",
      "\u001b[1;35mValueError\u001b[0m: \u001b[35mCannot register /dev/shm/joblib_memmapping_folder_2196_b3491d4793c54c2b805d4ce56703e198_aba16b5d410b4364a83ddb1f10330d34 for automatic cleanup: unknown resource type folder\u001b[0m\n"
     ]
    },
    {
     "name": "stderr",
     "output_type": "stream",
     "text": [
      "\r",
      "Scraping 114 games on 12/21/24:  27%|██▋       | 50 of 182 days scraped in 227.4 sec"
     ]
    },
    {
     "name": "stderr",
     "output_type": "stream",
     "text": [
      "Traceback (most recent call last):\n",
      "  File \u001b[35m\"/opt/hostedtoolcache/Python/3.13.7/x64/lib/python3.13/multiprocessing/resource_tracker.py\"\u001b[0m, line \u001b[35m295\u001b[0m, in \u001b[35mmain\u001b[0m\n",
      "    raise ValueError(\n",
      "        f'Cannot register {name} for automatic cleanup: '\n",
      "        f'unknown resource type {rtype}')\n",
      "\u001b[1;35mValueError\u001b[0m: \u001b[35mCannot register /dev/shm/joblib_memmapping_folder_2196_416f616e1449442a8144e4baa59c3c4d_056db40c2748458dad60a8330896fe3c for automatic cleanup: unknown resource type folder\u001b[0m\n",
      "Traceback (most recent call last):\n",
      "  File \u001b[35m\"/opt/hostedtoolcache/Python/3.13.7/x64/lib/python3.13/multiprocessing/resource_tracker.py\"\u001b[0m, line \u001b[35m295\u001b[0m, in \u001b[35mmain\u001b[0m\n",
      "    raise ValueError(\n",
      "        f'Cannot register {name} for automatic cleanup: '\n",
      "        f'unknown resource type {rtype}')\n",
      "\u001b[1;35mValueError\u001b[0m: \u001b[35mCannot register /dev/shm/joblib_memmapping_folder_2196_b3491d4793c54c2b805d4ce56703e198_04a8300f79b64684a3c65228b201c537 for automatic cleanup: unknown resource type folder\u001b[0m\n"
     ]
    },
    {
     "name": "stderr",
     "output_type": "stream",
     "text": [
      "\r",
      "Scraping 114 games on 12/21/24:  28%|██▊       | 51 of 182 days scraped in 236.8 sec"
     ]
    },
    {
     "name": "stderr",
     "output_type": "stream",
     "text": [
      "Traceback (most recent call last):\n",
      "  File \u001b[35m\"/opt/hostedtoolcache/Python/3.13.7/x64/lib/python3.13/multiprocessing/resource_tracker.py\"\u001b[0m, line \u001b[35m295\u001b[0m, in \u001b[35mmain\u001b[0m\n",
      "    raise ValueError(\n",
      "        f'Cannot register {name} for automatic cleanup: '\n",
      "        f'unknown resource type {rtype}')\n",
      "\u001b[1;35mValueError\u001b[0m: \u001b[35mCannot register /dev/shm/joblib_memmapping_folder_2196_b3491d4793c54c2b805d4ce56703e198_04a8300f79b64684a3c65228b201c537 for automatic cleanup: unknown resource type folder\u001b[0m\n"
     ]
    },
    {
     "name": "stderr",
     "output_type": "stream",
     "text": [
      "\r",
      "Scraping 48 games on 12/22/24:  28%|██▊       | 51 of 182 days scraped in 237.3 sec "
     ]
    },
    {
     "name": "stderr",
     "output_type": "stream",
     "text": [
      "Traceback (most recent call last):\n",
      "  File \u001b[35m\"/opt/hostedtoolcache/Python/3.13.7/x64/lib/python3.13/multiprocessing/resource_tracker.py\"\u001b[0m, line \u001b[35m295\u001b[0m, in \u001b[35mmain\u001b[0m\n",
      "    raise ValueError(\n",
      "        f'Cannot register {name} for automatic cleanup: '\n",
      "        f'unknown resource type {rtype}')\n",
      "\u001b[1;35mValueError\u001b[0m: \u001b[35mCannot register /dev/shm/joblib_memmapping_folder_2196_c3ba2e030a9743c6955fc8ce9c9f04d0_b3136134aa914b0496093edd2a8fc7da for automatic cleanup: unknown resource type folder\u001b[0m\n",
      "Traceback (most recent call last):\n",
      "  File \u001b[35m\"/opt/hostedtoolcache/Python/3.13.7/x64/lib/python3.13/multiprocessing/resource_tracker.py\"\u001b[0m, line \u001b[35m295\u001b[0m, in \u001b[35mmain\u001b[0m\n",
      "    raise ValueError(\n",
      "        f'Cannot register {name} for automatic cleanup: '\n",
      "        f'unknown resource type {rtype}')\n",
      "\u001b[1;35mValueError\u001b[0m: \u001b[35mCannot register /dev/shm/joblib_memmapping_folder_2196_b3491d4793c54c2b805d4ce56703e198_a8d68e7d6f474c528e33efe0848fc99a for automatic cleanup: unknown resource type folder\u001b[0m\n"
     ]
    },
    {
     "name": "stderr",
     "output_type": "stream",
     "text": [
      "\r",
      "Scraping 48 games on 12/22/24:  29%|██▊       | 52 of 182 days scraped in 241.5 sec"
     ]
    },
    {
     "name": "stderr",
     "output_type": "stream",
     "text": [
      "Traceback (most recent call last):\n",
      "  File \u001b[35m\"/opt/hostedtoolcache/Python/3.13.7/x64/lib/python3.13/multiprocessing/resource_tracker.py\"\u001b[0m, line \u001b[35m295\u001b[0m, in \u001b[35mmain\u001b[0m\n",
      "    raise ValueError(\n",
      "        f'Cannot register {name} for automatic cleanup: '\n",
      "        f'unknown resource type {rtype}')\n",
      "\u001b[1;35mValueError\u001b[0m: \u001b[35mCannot register /dev/shm/joblib_memmapping_folder_2196_b3491d4793c54c2b805d4ce56703e198_a8d68e7d6f474c528e33efe0848fc99a for automatic cleanup: unknown resource type folder\u001b[0m\n"
     ]
    },
    {
     "name": "stderr",
     "output_type": "stream",
     "text": [
      "\r",
      "Scraping 9 games on 12/23/24:  29%|██▊       | 52 of 182 days scraped in 241.8 sec "
     ]
    },
    {
     "name": "stderr",
     "output_type": "stream",
     "text": [
      "Traceback (most recent call last):\n",
      "  File \u001b[35m\"/opt/hostedtoolcache/Python/3.13.7/x64/lib/python3.13/multiprocessing/resource_tracker.py\"\u001b[0m, line \u001b[35m295\u001b[0m, in \u001b[35mmain\u001b[0m\n",
      "    raise ValueError(\n",
      "        f'Cannot register {name} for automatic cleanup: '\n",
      "        f'unknown resource type {rtype}')\n",
      "\u001b[1;35mValueError\u001b[0m: \u001b[35mCannot register /dev/shm/joblib_memmapping_folder_2196_f2fda576d73f42968b880b0fbbffdade_60ca90aa69c440d4add277094d49b024 for automatic cleanup: unknown resource type folder\u001b[0m\n",
      "Traceback (most recent call last):\n",
      "  File \u001b[35m\"/opt/hostedtoolcache/Python/3.13.7/x64/lib/python3.13/multiprocessing/resource_tracker.py\"\u001b[0m, line \u001b[35m295\u001b[0m, in \u001b[35mmain\u001b[0m\n",
      "    raise ValueError(\n",
      "        f'Cannot register {name} for automatic cleanup: '\n",
      "        f'unknown resource type {rtype}')\n",
      "\u001b[1;35mValueError\u001b[0m: \u001b[35mCannot register /dev/shm/joblib_memmapping_folder_2196_b3491d4793c54c2b805d4ce56703e198_c01ec1f36c354d1d852652e85499155a for automatic cleanup: unknown resource type folder\u001b[0m\n"
     ]
    },
    {
     "name": "stderr",
     "output_type": "stream",
     "text": [
      "\r",
      "Scraping 9 games on 12/23/24:  29%|██▉       | 53 of 182 days scraped in 242.6 secTraceback (most recent call last):\n"
     ]
    },
    {
     "name": "stderr",
     "output_type": "stream",
     "text": [
      "  File \u001b[35m\"/opt/hostedtoolcache/Python/3.13.7/x64/lib/python3.13/multiprocessing/resource_tracker.py\"\u001b[0m, line \u001b[35m295\u001b[0m, in \u001b[35mmain\u001b[0m\n",
      "    raise ValueError(\n",
      "        f'Cannot register {name} for automatic cleanup: '\n",
      "        f'unknown resource type {rtype}')\n",
      "\u001b[1;35mValueError\u001b[0m: \u001b[35mCannot register /dev/shm/joblib_memmapping_folder_2196_b3491d4793c54c2b805d4ce56703e198_c01ec1f36c354d1d852652e85499155a for automatic cleanup: unknown resource type folder\u001b[0m\n"
     ]
    },
    {
     "name": "stderr",
     "output_type": "stream",
     "text": [
      "\r",
      "Scraping 0 games on 12/24/24:  29%|██▉       | 53 of 182 days scraped in 242.8 sec"
     ]
    },
    {
     "name": "stderr",
     "output_type": "stream",
     "text": [
      "\r",
      "No games on 12/24/24:  30%|██▉       | 54 of 182 days scraped in 242.8 sec        "
     ]
    },
    {
     "name": "stderr",
     "output_type": "stream",
     "text": [
      "\r",
      "Scraping 4 games on 12/25/24:  30%|██▉       | 54 of 182 days scraped in 243.1 sec"
     ]
    },
    {
     "name": "stderr",
     "output_type": "stream",
     "text": [
      "Traceback (most recent call last):\n",
      "  File \u001b[35m\"/opt/hostedtoolcache/Python/3.13.7/x64/lib/python3.13/multiprocessing/resource_tracker.py\"\u001b[0m, line \u001b[35m295\u001b[0m, in \u001b[35mmain\u001b[0m\n",
      "    raise ValueError(\n",
      "        f'Cannot register {name} for automatic cleanup: '\n",
      "        f'unknown resource type {rtype}')\n",
      "\u001b[1;35mValueError\u001b[0m: \u001b[35mCannot register /dev/shm/joblib_memmapping_folder_2196_673ebdd39be646c9bd3a53009ab08747_1c1359a4bf734e7e9ebd76d46867a10d for automatic cleanup: unknown resource type folder\u001b[0m\n",
      "Traceback (most recent call last):\n",
      "  File \u001b[35m\"/opt/hostedtoolcache/Python/3.13.7/x64/lib/python3.13/multiprocessing/resource_tracker.py\"\u001b[0m, line \u001b[35m295\u001b[0m, in \u001b[35mmain\u001b[0m\n",
      "    raise ValueError(\n",
      "        f'Cannot register {name} for automatic cleanup: '\n",
      "        f'unknown resource type {rtype}')\n",
      "\u001b[1;35mValueError\u001b[0m: \u001b[35mCannot register /dev/shm/joblib_memmapping_folder_2196_b3491d4793c54c2b805d4ce56703e198_a71d7e1a429c4eb1b2987db538ebf14a for automatic cleanup: unknown resource type folder\u001b[0m\n"
     ]
    },
    {
     "name": "stderr",
     "output_type": "stream",
     "text": [
      "\r",
      "Scraping 4 games on 12/25/24:  30%|███       | 55 of 182 days scraped in 243.5 secTraceback (most recent call last):\n"
     ]
    },
    {
     "name": "stderr",
     "output_type": "stream",
     "text": [
      "  File \u001b[35m\"/opt/hostedtoolcache/Python/3.13.7/x64/lib/python3.13/multiprocessing/resource_tracker.py\"\u001b[0m, line \u001b[35m295\u001b[0m, in \u001b[35mmain\u001b[0m\n",
      "    raise ValueError(\n",
      "        f'Cannot register {name} for automatic cleanup: '\n",
      "        f'unknown resource type {rtype}')\n",
      "\u001b[1;35mValueError\u001b[0m: \u001b[35mCannot register /dev/shm/joblib_memmapping_folder_2196_b3491d4793c54c2b805d4ce56703e198_a71d7e1a429c4eb1b2987db538ebf14a for automatic cleanup: unknown resource type folder\u001b[0m\n"
     ]
    },
    {
     "name": "stderr",
     "output_type": "stream",
     "text": [
      "\r",
      "Scraping 0 games on 12/26/24:  30%|███       | 55 of 182 days scraped in 243.8 sec"
     ]
    },
    {
     "name": "stderr",
     "output_type": "stream",
     "text": [
      "\r",
      "No games on 12/26/24:  31%|███       | 56 of 182 days scraped in 243.8 sec        "
     ]
    },
    {
     "name": "stderr",
     "output_type": "stream",
     "text": [
      "\r",
      "Scraping 2 games on 12/27/24:  31%|███       | 56 of 182 days scraped in 244.0 sec"
     ]
    },
    {
     "name": "stderr",
     "output_type": "stream",
     "text": [
      "Traceback (most recent call last):\n",
      "  File \u001b[35m\"/opt/hostedtoolcache/Python/3.13.7/x64/lib/python3.13/multiprocessing/resource_tracker.py\"\u001b[0m, line \u001b[35m295\u001b[0m, in \u001b[35mmain\u001b[0m\n",
      "    raise ValueError(\n",
      "        f'Cannot register {name} for automatic cleanup: '\n",
      "        f'unknown resource type {rtype}')\n",
      "\u001b[1;35mValueError\u001b[0m: \u001b[35mCannot register /dev/shm/joblib_memmapping_folder_2196_331cb0999dbf448d990fc199d9eff157_c05f382c30894043960040335f700797 for automatic cleanup: unknown resource type folder\u001b[0m\n",
      "Traceback (most recent call last):\n",
      "  File \u001b[35m\"/opt/hostedtoolcache/Python/3.13.7/x64/lib/python3.13/multiprocessing/resource_tracker.py\"\u001b[0m, line \u001b[35m295\u001b[0m, in \u001b[35mmain\u001b[0m\n",
      "    raise ValueError(\n",
      "        f'Cannot register {name} for automatic cleanup: '\n",
      "        f'unknown resource type {rtype}')\n",
      "\u001b[1;35mValueError\u001b[0m: \u001b[35mCannot register /dev/shm/joblib_memmapping_folder_2196_b3491d4793c54c2b805d4ce56703e198_c823a4047aad4a99804cebcee3d4a89a for automatic cleanup: unknown resource type folder\u001b[0m\n"
     ]
    },
    {
     "name": "stderr",
     "output_type": "stream",
     "text": [
      "\r",
      "Scraping 2 games on 12/27/24:  31%|███▏      | 57 of 182 days scraped in 244.3 sec"
     ]
    },
    {
     "name": "stderr",
     "output_type": "stream",
     "text": [
      "Traceback (most recent call last):\n",
      "  File \u001b[35m\"/opt/hostedtoolcache/Python/3.13.7/x64/lib/python3.13/multiprocessing/resource_tracker.py\"\u001b[0m, line \u001b[35m295\u001b[0m, in \u001b[35mmain\u001b[0m\n",
      "    raise ValueError(\n",
      "        f'Cannot register {name} for automatic cleanup: '\n",
      "        f'unknown resource type {rtype}')\n",
      "\u001b[1;35mValueError\u001b[0m: \u001b[35mCannot register /dev/shm/joblib_memmapping_folder_2196_b3491d4793c54c2b805d4ce56703e198_c823a4047aad4a99804cebcee3d4a89a for automatic cleanup: unknown resource type folder\u001b[0m\n"
     ]
    },
    {
     "name": "stderr",
     "output_type": "stream",
     "text": [
      "\r",
      "Scraping 53 games on 12/28/24:  31%|███▏      | 57 of 182 days scraped in 244.8 sec"
     ]
    },
    {
     "name": "stderr",
     "output_type": "stream",
     "text": [
      "Traceback (most recent call last):\n",
      "  File \u001b[35m\"/opt/hostedtoolcache/Python/3.13.7/x64/lib/python3.13/multiprocessing/resource_tracker.py\"\u001b[0m, line \u001b[35m295\u001b[0m, in \u001b[35mmain\u001b[0m\n",
      "    raise ValueError(\n",
      "        f'Cannot register {name} for automatic cleanup: '\n",
      "        f'unknown resource type {rtype}')\n",
      "\u001b[1;35mValueError\u001b[0m: \u001b[35mCannot register /dev/shm/joblib_memmapping_folder_2196_337b70885fc94e9493149453a25407d6_a60d12bf884b4231be4eeefbd736ed85 for automatic cleanup: unknown resource type folder\u001b[0m\n",
      "Traceback (most recent call last):\n",
      "  File \u001b[35m\"/opt/hostedtoolcache/Python/3.13.7/x64/lib/python3.13/multiprocessing/resource_tracker.py\"\u001b[0m, line \u001b[35m295\u001b[0m, in \u001b[35mmain\u001b[0m\n",
      "    raise ValueError(\n",
      "        f'Cannot register {name} for automatic cleanup: '\n",
      "        f'unknown resource type {rtype}')\n",
      "\u001b[1;35mValueError\u001b[0m: \u001b[35mCannot register /dev/shm/joblib_memmapping_folder_2196_b3491d4793c54c2b805d4ce56703e198_5ba7a45dfff6460e9881b5937b090767 for automatic cleanup: unknown resource type folder\u001b[0m\n"
     ]
    },
    {
     "name": "stderr",
     "output_type": "stream",
     "text": [
      "\r",
      "Scraping 53 games on 12/28/24:  32%|███▏      | 58 of 182 days scraped in 249.3 sec"
     ]
    },
    {
     "name": "stderr",
     "output_type": "stream",
     "text": [
      "Traceback (most recent call last):\n",
      "  File \u001b[35m\"/opt/hostedtoolcache/Python/3.13.7/x64/lib/python3.13/multiprocessing/resource_tracker.py\"\u001b[0m, line \u001b[35m295\u001b[0m, in \u001b[35mmain\u001b[0m\n",
      "    raise ValueError(\n",
      "        f'Cannot register {name} for automatic cleanup: '\n",
      "        f'unknown resource type {rtype}')\n",
      "\u001b[1;35mValueError\u001b[0m: \u001b[35mCannot register /dev/shm/joblib_memmapping_folder_2196_b3491d4793c54c2b805d4ce56703e198_5ba7a45dfff6460e9881b5937b090767 for automatic cleanup: unknown resource type folder\u001b[0m\n"
     ]
    },
    {
     "name": "stderr",
     "output_type": "stream",
     "text": [
      "\r",
      "Scraping 60 games on 12/29/24:  32%|███▏      | 58 of 182 days scraped in 250.1 sec"
     ]
    },
    {
     "name": "stderr",
     "output_type": "stream",
     "text": [
      "Traceback (most recent call last):\n",
      "  File \u001b[35m\"/opt/hostedtoolcache/Python/3.13.7/x64/lib/python3.13/multiprocessing/resource_tracker.py\"\u001b[0m, line \u001b[35m295\u001b[0m, in \u001b[35mmain\u001b[0m\n",
      "    raise ValueError(\n",
      "        f'Cannot register {name} for automatic cleanup: '\n",
      "        f'unknown resource type {rtype}')\n",
      "\u001b[1;35mValueError\u001b[0m: \u001b[35mCannot register /dev/shm/joblib_memmapping_folder_2196_05b13d5047634bbdaaaf672bf7a160cd_aa435c45183b44d0b7d56c148d6a99a1 for automatic cleanup: unknown resource type folder\u001b[0m\n",
      "Traceback (most recent call last):\n",
      "  File \u001b[35m\"/opt/hostedtoolcache/Python/3.13.7/x64/lib/python3.13/multiprocessing/resource_tracker.py\"\u001b[0m, line \u001b[35m295\u001b[0m, in \u001b[35mmain\u001b[0m\n",
      "    raise ValueError(\n",
      "        f'Cannot register {name} for automatic cleanup: '\n",
      "        f'unknown resource type {rtype}')\n",
      "\u001b[1;35mValueError\u001b[0m: \u001b[35mCannot register /dev/shm/joblib_memmapping_folder_2196_b3491d4793c54c2b805d4ce56703e198_90c40e69589d419fa167d3ea35ae0730 for automatic cleanup: unknown resource type folder\u001b[0m\n"
     ]
    },
    {
     "name": "stderr",
     "output_type": "stream",
     "text": [
      "\r",
      "Scraping 60 games on 12/29/24:  32%|███▏      | 59 of 182 days scraped in 255.0 secTraceback (most recent call last):\n"
     ]
    },
    {
     "name": "stderr",
     "output_type": "stream",
     "text": [
      "  File \u001b[35m\"/opt/hostedtoolcache/Python/3.13.7/x64/lib/python3.13/multiprocessing/resource_tracker.py\"\u001b[0m, line \u001b[35m295\u001b[0m, in \u001b[35mmain\u001b[0m\n",
      "    raise ValueError(\n",
      "        f'Cannot register {name} for automatic cleanup: '\n",
      "        f'unknown resource type {rtype}')\n",
      "\u001b[1;35mValueError\u001b[0m: \u001b[35mCannot register /dev/shm/joblib_memmapping_folder_2196_b3491d4793c54c2b805d4ce56703e198_90c40e69589d419fa167d3ea35ae0730 for automatic cleanup: unknown resource type folder\u001b[0m\n"
     ]
    },
    {
     "name": "stderr",
     "output_type": "stream",
     "text": [
      "\r",
      "Scraping 43 games on 12/30/24:  32%|███▏      | 59 of 182 days scraped in 255.5 sec"
     ]
    },
    {
     "name": "stderr",
     "output_type": "stream",
     "text": [
      "Traceback (most recent call last):\n",
      "  File \u001b[35m\"/opt/hostedtoolcache/Python/3.13.7/x64/lib/python3.13/multiprocessing/resource_tracker.py\"\u001b[0m, line \u001b[35m295\u001b[0m, in \u001b[35mmain\u001b[0m\n",
      "    raise ValueError(\n",
      "        f'Cannot register {name} for automatic cleanup: '\n",
      "        f'unknown resource type {rtype}')\n",
      "\u001b[1;35mValueError\u001b[0m: \u001b[35mCannot register /dev/shm/joblib_memmapping_folder_2196_0d9dd3458c8540c183c8ecf6be140b3d_0c8d1762ab3f4779907c6cf63e6707a1 for automatic cleanup: unknown resource type folder\u001b[0m\n",
      "Traceback (most recent call last):\n",
      "  File \u001b[35m\"/opt/hostedtoolcache/Python/3.13.7/x64/lib/python3.13/multiprocessing/resource_tracker.py\"\u001b[0m, line \u001b[35m295\u001b[0m, in \u001b[35mmain\u001b[0m\n",
      "    raise ValueError(\n",
      "        f'Cannot register {name} for automatic cleanup: '\n",
      "        f'unknown resource type {rtype}')\n",
      "\u001b[1;35mValueError\u001b[0m: \u001b[35mCannot register /dev/shm/joblib_memmapping_folder_2196_b3491d4793c54c2b805d4ce56703e198_78789723f7164c41bf78e081de951b97 for automatic cleanup: unknown resource type folder\u001b[0m\n"
     ]
    },
    {
     "name": "stderr",
     "output_type": "stream",
     "text": [
      "\r",
      "Scraping 43 games on 12/30/24:  33%|███▎      | 60 of 182 days scraped in 259.2 sec"
     ]
    },
    {
     "name": "stderr",
     "output_type": "stream",
     "text": [
      "Traceback (most recent call last):\n",
      "  File \u001b[35m\"/opt/hostedtoolcache/Python/3.13.7/x64/lib/python3.13/multiprocessing/resource_tracker.py\"\u001b[0m, line \u001b[35m295\u001b[0m, in \u001b[35mmain\u001b[0m\n",
      "    raise ValueError(\n",
      "        f'Cannot register {name} for automatic cleanup: '\n",
      "        f'unknown resource type {rtype}')\n",
      "\u001b[1;35mValueError\u001b[0m: \u001b[35mCannot register /dev/shm/joblib_memmapping_folder_2196_b3491d4793c54c2b805d4ce56703e198_78789723f7164c41bf78e081de951b97 for automatic cleanup: unknown resource type folder\u001b[0m\n"
     ]
    },
    {
     "name": "stderr",
     "output_type": "stream",
     "text": [
      "\r",
      "Scraping 33 games on 12/31/24:  33%|███▎      | 60 of 182 days scraped in 259.7 sec"
     ]
    },
    {
     "name": "stderr",
     "output_type": "stream",
     "text": [
      "Traceback (most recent call last):\n",
      "  File \u001b[35m\"/opt/hostedtoolcache/Python/3.13.7/x64/lib/python3.13/multiprocessing/resource_tracker.py\"\u001b[0m, line \u001b[35m295\u001b[0m, in \u001b[35mmain\u001b[0m\n",
      "    raise ValueError(\n",
      "        f'Cannot register {name} for automatic cleanup: '\n",
      "        f'unknown resource type {rtype}')\n",
      "\u001b[1;35mValueError\u001b[0m: \u001b[35mCannot register /dev/shm/joblib_memmapping_folder_2196_ee15844d1fc64f618f97d67692af7778_260e8ab8710a477e83bdee29dc05a191 for automatic cleanup: unknown resource type folder\u001b[0m\n",
      "Traceback (most recent call last):\n",
      "  File \u001b[35m\"/opt/hostedtoolcache/Python/3.13.7/x64/lib/python3.13/multiprocessing/resource_tracker.py\"\u001b[0m, line \u001b[35m295\u001b[0m, in \u001b[35mmain\u001b[0m\n",
      "    raise ValueError(\n",
      "        f'Cannot register {name} for automatic cleanup: '\n",
      "        f'unknown resource type {rtype}')\n",
      "\u001b[1;35mValueError\u001b[0m: \u001b[35mCannot register /dev/shm/joblib_memmapping_folder_2196_b3491d4793c54c2b805d4ce56703e198_42a475c3e36a42b98b5fd235c8df9cab for automatic cleanup: unknown resource type folder\u001b[0m\n"
     ]
    },
    {
     "name": "stderr",
     "output_type": "stream",
     "text": [
      "\r",
      "Scraping 33 games on 12/31/24:  34%|███▎      | 61 of 182 days scraped in 262.6 sec"
     ]
    },
    {
     "name": "stderr",
     "output_type": "stream",
     "text": [
      "Traceback (most recent call last):\n",
      "  File \u001b[35m\"/opt/hostedtoolcache/Python/3.13.7/x64/lib/python3.13/multiprocessing/resource_tracker.py\"\u001b[0m, line \u001b[35m295\u001b[0m, in \u001b[35mmain\u001b[0m\n",
      "    raise ValueError(\n",
      "        f'Cannot register {name} for automatic cleanup: '\n",
      "        f'unknown resource type {rtype}')\n",
      "\u001b[1;35mValueError\u001b[0m: \u001b[35mCannot register /dev/shm/joblib_memmapping_folder_2196_b3491d4793c54c2b805d4ce56703e198_42a475c3e36a42b98b5fd235c8df9cab for automatic cleanup: unknown resource type folder\u001b[0m\n"
     ]
    },
    {
     "name": "stderr",
     "output_type": "stream",
     "text": [
      "\r",
      "Scraping 21 games on 01/01/25:  34%|███▎      | 61 of 182 days scraped in 263.0 sec"
     ]
    },
    {
     "name": "stderr",
     "output_type": "stream",
     "text": [
      "Traceback (most recent call last):\n",
      "  File \u001b[35m\"/opt/hostedtoolcache/Python/3.13.7/x64/lib/python3.13/multiprocessing/resource_tracker.py\"\u001b[0m, line \u001b[35m295\u001b[0m, in \u001b[35mmain\u001b[0m\n",
      "    raise ValueError(\n",
      "        f'Cannot register {name} for automatic cleanup: '\n",
      "        f'unknown resource type {rtype}')\n",
      "\u001b[1;35mValueError\u001b[0m: \u001b[35mCannot register /dev/shm/joblib_memmapping_folder_2196_c8744ab8ce0548a2a88615e554f7cd19_290dc5b3ee764861ad76e66c93037836 for automatic cleanup: unknown resource type folder\u001b[0m\n",
      "Traceback (most recent call last):\n",
      "  File \u001b[35m\"/opt/hostedtoolcache/Python/3.13.7/x64/lib/python3.13/multiprocessing/resource_tracker.py\"\u001b[0m, line \u001b[35m295\u001b[0m, in \u001b[35mmain\u001b[0m\n",
      "    raise ValueError(\n",
      "        f'Cannot register {name} for automatic cleanup: '\n",
      "        f'unknown resource type {rtype}')\n",
      "\u001b[1;35mValueError\u001b[0m: \u001b[35mCannot register /dev/shm/joblib_memmapping_folder_2196_b3491d4793c54c2b805d4ce56703e198_77ca5b877b914ec4b2c7764e9d53f55b for automatic cleanup: unknown resource type folder\u001b[0m\n"
     ]
    },
    {
     "name": "stderr",
     "output_type": "stream",
     "text": [
      "\r",
      "Scraping 21 games on 01/01/25:  34%|███▍      | 62 of 182 days scraped in 264.8 secTraceback (most recent call last):\n"
     ]
    },
    {
     "name": "stderr",
     "output_type": "stream",
     "text": [
      "  File \u001b[35m\"/opt/hostedtoolcache/Python/3.13.7/x64/lib/python3.13/multiprocessing/resource_tracker.py\"\u001b[0m, line \u001b[35m295\u001b[0m, in \u001b[35mmain\u001b[0m\n",
      "    raise ValueError(\n",
      "        f'Cannot register {name} for automatic cleanup: '\n",
      "        f'unknown resource type {rtype}')\n",
      "\u001b[1;35mValueError\u001b[0m: \u001b[35mCannot register /dev/shm/joblib_memmapping_folder_2196_b3491d4793c54c2b805d4ce56703e198_77ca5b877b914ec4b2c7764e9d53f55b for automatic cleanup: unknown resource type folder\u001b[0m\n"
     ]
    },
    {
     "name": "stderr",
     "output_type": "stream",
     "text": [
      "\r",
      "Scraping 66 games on 01/02/25:  34%|███▍      | 62 of 182 days scraped in 265.5 sec"
     ]
    },
    {
     "name": "stderr",
     "output_type": "stream",
     "text": [
      "Traceback (most recent call last):\n",
      "  File \u001b[35m\"/opt/hostedtoolcache/Python/3.13.7/x64/lib/python3.13/multiprocessing/resource_tracker.py\"\u001b[0m, line \u001b[35m295\u001b[0m, in \u001b[35mmain\u001b[0m\n",
      "    raise ValueError(\n",
      "        f'Cannot register {name} for automatic cleanup: '\n",
      "        f'unknown resource type {rtype}')\n",
      "\u001b[1;35mValueError\u001b[0m: \u001b[35mCannot register /dev/shm/joblib_memmapping_folder_2196_4d6091a6d6e146f487709c040d7bda28_571f970596c7423fbdc94cd7e71f9770 for automatic cleanup: unknown resource type folder\u001b[0m\n",
      "Traceback (most recent call last):\n",
      "  File \u001b[35m\"/opt/hostedtoolcache/Python/3.13.7/x64/lib/python3.13/multiprocessing/resource_tracker.py\"\u001b[0m, line \u001b[35m295\u001b[0m, in \u001b[35mmain\u001b[0m\n",
      "    raise ValueError(\n",
      "        f'Cannot register {name} for automatic cleanup: '\n",
      "        f'unknown resource type {rtype}')\n",
      "\u001b[1;35mValueError\u001b[0m: \u001b[35mCannot register /dev/shm/joblib_memmapping_folder_2196_b3491d4793c54c2b805d4ce56703e198_690d312a4801483fbe6b6741767dfa78 for automatic cleanup: unknown resource type folder\u001b[0m\n"
     ]
    },
    {
     "name": "stderr",
     "output_type": "stream",
     "text": [
      "\r",
      "Scraping 66 games on 01/02/25:  35%|███▍      | 63 of 182 days scraped in 271.0 sec"
     ]
    },
    {
     "name": "stderr",
     "output_type": "stream",
     "text": [
      "Traceback (most recent call last):\n",
      "  File \u001b[35m\"/opt/hostedtoolcache/Python/3.13.7/x64/lib/python3.13/multiprocessing/resource_tracker.py\"\u001b[0m, line \u001b[35m295\u001b[0m, in \u001b[35mmain\u001b[0m\n",
      "    raise ValueError(\n",
      "        f'Cannot register {name} for automatic cleanup: '\n",
      "        f'unknown resource type {rtype}')\n",
      "\u001b[1;35mValueError\u001b[0m: \u001b[35mCannot register /dev/shm/joblib_memmapping_folder_2196_b3491d4793c54c2b805d4ce56703e198_690d312a4801483fbe6b6741767dfa78 for automatic cleanup: unknown resource type folder\u001b[0m\n"
     ]
    },
    {
     "name": "stderr",
     "output_type": "stream",
     "text": [
      "\r",
      "Scraping 16 games on 01/03/25:  35%|███▍      | 63 of 182 days scraped in 271.4 sec"
     ]
    },
    {
     "name": "stderr",
     "output_type": "stream",
     "text": [
      "Traceback (most recent call last):\n",
      "  File \u001b[35m\"/opt/hostedtoolcache/Python/3.13.7/x64/lib/python3.13/multiprocessing/resource_tracker.py\"\u001b[0m, line \u001b[35m295\u001b[0m, in \u001b[35mmain\u001b[0m\n",
      "    raise ValueError(\n",
      "        f'Cannot register {name} for automatic cleanup: '\n",
      "        f'unknown resource type {rtype}')\n",
      "\u001b[1;35mValueError\u001b[0m: \u001b[35mCannot register /dev/shm/joblib_memmapping_folder_2196_cb2113780ba64f8c863374348e534b13_de0bb4f4df96444e88579c6de59c9eff for automatic cleanup: unknown resource type folder\u001b[0m\n",
      "Traceback (most recent call last):\n",
      "  File \u001b[35m\"/opt/hostedtoolcache/Python/3.13.7/x64/lib/python3.13/multiprocessing/resource_tracker.py\"\u001b[0m, line \u001b[35m295\u001b[0m, in \u001b[35mmain\u001b[0m\n",
      "    raise ValueError(\n",
      "        f'Cannot register {name} for automatic cleanup: '\n",
      "        f'unknown resource type {rtype}')\n",
      "\u001b[1;35mValueError\u001b[0m: \u001b[35mCannot register /dev/shm/joblib_memmapping_folder_2196_b3491d4793c54c2b805d4ce56703e198_39b96c0258ea447d83516734066ab5cd for automatic cleanup: unknown resource type folder\u001b[0m\n"
     ]
    },
    {
     "name": "stderr",
     "output_type": "stream",
     "text": [
      "\r",
      "Scraping 16 games on 01/03/25:  35%|███▌      | 64 of 182 days scraped in 272.7 secTraceback (most recent call last):\n",
      "  File \u001b[35m\"/opt/hostedtoolcache/Python/3.13.7/x64/lib/python3.13/multiprocessing/resource_tracker.py\"\u001b[0m, line \u001b[35m295\u001b[0m, in \u001b[35mmain\u001b[0m\n",
      "    raise ValueError(\n",
      "        f'Cannot register {name} for automatic cleanup: '\n",
      "        f'unknown resource type {rtype}')\n",
      "\u001b[1;35mValueError\u001b[0m: \u001b[35mCannot register /dev/shm/joblib_memmapping_folder_2196_b3491d4793c54c2b805d4ce56703e198_39b96c0258ea447d83516734066ab5cd for automatic cleanup: unknown resource type folder\u001b[0m\n"
     ]
    },
    {
     "name": "stderr",
     "output_type": "stream",
     "text": [
      "\r",
      "Scraping 139 games on 01/04/25:  35%|███▌      | 64 of 182 days scraped in 273.9 sec"
     ]
    },
    {
     "name": "stderr",
     "output_type": "stream",
     "text": [
      "Traceback (most recent call last):\n",
      "  File \u001b[35m\"/opt/hostedtoolcache/Python/3.13.7/x64/lib/python3.13/multiprocessing/resource_tracker.py\"\u001b[0m, line \u001b[35m295\u001b[0m, in \u001b[35mmain\u001b[0m\n",
      "    raise ValueError(\n",
      "        f'Cannot register {name} for automatic cleanup: '\n",
      "        f'unknown resource type {rtype}')\n",
      "\u001b[1;35mValueError\u001b[0m: \u001b[35mCannot register /dev/shm/joblib_memmapping_folder_2196_41788e54563b4561b568292f58d43d9b_abe95482e5694d178229fd44b1039cff for automatic cleanup: unknown resource type folder\u001b[0m\n",
      "Traceback (most recent call last):\n",
      "  File \u001b[35m\"/opt/hostedtoolcache/Python/3.13.7/x64/lib/python3.13/multiprocessing/resource_tracker.py\"\u001b[0m, line \u001b[35m295\u001b[0m, in \u001b[35mmain\u001b[0m\n",
      "    raise ValueError(\n",
      "        f'Cannot register {name} for automatic cleanup: '\n",
      "        f'unknown resource type {rtype}')\n",
      "\u001b[1;35mValueError\u001b[0m: \u001b[35mCannot register /dev/shm/joblib_memmapping_folder_2196_b3491d4793c54c2b805d4ce56703e198_1a8f295df5db41cfba31f58e21305316 for automatic cleanup: unknown resource type folder\u001b[0m\n"
     ]
    },
    {
     "name": "stderr",
     "output_type": "stream",
     "text": [
      "\r",
      "Scraping 139 games on 01/04/25:  36%|███▌      | 65 of 182 days scraped in 285.8 secTraceback (most recent call last):\n"
     ]
    },
    {
     "name": "stderr",
     "output_type": "stream",
     "text": [
      "  File \u001b[35m\"/opt/hostedtoolcache/Python/3.13.7/x64/lib/python3.13/multiprocessing/resource_tracker.py\"\u001b[0m, line \u001b[35m295\u001b[0m, in \u001b[35mmain\u001b[0m\n",
      "    raise ValueError(\n",
      "        f'Cannot register {name} for automatic cleanup: '\n",
      "        f'unknown resource type {rtype}')\n",
      "\u001b[1;35mValueError\u001b[0m: \u001b[35mCannot register /dev/shm/joblib_memmapping_folder_2196_b3491d4793c54c2b805d4ce56703e198_1a8f295df5db41cfba31f58e21305316 for automatic cleanup: unknown resource type folder\u001b[0m\n"
     ]
    },
    {
     "name": "stderr",
     "output_type": "stream",
     "text": [
      "\r",
      "Scraping 27 games on 01/05/25:  36%|███▌      | 65 of 182 days scraped in 286.1 sec "
     ]
    },
    {
     "name": "stderr",
     "output_type": "stream",
     "text": [
      "Traceback (most recent call last):\n",
      "  File \u001b[35m\"/opt/hostedtoolcache/Python/3.13.7/x64/lib/python3.13/multiprocessing/resource_tracker.py\"\u001b[0m, line \u001b[35m295\u001b[0m, in \u001b[35mmain\u001b[0m\n",
      "    raise ValueError(\n",
      "        f'Cannot register {name} for automatic cleanup: '\n",
      "        f'unknown resource type {rtype}')\n",
      "\u001b[1;35mValueError\u001b[0m: \u001b[35mCannot register /dev/shm/joblib_memmapping_folder_2196_a37d4a1a514e42b9858326842b963509_27559ad3f088497597cb54afa6874328 for automatic cleanup: unknown resource type folder\u001b[0m\n",
      "Traceback (most recent call last):\n",
      "  File \u001b[35m\"/opt/hostedtoolcache/Python/3.13.7/x64/lib/python3.13/multiprocessing/resource_tracker.py\"\u001b[0m, line \u001b[35m295\u001b[0m, in \u001b[35mmain\u001b[0m\n",
      "    raise ValueError(\n",
      "        f'Cannot register {name} for automatic cleanup: '\n",
      "        f'unknown resource type {rtype}')\n",
      "\u001b[1;35mValueError\u001b[0m: \u001b[35mCannot register /dev/shm/joblib_memmapping_folder_2196_b3491d4793c54c2b805d4ce56703e198_d41a62a3becc4ec48f5d116ccc457e5d for automatic cleanup: unknown resource type folder\u001b[0m\n"
     ]
    },
    {
     "name": "stderr",
     "output_type": "stream",
     "text": [
      "\r",
      "Scraping 27 games on 01/05/25:  36%|███▋      | 66 of 182 days scraped in 288.5 secTraceback (most recent call last):\n"
     ]
    },
    {
     "name": "stderr",
     "output_type": "stream",
     "text": [
      "  File \u001b[35m\"/opt/hostedtoolcache/Python/3.13.7/x64/lib/python3.13/multiprocessing/resource_tracker.py\"\u001b[0m, line \u001b[35m295\u001b[0m, in \u001b[35mmain\u001b[0m\n",
      "    raise ValueError(\n",
      "        f'Cannot register {name} for automatic cleanup: '\n",
      "        f'unknown resource type {rtype}')\n",
      "\u001b[1;35mValueError\u001b[0m: \u001b[35mCannot register /dev/shm/joblib_memmapping_folder_2196_b3491d4793c54c2b805d4ce56703e198_d41a62a3becc4ec48f5d116ccc457e5d for automatic cleanup: unknown resource type folder\u001b[0m\n"
     ]
    },
    {
     "name": "stderr",
     "output_type": "stream",
     "text": [
      "\r",
      "Scraping 16 games on 01/06/25:  36%|███▋      | 66 of 182 days scraped in 288.8 sec"
     ]
    },
    {
     "name": "stderr",
     "output_type": "stream",
     "text": [
      "Traceback (most recent call last):\n",
      "  File \u001b[35m\"/opt/hostedtoolcache/Python/3.13.7/x64/lib/python3.13/multiprocessing/resource_tracker.py\"\u001b[0m, line \u001b[35m295\u001b[0m, in \u001b[35mmain\u001b[0m\n",
      "    raise ValueError(\n",
      "        f'Cannot register {name} for automatic cleanup: '\n",
      "        f'unknown resource type {rtype}')\n",
      "\u001b[1;35mValueError\u001b[0m: \u001b[35mCannot register /dev/shm/joblib_memmapping_folder_2196_1dcf97db286c4a129b5b3bd8585fde07_b0fbaf8355e74e05a69d6ff7deca660a for automatic cleanup: unknown resource type folder\u001b[0m\n",
      "Traceback (most recent call last):\n",
      "  File \u001b[35m\"/opt/hostedtoolcache/Python/3.13.7/x64/lib/python3.13/multiprocessing/resource_tracker.py\"\u001b[0m, line \u001b[35m295\u001b[0m, in \u001b[35mmain\u001b[0m\n",
      "    raise ValueError(\n",
      "        f'Cannot register {name} for automatic cleanup: '\n",
      "        f'unknown resource type {rtype}')\n",
      "\u001b[1;35mValueError\u001b[0m: \u001b[35mCannot register /dev/shm/joblib_memmapping_folder_2196_b3491d4793c54c2b805d4ce56703e198_3fdbb7758cc047a7b9e30e5b5a235eb2 for automatic cleanup: unknown resource type folder\u001b[0m\n"
     ]
    },
    {
     "name": "stderr",
     "output_type": "stream",
     "text": [
      "\r",
      "Scraping 16 games on 01/06/25:  37%|███▋      | 67 of 182 days scraped in 290.2 secTraceback (most recent call last):\n"
     ]
    },
    {
     "name": "stderr",
     "output_type": "stream",
     "text": [
      "  File \u001b[35m\"/opt/hostedtoolcache/Python/3.13.7/x64/lib/python3.13/multiprocessing/resource_tracker.py\"\u001b[0m, line \u001b[35m295\u001b[0m, in \u001b[35mmain\u001b[0m\n",
      "    raise ValueError(\n",
      "        f'Cannot register {name} for automatic cleanup: '\n",
      "        f'unknown resource type {rtype}')\n",
      "\u001b[1;35mValueError\u001b[0m: \u001b[35mCannot register /dev/shm/joblib_memmapping_folder_2196_b3491d4793c54c2b805d4ce56703e198_3fdbb7758cc047a7b9e30e5b5a235eb2 for automatic cleanup: unknown resource type folder\u001b[0m\n"
     ]
    },
    {
     "name": "stderr",
     "output_type": "stream",
     "text": [
      "\r",
      "Scraping 34 games on 01/07/25:  37%|███▋      | 67 of 182 days scraped in 291.0 sec"
     ]
    },
    {
     "name": "stderr",
     "output_type": "stream",
     "text": [
      "Traceback (most recent call last):\n",
      "  File \u001b[35m\"/opt/hostedtoolcache/Python/3.13.7/x64/lib/python3.13/multiprocessing/resource_tracker.py\"\u001b[0m, line \u001b[35m295\u001b[0m, in \u001b[35mmain\u001b[0m\n",
      "    raise ValueError(\n",
      "        f'Cannot register {name} for automatic cleanup: '\n",
      "        f'unknown resource type {rtype}')\n",
      "\u001b[1;35mValueError\u001b[0m: \u001b[35mCannot register /dev/shm/joblib_memmapping_folder_2196_fb68071e8a694692a34f2469361ad49a_308e2b74faba420e904114c9112fc0fa for automatic cleanup: unknown resource type folder\u001b[0m\n",
      "Traceback (most recent call last):\n",
      "  File \u001b[35m\"/opt/hostedtoolcache/Python/3.13.7/x64/lib/python3.13/multiprocessing/resource_tracker.py\"\u001b[0m, line \u001b[35m295\u001b[0m, in \u001b[35mmain\u001b[0m\n",
      "    raise ValueError(\n",
      "        f'Cannot register {name} for automatic cleanup: '\n",
      "        f'unknown resource type {rtype}')\n",
      "\u001b[1;35mValueError\u001b[0m: \u001b[35mCannot register /dev/shm/joblib_memmapping_folder_2196_b3491d4793c54c2b805d4ce56703e198_4770631326b44e9290972b006c3fb5d7 for automatic cleanup: unknown resource type folder\u001b[0m\n"
     ]
    },
    {
     "name": "stderr",
     "output_type": "stream",
     "text": [
      "\r",
      "Scraping 34 games on 01/07/25:  37%|███▋      | 68 of 182 days scraped in 294.0 secTraceback (most recent call last):\n"
     ]
    },
    {
     "name": "stderr",
     "output_type": "stream",
     "text": [
      "  File \u001b[35m\"/opt/hostedtoolcache/Python/3.13.7/x64/lib/python3.13/multiprocessing/resource_tracker.py\"\u001b[0m, line \u001b[35m295\u001b[0m, in \u001b[35mmain\u001b[0m\n",
      "    raise ValueError(\n",
      "        f'Cannot register {name} for automatic cleanup: '\n",
      "        f'unknown resource type {rtype}')\n",
      "\u001b[1;35mValueError\u001b[0m: \u001b[35mCannot register /dev/shm/joblib_memmapping_folder_2196_b3491d4793c54c2b805d4ce56703e198_4770631326b44e9290972b006c3fb5d7 for automatic cleanup: unknown resource type folder\u001b[0m\n"
     ]
    },
    {
     "name": "stderr",
     "output_type": "stream",
     "text": [
      "\r",
      "Scraping 50 games on 01/08/25:  37%|███▋      | 68 of 182 days scraped in 294.6 sec"
     ]
    },
    {
     "name": "stderr",
     "output_type": "stream",
     "text": [
      "Traceback (most recent call last):\n",
      "  File \u001b[35m\"/opt/hostedtoolcache/Python/3.13.7/x64/lib/python3.13/multiprocessing/resource_tracker.py\"\u001b[0m, line \u001b[35m295\u001b[0m, in \u001b[35mmain\u001b[0m\n",
      "    raise ValueError(\n",
      "        f'Cannot register {name} for automatic cleanup: '\n",
      "        f'unknown resource type {rtype}')\n",
      "\u001b[1;35mValueError\u001b[0m: \u001b[35mCannot register /dev/shm/joblib_memmapping_folder_2196_4ecea7d0eea94d119bcf9886dfd56036_e399fea427b44e888580eb31b9dd8586 for automatic cleanup: unknown resource type folder\u001b[0m\n",
      "Traceback (most recent call last):\n",
      "  File \u001b[35m\"/opt/hostedtoolcache/Python/3.13.7/x64/lib/python3.13/multiprocessing/resource_tracker.py\"\u001b[0m, line \u001b[35m295\u001b[0m, in \u001b[35mmain\u001b[0m\n",
      "    raise ValueError(\n",
      "        f'Cannot register {name} for automatic cleanup: '\n",
      "        f'unknown resource type {rtype}')\n",
      "\u001b[1;35mValueError\u001b[0m: \u001b[35mCannot register /dev/shm/joblib_memmapping_folder_2196_b3491d4793c54c2b805d4ce56703e198_4179b1eea47648969a6d64b163529293 for automatic cleanup: unknown resource type folder\u001b[0m\n"
     ]
    },
    {
     "name": "stderr",
     "output_type": "stream",
     "text": [
      "\r",
      "Scraping 50 games on 01/08/25:  38%|███▊      | 69 of 182 days scraped in 298.7 secTraceback (most recent call last):\n"
     ]
    },
    {
     "name": "stderr",
     "output_type": "stream",
     "text": [
      "  File \u001b[35m\"/opt/hostedtoolcache/Python/3.13.7/x64/lib/python3.13/multiprocessing/resource_tracker.py\"\u001b[0m, line \u001b[35m295\u001b[0m, in \u001b[35mmain\u001b[0m\n",
      "    raise ValueError(\n",
      "        f'Cannot register {name} for automatic cleanup: '\n",
      "        f'unknown resource type {rtype}')\n",
      "\u001b[1;35mValueError\u001b[0m: \u001b[35mCannot register /dev/shm/joblib_memmapping_folder_2196_b3491d4793c54c2b805d4ce56703e198_4179b1eea47648969a6d64b163529293 for automatic cleanup: unknown resource type folder\u001b[0m\n"
     ]
    },
    {
     "name": "stderr",
     "output_type": "stream",
     "text": [
      "\r",
      "Scraping 55 games on 01/09/25:  38%|███▊      | 69 of 182 days scraped in 299.3 sec"
     ]
    },
    {
     "name": "stderr",
     "output_type": "stream",
     "text": [
      "Traceback (most recent call last):\n",
      "  File \u001b[35m\"/opt/hostedtoolcache/Python/3.13.7/x64/lib/python3.13/multiprocessing/resource_tracker.py\"\u001b[0m, line \u001b[35m295\u001b[0m, in \u001b[35mmain\u001b[0m\n",
      "    raise ValueError(\n",
      "        f'Cannot register {name} for automatic cleanup: '\n",
      "        f'unknown resource type {rtype}')\n",
      "\u001b[1;35mValueError\u001b[0m: \u001b[35mCannot register /dev/shm/joblib_memmapping_folder_2196_8856842358334ed4be4d2ba19a222e12_74814662452f4b3c95382709f7d0631b for automatic cleanup: unknown resource type folder\u001b[0m\n",
      "Traceback (most recent call last):\n",
      "  File \u001b[35m\"/opt/hostedtoolcache/Python/3.13.7/x64/lib/python3.13/multiprocessing/resource_tracker.py\"\u001b[0m, line \u001b[35m295\u001b[0m, in \u001b[35mmain\u001b[0m\n",
      "    raise ValueError(\n",
      "        f'Cannot register {name} for automatic cleanup: '\n",
      "        f'unknown resource type {rtype}')\n",
      "\u001b[1;35mValueError\u001b[0m: \u001b[35mCannot register /dev/shm/joblib_memmapping_folder_2196_b3491d4793c54c2b805d4ce56703e198_42a7e1cfe8c64854851f29158a7cb721 for automatic cleanup: unknown resource type folder\u001b[0m\n"
     ]
    },
    {
     "name": "stderr",
     "output_type": "stream",
     "text": [
      "\r",
      "Scraping 55 games on 01/09/25:  38%|███▊      | 70 of 182 days scraped in 304.0 secTraceback (most recent call last):\n"
     ]
    },
    {
     "name": "stderr",
     "output_type": "stream",
     "text": [
      "  File \u001b[35m\"/opt/hostedtoolcache/Python/3.13.7/x64/lib/python3.13/multiprocessing/resource_tracker.py\"\u001b[0m, line \u001b[35m295\u001b[0m, in \u001b[35mmain\u001b[0m\n",
      "    raise ValueError(\n",
      "        f'Cannot register {name} for automatic cleanup: '\n",
      "        f'unknown resource type {rtype}')\n",
      "\u001b[1;35mValueError\u001b[0m: \u001b[35mCannot register /dev/shm/joblib_memmapping_folder_2196_b3491d4793c54c2b805d4ce56703e198_42a7e1cfe8c64854851f29158a7cb721 for automatic cleanup: unknown resource type folder\u001b[0m\n"
     ]
    },
    {
     "name": "stderr",
     "output_type": "stream",
     "text": [
      "\r",
      "Scraping 14 games on 01/10/25:  38%|███▊      | 70 of 182 days scraped in 304.3 sec"
     ]
    },
    {
     "name": "stderr",
     "output_type": "stream",
     "text": [
      "Traceback (most recent call last):\n",
      "  File \u001b[35m\"/opt/hostedtoolcache/Python/3.13.7/x64/lib/python3.13/multiprocessing/resource_tracker.py\"\u001b[0m, line \u001b[35m295\u001b[0m, in \u001b[35mmain\u001b[0m\n",
      "    raise ValueError(\n",
      "        f'Cannot register {name} for automatic cleanup: '\n",
      "        f'unknown resource type {rtype}')\n",
      "\u001b[1;35mValueError\u001b[0m: \u001b[35mCannot register /dev/shm/joblib_memmapping_folder_2196_46ca192ce47b422fa20d9896e5a40500_b90dd2d802dc4f89ba434043eff64f5a for automatic cleanup: unknown resource type folder\u001b[0m\n",
      "Traceback (most recent call last):\n",
      "  File \u001b[35m\"/opt/hostedtoolcache/Python/3.13.7/x64/lib/python3.13/multiprocessing/resource_tracker.py\"\u001b[0m, line \u001b[35m295\u001b[0m, in \u001b[35mmain\u001b[0m\n",
      "    raise ValueError(\n",
      "        f'Cannot register {name} for automatic cleanup: '\n",
      "        f'unknown resource type {rtype}')\n",
      "\u001b[1;35mValueError\u001b[0m: \u001b[35mCannot register /dev/shm/joblib_memmapping_folder_2196_b3491d4793c54c2b805d4ce56703e198_19ff928188f5426391e10297b8ac9e13 for automatic cleanup: unknown resource type folder\u001b[0m\n"
     ]
    },
    {
     "name": "stderr",
     "output_type": "stream",
     "text": [
      "\r",
      "Scraping 14 games on 01/10/25:  39%|███▉      | 71 of 182 days scraped in 305.6 sec"
     ]
    },
    {
     "name": "stderr",
     "output_type": "stream",
     "text": [
      "Traceback (most recent call last):\n",
      "  File \u001b[35m\"/opt/hostedtoolcache/Python/3.13.7/x64/lib/python3.13/multiprocessing/resource_tracker.py\"\u001b[0m, line \u001b[35m295\u001b[0m, in \u001b[35mmain\u001b[0m\n",
      "    raise ValueError(\n",
      "        f'Cannot register {name} for automatic cleanup: '\n",
      "        f'unknown resource type {rtype}')\n",
      "\u001b[1;35mValueError\u001b[0m: \u001b[35mCannot register /dev/shm/joblib_memmapping_folder_2196_b3491d4793c54c2b805d4ce56703e198_19ff928188f5426391e10297b8ac9e13 for automatic cleanup: unknown resource type folder\u001b[0m\n"
     ]
    },
    {
     "name": "stderr",
     "output_type": "stream",
     "text": [
      "\r",
      "Scraping 144 games on 01/11/25:  39%|███▉      | 71 of 182 days scraped in 306.7 sec"
     ]
    },
    {
     "name": "stderr",
     "output_type": "stream",
     "text": [
      "Traceback (most recent call last):\n",
      "  File \u001b[35m\"/opt/hostedtoolcache/Python/3.13.7/x64/lib/python3.13/multiprocessing/resource_tracker.py\"\u001b[0m, line \u001b[35m295\u001b[0m, in \u001b[35mmain\u001b[0m\n",
      "    raise ValueError(\n",
      "        f'Cannot register {name} for automatic cleanup: '\n",
      "        f'unknown resource type {rtype}')\n",
      "\u001b[1;35mValueError\u001b[0m: \u001b[35mCannot register /dev/shm/joblib_memmapping_folder_2196_db392c820c5c494694cda02ab32a6d66_e0856de8289441b9934d912f2232ad42 for automatic cleanup: unknown resource type folder\u001b[0m\n",
      "Traceback (most recent call last):\n",
      "  File \u001b[35m\"/opt/hostedtoolcache/Python/3.13.7/x64/lib/python3.13/multiprocessing/resource_tracker.py\"\u001b[0m, line \u001b[35m295\u001b[0m, in \u001b[35mmain\u001b[0m\n",
      "    raise ValueError(\n",
      "        f'Cannot register {name} for automatic cleanup: '\n",
      "        f'unknown resource type {rtype}')\n",
      "\u001b[1;35mValueError\u001b[0m: \u001b[35mCannot register /dev/shm/joblib_memmapping_folder_2196_b3491d4793c54c2b805d4ce56703e198_8ef40de16e29458fb5267f4253772817 for automatic cleanup: unknown resource type folder\u001b[0m\n"
     ]
    },
    {
     "name": "stderr",
     "output_type": "stream",
     "text": [
      "\r",
      "Scraping 144 games on 01/11/25:  40%|███▉      | 72 of 182 days scraped in 318.5 secTraceback (most recent call last):\n"
     ]
    },
    {
     "name": "stderr",
     "output_type": "stream",
     "text": [
      "  File \u001b[35m\"/opt/hostedtoolcache/Python/3.13.7/x64/lib/python3.13/multiprocessing/resource_tracker.py\"\u001b[0m, line \u001b[35m295\u001b[0m, in \u001b[35mmain\u001b[0m\n",
      "    raise ValueError(\n",
      "        f'Cannot register {name} for automatic cleanup: '\n",
      "        f'unknown resource type {rtype}')\n",
      "\u001b[1;35mValueError\u001b[0m: \u001b[35mCannot register /dev/shm/joblib_memmapping_folder_2196_b3491d4793c54c2b805d4ce56703e198_8ef40de16e29458fb5267f4253772817 for automatic cleanup: unknown resource type folder\u001b[0m\n"
     ]
    },
    {
     "name": "stderr",
     "output_type": "stream",
     "text": [
      "\r",
      "Scraping 21 games on 01/12/25:  40%|███▉      | 72 of 182 days scraped in 318.9 sec "
     ]
    },
    {
     "name": "stderr",
     "output_type": "stream",
     "text": [
      "Traceback (most recent call last):\n",
      "  File \u001b[35m\"/opt/hostedtoolcache/Python/3.13.7/x64/lib/python3.13/multiprocessing/resource_tracker.py\"\u001b[0m, line \u001b[35m295\u001b[0m, in \u001b[35mmain\u001b[0m\n",
      "    raise ValueError(\n",
      "        f'Cannot register {name} for automatic cleanup: '\n",
      "        f'unknown resource type {rtype}')\n",
      "\u001b[1;35mValueError\u001b[0m: \u001b[35mCannot register /dev/shm/joblib_memmapping_folder_2196_41ec5b74624340908dbb88cbdde9af2a_6ed6b27f3dab440d83f21b764b2a25ee for automatic cleanup: unknown resource type folder\u001b[0m\n",
      "Traceback (most recent call last):\n",
      "  File \u001b[35m\"/opt/hostedtoolcache/Python/3.13.7/x64/lib/python3.13/multiprocessing/resource_tracker.py\"\u001b[0m, line \u001b[35m295\u001b[0m, in \u001b[35mmain\u001b[0m\n",
      "    raise ValueError(\n",
      "        f'Cannot register {name} for automatic cleanup: '\n",
      "        f'unknown resource type {rtype}')\n",
      "\u001b[1;35mValueError\u001b[0m: \u001b[35mCannot register /dev/shm/joblib_memmapping_folder_2196_b3491d4793c54c2b805d4ce56703e198_7574650507ea4311a447c95c32c5ad7a for automatic cleanup: unknown resource type folder\u001b[0m\n"
     ]
    },
    {
     "name": "stderr",
     "output_type": "stream",
     "text": [
      "\r",
      "Scraping 21 games on 01/12/25:  40%|████      | 73 of 182 days scraped in 320.8 sec"
     ]
    },
    {
     "name": "stderr",
     "output_type": "stream",
     "text": [
      "Traceback (most recent call last):\n",
      "  File \u001b[35m\"/opt/hostedtoolcache/Python/3.13.7/x64/lib/python3.13/multiprocessing/resource_tracker.py\"\u001b[0m, line \u001b[35m295\u001b[0m, in \u001b[35mmain\u001b[0m\n",
      "    raise ValueError(\n",
      "        f'Cannot register {name} for automatic cleanup: '\n",
      "        f'unknown resource type {rtype}')\n",
      "\u001b[1;35mValueError\u001b[0m: \u001b[35mCannot register /dev/shm/joblib_memmapping_folder_2196_b3491d4793c54c2b805d4ce56703e198_7574650507ea4311a447c95c32c5ad7a for automatic cleanup: unknown resource type folder\u001b[0m\n"
     ]
    },
    {
     "name": "stderr",
     "output_type": "stream",
     "text": [
      "\r",
      "Scraping 22 games on 01/13/25:  40%|████      | 73 of 182 days scraped in 321.2 sec"
     ]
    },
    {
     "name": "stderr",
     "output_type": "stream",
     "text": [
      "Traceback (most recent call last):\n",
      "  File \u001b[35m\"/opt/hostedtoolcache/Python/3.13.7/x64/lib/python3.13/multiprocessing/resource_tracker.py\"\u001b[0m, line \u001b[35m295\u001b[0m, in \u001b[35mmain\u001b[0m\n",
      "    raise ValueError(\n",
      "        f'Cannot register {name} for automatic cleanup: '\n",
      "        f'unknown resource type {rtype}')\n",
      "\u001b[1;35mValueError\u001b[0m: \u001b[35mCannot register /dev/shm/joblib_memmapping_folder_2196_cf6287ccb67841678d5858165ae9eb2e_1dbed5bfdf964c8c9576384fa6a7088c for automatic cleanup: unknown resource type folder\u001b[0m\n",
      "Traceback (most recent call last):\n",
      "  File \u001b[35m\"/opt/hostedtoolcache/Python/3.13.7/x64/lib/python3.13/multiprocessing/resource_tracker.py\"\u001b[0m, line \u001b[35m295\u001b[0m, in \u001b[35mmain\u001b[0m\n",
      "    raise ValueError(\n",
      "        f'Cannot register {name} for automatic cleanup: '\n",
      "        f'unknown resource type {rtype}')\n",
      "\u001b[1;35mValueError\u001b[0m: \u001b[35mCannot register /dev/shm/joblib_memmapping_folder_2196_b3491d4793c54c2b805d4ce56703e198_1cb2b29923134ad1aab4dbeca5371445 for automatic cleanup: unknown resource type folder\u001b[0m\n"
     ]
    },
    {
     "name": "stderr",
     "output_type": "stream",
     "text": [
      "\r",
      "Scraping 22 games on 01/13/25:  41%|████      | 74 of 182 days scraped in 323.1 sec"
     ]
    },
    {
     "name": "stderr",
     "output_type": "stream",
     "text": [
      "Traceback (most recent call last):\n",
      "  File \u001b[35m\"/opt/hostedtoolcache/Python/3.13.7/x64/lib/python3.13/multiprocessing/resource_tracker.py\"\u001b[0m, line \u001b[35m295\u001b[0m, in \u001b[35mmain\u001b[0m\n",
      "    raise ValueError(\n",
      "        f'Cannot register {name} for automatic cleanup: '\n",
      "        f'unknown resource type {rtype}')\n",
      "\u001b[1;35mValueError\u001b[0m: \u001b[35mCannot register /dev/shm/joblib_memmapping_folder_2196_b3491d4793c54c2b805d4ce56703e198_1cb2b29923134ad1aab4dbeca5371445 for automatic cleanup: unknown resource type folder\u001b[0m\n"
     ]
    },
    {
     "name": "stderr",
     "output_type": "stream",
     "text": [
      "\r",
      "Scraping 36 games on 01/14/25:  41%|████      | 74 of 182 days scraped in 323.5 sec"
     ]
    },
    {
     "name": "stderr",
     "output_type": "stream",
     "text": [
      "Traceback (most recent call last):\n",
      "  File \u001b[35m\"/opt/hostedtoolcache/Python/3.13.7/x64/lib/python3.13/multiprocessing/resource_tracker.py\"\u001b[0m, line \u001b[35m295\u001b[0m, in \u001b[35mmain\u001b[0m\n",
      "    raise ValueError(\n",
      "        f'Cannot register {name} for automatic cleanup: '\n",
      "        f'unknown resource type {rtype}')\n",
      "\u001b[1;35mValueError\u001b[0m: \u001b[35mCannot register /dev/shm/joblib_memmapping_folder_2196_416ab3fb80504c6bb129e200be89d431_3d07c7dbef8b4aceadef4c0630d754a7 for automatic cleanup: unknown resource type folder\u001b[0m\n",
      "Traceback (most recent call last):\n",
      "  File \u001b[35m\"/opt/hostedtoolcache/Python/3.13.7/x64/lib/python3.13/multiprocessing/resource_tracker.py\"\u001b[0m, line \u001b[35m295\u001b[0m, in \u001b[35mmain\u001b[0m\n",
      "    raise ValueError(\n",
      "        f'Cannot register {name} for automatic cleanup: '\n",
      "        f'unknown resource type {rtype}')\n",
      "\u001b[1;35mValueError\u001b[0m: \u001b[35mCannot register /dev/shm/joblib_memmapping_folder_2196_b3491d4793c54c2b805d4ce56703e198_fe1ee5d10fde4895a82a9afde058ff80 for automatic cleanup: unknown resource type folder\u001b[0m\n"
     ]
    },
    {
     "name": "stderr",
     "output_type": "stream",
     "text": [
      "\r",
      "Scraping 36 games on 01/14/25:  41%|████      | 75 of 182 days scraped in 326.7 secTraceback (most recent call last):\n",
      "  File \u001b[35m\"/opt/hostedtoolcache/Python/3.13.7/x64/lib/python3.13/multiprocessing/resource_tracker.py\"\u001b[0m, line \u001b[35m295\u001b[0m, in \u001b[35mmain\u001b[0m\n",
      "    raise ValueError(\n",
      "        f'Cannot register {name} for automatic cleanup: '\n",
      "        f'unknown resource type {rtype}')\n",
      "\u001b[1;35mValueError\u001b[0m: \u001b[35mCannot register /dev/shm/joblib_memmapping_folder_2196_b3491d4793c54c2b805d4ce56703e198_fe1ee5d10fde4895a82a9afde058ff80 for automatic cleanup: unknown resource type folder\u001b[0m\n"
     ]
    },
    {
     "name": "stderr",
     "output_type": "stream",
     "text": [
      "\r",
      "Scraping 48 games on 01/15/25:  41%|████      | 75 of 182 days scraped in 327.2 sec"
     ]
    },
    {
     "name": "stderr",
     "output_type": "stream",
     "text": [
      "Traceback (most recent call last):\n",
      "  File \u001b[35m\"/opt/hostedtoolcache/Python/3.13.7/x64/lib/python3.13/multiprocessing/resource_tracker.py\"\u001b[0m, line \u001b[35m295\u001b[0m, in \u001b[35mmain\u001b[0m\n",
      "    raise ValueError(\n",
      "        f'Cannot register {name} for automatic cleanup: '\n",
      "        f'unknown resource type {rtype}')\n",
      "\u001b[1;35mValueError\u001b[0m: \u001b[35mCannot register /dev/shm/joblib_memmapping_folder_2196_3131049d560b469793f110ebd7778177_3ba4f40cfba748e8bc15e568876c9fef for automatic cleanup: unknown resource type folder\u001b[0m\n",
      "Traceback (most recent call last):\n",
      "  File \u001b[35m\"/opt/hostedtoolcache/Python/3.13.7/x64/lib/python3.13/multiprocessing/resource_tracker.py\"\u001b[0m, line \u001b[35m295\u001b[0m, in \u001b[35mmain\u001b[0m\n",
      "    raise ValueError(\n",
      "        f'Cannot register {name} for automatic cleanup: '\n",
      "        f'unknown resource type {rtype}')\n",
      "\u001b[1;35mValueError\u001b[0m: \u001b[35mCannot register /dev/shm/joblib_memmapping_folder_2196_b3491d4793c54c2b805d4ce56703e198_cd4f42c3707d45d0b18296d8f55921d4 for automatic cleanup: unknown resource type folder\u001b[0m\n"
     ]
    },
    {
     "name": "stderr",
     "output_type": "stream",
     "text": [
      "\r",
      "Scraping 48 games on 01/15/25:  42%|████▏     | 76 of 182 days scraped in 331.1 sec"
     ]
    },
    {
     "name": "stderr",
     "output_type": "stream",
     "text": [
      "Traceback (most recent call last):\n",
      "  File \u001b[35m\"/opt/hostedtoolcache/Python/3.13.7/x64/lib/python3.13/multiprocessing/resource_tracker.py\"\u001b[0m, line \u001b[35m295\u001b[0m, in \u001b[35mmain\u001b[0m\n",
      "    raise ValueError(\n",
      "        f'Cannot register {name} for automatic cleanup: '\n",
      "        f'unknown resource type {rtype}')\n",
      "\u001b[1;35mValueError\u001b[0m: \u001b[35mCannot register /dev/shm/joblib_memmapping_folder_2196_b3491d4793c54c2b805d4ce56703e198_cd4f42c3707d45d0b18296d8f55921d4 for automatic cleanup: unknown resource type folder\u001b[0m\n"
     ]
    },
    {
     "name": "stderr",
     "output_type": "stream",
     "text": [
      "\r",
      "Scraping 63 games on 01/16/25:  42%|████▏     | 76 of 182 days scraped in 332.0 sec"
     ]
    },
    {
     "name": "stderr",
     "output_type": "stream",
     "text": [
      "Traceback (most recent call last):\n",
      "  File \u001b[35m\"/opt/hostedtoolcache/Python/3.13.7/x64/lib/python3.13/multiprocessing/resource_tracker.py\"\u001b[0m, line \u001b[35m295\u001b[0m, in \u001b[35mmain\u001b[0m\n",
      "    raise ValueError(\n",
      "        f'Cannot register {name} for automatic cleanup: '\n",
      "        f'unknown resource type {rtype}')\n",
      "\u001b[1;35mValueError\u001b[0m: \u001b[35mCannot register /dev/shm/joblib_memmapping_folder_2196_0669129ad30e4701b797864807830a63_d6d8b2715f6f415f8dc691d65cf8963d for automatic cleanup: unknown resource type folder\u001b[0m\n",
      "Traceback (most recent call last):\n",
      "  File \u001b[35m\"/opt/hostedtoolcache/Python/3.13.7/x64/lib/python3.13/multiprocessing/resource_tracker.py\"\u001b[0m, line \u001b[35m295\u001b[0m, in \u001b[35mmain\u001b[0m\n",
      "    raise ValueError(\n",
      "        f'Cannot register {name} for automatic cleanup: '\n",
      "        f'unknown resource type {rtype}')\n",
      "\u001b[1;35mValueError\u001b[0m: \u001b[35mCannot register /dev/shm/joblib_memmapping_folder_2196_b3491d4793c54c2b805d4ce56703e198_d1303c2f65964b51b73fe15a552533b9 for automatic cleanup: unknown resource type folder\u001b[0m\n"
     ]
    },
    {
     "name": "stderr",
     "output_type": "stream",
     "text": [
      "\r",
      "Scraping 63 games on 01/16/25:  42%|████▏     | 77 of 182 days scraped in 337.3 secTraceback (most recent call last):\n"
     ]
    },
    {
     "name": "stderr",
     "output_type": "stream",
     "text": [
      "  File \u001b[35m\"/opt/hostedtoolcache/Python/3.13.7/x64/lib/python3.13/multiprocessing/resource_tracker.py\"\u001b[0m, line \u001b[35m295\u001b[0m, in \u001b[35mmain\u001b[0m\n",
      "    raise ValueError(\n",
      "        f'Cannot register {name} for automatic cleanup: '\n",
      "        f'unknown resource type {rtype}')\n",
      "\u001b[1;35mValueError\u001b[0m: \u001b[35mCannot register /dev/shm/joblib_memmapping_folder_2196_b3491d4793c54c2b805d4ce56703e198_d1303c2f65964b51b73fe15a552533b9 for automatic cleanup: unknown resource type folder\u001b[0m\n"
     ]
    },
    {
     "name": "stderr",
     "output_type": "stream",
     "text": [
      "\r",
      "Scraping 10 games on 01/17/25:  42%|████▏     | 77 of 182 days scraped in 337.6 sec"
     ]
    },
    {
     "name": "stderr",
     "output_type": "stream",
     "text": [
      "Traceback (most recent call last):\n",
      "  File \u001b[35m\"/opt/hostedtoolcache/Python/3.13.7/x64/lib/python3.13/multiprocessing/resource_tracker.py\"\u001b[0m, line \u001b[35m295\u001b[0m, in \u001b[35mmain\u001b[0m\n",
      "    raise ValueError(\n",
      "        f'Cannot register {name} for automatic cleanup: '\n",
      "        f'unknown resource type {rtype}')\n",
      "\u001b[1;35mValueError\u001b[0m: \u001b[35mCannot register /dev/shm/joblib_memmapping_folder_2196_34c65e9589da41749bb5aea81f107590_023dbea9b54040c6a39880e912b7a83b for automatic cleanup: unknown resource type folder\u001b[0m\n",
      "Traceback (most recent call last):\n",
      "  File \u001b[35m\"/opt/hostedtoolcache/Python/3.13.7/x64/lib/python3.13/multiprocessing/resource_tracker.py\"\u001b[0m, line \u001b[35m295\u001b[0m, in \u001b[35mmain\u001b[0m\n",
      "    raise ValueError(\n",
      "        f'Cannot register {name} for automatic cleanup: '\n",
      "        f'unknown resource type {rtype}')\n",
      "\u001b[1;35mValueError\u001b[0m: \u001b[35mCannot register /dev/shm/joblib_memmapping_folder_2196_b3491d4793c54c2b805d4ce56703e198_a22e4a931fdd4d9894e2e239976c0a69 for automatic cleanup: unknown resource type folder\u001b[0m\n"
     ]
    },
    {
     "name": "stderr",
     "output_type": "stream",
     "text": [
      "\r",
      "Scraping 10 games on 01/17/25:  43%|████▎     | 78 of 182 days scraped in 338.7 sec"
     ]
    },
    {
     "name": "stderr",
     "output_type": "stream",
     "text": [
      "Traceback (most recent call last):\n",
      "  File \u001b[35m\"/opt/hostedtoolcache/Python/3.13.7/x64/lib/python3.13/multiprocessing/resource_tracker.py\"\u001b[0m, line \u001b[35m295\u001b[0m, in \u001b[35mmain\u001b[0m\n",
      "    raise ValueError(\n",
      "        f'Cannot register {name} for automatic cleanup: '\n",
      "        f'unknown resource type {rtype}')\n",
      "\u001b[1;35mValueError\u001b[0m: \u001b[35mCannot register /dev/shm/joblib_memmapping_folder_2196_b3491d4793c54c2b805d4ce56703e198_a22e4a931fdd4d9894e2e239976c0a69 for automatic cleanup: unknown resource type folder\u001b[0m\n"
     ]
    },
    {
     "name": "stderr",
     "output_type": "stream",
     "text": [
      "\r",
      "Scraping 148 games on 01/18/25:  43%|████▎     | 78 of 182 days scraped in 339.9 sec"
     ]
    },
    {
     "name": "stderr",
     "output_type": "stream",
     "text": [
      "Traceback (most recent call last):\n",
      "  File \u001b[35m\"/opt/hostedtoolcache/Python/3.13.7/x64/lib/python3.13/multiprocessing/resource_tracker.py\"\u001b[0m, line \u001b[35m295\u001b[0m, in \u001b[35mmain\u001b[0m\n",
      "    raise ValueError(\n",
      "        f'Cannot register {name} for automatic cleanup: '\n",
      "        f'unknown resource type {rtype}')\n",
      "\u001b[1;35mValueError\u001b[0m: \u001b[35mCannot register /dev/shm/joblib_memmapping_folder_2196_347e0168abfb4a4183b2e14a254ff19a_706b521ac0f24ca592eac8dfde178ca0 for automatic cleanup: unknown resource type folder\u001b[0m\n",
      "Traceback (most recent call last):\n",
      "  File \u001b[35m\"/opt/hostedtoolcache/Python/3.13.7/x64/lib/python3.13/multiprocessing/resource_tracker.py\"\u001b[0m, line \u001b[35m295\u001b[0m, in \u001b[35mmain\u001b[0m\n",
      "    raise ValueError(\n",
      "        f'Cannot register {name} for automatic cleanup: '\n",
      "        f'unknown resource type {rtype}')\n",
      "\u001b[1;35mValueError\u001b[0m: \u001b[35mCannot register /dev/shm/joblib_memmapping_folder_2196_b3491d4793c54c2b805d4ce56703e198_75379b1c367b4d44817f1e346d0d4e6a for automatic cleanup: unknown resource type folder\u001b[0m\n"
     ]
    },
    {
     "name": "stderr",
     "output_type": "stream",
     "text": [
      "\r",
      "Scraping 148 games on 01/18/25:  43%|████▎     | 79 of 182 days scraped in 352.0 sec"
     ]
    },
    {
     "name": "stderr",
     "output_type": "stream",
     "text": [
      "Traceback (most recent call last):\n",
      "  File \u001b[35m\"/opt/hostedtoolcache/Python/3.13.7/x64/lib/python3.13/multiprocessing/resource_tracker.py\"\u001b[0m, line \u001b[35m295\u001b[0m, in \u001b[35mmain\u001b[0m\n",
      "    raise ValueError(\n",
      "        f'Cannot register {name} for automatic cleanup: '\n",
      "        f'unknown resource type {rtype}')\n",
      "\u001b[1;35mValueError\u001b[0m: \u001b[35mCannot register /dev/shm/joblib_memmapping_folder_2196_b3491d4793c54c2b805d4ce56703e198_75379b1c367b4d44817f1e346d0d4e6a for automatic cleanup: unknown resource type folder\u001b[0m\n"
     ]
    },
    {
     "name": "stderr",
     "output_type": "stream",
     "text": [
      "\r",
      "Scraping 11 games on 01/19/25:  43%|████▎     | 79 of 182 days scraped in 352.3 sec "
     ]
    },
    {
     "name": "stderr",
     "output_type": "stream",
     "text": [
      "Traceback (most recent call last):\n",
      "  File \u001b[35m\"/opt/hostedtoolcache/Python/3.13.7/x64/lib/python3.13/multiprocessing/resource_tracker.py\"\u001b[0m, line \u001b[35m295\u001b[0m, in \u001b[35mmain\u001b[0m\n",
      "    raise ValueError(\n",
      "        f'Cannot register {name} for automatic cleanup: '\n",
      "        f'unknown resource type {rtype}')\n",
      "\u001b[1;35mValueError\u001b[0m: \u001b[35mCannot register /dev/shm/joblib_memmapping_folder_2196_7e4717cbc30f4b6e90fd58f4fad3693b_48288305abd84b4686456fba9120e1cf for automatic cleanup: unknown resource type folder\u001b[0m\n",
      "Traceback (most recent call last):\n",
      "  File \u001b[35m\"/opt/hostedtoolcache/Python/3.13.7/x64/lib/python3.13/multiprocessing/resource_tracker.py\"\u001b[0m, line \u001b[35m295\u001b[0m, in \u001b[35mmain\u001b[0m\n",
      "    raise ValueError(\n",
      "        f'Cannot register {name} for automatic cleanup: '\n",
      "        f'unknown resource type {rtype}')\n",
      "\u001b[1;35mValueError\u001b[0m: \u001b[35mCannot register /dev/shm/joblib_memmapping_folder_2196_b3491d4793c54c2b805d4ce56703e198_11eae77b1f5240e3a5b6d4f35011ee01 for automatic cleanup: unknown resource type folder\u001b[0m\n"
     ]
    },
    {
     "name": "stderr",
     "output_type": "stream",
     "text": [
      "\r",
      "Scraping 11 games on 01/19/25:  44%|████▍     | 80 of 182 days scraped in 353.3 secTraceback (most recent call last):\n"
     ]
    },
    {
     "name": "stderr",
     "output_type": "stream",
     "text": [
      "  File \u001b[35m\"/opt/hostedtoolcache/Python/3.13.7/x64/lib/python3.13/multiprocessing/resource_tracker.py\"\u001b[0m, line \u001b[35m295\u001b[0m, in \u001b[35mmain\u001b[0m\n",
      "    raise ValueError(\n",
      "        f'Cannot register {name} for automatic cleanup: '\n",
      "        f'unknown resource type {rtype}')\n",
      "\u001b[1;35mValueError\u001b[0m: \u001b[35mCannot register /dev/shm/joblib_memmapping_folder_2196_b3491d4793c54c2b805d4ce56703e198_11eae77b1f5240e3a5b6d4f35011ee01 for automatic cleanup: unknown resource type folder\u001b[0m\n"
     ]
    },
    {
     "name": "stderr",
     "output_type": "stream",
     "text": [
      "\r",
      "Scraping 29 games on 01/20/25:  44%|████▍     | 80 of 182 days scraped in 353.7 sec"
     ]
    },
    {
     "name": "stderr",
     "output_type": "stream",
     "text": [
      "Traceback (most recent call last):\n",
      "  File \u001b[35m\"/opt/hostedtoolcache/Python/3.13.7/x64/lib/python3.13/multiprocessing/resource_tracker.py\"\u001b[0m, line \u001b[35m295\u001b[0m, in \u001b[35mmain\u001b[0m\n",
      "    raise ValueError(\n",
      "        f'Cannot register {name} for automatic cleanup: '\n",
      "        f'unknown resource type {rtype}')\n",
      "\u001b[1;35mValueError\u001b[0m: \u001b[35mCannot register /dev/shm/joblib_memmapping_folder_2196_b1f6f5302220424cb3038b201786bd2e_dcd66537273d405594032e81741720c3 for automatic cleanup: unknown resource type folder\u001b[0m\n",
      "Traceback (most recent call last):\n",
      "  File \u001b[35m\"/opt/hostedtoolcache/Python/3.13.7/x64/lib/python3.13/multiprocessing/resource_tracker.py\"\u001b[0m, line \u001b[35m295\u001b[0m, in \u001b[35mmain\u001b[0m\n",
      "    raise ValueError(\n",
      "        f'Cannot register {name} for automatic cleanup: '\n",
      "        f'unknown resource type {rtype}')\n",
      "\u001b[1;35mValueError\u001b[0m: \u001b[35mCannot register /dev/shm/joblib_memmapping_folder_2196_b3491d4793c54c2b805d4ce56703e198_db6aa97cea124f1d920f92323df44aa1 for automatic cleanup: unknown resource type folder\u001b[0m\n"
     ]
    },
    {
     "name": "stderr",
     "output_type": "stream",
     "text": [
      "\r",
      "Scraping 29 games on 01/20/25:  45%|████▍     | 81 of 182 days scraped in 356.2 sec"
     ]
    },
    {
     "name": "stderr",
     "output_type": "stream",
     "text": [
      "Traceback (most recent call last):\n",
      "  File \u001b[35m\"/opt/hostedtoolcache/Python/3.13.7/x64/lib/python3.13/multiprocessing/resource_tracker.py\"\u001b[0m, line \u001b[35m295\u001b[0m, in \u001b[35mmain\u001b[0m\n",
      "    raise ValueError(\n",
      "        f'Cannot register {name} for automatic cleanup: '\n",
      "        f'unknown resource type {rtype}')\n",
      "\u001b[1;35mValueError\u001b[0m: \u001b[35mCannot register /dev/shm/joblib_memmapping_folder_2196_b3491d4793c54c2b805d4ce56703e198_db6aa97cea124f1d920f92323df44aa1 for automatic cleanup: unknown resource type folder\u001b[0m\n"
     ]
    },
    {
     "name": "stderr",
     "output_type": "stream",
     "text": [
      "\r",
      "Scraping 35 games on 01/21/25:  45%|████▍     | 81 of 182 days scraped in 356.6 sec"
     ]
    },
    {
     "name": "stderr",
     "output_type": "stream",
     "text": [
      "Traceback (most recent call last):\n",
      "  File \u001b[35m\"/opt/hostedtoolcache/Python/3.13.7/x64/lib/python3.13/multiprocessing/resource_tracker.py\"\u001b[0m, line \u001b[35m295\u001b[0m, in \u001b[35mmain\u001b[0m\n",
      "    raise ValueError(\n",
      "        f'Cannot register {name} for automatic cleanup: '\n",
      "        f'unknown resource type {rtype}')\n",
      "\u001b[1;35mValueError\u001b[0m: \u001b[35mCannot register /dev/shm/joblib_memmapping_folder_2196_b0147437a4874c7eb36146215cf13912_92dff512a8954ea69b0bbc075a470db6 for automatic cleanup: unknown resource type folder\u001b[0m\n",
      "Traceback (most recent call last):\n",
      "  File \u001b[35m\"/opt/hostedtoolcache/Python/3.13.7/x64/lib/python3.13/multiprocessing/resource_tracker.py\"\u001b[0m, line \u001b[35m295\u001b[0m, in \u001b[35mmain\u001b[0m\n",
      "    raise ValueError(\n",
      "        f'Cannot register {name} for automatic cleanup: '\n",
      "        f'unknown resource type {rtype}')\n",
      "\u001b[1;35mValueError\u001b[0m: \u001b[35mCannot register /dev/shm/joblib_memmapping_folder_2196_b3491d4793c54c2b805d4ce56703e198_aab7f2ba6cd94aaa9973714e4c314292 for automatic cleanup: unknown resource type folder\u001b[0m\n"
     ]
    },
    {
     "name": "stderr",
     "output_type": "stream",
     "text": [
      "\r",
      "Scraping 35 games on 01/21/25:  45%|████▌     | 82 of 182 days scraped in 359.6 sec"
     ]
    },
    {
     "name": "stderr",
     "output_type": "stream",
     "text": [
      "Traceback (most recent call last):\n",
      "  File \u001b[35m\"/opt/hostedtoolcache/Python/3.13.7/x64/lib/python3.13/multiprocessing/resource_tracker.py\"\u001b[0m, line \u001b[35m295\u001b[0m, in \u001b[35mmain\u001b[0m\n",
      "    raise ValueError(\n",
      "        f'Cannot register {name} for automatic cleanup: '\n",
      "        f'unknown resource type {rtype}')\n",
      "\u001b[1;35mValueError\u001b[0m: \u001b[35mCannot register /dev/shm/joblib_memmapping_folder_2196_b3491d4793c54c2b805d4ce56703e198_aab7f2ba6cd94aaa9973714e4c314292 for automatic cleanup: unknown resource type folder\u001b[0m\n"
     ]
    },
    {
     "name": "stderr",
     "output_type": "stream",
     "text": [
      "\r",
      "Scraping 42 games on 01/22/25:  45%|████▌     | 82 of 182 days scraped in 360.1 sec"
     ]
    },
    {
     "name": "stderr",
     "output_type": "stream",
     "text": [
      "Traceback (most recent call last):\n",
      "  File \u001b[35m\"/opt/hostedtoolcache/Python/3.13.7/x64/lib/python3.13/multiprocessing/resource_tracker.py\"\u001b[0m, line \u001b[35m295\u001b[0m, in \u001b[35mmain\u001b[0m\n",
      "    raise ValueError(\n",
      "        f'Cannot register {name} for automatic cleanup: '\n",
      "        f'unknown resource type {rtype}')\n",
      "\u001b[1;35mValueError\u001b[0m: \u001b[35mCannot register /dev/shm/joblib_memmapping_folder_2196_2c92563b1d984acfa71e8aa6ff02333c_135ddf0bc4ad4c0eb3546ffaf2953836 for automatic cleanup: unknown resource type folder\u001b[0m\n",
      "Traceback (most recent call last):\n",
      "  File \u001b[35m\"/opt/hostedtoolcache/Python/3.13.7/x64/lib/python3.13/multiprocessing/resource_tracker.py\"\u001b[0m, line \u001b[35m295\u001b[0m, in \u001b[35mmain\u001b[0m\n",
      "    raise ValueError(\n",
      "        f'Cannot register {name} for automatic cleanup: '\n",
      "        f'unknown resource type {rtype}')\n",
      "\u001b[1;35mValueError\u001b[0m: \u001b[35mCannot register /dev/shm/joblib_memmapping_folder_2196_b3491d4793c54c2b805d4ce56703e198_0fa0951847804376bc37a6eec422c7ce for automatic cleanup: unknown resource type folder\u001b[0m\n"
     ]
    },
    {
     "name": "stderr",
     "output_type": "stream",
     "text": [
      "\r",
      "Scraping 42 games on 01/22/25:  46%|████▌     | 83 of 182 days scraped in 363.8 secTraceback (most recent call last):\n"
     ]
    },
    {
     "name": "stderr",
     "output_type": "stream",
     "text": [
      "  File \u001b[35m\"/opt/hostedtoolcache/Python/3.13.7/x64/lib/python3.13/multiprocessing/resource_tracker.py\"\u001b[0m, line \u001b[35m295\u001b[0m, in \u001b[35mmain\u001b[0m\n",
      "    raise ValueError(\n",
      "        f'Cannot register {name} for automatic cleanup: '\n",
      "        f'unknown resource type {rtype}')\n",
      "\u001b[1;35mValueError\u001b[0m: \u001b[35mCannot register /dev/shm/joblib_memmapping_folder_2196_b3491d4793c54c2b805d4ce56703e198_0fa0951847804376bc37a6eec422c7ce for automatic cleanup: unknown resource type folder\u001b[0m\n"
     ]
    },
    {
     "name": "stderr",
     "output_type": "stream",
     "text": [
      "\r",
      "Scraping 61 games on 01/23/25:  46%|████▌     | 83 of 182 days scraped in 364.3 sec"
     ]
    },
    {
     "name": "stderr",
     "output_type": "stream",
     "text": [
      "Traceback (most recent call last):\n",
      "  File \u001b[35m\"/opt/hostedtoolcache/Python/3.13.7/x64/lib/python3.13/multiprocessing/resource_tracker.py\"\u001b[0m, line \u001b[35m295\u001b[0m, in \u001b[35mmain\u001b[0m\n",
      "    raise ValueError(\n",
      "        f'Cannot register {name} for automatic cleanup: '\n",
      "        f'unknown resource type {rtype}')\n",
      "\u001b[1;35mValueError\u001b[0m: \u001b[35mCannot register /dev/shm/joblib_memmapping_folder_2196_4350039ae4004843af66be181e661e46_5aa9a9d927d0477a819f5621cd35753b for automatic cleanup: unknown resource type folder\u001b[0m\n",
      "Traceback (most recent call last):\n",
      "  File \u001b[35m\"/opt/hostedtoolcache/Python/3.13.7/x64/lib/python3.13/multiprocessing/resource_tracker.py\"\u001b[0m, line \u001b[35m295\u001b[0m, in \u001b[35mmain\u001b[0m\n",
      "    raise ValueError(\n",
      "        f'Cannot register {name} for automatic cleanup: '\n",
      "        f'unknown resource type {rtype}')\n",
      "\u001b[1;35mValueError\u001b[0m: \u001b[35mCannot register /dev/shm/joblib_memmapping_folder_2196_b3491d4793c54c2b805d4ce56703e198_dd5ac14a83ac47fabd7fe0cc15867b03 for automatic cleanup: unknown resource type folder\u001b[0m\n"
     ]
    },
    {
     "name": "stderr",
     "output_type": "stream",
     "text": [
      "\r",
      "Scraping 61 games on 01/23/25:  46%|████▌     | 84 of 182 days scraped in 369.5 sec"
     ]
    },
    {
     "name": "stderr",
     "output_type": "stream",
     "text": [
      "Traceback (most recent call last):\n",
      "  File \u001b[35m\"/opt/hostedtoolcache/Python/3.13.7/x64/lib/python3.13/multiprocessing/resource_tracker.py\"\u001b[0m, line \u001b[35m295\u001b[0m, in \u001b[35mmain\u001b[0m\n",
      "    raise ValueError(\n",
      "        f'Cannot register {name} for automatic cleanup: '\n",
      "        f'unknown resource type {rtype}')\n",
      "\u001b[1;35mValueError\u001b[0m: \u001b[35mCannot register /dev/shm/joblib_memmapping_folder_2196_b3491d4793c54c2b805d4ce56703e198_dd5ac14a83ac47fabd7fe0cc15867b03 for automatic cleanup: unknown resource type folder\u001b[0m\n"
     ]
    },
    {
     "name": "stderr",
     "output_type": "stream",
     "text": [
      "\r",
      "Scraping 14 games on 01/24/25:  46%|████▌     | 84 of 182 days scraped in 369.9 sec"
     ]
    },
    {
     "name": "stderr",
     "output_type": "stream",
     "text": [
      "Traceback (most recent call last):\n",
      "  File \u001b[35m\"/opt/hostedtoolcache/Python/3.13.7/x64/lib/python3.13/multiprocessing/resource_tracker.py\"\u001b[0m, line \u001b[35m295\u001b[0m, in \u001b[35mmain\u001b[0m\n",
      "    raise ValueError(\n",
      "        f'Cannot register {name} for automatic cleanup: '\n",
      "        f'unknown resource type {rtype}')\n",
      "\u001b[1;35mValueError\u001b[0m: \u001b[35mCannot register /dev/shm/joblib_memmapping_folder_2196_d7fad936811c4513bc0961e04b264db4_5b2b37382e5840a5ae3703e468c65bbe for automatic cleanup: unknown resource type folder\u001b[0m\n",
      "Traceback (most recent call last):\n",
      "  File \u001b[35m\"/opt/hostedtoolcache/Python/3.13.7/x64/lib/python3.13/multiprocessing/resource_tracker.py\"\u001b[0m, line \u001b[35m295\u001b[0m, in \u001b[35mmain\u001b[0m\n",
      "    raise ValueError(\n",
      "        f'Cannot register {name} for automatic cleanup: '\n",
      "        f'unknown resource type {rtype}')\n",
      "\u001b[1;35mValueError\u001b[0m: \u001b[35mCannot register /dev/shm/joblib_memmapping_folder_2196_b3491d4793c54c2b805d4ce56703e198_facdf31a432e41daa490fc954af8452f for automatic cleanup: unknown resource type folder\u001b[0m\n"
     ]
    },
    {
     "name": "stderr",
     "output_type": "stream",
     "text": [
      "\r",
      "Scraping 14 games on 01/24/25:  47%|████▋     | 85 of 182 days scraped in 371.1 secTraceback (most recent call last):\n"
     ]
    },
    {
     "name": "stderr",
     "output_type": "stream",
     "text": [
      "  File \u001b[35m\"/opt/hostedtoolcache/Python/3.13.7/x64/lib/python3.13/multiprocessing/resource_tracker.py\"\u001b[0m, line \u001b[35m295\u001b[0m, in \u001b[35mmain\u001b[0m\n",
      "    raise ValueError(\n",
      "        f'Cannot register {name} for automatic cleanup: '\n",
      "        f'unknown resource type {rtype}')\n",
      "\u001b[1;35mValueError\u001b[0m: \u001b[35mCannot register /dev/shm/joblib_memmapping_folder_2196_b3491d4793c54c2b805d4ce56703e198_facdf31a432e41daa490fc954af8452f for automatic cleanup: unknown resource type folder\u001b[0m\n"
     ]
    },
    {
     "name": "stderr",
     "output_type": "stream",
     "text": [
      "\r",
      "Scraping 149 games on 01/25/25:  47%|████▋     | 85 of 182 days scraped in 372.5 sec"
     ]
    },
    {
     "name": "stderr",
     "output_type": "stream",
     "text": [
      "Traceback (most recent call last):\n",
      "  File \u001b[35m\"/opt/hostedtoolcache/Python/3.13.7/x64/lib/python3.13/multiprocessing/resource_tracker.py\"\u001b[0m, line \u001b[35m295\u001b[0m, in \u001b[35mmain\u001b[0m\n",
      "    raise ValueError(\n",
      "        f'Cannot register {name} for automatic cleanup: '\n",
      "        f'unknown resource type {rtype}')\n",
      "\u001b[1;35mValueError\u001b[0m: \u001b[35mCannot register /dev/shm/joblib_memmapping_folder_2196_4b15f16b14204f74ac65d9052f63598e_6dc66b0cafc549c49bf88f462d398ddf for automatic cleanup: unknown resource type folder\u001b[0m\n",
      "Traceback (most recent call last):\n",
      "  File \u001b[35m\"/opt/hostedtoolcache/Python/3.13.7/x64/lib/python3.13/multiprocessing/resource_tracker.py\"\u001b[0m, line \u001b[35m295\u001b[0m, in \u001b[35mmain\u001b[0m\n",
      "    raise ValueError(\n",
      "        f'Cannot register {name} for automatic cleanup: '\n",
      "        f'unknown resource type {rtype}')\n",
      "\u001b[1;35mValueError\u001b[0m: \u001b[35mCannot register /dev/shm/joblib_memmapping_folder_2196_b3491d4793c54c2b805d4ce56703e198_51cd217588414bccb63f0afdee86d192 for automatic cleanup: unknown resource type folder\u001b[0m\n"
     ]
    },
    {
     "name": "stderr",
     "output_type": "stream",
     "text": [
      "\r",
      "Scraping 149 games on 01/25/25:  47%|████▋     | 86 of 182 days scraped in 385.1 secTraceback (most recent call last):\n"
     ]
    },
    {
     "name": "stderr",
     "output_type": "stream",
     "text": [
      "  File \u001b[35m\"/opt/hostedtoolcache/Python/3.13.7/x64/lib/python3.13/multiprocessing/resource_tracker.py\"\u001b[0m, line \u001b[35m295\u001b[0m, in \u001b[35mmain\u001b[0m\n",
      "    raise ValueError(\n",
      "        f'Cannot register {name} for automatic cleanup: '\n",
      "        f'unknown resource type {rtype}')\n",
      "\u001b[1;35mValueError\u001b[0m: \u001b[35mCannot register /dev/shm/joblib_memmapping_folder_2196_b3491d4793c54c2b805d4ce56703e198_51cd217588414bccb63f0afdee86d192 for automatic cleanup: unknown resource type folder\u001b[0m\n"
     ]
    },
    {
     "name": "stderr",
     "output_type": "stream",
     "text": [
      "\r",
      "Scraping 13 games on 01/26/25:  47%|████▋     | 86 of 182 days scraped in 385.4 sec "
     ]
    },
    {
     "name": "stderr",
     "output_type": "stream",
     "text": [
      "Traceback (most recent call last):\n",
      "  File \u001b[35m\"/opt/hostedtoolcache/Python/3.13.7/x64/lib/python3.13/multiprocessing/resource_tracker.py\"\u001b[0m, line \u001b[35m295\u001b[0m, in \u001b[35mmain\u001b[0m\n",
      "    raise ValueError(\n",
      "        f'Cannot register {name} for automatic cleanup: '\n",
      "        f'unknown resource type {rtype}')\n",
      "\u001b[1;35mValueError\u001b[0m: \u001b[35mCannot register /dev/shm/joblib_memmapping_folder_2196_e236bf15b40d4c7db8398d9c5e5c20a9_78b69b60f58e4405953644d19ac59b4c for automatic cleanup: unknown resource type folder\u001b[0m\n",
      "Traceback (most recent call last):\n",
      "  File \u001b[35m\"/opt/hostedtoolcache/Python/3.13.7/x64/lib/python3.13/multiprocessing/resource_tracker.py\"\u001b[0m, line \u001b[35m295\u001b[0m, in \u001b[35mmain\u001b[0m\n",
      "    raise ValueError(\n",
      "        f'Cannot register {name} for automatic cleanup: '\n",
      "        f'unknown resource type {rtype}')\n",
      "\u001b[1;35mValueError\u001b[0m: \u001b[35mCannot register /dev/shm/joblib_memmapping_folder_2196_b3491d4793c54c2b805d4ce56703e198_c515143b32654b90b0982f5a1a93b5a2 for automatic cleanup: unknown resource type folder\u001b[0m\n"
     ]
    },
    {
     "name": "stderr",
     "output_type": "stream",
     "text": [
      "\r",
      "Scraping 13 games on 01/26/25:  48%|████▊     | 87 of 182 days scraped in 386.5 secTraceback (most recent call last):\n"
     ]
    },
    {
     "name": "stderr",
     "output_type": "stream",
     "text": [
      "  File \u001b[35m\"/opt/hostedtoolcache/Python/3.13.7/x64/lib/python3.13/multiprocessing/resource_tracker.py\"\u001b[0m, line \u001b[35m295\u001b[0m, in \u001b[35mmain\u001b[0m\n",
      "    raise ValueError(\n",
      "        f'Cannot register {name} for automatic cleanup: '\n",
      "        f'unknown resource type {rtype}')\n",
      "\u001b[1;35mValueError\u001b[0m: \u001b[35mCannot register /dev/shm/joblib_memmapping_folder_2196_b3491d4793c54c2b805d4ce56703e198_c515143b32654b90b0982f5a1a93b5a2 for automatic cleanup: unknown resource type folder\u001b[0m\n"
     ]
    },
    {
     "name": "stderr",
     "output_type": "stream",
     "text": [
      "\r",
      "Scraping 22 games on 01/27/25:  48%|████▊     | 87 of 182 days scraped in 386.9 sec"
     ]
    },
    {
     "name": "stderr",
     "output_type": "stream",
     "text": [
      "Traceback (most recent call last):\n",
      "  File \u001b[35m\"/opt/hostedtoolcache/Python/3.13.7/x64/lib/python3.13/multiprocessing/resource_tracker.py\"\u001b[0m, line \u001b[35m295\u001b[0m, in \u001b[35mmain\u001b[0m\n",
      "    raise ValueError(\n",
      "        f'Cannot register {name} for automatic cleanup: '\n",
      "        f'unknown resource type {rtype}')\n",
      "\u001b[1;35mValueError\u001b[0m: \u001b[35mCannot register /dev/shm/joblib_memmapping_folder_2196_1ba676fb23c74adb982a4fba14dbebae_3bb0e5e2aba24e5795c0f50e2b3ea238 for automatic cleanup: unknown resource type folder\u001b[0m\n",
      "Traceback (most recent call last):\n",
      "  File \u001b[35m\"/opt/hostedtoolcache/Python/3.13.7/x64/lib/python3.13/multiprocessing/resource_tracker.py\"\u001b[0m, line \u001b[35m295\u001b[0m, in \u001b[35mmain\u001b[0m\n",
      "    raise ValueError(\n",
      "        f'Cannot register {name} for automatic cleanup: '\n",
      "        f'unknown resource type {rtype}')\n",
      "\u001b[1;35mValueError\u001b[0m: \u001b[35mCannot register /dev/shm/joblib_memmapping_folder_2196_b3491d4793c54c2b805d4ce56703e198_d2cd2d72b62644e6b21fdff089fb5902 for automatic cleanup: unknown resource type folder\u001b[0m\n"
     ]
    },
    {
     "name": "stderr",
     "output_type": "stream",
     "text": [
      "\r",
      "Scraping 22 games on 01/27/25:  48%|████▊     | 88 of 182 days scraped in 388.8 secTraceback (most recent call last):\n"
     ]
    },
    {
     "name": "stderr",
     "output_type": "stream",
     "text": [
      "  File \u001b[35m\"/opt/hostedtoolcache/Python/3.13.7/x64/lib/python3.13/multiprocessing/resource_tracker.py\"\u001b[0m, line \u001b[35m295\u001b[0m, in \u001b[35mmain\u001b[0m\n",
      "    raise ValueError(\n",
      "        f'Cannot register {name} for automatic cleanup: '\n",
      "        f'unknown resource type {rtype}')\n",
      "\u001b[1;35mValueError\u001b[0m: \u001b[35mCannot register /dev/shm/joblib_memmapping_folder_2196_b3491d4793c54c2b805d4ce56703e198_d2cd2d72b62644e6b21fdff089fb5902 for automatic cleanup: unknown resource type folder\u001b[0m\n"
     ]
    },
    {
     "name": "stderr",
     "output_type": "stream",
     "text": [
      "\r",
      "Scraping 29 games on 01/28/25:  48%|████▊     | 88 of 182 days scraped in 389.2 sec"
     ]
    },
    {
     "name": "stderr",
     "output_type": "stream",
     "text": [
      "Traceback (most recent call last):\n",
      "  File \u001b[35m\"/opt/hostedtoolcache/Python/3.13.7/x64/lib/python3.13/multiprocessing/resource_tracker.py\"\u001b[0m, line \u001b[35m295\u001b[0m, in \u001b[35mmain\u001b[0m\n",
      "    raise ValueError(\n",
      "        f'Cannot register {name} for automatic cleanup: '\n",
      "        f'unknown resource type {rtype}')\n",
      "\u001b[1;35mValueError\u001b[0m: \u001b[35mCannot register /dev/shm/joblib_memmapping_folder_2196_d5a529f323294d26b4bf8143fd23da6f_d81b2eeee74741a3a5f09411a345d975 for automatic cleanup: unknown resource type folder\u001b[0m\n",
      "Traceback (most recent call last):\n",
      "  File \u001b[35m\"/opt/hostedtoolcache/Python/3.13.7/x64/lib/python3.13/multiprocessing/resource_tracker.py\"\u001b[0m, line \u001b[35m295\u001b[0m, in \u001b[35mmain\u001b[0m\n",
      "    raise ValueError(\n",
      "        f'Cannot register {name} for automatic cleanup: '\n",
      "        f'unknown resource type {rtype}')\n",
      "\u001b[1;35mValueError\u001b[0m: \u001b[35mCannot register /dev/shm/joblib_memmapping_folder_2196_b3491d4793c54c2b805d4ce56703e198_a175f4c7858544b895b254136a5a5c92 for automatic cleanup: unknown resource type folder\u001b[0m\n"
     ]
    },
    {
     "name": "stderr",
     "output_type": "stream",
     "text": [
      "\r",
      "Scraping 29 games on 01/28/25:  49%|████▉     | 89 of 182 days scraped in 391.8 sec"
     ]
    },
    {
     "name": "stderr",
     "output_type": "stream",
     "text": [
      "Traceback (most recent call last):\n",
      "  File \u001b[35m\"/opt/hostedtoolcache/Python/3.13.7/x64/lib/python3.13/multiprocessing/resource_tracker.py\"\u001b[0m, line \u001b[35m295\u001b[0m, in \u001b[35mmain\u001b[0m\n",
      "    raise ValueError(\n",
      "        f'Cannot register {name} for automatic cleanup: '\n",
      "        f'unknown resource type {rtype}')\n",
      "\u001b[1;35mValueError\u001b[0m: \u001b[35mCannot register /dev/shm/joblib_memmapping_folder_2196_b3491d4793c54c2b805d4ce56703e198_a175f4c7858544b895b254136a5a5c92 for automatic cleanup: unknown resource type folder\u001b[0m\n"
     ]
    },
    {
     "name": "stderr",
     "output_type": "stream",
     "text": [
      "\r",
      "Scraping 52 games on 01/29/25:  49%|████▉     | 89 of 182 days scraped in 392.4 sec"
     ]
    },
    {
     "name": "stderr",
     "output_type": "stream",
     "text": [
      "Traceback (most recent call last):\n",
      "  File \u001b[35m\"/opt/hostedtoolcache/Python/3.13.7/x64/lib/python3.13/multiprocessing/resource_tracker.py\"\u001b[0m, line \u001b[35m295\u001b[0m, in \u001b[35mmain\u001b[0m\n",
      "    raise ValueError(\n",
      "        f'Cannot register {name} for automatic cleanup: '\n",
      "        f'unknown resource type {rtype}')\n",
      "\u001b[1;35mValueError\u001b[0m: \u001b[35mCannot register /dev/shm/joblib_memmapping_folder_2196_ed488bdaf4b14784a196190ff87bfd77_405b03150abf4e9fa873a5080b4ca1a3 for automatic cleanup: unknown resource type folder\u001b[0m\n",
      "Traceback (most recent call last):\n",
      "  File \u001b[35m\"/opt/hostedtoolcache/Python/3.13.7/x64/lib/python3.13/multiprocessing/resource_tracker.py\"\u001b[0m, line \u001b[35m295\u001b[0m, in \u001b[35mmain\u001b[0m\n",
      "    raise ValueError(\n",
      "        f'Cannot register {name} for automatic cleanup: '\n",
      "        f'unknown resource type {rtype}')\n",
      "\u001b[1;35mValueError\u001b[0m: \u001b[35mCannot register /dev/shm/joblib_memmapping_folder_2196_b3491d4793c54c2b805d4ce56703e198_49ad1060966347f1aa80e1baffbe7ff1 for automatic cleanup: unknown resource type folder\u001b[0m\n"
     ]
    },
    {
     "name": "stderr",
     "output_type": "stream",
     "text": [
      "\r",
      "Scraping 52 games on 01/29/25:  49%|████▉     | 90 of 182 days scraped in 396.7 secTraceback (most recent call last):\n"
     ]
    },
    {
     "name": "stderr",
     "output_type": "stream",
     "text": [
      "  File \u001b[35m\"/opt/hostedtoolcache/Python/3.13.7/x64/lib/python3.13/multiprocessing/resource_tracker.py\"\u001b[0m, line \u001b[35m295\u001b[0m, in \u001b[35mmain\u001b[0m\n",
      "    raise ValueError(\n",
      "        f'Cannot register {name} for automatic cleanup: '\n",
      "        f'unknown resource type {rtype}')\n",
      "\u001b[1;35mValueError\u001b[0m: \u001b[35mCannot register /dev/shm/joblib_memmapping_folder_2196_b3491d4793c54c2b805d4ce56703e198_49ad1060966347f1aa80e1baffbe7ff1 for automatic cleanup: unknown resource type folder\u001b[0m\n"
     ]
    },
    {
     "name": "stderr",
     "output_type": "stream",
     "text": [
      "\r",
      "Scraping 58 games on 01/30/25:  49%|████▉     | 90 of 182 days scraped in 397.3 sec"
     ]
    },
    {
     "name": "stderr",
     "output_type": "stream",
     "text": [
      "Traceback (most recent call last):\n",
      "  File \u001b[35m\"/opt/hostedtoolcache/Python/3.13.7/x64/lib/python3.13/multiprocessing/resource_tracker.py\"\u001b[0m, line \u001b[35m295\u001b[0m, in \u001b[35mmain\u001b[0m\n",
      "    raise ValueError(\n",
      "        f'Cannot register {name} for automatic cleanup: '\n",
      "        f'unknown resource type {rtype}')\n",
      "\u001b[1;35mValueError\u001b[0m: \u001b[35mCannot register /dev/shm/joblib_memmapping_folder_2196_7849c07c08274843b3e2eecb4d22addb_0c7090d4619b4311be933fa1f26c17d7 for automatic cleanup: unknown resource type folder\u001b[0m\n",
      "Traceback (most recent call last):\n",
      "  File \u001b[35m\"/opt/hostedtoolcache/Python/3.13.7/x64/lib/python3.13/multiprocessing/resource_tracker.py\"\u001b[0m, line \u001b[35m295\u001b[0m, in \u001b[35mmain\u001b[0m\n",
      "    raise ValueError(\n",
      "        f'Cannot register {name} for automatic cleanup: '\n",
      "        f'unknown resource type {rtype}')\n",
      "\u001b[1;35mValueError\u001b[0m: \u001b[35mCannot register /dev/shm/joblib_memmapping_folder_2196_b3491d4793c54c2b805d4ce56703e198_9709c2c228894369a718a036cdf55345 for automatic cleanup: unknown resource type folder\u001b[0m\n"
     ]
    },
    {
     "name": "stderr",
     "output_type": "stream",
     "text": [
      "\r",
      "Scraping 58 games on 01/30/25:  50%|█████     | 91 of 182 days scraped in 402.1 sec"
     ]
    },
    {
     "name": "stderr",
     "output_type": "stream",
     "text": [
      "Traceback (most recent call last):\n",
      "  File \u001b[35m\"/opt/hostedtoolcache/Python/3.13.7/x64/lib/python3.13/multiprocessing/resource_tracker.py\"\u001b[0m, line \u001b[35m295\u001b[0m, in \u001b[35mmain\u001b[0m\n",
      "    raise ValueError(\n",
      "        f'Cannot register {name} for automatic cleanup: '\n",
      "        f'unknown resource type {rtype}')\n",
      "\u001b[1;35mValueError\u001b[0m: \u001b[35mCannot register /dev/shm/joblib_memmapping_folder_2196_b3491d4793c54c2b805d4ce56703e198_9709c2c228894369a718a036cdf55345 for automatic cleanup: unknown resource type folder\u001b[0m\n"
     ]
    },
    {
     "name": "stderr",
     "output_type": "stream",
     "text": [
      "\r",
      "Scraping 14 games on 01/31/25:  50%|█████     | 91 of 182 days scraped in 402.5 sec"
     ]
    },
    {
     "name": "stderr",
     "output_type": "stream",
     "text": [
      "Traceback (most recent call last):\n",
      "  File \u001b[35m\"/opt/hostedtoolcache/Python/3.13.7/x64/lib/python3.13/multiprocessing/resource_tracker.py\"\u001b[0m, line \u001b[35m295\u001b[0m, in \u001b[35mmain\u001b[0m\n",
      "    raise ValueError(\n",
      "        f'Cannot register {name} for automatic cleanup: '\n",
      "        f'unknown resource type {rtype}')\n",
      "\u001b[1;35mValueError\u001b[0m: \u001b[35mCannot register /dev/shm/joblib_memmapping_folder_2196_1001ca3cdbde4630be3d5b53051bcf06_d3145e357fe641ae9c5423c0beb2daf3 for automatic cleanup: unknown resource type folder\u001b[0m\n",
      "Traceback (most recent call last):\n",
      "  File \u001b[35m\"/opt/hostedtoolcache/Python/3.13.7/x64/lib/python3.13/multiprocessing/resource_tracker.py\"\u001b[0m, line \u001b[35m295\u001b[0m, in \u001b[35mmain\u001b[0m\n",
      "    raise ValueError(\n",
      "        f'Cannot register {name} for automatic cleanup: '\n",
      "        f'unknown resource type {rtype}')\n",
      "\u001b[1;35mValueError\u001b[0m: \u001b[35mCannot register /dev/shm/joblib_memmapping_folder_2196_b3491d4793c54c2b805d4ce56703e198_23bd84140edb42eeb3a31cea200d9507 for automatic cleanup: unknown resource type folder\u001b[0m\n"
     ]
    },
    {
     "name": "stderr",
     "output_type": "stream",
     "text": [
      "\r",
      "Scraping 14 games on 01/31/25:  51%|█████     | 92 of 182 days scraped in 403.7 sec"
     ]
    },
    {
     "name": "stderr",
     "output_type": "stream",
     "text": [
      "Traceback (most recent call last):\n",
      "  File \u001b[35m\"/opt/hostedtoolcache/Python/3.13.7/x64/lib/python3.13/multiprocessing/resource_tracker.py\"\u001b[0m, line \u001b[35m295\u001b[0m, in \u001b[35mmain\u001b[0m\n",
      "    raise ValueError(\n",
      "        f'Cannot register {name} for automatic cleanup: '\n",
      "        f'unknown resource type {rtype}')\n",
      "\u001b[1;35mValueError\u001b[0m: \u001b[35mCannot register /dev/shm/joblib_memmapping_folder_2196_b3491d4793c54c2b805d4ce56703e198_23bd84140edb42eeb3a31cea200d9507 for automatic cleanup: unknown resource type folder\u001b[0m\n"
     ]
    },
    {
     "name": "stderr",
     "output_type": "stream",
     "text": [
      "\r",
      "Scraping 146 games on 02/01/25:  51%|█████     | 92 of 182 days scraped in 405.0 sec"
     ]
    },
    {
     "name": "stderr",
     "output_type": "stream",
     "text": [
      "Traceback (most recent call last):\n",
      "  File \u001b[35m\"/opt/hostedtoolcache/Python/3.13.7/x64/lib/python3.13/multiprocessing/resource_tracker.py\"\u001b[0m, line \u001b[35m295\u001b[0m, in \u001b[35mmain\u001b[0m\n",
      "    raise ValueError(\n",
      "        f'Cannot register {name} for automatic cleanup: '\n",
      "        f'unknown resource type {rtype}')\n",
      "\u001b[1;35mValueError\u001b[0m: \u001b[35mCannot register /dev/shm/joblib_memmapping_folder_2196_3332c4ba1fad4729ba2b37f9f4a40713_8c33d82518444cc09b020a5a1d65b71a for automatic cleanup: unknown resource type folder\u001b[0m\n",
      "Traceback (most recent call last):\n",
      "  File \u001b[35m\"/opt/hostedtoolcache/Python/3.13.7/x64/lib/python3.13/multiprocessing/resource_tracker.py\"\u001b[0m, line \u001b[35m295\u001b[0m, in \u001b[35mmain\u001b[0m\n",
      "    raise ValueError(\n",
      "        f'Cannot register {name} for automatic cleanup: '\n",
      "        f'unknown resource type {rtype}')\n",
      "\u001b[1;35mValueError\u001b[0m: \u001b[35mCannot register /dev/shm/joblib_memmapping_folder_2196_b3491d4793c54c2b805d4ce56703e198_2d558edd5fe74e87a052eedcda8c7323 for automatic cleanup: unknown resource type folder\u001b[0m\n"
     ]
    },
    {
     "name": "stderr",
     "output_type": "stream",
     "text": [
      "\r",
      "Scraping 146 games on 02/01/25:  51%|█████     | 93 of 182 days scraped in 416.9 sec"
     ]
    },
    {
     "name": "stderr",
     "output_type": "stream",
     "text": [
      "Traceback (most recent call last):\n",
      "  File \u001b[35m\"/opt/hostedtoolcache/Python/3.13.7/x64/lib/python3.13/multiprocessing/resource_tracker.py\"\u001b[0m, line \u001b[35m295\u001b[0m, in \u001b[35mmain\u001b[0m\n",
      "    raise ValueError(\n",
      "        f'Cannot register {name} for automatic cleanup: '\n",
      "        f'unknown resource type {rtype}')\n",
      "\u001b[1;35mValueError\u001b[0m: \u001b[35mCannot register /dev/shm/joblib_memmapping_folder_2196_b3491d4793c54c2b805d4ce56703e198_2d558edd5fe74e87a052eedcda8c7323 for automatic cleanup: unknown resource type folder\u001b[0m\n"
     ]
    },
    {
     "name": "stderr",
     "output_type": "stream",
     "text": [
      "\r",
      "Scraping 19 games on 02/02/25:  51%|█████     | 93 of 182 days scraped in 417.2 sec "
     ]
    },
    {
     "name": "stderr",
     "output_type": "stream",
     "text": [
      "Traceback (most recent call last):\n",
      "  File \u001b[35m\"/opt/hostedtoolcache/Python/3.13.7/x64/lib/python3.13/multiprocessing/resource_tracker.py\"\u001b[0m, line \u001b[35m295\u001b[0m, in \u001b[35mmain\u001b[0m\n",
      "    raise ValueError(\n",
      "        f'Cannot register {name} for automatic cleanup: '\n",
      "        f'unknown resource type {rtype}')\n",
      "\u001b[1;35mValueError\u001b[0m: \u001b[35mCannot register /dev/shm/joblib_memmapping_folder_2196_df84b84c02a040579ba3c6db20c87c7a_b5df2a5079d843a5b74e5790a2177b75 for automatic cleanup: unknown resource type folder\u001b[0m\n",
      "Traceback (most recent call last):\n",
      "  File \u001b[35m\"/opt/hostedtoolcache/Python/3.13.7/x64/lib/python3.13/multiprocessing/resource_tracker.py\"\u001b[0m, line \u001b[35m295\u001b[0m, in \u001b[35mmain\u001b[0m\n",
      "    raise ValueError(\n",
      "        f'Cannot register {name} for automatic cleanup: '\n",
      "        f'unknown resource type {rtype}')\n",
      "\u001b[1;35mValueError\u001b[0m: \u001b[35mCannot register /dev/shm/joblib_memmapping_folder_2196_b3491d4793c54c2b805d4ce56703e198_c163c4b880ed4c58aacce16fe192bf8a for automatic cleanup: unknown resource type folder\u001b[0m\n"
     ]
    },
    {
     "name": "stderr",
     "output_type": "stream",
     "text": [
      "\r",
      "Scraping 19 games on 02/02/25:  52%|█████▏    | 94 of 182 days scraped in 418.9 secTraceback (most recent call last):\n"
     ]
    },
    {
     "name": "stderr",
     "output_type": "stream",
     "text": [
      "  File \u001b[35m\"/opt/hostedtoolcache/Python/3.13.7/x64/lib/python3.13/multiprocessing/resource_tracker.py\"\u001b[0m, line \u001b[35m295\u001b[0m, in \u001b[35mmain\u001b[0m\n",
      "    raise ValueError(\n",
      "        f'Cannot register {name} for automatic cleanup: '\n",
      "        f'unknown resource type {rtype}')\n",
      "\u001b[1;35mValueError\u001b[0m: \u001b[35mCannot register /dev/shm/joblib_memmapping_folder_2196_b3491d4793c54c2b805d4ce56703e198_c163c4b880ed4c58aacce16fe192bf8a for automatic cleanup: unknown resource type folder\u001b[0m\n"
     ]
    },
    {
     "name": "stderr",
     "output_type": "stream",
     "text": [
      "\r",
      "Scraping 21 games on 02/03/25:  52%|█████▏    | 94 of 182 days scraped in 419.2 sec"
     ]
    },
    {
     "name": "stderr",
     "output_type": "stream",
     "text": [
      "Traceback (most recent call last):\n",
      "  File \u001b[35m\"/opt/hostedtoolcache/Python/3.13.7/x64/lib/python3.13/multiprocessing/resource_tracker.py\"\u001b[0m, line \u001b[35m295\u001b[0m, in \u001b[35mmain\u001b[0m\n",
      "    raise ValueError(\n",
      "        f'Cannot register {name} for automatic cleanup: '\n",
      "        f'unknown resource type {rtype}')\n",
      "\u001b[1;35mValueError\u001b[0m: \u001b[35mCannot register /dev/shm/joblib_memmapping_folder_2196_12029d842aae4b018b0b115a73a6ffc4_e87aa0bf5c1c42598e142c3f0e551f83 for automatic cleanup: unknown resource type folder\u001b[0m\n",
      "Traceback (most recent call last):\n",
      "  File \u001b[35m\"/opt/hostedtoolcache/Python/3.13.7/x64/lib/python3.13/multiprocessing/resource_tracker.py\"\u001b[0m, line \u001b[35m295\u001b[0m, in \u001b[35mmain\u001b[0m\n",
      "    raise ValueError(\n",
      "        f'Cannot register {name} for automatic cleanup: '\n",
      "        f'unknown resource type {rtype}')\n",
      "\u001b[1;35mValueError\u001b[0m: \u001b[35mCannot register /dev/shm/joblib_memmapping_folder_2196_b3491d4793c54c2b805d4ce56703e198_4d930a4c502040c9800cf219770273e2 for automatic cleanup: unknown resource type folder\u001b[0m\n"
     ]
    },
    {
     "name": "stderr",
     "output_type": "stream",
     "text": [
      "\r",
      "Scraping 21 games on 02/03/25:  52%|█████▏    | 95 of 182 days scraped in 421.1 secTraceback (most recent call last):\n"
     ]
    },
    {
     "name": "stderr",
     "output_type": "stream",
     "text": [
      "  File \u001b[35m\"/opt/hostedtoolcache/Python/3.13.7/x64/lib/python3.13/multiprocessing/resource_tracker.py\"\u001b[0m, line \u001b[35m295\u001b[0m, in \u001b[35mmain\u001b[0m\n",
      "    raise ValueError(\n",
      "        f'Cannot register {name} for automatic cleanup: '\n",
      "        f'unknown resource type {rtype}')\n",
      "\u001b[1;35mValueError\u001b[0m: \u001b[35mCannot register /dev/shm/joblib_memmapping_folder_2196_b3491d4793c54c2b805d4ce56703e198_4d930a4c502040c9800cf219770273e2 for automatic cleanup: unknown resource type folder\u001b[0m\n"
     ]
    },
    {
     "name": "stderr",
     "output_type": "stream",
     "text": [
      "\r",
      "Scraping 34 games on 02/04/25:  52%|█████▏    | 95 of 182 days scraped in 421.8 sec"
     ]
    },
    {
     "name": "stderr",
     "output_type": "stream",
     "text": [
      "Traceback (most recent call last):\n",
      "  File \u001b[35m\"/opt/hostedtoolcache/Python/3.13.7/x64/lib/python3.13/multiprocessing/resource_tracker.py\"\u001b[0m, line \u001b[35m295\u001b[0m, in \u001b[35mmain\u001b[0m\n",
      "    raise ValueError(\n",
      "        f'Cannot register {name} for automatic cleanup: '\n",
      "        f'unknown resource type {rtype}')\n",
      "\u001b[1;35mValueError\u001b[0m: \u001b[35mCannot register /dev/shm/joblib_memmapping_folder_2196_1d6649790dc84e0db3eeede9755cf5d4_c1df43ffd4a3428c8de530bcb7ddda86 for automatic cleanup: unknown resource type folder\u001b[0m\n",
      "Traceback (most recent call last):\n",
      "  File \u001b[35m\"/opt/hostedtoolcache/Python/3.13.7/x64/lib/python3.13/multiprocessing/resource_tracker.py\"\u001b[0m, line \u001b[35m295\u001b[0m, in \u001b[35mmain\u001b[0m\n",
      "    raise ValueError(\n",
      "        f'Cannot register {name} for automatic cleanup: '\n",
      "        f'unknown resource type {rtype}')\n",
      "\u001b[1;35mValueError\u001b[0m: \u001b[35mCannot register /dev/shm/joblib_memmapping_folder_2196_b3491d4793c54c2b805d4ce56703e198_0aaa12a4e825460a9eacf026f0dd1f33 for automatic cleanup: unknown resource type folder\u001b[0m\n"
     ]
    },
    {
     "name": "stderr",
     "output_type": "stream",
     "text": [
      "\r",
      "Scraping 34 games on 02/04/25:  53%|█████▎    | 96 of 182 days scraped in 424.8 sec"
     ]
    },
    {
     "name": "stderr",
     "output_type": "stream",
     "text": [
      "Traceback (most recent call last):\n",
      "  File \u001b[35m\"/opt/hostedtoolcache/Python/3.13.7/x64/lib/python3.13/multiprocessing/resource_tracker.py\"\u001b[0m, line \u001b[35m295\u001b[0m, in \u001b[35mmain\u001b[0m\n",
      "    raise ValueError(\n",
      "        f'Cannot register {name} for automatic cleanup: '\n",
      "        f'unknown resource type {rtype}')\n",
      "\u001b[1;35mValueError\u001b[0m: \u001b[35mCannot register /dev/shm/joblib_memmapping_folder_2196_b3491d4793c54c2b805d4ce56703e198_0aaa12a4e825460a9eacf026f0dd1f33 for automatic cleanup: unknown resource type folder\u001b[0m\n"
     ]
    },
    {
     "name": "stderr",
     "output_type": "stream",
     "text": [
      "\r",
      "Scraping 55 games on 02/05/25:  53%|█████▎    | 96 of 182 days scraped in 425.4 sec"
     ]
    },
    {
     "name": "stderr",
     "output_type": "stream",
     "text": [
      "Traceback (most recent call last):\n",
      "  File \u001b[35m\"/opt/hostedtoolcache/Python/3.13.7/x64/lib/python3.13/multiprocessing/resource_tracker.py\"\u001b[0m, line \u001b[35m295\u001b[0m, in \u001b[35mmain\u001b[0m\n",
      "    raise ValueError(\n",
      "        f'Cannot register {name} for automatic cleanup: '\n",
      "        f'unknown resource type {rtype}')\n",
      "\u001b[1;35mValueError\u001b[0m: \u001b[35mCannot register /dev/shm/joblib_memmapping_folder_2196_778e6f2d3af646f09cd57546f2d23044_4caf0ee609284b4eb8be8f0e04abf790 for automatic cleanup: unknown resource type folder\u001b[0m\n",
      "Traceback (most recent call last):\n",
      "  File \u001b[35m\"/opt/hostedtoolcache/Python/3.13.7/x64/lib/python3.13/multiprocessing/resource_tracker.py\"\u001b[0m, line \u001b[35m295\u001b[0m, in \u001b[35mmain\u001b[0m\n",
      "    raise ValueError(\n",
      "        f'Cannot register {name} for automatic cleanup: '\n",
      "        f'unknown resource type {rtype}')\n",
      "\u001b[1;35mValueError\u001b[0m: \u001b[35mCannot register /dev/shm/joblib_memmapping_folder_2196_b3491d4793c54c2b805d4ce56703e198_93b2d1afc44c451ab210ba49b2900836 for automatic cleanup: unknown resource type folder\u001b[0m\n"
     ]
    },
    {
     "name": "stderr",
     "output_type": "stream",
     "text": [
      "\r",
      "Scraping 55 games on 02/05/25:  53%|█████▎    | 97 of 182 days scraped in 430.1 secTraceback (most recent call last):\n"
     ]
    },
    {
     "name": "stderr",
     "output_type": "stream",
     "text": [
      "  File \u001b[35m\"/opt/hostedtoolcache/Python/3.13.7/x64/lib/python3.13/multiprocessing/resource_tracker.py\"\u001b[0m, line \u001b[35m295\u001b[0m, in \u001b[35mmain\u001b[0m\n",
      "    raise ValueError(\n",
      "        f'Cannot register {name} for automatic cleanup: '\n",
      "        f'unknown resource type {rtype}')\n",
      "\u001b[1;35mValueError\u001b[0m: \u001b[35mCannot register /dev/shm/joblib_memmapping_folder_2196_b3491d4793c54c2b805d4ce56703e198_93b2d1afc44c451ab210ba49b2900836 for automatic cleanup: unknown resource type folder\u001b[0m\n"
     ]
    },
    {
     "name": "stderr",
     "output_type": "stream",
     "text": [
      "\r",
      "Scraping 59 games on 02/06/25:  53%|█████▎    | 97 of 182 days scraped in 430.7 sec"
     ]
    },
    {
     "name": "stderr",
     "output_type": "stream",
     "text": [
      "Traceback (most recent call last):\n",
      "  File \u001b[35m\"/opt/hostedtoolcache/Python/3.13.7/x64/lib/python3.13/multiprocessing/resource_tracker.py\"\u001b[0m, line \u001b[35m295\u001b[0m, in \u001b[35mmain\u001b[0m\n",
      "    raise ValueError(\n",
      "        f'Cannot register {name} for automatic cleanup: '\n",
      "        f'unknown resource type {rtype}')\n",
      "\u001b[1;35mValueError\u001b[0m: \u001b[35mCannot register /dev/shm/joblib_memmapping_folder_2196_f2578b5b2ec04e3c9010277956c8e80c_5658856a786e4eb8ae8d65d2c0cc5f40 for automatic cleanup: unknown resource type folder\u001b[0m\n",
      "Traceback (most recent call last):\n",
      "  File \u001b[35m\"/opt/hostedtoolcache/Python/3.13.7/x64/lib/python3.13/multiprocessing/resource_tracker.py\"\u001b[0m, line \u001b[35m295\u001b[0m, in \u001b[35mmain\u001b[0m\n",
      "    raise ValueError(\n",
      "        f'Cannot register {name} for automatic cleanup: '\n",
      "        f'unknown resource type {rtype}')\n",
      "\u001b[1;35mValueError\u001b[0m: \u001b[35mCannot register /dev/shm/joblib_memmapping_folder_2196_b3491d4793c54c2b805d4ce56703e198_d92b3a0bbb0e4e15939d3c34bc62d011 for automatic cleanup: unknown resource type folder\u001b[0m\n"
     ]
    },
    {
     "name": "stderr",
     "output_type": "stream",
     "text": [
      "\r",
      "Scraping 59 games on 02/06/25:  54%|█████▍    | 98 of 182 days scraped in 435.5 sec"
     ]
    },
    {
     "name": "stderr",
     "output_type": "stream",
     "text": [
      "Traceback (most recent call last):\n",
      "  File \u001b[35m\"/opt/hostedtoolcache/Python/3.13.7/x64/lib/python3.13/multiprocessing/resource_tracker.py\"\u001b[0m, line \u001b[35m295\u001b[0m, in \u001b[35mmain\u001b[0m\n",
      "    raise ValueError(\n",
      "        f'Cannot register {name} for automatic cleanup: '\n",
      "        f'unknown resource type {rtype}')\n",
      "\u001b[1;35mValueError\u001b[0m: \u001b[35mCannot register /dev/shm/joblib_memmapping_folder_2196_b3491d4793c54c2b805d4ce56703e198_d92b3a0bbb0e4e15939d3c34bc62d011 for automatic cleanup: unknown resource type folder\u001b[0m\n"
     ]
    },
    {
     "name": "stderr",
     "output_type": "stream",
     "text": [
      "\r",
      "Scraping 7 games on 02/07/25:  54%|█████▍    | 98 of 182 days scraped in 435.8 sec "
     ]
    },
    {
     "name": "stderr",
     "output_type": "stream",
     "text": [
      "Traceback (most recent call last):\n",
      "  File \u001b[35m\"/opt/hostedtoolcache/Python/3.13.7/x64/lib/python3.13/multiprocessing/resource_tracker.py\"\u001b[0m, line \u001b[35m295\u001b[0m, in \u001b[35mmain\u001b[0m\n",
      "    raise ValueError(\n",
      "        f'Cannot register {name} for automatic cleanup: '\n",
      "        f'unknown resource type {rtype}')\n",
      "\u001b[1;35mValueError\u001b[0m: \u001b[35mCannot register /dev/shm/joblib_memmapping_folder_2196_9fa4a29f0e544b80832938a672ad17c7_9740cd3fb6f645b6aad95fbf355d4f61 for automatic cleanup: unknown resource type folder\u001b[0m\n",
      "Traceback (most recent call last):\n",
      "  File \u001b[35m\"/opt/hostedtoolcache/Python/3.13.7/x64/lib/python3.13/multiprocessing/resource_tracker.py\"\u001b[0m, line \u001b[35m295\u001b[0m, in \u001b[35mmain\u001b[0m\n",
      "    raise ValueError(\n",
      "        f'Cannot register {name} for automatic cleanup: '\n",
      "        f'unknown resource type {rtype}')\n",
      "\u001b[1;35mValueError\u001b[0m: \u001b[35mCannot register /dev/shm/joblib_memmapping_folder_2196_b3491d4793c54c2b805d4ce56703e198_18160d3e8be14e53a68990c5c57df469 for automatic cleanup: unknown resource type folder\u001b[0m\n"
     ]
    },
    {
     "name": "stderr",
     "output_type": "stream",
     "text": [
      "\r",
      "Scraping 7 games on 02/07/25:  54%|█████▍    | 99 of 182 days scraped in 436.5 secTraceback (most recent call last):\n"
     ]
    },
    {
     "name": "stderr",
     "output_type": "stream",
     "text": [
      "  File \u001b[35m\"/opt/hostedtoolcache/Python/3.13.7/x64/lib/python3.13/multiprocessing/resource_tracker.py\"\u001b[0m, line \u001b[35m295\u001b[0m, in \u001b[35mmain\u001b[0m\n",
      "    raise ValueError(\n",
      "        f'Cannot register {name} for automatic cleanup: '\n",
      "        f'unknown resource type {rtype}')\n",
      "\u001b[1;35mValueError\u001b[0m: \u001b[35mCannot register /dev/shm/joblib_memmapping_folder_2196_b3491d4793c54c2b805d4ce56703e198_18160d3e8be14e53a68990c5c57df469 for automatic cleanup: unknown resource type folder\u001b[0m\n"
     ]
    },
    {
     "name": "stderr",
     "output_type": "stream",
     "text": [
      "\r",
      "Scraping 155 games on 02/08/25:  54%|█████▍    | 99 of 182 days scraped in 437.6 sec"
     ]
    },
    {
     "name": "stderr",
     "output_type": "stream",
     "text": [
      "Traceback (most recent call last):\n",
      "  File \u001b[35m\"/opt/hostedtoolcache/Python/3.13.7/x64/lib/python3.13/multiprocessing/resource_tracker.py\"\u001b[0m, line \u001b[35m295\u001b[0m, in \u001b[35mmain\u001b[0m\n",
      "    raise ValueError(\n",
      "        f'Cannot register {name} for automatic cleanup: '\n",
      "        f'unknown resource type {rtype}')\n",
      "\u001b[1;35mValueError\u001b[0m: \u001b[35mCannot register /dev/shm/joblib_memmapping_folder_2196_dc30424faa5649e5b60e29caa8c42ba1_7ce83e8acea343da9d388e21ec8dde1f for automatic cleanup: unknown resource type folder\u001b[0m\n",
      "Traceback (most recent call last):\n",
      "  File \u001b[35m\"/opt/hostedtoolcache/Python/3.13.7/x64/lib/python3.13/multiprocessing/resource_tracker.py\"\u001b[0m, line \u001b[35m295\u001b[0m, in \u001b[35mmain\u001b[0m\n",
      "    raise ValueError(\n",
      "        f'Cannot register {name} for automatic cleanup: '\n",
      "        f'unknown resource type {rtype}')\n",
      "\u001b[1;35mValueError\u001b[0m: \u001b[35mCannot register /dev/shm/joblib_memmapping_folder_2196_b3491d4793c54c2b805d4ce56703e198_b4b58d4f36074bedb8e349361c570b1a for automatic cleanup: unknown resource type folder\u001b[0m\n"
     ]
    },
    {
     "name": "stderr",
     "output_type": "stream",
     "text": [
      "\r",
      "Scraping 155 games on 02/08/25:  55%|█████▍    | 100 of 182 days scraped in 450.2 sec"
     ]
    },
    {
     "name": "stderr",
     "output_type": "stream",
     "text": [
      "Traceback (most recent call last):\n",
      "  File \u001b[35m\"/opt/hostedtoolcache/Python/3.13.7/x64/lib/python3.13/multiprocessing/resource_tracker.py\"\u001b[0m, line \u001b[35m295\u001b[0m, in \u001b[35mmain\u001b[0m\n",
      "    raise ValueError(\n",
      "        f'Cannot register {name} for automatic cleanup: '\n",
      "        f'unknown resource type {rtype}')\n",
      "\u001b[1;35mValueError\u001b[0m: \u001b[35mCannot register /dev/shm/joblib_memmapping_folder_2196_b3491d4793c54c2b805d4ce56703e198_b4b58d4f36074bedb8e349361c570b1a for automatic cleanup: unknown resource type folder\u001b[0m\n"
     ]
    },
    {
     "name": "stderr",
     "output_type": "stream",
     "text": [
      "\r",
      "Scraping 8 games on 02/09/25:  55%|█████▍    | 100 of 182 days scraped in 450.5 sec  "
     ]
    },
    {
     "name": "stderr",
     "output_type": "stream",
     "text": [
      "Traceback (most recent call last):\n",
      "  File \u001b[35m\"/opt/hostedtoolcache/Python/3.13.7/x64/lib/python3.13/multiprocessing/resource_tracker.py\"\u001b[0m, line \u001b[35m295\u001b[0m, in \u001b[35mmain\u001b[0m\n",
      "    raise ValueError(\n",
      "        f'Cannot register {name} for automatic cleanup: '\n",
      "        f'unknown resource type {rtype}')\n",
      "\u001b[1;35mValueError\u001b[0m: \u001b[35mCannot register /dev/shm/joblib_memmapping_folder_2196_48a0af2113ab4a8ea2b26161fb5110c2_2ba1d86c4c3c41769b4169161c1c98d3 for automatic cleanup: unknown resource type folder\u001b[0m\n",
      "Traceback (most recent call last):\n",
      "  File \u001b[35m\"/opt/hostedtoolcache/Python/3.13.7/x64/lib/python3.13/multiprocessing/resource_tracker.py\"\u001b[0m, line \u001b[35m295\u001b[0m, in \u001b[35mmain\u001b[0m\n",
      "    raise ValueError(\n",
      "        f'Cannot register {name} for automatic cleanup: '\n",
      "        f'unknown resource type {rtype}')\n",
      "\u001b[1;35mValueError\u001b[0m: \u001b[35mCannot register /dev/shm/joblib_memmapping_folder_2196_b3491d4793c54c2b805d4ce56703e198_963c4cdf1f7d4120b487075b3e3b6e5e for automatic cleanup: unknown resource type folder\u001b[0m\n"
     ]
    },
    {
     "name": "stderr",
     "output_type": "stream",
     "text": [
      "\r",
      "Scraping 8 games on 02/09/25:  55%|█████▌    | 101 of 182 days scraped in 451.2 sec"
     ]
    },
    {
     "name": "stderr",
     "output_type": "stream",
     "text": [
      "Traceback (most recent call last):\n",
      "  File \u001b[35m\"/opt/hostedtoolcache/Python/3.13.7/x64/lib/python3.13/multiprocessing/resource_tracker.py\"\u001b[0m, line \u001b[35m295\u001b[0m, in \u001b[35mmain\u001b[0m\n",
      "    raise ValueError(\n",
      "        f'Cannot register {name} for automatic cleanup: '\n",
      "        f'unknown resource type {rtype}')\n",
      "\u001b[1;35mValueError\u001b[0m: \u001b[35mCannot register /dev/shm/joblib_memmapping_folder_2196_b3491d4793c54c2b805d4ce56703e198_963c4cdf1f7d4120b487075b3e3b6e5e for automatic cleanup: unknown resource type folder\u001b[0m\n"
     ]
    },
    {
     "name": "stderr",
     "output_type": "stream",
     "text": [
      "\r",
      "Scraping 19 games on 02/10/25:  55%|█████▌    | 101 of 182 days scraped in 451.5 sec"
     ]
    },
    {
     "name": "stderr",
     "output_type": "stream",
     "text": [
      "Traceback (most recent call last):\n",
      "  File \u001b[35m\"/opt/hostedtoolcache/Python/3.13.7/x64/lib/python3.13/multiprocessing/resource_tracker.py\"\u001b[0m, line \u001b[35m295\u001b[0m, in \u001b[35mmain\u001b[0m\n",
      "    raise ValueError(\n",
      "        f'Cannot register {name} for automatic cleanup: '\n",
      "        f'unknown resource type {rtype}')\n",
      "\u001b[1;35mValueError\u001b[0m: \u001b[35mCannot register /dev/shm/joblib_memmapping_folder_2196_a92d2c66bddd4521bc530d02512da1f0_e1e271e4fb134f3392eeb833c358f042 for automatic cleanup: unknown resource type folder\u001b[0m\n",
      "Traceback (most recent call last):\n",
      "  File \u001b[35m\"/opt/hostedtoolcache/Python/3.13.7/x64/lib/python3.13/multiprocessing/resource_tracker.py\"\u001b[0m, line \u001b[35m295\u001b[0m, in \u001b[35mmain\u001b[0m\n",
      "    raise ValueError(\n",
      "        f'Cannot register {name} for automatic cleanup: '\n",
      "        f'unknown resource type {rtype}')\n",
      "\u001b[1;35mValueError\u001b[0m: \u001b[35mCannot register /dev/shm/joblib_memmapping_folder_2196_b3491d4793c54c2b805d4ce56703e198_c3aef05cc6674324bb33ac32b9000945 for automatic cleanup: unknown resource type folder\u001b[0m\n"
     ]
    },
    {
     "name": "stderr",
     "output_type": "stream",
     "text": [
      "\r",
      "Scraping 19 games on 02/10/25:  56%|█████▌    | 102 of 182 days scraped in 453.3 secTraceback (most recent call last):\n"
     ]
    },
    {
     "name": "stderr",
     "output_type": "stream",
     "text": [
      "  File \u001b[35m\"/opt/hostedtoolcache/Python/3.13.7/x64/lib/python3.13/multiprocessing/resource_tracker.py\"\u001b[0m, line \u001b[35m295\u001b[0m, in \u001b[35mmain\u001b[0m\n",
      "    raise ValueError(\n",
      "        f'Cannot register {name} for automatic cleanup: '\n",
      "        f'unknown resource type {rtype}')\n",
      "\u001b[1;35mValueError\u001b[0m: \u001b[35mCannot register /dev/shm/joblib_memmapping_folder_2196_b3491d4793c54c2b805d4ce56703e198_c3aef05cc6674324bb33ac32b9000945 for automatic cleanup: unknown resource type folder\u001b[0m\n"
     ]
    },
    {
     "name": "stderr",
     "output_type": "stream",
     "text": [
      "\r",
      "Scraping 37 games on 02/11/25:  56%|█████▌    | 102 of 182 days scraped in 454.0 sec"
     ]
    },
    {
     "name": "stderr",
     "output_type": "stream",
     "text": [
      "Traceback (most recent call last):\n",
      "  File \u001b[35m\"/opt/hostedtoolcache/Python/3.13.7/x64/lib/python3.13/multiprocessing/resource_tracker.py\"\u001b[0m, line \u001b[35m295\u001b[0m, in \u001b[35mmain\u001b[0m\n",
      "    raise ValueError(\n",
      "        f'Cannot register {name} for automatic cleanup: '\n",
      "        f'unknown resource type {rtype}')\n",
      "\u001b[1;35mValueError\u001b[0m: \u001b[35mCannot register /dev/shm/joblib_memmapping_folder_2196_186af0e4a44341cab8aee343cae62241_1f047220e40d45ae8396fc55c3ef5d69 for automatic cleanup: unknown resource type folder\u001b[0m\n",
      "Traceback (most recent call last):\n",
      "  File \u001b[35m\"/opt/hostedtoolcache/Python/3.13.7/x64/lib/python3.13/multiprocessing/resource_tracker.py\"\u001b[0m, line \u001b[35m295\u001b[0m, in \u001b[35mmain\u001b[0m\n",
      "    raise ValueError(\n",
      "        f'Cannot register {name} for automatic cleanup: '\n",
      "        f'unknown resource type {rtype}')\n",
      "\u001b[1;35mValueError\u001b[0m: \u001b[35mCannot register /dev/shm/joblib_memmapping_folder_2196_b3491d4793c54c2b805d4ce56703e198_dedbcff3a06449579808eacfc35a3ffa for automatic cleanup: unknown resource type folder\u001b[0m\n"
     ]
    },
    {
     "name": "stderr",
     "output_type": "stream",
     "text": [
      "\r",
      "Scraping 37 games on 02/11/25:  57%|█████▋    | 103 of 182 days scraped in 457.3 secTraceback (most recent call last):\n"
     ]
    },
    {
     "name": "stderr",
     "output_type": "stream",
     "text": [
      "  File \u001b[35m\"/opt/hostedtoolcache/Python/3.13.7/x64/lib/python3.13/multiprocessing/resource_tracker.py\"\u001b[0m, line \u001b[35m295\u001b[0m, in \u001b[35mmain\u001b[0m\n",
      "    raise ValueError(\n",
      "        f'Cannot register {name} for automatic cleanup: '\n",
      "        f'unknown resource type {rtype}')\n",
      "\u001b[1;35mValueError\u001b[0m: \u001b[35mCannot register /dev/shm/joblib_memmapping_folder_2196_b3491d4793c54c2b805d4ce56703e198_dedbcff3a06449579808eacfc35a3ffa for automatic cleanup: unknown resource type folder\u001b[0m\n"
     ]
    },
    {
     "name": "stderr",
     "output_type": "stream",
     "text": [
      "\r",
      "Scraping 44 games on 02/12/25:  57%|█████▋    | 103 of 182 days scraped in 457.8 sec"
     ]
    },
    {
     "name": "stderr",
     "output_type": "stream",
     "text": [
      "Traceback (most recent call last):\n",
      "  File \u001b[35m\"/opt/hostedtoolcache/Python/3.13.7/x64/lib/python3.13/multiprocessing/resource_tracker.py\"\u001b[0m, line \u001b[35m295\u001b[0m, in \u001b[35mmain\u001b[0m\n",
      "    raise ValueError(\n",
      "        f'Cannot register {name} for automatic cleanup: '\n",
      "        f'unknown resource type {rtype}')\n",
      "\u001b[1;35mValueError\u001b[0m: \u001b[35mCannot register /dev/shm/joblib_memmapping_folder_2196_7ab9e64358334e4b848f180a9bd4b042_640da9b27bfb489e831f7772e3edc62e for automatic cleanup: unknown resource type folder\u001b[0m\n",
      "Traceback (most recent call last):\n",
      "  File \u001b[35m\"/opt/hostedtoolcache/Python/3.13.7/x64/lib/python3.13/multiprocessing/resource_tracker.py\"\u001b[0m, line \u001b[35m295\u001b[0m, in \u001b[35mmain\u001b[0m\n",
      "    raise ValueError(\n",
      "        f'Cannot register {name} for automatic cleanup: '\n",
      "        f'unknown resource type {rtype}')\n",
      "\u001b[1;35mValueError\u001b[0m: \u001b[35mCannot register /dev/shm/joblib_memmapping_folder_2196_b3491d4793c54c2b805d4ce56703e198_b3143760048c48119702cabbf7472b96 for automatic cleanup: unknown resource type folder\u001b[0m\n"
     ]
    },
    {
     "name": "stderr",
     "output_type": "stream",
     "text": [
      "\r",
      "Scraping 44 games on 02/12/25:  57%|█████▋    | 104 of 182 days scraped in 461.9 sec"
     ]
    },
    {
     "name": "stderr",
     "output_type": "stream",
     "text": [
      "Traceback (most recent call last):\n",
      "  File \u001b[35m\"/opt/hostedtoolcache/Python/3.13.7/x64/lib/python3.13/multiprocessing/resource_tracker.py\"\u001b[0m, line \u001b[35m295\u001b[0m, in \u001b[35mmain\u001b[0m\n",
      "    raise ValueError(\n",
      "        f'Cannot register {name} for automatic cleanup: '\n",
      "        f'unknown resource type {rtype}')\n",
      "\u001b[1;35mValueError\u001b[0m: \u001b[35mCannot register /dev/shm/joblib_memmapping_folder_2196_b3491d4793c54c2b805d4ce56703e198_b3143760048c48119702cabbf7472b96 for automatic cleanup: unknown resource type folder\u001b[0m\n"
     ]
    },
    {
     "name": "stderr",
     "output_type": "stream",
     "text": [
      "\r",
      "Scraping 59 games on 02/13/25:  57%|█████▋    | 104 of 182 days scraped in 462.6 sec"
     ]
    },
    {
     "name": "stderr",
     "output_type": "stream",
     "text": [
      "Traceback (most recent call last):\n",
      "  File \u001b[35m\"/opt/hostedtoolcache/Python/3.13.7/x64/lib/python3.13/multiprocessing/resource_tracker.py\"\u001b[0m, line \u001b[35m295\u001b[0m, in \u001b[35mmain\u001b[0m\n",
      "    raise ValueError(\n",
      "        f'Cannot register {name} for automatic cleanup: '\n",
      "        f'unknown resource type {rtype}')\n",
      "\u001b[1;35mValueError\u001b[0m: \u001b[35mCannot register /dev/shm/joblib_memmapping_folder_2196_3bb9bd05da49465abfd3d45c274ebf99_f0dd15afc2804514b0bbaa5d27453b82 for automatic cleanup: unknown resource type folder\u001b[0m\n",
      "Traceback (most recent call last):\n",
      "  File \u001b[35m\"/opt/hostedtoolcache/Python/3.13.7/x64/lib/python3.13/multiprocessing/resource_tracker.py\"\u001b[0m, line \u001b[35m295\u001b[0m, in \u001b[35mmain\u001b[0m\n",
      "    raise ValueError(\n",
      "        f'Cannot register {name} for automatic cleanup: '\n",
      "        f'unknown resource type {rtype}')\n",
      "\u001b[1;35mValueError\u001b[0m: \u001b[35mCannot register /dev/shm/joblib_memmapping_folder_2196_b3491d4793c54c2b805d4ce56703e198_c6c1b6814b8d4b7faea93134900b694a for automatic cleanup: unknown resource type folder\u001b[0m\n"
     ]
    },
    {
     "name": "stderr",
     "output_type": "stream",
     "text": [
      "\r",
      "Scraping 59 games on 02/13/25:  58%|█████▊    | 105 of 182 days scraped in 468.1 sec"
     ]
    },
    {
     "name": "stderr",
     "output_type": "stream",
     "text": [
      "Traceback (most recent call last):\n",
      "  File \u001b[35m\"/opt/hostedtoolcache/Python/3.13.7/x64/lib/python3.13/multiprocessing/resource_tracker.py\"\u001b[0m, line \u001b[35m295\u001b[0m, in \u001b[35mmain\u001b[0m\n",
      "    raise ValueError(\n",
      "        f'Cannot register {name} for automatic cleanup: '\n",
      "        f'unknown resource type {rtype}')\n",
      "\u001b[1;35mValueError\u001b[0m: \u001b[35mCannot register /dev/shm/joblib_memmapping_folder_2196_b3491d4793c54c2b805d4ce56703e198_c6c1b6814b8d4b7faea93134900b694a for automatic cleanup: unknown resource type folder\u001b[0m\n"
     ]
    },
    {
     "name": "stderr",
     "output_type": "stream",
     "text": [
      "\r",
      "Scraping 16 games on 02/14/25:  58%|█████▊    | 105 of 182 days scraped in 468.5 sec"
     ]
    },
    {
     "name": "stderr",
     "output_type": "stream",
     "text": [
      "Traceback (most recent call last):\n",
      "  File \u001b[35m\"/opt/hostedtoolcache/Python/3.13.7/x64/lib/python3.13/multiprocessing/resource_tracker.py\"\u001b[0m, line \u001b[35m295\u001b[0m, in \u001b[35mmain\u001b[0m\n",
      "    raise ValueError(\n",
      "        f'Cannot register {name} for automatic cleanup: '\n",
      "        f'unknown resource type {rtype}')\n",
      "\u001b[1;35mValueError\u001b[0m: \u001b[35mCannot register /dev/shm/joblib_memmapping_folder_2196_bb1455fd8b0c4bc7ad09a621413b40be_a8d75712733141c29e7af11a1d75fb8c for automatic cleanup: unknown resource type folder\u001b[0m\n",
      "Traceback (most recent call last):\n",
      "  File \u001b[35m\"/opt/hostedtoolcache/Python/3.13.7/x64/lib/python3.13/multiprocessing/resource_tracker.py\"\u001b[0m, line \u001b[35m295\u001b[0m, in \u001b[35mmain\u001b[0m\n",
      "    raise ValueError(\n",
      "        f'Cannot register {name} for automatic cleanup: '\n",
      "        f'unknown resource type {rtype}')\n",
      "\u001b[1;35mValueError\u001b[0m: \u001b[35mCannot register /dev/shm/joblib_memmapping_folder_2196_b3491d4793c54c2b805d4ce56703e198_b10fdd9a4d3f44de9bf2cdd872a2b420 for automatic cleanup: unknown resource type folder\u001b[0m\n"
     ]
    },
    {
     "name": "stderr",
     "output_type": "stream",
     "text": [
      "\r",
      "Scraping 16 games on 02/14/25:  58%|█████▊    | 106 of 182 days scraped in 470.2 secTraceback (most recent call last):\n"
     ]
    },
    {
     "name": "stderr",
     "output_type": "stream",
     "text": [
      "  File \u001b[35m\"/opt/hostedtoolcache/Python/3.13.7/x64/lib/python3.13/multiprocessing/resource_tracker.py\"\u001b[0m, line \u001b[35m295\u001b[0m, in \u001b[35mmain\u001b[0m\n",
      "    raise ValueError(\n",
      "        f'Cannot register {name} for automatic cleanup: '\n",
      "        f'unknown resource type {rtype}')\n",
      "\u001b[1;35mValueError\u001b[0m: \u001b[35mCannot register /dev/shm/joblib_memmapping_folder_2196_b3491d4793c54c2b805d4ce56703e198_b10fdd9a4d3f44de9bf2cdd872a2b420 for automatic cleanup: unknown resource type folder\u001b[0m\n"
     ]
    },
    {
     "name": "stderr",
     "output_type": "stream",
     "text": [
      "\r",
      "Scraping 146 games on 02/15/25:  58%|█████▊    | 106 of 182 days scraped in 471.3 sec"
     ]
    },
    {
     "name": "stderr",
     "output_type": "stream",
     "text": [
      "Traceback (most recent call last):\n",
      "  File \u001b[35m\"/opt/hostedtoolcache/Python/3.13.7/x64/lib/python3.13/multiprocessing/resource_tracker.py\"\u001b[0m, line \u001b[35m295\u001b[0m, in \u001b[35mmain\u001b[0m\n",
      "    raise ValueError(\n",
      "        f'Cannot register {name} for automatic cleanup: '\n",
      "        f'unknown resource type {rtype}')\n",
      "\u001b[1;35mValueError\u001b[0m: \u001b[35mCannot register /dev/shm/joblib_memmapping_folder_2196_dfd8969d9d1646c2bb956596b3f0603c_bdb1ba7bf178419a9ce91251295f8d9f for automatic cleanup: unknown resource type folder\u001b[0m\n",
      "Traceback (most recent call last):\n",
      "  File \u001b[35m\"/opt/hostedtoolcache/Python/3.13.7/x64/lib/python3.13/multiprocessing/resource_tracker.py\"\u001b[0m, line \u001b[35m295\u001b[0m, in \u001b[35mmain\u001b[0m\n",
      "    raise ValueError(\n",
      "        f'Cannot register {name} for automatic cleanup: '\n",
      "        f'unknown resource type {rtype}')\n",
      "\u001b[1;35mValueError\u001b[0m: \u001b[35mCannot register /dev/shm/joblib_memmapping_folder_2196_b3491d4793c54c2b805d4ce56703e198_e69f92b0cc694f03b295c4b17a1ec870 for automatic cleanup: unknown resource type folder\u001b[0m\n"
     ]
    },
    {
     "name": "stderr",
     "output_type": "stream",
     "text": [
      "\r",
      "Scraping 146 games on 02/15/25:  59%|█████▉    | 107 of 182 days scraped in 484.2 sec"
     ]
    },
    {
     "name": "stderr",
     "output_type": "stream",
     "text": [
      "Traceback (most recent call last):\n",
      "  File \u001b[35m\"/opt/hostedtoolcache/Python/3.13.7/x64/lib/python3.13/multiprocessing/resource_tracker.py\"\u001b[0m, line \u001b[35m295\u001b[0m, in \u001b[35mmain\u001b[0m\n",
      "    raise ValueError(\n",
      "        f'Cannot register {name} for automatic cleanup: '\n",
      "        f'unknown resource type {rtype}')\n",
      "\u001b[1;35mValueError\u001b[0m: \u001b[35mCannot register /dev/shm/joblib_memmapping_folder_2196_b3491d4793c54c2b805d4ce56703e198_e69f92b0cc694f03b295c4b17a1ec870 for automatic cleanup: unknown resource type folder\u001b[0m\n"
     ]
    },
    {
     "name": "stderr",
     "output_type": "stream",
     "text": [
      "\r",
      "Scraping 25 games on 02/16/25:  59%|█████▉    | 107 of 182 days scraped in 484.6 sec "
     ]
    },
    {
     "name": "stderr",
     "output_type": "stream",
     "text": [
      "Traceback (most recent call last):\n",
      "  File \u001b[35m\"/opt/hostedtoolcache/Python/3.13.7/x64/lib/python3.13/multiprocessing/resource_tracker.py\"\u001b[0m, line \u001b[35m295\u001b[0m, in \u001b[35mmain\u001b[0m\n",
      "    raise ValueError(\n",
      "        f'Cannot register {name} for automatic cleanup: '\n",
      "        f'unknown resource type {rtype}')\n",
      "\u001b[1;35mValueError\u001b[0m: \u001b[35mCannot register /dev/shm/joblib_memmapping_folder_2196_f1b8f2c543a546118f014469c3716449_f47d7137c90c456d88b98d4a6f4e5193 for automatic cleanup: unknown resource type folder\u001b[0m\n",
      "Traceback (most recent call last):\n",
      "  File \u001b[35m\"/opt/hostedtoolcache/Python/3.13.7/x64/lib/python3.13/multiprocessing/resource_tracker.py\"\u001b[0m, line \u001b[35m295\u001b[0m, in \u001b[35mmain\u001b[0m\n",
      "    raise ValueError(\n",
      "        f'Cannot register {name} for automatic cleanup: '\n",
      "        f'unknown resource type {rtype}')\n",
      "\u001b[1;35mValueError\u001b[0m: \u001b[35mCannot register /dev/shm/joblib_memmapping_folder_2196_b3491d4793c54c2b805d4ce56703e198_bf5066eedcba4164a6c3b49253f388d0 for automatic cleanup: unknown resource type folder\u001b[0m\n"
     ]
    },
    {
     "name": "stderr",
     "output_type": "stream",
     "text": [
      "\r",
      "Scraping 25 games on 02/16/25:  59%|█████▉    | 108 of 182 days scraped in 486.8 sec"
     ]
    },
    {
     "name": "stderr",
     "output_type": "stream",
     "text": [
      "Traceback (most recent call last):\n",
      "  File \u001b[35m\"/opt/hostedtoolcache/Python/3.13.7/x64/lib/python3.13/multiprocessing/resource_tracker.py\"\u001b[0m, line \u001b[35m295\u001b[0m, in \u001b[35mmain\u001b[0m\n",
      "    raise ValueError(\n",
      "        f'Cannot register {name} for automatic cleanup: '\n",
      "        f'unknown resource type {rtype}')\n",
      "\u001b[1;35mValueError\u001b[0m: \u001b[35mCannot register /dev/shm/joblib_memmapping_folder_2196_b3491d4793c54c2b805d4ce56703e198_bf5066eedcba4164a6c3b49253f388d0 for automatic cleanup: unknown resource type folder\u001b[0m\n"
     ]
    },
    {
     "name": "stderr",
     "output_type": "stream",
     "text": [
      "\r",
      "Scraping 21 games on 02/17/25:  59%|█████▉    | 108 of 182 days scraped in 487.3 sec"
     ]
    },
    {
     "name": "stderr",
     "output_type": "stream",
     "text": [
      "Traceback (most recent call last):\n",
      "  File \u001b[35m\"/opt/hostedtoolcache/Python/3.13.7/x64/lib/python3.13/multiprocessing/resource_tracker.py\"\u001b[0m, line \u001b[35m295\u001b[0m, in \u001b[35mmain\u001b[0m\n",
      "    raise ValueError(\n",
      "        f'Cannot register {name} for automatic cleanup: '\n",
      "        f'unknown resource type {rtype}')\n",
      "\u001b[1;35mValueError\u001b[0m: \u001b[35mCannot register /dev/shm/joblib_memmapping_folder_2196_b5f9622ff30044008f86e3a2467ded7c_eebfc103653a469798dd8dbc7fb9d4bb for automatic cleanup: unknown resource type folder\u001b[0m\n",
      "Traceback (most recent call last):\n",
      "  File \u001b[35m\"/opt/hostedtoolcache/Python/3.13.7/x64/lib/python3.13/multiprocessing/resource_tracker.py\"\u001b[0m, line \u001b[35m295\u001b[0m, in \u001b[35mmain\u001b[0m\n",
      "    raise ValueError(\n",
      "        f'Cannot register {name} for automatic cleanup: '\n",
      "        f'unknown resource type {rtype}')\n",
      "\u001b[1;35mValueError\u001b[0m: \u001b[35mCannot register /dev/shm/joblib_memmapping_folder_2196_b3491d4793c54c2b805d4ce56703e198_8c9817cbf7f243319c3d0d1c1428b534 for automatic cleanup: unknown resource type folder\u001b[0m\n"
     ]
    },
    {
     "name": "stderr",
     "output_type": "stream",
     "text": [
      "\r",
      "Scraping 21 games on 02/17/25:  60%|█████▉    | 109 of 182 days scraped in 489.3 sec"
     ]
    },
    {
     "name": "stderr",
     "output_type": "stream",
     "text": [
      "Traceback (most recent call last):\n",
      "  File \u001b[35m\"/opt/hostedtoolcache/Python/3.13.7/x64/lib/python3.13/multiprocessing/resource_tracker.py\"\u001b[0m, line \u001b[35m295\u001b[0m, in \u001b[35mmain\u001b[0m\n",
      "    raise ValueError(\n",
      "        f'Cannot register {name} for automatic cleanup: '\n",
      "        f'unknown resource type {rtype}')\n",
      "\u001b[1;35mValueError\u001b[0m: \u001b[35mCannot register /dev/shm/joblib_memmapping_folder_2196_b3491d4793c54c2b805d4ce56703e198_8c9817cbf7f243319c3d0d1c1428b534 for automatic cleanup: unknown resource type folder\u001b[0m\n"
     ]
    },
    {
     "name": "stderr",
     "output_type": "stream",
     "text": [
      "\r",
      "Scraping 32 games on 02/18/25:  60%|█████▉    | 109 of 182 days scraped in 489.7 sec"
     ]
    },
    {
     "name": "stderr",
     "output_type": "stream",
     "text": [
      "Traceback (most recent call last):\n",
      "  File \u001b[35m\"/opt/hostedtoolcache/Python/3.13.7/x64/lib/python3.13/multiprocessing/resource_tracker.py\"\u001b[0m, line \u001b[35m295\u001b[0m, in \u001b[35mmain\u001b[0m\n",
      "    raise ValueError(\n",
      "        f'Cannot register {name} for automatic cleanup: '\n",
      "        f'unknown resource type {rtype}')\n",
      "\u001b[1;35mValueError\u001b[0m: \u001b[35mCannot register /dev/shm/joblib_memmapping_folder_2196_310c2936b3794e75ae9e75385399de26_0e7040f380c14f57921b612b347c8e18 for automatic cleanup: unknown resource type folder\u001b[0m\n",
      "Traceback (most recent call last):\n",
      "  File \u001b[35m\"/opt/hostedtoolcache/Python/3.13.7/x64/lib/python3.13/multiprocessing/resource_tracker.py\"\u001b[0m, line \u001b[35m295\u001b[0m, in \u001b[35mmain\u001b[0m\n",
      "    raise ValueError(\n",
      "        f'Cannot register {name} for automatic cleanup: '\n",
      "        f'unknown resource type {rtype}')\n",
      "\u001b[1;35mValueError\u001b[0m: \u001b[35mCannot register /dev/shm/joblib_memmapping_folder_2196_b3491d4793c54c2b805d4ce56703e198_93bc6fd80c044faba8698d66a42c008c for automatic cleanup: unknown resource type folder\u001b[0m\n"
     ]
    },
    {
     "name": "stderr",
     "output_type": "stream",
     "text": [
      "\r",
      "Scraping 32 games on 02/18/25:  60%|██████    | 110 of 182 days scraped in 492.8 sec"
     ]
    },
    {
     "name": "stderr",
     "output_type": "stream",
     "text": [
      "Traceback (most recent call last):\n",
      "  File \u001b[35m\"/opt/hostedtoolcache/Python/3.13.7/x64/lib/python3.13/multiprocessing/resource_tracker.py\"\u001b[0m, line \u001b[35m295\u001b[0m, in \u001b[35mmain\u001b[0m\n",
      "    raise ValueError(\n",
      "        f'Cannot register {name} for automatic cleanup: '\n",
      "        f'unknown resource type {rtype}')\n",
      "\u001b[1;35mValueError\u001b[0m: \u001b[35mCannot register /dev/shm/joblib_memmapping_folder_2196_b3491d4793c54c2b805d4ce56703e198_93bc6fd80c044faba8698d66a42c008c for automatic cleanup: unknown resource type folder\u001b[0m\n"
     ]
    },
    {
     "name": "stderr",
     "output_type": "stream",
     "text": [
      "\r",
      "Scraping 51 games on 02/19/25:  60%|██████    | 110 of 182 days scraped in 493.6 sec"
     ]
    },
    {
     "name": "stderr",
     "output_type": "stream",
     "text": [
      "Traceback (most recent call last):\n",
      "  File \u001b[35m\"/opt/hostedtoolcache/Python/3.13.7/x64/lib/python3.13/multiprocessing/resource_tracker.py\"\u001b[0m, line \u001b[35m295\u001b[0m, in \u001b[35mmain\u001b[0m\n",
      "    raise ValueError(\n",
      "        f'Cannot register {name} for automatic cleanup: '\n",
      "        f'unknown resource type {rtype}')\n",
      "\u001b[1;35mValueError\u001b[0m: \u001b[35mCannot register /dev/shm/joblib_memmapping_folder_2196_493b3a1f667b4b7bab9e0294ab30879a_04142685c8a946db97e00d2efbe03515 for automatic cleanup: unknown resource type folder\u001b[0m\n",
      "Traceback (most recent call last):\n",
      "  File \u001b[35m\"/opt/hostedtoolcache/Python/3.13.7/x64/lib/python3.13/multiprocessing/resource_tracker.py\"\u001b[0m, line \u001b[35m295\u001b[0m, in \u001b[35mmain\u001b[0m\n",
      "    raise ValueError(\n",
      "        f'Cannot register {name} for automatic cleanup: '\n",
      "        f'unknown resource type {rtype}')\n",
      "\u001b[1;35mValueError\u001b[0m: \u001b[35mCannot register /dev/shm/joblib_memmapping_folder_2196_b3491d4793c54c2b805d4ce56703e198_e9085ae28da64266b02761867cf017a2 for automatic cleanup: unknown resource type folder\u001b[0m\n"
     ]
    },
    {
     "name": "stderr",
     "output_type": "stream",
     "text": [
      "\r",
      "Scraping 51 games on 02/19/25:  61%|██████    | 111 of 182 days scraped in 498.3 secTraceback (most recent call last):\n"
     ]
    },
    {
     "name": "stderr",
     "output_type": "stream",
     "text": [
      "  File \u001b[35m\"/opt/hostedtoolcache/Python/3.13.7/x64/lib/python3.13/multiprocessing/resource_tracker.py\"\u001b[0m, line \u001b[35m295\u001b[0m, in \u001b[35mmain\u001b[0m\n",
      "    raise ValueError(\n",
      "        f'Cannot register {name} for automatic cleanup: '\n",
      "        f'unknown resource type {rtype}')\n",
      "\u001b[1;35mValueError\u001b[0m: \u001b[35mCannot register /dev/shm/joblib_memmapping_folder_2196_b3491d4793c54c2b805d4ce56703e198_e9085ae28da64266b02761867cf017a2 for automatic cleanup: unknown resource type folder\u001b[0m\n"
     ]
    },
    {
     "name": "stderr",
     "output_type": "stream",
     "text": [
      "\r",
      "Scraping 52 games on 02/20/25:  61%|██████    | 111 of 182 days scraped in 498.9 sec"
     ]
    },
    {
     "name": "stderr",
     "output_type": "stream",
     "text": [
      "Traceback (most recent call last):\n",
      "  File \u001b[35m\"/opt/hostedtoolcache/Python/3.13.7/x64/lib/python3.13/multiprocessing/resource_tracker.py\"\u001b[0m, line \u001b[35m295\u001b[0m, in \u001b[35mmain\u001b[0m\n",
      "    raise ValueError(\n",
      "        f'Cannot register {name} for automatic cleanup: '\n",
      "        f'unknown resource type {rtype}')\n",
      "\u001b[1;35mValueError\u001b[0m: \u001b[35mCannot register /dev/shm/joblib_memmapping_folder_2196_4d13865c85fb4f14825223ebe952b7aa_1b5b76effa3947da9171d39a30fd6f69 for automatic cleanup: unknown resource type folder\u001b[0m\n",
      "Traceback (most recent call last):\n",
      "  File \u001b[35m\"/opt/hostedtoolcache/Python/3.13.7/x64/lib/python3.13/multiprocessing/resource_tracker.py\"\u001b[0m, line \u001b[35m295\u001b[0m, in \u001b[35mmain\u001b[0m\n",
      "    raise ValueError(\n",
      "        f'Cannot register {name} for automatic cleanup: '\n",
      "        f'unknown resource type {rtype}')\n",
      "\u001b[1;35mValueError\u001b[0m: \u001b[35mCannot register /dev/shm/joblib_memmapping_folder_2196_b3491d4793c54c2b805d4ce56703e198_fa62fe255cc84b7eb8c58b040a11f41f for automatic cleanup: unknown resource type folder\u001b[0m\n"
     ]
    },
    {
     "name": "stderr",
     "output_type": "stream",
     "text": [
      "\r",
      "Scraping 52 games on 02/20/25:  62%|██████▏   | 112 of 182 days scraped in 503.5 sec"
     ]
    },
    {
     "name": "stderr",
     "output_type": "stream",
     "text": [
      "Traceback (most recent call last):\n",
      "  File \u001b[35m\"/opt/hostedtoolcache/Python/3.13.7/x64/lib/python3.13/multiprocessing/resource_tracker.py\"\u001b[0m, line \u001b[35m295\u001b[0m, in \u001b[35mmain\u001b[0m\n",
      "    raise ValueError(\n",
      "        f'Cannot register {name} for automatic cleanup: '\n",
      "        f'unknown resource type {rtype}')\n",
      "\u001b[1;35mValueError\u001b[0m: \u001b[35mCannot register /dev/shm/joblib_memmapping_folder_2196_b3491d4793c54c2b805d4ce56703e198_fa62fe255cc84b7eb8c58b040a11f41f for automatic cleanup: unknown resource type folder\u001b[0m\n"
     ]
    },
    {
     "name": "stderr",
     "output_type": "stream",
     "text": [
      "\r",
      "Scraping 20 games on 02/21/25:  62%|██████▏   | 112 of 182 days scraped in 503.9 sec"
     ]
    },
    {
     "name": "stderr",
     "output_type": "stream",
     "text": [
      "Traceback (most recent call last):\n",
      "  File \u001b[35m\"/opt/hostedtoolcache/Python/3.13.7/x64/lib/python3.13/multiprocessing/resource_tracker.py\"\u001b[0m, line \u001b[35m295\u001b[0m, in \u001b[35mmain\u001b[0m\n",
      "    raise ValueError(\n",
      "        f'Cannot register {name} for automatic cleanup: '\n",
      "        f'unknown resource type {rtype}')\n",
      "\u001b[1;35mValueError\u001b[0m: \u001b[35mCannot register /dev/shm/joblib_memmapping_folder_2196_553da97a6feb47e29ecd878db12104da_1ff3f7c840974d7a9ad5e97555180d8a for automatic cleanup: unknown resource type folder\u001b[0m\n",
      "Traceback (most recent call last):\n",
      "  File \u001b[35m\"/opt/hostedtoolcache/Python/3.13.7/x64/lib/python3.13/multiprocessing/resource_tracker.py\"\u001b[0m, line \u001b[35m295\u001b[0m, in \u001b[35mmain\u001b[0m\n",
      "    raise ValueError(\n",
      "        f'Cannot register {name} for automatic cleanup: '\n",
      "        f'unknown resource type {rtype}')\n",
      "\u001b[1;35mValueError\u001b[0m: \u001b[35mCannot register /dev/shm/joblib_memmapping_folder_2196_b3491d4793c54c2b805d4ce56703e198_2b6020bb0f064b73b628287c6b7b1bcd for automatic cleanup: unknown resource type folder\u001b[0m\n"
     ]
    },
    {
     "name": "stderr",
     "output_type": "stream",
     "text": [
      "\r",
      "Scraping 20 games on 02/21/25:  62%|██████▏   | 113 of 182 days scraped in 505.8 sec"
     ]
    },
    {
     "name": "stderr",
     "output_type": "stream",
     "text": [
      "Traceback (most recent call last):\n",
      "  File \u001b[35m\"/opt/hostedtoolcache/Python/3.13.7/x64/lib/python3.13/multiprocessing/resource_tracker.py\"\u001b[0m, line \u001b[35m295\u001b[0m, in \u001b[35mmain\u001b[0m\n",
      "    raise ValueError(\n",
      "        f'Cannot register {name} for automatic cleanup: '\n",
      "        f'unknown resource type {rtype}')\n",
      "\u001b[1;35mValueError\u001b[0m: \u001b[35mCannot register /dev/shm/joblib_memmapping_folder_2196_b3491d4793c54c2b805d4ce56703e198_2b6020bb0f064b73b628287c6b7b1bcd for automatic cleanup: unknown resource type folder\u001b[0m\n"
     ]
    },
    {
     "name": "stderr",
     "output_type": "stream",
     "text": [
      "\r",
      "Scraping 131 games on 02/22/25:  62%|██████▏   | 113 of 182 days scraped in 506.9 sec"
     ]
    },
    {
     "name": "stderr",
     "output_type": "stream",
     "text": [
      "Traceback (most recent call last):\n",
      "  File \u001b[35m\"/opt/hostedtoolcache/Python/3.13.7/x64/lib/python3.13/multiprocessing/resource_tracker.py\"\u001b[0m, line \u001b[35m295\u001b[0m, in \u001b[35mmain\u001b[0m\n",
      "    raise ValueError(\n",
      "        f'Cannot register {name} for automatic cleanup: '\n",
      "        f'unknown resource type {rtype}')\n",
      "\u001b[1;35mValueError\u001b[0m: \u001b[35mCannot register /dev/shm/joblib_memmapping_folder_2196_869be91a4df541f88fb00040fa1ceeb1_a8f6a282ebe24928b7a0a92591c11c1d for automatic cleanup: unknown resource type folder\u001b[0m\n",
      "Traceback (most recent call last):\n",
      "  File \u001b[35m\"/opt/hostedtoolcache/Python/3.13.7/x64/lib/python3.13/multiprocessing/resource_tracker.py\"\u001b[0m, line \u001b[35m295\u001b[0m, in \u001b[35mmain\u001b[0m\n",
      "    raise ValueError(\n",
      "        f'Cannot register {name} for automatic cleanup: '\n",
      "        f'unknown resource type {rtype}')\n",
      "\u001b[1;35mValueError\u001b[0m: \u001b[35mCannot register /dev/shm/joblib_memmapping_folder_2196_b3491d4793c54c2b805d4ce56703e198_91c51a0e8e6445b19b9bde911447e97a for automatic cleanup: unknown resource type folder\u001b[0m\n"
     ]
    },
    {
     "name": "stderr",
     "output_type": "stream",
     "text": [
      "\r",
      "Scraping 131 games on 02/22/25:  63%|██████▎   | 114 of 182 days scraped in 518.8 sec"
     ]
    },
    {
     "name": "stderr",
     "output_type": "stream",
     "text": [
      "Traceback (most recent call last):\n",
      "  File \u001b[35m\"/opt/hostedtoolcache/Python/3.13.7/x64/lib/python3.13/multiprocessing/resource_tracker.py\"\u001b[0m, line \u001b[35m295\u001b[0m, in \u001b[35mmain\u001b[0m\n",
      "    raise ValueError(\n",
      "        f'Cannot register {name} for automatic cleanup: '\n",
      "        f'unknown resource type {rtype}')\n",
      "\u001b[1;35mValueError\u001b[0m: \u001b[35mCannot register /dev/shm/joblib_memmapping_folder_2196_b3491d4793c54c2b805d4ce56703e198_91c51a0e8e6445b19b9bde911447e97a for automatic cleanup: unknown resource type folder\u001b[0m\n"
     ]
    },
    {
     "name": "stderr",
     "output_type": "stream",
     "text": [
      "\r",
      "Scraping 28 games on 02/23/25:  63%|██████▎   | 114 of 182 days scraped in 519.2 sec "
     ]
    },
    {
     "name": "stderr",
     "output_type": "stream",
     "text": [
      "Traceback (most recent call last):\n",
      "  File \u001b[35m\"/opt/hostedtoolcache/Python/3.13.7/x64/lib/python3.13/multiprocessing/resource_tracker.py\"\u001b[0m, line \u001b[35m295\u001b[0m, in \u001b[35mmain\u001b[0m\n",
      "    raise ValueError(\n",
      "        f'Cannot register {name} for automatic cleanup: '\n",
      "        f'unknown resource type {rtype}')\n",
      "\u001b[1;35mValueError\u001b[0m: \u001b[35mCannot register /dev/shm/joblib_memmapping_folder_2196_9720e2b4f70344a88d6a88085d700ae6_591abcb7489a4313bcd1dd93ad51d536 for automatic cleanup: unknown resource type folder\u001b[0m\n",
      "Traceback (most recent call last):\n",
      "  File \u001b[35m\"/opt/hostedtoolcache/Python/3.13.7/x64/lib/python3.13/multiprocessing/resource_tracker.py\"\u001b[0m, line \u001b[35m295\u001b[0m, in \u001b[35mmain\u001b[0m\n",
      "    raise ValueError(\n",
      "        f'Cannot register {name} for automatic cleanup: '\n",
      "        f'unknown resource type {rtype}')\n",
      "\u001b[1;35mValueError\u001b[0m: \u001b[35mCannot register /dev/shm/joblib_memmapping_folder_2196_b3491d4793c54c2b805d4ce56703e198_0031697befde489193340c1fb5068d0d for automatic cleanup: unknown resource type folder\u001b[0m\n"
     ]
    },
    {
     "name": "stderr",
     "output_type": "stream",
     "text": [
      "\r",
      "Scraping 28 games on 02/23/25:  63%|██████▎   | 115 of 182 days scraped in 521.8 sec"
     ]
    },
    {
     "name": "stderr",
     "output_type": "stream",
     "text": [
      "Traceback (most recent call last):\n",
      "  File \u001b[35m\"/opt/hostedtoolcache/Python/3.13.7/x64/lib/python3.13/multiprocessing/resource_tracker.py\"\u001b[0m, line \u001b[35m295\u001b[0m, in \u001b[35mmain\u001b[0m\n",
      "    raise ValueError(\n",
      "        f'Cannot register {name} for automatic cleanup: '\n",
      "        f'unknown resource type {rtype}')\n",
      "\u001b[1;35mValueError\u001b[0m: \u001b[35mCannot register /dev/shm/joblib_memmapping_folder_2196_b3491d4793c54c2b805d4ce56703e198_0031697befde489193340c1fb5068d0d for automatic cleanup: unknown resource type folder\u001b[0m\n"
     ]
    },
    {
     "name": "stderr",
     "output_type": "stream",
     "text": [
      "\r",
      "Scraping 27 games on 02/24/25:  63%|██████▎   | 115 of 182 days scraped in 522.2 sec"
     ]
    },
    {
     "name": "stderr",
     "output_type": "stream",
     "text": [
      "Traceback (most recent call last):\n",
      "  File \u001b[35m\"/opt/hostedtoolcache/Python/3.13.7/x64/lib/python3.13/multiprocessing/resource_tracker.py\"\u001b[0m, line \u001b[35m295\u001b[0m, in \u001b[35mmain\u001b[0m\n",
      "    raise ValueError(\n",
      "        f'Cannot register {name} for automatic cleanup: '\n",
      "        f'unknown resource type {rtype}')\n",
      "\u001b[1;35mValueError\u001b[0m: \u001b[35mCannot register /dev/shm/joblib_memmapping_folder_2196_e65576a1db8c47d1912ec4a69751ab37_7726c9b7b8eb48df8f994d6c2b655eb5 for automatic cleanup: unknown resource type folder\u001b[0m\n",
      "Traceback (most recent call last):\n",
      "  File \u001b[35m\"/opt/hostedtoolcache/Python/3.13.7/x64/lib/python3.13/multiprocessing/resource_tracker.py\"\u001b[0m, line \u001b[35m295\u001b[0m, in \u001b[35mmain\u001b[0m\n",
      "    raise ValueError(\n",
      "        f'Cannot register {name} for automatic cleanup: '\n",
      "        f'unknown resource type {rtype}')\n",
      "\u001b[1;35mValueError\u001b[0m: \u001b[35mCannot register /dev/shm/joblib_memmapping_folder_2196_b3491d4793c54c2b805d4ce56703e198_39efc6ae591548b3a3cb857254cdee8c for automatic cleanup: unknown resource type folder\u001b[0m\n"
     ]
    },
    {
     "name": "stderr",
     "output_type": "stream",
     "text": [
      "\r",
      "Scraping 27 games on 02/24/25:  64%|██████▎   | 116 of 182 days scraped in 524.7 sec"
     ]
    },
    {
     "name": "stderr",
     "output_type": "stream",
     "text": [
      "Traceback (most recent call last):\n",
      "  File \u001b[35m\"/opt/hostedtoolcache/Python/3.13.7/x64/lib/python3.13/multiprocessing/resource_tracker.py\"\u001b[0m, line \u001b[35m295\u001b[0m, in \u001b[35mmain\u001b[0m\n",
      "    raise ValueError(\n",
      "        f'Cannot register {name} for automatic cleanup: '\n",
      "        f'unknown resource type {rtype}')\n",
      "\u001b[1;35mValueError\u001b[0m: \u001b[35mCannot register /dev/shm/joblib_memmapping_folder_2196_b3491d4793c54c2b805d4ce56703e198_39efc6ae591548b3a3cb857254cdee8c for automatic cleanup: unknown resource type folder\u001b[0m\n"
     ]
    },
    {
     "name": "stderr",
     "output_type": "stream",
     "text": [
      "\r",
      "Scraping 35 games on 02/25/25:  64%|██████▎   | 116 of 182 days scraped in 525.1 sec"
     ]
    },
    {
     "name": "stderr",
     "output_type": "stream",
     "text": [
      "Traceback (most recent call last):\n",
      "  File \u001b[35m\"/opt/hostedtoolcache/Python/3.13.7/x64/lib/python3.13/multiprocessing/resource_tracker.py\"\u001b[0m, line \u001b[35m295\u001b[0m, in \u001b[35mmain\u001b[0m\n",
      "    raise ValueError(\n",
      "        f'Cannot register {name} for automatic cleanup: '\n",
      "        f'unknown resource type {rtype}')\n",
      "\u001b[1;35mValueError\u001b[0m: \u001b[35mCannot register /dev/shm/joblib_memmapping_folder_2196_f42b7f95d25440c388ffcb478e551fc7_9f726f6b3f6f477298ece763c0421ae9 for automatic cleanup: unknown resource type folder\u001b[0m\n",
      "Traceback (most recent call last):\n",
      "  File \u001b[35m\"/opt/hostedtoolcache/Python/3.13.7/x64/lib/python3.13/multiprocessing/resource_tracker.py\"\u001b[0m, line \u001b[35m295\u001b[0m, in \u001b[35mmain\u001b[0m\n",
      "    raise ValueError(\n",
      "        f'Cannot register {name} for automatic cleanup: '\n",
      "        f'unknown resource type {rtype}')\n",
      "\u001b[1;35mValueError\u001b[0m: \u001b[35mCannot register /dev/shm/joblib_memmapping_folder_2196_b3491d4793c54c2b805d4ce56703e198_aa061f80521a4599ad9f911c6b57edfe for automatic cleanup: unknown resource type folder\u001b[0m\n"
     ]
    },
    {
     "name": "stderr",
     "output_type": "stream",
     "text": [
      "\r",
      "Scraping 35 games on 02/25/25:  64%|██████▍   | 117 of 182 days scraped in 528.6 sec"
     ]
    },
    {
     "name": "stderr",
     "output_type": "stream",
     "text": [
      "Traceback (most recent call last):\n",
      "  File \u001b[35m\"/opt/hostedtoolcache/Python/3.13.7/x64/lib/python3.13/multiprocessing/resource_tracker.py\"\u001b[0m, line \u001b[35m295\u001b[0m, in \u001b[35mmain\u001b[0m\n",
      "    raise ValueError(\n",
      "        f'Cannot register {name} for automatic cleanup: '\n",
      "        f'unknown resource type {rtype}')\n",
      "\u001b[1;35mValueError\u001b[0m: \u001b[35mCannot register /dev/shm/joblib_memmapping_folder_2196_b3491d4793c54c2b805d4ce56703e198_aa061f80521a4599ad9f911c6b57edfe for automatic cleanup: unknown resource type folder\u001b[0m\n"
     ]
    },
    {
     "name": "stderr",
     "output_type": "stream",
     "text": [
      "\r",
      "Scraping 54 games on 02/26/25:  64%|██████▍   | 117 of 182 days scraped in 529.1 sec"
     ]
    },
    {
     "name": "stderr",
     "output_type": "stream",
     "text": [
      "Traceback (most recent call last):\n",
      "  File \u001b[35m\"/opt/hostedtoolcache/Python/3.13.7/x64/lib/python3.13/multiprocessing/resource_tracker.py\"\u001b[0m, line \u001b[35m295\u001b[0m, in \u001b[35mmain\u001b[0m\n",
      "    raise ValueError(\n",
      "        f'Cannot register {name} for automatic cleanup: '\n",
      "        f'unknown resource type {rtype}')\n",
      "\u001b[1;35mValueError\u001b[0m: \u001b[35mCannot register /dev/shm/joblib_memmapping_folder_2196_f2fa45ea873f4ec0a92ea6eb5d69a494_db78b69f5f9148378715fc1f2fa3c192 for automatic cleanup: unknown resource type folder\u001b[0m\n",
      "Traceback (most recent call last):\n",
      "  File \u001b[35m\"/opt/hostedtoolcache/Python/3.13.7/x64/lib/python3.13/multiprocessing/resource_tracker.py\"\u001b[0m, line \u001b[35m295\u001b[0m, in \u001b[35mmain\u001b[0m\n",
      "    raise ValueError(\n",
      "        f'Cannot register {name} for automatic cleanup: '\n",
      "        f'unknown resource type {rtype}')\n",
      "\u001b[1;35mValueError\u001b[0m: \u001b[35mCannot register /dev/shm/joblib_memmapping_folder_2196_b3491d4793c54c2b805d4ce56703e198_953586b222924b71ab46fd674b5bbd30 for automatic cleanup: unknown resource type folder\u001b[0m\n"
     ]
    },
    {
     "name": "stderr",
     "output_type": "stream",
     "text": [
      "\r",
      "Scraping 54 games on 02/26/25:  65%|██████▍   | 118 of 182 days scraped in 534.0 sec"
     ]
    },
    {
     "name": "stderr",
     "output_type": "stream",
     "text": [
      "Traceback (most recent call last):\n",
      "  File \u001b[35m\"/opt/hostedtoolcache/Python/3.13.7/x64/lib/python3.13/multiprocessing/resource_tracker.py\"\u001b[0m, line \u001b[35m295\u001b[0m, in \u001b[35mmain\u001b[0m\n",
      "    raise ValueError(\n",
      "        f'Cannot register {name} for automatic cleanup: '\n",
      "        f'unknown resource type {rtype}')\n",
      "\u001b[1;35mValueError\u001b[0m: \u001b[35mCannot register /dev/shm/joblib_memmapping_folder_2196_b3491d4793c54c2b805d4ce56703e198_953586b222924b71ab46fd674b5bbd30 for automatic cleanup: unknown resource type folder\u001b[0m\n"
     ]
    },
    {
     "name": "stderr",
     "output_type": "stream",
     "text": [
      "\r",
      "Scraping 54 games on 02/27/25:  65%|██████▍   | 118 of 182 days scraped in 534.6 sec"
     ]
    },
    {
     "name": "stderr",
     "output_type": "stream",
     "text": [
      "Traceback (most recent call last):\n",
      "  File \u001b[35m\"/opt/hostedtoolcache/Python/3.13.7/x64/lib/python3.13/multiprocessing/resource_tracker.py\"\u001b[0m, line \u001b[35m295\u001b[0m, in \u001b[35mmain\u001b[0m\n",
      "    raise ValueError(\n",
      "        f'Cannot register {name} for automatic cleanup: '\n",
      "        f'unknown resource type {rtype}')\n",
      "\u001b[1;35mValueError\u001b[0m: \u001b[35mCannot register /dev/shm/joblib_memmapping_folder_2196_3d18b0d3e4a84159b9f8105d05ad001b_2977f3d8950744579bfc35c354a65384 for automatic cleanup: unknown resource type folder\u001b[0m\n",
      "Traceback (most recent call last):\n",
      "  File \u001b[35m\"/opt/hostedtoolcache/Python/3.13.7/x64/lib/python3.13/multiprocessing/resource_tracker.py\"\u001b[0m, line \u001b[35m295\u001b[0m, in \u001b[35mmain\u001b[0m\n",
      "    raise ValueError(\n",
      "        f'Cannot register {name} for automatic cleanup: '\n",
      "        f'unknown resource type {rtype}')\n",
      "\u001b[1;35mValueError\u001b[0m: \u001b[35mCannot register /dev/shm/joblib_memmapping_folder_2196_b3491d4793c54c2b805d4ce56703e198_68ce4f9db5764fae9b4f002549c2128d for automatic cleanup: unknown resource type folder\u001b[0m\n"
     ]
    },
    {
     "name": "stderr",
     "output_type": "stream",
     "text": [
      "\r",
      "Scraping 54 games on 02/27/25:  65%|██████▌   | 119 of 182 days scraped in 539.5 secTraceback (most recent call last):\n"
     ]
    },
    {
     "name": "stderr",
     "output_type": "stream",
     "text": [
      "  File \u001b[35m\"/opt/hostedtoolcache/Python/3.13.7/x64/lib/python3.13/multiprocessing/resource_tracker.py\"\u001b[0m, line \u001b[35m295\u001b[0m, in \u001b[35mmain\u001b[0m\n",
      "    raise ValueError(\n",
      "        f'Cannot register {name} for automatic cleanup: '\n",
      "        f'unknown resource type {rtype}')\n",
      "\u001b[1;35mValueError\u001b[0m: \u001b[35mCannot register /dev/shm/joblib_memmapping_folder_2196_b3491d4793c54c2b805d4ce56703e198_68ce4f9db5764fae9b4f002549c2128d for automatic cleanup: unknown resource type folder\u001b[0m\n"
     ]
    },
    {
     "name": "stderr",
     "output_type": "stream",
     "text": [
      "\r",
      "Scraping 23 games on 02/28/25:  65%|██████▌   | 119 of 182 days scraped in 540.2 sec"
     ]
    },
    {
     "name": "stderr",
     "output_type": "stream",
     "text": [
      "Traceback (most recent call last):\n",
      "  File \u001b[35m\"/opt/hostedtoolcache/Python/3.13.7/x64/lib/python3.13/multiprocessing/resource_tracker.py\"\u001b[0m, line \u001b[35m295\u001b[0m, in \u001b[35mmain\u001b[0m\n",
      "    raise ValueError(\n",
      "        f'Cannot register {name} for automatic cleanup: '\n",
      "        f'unknown resource type {rtype}')\n",
      "\u001b[1;35mValueError\u001b[0m: \u001b[35mCannot register /dev/shm/joblib_memmapping_folder_2196_cc78a290e8fc4b6daf9247c386b2e7ab_e11b271709914bcc88e68569492c6a17 for automatic cleanup: unknown resource type folder\u001b[0m\n",
      "Traceback (most recent call last):\n",
      "  File \u001b[35m\"/opt/hostedtoolcache/Python/3.13.7/x64/lib/python3.13/multiprocessing/resource_tracker.py\"\u001b[0m, line \u001b[35m295\u001b[0m, in \u001b[35mmain\u001b[0m\n",
      "    raise ValueError(\n",
      "        f'Cannot register {name} for automatic cleanup: '\n",
      "        f'unknown resource type {rtype}')\n",
      "\u001b[1;35mValueError\u001b[0m: \u001b[35mCannot register /dev/shm/joblib_memmapping_folder_2196_b3491d4793c54c2b805d4ce56703e198_ca876869f5694b55bee9fdfad050d335 for automatic cleanup: unknown resource type folder\u001b[0m\n"
     ]
    },
    {
     "name": "stderr",
     "output_type": "stream",
     "text": [
      "\r",
      "Scraping 23 games on 02/28/25:  66%|██████▌   | 120 of 182 days scraped in 542.4 sec"
     ]
    },
    {
     "name": "stderr",
     "output_type": "stream",
     "text": [
      "Traceback (most recent call last):\n",
      "  File \u001b[35m\"/opt/hostedtoolcache/Python/3.13.7/x64/lib/python3.13/multiprocessing/resource_tracker.py\"\u001b[0m, line \u001b[35m295\u001b[0m, in \u001b[35mmain\u001b[0m\n",
      "    raise ValueError(\n",
      "        f'Cannot register {name} for automatic cleanup: '\n",
      "        f'unknown resource type {rtype}')\n",
      "\u001b[1;35mValueError\u001b[0m: \u001b[35mCannot register /dev/shm/joblib_memmapping_folder_2196_b3491d4793c54c2b805d4ce56703e198_ca876869f5694b55bee9fdfad050d335 for automatic cleanup: unknown resource type folder\u001b[0m\n"
     ]
    },
    {
     "name": "stderr",
     "output_type": "stream",
     "text": [
      "\r",
      "Scraping 133 games on 03/01/25:  66%|██████▌   | 120 of 182 days scraped in 543.5 sec"
     ]
    },
    {
     "name": "stderr",
     "output_type": "stream",
     "text": [
      "Traceback (most recent call last):\n",
      "  File \u001b[35m\"/opt/hostedtoolcache/Python/3.13.7/x64/lib/python3.13/multiprocessing/resource_tracker.py\"\u001b[0m, line \u001b[35m295\u001b[0m, in \u001b[35mmain\u001b[0m\n",
      "    raise ValueError(\n",
      "        f'Cannot register {name} for automatic cleanup: '\n",
      "        f'unknown resource type {rtype}')\n",
      "\u001b[1;35mValueError\u001b[0m: \u001b[35mCannot register /dev/shm/joblib_memmapping_folder_2196_fd769bb116264bb5855a92917e4a544b_0c060537f59740a4b4885bb03f342a18 for automatic cleanup: unknown resource type folder\u001b[0m\n",
      "Traceback (most recent call last):\n",
      "  File \u001b[35m\"/opt/hostedtoolcache/Python/3.13.7/x64/lib/python3.13/multiprocessing/resource_tracker.py\"\u001b[0m, line \u001b[35m295\u001b[0m, in \u001b[35mmain\u001b[0m\n",
      "    raise ValueError(\n",
      "        f'Cannot register {name} for automatic cleanup: '\n",
      "        f'unknown resource type {rtype}')\n",
      "\u001b[1;35mValueError\u001b[0m: \u001b[35mCannot register /dev/shm/joblib_memmapping_folder_2196_b3491d4793c54c2b805d4ce56703e198_38eecd43c9b14fcfa53aa3d7089c1bcf for automatic cleanup: unknown resource type folder\u001b[0m\n"
     ]
    },
    {
     "name": "stderr",
     "output_type": "stream",
     "text": [
      "\r",
      "Scraping 133 games on 03/01/25:  66%|██████▋   | 121 of 182 days scraped in 555.4 sec"
     ]
    },
    {
     "name": "stderr",
     "output_type": "stream",
     "text": [
      "Traceback (most recent call last):\n",
      "  File \u001b[35m\"/opt/hostedtoolcache/Python/3.13.7/x64/lib/python3.13/multiprocessing/resource_tracker.py\"\u001b[0m, line \u001b[35m295\u001b[0m, in \u001b[35mmain\u001b[0m\n",
      "    raise ValueError(\n",
      "        f'Cannot register {name} for automatic cleanup: '\n",
      "        f'unknown resource type {rtype}')\n",
      "\u001b[1;35mValueError\u001b[0m: \u001b[35mCannot register /dev/shm/joblib_memmapping_folder_2196_b3491d4793c54c2b805d4ce56703e198_38eecd43c9b14fcfa53aa3d7089c1bcf for automatic cleanup: unknown resource type folder\u001b[0m\n"
     ]
    },
    {
     "name": "stderr",
     "output_type": "stream",
     "text": [
      "\r",
      "Scraping 23 games on 03/02/25:  66%|██████▋   | 121 of 182 days scraped in 555.8 sec "
     ]
    },
    {
     "name": "stderr",
     "output_type": "stream",
     "text": [
      "Traceback (most recent call last):\n",
      "  File \u001b[35m\"/opt/hostedtoolcache/Python/3.13.7/x64/lib/python3.13/multiprocessing/resource_tracker.py\"\u001b[0m, line \u001b[35m295\u001b[0m, in \u001b[35mmain\u001b[0m\n",
      "    raise ValueError(\n",
      "        f'Cannot register {name} for automatic cleanup: '\n",
      "        f'unknown resource type {rtype}')\n",
      "\u001b[1;35mValueError\u001b[0m: \u001b[35mCannot register /dev/shm/joblib_memmapping_folder_2196_334e0c8ef1144b0a81e53bf1b7e24044_4d2fea946da64774b79e6c5f1fdf4f14 for automatic cleanup: unknown resource type folder\u001b[0m\n",
      "Traceback (most recent call last):\n",
      "  File \u001b[35m\"/opt/hostedtoolcache/Python/3.13.7/x64/lib/python3.13/multiprocessing/resource_tracker.py\"\u001b[0m, line \u001b[35m295\u001b[0m, in \u001b[35mmain\u001b[0m\n",
      "    raise ValueError(\n",
      "        f'Cannot register {name} for automatic cleanup: '\n",
      "        f'unknown resource type {rtype}')\n",
      "\u001b[1;35mValueError\u001b[0m: \u001b[35mCannot register /dev/shm/joblib_memmapping_folder_2196_b3491d4793c54c2b805d4ce56703e198_f00eb19d14c04366934dcc10d5b8cf34 for automatic cleanup: unknown resource type folder\u001b[0m\n"
     ]
    },
    {
     "name": "stderr",
     "output_type": "stream",
     "text": [
      "\r",
      "Scraping 23 games on 03/02/25:  67%|██████▋   | 122 of 182 days scraped in 558.1 sec"
     ]
    },
    {
     "name": "stderr",
     "output_type": "stream",
     "text": [
      "Traceback (most recent call last):\n",
      "  File \u001b[35m\"/opt/hostedtoolcache/Python/3.13.7/x64/lib/python3.13/multiprocessing/resource_tracker.py\"\u001b[0m, line \u001b[35m295\u001b[0m, in \u001b[35mmain\u001b[0m\n",
      "    raise ValueError(\n",
      "        f'Cannot register {name} for automatic cleanup: '\n",
      "        f'unknown resource type {rtype}')\n",
      "\u001b[1;35mValueError\u001b[0m: \u001b[35mCannot register /dev/shm/joblib_memmapping_folder_2196_b3491d4793c54c2b805d4ce56703e198_f00eb19d14c04366934dcc10d5b8cf34 for automatic cleanup: unknown resource type folder\u001b[0m\n"
     ]
    },
    {
     "name": "stderr",
     "output_type": "stream",
     "text": [
      "\r",
      "Scraping 27 games on 03/03/25:  67%|██████▋   | 122 of 182 days scraped in 558.5 sec"
     ]
    },
    {
     "name": "stderr",
     "output_type": "stream",
     "text": [
      "Traceback (most recent call last):\n",
      "  File \u001b[35m\"/opt/hostedtoolcache/Python/3.13.7/x64/lib/python3.13/multiprocessing/resource_tracker.py\"\u001b[0m, line \u001b[35m295\u001b[0m, in \u001b[35mmain\u001b[0m\n",
      "    raise ValueError(\n",
      "        f'Cannot register {name} for automatic cleanup: '\n",
      "        f'unknown resource type {rtype}')\n",
      "\u001b[1;35mValueError\u001b[0m: \u001b[35mCannot register /dev/shm/joblib_memmapping_folder_2196_973436f5885240ce8de530e1728d9f2e_b490b2e438714c71aba91f7ed33ba8d8 for automatic cleanup: unknown resource type folder\u001b[0m\n",
      "Traceback (most recent call last):\n",
      "  File \u001b[35m\"/opt/hostedtoolcache/Python/3.13.7/x64/lib/python3.13/multiprocessing/resource_tracker.py\"\u001b[0m, line \u001b[35m295\u001b[0m, in \u001b[35mmain\u001b[0m\n",
      "    raise ValueError(\n",
      "        f'Cannot register {name} for automatic cleanup: '\n",
      "        f'unknown resource type {rtype}')\n",
      "\u001b[1;35mValueError\u001b[0m: \u001b[35mCannot register /dev/shm/joblib_memmapping_folder_2196_b3491d4793c54c2b805d4ce56703e198_15642962ea2e46649c09a797220541fa for automatic cleanup: unknown resource type folder\u001b[0m\n"
     ]
    },
    {
     "name": "stderr",
     "output_type": "stream",
     "text": [
      "\r",
      "Scraping 27 games on 03/03/25:  68%|██████▊   | 123 of 182 days scraped in 561.0 sec"
     ]
    },
    {
     "name": "stderr",
     "output_type": "stream",
     "text": [
      "Traceback (most recent call last):\n",
      "  File \u001b[35m\"/opt/hostedtoolcache/Python/3.13.7/x64/lib/python3.13/multiprocessing/resource_tracker.py\"\u001b[0m, line \u001b[35m295\u001b[0m, in \u001b[35mmain\u001b[0m\n",
      "    raise ValueError(\n",
      "        f'Cannot register {name} for automatic cleanup: '\n",
      "        f'unknown resource type {rtype}')\n",
      "\u001b[1;35mValueError\u001b[0m: \u001b[35mCannot register /dev/shm/joblib_memmapping_folder_2196_b3491d4793c54c2b805d4ce56703e198_15642962ea2e46649c09a797220541fa for automatic cleanup: unknown resource type folder\u001b[0m\n"
     ]
    },
    {
     "name": "stderr",
     "output_type": "stream",
     "text": [
      "\r",
      "Scraping 44 games on 03/04/25:  68%|██████▊   | 123 of 182 days scraped in 561.5 sec"
     ]
    },
    {
     "name": "stderr",
     "output_type": "stream",
     "text": [
      "Traceback (most recent call last):\n",
      "  File \u001b[35m\"/opt/hostedtoolcache/Python/3.13.7/x64/lib/python3.13/multiprocessing/resource_tracker.py\"\u001b[0m, line \u001b[35m295\u001b[0m, in \u001b[35mmain\u001b[0m\n",
      "    raise ValueError(\n",
      "        f'Cannot register {name} for automatic cleanup: '\n",
      "        f'unknown resource type {rtype}')\n",
      "\u001b[1;35mValueError\u001b[0m: \u001b[35mCannot register /dev/shm/joblib_memmapping_folder_2196_4f04b13771c748ca90738ab120ec770d_68370ae9854b4e26942492dce6d50fa0 for automatic cleanup: unknown resource type folder\u001b[0m\n",
      "Traceback (most recent call last):\n",
      "  File \u001b[35m\"/opt/hostedtoolcache/Python/3.13.7/x64/lib/python3.13/multiprocessing/resource_tracker.py\"\u001b[0m, line \u001b[35m295\u001b[0m, in \u001b[35mmain\u001b[0m\n",
      "    raise ValueError(\n",
      "        f'Cannot register {name} for automatic cleanup: '\n",
      "        f'unknown resource type {rtype}')\n",
      "\u001b[1;35mValueError\u001b[0m: \u001b[35mCannot register /dev/shm/joblib_memmapping_folder_2196_b3491d4793c54c2b805d4ce56703e198_ee8460b78d4149c9805570e05b04ec08 for automatic cleanup: unknown resource type folder\u001b[0m\n"
     ]
    },
    {
     "name": "stderr",
     "output_type": "stream",
     "text": [
      "\r",
      "Scraping 44 games on 03/04/25:  68%|██████▊   | 124 of 182 days scraped in 565.8 secTraceback (most recent call last):\n"
     ]
    },
    {
     "name": "stderr",
     "output_type": "stream",
     "text": [
      "  File \u001b[35m\"/opt/hostedtoolcache/Python/3.13.7/x64/lib/python3.13/multiprocessing/resource_tracker.py\"\u001b[0m, line \u001b[35m295\u001b[0m, in \u001b[35mmain\u001b[0m\n",
      "    raise ValueError(\n",
      "        f'Cannot register {name} for automatic cleanup: '\n",
      "        f'unknown resource type {rtype}')\n",
      "\u001b[1;35mValueError\u001b[0m: \u001b[35mCannot register /dev/shm/joblib_memmapping_folder_2196_b3491d4793c54c2b805d4ce56703e198_ee8460b78d4149c9805570e05b04ec08 for automatic cleanup: unknown resource type folder\u001b[0m\n"
     ]
    },
    {
     "name": "stderr",
     "output_type": "stream",
     "text": [
      "\r",
      "Scraping 31 games on 03/05/25:  68%|██████▊   | 124 of 182 days scraped in 566.2 sec"
     ]
    },
    {
     "name": "stderr",
     "output_type": "stream",
     "text": [
      "Traceback (most recent call last):\n",
      "  File \u001b[35m\"/opt/hostedtoolcache/Python/3.13.7/x64/lib/python3.13/multiprocessing/resource_tracker.py\"\u001b[0m, line \u001b[35m295\u001b[0m, in \u001b[35mmain\u001b[0m\n",
      "    raise ValueError(\n",
      "        f'Cannot register {name} for automatic cleanup: '\n",
      "        f'unknown resource type {rtype}')\n",
      "\u001b[1;35mValueError\u001b[0m: \u001b[35mCannot register /dev/shm/joblib_memmapping_folder_2196_1ac766676dac4dbba47152b442564422_b675ce9a95984a908c940d560cded3ce for automatic cleanup: unknown resource type folder\u001b[0m\n",
      "Traceback (most recent call last):\n",
      "  File \u001b[35m\"/opt/hostedtoolcache/Python/3.13.7/x64/lib/python3.13/multiprocessing/resource_tracker.py\"\u001b[0m, line \u001b[35m295\u001b[0m, in \u001b[35mmain\u001b[0m\n",
      "    raise ValueError(\n",
      "        f'Cannot register {name} for automatic cleanup: '\n",
      "        f'unknown resource type {rtype}')\n",
      "\u001b[1;35mValueError\u001b[0m: \u001b[35mCannot register /dev/shm/joblib_memmapping_folder_2196_b3491d4793c54c2b805d4ce56703e198_d2197af3710441aab897f676e9f8fd9d for automatic cleanup: unknown resource type folder\u001b[0m\n"
     ]
    },
    {
     "name": "stderr",
     "output_type": "stream",
     "text": [
      "\r",
      "Scraping 31 games on 03/05/25:  69%|██████▊   | 125 of 182 days scraped in 569.1 sec"
     ]
    },
    {
     "name": "stderr",
     "output_type": "stream",
     "text": [
      "Traceback (most recent call last):\n",
      "  File \u001b[35m\"/opt/hostedtoolcache/Python/3.13.7/x64/lib/python3.13/multiprocessing/resource_tracker.py\"\u001b[0m, line \u001b[35m295\u001b[0m, in \u001b[35mmain\u001b[0m\n",
      "    raise ValueError(\n",
      "        f'Cannot register {name} for automatic cleanup: '\n",
      "        f'unknown resource type {rtype}')\n",
      "\u001b[1;35mValueError\u001b[0m: \u001b[35mCannot register /dev/shm/joblib_memmapping_folder_2196_b3491d4793c54c2b805d4ce56703e198_d2197af3710441aab897f676e9f8fd9d for automatic cleanup: unknown resource type folder\u001b[0m\n"
     ]
    },
    {
     "name": "stderr",
     "output_type": "stream",
     "text": [
      "\r",
      "Scraping 53 games on 03/06/25:  69%|██████▊   | 125 of 182 days scraped in 569.6 sec"
     ]
    },
    {
     "name": "stderr",
     "output_type": "stream",
     "text": [
      "Traceback (most recent call last):\n",
      "  File \u001b[35m\"/opt/hostedtoolcache/Python/3.13.7/x64/lib/python3.13/multiprocessing/resource_tracker.py\"\u001b[0m, line \u001b[35m295\u001b[0m, in \u001b[35mmain\u001b[0m\n",
      "    raise ValueError(\n",
      "        f'Cannot register {name} for automatic cleanup: '\n",
      "        f'unknown resource type {rtype}')\n",
      "\u001b[1;35mValueError\u001b[0m: \u001b[35mCannot register /dev/shm/joblib_memmapping_folder_2196_5cf2a4411de2477ea7d842873a9bafb3_ddcd8fb0b26f46398b9038feaf391797 for automatic cleanup: unknown resource type folder\u001b[0m\n",
      "Traceback (most recent call last):\n",
      "  File \u001b[35m\"/opt/hostedtoolcache/Python/3.13.7/x64/lib/python3.13/multiprocessing/resource_tracker.py\"\u001b[0m, line \u001b[35m295\u001b[0m, in \u001b[35mmain\u001b[0m\n",
      "    raise ValueError(\n",
      "        f'Cannot register {name} for automatic cleanup: '\n",
      "        f'unknown resource type {rtype}')\n",
      "\u001b[1;35mValueError\u001b[0m: \u001b[35mCannot register /dev/shm/joblib_memmapping_folder_2196_b3491d4793c54c2b805d4ce56703e198_976edfda1ee44d64aa098306e91d3d9d for automatic cleanup: unknown resource type folder\u001b[0m\n"
     ]
    },
    {
     "name": "stderr",
     "output_type": "stream",
     "text": [
      "\r",
      "Scraping 53 games on 03/06/25:  69%|██████▉   | 126 of 182 days scraped in 574.4 sec"
     ]
    },
    {
     "name": "stderr",
     "output_type": "stream",
     "text": [
      "Traceback (most recent call last):\n",
      "  File \u001b[35m\"/opt/hostedtoolcache/Python/3.13.7/x64/lib/python3.13/multiprocessing/resource_tracker.py\"\u001b[0m, line \u001b[35m295\u001b[0m, in \u001b[35mmain\u001b[0m\n",
      "    raise ValueError(\n",
      "        f'Cannot register {name} for automatic cleanup: '\n",
      "        f'unknown resource type {rtype}')\n",
      "\u001b[1;35mValueError\u001b[0m: \u001b[35mCannot register /dev/shm/joblib_memmapping_folder_2196_b3491d4793c54c2b805d4ce56703e198_976edfda1ee44d64aa098306e91d3d9d for automatic cleanup: unknown resource type folder\u001b[0m\n"
     ]
    },
    {
     "name": "stderr",
     "output_type": "stream",
     "text": [
      "\r",
      "Scraping 31 games on 03/07/25:  69%|██████▉   | 126 of 182 days scraped in 574.8 sec"
     ]
    },
    {
     "name": "stderr",
     "output_type": "stream",
     "text": [
      "Traceback (most recent call last):\n",
      "  File \u001b[35m\"/opt/hostedtoolcache/Python/3.13.7/x64/lib/python3.13/multiprocessing/resource_tracker.py\"\u001b[0m, line \u001b[35m295\u001b[0m, in \u001b[35mmain\u001b[0m\n",
      "    raise ValueError(\n",
      "        f'Cannot register {name} for automatic cleanup: '\n",
      "        f'unknown resource type {rtype}')\n",
      "\u001b[1;35mValueError\u001b[0m: \u001b[35mCannot register /dev/shm/joblib_memmapping_folder_2196_62df894109af408aafe495ab83d06e81_e51ef14610eb4211ab4733d254fffa86 for automatic cleanup: unknown resource type folder\u001b[0m\n",
      "Traceback (most recent call last):\n",
      "  File \u001b[35m\"/opt/hostedtoolcache/Python/3.13.7/x64/lib/python3.13/multiprocessing/resource_tracker.py\"\u001b[0m, line \u001b[35m295\u001b[0m, in \u001b[35mmain\u001b[0m\n",
      "    raise ValueError(\n",
      "        f'Cannot register {name} for automatic cleanup: '\n",
      "        f'unknown resource type {rtype}')\n",
      "\u001b[1;35mValueError\u001b[0m: \u001b[35mCannot register /dev/shm/joblib_memmapping_folder_2196_b3491d4793c54c2b805d4ce56703e198_d0fe2a960ab740f1a43755057641e179 for automatic cleanup: unknown resource type folder\u001b[0m\n"
     ]
    },
    {
     "name": "stderr",
     "output_type": "stream",
     "text": [
      "\r",
      "Scraping 31 games on 03/07/25:  70%|██████▉   | 127 of 182 days scraped in 577.7 secTraceback (most recent call last):\n"
     ]
    },
    {
     "name": "stderr",
     "output_type": "stream",
     "text": [
      "  File \u001b[35m\"/opt/hostedtoolcache/Python/3.13.7/x64/lib/python3.13/multiprocessing/resource_tracker.py\"\u001b[0m, line \u001b[35m295\u001b[0m, in \u001b[35mmain\u001b[0m\n",
      "    raise ValueError(\n",
      "        f'Cannot register {name} for automatic cleanup: '\n",
      "        f'unknown resource type {rtype}')\n",
      "\u001b[1;35mValueError\u001b[0m: \u001b[35mCannot register /dev/shm/joblib_memmapping_folder_2196_b3491d4793c54c2b805d4ce56703e198_d0fe2a960ab740f1a43755057641e179 for automatic cleanup: unknown resource type folder\u001b[0m\n"
     ]
    },
    {
     "name": "stderr",
     "output_type": "stream",
     "text": [
      "\r",
      "Scraping 100 games on 03/08/25:  70%|██████▉   | 127 of 182 days scraped in 578.9 sec"
     ]
    },
    {
     "name": "stderr",
     "output_type": "stream",
     "text": [
      "Traceback (most recent call last):\n",
      "  File \u001b[35m\"/opt/hostedtoolcache/Python/3.13.7/x64/lib/python3.13/multiprocessing/resource_tracker.py\"\u001b[0m, line \u001b[35m295\u001b[0m, in \u001b[35mmain\u001b[0m\n",
      "    raise ValueError(\n",
      "        f'Cannot register {name} for automatic cleanup: '\n",
      "        f'unknown resource type {rtype}')\n",
      "\u001b[1;35mValueError\u001b[0m: \u001b[35mCannot register /dev/shm/joblib_memmapping_folder_2196_6ef6ef720d6444c9861c7e0c81ac33e2_9aa593078cf64660999ca6967c856bc4 for automatic cleanup: unknown resource type folder\u001b[0m\n",
      "Traceback (most recent call last):\n",
      "  File \u001b[35m\"/opt/hostedtoolcache/Python/3.13.7/x64/lib/python3.13/multiprocessing/resource_tracker.py\"\u001b[0m, line \u001b[35m295\u001b[0m, in \u001b[35mmain\u001b[0m\n",
      "    raise ValueError(\n",
      "        f'Cannot register {name} for automatic cleanup: '\n",
      "        f'unknown resource type {rtype}')\n",
      "\u001b[1;35mValueError\u001b[0m: \u001b[35mCannot register /dev/shm/joblib_memmapping_folder_2196_b3491d4793c54c2b805d4ce56703e198_5665946bcfbd4baaa80845ad8e57724b for automatic cleanup: unknown resource type folder\u001b[0m\n"
     ]
    },
    {
     "name": "stderr",
     "output_type": "stream",
     "text": [
      "\r",
      "Scraping 100 games on 03/08/25:  70%|███████   | 128 of 182 days scraped in 588.1 sec"
     ]
    },
    {
     "name": "stderr",
     "output_type": "stream",
     "text": [
      "Traceback (most recent call last):\n",
      "  File \u001b[35m\"/opt/hostedtoolcache/Python/3.13.7/x64/lib/python3.13/multiprocessing/resource_tracker.py\"\u001b[0m, line \u001b[35m295\u001b[0m, in \u001b[35mmain\u001b[0m\n",
      "    raise ValueError(\n",
      "        f'Cannot register {name} for automatic cleanup: '\n",
      "        f'unknown resource type {rtype}')\n",
      "\u001b[1;35mValueError\u001b[0m: \u001b[35mCannot register /dev/shm/joblib_memmapping_folder_2196_b3491d4793c54c2b805d4ce56703e198_5665946bcfbd4baaa80845ad8e57724b for automatic cleanup: unknown resource type folder\u001b[0m\n"
     ]
    },
    {
     "name": "stderr",
     "output_type": "stream",
     "text": [
      "\r",
      "Scraping 29 games on 03/09/25:  70%|███████   | 128 of 182 days scraped in 588.5 sec "
     ]
    },
    {
     "name": "stderr",
     "output_type": "stream",
     "text": [
      "Traceback (most recent call last):\n",
      "  File \u001b[35m\"/opt/hostedtoolcache/Python/3.13.7/x64/lib/python3.13/multiprocessing/resource_tracker.py\"\u001b[0m, line \u001b[35m295\u001b[0m, in \u001b[35mmain\u001b[0m\n",
      "    raise ValueError(\n",
      "        f'Cannot register {name} for automatic cleanup: '\n",
      "        f'unknown resource type {rtype}')\n",
      "\u001b[1;35mValueError\u001b[0m: \u001b[35mCannot register /dev/shm/joblib_memmapping_folder_2196_829c9218e11e4eb1992969a0d03959ef_28fdc72add314fe89c30187545b49705 for automatic cleanup: unknown resource type folder\u001b[0m\n",
      "Traceback (most recent call last):\n",
      "  File \u001b[35m\"/opt/hostedtoolcache/Python/3.13.7/x64/lib/python3.13/multiprocessing/resource_tracker.py\"\u001b[0m, line \u001b[35m295\u001b[0m, in \u001b[35mmain\u001b[0m\n",
      "    raise ValueError(\n",
      "        f'Cannot register {name} for automatic cleanup: '\n",
      "        f'unknown resource type {rtype}')\n",
      "\u001b[1;35mValueError\u001b[0m: \u001b[35mCannot register /dev/shm/joblib_memmapping_folder_2196_b3491d4793c54c2b805d4ce56703e198_8d4f4869e1c24902b5687d081790ce7b for automatic cleanup: unknown resource type folder\u001b[0m\n"
     ]
    },
    {
     "name": "stderr",
     "output_type": "stream",
     "text": [
      "\r",
      "Scraping 29 games on 03/09/25:  71%|███████   | 129 of 182 days scraped in 591.3 sec"
     ]
    },
    {
     "name": "stderr",
     "output_type": "stream",
     "text": [
      "Traceback (most recent call last):\n",
      "  File \u001b[35m\"/opt/hostedtoolcache/Python/3.13.7/x64/lib/python3.13/multiprocessing/resource_tracker.py\"\u001b[0m, line \u001b[35m295\u001b[0m, in \u001b[35mmain\u001b[0m\n",
      "    raise ValueError(\n",
      "        f'Cannot register {name} for automatic cleanup: '\n",
      "        f'unknown resource type {rtype}')\n",
      "\u001b[1;35mValueError\u001b[0m: \u001b[35mCannot register /dev/shm/joblib_memmapping_folder_2196_b3491d4793c54c2b805d4ce56703e198_8d4f4869e1c24902b5687d081790ce7b for automatic cleanup: unknown resource type folder\u001b[0m\n"
     ]
    },
    {
     "name": "stderr",
     "output_type": "stream",
     "text": [
      "\r",
      "Scraping 12 games on 03/10/25:  71%|███████   | 129 of 182 days scraped in 591.6 sec"
     ]
    },
    {
     "name": "stderr",
     "output_type": "stream",
     "text": [
      "Traceback (most recent call last):\n",
      "  File \u001b[35m\"/opt/hostedtoolcache/Python/3.13.7/x64/lib/python3.13/multiprocessing/resource_tracker.py\"\u001b[0m, line \u001b[35m295\u001b[0m, in \u001b[35mmain\u001b[0m\n",
      "    raise ValueError(\n",
      "        f'Cannot register {name} for automatic cleanup: '\n",
      "        f'unknown resource type {rtype}')\n",
      "\u001b[1;35mValueError\u001b[0m: \u001b[35mCannot register /dev/shm/joblib_memmapping_folder_2196_25a4318551e7421ca1ae03095a00a9e4_e590978e72e7442fbc777a3cc2831d6a for automatic cleanup: unknown resource type folder\u001b[0m\n",
      "Traceback (most recent call last):\n",
      "  File \u001b[35m\"/opt/hostedtoolcache/Python/3.13.7/x64/lib/python3.13/multiprocessing/resource_tracker.py\"\u001b[0m, line \u001b[35m295\u001b[0m, in \u001b[35mmain\u001b[0m\n",
      "    raise ValueError(\n",
      "        f'Cannot register {name} for automatic cleanup: '\n",
      "        f'unknown resource type {rtype}')\n",
      "\u001b[1;35mValueError\u001b[0m: \u001b[35mCannot register /dev/shm/joblib_memmapping_folder_2196_b3491d4793c54c2b805d4ce56703e198_263b5ae3625b49dfb89baa2c41fc4258 for automatic cleanup: unknown resource type folder\u001b[0m\n"
     ]
    },
    {
     "name": "stderr",
     "output_type": "stream",
     "text": [
      "\r",
      "Scraping 12 games on 03/10/25:  71%|███████▏  | 130 of 182 days scraped in 592.7 sec"
     ]
    },
    {
     "name": "stderr",
     "output_type": "stream",
     "text": [
      "Traceback (most recent call last):\n",
      "  File \u001b[35m\"/opt/hostedtoolcache/Python/3.13.7/x64/lib/python3.13/multiprocessing/resource_tracker.py\"\u001b[0m, line \u001b[35m295\u001b[0m, in \u001b[35mmain\u001b[0m\n",
      "    raise ValueError(\n",
      "        f'Cannot register {name} for automatic cleanup: '\n",
      "        f'unknown resource type {rtype}')\n",
      "\u001b[1;35mValueError\u001b[0m: \u001b[35mCannot register /dev/shm/joblib_memmapping_folder_2196_b3491d4793c54c2b805d4ce56703e198_263b5ae3625b49dfb89baa2c41fc4258 for automatic cleanup: unknown resource type folder\u001b[0m\n"
     ]
    },
    {
     "name": "stderr",
     "output_type": "stream",
     "text": [
      "\r",
      "Scraping 24 games on 03/11/25:  71%|███████▏  | 130 of 182 days scraped in 593.1 sec"
     ]
    },
    {
     "name": "stderr",
     "output_type": "stream",
     "text": [
      "Traceback (most recent call last):\n",
      "  File \u001b[35m\"/opt/hostedtoolcache/Python/3.13.7/x64/lib/python3.13/multiprocessing/resource_tracker.py\"\u001b[0m, line \u001b[35m295\u001b[0m, in \u001b[35mmain\u001b[0m\n",
      "    raise ValueError(\n",
      "        f'Cannot register {name} for automatic cleanup: '\n",
      "        f'unknown resource type {rtype}')\n",
      "\u001b[1;35mValueError\u001b[0m: \u001b[35mCannot register /dev/shm/joblib_memmapping_folder_2196_647acbeb86c249939812812d3c062827_e153af8a53184ed9a02df279dd26d765 for automatic cleanup: unknown resource type folder\u001b[0m\n",
      "Traceback (most recent call last):\n",
      "  File \u001b[35m\"/opt/hostedtoolcache/Python/3.13.7/x64/lib/python3.13/multiprocessing/resource_tracker.py\"\u001b[0m, line \u001b[35m295\u001b[0m, in \u001b[35mmain\u001b[0m\n",
      "    raise ValueError(\n",
      "        f'Cannot register {name} for automatic cleanup: '\n",
      "        f'unknown resource type {rtype}')\n",
      "\u001b[1;35mValueError\u001b[0m: \u001b[35mCannot register /dev/shm/joblib_memmapping_folder_2196_b3491d4793c54c2b805d4ce56703e198_cac4ddc4211c4eb49ce270cdcff0909e for automatic cleanup: unknown resource type folder\u001b[0m\n"
     ]
    },
    {
     "name": "stderr",
     "output_type": "stream",
     "text": [
      "\r",
      "Scraping 24 games on 03/11/25:  72%|███████▏  | 131 of 182 days scraped in 595.4 secTraceback (most recent call last):\n"
     ]
    },
    {
     "name": "stderr",
     "output_type": "stream",
     "text": [
      "  File \u001b[35m\"/opt/hostedtoolcache/Python/3.13.7/x64/lib/python3.13/multiprocessing/resource_tracker.py\"\u001b[0m, line \u001b[35m295\u001b[0m, in \u001b[35mmain\u001b[0m\n",
      "    raise ValueError(\n",
      "        f'Cannot register {name} for automatic cleanup: '\n",
      "        f'unknown resource type {rtype}')\n",
      "\u001b[1;35mValueError\u001b[0m: \u001b[35mCannot register /dev/shm/joblib_memmapping_folder_2196_b3491d4793c54c2b805d4ce56703e198_cac4ddc4211c4eb49ce270cdcff0909e for automatic cleanup: unknown resource type folder\u001b[0m\n"
     ]
    },
    {
     "name": "stderr",
     "output_type": "stream",
     "text": [
      "\r",
      "Scraping 40 games on 03/12/25:  72%|███████▏  | 131 of 182 days scraped in 595.9 sec"
     ]
    },
    {
     "name": "stderr",
     "output_type": "stream",
     "text": [
      "Traceback (most recent call last):\n",
      "  File \u001b[35m\"/opt/hostedtoolcache/Python/3.13.7/x64/lib/python3.13/multiprocessing/resource_tracker.py\"\u001b[0m, line \u001b[35m295\u001b[0m, in \u001b[35mmain\u001b[0m\n",
      "    raise ValueError(\n",
      "        f'Cannot register {name} for automatic cleanup: '\n",
      "        f'unknown resource type {rtype}')\n",
      "\u001b[1;35mValueError\u001b[0m: \u001b[35mCannot register /dev/shm/joblib_memmapping_folder_2196_ab8ee2f87d4d4e31b39d1a5ef6410b79_1742b7164c5b499a89f50d5ccef72b01 for automatic cleanup: unknown resource type folder\u001b[0m\n",
      "Traceback (most recent call last):\n",
      "  File \u001b[35m\"/opt/hostedtoolcache/Python/3.13.7/x64/lib/python3.13/multiprocessing/resource_tracker.py\"\u001b[0m, line \u001b[35m295\u001b[0m, in \u001b[35mmain\u001b[0m\n",
      "    raise ValueError(\n",
      "        f'Cannot register {name} for automatic cleanup: '\n",
      "        f'unknown resource type {rtype}')\n",
      "\u001b[1;35mValueError\u001b[0m: \u001b[35mCannot register /dev/shm/joblib_memmapping_folder_2196_b3491d4793c54c2b805d4ce56703e198_693000b64674492184ba7dac0a51f3c9 for automatic cleanup: unknown resource type folder\u001b[0m\n"
     ]
    },
    {
     "name": "stderr",
     "output_type": "stream",
     "text": [
      "\r",
      "Scraping 40 games on 03/12/25:  73%|███████▎  | 132 of 182 days scraped in 599.6 sec"
     ]
    },
    {
     "name": "stderr",
     "output_type": "stream",
     "text": [
      "Traceback (most recent call last):\n",
      "  File \u001b[35m\"/opt/hostedtoolcache/Python/3.13.7/x64/lib/python3.13/multiprocessing/resource_tracker.py\"\u001b[0m, line \u001b[35m295\u001b[0m, in \u001b[35mmain\u001b[0m\n",
      "    raise ValueError(\n",
      "        f'Cannot register {name} for automatic cleanup: '\n",
      "        f'unknown resource type {rtype}')\n",
      "\u001b[1;35mValueError\u001b[0m: \u001b[35mCannot register /dev/shm/joblib_memmapping_folder_2196_b3491d4793c54c2b805d4ce56703e198_693000b64674492184ba7dac0a51f3c9 for automatic cleanup: unknown resource type folder\u001b[0m\n"
     ]
    },
    {
     "name": "stderr",
     "output_type": "stream",
     "text": [
      "\r",
      "Scraping 48 games on 03/13/25:  73%|███████▎  | 132 of 182 days scraped in 600.1 sec"
     ]
    },
    {
     "name": "stderr",
     "output_type": "stream",
     "text": [
      "Traceback (most recent call last):\n",
      "  File \u001b[35m\"/opt/hostedtoolcache/Python/3.13.7/x64/lib/python3.13/multiprocessing/resource_tracker.py\"\u001b[0m, line \u001b[35m295\u001b[0m, in \u001b[35mmain\u001b[0m\n",
      "    raise ValueError(\n",
      "        f'Cannot register {name} for automatic cleanup: '\n",
      "        f'unknown resource type {rtype}')\n",
      "\u001b[1;35mValueError\u001b[0m: \u001b[35mCannot register /dev/shm/joblib_memmapping_folder_2196_54b87a087cd248aba82885cd968206ab_349f25b70b30486f8837ebc0effce087 for automatic cleanup: unknown resource type folder\u001b[0m\n",
      "Traceback (most recent call last):\n",
      "  File \u001b[35m\"/opt/hostedtoolcache/Python/3.13.7/x64/lib/python3.13/multiprocessing/resource_tracker.py\"\u001b[0m, line \u001b[35m295\u001b[0m, in \u001b[35mmain\u001b[0m\n",
      "    raise ValueError(\n",
      "        f'Cannot register {name} for automatic cleanup: '\n",
      "        f'unknown resource type {rtype}')\n",
      "\u001b[1;35mValueError\u001b[0m: \u001b[35mCannot register /dev/shm/joblib_memmapping_folder_2196_b3491d4793c54c2b805d4ce56703e198_bf7659502ff14d51a2c9617d5c2f1d7e for automatic cleanup: unknown resource type folder\u001b[0m\n"
     ]
    },
    {
     "name": "stderr",
     "output_type": "stream",
     "text": [
      "\r",
      "Scraping 48 games on 03/13/25:  73%|███████▎  | 133 of 182 days scraped in 604.8 sec"
     ]
    },
    {
     "name": "stderr",
     "output_type": "stream",
     "text": [
      "Traceback (most recent call last):\n",
      "  File \u001b[35m\"/opt/hostedtoolcache/Python/3.13.7/x64/lib/python3.13/multiprocessing/resource_tracker.py\"\u001b[0m, line \u001b[35m295\u001b[0m, in \u001b[35mmain\u001b[0m\n",
      "    raise ValueError(\n",
      "        f'Cannot register {name} for automatic cleanup: '\n",
      "        f'unknown resource type {rtype}')\n",
      "\u001b[1;35mValueError\u001b[0m: \u001b[35mCannot register /dev/shm/joblib_memmapping_folder_2196_b3491d4793c54c2b805d4ce56703e198_bf7659502ff14d51a2c9617d5c2f1d7e for automatic cleanup: unknown resource type folder\u001b[0m\n"
     ]
    },
    {
     "name": "stderr",
     "output_type": "stream",
     "text": [
      "\r",
      "Scraping 38 games on 03/14/25:  73%|███████▎  | 133 of 182 days scraped in 605.3 sec"
     ]
    },
    {
     "name": "stderr",
     "output_type": "stream",
     "text": [
      "Traceback (most recent call last):\n",
      "  File \u001b[35m\"/opt/hostedtoolcache/Python/3.13.7/x64/lib/python3.13/multiprocessing/resource_tracker.py\"\u001b[0m, line \u001b[35m295\u001b[0m, in \u001b[35mmain\u001b[0m\n",
      "    raise ValueError(\n",
      "        f'Cannot register {name} for automatic cleanup: '\n",
      "        f'unknown resource type {rtype}')\n",
      "\u001b[1;35mValueError\u001b[0m: \u001b[35mCannot register /dev/shm/joblib_memmapping_folder_2196_22002e78dc324705a008f94b2fa68837_6c47f690478e4e7fb26192df86570384 for automatic cleanup: unknown resource type folder\u001b[0m\n",
      "Traceback (most recent call last):\n",
      "  File \u001b[35m\"/opt/hostedtoolcache/Python/3.13.7/x64/lib/python3.13/multiprocessing/resource_tracker.py\"\u001b[0m, line \u001b[35m295\u001b[0m, in \u001b[35mmain\u001b[0m\n",
      "    raise ValueError(\n",
      "        f'Cannot register {name} for automatic cleanup: '\n",
      "        f'unknown resource type {rtype}')\n",
      "\u001b[1;35mValueError\u001b[0m: \u001b[35mCannot register /dev/shm/joblib_memmapping_folder_2196_b3491d4793c54c2b805d4ce56703e198_47277549696b4c119c92b32f5f7dbae6 for automatic cleanup: unknown resource type folder\u001b[0m\n"
     ]
    },
    {
     "name": "stderr",
     "output_type": "stream",
     "text": [
      "\r",
      "Scraping 38 games on 03/14/25:  74%|███████▎  | 134 of 182 days scraped in 609.0 sec"
     ]
    },
    {
     "name": "stderr",
     "output_type": "stream",
     "text": [
      "Traceback (most recent call last):\n",
      "  File \u001b[35m\"/opt/hostedtoolcache/Python/3.13.7/x64/lib/python3.13/multiprocessing/resource_tracker.py\"\u001b[0m, line \u001b[35m295\u001b[0m, in \u001b[35mmain\u001b[0m\n",
      "    raise ValueError(\n",
      "        f'Cannot register {name} for automatic cleanup: '\n",
      "        f'unknown resource type {rtype}')\n",
      "\u001b[1;35mValueError\u001b[0m: \u001b[35mCannot register /dev/shm/joblib_memmapping_folder_2196_b3491d4793c54c2b805d4ce56703e198_47277549696b4c119c92b32f5f7dbae6 for automatic cleanup: unknown resource type folder\u001b[0m\n"
     ]
    },
    {
     "name": "stderr",
     "output_type": "stream",
     "text": [
      "\r",
      "Scraping 22 games on 03/15/25:  74%|███████▎  | 134 of 182 days scraped in 609.5 sec"
     ]
    },
    {
     "name": "stderr",
     "output_type": "stream",
     "text": [
      "Traceback (most recent call last):\n",
      "  File \u001b[35m\"/opt/hostedtoolcache/Python/3.13.7/x64/lib/python3.13/multiprocessing/resource_tracker.py\"\u001b[0m, line \u001b[35m295\u001b[0m, in \u001b[35mmain\u001b[0m\n",
      "    raise ValueError(\n",
      "        f'Cannot register {name} for automatic cleanup: '\n",
      "        f'unknown resource type {rtype}')\n",
      "\u001b[1;35mValueError\u001b[0m: \u001b[35mCannot register /dev/shm/joblib_memmapping_folder_2196_cf493a5ea9184c24a243c8ba965b78fc_e5e32f3cad934e77a1075d59a416660d for automatic cleanup: unknown resource type folder\u001b[0m\n",
      "Traceback (most recent call last):\n",
      "  File \u001b[35m\"/opt/hostedtoolcache/Python/3.13.7/x64/lib/python3.13/multiprocessing/resource_tracker.py\"\u001b[0m, line \u001b[35m295\u001b[0m, in \u001b[35mmain\u001b[0m\n",
      "    raise ValueError(\n",
      "        f'Cannot register {name} for automatic cleanup: '\n",
      "        f'unknown resource type {rtype}')\n",
      "\u001b[1;35mValueError\u001b[0m: \u001b[35mCannot register /dev/shm/joblib_memmapping_folder_2196_b3491d4793c54c2b805d4ce56703e198_194e71fd72744b75a9973abdede305bd for automatic cleanup: unknown resource type folder\u001b[0m\n"
     ]
    },
    {
     "name": "stderr",
     "output_type": "stream",
     "text": [
      "\r",
      "Scraping 22 games on 03/15/25:  74%|███████▍  | 135 of 182 days scraped in 611.6 sec"
     ]
    },
    {
     "name": "stderr",
     "output_type": "stream",
     "text": [
      "Traceback (most recent call last):\n",
      "  File \u001b[35m\"/opt/hostedtoolcache/Python/3.13.7/x64/lib/python3.13/multiprocessing/resource_tracker.py\"\u001b[0m, line \u001b[35m295\u001b[0m, in \u001b[35mmain\u001b[0m\n",
      "    raise ValueError(\n",
      "        f'Cannot register {name} for automatic cleanup: '\n",
      "        f'unknown resource type {rtype}')\n",
      "\u001b[1;35mValueError\u001b[0m: \u001b[35mCannot register /dev/shm/joblib_memmapping_folder_2196_b3491d4793c54c2b805d4ce56703e198_194e71fd72744b75a9973abdede305bd for automatic cleanup: unknown resource type folder\u001b[0m\n"
     ]
    },
    {
     "name": "stderr",
     "output_type": "stream",
     "text": [
      "\r",
      "Scraping 5 games on 03/16/25:  74%|███████▍  | 135 of 182 days scraped in 611.9 sec "
     ]
    },
    {
     "name": "stderr",
     "output_type": "stream",
     "text": [
      "Traceback (most recent call last):\n",
      "  File \u001b[35m\"/opt/hostedtoolcache/Python/3.13.7/x64/lib/python3.13/multiprocessing/resource_tracker.py\"\u001b[0m, line \u001b[35m295\u001b[0m, in \u001b[35mmain\u001b[0m\n",
      "    raise ValueError(\n",
      "        f'Cannot register {name} for automatic cleanup: '\n",
      "        f'unknown resource type {rtype}')\n",
      "\u001b[1;35mValueError\u001b[0m: \u001b[35mCannot register /dev/shm/joblib_memmapping_folder_2196_4ab62719ae294163856c8ceb797407da_4b7a1c65a6d94652934390de87d2069b for automatic cleanup: unknown resource type folder\u001b[0m\n",
      "Traceback (most recent call last):\n",
      "  File \u001b[35m\"/opt/hostedtoolcache/Python/3.13.7/x64/lib/python3.13/multiprocessing/resource_tracker.py\"\u001b[0m, line \u001b[35m295\u001b[0m, in \u001b[35mmain\u001b[0m\n",
      "    raise ValueError(\n",
      "        f'Cannot register {name} for automatic cleanup: '\n",
      "        f'unknown resource type {rtype}')\n",
      "\u001b[1;35mValueError\u001b[0m: \u001b[35mCannot register /dev/shm/joblib_memmapping_folder_2196_b3491d4793c54c2b805d4ce56703e198_337b9fdc8c064e8f8e815fc67cb72899 for automatic cleanup: unknown resource type folder\u001b[0m\n"
     ]
    },
    {
     "name": "stderr",
     "output_type": "stream",
     "text": [
      "\r",
      "Scraping 5 games on 03/16/25:  75%|███████▍  | 136 of 182 days scraped in 612.4 secTraceback (most recent call last):\n"
     ]
    },
    {
     "name": "stderr",
     "output_type": "stream",
     "text": [
      "  File \u001b[35m\"/opt/hostedtoolcache/Python/3.13.7/x64/lib/python3.13/multiprocessing/resource_tracker.py\"\u001b[0m, line \u001b[35m295\u001b[0m, in \u001b[35mmain\u001b[0m\n",
      "    raise ValueError(\n",
      "        f'Cannot register {name} for automatic cleanup: '\n",
      "        f'unknown resource type {rtype}')\n",
      "\u001b[1;35mValueError\u001b[0m: \u001b[35mCannot register /dev/shm/joblib_memmapping_folder_2196_b3491d4793c54c2b805d4ce56703e198_337b9fdc8c064e8f8e815fc67cb72899 for automatic cleanup: unknown resource type folder\u001b[0m\n",
      "\r",
      "Scraping 0 games on 03/17/25:  75%|███████▍  | 136 of 182 days scraped in 612.6 sec"
     ]
    },
    {
     "name": "stderr",
     "output_type": "stream",
     "text": [
      "\r",
      "No games on 03/17/25:  75%|███████▌  | 137 of 182 days scraped in 612.6 sec        "
     ]
    },
    {
     "name": "stderr",
     "output_type": "stream",
     "text": [
      "\r",
      "Scraping 9 games on 03/18/25:  75%|███████▌  | 137 of 182 days scraped in 613.0 sec"
     ]
    },
    {
     "name": "stderr",
     "output_type": "stream",
     "text": [
      "Traceback (most recent call last):\n",
      "  File \u001b[35m\"/opt/hostedtoolcache/Python/3.13.7/x64/lib/python3.13/multiprocessing/resource_tracker.py\"\u001b[0m, line \u001b[35m295\u001b[0m, in \u001b[35mmain\u001b[0m\n",
      "    raise ValueError(\n",
      "        f'Cannot register {name} for automatic cleanup: '\n",
      "        f'unknown resource type {rtype}')\n",
      "\u001b[1;35mValueError\u001b[0m: \u001b[35mCannot register /dev/shm/joblib_memmapping_folder_2196_a0695d338651418989a8fe8c77c53bbc_d681ebcb0e034d3a801953c4f35d202c for automatic cleanup: unknown resource type folder\u001b[0m\n",
      "Traceback (most recent call last):\n",
      "  File \u001b[35m\"/opt/hostedtoolcache/Python/3.13.7/x64/lib/python3.13/multiprocessing/resource_tracker.py\"\u001b[0m, line \u001b[35m295\u001b[0m, in \u001b[35mmain\u001b[0m\n",
      "    raise ValueError(\n",
      "        f'Cannot register {name} for automatic cleanup: '\n",
      "        f'unknown resource type {rtype}')\n",
      "\u001b[1;35mValueError\u001b[0m: \u001b[35mCannot register /dev/shm/joblib_memmapping_folder_2196_b3491d4793c54c2b805d4ce56703e198_99dfd842d06a4fd6a8bd8a579638d377 for automatic cleanup: unknown resource type folder\u001b[0m\n"
     ]
    },
    {
     "name": "stderr",
     "output_type": "stream",
     "text": [
      "\r",
      "Scraping 9 games on 03/18/25:  76%|███████▌  | 138 of 182 days scraped in 614.0 sec"
     ]
    },
    {
     "name": "stderr",
     "output_type": "stream",
     "text": [
      "Traceback (most recent call last):\n",
      "  File \u001b[35m\"/opt/hostedtoolcache/Python/3.13.7/x64/lib/python3.13/multiprocessing/resource_tracker.py\"\u001b[0m, line \u001b[35m295\u001b[0m, in \u001b[35mmain\u001b[0m\n",
      "    raise ValueError(\n",
      "        f'Cannot register {name} for automatic cleanup: '\n",
      "        f'unknown resource type {rtype}')\n",
      "\u001b[1;35mValueError\u001b[0m: \u001b[35mCannot register /dev/shm/joblib_memmapping_folder_2196_b3491d4793c54c2b805d4ce56703e198_99dfd842d06a4fd6a8bd8a579638d377 for automatic cleanup: unknown resource type folder\u001b[0m\n"
     ]
    },
    {
     "name": "stderr",
     "output_type": "stream",
     "text": [
      "\r",
      "Scraping 11 games on 03/19/25:  76%|███████▌  | 138 of 182 days scraped in 614.3 sec"
     ]
    },
    {
     "name": "stderr",
     "output_type": "stream",
     "text": [
      "Traceback (most recent call last):\n",
      "  File \u001b[35m\"/opt/hostedtoolcache/Python/3.13.7/x64/lib/python3.13/multiprocessing/resource_tracker.py\"\u001b[0m, line \u001b[35m295\u001b[0m, in \u001b[35mmain\u001b[0m\n",
      "    raise ValueError(\n",
      "        f'Cannot register {name} for automatic cleanup: '\n",
      "        f'unknown resource type {rtype}')\n",
      "\u001b[1;35mValueError\u001b[0m: \u001b[35mCannot register /dev/shm/joblib_memmapping_folder_2196_47d5d9f2fb4e49ab97cd93f14cc0f502_1bd6a01144bb41799d2ec91aba96b64d for automatic cleanup: unknown resource type folder\u001b[0m\n",
      "Traceback (most recent call last):\n",
      "  File \u001b[35m\"/opt/hostedtoolcache/Python/3.13.7/x64/lib/python3.13/multiprocessing/resource_tracker.py\"\u001b[0m, line \u001b[35m295\u001b[0m, in \u001b[35mmain\u001b[0m\n",
      "    raise ValueError(\n",
      "        f'Cannot register {name} for automatic cleanup: '\n",
      "        f'unknown resource type {rtype}')\n",
      "\u001b[1;35mValueError\u001b[0m: \u001b[35mCannot register /dev/shm/joblib_memmapping_folder_2196_b3491d4793c54c2b805d4ce56703e198_4f86eec5e17e4f7cbb68376ad79d631e for automatic cleanup: unknown resource type folder\u001b[0m\n"
     ]
    },
    {
     "name": "stderr",
     "output_type": "stream",
     "text": [
      "\r",
      "Scraping 11 games on 03/19/25:  76%|███████▋  | 139 of 182 days scraped in 615.5 secTraceback (most recent call last):\n"
     ]
    },
    {
     "name": "stderr",
     "output_type": "stream",
     "text": [
      "  File \u001b[35m\"/opt/hostedtoolcache/Python/3.13.7/x64/lib/python3.13/multiprocessing/resource_tracker.py\"\u001b[0m, line \u001b[35m295\u001b[0m, in \u001b[35mmain\u001b[0m\n",
      "    raise ValueError(\n",
      "        f'Cannot register {name} for automatic cleanup: '\n",
      "        f'unknown resource type {rtype}')\n",
      "\u001b[1;35mValueError\u001b[0m: \u001b[35mCannot register /dev/shm/joblib_memmapping_folder_2196_b3491d4793c54c2b805d4ce56703e198_4f86eec5e17e4f7cbb68376ad79d631e for automatic cleanup: unknown resource type folder\u001b[0m\n"
     ]
    },
    {
     "name": "stderr",
     "output_type": "stream",
     "text": [
      "\r",
      "Scraping 16 games on 03/20/25:  76%|███████▋  | 139 of 182 days scraped in 615.8 sec"
     ]
    },
    {
     "name": "stderr",
     "output_type": "stream",
     "text": [
      "Traceback (most recent call last):\n",
      "  File \u001b[35m\"/opt/hostedtoolcache/Python/3.13.7/x64/lib/python3.13/multiprocessing/resource_tracker.py\"\u001b[0m, line \u001b[35m295\u001b[0m, in \u001b[35mmain\u001b[0m\n",
      "    raise ValueError(\n",
      "        f'Cannot register {name} for automatic cleanup: '\n",
      "        f'unknown resource type {rtype}')\n",
      "\u001b[1;35mValueError\u001b[0m: \u001b[35mCannot register /dev/shm/joblib_memmapping_folder_2196_0c35792d9d724bc193fe4c0d61329b83_3fe3d991af7f4f439b2efbb8297fc5db for automatic cleanup: unknown resource type folder\u001b[0m\n",
      "Traceback (most recent call last):\n",
      "  File \u001b[35m\"/opt/hostedtoolcache/Python/3.13.7/x64/lib/python3.13/multiprocessing/resource_tracker.py\"\u001b[0m, line \u001b[35m295\u001b[0m, in \u001b[35mmain\u001b[0m\n",
      "    raise ValueError(\n",
      "        f'Cannot register {name} for automatic cleanup: '\n",
      "        f'unknown resource type {rtype}')\n",
      "\u001b[1;35mValueError\u001b[0m: \u001b[35mCannot register /dev/shm/joblib_memmapping_folder_2196_b3491d4793c54c2b805d4ce56703e198_5e2d143396f343c09ac48527d22cd4e7 for automatic cleanup: unknown resource type folder\u001b[0m\n"
     ]
    },
    {
     "name": "stderr",
     "output_type": "stream",
     "text": [
      "\r",
      "Scraping 16 games on 03/20/25:  77%|███████▋  | 140 of 182 days scraped in 617.4 sec"
     ]
    },
    {
     "name": "stderr",
     "output_type": "stream",
     "text": [
      "Traceback (most recent call last):\n",
      "  File \u001b[35m\"/opt/hostedtoolcache/Python/3.13.7/x64/lib/python3.13/multiprocessing/resource_tracker.py\"\u001b[0m, line \u001b[35m295\u001b[0m, in \u001b[35mmain\u001b[0m\n",
      "    raise ValueError(\n",
      "        f'Cannot register {name} for automatic cleanup: '\n",
      "        f'unknown resource type {rtype}')\n",
      "\u001b[1;35mValueError\u001b[0m: \u001b[35mCannot register /dev/shm/joblib_memmapping_folder_2196_b3491d4793c54c2b805d4ce56703e198_5e2d143396f343c09ac48527d22cd4e7 for automatic cleanup: unknown resource type folder\u001b[0m\n"
     ]
    },
    {
     "name": "stderr",
     "output_type": "stream",
     "text": [
      "\r",
      "Scraping 16 games on 03/21/25:  77%|███████▋  | 140 of 182 days scraped in 617.7 sec"
     ]
    },
    {
     "name": "stderr",
     "output_type": "stream",
     "text": [
      "Traceback (most recent call last):\n",
      "  File \u001b[35m\"/opt/hostedtoolcache/Python/3.13.7/x64/lib/python3.13/multiprocessing/resource_tracker.py\"\u001b[0m, line \u001b[35m295\u001b[0m, in \u001b[35mmain\u001b[0m\n",
      "    raise ValueError(\n",
      "        f'Cannot register {name} for automatic cleanup: '\n",
      "        f'unknown resource type {rtype}')\n",
      "\u001b[1;35mValueError\u001b[0m: \u001b[35mCannot register /dev/shm/joblib_memmapping_folder_2196_d6745a69eb704e0f9805ded5b4ea67ec_7a39d301dd434ef6a9792b47f4767c2f for automatic cleanup: unknown resource type folder\u001b[0m\n",
      "Traceback (most recent call last):\n",
      "  File \u001b[35m\"/opt/hostedtoolcache/Python/3.13.7/x64/lib/python3.13/multiprocessing/resource_tracker.py\"\u001b[0m, line \u001b[35m295\u001b[0m, in \u001b[35mmain\u001b[0m\n",
      "    raise ValueError(\n",
      "        f'Cannot register {name} for automatic cleanup: '\n",
      "        f'unknown resource type {rtype}')\n",
      "\u001b[1;35mValueError\u001b[0m: \u001b[35mCannot register /dev/shm/joblib_memmapping_folder_2196_b3491d4793c54c2b805d4ce56703e198_8c3ee027ee7442c9bb3981de7ecb49d5 for automatic cleanup: unknown resource type folder\u001b[0m\n"
     ]
    },
    {
     "name": "stderr",
     "output_type": "stream",
     "text": [
      "\r",
      "Scraping 16 games on 03/21/25:  77%|███████▋  | 141 of 182 days scraped in 619.3 sec"
     ]
    },
    {
     "name": "stderr",
     "output_type": "stream",
     "text": [
      "Traceback (most recent call last):\n",
      "  File \u001b[35m\"/opt/hostedtoolcache/Python/3.13.7/x64/lib/python3.13/multiprocessing/resource_tracker.py\"\u001b[0m, line \u001b[35m295\u001b[0m, in \u001b[35mmain\u001b[0m\n",
      "    raise ValueError(\n",
      "        f'Cannot register {name} for automatic cleanup: '\n",
      "        f'unknown resource type {rtype}')\n",
      "\u001b[1;35mValueError\u001b[0m: \u001b[35mCannot register /dev/shm/joblib_memmapping_folder_2196_b3491d4793c54c2b805d4ce56703e198_8c3ee027ee7442c9bb3981de7ecb49d5 for automatic cleanup: unknown resource type folder\u001b[0m\n"
     ]
    },
    {
     "name": "stderr",
     "output_type": "stream",
     "text": [
      "\r",
      "Scraping 10 games on 03/22/25:  77%|███████▋  | 141 of 182 days scraped in 619.6 sec"
     ]
    },
    {
     "name": "stderr",
     "output_type": "stream",
     "text": [
      "Traceback (most recent call last):\n",
      "  File \u001b[35m\"/opt/hostedtoolcache/Python/3.13.7/x64/lib/python3.13/multiprocessing/resource_tracker.py\"\u001b[0m, line \u001b[35m295\u001b[0m, in \u001b[35mmain\u001b[0m\n",
      "    raise ValueError(\n",
      "        f'Cannot register {name} for automatic cleanup: '\n",
      "        f'unknown resource type {rtype}')\n",
      "\u001b[1;35mValueError\u001b[0m: \u001b[35mCannot register /dev/shm/joblib_memmapping_folder_2196_3c32a48446c74a09932db3e753b987b8_8879b3e4f33d4c97bf5cdc970bbc935d for automatic cleanup: unknown resource type folder\u001b[0m\n",
      "Traceback (most recent call last):\n",
      "  File \u001b[35m\"/opt/hostedtoolcache/Python/3.13.7/x64/lib/python3.13/multiprocessing/resource_tracker.py\"\u001b[0m, line \u001b[35m295\u001b[0m, in \u001b[35mmain\u001b[0m\n",
      "    raise ValueError(\n",
      "        f'Cannot register {name} for automatic cleanup: '\n",
      "        f'unknown resource type {rtype}')\n",
      "\u001b[1;35mValueError\u001b[0m: \u001b[35mCannot register /dev/shm/joblib_memmapping_folder_2196_b3491d4793c54c2b805d4ce56703e198_47b007a381c74e1380f069b2b403278a for automatic cleanup: unknown resource type folder\u001b[0m\n"
     ]
    },
    {
     "name": "stderr",
     "output_type": "stream",
     "text": [
      "\r",
      "Scraping 10 games on 03/22/25:  78%|███████▊  | 142 of 182 days scraped in 620.7 secTraceback (most recent call last):\n"
     ]
    },
    {
     "name": "stderr",
     "output_type": "stream",
     "text": [
      "  File \u001b[35m\"/opt/hostedtoolcache/Python/3.13.7/x64/lib/python3.13/multiprocessing/resource_tracker.py\"\u001b[0m, line \u001b[35m295\u001b[0m, in \u001b[35mmain\u001b[0m\n",
      "    raise ValueError(\n",
      "        f'Cannot register {name} for automatic cleanup: '\n",
      "        f'unknown resource type {rtype}')\n",
      "\u001b[1;35mValueError\u001b[0m: \u001b[35mCannot register /dev/shm/joblib_memmapping_folder_2196_b3491d4793c54c2b805d4ce56703e198_47b007a381c74e1380f069b2b403278a for automatic cleanup: unknown resource type folder\u001b[0m\n"
     ]
    },
    {
     "name": "stderr",
     "output_type": "stream",
     "text": [
      "\r",
      "Scraping 18 games on 03/23/25:  78%|███████▊  | 142 of 182 days scraped in 621.0 sec"
     ]
    },
    {
     "name": "stderr",
     "output_type": "stream",
     "text": [
      "Traceback (most recent call last):\n",
      "  File \u001b[35m\"/opt/hostedtoolcache/Python/3.13.7/x64/lib/python3.13/multiprocessing/resource_tracker.py\"\u001b[0m, line \u001b[35m295\u001b[0m, in \u001b[35mmain\u001b[0m\n",
      "    raise ValueError(\n",
      "        f'Cannot register {name} for automatic cleanup: '\n",
      "        f'unknown resource type {rtype}')\n",
      "\u001b[1;35mValueError\u001b[0m: \u001b[35mCannot register /dev/shm/joblib_memmapping_folder_2196_7f6c6afb74f843cca26bf6edfad62d26_ba4063589d3f4d07ae82f9813d653b66 for automatic cleanup: unknown resource type folder\u001b[0m\n",
      "Traceback (most recent call last):\n",
      "  File \u001b[35m\"/opt/hostedtoolcache/Python/3.13.7/x64/lib/python3.13/multiprocessing/resource_tracker.py\"\u001b[0m, line \u001b[35m295\u001b[0m, in \u001b[35mmain\u001b[0m\n",
      "    raise ValueError(\n",
      "        f'Cannot register {name} for automatic cleanup: '\n",
      "        f'unknown resource type {rtype}')\n",
      "\u001b[1;35mValueError\u001b[0m: \u001b[35mCannot register /dev/shm/joblib_memmapping_folder_2196_b3491d4793c54c2b805d4ce56703e198_371956b5acaa428081247e966ce56340 for automatic cleanup: unknown resource type folder\u001b[0m\n"
     ]
    },
    {
     "name": "stderr",
     "output_type": "stream",
     "text": [
      "\r",
      "Scraping 18 games on 03/23/25:  79%|███████▊  | 143 of 182 days scraped in 622.8 secTraceback (most recent call last):\n"
     ]
    },
    {
     "name": "stderr",
     "output_type": "stream",
     "text": [
      "  File \u001b[35m\"/opt/hostedtoolcache/Python/3.13.7/x64/lib/python3.13/multiprocessing/resource_tracker.py\"\u001b[0m, line \u001b[35m295\u001b[0m, in \u001b[35mmain\u001b[0m\n",
      "    raise ValueError(\n",
      "        f'Cannot register {name} for automatic cleanup: '\n",
      "        f'unknown resource type {rtype}')\n",
      "\u001b[1;35mValueError\u001b[0m: \u001b[35mCannot register /dev/shm/joblib_memmapping_folder_2196_b3491d4793c54c2b805d4ce56703e198_371956b5acaa428081247e966ce56340 for automatic cleanup: unknown resource type folder\u001b[0m\n"
     ]
    },
    {
     "name": "stderr",
     "output_type": "stream",
     "text": [
      "\r",
      "Scraping 3 games on 03/24/25:  79%|███████▊  | 143 of 182 days scraped in 623.0 sec "
     ]
    },
    {
     "name": "stderr",
     "output_type": "stream",
     "text": [
      "Traceback (most recent call last):\n",
      "  File \u001b[35m\"/opt/hostedtoolcache/Python/3.13.7/x64/lib/python3.13/multiprocessing/resource_tracker.py\"\u001b[0m, line \u001b[35m295\u001b[0m, in \u001b[35mmain\u001b[0m\n",
      "    raise ValueError(\n",
      "        f'Cannot register {name} for automatic cleanup: '\n",
      "        f'unknown resource type {rtype}')\n",
      "\u001b[1;35mValueError\u001b[0m: \u001b[35mCannot register /dev/shm/joblib_memmapping_folder_2196_0f7f8feb27a6434fb5b8084e48fe5771_f02355d2a3ab4bf6a71fc5533321da64 for automatic cleanup: unknown resource type folder\u001b[0m\n",
      "Traceback (most recent call last):\n",
      "  File \u001b[35m\"/opt/hostedtoolcache/Python/3.13.7/x64/lib/python3.13/multiprocessing/resource_tracker.py\"\u001b[0m, line \u001b[35m295\u001b[0m, in \u001b[35mmain\u001b[0m\n",
      "    raise ValueError(\n",
      "        f'Cannot register {name} for automatic cleanup: '\n",
      "        f'unknown resource type {rtype}')\n",
      "\u001b[1;35mValueError\u001b[0m: \u001b[35mCannot register /dev/shm/joblib_memmapping_folder_2196_b3491d4793c54c2b805d4ce56703e198_702bd557803742858990f2d0524ba7fa for automatic cleanup: unknown resource type folder\u001b[0m\n"
     ]
    },
    {
     "name": "stderr",
     "output_type": "stream",
     "text": [
      "\r",
      "Scraping 3 games on 03/24/25:  79%|███████▉  | 144 of 182 days scraped in 623.3 sec"
     ]
    },
    {
     "name": "stderr",
     "output_type": "stream",
     "text": [
      "Traceback (most recent call last):\n",
      "  File \u001b[35m\"/opt/hostedtoolcache/Python/3.13.7/x64/lib/python3.13/multiprocessing/resource_tracker.py\"\u001b[0m, line \u001b[35m295\u001b[0m, in \u001b[35mmain\u001b[0m\n",
      "    raise ValueError(\n",
      "        f'Cannot register {name} for automatic cleanup: '\n",
      "        f'unknown resource type {rtype}')\n",
      "\u001b[1;35mValueError\u001b[0m: \u001b[35mCannot register /dev/shm/joblib_memmapping_folder_2196_b3491d4793c54c2b805d4ce56703e198_702bd557803742858990f2d0524ba7fa for automatic cleanup: unknown resource type folder\u001b[0m\n"
     ]
    },
    {
     "name": "stderr",
     "output_type": "stream",
     "text": [
      "\r",
      "Scraping 4 games on 03/25/25:  79%|███████▉  | 144 of 182 days scraped in 623.6 sec"
     ]
    },
    {
     "name": "stderr",
     "output_type": "stream",
     "text": [
      "Traceback (most recent call last):\n",
      "  File \u001b[35m\"/opt/hostedtoolcache/Python/3.13.7/x64/lib/python3.13/multiprocessing/resource_tracker.py\"\u001b[0m, line \u001b[35m295\u001b[0m, in \u001b[35mmain\u001b[0m\n",
      "    raise ValueError(\n",
      "        f'Cannot register {name} for automatic cleanup: '\n",
      "        f'unknown resource type {rtype}')\n",
      "\u001b[1;35mValueError\u001b[0m: \u001b[35mCannot register /dev/shm/joblib_memmapping_folder_2196_a97f500d83034c98976b33ca0d27639f_6639b4337a334cbc95c1aced2855ec5e for automatic cleanup: unknown resource type folder\u001b[0m\n",
      "Traceback (most recent call last):\n",
      "  File \u001b[35m\"/opt/hostedtoolcache/Python/3.13.7/x64/lib/python3.13/multiprocessing/resource_tracker.py\"\u001b[0m, line \u001b[35m295\u001b[0m, in \u001b[35mmain\u001b[0m\n",
      "    raise ValueError(\n",
      "        f'Cannot register {name} for automatic cleanup: '\n",
      "        f'unknown resource type {rtype}')\n",
      "\u001b[1;35mValueError\u001b[0m: \u001b[35mCannot register /dev/shm/joblib_memmapping_folder_2196_b3491d4793c54c2b805d4ce56703e198_9ff211357b214951960e51d31f14c03b for automatic cleanup: unknown resource type folder\u001b[0m\n"
     ]
    },
    {
     "name": "stderr",
     "output_type": "stream",
     "text": [
      "\r",
      "Scraping 4 games on 03/25/25:  80%|███████▉  | 145 of 182 days scraped in 624.2 sec"
     ]
    },
    {
     "name": "stderr",
     "output_type": "stream",
     "text": [
      "Traceback (most recent call last):\n",
      "  File \u001b[35m\"/opt/hostedtoolcache/Python/3.13.7/x64/lib/python3.13/multiprocessing/resource_tracker.py\"\u001b[0m, line \u001b[35m295\u001b[0m, in \u001b[35mmain\u001b[0m\n",
      "    raise ValueError(\n",
      "        f'Cannot register {name} for automatic cleanup: '\n",
      "        f'unknown resource type {rtype}')\n",
      "\u001b[1;35mValueError\u001b[0m: \u001b[35mCannot register /dev/shm/joblib_memmapping_folder_2196_b3491d4793c54c2b805d4ce56703e198_9ff211357b214951960e51d31f14c03b for automatic cleanup: unknown resource type folder\u001b[0m\n"
     ]
    },
    {
     "name": "stderr",
     "output_type": "stream",
     "text": [
      "\r",
      "Scraping 3 games on 03/26/25:  80%|███████▉  | 145 of 182 days scraped in 624.4 sec"
     ]
    },
    {
     "name": "stderr",
     "output_type": "stream",
     "text": [
      "Traceback (most recent call last):\n",
      "  File \u001b[35m\"/opt/hostedtoolcache/Python/3.13.7/x64/lib/python3.13/multiprocessing/resource_tracker.py\"\u001b[0m, line \u001b[35m295\u001b[0m, in \u001b[35mmain\u001b[0m\n",
      "    raise ValueError(\n",
      "        f'Cannot register {name} for automatic cleanup: '\n",
      "        f'unknown resource type {rtype}')\n",
      "\u001b[1;35mValueError\u001b[0m: \u001b[35mCannot register /dev/shm/joblib_memmapping_folder_2196_839781d60c094bf4bd5e430b2f17b37d_295c3bbb6b4d474bae11720b26081387 for automatic cleanup: unknown resource type folder\u001b[0m\n",
      "Traceback (most recent call last):\n",
      "  File \u001b[35m\"/opt/hostedtoolcache/Python/3.13.7/x64/lib/python3.13/multiprocessing/resource_tracker.py\"\u001b[0m, line \u001b[35m295\u001b[0m, in \u001b[35mmain\u001b[0m\n",
      "    raise ValueError(\n",
      "        f'Cannot register {name} for automatic cleanup: '\n",
      "        f'unknown resource type {rtype}')\n",
      "\u001b[1;35mValueError\u001b[0m: \u001b[35mCannot register /dev/shm/joblib_memmapping_folder_2196_b3491d4793c54c2b805d4ce56703e198_002201b0835e413abd29c3b48066a327 for automatic cleanup: unknown resource type folder\u001b[0m\n"
     ]
    },
    {
     "name": "stderr",
     "output_type": "stream",
     "text": [
      "\r",
      "Scraping 3 games on 03/26/25:  80%|████████  | 146 of 182 days scraped in 624.7 sec"
     ]
    },
    {
     "name": "stderr",
     "output_type": "stream",
     "text": [
      "Traceback (most recent call last):\n",
      "  File \u001b[35m\"/opt/hostedtoolcache/Python/3.13.7/x64/lib/python3.13/multiprocessing/resource_tracker.py\"\u001b[0m, line \u001b[35m295\u001b[0m, in \u001b[35mmain\u001b[0m\n",
      "    raise ValueError(\n",
      "        f'Cannot register {name} for automatic cleanup: '\n",
      "        f'unknown resource type {rtype}')\n",
      "\u001b[1;35mValueError\u001b[0m: \u001b[35mCannot register /dev/shm/joblib_memmapping_folder_2196_b3491d4793c54c2b805d4ce56703e198_002201b0835e413abd29c3b48066a327 for automatic cleanup: unknown resource type folder\u001b[0m\n"
     ]
    },
    {
     "name": "stderr",
     "output_type": "stream",
     "text": [
      "\r",
      "Scraping 4 games on 03/27/25:  80%|████████  | 146 of 182 days scraped in 625.0 sec"
     ]
    },
    {
     "name": "stderr",
     "output_type": "stream",
     "text": [
      "Traceback (most recent call last):\n",
      "  File \u001b[35m\"/opt/hostedtoolcache/Python/3.13.7/x64/lib/python3.13/multiprocessing/resource_tracker.py\"\u001b[0m, line \u001b[35m295\u001b[0m, in \u001b[35mmain\u001b[0m\n",
      "    raise ValueError(\n",
      "        f'Cannot register {name} for automatic cleanup: '\n",
      "        f'unknown resource type {rtype}')\n",
      "\u001b[1;35mValueError\u001b[0m: \u001b[35mCannot register /dev/shm/joblib_memmapping_folder_2196_d871ebf4ad6b489fbb89a67291c0b06c_91a432b547334093922a5fab6249c465 for automatic cleanup: unknown resource type folder\u001b[0m\n",
      "Traceback (most recent call last):\n",
      "  File \u001b[35m\"/opt/hostedtoolcache/Python/3.13.7/x64/lib/python3.13/multiprocessing/resource_tracker.py\"\u001b[0m, line \u001b[35m295\u001b[0m, in \u001b[35mmain\u001b[0m\n",
      "    raise ValueError(\n",
      "        f'Cannot register {name} for automatic cleanup: '\n",
      "        f'unknown resource type {rtype}')\n",
      "\u001b[1;35mValueError\u001b[0m: \u001b[35mCannot register /dev/shm/joblib_memmapping_folder_2196_b3491d4793c54c2b805d4ce56703e198_def93856e1a24fde9978afe81e62eec4 for automatic cleanup: unknown resource type folder\u001b[0m\n"
     ]
    },
    {
     "name": "stderr",
     "output_type": "stream",
     "text": [
      "\r",
      "Scraping 4 games on 03/27/25:  81%|████████  | 147 of 182 days scraped in 625.5 secTraceback (most recent call last):\n"
     ]
    },
    {
     "name": "stderr",
     "output_type": "stream",
     "text": [
      "  File \u001b[35m\"/opt/hostedtoolcache/Python/3.13.7/x64/lib/python3.13/multiprocessing/resource_tracker.py\"\u001b[0m, line \u001b[35m295\u001b[0m, in \u001b[35mmain\u001b[0m\n",
      "    raise ValueError(\n",
      "        f'Cannot register {name} for automatic cleanup: '\n",
      "        f'unknown resource type {rtype}')\n",
      "\u001b[1;35mValueError\u001b[0m: \u001b[35mCannot register /dev/shm/joblib_memmapping_folder_2196_b3491d4793c54c2b805d4ce56703e198_def93856e1a24fde9978afe81e62eec4 for automatic cleanup: unknown resource type folder\u001b[0m\n"
     ]
    },
    {
     "name": "stderr",
     "output_type": "stream",
     "text": [
      "\r",
      "Scraping 4 games on 03/28/25:  81%|████████  | 147 of 182 days scraped in 626.2 sec"
     ]
    },
    {
     "name": "stderr",
     "output_type": "stream",
     "text": [
      "Traceback (most recent call last):\n",
      "  File \u001b[35m\"/opt/hostedtoolcache/Python/3.13.7/x64/lib/python3.13/multiprocessing/resource_tracker.py\"\u001b[0m, line \u001b[35m295\u001b[0m, in \u001b[35mmain\u001b[0m\n",
      "    raise ValueError(\n",
      "        f'Cannot register {name} for automatic cleanup: '\n",
      "        f'unknown resource type {rtype}')\n",
      "\u001b[1;35mValueError\u001b[0m: \u001b[35mCannot register /dev/shm/joblib_memmapping_folder_2196_e08a8d8c98c24ebcbf913cca84478439_ed88a5e6d61045d896dfb4fa279851b5 for automatic cleanup: unknown resource type folder\u001b[0m\n",
      "Traceback (most recent call last):\n",
      "  File \u001b[35m\"/opt/hostedtoolcache/Python/3.13.7/x64/lib/python3.13/multiprocessing/resource_tracker.py\"\u001b[0m, line \u001b[35m295\u001b[0m, in \u001b[35mmain\u001b[0m\n",
      "    raise ValueError(\n",
      "        f'Cannot register {name} for automatic cleanup: '\n",
      "        f'unknown resource type {rtype}')\n",
      "\u001b[1;35mValueError\u001b[0m: \u001b[35mCannot register /dev/shm/joblib_memmapping_folder_2196_b3491d4793c54c2b805d4ce56703e198_013292c21f954430a60478f96dbdaa7d for automatic cleanup: unknown resource type folder\u001b[0m\n"
     ]
    },
    {
     "name": "stderr",
     "output_type": "stream",
     "text": [
      "\r",
      "Scraping 4 games on 03/28/25:  81%|████████▏ | 148 of 182 days scraped in 626.7 sec"
     ]
    },
    {
     "name": "stderr",
     "output_type": "stream",
     "text": [
      "Traceback (most recent call last):\n",
      "  File \u001b[35m\"/opt/hostedtoolcache/Python/3.13.7/x64/lib/python3.13/multiprocessing/resource_tracker.py\"\u001b[0m, line \u001b[35m295\u001b[0m, in \u001b[35mmain\u001b[0m\n",
      "    raise ValueError(\n",
      "        f'Cannot register {name} for automatic cleanup: '\n",
      "        f'unknown resource type {rtype}')\n",
      "\u001b[1;35mValueError\u001b[0m: \u001b[35mCannot register /dev/shm/joblib_memmapping_folder_2196_b3491d4793c54c2b805d4ce56703e198_013292c21f954430a60478f96dbdaa7d for automatic cleanup: unknown resource type folder\u001b[0m\n"
     ]
    },
    {
     "name": "stderr",
     "output_type": "stream",
     "text": [
      "\r",
      "Scraping 2 games on 03/29/25:  81%|████████▏ | 148 of 182 days scraped in 627.0 sec"
     ]
    },
    {
     "name": "stderr",
     "output_type": "stream",
     "text": [
      "Traceback (most recent call last):\n",
      "  File \u001b[35m\"/opt/hostedtoolcache/Python/3.13.7/x64/lib/python3.13/multiprocessing/resource_tracker.py\"\u001b[0m, line \u001b[35m295\u001b[0m, in \u001b[35mmain\u001b[0m\n",
      "    raise ValueError(\n",
      "        f'Cannot register {name} for automatic cleanup: '\n",
      "        f'unknown resource type {rtype}')\n",
      "\u001b[1;35mValueError\u001b[0m: \u001b[35mCannot register /dev/shm/joblib_memmapping_folder_2196_be8db1bb71e4483bbedd34929b6db3d5_671008f1585e4d8ab0630e2f5eafd63a for automatic cleanup: unknown resource type folder\u001b[0m\n",
      "Traceback (most recent call last):\n",
      "  File \u001b[35m\"/opt/hostedtoolcache/Python/3.13.7/x64/lib/python3.13/multiprocessing/resource_tracker.py\"\u001b[0m, line \u001b[35m295\u001b[0m, in \u001b[35mmain\u001b[0m\n",
      "    raise ValueError(\n",
      "        f'Cannot register {name} for automatic cleanup: '\n",
      "        f'unknown resource type {rtype}')\n",
      "\u001b[1;35mValueError\u001b[0m: \u001b[35mCannot register /dev/shm/joblib_memmapping_folder_2196_b3491d4793c54c2b805d4ce56703e198_fa3ab711587d41469bd740730bf7932c for automatic cleanup: unknown resource type folder\u001b[0m\n"
     ]
    },
    {
     "name": "stderr",
     "output_type": "stream",
     "text": [
      "\r",
      "Scraping 2 games on 03/29/25:  82%|████████▏ | 149 of 182 days scraped in 627.3 secTraceback (most recent call last):\n"
     ]
    },
    {
     "name": "stderr",
     "output_type": "stream",
     "text": [
      "  File \u001b[35m\"/opt/hostedtoolcache/Python/3.13.7/x64/lib/python3.13/multiprocessing/resource_tracker.py\"\u001b[0m, line \u001b[35m295\u001b[0m, in \u001b[35mmain\u001b[0m\n",
      "    raise ValueError(\n",
      "        f'Cannot register {name} for automatic cleanup: '\n",
      "        f'unknown resource type {rtype}')\n",
      "\u001b[1;35mValueError\u001b[0m: \u001b[35mCannot register /dev/shm/joblib_memmapping_folder_2196_b3491d4793c54c2b805d4ce56703e198_fa3ab711587d41469bd740730bf7932c for automatic cleanup: unknown resource type folder\u001b[0m\n"
     ]
    },
    {
     "name": "stderr",
     "output_type": "stream",
     "text": [
      "\r",
      "Scraping 2 games on 03/30/25:  82%|████████▏ | 149 of 182 days scraped in 627.5 sec"
     ]
    },
    {
     "name": "stderr",
     "output_type": "stream",
     "text": [
      "Traceback (most recent call last):\n",
      "  File \u001b[35m\"/opt/hostedtoolcache/Python/3.13.7/x64/lib/python3.13/multiprocessing/resource_tracker.py\"\u001b[0m, line \u001b[35m295\u001b[0m, in \u001b[35mmain\u001b[0m\n",
      "    raise ValueError(\n",
      "        f'Cannot register {name} for automatic cleanup: '\n",
      "        f'unknown resource type {rtype}')\n",
      "\u001b[1;35mValueError\u001b[0m: \u001b[35mCannot register /dev/shm/joblib_memmapping_folder_2196_3f2f5b30fa004ea29c32d1dad0511f2e_0b305a3c54b54ebab13d627734b1a08e for automatic cleanup: unknown resource type folder\u001b[0m\n",
      "Traceback (most recent call last):\n",
      "  File \u001b[35m\"/opt/hostedtoolcache/Python/3.13.7/x64/lib/python3.13/multiprocessing/resource_tracker.py\"\u001b[0m, line \u001b[35m295\u001b[0m, in \u001b[35mmain\u001b[0m\n",
      "    raise ValueError(\n",
      "        f'Cannot register {name} for automatic cleanup: '\n",
      "        f'unknown resource type {rtype}')\n",
      "\u001b[1;35mValueError\u001b[0m: \u001b[35mCannot register /dev/shm/joblib_memmapping_folder_2196_b3491d4793c54c2b805d4ce56703e198_55eb61fcd7504479989b58d20e628f07 for automatic cleanup: unknown resource type folder\u001b[0m\n"
     ]
    },
    {
     "name": "stderr",
     "output_type": "stream",
     "text": [
      "\r",
      "Scraping 2 games on 03/30/25:  82%|████████▏ | 150 of 182 days scraped in 627.9 sec"
     ]
    },
    {
     "name": "stderr",
     "output_type": "stream",
     "text": [
      "Traceback (most recent call last):\n",
      "  File \u001b[35m\"/opt/hostedtoolcache/Python/3.13.7/x64/lib/python3.13/multiprocessing/resource_tracker.py\"\u001b[0m, line \u001b[35m295\u001b[0m, in \u001b[35mmain\u001b[0m\n",
      "    raise ValueError(\n",
      "        f'Cannot register {name} for automatic cleanup: '\n",
      "        f'unknown resource type {rtype}')\n",
      "\u001b[1;35mValueError\u001b[0m: \u001b[35mCannot register /dev/shm/joblib_memmapping_folder_2196_b3491d4793c54c2b805d4ce56703e198_55eb61fcd7504479989b58d20e628f07 for automatic cleanup: unknown resource type folder\u001b[0m\n"
     ]
    },
    {
     "name": "stderr",
     "output_type": "stream",
     "text": [
      "\r",
      "Scraping 4 games on 03/31/25:  82%|████████▏ | 150 of 182 days scraped in 628.1 sec"
     ]
    },
    {
     "name": "stderr",
     "output_type": "stream",
     "text": [
      "Traceback (most recent call last):\n",
      "  File \u001b[35m\"/opt/hostedtoolcache/Python/3.13.7/x64/lib/python3.13/multiprocessing/resource_tracker.py\"\u001b[0m, line \u001b[35m295\u001b[0m, in \u001b[35mmain\u001b[0m\n",
      "    raise ValueError(\n",
      "        f'Cannot register {name} for automatic cleanup: '\n",
      "        f'unknown resource type {rtype}')\n",
      "\u001b[1;35mValueError\u001b[0m: \u001b[35mCannot register /dev/shm/joblib_memmapping_folder_2196_c392525672254131b046d21589d1c039_7b0229bb6096408688b34a9ab422c114 for automatic cleanup: unknown resource type folder\u001b[0m\n",
      "Traceback (most recent call last):\n",
      "  File \u001b[35m\"/opt/hostedtoolcache/Python/3.13.7/x64/lib/python3.13/multiprocessing/resource_tracker.py\"\u001b[0m, line \u001b[35m295\u001b[0m, in \u001b[35mmain\u001b[0m\n",
      "    raise ValueError(\n",
      "        f'Cannot register {name} for automatic cleanup: '\n",
      "        f'unknown resource type {rtype}')\n",
      "\u001b[1;35mValueError\u001b[0m: \u001b[35mCannot register /dev/shm/joblib_memmapping_folder_2196_b3491d4793c54c2b805d4ce56703e198_08ffc609a00048c6aee3c7e7babd2d22 for automatic cleanup: unknown resource type folder\u001b[0m\n"
     ]
    },
    {
     "name": "stderr",
     "output_type": "stream",
     "text": [
      "\r",
      "Scraping 4 games on 03/31/25:  83%|████████▎ | 151 of 182 days scraped in 628.7 sec"
     ]
    },
    {
     "name": "stderr",
     "output_type": "stream",
     "text": [
      "Traceback (most recent call last):\n",
      "  File \u001b[35m\"/opt/hostedtoolcache/Python/3.13.7/x64/lib/python3.13/multiprocessing/resource_tracker.py\"\u001b[0m, line \u001b[35m295\u001b[0m, in \u001b[35mmain\u001b[0m\n",
      "    raise ValueError(\n",
      "        f'Cannot register {name} for automatic cleanup: '\n",
      "        f'unknown resource type {rtype}')\n",
      "\u001b[1;35mValueError\u001b[0m: \u001b[35mCannot register /dev/shm/joblib_memmapping_folder_2196_b3491d4793c54c2b805d4ce56703e198_08ffc609a00048c6aee3c7e7babd2d22 for automatic cleanup: unknown resource type folder\u001b[0m\n"
     ]
    },
    {
     "name": "stderr",
     "output_type": "stream",
     "text": [
      "\r",
      "Scraping 6 games on 04/01/25:  83%|████████▎ | 151 of 182 days scraped in 629.0 sec"
     ]
    },
    {
     "name": "stderr",
     "output_type": "stream",
     "text": [
      "Traceback (most recent call last):\n",
      "  File \u001b[35m\"/opt/hostedtoolcache/Python/3.13.7/x64/lib/python3.13/multiprocessing/resource_tracker.py\"\u001b[0m, line \u001b[35m295\u001b[0m, in \u001b[35mmain\u001b[0m\n",
      "    raise ValueError(\n",
      "        f'Cannot register {name} for automatic cleanup: '\n",
      "        f'unknown resource type {rtype}')\n",
      "\u001b[1;35mValueError\u001b[0m: \u001b[35mCannot register /dev/shm/joblib_memmapping_folder_2196_c788981afbe74929acc2f7aae40d28b5_d5204b72bb3a46a894b7e4880e97c507 for automatic cleanup: unknown resource type folder\u001b[0m\n",
      "Traceback (most recent call last):\n",
      "  File \u001b[35m\"/opt/hostedtoolcache/Python/3.13.7/x64/lib/python3.13/multiprocessing/resource_tracker.py\"\u001b[0m, line \u001b[35m295\u001b[0m, in \u001b[35mmain\u001b[0m\n",
      "    raise ValueError(\n",
      "        f'Cannot register {name} for automatic cleanup: '\n",
      "        f'unknown resource type {rtype}')\n",
      "\u001b[1;35mValueError\u001b[0m: \u001b[35mCannot register /dev/shm/joblib_memmapping_folder_2196_b3491d4793c54c2b805d4ce56703e198_9c10bdf92732436c90f8ddb968a0f69d for automatic cleanup: unknown resource type folder\u001b[0m\n"
     ]
    },
    {
     "name": "stderr",
     "output_type": "stream",
     "text": [
      "\r",
      "Scraping 6 games on 04/01/25:  84%|████████▎ | 152 of 182 days scraped in 629.6 secTraceback (most recent call last):\n"
     ]
    },
    {
     "name": "stderr",
     "output_type": "stream",
     "text": [
      "  File \u001b[35m\"/opt/hostedtoolcache/Python/3.13.7/x64/lib/python3.13/multiprocessing/resource_tracker.py\"\u001b[0m, line \u001b[35m295\u001b[0m, in \u001b[35mmain\u001b[0m\n",
      "    raise ValueError(\n",
      "        f'Cannot register {name} for automatic cleanup: '\n",
      "        f'unknown resource type {rtype}')\n",
      "\u001b[1;35mValueError\u001b[0m: \u001b[35mCannot register /dev/shm/joblib_memmapping_folder_2196_b3491d4793c54c2b805d4ce56703e198_9c10bdf92732436c90f8ddb968a0f69d for automatic cleanup: unknown resource type folder\u001b[0m\n"
     ]
    },
    {
     "name": "stderr",
     "output_type": "stream",
     "text": [
      "\r",
      "Scraping 2 games on 04/02/25:  84%|████████▎ | 152 of 182 days scraped in 629.9 sec"
     ]
    },
    {
     "name": "stderr",
     "output_type": "stream",
     "text": [
      "Traceback (most recent call last):\n",
      "  File \u001b[35m\"/opt/hostedtoolcache/Python/3.13.7/x64/lib/python3.13/multiprocessing/resource_tracker.py\"\u001b[0m, line \u001b[35m295\u001b[0m, in \u001b[35mmain\u001b[0m\n",
      "    raise ValueError(\n",
      "        f'Cannot register {name} for automatic cleanup: '\n",
      "        f'unknown resource type {rtype}')\n",
      "\u001b[1;35mValueError\u001b[0m: \u001b[35mCannot register /dev/shm/joblib_memmapping_folder_2196_baf855ee58714af6bdd9045a34c46250_f3eb8f9156da4ce08e5e2d0a7593b3ab for automatic cleanup: unknown resource type folder\u001b[0m\n",
      "Traceback (most recent call last):\n",
      "  File \u001b[35m\"/opt/hostedtoolcache/Python/3.13.7/x64/lib/python3.13/multiprocessing/resource_tracker.py\"\u001b[0m, line \u001b[35m295\u001b[0m, in \u001b[35mmain\u001b[0m\n",
      "    raise ValueError(\n",
      "        f'Cannot register {name} for automatic cleanup: '\n",
      "        f'unknown resource type {rtype}')\n",
      "\u001b[1;35mValueError\u001b[0m: \u001b[35mCannot register /dev/shm/joblib_memmapping_folder_2196_b3491d4793c54c2b805d4ce56703e198_e8d30273f607455b918fec092d7ecde4 for automatic cleanup: unknown resource type folder\u001b[0m\n"
     ]
    },
    {
     "name": "stderr",
     "output_type": "stream",
     "text": [
      "\r",
      "Scraping 2 games on 04/02/25:  84%|████████▍ | 153 of 182 days scraped in 630.2 secTraceback (most recent call last):\n"
     ]
    },
    {
     "name": "stderr",
     "output_type": "stream",
     "text": [
      "  File \u001b[35m\"/opt/hostedtoolcache/Python/3.13.7/x64/lib/python3.13/multiprocessing/resource_tracker.py\"\u001b[0m, line \u001b[35m295\u001b[0m, in \u001b[35mmain\u001b[0m\n",
      "    raise ValueError(\n",
      "        f'Cannot register {name} for automatic cleanup: '\n",
      "        f'unknown resource type {rtype}')\n",
      "\u001b[1;35mValueError\u001b[0m: \u001b[35mCannot register /dev/shm/joblib_memmapping_folder_2196_b3491d4793c54c2b805d4ce56703e198_e8d30273f607455b918fec092d7ecde4 for automatic cleanup: unknown resource type folder\u001b[0m\n"
     ]
    },
    {
     "name": "stderr",
     "output_type": "stream",
     "text": [
      "\r",
      "Scraping 3 games on 04/03/25:  84%|████████▍ | 153 of 182 days scraped in 630.4 sec"
     ]
    },
    {
     "name": "stderr",
     "output_type": "stream",
     "text": [
      "Traceback (most recent call last):\n",
      "  File \u001b[35m\"/opt/hostedtoolcache/Python/3.13.7/x64/lib/python3.13/multiprocessing/resource_tracker.py\"\u001b[0m, line \u001b[35m295\u001b[0m, in \u001b[35mmain\u001b[0m\n",
      "    raise ValueError(\n",
      "        f'Cannot register {name} for automatic cleanup: '\n",
      "        f'unknown resource type {rtype}')\n",
      "\u001b[1;35mValueError\u001b[0m: \u001b[35mCannot register /dev/shm/joblib_memmapping_folder_2196_1c4c74f07cfd4a7a960a670feb68bf42_a6cc0e5f47db4c93af44f30147773938 for automatic cleanup: unknown resource type folder\u001b[0m\n",
      "Traceback (most recent call last):\n",
      "  File \u001b[35m\"/opt/hostedtoolcache/Python/3.13.7/x64/lib/python3.13/multiprocessing/resource_tracker.py\"\u001b[0m, line \u001b[35m295\u001b[0m, in \u001b[35mmain\u001b[0m\n",
      "    raise ValueError(\n",
      "        f'Cannot register {name} for automatic cleanup: '\n",
      "        f'unknown resource type {rtype}')\n",
      "\u001b[1;35mValueError\u001b[0m: \u001b[35mCannot register /dev/shm/joblib_memmapping_folder_2196_b3491d4793c54c2b805d4ce56703e198_4d6c2a01eefc4a6e86e2ac7863a68712 for automatic cleanup: unknown resource type folder\u001b[0m\n"
     ]
    },
    {
     "name": "stderr",
     "output_type": "stream",
     "text": [
      "\r",
      "Scraping 3 games on 04/03/25:  85%|████████▍ | 154 of 182 days scraped in 630.7 sec"
     ]
    },
    {
     "name": "stderr",
     "output_type": "stream",
     "text": [
      "Traceback (most recent call last):\n",
      "  File \u001b[35m\"/opt/hostedtoolcache/Python/3.13.7/x64/lib/python3.13/multiprocessing/resource_tracker.py\"\u001b[0m, line \u001b[35m295\u001b[0m, in \u001b[35mmain\u001b[0m\n",
      "    raise ValueError(\n",
      "        f'Cannot register {name} for automatic cleanup: '\n",
      "        f'unknown resource type {rtype}')\n",
      "\u001b[1;35mValueError\u001b[0m: \u001b[35mCannot register /dev/shm/joblib_memmapping_folder_2196_b3491d4793c54c2b805d4ce56703e198_4d6c2a01eefc4a6e86e2ac7863a68712 for automatic cleanup: unknown resource type folder\u001b[0m\n",
      "\r",
      "Scraping 0 games on 04/04/25:  85%|████████▍ | 154 of 182 days scraped in 630.9 sec"
     ]
    },
    {
     "name": "stderr",
     "output_type": "stream",
     "text": [
      "\r",
      "No games on 04/04/25:  85%|████████▌ | 155 of 182 days scraped in 630.9 sec        "
     ]
    },
    {
     "name": "stderr",
     "output_type": "stream",
     "text": [
      "\r",
      "Scraping 4 games on 04/05/25:  85%|████████▌ | 155 of 182 days scraped in 631.2 sec"
     ]
    },
    {
     "name": "stderr",
     "output_type": "stream",
     "text": [
      "Traceback (most recent call last):\n",
      "  File \u001b[35m\"/opt/hostedtoolcache/Python/3.13.7/x64/lib/python3.13/multiprocessing/resource_tracker.py\"\u001b[0m, line \u001b[35m295\u001b[0m, in \u001b[35mmain\u001b[0m\n",
      "    raise ValueError(\n",
      "        f'Cannot register {name} for automatic cleanup: '\n",
      "        f'unknown resource type {rtype}')\n",
      "\u001b[1;35mValueError\u001b[0m: \u001b[35mCannot register /dev/shm/joblib_memmapping_folder_2196_6e0538b56a5044fb9339d9907f8a1b38_e3e21fd54949468aa524b2e50400bf78 for automatic cleanup: unknown resource type folder\u001b[0m\n",
      "Traceback (most recent call last):\n",
      "  File \u001b[35m\"/opt/hostedtoolcache/Python/3.13.7/x64/lib/python3.13/multiprocessing/resource_tracker.py\"\u001b[0m, line \u001b[35m295\u001b[0m, in \u001b[35mmain\u001b[0m\n",
      "    raise ValueError(\n",
      "        f'Cannot register {name} for automatic cleanup: '\n",
      "        f'unknown resource type {rtype}')\n",
      "\u001b[1;35mValueError\u001b[0m: \u001b[35mCannot register /dev/shm/joblib_memmapping_folder_2196_b3491d4793c54c2b805d4ce56703e198_ac0fbc8f2c1049b7a407e804fceea3cc for automatic cleanup: unknown resource type folder\u001b[0m\n"
     ]
    },
    {
     "name": "stderr",
     "output_type": "stream",
     "text": [
      "\r",
      "Scraping 4 games on 04/05/25:  86%|████████▌ | 156 of 182 days scraped in 631.7 secTraceback (most recent call last):\n"
     ]
    },
    {
     "name": "stderr",
     "output_type": "stream",
     "text": [
      "  File \u001b[35m\"/opt/hostedtoolcache/Python/3.13.7/x64/lib/python3.13/multiprocessing/resource_tracker.py\"\u001b[0m, line \u001b[35m295\u001b[0m, in \u001b[35mmain\u001b[0m\n",
      "    raise ValueError(\n",
      "        f'Cannot register {name} for automatic cleanup: '\n",
      "        f'unknown resource type {rtype}')\n",
      "\u001b[1;35mValueError\u001b[0m: \u001b[35mCannot register /dev/shm/joblib_memmapping_folder_2196_b3491d4793c54c2b805d4ce56703e198_ac0fbc8f2c1049b7a407e804fceea3cc for automatic cleanup: unknown resource type folder\u001b[0m\n"
     ]
    },
    {
     "name": "stderr",
     "output_type": "stream",
     "text": [
      "\r",
      "Scraping 1 games on 04/06/25:  86%|████████▌ | 156 of 182 days scraped in 632.0 sec"
     ]
    },
    {
     "name": "stderr",
     "output_type": "stream",
     "text": [
      "Traceback (most recent call last):\n",
      "  File \u001b[35m\"/opt/hostedtoolcache/Python/3.13.7/x64/lib/python3.13/multiprocessing/resource_tracker.py\"\u001b[0m, line \u001b[35m295\u001b[0m, in \u001b[35mmain\u001b[0m\n",
      "    raise ValueError(\n",
      "        f'Cannot register {name} for automatic cleanup: '\n",
      "        f'unknown resource type {rtype}')\n",
      "\u001b[1;35mValueError\u001b[0m: \u001b[35mCannot register /dev/shm/joblib_memmapping_folder_2196_aa144180cac24426aefabe5e46b7ef2a_9428ec690d324ea599a92e15d157c814 for automatic cleanup: unknown resource type folder\u001b[0m\n",
      "Traceback (most recent call last):\n",
      "  File \u001b[35m\"/opt/hostedtoolcache/Python/3.13.7/x64/lib/python3.13/multiprocessing/resource_tracker.py\"\u001b[0m, line \u001b[35m295\u001b[0m, in \u001b[35mmain\u001b[0m\n",
      "    raise ValueError(\n",
      "        f'Cannot register {name} for automatic cleanup: '\n",
      "        f'unknown resource type {rtype}')\n",
      "\u001b[1;35mValueError\u001b[0m: \u001b[35mCannot register /dev/shm/joblib_memmapping_folder_2196_b3491d4793c54c2b805d4ce56703e198_9e2529ca2cf447bea576094df1a8e75f for automatic cleanup: unknown resource type folder\u001b[0m\n"
     ]
    },
    {
     "name": "stderr",
     "output_type": "stream",
     "text": [
      "\r",
      "Scraping 1 games on 04/06/25:  86%|████████▋ | 157 of 182 days scraped in 632.3 secTraceback (most recent call last):\n"
     ]
    },
    {
     "name": "stderr",
     "output_type": "stream",
     "text": [
      "  File \u001b[35m\"/opt/hostedtoolcache/Python/3.13.7/x64/lib/python3.13/multiprocessing/resource_tracker.py\"\u001b[0m, line \u001b[35m295\u001b[0m, in \u001b[35mmain\u001b[0m\n",
      "    raise ValueError(\n",
      "        f'Cannot register {name} for automatic cleanup: '\n",
      "        f'unknown resource type {rtype}')\n",
      "\u001b[1;35mValueError\u001b[0m: \u001b[35mCannot register /dev/shm/joblib_memmapping_folder_2196_b3491d4793c54c2b805d4ce56703e198_9e2529ca2cf447bea576094df1a8e75f for automatic cleanup: unknown resource type folder\u001b[0m\n"
     ]
    },
    {
     "name": "stderr",
     "output_type": "stream",
     "text": [
      "\r",
      "Scraping 1 games on 04/07/25:  86%|████████▋ | 157 of 182 days scraped in 632.6 sec"
     ]
    },
    {
     "name": "stderr",
     "output_type": "stream",
     "text": [
      "Traceback (most recent call last):\n",
      "  File \u001b[35m\"/opt/hostedtoolcache/Python/3.13.7/x64/lib/python3.13/multiprocessing/resource_tracker.py\"\u001b[0m, line \u001b[35m295\u001b[0m, in \u001b[35mmain\u001b[0m\n",
      "    raise ValueError(\n",
      "        f'Cannot register {name} for automatic cleanup: '\n",
      "        f'unknown resource type {rtype}')\n",
      "\u001b[1;35mValueError\u001b[0m: \u001b[35mCannot register /dev/shm/joblib_memmapping_folder_2196_3a19676893944069a5bfebda2c192a9c_2b4c6f6310c74ecf8cb61dad6a3d9741 for automatic cleanup: unknown resource type folder\u001b[0m\n",
      "Traceback (most recent call last):\n",
      "  File \u001b[35m\"/opt/hostedtoolcache/Python/3.13.7/x64/lib/python3.13/multiprocessing/resource_tracker.py\"\u001b[0m, line \u001b[35m295\u001b[0m, in \u001b[35mmain\u001b[0m\n",
      "    raise ValueError(\n",
      "        f'Cannot register {name} for automatic cleanup: '\n",
      "        f'unknown resource type {rtype}')\n",
      "\u001b[1;35mValueError\u001b[0m: \u001b[35mCannot register /dev/shm/joblib_memmapping_folder_2196_b3491d4793c54c2b805d4ce56703e198_cfb9b224235143ed925c387ba6d52592 for automatic cleanup: unknown resource type folder\u001b[0m\n"
     ]
    },
    {
     "name": "stderr",
     "output_type": "stream",
     "text": [
      "\r",
      "Scraping 1 games on 04/07/25:  87%|████████▋ | 158 of 182 days scraped in 632.9 sec"
     ]
    },
    {
     "name": "stderr",
     "output_type": "stream",
     "text": [
      "Traceback (most recent call last):\n",
      "  File \u001b[35m\"/opt/hostedtoolcache/Python/3.13.7/x64/lib/python3.13/multiprocessing/resource_tracker.py\"\u001b[0m, line \u001b[35m295\u001b[0m, in \u001b[35mmain\u001b[0m\n",
      "    raise ValueError(\n",
      "        f'Cannot register {name} for automatic cleanup: '\n",
      "        f'unknown resource type {rtype}')\n",
      "\u001b[1;35mValueError\u001b[0m: \u001b[35mCannot register /dev/shm/joblib_memmapping_folder_2196_b3491d4793c54c2b805d4ce56703e198_cfb9b224235143ed925c387ba6d52592 for automatic cleanup: unknown resource type folder\u001b[0m\n",
      "\r",
      "Scraping 0 games on 04/08/25:  87%|████████▋ | 158 of 182 days scraped in 633.1 sec"
     ]
    },
    {
     "name": "stderr",
     "output_type": "stream",
     "text": [
      "\r",
      "No games on 04/08/25:  87%|████████▋ | 159 of 182 days scraped in 633.1 sec        "
     ]
    },
    {
     "name": "stderr",
     "output_type": "stream",
     "text": [
      "\r",
      "Scraping 0 games on 04/09/25:  87%|████████▋ | 159 of 182 days scraped in 633.3 sec"
     ]
    },
    {
     "name": "stderr",
     "output_type": "stream",
     "text": [
      "\r",
      "No games on 04/09/25:  88%|████████▊ | 160 of 182 days scraped in 633.3 sec        "
     ]
    },
    {
     "name": "stderr",
     "output_type": "stream",
     "text": [
      "\r",
      "Scraping 0 games on 04/10/25:  88%|████████▊ | 160 of 182 days scraped in 633.5 sec"
     ]
    },
    {
     "name": "stderr",
     "output_type": "stream",
     "text": [
      "\r",
      "No games on 04/10/25:  88%|████████▊ | 161 of 182 days scraped in 633.5 sec        "
     ]
    },
    {
     "name": "stderr",
     "output_type": "stream",
     "text": [
      "\r",
      "Scraping 0 games on 04/11/25:  88%|████████▊ | 161 of 182 days scraped in 633.8 sec"
     ]
    },
    {
     "name": "stderr",
     "output_type": "stream",
     "text": [
      "\r",
      "No games on 04/11/25:  89%|████████▉ | 162 of 182 days scraped in 633.8 sec        "
     ]
    },
    {
     "name": "stderr",
     "output_type": "stream",
     "text": [
      "\r",
      "Scraping 0 games on 04/12/25:  89%|████████▉ | 162 of 182 days scraped in 634.1 sec"
     ]
    },
    {
     "name": "stderr",
     "output_type": "stream",
     "text": [
      "\r",
      "No games on 04/12/25:  90%|████████▉ | 163 of 182 days scraped in 634.1 sec        "
     ]
    },
    {
     "name": "stderr",
     "output_type": "stream",
     "text": [
      "\r",
      "Scraping 0 games on 04/13/25:  90%|████████▉ | 163 of 182 days scraped in 634.3 sec"
     ]
    },
    {
     "name": "stderr",
     "output_type": "stream",
     "text": [
      "\r",
      "No games on 04/13/25:  90%|█████████ | 164 of 182 days scraped in 634.3 sec        "
     ]
    },
    {
     "name": "stderr",
     "output_type": "stream",
     "text": [
      "\r",
      "Scraping 0 games on 04/14/25:  90%|█████████ | 164 of 182 days scraped in 634.6 sec"
     ]
    },
    {
     "name": "stderr",
     "output_type": "stream",
     "text": [
      "\r",
      "No games on 04/14/25:  91%|█████████ | 165 of 182 days scraped in 634.6 sec        "
     ]
    },
    {
     "name": "stderr",
     "output_type": "stream",
     "text": [
      "\r",
      "Scraping 0 games on 04/15/25:  91%|█████████ | 165 of 182 days scraped in 634.8 sec"
     ]
    },
    {
     "name": "stderr",
     "output_type": "stream",
     "text": [
      "\r",
      "No games on 04/15/25:  91%|█████████ | 166 of 182 days scraped in 634.8 sec        "
     ]
    },
    {
     "name": "stderr",
     "output_type": "stream",
     "text": [
      "\r",
      "Scraping 0 games on 04/16/25:  91%|█████████ | 166 of 182 days scraped in 635.0 sec"
     ]
    },
    {
     "name": "stderr",
     "output_type": "stream",
     "text": [
      "\r",
      "No games on 04/16/25:  92%|█████████▏| 167 of 182 days scraped in 635.0 sec        "
     ]
    },
    {
     "name": "stderr",
     "output_type": "stream",
     "text": [
      "\r",
      "Scraping 0 games on 04/17/25:  92%|█████████▏| 167 of 182 days scraped in 635.2 sec"
     ]
    },
    {
     "name": "stderr",
     "output_type": "stream",
     "text": [
      "\r",
      "No games on 04/17/25:  92%|█████████▏| 168 of 182 days scraped in 635.2 sec        "
     ]
    },
    {
     "name": "stderr",
     "output_type": "stream",
     "text": [
      "\r",
      "Scraping 0 games on 04/18/25:  92%|█████████▏| 168 of 182 days scraped in 635.4 sec"
     ]
    },
    {
     "name": "stderr",
     "output_type": "stream",
     "text": [
      "\r",
      "No games on 04/18/25:  93%|█████████▎| 169 of 182 days scraped in 635.4 sec        "
     ]
    },
    {
     "name": "stderr",
     "output_type": "stream",
     "text": [
      "\r",
      "Scraping 0 games on 04/19/25:  93%|█████████▎| 169 of 182 days scraped in 635.6 sec"
     ]
    },
    {
     "name": "stderr",
     "output_type": "stream",
     "text": [
      "\r",
      "No games on 04/19/25:  93%|█████████▎| 170 of 182 days scraped in 635.6 sec        "
     ]
    },
    {
     "name": "stderr",
     "output_type": "stream",
     "text": [
      "\r",
      "Scraping 0 games on 04/20/25:  93%|█████████▎| 170 of 182 days scraped in 635.8 sec"
     ]
    },
    {
     "name": "stderr",
     "output_type": "stream",
     "text": [
      "\r",
      "No games on 04/20/25:  94%|█████████▍| 171 of 182 days scraped in 635.8 sec        "
     ]
    },
    {
     "name": "stderr",
     "output_type": "stream",
     "text": [
      "\r",
      "Scraping 0 games on 04/21/25:  94%|█████████▍| 171 of 182 days scraped in 636.1 sec"
     ]
    },
    {
     "name": "stderr",
     "output_type": "stream",
     "text": [
      "\r",
      "No games on 04/21/25:  95%|█████████▍| 172 of 182 days scraped in 636.1 sec        "
     ]
    },
    {
     "name": "stderr",
     "output_type": "stream",
     "text": [
      "\r",
      "Scraping 0 games on 04/22/25:  95%|█████████▍| 172 of 182 days scraped in 636.3 sec"
     ]
    },
    {
     "name": "stderr",
     "output_type": "stream",
     "text": [
      "\r",
      "No games on 04/22/25:  95%|█████████▌| 173 of 182 days scraped in 636.3 sec        "
     ]
    },
    {
     "name": "stderr",
     "output_type": "stream",
     "text": [
      "\r",
      "Scraping 0 games on 04/23/25:  95%|█████████▌| 173 of 182 days scraped in 636.5 sec"
     ]
    },
    {
     "name": "stderr",
     "output_type": "stream",
     "text": [
      "\r",
      "No games on 04/23/25:  96%|█████████▌| 174 of 182 days scraped in 636.5 sec        "
     ]
    },
    {
     "name": "stderr",
     "output_type": "stream",
     "text": [
      "\r",
      "Scraping 0 games on 04/24/25:  96%|█████████▌| 174 of 182 days scraped in 636.7 sec"
     ]
    },
    {
     "name": "stderr",
     "output_type": "stream",
     "text": [
      "\r",
      "No games on 04/24/25:  96%|█████████▌| 175 of 182 days scraped in 636.7 sec        "
     ]
    },
    {
     "name": "stderr",
     "output_type": "stream",
     "text": [
      "\r",
      "Scraping 0 games on 04/25/25:  96%|█████████▌| 175 of 182 days scraped in 636.9 sec"
     ]
    },
    {
     "name": "stderr",
     "output_type": "stream",
     "text": [
      "\r",
      "No games on 04/25/25:  97%|█████████▋| 176 of 182 days scraped in 636.9 sec        "
     ]
    },
    {
     "name": "stderr",
     "output_type": "stream",
     "text": [
      "\r",
      "Scraping 0 games on 04/26/25:  97%|█████████▋| 176 of 182 days scraped in 637.1 sec"
     ]
    },
    {
     "name": "stderr",
     "output_type": "stream",
     "text": [
      "\r",
      "No games on 04/26/25:  97%|█████████▋| 177 of 182 days scraped in 637.1 sec        "
     ]
    },
    {
     "name": "stderr",
     "output_type": "stream",
     "text": [
      "\r",
      "Scraping 0 games on 04/27/25:  97%|█████████▋| 177 of 182 days scraped in 637.4 sec"
     ]
    },
    {
     "name": "stderr",
     "output_type": "stream",
     "text": [
      "\r",
      "No games on 04/27/25:  98%|█████████▊| 178 of 182 days scraped in 637.4 sec        "
     ]
    },
    {
     "name": "stderr",
     "output_type": "stream",
     "text": [
      "\r",
      "Scraping 0 games on 04/28/25:  98%|█████████▊| 178 of 182 days scraped in 637.6 sec"
     ]
    },
    {
     "name": "stderr",
     "output_type": "stream",
     "text": [
      "\r",
      "No games on 04/28/25:  98%|█████████▊| 179 of 182 days scraped in 637.6 sec        "
     ]
    },
    {
     "name": "stderr",
     "output_type": "stream",
     "text": [
      "\r",
      "Scraping 0 games on 04/29/25:  98%|█████████▊| 179 of 182 days scraped in 637.9 sec"
     ]
    },
    {
     "name": "stderr",
     "output_type": "stream",
     "text": [
      "\r",
      "No games on 04/29/25:  99%|█████████▉| 180 of 182 days scraped in 637.9 sec        "
     ]
    },
    {
     "name": "stderr",
     "output_type": "stream",
     "text": [
      "\r",
      "Scraping 0 games on 04/30/25:  99%|█████████▉| 180 of 182 days scraped in 638.1 sec"
     ]
    },
    {
     "name": "stderr",
     "output_type": "stream",
     "text": [
      "\r",
      "No games on 04/30/25:  99%|█████████▉| 181 of 182 days scraped in 638.1 sec        "
     ]
    },
    {
     "name": "stderr",
     "output_type": "stream",
     "text": [
      "\r",
      "Scraping 0 games on 05/01/25:  99%|█████████▉| 181 of 182 days scraped in 638.4 sec"
     ]
    },
    {
     "name": "stderr",
     "output_type": "stream",
     "text": [
      "\r",
      "No games on 05/01/25: 100%|██████████| 182 of 182 days scraped in 638.4 sec        "
     ]
    },
    {
     "name": "stderr",
     "output_type": "stream",
     "text": [
      "\r",
      "No games on 05/01/25: 100%|██████████| 182 of 182 days scraped in 638.4 sec"
     ]
    },
    {
     "name": "stderr",
     "output_type": "stream",
     "text": [
      "\n"
     ]
    },
    {
     "name": "stdout",
     "output_type": "stream",
     "text": [
      "Log file is located at /home/runner/.local/state/CBBpy/2.1.2/log/CBBpy.log\n"
     ]
    }
   ],
   "source": [
    "import pandas as pd\n",
    "import cbbpy.mens_scraper as s\n",
    "\n",
    "# Create data frames for each season of game info\n",
    "\n",
    "df_2025 = s.get_games_season(2025, box = False, pbp = False)\n"
   ]
  },
  {
   "cell_type": "code",
   "execution_count": 2,
   "metadata": {
    "execution": {
     "iopub.execute_input": "2025-08-25T12:17:06.751593Z",
     "iopub.status.busy": "2025-08-25T12:17:06.751345Z",
     "iopub.status.idle": "2025-08-25T12:17:06.777469Z",
     "shell.execute_reply": "2025-08-25T12:17:06.776863Z"
    }
   },
   "outputs": [
    {
     "data": {
      "text/html": [
       "<div>\n",
       "<style scoped>\n",
       "    .dataframe tbody tr th:only-of-type {\n",
       "        vertical-align: middle;\n",
       "    }\n",
       "\n",
       "    .dataframe tbody tr th {\n",
       "        vertical-align: top;\n",
       "    }\n",
       "\n",
       "    .dataframe thead th {\n",
       "        text-align: right;\n",
       "    }\n",
       "</style>\n",
       "<table border=\"1\" class=\"dataframe\">\n",
       "  <thead>\n",
       "    <tr style=\"text-align: right;\">\n",
       "      <th></th>\n",
       "      <th>game_id</th>\n",
       "      <th>game_status</th>\n",
       "      <th>home_team</th>\n",
       "      <th>home_id</th>\n",
       "      <th>home_rank</th>\n",
       "      <th>home_record</th>\n",
       "      <th>home_score</th>\n",
       "      <th>away_team</th>\n",
       "      <th>away_id</th>\n",
       "      <th>away_rank</th>\n",
       "      <th>...</th>\n",
       "      <th>game_day</th>\n",
       "      <th>game_time</th>\n",
       "      <th>game_loc</th>\n",
       "      <th>arena</th>\n",
       "      <th>arena_capacity</th>\n",
       "      <th>attendance</th>\n",
       "      <th>tv_network</th>\n",
       "      <th>referee_1</th>\n",
       "      <th>referee_2</th>\n",
       "      <th>referee_3</th>\n",
       "    </tr>\n",
       "  </thead>\n",
       "  <tbody>\n",
       "    <tr>\n",
       "      <th>0</th>\n",
       "      <td>401727499</td>\n",
       "      <td>Final</td>\n",
       "      <td>IU Indianapolis Jaguars</td>\n",
       "      <td>85</td>\n",
       "      <td>NaN</td>\n",
       "      <td>1-0</td>\n",
       "      <td>100</td>\n",
       "      <td>IU Columbus Crimson Pride</td>\n",
       "      <td>nd-iu-columbus-crimson-pride</td>\n",
       "      <td>NaN</td>\n",
       "      <td>...</td>\n",
       "      <td>November 04, 2024</td>\n",
       "      <td>08:00 AM PST</td>\n",
       "      <td>Indianapolis, IN</td>\n",
       "      <td>Corteva Coliseum</td>\n",
       "      <td>NaN</td>\n",
       "      <td>3716.0</td>\n",
       "      <td>ESPN+</td>\n",
       "      <td>Rod Mrakovich</td>\n",
       "      <td>Martin Spencer</td>\n",
       "      <td>Adam Sensibaugh</td>\n",
       "    </tr>\n",
       "    <tr>\n",
       "      <th>1</th>\n",
       "      <td>401715872</td>\n",
       "      <td>Final</td>\n",
       "      <td>Southern Illinois Salukis</td>\n",
       "      <td>79</td>\n",
       "      <td>NaN</td>\n",
       "      <td>0-1</td>\n",
       "      <td>80</td>\n",
       "      <td>Charleston Cougars</td>\n",
       "      <td>232</td>\n",
       "      <td>NaN</td>\n",
       "      <td>...</td>\n",
       "      <td>November 04, 2024</td>\n",
       "      <td>09:00 AM PST</td>\n",
       "      <td>Sioux Falls, SD</td>\n",
       "      <td>Sanford Pentagon</td>\n",
       "      <td>NaN</td>\n",
       "      <td>0.0</td>\n",
       "      <td></td>\n",
       "      <td>Brad Ferrie</td>\n",
       "      <td>Antinio Petty</td>\n",
       "      <td>Ben Wolfe</td>\n",
       "    </tr>\n",
       "    <tr>\n",
       "      <th>2</th>\n",
       "      <td>401725796</td>\n",
       "      <td>Final</td>\n",
       "      <td>UT Arlington Mavericks</td>\n",
       "      <td>250</td>\n",
       "      <td>NaN</td>\n",
       "      <td>1-0</td>\n",
       "      <td>90</td>\n",
       "      <td>UNT Dallas Trailblazers</td>\n",
       "      <td>nd-unt-dallas-trailblazers</td>\n",
       "      <td>NaN</td>\n",
       "      <td>...</td>\n",
       "      <td>November 04, 2024</td>\n",
       "      <td>09:00 AM PST</td>\n",
       "      <td>Arlington, TX</td>\n",
       "      <td>College Park Center</td>\n",
       "      <td>NaN</td>\n",
       "      <td>1001.0</td>\n",
       "      <td>ESPN+</td>\n",
       "      <td>Doug George</td>\n",
       "      <td>Randal Anders</td>\n",
       "      <td>Trenton Chaney</td>\n",
       "    </tr>\n",
       "    <tr>\n",
       "      <th>3</th>\n",
       "      <td>401726400</td>\n",
       "      <td>Final</td>\n",
       "      <td>Middle Tennessee Blue Raiders</td>\n",
       "      <td>2393</td>\n",
       "      <td>NaN</td>\n",
       "      <td>1-0</td>\n",
       "      <td>97</td>\n",
       "      <td>Oglethorpe Stormy Petrels</td>\n",
       "      <td>nd-oglethorpe-stormy-petrels</td>\n",
       "      <td>NaN</td>\n",
       "      <td>...</td>\n",
       "      <td>November 04, 2024</td>\n",
       "      <td>09:00 AM PST</td>\n",
       "      <td>Murfreesboro, TN</td>\n",
       "      <td>Murphy Center</td>\n",
       "      <td>NaN</td>\n",
       "      <td>7501.0</td>\n",
       "      <td>ESPN+</td>\n",
       "      <td>Kevin Mathis</td>\n",
       "      <td>James Curran</td>\n",
       "      <td>Klajdi Mulla</td>\n",
       "    </tr>\n",
       "    <tr>\n",
       "      <th>4</th>\n",
       "      <td>401726395</td>\n",
       "      <td>Final</td>\n",
       "      <td>Jacksonville State Gamecocks</td>\n",
       "      <td>55</td>\n",
       "      <td>NaN</td>\n",
       "      <td>1-0</td>\n",
       "      <td>112</td>\n",
       "      <td>LaGrange Panthers</td>\n",
       "      <td>nd-lagrange-panthers</td>\n",
       "      <td>NaN</td>\n",
       "      <td>...</td>\n",
       "      <td>November 04, 2024</td>\n",
       "      <td>09:30 AM PST</td>\n",
       "      <td>Jacksonville, AL</td>\n",
       "      <td>Pete Mathews Coliseum</td>\n",
       "      <td>NaN</td>\n",
       "      <td>2055.0</td>\n",
       "      <td>ESPN+</td>\n",
       "      <td>Barry Mathis</td>\n",
       "      <td>Nick Meyer</td>\n",
       "      <td>Jeremy Trussell</td>\n",
       "    </tr>\n",
       "    <tr>\n",
       "      <th>...</th>\n",
       "      <td>...</td>\n",
       "      <td>...</td>\n",
       "      <td>...</td>\n",
       "      <td>...</td>\n",
       "      <td>...</td>\n",
       "      <td>...</td>\n",
       "      <td>...</td>\n",
       "      <td>...</td>\n",
       "      <td>...</td>\n",
       "      <td>...</td>\n",
       "      <td>...</td>\n",
       "      <td>...</td>\n",
       "      <td>...</td>\n",
       "      <td>...</td>\n",
       "      <td>...</td>\n",
       "      <td>...</td>\n",
       "      <td>...</td>\n",
       "      <td>...</td>\n",
       "      <td>...</td>\n",
       "      <td>...</td>\n",
       "      <td>...</td>\n",
       "    </tr>\n",
       "    <tr>\n",
       "      <th>6294</th>\n",
       "      <td>401758633</td>\n",
       "      <td>Final</td>\n",
       "      <td>Villanova Wildcats</td>\n",
       "      <td>222</td>\n",
       "      <td>NaN</td>\n",
       "      <td>21-15</td>\n",
       "      <td>98</td>\n",
       "      <td>UCF Knights</td>\n",
       "      <td>2116</td>\n",
       "      <td>NaN</td>\n",
       "      <td>...</td>\n",
       "      <td>April 05, 2025</td>\n",
       "      <td>01:00 PM PDT</td>\n",
       "      <td>Las Vegas, NV</td>\n",
       "      <td>T-Mobile Arena</td>\n",
       "      <td>NaN</td>\n",
       "      <td>2972.0</td>\n",
       "      <td>FOX</td>\n",
       "      <td>D.J. Carstensen</td>\n",
       "      <td>Matt Potter</td>\n",
       "      <td>Brooks Wells</td>\n",
       "    </tr>\n",
       "    <tr>\n",
       "      <th>6295</th>\n",
       "      <td>401746081</td>\n",
       "      <td>Final</td>\n",
       "      <td>Auburn Tigers</td>\n",
       "      <td>2</td>\n",
       "      <td>1.0</td>\n",
       "      <td>32-6</td>\n",
       "      <td>73</td>\n",
       "      <td>Florida Gators</td>\n",
       "      <td>57</td>\n",
       "      <td>1.0</td>\n",
       "      <td>...</td>\n",
       "      <td>April 05, 2025</td>\n",
       "      <td>03:09 PM PDT</td>\n",
       "      <td>San Antonio, TX</td>\n",
       "      <td>Alamodome</td>\n",
       "      <td>NaN</td>\n",
       "      <td>68252.0</td>\n",
       "      <td>CBS</td>\n",
       "      <td>Tony Padilla</td>\n",
       "      <td>Roger Ayers</td>\n",
       "      <td>Courtney Green</td>\n",
       "    </tr>\n",
       "    <tr>\n",
       "      <th>6296</th>\n",
       "      <td>401746080</td>\n",
       "      <td>Final</td>\n",
       "      <td>Duke Blue Devils</td>\n",
       "      <td>150</td>\n",
       "      <td>1.0</td>\n",
       "      <td>35-4</td>\n",
       "      <td>67</td>\n",
       "      <td>Houston Cougars</td>\n",
       "      <td>248</td>\n",
       "      <td>1.0</td>\n",
       "      <td>...</td>\n",
       "      <td>April 05, 2025</td>\n",
       "      <td>06:28 PM PDT</td>\n",
       "      <td>San Antonio, TX</td>\n",
       "      <td>Alamodome</td>\n",
       "      <td>NaN</td>\n",
       "      <td>68252.0</td>\n",
       "      <td>CBS</td>\n",
       "      <td>Doug Shows</td>\n",
       "      <td>James Breeding</td>\n",
       "      <td>Keith Kimble</td>\n",
       "    </tr>\n",
       "    <tr>\n",
       "      <th>6297</th>\n",
       "      <td>401758636</td>\n",
       "      <td>Final</td>\n",
       "      <td>UCF Knights</td>\n",
       "      <td>2116</td>\n",
       "      <td>NaN</td>\n",
       "      <td>20-17</td>\n",
       "      <td>66</td>\n",
       "      <td>Nebraska Cornhuskers</td>\n",
       "      <td>158</td>\n",
       "      <td>NaN</td>\n",
       "      <td>...</td>\n",
       "      <td>April 06, 2025</td>\n",
       "      <td>02:30 PM PDT</td>\n",
       "      <td>Las Vegas, NV</td>\n",
       "      <td>T-Mobile Arena</td>\n",
       "      <td>NaN</td>\n",
       "      <td>3314.0</td>\n",
       "      <td>FOX</td>\n",
       "      <td>Brian  O'Connell</td>\n",
       "      <td>D.J. Carstensen</td>\n",
       "      <td>Tyler Kumpf</td>\n",
       "    </tr>\n",
       "    <tr>\n",
       "      <th>6298</th>\n",
       "      <td>401746082</td>\n",
       "      <td>Final</td>\n",
       "      <td>Houston Cougars</td>\n",
       "      <td>248</td>\n",
       "      <td>1.0</td>\n",
       "      <td>35-5</td>\n",
       "      <td>63</td>\n",
       "      <td>Florida Gators</td>\n",
       "      <td>57</td>\n",
       "      <td>1.0</td>\n",
       "      <td>...</td>\n",
       "      <td>April 07, 2025</td>\n",
       "      <td>05:50 PM PDT</td>\n",
       "      <td>San Antonio, TX</td>\n",
       "      <td>Alamodome</td>\n",
       "      <td>NaN</td>\n",
       "      <td>66602.0</td>\n",
       "      <td>CBS</td>\n",
       "      <td>Ron Groover</td>\n",
       "      <td>Terry Oglesby</td>\n",
       "      <td>Doug Sirmons</td>\n",
       "    </tr>\n",
       "  </tbody>\n",
       "</table>\n",
       "<p>6299 rows × 29 columns</p>\n",
       "</div>"
      ],
      "text/plain": [
       "        game_id game_status                      home_team home_id  home_rank  \\\n",
       "0     401727499       Final        IU Indianapolis Jaguars      85        NaN   \n",
       "1     401715872       Final      Southern Illinois Salukis      79        NaN   \n",
       "2     401725796       Final         UT Arlington Mavericks     250        NaN   \n",
       "3     401726400       Final  Middle Tennessee Blue Raiders    2393        NaN   \n",
       "4     401726395       Final   Jacksonville State Gamecocks      55        NaN   \n",
       "...         ...         ...                            ...     ...        ...   \n",
       "6294  401758633       Final             Villanova Wildcats     222        NaN   \n",
       "6295  401746081       Final                  Auburn Tigers       2        1.0   \n",
       "6296  401746080       Final               Duke Blue Devils     150        1.0   \n",
       "6297  401758636       Final                    UCF Knights    2116        NaN   \n",
       "6298  401746082       Final                Houston Cougars     248        1.0   \n",
       "\n",
       "     home_record  home_score                  away_team  \\\n",
       "0            1-0         100  IU Columbus Crimson Pride   \n",
       "1            0-1          80         Charleston Cougars   \n",
       "2            1-0          90    UNT Dallas Trailblazers   \n",
       "3            1-0          97  Oglethorpe Stormy Petrels   \n",
       "4            1-0         112          LaGrange Panthers   \n",
       "...          ...         ...                        ...   \n",
       "6294       21-15          98                UCF Knights   \n",
       "6295        32-6          73             Florida Gators   \n",
       "6296        35-4          67            Houston Cougars   \n",
       "6297       20-17          66       Nebraska Cornhuskers   \n",
       "6298        35-5          63             Florida Gators   \n",
       "\n",
       "                           away_id  away_rank  ...           game_day  \\\n",
       "0     nd-iu-columbus-crimson-pride        NaN  ...  November 04, 2024   \n",
       "1                              232        NaN  ...  November 04, 2024   \n",
       "2       nd-unt-dallas-trailblazers        NaN  ...  November 04, 2024   \n",
       "3     nd-oglethorpe-stormy-petrels        NaN  ...  November 04, 2024   \n",
       "4             nd-lagrange-panthers        NaN  ...  November 04, 2024   \n",
       "...                            ...        ...  ...                ...   \n",
       "6294                          2116        NaN  ...     April 05, 2025   \n",
       "6295                            57        1.0  ...     April 05, 2025   \n",
       "6296                           248        1.0  ...     April 05, 2025   \n",
       "6297                           158        NaN  ...     April 06, 2025   \n",
       "6298                            57        1.0  ...     April 07, 2025   \n",
       "\n",
       "         game_time          game_loc                  arena  arena_capacity  \\\n",
       "0     08:00 AM PST  Indianapolis, IN       Corteva Coliseum             NaN   \n",
       "1     09:00 AM PST   Sioux Falls, SD       Sanford Pentagon             NaN   \n",
       "2     09:00 AM PST     Arlington, TX    College Park Center             NaN   \n",
       "3     09:00 AM PST  Murfreesboro, TN          Murphy Center             NaN   \n",
       "4     09:30 AM PST  Jacksonville, AL  Pete Mathews Coliseum             NaN   \n",
       "...            ...               ...                    ...             ...   \n",
       "6294  01:00 PM PDT     Las Vegas, NV         T-Mobile Arena             NaN   \n",
       "6295  03:09 PM PDT   San Antonio, TX              Alamodome             NaN   \n",
       "6296  06:28 PM PDT   San Antonio, TX              Alamodome             NaN   \n",
       "6297  02:30 PM PDT     Las Vegas, NV         T-Mobile Arena             NaN   \n",
       "6298  05:50 PM PDT   San Antonio, TX              Alamodome             NaN   \n",
       "\n",
       "      attendance  tv_network         referee_1        referee_2  \\\n",
       "0         3716.0       ESPN+     Rod Mrakovich   Martin Spencer   \n",
       "1            0.0                   Brad Ferrie    Antinio Petty   \n",
       "2         1001.0       ESPN+       Doug George    Randal Anders   \n",
       "3         7501.0       ESPN+      Kevin Mathis     James Curran   \n",
       "4         2055.0       ESPN+      Barry Mathis       Nick Meyer   \n",
       "...          ...         ...               ...              ...   \n",
       "6294      2972.0         FOX   D.J. Carstensen      Matt Potter   \n",
       "6295     68252.0         CBS      Tony Padilla      Roger Ayers   \n",
       "6296     68252.0         CBS        Doug Shows   James Breeding   \n",
       "6297      3314.0         FOX  Brian  O'Connell  D.J. Carstensen   \n",
       "6298     66602.0         CBS       Ron Groover    Terry Oglesby   \n",
       "\n",
       "            referee_3  \n",
       "0     Adam Sensibaugh  \n",
       "1           Ben Wolfe  \n",
       "2      Trenton Chaney  \n",
       "3        Klajdi Mulla  \n",
       "4     Jeremy Trussell  \n",
       "...               ...  \n",
       "6294     Brooks Wells  \n",
       "6295   Courtney Green  \n",
       "6296     Keith Kimble  \n",
       "6297      Tyler Kumpf  \n",
       "6298     Doug Sirmons  \n",
       "\n",
       "[6299 rows x 29 columns]"
      ]
     },
     "execution_count": 2,
     "metadata": {},
     "output_type": "execute_result"
    }
   ],
   "source": [
    "df_2025_game_info = df_2025[0]\n",
    "df_2025_game_info"
   ]
  },
  {
   "cell_type": "code",
   "execution_count": 3,
   "metadata": {
    "execution": {
     "iopub.execute_input": "2025-08-25T12:17:06.779328Z",
     "iopub.status.busy": "2025-08-25T12:17:06.779150Z",
     "iopub.status.idle": "2025-08-25T12:17:06.845499Z",
     "shell.execute_reply": "2025-08-25T12:17:06.845003Z"
    }
   },
   "outputs": [
    {
     "name": "stdout",
     "output_type": "stream",
     "text": [
      "Exported 6292 completed games to Completed_Games.csv\n",
      "Exported 1 upcoming games to Upcoming_Games.csv\n"
     ]
    }
   ],
   "source": [
    "# Filter games by status and export to CSV files\n",
    "\n",
    "# Get completed games (status = 'Final')\n",
    "completed_games = df_2025_game_info[df_2025_game_info['game_status'] == 'Final']\n",
    "\n",
    "# Get upcoming games (status = 'Scheduled')\n",
    "upcoming_games = df_2025_game_info[df_2025_game_info['game_status'] == 'Scheduled']\n",
    "\n",
    "# Export to CSV files\n",
    "completed_games.to_csv('Completed_Games.csv', index=False)\n",
    "upcoming_games.to_csv('Upcoming_Games.csv', index=False)\n",
    "\n",
    "# Print summary\n",
    "print(f\"Exported {len(completed_games)} completed games to Completed_Games.csv\")\n",
    "print(f\"Exported {len(upcoming_games)} upcoming games to Upcoming_Games.csv\")"
   ]
  }
 ],
 "metadata": {
  "kernelspec": {
   "display_name": "Python 3",
   "language": "python",
   "name": "python3"
  },
  "language_info": {
   "codemirror_mode": {
    "name": "ipython",
    "version": 3
   },
   "file_extension": ".py",
   "mimetype": "text/x-python",
   "name": "python",
   "nbconvert_exporter": "python",
   "pygments_lexer": "ipython3",
   "version": "3.13.7"
  }
 },
 "nbformat": 4,
 "nbformat_minor": 2
}
