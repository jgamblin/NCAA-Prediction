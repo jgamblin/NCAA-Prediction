{
 "cells": [
  {
   "cell_type": "code",
   "execution_count": 1,
   "metadata": {
    "execution": {
     "iopub.execute_input": "2025-03-31T12:06:11.450707Z",
     "iopub.status.busy": "2025-03-31T12:06:11.450266Z",
     "iopub.status.idle": "2025-03-31T12:15:28.217870Z",
     "shell.execute_reply": "2025-03-31T12:15:28.217352Z"
    }
   },
   "outputs": [
    {
     "name": "stderr",
     "output_type": "stream",
     "text": [
      "\r",
      "  0%|          | 0 of 151 days scraped in 0.0 sec"
     ]
    },
    {
     "name": "stderr",
     "output_type": "stream",
     "text": [
      "\r",
      "Scraping 0 games on 11/01/24:   0%|          | 0 of 151 days scraped in 0.2 sec"
     ]
    },
    {
     "name": "stderr",
     "output_type": "stream",
     "text": [
      "\r",
      "No games on 11/01/24:   1%|          | 1 of 151 days scraped in 0.2 sec        "
     ]
    },
    {
     "name": "stderr",
     "output_type": "stream",
     "text": [
      "\r",
      "Scraping 0 games on 11/02/24:   1%|          | 1 of 151 days scraped in 0.4 sec"
     ]
    },
    {
     "name": "stderr",
     "output_type": "stream",
     "text": [
      "\r",
      "No games on 11/02/24:   1%|▏         | 2 of 151 days scraped in 0.4 sec        "
     ]
    },
    {
     "name": "stderr",
     "output_type": "stream",
     "text": [
      "\r",
      "Scraping 0 games on 11/03/24:   1%|▏         | 2 of 151 days scraped in 0.6 sec"
     ]
    },
    {
     "name": "stderr",
     "output_type": "stream",
     "text": [
      "\r",
      "No games on 11/03/24:   2%|▏         | 3 of 151 days scraped in 0.6 sec        "
     ]
    },
    {
     "name": "stderr",
     "output_type": "stream",
     "text": [
      "\r",
      "Scraping 199 games on 11/04/24:   2%|▏         | 3 of 151 days scraped in 1.9 sec"
     ]
    },
    {
     "name": "stderr",
     "output_type": "stream",
     "text": [
      "\r",
      "Scraping 199 games on 11/04/24:   3%|▎         | 4 of 151 days scraped in 16.7 sec"
     ]
    },
    {
     "name": "stderr",
     "output_type": "stream",
     "text": [
      "\r",
      "Scraping 11 games on 11/05/24:   3%|▎         | 4 of 151 days scraped in 17.0 sec "
     ]
    },
    {
     "name": "stderr",
     "output_type": "stream",
     "text": [
      "\r",
      "Scraping 11 games on 11/05/24:   3%|▎         | 5 of 151 days scraped in 17.9 sec"
     ]
    },
    {
     "name": "stderr",
     "output_type": "stream",
     "text": [
      "\r",
      "Scraping 37 games on 11/06/24:   3%|▎         | 5 of 151 days scraped in 18.4 sec"
     ]
    },
    {
     "name": "stderr",
     "output_type": "stream",
     "text": [
      "\r",
      "Scraping 37 games on 11/06/24:   4%|▍         | 6 of 151 days scraped in 21.3 sec"
     ]
    },
    {
     "name": "stderr",
     "output_type": "stream",
     "text": [
      "\r",
      "Scraping 42 games on 11/07/24:   4%|▍         | 6 of 151 days scraped in 21.7 sec"
     ]
    },
    {
     "name": "stderr",
     "output_type": "stream",
     "text": [
      "\r",
      "Scraping 42 games on 11/07/24:   5%|▍         | 7 of 151 days scraped in 24.6 sec"
     ]
    },
    {
     "name": "stderr",
     "output_type": "stream",
     "text": [
      "\r",
      "Scraping 80 games on 11/08/24:   5%|▍         | 7 of 151 days scraped in 25.3 sec"
     ]
    },
    {
     "name": "stderr",
     "output_type": "stream",
     "text": [
      "\r",
      "Scraping 80 games on 11/08/24:   5%|▌         | 8 of 151 days scraped in 31.1 sec"
     ]
    },
    {
     "name": "stderr",
     "output_type": "stream",
     "text": [
      "\r",
      "Scraping 64 games on 11/09/24:   5%|▌         | 8 of 151 days scraped in 31.7 sec"
     ]
    },
    {
     "name": "stderr",
     "output_type": "stream",
     "text": [
      "\r",
      "Scraping 64 games on 11/09/24:   6%|▌         | 9 of 151 days scraped in 36.1 sec"
     ]
    },
    {
     "name": "stderr",
     "output_type": "stream",
     "text": [
      "\r",
      "Scraping 29 games on 11/10/24:   6%|▌         | 9 of 151 days scraped in 36.4 sec"
     ]
    },
    {
     "name": "stderr",
     "output_type": "stream",
     "text": [
      "\r",
      "Scraping 29 games on 11/10/24:   7%|▋         | 10 of 151 days scraped in 38.6 sec"
     ]
    },
    {
     "name": "stderr",
     "output_type": "stream",
     "text": [
      "\r",
      "Scraping 42 games on 11/11/24:   7%|▋         | 10 of 151 days scraped in 39.3 sec"
     ]
    },
    {
     "name": "stderr",
     "output_type": "stream",
     "text": [
      "\r",
      "Scraping 42 games on 11/11/24:   7%|▋         | 11 of 151 days scraped in 42.5 sec"
     ]
    },
    {
     "name": "stderr",
     "output_type": "stream",
     "text": [
      "\r",
      "Scraping 79 games on 11/12/24:   7%|▋         | 11 of 151 days scraped in 43.1 sec"
     ]
    },
    {
     "name": "stderr",
     "output_type": "stream",
     "text": [
      "\r",
      "Scraping 79 games on 11/12/24:   8%|▊         | 12 of 151 days scraped in 48.9 sec"
     ]
    },
    {
     "name": "stderr",
     "output_type": "stream",
     "text": [
      "\r",
      "Scraping 55 games on 11/13/24:   8%|▊         | 12 of 151 days scraped in 49.4 sec"
     ]
    },
    {
     "name": "stderr",
     "output_type": "stream",
     "text": [
      "\r",
      "Scraping 55 games on 11/13/24:   9%|▊         | 13 of 151 days scraped in 53.7 sec"
     ]
    },
    {
     "name": "stderr",
     "output_type": "stream",
     "text": [
      "\r",
      "Scraping 26 games on 11/14/24:   9%|▊         | 13 of 151 days scraped in 54.1 sec"
     ]
    },
    {
     "name": "stderr",
     "output_type": "stream",
     "text": [
      "\r",
      "Scraping 26 games on 11/14/24:   9%|▉         | 14 of 151 days scraped in 56.2 sec"
     ]
    },
    {
     "name": "stderr",
     "output_type": "stream",
     "text": [
      "\r",
      "Scraping 50 games on 11/15/24:   9%|▉         | 14 of 151 days scraped in 56.8 sec"
     ]
    },
    {
     "name": "stderr",
     "output_type": "stream",
     "text": [
      "\r",
      "Scraping 50 games on 11/15/24:  10%|▉         | 15 of 151 days scraped in 60.7 sec"
     ]
    },
    {
     "name": "stderr",
     "output_type": "stream",
     "text": [
      "\r",
      "Scraping 82 games on 11/16/24:  10%|▉         | 15 of 151 days scraped in 61.5 sec"
     ]
    },
    {
     "name": "stderr",
     "output_type": "stream",
     "text": [
      "\r",
      "Scraping 82 games on 11/16/24:  11%|█         | 16 of 151 days scraped in 67.6 sec"
     ]
    },
    {
     "name": "stderr",
     "output_type": "stream",
     "text": [
      "\r",
      "Scraping 36 games on 11/17/24:  11%|█         | 16 of 151 days scraped in 68.0 sec"
     ]
    },
    {
     "name": "stderr",
     "output_type": "stream",
     "text": [
      "\r",
      "Scraping 36 games on 11/17/24:  11%|█▏        | 17 of 151 days scraped in 70.7 sec"
     ]
    },
    {
     "name": "stderr",
     "output_type": "stream",
     "text": [
      "\r",
      "Scraping 31 games on 11/18/24:  11%|█▏        | 17 of 151 days scraped in 71.2 sec"
     ]
    },
    {
     "name": "stderr",
     "output_type": "stream",
     "text": [
      "\r",
      "Scraping 31 games on 11/18/24:  12%|█▏        | 18 of 151 days scraped in 73.7 sec"
     ]
    },
    {
     "name": "stderr",
     "output_type": "stream",
     "text": [
      "\r",
      "Scraping 54 games on 11/19/24:  12%|█▏        | 18 of 151 days scraped in 74.4 sec"
     ]
    },
    {
     "name": "stderr",
     "output_type": "stream",
     "text": [
      "\r",
      "Scraping 54 games on 11/19/24:  13%|█▎        | 19 of 151 days scraped in 78.6 sec"
     ]
    },
    {
     "name": "stderr",
     "output_type": "stream",
     "text": [
      "\r",
      "Scraping 47 games on 11/20/24:  13%|█▎        | 19 of 151 days scraped in 79.1 sec"
     ]
    },
    {
     "name": "stderr",
     "output_type": "stream",
     "text": [
      "\r",
      "Scraping 47 games on 11/20/24:  13%|█▎        | 20 of 151 days scraped in 82.5 sec"
     ]
    },
    {
     "name": "stderr",
     "output_type": "stream",
     "text": [
      "\r",
      "Scraping 44 games on 11/21/24:  13%|█▎        | 20 of 151 days scraped in 83.0 sec"
     ]
    },
    {
     "name": "stderr",
     "output_type": "stream",
     "text": [
      "\r",
      "Scraping 44 games on 11/21/24:  14%|█▍        | 21 of 151 days scraped in 86.6 sec"
     ]
    },
    {
     "name": "stderr",
     "output_type": "stream",
     "text": [
      "\r",
      "Scraping 82 games on 11/22/24:  14%|█▍        | 21 of 151 days scraped in 87.3 sec"
     ]
    },
    {
     "name": "stderr",
     "output_type": "stream",
     "text": [
      "\r",
      "Scraping 82 games on 11/22/24:  15%|█▍        | 22 of 151 days scraped in 93.4 sec"
     ]
    },
    {
     "name": "stderr",
     "output_type": "stream",
     "text": [
      "\r",
      "Scraping 56 games on 11/23/24:  15%|█▍        | 22 of 151 days scraped in 94.0 sec"
     ]
    },
    {
     "name": "stderr",
     "output_type": "stream",
     "text": [
      "\r",
      "Scraping 56 games on 11/23/24:  15%|█▌        | 23 of 151 days scraped in 98.3 sec"
     ]
    },
    {
     "name": "stderr",
     "output_type": "stream",
     "text": [
      "\r",
      "Scraping 54 games on 11/24/24:  15%|█▌        | 23 of 151 days scraped in 98.9 sec"
     ]
    },
    {
     "name": "stderr",
     "output_type": "stream",
     "text": [
      "\r",
      "Scraping 54 games on 11/24/24:  16%|█▌        | 24 of 151 days scraped in 103.1 sec"
     ]
    },
    {
     "name": "stderr",
     "output_type": "stream",
     "text": [
      "\r",
      "Scraping 57 games on 11/25/24:  16%|█▌        | 24 of 151 days scraped in 103.7 sec"
     ]
    },
    {
     "name": "stderr",
     "output_type": "stream",
     "text": [
      "\r",
      "Scraping 57 games on 11/25/24:  17%|█▋        | 25 of 151 days scraped in 108.3 sec"
     ]
    },
    {
     "name": "stderr",
     "output_type": "stream",
     "text": [
      "\r",
      "Scraping 64 games on 11/26/24:  17%|█▋        | 25 of 151 days scraped in 108.9 sec"
     ]
    },
    {
     "name": "stderr",
     "output_type": "stream",
     "text": [
      "\r",
      "Scraping 64 games on 11/26/24:  17%|█▋        | 26 of 151 days scraped in 113.6 sec"
     ]
    },
    {
     "name": "stderr",
     "output_type": "stream",
     "text": [
      "\r",
      "Scraping 70 games on 11/27/24:  17%|█▋        | 26 of 151 days scraped in 114.4 sec"
     ]
    },
    {
     "name": "stderr",
     "output_type": "stream",
     "text": [
      "\r",
      "Scraping 70 games on 11/27/24:  18%|█▊        | 27 of 151 days scraped in 119.6 sec"
     ]
    },
    {
     "name": "stderr",
     "output_type": "stream",
     "text": [
      "\r",
      "Scraping 21 games on 11/28/24:  18%|█▊        | 27 of 151 days scraped in 119.9 sec"
     ]
    },
    {
     "name": "stderr",
     "output_type": "stream",
     "text": [
      "\r",
      "Scraping 21 games on 11/28/24:  19%|█▊        | 28 of 151 days scraped in 121.5 sec"
     ]
    },
    {
     "name": "stderr",
     "output_type": "stream",
     "text": [
      "\r",
      "Scraping 56 games on 11/29/24:  19%|█▊        | 28 of 151 days scraped in 122.1 sec"
     ]
    },
    {
     "name": "stderr",
     "output_type": "stream",
     "text": [
      "\r",
      "Scraping 56 games on 11/29/24:  19%|█▉        | 29 of 151 days scraped in 126.4 sec"
     ]
    },
    {
     "name": "stderr",
     "output_type": "stream",
     "text": [
      "\r",
      "Scraping 68 games on 11/30/24:  19%|█▉        | 29 of 151 days scraped in 126.9 sec"
     ]
    },
    {
     "name": "stderr",
     "output_type": "stream",
     "text": [
      "\r",
      "Scraping 68 games on 11/30/24:  20%|█▉        | 30 of 151 days scraped in 132.0 sec"
     ]
    },
    {
     "name": "stderr",
     "output_type": "stream",
     "text": [
      "\r",
      "Scraping 34 games on 12/01/24:  20%|█▉        | 30 of 151 days scraped in 132.4 sec"
     ]
    },
    {
     "name": "stderr",
     "output_type": "stream",
     "text": [
      "\r",
      "Scraping 34 games on 12/01/24:  21%|██        | 31 of 151 days scraped in 135.0 sec"
     ]
    },
    {
     "name": "stderr",
     "output_type": "stream",
     "text": [
      "\r",
      "Scraping 16 games on 12/02/24:  21%|██        | 31 of 151 days scraped in 135.3 sec"
     ]
    },
    {
     "name": "stderr",
     "output_type": "stream",
     "text": [
      "\r",
      "Scraping 16 games on 12/02/24:  21%|██        | 32 of 151 days scraped in 136.5 sec"
     ]
    },
    {
     "name": "stderr",
     "output_type": "stream",
     "text": [
      "\r",
      "Scraping 56 games on 12/03/24:  21%|██        | 32 of 151 days scraped in 137.1 sec"
     ]
    },
    {
     "name": "stderr",
     "output_type": "stream",
     "text": [
      "\r",
      "Scraping 56 games on 12/03/24:  22%|██▏       | 33 of 151 days scraped in 141.3 sec"
     ]
    },
    {
     "name": "stderr",
     "output_type": "stream",
     "text": [
      "\r",
      "Scraping 67 games on 12/04/24:  22%|██▏       | 33 of 151 days scraped in 141.9 sec"
     ]
    },
    {
     "name": "stderr",
     "output_type": "stream",
     "text": [
      "\r",
      "Scraping 67 games on 12/04/24:  23%|██▎       | 34 of 151 days scraped in 146.7 sec"
     ]
    },
    {
     "name": "stderr",
     "output_type": "stream",
     "text": [
      "\r",
      "Scraping 26 games on 12/05/24:  23%|██▎       | 34 of 151 days scraped in 147.1 sec"
     ]
    },
    {
     "name": "stderr",
     "output_type": "stream",
     "text": [
      "\r",
      "Scraping 26 games on 12/05/24:  23%|██▎       | 35 of 151 days scraped in 149.0 sec"
     ]
    },
    {
     "name": "stderr",
     "output_type": "stream",
     "text": [
      "\r",
      "Scraping 22 games on 12/06/24:  23%|██▎       | 35 of 151 days scraped in 149.4 sec"
     ]
    },
    {
     "name": "stderr",
     "output_type": "stream",
     "text": [
      "\r",
      "Scraping 22 games on 12/06/24:  24%|██▍       | 36 of 151 days scraped in 151.1 sec"
     ]
    },
    {
     "name": "stderr",
     "output_type": "stream",
     "text": [
      "\r",
      "Scraping 108 games on 12/07/24:  24%|██▍       | 36 of 151 days scraped in 152.2 sec"
     ]
    },
    {
     "name": "stderr",
     "output_type": "stream",
     "text": [
      "\r",
      "Scraping 108 games on 12/07/24:  25%|██▍       | 37 of 151 days scraped in 160.1 sec"
     ]
    },
    {
     "name": "stderr",
     "output_type": "stream",
     "text": [
      "\r",
      "Scraping 39 games on 12/08/24:  25%|██▍       | 37 of 151 days scraped in 160.5 sec "
     ]
    },
    {
     "name": "stderr",
     "output_type": "stream",
     "text": [
      "\r",
      "Scraping 39 games on 12/08/24:  25%|██▌       | 38 of 151 days scraped in 163.5 sec"
     ]
    },
    {
     "name": "stderr",
     "output_type": "stream",
     "text": [
      "\r",
      "Scraping 8 games on 12/09/24:  25%|██▌       | 38 of 151 days scraped in 163.7 sec "
     ]
    },
    {
     "name": "stderr",
     "output_type": "stream",
     "text": [
      "\r",
      "Scraping 8 games on 12/09/24:  26%|██▌       | 39 of 151 days scraped in 164.3 sec"
     ]
    },
    {
     "name": "stderr",
     "output_type": "stream",
     "text": [
      "\r",
      "Scraping 37 games on 12/10/24:  26%|██▌       | 39 of 151 days scraped in 164.8 sec"
     ]
    },
    {
     "name": "stderr",
     "output_type": "stream",
     "text": [
      "\r",
      "Scraping 37 games on 12/10/24:  26%|██▋       | 40 of 151 days scraped in 167.5 sec"
     ]
    },
    {
     "name": "stderr",
     "output_type": "stream",
     "text": [
      "\r",
      "Scraping 28 games on 12/11/24:  26%|██▋       | 40 of 151 days scraped in 168.0 sec"
     ]
    },
    {
     "name": "stderr",
     "output_type": "stream",
     "text": [
      "\r",
      "Scraping 28 games on 12/11/24:  27%|██▋       | 41 of 151 days scraped in 170.1 sec"
     ]
    },
    {
     "name": "stderr",
     "output_type": "stream",
     "text": [
      "\r",
      "Scraping 10 games on 12/12/24:  27%|██▋       | 41 of 151 days scraped in 170.4 sec"
     ]
    },
    {
     "name": "stderr",
     "output_type": "stream",
     "text": [
      "\r",
      "Scraping 10 games on 12/12/24:  28%|██▊       | 42 of 151 days scraped in 171.5 sec"
     ]
    },
    {
     "name": "stderr",
     "output_type": "stream",
     "text": [
      "\r",
      "Scraping 10 games on 12/13/24:  28%|██▊       | 42 of 151 days scraped in 171.7 sec"
     ]
    },
    {
     "name": "stderr",
     "output_type": "stream",
     "text": [
      "\r",
      "Scraping 10 games on 12/13/24:  28%|██▊       | 43 of 151 days scraped in 172.5 sec"
     ]
    },
    {
     "name": "stderr",
     "output_type": "stream",
     "text": [
      "\r",
      "Scraping 97 games on 12/14/24:  28%|██▊       | 43 of 151 days scraped in 173.3 sec"
     ]
    },
    {
     "name": "stderr",
     "output_type": "stream",
     "text": [
      "\r",
      "Scraping 97 games on 12/14/24:  29%|██▉       | 44 of 151 days scraped in 180.8 sec"
     ]
    },
    {
     "name": "stderr",
     "output_type": "stream",
     "text": [
      "\r",
      "Scraping 40 games on 12/15/24:  29%|██▉       | 44 of 151 days scraped in 181.2 sec"
     ]
    },
    {
     "name": "stderr",
     "output_type": "stream",
     "text": [
      "\r",
      "Scraping 40 games on 12/15/24:  30%|██▉       | 45 of 151 days scraped in 184.3 sec"
     ]
    },
    {
     "name": "stderr",
     "output_type": "stream",
     "text": [
      "\r",
      "Scraping 18 games on 12/16/24:  30%|██▉       | 45 of 151 days scraped in 184.6 sec"
     ]
    },
    {
     "name": "stderr",
     "output_type": "stream",
     "text": [
      "\r",
      "Scraping 18 games on 12/16/24:  30%|███       | 46 of 151 days scraped in 185.9 sec"
     ]
    },
    {
     "name": "stderr",
     "output_type": "stream",
     "text": [
      "\r",
      "Scraping 48 games on 12/17/24:  30%|███       | 46 of 151 days scraped in 186.6 sec"
     ]
    },
    {
     "name": "stderr",
     "output_type": "stream",
     "text": [
      "\r",
      "Scraping 48 games on 12/17/24:  31%|███       | 47 of 151 days scraped in 190.2 sec"
     ]
    },
    {
     "name": "stderr",
     "output_type": "stream",
     "text": [
      "\r",
      "Scraping 64 games on 12/18/24:  31%|███       | 47 of 151 days scraped in 190.8 sec"
     ]
    },
    {
     "name": "stderr",
     "output_type": "stream",
     "text": [
      "\r",
      "Scraping 64 games on 12/18/24:  32%|███▏      | 48 of 151 days scraped in 195.8 sec"
     ]
    },
    {
     "name": "stderr",
     "output_type": "stream",
     "text": [
      "\r",
      "Scraping 26 games on 12/19/24:  32%|███▏      | 48 of 151 days scraped in 196.2 sec"
     ]
    },
    {
     "name": "stderr",
     "output_type": "stream",
     "text": [
      "\r",
      "Scraping 26 games on 12/19/24:  32%|███▏      | 49 of 151 days scraped in 198.3 sec"
     ]
    },
    {
     "name": "stderr",
     "output_type": "stream",
     "text": [
      "\r",
      "Scraping 23 games on 12/20/24:  32%|███▏      | 49 of 151 days scraped in 198.6 sec"
     ]
    },
    {
     "name": "stderr",
     "output_type": "stream",
     "text": [
      "\r",
      "Scraping 23 games on 12/20/24:  33%|███▎      | 50 of 151 days scraped in 200.6 sec"
     ]
    },
    {
     "name": "stderr",
     "output_type": "stream",
     "text": [
      "\r",
      "Scraping 114 games on 12/21/24:  33%|███▎      | 50 of 151 days scraped in 201.6 sec"
     ]
    },
    {
     "name": "stderr",
     "output_type": "stream",
     "text": [
      "\r",
      "Scraping 114 games on 12/21/24:  34%|███▍      | 51 of 151 days scraped in 209.8 sec"
     ]
    },
    {
     "name": "stderr",
     "output_type": "stream",
     "text": [
      "\r",
      "Scraping 48 games on 12/22/24:  34%|███▍      | 51 of 151 days scraped in 210.3 sec "
     ]
    },
    {
     "name": "stderr",
     "output_type": "stream",
     "text": [
      "\r",
      "Scraping 48 games on 12/22/24:  34%|███▍      | 52 of 151 days scraped in 213.9 sec"
     ]
    },
    {
     "name": "stderr",
     "output_type": "stream",
     "text": [
      "\r",
      "Scraping 9 games on 12/23/24:  34%|███▍      | 52 of 151 days scraped in 214.1 sec "
     ]
    },
    {
     "name": "stderr",
     "output_type": "stream",
     "text": [
      "\r",
      "Scraping 9 games on 12/23/24:  35%|███▌      | 53 of 151 days scraped in 214.8 sec"
     ]
    },
    {
     "name": "stderr",
     "output_type": "stream",
     "text": [
      "\r",
      "Scraping 0 games on 12/24/24:  35%|███▌      | 53 of 151 days scraped in 214.9 sec"
     ]
    },
    {
     "name": "stderr",
     "output_type": "stream",
     "text": [
      "\r",
      "No games on 12/24/24:  36%|███▌      | 54 of 151 days scraped in 214.9 sec        "
     ]
    },
    {
     "name": "stderr",
     "output_type": "stream",
     "text": [
      "\r",
      "Scraping 4 games on 12/25/24:  36%|███▌      | 54 of 151 days scraped in 215.1 sec"
     ]
    },
    {
     "name": "stderr",
     "output_type": "stream",
     "text": [
      "\r",
      "Scraping 4 games on 12/25/24:  36%|███▋      | 55 of 151 days scraped in 215.6 sec"
     ]
    },
    {
     "name": "stderr",
     "output_type": "stream",
     "text": [
      "\r",
      "Scraping 0 games on 12/26/24:  36%|███▋      | 55 of 151 days scraped in 215.8 sec"
     ]
    },
    {
     "name": "stderr",
     "output_type": "stream",
     "text": [
      "\r",
      "No games on 12/26/24:  37%|███▋      | 56 of 151 days scraped in 215.8 sec        "
     ]
    },
    {
     "name": "stderr",
     "output_type": "stream",
     "text": [
      "\r",
      "Scraping 2 games on 12/27/24:  37%|███▋      | 56 of 151 days scraped in 216.0 sec"
     ]
    },
    {
     "name": "stderr",
     "output_type": "stream",
     "text": [
      "\r",
      "Scraping 2 games on 12/27/24:  38%|███▊      | 57 of 151 days scraped in 216.3 sec"
     ]
    },
    {
     "name": "stderr",
     "output_type": "stream",
     "text": [
      "\r",
      "Scraping 53 games on 12/28/24:  38%|███▊      | 57 of 151 days scraped in 216.8 sec"
     ]
    },
    {
     "name": "stderr",
     "output_type": "stream",
     "text": [
      "\r",
      "Scraping 53 games on 12/28/24:  38%|███▊      | 58 of 151 days scraped in 220.8 sec"
     ]
    },
    {
     "name": "stderr",
     "output_type": "stream",
     "text": [
      "\r",
      "Scraping 60 games on 12/29/24:  38%|███▊      | 58 of 151 days scraped in 221.6 sec"
     ]
    },
    {
     "name": "stderr",
     "output_type": "stream",
     "text": [
      "\r",
      "Scraping 60 games on 12/29/24:  39%|███▉      | 59 of 151 days scraped in 226.0 sec"
     ]
    },
    {
     "name": "stderr",
     "output_type": "stream",
     "text": [
      "\r",
      "Scraping 43 games on 12/30/24:  39%|███▉      | 59 of 151 days scraped in 226.4 sec"
     ]
    },
    {
     "name": "stderr",
     "output_type": "stream",
     "text": [
      "\r",
      "Scraping 43 games on 12/30/24:  40%|███▉      | 60 of 151 days scraped in 229.6 sec"
     ]
    },
    {
     "name": "stderr",
     "output_type": "stream",
     "text": [
      "\r",
      "Scraping 33 games on 12/31/24:  40%|███▉      | 60 of 151 days scraped in 230.0 sec"
     ]
    },
    {
     "name": "stderr",
     "output_type": "stream",
     "text": [
      "\r",
      "Scraping 33 games on 12/31/24:  40%|████      | 61 of 151 days scraped in 232.5 sec"
     ]
    },
    {
     "name": "stderr",
     "output_type": "stream",
     "text": [
      "\r",
      "Scraping 21 games on 01/01/25:  40%|████      | 61 of 151 days scraped in 232.8 sec"
     ]
    },
    {
     "name": "stderr",
     "output_type": "stream",
     "text": [
      "\r",
      "Scraping 21 games on 01/01/25:  41%|████      | 62 of 151 days scraped in 234.5 sec"
     ]
    },
    {
     "name": "stderr",
     "output_type": "stream",
     "text": [
      "\r",
      "Scraping 66 games on 01/02/25:  41%|████      | 62 of 151 days scraped in 235.2 sec"
     ]
    },
    {
     "name": "stderr",
     "output_type": "stream",
     "text": [
      "\r",
      "Scraping 66 games on 01/02/25:  42%|████▏     | 63 of 151 days scraped in 240.0 sec"
     ]
    },
    {
     "name": "stderr",
     "output_type": "stream",
     "text": [
      "\r",
      "Scraping 16 games on 01/03/25:  42%|████▏     | 63 of 151 days scraped in 240.3 sec"
     ]
    },
    {
     "name": "stderr",
     "output_type": "stream",
     "text": [
      "\r",
      "Scraping 16 games on 01/03/25:  42%|████▏     | 64 of 151 days scraped in 241.8 sec"
     ]
    },
    {
     "name": "stderr",
     "output_type": "stream",
     "text": [
      "\r",
      "Scraping 139 games on 01/04/25:  42%|████▏     | 64 of 151 days scraped in 242.9 sec"
     ]
    },
    {
     "name": "stderr",
     "output_type": "stream",
     "text": [
      "\r",
      "Scraping 139 games on 01/04/25:  43%|████▎     | 65 of 151 days scraped in 252.9 sec"
     ]
    },
    {
     "name": "stderr",
     "output_type": "stream",
     "text": [
      "\r",
      "Scraping 27 games on 01/05/25:  43%|████▎     | 65 of 151 days scraped in 253.3 sec "
     ]
    },
    {
     "name": "stderr",
     "output_type": "stream",
     "text": [
      "\r",
      "Scraping 27 games on 01/05/25:  44%|████▎     | 66 of 151 days scraped in 255.6 sec"
     ]
    },
    {
     "name": "stderr",
     "output_type": "stream",
     "text": [
      "\r",
      "Scraping 16 games on 01/06/25:  44%|████▎     | 66 of 151 days scraped in 255.9 sec"
     ]
    },
    {
     "name": "stderr",
     "output_type": "stream",
     "text": [
      "\r",
      "Scraping 16 games on 01/06/25:  44%|████▍     | 67 of 151 days scraped in 257.2 sec"
     ]
    },
    {
     "name": "stderr",
     "output_type": "stream",
     "text": [
      "\r",
      "Scraping 34 games on 01/07/25:  44%|████▍     | 67 of 151 days scraped in 257.6 sec"
     ]
    },
    {
     "name": "stderr",
     "output_type": "stream",
     "text": [
      "\r",
      "Scraping 34 games on 01/07/25:  45%|████▌     | 68 of 151 days scraped in 260.2 sec"
     ]
    },
    {
     "name": "stderr",
     "output_type": "stream",
     "text": [
      "\r",
      "Scraping 50 games on 01/08/25:  45%|████▌     | 68 of 151 days scraped in 261.1 sec"
     ]
    },
    {
     "name": "stderr",
     "output_type": "stream",
     "text": [
      "\r",
      "Scraping 50 games on 01/08/25:  46%|████▌     | 69 of 151 days scraped in 264.8 sec"
     ]
    },
    {
     "name": "stderr",
     "output_type": "stream",
     "text": [
      "\r",
      "Scraping 55 games on 01/09/25:  46%|████▌     | 69 of 151 days scraped in 265.3 sec"
     ]
    },
    {
     "name": "stderr",
     "output_type": "stream",
     "text": [
      "\r",
      "Scraping 55 games on 01/09/25:  46%|████▋     | 70 of 151 days scraped in 269.3 sec"
     ]
    },
    {
     "name": "stderr",
     "output_type": "stream",
     "text": [
      "\r",
      "Scraping 14 games on 01/10/25:  46%|████▋     | 70 of 151 days scraped in 269.6 sec"
     ]
    },
    {
     "name": "stderr",
     "output_type": "stream",
     "text": [
      "\r",
      "Scraping 14 games on 01/10/25:  47%|████▋     | 71 of 151 days scraped in 270.6 sec"
     ]
    },
    {
     "name": "stderr",
     "output_type": "stream",
     "text": [
      "\r",
      "Scraping 144 games on 01/11/25:  47%|████▋     | 71 of 151 days scraped in 271.6 sec"
     ]
    },
    {
     "name": "stderr",
     "output_type": "stream",
     "text": [
      "\r",
      "Scraping 144 games on 01/11/25:  48%|████▊     | 72 of 151 days scraped in 281.9 sec"
     ]
    },
    {
     "name": "stderr",
     "output_type": "stream",
     "text": [
      "\r",
      "Scraping 21 games on 01/12/25:  48%|████▊     | 72 of 151 days scraped in 282.2 sec "
     ]
    },
    {
     "name": "stderr",
     "output_type": "stream",
     "text": [
      "\r",
      "Scraping 21 games on 01/12/25:  48%|████▊     | 73 of 151 days scraped in 283.7 sec"
     ]
    },
    {
     "name": "stderr",
     "output_type": "stream",
     "text": [
      "\r",
      "Scraping 22 games on 01/13/25:  48%|████▊     | 73 of 151 days scraped in 284.1 sec"
     ]
    },
    {
     "name": "stderr",
     "output_type": "stream",
     "text": [
      "\r",
      "Scraping 22 games on 01/13/25:  49%|████▉     | 74 of 151 days scraped in 285.8 sec"
     ]
    },
    {
     "name": "stderr",
     "output_type": "stream",
     "text": [
      "\r",
      "Scraping 36 games on 01/14/25:  49%|████▉     | 74 of 151 days scraped in 286.2 sec"
     ]
    },
    {
     "name": "stderr",
     "output_type": "stream",
     "text": [
      "\r",
      "Scraping 36 games on 01/14/25:  50%|████▉     | 75 of 151 days scraped in 289.1 sec"
     ]
    },
    {
     "name": "stderr",
     "output_type": "stream",
     "text": [
      "\r",
      "Scraping 48 games on 01/15/25:  50%|████▉     | 75 of 151 days scraped in 289.7 sec"
     ]
    },
    {
     "name": "stderr",
     "output_type": "stream",
     "text": [
      "\r",
      "Scraping 48 games on 01/15/25:  50%|█████     | 76 of 151 days scraped in 293.4 sec"
     ]
    },
    {
     "name": "stderr",
     "output_type": "stream",
     "text": [
      "\r",
      "Scraping 63 games on 01/16/25:  50%|█████     | 76 of 151 days scraped in 294.2 sec"
     ]
    },
    {
     "name": "stderr",
     "output_type": "stream",
     "text": [
      "\r",
      "Scraping 63 games on 01/16/25:  51%|█████     | 77 of 151 days scraped in 298.7 sec"
     ]
    },
    {
     "name": "stderr",
     "output_type": "stream",
     "text": [
      "\r",
      "Scraping 10 games on 01/17/25:  51%|█████     | 77 of 151 days scraped in 299.0 sec"
     ]
    },
    {
     "name": "stderr",
     "output_type": "stream",
     "text": [
      "\r",
      "Scraping 10 games on 01/17/25:  52%|█████▏    | 78 of 151 days scraped in 299.8 sec"
     ]
    },
    {
     "name": "stderr",
     "output_type": "stream",
     "text": [
      "\r",
      "Scraping 148 games on 01/18/25:  52%|█████▏    | 78 of 151 days scraped in 301.0 sec"
     ]
    },
    {
     "name": "stderr",
     "output_type": "stream",
     "text": [
      "\r",
      "Scraping 148 games on 01/18/25:  52%|█████▏    | 79 of 151 days scraped in 311.6 sec"
     ]
    },
    {
     "name": "stderr",
     "output_type": "stream",
     "text": [
      "\r",
      "Scraping 11 games on 01/19/25:  52%|█████▏    | 79 of 151 days scraped in 311.8 sec "
     ]
    },
    {
     "name": "stderr",
     "output_type": "stream",
     "text": [
      "\r",
      "Scraping 11 games on 01/19/25:  53%|█████▎    | 80 of 151 days scraped in 312.7 sec"
     ]
    },
    {
     "name": "stderr",
     "output_type": "stream",
     "text": [
      "\r",
      "Scraping 29 games on 01/20/25:  53%|█████▎    | 80 of 151 days scraped in 313.1 sec"
     ]
    },
    {
     "name": "stderr",
     "output_type": "stream",
     "text": [
      "\r",
      "Scraping 29 games on 01/20/25:  54%|█████▎    | 81 of 151 days scraped in 315.3 sec"
     ]
    },
    {
     "name": "stderr",
     "output_type": "stream",
     "text": [
      "\r",
      "Scraping 35 games on 01/21/25:  54%|█████▎    | 81 of 151 days scraped in 315.8 sec"
     ]
    },
    {
     "name": "stderr",
     "output_type": "stream",
     "text": [
      "\r",
      "Scraping 35 games on 01/21/25:  54%|█████▍    | 82 of 151 days scraped in 318.5 sec"
     ]
    },
    {
     "name": "stderr",
     "output_type": "stream",
     "text": [
      "\r",
      "Scraping 42 games on 01/22/25:  54%|█████▍    | 82 of 151 days scraped in 318.9 sec"
     ]
    },
    {
     "name": "stderr",
     "output_type": "stream",
     "text": [
      "\r",
      "Scraping 42 games on 01/22/25:  55%|█████▍    | 83 of 151 days scraped in 322.1 sec"
     ]
    },
    {
     "name": "stderr",
     "output_type": "stream",
     "text": [
      "\r",
      "Scraping 61 games on 01/23/25:  55%|█████▍    | 83 of 151 days scraped in 322.7 sec"
     ]
    },
    {
     "name": "stderr",
     "output_type": "stream",
     "text": [
      "\r",
      "Scraping 61 games on 01/23/25:  56%|█████▌    | 84 of 151 days scraped in 327.1 sec"
     ]
    },
    {
     "name": "stderr",
     "output_type": "stream",
     "text": [
      "\r",
      "Scraping 14 games on 01/24/25:  56%|█████▌    | 84 of 151 days scraped in 327.4 sec"
     ]
    },
    {
     "name": "stderr",
     "output_type": "stream",
     "text": [
      "\r",
      "Scraping 14 games on 01/24/25:  56%|█████▋    | 85 of 151 days scraped in 328.5 sec"
     ]
    },
    {
     "name": "stderr",
     "output_type": "stream",
     "text": [
      "\r",
      "Scraping 149 games on 01/25/25:  56%|█████▋    | 85 of 151 days scraped in 329.9 sec"
     ]
    },
    {
     "name": "stderr",
     "output_type": "stream",
     "text": [
      "\r",
      "Scraping 149 games on 01/25/25:  57%|█████▋    | 86 of 151 days scraped in 340.5 sec"
     ]
    },
    {
     "name": "stderr",
     "output_type": "stream",
     "text": [
      "\r",
      "Scraping 13 games on 01/26/25:  57%|█████▋    | 86 of 151 days scraped in 340.8 sec "
     ]
    },
    {
     "name": "stderr",
     "output_type": "stream",
     "text": [
      "\r",
      "Scraping 13 games on 01/26/25:  58%|█████▊    | 87 of 151 days scraped in 341.8 sec"
     ]
    },
    {
     "name": "stderr",
     "output_type": "stream",
     "text": [
      "\r",
      "Scraping 22 games on 01/27/25:  58%|█████▊    | 87 of 151 days scraped in 342.1 sec"
     ]
    },
    {
     "name": "stderr",
     "output_type": "stream",
     "text": [
      "\r",
      "Scraping 22 games on 01/27/25:  58%|█████▊    | 88 of 151 days scraped in 343.8 sec"
     ]
    },
    {
     "name": "stderr",
     "output_type": "stream",
     "text": [
      "\r",
      "Scraping 29 games on 01/28/25:  58%|█████▊    | 88 of 151 days scraped in 344.1 sec"
     ]
    },
    {
     "name": "stderr",
     "output_type": "stream",
     "text": [
      "\r",
      "Scraping 29 games on 01/28/25:  59%|█████▉    | 89 of 151 days scraped in 346.5 sec"
     ]
    },
    {
     "name": "stderr",
     "output_type": "stream",
     "text": [
      "\r",
      "Scraping 52 games on 01/29/25:  59%|█████▉    | 89 of 151 days scraped in 346.9 sec"
     ]
    },
    {
     "name": "stderr",
     "output_type": "stream",
     "text": [
      "\r",
      "Scraping 52 games on 01/29/25:  60%|█████▉    | 90 of 151 days scraped in 350.9 sec"
     ]
    },
    {
     "name": "stderr",
     "output_type": "stream",
     "text": [
      "\r",
      "Scraping 58 games on 01/30/25:  60%|█████▉    | 90 of 151 days scraped in 351.5 sec"
     ]
    },
    {
     "name": "stderr",
     "output_type": "stream",
     "text": [
      "\r",
      "Scraping 58 games on 01/30/25:  60%|██████    | 91 of 151 days scraped in 356.0 sec"
     ]
    },
    {
     "name": "stderr",
     "output_type": "stream",
     "text": [
      "\r",
      "Scraping 14 games on 01/31/25:  60%|██████    | 91 of 151 days scraped in 356.3 sec"
     ]
    },
    {
     "name": "stderr",
     "output_type": "stream",
     "text": [
      "\r",
      "Scraping 14 games on 01/31/25:  61%|██████    | 92 of 151 days scraped in 357.4 sec"
     ]
    },
    {
     "name": "stderr",
     "output_type": "stream",
     "text": [
      "\r",
      "Scraping 146 games on 02/01/25:  61%|██████    | 92 of 151 days scraped in 358.5 sec"
     ]
    },
    {
     "name": "stderr",
     "output_type": "stream",
     "text": [
      "\r",
      "Scraping 146 games on 02/01/25:  62%|██████▏   | 93 of 151 days scraped in 369.2 sec"
     ]
    },
    {
     "name": "stderr",
     "output_type": "stream",
     "text": [
      "\r",
      "Scraping 19 games on 02/02/25:  62%|██████▏   | 93 of 151 days scraped in 369.6 sec "
     ]
    },
    {
     "name": "stderr",
     "output_type": "stream",
     "text": [
      "\r",
      "Scraping 19 games on 02/02/25:  62%|██████▏   | 94 of 151 days scraped in 371.1 sec"
     ]
    },
    {
     "name": "stderr",
     "output_type": "stream",
     "text": [
      "\r",
      "Scraping 21 games on 02/03/25:  62%|██████▏   | 94 of 151 days scraped in 371.5 sec"
     ]
    },
    {
     "name": "stderr",
     "output_type": "stream",
     "text": [
      "\r",
      "Scraping 21 games on 02/03/25:  63%|██████▎   | 95 of 151 days scraped in 373.1 sec"
     ]
    },
    {
     "name": "stderr",
     "output_type": "stream",
     "text": [
      "\r",
      "Scraping 34 games on 02/04/25:  63%|██████▎   | 95 of 151 days scraped in 373.5 sec"
     ]
    },
    {
     "name": "stderr",
     "output_type": "stream",
     "text": [
      "\r",
      "Scraping 34 games on 02/04/25:  64%|██████▎   | 96 of 151 days scraped in 376.1 sec"
     ]
    },
    {
     "name": "stderr",
     "output_type": "stream",
     "text": [
      "\r",
      "Scraping 55 games on 02/05/25:  64%|██████▎   | 96 of 151 days scraped in 376.6 sec"
     ]
    },
    {
     "name": "stderr",
     "output_type": "stream",
     "text": [
      "\r",
      "Scraping 55 games on 02/05/25:  64%|██████▍   | 97 of 151 days scraped in 380.7 sec"
     ]
    },
    {
     "name": "stderr",
     "output_type": "stream",
     "text": [
      "\r",
      "Scraping 59 games on 02/06/25:  64%|██████▍   | 97 of 151 days scraped in 381.3 sec"
     ]
    },
    {
     "name": "stderr",
     "output_type": "stream",
     "text": [
      "\r",
      "Scraping 59 games on 02/06/25:  65%|██████▍   | 98 of 151 days scraped in 385.6 sec"
     ]
    },
    {
     "name": "stderr",
     "output_type": "stream",
     "text": [
      "\r",
      "Scraping 7 games on 02/07/25:  65%|██████▍   | 98 of 151 days scraped in 385.8 sec "
     ]
    },
    {
     "name": "stderr",
     "output_type": "stream",
     "text": [
      "\r",
      "Scraping 7 games on 02/07/25:  66%|██████▌   | 99 of 151 days scraped in 386.5 sec"
     ]
    },
    {
     "name": "stderr",
     "output_type": "stream",
     "text": [
      "\r",
      "Scraping 155 games on 02/08/25:  66%|██████▌   | 99 of 151 days scraped in 387.8 sec"
     ]
    },
    {
     "name": "stderr",
     "output_type": "stream",
     "text": [
      "\r",
      "Scraping 155 games on 02/08/25:  66%|██████▌   | 100 of 151 days scraped in 399.2 sec"
     ]
    },
    {
     "name": "stderr",
     "output_type": "stream",
     "text": [
      "\r",
      "Scraping 8 games on 02/09/25:  66%|██████▌   | 100 of 151 days scraped in 399.4 sec  "
     ]
    },
    {
     "name": "stderr",
     "output_type": "stream",
     "text": [
      "\r",
      "Scraping 8 games on 02/09/25:  67%|██████▋   | 101 of 151 days scraped in 400.0 sec"
     ]
    },
    {
     "name": "stderr",
     "output_type": "stream",
     "text": [
      "\r",
      "Scraping 19 games on 02/10/25:  67%|██████▋   | 101 of 151 days scraped in 400.3 sec"
     ]
    },
    {
     "name": "stderr",
     "output_type": "stream",
     "text": [
      "\r",
      "Scraping 19 games on 02/10/25:  68%|██████▊   | 102 of 151 days scraped in 401.7 sec"
     ]
    },
    {
     "name": "stderr",
     "output_type": "stream",
     "text": [
      "\r",
      "Scraping 37 games on 02/11/25:  68%|██████▊   | 102 of 151 days scraped in 402.5 sec"
     ]
    },
    {
     "name": "stderr",
     "output_type": "stream",
     "text": [
      "\r",
      "Scraping 37 games on 02/11/25:  68%|██████▊   | 103 of 151 days scraped in 405.4 sec"
     ]
    },
    {
     "name": "stderr",
     "output_type": "stream",
     "text": [
      "\r",
      "Scraping 44 games on 02/12/25:  68%|██████▊   | 103 of 151 days scraped in 405.8 sec"
     ]
    },
    {
     "name": "stderr",
     "output_type": "stream",
     "text": [
      "\r",
      "Scraping 44 games on 02/12/25:  69%|██████▉   | 104 of 151 days scraped in 409.4 sec"
     ]
    },
    {
     "name": "stderr",
     "output_type": "stream",
     "text": [
      "\r",
      "Scraping 59 games on 02/13/25:  69%|██████▉   | 104 of 151 days scraped in 410.0 sec"
     ]
    },
    {
     "name": "stderr",
     "output_type": "stream",
     "text": [
      "\r",
      "Scraping 59 games on 02/13/25:  70%|██████▉   | 105 of 151 days scraped in 414.8 sec"
     ]
    },
    {
     "name": "stderr",
     "output_type": "stream",
     "text": [
      "\r",
      "Scraping 16 games on 02/14/25:  70%|██████▉   | 105 of 151 days scraped in 415.0 sec"
     ]
    },
    {
     "name": "stderr",
     "output_type": "stream",
     "text": [
      "\r",
      "Scraping 16 games on 02/14/25:  70%|███████   | 106 of 151 days scraped in 416.6 sec"
     ]
    },
    {
     "name": "stderr",
     "output_type": "stream",
     "text": [
      "\r",
      "Scraping 146 games on 02/15/25:  70%|███████   | 106 of 151 days scraped in 417.6 sec"
     ]
    },
    {
     "name": "stderr",
     "output_type": "stream",
     "text": [
      "\r",
      "Scraping 146 games on 02/15/25:  71%|███████   | 107 of 151 days scraped in 429.0 sec"
     ]
    },
    {
     "name": "stderr",
     "output_type": "stream",
     "text": [
      "\r",
      "Scraping 25 games on 02/16/25:  71%|███████   | 107 of 151 days scraped in 429.4 sec "
     ]
    },
    {
     "name": "stderr",
     "output_type": "stream",
     "text": [
      "\r",
      "Scraping 25 games on 02/16/25:  72%|███████▏  | 108 of 151 days scraped in 431.4 sec"
     ]
    },
    {
     "name": "stderr",
     "output_type": "stream",
     "text": [
      "\r",
      "Scraping 21 games on 02/17/25:  72%|███████▏  | 108 of 151 days scraped in 431.7 sec"
     ]
    },
    {
     "name": "stderr",
     "output_type": "stream",
     "text": [
      "\r",
      "Scraping 21 games on 02/17/25:  72%|███████▏  | 109 of 151 days scraped in 433.3 sec"
     ]
    },
    {
     "name": "stderr",
     "output_type": "stream",
     "text": [
      "\r",
      "Scraping 32 games on 02/18/25:  72%|███████▏  | 109 of 151 days scraped in 433.8 sec"
     ]
    },
    {
     "name": "stderr",
     "output_type": "stream",
     "text": [
      "\r",
      "Scraping 32 games on 02/18/25:  73%|███████▎  | 110 of 151 days scraped in 436.5 sec"
     ]
    },
    {
     "name": "stderr",
     "output_type": "stream",
     "text": [
      "\r",
      "Scraping 51 games on 02/19/25:  73%|███████▎  | 110 of 151 days scraped in 437.1 sec"
     ]
    },
    {
     "name": "stderr",
     "output_type": "stream",
     "text": [
      "\r",
      "Scraping 51 games on 02/19/25:  74%|███████▎  | 111 of 151 days scraped in 441.4 sec"
     ]
    },
    {
     "name": "stderr",
     "output_type": "stream",
     "text": [
      "\r",
      "Scraping 52 games on 02/20/25:  74%|███████▎  | 111 of 151 days scraped in 442.2 sec"
     ]
    },
    {
     "name": "stderr",
     "output_type": "stream",
     "text": [
      "\r",
      "Scraping 52 games on 02/20/25:  74%|███████▍  | 112 of 151 days scraped in 446.3 sec"
     ]
    },
    {
     "name": "stderr",
     "output_type": "stream",
     "text": [
      "\r",
      "Scraping 20 games on 02/21/25:  74%|███████▍  | 112 of 151 days scraped in 446.6 sec"
     ]
    },
    {
     "name": "stderr",
     "output_type": "stream",
     "text": [
      "\r",
      "Scraping 20 games on 02/21/25:  75%|███████▍  | 113 of 151 days scraped in 448.2 sec"
     ]
    },
    {
     "name": "stderr",
     "output_type": "stream",
     "text": [
      "\r",
      "Scraping 131 games on 02/22/25:  75%|███████▍  | 113 of 151 days scraped in 449.5 sec"
     ]
    },
    {
     "name": "stderr",
     "output_type": "stream",
     "text": [
      "\r",
      "Scraping 131 games on 02/22/25:  75%|███████▌  | 114 of 151 days scraped in 460.0 sec"
     ]
    },
    {
     "name": "stderr",
     "output_type": "stream",
     "text": [
      "\r",
      "Scraping 28 games on 02/23/25:  75%|███████▌  | 114 of 151 days scraped in 460.4 sec "
     ]
    },
    {
     "name": "stderr",
     "output_type": "stream",
     "text": [
      "\r",
      "Scraping 28 games on 02/23/25:  76%|███████▌  | 115 of 151 days scraped in 462.6 sec"
     ]
    },
    {
     "name": "stderr",
     "output_type": "stream",
     "text": [
      "\r",
      "Scraping 27 games on 02/24/25:  76%|███████▌  | 115 of 151 days scraped in 463.0 sec"
     ]
    },
    {
     "name": "stderr",
     "output_type": "stream",
     "text": [
      "\r",
      "Scraping 27 games on 02/24/25:  77%|███████▋  | 116 of 151 days scraped in 465.2 sec"
     ]
    },
    {
     "name": "stderr",
     "output_type": "stream",
     "text": [
      "\r",
      "Scraping 35 games on 02/25/25:  77%|███████▋  | 116 of 151 days scraped in 465.7 sec"
     ]
    },
    {
     "name": "stderr",
     "output_type": "stream",
     "text": [
      "\r",
      "Scraping 35 games on 02/25/25:  77%|███████▋  | 117 of 151 days scraped in 468.5 sec"
     ]
    },
    {
     "name": "stderr",
     "output_type": "stream",
     "text": [
      "\r",
      "Scraping 54 games on 02/26/25:  77%|███████▋  | 117 of 151 days scraped in 469.0 sec"
     ]
    },
    {
     "name": "stderr",
     "output_type": "stream",
     "text": [
      "\r",
      "Scraping 54 games on 02/26/25:  78%|███████▊  | 118 of 151 days scraped in 473.2 sec"
     ]
    },
    {
     "name": "stderr",
     "output_type": "stream",
     "text": [
      "\r",
      "Scraping 54 games on 02/27/25:  78%|███████▊  | 118 of 151 days scraped in 473.8 sec"
     ]
    },
    {
     "name": "stderr",
     "output_type": "stream",
     "text": [
      "\r",
      "Scraping 54 games on 02/27/25:  79%|███████▉  | 119 of 151 days scraped in 478.2 sec"
     ]
    },
    {
     "name": "stderr",
     "output_type": "stream",
     "text": [
      "\r",
      "Scraping 23 games on 02/28/25:  79%|███████▉  | 119 of 151 days scraped in 478.6 sec"
     ]
    },
    {
     "name": "stderr",
     "output_type": "stream",
     "text": [
      "\r",
      "Scraping 23 games on 02/28/25:  79%|███████▉  | 120 of 151 days scraped in 480.6 sec"
     ]
    },
    {
     "name": "stderr",
     "output_type": "stream",
     "text": [
      "\r",
      "Scraping 133 games on 03/01/25:  79%|███████▉  | 120 of 151 days scraped in 481.9 sec"
     ]
    },
    {
     "name": "stderr",
     "output_type": "stream",
     "text": [
      "\r",
      "Scraping 133 games on 03/01/25:  80%|████████  | 121 of 151 days scraped in 492.6 sec"
     ]
    },
    {
     "name": "stderr",
     "output_type": "stream",
     "text": [
      "\r",
      "Scraping 23 games on 03/02/25:  80%|████████  | 121 of 151 days scraped in 492.9 sec "
     ]
    },
    {
     "name": "stderr",
     "output_type": "stream",
     "text": [
      "\r",
      "Scraping 23 games on 03/02/25:  81%|████████  | 122 of 151 days scraped in 494.8 sec"
     ]
    },
    {
     "name": "stderr",
     "output_type": "stream",
     "text": [
      "\r",
      "Scraping 27 games on 03/03/25:  81%|████████  | 122 of 151 days scraped in 495.1 sec"
     ]
    },
    {
     "name": "stderr",
     "output_type": "stream",
     "text": [
      "\r",
      "Scraping 27 games on 03/03/25:  81%|████████▏ | 123 of 151 days scraped in 497.3 sec"
     ]
    },
    {
     "name": "stderr",
     "output_type": "stream",
     "text": [
      "\r",
      "Scraping 44 games on 03/04/25:  81%|████████▏ | 123 of 151 days scraped in 497.8 sec"
     ]
    },
    {
     "name": "stderr",
     "output_type": "stream",
     "text": [
      "\r",
      "Scraping 44 games on 03/04/25:  82%|████████▏ | 124 of 151 days scraped in 501.4 sec"
     ]
    },
    {
     "name": "stderr",
     "output_type": "stream",
     "text": [
      "\r",
      "Scraping 31 games on 03/05/25:  82%|████████▏ | 124 of 151 days scraped in 501.7 sec"
     ]
    },
    {
     "name": "stderr",
     "output_type": "stream",
     "text": [
      "\r",
      "Scraping 31 games on 03/05/25:  83%|████████▎ | 125 of 151 days scraped in 504.3 sec"
     ]
    },
    {
     "name": "stderr",
     "output_type": "stream",
     "text": [
      "\r",
      "Scraping 53 games on 03/06/25:  83%|████████▎ | 125 of 151 days scraped in 504.9 sec"
     ]
    },
    {
     "name": "stderr",
     "output_type": "stream",
     "text": [
      "\r",
      "Scraping 53 games on 03/06/25:  83%|████████▎ | 126 of 151 days scraped in 509.1 sec"
     ]
    },
    {
     "name": "stderr",
     "output_type": "stream",
     "text": [
      "\r",
      "Scraping 31 games on 03/07/25:  83%|████████▎ | 126 of 151 days scraped in 509.4 sec"
     ]
    },
    {
     "name": "stderr",
     "output_type": "stream",
     "text": [
      "\r",
      "Scraping 31 games on 03/07/25:  84%|████████▍ | 127 of 151 days scraped in 512.0 sec"
     ]
    },
    {
     "name": "stderr",
     "output_type": "stream",
     "text": [
      "\r",
      "Scraping 100 games on 03/08/25:  84%|████████▍ | 127 of 151 days scraped in 512.7 sec"
     ]
    },
    {
     "name": "stderr",
     "output_type": "stream",
     "text": [
      "\r",
      "Scraping 100 games on 03/08/25:  85%|████████▍ | 128 of 151 days scraped in 520.9 sec"
     ]
    },
    {
     "name": "stderr",
     "output_type": "stream",
     "text": [
      "\r",
      "Scraping 29 games on 03/09/25:  85%|████████▍ | 128 of 151 days scraped in 521.3 sec "
     ]
    },
    {
     "name": "stderr",
     "output_type": "stream",
     "text": [
      "\r",
      "Scraping 29 games on 03/09/25:  85%|████████▌ | 129 of 151 days scraped in 523.7 sec"
     ]
    },
    {
     "name": "stderr",
     "output_type": "stream",
     "text": [
      "\r",
      "Scraping 12 games on 03/10/25:  85%|████████▌ | 129 of 151 days scraped in 523.9 sec"
     ]
    },
    {
     "name": "stderr",
     "output_type": "stream",
     "text": [
      "\r",
      "Scraping 12 games on 03/10/25:  86%|████████▌ | 130 of 151 days scraped in 525.0 sec"
     ]
    },
    {
     "name": "stderr",
     "output_type": "stream",
     "text": [
      "\r",
      "Scraping 24 games on 03/11/25:  86%|████████▌ | 130 of 151 days scraped in 525.4 sec"
     ]
    },
    {
     "name": "stderr",
     "output_type": "stream",
     "text": [
      "\r",
      "Scraping 24 games on 03/11/25:  87%|████████▋ | 131 of 151 days scraped in 527.3 sec"
     ]
    },
    {
     "name": "stderr",
     "output_type": "stream",
     "text": [
      "\r",
      "Scraping 40 games on 03/12/25:  87%|████████▋ | 131 of 151 days scraped in 527.8 sec"
     ]
    },
    {
     "name": "stderr",
     "output_type": "stream",
     "text": [
      "\r",
      "Scraping 40 games on 03/12/25:  87%|████████▋ | 132 of 151 days scraped in 531.1 sec"
     ]
    },
    {
     "name": "stderr",
     "output_type": "stream",
     "text": [
      "\r",
      "Scraping 48 games on 03/13/25:  87%|████████▋ | 132 of 151 days scraped in 531.7 sec"
     ]
    },
    {
     "name": "stderr",
     "output_type": "stream",
     "text": [
      "\r",
      "Scraping 48 games on 03/13/25:  88%|████████▊ | 133 of 151 days scraped in 535.7 sec"
     ]
    },
    {
     "name": "stderr",
     "output_type": "stream",
     "text": [
      "\r",
      "Scraping 38 games on 03/14/25:  88%|████████▊ | 133 of 151 days scraped in 536.1 sec"
     ]
    },
    {
     "name": "stderr",
     "output_type": "stream",
     "text": [
      "\r",
      "Scraping 38 games on 03/14/25:  89%|████████▊ | 134 of 151 days scraped in 539.2 sec"
     ]
    },
    {
     "name": "stderr",
     "output_type": "stream",
     "text": [
      "\r",
      "Scraping 22 games on 03/15/25:  89%|████████▊ | 134 of 151 days scraped in 539.5 sec"
     ]
    },
    {
     "name": "stderr",
     "output_type": "stream",
     "text": [
      "\r",
      "Scraping 22 games on 03/15/25:  89%|████████▉ | 135 of 151 days scraped in 541.4 sec"
     ]
    },
    {
     "name": "stderr",
     "output_type": "stream",
     "text": [
      "\r",
      "Scraping 5 games on 03/16/25:  89%|████████▉ | 135 of 151 days scraped in 541.6 sec "
     ]
    },
    {
     "name": "stderr",
     "output_type": "stream",
     "text": [
      "\r",
      "Scraping 5 games on 03/16/25:  90%|█████████ | 136 of 151 days scraped in 542.1 sec"
     ]
    },
    {
     "name": "stderr",
     "output_type": "stream",
     "text": [
      "\r",
      "Scraping 0 games on 03/17/25:  90%|█████████ | 136 of 151 days scraped in 542.3 sec"
     ]
    },
    {
     "name": "stderr",
     "output_type": "stream",
     "text": [
      "\r",
      "No games on 03/17/25:  91%|█████████ | 137 of 151 days scraped in 542.3 sec        "
     ]
    },
    {
     "name": "stderr",
     "output_type": "stream",
     "text": [
      "\r",
      "Scraping 9 games on 03/18/25:  91%|█████████ | 137 of 151 days scraped in 542.5 sec"
     ]
    },
    {
     "name": "stderr",
     "output_type": "stream",
     "text": [
      "\r",
      "Scraping 9 games on 03/18/25:  91%|█████████▏| 138 of 151 days scraped in 543.3 sec"
     ]
    },
    {
     "name": "stderr",
     "output_type": "stream",
     "text": [
      "\r",
      "Scraping 11 games on 03/19/25:  91%|█████████▏| 138 of 151 days scraped in 543.6 sec"
     ]
    },
    {
     "name": "stderr",
     "output_type": "stream",
     "text": [
      "\r",
      "Scraping 11 games on 03/19/25:  92%|█████████▏| 139 of 151 days scraped in 544.8 sec"
     ]
    },
    {
     "name": "stderr",
     "output_type": "stream",
     "text": [
      "\r",
      "Scraping 16 games on 03/20/25:  92%|█████████▏| 139 of 151 days scraped in 545.2 sec"
     ]
    },
    {
     "name": "stderr",
     "output_type": "stream",
     "text": [
      "\r",
      "Scraping 16 games on 03/20/25:  93%|█████████▎| 140 of 151 days scraped in 546.0 sec"
     ]
    },
    {
     "name": "stderr",
     "output_type": "stream",
     "text": [
      "\r",
      "Scraping 16 games on 03/21/25:  93%|█████████▎| 140 of 151 days scraped in 546.3 sec"
     ]
    },
    {
     "name": "stderr",
     "output_type": "stream",
     "text": [
      "\r",
      "Scraping 16 games on 03/21/25:  93%|█████████▎| 141 of 151 days scraped in 547.3 sec"
     ]
    },
    {
     "name": "stderr",
     "output_type": "stream",
     "text": [
      "\r",
      "Scraping 10 games on 03/22/25:  93%|█████████▎| 141 of 151 days scraped in 547.6 sec"
     ]
    },
    {
     "name": "stderr",
     "output_type": "stream",
     "text": [
      "\r",
      "Scraping 10 games on 03/22/25:  94%|█████████▍| 142 of 151 days scraped in 548.1 sec"
     ]
    },
    {
     "name": "stderr",
     "output_type": "stream",
     "text": [
      "\r",
      "Scraping 18 games on 03/23/25:  94%|█████████▍| 142 of 151 days scraped in 548.5 sec"
     ]
    },
    {
     "name": "stderr",
     "output_type": "stream",
     "text": [
      "\r",
      "Scraping 18 games on 03/23/25:  95%|█████████▍| 143 of 151 days scraped in 549.8 sec"
     ]
    },
    {
     "name": "stderr",
     "output_type": "stream",
     "text": [
      "\r",
      "Scraping 3 games on 03/24/25:  95%|█████████▍| 143 of 151 days scraped in 549.9 sec "
     ]
    },
    {
     "name": "stderr",
     "output_type": "stream",
     "text": [
      "\r",
      "Scraping 3 games on 03/24/25:  95%|█████████▌| 144 of 151 days scraped in 550.2 sec"
     ]
    },
    {
     "name": "stderr",
     "output_type": "stream",
     "text": [
      "\r",
      "Scraping 4 games on 03/25/25:  95%|█████████▌| 144 of 151 days scraped in 550.4 sec"
     ]
    },
    {
     "name": "stderr",
     "output_type": "stream",
     "text": [
      "\r",
      "Scraping 4 games on 03/25/25:  96%|█████████▌| 145 of 151 days scraped in 550.9 sec"
     ]
    },
    {
     "name": "stderr",
     "output_type": "stream",
     "text": [
      "\r",
      "Scraping 3 games on 03/26/25:  96%|█████████▌| 145 of 151 days scraped in 551.1 sec"
     ]
    },
    {
     "name": "stderr",
     "output_type": "stream",
     "text": [
      "\r",
      "Scraping 3 games on 03/26/25:  97%|█████████▋| 146 of 151 days scraped in 551.5 sec"
     ]
    },
    {
     "name": "stderr",
     "output_type": "stream",
     "text": [
      "\r",
      "Scraping 4 games on 03/27/25:  97%|█████████▋| 146 of 151 days scraped in 551.7 sec"
     ]
    },
    {
     "name": "stderr",
     "output_type": "stream",
     "text": [
      "\r",
      "Scraping 4 games on 03/27/25:  97%|█████████▋| 147 of 151 days scraped in 552.0 sec"
     ]
    },
    {
     "name": "stderr",
     "output_type": "stream",
     "text": [
      "\r",
      "Scraping 4 games on 03/28/25:  97%|█████████▋| 147 of 151 days scraped in 552.2 sec"
     ]
    },
    {
     "name": "stderr",
     "output_type": "stream",
     "text": [
      "\r",
      "Scraping 4 games on 03/28/25:  98%|█████████▊| 148 of 151 days scraped in 552.7 sec"
     ]
    },
    {
     "name": "stderr",
     "output_type": "stream",
     "text": [
      "\r",
      "Scraping 2 games on 03/29/25:  98%|█████████▊| 148 of 151 days scraped in 552.9 sec"
     ]
    },
    {
     "name": "stderr",
     "output_type": "stream",
     "text": [
      "\r",
      "Scraping 2 games on 03/29/25:  99%|█████████▊| 149 of 151 days scraped in 553.1 sec"
     ]
    },
    {
     "name": "stderr",
     "output_type": "stream",
     "text": [
      "\r",
      "Scraping 2 games on 03/30/25:  99%|█████████▊| 149 of 151 days scraped in 553.3 sec"
     ]
    },
    {
     "name": "stderr",
     "output_type": "stream",
     "text": [
      "\r",
      "Scraping 2 games on 03/30/25:  99%|█████████▉| 150 of 151 days scraped in 553.7 sec"
     ]
    },
    {
     "name": "stderr",
     "output_type": "stream",
     "text": [
      "\r",
      "Scraping 4 games on 03/31/25:  99%|█████████▉| 150 of 151 days scraped in 554.1 sec"
     ]
    },
    {
     "name": "stderr",
     "output_type": "stream",
     "text": [
      "\r",
      "Scraping 4 games on 03/31/25: 100%|██████████| 151 of 151 days scraped in 554.5 sec"
     ]
    },
    {
     "name": "stderr",
     "output_type": "stream",
     "text": [
      "\r",
      "Scraping 4 games on 03/31/25: 100%|██████████| 151 of 151 days scraped in 554.5 sec"
     ]
    },
    {
     "name": "stderr",
     "output_type": "stream",
     "text": [
      "\n"
     ]
    },
    {
     "name": "stdout",
     "output_type": "stream",
     "text": [
      "Log file is located at /home/runner/.local/state/CBBpy/2.1.2/log/CBBpy.log\n"
     ]
    }
   ],
   "source": [
    "import pandas as pd\n",
    "import cbbpy.mens_scraper as s\n",
    "\n",
    "# Create data frames for each season of game info\n",
    "\n",
    "df_2025 = s.get_games_season(2025, box = False, pbp = False)\n"
   ]
  },
  {
   "cell_type": "code",
   "execution_count": 2,
   "metadata": {
    "execution": {
     "iopub.execute_input": "2025-03-31T12:15:28.220463Z",
     "iopub.status.busy": "2025-03-31T12:15:28.220201Z",
     "iopub.status.idle": "2025-03-31T12:15:28.244535Z",
     "shell.execute_reply": "2025-03-31T12:15:28.244076Z"
    }
   },
   "outputs": [
    {
     "data": {
      "text/html": [
       "<div>\n",
       "<style scoped>\n",
       "    .dataframe tbody tr th:only-of-type {\n",
       "        vertical-align: middle;\n",
       "    }\n",
       "\n",
       "    .dataframe tbody tr th {\n",
       "        vertical-align: top;\n",
       "    }\n",
       "\n",
       "    .dataframe thead th {\n",
       "        text-align: right;\n",
       "    }\n",
       "</style>\n",
       "<table border=\"1\" class=\"dataframe\">\n",
       "  <thead>\n",
       "    <tr style=\"text-align: right;\">\n",
       "      <th></th>\n",
       "      <th>game_id</th>\n",
       "      <th>game_status</th>\n",
       "      <th>home_team</th>\n",
       "      <th>home_id</th>\n",
       "      <th>home_rank</th>\n",
       "      <th>home_record</th>\n",
       "      <th>home_score</th>\n",
       "      <th>away_team</th>\n",
       "      <th>away_id</th>\n",
       "      <th>away_rank</th>\n",
       "      <th>...</th>\n",
       "      <th>game_day</th>\n",
       "      <th>game_time</th>\n",
       "      <th>game_loc</th>\n",
       "      <th>arena</th>\n",
       "      <th>arena_capacity</th>\n",
       "      <th>attendance</th>\n",
       "      <th>tv_network</th>\n",
       "      <th>referee_1</th>\n",
       "      <th>referee_2</th>\n",
       "      <th>referee_3</th>\n",
       "    </tr>\n",
       "  </thead>\n",
       "  <tbody>\n",
       "    <tr>\n",
       "      <th>0</th>\n",
       "      <td>401727499</td>\n",
       "      <td>Final</td>\n",
       "      <td>IU Indianapolis Jaguars</td>\n",
       "      <td>85</td>\n",
       "      <td>NaN</td>\n",
       "      <td>1-0</td>\n",
       "      <td>100</td>\n",
       "      <td>IU Columbus Crimson Pride</td>\n",
       "      <td>nd-iu-columbus-crimson-pride</td>\n",
       "      <td>NaN</td>\n",
       "      <td>...</td>\n",
       "      <td>November 04, 2024</td>\n",
       "      <td>08:00 AM PST</td>\n",
       "      <td>Indianapolis, IN</td>\n",
       "      <td>Corteva Coliseum</td>\n",
       "      <td>NaN</td>\n",
       "      <td>3716.0</td>\n",
       "      <td>ESPN+</td>\n",
       "      <td>Rod Mrakovich</td>\n",
       "      <td>Martin Spencer</td>\n",
       "      <td>Adam Sensibaugh</td>\n",
       "    </tr>\n",
       "    <tr>\n",
       "      <th>1</th>\n",
       "      <td>401715872</td>\n",
       "      <td>Final</td>\n",
       "      <td>Southern Illinois Salukis</td>\n",
       "      <td>79</td>\n",
       "      <td>NaN</td>\n",
       "      <td>0-1</td>\n",
       "      <td>80</td>\n",
       "      <td>Charleston Cougars</td>\n",
       "      <td>232</td>\n",
       "      <td>NaN</td>\n",
       "      <td>...</td>\n",
       "      <td>November 04, 2024</td>\n",
       "      <td>09:00 AM PST</td>\n",
       "      <td>Sioux Falls, SD</td>\n",
       "      <td>Sanford Pentagon</td>\n",
       "      <td>NaN</td>\n",
       "      <td>0.0</td>\n",
       "      <td></td>\n",
       "      <td>Brad Ferrie</td>\n",
       "      <td>Antinio Petty</td>\n",
       "      <td>Ben Wolfe</td>\n",
       "    </tr>\n",
       "    <tr>\n",
       "      <th>2</th>\n",
       "      <td>401725796</td>\n",
       "      <td>Final</td>\n",
       "      <td>UT Arlington Mavericks</td>\n",
       "      <td>250</td>\n",
       "      <td>NaN</td>\n",
       "      <td>1-0</td>\n",
       "      <td>90</td>\n",
       "      <td>UNT Dallas Trailblazers</td>\n",
       "      <td>nd-unt-dallas-trailblazers</td>\n",
       "      <td>NaN</td>\n",
       "      <td>...</td>\n",
       "      <td>November 04, 2024</td>\n",
       "      <td>09:00 AM PST</td>\n",
       "      <td>Arlington, TX</td>\n",
       "      <td>College Park Center</td>\n",
       "      <td>NaN</td>\n",
       "      <td>1001.0</td>\n",
       "      <td>ESPN+</td>\n",
       "      <td>Doug George</td>\n",
       "      <td>Randal Anders</td>\n",
       "      <td>Trenton Chaney</td>\n",
       "    </tr>\n",
       "    <tr>\n",
       "      <th>3</th>\n",
       "      <td>401726400</td>\n",
       "      <td>Final</td>\n",
       "      <td>Middle Tennessee Blue Raiders</td>\n",
       "      <td>2393</td>\n",
       "      <td>NaN</td>\n",
       "      <td>1-0</td>\n",
       "      <td>97</td>\n",
       "      <td>Oglethorpe Stormy Petrels</td>\n",
       "      <td>nd-oglethorpe-stormy-petrels</td>\n",
       "      <td>NaN</td>\n",
       "      <td>...</td>\n",
       "      <td>November 04, 2024</td>\n",
       "      <td>09:00 AM PST</td>\n",
       "      <td>Murfreesboro, TN</td>\n",
       "      <td>Murphy Center</td>\n",
       "      <td>NaN</td>\n",
       "      <td>7501.0</td>\n",
       "      <td>ESPN+</td>\n",
       "      <td>Kevin Mathis</td>\n",
       "      <td>James Curran</td>\n",
       "      <td>Klajdi Mulla</td>\n",
       "    </tr>\n",
       "    <tr>\n",
       "      <th>4</th>\n",
       "      <td>401726395</td>\n",
       "      <td>Final</td>\n",
       "      <td>Jacksonville State Gamecocks</td>\n",
       "      <td>55</td>\n",
       "      <td>NaN</td>\n",
       "      <td>1-0</td>\n",
       "      <td>112</td>\n",
       "      <td>LaGrange Panthers</td>\n",
       "      <td>nd-lagrange-panthers</td>\n",
       "      <td>NaN</td>\n",
       "      <td>...</td>\n",
       "      <td>November 04, 2024</td>\n",
       "      <td>09:30 AM PST</td>\n",
       "      <td>Jacksonville, AL</td>\n",
       "      <td>Pete Mathews Coliseum</td>\n",
       "      <td>NaN</td>\n",
       "      <td>2055.0</td>\n",
       "      <td>ESPN+</td>\n",
       "      <td>Barry Mathis</td>\n",
       "      <td>Nick Meyer</td>\n",
       "      <td>Jeremy Trussell</td>\n",
       "    </tr>\n",
       "    <tr>\n",
       "      <th>...</th>\n",
       "      <td>...</td>\n",
       "      <td>...</td>\n",
       "      <td>...</td>\n",
       "      <td>...</td>\n",
       "      <td>...</td>\n",
       "      <td>...</td>\n",
       "      <td>...</td>\n",
       "      <td>...</td>\n",
       "      <td>...</td>\n",
       "      <td>...</td>\n",
       "      <td>...</td>\n",
       "      <td>...</td>\n",
       "      <td>...</td>\n",
       "      <td>...</td>\n",
       "      <td>...</td>\n",
       "      <td>...</td>\n",
       "      <td>...</td>\n",
       "      <td>...</td>\n",
       "      <td>...</td>\n",
       "      <td>...</td>\n",
       "      <td>...</td>\n",
       "    </tr>\n",
       "    <tr>\n",
       "      <th>6277</th>\n",
       "      <td>401746078</td>\n",
       "      <td>Final</td>\n",
       "      <td>Auburn Tigers</td>\n",
       "      <td>2</td>\n",
       "      <td>1.0</td>\n",
       "      <td>32-5</td>\n",
       "      <td>70</td>\n",
       "      <td>Michigan State Spartans</td>\n",
       "      <td>127</td>\n",
       "      <td>2.0</td>\n",
       "      <td>...</td>\n",
       "      <td>March 30, 2025</td>\n",
       "      <td>02:05 PM PDT</td>\n",
       "      <td>Atlanta, GA</td>\n",
       "      <td>State Farm Arena</td>\n",
       "      <td>NaN</td>\n",
       "      <td>16768.0</td>\n",
       "      <td>CBS</td>\n",
       "      <td>Don Daily</td>\n",
       "      <td>Ron Groover</td>\n",
       "      <td>Jeffrey Anderson</td>\n",
       "    </tr>\n",
       "    <tr>\n",
       "      <th>6278</th>\n",
       "      <td>401758614</td>\n",
       "      <td>Scheduled</td>\n",
       "      <td>Butler Bulldogs</td>\n",
       "      <td>2086</td>\n",
       "      <td>NaN</td>\n",
       "      <td>14-19</td>\n",
       "      <td>0</td>\n",
       "      <td>Utah Utes</td>\n",
       "      <td>254</td>\n",
       "      <td>NaN</td>\n",
       "      <td>...</td>\n",
       "      <td>March 31, 2025</td>\n",
       "      <td>12:00 PM PDT</td>\n",
       "      <td>Las Vegas, NV</td>\n",
       "      <td>MGM Grand Garden Arena</td>\n",
       "      <td>NaN</td>\n",
       "      <td>NaN</td>\n",
       "      <td>FS1</td>\n",
       "      <td></td>\n",
       "      <td></td>\n",
       "      <td></td>\n",
       "    </tr>\n",
       "    <tr>\n",
       "      <th>6279</th>\n",
       "      <td>401758616</td>\n",
       "      <td>Scheduled</td>\n",
       "      <td>Boise State Broncos</td>\n",
       "      <td>68</td>\n",
       "      <td>NaN</td>\n",
       "      <td>24-10</td>\n",
       "      <td>0</td>\n",
       "      <td>George Washington Revolutionaries</td>\n",
       "      <td>45</td>\n",
       "      <td>NaN</td>\n",
       "      <td>...</td>\n",
       "      <td>March 31, 2025</td>\n",
       "      <td>02:30 PM PDT</td>\n",
       "      <td>Las Vegas, NV</td>\n",
       "      <td>MGM Grand Garden Arena</td>\n",
       "      <td>NaN</td>\n",
       "      <td>NaN</td>\n",
       "      <td>FS1</td>\n",
       "      <td></td>\n",
       "      <td></td>\n",
       "      <td></td>\n",
       "    </tr>\n",
       "    <tr>\n",
       "      <th>6280</th>\n",
       "      <td>401758621</td>\n",
       "      <td>Scheduled</td>\n",
       "      <td>Arizona State Sun Devils</td>\n",
       "      <td>9</td>\n",
       "      <td>NaN</td>\n",
       "      <td>13-19</td>\n",
       "      <td>0</td>\n",
       "      <td>Nebraska Cornhuskers</td>\n",
       "      <td>158</td>\n",
       "      <td>NaN</td>\n",
       "      <td>...</td>\n",
       "      <td>March 31, 2025</td>\n",
       "      <td>05:30 PM PDT</td>\n",
       "      <td>Las Vegas, NV</td>\n",
       "      <td>MGM Grand Garden Arena</td>\n",
       "      <td>NaN</td>\n",
       "      <td>NaN</td>\n",
       "      <td>FS1</td>\n",
       "      <td></td>\n",
       "      <td></td>\n",
       "      <td></td>\n",
       "    </tr>\n",
       "    <tr>\n",
       "      <th>6281</th>\n",
       "      <td>401758622</td>\n",
       "      <td>Scheduled</td>\n",
       "      <td>Georgetown Hoyas</td>\n",
       "      <td>46</td>\n",
       "      <td>NaN</td>\n",
       "      <td>17-15</td>\n",
       "      <td>0</td>\n",
       "      <td>Washington State Cougars</td>\n",
       "      <td>265</td>\n",
       "      <td>NaN</td>\n",
       "      <td>...</td>\n",
       "      <td>March 31, 2025</td>\n",
       "      <td>08:00 PM PDT</td>\n",
       "      <td>Las Vegas, NV</td>\n",
       "      <td>MGM Grand Garden Arena</td>\n",
       "      <td>NaN</td>\n",
       "      <td>NaN</td>\n",
       "      <td>FS1</td>\n",
       "      <td></td>\n",
       "      <td></td>\n",
       "      <td></td>\n",
       "    </tr>\n",
       "  </tbody>\n",
       "</table>\n",
       "<p>6282 rows × 29 columns</p>\n",
       "</div>"
      ],
      "text/plain": [
       "        game_id game_status                      home_team home_id  home_rank  \\\n",
       "0     401727499       Final        IU Indianapolis Jaguars      85        NaN   \n",
       "1     401715872       Final      Southern Illinois Salukis      79        NaN   \n",
       "2     401725796       Final         UT Arlington Mavericks     250        NaN   \n",
       "3     401726400       Final  Middle Tennessee Blue Raiders    2393        NaN   \n",
       "4     401726395       Final   Jacksonville State Gamecocks      55        NaN   \n",
       "...         ...         ...                            ...     ...        ...   \n",
       "6277  401746078       Final                  Auburn Tigers       2        1.0   \n",
       "6278  401758614   Scheduled                Butler Bulldogs    2086        NaN   \n",
       "6279  401758616   Scheduled            Boise State Broncos      68        NaN   \n",
       "6280  401758621   Scheduled       Arizona State Sun Devils       9        NaN   \n",
       "6281  401758622   Scheduled               Georgetown Hoyas      46        NaN   \n",
       "\n",
       "     home_record  home_score                          away_team  \\\n",
       "0            1-0         100          IU Columbus Crimson Pride   \n",
       "1            0-1          80                 Charleston Cougars   \n",
       "2            1-0          90            UNT Dallas Trailblazers   \n",
       "3            1-0          97          Oglethorpe Stormy Petrels   \n",
       "4            1-0         112                  LaGrange Panthers   \n",
       "...          ...         ...                                ...   \n",
       "6277        32-5          70            Michigan State Spartans   \n",
       "6278       14-19           0                          Utah Utes   \n",
       "6279       24-10           0  George Washington Revolutionaries   \n",
       "6280       13-19           0               Nebraska Cornhuskers   \n",
       "6281       17-15           0           Washington State Cougars   \n",
       "\n",
       "                           away_id  away_rank  ...           game_day  \\\n",
       "0     nd-iu-columbus-crimson-pride        NaN  ...  November 04, 2024   \n",
       "1                              232        NaN  ...  November 04, 2024   \n",
       "2       nd-unt-dallas-trailblazers        NaN  ...  November 04, 2024   \n",
       "3     nd-oglethorpe-stormy-petrels        NaN  ...  November 04, 2024   \n",
       "4             nd-lagrange-panthers        NaN  ...  November 04, 2024   \n",
       "...                            ...        ...  ...                ...   \n",
       "6277                           127        2.0  ...     March 30, 2025   \n",
       "6278                           254        NaN  ...     March 31, 2025   \n",
       "6279                            45        NaN  ...     March 31, 2025   \n",
       "6280                           158        NaN  ...     March 31, 2025   \n",
       "6281                           265        NaN  ...     March 31, 2025   \n",
       "\n",
       "         game_time          game_loc                   arena  arena_capacity  \\\n",
       "0     08:00 AM PST  Indianapolis, IN        Corteva Coliseum             NaN   \n",
       "1     09:00 AM PST   Sioux Falls, SD        Sanford Pentagon             NaN   \n",
       "2     09:00 AM PST     Arlington, TX     College Park Center             NaN   \n",
       "3     09:00 AM PST  Murfreesboro, TN           Murphy Center             NaN   \n",
       "4     09:30 AM PST  Jacksonville, AL   Pete Mathews Coliseum             NaN   \n",
       "...            ...               ...                     ...             ...   \n",
       "6277  02:05 PM PDT       Atlanta, GA        State Farm Arena             NaN   \n",
       "6278  12:00 PM PDT     Las Vegas, NV  MGM Grand Garden Arena             NaN   \n",
       "6279  02:30 PM PDT     Las Vegas, NV  MGM Grand Garden Arena             NaN   \n",
       "6280  05:30 PM PDT     Las Vegas, NV  MGM Grand Garden Arena             NaN   \n",
       "6281  08:00 PM PDT     Las Vegas, NV  MGM Grand Garden Arena             NaN   \n",
       "\n",
       "      attendance  tv_network      referee_1       referee_2         referee_3  \n",
       "0         3716.0       ESPN+  Rod Mrakovich  Martin Spencer   Adam Sensibaugh  \n",
       "1            0.0                Brad Ferrie   Antinio Petty         Ben Wolfe  \n",
       "2         1001.0       ESPN+    Doug George   Randal Anders    Trenton Chaney  \n",
       "3         7501.0       ESPN+   Kevin Mathis    James Curran      Klajdi Mulla  \n",
       "4         2055.0       ESPN+   Barry Mathis      Nick Meyer   Jeremy Trussell  \n",
       "...          ...         ...            ...             ...               ...  \n",
       "6277     16768.0         CBS      Don Daily     Ron Groover  Jeffrey Anderson  \n",
       "6278         NaN         FS1                                                   \n",
       "6279         NaN         FS1                                                   \n",
       "6280         NaN         FS1                                                   \n",
       "6281         NaN         FS1                                                   \n",
       "\n",
       "[6282 rows x 29 columns]"
      ]
     },
     "execution_count": 2,
     "metadata": {},
     "output_type": "execute_result"
    }
   ],
   "source": [
    "df_2025_game_info = df_2025[0]\n",
    "df_2025_game_info"
   ]
  },
  {
   "cell_type": "code",
   "execution_count": 3,
   "metadata": {
    "execution": {
     "iopub.execute_input": "2025-03-31T12:15:28.246247Z",
     "iopub.status.busy": "2025-03-31T12:15:28.246051Z",
     "iopub.status.idle": "2025-03-31T12:15:28.307055Z",
     "shell.execute_reply": "2025-03-31T12:15:28.306510Z"
    }
   },
   "outputs": [
    {
     "name": "stdout",
     "output_type": "stream",
     "text": [
      "Exported 6271 completed games to Completed_Games.csv\n",
      "Exported 5 upcoming games to Upcoming_Games.csv\n"
     ]
    }
   ],
   "source": [
    "# Filter games by status and export to CSV files\n",
    "\n",
    "# Get completed games (status = 'Final')\n",
    "completed_games = df_2025_game_info[df_2025_game_info['game_status'] == 'Final']\n",
    "\n",
    "# Get upcoming games (status = 'Scheduled')\n",
    "upcoming_games = df_2025_game_info[df_2025_game_info['game_status'] == 'Scheduled']\n",
    "\n",
    "# Export to CSV files\n",
    "completed_games.to_csv('Completed_Games.csv', index=False)\n",
    "upcoming_games.to_csv('Upcoming_Games.csv', index=False)\n",
    "\n",
    "# Print summary\n",
    "print(f\"Exported {len(completed_games)} completed games to Completed_Games.csv\")\n",
    "print(f\"Exported {len(upcoming_games)} upcoming games to Upcoming_Games.csv\")"
   ]
  }
 ],
 "metadata": {
  "kernelspec": {
   "display_name": "Python 3",
   "language": "python",
   "name": "python3"
  },
  "language_info": {
   "codemirror_mode": {
    "name": "ipython",
    "version": 3
   },
   "file_extension": ".py",
   "mimetype": "text/x-python",
   "name": "python",
   "nbconvert_exporter": "python",
   "pygments_lexer": "ipython3",
   "version": "3.13.2"
  }
 },
 "nbformat": 4,
 "nbformat_minor": 2
}
