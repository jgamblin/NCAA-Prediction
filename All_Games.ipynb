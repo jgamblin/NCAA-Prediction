{
 "cells": [
  {
   "cell_type": "code",
   "execution_count": 1,
   "metadata": {
    "execution": {
     "iopub.execute_input": "2025-04-19T12:05:08.708662Z",
     "iopub.status.busy": "2025-04-19T12:05:08.708488Z",
     "iopub.status.idle": "2025-04-19T12:19:19.350943Z",
     "shell.execute_reply": "2025-04-19T12:19:19.350368Z"
    }
   },
   "outputs": [
    {
     "name": "stderr",
     "output_type": "stream",
     "text": [
      "\r",
      "  0%|          | 0 of 170 days scraped in 0.0 sec"
     ]
    },
    {
     "name": "stderr",
     "output_type": "stream",
     "text": [
      "\r",
      "Scraping 0 games on 11/01/24:   0%|          | 0 of 170 days scraped in 0.4 sec"
     ]
    },
    {
     "name": "stderr",
     "output_type": "stream",
     "text": [
      "\r",
      "No games on 11/01/24:   1%|          | 1 of 170 days scraped in 0.4 sec        "
     ]
    },
    {
     "name": "stderr",
     "output_type": "stream",
     "text": [
      "\r",
      "Scraping 0 games on 11/02/24:   1%|          | 1 of 170 days scraped in 0.7 sec"
     ]
    },
    {
     "name": "stderr",
     "output_type": "stream",
     "text": [
      "\r",
      "No games on 11/02/24:   1%|          | 2 of 170 days scraped in 0.7 sec        "
     ]
    },
    {
     "name": "stderr",
     "output_type": "stream",
     "text": [
      "\r",
      "Scraping 0 games on 11/03/24:   1%|          | 2 of 170 days scraped in 1.0 sec"
     ]
    },
    {
     "name": "stderr",
     "output_type": "stream",
     "text": [
      "\r",
      "No games on 11/03/24:   2%|▏         | 3 of 170 days scraped in 1.0 sec        "
     ]
    },
    {
     "name": "stderr",
     "output_type": "stream",
     "text": [
      "\r",
      "Scraping 199 games on 11/04/24:   2%|▏         | 3 of 170 days scraped in 3.1 sec"
     ]
    },
    {
     "name": "stderr",
     "output_type": "stream",
     "text": [
      "\r",
      "Scraping 199 games on 11/04/24:   2%|▏         | 4 of 170 days scraped in 25.8 sec"
     ]
    },
    {
     "name": "stderr",
     "output_type": "stream",
     "text": [
      "\r",
      "Scraping 11 games on 11/05/24:   2%|▏         | 4 of 170 days scraped in 26.1 sec "
     ]
    },
    {
     "name": "stderr",
     "output_type": "stream",
     "text": [
      "\r",
      "Scraping 11 games on 11/05/24:   3%|▎         | 5 of 170 days scraped in 27.1 sec"
     ]
    },
    {
     "name": "stderr",
     "output_type": "stream",
     "text": [
      "\r",
      "Scraping 37 games on 11/06/24:   3%|▎         | 5 of 170 days scraped in 27.9 sec"
     ]
    },
    {
     "name": "stderr",
     "output_type": "stream",
     "text": [
      "\r",
      "Scraping 37 games on 11/06/24:   4%|▎         | 6 of 170 days scraped in 32.2 sec"
     ]
    },
    {
     "name": "stderr",
     "output_type": "stream",
     "text": [
      "\r",
      "Scraping 42 games on 11/07/24:   4%|▎         | 6 of 170 days scraped in 32.6 sec"
     ]
    },
    {
     "name": "stderr",
     "output_type": "stream",
     "text": [
      "\r",
      "Scraping 42 games on 11/07/24:   4%|▍         | 7 of 170 days scraped in 37.2 sec"
     ]
    },
    {
     "name": "stderr",
     "output_type": "stream",
     "text": [
      "\r",
      "Scraping 80 games on 11/08/24:   4%|▍         | 7 of 170 days scraped in 38.2 sec"
     ]
    },
    {
     "name": "stderr",
     "output_type": "stream",
     "text": [
      "\r",
      "Scraping 80 games on 11/08/24:   5%|▍         | 8 of 170 days scraped in 47.2 sec"
     ]
    },
    {
     "name": "stderr",
     "output_type": "stream",
     "text": [
      "\r",
      "Scraping 64 games on 11/09/24:   5%|▍         | 8 of 170 days scraped in 47.8 sec"
     ]
    },
    {
     "name": "stderr",
     "output_type": "stream",
     "text": [
      "\r",
      "Scraping 64 games on 11/09/24:   5%|▌         | 9 of 170 days scraped in 54.9 sec"
     ]
    },
    {
     "name": "stderr",
     "output_type": "stream",
     "text": [
      "\r",
      "Scraping 29 games on 11/10/24:   5%|▌         | 9 of 170 days scraped in 55.3 sec"
     ]
    },
    {
     "name": "stderr",
     "output_type": "stream",
     "text": [
      "\r",
      "Scraping 29 games on 11/10/24:   6%|▌         | 10 of 170 days scraped in 59.2 sec"
     ]
    },
    {
     "name": "stderr",
     "output_type": "stream",
     "text": [
      "\r",
      "Scraping 42 games on 11/11/24:   6%|▌         | 10 of 170 days scraped in 59.9 sec"
     ]
    },
    {
     "name": "stderr",
     "output_type": "stream",
     "text": [
      "\r",
      "Scraping 42 games on 11/11/24:   6%|▋         | 11 of 170 days scraped in 64.5 sec"
     ]
    },
    {
     "name": "stderr",
     "output_type": "stream",
     "text": [
      "\r",
      "Scraping 79 games on 11/12/24:   6%|▋         | 11 of 170 days scraped in 65.4 sec"
     ]
    },
    {
     "name": "stderr",
     "output_type": "stream",
     "text": [
      "\r",
      "Scraping 79 games on 11/12/24:   7%|▋         | 12 of 170 days scraped in 73.8 sec"
     ]
    },
    {
     "name": "stderr",
     "output_type": "stream",
     "text": [
      "\r",
      "Scraping 55 games on 11/13/24:   7%|▋         | 12 of 170 days scraped in 74.9 sec"
     ]
    },
    {
     "name": "stderr",
     "output_type": "stream",
     "text": [
      "\r",
      "Scraping 55 games on 11/13/24:   8%|▊         | 13 of 170 days scraped in 81.4 sec"
     ]
    },
    {
     "name": "stderr",
     "output_type": "stream",
     "text": [
      "\r",
      "Scraping 26 games on 11/14/24:   8%|▊         | 13 of 170 days scraped in 81.8 sec"
     ]
    },
    {
     "name": "stderr",
     "output_type": "stream",
     "text": [
      "\r",
      "Scraping 26 games on 11/14/24:   8%|▊         | 14 of 170 days scraped in 84.6 sec"
     ]
    },
    {
     "name": "stderr",
     "output_type": "stream",
     "text": [
      "\r",
      "Scraping 50 games on 11/15/24:   8%|▊         | 14 of 170 days scraped in 85.2 sec"
     ]
    },
    {
     "name": "stderr",
     "output_type": "stream",
     "text": [
      "\r",
      "Scraping 50 games on 11/15/24:   9%|▉         | 15 of 170 days scraped in 91.4 sec"
     ]
    },
    {
     "name": "stderr",
     "output_type": "stream",
     "text": [
      "\r",
      "Scraping 82 games on 11/16/24:   9%|▉         | 15 of 170 days scraped in 92.2 sec"
     ]
    },
    {
     "name": "stderr",
     "output_type": "stream",
     "text": [
      "\r",
      "Scraping 82 games on 11/16/24:   9%|▉         | 16 of 170 days scraped in 102.6 sec"
     ]
    },
    {
     "name": "stderr",
     "output_type": "stream",
     "text": [
      "\r",
      "Scraping 36 games on 11/17/24:   9%|▉         | 16 of 170 days scraped in 103.1 sec"
     ]
    },
    {
     "name": "stderr",
     "output_type": "stream",
     "text": [
      "\r",
      "Scraping 36 games on 11/17/24:  10%|█         | 17 of 170 days scraped in 107.3 sec"
     ]
    },
    {
     "name": "stderr",
     "output_type": "stream",
     "text": [
      "\r",
      "Scraping 31 games on 11/18/24:  10%|█         | 17 of 170 days scraped in 107.8 sec"
     ]
    },
    {
     "name": "stderr",
     "output_type": "stream",
     "text": [
      "\r",
      "Scraping 31 games on 11/18/24:  11%|█         | 18 of 170 days scraped in 111.5 sec"
     ]
    },
    {
     "name": "stderr",
     "output_type": "stream",
     "text": [
      "\r",
      "Scraping 54 games on 11/19/24:  11%|█         | 18 of 170 days scraped in 112.4 sec"
     ]
    },
    {
     "name": "stderr",
     "output_type": "stream",
     "text": [
      "\r",
      "Scraping 54 games on 11/19/24:  11%|█         | 19 of 170 days scraped in 118.4 sec"
     ]
    },
    {
     "name": "stderr",
     "output_type": "stream",
     "text": [
      "\r",
      "Scraping 47 games on 11/20/24:  11%|█         | 19 of 170 days scraped in 118.9 sec"
     ]
    },
    {
     "name": "stderr",
     "output_type": "stream",
     "text": [
      "\r",
      "Scraping 47 games on 11/20/24:  12%|█▏        | 20 of 170 days scraped in 124.6 sec"
     ]
    },
    {
     "name": "stderr",
     "output_type": "stream",
     "text": [
      "\r",
      "Scraping 44 games on 11/21/24:  12%|█▏        | 20 of 170 days scraped in 125.1 sec"
     ]
    },
    {
     "name": "stderr",
     "output_type": "stream",
     "text": [
      "\r",
      "Scraping 44 games on 11/21/24:  12%|█▏        | 21 of 170 days scraped in 129.9 sec"
     ]
    },
    {
     "name": "stderr",
     "output_type": "stream",
     "text": [
      "\r",
      "Scraping 82 games on 11/22/24:  12%|█▏        | 21 of 170 days scraped in 130.8 sec"
     ]
    },
    {
     "name": "stderr",
     "output_type": "stream",
     "text": [
      "\r",
      "Scraping 82 games on 11/22/24:  13%|█▎        | 22 of 170 days scraped in 140.3 sec"
     ]
    },
    {
     "name": "stderr",
     "output_type": "stream",
     "text": [
      "\r",
      "Scraping 56 games on 11/23/24:  13%|█▎        | 22 of 170 days scraped in 140.9 sec"
     ]
    },
    {
     "name": "stderr",
     "output_type": "stream",
     "text": [
      "\r",
      "Scraping 56 games on 11/23/24:  14%|█▎        | 23 of 170 days scraped in 146.7 sec"
     ]
    },
    {
     "name": "stderr",
     "output_type": "stream",
     "text": [
      "\r",
      "Scraping 54 games on 11/24/24:  14%|█▎        | 23 of 170 days scraped in 147.3 sec"
     ]
    },
    {
     "name": "stderr",
     "output_type": "stream",
     "text": [
      "\r",
      "Scraping 54 games on 11/24/24:  14%|█▍        | 24 of 170 days scraped in 154.2 sec"
     ]
    },
    {
     "name": "stderr",
     "output_type": "stream",
     "text": [
      "\r",
      "Scraping 57 games on 11/25/24:  14%|█▍        | 24 of 170 days scraped in 155.1 sec"
     ]
    },
    {
     "name": "stderr",
     "output_type": "stream",
     "text": [
      "\r",
      "Scraping 57 games on 11/25/24:  15%|█▍        | 25 of 170 days scraped in 162.1 sec"
     ]
    },
    {
     "name": "stderr",
     "output_type": "stream",
     "text": [
      "\r",
      "Scraping 64 games on 11/26/24:  15%|█▍        | 25 of 170 days scraped in 162.8 sec"
     ]
    },
    {
     "name": "stderr",
     "output_type": "stream",
     "text": [
      "\r",
      "Scraping 64 games on 11/26/24:  15%|█▌        | 26 of 170 days scraped in 170.1 sec"
     ]
    },
    {
     "name": "stderr",
     "output_type": "stream",
     "text": [
      "\r",
      "Scraping 70 games on 11/27/24:  15%|█▌        | 26 of 170 days scraped in 170.9 sec"
     ]
    },
    {
     "name": "stderr",
     "output_type": "stream",
     "text": [
      "\r",
      "Scraping 70 games on 11/27/24:  16%|█▌        | 27 of 170 days scraped in 179.0 sec"
     ]
    },
    {
     "name": "stderr",
     "output_type": "stream",
     "text": [
      "\r",
      "Scraping 21 games on 11/28/24:  16%|█▌        | 27 of 170 days scraped in 179.3 sec"
     ]
    },
    {
     "name": "stderr",
     "output_type": "stream",
     "text": [
      "\r",
      "Scraping 21 games on 11/28/24:  16%|█▋        | 28 of 170 days scraped in 181.6 sec"
     ]
    },
    {
     "name": "stderr",
     "output_type": "stream",
     "text": [
      "\r",
      "Scraping 56 games on 11/29/24:  16%|█▋        | 28 of 170 days scraped in 182.6 sec"
     ]
    },
    {
     "name": "stderr",
     "output_type": "stream",
     "text": [
      "\r",
      "Scraping 56 games on 11/29/24:  17%|█▋        | 29 of 170 days scraped in 188.6 sec"
     ]
    },
    {
     "name": "stderr",
     "output_type": "stream",
     "text": [
      "\r",
      "Scraping 68 games on 11/30/24:  17%|█▋        | 29 of 170 days scraped in 189.3 sec"
     ]
    },
    {
     "name": "stderr",
     "output_type": "stream",
     "text": [
      "\r",
      "Scraping 68 games on 11/30/24:  18%|█▊        | 30 of 170 days scraped in 197.4 sec"
     ]
    },
    {
     "name": "stderr",
     "output_type": "stream",
     "text": [
      "\r",
      "Scraping 34 games on 12/01/24:  18%|█▊        | 30 of 170 days scraped in 197.8 sec"
     ]
    },
    {
     "name": "stderr",
     "output_type": "stream",
     "text": [
      "\r",
      "Scraping 34 games on 12/01/24:  18%|█▊        | 31 of 170 days scraped in 201.4 sec"
     ]
    },
    {
     "name": "stderr",
     "output_type": "stream",
     "text": [
      "\r",
      "Scraping 16 games on 12/02/24:  18%|█▊        | 31 of 170 days scraped in 201.7 sec"
     ]
    },
    {
     "name": "stderr",
     "output_type": "stream",
     "text": [
      "\r",
      "Scraping 16 games on 12/02/24:  19%|█▉        | 32 of 170 days scraped in 203.9 sec"
     ]
    },
    {
     "name": "stderr",
     "output_type": "stream",
     "text": [
      "\r",
      "Scraping 56 games on 12/03/24:  19%|█▉        | 32 of 170 days scraped in 204.9 sec"
     ]
    },
    {
     "name": "stderr",
     "output_type": "stream",
     "text": [
      "\r",
      "Scraping 56 games on 12/03/24:  19%|█▉        | 33 of 170 days scraped in 210.9 sec"
     ]
    },
    {
     "name": "stderr",
     "output_type": "stream",
     "text": [
      "\r",
      "Scraping 67 games on 12/04/24:  19%|█▉        | 33 of 170 days scraped in 211.6 sec"
     ]
    },
    {
     "name": "stderr",
     "output_type": "stream",
     "text": [
      "\r",
      "Scraping 67 games on 12/04/24:  20%|██        | 34 of 170 days scraped in 220.3 sec"
     ]
    },
    {
     "name": "stderr",
     "output_type": "stream",
     "text": [
      "\r",
      "Scraping 26 games on 12/05/24:  20%|██        | 34 of 170 days scraped in 220.8 sec"
     ]
    },
    {
     "name": "stderr",
     "output_type": "stream",
     "text": [
      "\r",
      "Scraping 26 games on 12/05/24:  21%|██        | 35 of 170 days scraped in 223.6 sec"
     ]
    },
    {
     "name": "stderr",
     "output_type": "stream",
     "text": [
      "\r",
      "Scraping 22 games on 12/06/24:  21%|██        | 35 of 170 days scraped in 224.2 sec"
     ]
    },
    {
     "name": "stderr",
     "output_type": "stream",
     "text": [
      "\r",
      "Scraping 22 games on 12/06/24:  21%|██        | 36 of 170 days scraped in 226.6 sec"
     ]
    },
    {
     "name": "stderr",
     "output_type": "stream",
     "text": [
      "\r",
      "Scraping 108 games on 12/07/24:  21%|██        | 36 of 170 days scraped in 228.0 sec"
     ]
    },
    {
     "name": "stderr",
     "output_type": "stream",
     "text": [
      "\r",
      "Scraping 108 games on 12/07/24:  22%|██▏       | 37 of 170 days scraped in 240.0 sec"
     ]
    },
    {
     "name": "stderr",
     "output_type": "stream",
     "text": [
      "\r",
      "Scraping 39 games on 12/08/24:  22%|██▏       | 37 of 170 days scraped in 240.9 sec "
     ]
    },
    {
     "name": "stderr",
     "output_type": "stream",
     "text": [
      "\r",
      "Scraping 39 games on 12/08/24:  22%|██▏       | 38 of 170 days scraped in 246.0 sec"
     ]
    },
    {
     "name": "stderr",
     "output_type": "stream",
     "text": [
      "\r",
      "Scraping 8 games on 12/09/24:  22%|██▏       | 38 of 170 days scraped in 246.6 sec "
     ]
    },
    {
     "name": "stderr",
     "output_type": "stream",
     "text": [
      "\r",
      "Scraping 8 games on 12/09/24:  23%|██▎       | 39 of 170 days scraped in 247.7 sec"
     ]
    },
    {
     "name": "stderr",
     "output_type": "stream",
     "text": [
      "\r",
      "Scraping 37 games on 12/10/24:  23%|██▎       | 39 of 170 days scraped in 248.2 sec"
     ]
    },
    {
     "name": "stderr",
     "output_type": "stream",
     "text": [
      "\r",
      "Scraping 37 games on 12/10/24:  24%|██▎       | 40 of 170 days scraped in 252.3 sec"
     ]
    },
    {
     "name": "stderr",
     "output_type": "stream",
     "text": [
      "\r",
      "Scraping 28 games on 12/11/24:  24%|██▎       | 40 of 170 days scraped in 253.1 sec"
     ]
    },
    {
     "name": "stderr",
     "output_type": "stream",
     "text": [
      "\r",
      "Scraping 28 games on 12/11/24:  24%|██▍       | 41 of 170 days scraped in 257.2 sec"
     ]
    },
    {
     "name": "stderr",
     "output_type": "stream",
     "text": [
      "\r",
      "Scraping 10 games on 12/12/24:  24%|██▍       | 41 of 170 days scraped in 257.8 sec"
     ]
    },
    {
     "name": "stderr",
     "output_type": "stream",
     "text": [
      "\r",
      "Scraping 10 games on 12/12/24:  25%|██▍       | 42 of 170 days scraped in 259.4 sec"
     ]
    },
    {
     "name": "stderr",
     "output_type": "stream",
     "text": [
      "\r",
      "Scraping 10 games on 12/13/24:  25%|██▍       | 42 of 170 days scraped in 259.7 sec"
     ]
    },
    {
     "name": "stderr",
     "output_type": "stream",
     "text": [
      "\r",
      "Scraping 10 games on 12/13/24:  25%|██▌       | 43 of 170 days scraped in 260.7 sec"
     ]
    },
    {
     "name": "stderr",
     "output_type": "stream",
     "text": [
      "\r",
      "Scraping 97 games on 12/14/24:  25%|██▌       | 43 of 170 days scraped in 262.0 sec"
     ]
    },
    {
     "name": "stderr",
     "output_type": "stream",
     "text": [
      "\r",
      "Scraping 97 games on 12/14/24:  26%|██▌       | 44 of 170 days scraped in 272.3 sec"
     ]
    },
    {
     "name": "stderr",
     "output_type": "stream",
     "text": [
      "\r",
      "Scraping 40 games on 12/15/24:  26%|██▌       | 44 of 170 days scraped in 272.9 sec"
     ]
    },
    {
     "name": "stderr",
     "output_type": "stream",
     "text": [
      "\r",
      "Scraping 40 games on 12/15/24:  26%|██▋       | 45 of 170 days scraped in 278.0 sec"
     ]
    },
    {
     "name": "stderr",
     "output_type": "stream",
     "text": [
      "\r",
      "Scraping 18 games on 12/16/24:  26%|██▋       | 45 of 170 days scraped in 278.5 sec"
     ]
    },
    {
     "name": "stderr",
     "output_type": "stream",
     "text": [
      "\r",
      "Scraping 18 games on 12/16/24:  27%|██▋       | 46 of 170 days scraped in 280.7 sec"
     ]
    },
    {
     "name": "stderr",
     "output_type": "stream",
     "text": [
      "\r",
      "Scraping 48 games on 12/17/24:  27%|██▋       | 46 of 170 days scraped in 281.5 sec"
     ]
    },
    {
     "name": "stderr",
     "output_type": "stream",
     "text": [
      "\r",
      "Scraping 48 games on 12/17/24:  28%|██▊       | 47 of 170 days scraped in 286.9 sec"
     ]
    },
    {
     "name": "stderr",
     "output_type": "stream",
     "text": [
      "\r",
      "Scraping 64 games on 12/18/24:  28%|██▊       | 47 of 170 days scraped in 287.6 sec"
     ]
    },
    {
     "name": "stderr",
     "output_type": "stream",
     "text": [
      "\r",
      "Scraping 64 games on 12/18/24:  28%|██▊       | 48 of 170 days scraped in 294.0 sec"
     ]
    },
    {
     "name": "stderr",
     "output_type": "stream",
     "text": [
      "\r",
      "Scraping 26 games on 12/19/24:  28%|██▊       | 48 of 170 days scraped in 294.4 sec"
     ]
    },
    {
     "name": "stderr",
     "output_type": "stream",
     "text": [
      "\r",
      "Scraping 26 games on 12/19/24:  29%|██▉       | 49 of 170 days scraped in 297.6 sec"
     ]
    },
    {
     "name": "stderr",
     "output_type": "stream",
     "text": [
      "\r",
      "Scraping 23 games on 12/20/24:  29%|██▉       | 49 of 170 days scraped in 298.1 sec"
     ]
    },
    {
     "name": "stderr",
     "output_type": "stream",
     "text": [
      "\r",
      "Scraping 23 games on 12/20/24:  29%|██▉       | 50 of 170 days scraped in 301.0 sec"
     ]
    },
    {
     "name": "stderr",
     "output_type": "stream",
     "text": [
      "\r",
      "Scraping 114 games on 12/21/24:  29%|██▉       | 50 of 170 days scraped in 302.1 sec"
     ]
    },
    {
     "name": "stderr",
     "output_type": "stream",
     "text": [
      "\r",
      "Scraping 114 games on 12/21/24:  30%|███       | 51 of 170 days scraped in 315.1 sec"
     ]
    },
    {
     "name": "stderr",
     "output_type": "stream",
     "text": [
      "\r",
      "Scraping 48 games on 12/22/24:  30%|███       | 51 of 170 days scraped in 315.9 sec "
     ]
    },
    {
     "name": "stderr",
     "output_type": "stream",
     "text": [
      "\r",
      "Scraping 48 games on 12/22/24:  31%|███       | 52 of 170 days scraped in 321.8 sec"
     ]
    },
    {
     "name": "stderr",
     "output_type": "stream",
     "text": [
      "\r",
      "Scraping 9 games on 12/23/24:  31%|███       | 52 of 170 days scraped in 322.0 sec "
     ]
    },
    {
     "name": "stderr",
     "output_type": "stream",
     "text": [
      "\r",
      "Scraping 9 games on 12/23/24:  31%|███       | 53 of 170 days scraped in 323.4 sec"
     ]
    },
    {
     "name": "stderr",
     "output_type": "stream",
     "text": [
      "\r",
      "Scraping 0 games on 12/24/24:  31%|███       | 53 of 170 days scraped in 323.6 sec"
     ]
    },
    {
     "name": "stderr",
     "output_type": "stream",
     "text": [
      "\r",
      "No games on 12/24/24:  32%|███▏      | 54 of 170 days scraped in 323.6 sec        "
     ]
    },
    {
     "name": "stderr",
     "output_type": "stream",
     "text": [
      "\r",
      "Scraping 4 games on 12/25/24:  32%|███▏      | 54 of 170 days scraped in 323.9 sec"
     ]
    },
    {
     "name": "stderr",
     "output_type": "stream",
     "text": [
      "\r",
      "Scraping 4 games on 12/25/24:  32%|███▏      | 55 of 170 days scraped in 324.5 sec"
     ]
    },
    {
     "name": "stderr",
     "output_type": "stream",
     "text": [
      "\r",
      "Scraping 0 games on 12/26/24:  32%|███▏      | 55 of 170 days scraped in 324.8 sec"
     ]
    },
    {
     "name": "stderr",
     "output_type": "stream",
     "text": [
      "\r",
      "No games on 12/26/24:  33%|███▎      | 56 of 170 days scraped in 324.8 sec        "
     ]
    },
    {
     "name": "stderr",
     "output_type": "stream",
     "text": [
      "\r",
      "Scraping 2 games on 12/27/24:  33%|███▎      | 56 of 170 days scraped in 325.0 sec"
     ]
    },
    {
     "name": "stderr",
     "output_type": "stream",
     "text": [
      "\r",
      "Scraping 2 games on 12/27/24:  34%|███▎      | 57 of 170 days scraped in 325.3 sec"
     ]
    },
    {
     "name": "stderr",
     "output_type": "stream",
     "text": [
      "\r",
      "Scraping 53 games on 12/28/24:  34%|███▎      | 57 of 170 days scraped in 326.0 sec"
     ]
    },
    {
     "name": "stderr",
     "output_type": "stream",
     "text": [
      "\r",
      "Scraping 53 games on 12/28/24:  34%|███▍      | 58 of 170 days scraped in 331.7 sec"
     ]
    },
    {
     "name": "stderr",
     "output_type": "stream",
     "text": [
      "\r",
      "Scraping 60 games on 12/29/24:  34%|███▍      | 58 of 170 days scraped in 332.6 sec"
     ]
    },
    {
     "name": "stderr",
     "output_type": "stream",
     "text": [
      "\r",
      "Scraping 60 games on 12/29/24:  35%|███▍      | 59 of 170 days scraped in 339.4 sec"
     ]
    },
    {
     "name": "stderr",
     "output_type": "stream",
     "text": [
      "\r",
      "Scraping 43 games on 12/30/24:  35%|███▍      | 59 of 170 days scraped in 340.1 sec"
     ]
    },
    {
     "name": "stderr",
     "output_type": "stream",
     "text": [
      "\r",
      "Scraping 43 games on 12/30/24:  35%|███▌      | 60 of 170 days scraped in 344.8 sec"
     ]
    },
    {
     "name": "stderr",
     "output_type": "stream",
     "text": [
      "\r",
      "Scraping 33 games on 12/31/24:  35%|███▌      | 60 of 170 days scraped in 345.6 sec"
     ]
    },
    {
     "name": "stderr",
     "output_type": "stream",
     "text": [
      "\r",
      "Scraping 33 games on 12/31/24:  36%|███▌      | 61 of 170 days scraped in 349.0 sec"
     ]
    },
    {
     "name": "stderr",
     "output_type": "stream",
     "text": [
      "\r",
      "Scraping 21 games on 01/01/25:  36%|███▌      | 61 of 170 days scraped in 349.5 sec"
     ]
    },
    {
     "name": "stderr",
     "output_type": "stream",
     "text": [
      "\r",
      "Scraping 21 games on 01/01/25:  36%|███▋      | 62 of 170 days scraped in 351.8 sec"
     ]
    },
    {
     "name": "stderr",
     "output_type": "stream",
     "text": [
      "\r",
      "Scraping 66 games on 01/02/25:  36%|███▋      | 62 of 170 days scraped in 352.6 sec"
     ]
    },
    {
     "name": "stderr",
     "output_type": "stream",
     "text": [
      "\r",
      "Scraping 66 games on 01/02/25:  37%|███▋      | 63 of 170 days scraped in 359.7 sec"
     ]
    },
    {
     "name": "stderr",
     "output_type": "stream",
     "text": [
      "\r",
      "Scraping 16 games on 01/03/25:  37%|███▋      | 63 of 170 days scraped in 360.0 sec"
     ]
    },
    {
     "name": "stderr",
     "output_type": "stream",
     "text": [
      "\r",
      "Scraping 16 games on 01/03/25:  38%|███▊      | 64 of 170 days scraped in 361.9 sec"
     ]
    },
    {
     "name": "stderr",
     "output_type": "stream",
     "text": [
      "\r",
      "Scraping 139 games on 01/04/25:  38%|███▊      | 64 of 170 days scraped in 363.2 sec"
     ]
    },
    {
     "name": "stderr",
     "output_type": "stream",
     "text": [
      "\r",
      "Scraping 139 games on 01/04/25:  38%|███▊      | 65 of 170 days scraped in 385.4 sec"
     ]
    },
    {
     "name": "stderr",
     "output_type": "stream",
     "text": [
      "\r",
      "Scraping 27 games on 01/05/25:  38%|███▊      | 65 of 170 days scraped in 385.8 sec "
     ]
    },
    {
     "name": "stderr",
     "output_type": "stream",
     "text": [
      "\r",
      "Scraping 27 games on 01/05/25:  39%|███▉      | 66 of 170 days scraped in 390.0 sec"
     ]
    },
    {
     "name": "stderr",
     "output_type": "stream",
     "text": [
      "\r",
      "Scraping 16 games on 01/06/25:  39%|███▉      | 66 of 170 days scraped in 390.9 sec"
     ]
    },
    {
     "name": "stderr",
     "output_type": "stream",
     "text": [
      "\r",
      "Scraping 16 games on 01/06/25:  39%|███▉      | 67 of 170 days scraped in 393.2 sec"
     ]
    },
    {
     "name": "stderr",
     "output_type": "stream",
     "text": [
      "\r",
      "Scraping 34 games on 01/07/25:  39%|███▉      | 67 of 170 days scraped in 394.2 sec"
     ]
    },
    {
     "name": "stderr",
     "output_type": "stream",
     "text": [
      "\r",
      "Scraping 34 games on 01/07/25:  40%|████      | 68 of 170 days scraped in 398.9 sec"
     ]
    },
    {
     "name": "stderr",
     "output_type": "stream",
     "text": [
      "\r",
      "Scraping 50 games on 01/08/25:  40%|████      | 68 of 170 days scraped in 400.0 sec"
     ]
    },
    {
     "name": "stderr",
     "output_type": "stream",
     "text": [
      "\r",
      "Scraping 50 games on 01/08/25:  41%|████      | 69 of 170 days scraped in 407.8 sec"
     ]
    },
    {
     "name": "stderr",
     "output_type": "stream",
     "text": [
      "\r",
      "Scraping 55 games on 01/09/25:  41%|████      | 69 of 170 days scraped in 408.5 sec"
     ]
    },
    {
     "name": "stderr",
     "output_type": "stream",
     "text": [
      "\r",
      "Scraping 55 games on 01/09/25:  41%|████      | 70 of 170 days scraped in 417.1 sec"
     ]
    },
    {
     "name": "stderr",
     "output_type": "stream",
     "text": [
      "\r",
      "Scraping 14 games on 01/10/25:  41%|████      | 70 of 170 days scraped in 417.5 sec"
     ]
    },
    {
     "name": "stderr",
     "output_type": "stream",
     "text": [
      "\r",
      "Scraping 14 games on 01/10/25:  42%|████▏     | 71 of 170 days scraped in 419.6 sec"
     ]
    },
    {
     "name": "stderr",
     "output_type": "stream",
     "text": [
      "\r",
      "Scraping 144 games on 01/11/25:  42%|████▏     | 71 of 170 days scraped in 421.4 sec"
     ]
    },
    {
     "name": "stderr",
     "output_type": "stream",
     "text": [
      "\r",
      "Scraping 144 games on 01/11/25:  42%|████▏     | 72 of 170 days scraped in 437.5 sec"
     ]
    },
    {
     "name": "stderr",
     "output_type": "stream",
     "text": [
      "\r",
      "Scraping 21 games on 01/12/25:  42%|████▏     | 72 of 170 days scraped in 437.9 sec "
     ]
    },
    {
     "name": "stderr",
     "output_type": "stream",
     "text": [
      "\r",
      "Scraping 21 games on 01/12/25:  43%|████▎     | 73 of 170 days scraped in 440.4 sec"
     ]
    },
    {
     "name": "stderr",
     "output_type": "stream",
     "text": [
      "\r",
      "Scraping 22 games on 01/13/25:  43%|████▎     | 73 of 170 days scraped in 440.8 sec"
     ]
    },
    {
     "name": "stderr",
     "output_type": "stream",
     "text": [
      "\r",
      "Scraping 22 games on 01/13/25:  44%|████▎     | 74 of 170 days scraped in 443.4 sec"
     ]
    },
    {
     "name": "stderr",
     "output_type": "stream",
     "text": [
      "\r",
      "Scraping 36 games on 01/14/25:  44%|████▎     | 74 of 170 days scraped in 443.9 sec"
     ]
    },
    {
     "name": "stderr",
     "output_type": "stream",
     "text": [
      "\r",
      "Scraping 36 games on 01/14/25:  44%|████▍     | 75 of 170 days scraped in 447.8 sec"
     ]
    },
    {
     "name": "stderr",
     "output_type": "stream",
     "text": [
      "\r",
      "Scraping 48 games on 01/15/25:  44%|████▍     | 75 of 170 days scraped in 448.5 sec"
     ]
    },
    {
     "name": "stderr",
     "output_type": "stream",
     "text": [
      "\r",
      "Scraping 48 games on 01/15/25:  45%|████▍     | 76 of 170 days scraped in 454.0 sec"
     ]
    },
    {
     "name": "stderr",
     "output_type": "stream",
     "text": [
      "\r",
      "Scraping 63 games on 01/16/25:  45%|████▍     | 76 of 170 days scraped in 454.9 sec"
     ]
    },
    {
     "name": "stderr",
     "output_type": "stream",
     "text": [
      "\r",
      "Scraping 63 games on 01/16/25:  45%|████▌     | 77 of 170 days scraped in 461.6 sec"
     ]
    },
    {
     "name": "stderr",
     "output_type": "stream",
     "text": [
      "\r",
      "Scraping 10 games on 01/17/25:  45%|████▌     | 77 of 170 days scraped in 462.0 sec"
     ]
    },
    {
     "name": "stderr",
     "output_type": "stream",
     "text": [
      "\r",
      "Scraping 10 games on 01/17/25:  46%|████▌     | 78 of 170 days scraped in 463.2 sec"
     ]
    },
    {
     "name": "stderr",
     "output_type": "stream",
     "text": [
      "\r",
      "Scraping 148 games on 01/18/25:  46%|████▌     | 78 of 170 days scraped in 464.3 sec"
     ]
    },
    {
     "name": "stderr",
     "output_type": "stream",
     "text": [
      "\r",
      "Scraping 148 games on 01/18/25:  46%|████▋     | 79 of 170 days scraped in 480.6 sec"
     ]
    },
    {
     "name": "stderr",
     "output_type": "stream",
     "text": [
      "\r",
      "Scraping 11 games on 01/19/25:  46%|████▋     | 79 of 170 days scraped in 481.0 sec "
     ]
    },
    {
     "name": "stderr",
     "output_type": "stream",
     "text": [
      "\r",
      "Scraping 11 games on 01/19/25:  47%|████▋     | 80 of 170 days scraped in 482.3 sec"
     ]
    },
    {
     "name": "stderr",
     "output_type": "stream",
     "text": [
      "\r",
      "Scraping 29 games on 01/20/25:  47%|████▋     | 80 of 170 days scraped in 482.7 sec"
     ]
    },
    {
     "name": "stderr",
     "output_type": "stream",
     "text": [
      "\r",
      "Scraping 29 games on 01/20/25:  48%|████▊     | 81 of 170 days scraped in 485.9 sec"
     ]
    },
    {
     "name": "stderr",
     "output_type": "stream",
     "text": [
      "\r",
      "Scraping 35 games on 01/21/25:  48%|████▊     | 81 of 170 days scraped in 486.7 sec"
     ]
    },
    {
     "name": "stderr",
     "output_type": "stream",
     "text": [
      "\r",
      "Scraping 35 games on 01/21/25:  48%|████▊     | 82 of 170 days scraped in 490.9 sec"
     ]
    },
    {
     "name": "stderr",
     "output_type": "stream",
     "text": [
      "\r",
      "Scraping 42 games on 01/22/25:  48%|████▊     | 82 of 170 days scraped in 491.7 sec"
     ]
    },
    {
     "name": "stderr",
     "output_type": "stream",
     "text": [
      "\r",
      "Scraping 42 games on 01/22/25:  49%|████▉     | 83 of 170 days scraped in 496.4 sec"
     ]
    },
    {
     "name": "stderr",
     "output_type": "stream",
     "text": [
      "\r",
      "Scraping 61 games on 01/23/25:  49%|████▉     | 83 of 170 days scraped in 497.4 sec"
     ]
    },
    {
     "name": "stderr",
     "output_type": "stream",
     "text": [
      "\r",
      "Scraping 61 games on 01/23/25:  49%|████▉     | 84 of 170 days scraped in 504.6 sec"
     ]
    },
    {
     "name": "stderr",
     "output_type": "stream",
     "text": [
      "\r",
      "Scraping 14 games on 01/24/25:  49%|████▉     | 84 of 170 days scraped in 504.9 sec"
     ]
    },
    {
     "name": "stderr",
     "output_type": "stream",
     "text": [
      "\r",
      "Scraping 14 games on 01/24/25:  50%|█████     | 85 of 170 days scraped in 506.6 sec"
     ]
    },
    {
     "name": "stderr",
     "output_type": "stream",
     "text": [
      "\r",
      "Scraping 149 games on 01/25/25:  50%|█████     | 85 of 170 days scraped in 508.1 sec"
     ]
    },
    {
     "name": "stderr",
     "output_type": "stream",
     "text": [
      "\r",
      "Scraping 149 games on 01/25/25:  51%|█████     | 86 of 170 days scraped in 524.8 sec"
     ]
    },
    {
     "name": "stderr",
     "output_type": "stream",
     "text": [
      "\r",
      "Scraping 13 games on 01/26/25:  51%|█████     | 86 of 170 days scraped in 525.6 sec "
     ]
    },
    {
     "name": "stderr",
     "output_type": "stream",
     "text": [
      "\r",
      "Scraping 13 games on 01/26/25:  51%|█████     | 87 of 170 days scraped in 527.0 sec"
     ]
    },
    {
     "name": "stderr",
     "output_type": "stream",
     "text": [
      "\r",
      "Scraping 22 games on 01/27/25:  51%|█████     | 87 of 170 days scraped in 527.5 sec"
     ]
    },
    {
     "name": "stderr",
     "output_type": "stream",
     "text": [
      "\r",
      "Scraping 22 games on 01/27/25:  52%|█████▏    | 88 of 170 days scraped in 529.9 sec"
     ]
    },
    {
     "name": "stderr",
     "output_type": "stream",
     "text": [
      "\r",
      "Scraping 29 games on 01/28/25:  52%|█████▏    | 88 of 170 days scraped in 530.6 sec"
     ]
    },
    {
     "name": "stderr",
     "output_type": "stream",
     "text": [
      "\r",
      "Scraping 29 games on 01/28/25:  52%|█████▏    | 89 of 170 days scraped in 534.1 sec"
     ]
    },
    {
     "name": "stderr",
     "output_type": "stream",
     "text": [
      "\r",
      "Scraping 52 games on 01/29/25:  52%|█████▏    | 89 of 170 days scraped in 534.7 sec"
     ]
    },
    {
     "name": "stderr",
     "output_type": "stream",
     "text": [
      "\r",
      "Scraping 52 games on 01/29/25:  53%|█████▎    | 90 of 170 days scraped in 541.1 sec"
     ]
    },
    {
     "name": "stderr",
     "output_type": "stream",
     "text": [
      "\r",
      "Scraping 58 games on 01/30/25:  53%|█████▎    | 90 of 170 days scraped in 541.9 sec"
     ]
    },
    {
     "name": "stderr",
     "output_type": "stream",
     "text": [
      "\r",
      "Scraping 58 games on 01/30/25:  54%|█████▎    | 91 of 170 days scraped in 548.5 sec"
     ]
    },
    {
     "name": "stderr",
     "output_type": "stream",
     "text": [
      "\r",
      "Scraping 14 games on 01/31/25:  54%|█████▎    | 91 of 170 days scraped in 548.9 sec"
     ]
    },
    {
     "name": "stderr",
     "output_type": "stream",
     "text": [
      "\r",
      "Scraping 14 games on 01/31/25:  54%|█████▍    | 92 of 170 days scraped in 550.5 sec"
     ]
    },
    {
     "name": "stderr",
     "output_type": "stream",
     "text": [
      "\r",
      "Scraping 146 games on 02/01/25:  54%|█████▍    | 92 of 170 days scraped in 552.0 sec"
     ]
    },
    {
     "name": "stderr",
     "output_type": "stream",
     "text": [
      "\r",
      "Scraping 146 games on 02/01/25:  55%|█████▍    | 93 of 170 days scraped in 569.1 sec"
     ]
    },
    {
     "name": "stderr",
     "output_type": "stream",
     "text": [
      "\r",
      "Scraping 19 games on 02/02/25:  55%|█████▍    | 93 of 170 days scraped in 569.5 sec "
     ]
    },
    {
     "name": "stderr",
     "output_type": "stream",
     "text": [
      "\r",
      "Scraping 19 games on 02/02/25:  55%|█████▌    | 94 of 170 days scraped in 572.5 sec"
     ]
    },
    {
     "name": "stderr",
     "output_type": "stream",
     "text": [
      "\r",
      "Scraping 21 games on 02/03/25:  55%|█████▌    | 94 of 170 days scraped in 572.8 sec"
     ]
    },
    {
     "name": "stderr",
     "output_type": "stream",
     "text": [
      "\r",
      "Scraping 21 games on 02/03/25:  56%|█████▌    | 95 of 170 days scraped in 575.5 sec"
     ]
    },
    {
     "name": "stderr",
     "output_type": "stream",
     "text": [
      "\r",
      "Scraping 34 games on 02/04/25:  56%|█████▌    | 95 of 170 days scraped in 576.1 sec"
     ]
    },
    {
     "name": "stderr",
     "output_type": "stream",
     "text": [
      "\r",
      "Scraping 34 games on 02/04/25:  56%|█████▋    | 96 of 170 days scraped in 580.0 sec"
     ]
    },
    {
     "name": "stderr",
     "output_type": "stream",
     "text": [
      "\r",
      "Scraping 55 games on 02/05/25:  56%|█████▋    | 96 of 170 days scraped in 580.6 sec"
     ]
    },
    {
     "name": "stderr",
     "output_type": "stream",
     "text": [
      "\r",
      "Scraping 55 games on 02/05/25:  57%|█████▋    | 97 of 170 days scraped in 587.1 sec"
     ]
    },
    {
     "name": "stderr",
     "output_type": "stream",
     "text": [
      "\r",
      "Scraping 59 games on 02/06/25:  57%|█████▋    | 97 of 170 days scraped in 587.9 sec"
     ]
    },
    {
     "name": "stderr",
     "output_type": "stream",
     "text": [
      "\r",
      "Scraping 59 games on 02/06/25:  58%|█████▊    | 98 of 170 days scraped in 594.0 sec"
     ]
    },
    {
     "name": "stderr",
     "output_type": "stream",
     "text": [
      "\r",
      "Scraping 7 games on 02/07/25:  58%|█████▊    | 98 of 170 days scraped in 594.3 sec "
     ]
    },
    {
     "name": "stderr",
     "output_type": "stream",
     "text": [
      "\r",
      "Scraping 7 games on 02/07/25:  58%|█████▊    | 99 of 170 days scraped in 595.1 sec"
     ]
    },
    {
     "name": "stderr",
     "output_type": "stream",
     "text": [
      "\r",
      "Scraping 155 games on 02/08/25:  58%|█████▊    | 99 of 170 days scraped in 596.7 sec"
     ]
    },
    {
     "name": "stderr",
     "output_type": "stream",
     "text": [
      "\r",
      "Scraping 155 games on 02/08/25:  59%|█████▉    | 100 of 170 days scraped in 614.0 sec"
     ]
    },
    {
     "name": "stderr",
     "output_type": "stream",
     "text": [
      "\r",
      "Scraping 8 games on 02/09/25:  59%|█████▉    | 100 of 170 days scraped in 614.5 sec  "
     ]
    },
    {
     "name": "stderr",
     "output_type": "stream",
     "text": [
      "\r",
      "Scraping 8 games on 02/09/25:  59%|█████▉    | 101 of 170 days scraped in 615.7 sec"
     ]
    },
    {
     "name": "stderr",
     "output_type": "stream",
     "text": [
      "\r",
      "Scraping 19 games on 02/10/25:  59%|█████▉    | 101 of 170 days scraped in 616.3 sec"
     ]
    },
    {
     "name": "stderr",
     "output_type": "stream",
     "text": [
      "\r",
      "Scraping 19 games on 02/10/25:  60%|██████    | 102 of 170 days scraped in 618.8 sec"
     ]
    },
    {
     "name": "stderr",
     "output_type": "stream",
     "text": [
      "\r",
      "Scraping 37 games on 02/11/25:  60%|██████    | 102 of 170 days scraped in 619.7 sec"
     ]
    },
    {
     "name": "stderr",
     "output_type": "stream",
     "text": [
      "\r",
      "Scraping 37 games on 02/11/25:  61%|██████    | 103 of 170 days scraped in 624.0 sec"
     ]
    },
    {
     "name": "stderr",
     "output_type": "stream",
     "text": [
      "\r",
      "Scraping 44 games on 02/12/25:  61%|██████    | 103 of 170 days scraped in 624.6 sec"
     ]
    },
    {
     "name": "stderr",
     "output_type": "stream",
     "text": [
      "\r",
      "Scraping 44 games on 02/12/25:  61%|██████    | 104 of 170 days scraped in 630.2 sec"
     ]
    },
    {
     "name": "stderr",
     "output_type": "stream",
     "text": [
      "\r",
      "Scraping 59 games on 02/13/25:  61%|██████    | 104 of 170 days scraped in 630.8 sec"
     ]
    },
    {
     "name": "stderr",
     "output_type": "stream",
     "text": [
      "\r",
      "Scraping 59 games on 02/13/25:  62%|██████▏   | 105 of 170 days scraped in 637.8 sec"
     ]
    },
    {
     "name": "stderr",
     "output_type": "stream",
     "text": [
      "\r",
      "Scraping 16 games on 02/14/25:  62%|██████▏   | 105 of 170 days scraped in 638.2 sec"
     ]
    },
    {
     "name": "stderr",
     "output_type": "stream",
     "text": [
      "\r",
      "Scraping 16 games on 02/14/25:  62%|██████▏   | 106 of 170 days scraped in 640.3 sec"
     ]
    },
    {
     "name": "stderr",
     "output_type": "stream",
     "text": [
      "\r",
      "Scraping 146 games on 02/15/25:  62%|██████▏   | 106 of 170 days scraped in 641.4 sec"
     ]
    },
    {
     "name": "stderr",
     "output_type": "stream",
     "text": [
      "\r",
      "Scraping 146 games on 02/15/25:  63%|██████▎   | 107 of 170 days scraped in 658.2 sec"
     ]
    },
    {
     "name": "stderr",
     "output_type": "stream",
     "text": [
      "\r",
      "Scraping 25 games on 02/16/25:  63%|██████▎   | 107 of 170 days scraped in 658.6 sec "
     ]
    },
    {
     "name": "stderr",
     "output_type": "stream",
     "text": [
      "\r",
      "Scraping 25 games on 02/16/25:  64%|██████▎   | 108 of 170 days scraped in 661.9 sec"
     ]
    },
    {
     "name": "stderr",
     "output_type": "stream",
     "text": [
      "\r",
      "Scraping 21 games on 02/17/25:  64%|██████▎   | 108 of 170 days scraped in 662.3 sec"
     ]
    },
    {
     "name": "stderr",
     "output_type": "stream",
     "text": [
      "\r",
      "Scraping 21 games on 02/17/25:  64%|██████▍   | 109 of 170 days scraped in 664.9 sec"
     ]
    },
    {
     "name": "stderr",
     "output_type": "stream",
     "text": [
      "\r",
      "Scraping 32 games on 02/18/25:  64%|██████▍   | 109 of 170 days scraped in 665.5 sec"
     ]
    },
    {
     "name": "stderr",
     "output_type": "stream",
     "text": [
      "\r",
      "Scraping 32 games on 02/18/25:  65%|██████▍   | 110 of 170 days scraped in 669.3 sec"
     ]
    },
    {
     "name": "stderr",
     "output_type": "stream",
     "text": [
      "\r",
      "Scraping 51 games on 02/19/25:  65%|██████▍   | 110 of 170 days scraped in 669.9 sec"
     ]
    },
    {
     "name": "stderr",
     "output_type": "stream",
     "text": [
      "\r",
      "Scraping 51 games on 02/19/25:  65%|██████▌   | 111 of 170 days scraped in 676.3 sec"
     ]
    },
    {
     "name": "stderr",
     "output_type": "stream",
     "text": [
      "\r",
      "Scraping 52 games on 02/20/25:  65%|██████▌   | 111 of 170 days scraped in 677.2 sec"
     ]
    },
    {
     "name": "stderr",
     "output_type": "stream",
     "text": [
      "\r",
      "Scraping 52 games on 02/20/25:  66%|██████▌   | 112 of 170 days scraped in 683.1 sec"
     ]
    },
    {
     "name": "stderr",
     "output_type": "stream",
     "text": [
      "\r",
      "Scraping 20 games on 02/21/25:  66%|██████▌   | 112 of 170 days scraped in 684.0 sec"
     ]
    },
    {
     "name": "stderr",
     "output_type": "stream",
     "text": [
      "\r",
      "Scraping 20 games on 02/21/25:  66%|██████▋   | 113 of 170 days scraped in 686.8 sec"
     ]
    },
    {
     "name": "stderr",
     "output_type": "stream",
     "text": [
      "\r",
      "Scraping 131 games on 02/22/25:  66%|██████▋   | 113 of 170 days scraped in 687.9 sec"
     ]
    },
    {
     "name": "stderr",
     "output_type": "stream",
     "text": [
      "\r",
      "Scraping 131 games on 02/22/25:  67%|██████▋   | 114 of 170 days scraped in 703.1 sec"
     ]
    },
    {
     "name": "stderr",
     "output_type": "stream",
     "text": [
      "\r",
      "Scraping 28 games on 02/23/25:  67%|██████▋   | 114 of 170 days scraped in 703.5 sec "
     ]
    },
    {
     "name": "stderr",
     "output_type": "stream",
     "text": [
      "\r",
      "Scraping 28 games on 02/23/25:  68%|██████▊   | 115 of 170 days scraped in 707.2 sec"
     ]
    },
    {
     "name": "stderr",
     "output_type": "stream",
     "text": [
      "\r",
      "Scraping 27 games on 02/24/25:  68%|██████▊   | 115 of 170 days scraped in 707.7 sec"
     ]
    },
    {
     "name": "stderr",
     "output_type": "stream",
     "text": [
      "\r",
      "Scraping 27 games on 02/24/25:  68%|██████▊   | 116 of 170 days scraped in 711.1 sec"
     ]
    },
    {
     "name": "stderr",
     "output_type": "stream",
     "text": [
      "\r",
      "Scraping 35 games on 02/25/25:  68%|██████▊   | 116 of 170 days scraped in 711.6 sec"
     ]
    },
    {
     "name": "stderr",
     "output_type": "stream",
     "text": [
      "\r",
      "Scraping 35 games on 02/25/25:  69%|██████▉   | 117 of 170 days scraped in 716.4 sec"
     ]
    },
    {
     "name": "stderr",
     "output_type": "stream",
     "text": [
      "\r",
      "Scraping 54 games on 02/26/25:  69%|██████▉   | 117 of 170 days scraped in 717.0 sec"
     ]
    },
    {
     "name": "stderr",
     "output_type": "stream",
     "text": [
      "\r",
      "Scraping 54 games on 02/26/25:  69%|██████▉   | 118 of 170 days scraped in 723.5 sec"
     ]
    },
    {
     "name": "stderr",
     "output_type": "stream",
     "text": [
      "\r",
      "Scraping 54 games on 02/27/25:  69%|██████▉   | 118 of 170 days scraped in 724.0 sec"
     ]
    },
    {
     "name": "stderr",
     "output_type": "stream",
     "text": [
      "\r",
      "Scraping 54 games on 02/27/25:  70%|███████   | 119 of 170 days scraped in 731.6 sec"
     ]
    },
    {
     "name": "stderr",
     "output_type": "stream",
     "text": [
      "\r",
      "Scraping 23 games on 02/28/25:  70%|███████   | 119 of 170 days scraped in 732.3 sec"
     ]
    },
    {
     "name": "stderr",
     "output_type": "stream",
     "text": [
      "\r",
      "Scraping 23 games on 02/28/25:  71%|███████   | 120 of 170 days scraped in 735.2 sec"
     ]
    },
    {
     "name": "stderr",
     "output_type": "stream",
     "text": [
      "\r",
      "Scraping 133 games on 03/01/25:  71%|███████   | 120 of 170 days scraped in 736.8 sec"
     ]
    },
    {
     "name": "stderr",
     "output_type": "stream",
     "text": [
      "\r",
      "Scraping 133 games on 03/01/25:  71%|███████   | 121 of 170 days scraped in 751.4 sec"
     ]
    },
    {
     "name": "stderr",
     "output_type": "stream",
     "text": [
      "\r",
      "Scraping 23 games on 03/02/25:  71%|███████   | 121 of 170 days scraped in 751.7 sec "
     ]
    },
    {
     "name": "stderr",
     "output_type": "stream",
     "text": [
      "\r",
      "Scraping 23 games on 03/02/25:  72%|███████▏  | 122 of 170 days scraped in 754.6 sec"
     ]
    },
    {
     "name": "stderr",
     "output_type": "stream",
     "text": [
      "\r",
      "Scraping 27 games on 03/03/25:  72%|███████▏  | 122 of 170 days scraped in 755.0 sec"
     ]
    },
    {
     "name": "stderr",
     "output_type": "stream",
     "text": [
      "\r",
      "Scraping 27 games on 03/03/25:  72%|███████▏  | 123 of 170 days scraped in 758.4 sec"
     ]
    },
    {
     "name": "stderr",
     "output_type": "stream",
     "text": [
      "\r",
      "Scraping 44 games on 03/04/25:  72%|███████▏  | 123 of 170 days scraped in 758.9 sec"
     ]
    },
    {
     "name": "stderr",
     "output_type": "stream",
     "text": [
      "\r",
      "Scraping 44 games on 03/04/25:  73%|███████▎  | 124 of 170 days scraped in 763.6 sec"
     ]
    },
    {
     "name": "stderr",
     "output_type": "stream",
     "text": [
      "\r",
      "Scraping 31 games on 03/05/25:  73%|███████▎  | 124 of 170 days scraped in 764.2 sec"
     ]
    },
    {
     "name": "stderr",
     "output_type": "stream",
     "text": [
      "\r",
      "Scraping 31 games on 03/05/25:  74%|███████▎  | 125 of 170 days scraped in 767.9 sec"
     ]
    },
    {
     "name": "stderr",
     "output_type": "stream",
     "text": [
      "\r",
      "Scraping 53 games on 03/06/25:  74%|███████▎  | 125 of 170 days scraped in 768.5 sec"
     ]
    },
    {
     "name": "stderr",
     "output_type": "stream",
     "text": [
      "\r",
      "Scraping 53 games on 03/06/25:  74%|███████▍  | 126 of 170 days scraped in 774.4 sec"
     ]
    },
    {
     "name": "stderr",
     "output_type": "stream",
     "text": [
      "\r",
      "Scraping 31 games on 03/07/25:  74%|███████▍  | 126 of 170 days scraped in 775.2 sec"
     ]
    },
    {
     "name": "stderr",
     "output_type": "stream",
     "text": [
      "\r",
      "Scraping 31 games on 03/07/25:  75%|███████▍  | 127 of 170 days scraped in 779.2 sec"
     ]
    },
    {
     "name": "stderr",
     "output_type": "stream",
     "text": [
      "\r",
      "Scraping 100 games on 03/08/25:  75%|███████▍  | 127 of 170 days scraped in 780.4 sec"
     ]
    },
    {
     "name": "stderr",
     "output_type": "stream",
     "text": [
      "\r",
      "Scraping 100 games on 03/08/25:  75%|███████▌  | 128 of 170 days scraped in 792.3 sec"
     ]
    },
    {
     "name": "stderr",
     "output_type": "stream",
     "text": [
      "\r",
      "Scraping 29 games on 03/09/25:  75%|███████▌  | 128 of 170 days scraped in 793.0 sec "
     ]
    },
    {
     "name": "stderr",
     "output_type": "stream",
     "text": [
      "\r",
      "Scraping 29 games on 03/09/25:  76%|███████▌  | 129 of 170 days scraped in 797.1 sec"
     ]
    },
    {
     "name": "stderr",
     "output_type": "stream",
     "text": [
      "\r",
      "Scraping 12 games on 03/10/25:  76%|███████▌  | 129 of 170 days scraped in 797.4 sec"
     ]
    },
    {
     "name": "stderr",
     "output_type": "stream",
     "text": [
      "\r",
      "Scraping 12 games on 03/10/25:  76%|███████▋  | 130 of 170 days scraped in 798.8 sec"
     ]
    },
    {
     "name": "stderr",
     "output_type": "stream",
     "text": [
      "\r",
      "Scraping 24 games on 03/11/25:  76%|███████▋  | 130 of 170 days scraped in 799.3 sec"
     ]
    },
    {
     "name": "stderr",
     "output_type": "stream",
     "text": [
      "\r",
      "Scraping 24 games on 03/11/25:  77%|███████▋  | 131 of 170 days scraped in 801.9 sec"
     ]
    },
    {
     "name": "stderr",
     "output_type": "stream",
     "text": [
      "\r",
      "Scraping 40 games on 03/12/25:  77%|███████▋  | 131 of 170 days scraped in 802.8 sec"
     ]
    },
    {
     "name": "stderr",
     "output_type": "stream",
     "text": [
      "\r",
      "Scraping 40 games on 03/12/25:  78%|███████▊  | 132 of 170 days scraped in 808.4 sec"
     ]
    },
    {
     "name": "stderr",
     "output_type": "stream",
     "text": [
      "\r",
      "Scraping 48 games on 03/13/25:  78%|███████▊  | 132 of 170 days scraped in 809.3 sec"
     ]
    },
    {
     "name": "stderr",
     "output_type": "stream",
     "text": [
      "\r",
      "Scraping 48 games on 03/13/25:  78%|███████▊  | 133 of 170 days scraped in 814.8 sec"
     ]
    },
    {
     "name": "stderr",
     "output_type": "stream",
     "text": [
      "\r",
      "Scraping 38 games on 03/14/25:  78%|███████▊  | 133 of 170 days scraped in 815.4 sec"
     ]
    },
    {
     "name": "stderr",
     "output_type": "stream",
     "text": [
      "\r",
      "Scraping 38 games on 03/14/25:  79%|███████▉  | 134 of 170 days scraped in 819.9 sec"
     ]
    },
    {
     "name": "stderr",
     "output_type": "stream",
     "text": [
      "\r",
      "Scraping 22 games on 03/15/25:  79%|███████▉  | 134 of 170 days scraped in 820.3 sec"
     ]
    },
    {
     "name": "stderr",
     "output_type": "stream",
     "text": [
      "\r",
      "Scraping 22 games on 03/15/25:  79%|███████▉  | 135 of 170 days scraped in 822.9 sec"
     ]
    },
    {
     "name": "stderr",
     "output_type": "stream",
     "text": [
      "\r",
      "Scraping 5 games on 03/16/25:  79%|███████▉  | 135 of 170 days scraped in 823.1 sec "
     ]
    },
    {
     "name": "stderr",
     "output_type": "stream",
     "text": [
      "\r",
      "Scraping 5 games on 03/16/25:  80%|████████  | 136 of 170 days scraped in 823.8 sec"
     ]
    },
    {
     "name": "stderr",
     "output_type": "stream",
     "text": [
      "\r",
      "Scraping 0 games on 03/17/25:  80%|████████  | 136 of 170 days scraped in 824.0 sec"
     ]
    },
    {
     "name": "stderr",
     "output_type": "stream",
     "text": [
      "\r",
      "No games on 03/17/25:  81%|████████  | 137 of 170 days scraped in 824.0 sec        "
     ]
    },
    {
     "name": "stderr",
     "output_type": "stream",
     "text": [
      "\r",
      "Scraping 9 games on 03/18/25:  81%|████████  | 137 of 170 days scraped in 824.3 sec"
     ]
    },
    {
     "name": "stderr",
     "output_type": "stream",
     "text": [
      "\r",
      "Scraping 9 games on 03/18/25:  81%|████████  | 138 of 170 days scraped in 825.9 sec"
     ]
    },
    {
     "name": "stderr",
     "output_type": "stream",
     "text": [
      "\r",
      "Scraping 11 games on 03/19/25:  81%|████████  | 138 of 170 days scraped in 826.2 sec"
     ]
    },
    {
     "name": "stderr",
     "output_type": "stream",
     "text": [
      "\r",
      "Scraping 11 games on 03/19/25:  82%|████████▏ | 139 of 170 days scraped in 827.5 sec"
     ]
    },
    {
     "name": "stderr",
     "output_type": "stream",
     "text": [
      "\r",
      "Scraping 16 games on 03/20/25:  82%|████████▏ | 139 of 170 days scraped in 827.9 sec"
     ]
    },
    {
     "name": "stderr",
     "output_type": "stream",
     "text": [
      "\r",
      "Scraping 16 games on 03/20/25:  82%|████████▏ | 140 of 170 days scraped in 828.4 sec"
     ]
    },
    {
     "name": "stderr",
     "output_type": "stream",
     "text": [
      "\r",
      "Scraping 16 games on 03/21/25:  82%|████████▏ | 140 of 170 days scraped in 828.8 sec"
     ]
    },
    {
     "name": "stderr",
     "output_type": "stream",
     "text": [
      "\r",
      "Scraping 16 games on 03/21/25:  83%|████████▎ | 141 of 170 days scraped in 829.5 sec"
     ]
    },
    {
     "name": "stderr",
     "output_type": "stream",
     "text": [
      "\r",
      "Scraping 10 games on 03/22/25:  83%|████████▎ | 141 of 170 days scraped in 829.9 sec"
     ]
    },
    {
     "name": "stderr",
     "output_type": "stream",
     "text": [
      "\r",
      "Scraping 10 games on 03/22/25:  84%|████████▎ | 142 of 170 days scraped in 830.3 sec"
     ]
    },
    {
     "name": "stderr",
     "output_type": "stream",
     "text": [
      "\r",
      "Scraping 18 games on 03/23/25:  84%|████████▎ | 142 of 170 days scraped in 830.7 sec"
     ]
    },
    {
     "name": "stderr",
     "output_type": "stream",
     "text": [
      "\r",
      "Scraping 18 games on 03/23/25:  84%|████████▍ | 143 of 170 days scraped in 832.4 sec"
     ]
    },
    {
     "name": "stderr",
     "output_type": "stream",
     "text": [
      "\r",
      "Scraping 3 games on 03/24/25:  84%|████████▍ | 143 of 170 days scraped in 832.6 sec "
     ]
    },
    {
     "name": "stderr",
     "output_type": "stream",
     "text": [
      "\r",
      "Scraping 3 games on 03/24/25:  85%|████████▍ | 144 of 170 days scraped in 833.0 sec"
     ]
    },
    {
     "name": "stderr",
     "output_type": "stream",
     "text": [
      "\r",
      "Scraping 4 games on 03/25/25:  85%|████████▍ | 144 of 170 days scraped in 833.7 sec"
     ]
    },
    {
     "name": "stderr",
     "output_type": "stream",
     "text": [
      "\r",
      "Scraping 4 games on 03/25/25:  85%|████████▌ | 145 of 170 days scraped in 834.3 sec"
     ]
    },
    {
     "name": "stderr",
     "output_type": "stream",
     "text": [
      "\r",
      "Scraping 3 games on 03/26/25:  85%|████████▌ | 145 of 170 days scraped in 834.5 sec"
     ]
    },
    {
     "name": "stderr",
     "output_type": "stream",
     "text": [
      "\r",
      "Scraping 3 games on 03/26/25:  86%|████████▌ | 146 of 170 days scraped in 835.1 sec"
     ]
    },
    {
     "name": "stderr",
     "output_type": "stream",
     "text": [
      "\r",
      "Scraping 4 games on 03/27/25:  86%|████████▌ | 146 of 170 days scraped in 835.3 sec"
     ]
    },
    {
     "name": "stderr",
     "output_type": "stream",
     "text": [
      "\r",
      "Scraping 4 games on 03/27/25:  86%|████████▋ | 147 of 170 days scraped in 835.7 sec"
     ]
    },
    {
     "name": "stderr",
     "output_type": "stream",
     "text": [
      "\r",
      "Scraping 4 games on 03/28/25:  86%|████████▋ | 147 of 170 days scraped in 835.9 sec"
     ]
    },
    {
     "name": "stderr",
     "output_type": "stream",
     "text": [
      "\r",
      "Scraping 4 games on 03/28/25:  87%|████████▋ | 148 of 170 days scraped in 836.1 sec"
     ]
    },
    {
     "name": "stderr",
     "output_type": "stream",
     "text": [
      "\r",
      "Scraping 2 games on 03/29/25:  87%|████████▋ | 148 of 170 days scraped in 836.6 sec"
     ]
    },
    {
     "name": "stderr",
     "output_type": "stream",
     "text": [
      "\r",
      "Scraping 2 games on 03/29/25:  88%|████████▊ | 149 of 170 days scraped in 836.7 sec"
     ]
    },
    {
     "name": "stderr",
     "output_type": "stream",
     "text": [
      "\r",
      "Scraping 2 games on 03/30/25:  88%|████████▊ | 149 of 170 days scraped in 836.9 sec"
     ]
    },
    {
     "name": "stderr",
     "output_type": "stream",
     "text": [
      "\r",
      "Scraping 2 games on 03/30/25:  88%|████████▊ | 150 of 170 days scraped in 837.0 sec"
     ]
    },
    {
     "name": "stderr",
     "output_type": "stream",
     "text": [
      "\r",
      "Scraping 4 games on 03/31/25:  88%|████████▊ | 150 of 170 days scraped in 837.2 sec"
     ]
    },
    {
     "name": "stderr",
     "output_type": "stream",
     "text": [
      "\r",
      "Scraping 4 games on 03/31/25:  89%|████████▉ | 151 of 170 days scraped in 837.7 sec"
     ]
    },
    {
     "name": "stderr",
     "output_type": "stream",
     "text": [
      "\r",
      "Scraping 6 games on 04/01/25:  89%|████████▉ | 151 of 170 days scraped in 838.3 sec"
     ]
    },
    {
     "name": "stderr",
     "output_type": "stream",
     "text": [
      "\r",
      "Scraping 6 games on 04/01/25:  89%|████████▉ | 152 of 170 days scraped in 839.1 sec"
     ]
    },
    {
     "name": "stderr",
     "output_type": "stream",
     "text": [
      "\r",
      "Scraping 2 games on 04/02/25:  89%|████████▉ | 152 of 170 days scraped in 839.3 sec"
     ]
    },
    {
     "name": "stderr",
     "output_type": "stream",
     "text": [
      "\r",
      "Scraping 2 games on 04/02/25:  90%|█████████ | 153 of 170 days scraped in 839.6 sec"
     ]
    },
    {
     "name": "stderr",
     "output_type": "stream",
     "text": [
      "\r",
      "Scraping 3 games on 04/03/25:  90%|█████████ | 153 of 170 days scraped in 840.0 sec"
     ]
    },
    {
     "name": "stderr",
     "output_type": "stream",
     "text": [
      "\r",
      "Scraping 3 games on 04/03/25:  91%|█████████ | 154 of 170 days scraped in 840.6 sec"
     ]
    },
    {
     "name": "stderr",
     "output_type": "stream",
     "text": [
      "\r",
      "Scraping 0 games on 04/04/25:  91%|█████████ | 154 of 170 days scraped in 840.8 sec"
     ]
    },
    {
     "name": "stderr",
     "output_type": "stream",
     "text": [
      "\r",
      "No games on 04/04/25:  91%|█████████ | 155 of 170 days scraped in 840.8 sec        "
     ]
    },
    {
     "name": "stderr",
     "output_type": "stream",
     "text": [
      "\r",
      "Scraping 4 games on 04/05/25:  91%|█████████ | 155 of 170 days scraped in 841.0 sec"
     ]
    },
    {
     "name": "stderr",
     "output_type": "stream",
     "text": [
      "\r",
      "Scraping 4 games on 04/05/25:  92%|█████████▏| 156 of 170 days scraped in 841.9 sec"
     ]
    },
    {
     "name": "stderr",
     "output_type": "stream",
     "text": [
      "\r",
      "Scraping 1 games on 04/06/25:  92%|█████████▏| 156 of 170 days scraped in 842.3 sec"
     ]
    },
    {
     "name": "stderr",
     "output_type": "stream",
     "text": [
      "\r",
      "Scraping 1 games on 04/06/25:  92%|█████████▏| 157 of 170 days scraped in 842.6 sec"
     ]
    },
    {
     "name": "stderr",
     "output_type": "stream",
     "text": [
      "\r",
      "Scraping 1 games on 04/07/25:  92%|█████████▏| 157 of 170 days scraped in 843.1 sec"
     ]
    },
    {
     "name": "stderr",
     "output_type": "stream",
     "text": [
      "\r",
      "Scraping 1 games on 04/07/25:  93%|█████████▎| 158 of 170 days scraped in 843.2 sec"
     ]
    },
    {
     "name": "stderr",
     "output_type": "stream",
     "text": [
      "\r",
      "Scraping 0 games on 04/08/25:  93%|█████████▎| 158 of 170 days scraped in 843.6 sec"
     ]
    },
    {
     "name": "stderr",
     "output_type": "stream",
     "text": [
      "\r",
      "No games on 04/08/25:  94%|█████████▎| 159 of 170 days scraped in 843.6 sec        "
     ]
    },
    {
     "name": "stderr",
     "output_type": "stream",
     "text": [
      "\r",
      "Scraping 0 games on 04/09/25:  94%|█████████▎| 159 of 170 days scraped in 844.0 sec"
     ]
    },
    {
     "name": "stderr",
     "output_type": "stream",
     "text": [
      "\r",
      "No games on 04/09/25:  94%|█████████▍| 160 of 170 days scraped in 844.0 sec        "
     ]
    },
    {
     "name": "stderr",
     "output_type": "stream",
     "text": [
      "\r",
      "Scraping 0 games on 04/10/25:  94%|█████████▍| 160 of 170 days scraped in 844.3 sec"
     ]
    },
    {
     "name": "stderr",
     "output_type": "stream",
     "text": [
      "\r",
      "No games on 04/10/25:  95%|█████████▍| 161 of 170 days scraped in 844.3 sec        "
     ]
    },
    {
     "name": "stderr",
     "output_type": "stream",
     "text": [
      "\r",
      "Scraping 0 games on 04/11/25:  95%|█████████▍| 161 of 170 days scraped in 844.6 sec"
     ]
    },
    {
     "name": "stderr",
     "output_type": "stream",
     "text": [
      "\r",
      "No games on 04/11/25:  95%|█████████▌| 162 of 170 days scraped in 844.6 sec        "
     ]
    },
    {
     "name": "stderr",
     "output_type": "stream",
     "text": [
      "\r",
      "Scraping 0 games on 04/12/25:  95%|█████████▌| 162 of 170 days scraped in 845.3 sec"
     ]
    },
    {
     "name": "stderr",
     "output_type": "stream",
     "text": [
      "\r",
      "No games on 04/12/25:  96%|█████████▌| 163 of 170 days scraped in 845.3 sec        "
     ]
    },
    {
     "name": "stderr",
     "output_type": "stream",
     "text": [
      "\r",
      "Scraping 0 games on 04/13/25:  96%|█████████▌| 163 of 170 days scraped in 845.7 sec"
     ]
    },
    {
     "name": "stderr",
     "output_type": "stream",
     "text": [
      "\r",
      "No games on 04/13/25:  96%|█████████▋| 164 of 170 days scraped in 845.7 sec        "
     ]
    },
    {
     "name": "stderr",
     "output_type": "stream",
     "text": [
      "\r",
      "Scraping 0 games on 04/14/25:  96%|█████████▋| 164 of 170 days scraped in 846.4 sec"
     ]
    },
    {
     "name": "stderr",
     "output_type": "stream",
     "text": [
      "\r",
      "No games on 04/14/25:  97%|█████████▋| 165 of 170 days scraped in 846.4 sec        "
     ]
    },
    {
     "name": "stderr",
     "output_type": "stream",
     "text": [
      "\r",
      "Scraping 0 games on 04/15/25:  97%|█████████▋| 165 of 170 days scraped in 846.7 sec"
     ]
    },
    {
     "name": "stderr",
     "output_type": "stream",
     "text": [
      "\r",
      "No games on 04/15/25:  98%|█████████▊| 166 of 170 days scraped in 846.7 sec        "
     ]
    },
    {
     "name": "stderr",
     "output_type": "stream",
     "text": [
      "\r",
      "Scraping 0 games on 04/16/25:  98%|█████████▊| 166 of 170 days scraped in 847.1 sec"
     ]
    },
    {
     "name": "stderr",
     "output_type": "stream",
     "text": [
      "\r",
      "No games on 04/16/25:  98%|█████████▊| 167 of 170 days scraped in 847.1 sec        "
     ]
    },
    {
     "name": "stderr",
     "output_type": "stream",
     "text": [
      "\r",
      "Scraping 0 games on 04/17/25:  98%|█████████▊| 167 of 170 days scraped in 847.5 sec"
     ]
    },
    {
     "name": "stderr",
     "output_type": "stream",
     "text": [
      "\r",
      "No games on 04/17/25:  99%|█████████▉| 168 of 170 days scraped in 847.5 sec        "
     ]
    },
    {
     "name": "stderr",
     "output_type": "stream",
     "text": [
      "\r",
      "Scraping 0 games on 04/18/25:  99%|█████████▉| 168 of 170 days scraped in 848.2 sec"
     ]
    },
    {
     "name": "stderr",
     "output_type": "stream",
     "text": [
      "\r",
      "No games on 04/18/25:  99%|█████████▉| 169 of 170 days scraped in 848.2 sec        "
     ]
    },
    {
     "name": "stderr",
     "output_type": "stream",
     "text": [
      "\r",
      "Scraping 0 games on 04/19/25:  99%|█████████▉| 169 of 170 days scraped in 848.7 sec"
     ]
    },
    {
     "name": "stderr",
     "output_type": "stream",
     "text": [
      "\r",
      "No games on 04/19/25: 100%|██████████| 170 of 170 days scraped in 848.7 sec        "
     ]
    },
    {
     "name": "stderr",
     "output_type": "stream",
     "text": [
      "\r",
      "No games on 04/19/25: 100%|██████████| 170 of 170 days scraped in 848.7 sec"
     ]
    },
    {
     "name": "stderr",
     "output_type": "stream",
     "text": [
      "\n"
     ]
    },
    {
     "name": "stdout",
     "output_type": "stream",
     "text": [
      "Log file is located at /home/runner/.local/state/CBBpy/2.1.2/log/CBBpy.log\n"
     ]
    }
   ],
   "source": [
    "import pandas as pd\n",
    "import cbbpy.mens_scraper as s\n",
    "\n",
    "# Create data frames for each season of game info\n",
    "\n",
    "df_2025 = s.get_games_season(2025, box = False, pbp = False)\n"
   ]
  },
  {
   "cell_type": "code",
   "execution_count": 2,
   "metadata": {
    "execution": {
     "iopub.execute_input": "2025-04-19T12:19:19.353095Z",
     "iopub.status.busy": "2025-04-19T12:19:19.352582Z",
     "iopub.status.idle": "2025-04-19T12:19:19.375370Z",
     "shell.execute_reply": "2025-04-19T12:19:19.374848Z"
    }
   },
   "outputs": [
    {
     "data": {
      "text/html": [
       "<div>\n",
       "<style scoped>\n",
       "    .dataframe tbody tr th:only-of-type {\n",
       "        vertical-align: middle;\n",
       "    }\n",
       "\n",
       "    .dataframe tbody tr th {\n",
       "        vertical-align: top;\n",
       "    }\n",
       "\n",
       "    .dataframe thead th {\n",
       "        text-align: right;\n",
       "    }\n",
       "</style>\n",
       "<table border=\"1\" class=\"dataframe\">\n",
       "  <thead>\n",
       "    <tr style=\"text-align: right;\">\n",
       "      <th></th>\n",
       "      <th>game_id</th>\n",
       "      <th>game_status</th>\n",
       "      <th>home_team</th>\n",
       "      <th>home_id</th>\n",
       "      <th>home_rank</th>\n",
       "      <th>home_record</th>\n",
       "      <th>home_score</th>\n",
       "      <th>away_team</th>\n",
       "      <th>away_id</th>\n",
       "      <th>away_rank</th>\n",
       "      <th>...</th>\n",
       "      <th>game_day</th>\n",
       "      <th>game_time</th>\n",
       "      <th>game_loc</th>\n",
       "      <th>arena</th>\n",
       "      <th>arena_capacity</th>\n",
       "      <th>attendance</th>\n",
       "      <th>tv_network</th>\n",
       "      <th>referee_1</th>\n",
       "      <th>referee_2</th>\n",
       "      <th>referee_3</th>\n",
       "    </tr>\n",
       "  </thead>\n",
       "  <tbody>\n",
       "    <tr>\n",
       "      <th>0</th>\n",
       "      <td>401727499</td>\n",
       "      <td>Final</td>\n",
       "      <td>IU Indianapolis Jaguars</td>\n",
       "      <td>85</td>\n",
       "      <td>NaN</td>\n",
       "      <td>1-0</td>\n",
       "      <td>100</td>\n",
       "      <td>IU Columbus Crimson Pride</td>\n",
       "      <td>nd-iu-columbus-crimson-pride</td>\n",
       "      <td>NaN</td>\n",
       "      <td>...</td>\n",
       "      <td>November 04, 2024</td>\n",
       "      <td>08:00 AM PST</td>\n",
       "      <td>Indianapolis, IN</td>\n",
       "      <td>Corteva Coliseum</td>\n",
       "      <td>NaN</td>\n",
       "      <td>3716.0</td>\n",
       "      <td>ESPN+</td>\n",
       "      <td>Rod Mrakovich</td>\n",
       "      <td>Martin Spencer</td>\n",
       "      <td>Adam Sensibaugh</td>\n",
       "    </tr>\n",
       "    <tr>\n",
       "      <th>1</th>\n",
       "      <td>401715872</td>\n",
       "      <td>Final</td>\n",
       "      <td>Southern Illinois Salukis</td>\n",
       "      <td>79</td>\n",
       "      <td>NaN</td>\n",
       "      <td>0-1</td>\n",
       "      <td>80</td>\n",
       "      <td>Charleston Cougars</td>\n",
       "      <td>232</td>\n",
       "      <td>NaN</td>\n",
       "      <td>...</td>\n",
       "      <td>November 04, 2024</td>\n",
       "      <td>09:00 AM PST</td>\n",
       "      <td>Sioux Falls, SD</td>\n",
       "      <td>Sanford Pentagon</td>\n",
       "      <td>NaN</td>\n",
       "      <td>0.0</td>\n",
       "      <td></td>\n",
       "      <td>Brad Ferrie</td>\n",
       "      <td>Antinio Petty</td>\n",
       "      <td>Ben Wolfe</td>\n",
       "    </tr>\n",
       "    <tr>\n",
       "      <th>2</th>\n",
       "      <td>401725796</td>\n",
       "      <td>Final</td>\n",
       "      <td>UT Arlington Mavericks</td>\n",
       "      <td>250</td>\n",
       "      <td>NaN</td>\n",
       "      <td>1-0</td>\n",
       "      <td>90</td>\n",
       "      <td>UNT Dallas Trailblazers</td>\n",
       "      <td>nd-unt-dallas-trailblazers</td>\n",
       "      <td>NaN</td>\n",
       "      <td>...</td>\n",
       "      <td>November 04, 2024</td>\n",
       "      <td>09:00 AM PST</td>\n",
       "      <td>Arlington, TX</td>\n",
       "      <td>College Park Center</td>\n",
       "      <td>NaN</td>\n",
       "      <td>1001.0</td>\n",
       "      <td>ESPN+</td>\n",
       "      <td>Doug George</td>\n",
       "      <td>Randal Anders</td>\n",
       "      <td>Trenton Chaney</td>\n",
       "    </tr>\n",
       "    <tr>\n",
       "      <th>3</th>\n",
       "      <td>401726400</td>\n",
       "      <td>Final</td>\n",
       "      <td>Middle Tennessee Blue Raiders</td>\n",
       "      <td>2393</td>\n",
       "      <td>NaN</td>\n",
       "      <td>1-0</td>\n",
       "      <td>97</td>\n",
       "      <td>Oglethorpe Stormy Petrels</td>\n",
       "      <td>nd-oglethorpe-stormy-petrels</td>\n",
       "      <td>NaN</td>\n",
       "      <td>...</td>\n",
       "      <td>November 04, 2024</td>\n",
       "      <td>09:00 AM PST</td>\n",
       "      <td>Murfreesboro, TN</td>\n",
       "      <td>Murphy Center</td>\n",
       "      <td>NaN</td>\n",
       "      <td>7501.0</td>\n",
       "      <td>ESPN+</td>\n",
       "      <td>Kevin Mathis</td>\n",
       "      <td>James Curran</td>\n",
       "      <td>Klajdi Mulla</td>\n",
       "    </tr>\n",
       "    <tr>\n",
       "      <th>4</th>\n",
       "      <td>401726395</td>\n",
       "      <td>Final</td>\n",
       "      <td>Jacksonville State Gamecocks</td>\n",
       "      <td>55</td>\n",
       "      <td>NaN</td>\n",
       "      <td>1-0</td>\n",
       "      <td>112</td>\n",
       "      <td>LaGrange Panthers</td>\n",
       "      <td>nd-lagrange-panthers</td>\n",
       "      <td>NaN</td>\n",
       "      <td>...</td>\n",
       "      <td>November 04, 2024</td>\n",
       "      <td>09:30 AM PST</td>\n",
       "      <td>Jacksonville, AL</td>\n",
       "      <td>Pete Mathews Coliseum</td>\n",
       "      <td>NaN</td>\n",
       "      <td>2055.0</td>\n",
       "      <td>ESPN+</td>\n",
       "      <td>Barry Mathis</td>\n",
       "      <td>Nick Meyer</td>\n",
       "      <td>Jeremy Trussell</td>\n",
       "    </tr>\n",
       "    <tr>\n",
       "      <th>...</th>\n",
       "      <td>...</td>\n",
       "      <td>...</td>\n",
       "      <td>...</td>\n",
       "      <td>...</td>\n",
       "      <td>...</td>\n",
       "      <td>...</td>\n",
       "      <td>...</td>\n",
       "      <td>...</td>\n",
       "      <td>...</td>\n",
       "      <td>...</td>\n",
       "      <td>...</td>\n",
       "      <td>...</td>\n",
       "      <td>...</td>\n",
       "      <td>...</td>\n",
       "      <td>...</td>\n",
       "      <td>...</td>\n",
       "      <td>...</td>\n",
       "      <td>...</td>\n",
       "      <td>...</td>\n",
       "      <td>...</td>\n",
       "      <td>...</td>\n",
       "    </tr>\n",
       "    <tr>\n",
       "      <th>6294</th>\n",
       "      <td>401758633</td>\n",
       "      <td>Final</td>\n",
       "      <td>Villanova Wildcats</td>\n",
       "      <td>222</td>\n",
       "      <td>NaN</td>\n",
       "      <td>21-15</td>\n",
       "      <td>98</td>\n",
       "      <td>UCF Knights</td>\n",
       "      <td>2116</td>\n",
       "      <td>NaN</td>\n",
       "      <td>...</td>\n",
       "      <td>April 05, 2025</td>\n",
       "      <td>01:00 PM PDT</td>\n",
       "      <td>Las Vegas, NV</td>\n",
       "      <td>T-Mobile Arena</td>\n",
       "      <td>NaN</td>\n",
       "      <td>2972.0</td>\n",
       "      <td>FOX</td>\n",
       "      <td>D.J. Carstensen</td>\n",
       "      <td>Matt Potter</td>\n",
       "      <td>Brooks Wells</td>\n",
       "    </tr>\n",
       "    <tr>\n",
       "      <th>6295</th>\n",
       "      <td>401746081</td>\n",
       "      <td>Final</td>\n",
       "      <td>Auburn Tigers</td>\n",
       "      <td>2</td>\n",
       "      <td>1.0</td>\n",
       "      <td>32-6</td>\n",
       "      <td>73</td>\n",
       "      <td>Florida Gators</td>\n",
       "      <td>57</td>\n",
       "      <td>1.0</td>\n",
       "      <td>...</td>\n",
       "      <td>April 05, 2025</td>\n",
       "      <td>03:09 PM PDT</td>\n",
       "      <td>San Antonio, TX</td>\n",
       "      <td>Alamodome</td>\n",
       "      <td>NaN</td>\n",
       "      <td>68252.0</td>\n",
       "      <td>CBS</td>\n",
       "      <td>Tony Padilla</td>\n",
       "      <td>Roger Ayers</td>\n",
       "      <td>Courtney Green</td>\n",
       "    </tr>\n",
       "    <tr>\n",
       "      <th>6296</th>\n",
       "      <td>401746080</td>\n",
       "      <td>Final</td>\n",
       "      <td>Duke Blue Devils</td>\n",
       "      <td>150</td>\n",
       "      <td>1.0</td>\n",
       "      <td>35-4</td>\n",
       "      <td>67</td>\n",
       "      <td>Houston Cougars</td>\n",
       "      <td>248</td>\n",
       "      <td>1.0</td>\n",
       "      <td>...</td>\n",
       "      <td>April 05, 2025</td>\n",
       "      <td>06:28 PM PDT</td>\n",
       "      <td>San Antonio, TX</td>\n",
       "      <td>Alamodome</td>\n",
       "      <td>NaN</td>\n",
       "      <td>68252.0</td>\n",
       "      <td>CBS</td>\n",
       "      <td>Doug Shows</td>\n",
       "      <td>James Breeding</td>\n",
       "      <td>Keith Kimble</td>\n",
       "    </tr>\n",
       "    <tr>\n",
       "      <th>6297</th>\n",
       "      <td>401758636</td>\n",
       "      <td>Final</td>\n",
       "      <td>UCF Knights</td>\n",
       "      <td>2116</td>\n",
       "      <td>NaN</td>\n",
       "      <td>20-17</td>\n",
       "      <td>66</td>\n",
       "      <td>Nebraska Cornhuskers</td>\n",
       "      <td>158</td>\n",
       "      <td>NaN</td>\n",
       "      <td>...</td>\n",
       "      <td>April 06, 2025</td>\n",
       "      <td>02:30 PM PDT</td>\n",
       "      <td>Las Vegas, NV</td>\n",
       "      <td>T-Mobile Arena</td>\n",
       "      <td>NaN</td>\n",
       "      <td>3314.0</td>\n",
       "      <td>FOX</td>\n",
       "      <td>Brian  O'Connell</td>\n",
       "      <td>D.J. Carstensen</td>\n",
       "      <td>Tyler Kumpf</td>\n",
       "    </tr>\n",
       "    <tr>\n",
       "      <th>6298</th>\n",
       "      <td>401746082</td>\n",
       "      <td>Final</td>\n",
       "      <td>Houston Cougars</td>\n",
       "      <td>248</td>\n",
       "      <td>1.0</td>\n",
       "      <td>35-5</td>\n",
       "      <td>63</td>\n",
       "      <td>Florida Gators</td>\n",
       "      <td>57</td>\n",
       "      <td>1.0</td>\n",
       "      <td>...</td>\n",
       "      <td>April 07, 2025</td>\n",
       "      <td>05:50 PM PDT</td>\n",
       "      <td>San Antonio, TX</td>\n",
       "      <td>Alamodome</td>\n",
       "      <td>NaN</td>\n",
       "      <td>66602.0</td>\n",
       "      <td>CBS</td>\n",
       "      <td>Ron Groover</td>\n",
       "      <td>Terry Oglesby</td>\n",
       "      <td>Doug Sirmons</td>\n",
       "    </tr>\n",
       "  </tbody>\n",
       "</table>\n",
       "<p>6299 rows × 29 columns</p>\n",
       "</div>"
      ],
      "text/plain": [
       "        game_id game_status                      home_team home_id  home_rank  \\\n",
       "0     401727499       Final        IU Indianapolis Jaguars      85        NaN   \n",
       "1     401715872       Final      Southern Illinois Salukis      79        NaN   \n",
       "2     401725796       Final         UT Arlington Mavericks     250        NaN   \n",
       "3     401726400       Final  Middle Tennessee Blue Raiders    2393        NaN   \n",
       "4     401726395       Final   Jacksonville State Gamecocks      55        NaN   \n",
       "...         ...         ...                            ...     ...        ...   \n",
       "6294  401758633       Final             Villanova Wildcats     222        NaN   \n",
       "6295  401746081       Final                  Auburn Tigers       2        1.0   \n",
       "6296  401746080       Final               Duke Blue Devils     150        1.0   \n",
       "6297  401758636       Final                    UCF Knights    2116        NaN   \n",
       "6298  401746082       Final                Houston Cougars     248        1.0   \n",
       "\n",
       "     home_record  home_score                  away_team  \\\n",
       "0            1-0         100  IU Columbus Crimson Pride   \n",
       "1            0-1          80         Charleston Cougars   \n",
       "2            1-0          90    UNT Dallas Trailblazers   \n",
       "3            1-0          97  Oglethorpe Stormy Petrels   \n",
       "4            1-0         112          LaGrange Panthers   \n",
       "...          ...         ...                        ...   \n",
       "6294       21-15          98                UCF Knights   \n",
       "6295        32-6          73             Florida Gators   \n",
       "6296        35-4          67            Houston Cougars   \n",
       "6297       20-17          66       Nebraska Cornhuskers   \n",
       "6298        35-5          63             Florida Gators   \n",
       "\n",
       "                           away_id  away_rank  ...           game_day  \\\n",
       "0     nd-iu-columbus-crimson-pride        NaN  ...  November 04, 2024   \n",
       "1                              232        NaN  ...  November 04, 2024   \n",
       "2       nd-unt-dallas-trailblazers        NaN  ...  November 04, 2024   \n",
       "3     nd-oglethorpe-stormy-petrels        NaN  ...  November 04, 2024   \n",
       "4             nd-lagrange-panthers        NaN  ...  November 04, 2024   \n",
       "...                            ...        ...  ...                ...   \n",
       "6294                          2116        NaN  ...     April 05, 2025   \n",
       "6295                            57        1.0  ...     April 05, 2025   \n",
       "6296                           248        1.0  ...     April 05, 2025   \n",
       "6297                           158        NaN  ...     April 06, 2025   \n",
       "6298                            57        1.0  ...     April 07, 2025   \n",
       "\n",
       "         game_time          game_loc                  arena  arena_capacity  \\\n",
       "0     08:00 AM PST  Indianapolis, IN       Corteva Coliseum             NaN   \n",
       "1     09:00 AM PST   Sioux Falls, SD       Sanford Pentagon             NaN   \n",
       "2     09:00 AM PST     Arlington, TX    College Park Center             NaN   \n",
       "3     09:00 AM PST  Murfreesboro, TN          Murphy Center             NaN   \n",
       "4     09:30 AM PST  Jacksonville, AL  Pete Mathews Coliseum             NaN   \n",
       "...            ...               ...                    ...             ...   \n",
       "6294  01:00 PM PDT     Las Vegas, NV         T-Mobile Arena             NaN   \n",
       "6295  03:09 PM PDT   San Antonio, TX              Alamodome             NaN   \n",
       "6296  06:28 PM PDT   San Antonio, TX              Alamodome             NaN   \n",
       "6297  02:30 PM PDT     Las Vegas, NV         T-Mobile Arena             NaN   \n",
       "6298  05:50 PM PDT   San Antonio, TX              Alamodome             NaN   \n",
       "\n",
       "      attendance  tv_network         referee_1        referee_2  \\\n",
       "0         3716.0       ESPN+     Rod Mrakovich   Martin Spencer   \n",
       "1            0.0                   Brad Ferrie    Antinio Petty   \n",
       "2         1001.0       ESPN+       Doug George    Randal Anders   \n",
       "3         7501.0       ESPN+      Kevin Mathis     James Curran   \n",
       "4         2055.0       ESPN+      Barry Mathis       Nick Meyer   \n",
       "...          ...         ...               ...              ...   \n",
       "6294      2972.0         FOX   D.J. Carstensen      Matt Potter   \n",
       "6295     68252.0         CBS      Tony Padilla      Roger Ayers   \n",
       "6296     68252.0         CBS        Doug Shows   James Breeding   \n",
       "6297      3314.0         FOX  Brian  O'Connell  D.J. Carstensen   \n",
       "6298     66602.0         CBS       Ron Groover    Terry Oglesby   \n",
       "\n",
       "            referee_3  \n",
       "0     Adam Sensibaugh  \n",
       "1           Ben Wolfe  \n",
       "2      Trenton Chaney  \n",
       "3        Klajdi Mulla  \n",
       "4     Jeremy Trussell  \n",
       "...               ...  \n",
       "6294     Brooks Wells  \n",
       "6295   Courtney Green  \n",
       "6296     Keith Kimble  \n",
       "6297      Tyler Kumpf  \n",
       "6298     Doug Sirmons  \n",
       "\n",
       "[6299 rows x 29 columns]"
      ]
     },
     "execution_count": 2,
     "metadata": {},
     "output_type": "execute_result"
    }
   ],
   "source": [
    "df_2025_game_info = df_2025[0]\n",
    "df_2025_game_info"
   ]
  },
  {
   "cell_type": "code",
   "execution_count": 3,
   "metadata": {
    "execution": {
     "iopub.execute_input": "2025-04-19T12:19:19.377160Z",
     "iopub.status.busy": "2025-04-19T12:19:19.376840Z",
     "iopub.status.idle": "2025-04-19T12:19:19.430794Z",
     "shell.execute_reply": "2025-04-19T12:19:19.430221Z"
    }
   },
   "outputs": [
    {
     "name": "stdout",
     "output_type": "stream",
     "text": [
      "Exported 6292 completed games to Completed_Games.csv\n",
      "Exported 1 upcoming games to Upcoming_Games.csv\n"
     ]
    }
   ],
   "source": [
    "# Filter games by status and export to CSV files\n",
    "\n",
    "# Get completed games (status = 'Final')\n",
    "completed_games = df_2025_game_info[df_2025_game_info['game_status'] == 'Final']\n",
    "\n",
    "# Get upcoming games (status = 'Scheduled')\n",
    "upcoming_games = df_2025_game_info[df_2025_game_info['game_status'] == 'Scheduled']\n",
    "\n",
    "# Export to CSV files\n",
    "completed_games.to_csv('Completed_Games.csv', index=False)\n",
    "upcoming_games.to_csv('Upcoming_Games.csv', index=False)\n",
    "\n",
    "# Print summary\n",
    "print(f\"Exported {len(completed_games)} completed games to Completed_Games.csv\")\n",
    "print(f\"Exported {len(upcoming_games)} upcoming games to Upcoming_Games.csv\")"
   ]
  }
 ],
 "metadata": {
  "kernelspec": {
   "display_name": "Python 3",
   "language": "python",
   "name": "python3"
  },
  "language_info": {
   "codemirror_mode": {
    "name": "ipython",
    "version": 3
   },
   "file_extension": ".py",
   "mimetype": "text/x-python",
   "name": "python",
   "nbconvert_exporter": "python",
   "pygments_lexer": "ipython3",
   "version": "3.13.3"
  }
 },
 "nbformat": 4,
 "nbformat_minor": 2
}
