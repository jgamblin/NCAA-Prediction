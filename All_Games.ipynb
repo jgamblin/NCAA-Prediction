{
 "cells": [
  {
   "cell_type": "code",
   "execution_count": 1,
   "metadata": {
    "execution": {
     "iopub.execute_input": "2025-04-18T12:05:41.473006Z",
     "iopub.status.busy": "2025-04-18T12:05:41.472815Z",
     "iopub.status.idle": "2025-04-18T12:19:59.627487Z",
     "shell.execute_reply": "2025-04-18T12:19:59.626895Z"
    }
   },
   "outputs": [
    {
     "name": "stderr",
     "output_type": "stream",
     "text": [
      "\r",
      "  0%|          | 0 of 169 days scraped in 0.0 sec"
     ]
    },
    {
     "name": "stderr",
     "output_type": "stream",
     "text": [
      "\r",
      "Scraping 0 games on 11/01/24:   0%|          | 0 of 169 days scraped in 0.3 sec"
     ]
    },
    {
     "name": "stderr",
     "output_type": "stream",
     "text": [
      "\r",
      "No games on 11/01/24:   1%|          | 1 of 169 days scraped in 0.3 sec        "
     ]
    },
    {
     "name": "stderr",
     "output_type": "stream",
     "text": [
      "\r",
      "Scraping 0 games on 11/02/24:   1%|          | 1 of 169 days scraped in 0.6 sec"
     ]
    },
    {
     "name": "stderr",
     "output_type": "stream",
     "text": [
      "\r",
      "No games on 11/02/24:   1%|          | 2 of 169 days scraped in 0.6 sec        "
     ]
    },
    {
     "name": "stderr",
     "output_type": "stream",
     "text": [
      "\r",
      "Scraping 0 games on 11/03/24:   1%|          | 2 of 169 days scraped in 1.1 sec"
     ]
    },
    {
     "name": "stderr",
     "output_type": "stream",
     "text": [
      "\r",
      "No games on 11/03/24:   2%|▏         | 3 of 169 days scraped in 1.1 sec        "
     ]
    },
    {
     "name": "stderr",
     "output_type": "stream",
     "text": [
      "\r",
      "Scraping 199 games on 11/04/24:   2%|▏         | 3 of 169 days scraped in 2.8 sec"
     ]
    },
    {
     "name": "stderr",
     "output_type": "stream",
     "text": [
      "\r",
      "Scraping 199 games on 11/04/24:   2%|▏         | 4 of 169 days scraped in 27.4 sec"
     ]
    },
    {
     "name": "stderr",
     "output_type": "stream",
     "text": [
      "\r",
      "Scraping 11 games on 11/05/24:   2%|▏         | 4 of 169 days scraped in 27.7 sec "
     ]
    },
    {
     "name": "stderr",
     "output_type": "stream",
     "text": [
      "\r",
      "Scraping 11 games on 11/05/24:   3%|▎         | 5 of 169 days scraped in 29.4 sec"
     ]
    },
    {
     "name": "stderr",
     "output_type": "stream",
     "text": [
      "\r",
      "Scraping 37 games on 11/06/24:   3%|▎         | 5 of 169 days scraped in 29.9 sec"
     ]
    },
    {
     "name": "stderr",
     "output_type": "stream",
     "text": [
      "\r",
      "Scraping 37 games on 11/06/24:   4%|▎         | 6 of 169 days scraped in 34.8 sec"
     ]
    },
    {
     "name": "stderr",
     "output_type": "stream",
     "text": [
      "\r",
      "Scraping 42 games on 11/07/24:   4%|▎         | 6 of 169 days scraped in 35.3 sec"
     ]
    },
    {
     "name": "stderr",
     "output_type": "stream",
     "text": [
      "\r",
      "Scraping 42 games on 11/07/24:   4%|▍         | 7 of 169 days scraped in 41.1 sec"
     ]
    },
    {
     "name": "stderr",
     "output_type": "stream",
     "text": [
      "\r",
      "Scraping 80 games on 11/08/24:   4%|▍         | 7 of 169 days scraped in 42.0 sec"
     ]
    },
    {
     "name": "stderr",
     "output_type": "stream",
     "text": [
      "\r",
      "Scraping 80 games on 11/08/24:   5%|▍         | 8 of 169 days scraped in 51.3 sec"
     ]
    },
    {
     "name": "stderr",
     "output_type": "stream",
     "text": [
      "\r",
      "Scraping 64 games on 11/09/24:   5%|▍         | 8 of 169 days scraped in 52.1 sec"
     ]
    },
    {
     "name": "stderr",
     "output_type": "stream",
     "text": [
      "\r",
      "Scraping 64 games on 11/09/24:   5%|▌         | 9 of 169 days scraped in 59.5 sec"
     ]
    },
    {
     "name": "stderr",
     "output_type": "stream",
     "text": [
      "\r",
      "Scraping 29 games on 11/10/24:   5%|▌         | 9 of 169 days scraped in 59.9 sec"
     ]
    },
    {
     "name": "stderr",
     "output_type": "stream",
     "text": [
      "\r",
      "Scraping 29 games on 11/10/24:   6%|▌         | 10 of 169 days scraped in 63.1 sec"
     ]
    },
    {
     "name": "stderr",
     "output_type": "stream",
     "text": [
      "\r",
      "Scraping 42 games on 11/11/24:   6%|▌         | 10 of 169 days scraped in 63.7 sec"
     ]
    },
    {
     "name": "stderr",
     "output_type": "stream",
     "text": [
      "\r",
      "Scraping 42 games on 11/11/24:   7%|▋         | 11 of 169 days scraped in 69.3 sec"
     ]
    },
    {
     "name": "stderr",
     "output_type": "stream",
     "text": [
      "\r",
      "Scraping 79 games on 11/12/24:   7%|▋         | 11 of 169 days scraped in 70.2 sec"
     ]
    },
    {
     "name": "stderr",
     "output_type": "stream",
     "text": [
      "\r",
      "Scraping 79 games on 11/12/24:   7%|▋         | 12 of 169 days scraped in 79.7 sec"
     ]
    },
    {
     "name": "stderr",
     "output_type": "stream",
     "text": [
      "\r",
      "Scraping 55 games on 11/13/24:   7%|▋         | 12 of 169 days scraped in 80.3 sec"
     ]
    },
    {
     "name": "stderr",
     "output_type": "stream",
     "text": [
      "\r",
      "Scraping 55 games on 11/13/24:   8%|▊         | 13 of 169 days scraped in 87.3 sec"
     ]
    },
    {
     "name": "stderr",
     "output_type": "stream",
     "text": [
      "\r",
      "Scraping 26 games on 11/14/24:   8%|▊         | 13 of 169 days scraped in 87.7 sec"
     ]
    },
    {
     "name": "stderr",
     "output_type": "stream",
     "text": [
      "\r",
      "Scraping 26 games on 11/14/24:   8%|▊         | 14 of 169 days scraped in 90.4 sec"
     ]
    },
    {
     "name": "stderr",
     "output_type": "stream",
     "text": [
      "\r",
      "Scraping 50 games on 11/15/24:   8%|▊         | 14 of 169 days scraped in 91.0 sec"
     ]
    },
    {
     "name": "stderr",
     "output_type": "stream",
     "text": [
      "\r",
      "Scraping 50 games on 11/15/24:   9%|▉         | 15 of 169 days scraped in 96.7 sec"
     ]
    },
    {
     "name": "stderr",
     "output_type": "stream",
     "text": [
      "\r",
      "Scraping 82 games on 11/16/24:   9%|▉         | 15 of 169 days scraped in 97.6 sec"
     ]
    },
    {
     "name": "stderr",
     "output_type": "stream",
     "text": [
      "\r",
      "Scraping 82 games on 11/16/24:   9%|▉         | 16 of 169 days scraped in 106.2 sec"
     ]
    },
    {
     "name": "stderr",
     "output_type": "stream",
     "text": [
      "\r",
      "Scraping 36 games on 11/17/24:   9%|▉         | 16 of 169 days scraped in 106.6 sec"
     ]
    },
    {
     "name": "stderr",
     "output_type": "stream",
     "text": [
      "\r",
      "Scraping 36 games on 11/17/24:  10%|█         | 17 of 169 days scraped in 111.0 sec"
     ]
    },
    {
     "name": "stderr",
     "output_type": "stream",
     "text": [
      "\r",
      "Scraping 31 games on 11/18/24:  10%|█         | 17 of 169 days scraped in 111.5 sec"
     ]
    },
    {
     "name": "stderr",
     "output_type": "stream",
     "text": [
      "\r",
      "Scraping 31 games on 11/18/24:  11%|█         | 18 of 169 days scraped in 115.0 sec"
     ]
    },
    {
     "name": "stderr",
     "output_type": "stream",
     "text": [
      "\r",
      "Scraping 54 games on 11/19/24:  11%|█         | 18 of 169 days scraped in 115.7 sec"
     ]
    },
    {
     "name": "stderr",
     "output_type": "stream",
     "text": [
      "\r",
      "Scraping 54 games on 11/19/24:  11%|█         | 19 of 169 days scraped in 121.7 sec"
     ]
    },
    {
     "name": "stderr",
     "output_type": "stream",
     "text": [
      "\r",
      "Scraping 47 games on 11/20/24:  11%|█         | 19 of 169 days scraped in 122.4 sec"
     ]
    },
    {
     "name": "stderr",
     "output_type": "stream",
     "text": [
      "\r",
      "Scraping 47 games on 11/20/24:  12%|█▏        | 20 of 169 days scraped in 127.9 sec"
     ]
    },
    {
     "name": "stderr",
     "output_type": "stream",
     "text": [
      "\r",
      "Scraping 44 games on 11/21/24:  12%|█▏        | 20 of 169 days scraped in 128.5 sec"
     ]
    },
    {
     "name": "stderr",
     "output_type": "stream",
     "text": [
      "\r",
      "Scraping 44 games on 11/21/24:  12%|█▏        | 21 of 169 days scraped in 133.1 sec"
     ]
    },
    {
     "name": "stderr",
     "output_type": "stream",
     "text": [
      "\r",
      "Scraping 82 games on 11/22/24:  12%|█▏        | 21 of 169 days scraped in 133.9 sec"
     ]
    },
    {
     "name": "stderr",
     "output_type": "stream",
     "text": [
      "\r",
      "Scraping 82 games on 11/22/24:  13%|█▎        | 22 of 169 days scraped in 142.9 sec"
     ]
    },
    {
     "name": "stderr",
     "output_type": "stream",
     "text": [
      "\r",
      "Scraping 56 games on 11/23/24:  13%|█▎        | 22 of 169 days scraped in 143.9 sec"
     ]
    },
    {
     "name": "stderr",
     "output_type": "stream",
     "text": [
      "\r",
      "Scraping 56 games on 11/23/24:  14%|█▎        | 23 of 169 days scraped in 150.1 sec"
     ]
    },
    {
     "name": "stderr",
     "output_type": "stream",
     "text": [
      "\r",
      "Scraping 54 games on 11/24/24:  14%|█▎        | 23 of 169 days scraped in 150.7 sec"
     ]
    },
    {
     "name": "stderr",
     "output_type": "stream",
     "text": [
      "\r",
      "Scraping 54 games on 11/24/24:  14%|█▍        | 24 of 169 days scraped in 157.5 sec"
     ]
    },
    {
     "name": "stderr",
     "output_type": "stream",
     "text": [
      "\r",
      "Scraping 57 games on 11/25/24:  14%|█▍        | 24 of 169 days scraped in 158.1 sec"
     ]
    },
    {
     "name": "stderr",
     "output_type": "stream",
     "text": [
      "\r",
      "Scraping 57 games on 11/25/24:  15%|█▍        | 25 of 169 days scraped in 164.8 sec"
     ]
    },
    {
     "name": "stderr",
     "output_type": "stream",
     "text": [
      "\r",
      "Scraping 64 games on 11/26/24:  15%|█▍        | 25 of 169 days scraped in 165.5 sec"
     ]
    },
    {
     "name": "stderr",
     "output_type": "stream",
     "text": [
      "\r",
      "Scraping 64 games on 11/26/24:  15%|█▌        | 26 of 169 days scraped in 172.5 sec"
     ]
    },
    {
     "name": "stderr",
     "output_type": "stream",
     "text": [
      "\r",
      "Scraping 70 games on 11/27/24:  15%|█▌        | 26 of 169 days scraped in 173.5 sec"
     ]
    },
    {
     "name": "stderr",
     "output_type": "stream",
     "text": [
      "\r",
      "Scraping 70 games on 11/27/24:  16%|█▌        | 27 of 169 days scraped in 182.4 sec"
     ]
    },
    {
     "name": "stderr",
     "output_type": "stream",
     "text": [
      "\r",
      "Scraping 21 games on 11/28/24:  16%|█▌        | 27 of 169 days scraped in 182.9 sec"
     ]
    },
    {
     "name": "stderr",
     "output_type": "stream",
     "text": [
      "\r",
      "Scraping 21 games on 11/28/24:  17%|█▋        | 28 of 169 days scraped in 185.6 sec"
     ]
    },
    {
     "name": "stderr",
     "output_type": "stream",
     "text": [
      "\r",
      "Scraping 56 games on 11/29/24:  17%|█▋        | 28 of 169 days scraped in 186.3 sec"
     ]
    },
    {
     "name": "stderr",
     "output_type": "stream",
     "text": [
      "\r",
      "Scraping 56 games on 11/29/24:  17%|█▋        | 29 of 169 days scraped in 192.7 sec"
     ]
    },
    {
     "name": "stderr",
     "output_type": "stream",
     "text": [
      "\r",
      "Scraping 68 games on 11/30/24:  17%|█▋        | 29 of 169 days scraped in 193.4 sec"
     ]
    },
    {
     "name": "stderr",
     "output_type": "stream",
     "text": [
      "\r",
      "Scraping 68 games on 11/30/24:  18%|█▊        | 30 of 169 days scraped in 201.6 sec"
     ]
    },
    {
     "name": "stderr",
     "output_type": "stream",
     "text": [
      "\r",
      "Scraping 34 games on 12/01/24:  18%|█▊        | 30 of 169 days scraped in 202.6 sec"
     ]
    },
    {
     "name": "stderr",
     "output_type": "stream",
     "text": [
      "\r",
      "Scraping 34 games on 12/01/24:  18%|█▊        | 31 of 169 days scraped in 206.9 sec"
     ]
    },
    {
     "name": "stderr",
     "output_type": "stream",
     "text": [
      "\r",
      "Scraping 16 games on 12/02/24:  18%|█▊        | 31 of 169 days scraped in 207.2 sec"
     ]
    },
    {
     "name": "stderr",
     "output_type": "stream",
     "text": [
      "\r",
      "Scraping 16 games on 12/02/24:  19%|█▉        | 32 of 169 days scraped in 209.2 sec"
     ]
    },
    {
     "name": "stderr",
     "output_type": "stream",
     "text": [
      "\r",
      "Scraping 56 games on 12/03/24:  19%|█▉        | 32 of 169 days scraped in 209.8 sec"
     ]
    },
    {
     "name": "stderr",
     "output_type": "stream",
     "text": [
      "\r",
      "Scraping 56 games on 12/03/24:  20%|█▉        | 33 of 169 days scraped in 216.1 sec"
     ]
    },
    {
     "name": "stderr",
     "output_type": "stream",
     "text": [
      "\r",
      "Scraping 67 games on 12/04/24:  20%|█▉        | 33 of 169 days scraped in 216.9 sec"
     ]
    },
    {
     "name": "stderr",
     "output_type": "stream",
     "text": [
      "\r",
      "Scraping 67 games on 12/04/24:  20%|██        | 34 of 169 days scraped in 225.5 sec"
     ]
    },
    {
     "name": "stderr",
     "output_type": "stream",
     "text": [
      "\r",
      "Scraping 26 games on 12/05/24:  20%|██        | 34 of 169 days scraped in 226.1 sec"
     ]
    },
    {
     "name": "stderr",
     "output_type": "stream",
     "text": [
      "\r",
      "Scraping 26 games on 12/05/24:  21%|██        | 35 of 169 days scraped in 229.1 sec"
     ]
    },
    {
     "name": "stderr",
     "output_type": "stream",
     "text": [
      "\r",
      "Scraping 22 games on 12/06/24:  21%|██        | 35 of 169 days scraped in 229.8 sec"
     ]
    },
    {
     "name": "stderr",
     "output_type": "stream",
     "text": [
      "\r",
      "Scraping 22 games on 12/06/24:  21%|██▏       | 36 of 169 days scraped in 232.6 sec"
     ]
    },
    {
     "name": "stderr",
     "output_type": "stream",
     "text": [
      "\r",
      "Scraping 108 games on 12/07/24:  21%|██▏       | 36 of 169 days scraped in 233.6 sec"
     ]
    },
    {
     "name": "stderr",
     "output_type": "stream",
     "text": [
      "\r",
      "Scraping 108 games on 12/07/24:  22%|██▏       | 37 of 169 days scraped in 246.4 sec"
     ]
    },
    {
     "name": "stderr",
     "output_type": "stream",
     "text": [
      "\r",
      "Scraping 39 games on 12/08/24:  22%|██▏       | 37 of 169 days scraped in 247.0 sec "
     ]
    },
    {
     "name": "stderr",
     "output_type": "stream",
     "text": [
      "\r",
      "Scraping 39 games on 12/08/24:  22%|██▏       | 38 of 169 days scraped in 251.8 sec"
     ]
    },
    {
     "name": "stderr",
     "output_type": "stream",
     "text": [
      "\r",
      "Scraping 8 games on 12/09/24:  22%|██▏       | 38 of 169 days scraped in 252.5 sec "
     ]
    },
    {
     "name": "stderr",
     "output_type": "stream",
     "text": [
      "\r",
      "Scraping 8 games on 12/09/24:  23%|██▎       | 39 of 169 days scraped in 253.7 sec"
     ]
    },
    {
     "name": "stderr",
     "output_type": "stream",
     "text": [
      "\r",
      "Scraping 37 games on 12/10/24:  23%|██▎       | 39 of 169 days scraped in 254.2 sec"
     ]
    },
    {
     "name": "stderr",
     "output_type": "stream",
     "text": [
      "\r",
      "Scraping 37 games on 12/10/24:  24%|██▎       | 40 of 169 days scraped in 259.1 sec"
     ]
    },
    {
     "name": "stderr",
     "output_type": "stream",
     "text": [
      "\r",
      "Scraping 28 games on 12/11/24:  24%|██▎       | 40 of 169 days scraped in 259.5 sec"
     ]
    },
    {
     "name": "stderr",
     "output_type": "stream",
     "text": [
      "\r",
      "Scraping 28 games on 12/11/24:  24%|██▍       | 41 of 169 days scraped in 262.6 sec"
     ]
    },
    {
     "name": "stderr",
     "output_type": "stream",
     "text": [
      "\r",
      "Scraping 10 games on 12/12/24:  24%|██▍       | 41 of 169 days scraped in 262.9 sec"
     ]
    },
    {
     "name": "stderr",
     "output_type": "stream",
     "text": [
      "\r",
      "Scraping 10 games on 12/12/24:  25%|██▍       | 42 of 169 days scraped in 264.1 sec"
     ]
    },
    {
     "name": "stderr",
     "output_type": "stream",
     "text": [
      "\r",
      "Scraping 10 games on 12/13/24:  25%|██▍       | 42 of 169 days scraped in 264.5 sec"
     ]
    },
    {
     "name": "stderr",
     "output_type": "stream",
     "text": [
      "\r",
      "Scraping 10 games on 12/13/24:  25%|██▌       | 43 of 169 days scraped in 265.7 sec"
     ]
    },
    {
     "name": "stderr",
     "output_type": "stream",
     "text": [
      "\r",
      "Scraping 97 games on 12/14/24:  25%|██▌       | 43 of 169 days scraped in 266.7 sec"
     ]
    },
    {
     "name": "stderr",
     "output_type": "stream",
     "text": [
      "\r",
      "Scraping 97 games on 12/14/24:  26%|██▌       | 44 of 169 days scraped in 278.7 sec"
     ]
    },
    {
     "name": "stderr",
     "output_type": "stream",
     "text": [
      "\r",
      "Scraping 40 games on 12/15/24:  26%|██▌       | 44 of 169 days scraped in 279.2 sec"
     ]
    },
    {
     "name": "stderr",
     "output_type": "stream",
     "text": [
      "\r",
      "Scraping 40 games on 12/15/24:  27%|██▋       | 45 of 169 days scraped in 284.1 sec"
     ]
    },
    {
     "name": "stderr",
     "output_type": "stream",
     "text": [
      "\r",
      "Scraping 18 games on 12/16/24:  27%|██▋       | 45 of 169 days scraped in 284.5 sec"
     ]
    },
    {
     "name": "stderr",
     "output_type": "stream",
     "text": [
      "\r",
      "Scraping 18 games on 12/16/24:  27%|██▋       | 46 of 169 days scraped in 286.8 sec"
     ]
    },
    {
     "name": "stderr",
     "output_type": "stream",
     "text": [
      "\r",
      "Scraping 48 games on 12/17/24:  27%|██▋       | 46 of 169 days scraped in 287.6 sec"
     ]
    },
    {
     "name": "stderr",
     "output_type": "stream",
     "text": [
      "\r",
      "Scraping 48 games on 12/17/24:  28%|██▊       | 47 of 169 days scraped in 293.3 sec"
     ]
    },
    {
     "name": "stderr",
     "output_type": "stream",
     "text": [
      "\r",
      "Scraping 64 games on 12/18/24:  28%|██▊       | 47 of 169 days scraped in 294.1 sec"
     ]
    },
    {
     "name": "stderr",
     "output_type": "stream",
     "text": [
      "\r",
      "Scraping 64 games on 12/18/24:  28%|██▊       | 48 of 169 days scraped in 301.2 sec"
     ]
    },
    {
     "name": "stderr",
     "output_type": "stream",
     "text": [
      "\r",
      "Scraping 26 games on 12/19/24:  28%|██▊       | 48 of 169 days scraped in 301.6 sec"
     ]
    },
    {
     "name": "stderr",
     "output_type": "stream",
     "text": [
      "\r",
      "Scraping 26 games on 12/19/24:  29%|██▉       | 49 of 169 days scraped in 304.6 sec"
     ]
    },
    {
     "name": "stderr",
     "output_type": "stream",
     "text": [
      "\r",
      "Scraping 23 games on 12/20/24:  29%|██▉       | 49 of 169 days scraped in 304.9 sec"
     ]
    },
    {
     "name": "stderr",
     "output_type": "stream",
     "text": [
      "\r",
      "Scraping 23 games on 12/20/24:  30%|██▉       | 50 of 169 days scraped in 307.6 sec"
     ]
    },
    {
     "name": "stderr",
     "output_type": "stream",
     "text": [
      "\r",
      "Scraping 114 games on 12/21/24:  30%|██▉       | 50 of 169 days scraped in 308.7 sec"
     ]
    },
    {
     "name": "stderr",
     "output_type": "stream",
     "text": [
      "\r",
      "Scraping 114 games on 12/21/24:  30%|███       | 51 of 169 days scraped in 320.6 sec"
     ]
    },
    {
     "name": "stderr",
     "output_type": "stream",
     "text": [
      "\r",
      "Scraping 48 games on 12/22/24:  30%|███       | 51 of 169 days scraped in 321.4 sec "
     ]
    },
    {
     "name": "stderr",
     "output_type": "stream",
     "text": [
      "\r",
      "Scraping 48 games on 12/22/24:  31%|███       | 52 of 169 days scraped in 327.1 sec"
     ]
    },
    {
     "name": "stderr",
     "output_type": "stream",
     "text": [
      "\r",
      "Scraping 9 games on 12/23/24:  31%|███       | 52 of 169 days scraped in 327.5 sec "
     ]
    },
    {
     "name": "stderr",
     "output_type": "stream",
     "text": [
      "\r",
      "Scraping 9 games on 12/23/24:  31%|███▏      | 53 of 169 days scraped in 328.7 sec"
     ]
    },
    {
     "name": "stderr",
     "output_type": "stream",
     "text": [
      "\r",
      "Scraping 0 games on 12/24/24:  31%|███▏      | 53 of 169 days scraped in 329.0 sec"
     ]
    },
    {
     "name": "stderr",
     "output_type": "stream",
     "text": [
      "\r",
      "No games on 12/24/24:  32%|███▏      | 54 of 169 days scraped in 329.0 sec        "
     ]
    },
    {
     "name": "stderr",
     "output_type": "stream",
     "text": [
      "\r",
      "Scraping 4 games on 12/25/24:  32%|███▏      | 54 of 169 days scraped in 329.2 sec"
     ]
    },
    {
     "name": "stderr",
     "output_type": "stream",
     "text": [
      "\r",
      "Scraping 4 games on 12/25/24:  33%|███▎      | 55 of 169 days scraped in 329.9 sec"
     ]
    },
    {
     "name": "stderr",
     "output_type": "stream",
     "text": [
      "\r",
      "Scraping 0 games on 12/26/24:  33%|███▎      | 55 of 169 days scraped in 330.1 sec"
     ]
    },
    {
     "name": "stderr",
     "output_type": "stream",
     "text": [
      "\r",
      "No games on 12/26/24:  33%|███▎      | 56 of 169 days scraped in 330.1 sec        "
     ]
    },
    {
     "name": "stderr",
     "output_type": "stream",
     "text": [
      "\r",
      "Scraping 2 games on 12/27/24:  33%|███▎      | 56 of 169 days scraped in 330.4 sec"
     ]
    },
    {
     "name": "stderr",
     "output_type": "stream",
     "text": [
      "\r",
      "Scraping 2 games on 12/27/24:  34%|███▎      | 57 of 169 days scraped in 330.7 sec"
     ]
    },
    {
     "name": "stderr",
     "output_type": "stream",
     "text": [
      "\r",
      "Scraping 53 games on 12/28/24:  34%|███▎      | 57 of 169 days scraped in 331.3 sec"
     ]
    },
    {
     "name": "stderr",
     "output_type": "stream",
     "text": [
      "\r",
      "Scraping 53 games on 12/28/24:  34%|███▍      | 58 of 169 days scraped in 336.9 sec"
     ]
    },
    {
     "name": "stderr",
     "output_type": "stream",
     "text": [
      "\r",
      "Scraping 60 games on 12/29/24:  34%|███▍      | 58 of 169 days scraped in 337.8 sec"
     ]
    },
    {
     "name": "stderr",
     "output_type": "stream",
     "text": [
      "\r",
      "Scraping 60 games on 12/29/24:  35%|███▍      | 59 of 169 days scraped in 344.6 sec"
     ]
    },
    {
     "name": "stderr",
     "output_type": "stream",
     "text": [
      "\r",
      "Scraping 43 games on 12/30/24:  35%|███▍      | 59 of 169 days scraped in 345.2 sec"
     ]
    },
    {
     "name": "stderr",
     "output_type": "stream",
     "text": [
      "\r",
      "Scraping 43 games on 12/30/24:  36%|███▌      | 60 of 169 days scraped in 350.2 sec"
     ]
    },
    {
     "name": "stderr",
     "output_type": "stream",
     "text": [
      "\r",
      "Scraping 33 games on 12/31/24:  36%|███▌      | 60 of 169 days scraped in 350.8 sec"
     ]
    },
    {
     "name": "stderr",
     "output_type": "stream",
     "text": [
      "\r",
      "Scraping 33 games on 12/31/24:  36%|███▌      | 61 of 169 days scraped in 354.6 sec"
     ]
    },
    {
     "name": "stderr",
     "output_type": "stream",
     "text": [
      "\r",
      "Scraping 21 games on 01/01/25:  36%|███▌      | 61 of 169 days scraped in 355.0 sec"
     ]
    },
    {
     "name": "stderr",
     "output_type": "stream",
     "text": [
      "\r",
      "Scraping 21 games on 01/01/25:  37%|███▋      | 62 of 169 days scraped in 357.1 sec"
     ]
    },
    {
     "name": "stderr",
     "output_type": "stream",
     "text": [
      "\r",
      "Scraping 66 games on 01/02/25:  37%|███▋      | 62 of 169 days scraped in 357.7 sec"
     ]
    },
    {
     "name": "stderr",
     "output_type": "stream",
     "text": [
      "\r",
      "Scraping 66 games on 01/02/25:  37%|███▋      | 63 of 169 days scraped in 364.9 sec"
     ]
    },
    {
     "name": "stderr",
     "output_type": "stream",
     "text": [
      "\r",
      "Scraping 16 games on 01/03/25:  37%|███▋      | 63 of 169 days scraped in 365.2 sec"
     ]
    },
    {
     "name": "stderr",
     "output_type": "stream",
     "text": [
      "\r",
      "Scraping 16 games on 01/03/25:  38%|███▊      | 64 of 169 days scraped in 367.0 sec"
     ]
    },
    {
     "name": "stderr",
     "output_type": "stream",
     "text": [
      "\r",
      "Scraping 139 games on 01/04/25:  38%|███▊      | 64 of 169 days scraped in 368.0 sec"
     ]
    },
    {
     "name": "stderr",
     "output_type": "stream",
     "text": [
      "\r",
      "Scraping 139 games on 01/04/25:  38%|███▊      | 65 of 169 days scraped in 383.2 sec"
     ]
    },
    {
     "name": "stderr",
     "output_type": "stream",
     "text": [
      "\r",
      "Scraping 27 games on 01/05/25:  38%|███▊      | 65 of 169 days scraped in 383.7 sec "
     ]
    },
    {
     "name": "stderr",
     "output_type": "stream",
     "text": [
      "\r",
      "Scraping 27 games on 01/05/25:  39%|███▉      | 66 of 169 days scraped in 386.9 sec"
     ]
    },
    {
     "name": "stderr",
     "output_type": "stream",
     "text": [
      "\r",
      "Scraping 16 games on 01/06/25:  39%|███▉      | 66 of 169 days scraped in 387.2 sec"
     ]
    },
    {
     "name": "stderr",
     "output_type": "stream",
     "text": [
      "\r",
      "Scraping 16 games on 01/06/25:  40%|███▉      | 67 of 169 days scraped in 389.0 sec"
     ]
    },
    {
     "name": "stderr",
     "output_type": "stream",
     "text": [
      "\r",
      "Scraping 34 games on 01/07/25:  40%|███▉      | 67 of 169 days scraped in 389.8 sec"
     ]
    },
    {
     "name": "stderr",
     "output_type": "stream",
     "text": [
      "\r",
      "Scraping 34 games on 01/07/25:  40%|████      | 68 of 169 days scraped in 393.4 sec"
     ]
    },
    {
     "name": "stderr",
     "output_type": "stream",
     "text": [
      "\r",
      "Scraping 50 games on 01/08/25:  40%|████      | 68 of 169 days scraped in 394.0 sec"
     ]
    },
    {
     "name": "stderr",
     "output_type": "stream",
     "text": [
      "\r",
      "Scraping 50 games on 01/08/25:  41%|████      | 69 of 169 days scraped in 399.5 sec"
     ]
    },
    {
     "name": "stderr",
     "output_type": "stream",
     "text": [
      "\r",
      "Scraping 55 games on 01/09/25:  41%|████      | 69 of 169 days scraped in 400.1 sec"
     ]
    },
    {
     "name": "stderr",
     "output_type": "stream",
     "text": [
      "\r",
      "Scraping 55 games on 01/09/25:  41%|████▏     | 70 of 169 days scraped in 406.3 sec"
     ]
    },
    {
     "name": "stderr",
     "output_type": "stream",
     "text": [
      "\r",
      "Scraping 14 games on 01/10/25:  41%|████▏     | 70 of 169 days scraped in 406.6 sec"
     ]
    },
    {
     "name": "stderr",
     "output_type": "stream",
     "text": [
      "\r",
      "Scraping 14 games on 01/10/25:  42%|████▏     | 71 of 169 days scraped in 408.1 sec"
     ]
    },
    {
     "name": "stderr",
     "output_type": "stream",
     "text": [
      "\r",
      "Scraping 144 games on 01/11/25:  42%|████▏     | 71 of 169 days scraped in 409.5 sec"
     ]
    },
    {
     "name": "stderr",
     "output_type": "stream",
     "text": [
      "\r",
      "Scraping 144 games on 01/11/25:  43%|████▎     | 72 of 169 days scraped in 425.5 sec"
     ]
    },
    {
     "name": "stderr",
     "output_type": "stream",
     "text": [
      "\r",
      "Scraping 21 games on 01/12/25:  43%|████▎     | 72 of 169 days scraped in 425.9 sec "
     ]
    },
    {
     "name": "stderr",
     "output_type": "stream",
     "text": [
      "\r",
      "Scraping 21 games on 01/12/25:  43%|████▎     | 73 of 169 days scraped in 428.6 sec"
     ]
    },
    {
     "name": "stderr",
     "output_type": "stream",
     "text": [
      "\r",
      "Scraping 22 games on 01/13/25:  43%|████▎     | 73 of 169 days scraped in 429.0 sec"
     ]
    },
    {
     "name": "stderr",
     "output_type": "stream",
     "text": [
      "\r",
      "Scraping 22 games on 01/13/25:  44%|████▍     | 74 of 169 days scraped in 431.5 sec"
     ]
    },
    {
     "name": "stderr",
     "output_type": "stream",
     "text": [
      "\r",
      "Scraping 36 games on 01/14/25:  44%|████▍     | 74 of 169 days scraped in 432.1 sec"
     ]
    },
    {
     "name": "stderr",
     "output_type": "stream",
     "text": [
      "\r",
      "Scraping 36 games on 01/14/25:  44%|████▍     | 75 of 169 days scraped in 436.1 sec"
     ]
    },
    {
     "name": "stderr",
     "output_type": "stream",
     "text": [
      "\r",
      "Scraping 48 games on 01/15/25:  44%|████▍     | 75 of 169 days scraped in 436.9 sec"
     ]
    },
    {
     "name": "stderr",
     "output_type": "stream",
     "text": [
      "\r",
      "Scraping 48 games on 01/15/25:  45%|████▍     | 76 of 169 days scraped in 443.2 sec"
     ]
    },
    {
     "name": "stderr",
     "output_type": "stream",
     "text": [
      "\r",
      "Scraping 63 games on 01/16/25:  45%|████▍     | 76 of 169 days scraped in 444.1 sec"
     ]
    },
    {
     "name": "stderr",
     "output_type": "stream",
     "text": [
      "\r",
      "Scraping 63 games on 01/16/25:  46%|████▌     | 77 of 169 days scraped in 451.8 sec"
     ]
    },
    {
     "name": "stderr",
     "output_type": "stream",
     "text": [
      "\r",
      "Scraping 10 games on 01/17/25:  46%|████▌     | 77 of 169 days scraped in 452.4 sec"
     ]
    },
    {
     "name": "stderr",
     "output_type": "stream",
     "text": [
      "\r",
      "Scraping 10 games on 01/17/25:  46%|████▌     | 78 of 169 days scraped in 453.4 sec"
     ]
    },
    {
     "name": "stderr",
     "output_type": "stream",
     "text": [
      "\r",
      "Scraping 148 games on 01/18/25:  46%|████▌     | 78 of 169 days scraped in 454.9 sec"
     ]
    },
    {
     "name": "stderr",
     "output_type": "stream",
     "text": [
      "\r",
      "Scraping 148 games on 01/18/25:  47%|████▋     | 79 of 169 days scraped in 471.5 sec"
     ]
    },
    {
     "name": "stderr",
     "output_type": "stream",
     "text": [
      "\r",
      "Scraping 11 games on 01/19/25:  47%|████▋     | 79 of 169 days scraped in 472.2 sec "
     ]
    },
    {
     "name": "stderr",
     "output_type": "stream",
     "text": [
      "\r",
      "Scraping 11 games on 01/19/25:  47%|████▋     | 80 of 169 days scraped in 473.5 sec"
     ]
    },
    {
     "name": "stderr",
     "output_type": "stream",
     "text": [
      "\r",
      "Scraping 29 games on 01/20/25:  47%|████▋     | 80 of 169 days scraped in 474.0 sec"
     ]
    },
    {
     "name": "stderr",
     "output_type": "stream",
     "text": [
      "\r",
      "Scraping 29 games on 01/20/25:  48%|████▊     | 81 of 169 days scraped in 477.2 sec"
     ]
    },
    {
     "name": "stderr",
     "output_type": "stream",
     "text": [
      "\r",
      "Scraping 35 games on 01/21/25:  48%|████▊     | 81 of 169 days scraped in 478.1 sec"
     ]
    },
    {
     "name": "stderr",
     "output_type": "stream",
     "text": [
      "\r",
      "Scraping 35 games on 01/21/25:  49%|████▊     | 82 of 169 days scraped in 482.4 sec"
     ]
    },
    {
     "name": "stderr",
     "output_type": "stream",
     "text": [
      "\r",
      "Scraping 42 games on 01/22/25:  49%|████▊     | 82 of 169 days scraped in 483.0 sec"
     ]
    },
    {
     "name": "stderr",
     "output_type": "stream",
     "text": [
      "\r",
      "Scraping 42 games on 01/22/25:  49%|████▉     | 83 of 169 days scraped in 488.2 sec"
     ]
    },
    {
     "name": "stderr",
     "output_type": "stream",
     "text": [
      "\r",
      "Scraping 61 games on 01/23/25:  49%|████▉     | 83 of 169 days scraped in 488.9 sec"
     ]
    },
    {
     "name": "stderr",
     "output_type": "stream",
     "text": [
      "\r",
      "Scraping 61 games on 01/23/25:  50%|████▉     | 84 of 169 days scraped in 496.0 sec"
     ]
    },
    {
     "name": "stderr",
     "output_type": "stream",
     "text": [
      "\r",
      "Scraping 14 games on 01/24/25:  50%|████▉     | 84 of 169 days scraped in 496.5 sec"
     ]
    },
    {
     "name": "stderr",
     "output_type": "stream",
     "text": [
      "\r",
      "Scraping 14 games on 01/24/25:  50%|█████     | 85 of 169 days scraped in 498.3 sec"
     ]
    },
    {
     "name": "stderr",
     "output_type": "stream",
     "text": [
      "\r",
      "Scraping 149 games on 01/25/25:  50%|█████     | 85 of 169 days scraped in 500.0 sec"
     ]
    },
    {
     "name": "stderr",
     "output_type": "stream",
     "text": [
      "\r",
      "Scraping 149 games on 01/25/25:  51%|█████     | 86 of 169 days scraped in 517.6 sec"
     ]
    },
    {
     "name": "stderr",
     "output_type": "stream",
     "text": [
      "\r",
      "Scraping 13 games on 01/26/25:  51%|█████     | 86 of 169 days scraped in 518.0 sec "
     ]
    },
    {
     "name": "stderr",
     "output_type": "stream",
     "text": [
      "\r",
      "Scraping 13 games on 01/26/25:  51%|█████▏    | 87 of 169 days scraped in 519.8 sec"
     ]
    },
    {
     "name": "stderr",
     "output_type": "stream",
     "text": [
      "\r",
      "Scraping 22 games on 01/27/25:  51%|█████▏    | 87 of 169 days scraped in 520.2 sec"
     ]
    },
    {
     "name": "stderr",
     "output_type": "stream",
     "text": [
      "\r",
      "Scraping 22 games on 01/27/25:  52%|█████▏    | 88 of 169 days scraped in 523.1 sec"
     ]
    },
    {
     "name": "stderr",
     "output_type": "stream",
     "text": [
      "\r",
      "Scraping 29 games on 01/28/25:  52%|█████▏    | 88 of 169 days scraped in 523.7 sec"
     ]
    },
    {
     "name": "stderr",
     "output_type": "stream",
     "text": [
      "\r",
      "Scraping 29 games on 01/28/25:  53%|█████▎    | 89 of 169 days scraped in 527.4 sec"
     ]
    },
    {
     "name": "stderr",
     "output_type": "stream",
     "text": [
      "\r",
      "Scraping 52 games on 01/29/25:  53%|█████▎    | 89 of 169 days scraped in 528.0 sec"
     ]
    },
    {
     "name": "stderr",
     "output_type": "stream",
     "text": [
      "\r",
      "Scraping 52 games on 01/29/25:  53%|█████▎    | 90 of 169 days scraped in 534.6 sec"
     ]
    },
    {
     "name": "stderr",
     "output_type": "stream",
     "text": [
      "\r",
      "Scraping 58 games on 01/30/25:  53%|█████▎    | 90 of 169 days scraped in 535.7 sec"
     ]
    },
    {
     "name": "stderr",
     "output_type": "stream",
     "text": [
      "\r",
      "Scraping 58 games on 01/30/25:  54%|█████▍    | 91 of 169 days scraped in 543.0 sec"
     ]
    },
    {
     "name": "stderr",
     "output_type": "stream",
     "text": [
      "\r",
      "Scraping 14 games on 01/31/25:  54%|█████▍    | 91 of 169 days scraped in 543.4 sec"
     ]
    },
    {
     "name": "stderr",
     "output_type": "stream",
     "text": [
      "\r",
      "Scraping 14 games on 01/31/25:  54%|█████▍    | 92 of 169 days scraped in 545.1 sec"
     ]
    },
    {
     "name": "stderr",
     "output_type": "stream",
     "text": [
      "\r",
      "Scraping 146 games on 02/01/25:  54%|█████▍    | 92 of 169 days scraped in 546.6 sec"
     ]
    },
    {
     "name": "stderr",
     "output_type": "stream",
     "text": [
      "\r",
      "Scraping 146 games on 02/01/25:  55%|█████▌    | 93 of 169 days scraped in 564.2 sec"
     ]
    },
    {
     "name": "stderr",
     "output_type": "stream",
     "text": [
      "\r",
      "Scraping 19 games on 02/02/25:  55%|█████▌    | 93 of 169 days scraped in 564.7 sec "
     ]
    },
    {
     "name": "stderr",
     "output_type": "stream",
     "text": [
      "\r",
      "Scraping 19 games on 02/02/25:  56%|█████▌    | 94 of 169 days scraped in 567.0 sec"
     ]
    },
    {
     "name": "stderr",
     "output_type": "stream",
     "text": [
      "\r",
      "Scraping 21 games on 02/03/25:  56%|█████▌    | 94 of 169 days scraped in 567.5 sec"
     ]
    },
    {
     "name": "stderr",
     "output_type": "stream",
     "text": [
      "\r",
      "Scraping 21 games on 02/03/25:  56%|█████▌    | 95 of 169 days scraped in 569.8 sec"
     ]
    },
    {
     "name": "stderr",
     "output_type": "stream",
     "text": [
      "\r",
      "Scraping 34 games on 02/04/25:  56%|█████▌    | 95 of 169 days scraped in 570.3 sec"
     ]
    },
    {
     "name": "stderr",
     "output_type": "stream",
     "text": [
      "\r",
      "Scraping 34 games on 02/04/25:  57%|█████▋    | 96 of 169 days scraped in 575.0 sec"
     ]
    },
    {
     "name": "stderr",
     "output_type": "stream",
     "text": [
      "\r",
      "Scraping 55 games on 02/05/25:  57%|█████▋    | 96 of 169 days scraped in 575.7 sec"
     ]
    },
    {
     "name": "stderr",
     "output_type": "stream",
     "text": [
      "\r",
      "Scraping 55 games on 02/05/25:  57%|█████▋    | 97 of 169 days scraped in 582.6 sec"
     ]
    },
    {
     "name": "stderr",
     "output_type": "stream",
     "text": [
      "\r",
      "Scraping 59 games on 02/06/25:  57%|█████▋    | 97 of 169 days scraped in 583.3 sec"
     ]
    },
    {
     "name": "stderr",
     "output_type": "stream",
     "text": [
      "\r",
      "Scraping 59 games on 02/06/25:  58%|█████▊    | 98 of 169 days scraped in 590.8 sec"
     ]
    },
    {
     "name": "stderr",
     "output_type": "stream",
     "text": [
      "\r",
      "Scraping 7 games on 02/07/25:  58%|█████▊    | 98 of 169 days scraped in 591.2 sec "
     ]
    },
    {
     "name": "stderr",
     "output_type": "stream",
     "text": [
      "\r",
      "Scraping 7 games on 02/07/25:  59%|█████▊    | 99 of 169 days scraped in 592.3 sec"
     ]
    },
    {
     "name": "stderr",
     "output_type": "stream",
     "text": [
      "\r",
      "Scraping 155 games on 02/08/25:  59%|█████▊    | 99 of 169 days scraped in 593.5 sec"
     ]
    },
    {
     "name": "stderr",
     "output_type": "stream",
     "text": [
      "\r",
      "Scraping 155 games on 02/08/25:  59%|█████▉    | 100 of 169 days scraped in 610.0 sec"
     ]
    },
    {
     "name": "stderr",
     "output_type": "stream",
     "text": [
      "\r",
      "Scraping 8 games on 02/09/25:  59%|█████▉    | 100 of 169 days scraped in 610.3 sec  "
     ]
    },
    {
     "name": "stderr",
     "output_type": "stream",
     "text": [
      "\r",
      "Scraping 8 games on 02/09/25:  60%|█████▉    | 101 of 169 days scraped in 611.3 sec"
     ]
    },
    {
     "name": "stderr",
     "output_type": "stream",
     "text": [
      "\r",
      "Scraping 19 games on 02/10/25:  60%|█████▉    | 101 of 169 days scraped in 611.7 sec"
     ]
    },
    {
     "name": "stderr",
     "output_type": "stream",
     "text": [
      "\r",
      "Scraping 19 games on 02/10/25:  60%|██████    | 102 of 169 days scraped in 614.4 sec"
     ]
    },
    {
     "name": "stderr",
     "output_type": "stream",
     "text": [
      "\r",
      "Scraping 37 games on 02/11/25:  60%|██████    | 102 of 169 days scraped in 615.2 sec"
     ]
    },
    {
     "name": "stderr",
     "output_type": "stream",
     "text": [
      "\r",
      "Scraping 37 games on 02/11/25:  61%|██████    | 103 of 169 days scraped in 619.4 sec"
     ]
    },
    {
     "name": "stderr",
     "output_type": "stream",
     "text": [
      "\r",
      "Scraping 44 games on 02/12/25:  61%|██████    | 103 of 169 days scraped in 620.1 sec"
     ]
    },
    {
     "name": "stderr",
     "output_type": "stream",
     "text": [
      "\r",
      "Scraping 44 games on 02/12/25:  62%|██████▏   | 104 of 169 days scraped in 625.2 sec"
     ]
    },
    {
     "name": "stderr",
     "output_type": "stream",
     "text": [
      "\r",
      "Scraping 59 games on 02/13/25:  62%|██████▏   | 104 of 169 days scraped in 625.8 sec"
     ]
    },
    {
     "name": "stderr",
     "output_type": "stream",
     "text": [
      "\r",
      "Scraping 59 games on 02/13/25:  62%|██████▏   | 105 of 169 days scraped in 634.2 sec"
     ]
    },
    {
     "name": "stderr",
     "output_type": "stream",
     "text": [
      "\r",
      "Scraping 16 games on 02/14/25:  62%|██████▏   | 105 of 169 days scraped in 634.6 sec"
     ]
    },
    {
     "name": "stderr",
     "output_type": "stream",
     "text": [
      "\r",
      "Scraping 16 games on 02/14/25:  63%|██████▎   | 106 of 169 days scraped in 636.4 sec"
     ]
    },
    {
     "name": "stderr",
     "output_type": "stream",
     "text": [
      "\r",
      "Scraping 146 games on 02/15/25:  63%|██████▎   | 106 of 169 days scraped in 638.0 sec"
     ]
    },
    {
     "name": "stderr",
     "output_type": "stream",
     "text": [
      "\r",
      "Scraping 146 games on 02/15/25:  63%|██████▎   | 107 of 169 days scraped in 655.6 sec"
     ]
    },
    {
     "name": "stderr",
     "output_type": "stream",
     "text": [
      "\r",
      "Scraping 25 games on 02/16/25:  63%|██████▎   | 107 of 169 days scraped in 656.2 sec "
     ]
    },
    {
     "name": "stderr",
     "output_type": "stream",
     "text": [
      "\r",
      "Scraping 25 games on 02/16/25:  64%|██████▍   | 108 of 169 days scraped in 659.2 sec"
     ]
    },
    {
     "name": "stderr",
     "output_type": "stream",
     "text": [
      "\r",
      "Scraping 21 games on 02/17/25:  64%|██████▍   | 108 of 169 days scraped in 659.7 sec"
     ]
    },
    {
     "name": "stderr",
     "output_type": "stream",
     "text": [
      "\r",
      "Scraping 21 games on 02/17/25:  64%|██████▍   | 109 of 169 days scraped in 662.7 sec"
     ]
    },
    {
     "name": "stderr",
     "output_type": "stream",
     "text": [
      "\r",
      "Scraping 32 games on 02/18/25:  64%|██████▍   | 109 of 169 days scraped in 663.3 sec"
     ]
    },
    {
     "name": "stderr",
     "output_type": "stream",
     "text": [
      "\r",
      "Scraping 32 games on 02/18/25:  65%|██████▌   | 110 of 169 days scraped in 667.7 sec"
     ]
    },
    {
     "name": "stderr",
     "output_type": "stream",
     "text": [
      "\r",
      "Scraping 51 games on 02/19/25:  65%|██████▌   | 110 of 169 days scraped in 668.4 sec"
     ]
    },
    {
     "name": "stderr",
     "output_type": "stream",
     "text": [
      "\r",
      "Scraping 51 games on 02/19/25:  66%|██████▌   | 111 of 169 days scraped in 674.2 sec"
     ]
    },
    {
     "name": "stderr",
     "output_type": "stream",
     "text": [
      "\r",
      "Scraping 52 games on 02/20/25:  66%|██████▌   | 111 of 169 days scraped in 675.1 sec"
     ]
    },
    {
     "name": "stderr",
     "output_type": "stream",
     "text": [
      "\r",
      "Scraping 52 games on 02/20/25:  66%|██████▋   | 112 of 169 days scraped in 681.1 sec"
     ]
    },
    {
     "name": "stderr",
     "output_type": "stream",
     "text": [
      "\r",
      "Scraping 20 games on 02/21/25:  66%|██████▋   | 112 of 169 days scraped in 681.5 sec"
     ]
    },
    {
     "name": "stderr",
     "output_type": "stream",
     "text": [
      "\r",
      "Scraping 20 games on 02/21/25:  67%|██████▋   | 113 of 169 days scraped in 683.8 sec"
     ]
    },
    {
     "name": "stderr",
     "output_type": "stream",
     "text": [
      "\r",
      "Scraping 131 games on 02/22/25:  67%|██████▋   | 113 of 169 days scraped in 684.9 sec"
     ]
    },
    {
     "name": "stderr",
     "output_type": "stream",
     "text": [
      "\r",
      "Scraping 131 games on 02/22/25:  67%|██████▋   | 114 of 169 days scraped in 701.9 sec"
     ]
    },
    {
     "name": "stderr",
     "output_type": "stream",
     "text": [
      "\r",
      "Scraping 28 games on 02/23/25:  67%|██████▋   | 114 of 169 days scraped in 702.3 sec "
     ]
    },
    {
     "name": "stderr",
     "output_type": "stream",
     "text": [
      "\r",
      "Scraping 28 games on 02/23/25:  68%|██████▊   | 115 of 169 days scraped in 705.4 sec"
     ]
    },
    {
     "name": "stderr",
     "output_type": "stream",
     "text": [
      "\r",
      "Scraping 27 games on 02/24/25:  68%|██████▊   | 115 of 169 days scraped in 705.9 sec"
     ]
    },
    {
     "name": "stderr",
     "output_type": "stream",
     "text": [
      "\r",
      "Scraping 27 games on 02/24/25:  69%|██████▊   | 116 of 169 days scraped in 709.2 sec"
     ]
    },
    {
     "name": "stderr",
     "output_type": "stream",
     "text": [
      "\r",
      "Scraping 35 games on 02/25/25:  69%|██████▊   | 116 of 169 days scraped in 709.7 sec"
     ]
    },
    {
     "name": "stderr",
     "output_type": "stream",
     "text": [
      "\r",
      "Scraping 35 games on 02/25/25:  69%|██████▉   | 117 of 169 days scraped in 714.3 sec"
     ]
    },
    {
     "name": "stderr",
     "output_type": "stream",
     "text": [
      "\r",
      "Scraping 54 games on 02/26/25:  69%|██████▉   | 117 of 169 days scraped in 714.9 sec"
     ]
    },
    {
     "name": "stderr",
     "output_type": "stream",
     "text": [
      "\r",
      "Scraping 54 games on 02/26/25:  70%|██████▉   | 118 of 169 days scraped in 721.3 sec"
     ]
    },
    {
     "name": "stderr",
     "output_type": "stream",
     "text": [
      "\r",
      "Scraping 54 games on 02/27/25:  70%|██████▉   | 118 of 169 days scraped in 721.9 sec"
     ]
    },
    {
     "name": "stderr",
     "output_type": "stream",
     "text": [
      "\r",
      "Scraping 54 games on 02/27/25:  70%|███████   | 119 of 169 days scraped in 728.5 sec"
     ]
    },
    {
     "name": "stderr",
     "output_type": "stream",
     "text": [
      "\r",
      "Scraping 23 games on 02/28/25:  70%|███████   | 119 of 169 days scraped in 728.9 sec"
     ]
    },
    {
     "name": "stderr",
     "output_type": "stream",
     "text": [
      "\r",
      "Scraping 23 games on 02/28/25:  71%|███████   | 120 of 169 days scraped in 731.8 sec"
     ]
    },
    {
     "name": "stderr",
     "output_type": "stream",
     "text": [
      "\r",
      "Scraping 133 games on 03/01/25:  71%|███████   | 120 of 169 days scraped in 733.6 sec"
     ]
    },
    {
     "name": "stderr",
     "output_type": "stream",
     "text": [
      "\r",
      "Scraping 133 games on 03/01/25:  72%|███████▏  | 121 of 169 days scraped in 751.1 sec"
     ]
    },
    {
     "name": "stderr",
     "output_type": "stream",
     "text": [
      "\r",
      "Scraping 23 games on 03/02/25:  72%|███████▏  | 121 of 169 days scraped in 751.5 sec "
     ]
    },
    {
     "name": "stderr",
     "output_type": "stream",
     "text": [
      "\r",
      "Scraping 23 games on 03/02/25:  72%|███████▏  | 122 of 169 days scraped in 754.9 sec"
     ]
    },
    {
     "name": "stderr",
     "output_type": "stream",
     "text": [
      "\r",
      "Scraping 27 games on 03/03/25:  72%|███████▏  | 122 of 169 days scraped in 755.3 sec"
     ]
    },
    {
     "name": "stderr",
     "output_type": "stream",
     "text": [
      "\r",
      "Scraping 27 games on 03/03/25:  73%|███████▎  | 123 of 169 days scraped in 758.9 sec"
     ]
    },
    {
     "name": "stderr",
     "output_type": "stream",
     "text": [
      "\r",
      "Scraping 44 games on 03/04/25:  73%|███████▎  | 123 of 169 days scraped in 759.5 sec"
     ]
    },
    {
     "name": "stderr",
     "output_type": "stream",
     "text": [
      "\r",
      "Scraping 44 games on 03/04/25:  73%|███████▎  | 124 of 169 days scraped in 765.5 sec"
     ]
    },
    {
     "name": "stderr",
     "output_type": "stream",
     "text": [
      "\r",
      "Scraping 31 games on 03/05/25:  73%|███████▎  | 124 of 169 days scraped in 766.2 sec"
     ]
    },
    {
     "name": "stderr",
     "output_type": "stream",
     "text": [
      "\r",
      "Scraping 31 games on 03/05/25:  74%|███████▍  | 125 of 169 days scraped in 770.2 sec"
     ]
    },
    {
     "name": "stderr",
     "output_type": "stream",
     "text": [
      "\r",
      "Scraping 53 games on 03/06/25:  74%|███████▍  | 125 of 169 days scraped in 770.8 sec"
     ]
    },
    {
     "name": "stderr",
     "output_type": "stream",
     "text": [
      "\r",
      "Scraping 53 games on 03/06/25:  75%|███████▍  | 126 of 169 days scraped in 777.5 sec"
     ]
    },
    {
     "name": "stderr",
     "output_type": "stream",
     "text": [
      "\r",
      "Scraping 31 games on 03/07/25:  75%|███████▍  | 126 of 169 days scraped in 778.1 sec"
     ]
    },
    {
     "name": "stderr",
     "output_type": "stream",
     "text": [
      "\r",
      "Scraping 31 games on 03/07/25:  75%|███████▌  | 127 of 169 days scraped in 782.7 sec"
     ]
    },
    {
     "name": "stderr",
     "output_type": "stream",
     "text": [
      "\r",
      "Scraping 100 games on 03/08/25:  75%|███████▌  | 127 of 169 days scraped in 784.3 sec"
     ]
    },
    {
     "name": "stderr",
     "output_type": "stream",
     "text": [
      "\r",
      "Scraping 100 games on 03/08/25:  76%|███████▌  | 128 of 169 days scraped in 796.0 sec"
     ]
    },
    {
     "name": "stderr",
     "output_type": "stream",
     "text": [
      "\r",
      "Scraping 29 games on 03/09/25:  76%|███████▌  | 128 of 169 days scraped in 796.5 sec "
     ]
    },
    {
     "name": "stderr",
     "output_type": "stream",
     "text": [
      "\r",
      "Scraping 29 games on 03/09/25:  76%|███████▋  | 129 of 169 days scraped in 800.0 sec"
     ]
    },
    {
     "name": "stderr",
     "output_type": "stream",
     "text": [
      "\r",
      "Scraping 12 games on 03/10/25:  76%|███████▋  | 129 of 169 days scraped in 800.3 sec"
     ]
    },
    {
     "name": "stderr",
     "output_type": "stream",
     "text": [
      "\r",
      "Scraping 12 games on 03/10/25:  77%|███████▋  | 130 of 169 days scraped in 801.9 sec"
     ]
    },
    {
     "name": "stderr",
     "output_type": "stream",
     "text": [
      "\r",
      "Scraping 24 games on 03/11/25:  77%|███████▋  | 130 of 169 days scraped in 802.3 sec"
     ]
    },
    {
     "name": "stderr",
     "output_type": "stream",
     "text": [
      "\r",
      "Scraping 24 games on 03/11/25:  78%|███████▊  | 131 of 169 days scraped in 805.4 sec"
     ]
    },
    {
     "name": "stderr",
     "output_type": "stream",
     "text": [
      "\r",
      "Scraping 40 games on 03/12/25:  78%|███████▊  | 131 of 169 days scraped in 805.9 sec"
     ]
    },
    {
     "name": "stderr",
     "output_type": "stream",
     "text": [
      "\r",
      "Scraping 40 games on 03/12/25:  78%|███████▊  | 132 of 169 days scraped in 810.6 sec"
     ]
    },
    {
     "name": "stderr",
     "output_type": "stream",
     "text": [
      "\r",
      "Scraping 48 games on 03/13/25:  78%|███████▊  | 132 of 169 days scraped in 811.2 sec"
     ]
    },
    {
     "name": "stderr",
     "output_type": "stream",
     "text": [
      "\r",
      "Scraping 48 games on 03/13/25:  79%|███████▊  | 133 of 169 days scraped in 817.1 sec"
     ]
    },
    {
     "name": "stderr",
     "output_type": "stream",
     "text": [
      "\r",
      "Scraping 38 games on 03/14/25:  79%|███████▊  | 133 of 169 days scraped in 817.7 sec"
     ]
    },
    {
     "name": "stderr",
     "output_type": "stream",
     "text": [
      "\r",
      "Scraping 38 games on 03/14/25:  79%|███████▉  | 134 of 169 days scraped in 822.7 sec"
     ]
    },
    {
     "name": "stderr",
     "output_type": "stream",
     "text": [
      "\r",
      "Scraping 22 games on 03/15/25:  79%|███████▉  | 134 of 169 days scraped in 823.2 sec"
     ]
    },
    {
     "name": "stderr",
     "output_type": "stream",
     "text": [
      "\r",
      "Scraping 22 games on 03/15/25:  80%|███████▉  | 135 of 169 days scraped in 825.6 sec"
     ]
    },
    {
     "name": "stderr",
     "output_type": "stream",
     "text": [
      "\r",
      "Scraping 5 games on 03/16/25:  80%|███████▉  | 135 of 169 days scraped in 825.9 sec "
     ]
    },
    {
     "name": "stderr",
     "output_type": "stream",
     "text": [
      "\r",
      "Scraping 5 games on 03/16/25:  80%|████████  | 136 of 169 days scraped in 826.5 sec"
     ]
    },
    {
     "name": "stderr",
     "output_type": "stream",
     "text": [
      "\r",
      "Scraping 0 games on 03/17/25:  80%|████████  | 136 of 169 days scraped in 826.8 sec"
     ]
    },
    {
     "name": "stderr",
     "output_type": "stream",
     "text": [
      "\r",
      "No games on 03/17/25:  81%|████████  | 137 of 169 days scraped in 826.8 sec        "
     ]
    },
    {
     "name": "stderr",
     "output_type": "stream",
     "text": [
      "\r",
      "Scraping 9 games on 03/18/25:  81%|████████  | 137 of 169 days scraped in 827.1 sec"
     ]
    },
    {
     "name": "stderr",
     "output_type": "stream",
     "text": [
      "\r",
      "Scraping 9 games on 03/18/25:  82%|████████▏ | 138 of 169 days scraped in 828.6 sec"
     ]
    },
    {
     "name": "stderr",
     "output_type": "stream",
     "text": [
      "\r",
      "Scraping 11 games on 03/19/25:  82%|████████▏ | 138 of 169 days scraped in 828.9 sec"
     ]
    },
    {
     "name": "stderr",
     "output_type": "stream",
     "text": [
      "\r",
      "Scraping 11 games on 03/19/25:  82%|████████▏ | 139 of 169 days scraped in 830.3 sec"
     ]
    },
    {
     "name": "stderr",
     "output_type": "stream",
     "text": [
      "\r",
      "Scraping 16 games on 03/20/25:  82%|████████▏ | 139 of 169 days scraped in 830.7 sec"
     ]
    },
    {
     "name": "stderr",
     "output_type": "stream",
     "text": [
      "\r",
      "Scraping 16 games on 03/20/25:  83%|████████▎ | 140 of 169 days scraped in 832.5 sec"
     ]
    },
    {
     "name": "stderr",
     "output_type": "stream",
     "text": [
      "\r",
      "Scraping 16 games on 03/21/25:  83%|████████▎ | 140 of 169 days scraped in 832.9 sec"
     ]
    },
    {
     "name": "stderr",
     "output_type": "stream",
     "text": [
      "\r",
      "Scraping 16 games on 03/21/25:  83%|████████▎ | 141 of 169 days scraped in 834.4 sec"
     ]
    },
    {
     "name": "stderr",
     "output_type": "stream",
     "text": [
      "\r",
      "Scraping 10 games on 03/22/25:  83%|████████▎ | 141 of 169 days scraped in 835.0 sec"
     ]
    },
    {
     "name": "stderr",
     "output_type": "stream",
     "text": [
      "\r",
      "Scraping 10 games on 03/22/25:  84%|████████▍ | 142 of 169 days scraped in 836.5 sec"
     ]
    },
    {
     "name": "stderr",
     "output_type": "stream",
     "text": [
      "\r",
      "Scraping 18 games on 03/23/25:  84%|████████▍ | 142 of 169 days scraped in 836.9 sec"
     ]
    },
    {
     "name": "stderr",
     "output_type": "stream",
     "text": [
      "\r",
      "Scraping 18 games on 03/23/25:  85%|████████▍ | 143 of 169 days scraped in 839.0 sec"
     ]
    },
    {
     "name": "stderr",
     "output_type": "stream",
     "text": [
      "\r",
      "Scraping 3 games on 03/24/25:  85%|████████▍ | 143 of 169 days scraped in 839.3 sec "
     ]
    },
    {
     "name": "stderr",
     "output_type": "stream",
     "text": [
      "\r",
      "Scraping 3 games on 03/24/25:  85%|████████▌ | 144 of 169 days scraped in 839.7 sec"
     ]
    },
    {
     "name": "stderr",
     "output_type": "stream",
     "text": [
      "\r",
      "Scraping 4 games on 03/25/25:  85%|████████▌ | 144 of 169 days scraped in 840.0 sec"
     ]
    },
    {
     "name": "stderr",
     "output_type": "stream",
     "text": [
      "\r",
      "Scraping 4 games on 03/25/25:  86%|████████▌ | 145 of 169 days scraped in 840.6 sec"
     ]
    },
    {
     "name": "stderr",
     "output_type": "stream",
     "text": [
      "\r",
      "Scraping 3 games on 03/26/25:  86%|████████▌ | 145 of 169 days scraped in 840.9 sec"
     ]
    },
    {
     "name": "stderr",
     "output_type": "stream",
     "text": [
      "\r",
      "Scraping 3 games on 03/26/25:  86%|████████▋ | 146 of 169 days scraped in 841.6 sec"
     ]
    },
    {
     "name": "stderr",
     "output_type": "stream",
     "text": [
      "\r",
      "Scraping 4 games on 03/27/25:  86%|████████▋ | 146 of 169 days scraped in 841.9 sec"
     ]
    },
    {
     "name": "stderr",
     "output_type": "stream",
     "text": [
      "\r",
      "Scraping 4 games on 03/27/25:  87%|████████▋ | 147 of 169 days scraped in 842.5 sec"
     ]
    },
    {
     "name": "stderr",
     "output_type": "stream",
     "text": [
      "\r",
      "Scraping 4 games on 03/28/25:  87%|████████▋ | 147 of 169 days scraped in 842.8 sec"
     ]
    },
    {
     "name": "stderr",
     "output_type": "stream",
     "text": [
      "\r",
      "Scraping 4 games on 03/28/25:  88%|████████▊ | 148 of 169 days scraped in 843.4 sec"
     ]
    },
    {
     "name": "stderr",
     "output_type": "stream",
     "text": [
      "\r",
      "Scraping 2 games on 03/29/25:  88%|████████▊ | 148 of 169 days scraped in 844.0 sec"
     ]
    },
    {
     "name": "stderr",
     "output_type": "stream",
     "text": [
      "\r",
      "Scraping 2 games on 03/29/25:  88%|████████▊ | 149 of 169 days scraped in 844.6 sec"
     ]
    },
    {
     "name": "stderr",
     "output_type": "stream",
     "text": [
      "\r",
      "Scraping 2 games on 03/30/25:  88%|████████▊ | 149 of 169 days scraped in 844.9 sec"
     ]
    },
    {
     "name": "stderr",
     "output_type": "stream",
     "text": [
      "\r",
      "Scraping 2 games on 03/30/25:  89%|████████▉ | 150 of 169 days scraped in 845.3 sec"
     ]
    },
    {
     "name": "stderr",
     "output_type": "stream",
     "text": [
      "\r",
      "Scraping 4 games on 03/31/25:  89%|████████▉ | 150 of 169 days scraped in 845.5 sec"
     ]
    },
    {
     "name": "stderr",
     "output_type": "stream",
     "text": [
      "\r",
      "Scraping 4 games on 03/31/25:  89%|████████▉ | 151 of 169 days scraped in 846.2 sec"
     ]
    },
    {
     "name": "stderr",
     "output_type": "stream",
     "text": [
      "\r",
      "Scraping 6 games on 04/01/25:  89%|████████▉ | 151 of 169 days scraped in 846.6 sec"
     ]
    },
    {
     "name": "stderr",
     "output_type": "stream",
     "text": [
      "\r",
      "Scraping 6 games on 04/01/25:  90%|████████▉ | 152 of 169 days scraped in 847.4 sec"
     ]
    },
    {
     "name": "stderr",
     "output_type": "stream",
     "text": [
      "\r",
      "Scraping 2 games on 04/02/25:  90%|████████▉ | 152 of 169 days scraped in 847.7 sec"
     ]
    },
    {
     "name": "stderr",
     "output_type": "stream",
     "text": [
      "\r",
      "Scraping 2 games on 04/02/25:  91%|█████████ | 153 of 169 days scraped in 848.1 sec"
     ]
    },
    {
     "name": "stderr",
     "output_type": "stream",
     "text": [
      "\r",
      "Scraping 3 games on 04/03/25:  91%|█████████ | 153 of 169 days scraped in 848.6 sec"
     ]
    },
    {
     "name": "stderr",
     "output_type": "stream",
     "text": [
      "\r",
      "Scraping 3 games on 04/03/25:  91%|█████████ | 154 of 169 days scraped in 849.3 sec"
     ]
    },
    {
     "name": "stderr",
     "output_type": "stream",
     "text": [
      "\r",
      "Scraping 0 games on 04/04/25:  91%|█████████ | 154 of 169 days scraped in 849.6 sec"
     ]
    },
    {
     "name": "stderr",
     "output_type": "stream",
     "text": [
      "\r",
      "No games on 04/04/25:  92%|█████████▏| 155 of 169 days scraped in 849.6 sec        "
     ]
    },
    {
     "name": "stderr",
     "output_type": "stream",
     "text": [
      "\r",
      "Scraping 4 games on 04/05/25:  92%|█████████▏| 155 of 169 days scraped in 850.2 sec"
     ]
    },
    {
     "name": "stderr",
     "output_type": "stream",
     "text": [
      "\r",
      "Scraping 4 games on 04/05/25:  92%|█████████▏| 156 of 169 days scraped in 850.7 sec"
     ]
    },
    {
     "name": "stderr",
     "output_type": "stream",
     "text": [
      "\r",
      "Scraping 1 games on 04/06/25:  92%|█████████▏| 156 of 169 days scraped in 850.9 sec"
     ]
    },
    {
     "name": "stderr",
     "output_type": "stream",
     "text": [
      "\r",
      "Scraping 1 games on 04/06/25:  93%|█████████▎| 157 of 169 days scraped in 851.3 sec"
     ]
    },
    {
     "name": "stderr",
     "output_type": "stream",
     "text": [
      "\r",
      "Scraping 1 games on 04/07/25:  93%|█████████▎| 157 of 169 days scraped in 851.8 sec"
     ]
    },
    {
     "name": "stderr",
     "output_type": "stream",
     "text": [
      "\r",
      "Scraping 1 games on 04/07/25:  93%|█████████▎| 158 of 169 days scraped in 852.1 sec"
     ]
    },
    {
     "name": "stderr",
     "output_type": "stream",
     "text": [
      "\r",
      "Scraping 0 games on 04/08/25:  93%|█████████▎| 158 of 169 days scraped in 852.4 sec"
     ]
    },
    {
     "name": "stderr",
     "output_type": "stream",
     "text": [
      "\r",
      "No games on 04/08/25:  94%|█████████▍| 159 of 169 days scraped in 852.4 sec        "
     ]
    },
    {
     "name": "stderr",
     "output_type": "stream",
     "text": [
      "\r",
      "Scraping 0 games on 04/09/25:  94%|█████████▍| 159 of 169 days scraped in 852.9 sec"
     ]
    },
    {
     "name": "stderr",
     "output_type": "stream",
     "text": [
      "\r",
      "No games on 04/09/25:  95%|█████████▍| 160 of 169 days scraped in 852.9 sec        "
     ]
    },
    {
     "name": "stderr",
     "output_type": "stream",
     "text": [
      "\r",
      "Scraping 0 games on 04/10/25:  95%|█████████▍| 160 of 169 days scraped in 853.2 sec"
     ]
    },
    {
     "name": "stderr",
     "output_type": "stream",
     "text": [
      "\r",
      "No games on 04/10/25:  95%|█████████▌| 161 of 169 days scraped in 853.2 sec        "
     ]
    },
    {
     "name": "stderr",
     "output_type": "stream",
     "text": [
      "\r",
      "Scraping 0 games on 04/11/25:  95%|█████████▌| 161 of 169 days scraped in 853.4 sec"
     ]
    },
    {
     "name": "stderr",
     "output_type": "stream",
     "text": [
      "\r",
      "No games on 04/11/25:  96%|█████████▌| 162 of 169 days scraped in 853.4 sec        "
     ]
    },
    {
     "name": "stderr",
     "output_type": "stream",
     "text": [
      "\r",
      "Scraping 0 games on 04/12/25:  96%|█████████▌| 162 of 169 days scraped in 854.0 sec"
     ]
    },
    {
     "name": "stderr",
     "output_type": "stream",
     "text": [
      "\r",
      "No games on 04/12/25:  96%|█████████▋| 163 of 169 days scraped in 854.0 sec        "
     ]
    },
    {
     "name": "stderr",
     "output_type": "stream",
     "text": [
      "\r",
      "Scraping 0 games on 04/13/25:  96%|█████████▋| 163 of 169 days scraped in 854.4 sec"
     ]
    },
    {
     "name": "stderr",
     "output_type": "stream",
     "text": [
      "\r",
      "No games on 04/13/25:  97%|█████████▋| 164 of 169 days scraped in 854.4 sec        "
     ]
    },
    {
     "name": "stderr",
     "output_type": "stream",
     "text": [
      "\r",
      "Scraping 0 games on 04/14/25:  97%|█████████▋| 164 of 169 days scraped in 854.7 sec"
     ]
    },
    {
     "name": "stderr",
     "output_type": "stream",
     "text": [
      "\r",
      "No games on 04/14/25:  98%|█████████▊| 165 of 169 days scraped in 854.7 sec        "
     ]
    },
    {
     "name": "stderr",
     "output_type": "stream",
     "text": [
      "\r",
      "Scraping 0 games on 04/15/25:  98%|█████████▊| 165 of 169 days scraped in 855.0 sec"
     ]
    },
    {
     "name": "stderr",
     "output_type": "stream",
     "text": [
      "\r",
      "No games on 04/15/25:  98%|█████████▊| 166 of 169 days scraped in 855.0 sec        "
     ]
    },
    {
     "name": "stderr",
     "output_type": "stream",
     "text": [
      "\r",
      "Scraping 0 games on 04/16/25:  98%|█████████▊| 166 of 169 days scraped in 855.3 sec"
     ]
    },
    {
     "name": "stderr",
     "output_type": "stream",
     "text": [
      "\r",
      "No games on 04/16/25:  99%|█████████▉| 167 of 169 days scraped in 855.3 sec        "
     ]
    },
    {
     "name": "stderr",
     "output_type": "stream",
     "text": [
      "\r",
      "Scraping 0 games on 04/17/25:  99%|█████████▉| 167 of 169 days scraped in 855.6 sec"
     ]
    },
    {
     "name": "stderr",
     "output_type": "stream",
     "text": [
      "\r",
      "No games on 04/17/25:  99%|█████████▉| 168 of 169 days scraped in 855.6 sec        "
     ]
    },
    {
     "name": "stderr",
     "output_type": "stream",
     "text": [
      "\r",
      "Scraping 0 games on 04/18/25:  99%|█████████▉| 168 of 169 days scraped in 856.0 sec"
     ]
    },
    {
     "name": "stderr",
     "output_type": "stream",
     "text": [
      "\r",
      "No games on 04/18/25: 100%|██████████| 169 of 169 days scraped in 856.0 sec        "
     ]
    },
    {
     "name": "stderr",
     "output_type": "stream",
     "text": [
      "\r",
      "No games on 04/18/25: 100%|██████████| 169 of 169 days scraped in 856.0 sec"
     ]
    },
    {
     "name": "stderr",
     "output_type": "stream",
     "text": [
      "\n"
     ]
    },
    {
     "name": "stdout",
     "output_type": "stream",
     "text": [
      "Log file is located at /home/runner/.local/state/CBBpy/2.1.2/log/CBBpy.log\n"
     ]
    }
   ],
   "source": [
    "import pandas as pd\n",
    "import cbbpy.mens_scraper as s\n",
    "\n",
    "# Create data frames for each season of game info\n",
    "\n",
    "df_2025 = s.get_games_season(2025, box = False, pbp = False)\n"
   ]
  },
  {
   "cell_type": "code",
   "execution_count": 2,
   "metadata": {
    "execution": {
     "iopub.execute_input": "2025-04-18T12:19:59.629507Z",
     "iopub.status.busy": "2025-04-18T12:19:59.629248Z",
     "iopub.status.idle": "2025-04-18T12:19:59.653168Z",
     "shell.execute_reply": "2025-04-18T12:19:59.652614Z"
    }
   },
   "outputs": [
    {
     "data": {
      "text/html": [
       "<div>\n",
       "<style scoped>\n",
       "    .dataframe tbody tr th:only-of-type {\n",
       "        vertical-align: middle;\n",
       "    }\n",
       "\n",
       "    .dataframe tbody tr th {\n",
       "        vertical-align: top;\n",
       "    }\n",
       "\n",
       "    .dataframe thead th {\n",
       "        text-align: right;\n",
       "    }\n",
       "</style>\n",
       "<table border=\"1\" class=\"dataframe\">\n",
       "  <thead>\n",
       "    <tr style=\"text-align: right;\">\n",
       "      <th></th>\n",
       "      <th>game_id</th>\n",
       "      <th>game_status</th>\n",
       "      <th>home_team</th>\n",
       "      <th>home_id</th>\n",
       "      <th>home_rank</th>\n",
       "      <th>home_record</th>\n",
       "      <th>home_score</th>\n",
       "      <th>away_team</th>\n",
       "      <th>away_id</th>\n",
       "      <th>away_rank</th>\n",
       "      <th>...</th>\n",
       "      <th>game_day</th>\n",
       "      <th>game_time</th>\n",
       "      <th>game_loc</th>\n",
       "      <th>arena</th>\n",
       "      <th>arena_capacity</th>\n",
       "      <th>attendance</th>\n",
       "      <th>tv_network</th>\n",
       "      <th>referee_1</th>\n",
       "      <th>referee_2</th>\n",
       "      <th>referee_3</th>\n",
       "    </tr>\n",
       "  </thead>\n",
       "  <tbody>\n",
       "    <tr>\n",
       "      <th>0</th>\n",
       "      <td>401727499</td>\n",
       "      <td>Final</td>\n",
       "      <td>IU Indianapolis Jaguars</td>\n",
       "      <td>85</td>\n",
       "      <td>NaN</td>\n",
       "      <td>1-0</td>\n",
       "      <td>100</td>\n",
       "      <td>IU Columbus Crimson Pride</td>\n",
       "      <td>nd-iu-columbus-crimson-pride</td>\n",
       "      <td>NaN</td>\n",
       "      <td>...</td>\n",
       "      <td>November 04, 2024</td>\n",
       "      <td>08:00 AM PST</td>\n",
       "      <td>Indianapolis, IN</td>\n",
       "      <td>Corteva Coliseum</td>\n",
       "      <td>NaN</td>\n",
       "      <td>3716.0</td>\n",
       "      <td>ESPN+</td>\n",
       "      <td>Rod Mrakovich</td>\n",
       "      <td>Martin Spencer</td>\n",
       "      <td>Adam Sensibaugh</td>\n",
       "    </tr>\n",
       "    <tr>\n",
       "      <th>1</th>\n",
       "      <td>401715872</td>\n",
       "      <td>Final</td>\n",
       "      <td>Southern Illinois Salukis</td>\n",
       "      <td>79</td>\n",
       "      <td>NaN</td>\n",
       "      <td>0-1</td>\n",
       "      <td>80</td>\n",
       "      <td>Charleston Cougars</td>\n",
       "      <td>232</td>\n",
       "      <td>NaN</td>\n",
       "      <td>...</td>\n",
       "      <td>November 04, 2024</td>\n",
       "      <td>09:00 AM PST</td>\n",
       "      <td>Sioux Falls, SD</td>\n",
       "      <td>Sanford Pentagon</td>\n",
       "      <td>NaN</td>\n",
       "      <td>0.0</td>\n",
       "      <td></td>\n",
       "      <td>Brad Ferrie</td>\n",
       "      <td>Antinio Petty</td>\n",
       "      <td>Ben Wolfe</td>\n",
       "    </tr>\n",
       "    <tr>\n",
       "      <th>2</th>\n",
       "      <td>401725796</td>\n",
       "      <td>Final</td>\n",
       "      <td>UT Arlington Mavericks</td>\n",
       "      <td>250</td>\n",
       "      <td>NaN</td>\n",
       "      <td>1-0</td>\n",
       "      <td>90</td>\n",
       "      <td>UNT Dallas Trailblazers</td>\n",
       "      <td>nd-unt-dallas-trailblazers</td>\n",
       "      <td>NaN</td>\n",
       "      <td>...</td>\n",
       "      <td>November 04, 2024</td>\n",
       "      <td>09:00 AM PST</td>\n",
       "      <td>Arlington, TX</td>\n",
       "      <td>College Park Center</td>\n",
       "      <td>NaN</td>\n",
       "      <td>1001.0</td>\n",
       "      <td>ESPN+</td>\n",
       "      <td>Doug George</td>\n",
       "      <td>Randal Anders</td>\n",
       "      <td>Trenton Chaney</td>\n",
       "    </tr>\n",
       "    <tr>\n",
       "      <th>3</th>\n",
       "      <td>401726400</td>\n",
       "      <td>Final</td>\n",
       "      <td>Middle Tennessee Blue Raiders</td>\n",
       "      <td>2393</td>\n",
       "      <td>NaN</td>\n",
       "      <td>1-0</td>\n",
       "      <td>97</td>\n",
       "      <td>Oglethorpe Stormy Petrels</td>\n",
       "      <td>nd-oglethorpe-stormy-petrels</td>\n",
       "      <td>NaN</td>\n",
       "      <td>...</td>\n",
       "      <td>November 04, 2024</td>\n",
       "      <td>09:00 AM PST</td>\n",
       "      <td>Murfreesboro, TN</td>\n",
       "      <td>Murphy Center</td>\n",
       "      <td>NaN</td>\n",
       "      <td>7501.0</td>\n",
       "      <td>ESPN+</td>\n",
       "      <td>Kevin Mathis</td>\n",
       "      <td>James Curran</td>\n",
       "      <td>Klajdi Mulla</td>\n",
       "    </tr>\n",
       "    <tr>\n",
       "      <th>4</th>\n",
       "      <td>401726395</td>\n",
       "      <td>Final</td>\n",
       "      <td>Jacksonville State Gamecocks</td>\n",
       "      <td>55</td>\n",
       "      <td>NaN</td>\n",
       "      <td>1-0</td>\n",
       "      <td>112</td>\n",
       "      <td>LaGrange Panthers</td>\n",
       "      <td>nd-lagrange-panthers</td>\n",
       "      <td>NaN</td>\n",
       "      <td>...</td>\n",
       "      <td>November 04, 2024</td>\n",
       "      <td>09:30 AM PST</td>\n",
       "      <td>Jacksonville, AL</td>\n",
       "      <td>Pete Mathews Coliseum</td>\n",
       "      <td>NaN</td>\n",
       "      <td>2055.0</td>\n",
       "      <td>ESPN+</td>\n",
       "      <td>Barry Mathis</td>\n",
       "      <td>Nick Meyer</td>\n",
       "      <td>Jeremy Trussell</td>\n",
       "    </tr>\n",
       "    <tr>\n",
       "      <th>...</th>\n",
       "      <td>...</td>\n",
       "      <td>...</td>\n",
       "      <td>...</td>\n",
       "      <td>...</td>\n",
       "      <td>...</td>\n",
       "      <td>...</td>\n",
       "      <td>...</td>\n",
       "      <td>...</td>\n",
       "      <td>...</td>\n",
       "      <td>...</td>\n",
       "      <td>...</td>\n",
       "      <td>...</td>\n",
       "      <td>...</td>\n",
       "      <td>...</td>\n",
       "      <td>...</td>\n",
       "      <td>...</td>\n",
       "      <td>...</td>\n",
       "      <td>...</td>\n",
       "      <td>...</td>\n",
       "      <td>...</td>\n",
       "      <td>...</td>\n",
       "    </tr>\n",
       "    <tr>\n",
       "      <th>6294</th>\n",
       "      <td>401758633</td>\n",
       "      <td>Final</td>\n",
       "      <td>Villanova Wildcats</td>\n",
       "      <td>222</td>\n",
       "      <td>NaN</td>\n",
       "      <td>21-15</td>\n",
       "      <td>98</td>\n",
       "      <td>UCF Knights</td>\n",
       "      <td>2116</td>\n",
       "      <td>NaN</td>\n",
       "      <td>...</td>\n",
       "      <td>April 05, 2025</td>\n",
       "      <td>01:00 PM PDT</td>\n",
       "      <td>Las Vegas, NV</td>\n",
       "      <td>T-Mobile Arena</td>\n",
       "      <td>NaN</td>\n",
       "      <td>2972.0</td>\n",
       "      <td>FOX</td>\n",
       "      <td>D.J. Carstensen</td>\n",
       "      <td>Matt Potter</td>\n",
       "      <td>Brooks Wells</td>\n",
       "    </tr>\n",
       "    <tr>\n",
       "      <th>6295</th>\n",
       "      <td>401746081</td>\n",
       "      <td>Final</td>\n",
       "      <td>Auburn Tigers</td>\n",
       "      <td>2</td>\n",
       "      <td>1.0</td>\n",
       "      <td>32-6</td>\n",
       "      <td>73</td>\n",
       "      <td>Florida Gators</td>\n",
       "      <td>57</td>\n",
       "      <td>1.0</td>\n",
       "      <td>...</td>\n",
       "      <td>April 05, 2025</td>\n",
       "      <td>03:09 PM PDT</td>\n",
       "      <td>San Antonio, TX</td>\n",
       "      <td>Alamodome</td>\n",
       "      <td>NaN</td>\n",
       "      <td>68252.0</td>\n",
       "      <td>CBS</td>\n",
       "      <td>Tony Padilla</td>\n",
       "      <td>Roger Ayers</td>\n",
       "      <td>Courtney Green</td>\n",
       "    </tr>\n",
       "    <tr>\n",
       "      <th>6296</th>\n",
       "      <td>401746080</td>\n",
       "      <td>Final</td>\n",
       "      <td>Duke Blue Devils</td>\n",
       "      <td>150</td>\n",
       "      <td>1.0</td>\n",
       "      <td>35-4</td>\n",
       "      <td>67</td>\n",
       "      <td>Houston Cougars</td>\n",
       "      <td>248</td>\n",
       "      <td>1.0</td>\n",
       "      <td>...</td>\n",
       "      <td>April 05, 2025</td>\n",
       "      <td>06:28 PM PDT</td>\n",
       "      <td>San Antonio, TX</td>\n",
       "      <td>Alamodome</td>\n",
       "      <td>NaN</td>\n",
       "      <td>68252.0</td>\n",
       "      <td>CBS</td>\n",
       "      <td>Doug Shows</td>\n",
       "      <td>James Breeding</td>\n",
       "      <td>Keith Kimble</td>\n",
       "    </tr>\n",
       "    <tr>\n",
       "      <th>6297</th>\n",
       "      <td>401758636</td>\n",
       "      <td>Final</td>\n",
       "      <td>UCF Knights</td>\n",
       "      <td>2116</td>\n",
       "      <td>NaN</td>\n",
       "      <td>20-17</td>\n",
       "      <td>66</td>\n",
       "      <td>Nebraska Cornhuskers</td>\n",
       "      <td>158</td>\n",
       "      <td>NaN</td>\n",
       "      <td>...</td>\n",
       "      <td>April 06, 2025</td>\n",
       "      <td>02:30 PM PDT</td>\n",
       "      <td>Las Vegas, NV</td>\n",
       "      <td>T-Mobile Arena</td>\n",
       "      <td>NaN</td>\n",
       "      <td>3314.0</td>\n",
       "      <td>FOX</td>\n",
       "      <td>Brian  O'Connell</td>\n",
       "      <td>D.J. Carstensen</td>\n",
       "      <td>Tyler Kumpf</td>\n",
       "    </tr>\n",
       "    <tr>\n",
       "      <th>6298</th>\n",
       "      <td>401746082</td>\n",
       "      <td>Final</td>\n",
       "      <td>Houston Cougars</td>\n",
       "      <td>248</td>\n",
       "      <td>1.0</td>\n",
       "      <td>35-5</td>\n",
       "      <td>63</td>\n",
       "      <td>Florida Gators</td>\n",
       "      <td>57</td>\n",
       "      <td>1.0</td>\n",
       "      <td>...</td>\n",
       "      <td>April 07, 2025</td>\n",
       "      <td>05:50 PM PDT</td>\n",
       "      <td>San Antonio, TX</td>\n",
       "      <td>Alamodome</td>\n",
       "      <td>NaN</td>\n",
       "      <td>66602.0</td>\n",
       "      <td>CBS</td>\n",
       "      <td>Ron Groover</td>\n",
       "      <td>Terry Oglesby</td>\n",
       "      <td>Doug Sirmons</td>\n",
       "    </tr>\n",
       "  </tbody>\n",
       "</table>\n",
       "<p>6299 rows × 29 columns</p>\n",
       "</div>"
      ],
      "text/plain": [
       "        game_id game_status                      home_team home_id  home_rank  \\\n",
       "0     401727499       Final        IU Indianapolis Jaguars      85        NaN   \n",
       "1     401715872       Final      Southern Illinois Salukis      79        NaN   \n",
       "2     401725796       Final         UT Arlington Mavericks     250        NaN   \n",
       "3     401726400       Final  Middle Tennessee Blue Raiders    2393        NaN   \n",
       "4     401726395       Final   Jacksonville State Gamecocks      55        NaN   \n",
       "...         ...         ...                            ...     ...        ...   \n",
       "6294  401758633       Final             Villanova Wildcats     222        NaN   \n",
       "6295  401746081       Final                  Auburn Tigers       2        1.0   \n",
       "6296  401746080       Final               Duke Blue Devils     150        1.0   \n",
       "6297  401758636       Final                    UCF Knights    2116        NaN   \n",
       "6298  401746082       Final                Houston Cougars     248        1.0   \n",
       "\n",
       "     home_record  home_score                  away_team  \\\n",
       "0            1-0         100  IU Columbus Crimson Pride   \n",
       "1            0-1          80         Charleston Cougars   \n",
       "2            1-0          90    UNT Dallas Trailblazers   \n",
       "3            1-0          97  Oglethorpe Stormy Petrels   \n",
       "4            1-0         112          LaGrange Panthers   \n",
       "...          ...         ...                        ...   \n",
       "6294       21-15          98                UCF Knights   \n",
       "6295        32-6          73             Florida Gators   \n",
       "6296        35-4          67            Houston Cougars   \n",
       "6297       20-17          66       Nebraska Cornhuskers   \n",
       "6298        35-5          63             Florida Gators   \n",
       "\n",
       "                           away_id  away_rank  ...           game_day  \\\n",
       "0     nd-iu-columbus-crimson-pride        NaN  ...  November 04, 2024   \n",
       "1                              232        NaN  ...  November 04, 2024   \n",
       "2       nd-unt-dallas-trailblazers        NaN  ...  November 04, 2024   \n",
       "3     nd-oglethorpe-stormy-petrels        NaN  ...  November 04, 2024   \n",
       "4             nd-lagrange-panthers        NaN  ...  November 04, 2024   \n",
       "...                            ...        ...  ...                ...   \n",
       "6294                          2116        NaN  ...     April 05, 2025   \n",
       "6295                            57        1.0  ...     April 05, 2025   \n",
       "6296                           248        1.0  ...     April 05, 2025   \n",
       "6297                           158        NaN  ...     April 06, 2025   \n",
       "6298                            57        1.0  ...     April 07, 2025   \n",
       "\n",
       "         game_time          game_loc                  arena  arena_capacity  \\\n",
       "0     08:00 AM PST  Indianapolis, IN       Corteva Coliseum             NaN   \n",
       "1     09:00 AM PST   Sioux Falls, SD       Sanford Pentagon             NaN   \n",
       "2     09:00 AM PST     Arlington, TX    College Park Center             NaN   \n",
       "3     09:00 AM PST  Murfreesboro, TN          Murphy Center             NaN   \n",
       "4     09:30 AM PST  Jacksonville, AL  Pete Mathews Coliseum             NaN   \n",
       "...            ...               ...                    ...             ...   \n",
       "6294  01:00 PM PDT     Las Vegas, NV         T-Mobile Arena             NaN   \n",
       "6295  03:09 PM PDT   San Antonio, TX              Alamodome             NaN   \n",
       "6296  06:28 PM PDT   San Antonio, TX              Alamodome             NaN   \n",
       "6297  02:30 PM PDT     Las Vegas, NV         T-Mobile Arena             NaN   \n",
       "6298  05:50 PM PDT   San Antonio, TX              Alamodome             NaN   \n",
       "\n",
       "      attendance  tv_network         referee_1        referee_2  \\\n",
       "0         3716.0       ESPN+     Rod Mrakovich   Martin Spencer   \n",
       "1            0.0                   Brad Ferrie    Antinio Petty   \n",
       "2         1001.0       ESPN+       Doug George    Randal Anders   \n",
       "3         7501.0       ESPN+      Kevin Mathis     James Curran   \n",
       "4         2055.0       ESPN+      Barry Mathis       Nick Meyer   \n",
       "...          ...         ...               ...              ...   \n",
       "6294      2972.0         FOX   D.J. Carstensen      Matt Potter   \n",
       "6295     68252.0         CBS      Tony Padilla      Roger Ayers   \n",
       "6296     68252.0         CBS        Doug Shows   James Breeding   \n",
       "6297      3314.0         FOX  Brian  O'Connell  D.J. Carstensen   \n",
       "6298     66602.0         CBS       Ron Groover    Terry Oglesby   \n",
       "\n",
       "            referee_3  \n",
       "0     Adam Sensibaugh  \n",
       "1           Ben Wolfe  \n",
       "2      Trenton Chaney  \n",
       "3        Klajdi Mulla  \n",
       "4     Jeremy Trussell  \n",
       "...               ...  \n",
       "6294     Brooks Wells  \n",
       "6295   Courtney Green  \n",
       "6296     Keith Kimble  \n",
       "6297      Tyler Kumpf  \n",
       "6298     Doug Sirmons  \n",
       "\n",
       "[6299 rows x 29 columns]"
      ]
     },
     "execution_count": 2,
     "metadata": {},
     "output_type": "execute_result"
    }
   ],
   "source": [
    "df_2025_game_info = df_2025[0]\n",
    "df_2025_game_info"
   ]
  },
  {
   "cell_type": "code",
   "execution_count": 3,
   "metadata": {
    "execution": {
     "iopub.execute_input": "2025-04-18T12:19:59.654980Z",
     "iopub.status.busy": "2025-04-18T12:19:59.654751Z",
     "iopub.status.idle": "2025-04-18T12:19:59.716092Z",
     "shell.execute_reply": "2025-04-18T12:19:59.715598Z"
    }
   },
   "outputs": [
    {
     "name": "stdout",
     "output_type": "stream",
     "text": [
      "Exported 6292 completed games to Completed_Games.csv\n",
      "Exported 1 upcoming games to Upcoming_Games.csv\n"
     ]
    }
   ],
   "source": [
    "# Filter games by status and export to CSV files\n",
    "\n",
    "# Get completed games (status = 'Final')\n",
    "completed_games = df_2025_game_info[df_2025_game_info['game_status'] == 'Final']\n",
    "\n",
    "# Get upcoming games (status = 'Scheduled')\n",
    "upcoming_games = df_2025_game_info[df_2025_game_info['game_status'] == 'Scheduled']\n",
    "\n",
    "# Export to CSV files\n",
    "completed_games.to_csv('Completed_Games.csv', index=False)\n",
    "upcoming_games.to_csv('Upcoming_Games.csv', index=False)\n",
    "\n",
    "# Print summary\n",
    "print(f\"Exported {len(completed_games)} completed games to Completed_Games.csv\")\n",
    "print(f\"Exported {len(upcoming_games)} upcoming games to Upcoming_Games.csv\")"
   ]
  }
 ],
 "metadata": {
  "kernelspec": {
   "display_name": "Python 3",
   "language": "python",
   "name": "python3"
  },
  "language_info": {
   "codemirror_mode": {
    "name": "ipython",
    "version": 3
   },
   "file_extension": ".py",
   "mimetype": "text/x-python",
   "name": "python",
   "nbconvert_exporter": "python",
   "pygments_lexer": "ipython3",
   "version": "3.13.3"
  }
 },
 "nbformat": 4,
 "nbformat_minor": 2
}
