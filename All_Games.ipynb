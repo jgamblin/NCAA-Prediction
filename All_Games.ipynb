{
 "cells": [
  {
   "cell_type": "code",
   "execution_count": 1,
   "metadata": {
    "execution": {
     "iopub.execute_input": "2025-03-19T12:05:42.488816Z",
     "iopub.status.busy": "2025-03-19T12:05:42.488630Z",
     "iopub.status.idle": "2025-03-19T12:15:04.057672Z",
     "shell.execute_reply": "2025-03-19T12:15:04.057100Z"
    }
   },
   "outputs": [
    {
     "name": "stderr",
     "output_type": "stream",
     "text": [
      "\r",
      "  0%|          | 0 of 139 days scraped in 0.0 sec"
     ]
    },
    {
     "name": "stderr",
     "output_type": "stream",
     "text": [
      "\r",
      "Scraping 0 games on 11/01/24:   0%|          | 0 of 139 days scraped in 0.2 sec"
     ]
    },
    {
     "name": "stderr",
     "output_type": "stream",
     "text": [
      "\r",
      "No games on 11/01/24:   1%|          | 1 of 139 days scraped in 0.2 sec        "
     ]
    },
    {
     "name": "stderr",
     "output_type": "stream",
     "text": [
      "\r",
      "Scraping 0 games on 11/02/24:   1%|          | 1 of 139 days scraped in 0.3 sec"
     ]
    },
    {
     "name": "stderr",
     "output_type": "stream",
     "text": [
      "\r",
      "No games on 11/02/24:   1%|▏         | 2 of 139 days scraped in 0.3 sec        "
     ]
    },
    {
     "name": "stderr",
     "output_type": "stream",
     "text": [
      "\r",
      "Scraping 0 games on 11/03/24:   1%|▏         | 2 of 139 days scraped in 0.5 sec"
     ]
    },
    {
     "name": "stderr",
     "output_type": "stream",
     "text": [
      "\r",
      "No games on 11/03/24:   2%|▏         | 3 of 139 days scraped in 0.5 sec        "
     ]
    },
    {
     "name": "stderr",
     "output_type": "stream",
     "text": [
      "\r",
      "Scraping 199 games on 11/04/24:   2%|▏         | 3 of 139 days scraped in 2.0 sec"
     ]
    },
    {
     "name": "stderr",
     "output_type": "stream",
     "text": [
      "\r",
      "Scraping 199 games on 11/04/24:   3%|▎         | 4 of 139 days scraped in 16.7 sec"
     ]
    },
    {
     "name": "stderr",
     "output_type": "stream",
     "text": [
      "\r",
      "Scraping 11 games on 11/05/24:   3%|▎         | 4 of 139 days scraped in 16.9 sec "
     ]
    },
    {
     "name": "stderr",
     "output_type": "stream",
     "text": [
      "\r",
      "Scraping 11 games on 11/05/24:   4%|▎         | 5 of 139 days scraped in 17.8 sec"
     ]
    },
    {
     "name": "stderr",
     "output_type": "stream",
     "text": [
      "\r",
      "Scraping 37 games on 11/06/24:   4%|▎         | 5 of 139 days scraped in 18.2 sec"
     ]
    },
    {
     "name": "stderr",
     "output_type": "stream",
     "text": [
      "\r",
      "Scraping 37 games on 11/06/24:   4%|▍         | 6 of 139 days scraped in 20.9 sec"
     ]
    },
    {
     "name": "stderr",
     "output_type": "stream",
     "text": [
      "\r",
      "Scraping 42 games on 11/07/24:   4%|▍         | 6 of 139 days scraped in 21.3 sec"
     ]
    },
    {
     "name": "stderr",
     "output_type": "stream",
     "text": [
      "\r",
      "Scraping 42 games on 11/07/24:   5%|▌         | 7 of 139 days scraped in 24.3 sec"
     ]
    },
    {
     "name": "stderr",
     "output_type": "stream",
     "text": [
      "\r",
      "Scraping 80 games on 11/08/24:   5%|▌         | 7 of 139 days scraped in 24.9 sec"
     ]
    },
    {
     "name": "stderr",
     "output_type": "stream",
     "text": [
      "\r",
      "Scraping 80 games on 11/08/24:   6%|▌         | 8 of 139 days scraped in 30.6 sec"
     ]
    },
    {
     "name": "stderr",
     "output_type": "stream",
     "text": [
      "\r",
      "Scraping 64 games on 11/09/24:   6%|▌         | 8 of 139 days scraped in 31.2 sec"
     ]
    },
    {
     "name": "stderr",
     "output_type": "stream",
     "text": [
      "\r",
      "Scraping 64 games on 11/09/24:   6%|▋         | 9 of 139 days scraped in 35.8 sec"
     ]
    },
    {
     "name": "stderr",
     "output_type": "stream",
     "text": [
      "\r",
      "Scraping 29 games on 11/10/24:   6%|▋         | 9 of 139 days scraped in 36.2 sec"
     ]
    },
    {
     "name": "stderr",
     "output_type": "stream",
     "text": [
      "\r",
      "Scraping 29 games on 11/10/24:   7%|▋         | 10 of 139 days scraped in 38.3 sec"
     ]
    },
    {
     "name": "stderr",
     "output_type": "stream",
     "text": [
      "\r",
      "Scraping 42 games on 11/11/24:   7%|▋         | 10 of 139 days scraped in 38.9 sec"
     ]
    },
    {
     "name": "stderr",
     "output_type": "stream",
     "text": [
      "\r",
      "Scraping 42 games on 11/11/24:   8%|▊         | 11 of 139 days scraped in 42.7 sec"
     ]
    },
    {
     "name": "stderr",
     "output_type": "stream",
     "text": [
      "\r",
      "Scraping 79 games on 11/12/24:   8%|▊         | 11 of 139 days scraped in 43.4 sec"
     ]
    },
    {
     "name": "stderr",
     "output_type": "stream",
     "text": [
      "\r",
      "Scraping 79 games on 11/12/24:   9%|▊         | 12 of 139 days scraped in 49.9 sec"
     ]
    },
    {
     "name": "stderr",
     "output_type": "stream",
     "text": [
      "\r",
      "Scraping 55 games on 11/13/24:   9%|▊         | 12 of 139 days scraped in 50.5 sec"
     ]
    },
    {
     "name": "stderr",
     "output_type": "stream",
     "text": [
      "\r",
      "Scraping 55 games on 11/13/24:   9%|▉         | 13 of 139 days scraped in 54.4 sec"
     ]
    },
    {
     "name": "stderr",
     "output_type": "stream",
     "text": [
      "\r",
      "Scraping 26 games on 11/14/24:   9%|▉         | 13 of 139 days scraped in 54.8 sec"
     ]
    },
    {
     "name": "stderr",
     "output_type": "stream",
     "text": [
      "\r",
      "Scraping 26 games on 11/14/24:  10%|█         | 14 of 139 days scraped in 56.7 sec"
     ]
    },
    {
     "name": "stderr",
     "output_type": "stream",
     "text": [
      "\r",
      "Scraping 50 games on 11/15/24:  10%|█         | 14 of 139 days scraped in 57.2 sec"
     ]
    },
    {
     "name": "stderr",
     "output_type": "stream",
     "text": [
      "\r",
      "Scraping 50 games on 11/15/24:  11%|█         | 15 of 139 days scraped in 60.9 sec"
     ]
    },
    {
     "name": "stderr",
     "output_type": "stream",
     "text": [
      "\r",
      "Scraping 82 games on 11/16/24:  11%|█         | 15 of 139 days scraped in 61.7 sec"
     ]
    },
    {
     "name": "stderr",
     "output_type": "stream",
     "text": [
      "\r",
      "Scraping 82 games on 11/16/24:  12%|█▏        | 16 of 139 days scraped in 67.5 sec"
     ]
    },
    {
     "name": "stderr",
     "output_type": "stream",
     "text": [
      "\r",
      "Scraping 36 games on 11/17/24:  12%|█▏        | 16 of 139 days scraped in 67.9 sec"
     ]
    },
    {
     "name": "stderr",
     "output_type": "stream",
     "text": [
      "\r",
      "Scraping 36 games on 11/17/24:  12%|█▏        | 17 of 139 days scraped in 70.7 sec"
     ]
    },
    {
     "name": "stderr",
     "output_type": "stream",
     "text": [
      "\r",
      "Scraping 31 games on 11/18/24:  12%|█▏        | 17 of 139 days scraped in 71.1 sec"
     ]
    },
    {
     "name": "stderr",
     "output_type": "stream",
     "text": [
      "\r",
      "Scraping 31 games on 11/18/24:  13%|█▎        | 18 of 139 days scraped in 73.2 sec"
     ]
    },
    {
     "name": "stderr",
     "output_type": "stream",
     "text": [
      "\r",
      "Scraping 54 games on 11/19/24:  13%|█▎        | 18 of 139 days scraped in 73.9 sec"
     ]
    },
    {
     "name": "stderr",
     "output_type": "stream",
     "text": [
      "\r",
      "Scraping 54 games on 11/19/24:  14%|█▎        | 19 of 139 days scraped in 78.1 sec"
     ]
    },
    {
     "name": "stderr",
     "output_type": "stream",
     "text": [
      "\r",
      "Scraping 47 games on 11/20/24:  14%|█▎        | 19 of 139 days scraped in 78.5 sec"
     ]
    },
    {
     "name": "stderr",
     "output_type": "stream",
     "text": [
      "\r",
      "Scraping 47 games on 11/20/24:  14%|█▍        | 20 of 139 days scraped in 82.0 sec"
     ]
    },
    {
     "name": "stderr",
     "output_type": "stream",
     "text": [
      "\r",
      "Scraping 44 games on 11/21/24:  14%|█▍        | 20 of 139 days scraped in 82.5 sec"
     ]
    },
    {
     "name": "stderr",
     "output_type": "stream",
     "text": [
      "\r",
      "Scraping 44 games on 11/21/24:  15%|█▌        | 21 of 139 days scraped in 86.3 sec"
     ]
    },
    {
     "name": "stderr",
     "output_type": "stream",
     "text": [
      "\r",
      "Scraping 82 games on 11/22/24:  15%|█▌        | 21 of 139 days scraped in 87.0 sec"
     ]
    },
    {
     "name": "stderr",
     "output_type": "stream",
     "text": [
      "\r",
      "Scraping 82 games on 11/22/24:  16%|█▌        | 22 of 139 days scraped in 93.1 sec"
     ]
    },
    {
     "name": "stderr",
     "output_type": "stream",
     "text": [
      "\r",
      "Scraping 56 games on 11/23/24:  16%|█▌        | 22 of 139 days scraped in 93.7 sec"
     ]
    },
    {
     "name": "stderr",
     "output_type": "stream",
     "text": [
      "\r",
      "Scraping 56 games on 11/23/24:  17%|█▋        | 23 of 139 days scraped in 98.3 sec"
     ]
    },
    {
     "name": "stderr",
     "output_type": "stream",
     "text": [
      "\r",
      "Scraping 54 games on 11/24/24:  17%|█▋        | 23 of 139 days scraped in 98.9 sec"
     ]
    },
    {
     "name": "stderr",
     "output_type": "stream",
     "text": [
      "\r",
      "Scraping 54 games on 11/24/24:  17%|█▋        | 24 of 139 days scraped in 103.4 sec"
     ]
    },
    {
     "name": "stderr",
     "output_type": "stream",
     "text": [
      "\r",
      "Scraping 57 games on 11/25/24:  17%|█▋        | 24 of 139 days scraped in 104.5 sec"
     ]
    },
    {
     "name": "stderr",
     "output_type": "stream",
     "text": [
      "\r",
      "Scraping 57 games on 11/25/24:  18%|█▊        | 25 of 139 days scraped in 108.8 sec"
     ]
    },
    {
     "name": "stderr",
     "output_type": "stream",
     "text": [
      "\r",
      "Scraping 64 games on 11/26/24:  18%|█▊        | 25 of 139 days scraped in 109.4 sec"
     ]
    },
    {
     "name": "stderr",
     "output_type": "stream",
     "text": [
      "\r",
      "Scraping 64 games on 11/26/24:  19%|█▊        | 26 of 139 days scraped in 114.1 sec"
     ]
    },
    {
     "name": "stderr",
     "output_type": "stream",
     "text": [
      "\r",
      "Scraping 70 games on 11/27/24:  19%|█▊        | 26 of 139 days scraped in 114.9 sec"
     ]
    },
    {
     "name": "stderr",
     "output_type": "stream",
     "text": [
      "\r",
      "Scraping 70 games on 11/27/24:  19%|█▉        | 27 of 139 days scraped in 120.1 sec"
     ]
    },
    {
     "name": "stderr",
     "output_type": "stream",
     "text": [
      "\r",
      "Scraping 21 games on 11/28/24:  19%|█▉        | 27 of 139 days scraped in 120.5 sec"
     ]
    },
    {
     "name": "stderr",
     "output_type": "stream",
     "text": [
      "\r",
      "Scraping 21 games on 11/28/24:  20%|██        | 28 of 139 days scraped in 122.2 sec"
     ]
    },
    {
     "name": "stderr",
     "output_type": "stream",
     "text": [
      "\r",
      "Scraping 56 games on 11/29/24:  20%|██        | 28 of 139 days scraped in 122.8 sec"
     ]
    },
    {
     "name": "stderr",
     "output_type": "stream",
     "text": [
      "\r",
      "Scraping 56 games on 11/29/24:  21%|██        | 29 of 139 days scraped in 127.2 sec"
     ]
    },
    {
     "name": "stderr",
     "output_type": "stream",
     "text": [
      "\r",
      "Scraping 68 games on 11/30/24:  21%|██        | 29 of 139 days scraped in 127.8 sec"
     ]
    },
    {
     "name": "stderr",
     "output_type": "stream",
     "text": [
      "\r",
      "Scraping 68 games on 11/30/24:  22%|██▏       | 30 of 139 days scraped in 132.9 sec"
     ]
    },
    {
     "name": "stderr",
     "output_type": "stream",
     "text": [
      "\r",
      "Scraping 34 games on 12/01/24:  22%|██▏       | 30 of 139 days scraped in 133.4 sec"
     ]
    },
    {
     "name": "stderr",
     "output_type": "stream",
     "text": [
      "\r",
      "Scraping 34 games on 12/01/24:  22%|██▏       | 31 of 139 days scraped in 135.9 sec"
     ]
    },
    {
     "name": "stderr",
     "output_type": "stream",
     "text": [
      "\r",
      "Scraping 16 games on 12/02/24:  22%|██▏       | 31 of 139 days scraped in 136.2 sec"
     ]
    },
    {
     "name": "stderr",
     "output_type": "stream",
     "text": [
      "\r",
      "Scraping 16 games on 12/02/24:  23%|██▎       | 32 of 139 days scraped in 137.4 sec"
     ]
    },
    {
     "name": "stderr",
     "output_type": "stream",
     "text": [
      "\r",
      "Scraping 56 games on 12/03/24:  23%|██▎       | 32 of 139 days scraped in 138.0 sec"
     ]
    },
    {
     "name": "stderr",
     "output_type": "stream",
     "text": [
      "\r",
      "Scraping 56 games on 12/03/24:  24%|██▎       | 33 of 139 days scraped in 142.2 sec"
     ]
    },
    {
     "name": "stderr",
     "output_type": "stream",
     "text": [
      "\r",
      "Scraping 67 games on 12/04/24:  24%|██▎       | 33 of 139 days scraped in 142.8 sec"
     ]
    },
    {
     "name": "stderr",
     "output_type": "stream",
     "text": [
      "\r",
      "Scraping 67 games on 12/04/24:  24%|██▍       | 34 of 139 days scraped in 147.9 sec"
     ]
    },
    {
     "name": "stderr",
     "output_type": "stream",
     "text": [
      "\r",
      "Scraping 26 games on 12/05/24:  24%|██▍       | 34 of 139 days scraped in 148.3 sec"
     ]
    },
    {
     "name": "stderr",
     "output_type": "stream",
     "text": [
      "\r",
      "Scraping 26 games on 12/05/24:  25%|██▌       | 35 of 139 days scraped in 150.5 sec"
     ]
    },
    {
     "name": "stderr",
     "output_type": "stream",
     "text": [
      "\r",
      "Scraping 22 games on 12/06/24:  25%|██▌       | 35 of 139 days scraped in 150.9 sec"
     ]
    },
    {
     "name": "stderr",
     "output_type": "stream",
     "text": [
      "\r",
      "Scraping 22 games on 12/06/24:  26%|██▌       | 36 of 139 days scraped in 152.9 sec"
     ]
    },
    {
     "name": "stderr",
     "output_type": "stream",
     "text": [
      "\r",
      "Scraping 108 games on 12/07/24:  26%|██▌       | 36 of 139 days scraped in 154.0 sec"
     ]
    },
    {
     "name": "stderr",
     "output_type": "stream",
     "text": [
      "\r",
      "Scraping 108 games on 12/07/24:  27%|██▋       | 37 of 139 days scraped in 162.3 sec"
     ]
    },
    {
     "name": "stderr",
     "output_type": "stream",
     "text": [
      "\r",
      "Scraping 39 games on 12/08/24:  27%|██▋       | 37 of 139 days scraped in 162.7 sec "
     ]
    },
    {
     "name": "stderr",
     "output_type": "stream",
     "text": [
      "\r",
      "Scraping 39 games on 12/08/24:  27%|██▋       | 38 of 139 days scraped in 166.1 sec"
     ]
    },
    {
     "name": "stderr",
     "output_type": "stream",
     "text": [
      "\r",
      "Scraping 8 games on 12/09/24:  27%|██▋       | 38 of 139 days scraped in 166.3 sec "
     ]
    },
    {
     "name": "stderr",
     "output_type": "stream",
     "text": [
      "\r",
      "Scraping 8 games on 12/09/24:  28%|██▊       | 39 of 139 days scraped in 167.0 sec"
     ]
    },
    {
     "name": "stderr",
     "output_type": "stream",
     "text": [
      "\r",
      "Scraping 37 games on 12/10/24:  28%|██▊       | 39 of 139 days scraped in 167.4 sec"
     ]
    },
    {
     "name": "stderr",
     "output_type": "stream",
     "text": [
      "\r",
      "Scraping 37 games on 12/10/24:  29%|██▉       | 40 of 139 days scraped in 170.3 sec"
     ]
    },
    {
     "name": "stderr",
     "output_type": "stream",
     "text": [
      "\r",
      "Scraping 28 games on 12/11/24:  29%|██▉       | 40 of 139 days scraped in 170.6 sec"
     ]
    },
    {
     "name": "stderr",
     "output_type": "stream",
     "text": [
      "\r",
      "Scraping 28 games on 12/11/24:  29%|██▉       | 41 of 139 days scraped in 172.7 sec"
     ]
    },
    {
     "name": "stderr",
     "output_type": "stream",
     "text": [
      "\r",
      "Scraping 10 games on 12/12/24:  29%|██▉       | 41 of 139 days scraped in 172.9 sec"
     ]
    },
    {
     "name": "stderr",
     "output_type": "stream",
     "text": [
      "\r",
      "Scraping 10 games on 12/12/24:  30%|███       | 42 of 139 days scraped in 173.8 sec"
     ]
    },
    {
     "name": "stderr",
     "output_type": "stream",
     "text": [
      "\r",
      "Scraping 10 games on 12/13/24:  30%|███       | 42 of 139 days scraped in 174.0 sec"
     ]
    },
    {
     "name": "stderr",
     "output_type": "stream",
     "text": [
      "\r",
      "Scraping 10 games on 12/13/24:  31%|███       | 43 of 139 days scraped in 174.8 sec"
     ]
    },
    {
     "name": "stderr",
     "output_type": "stream",
     "text": [
      "\r",
      "Scraping 97 games on 12/14/24:  31%|███       | 43 of 139 days scraped in 175.6 sec"
     ]
    },
    {
     "name": "stderr",
     "output_type": "stream",
     "text": [
      "\r",
      "Scraping 97 games on 12/14/24:  32%|███▏      | 44 of 139 days scraped in 183.2 sec"
     ]
    },
    {
     "name": "stderr",
     "output_type": "stream",
     "text": [
      "\r",
      "Scraping 40 games on 12/15/24:  32%|███▏      | 44 of 139 days scraped in 183.6 sec"
     ]
    },
    {
     "name": "stderr",
     "output_type": "stream",
     "text": [
      "\r",
      "Scraping 40 games on 12/15/24:  32%|███▏      | 45 of 139 days scraped in 186.7 sec"
     ]
    },
    {
     "name": "stderr",
     "output_type": "stream",
     "text": [
      "\r",
      "Scraping 18 games on 12/16/24:  32%|███▏      | 45 of 139 days scraped in 187.0 sec"
     ]
    },
    {
     "name": "stderr",
     "output_type": "stream",
     "text": [
      "\r",
      "Scraping 18 games on 12/16/24:  33%|███▎      | 46 of 139 days scraped in 188.5 sec"
     ]
    },
    {
     "name": "stderr",
     "output_type": "stream",
     "text": [
      "\r",
      "Scraping 48 games on 12/17/24:  33%|███▎      | 46 of 139 days scraped in 189.1 sec"
     ]
    },
    {
     "name": "stderr",
     "output_type": "stream",
     "text": [
      "\r",
      "Scraping 48 games on 12/17/24:  34%|███▍      | 47 of 139 days scraped in 192.8 sec"
     ]
    },
    {
     "name": "stderr",
     "output_type": "stream",
     "text": [
      "\r",
      "Scraping 64 games on 12/18/24:  34%|███▍      | 47 of 139 days scraped in 193.4 sec"
     ]
    },
    {
     "name": "stderr",
     "output_type": "stream",
     "text": [
      "\r",
      "Scraping 64 games on 12/18/24:  35%|███▍      | 48 of 139 days scraped in 198.1 sec"
     ]
    },
    {
     "name": "stderr",
     "output_type": "stream",
     "text": [
      "\r",
      "Scraping 26 games on 12/19/24:  35%|███▍      | 48 of 139 days scraped in 198.5 sec"
     ]
    },
    {
     "name": "stderr",
     "output_type": "stream",
     "text": [
      "\r",
      "Scraping 26 games on 12/19/24:  35%|███▌      | 49 of 139 days scraped in 200.4 sec"
     ]
    },
    {
     "name": "stderr",
     "output_type": "stream",
     "text": [
      "\r",
      "Scraping 23 games on 12/20/24:  35%|███▌      | 49 of 139 days scraped in 200.8 sec"
     ]
    },
    {
     "name": "stderr",
     "output_type": "stream",
     "text": [
      "\r",
      "Scraping 23 games on 12/20/24:  36%|███▌      | 50 of 139 days scraped in 202.6 sec"
     ]
    },
    {
     "name": "stderr",
     "output_type": "stream",
     "text": [
      "\r",
      "Scraping 114 games on 12/21/24:  36%|███▌      | 50 of 139 days scraped in 203.5 sec"
     ]
    },
    {
     "name": "stderr",
     "output_type": "stream",
     "text": [
      "\r",
      "Scraping 114 games on 12/21/24:  37%|███▋      | 51 of 139 days scraped in 211.9 sec"
     ]
    },
    {
     "name": "stderr",
     "output_type": "stream",
     "text": [
      "\r",
      "Scraping 48 games on 12/22/24:  37%|███▋      | 51 of 139 days scraped in 212.3 sec "
     ]
    },
    {
     "name": "stderr",
     "output_type": "stream",
     "text": [
      "\r",
      "Scraping 48 games on 12/22/24:  37%|███▋      | 52 of 139 days scraped in 216.3 sec"
     ]
    },
    {
     "name": "stderr",
     "output_type": "stream",
     "text": [
      "\r",
      "Scraping 9 games on 12/23/24:  37%|███▋      | 52 of 139 days scraped in 216.7 sec "
     ]
    },
    {
     "name": "stderr",
     "output_type": "stream",
     "text": [
      "\r",
      "Scraping 9 games on 12/23/24:  38%|███▊      | 53 of 139 days scraped in 217.6 sec"
     ]
    },
    {
     "name": "stderr",
     "output_type": "stream",
     "text": [
      "\r",
      "Scraping 0 games on 12/24/24:  38%|███▊      | 53 of 139 days scraped in 217.8 sec"
     ]
    },
    {
     "name": "stderr",
     "output_type": "stream",
     "text": [
      "\r",
      "No games on 12/24/24:  39%|███▉      | 54 of 139 days scraped in 217.8 sec        "
     ]
    },
    {
     "name": "stderr",
     "output_type": "stream",
     "text": [
      "\r",
      "Scraping 4 games on 12/25/24:  39%|███▉      | 54 of 139 days scraped in 218.0 sec"
     ]
    },
    {
     "name": "stderr",
     "output_type": "stream",
     "text": [
      "\r",
      "Scraping 4 games on 12/25/24:  40%|███▉      | 55 of 139 days scraped in 218.5 sec"
     ]
    },
    {
     "name": "stderr",
     "output_type": "stream",
     "text": [
      "\r",
      "Scraping 0 games on 12/26/24:  40%|███▉      | 55 of 139 days scraped in 218.7 sec"
     ]
    },
    {
     "name": "stderr",
     "output_type": "stream",
     "text": [
      "\r",
      "No games on 12/26/24:  40%|████      | 56 of 139 days scraped in 218.7 sec        "
     ]
    },
    {
     "name": "stderr",
     "output_type": "stream",
     "text": [
      "\r",
      "Scraping 2 games on 12/27/24:  40%|████      | 56 of 139 days scraped in 218.9 sec"
     ]
    },
    {
     "name": "stderr",
     "output_type": "stream",
     "text": [
      "\r",
      "Scraping 2 games on 12/27/24:  41%|████      | 57 of 139 days scraped in 219.1 sec"
     ]
    },
    {
     "name": "stderr",
     "output_type": "stream",
     "text": [
      "\r",
      "Scraping 53 games on 12/28/24:  41%|████      | 57 of 139 days scraped in 219.6 sec"
     ]
    },
    {
     "name": "stderr",
     "output_type": "stream",
     "text": [
      "\r",
      "Scraping 53 games on 12/28/24:  42%|████▏     | 58 of 139 days scraped in 223.5 sec"
     ]
    },
    {
     "name": "stderr",
     "output_type": "stream",
     "text": [
      "\r",
      "Scraping 60 games on 12/29/24:  42%|████▏     | 58 of 139 days scraped in 224.2 sec"
     ]
    },
    {
     "name": "stderr",
     "output_type": "stream",
     "text": [
      "\r",
      "Scraping 60 games on 12/29/24:  42%|████▏     | 59 of 139 days scraped in 228.7 sec"
     ]
    },
    {
     "name": "stderr",
     "output_type": "stream",
     "text": [
      "\r",
      "Scraping 43 games on 12/30/24:  42%|████▏     | 59 of 139 days scraped in 229.2 sec"
     ]
    },
    {
     "name": "stderr",
     "output_type": "stream",
     "text": [
      "\r",
      "Scraping 43 games on 12/30/24:  43%|████▎     | 60 of 139 days scraped in 232.3 sec"
     ]
    },
    {
     "name": "stderr",
     "output_type": "stream",
     "text": [
      "\r",
      "Scraping 33 games on 12/31/24:  43%|████▎     | 60 of 139 days scraped in 232.9 sec"
     ]
    },
    {
     "name": "stderr",
     "output_type": "stream",
     "text": [
      "\r",
      "Scraping 33 games on 12/31/24:  44%|████▍     | 61 of 139 days scraped in 235.3 sec"
     ]
    },
    {
     "name": "stderr",
     "output_type": "stream",
     "text": [
      "\r",
      "Scraping 21 games on 01/01/25:  44%|████▍     | 61 of 139 days scraped in 235.7 sec"
     ]
    },
    {
     "name": "stderr",
     "output_type": "stream",
     "text": [
      "\r",
      "Scraping 21 games on 01/01/25:  45%|████▍     | 62 of 139 days scraped in 237.3 sec"
     ]
    },
    {
     "name": "stderr",
     "output_type": "stream",
     "text": [
      "\r",
      "Scraping 66 games on 01/02/25:  45%|████▍     | 62 of 139 days scraped in 237.9 sec"
     ]
    },
    {
     "name": "stderr",
     "output_type": "stream",
     "text": [
      "\r",
      "Scraping 66 games on 01/02/25:  45%|████▌     | 63 of 139 days scraped in 242.6 sec"
     ]
    },
    {
     "name": "stderr",
     "output_type": "stream",
     "text": [
      "\r",
      "Scraping 16 games on 01/03/25:  45%|████▌     | 63 of 139 days scraped in 242.9 sec"
     ]
    },
    {
     "name": "stderr",
     "output_type": "stream",
     "text": [
      "\r",
      "Scraping 16 games on 01/03/25:  46%|████▌     | 64 of 139 days scraped in 244.3 sec"
     ]
    },
    {
     "name": "stderr",
     "output_type": "stream",
     "text": [
      "\r",
      "Scraping 139 games on 01/04/25:  46%|████▌     | 64 of 139 days scraped in 245.4 sec"
     ]
    },
    {
     "name": "stderr",
     "output_type": "stream",
     "text": [
      "\r",
      "Scraping 139 games on 01/04/25:  47%|████▋     | 65 of 139 days scraped in 255.0 sec"
     ]
    },
    {
     "name": "stderr",
     "output_type": "stream",
     "text": [
      "\r",
      "Scraping 27 games on 01/05/25:  47%|████▋     | 65 of 139 days scraped in 255.4 sec "
     ]
    },
    {
     "name": "stderr",
     "output_type": "stream",
     "text": [
      "\r",
      "Scraping 27 games on 01/05/25:  47%|████▋     | 66 of 139 days scraped in 257.7 sec"
     ]
    },
    {
     "name": "stderr",
     "output_type": "stream",
     "text": [
      "\r",
      "Scraping 16 games on 01/06/25:  47%|████▋     | 66 of 139 days scraped in 258.0 sec"
     ]
    },
    {
     "name": "stderr",
     "output_type": "stream",
     "text": [
      "\r",
      "Scraping 16 games on 01/06/25:  48%|████▊     | 67 of 139 days scraped in 259.3 sec"
     ]
    },
    {
     "name": "stderr",
     "output_type": "stream",
     "text": [
      "\r",
      "Scraping 34 games on 01/07/25:  48%|████▊     | 67 of 139 days scraped in 259.7 sec"
     ]
    },
    {
     "name": "stderr",
     "output_type": "stream",
     "text": [
      "\r",
      "Scraping 34 games on 01/07/25:  49%|████▉     | 68 of 139 days scraped in 262.2 sec"
     ]
    },
    {
     "name": "stderr",
     "output_type": "stream",
     "text": [
      "\r",
      "Scraping 50 games on 01/08/25:  49%|████▉     | 68 of 139 days scraped in 262.9 sec"
     ]
    },
    {
     "name": "stderr",
     "output_type": "stream",
     "text": [
      "\r",
      "Scraping 50 games on 01/08/25:  50%|████▉     | 69 of 139 days scraped in 266.6 sec"
     ]
    },
    {
     "name": "stderr",
     "output_type": "stream",
     "text": [
      "\r",
      "Scraping 55 games on 01/09/25:  50%|████▉     | 69 of 139 days scraped in 267.1 sec"
     ]
    },
    {
     "name": "stderr",
     "output_type": "stream",
     "text": [
      "\r",
      "Scraping 55 games on 01/09/25:  50%|█████     | 70 of 139 days scraped in 271.1 sec"
     ]
    },
    {
     "name": "stderr",
     "output_type": "stream",
     "text": [
      "\r",
      "Scraping 14 games on 01/10/25:  50%|█████     | 70 of 139 days scraped in 271.3 sec"
     ]
    },
    {
     "name": "stderr",
     "output_type": "stream",
     "text": [
      "\r",
      "Scraping 14 games on 01/10/25:  51%|█████     | 71 of 139 days scraped in 272.4 sec"
     ]
    },
    {
     "name": "stderr",
     "output_type": "stream",
     "text": [
      "\r",
      "Scraping 144 games on 01/11/25:  51%|█████     | 71 of 139 days scraped in 273.5 sec"
     ]
    },
    {
     "name": "stderr",
     "output_type": "stream",
     "text": [
      "\r",
      "Scraping 144 games on 01/11/25:  52%|█████▏    | 72 of 139 days scraped in 283.9 sec"
     ]
    },
    {
     "name": "stderr",
     "output_type": "stream",
     "text": [
      "\r",
      "Scraping 21 games on 01/12/25:  52%|█████▏    | 72 of 139 days scraped in 284.1 sec "
     ]
    },
    {
     "name": "stderr",
     "output_type": "stream",
     "text": [
      "\r",
      "Scraping 21 games on 01/12/25:  53%|█████▎    | 73 of 139 days scraped in 285.7 sec"
     ]
    },
    {
     "name": "stderr",
     "output_type": "stream",
     "text": [
      "\r",
      "Scraping 22 games on 01/13/25:  53%|█████▎    | 73 of 139 days scraped in 286.3 sec"
     ]
    },
    {
     "name": "stderr",
     "output_type": "stream",
     "text": [
      "\r",
      "Scraping 22 games on 01/13/25:  53%|█████▎    | 74 of 139 days scraped in 287.8 sec"
     ]
    },
    {
     "name": "stderr",
     "output_type": "stream",
     "text": [
      "\r",
      "Scraping 36 games on 01/14/25:  53%|█████▎    | 74 of 139 days scraped in 288.2 sec"
     ]
    },
    {
     "name": "stderr",
     "output_type": "stream",
     "text": [
      "\r",
      "Scraping 36 games on 01/14/25:  54%|█████▍    | 75 of 139 days scraped in 290.9 sec"
     ]
    },
    {
     "name": "stderr",
     "output_type": "stream",
     "text": [
      "\r",
      "Scraping 48 games on 01/15/25:  54%|█████▍    | 75 of 139 days scraped in 291.5 sec"
     ]
    },
    {
     "name": "stderr",
     "output_type": "stream",
     "text": [
      "\r",
      "Scraping 48 games on 01/15/25:  55%|█████▍    | 76 of 139 days scraped in 294.9 sec"
     ]
    },
    {
     "name": "stderr",
     "output_type": "stream",
     "text": [
      "\r",
      "Scraping 63 games on 01/16/25:  55%|█████▍    | 76 of 139 days scraped in 295.8 sec"
     ]
    },
    {
     "name": "stderr",
     "output_type": "stream",
     "text": [
      "\r",
      "Scraping 63 games on 01/16/25:  55%|█████▌    | 77 of 139 days scraped in 300.4 sec"
     ]
    },
    {
     "name": "stderr",
     "output_type": "stream",
     "text": [
      "\r",
      "Scraping 10 games on 01/17/25:  55%|█████▌    | 77 of 139 days scraped in 300.7 sec"
     ]
    },
    {
     "name": "stderr",
     "output_type": "stream",
     "text": [
      "\r",
      "Scraping 10 games on 01/17/25:  56%|█████▌    | 78 of 139 days scraped in 301.7 sec"
     ]
    },
    {
     "name": "stderr",
     "output_type": "stream",
     "text": [
      "\r",
      "Scraping 148 games on 01/18/25:  56%|█████▌    | 78 of 139 days scraped in 303.0 sec"
     ]
    },
    {
     "name": "stderr",
     "output_type": "stream",
     "text": [
      "\r",
      "Scraping 148 games on 01/18/25:  57%|█████▋    | 79 of 139 days scraped in 313.7 sec"
     ]
    },
    {
     "name": "stderr",
     "output_type": "stream",
     "text": [
      "\r",
      "Scraping 11 games on 01/19/25:  57%|█████▋    | 79 of 139 days scraped in 314.1 sec "
     ]
    },
    {
     "name": "stderr",
     "output_type": "stream",
     "text": [
      "\r",
      "Scraping 11 games on 01/19/25:  58%|█████▊    | 80 of 139 days scraped in 314.9 sec"
     ]
    },
    {
     "name": "stderr",
     "output_type": "stream",
     "text": [
      "\r",
      "Scraping 29 games on 01/20/25:  58%|█████▊    | 80 of 139 days scraped in 315.3 sec"
     ]
    },
    {
     "name": "stderr",
     "output_type": "stream",
     "text": [
      "\r",
      "Scraping 29 games on 01/20/25:  58%|█████▊    | 81 of 139 days scraped in 317.5 sec"
     ]
    },
    {
     "name": "stderr",
     "output_type": "stream",
     "text": [
      "\r",
      "Scraping 35 games on 01/21/25:  58%|█████▊    | 81 of 139 days scraped in 318.0 sec"
     ]
    },
    {
     "name": "stderr",
     "output_type": "stream",
     "text": [
      "\r",
      "Scraping 35 games on 01/21/25:  59%|█████▉    | 82 of 139 days scraped in 320.8 sec"
     ]
    },
    {
     "name": "stderr",
     "output_type": "stream",
     "text": [
      "\r",
      "Scraping 42 games on 01/22/25:  59%|█████▉    | 82 of 139 days scraped in 321.3 sec"
     ]
    },
    {
     "name": "stderr",
     "output_type": "stream",
     "text": [
      "\r",
      "Scraping 42 games on 01/22/25:  60%|█████▉    | 83 of 139 days scraped in 324.4 sec"
     ]
    },
    {
     "name": "stderr",
     "output_type": "stream",
     "text": [
      "\r",
      "Scraping 61 games on 01/23/25:  60%|█████▉    | 83 of 139 days scraped in 325.0 sec"
     ]
    },
    {
     "name": "stderr",
     "output_type": "stream",
     "text": [
      "\r",
      "Scraping 61 games on 01/23/25:  60%|██████    | 84 of 139 days scraped in 329.7 sec"
     ]
    },
    {
     "name": "stderr",
     "output_type": "stream",
     "text": [
      "\r",
      "Scraping 14 games on 01/24/25:  60%|██████    | 84 of 139 days scraped in 330.0 sec"
     ]
    },
    {
     "name": "stderr",
     "output_type": "stream",
     "text": [
      "\r",
      "Scraping 14 games on 01/24/25:  61%|██████    | 85 of 139 days scraped in 331.6 sec"
     ]
    },
    {
     "name": "stderr",
     "output_type": "stream",
     "text": [
      "\r",
      "Scraping 149 games on 01/25/25:  61%|██████    | 85 of 139 days scraped in 332.9 sec"
     ]
    },
    {
     "name": "stderr",
     "output_type": "stream",
     "text": [
      "\r",
      "Scraping 149 games on 01/25/25:  62%|██████▏   | 86 of 139 days scraped in 344.5 sec"
     ]
    },
    {
     "name": "stderr",
     "output_type": "stream",
     "text": [
      "\r",
      "Scraping 13 games on 01/26/25:  62%|██████▏   | 86 of 139 days scraped in 344.8 sec "
     ]
    },
    {
     "name": "stderr",
     "output_type": "stream",
     "text": [
      "\r",
      "Scraping 13 games on 01/26/25:  63%|██████▎   | 87 of 139 days scraped in 345.9 sec"
     ]
    },
    {
     "name": "stderr",
     "output_type": "stream",
     "text": [
      "\r",
      "Scraping 22 games on 01/27/25:  63%|██████▎   | 87 of 139 days scraped in 346.2 sec"
     ]
    },
    {
     "name": "stderr",
     "output_type": "stream",
     "text": [
      "\r",
      "Scraping 22 games on 01/27/25:  63%|██████▎   | 88 of 139 days scraped in 347.9 sec"
     ]
    },
    {
     "name": "stderr",
     "output_type": "stream",
     "text": [
      "\r",
      "Scraping 29 games on 01/28/25:  63%|██████▎   | 88 of 139 days scraped in 348.3 sec"
     ]
    },
    {
     "name": "stderr",
     "output_type": "stream",
     "text": [
      "\r",
      "Scraping 29 games on 01/28/25:  64%|██████▍   | 89 of 139 days scraped in 350.5 sec"
     ]
    },
    {
     "name": "stderr",
     "output_type": "stream",
     "text": [
      "\r",
      "Scraping 52 games on 01/29/25:  64%|██████▍   | 89 of 139 days scraped in 351.0 sec"
     ]
    },
    {
     "name": "stderr",
     "output_type": "stream",
     "text": [
      "\r",
      "Scraping 52 games on 01/29/25:  65%|██████▍   | 90 of 139 days scraped in 354.7 sec"
     ]
    },
    {
     "name": "stderr",
     "output_type": "stream",
     "text": [
      "\r",
      "Scraping 58 games on 01/30/25:  65%|██████▍   | 90 of 139 days scraped in 355.3 sec"
     ]
    },
    {
     "name": "stderr",
     "output_type": "stream",
     "text": [
      "\r",
      "Scraping 58 games on 01/30/25:  65%|██████▌   | 91 of 139 days scraped in 359.6 sec"
     ]
    },
    {
     "name": "stderr",
     "output_type": "stream",
     "text": [
      "\r",
      "Scraping 14 games on 01/31/25:  65%|██████▌   | 91 of 139 days scraped in 360.0 sec"
     ]
    },
    {
     "name": "stderr",
     "output_type": "stream",
     "text": [
      "\r",
      "Scraping 14 games on 01/31/25:  66%|██████▌   | 92 of 139 days scraped in 361.1 sec"
     ]
    },
    {
     "name": "stderr",
     "output_type": "stream",
     "text": [
      "\r",
      "Scraping 146 games on 02/01/25:  66%|██████▌   | 92 of 139 days scraped in 362.1 sec"
     ]
    },
    {
     "name": "stderr",
     "output_type": "stream",
     "text": [
      "\r",
      "Scraping 146 games on 02/01/25:  67%|██████▋   | 93 of 139 days scraped in 372.2 sec"
     ]
    },
    {
     "name": "stderr",
     "output_type": "stream",
     "text": [
      "\r",
      "Scraping 19 games on 02/02/25:  67%|██████▋   | 93 of 139 days scraped in 372.5 sec "
     ]
    },
    {
     "name": "stderr",
     "output_type": "stream",
     "text": [
      "\r",
      "Scraping 19 games on 02/02/25:  68%|██████▊   | 94 of 139 days scraped in 374.3 sec"
     ]
    },
    {
     "name": "stderr",
     "output_type": "stream",
     "text": [
      "\r",
      "Scraping 21 games on 02/03/25:  68%|██████▊   | 94 of 139 days scraped in 374.6 sec"
     ]
    },
    {
     "name": "stderr",
     "output_type": "stream",
     "text": [
      "\r",
      "Scraping 21 games on 02/03/25:  68%|██████▊   | 95 of 139 days scraped in 376.2 sec"
     ]
    },
    {
     "name": "stderr",
     "output_type": "stream",
     "text": [
      "\r",
      "Scraping 34 games on 02/04/25:  68%|██████▊   | 95 of 139 days scraped in 376.6 sec"
     ]
    },
    {
     "name": "stderr",
     "output_type": "stream",
     "text": [
      "\r",
      "Scraping 34 games on 02/04/25:  69%|██████▉   | 96 of 139 days scraped in 379.2 sec"
     ]
    },
    {
     "name": "stderr",
     "output_type": "stream",
     "text": [
      "\r",
      "Scraping 55 games on 02/05/25:  69%|██████▉   | 96 of 139 days scraped in 379.7 sec"
     ]
    },
    {
     "name": "stderr",
     "output_type": "stream",
     "text": [
      "\r",
      "Scraping 55 games on 02/05/25:  70%|██████▉   | 97 of 139 days scraped in 384.3 sec"
     ]
    },
    {
     "name": "stderr",
     "output_type": "stream",
     "text": [
      "\r",
      "Scraping 59 games on 02/06/25:  70%|██████▉   | 97 of 139 days scraped in 384.8 sec"
     ]
    },
    {
     "name": "stderr",
     "output_type": "stream",
     "text": [
      "\r",
      "Scraping 59 games on 02/06/25:  71%|███████   | 98 of 139 days scraped in 389.2 sec"
     ]
    },
    {
     "name": "stderr",
     "output_type": "stream",
     "text": [
      "\r",
      "Scraping 7 games on 02/07/25:  71%|███████   | 98 of 139 days scraped in 389.4 sec "
     ]
    },
    {
     "name": "stderr",
     "output_type": "stream",
     "text": [
      "\r",
      "Scraping 7 games on 02/07/25:  71%|███████   | 99 of 139 days scraped in 390.0 sec"
     ]
    },
    {
     "name": "stderr",
     "output_type": "stream",
     "text": [
      "\r",
      "Scraping 155 games on 02/08/25:  71%|███████   | 99 of 139 days scraped in 391.4 sec"
     ]
    },
    {
     "name": "stderr",
     "output_type": "stream",
     "text": [
      "\r",
      "Scraping 155 games on 02/08/25:  72%|███████▏  | 100 of 139 days scraped in 403.5 sec"
     ]
    },
    {
     "name": "stderr",
     "output_type": "stream",
     "text": [
      "\r",
      "Scraping 8 games on 02/09/25:  72%|███████▏  | 100 of 139 days scraped in 403.8 sec  "
     ]
    },
    {
     "name": "stderr",
     "output_type": "stream",
     "text": [
      "\r",
      "Scraping 8 games on 02/09/25:  73%|███████▎  | 101 of 139 days scraped in 404.5 sec"
     ]
    },
    {
     "name": "stderr",
     "output_type": "stream",
     "text": [
      "\r",
      "Scraping 19 games on 02/10/25:  73%|███████▎  | 101 of 139 days scraped in 404.8 sec"
     ]
    },
    {
     "name": "stderr",
     "output_type": "stream",
     "text": [
      "\r",
      "Scraping 19 games on 02/10/25:  73%|███████▎  | 102 of 139 days scraped in 406.5 sec"
     ]
    },
    {
     "name": "stderr",
     "output_type": "stream",
     "text": [
      "\r",
      "Scraping 37 games on 02/11/25:  73%|███████▎  | 102 of 139 days scraped in 407.2 sec"
     ]
    },
    {
     "name": "stderr",
     "output_type": "stream",
     "text": [
      "\r",
      "Scraping 37 games on 02/11/25:  74%|███████▍  | 103 of 139 days scraped in 410.4 sec"
     ]
    },
    {
     "name": "stderr",
     "output_type": "stream",
     "text": [
      "\r",
      "Scraping 44 games on 02/12/25:  74%|███████▍  | 103 of 139 days scraped in 410.9 sec"
     ]
    },
    {
     "name": "stderr",
     "output_type": "stream",
     "text": [
      "\r",
      "Scraping 44 games on 02/12/25:  75%|███████▍  | 104 of 139 days scraped in 415.0 sec"
     ]
    },
    {
     "name": "stderr",
     "output_type": "stream",
     "text": [
      "\r",
      "Scraping 59 games on 02/13/25:  75%|███████▍  | 104 of 139 days scraped in 415.5 sec"
     ]
    },
    {
     "name": "stderr",
     "output_type": "stream",
     "text": [
      "\r",
      "Scraping 59 games on 02/13/25:  76%|███████▌  | 105 of 139 days scraped in 421.1 sec"
     ]
    },
    {
     "name": "stderr",
     "output_type": "stream",
     "text": [
      "\r",
      "Scraping 16 games on 02/14/25:  76%|███████▌  | 105 of 139 days scraped in 421.5 sec"
     ]
    },
    {
     "name": "stderr",
     "output_type": "stream",
     "text": [
      "\r",
      "Scraping 16 games on 02/14/25:  76%|███████▋  | 106 of 139 days scraped in 423.1 sec"
     ]
    },
    {
     "name": "stderr",
     "output_type": "stream",
     "text": [
      "\r",
      "Scraping 146 games on 02/15/25:  76%|███████▋  | 106 of 139 days scraped in 424.3 sec"
     ]
    },
    {
     "name": "stderr",
     "output_type": "stream",
     "text": [
      "\r",
      "Scraping 146 games on 02/15/25:  77%|███████▋  | 107 of 139 days scraped in 437.3 sec"
     ]
    },
    {
     "name": "stderr",
     "output_type": "stream",
     "text": [
      "\r",
      "Scraping 25 games on 02/16/25:  77%|███████▋  | 107 of 139 days scraped in 437.7 sec "
     ]
    },
    {
     "name": "stderr",
     "output_type": "stream",
     "text": [
      "\r",
      "Scraping 25 games on 02/16/25:  78%|███████▊  | 108 of 139 days scraped in 440.1 sec"
     ]
    },
    {
     "name": "stderr",
     "output_type": "stream",
     "text": [
      "\r",
      "Scraping 21 games on 02/17/25:  78%|███████▊  | 108 of 139 days scraped in 440.4 sec"
     ]
    },
    {
     "name": "stderr",
     "output_type": "stream",
     "text": [
      "\r",
      "Scraping 21 games on 02/17/25:  78%|███████▊  | 109 of 139 days scraped in 442.4 sec"
     ]
    },
    {
     "name": "stderr",
     "output_type": "stream",
     "text": [
      "\r",
      "Scraping 32 games on 02/18/25:  78%|███████▊  | 109 of 139 days scraped in 442.9 sec"
     ]
    },
    {
     "name": "stderr",
     "output_type": "stream",
     "text": [
      "\r",
      "Scraping 32 games on 02/18/25:  79%|███████▉  | 110 of 139 days scraped in 446.7 sec"
     ]
    },
    {
     "name": "stderr",
     "output_type": "stream",
     "text": [
      "\r",
      "Scraping 51 games on 02/19/25:  79%|███████▉  | 110 of 139 days scraped in 447.2 sec"
     ]
    },
    {
     "name": "stderr",
     "output_type": "stream",
     "text": [
      "\r",
      "Scraping 51 games on 02/19/25:  80%|███████▉  | 111 of 139 days scraped in 452.2 sec"
     ]
    },
    {
     "name": "stderr",
     "output_type": "stream",
     "text": [
      "\r",
      "Scraping 52 games on 02/20/25:  80%|███████▉  | 111 of 139 days scraped in 453.1 sec"
     ]
    },
    {
     "name": "stderr",
     "output_type": "stream",
     "text": [
      "\r",
      "Scraping 52 games on 02/20/25:  81%|████████  | 112 of 139 days scraped in 457.7 sec"
     ]
    },
    {
     "name": "stderr",
     "output_type": "stream",
     "text": [
      "\r",
      "Scraping 20 games on 02/21/25:  81%|████████  | 112 of 139 days scraped in 458.0 sec"
     ]
    },
    {
     "name": "stderr",
     "output_type": "stream",
     "text": [
      "\r",
      "Scraping 20 games on 02/21/25:  81%|████████▏ | 113 of 139 days scraped in 459.8 sec"
     ]
    },
    {
     "name": "stderr",
     "output_type": "stream",
     "text": [
      "\r",
      "Scraping 131 games on 02/22/25:  81%|████████▏ | 113 of 139 days scraped in 461.0 sec"
     ]
    },
    {
     "name": "stderr",
     "output_type": "stream",
     "text": [
      "\r",
      "Scraping 131 games on 02/22/25:  82%|████████▏ | 114 of 139 days scraped in 472.8 sec"
     ]
    },
    {
     "name": "stderr",
     "output_type": "stream",
     "text": [
      "\r",
      "Scraping 28 games on 02/23/25:  82%|████████▏ | 114 of 139 days scraped in 473.2 sec "
     ]
    },
    {
     "name": "stderr",
     "output_type": "stream",
     "text": [
      "\r",
      "Scraping 28 games on 02/23/25:  83%|████████▎ | 115 of 139 days scraped in 475.5 sec"
     ]
    },
    {
     "name": "stderr",
     "output_type": "stream",
     "text": [
      "\r",
      "Scraping 27 games on 02/24/25:  83%|████████▎ | 115 of 139 days scraped in 476.0 sec"
     ]
    },
    {
     "name": "stderr",
     "output_type": "stream",
     "text": [
      "\r",
      "Scraping 27 games on 02/24/25:  83%|████████▎ | 116 of 139 days scraped in 478.4 sec"
     ]
    },
    {
     "name": "stderr",
     "output_type": "stream",
     "text": [
      "\r",
      "Scraping 35 games on 02/25/25:  83%|████████▎ | 116 of 139 days scraped in 478.8 sec"
     ]
    },
    {
     "name": "stderr",
     "output_type": "stream",
     "text": [
      "\r",
      "Scraping 35 games on 02/25/25:  84%|████████▍ | 117 of 139 days scraped in 481.9 sec"
     ]
    },
    {
     "name": "stderr",
     "output_type": "stream",
     "text": [
      "\r",
      "Scraping 54 games on 02/26/25:  84%|████████▍ | 117 of 139 days scraped in 482.4 sec"
     ]
    },
    {
     "name": "stderr",
     "output_type": "stream",
     "text": [
      "\r",
      "Scraping 54 games on 02/26/25:  85%|████████▍ | 118 of 139 days scraped in 486.6 sec"
     ]
    },
    {
     "name": "stderr",
     "output_type": "stream",
     "text": [
      "\r",
      "Scraping 54 games on 02/27/25:  85%|████████▍ | 118 of 139 days scraped in 487.3 sec"
     ]
    },
    {
     "name": "stderr",
     "output_type": "stream",
     "text": [
      "\r",
      "Scraping 54 games on 02/27/25:  86%|████████▌ | 119 of 139 days scraped in 491.8 sec"
     ]
    },
    {
     "name": "stderr",
     "output_type": "stream",
     "text": [
      "\r",
      "Scraping 23 games on 02/28/25:  86%|████████▌ | 119 of 139 days scraped in 492.1 sec"
     ]
    },
    {
     "name": "stderr",
     "output_type": "stream",
     "text": [
      "\r",
      "Scraping 23 games on 02/28/25:  86%|████████▋ | 120 of 139 days scraped in 494.0 sec"
     ]
    },
    {
     "name": "stderr",
     "output_type": "stream",
     "text": [
      "\r",
      "Scraping 133 games on 03/01/25:  86%|████████▋ | 120 of 139 days scraped in 495.3 sec"
     ]
    },
    {
     "name": "stderr",
     "output_type": "stream",
     "text": [
      "\r",
      "Scraping 133 games on 03/01/25:  87%|████████▋ | 121 of 139 days scraped in 506.1 sec"
     ]
    },
    {
     "name": "stderr",
     "output_type": "stream",
     "text": [
      "\r",
      "Scraping 23 games on 03/02/25:  87%|████████▋ | 121 of 139 days scraped in 506.5 sec "
     ]
    },
    {
     "name": "stderr",
     "output_type": "stream",
     "text": [
      "\r",
      "Scraping 23 games on 03/02/25:  88%|████████▊ | 122 of 139 days scraped in 508.3 sec"
     ]
    },
    {
     "name": "stderr",
     "output_type": "stream",
     "text": [
      "\r",
      "Scraping 27 games on 03/03/25:  88%|████████▊ | 122 of 139 days scraped in 508.6 sec"
     ]
    },
    {
     "name": "stderr",
     "output_type": "stream",
     "text": [
      "\r",
      "Scraping 27 games on 03/03/25:  88%|████████▊ | 123 of 139 days scraped in 510.8 sec"
     ]
    },
    {
     "name": "stderr",
     "output_type": "stream",
     "text": [
      "\r",
      "Scraping 44 games on 03/04/25:  88%|████████▊ | 123 of 139 days scraped in 511.4 sec"
     ]
    },
    {
     "name": "stderr",
     "output_type": "stream",
     "text": [
      "\r",
      "Scraping 44 games on 03/04/25:  89%|████████▉ | 124 of 139 days scraped in 515.4 sec"
     ]
    },
    {
     "name": "stderr",
     "output_type": "stream",
     "text": [
      "\r",
      "Scraping 31 games on 03/05/25:  89%|████████▉ | 124 of 139 days scraped in 515.8 sec"
     ]
    },
    {
     "name": "stderr",
     "output_type": "stream",
     "text": [
      "\r",
      "Scraping 31 games on 03/05/25:  90%|████████▉ | 125 of 139 days scraped in 518.4 sec"
     ]
    },
    {
     "name": "stderr",
     "output_type": "stream",
     "text": [
      "\r",
      "Scraping 53 games on 03/06/25:  90%|████████▉ | 125 of 139 days scraped in 518.9 sec"
     ]
    },
    {
     "name": "stderr",
     "output_type": "stream",
     "text": [
      "\r",
      "Scraping 53 games on 03/06/25:  91%|█████████ | 126 of 139 days scraped in 523.2 sec"
     ]
    },
    {
     "name": "stderr",
     "output_type": "stream",
     "text": [
      "\r",
      "Scraping 31 games on 03/07/25:  91%|█████████ | 126 of 139 days scraped in 523.6 sec"
     ]
    },
    {
     "name": "stderr",
     "output_type": "stream",
     "text": [
      "\r",
      "Scraping 31 games on 03/07/25:  91%|█████████▏| 127 of 139 days scraped in 526.1 sec"
     ]
    },
    {
     "name": "stderr",
     "output_type": "stream",
     "text": [
      "\r",
      "Scraping 100 games on 03/08/25:  91%|█████████▏| 127 of 139 days scraped in 527.0 sec"
     ]
    },
    {
     "name": "stderr",
     "output_type": "stream",
     "text": [
      "\r",
      "Scraping 100 games on 03/08/25:  92%|█████████▏| 128 of 139 days scraped in 534.9 sec"
     ]
    },
    {
     "name": "stderr",
     "output_type": "stream",
     "text": [
      "\r",
      "Scraping 29 games on 03/09/25:  92%|█████████▏| 128 of 139 days scraped in 535.7 sec "
     ]
    },
    {
     "name": "stderr",
     "output_type": "stream",
     "text": [
      "\r",
      "Scraping 29 games on 03/09/25:  93%|█████████▎| 129 of 139 days scraped in 538.2 sec"
     ]
    },
    {
     "name": "stderr",
     "output_type": "stream",
     "text": [
      "\r",
      "Scraping 12 games on 03/10/25:  93%|█████████▎| 129 of 139 days scraped in 538.4 sec"
     ]
    },
    {
     "name": "stderr",
     "output_type": "stream",
     "text": [
      "\r",
      "Scraping 12 games on 03/10/25:  94%|█████████▎| 130 of 139 days scraped in 539.5 sec"
     ]
    },
    {
     "name": "stderr",
     "output_type": "stream",
     "text": [
      "\r",
      "Scraping 24 games on 03/11/25:  94%|█████████▎| 130 of 139 days scraped in 539.9 sec"
     ]
    },
    {
     "name": "stderr",
     "output_type": "stream",
     "text": [
      "\r",
      "Scraping 24 games on 03/11/25:  94%|█████████▍| 131 of 139 days scraped in 542.0 sec"
     ]
    },
    {
     "name": "stderr",
     "output_type": "stream",
     "text": [
      "\r",
      "Scraping 40 games on 03/12/25:  94%|█████████▍| 131 of 139 days scraped in 542.5 sec"
     ]
    },
    {
     "name": "stderr",
     "output_type": "stream",
     "text": [
      "\r",
      "Scraping 40 games on 03/12/25:  95%|█████████▍| 132 of 139 days scraped in 545.8 sec"
     ]
    },
    {
     "name": "stderr",
     "output_type": "stream",
     "text": [
      "\r",
      "Scraping 48 games on 03/13/25:  95%|█████████▍| 132 of 139 days scraped in 546.3 sec"
     ]
    },
    {
     "name": "stderr",
     "output_type": "stream",
     "text": [
      "\r",
      "Scraping 48 games on 03/13/25:  96%|█████████▌| 133 of 139 days scraped in 550.1 sec"
     ]
    },
    {
     "name": "stderr",
     "output_type": "stream",
     "text": [
      "\r",
      "Scraping 38 games on 03/14/25:  96%|█████████▌| 133 of 139 days scraped in 550.7 sec"
     ]
    },
    {
     "name": "stderr",
     "output_type": "stream",
     "text": [
      "\r",
      "Scraping 38 games on 03/14/25:  96%|█████████▋| 134 of 139 days scraped in 553.9 sec"
     ]
    },
    {
     "name": "stderr",
     "output_type": "stream",
     "text": [
      "\r",
      "Scraping 22 games on 03/15/25:  96%|█████████▋| 134 of 139 days scraped in 554.2 sec"
     ]
    },
    {
     "name": "stderr",
     "output_type": "stream",
     "text": [
      "\r",
      "Scraping 22 games on 03/15/25:  97%|█████████▋| 135 of 139 days scraped in 556.1 sec"
     ]
    },
    {
     "name": "stderr",
     "output_type": "stream",
     "text": [
      "\r",
      "Scraping 5 games on 03/16/25:  97%|█████████▋| 135 of 139 days scraped in 556.3 sec "
     ]
    },
    {
     "name": "stderr",
     "output_type": "stream",
     "text": [
      "\r",
      "Scraping 5 games on 03/16/25:  98%|█████████▊| 136 of 139 days scraped in 556.8 sec"
     ]
    },
    {
     "name": "stderr",
     "output_type": "stream",
     "text": [
      "\r",
      "Scraping 0 games on 03/17/25:  98%|█████████▊| 136 of 139 days scraped in 557.1 sec"
     ]
    },
    {
     "name": "stderr",
     "output_type": "stream",
     "text": [
      "\r",
      "No games on 03/17/25:  99%|█████████▊| 137 of 139 days scraped in 557.1 sec        "
     ]
    },
    {
     "name": "stderr",
     "output_type": "stream",
     "text": [
      "\r",
      "Scraping 9 games on 03/18/25:  99%|█████████▊| 137 of 139 days scraped in 557.3 sec"
     ]
    },
    {
     "name": "stderr",
     "output_type": "stream",
     "text": [
      "\r",
      "Scraping 9 games on 03/18/25:  99%|█████████▉| 138 of 139 days scraped in 558.2 sec"
     ]
    },
    {
     "name": "stderr",
     "output_type": "stream",
     "text": [
      "\r",
      "Scraping 11 games on 03/19/25:  99%|█████████▉| 138 of 139 days scraped in 558.4 sec"
     ]
    },
    {
     "name": "stderr",
     "output_type": "stream",
     "text": [
      "\r",
      "Scraping 11 games on 03/19/25: 100%|██████████| 139 of 139 days scraped in 559.3 sec"
     ]
    },
    {
     "name": "stderr",
     "output_type": "stream",
     "text": [
      "\r",
      "Scraping 11 games on 03/19/25: 100%|██████████| 139 of 139 days scraped in 559.3 sec"
     ]
    },
    {
     "name": "stderr",
     "output_type": "stream",
     "text": [
      "\n"
     ]
    },
    {
     "name": "stdout",
     "output_type": "stream",
     "text": [
      "Log file is located at /home/runner/.local/state/CBBpy/2.1.2/log/CBBpy.log\n"
     ]
    }
   ],
   "source": [
    "import pandas as pd\n",
    "import cbbpy.mens_scraper as s\n",
    "\n",
    "# Create data frames for each season of game info\n",
    "\n",
    "df_2025 = s.get_games_season(2025, box = False, pbp = False)\n"
   ]
  },
  {
   "cell_type": "code",
   "execution_count": 2,
   "metadata": {
    "execution": {
     "iopub.execute_input": "2025-03-19T12:15:04.059805Z",
     "iopub.status.busy": "2025-03-19T12:15:04.059259Z",
     "iopub.status.idle": "2025-03-19T12:15:04.084719Z",
     "shell.execute_reply": "2025-03-19T12:15:04.084144Z"
    }
   },
   "outputs": [
    {
     "data": {
      "text/html": [
       "<div>\n",
       "<style scoped>\n",
       "    .dataframe tbody tr th:only-of-type {\n",
       "        vertical-align: middle;\n",
       "    }\n",
       "\n",
       "    .dataframe tbody tr th {\n",
       "        vertical-align: top;\n",
       "    }\n",
       "\n",
       "    .dataframe thead th {\n",
       "        text-align: right;\n",
       "    }\n",
       "</style>\n",
       "<table border=\"1\" class=\"dataframe\">\n",
       "  <thead>\n",
       "    <tr style=\"text-align: right;\">\n",
       "      <th></th>\n",
       "      <th>game_id</th>\n",
       "      <th>game_status</th>\n",
       "      <th>home_team</th>\n",
       "      <th>home_id</th>\n",
       "      <th>home_rank</th>\n",
       "      <th>home_record</th>\n",
       "      <th>home_score</th>\n",
       "      <th>away_team</th>\n",
       "      <th>away_id</th>\n",
       "      <th>away_rank</th>\n",
       "      <th>...</th>\n",
       "      <th>game_day</th>\n",
       "      <th>game_time</th>\n",
       "      <th>game_loc</th>\n",
       "      <th>arena</th>\n",
       "      <th>arena_capacity</th>\n",
       "      <th>attendance</th>\n",
       "      <th>tv_network</th>\n",
       "      <th>referee_1</th>\n",
       "      <th>referee_2</th>\n",
       "      <th>referee_3</th>\n",
       "    </tr>\n",
       "  </thead>\n",
       "  <tbody>\n",
       "    <tr>\n",
       "      <th>0</th>\n",
       "      <td>401727499</td>\n",
       "      <td>Final</td>\n",
       "      <td>IU Indianapolis Jaguars</td>\n",
       "      <td>85</td>\n",
       "      <td>NaN</td>\n",
       "      <td>1-0</td>\n",
       "      <td>100</td>\n",
       "      <td>IU Columbus Crimson Pride</td>\n",
       "      <td>nd-iu-columbus-crimson-pride</td>\n",
       "      <td>NaN</td>\n",
       "      <td>...</td>\n",
       "      <td>November 04, 2024</td>\n",
       "      <td>08:00 AM PST</td>\n",
       "      <td>Indianapolis, IN</td>\n",
       "      <td>Corteva Coliseum</td>\n",
       "      <td>NaN</td>\n",
       "      <td>3716.0</td>\n",
       "      <td>ESPN+</td>\n",
       "      <td>Rod Mrakovich</td>\n",
       "      <td>Martin Spencer</td>\n",
       "      <td>Adam Sensibaugh</td>\n",
       "    </tr>\n",
       "    <tr>\n",
       "      <th>1</th>\n",
       "      <td>401715872</td>\n",
       "      <td>Final</td>\n",
       "      <td>Southern Illinois Salukis</td>\n",
       "      <td>79</td>\n",
       "      <td>NaN</td>\n",
       "      <td>0-1</td>\n",
       "      <td>80</td>\n",
       "      <td>Charleston Cougars</td>\n",
       "      <td>232</td>\n",
       "      <td>NaN</td>\n",
       "      <td>...</td>\n",
       "      <td>November 04, 2024</td>\n",
       "      <td>09:00 AM PST</td>\n",
       "      <td>Sioux Falls, SD</td>\n",
       "      <td>Sanford Pentagon</td>\n",
       "      <td>NaN</td>\n",
       "      <td>0.0</td>\n",
       "      <td></td>\n",
       "      <td>Brad Ferrie</td>\n",
       "      <td>Antinio Petty</td>\n",
       "      <td>Ben Wolfe</td>\n",
       "    </tr>\n",
       "    <tr>\n",
       "      <th>2</th>\n",
       "      <td>401725796</td>\n",
       "      <td>Final</td>\n",
       "      <td>UT Arlington Mavericks</td>\n",
       "      <td>250</td>\n",
       "      <td>NaN</td>\n",
       "      <td>1-0</td>\n",
       "      <td>90</td>\n",
       "      <td>UNT Dallas Trailblazers</td>\n",
       "      <td>nd-unt-dallas-trailblazers</td>\n",
       "      <td>NaN</td>\n",
       "      <td>...</td>\n",
       "      <td>November 04, 2024</td>\n",
       "      <td>09:00 AM PST</td>\n",
       "      <td>Arlington, TX</td>\n",
       "      <td>College Park Center</td>\n",
       "      <td>NaN</td>\n",
       "      <td>1001.0</td>\n",
       "      <td>ESPN+</td>\n",
       "      <td>Doug George</td>\n",
       "      <td>Randal Anders</td>\n",
       "      <td>Trenton Chaney</td>\n",
       "    </tr>\n",
       "    <tr>\n",
       "      <th>3</th>\n",
       "      <td>401726400</td>\n",
       "      <td>Final</td>\n",
       "      <td>Middle Tennessee Blue Raiders</td>\n",
       "      <td>2393</td>\n",
       "      <td>NaN</td>\n",
       "      <td>1-0</td>\n",
       "      <td>97</td>\n",
       "      <td>Oglethorpe Stormy Petrels</td>\n",
       "      <td>nd-oglethorpe-stormy-petrels</td>\n",
       "      <td>NaN</td>\n",
       "      <td>...</td>\n",
       "      <td>November 04, 2024</td>\n",
       "      <td>09:00 AM PST</td>\n",
       "      <td>Murfreesboro, TN</td>\n",
       "      <td>Murphy Center</td>\n",
       "      <td>NaN</td>\n",
       "      <td>7501.0</td>\n",
       "      <td>ESPN+</td>\n",
       "      <td>Kevin Mathis</td>\n",
       "      <td>James Curran</td>\n",
       "      <td>Klajdi Mulla</td>\n",
       "    </tr>\n",
       "    <tr>\n",
       "      <th>4</th>\n",
       "      <td>401726395</td>\n",
       "      <td>Final</td>\n",
       "      <td>Jacksonville State Gamecocks</td>\n",
       "      <td>55</td>\n",
       "      <td>NaN</td>\n",
       "      <td>1-0</td>\n",
       "      <td>112</td>\n",
       "      <td>LaGrange Panthers</td>\n",
       "      <td>nd-lagrange-panthers</td>\n",
       "      <td>NaN</td>\n",
       "      <td>...</td>\n",
       "      <td>November 04, 2024</td>\n",
       "      <td>09:30 AM PST</td>\n",
       "      <td>Jacksonville, AL</td>\n",
       "      <td>Pete Mathews Coliseum</td>\n",
       "      <td>NaN</td>\n",
       "      <td>2055.0</td>\n",
       "      <td>ESPN+</td>\n",
       "      <td>Barry Mathis</td>\n",
       "      <td>Nick Meyer</td>\n",
       "      <td>Jeremy Trussell</td>\n",
       "    </tr>\n",
       "    <tr>\n",
       "      <th>...</th>\n",
       "      <td>...</td>\n",
       "      <td>...</td>\n",
       "      <td>...</td>\n",
       "      <td>...</td>\n",
       "      <td>...</td>\n",
       "      <td>...</td>\n",
       "      <td>...</td>\n",
       "      <td>...</td>\n",
       "      <td>...</td>\n",
       "      <td>...</td>\n",
       "      <td>...</td>\n",
       "      <td>...</td>\n",
       "      <td>...</td>\n",
       "      <td>...</td>\n",
       "      <td>...</td>\n",
       "      <td>...</td>\n",
       "      <td>...</td>\n",
       "      <td>...</td>\n",
       "      <td>...</td>\n",
       "      <td>...</td>\n",
       "      <td>...</td>\n",
       "    </tr>\n",
       "    <tr>\n",
       "      <th>6191</th>\n",
       "      <td>401751938</td>\n",
       "      <td>Scheduled</td>\n",
       "      <td>SMU Mustangs</td>\n",
       "      <td>2567</td>\n",
       "      <td>NaN</td>\n",
       "      <td>23-10</td>\n",
       "      <td>0</td>\n",
       "      <td>Northern Iowa Panthers</td>\n",
       "      <td>2460</td>\n",
       "      <td>NaN</td>\n",
       "      <td>...</td>\n",
       "      <td>March 19, 2025</td>\n",
       "      <td>06:00 PM PDT</td>\n",
       "      <td>Dallas, TX</td>\n",
       "      <td>Moody Coliseum</td>\n",
       "      <td>NaN</td>\n",
       "      <td>NaN</td>\n",
       "      <td>ESPN2/ESPN+</td>\n",
       "      <td></td>\n",
       "      <td></td>\n",
       "      <td></td>\n",
       "    </tr>\n",
       "    <tr>\n",
       "      <th>6192</th>\n",
       "      <td>401745909</td>\n",
       "      <td>Scheduled</td>\n",
       "      <td>Texas Longhorns</td>\n",
       "      <td>251</td>\n",
       "      <td>11.0</td>\n",
       "      <td>19-15</td>\n",
       "      <td>0</td>\n",
       "      <td>Xavier Musketeers</td>\n",
       "      <td>2752</td>\n",
       "      <td>11.0</td>\n",
       "      <td>...</td>\n",
       "      <td>March 19, 2025</td>\n",
       "      <td>06:10 PM PDT</td>\n",
       "      <td>Dayton, OH</td>\n",
       "      <td>UD Arena</td>\n",
       "      <td>NaN</td>\n",
       "      <td>NaN</td>\n",
       "      <td>truTV</td>\n",
       "      <td></td>\n",
       "      <td></td>\n",
       "      <td></td>\n",
       "    </tr>\n",
       "    <tr>\n",
       "      <th>6193</th>\n",
       "      <td>401751943</td>\n",
       "      <td>Scheduled</td>\n",
       "      <td>UC Irvine Anteaters</td>\n",
       "      <td>300</td>\n",
       "      <td>NaN</td>\n",
       "      <td>28-6</td>\n",
       "      <td>0</td>\n",
       "      <td>Northern Colorado Bears</td>\n",
       "      <td>2458</td>\n",
       "      <td>NaN</td>\n",
       "      <td>...</td>\n",
       "      <td>March 19, 2025</td>\n",
       "      <td>07:00 PM PDT</td>\n",
       "      <td>Irvine, CA</td>\n",
       "      <td>Bren Events Center</td>\n",
       "      <td>NaN</td>\n",
       "      <td>NaN</td>\n",
       "      <td>ESPN+</td>\n",
       "      <td></td>\n",
       "      <td></td>\n",
       "      <td></td>\n",
       "    </tr>\n",
       "    <tr>\n",
       "      <th>6194</th>\n",
       "      <td>401751937</td>\n",
       "      <td>Scheduled</td>\n",
       "      <td>San José State Spartans</td>\n",
       "      <td>23</td>\n",
       "      <td>NaN</td>\n",
       "      <td>15-19</td>\n",
       "      <td>0</td>\n",
       "      <td>Loyola Chicago Ramblers</td>\n",
       "      <td>2350</td>\n",
       "      <td>NaN</td>\n",
       "      <td>...</td>\n",
       "      <td>March 19, 2025</td>\n",
       "      <td>08:00 PM PDT</td>\n",
       "      <td>San Jose, CA</td>\n",
       "      <td>Provident Credit Union Event Center</td>\n",
       "      <td>NaN</td>\n",
       "      <td>NaN</td>\n",
       "      <td>ESPN2/ESPN+</td>\n",
       "      <td></td>\n",
       "      <td></td>\n",
       "      <td></td>\n",
       "    </tr>\n",
       "    <tr>\n",
       "      <th>6195</th>\n",
       "      <td>401751945</td>\n",
       "      <td>Scheduled</td>\n",
       "      <td>San Francisco Dons</td>\n",
       "      <td>2539</td>\n",
       "      <td>NaN</td>\n",
       "      <td>24-9</td>\n",
       "      <td>0</td>\n",
       "      <td>Utah Valley Wolverines</td>\n",
       "      <td>3084</td>\n",
       "      <td>NaN</td>\n",
       "      <td>...</td>\n",
       "      <td>March 19, 2025</td>\n",
       "      <td>08:00 PM PDT</td>\n",
       "      <td>San Francisco, CA</td>\n",
       "      <td>The Sobrato Center</td>\n",
       "      <td>NaN</td>\n",
       "      <td>NaN</td>\n",
       "      <td>ESPNU/ESPN+</td>\n",
       "      <td></td>\n",
       "      <td></td>\n",
       "      <td></td>\n",
       "    </tr>\n",
       "  </tbody>\n",
       "</table>\n",
       "<p>6196 rows × 29 columns</p>\n",
       "</div>"
      ],
      "text/plain": [
       "        game_id game_status                      home_team home_id  home_rank  \\\n",
       "0     401727499       Final        IU Indianapolis Jaguars      85        NaN   \n",
       "1     401715872       Final      Southern Illinois Salukis      79        NaN   \n",
       "2     401725796       Final         UT Arlington Mavericks     250        NaN   \n",
       "3     401726400       Final  Middle Tennessee Blue Raiders    2393        NaN   \n",
       "4     401726395       Final   Jacksonville State Gamecocks      55        NaN   \n",
       "...         ...         ...                            ...     ...        ...   \n",
       "6191  401751938   Scheduled                   SMU Mustangs    2567        NaN   \n",
       "6192  401745909   Scheduled                Texas Longhorns     251       11.0   \n",
       "6193  401751943   Scheduled            UC Irvine Anteaters     300        NaN   \n",
       "6194  401751937   Scheduled        San José State Spartans      23        NaN   \n",
       "6195  401751945   Scheduled             San Francisco Dons    2539        NaN   \n",
       "\n",
       "     home_record  home_score                  away_team  \\\n",
       "0            1-0         100  IU Columbus Crimson Pride   \n",
       "1            0-1          80         Charleston Cougars   \n",
       "2            1-0          90    UNT Dallas Trailblazers   \n",
       "3            1-0          97  Oglethorpe Stormy Petrels   \n",
       "4            1-0         112          LaGrange Panthers   \n",
       "...          ...         ...                        ...   \n",
       "6191       23-10           0     Northern Iowa Panthers   \n",
       "6192       19-15           0          Xavier Musketeers   \n",
       "6193        28-6           0    Northern Colorado Bears   \n",
       "6194       15-19           0    Loyola Chicago Ramblers   \n",
       "6195        24-9           0     Utah Valley Wolverines   \n",
       "\n",
       "                           away_id  away_rank  ...           game_day  \\\n",
       "0     nd-iu-columbus-crimson-pride        NaN  ...  November 04, 2024   \n",
       "1                              232        NaN  ...  November 04, 2024   \n",
       "2       nd-unt-dallas-trailblazers        NaN  ...  November 04, 2024   \n",
       "3     nd-oglethorpe-stormy-petrels        NaN  ...  November 04, 2024   \n",
       "4             nd-lagrange-panthers        NaN  ...  November 04, 2024   \n",
       "...                            ...        ...  ...                ...   \n",
       "6191                          2460        NaN  ...     March 19, 2025   \n",
       "6192                          2752       11.0  ...     March 19, 2025   \n",
       "6193                          2458        NaN  ...     March 19, 2025   \n",
       "6194                          2350        NaN  ...     March 19, 2025   \n",
       "6195                          3084        NaN  ...     March 19, 2025   \n",
       "\n",
       "         game_time           game_loc                                arena  \\\n",
       "0     08:00 AM PST   Indianapolis, IN                     Corteva Coliseum   \n",
       "1     09:00 AM PST    Sioux Falls, SD                     Sanford Pentagon   \n",
       "2     09:00 AM PST      Arlington, TX                  College Park Center   \n",
       "3     09:00 AM PST   Murfreesboro, TN                        Murphy Center   \n",
       "4     09:30 AM PST   Jacksonville, AL                Pete Mathews Coliseum   \n",
       "...            ...                ...                                  ...   \n",
       "6191  06:00 PM PDT         Dallas, TX                       Moody Coliseum   \n",
       "6192  06:10 PM PDT         Dayton, OH                             UD Arena   \n",
       "6193  07:00 PM PDT         Irvine, CA                   Bren Events Center   \n",
       "6194  08:00 PM PDT       San Jose, CA  Provident Credit Union Event Center   \n",
       "6195  08:00 PM PDT  San Francisco, CA                   The Sobrato Center   \n",
       "\n",
       "      arena_capacity  attendance   tv_network      referee_1       referee_2  \\\n",
       "0                NaN      3716.0        ESPN+  Rod Mrakovich  Martin Spencer   \n",
       "1                NaN         0.0                 Brad Ferrie   Antinio Petty   \n",
       "2                NaN      1001.0        ESPN+    Doug George   Randal Anders   \n",
       "3                NaN      7501.0        ESPN+   Kevin Mathis    James Curran   \n",
       "4                NaN      2055.0        ESPN+   Barry Mathis      Nick Meyer   \n",
       "...              ...         ...          ...            ...             ...   \n",
       "6191             NaN         NaN  ESPN2/ESPN+                                  \n",
       "6192             NaN         NaN        truTV                                  \n",
       "6193             NaN         NaN        ESPN+                                  \n",
       "6194             NaN         NaN  ESPN2/ESPN+                                  \n",
       "6195             NaN         NaN  ESPNU/ESPN+                                  \n",
       "\n",
       "            referee_3  \n",
       "0     Adam Sensibaugh  \n",
       "1           Ben Wolfe  \n",
       "2      Trenton Chaney  \n",
       "3        Klajdi Mulla  \n",
       "4     Jeremy Trussell  \n",
       "...               ...  \n",
       "6191                   \n",
       "6192                   \n",
       "6193                   \n",
       "6194                   \n",
       "6195                   \n",
       "\n",
       "[6196 rows x 29 columns]"
      ]
     },
     "execution_count": 2,
     "metadata": {},
     "output_type": "execute_result"
    }
   ],
   "source": [
    "df_2025_game_info = df_2025[0]\n",
    "df_2025_game_info"
   ]
  },
  {
   "cell_type": "code",
   "execution_count": 3,
   "metadata": {
    "execution": {
     "iopub.execute_input": "2025-03-19T12:15:04.086644Z",
     "iopub.status.busy": "2025-03-19T12:15:04.086433Z",
     "iopub.status.idle": "2025-03-19T12:15:04.154110Z",
     "shell.execute_reply": "2025-03-19T12:15:04.153609Z"
    }
   },
   "outputs": [
    {
     "name": "stdout",
     "output_type": "stream",
     "text": [
      "Exported 6178 completed games to Completed_Games.csv\n",
      "Exported 12 upcoming games to Upcoming_Games.csv\n"
     ]
    }
   ],
   "source": [
    "# Filter games by status and export to CSV files\n",
    "\n",
    "# Get completed games (status = 'Final')\n",
    "completed_games = df_2025_game_info[df_2025_game_info['game_status'] == 'Final']\n",
    "\n",
    "# Get upcoming games (status = 'Scheduled')\n",
    "upcoming_games = df_2025_game_info[df_2025_game_info['game_status'] == 'Scheduled']\n",
    "\n",
    "# Export to CSV files\n",
    "completed_games.to_csv('Completed_Games.csv', index=False)\n",
    "upcoming_games.to_csv('Upcoming_Games.csv', index=False)\n",
    "\n",
    "# Print summary\n",
    "print(f\"Exported {len(completed_games)} completed games to Completed_Games.csv\")\n",
    "print(f\"Exported {len(upcoming_games)} upcoming games to Upcoming_Games.csv\")"
   ]
  }
 ],
 "metadata": {
  "kernelspec": {
   "display_name": "Python 3",
   "language": "python",
   "name": "python3"
  },
  "language_info": {
   "codemirror_mode": {
    "name": "ipython",
    "version": 3
   },
   "file_extension": ".py",
   "mimetype": "text/x-python",
   "name": "python",
   "nbconvert_exporter": "python",
   "pygments_lexer": "ipython3",
   "version": "3.13.2"
  }
 },
 "nbformat": 4,
 "nbformat_minor": 2
}
