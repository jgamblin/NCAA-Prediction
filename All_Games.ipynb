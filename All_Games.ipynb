{
 "cells": [
  {
   "cell_type": "code",
   "execution_count": 1,
   "metadata": {
    "execution": {
     "iopub.execute_input": "2025-08-24T12:05:33.723096Z",
     "iopub.status.busy": "2025-08-24T12:05:33.722817Z",
     "iopub.status.idle": "2025-08-24T12:22:01.398623Z",
     "shell.execute_reply": "2025-08-24T12:22:01.398029Z"
    }
   },
   "outputs": [
    {
     "name": "stderr",
     "output_type": "stream",
     "text": [
      "\r",
      "  0%|          | 0 of 182 days scraped in 0.0 sec"
     ]
    },
    {
     "name": "stderr",
     "output_type": "stream",
     "text": [
      "\r",
      "Scraping 0 games on 11/01/24:   0%|          | 0 of 182 days scraped in 0.4 sec"
     ]
    },
    {
     "name": "stderr",
     "output_type": "stream",
     "text": [
      "\r",
      "No games on 11/01/24:   1%|          | 1 of 182 days scraped in 0.4 sec        "
     ]
    },
    {
     "name": "stderr",
     "output_type": "stream",
     "text": [
      "\r",
      "Scraping 0 games on 11/02/24:   1%|          | 1 of 182 days scraped in 0.7 sec"
     ]
    },
    {
     "name": "stderr",
     "output_type": "stream",
     "text": [
      "\r",
      "No games on 11/02/24:   1%|          | 2 of 182 days scraped in 0.7 sec        "
     ]
    },
    {
     "name": "stderr",
     "output_type": "stream",
     "text": [
      "\r",
      "Scraping 0 games on 11/03/24:   1%|          | 2 of 182 days scraped in 1.0 sec"
     ]
    },
    {
     "name": "stderr",
     "output_type": "stream",
     "text": [
      "\r",
      "No games on 11/03/24:   2%|▏         | 3 of 182 days scraped in 1.0 sec        "
     ]
    },
    {
     "name": "stderr",
     "output_type": "stream",
     "text": [
      "\r",
      "Scraping 199 games on 11/04/24:   2%|▏         | 3 of 182 days scraped in 2.7 sec"
     ]
    },
    {
     "name": "stderr",
     "output_type": "stream",
     "text": [
      "Traceback (most recent call last):\n",
      "  File \u001b[35m\"/opt/hostedtoolcache/Python/3.13.7/x64/lib/python3.13/multiprocessing/resource_tracker.py\"\u001b[0m, line \u001b[35m295\u001b[0m, in \u001b[35mmain\u001b[0m\n",
      "    raise ValueError(\n",
      "        f'Cannot register {name} for automatic cleanup: '\n",
      "        f'unknown resource type {rtype}')\n",
      "\u001b[1;35mValueError\u001b[0m: \u001b[35mCannot register /dev/shm/joblib_memmapping_folder_2222_1f2cbaaa9b794419acbc4e611470818f_25b7d00950b54e7bbd7516c6fc398096 for automatic cleanup: unknown resource type folder\u001b[0m\n",
      "Traceback (most recent call last):\n",
      "  File \u001b[35m\"/opt/hostedtoolcache/Python/3.13.7/x64/lib/python3.13/multiprocessing/resource_tracker.py\"\u001b[0m, line \u001b[35m295\u001b[0m, in \u001b[35mmain\u001b[0m\n",
      "    raise ValueError(\n",
      "        f'Cannot register {name} for automatic cleanup: '\n",
      "        f'unknown resource type {rtype}')\n",
      "\u001b[1;35mValueError\u001b[0m: \u001b[35mCannot register /loky-2222-w757t7ul for automatic cleanup: unknown resource type semlock\u001b[0m\n",
      "Traceback (most recent call last):\n",
      "  File \u001b[35m\"/opt/hostedtoolcache/Python/3.13.7/x64/lib/python3.13/multiprocessing/resource_tracker.py\"\u001b[0m, line \u001b[35m295\u001b[0m, in \u001b[35mmain\u001b[0m\n",
      "    raise ValueError(\n",
      "        f'Cannot register {name} for automatic cleanup: '\n",
      "        f'unknown resource type {rtype}')\n",
      "\u001b[1;35mValueError\u001b[0m: \u001b[35mCannot register /loky-2222-wo0szkdi for automatic cleanup: unknown resource type semlock\u001b[0m\n",
      "Traceback (most recent call last):\n",
      "  File \u001b[35m\"/opt/hostedtoolcache/Python/3.13.7/x64/lib/python3.13/multiprocessing/resource_tracker.py\"\u001b[0m, line \u001b[35m295\u001b[0m, in \u001b[35mmain\u001b[0m\n",
      "    raise ValueError(\n",
      "        f'Cannot register {name} for automatic cleanup: '\n",
      "        f'unknown resource type {rtype}')\n",
      "\u001b[1;35mValueError\u001b[0m: \u001b[35mCannot register /loky-2222-dqnq9api for automatic cleanup: unknown resource type semlock\u001b[0m\n",
      "Traceback (most recent call last):\n",
      "  File \u001b[35m\"/opt/hostedtoolcache/Python/3.13.7/x64/lib/python3.13/multiprocessing/resource_tracker.py\"\u001b[0m, line \u001b[35m295\u001b[0m, in \u001b[35mmain\u001b[0m\n",
      "    raise ValueError(\n",
      "        f'Cannot register {name} for automatic cleanup: '\n",
      "        f'unknown resource type {rtype}')\n",
      "\u001b[1;35mValueError\u001b[0m: \u001b[35mCannot register /loky-2222-bwm7sb5d for automatic cleanup: unknown resource type semlock\u001b[0m\n",
      "Traceback (most recent call last):\n",
      "  File \u001b[35m\"/opt/hostedtoolcache/Python/3.13.7/x64/lib/python3.13/multiprocessing/resource_tracker.py\"\u001b[0m, line \u001b[35m295\u001b[0m, in \u001b[35mmain\u001b[0m\n",
      "    raise ValueError(\n",
      "        f'Cannot register {name} for automatic cleanup: '\n",
      "        f'unknown resource type {rtype}')\n",
      "\u001b[1;35mValueError\u001b[0m: \u001b[35mCannot register /loky-2222-suwyr4uz for automatic cleanup: unknown resource type semlock\u001b[0m\n",
      "Traceback (most recent call last):\n",
      "  File \u001b[35m\"/opt/hostedtoolcache/Python/3.13.7/x64/lib/python3.13/multiprocessing/resource_tracker.py\"\u001b[0m, line \u001b[35m295\u001b[0m, in \u001b[35mmain\u001b[0m\n",
      "    raise ValueError(\n",
      "        f'Cannot register {name} for automatic cleanup: '\n",
      "        f'unknown resource type {rtype}')\n",
      "\u001b[1;35mValueError\u001b[0m: \u001b[35mCannot register /loky-2222-h8q2pqop for automatic cleanup: unknown resource type semlock\u001b[0m\n",
      "Traceback (most recent call last):\n",
      "  File \u001b[35m\"/opt/hostedtoolcache/Python/3.13.7/x64/lib/python3.13/multiprocessing/resource_tracker.py\"\u001b[0m, line \u001b[35m295\u001b[0m, in \u001b[35mmain\u001b[0m\n",
      "    raise ValueError(\n",
      "        f'Cannot register {name} for automatic cleanup: '\n",
      "        f'unknown resource type {rtype}')\n",
      "\u001b[1;35mValueError\u001b[0m: \u001b[35mCannot register /dev/shm/joblib_memmapping_folder_2222_1f2cbaaa9b794419acbc4e611470818f_47126876d39940f18ed48611574b2c98 for automatic cleanup: unknown resource type folder\u001b[0m\n",
      "Traceback (most recent call last):\n",
      "  File \u001b[35m\"/opt/hostedtoolcache/Python/3.13.7/x64/lib/python3.13/multiprocessing/resource_tracker.py\"\u001b[0m, line \u001b[35m295\u001b[0m, in \u001b[35mmain\u001b[0m\n",
      "    raise ValueError(\n",
      "        f'Cannot register {name} for automatic cleanup: '\n",
      "        f'unknown resource type {rtype}')\n",
      "\u001b[1;35mValueError\u001b[0m: \u001b[35mCannot register /loky-2222-8qs4uxqq for automatic cleanup: unknown resource type semlock\u001b[0m\n",
      "Traceback (most recent call last):\n",
      "  File \u001b[35m\"/opt/hostedtoolcache/Python/3.13.7/x64/lib/python3.13/multiprocessing/resource_tracker.py\"\u001b[0m, line \u001b[35m295\u001b[0m, in \u001b[35mmain\u001b[0m\n",
      "    raise ValueError(\n",
      "        f'Cannot register {name} for automatic cleanup: '\n",
      "        f'unknown resource type {rtype}')\n",
      "\u001b[1;35mValueError\u001b[0m: \u001b[35mCannot register /loky-2222-k3nhrf5y for automatic cleanup: unknown resource type semlock\u001b[0m\n",
      "Traceback (most recent call last):\n",
      "  File \u001b[35m\"/opt/hostedtoolcache/Python/3.13.7/x64/lib/python3.13/multiprocessing/resource_tracker.py\"\u001b[0m, line \u001b[35m295\u001b[0m, in \u001b[35mmain\u001b[0m\n",
      "    raise ValueError(\n",
      "        f'Cannot register {name} for automatic cleanup: '\n",
      "        f'unknown resource type {rtype}')\n",
      "\u001b[1;35mValueError\u001b[0m: \u001b[35mCannot register /loky-2222-s7xqzptu for automatic cleanup: unknown resource type semlock\u001b[0m\n"
     ]
    },
    {
     "name": "stderr",
     "output_type": "stream",
     "text": [
      "\r",
      "Scraping 199 games on 11/04/24:   2%|▏         | 4 of 182 days scraped in 29.6 sec"
     ]
    },
    {
     "name": "stderr",
     "output_type": "stream",
     "text": [
      "Traceback (most recent call last):\n",
      "  File \u001b[35m\"/opt/hostedtoolcache/Python/3.13.7/x64/lib/python3.13/multiprocessing/resource_tracker.py\"\u001b[0m, line \u001b[35m295\u001b[0m, in \u001b[35mmain\u001b[0m\n",
      "    raise ValueError(\n",
      "        f'Cannot register {name} for automatic cleanup: '\n",
      "        f'unknown resource type {rtype}')\n",
      "\u001b[1;35mValueError\u001b[0m: \u001b[35mCannot register /dev/shm/joblib_memmapping_folder_2222_1f2cbaaa9b794419acbc4e611470818f_47126876d39940f18ed48611574b2c98 for automatic cleanup: unknown resource type folder\u001b[0m\n"
     ]
    },
    {
     "name": "stderr",
     "output_type": "stream",
     "text": [
      "\r",
      "Scraping 11 games on 11/05/24:   2%|▏         | 4 of 182 days scraped in 29.9 sec "
     ]
    },
    {
     "name": "stderr",
     "output_type": "stream",
     "text": [
      "Traceback (most recent call last):\n",
      "  File \u001b[35m\"/opt/hostedtoolcache/Python/3.13.7/x64/lib/python3.13/multiprocessing/resource_tracker.py\"\u001b[0m, line \u001b[35m295\u001b[0m, in \u001b[35mmain\u001b[0m\n",
      "    raise ValueError(\n",
      "        f'Cannot register {name} for automatic cleanup: '\n",
      "        f'unknown resource type {rtype}')\n",
      "\u001b[1;35mValueError\u001b[0m: \u001b[35mCannot register /dev/shm/joblib_memmapping_folder_2222_7b286ea9376a4042b6ecca8db4398137_97c45a6422954d7389d9a2895491e31e for automatic cleanup: unknown resource type folder\u001b[0m\n",
      "Traceback (most recent call last):\n",
      "  File \u001b[35m\"/opt/hostedtoolcache/Python/3.13.7/x64/lib/python3.13/multiprocessing/resource_tracker.py\"\u001b[0m, line \u001b[35m295\u001b[0m, in \u001b[35mmain\u001b[0m\n",
      "    raise ValueError(\n",
      "        f'Cannot register {name} for automatic cleanup: '\n",
      "        f'unknown resource type {rtype}')\n",
      "\u001b[1;35mValueError\u001b[0m: \u001b[35mCannot register /dev/shm/joblib_memmapping_folder_2222_1f2cbaaa9b794419acbc4e611470818f_867b8bbd2e6e48629c6d66389ecc1989 for automatic cleanup: unknown resource type folder\u001b[0m\n"
     ]
    },
    {
     "name": "stderr",
     "output_type": "stream",
     "text": [
      "\r",
      "Scraping 11 games on 11/05/24:   3%|▎         | 5 of 182 days scraped in 31.4 secTraceback (most recent call last):\n"
     ]
    },
    {
     "name": "stderr",
     "output_type": "stream",
     "text": [
      "  File \u001b[35m\"/opt/hostedtoolcache/Python/3.13.7/x64/lib/python3.13/multiprocessing/resource_tracker.py\"\u001b[0m, line \u001b[35m295\u001b[0m, in \u001b[35mmain\u001b[0m\n",
      "    raise ValueError(\n",
      "        f'Cannot register {name} for automatic cleanup: '\n",
      "        f'unknown resource type {rtype}')\n",
      "\u001b[1;35mValueError\u001b[0m: \u001b[35mCannot register /dev/shm/joblib_memmapping_folder_2222_1f2cbaaa9b794419acbc4e611470818f_867b8bbd2e6e48629c6d66389ecc1989 for automatic cleanup: unknown resource type folder\u001b[0m\n"
     ]
    },
    {
     "name": "stderr",
     "output_type": "stream",
     "text": [
      "\r",
      "Scraping 37 games on 11/06/24:   3%|▎         | 5 of 182 days scraped in 32.3 sec"
     ]
    },
    {
     "name": "stderr",
     "output_type": "stream",
     "text": [
      "Traceback (most recent call last):\n",
      "  File \u001b[35m\"/opt/hostedtoolcache/Python/3.13.7/x64/lib/python3.13/multiprocessing/resource_tracker.py\"\u001b[0m, line \u001b[35m295\u001b[0m, in \u001b[35mmain\u001b[0m\n",
      "    raise ValueError(\n",
      "        f'Cannot register {name} for automatic cleanup: '\n",
      "        f'unknown resource type {rtype}')\n",
      "\u001b[1;35mValueError\u001b[0m: \u001b[35mCannot register /dev/shm/joblib_memmapping_folder_2222_9e736ccfe6ac4d448b0f97a400540c70_0655dbf3d61341ed915de1283dc6526e for automatic cleanup: unknown resource type folder\u001b[0m\n",
      "Traceback (most recent call last):\n",
      "  File \u001b[35m\"/opt/hostedtoolcache/Python/3.13.7/x64/lib/python3.13/multiprocessing/resource_tracker.py\"\u001b[0m, line \u001b[35m295\u001b[0m, in \u001b[35mmain\u001b[0m\n",
      "    raise ValueError(\n",
      "        f'Cannot register {name} for automatic cleanup: '\n",
      "        f'unknown resource type {rtype}')\n",
      "\u001b[1;35mValueError\u001b[0m: \u001b[35mCannot register /dev/shm/joblib_memmapping_folder_2222_1f2cbaaa9b794419acbc4e611470818f_7493c946eb584a3da7fc8fe1f3177b1f for automatic cleanup: unknown resource type folder\u001b[0m\n"
     ]
    },
    {
     "name": "stderr",
     "output_type": "stream",
     "text": [
      "\r",
      "Scraping 37 games on 11/06/24:   3%|▎         | 6 of 182 days scraped in 37.5 secTraceback (most recent call last):\n"
     ]
    },
    {
     "name": "stderr",
     "output_type": "stream",
     "text": [
      "  File \u001b[35m\"/opt/hostedtoolcache/Python/3.13.7/x64/lib/python3.13/multiprocessing/resource_tracker.py\"\u001b[0m, line \u001b[35m295\u001b[0m, in \u001b[35mmain\u001b[0m\n",
      "    raise ValueError(\n",
      "        f'Cannot register {name} for automatic cleanup: '\n",
      "        f'unknown resource type {rtype}')\n",
      "\u001b[1;35mValueError\u001b[0m: \u001b[35mCannot register /dev/shm/joblib_memmapping_folder_2222_1f2cbaaa9b794419acbc4e611470818f_7493c946eb584a3da7fc8fe1f3177b1f for automatic cleanup: unknown resource type folder\u001b[0m\n"
     ]
    },
    {
     "name": "stderr",
     "output_type": "stream",
     "text": [
      "\r",
      "Scraping 42 games on 11/07/24:   3%|▎         | 6 of 182 days scraped in 38.0 sec"
     ]
    },
    {
     "name": "stderr",
     "output_type": "stream",
     "text": [
      "Traceback (most recent call last):\n",
      "  File \u001b[35m\"/opt/hostedtoolcache/Python/3.13.7/x64/lib/python3.13/multiprocessing/resource_tracker.py\"\u001b[0m, line \u001b[35m295\u001b[0m, in \u001b[35mmain\u001b[0m\n",
      "    raise ValueError(\n",
      "        f'Cannot register {name} for automatic cleanup: '\n",
      "        f'unknown resource type {rtype}')\n",
      "\u001b[1;35mValueError\u001b[0m: \u001b[35mCannot register /dev/shm/joblib_memmapping_folder_2222_8d2e39beff3d435eb5035ae779bebb1c_37cdddb8584b4e5292d4dcbf89922518 for automatic cleanup: unknown resource type folder\u001b[0m\n",
      "Traceback (most recent call last):\n",
      "  File \u001b[35m\"/opt/hostedtoolcache/Python/3.13.7/x64/lib/python3.13/multiprocessing/resource_tracker.py\"\u001b[0m, line \u001b[35m295\u001b[0m, in \u001b[35mmain\u001b[0m\n",
      "    raise ValueError(\n",
      "        f'Cannot register {name} for automatic cleanup: '\n",
      "        f'unknown resource type {rtype}')\n",
      "\u001b[1;35mValueError\u001b[0m: \u001b[35mCannot register /dev/shm/joblib_memmapping_folder_2222_1f2cbaaa9b794419acbc4e611470818f_b590cd6c4fa44ba0b1eae7e4269d6bdc for automatic cleanup: unknown resource type folder\u001b[0m\n"
     ]
    },
    {
     "name": "stderr",
     "output_type": "stream",
     "text": [
      "\r",
      "Scraping 42 games on 11/07/24:   4%|▍         | 7 of 182 days scraped in 43.3 secTraceback (most recent call last):\n"
     ]
    },
    {
     "name": "stderr",
     "output_type": "stream",
     "text": [
      "  File \u001b[35m\"/opt/hostedtoolcache/Python/3.13.7/x64/lib/python3.13/multiprocessing/resource_tracker.py\"\u001b[0m, line \u001b[35m295\u001b[0m, in \u001b[35mmain\u001b[0m\n",
      "    raise ValueError(\n",
      "        f'Cannot register {name} for automatic cleanup: '\n",
      "        f'unknown resource type {rtype}')\n",
      "\u001b[1;35mValueError\u001b[0m: \u001b[35mCannot register /dev/shm/joblib_memmapping_folder_2222_1f2cbaaa9b794419acbc4e611470818f_b590cd6c4fa44ba0b1eae7e4269d6bdc for automatic cleanup: unknown resource type folder\u001b[0m\n"
     ]
    },
    {
     "name": "stderr",
     "output_type": "stream",
     "text": [
      "\r",
      "Scraping 80 games on 11/08/24:   4%|▍         | 7 of 182 days scraped in 44.1 sec"
     ]
    },
    {
     "name": "stderr",
     "output_type": "stream",
     "text": [
      "Traceback (most recent call last):\n",
      "  File \u001b[35m\"/opt/hostedtoolcache/Python/3.13.7/x64/lib/python3.13/multiprocessing/resource_tracker.py\"\u001b[0m, line \u001b[35m295\u001b[0m, in \u001b[35mmain\u001b[0m\n",
      "    raise ValueError(\n",
      "        f'Cannot register {name} for automatic cleanup: '\n",
      "        f'unknown resource type {rtype}')\n",
      "\u001b[1;35mValueError\u001b[0m: \u001b[35mCannot register /dev/shm/joblib_memmapping_folder_2222_8d083b4bd9aa40a9abf745191aa97544_42ef711178bd46f69d25eb73d560cc33 for automatic cleanup: unknown resource type folder\u001b[0m\n",
      "Traceback (most recent call last):\n",
      "  File \u001b[35m\"/opt/hostedtoolcache/Python/3.13.7/x64/lib/python3.13/multiprocessing/resource_tracker.py\"\u001b[0m, line \u001b[35m295\u001b[0m, in \u001b[35mmain\u001b[0m\n",
      "    raise ValueError(\n",
      "        f'Cannot register {name} for automatic cleanup: '\n",
      "        f'unknown resource type {rtype}')\n",
      "\u001b[1;35mValueError\u001b[0m: \u001b[35mCannot register /dev/shm/joblib_memmapping_folder_2222_1f2cbaaa9b794419acbc4e611470818f_71ccab91210c406891210a7e7a86d8c8 for automatic cleanup: unknown resource type folder\u001b[0m\n"
     ]
    },
    {
     "name": "stderr",
     "output_type": "stream",
     "text": [
      "\r",
      "Scraping 80 games on 11/08/24:   4%|▍         | 8 of 182 days scraped in 53.9 secTraceback (most recent call last):\n"
     ]
    },
    {
     "name": "stderr",
     "output_type": "stream",
     "text": [
      "  File \u001b[35m\"/opt/hostedtoolcache/Python/3.13.7/x64/lib/python3.13/multiprocessing/resource_tracker.py\"\u001b[0m, line \u001b[35m295\u001b[0m, in \u001b[35mmain\u001b[0m\n",
      "    raise ValueError(\n",
      "        f'Cannot register {name} for automatic cleanup: '\n",
      "        f'unknown resource type {rtype}')\n",
      "\u001b[1;35mValueError\u001b[0m: \u001b[35mCannot register /dev/shm/joblib_memmapping_folder_2222_1f2cbaaa9b794419acbc4e611470818f_71ccab91210c406891210a7e7a86d8c8 for automatic cleanup: unknown resource type folder\u001b[0m\n"
     ]
    },
    {
     "name": "stderr",
     "output_type": "stream",
     "text": [
      "\r",
      "Scraping 64 games on 11/09/24:   4%|▍         | 8 of 182 days scraped in 55.0 sec"
     ]
    },
    {
     "name": "stderr",
     "output_type": "stream",
     "text": [
      "Traceback (most recent call last):\n",
      "  File \u001b[35m\"/opt/hostedtoolcache/Python/3.13.7/x64/lib/python3.13/multiprocessing/resource_tracker.py\"\u001b[0m, line \u001b[35m295\u001b[0m, in \u001b[35mmain\u001b[0m\n",
      "    raise ValueError(\n",
      "        f'Cannot register {name} for automatic cleanup: '\n",
      "        f'unknown resource type {rtype}')\n",
      "\u001b[1;35mValueError\u001b[0m: \u001b[35mCannot register /dev/shm/joblib_memmapping_folder_2222_112a6fed1b82416eaca6c5645b37c72f_f2c8f3ce3f4f4a93841c529024b79b71 for automatic cleanup: unknown resource type folder\u001b[0m\n",
      "Traceback (most recent call last):\n",
      "  File \u001b[35m\"/opt/hostedtoolcache/Python/3.13.7/x64/lib/python3.13/multiprocessing/resource_tracker.py\"\u001b[0m, line \u001b[35m295\u001b[0m, in \u001b[35mmain\u001b[0m\n",
      "    raise ValueError(\n",
      "        f'Cannot register {name} for automatic cleanup: '\n",
      "        f'unknown resource type {rtype}')\n",
      "\u001b[1;35mValueError\u001b[0m: \u001b[35mCannot register /dev/shm/joblib_memmapping_folder_2222_1f2cbaaa9b794419acbc4e611470818f_dd1787e1c37f4b6898503698e248a3b1 for automatic cleanup: unknown resource type folder\u001b[0m\n"
     ]
    },
    {
     "name": "stderr",
     "output_type": "stream",
     "text": [
      "\r",
      "Scraping 64 games on 11/09/24:   5%|▍         | 9 of 182 days scraped in 64.0 sec"
     ]
    },
    {
     "name": "stderr",
     "output_type": "stream",
     "text": [
      "Traceback (most recent call last):\n",
      "  File \u001b[35m\"/opt/hostedtoolcache/Python/3.13.7/x64/lib/python3.13/multiprocessing/resource_tracker.py\"\u001b[0m, line \u001b[35m295\u001b[0m, in \u001b[35mmain\u001b[0m\n",
      "    raise ValueError(\n",
      "        f'Cannot register {name} for automatic cleanup: '\n",
      "        f'unknown resource type {rtype}')\n",
      "\u001b[1;35mValueError\u001b[0m: \u001b[35mCannot register /dev/shm/joblib_memmapping_folder_2222_1f2cbaaa9b794419acbc4e611470818f_dd1787e1c37f4b6898503698e248a3b1 for automatic cleanup: unknown resource type folder\u001b[0m\n"
     ]
    },
    {
     "name": "stderr",
     "output_type": "stream",
     "text": [
      "\r",
      "Scraping 29 games on 11/10/24:   5%|▍         | 9 of 182 days scraped in 64.4 sec"
     ]
    },
    {
     "name": "stderr",
     "output_type": "stream",
     "text": [
      "Traceback (most recent call last):\n",
      "  File \u001b[35m\"/opt/hostedtoolcache/Python/3.13.7/x64/lib/python3.13/multiprocessing/resource_tracker.py\"\u001b[0m, line \u001b[35m295\u001b[0m, in \u001b[35mmain\u001b[0m\n",
      "    raise ValueError(\n",
      "        f'Cannot register {name} for automatic cleanup: '\n",
      "        f'unknown resource type {rtype}')\n",
      "\u001b[1;35mValueError\u001b[0m: \u001b[35mCannot register /dev/shm/joblib_memmapping_folder_2222_493f2ce88fb549148087ad8e4d585e1b_70bb63aa10d84358bc82a8c7793f4808 for automatic cleanup: unknown resource type folder\u001b[0m\n",
      "Traceback (most recent call last):\n",
      "  File \u001b[35m\"/opt/hostedtoolcache/Python/3.13.7/x64/lib/python3.13/multiprocessing/resource_tracker.py\"\u001b[0m, line \u001b[35m295\u001b[0m, in \u001b[35mmain\u001b[0m\n",
      "    raise ValueError(\n",
      "        f'Cannot register {name} for automatic cleanup: '\n",
      "        f'unknown resource type {rtype}')\n",
      "\u001b[1;35mValueError\u001b[0m: \u001b[35mCannot register /dev/shm/joblib_memmapping_folder_2222_1f2cbaaa9b794419acbc4e611470818f_6fc73db2f851456683651225ccc68493 for automatic cleanup: unknown resource type folder\u001b[0m\n"
     ]
    },
    {
     "name": "stderr",
     "output_type": "stream",
     "text": [
      "\r",
      "Scraping 29 games on 11/10/24:   5%|▌         | 10 of 182 days scraped in 68.5 sec"
     ]
    },
    {
     "name": "stderr",
     "output_type": "stream",
     "text": [
      "Traceback (most recent call last):\n",
      "  File \u001b[35m\"/opt/hostedtoolcache/Python/3.13.7/x64/lib/python3.13/multiprocessing/resource_tracker.py\"\u001b[0m, line \u001b[35m295\u001b[0m, in \u001b[35mmain\u001b[0m\n",
      "    raise ValueError(\n",
      "        f'Cannot register {name} for automatic cleanup: '\n",
      "        f'unknown resource type {rtype}')\n",
      "\u001b[1;35mValueError\u001b[0m: \u001b[35mCannot register /dev/shm/joblib_memmapping_folder_2222_1f2cbaaa9b794419acbc4e611470818f_6fc73db2f851456683651225ccc68493 for automatic cleanup: unknown resource type folder\u001b[0m\n"
     ]
    },
    {
     "name": "stderr",
     "output_type": "stream",
     "text": [
      "\r",
      "Scraping 42 games on 11/11/24:   5%|▌         | 10 of 182 days scraped in 69.4 sec"
     ]
    },
    {
     "name": "stderr",
     "output_type": "stream",
     "text": [
      "Traceback (most recent call last):\n",
      "  File \u001b[35m\"/opt/hostedtoolcache/Python/3.13.7/x64/lib/python3.13/multiprocessing/resource_tracker.py\"\u001b[0m, line \u001b[35m295\u001b[0m, in \u001b[35mmain\u001b[0m\n",
      "    raise ValueError(\n",
      "        f'Cannot register {name} for automatic cleanup: '\n",
      "        f'unknown resource type {rtype}')\n",
      "\u001b[1;35mValueError\u001b[0m: \u001b[35mCannot register /dev/shm/joblib_memmapping_folder_2222_9c406c2bac1548debd8f5ee258551948_6406abffdcb346e78129e0edaa6b16f5 for automatic cleanup: unknown resource type folder\u001b[0m\n",
      "Traceback (most recent call last):\n",
      "  File \u001b[35m\"/opt/hostedtoolcache/Python/3.13.7/x64/lib/python3.13/multiprocessing/resource_tracker.py\"\u001b[0m, line \u001b[35m295\u001b[0m, in \u001b[35mmain\u001b[0m\n",
      "    raise ValueError(\n",
      "        f'Cannot register {name} for automatic cleanup: '\n",
      "        f'unknown resource type {rtype}')\n",
      "\u001b[1;35mValueError\u001b[0m: \u001b[35mCannot register /dev/shm/joblib_memmapping_folder_2222_1f2cbaaa9b794419acbc4e611470818f_13242b39e575485d92e3b24d2712aacc for automatic cleanup: unknown resource type folder\u001b[0m\n"
     ]
    },
    {
     "name": "stderr",
     "output_type": "stream",
     "text": [
      "\r",
      "Scraping 42 games on 11/11/24:   6%|▌         | 11 of 182 days scraped in 74.8 sec"
     ]
    },
    {
     "name": "stderr",
     "output_type": "stream",
     "text": [
      "Traceback (most recent call last):\n",
      "  File \u001b[35m\"/opt/hostedtoolcache/Python/3.13.7/x64/lib/python3.13/multiprocessing/resource_tracker.py\"\u001b[0m, line \u001b[35m295\u001b[0m, in \u001b[35mmain\u001b[0m\n",
      "    raise ValueError(\n",
      "        f'Cannot register {name} for automatic cleanup: '\n",
      "        f'unknown resource type {rtype}')\n",
      "\u001b[1;35mValueError\u001b[0m: \u001b[35mCannot register /dev/shm/joblib_memmapping_folder_2222_1f2cbaaa9b794419acbc4e611470818f_13242b39e575485d92e3b24d2712aacc for automatic cleanup: unknown resource type folder\u001b[0m\n"
     ]
    },
    {
     "name": "stderr",
     "output_type": "stream",
     "text": [
      "\r",
      "Scraping 79 games on 11/12/24:   6%|▌         | 11 of 182 days scraped in 75.5 sec"
     ]
    },
    {
     "name": "stderr",
     "output_type": "stream",
     "text": [
      "Traceback (most recent call last):\n",
      "  File \u001b[35m\"/opt/hostedtoolcache/Python/3.13.7/x64/lib/python3.13/multiprocessing/resource_tracker.py\"\u001b[0m, line \u001b[35m295\u001b[0m, in \u001b[35mmain\u001b[0m\n",
      "    raise ValueError(\n",
      "        f'Cannot register {name} for automatic cleanup: '\n",
      "        f'unknown resource type {rtype}')\n",
      "\u001b[1;35mValueError\u001b[0m: \u001b[35mCannot register /dev/shm/joblib_memmapping_folder_2222_8c55990f262a47b4b9c3c622d7d9fd6e_4efaa3e0667e452eab482fdcb1dbecf6 for automatic cleanup: unknown resource type folder\u001b[0m\n",
      "Traceback (most recent call last):\n",
      "  File \u001b[35m\"/opt/hostedtoolcache/Python/3.13.7/x64/lib/python3.13/multiprocessing/resource_tracker.py\"\u001b[0m, line \u001b[35m295\u001b[0m, in \u001b[35mmain\u001b[0m\n",
      "    raise ValueError(\n",
      "        f'Cannot register {name} for automatic cleanup: '\n",
      "        f'unknown resource type {rtype}')\n",
      "\u001b[1;35mValueError\u001b[0m: \u001b[35mCannot register /dev/shm/joblib_memmapping_folder_2222_1f2cbaaa9b794419acbc4e611470818f_22809fbb6ec9401294b17d4814e902a4 for automatic cleanup: unknown resource type folder\u001b[0m\n"
     ]
    },
    {
     "name": "stderr",
     "output_type": "stream",
     "text": [
      "\r",
      "Scraping 79 games on 11/12/24:   7%|▋         | 12 of 182 days scraped in 86.0 secTraceback (most recent call last):\n"
     ]
    },
    {
     "name": "stderr",
     "output_type": "stream",
     "text": [
      "  File \u001b[35m\"/opt/hostedtoolcache/Python/3.13.7/x64/lib/python3.13/multiprocessing/resource_tracker.py\"\u001b[0m, line \u001b[35m295\u001b[0m, in \u001b[35mmain\u001b[0m\n",
      "    raise ValueError(\n",
      "        f'Cannot register {name} for automatic cleanup: '\n",
      "        f'unknown resource type {rtype}')\n",
      "\u001b[1;35mValueError\u001b[0m: \u001b[35mCannot register /dev/shm/joblib_memmapping_folder_2222_1f2cbaaa9b794419acbc4e611470818f_22809fbb6ec9401294b17d4814e902a4 for automatic cleanup: unknown resource type folder\u001b[0m\n"
     ]
    },
    {
     "name": "stderr",
     "output_type": "stream",
     "text": [
      "\r",
      "Scraping 55 games on 11/13/24:   7%|▋         | 12 of 182 days scraped in 86.8 sec"
     ]
    },
    {
     "name": "stderr",
     "output_type": "stream",
     "text": [
      "Traceback (most recent call last):\n",
      "  File \u001b[35m\"/opt/hostedtoolcache/Python/3.13.7/x64/lib/python3.13/multiprocessing/resource_tracker.py\"\u001b[0m, line \u001b[35m295\u001b[0m, in \u001b[35mmain\u001b[0m\n",
      "    raise ValueError(\n",
      "        f'Cannot register {name} for automatic cleanup: '\n",
      "        f'unknown resource type {rtype}')\n",
      "\u001b[1;35mValueError\u001b[0m: \u001b[35mCannot register /dev/shm/joblib_memmapping_folder_2222_15b43f90a9ac495e94eadd48b2d1feab_a2eaf70f081243a2b94f8daa2a35973b for automatic cleanup: unknown resource type folder\u001b[0m\n",
      "Traceback (most recent call last):\n",
      "  File \u001b[35m\"/opt/hostedtoolcache/Python/3.13.7/x64/lib/python3.13/multiprocessing/resource_tracker.py\"\u001b[0m, line \u001b[35m295\u001b[0m, in \u001b[35mmain\u001b[0m\n",
      "    raise ValueError(\n",
      "        f'Cannot register {name} for automatic cleanup: '\n",
      "        f'unknown resource type {rtype}')\n",
      "\u001b[1;35mValueError\u001b[0m: \u001b[35mCannot register /dev/shm/joblib_memmapping_folder_2222_1f2cbaaa9b794419acbc4e611470818f_608bde5024cc4f169732ba4cd63fbc23 for automatic cleanup: unknown resource type folder\u001b[0m\n"
     ]
    },
    {
     "name": "stderr",
     "output_type": "stream",
     "text": [
      "\r",
      "Scraping 55 games on 11/13/24:   7%|▋         | 13 of 182 days scraped in 94.4 sec"
     ]
    },
    {
     "name": "stderr",
     "output_type": "stream",
     "text": [
      "Traceback (most recent call last):\n",
      "  File \u001b[35m\"/opt/hostedtoolcache/Python/3.13.7/x64/lib/python3.13/multiprocessing/resource_tracker.py\"\u001b[0m, line \u001b[35m295\u001b[0m, in \u001b[35mmain\u001b[0m\n",
      "    raise ValueError(\n",
      "        f'Cannot register {name} for automatic cleanup: '\n",
      "        f'unknown resource type {rtype}')\n",
      "\u001b[1;35mValueError\u001b[0m: \u001b[35mCannot register /dev/shm/joblib_memmapping_folder_2222_1f2cbaaa9b794419acbc4e611470818f_608bde5024cc4f169732ba4cd63fbc23 for automatic cleanup: unknown resource type folder\u001b[0m\n"
     ]
    },
    {
     "name": "stderr",
     "output_type": "stream",
     "text": [
      "\r",
      "Scraping 26 games on 11/14/24:   7%|▋         | 13 of 182 days scraped in 95.0 sec"
     ]
    },
    {
     "name": "stderr",
     "output_type": "stream",
     "text": [
      "Traceback (most recent call last):\n",
      "  File \u001b[35m\"/opt/hostedtoolcache/Python/3.13.7/x64/lib/python3.13/multiprocessing/resource_tracker.py\"\u001b[0m, line \u001b[35m295\u001b[0m, in \u001b[35mmain\u001b[0m\n",
      "    raise ValueError(\n",
      "        f'Cannot register {name} for automatic cleanup: '\n",
      "        f'unknown resource type {rtype}')\n",
      "\u001b[1;35mValueError\u001b[0m: \u001b[35mCannot register /dev/shm/joblib_memmapping_folder_2222_6554447dcec34335aead13b1b744cbd6_2d69bea887e141a0b057e3dc9b9bedef for automatic cleanup: unknown resource type folder\u001b[0m\n",
      "Traceback (most recent call last):\n",
      "  File \u001b[35m\"/opt/hostedtoolcache/Python/3.13.7/x64/lib/python3.13/multiprocessing/resource_tracker.py\"\u001b[0m, line \u001b[35m295\u001b[0m, in \u001b[35mmain\u001b[0m\n",
      "    raise ValueError(\n",
      "        f'Cannot register {name} for automatic cleanup: '\n",
      "        f'unknown resource type {rtype}')\n",
      "\u001b[1;35mValueError\u001b[0m: \u001b[35mCannot register /dev/shm/joblib_memmapping_folder_2222_1f2cbaaa9b794419acbc4e611470818f_65ade9fd38db4729806f7d965ce57c0c for automatic cleanup: unknown resource type folder\u001b[0m\n"
     ]
    },
    {
     "name": "stderr",
     "output_type": "stream",
     "text": [
      "\r",
      "Scraping 26 games on 11/14/24:   8%|▊         | 14 of 182 days scraped in 98.4 sec"
     ]
    },
    {
     "name": "stderr",
     "output_type": "stream",
     "text": [
      "Traceback (most recent call last):\n",
      "  File \u001b[35m\"/opt/hostedtoolcache/Python/3.13.7/x64/lib/python3.13/multiprocessing/resource_tracker.py\"\u001b[0m, line \u001b[35m295\u001b[0m, in \u001b[35mmain\u001b[0m\n",
      "    raise ValueError(\n",
      "        f'Cannot register {name} for automatic cleanup: '\n",
      "        f'unknown resource type {rtype}')\n",
      "\u001b[1;35mValueError\u001b[0m: \u001b[35mCannot register /dev/shm/joblib_memmapping_folder_2222_1f2cbaaa9b794419acbc4e611470818f_65ade9fd38db4729806f7d965ce57c0c for automatic cleanup: unknown resource type folder\u001b[0m\n"
     ]
    },
    {
     "name": "stderr",
     "output_type": "stream",
     "text": [
      "\r",
      "Scraping 50 games on 11/15/24:   8%|▊         | 14 of 182 days scraped in 99.3 sec"
     ]
    },
    {
     "name": "stderr",
     "output_type": "stream",
     "text": [
      "Traceback (most recent call last):\n",
      "  File \u001b[35m\"/opt/hostedtoolcache/Python/3.13.7/x64/lib/python3.13/multiprocessing/resource_tracker.py\"\u001b[0m, line \u001b[35m295\u001b[0m, in \u001b[35mmain\u001b[0m\n",
      "    raise ValueError(\n",
      "        f'Cannot register {name} for automatic cleanup: '\n",
      "        f'unknown resource type {rtype}')\n",
      "\u001b[1;35mValueError\u001b[0m: \u001b[35mCannot register /dev/shm/joblib_memmapping_folder_2222_b122fce1f33140d488664a0c7205559d_b2988ae0513c46c2930f49825a6f5c77 for automatic cleanup: unknown resource type folder\u001b[0m\n",
      "Traceback (most recent call last):\n",
      "  File \u001b[35m\"/opt/hostedtoolcache/Python/3.13.7/x64/lib/python3.13/multiprocessing/resource_tracker.py\"\u001b[0m, line \u001b[35m295\u001b[0m, in \u001b[35mmain\u001b[0m\n",
      "    raise ValueError(\n",
      "        f'Cannot register {name} for automatic cleanup: '\n",
      "        f'unknown resource type {rtype}')\n",
      "\u001b[1;35mValueError\u001b[0m: \u001b[35mCannot register /dev/shm/joblib_memmapping_folder_2222_1f2cbaaa9b794419acbc4e611470818f_82166493ca3a4809917303ce61f946b7 for automatic cleanup: unknown resource type folder\u001b[0m\n"
     ]
    },
    {
     "name": "stderr",
     "output_type": "stream",
     "text": [
      "\r",
      "Scraping 50 games on 11/15/24:   8%|▊         | 15 of 182 days scraped in 106.5 sec"
     ]
    },
    {
     "name": "stderr",
     "output_type": "stream",
     "text": [
      "Traceback (most recent call last):\n",
      "  File \u001b[35m\"/opt/hostedtoolcache/Python/3.13.7/x64/lib/python3.13/multiprocessing/resource_tracker.py\"\u001b[0m, line \u001b[35m295\u001b[0m, in \u001b[35mmain\u001b[0m\n",
      "    raise ValueError(\n",
      "        f'Cannot register {name} for automatic cleanup: '\n",
      "        f'unknown resource type {rtype}')\n",
      "\u001b[1;35mValueError\u001b[0m: \u001b[35mCannot register /dev/shm/joblib_memmapping_folder_2222_1f2cbaaa9b794419acbc4e611470818f_82166493ca3a4809917303ce61f946b7 for automatic cleanup: unknown resource type folder\u001b[0m\n"
     ]
    },
    {
     "name": "stderr",
     "output_type": "stream",
     "text": [
      "\r",
      "Scraping 82 games on 11/16/24:   8%|▊         | 15 of 182 days scraped in 107.3 sec"
     ]
    },
    {
     "name": "stderr",
     "output_type": "stream",
     "text": [
      "Traceback (most recent call last):\n",
      "  File \u001b[35m\"/opt/hostedtoolcache/Python/3.13.7/x64/lib/python3.13/multiprocessing/resource_tracker.py\"\u001b[0m, line \u001b[35m295\u001b[0m, in \u001b[35mmain\u001b[0m\n",
      "    raise ValueError(\n",
      "        f'Cannot register {name} for automatic cleanup: '\n",
      "        f'unknown resource type {rtype}')\n",
      "\u001b[1;35mValueError\u001b[0m: \u001b[35mCannot register /dev/shm/joblib_memmapping_folder_2222_db2d83e91c934224be08dc09e5fbafc7_2761b5b81bb948ae815df150f56c0e07 for automatic cleanup: unknown resource type folder\u001b[0m\n",
      "Traceback (most recent call last):\n",
      "  File \u001b[35m\"/opt/hostedtoolcache/Python/3.13.7/x64/lib/python3.13/multiprocessing/resource_tracker.py\"\u001b[0m, line \u001b[35m295\u001b[0m, in \u001b[35mmain\u001b[0m\n",
      "    raise ValueError(\n",
      "        f'Cannot register {name} for automatic cleanup: '\n",
      "        f'unknown resource type {rtype}')\n",
      "\u001b[1;35mValueError\u001b[0m: \u001b[35mCannot register /dev/shm/joblib_memmapping_folder_2222_1f2cbaaa9b794419acbc4e611470818f_3a5cdfc83f1241d784ec0ed8a5132795 for automatic cleanup: unknown resource type folder\u001b[0m\n"
     ]
    },
    {
     "name": "stderr",
     "output_type": "stream",
     "text": [
      "\r",
      "Scraping 82 games on 11/16/24:   9%|▉         | 16 of 182 days scraped in 118.8 sec"
     ]
    },
    {
     "name": "stderr",
     "output_type": "stream",
     "text": [
      "Traceback (most recent call last):\n",
      "  File \u001b[35m\"/opt/hostedtoolcache/Python/3.13.7/x64/lib/python3.13/multiprocessing/resource_tracker.py\"\u001b[0m, line \u001b[35m295\u001b[0m, in \u001b[35mmain\u001b[0m\n",
      "    raise ValueError(\n",
      "        f'Cannot register {name} for automatic cleanup: '\n",
      "        f'unknown resource type {rtype}')\n",
      "\u001b[1;35mValueError\u001b[0m: \u001b[35mCannot register /dev/shm/joblib_memmapping_folder_2222_1f2cbaaa9b794419acbc4e611470818f_3a5cdfc83f1241d784ec0ed8a5132795 for automatic cleanup: unknown resource type folder\u001b[0m\n"
     ]
    },
    {
     "name": "stderr",
     "output_type": "stream",
     "text": [
      "\r",
      "Scraping 36 games on 11/17/24:   9%|▉         | 16 of 182 days scraped in 119.3 sec"
     ]
    },
    {
     "name": "stderr",
     "output_type": "stream",
     "text": [
      "Traceback (most recent call last):\n",
      "  File \u001b[35m\"/opt/hostedtoolcache/Python/3.13.7/x64/lib/python3.13/multiprocessing/resource_tracker.py\"\u001b[0m, line \u001b[35m295\u001b[0m, in \u001b[35mmain\u001b[0m\n",
      "    raise ValueError(\n",
      "        f'Cannot register {name} for automatic cleanup: '\n",
      "        f'unknown resource type {rtype}')\n",
      "\u001b[1;35mValueError\u001b[0m: \u001b[35mCannot register /dev/shm/joblib_memmapping_folder_2222_9eda91573eb54cad914802608b85eca1_02e724dfe02b4594bb93ac739fdf817d for automatic cleanup: unknown resource type folder\u001b[0m\n",
      "Traceback (most recent call last):\n",
      "  File \u001b[35m\"/opt/hostedtoolcache/Python/3.13.7/x64/lib/python3.13/multiprocessing/resource_tracker.py\"\u001b[0m, line \u001b[35m295\u001b[0m, in \u001b[35mmain\u001b[0m\n",
      "    raise ValueError(\n",
      "        f'Cannot register {name} for automatic cleanup: '\n",
      "        f'unknown resource type {rtype}')\n",
      "\u001b[1;35mValueError\u001b[0m: \u001b[35mCannot register /dev/shm/joblib_memmapping_folder_2222_1f2cbaaa9b794419acbc4e611470818f_df8e50f5f3324dd88d81146ce802a25d for automatic cleanup: unknown resource type folder\u001b[0m\n"
     ]
    },
    {
     "name": "stderr",
     "output_type": "stream",
     "text": [
      "\r",
      "Scraping 36 games on 11/17/24:   9%|▉         | 17 of 182 days scraped in 124.0 sec"
     ]
    },
    {
     "name": "stderr",
     "output_type": "stream",
     "text": [
      "Traceback (most recent call last):\n",
      "  File \u001b[35m\"/opt/hostedtoolcache/Python/3.13.7/x64/lib/python3.13/multiprocessing/resource_tracker.py\"\u001b[0m, line \u001b[35m295\u001b[0m, in \u001b[35mmain\u001b[0m\n",
      "    raise ValueError(\n",
      "        f'Cannot register {name} for automatic cleanup: '\n",
      "        f'unknown resource type {rtype}')\n",
      "\u001b[1;35mValueError\u001b[0m: \u001b[35mCannot register /dev/shm/joblib_memmapping_folder_2222_1f2cbaaa9b794419acbc4e611470818f_df8e50f5f3324dd88d81146ce802a25d for automatic cleanup: unknown resource type folder\u001b[0m\n"
     ]
    },
    {
     "name": "stderr",
     "output_type": "stream",
     "text": [
      "\r",
      "Scraping 31 games on 11/18/24:   9%|▉         | 17 of 182 days scraped in 124.4 sec"
     ]
    },
    {
     "name": "stderr",
     "output_type": "stream",
     "text": [
      "Traceback (most recent call last):\n",
      "  File \u001b[35m\"/opt/hostedtoolcache/Python/3.13.7/x64/lib/python3.13/multiprocessing/resource_tracker.py\"\u001b[0m, line \u001b[35m295\u001b[0m, in \u001b[35mmain\u001b[0m\n",
      "    raise ValueError(\n",
      "        f'Cannot register {name} for automatic cleanup: '\n",
      "        f'unknown resource type {rtype}')\n",
      "\u001b[1;35mValueError\u001b[0m: \u001b[35mCannot register /dev/shm/joblib_memmapping_folder_2222_1b34b2e4097f4ed183d36e4527e6145d_761fe6b6387d4acda5d19426f9dc5bc1 for automatic cleanup: unknown resource type folder\u001b[0m\n",
      "Traceback (most recent call last):\n",
      "  File \u001b[35m\"/opt/hostedtoolcache/Python/3.13.7/x64/lib/python3.13/multiprocessing/resource_tracker.py\"\u001b[0m, line \u001b[35m295\u001b[0m, in \u001b[35mmain\u001b[0m\n",
      "    raise ValueError(\n",
      "        f'Cannot register {name} for automatic cleanup: '\n",
      "        f'unknown resource type {rtype}')\n",
      "\u001b[1;35mValueError\u001b[0m: \u001b[35mCannot register /dev/shm/joblib_memmapping_folder_2222_1f2cbaaa9b794419acbc4e611470818f_9f3f4f6d860541c5aebcf5396e3962fb for automatic cleanup: unknown resource type folder\u001b[0m\n"
     ]
    },
    {
     "name": "stderr",
     "output_type": "stream",
     "text": [
      "\r",
      "Scraping 31 games on 11/18/24:  10%|▉         | 18 of 182 days scraped in 128.6 secTraceback (most recent call last):\n"
     ]
    },
    {
     "name": "stderr",
     "output_type": "stream",
     "text": [
      "  File \u001b[35m\"/opt/hostedtoolcache/Python/3.13.7/x64/lib/python3.13/multiprocessing/resource_tracker.py\"\u001b[0m, line \u001b[35m295\u001b[0m, in \u001b[35mmain\u001b[0m\n",
      "    raise ValueError(\n",
      "        f'Cannot register {name} for automatic cleanup: '\n",
      "        f'unknown resource type {rtype}')\n",
      "\u001b[1;35mValueError\u001b[0m: \u001b[35mCannot register /dev/shm/joblib_memmapping_folder_2222_1f2cbaaa9b794419acbc4e611470818f_9f3f4f6d860541c5aebcf5396e3962fb for automatic cleanup: unknown resource type folder\u001b[0m\n"
     ]
    },
    {
     "name": "stderr",
     "output_type": "stream",
     "text": [
      "\r",
      "Scraping 54 games on 11/19/24:  10%|▉         | 18 of 182 days scraped in 129.7 sec"
     ]
    },
    {
     "name": "stderr",
     "output_type": "stream",
     "text": [
      "Traceback (most recent call last):\n",
      "  File \u001b[35m\"/opt/hostedtoolcache/Python/3.13.7/x64/lib/python3.13/multiprocessing/resource_tracker.py\"\u001b[0m, line \u001b[35m295\u001b[0m, in \u001b[35mmain\u001b[0m\n",
      "    raise ValueError(\n",
      "        f'Cannot register {name} for automatic cleanup: '\n",
      "        f'unknown resource type {rtype}')\n",
      "\u001b[1;35mValueError\u001b[0m: \u001b[35mCannot register /dev/shm/joblib_memmapping_folder_2222_d592b9f0b06c4263875d481b1d1904bb_266a8dae4dc6466f8532f5ef4e093ecf for automatic cleanup: unknown resource type folder\u001b[0m\n",
      "Traceback (most recent call last):\n",
      "  File \u001b[35m\"/opt/hostedtoolcache/Python/3.13.7/x64/lib/python3.13/multiprocessing/resource_tracker.py\"\u001b[0m, line \u001b[35m295\u001b[0m, in \u001b[35mmain\u001b[0m\n",
      "    raise ValueError(\n",
      "        f'Cannot register {name} for automatic cleanup: '\n",
      "        f'unknown resource type {rtype}')\n",
      "\u001b[1;35mValueError\u001b[0m: \u001b[35mCannot register /dev/shm/joblib_memmapping_folder_2222_1f2cbaaa9b794419acbc4e611470818f_54ed55956a69460f81d4763e59e2989e for automatic cleanup: unknown resource type folder\u001b[0m\n"
     ]
    },
    {
     "name": "stderr",
     "output_type": "stream",
     "text": [
      "\r",
      "Scraping 54 games on 11/19/24:  10%|█         | 19 of 182 days scraped in 137.1 secTraceback (most recent call last):\n"
     ]
    },
    {
     "name": "stderr",
     "output_type": "stream",
     "text": [
      "  File \u001b[35m\"/opt/hostedtoolcache/Python/3.13.7/x64/lib/python3.13/multiprocessing/resource_tracker.py\"\u001b[0m, line \u001b[35m295\u001b[0m, in \u001b[35mmain\u001b[0m\n",
      "    raise ValueError(\n",
      "        f'Cannot register {name} for automatic cleanup: '\n",
      "        f'unknown resource type {rtype}')\n",
      "\u001b[1;35mValueError\u001b[0m: \u001b[35mCannot register /dev/shm/joblib_memmapping_folder_2222_1f2cbaaa9b794419acbc4e611470818f_54ed55956a69460f81d4763e59e2989e for automatic cleanup: unknown resource type folder\u001b[0m\n"
     ]
    },
    {
     "name": "stderr",
     "output_type": "stream",
     "text": [
      "\r",
      "Scraping 47 games on 11/20/24:  10%|█         | 19 of 182 days scraped in 138.0 sec"
     ]
    },
    {
     "name": "stderr",
     "output_type": "stream",
     "text": [
      "Traceback (most recent call last):\n",
      "  File \u001b[35m\"/opt/hostedtoolcache/Python/3.13.7/x64/lib/python3.13/multiprocessing/resource_tracker.py\"\u001b[0m, line \u001b[35m295\u001b[0m, in \u001b[35mmain\u001b[0m\n",
      "    raise ValueError(\n",
      "        f'Cannot register {name} for automatic cleanup: '\n",
      "        f'unknown resource type {rtype}')\n",
      "\u001b[1;35mValueError\u001b[0m: \u001b[35mCannot register /dev/shm/joblib_memmapping_folder_2222_36b90b4a058545c28af09d6313051ed4_6b27143b47824280ae5a69e7f9aeca1d for automatic cleanup: unknown resource type folder\u001b[0m\n",
      "Traceback (most recent call last):\n",
      "  File \u001b[35m\"/opt/hostedtoolcache/Python/3.13.7/x64/lib/python3.13/multiprocessing/resource_tracker.py\"\u001b[0m, line \u001b[35m295\u001b[0m, in \u001b[35mmain\u001b[0m\n",
      "    raise ValueError(\n",
      "        f'Cannot register {name} for automatic cleanup: '\n",
      "        f'unknown resource type {rtype}')\n",
      "\u001b[1;35mValueError\u001b[0m: \u001b[35mCannot register /dev/shm/joblib_memmapping_folder_2222_1f2cbaaa9b794419acbc4e611470818f_5877ce7a3d3744f1bcc8f6a0f6889c0b for automatic cleanup: unknown resource type folder\u001b[0m\n"
     ]
    },
    {
     "name": "stderr",
     "output_type": "stream",
     "text": [
      "\r",
      "Scraping 47 games on 11/20/24:  11%|█         | 20 of 182 days scraped in 144.7 sec"
     ]
    },
    {
     "name": "stderr",
     "output_type": "stream",
     "text": [
      "Traceback (most recent call last):\n",
      "  File \u001b[35m\"/opt/hostedtoolcache/Python/3.13.7/x64/lib/python3.13/multiprocessing/resource_tracker.py\"\u001b[0m, line \u001b[35m295\u001b[0m, in \u001b[35mmain\u001b[0m\n",
      "    raise ValueError(\n",
      "        f'Cannot register {name} for automatic cleanup: '\n",
      "        f'unknown resource type {rtype}')\n",
      "\u001b[1;35mValueError\u001b[0m: \u001b[35mCannot register /dev/shm/joblib_memmapping_folder_2222_1f2cbaaa9b794419acbc4e611470818f_5877ce7a3d3744f1bcc8f6a0f6889c0b for automatic cleanup: unknown resource type folder\u001b[0m\n"
     ]
    },
    {
     "name": "stderr",
     "output_type": "stream",
     "text": [
      "\r",
      "Scraping 44 games on 11/21/24:  11%|█         | 20 of 182 days scraped in 145.3 sec"
     ]
    },
    {
     "name": "stderr",
     "output_type": "stream",
     "text": [
      "Traceback (most recent call last):\n",
      "  File \u001b[35m\"/opt/hostedtoolcache/Python/3.13.7/x64/lib/python3.13/multiprocessing/resource_tracker.py\"\u001b[0m, line \u001b[35m295\u001b[0m, in \u001b[35mmain\u001b[0m\n",
      "    raise ValueError(\n",
      "        f'Cannot register {name} for automatic cleanup: '\n",
      "        f'unknown resource type {rtype}')\n",
      "\u001b[1;35mValueError\u001b[0m: \u001b[35mCannot register /dev/shm/joblib_memmapping_folder_2222_86aecb5f6d314a29883e336ad02bd0a8_26c63d9b25a946619f8b42cd0eddf6a4 for automatic cleanup: unknown resource type folder\u001b[0m\n",
      "Traceback (most recent call last):\n",
      "  File \u001b[35m\"/opt/hostedtoolcache/Python/3.13.7/x64/lib/python3.13/multiprocessing/resource_tracker.py\"\u001b[0m, line \u001b[35m295\u001b[0m, in \u001b[35mmain\u001b[0m\n",
      "    raise ValueError(\n",
      "        f'Cannot register {name} for automatic cleanup: '\n",
      "        f'unknown resource type {rtype}')\n",
      "\u001b[1;35mValueError\u001b[0m: \u001b[35mCannot register /dev/shm/joblib_memmapping_folder_2222_1f2cbaaa9b794419acbc4e611470818f_4f38f066a14741c2b20b1a8f831e7c36 for automatic cleanup: unknown resource type folder\u001b[0m\n"
     ]
    },
    {
     "name": "stderr",
     "output_type": "stream",
     "text": [
      "\r",
      "Scraping 44 games on 11/21/24:  12%|█▏        | 21 of 182 days scraped in 151.4 sec"
     ]
    },
    {
     "name": "stderr",
     "output_type": "stream",
     "text": [
      "Traceback (most recent call last):\n",
      "  File \u001b[35m\"/opt/hostedtoolcache/Python/3.13.7/x64/lib/python3.13/multiprocessing/resource_tracker.py\"\u001b[0m, line \u001b[35m295\u001b[0m, in \u001b[35mmain\u001b[0m\n",
      "    raise ValueError(\n",
      "        f'Cannot register {name} for automatic cleanup: '\n",
      "        f'unknown resource type {rtype}')\n",
      "\u001b[1;35mValueError\u001b[0m: \u001b[35mCannot register /dev/shm/joblib_memmapping_folder_2222_1f2cbaaa9b794419acbc4e611470818f_4f38f066a14741c2b20b1a8f831e7c36 for automatic cleanup: unknown resource type folder\u001b[0m\n"
     ]
    },
    {
     "name": "stderr",
     "output_type": "stream",
     "text": [
      "\r",
      "Scraping 82 games on 11/22/24:  12%|█▏        | 21 of 182 days scraped in 152.2 sec"
     ]
    },
    {
     "name": "stderr",
     "output_type": "stream",
     "text": [
      "Traceback (most recent call last):\n",
      "  File \u001b[35m\"/opt/hostedtoolcache/Python/3.13.7/x64/lib/python3.13/multiprocessing/resource_tracker.py\"\u001b[0m, line \u001b[35m295\u001b[0m, in \u001b[35mmain\u001b[0m\n",
      "    raise ValueError(\n",
      "        f'Cannot register {name} for automatic cleanup: '\n",
      "        f'unknown resource type {rtype}')\n",
      "\u001b[1;35mValueError\u001b[0m: \u001b[35mCannot register /dev/shm/joblib_memmapping_folder_2222_059ee54677da4945b758b58e11539b72_57ade4a16626413eac2c11d43624961a for automatic cleanup: unknown resource type folder\u001b[0m\n",
      "Traceback (most recent call last):\n",
      "  File \u001b[35m\"/opt/hostedtoolcache/Python/3.13.7/x64/lib/python3.13/multiprocessing/resource_tracker.py\"\u001b[0m, line \u001b[35m295\u001b[0m, in \u001b[35mmain\u001b[0m\n",
      "    raise ValueError(\n",
      "        f'Cannot register {name} for automatic cleanup: '\n",
      "        f'unknown resource type {rtype}')\n",
      "\u001b[1;35mValueError\u001b[0m: \u001b[35mCannot register /dev/shm/joblib_memmapping_folder_2222_1f2cbaaa9b794419acbc4e611470818f_96aa98c203ec4782a342486b5d9e118f for automatic cleanup: unknown resource type folder\u001b[0m\n"
     ]
    },
    {
     "name": "stderr",
     "output_type": "stream",
     "text": [
      "\r",
      "Scraping 82 games on 11/22/24:  12%|█▏        | 22 of 182 days scraped in 163.4 sec"
     ]
    },
    {
     "name": "stderr",
     "output_type": "stream",
     "text": [
      "Traceback (most recent call last):\n",
      "  File \u001b[35m\"/opt/hostedtoolcache/Python/3.13.7/x64/lib/python3.13/multiprocessing/resource_tracker.py\"\u001b[0m, line \u001b[35m295\u001b[0m, in \u001b[35mmain\u001b[0m\n",
      "    raise ValueError(\n",
      "        f'Cannot register {name} for automatic cleanup: '\n",
      "        f'unknown resource type {rtype}')\n",
      "\u001b[1;35mValueError\u001b[0m: \u001b[35mCannot register /dev/shm/joblib_memmapping_folder_2222_1f2cbaaa9b794419acbc4e611470818f_96aa98c203ec4782a342486b5d9e118f for automatic cleanup: unknown resource type folder\u001b[0m\n"
     ]
    },
    {
     "name": "stderr",
     "output_type": "stream",
     "text": [
      "\r",
      "Scraping 56 games on 11/23/24:  12%|█▏        | 22 of 182 days scraped in 164.1 sec"
     ]
    },
    {
     "name": "stderr",
     "output_type": "stream",
     "text": [
      "Traceback (most recent call last):\n",
      "  File \u001b[35m\"/opt/hostedtoolcache/Python/3.13.7/x64/lib/python3.13/multiprocessing/resource_tracker.py\"\u001b[0m, line \u001b[35m295\u001b[0m, in \u001b[35mmain\u001b[0m\n",
      "    raise ValueError(\n",
      "        f'Cannot register {name} for automatic cleanup: '\n",
      "        f'unknown resource type {rtype}')\n",
      "\u001b[1;35mValueError\u001b[0m: \u001b[35mCannot register /dev/shm/joblib_memmapping_folder_2222_9e7c79d8fe9444febf4857bfb86bc9e4_7a9c5ac242fc4424b913fd57951e2b53 for automatic cleanup: unknown resource type folder\u001b[0m\n",
      "Traceback (most recent call last):\n",
      "  File \u001b[35m\"/opt/hostedtoolcache/Python/3.13.7/x64/lib/python3.13/multiprocessing/resource_tracker.py\"\u001b[0m, line \u001b[35m295\u001b[0m, in \u001b[35mmain\u001b[0m\n",
      "    raise ValueError(\n",
      "        f'Cannot register {name} for automatic cleanup: '\n",
      "        f'unknown resource type {rtype}')\n",
      "\u001b[1;35mValueError\u001b[0m: \u001b[35mCannot register /dev/shm/joblib_memmapping_folder_2222_1f2cbaaa9b794419acbc4e611470818f_db1378e4f6cf4bfa8658b6cb2e3dcfc5 for automatic cleanup: unknown resource type folder\u001b[0m\n"
     ]
    },
    {
     "name": "stderr",
     "output_type": "stream",
     "text": [
      "\r",
      "Scraping 56 games on 11/23/24:  13%|█▎        | 23 of 182 days scraped in 171.3 sec"
     ]
    },
    {
     "name": "stderr",
     "output_type": "stream",
     "text": [
      "Traceback (most recent call last):\n",
      "  File \u001b[35m\"/opt/hostedtoolcache/Python/3.13.7/x64/lib/python3.13/multiprocessing/resource_tracker.py\"\u001b[0m, line \u001b[35m295\u001b[0m, in \u001b[35mmain\u001b[0m\n",
      "    raise ValueError(\n",
      "        f'Cannot register {name} for automatic cleanup: '\n",
      "        f'unknown resource type {rtype}')\n",
      "\u001b[1;35mValueError\u001b[0m: \u001b[35mCannot register /dev/shm/joblib_memmapping_folder_2222_1f2cbaaa9b794419acbc4e611470818f_db1378e4f6cf4bfa8658b6cb2e3dcfc5 for automatic cleanup: unknown resource type folder\u001b[0m\n"
     ]
    },
    {
     "name": "stderr",
     "output_type": "stream",
     "text": [
      "\r",
      "Scraping 54 games on 11/24/24:  13%|█▎        | 23 of 182 days scraped in 172.0 sec"
     ]
    },
    {
     "name": "stderr",
     "output_type": "stream",
     "text": [
      "Traceback (most recent call last):\n",
      "  File \u001b[35m\"/opt/hostedtoolcache/Python/3.13.7/x64/lib/python3.13/multiprocessing/resource_tracker.py\"\u001b[0m, line \u001b[35m295\u001b[0m, in \u001b[35mmain\u001b[0m\n",
      "    raise ValueError(\n",
      "        f'Cannot register {name} for automatic cleanup: '\n",
      "        f'unknown resource type {rtype}')\n",
      "\u001b[1;35mValueError\u001b[0m: \u001b[35mCannot register /dev/shm/joblib_memmapping_folder_2222_51b83d80ae254a8996338626e18b1a9d_8dde9a396ed74b15b55db3b0913749db for automatic cleanup: unknown resource type folder\u001b[0m\n",
      "Traceback (most recent call last):\n",
      "  File \u001b[35m\"/opt/hostedtoolcache/Python/3.13.7/x64/lib/python3.13/multiprocessing/resource_tracker.py\"\u001b[0m, line \u001b[35m295\u001b[0m, in \u001b[35mmain\u001b[0m\n",
      "    raise ValueError(\n",
      "        f'Cannot register {name} for automatic cleanup: '\n",
      "        f'unknown resource type {rtype}')\n",
      "\u001b[1;35mValueError\u001b[0m: \u001b[35mCannot register /dev/shm/joblib_memmapping_folder_2222_1f2cbaaa9b794419acbc4e611470818f_7c87f4715e4c48f8b44af3c7ed197080 for automatic cleanup: unknown resource type folder\u001b[0m\n"
     ]
    },
    {
     "name": "stderr",
     "output_type": "stream",
     "text": [
      "\r",
      "Scraping 54 games on 11/24/24:  13%|█▎        | 24 of 182 days scraped in 179.1 secTraceback (most recent call last):\n"
     ]
    },
    {
     "name": "stderr",
     "output_type": "stream",
     "text": [
      "  File \u001b[35m\"/opt/hostedtoolcache/Python/3.13.7/x64/lib/python3.13/multiprocessing/resource_tracker.py\"\u001b[0m, line \u001b[35m295\u001b[0m, in \u001b[35mmain\u001b[0m\n",
      "    raise ValueError(\n",
      "        f'Cannot register {name} for automatic cleanup: '\n",
      "        f'unknown resource type {rtype}')\n",
      "\u001b[1;35mValueError\u001b[0m: \u001b[35mCannot register /dev/shm/joblib_memmapping_folder_2222_1f2cbaaa9b794419acbc4e611470818f_7c87f4715e4c48f8b44af3c7ed197080 for automatic cleanup: unknown resource type folder\u001b[0m\n"
     ]
    },
    {
     "name": "stderr",
     "output_type": "stream",
     "text": [
      "\r",
      "Scraping 57 games on 11/25/24:  13%|█▎        | 24 of 182 days scraped in 180.0 sec"
     ]
    },
    {
     "name": "stderr",
     "output_type": "stream",
     "text": [
      "Traceback (most recent call last):\n",
      "  File \u001b[35m\"/opt/hostedtoolcache/Python/3.13.7/x64/lib/python3.13/multiprocessing/resource_tracker.py\"\u001b[0m, line \u001b[35m295\u001b[0m, in \u001b[35mmain\u001b[0m\n",
      "    raise ValueError(\n",
      "        f'Cannot register {name} for automatic cleanup: '\n",
      "        f'unknown resource type {rtype}')\n",
      "\u001b[1;35mValueError\u001b[0m: \u001b[35mCannot register /dev/shm/joblib_memmapping_folder_2222_9f29ff30d56b45d287d79af6ac2d5a14_96af38f491c94ee3aafbb03f68ef2bbf for automatic cleanup: unknown resource type folder\u001b[0m\n",
      "Traceback (most recent call last):\n",
      "  File \u001b[35m\"/opt/hostedtoolcache/Python/3.13.7/x64/lib/python3.13/multiprocessing/resource_tracker.py\"\u001b[0m, line \u001b[35m295\u001b[0m, in \u001b[35mmain\u001b[0m\n",
      "    raise ValueError(\n",
      "        f'Cannot register {name} for automatic cleanup: '\n",
      "        f'unknown resource type {rtype}')\n",
      "\u001b[1;35mValueError\u001b[0m: \u001b[35mCannot register /dev/shm/joblib_memmapping_folder_2222_1f2cbaaa9b794419acbc4e611470818f_4dd31060b37e43158c7eaaedde6f3d0b for automatic cleanup: unknown resource type folder\u001b[0m\n"
     ]
    },
    {
     "name": "stderr",
     "output_type": "stream",
     "text": [
      "\r",
      "Scraping 57 games on 11/25/24:  14%|█▎        | 25 of 182 days scraped in 188.8 sec"
     ]
    },
    {
     "name": "stderr",
     "output_type": "stream",
     "text": [
      "Traceback (most recent call last):\n",
      "  File \u001b[35m\"/opt/hostedtoolcache/Python/3.13.7/x64/lib/python3.13/multiprocessing/resource_tracker.py\"\u001b[0m, line \u001b[35m295\u001b[0m, in \u001b[35mmain\u001b[0m\n",
      "    raise ValueError(\n",
      "        f'Cannot register {name} for automatic cleanup: '\n",
      "        f'unknown resource type {rtype}')\n",
      "\u001b[1;35mValueError\u001b[0m: \u001b[35mCannot register /dev/shm/joblib_memmapping_folder_2222_1f2cbaaa9b794419acbc4e611470818f_4dd31060b37e43158c7eaaedde6f3d0b for automatic cleanup: unknown resource type folder\u001b[0m\n"
     ]
    },
    {
     "name": "stderr",
     "output_type": "stream",
     "text": [
      "\r",
      "Scraping 64 games on 11/26/24:  14%|█▎        | 25 of 182 days scraped in 189.7 sec"
     ]
    },
    {
     "name": "stderr",
     "output_type": "stream",
     "text": [
      "Traceback (most recent call last):\n",
      "  File \u001b[35m\"/opt/hostedtoolcache/Python/3.13.7/x64/lib/python3.13/multiprocessing/resource_tracker.py\"\u001b[0m, line \u001b[35m295\u001b[0m, in \u001b[35mmain\u001b[0m\n",
      "    raise ValueError(\n",
      "        f'Cannot register {name} for automatic cleanup: '\n",
      "        f'unknown resource type {rtype}')\n",
      "\u001b[1;35mValueError\u001b[0m: \u001b[35mCannot register /dev/shm/joblib_memmapping_folder_2222_9a71782aaed1430ca86aeeb4c4d1bcd3_eb086484e4f14216bf7600c8e501e446 for automatic cleanup: unknown resource type folder\u001b[0m\n",
      "Traceback (most recent call last):\n",
      "  File \u001b[35m\"/opt/hostedtoolcache/Python/3.13.7/x64/lib/python3.13/multiprocessing/resource_tracker.py\"\u001b[0m, line \u001b[35m295\u001b[0m, in \u001b[35mmain\u001b[0m\n",
      "    raise ValueError(\n",
      "        f'Cannot register {name} for automatic cleanup: '\n",
      "        f'unknown resource type {rtype}')\n",
      "\u001b[1;35mValueError\u001b[0m: \u001b[35mCannot register /dev/shm/joblib_memmapping_folder_2222_1f2cbaaa9b794419acbc4e611470818f_f9e79e972f464a83906d67a688ed0198 for automatic cleanup: unknown resource type folder\u001b[0m\n"
     ]
    },
    {
     "name": "stderr",
     "output_type": "stream",
     "text": [
      "\r",
      "Scraping 64 games on 11/26/24:  14%|█▍        | 26 of 182 days scraped in 199.4 sec"
     ]
    },
    {
     "name": "stderr",
     "output_type": "stream",
     "text": [
      "Traceback (most recent call last):\n",
      "  File \u001b[35m\"/opt/hostedtoolcache/Python/3.13.7/x64/lib/python3.13/multiprocessing/resource_tracker.py\"\u001b[0m, line \u001b[35m295\u001b[0m, in \u001b[35mmain\u001b[0m\n",
      "    raise ValueError(\n",
      "        f'Cannot register {name} for automatic cleanup: '\n",
      "        f'unknown resource type {rtype}')\n",
      "\u001b[1;35mValueError\u001b[0m: \u001b[35mCannot register /dev/shm/joblib_memmapping_folder_2222_1f2cbaaa9b794419acbc4e611470818f_f9e79e972f464a83906d67a688ed0198 for automatic cleanup: unknown resource type folder\u001b[0m\n"
     ]
    },
    {
     "name": "stderr",
     "output_type": "stream",
     "text": [
      "\r",
      "Scraping 70 games on 11/27/24:  14%|█▍        | 26 of 182 days scraped in 200.7 sec"
     ]
    },
    {
     "name": "stderr",
     "output_type": "stream",
     "text": [
      "Traceback (most recent call last):\n",
      "  File \u001b[35m\"/opt/hostedtoolcache/Python/3.13.7/x64/lib/python3.13/multiprocessing/resource_tracker.py\"\u001b[0m, line \u001b[35m295\u001b[0m, in \u001b[35mmain\u001b[0m\n",
      "    raise ValueError(\n",
      "        f'Cannot register {name} for automatic cleanup: '\n",
      "        f'unknown resource type {rtype}')\n",
      "\u001b[1;35mValueError\u001b[0m: \u001b[35mCannot register /dev/shm/joblib_memmapping_folder_2222_347a5368a6994d77b2773cb1f1cffc80_7351d6c674dd433491808b96c0b2f6ec for automatic cleanup: unknown resource type folder\u001b[0m\n",
      "Traceback (most recent call last):\n",
      "  File \u001b[35m\"/opt/hostedtoolcache/Python/3.13.7/x64/lib/python3.13/multiprocessing/resource_tracker.py\"\u001b[0m, line \u001b[35m295\u001b[0m, in \u001b[35mmain\u001b[0m\n",
      "    raise ValueError(\n",
      "        f'Cannot register {name} for automatic cleanup: '\n",
      "        f'unknown resource type {rtype}')\n",
      "\u001b[1;35mValueError\u001b[0m: \u001b[35mCannot register /dev/shm/joblib_memmapping_folder_2222_1f2cbaaa9b794419acbc4e611470818f_f441b2ec5a894194b4058c28cb4d33af for automatic cleanup: unknown resource type folder\u001b[0m\n"
     ]
    },
    {
     "name": "stderr",
     "output_type": "stream",
     "text": [
      "\r",
      "Scraping 70 games on 11/27/24:  15%|█▍        | 27 of 182 days scraped in 210.3 secTraceback (most recent call last):\n"
     ]
    },
    {
     "name": "stderr",
     "output_type": "stream",
     "text": [
      "  File \u001b[35m\"/opt/hostedtoolcache/Python/3.13.7/x64/lib/python3.13/multiprocessing/resource_tracker.py\"\u001b[0m, line \u001b[35m295\u001b[0m, in \u001b[35mmain\u001b[0m\n",
      "    raise ValueError(\n",
      "        f'Cannot register {name} for automatic cleanup: '\n",
      "        f'unknown resource type {rtype}')\n",
      "\u001b[1;35mValueError\u001b[0m: \u001b[35mCannot register /dev/shm/joblib_memmapping_folder_2222_1f2cbaaa9b794419acbc4e611470818f_f441b2ec5a894194b4058c28cb4d33af for automatic cleanup: unknown resource type folder\u001b[0m\n"
     ]
    },
    {
     "name": "stderr",
     "output_type": "stream",
     "text": [
      "\r",
      "Scraping 21 games on 11/28/24:  15%|█▍        | 27 of 182 days scraped in 211.2 sec"
     ]
    },
    {
     "name": "stderr",
     "output_type": "stream",
     "text": [
      "Traceback (most recent call last):\n",
      "  File \u001b[35m\"/opt/hostedtoolcache/Python/3.13.7/x64/lib/python3.13/multiprocessing/resource_tracker.py\"\u001b[0m, line \u001b[35m295\u001b[0m, in \u001b[35mmain\u001b[0m\n",
      "    raise ValueError(\n",
      "        f'Cannot register {name} for automatic cleanup: '\n",
      "        f'unknown resource type {rtype}')\n",
      "\u001b[1;35mValueError\u001b[0m: \u001b[35mCannot register /dev/shm/joblib_memmapping_folder_2222_95db3a6385454bc98a32933b7253ead1_6e931a25d92d40ea8656cb3aa7129c4e for automatic cleanup: unknown resource type folder\u001b[0m\n",
      "Traceback (most recent call last):\n",
      "  File \u001b[35m\"/opt/hostedtoolcache/Python/3.13.7/x64/lib/python3.13/multiprocessing/resource_tracker.py\"\u001b[0m, line \u001b[35m295\u001b[0m, in \u001b[35mmain\u001b[0m\n",
      "    raise ValueError(\n",
      "        f'Cannot register {name} for automatic cleanup: '\n",
      "        f'unknown resource type {rtype}')\n",
      "\u001b[1;35mValueError\u001b[0m: \u001b[35mCannot register /dev/shm/joblib_memmapping_folder_2222_1f2cbaaa9b794419acbc4e611470818f_5db632feea7d497b9e761a23989e6066 for automatic cleanup: unknown resource type folder\u001b[0m\n"
     ]
    },
    {
     "name": "stderr",
     "output_type": "stream",
     "text": [
      "\r",
      "Scraping 21 games on 11/28/24:  15%|█▌        | 28 of 182 days scraped in 214.4 sec"
     ]
    },
    {
     "name": "stderr",
     "output_type": "stream",
     "text": [
      "Traceback (most recent call last):\n",
      "  File \u001b[35m\"/opt/hostedtoolcache/Python/3.13.7/x64/lib/python3.13/multiprocessing/resource_tracker.py\"\u001b[0m, line \u001b[35m295\u001b[0m, in \u001b[35mmain\u001b[0m\n",
      "    raise ValueError(\n",
      "        f'Cannot register {name} for automatic cleanup: '\n",
      "        f'unknown resource type {rtype}')\n",
      "\u001b[1;35mValueError\u001b[0m: \u001b[35mCannot register /dev/shm/joblib_memmapping_folder_2222_1f2cbaaa9b794419acbc4e611470818f_5db632feea7d497b9e761a23989e6066 for automatic cleanup: unknown resource type folder\u001b[0m\n"
     ]
    },
    {
     "name": "stderr",
     "output_type": "stream",
     "text": [
      "\r",
      "Scraping 56 games on 11/29/24:  15%|█▌        | 28 of 182 days scraped in 215.2 sec"
     ]
    },
    {
     "name": "stderr",
     "output_type": "stream",
     "text": [
      "Traceback (most recent call last):\n",
      "  File \u001b[35m\"/opt/hostedtoolcache/Python/3.13.7/x64/lib/python3.13/multiprocessing/resource_tracker.py\"\u001b[0m, line \u001b[35m295\u001b[0m, in \u001b[35mmain\u001b[0m\n",
      "    raise ValueError(\n",
      "        f'Cannot register {name} for automatic cleanup: '\n",
      "        f'unknown resource type {rtype}')\n",
      "\u001b[1;35mValueError\u001b[0m: \u001b[35mCannot register /dev/shm/joblib_memmapping_folder_2222_1d81b3bbcdbe4639906f15f4db6b6a53_f7955a7d873a4581a5aca77f542351d5 for automatic cleanup: unknown resource type folder\u001b[0m\n",
      "Traceback (most recent call last):\n",
      "  File \u001b[35m\"/opt/hostedtoolcache/Python/3.13.7/x64/lib/python3.13/multiprocessing/resource_tracker.py\"\u001b[0m, line \u001b[35m295\u001b[0m, in \u001b[35mmain\u001b[0m\n",
      "    raise ValueError(\n",
      "        f'Cannot register {name} for automatic cleanup: '\n",
      "        f'unknown resource type {rtype}')\n",
      "\u001b[1;35mValueError\u001b[0m: \u001b[35mCannot register /dev/shm/joblib_memmapping_folder_2222_1f2cbaaa9b794419acbc4e611470818f_cd3f6803ca5e4435902dc7e12a1c1c15 for automatic cleanup: unknown resource type folder\u001b[0m\n"
     ]
    },
    {
     "name": "stderr",
     "output_type": "stream",
     "text": [
      "\r",
      "Scraping 56 games on 11/29/24:  16%|█▌        | 29 of 182 days scraped in 222.8 sec"
     ]
    },
    {
     "name": "stderr",
     "output_type": "stream",
     "text": [
      "Traceback (most recent call last):\n",
      "  File \u001b[35m\"/opt/hostedtoolcache/Python/3.13.7/x64/lib/python3.13/multiprocessing/resource_tracker.py\"\u001b[0m, line \u001b[35m295\u001b[0m, in \u001b[35mmain\u001b[0m\n",
      "    raise ValueError(\n",
      "        f'Cannot register {name} for automatic cleanup: '\n",
      "        f'unknown resource type {rtype}')\n",
      "\u001b[1;35mValueError\u001b[0m: \u001b[35mCannot register /dev/shm/joblib_memmapping_folder_2222_1f2cbaaa9b794419acbc4e611470818f_cd3f6803ca5e4435902dc7e12a1c1c15 for automatic cleanup: unknown resource type folder\u001b[0m\n"
     ]
    },
    {
     "name": "stderr",
     "output_type": "stream",
     "text": [
      "\r",
      "Scraping 68 games on 11/30/24:  16%|█▌        | 29 of 182 days scraped in 223.4 sec"
     ]
    },
    {
     "name": "stderr",
     "output_type": "stream",
     "text": [
      "Traceback (most recent call last):\n",
      "  File \u001b[35m\"/opt/hostedtoolcache/Python/3.13.7/x64/lib/python3.13/multiprocessing/resource_tracker.py\"\u001b[0m, line \u001b[35m295\u001b[0m, in \u001b[35mmain\u001b[0m\n",
      "    raise ValueError(\n",
      "        f'Cannot register {name} for automatic cleanup: '\n",
      "        f'unknown resource type {rtype}')\n",
      "\u001b[1;35mValueError\u001b[0m: \u001b[35mCannot register /dev/shm/joblib_memmapping_folder_2222_2900326c99ff4efaac3c200100c4a510_df57c0777e224b7f945ef081ec230e20 for automatic cleanup: unknown resource type folder\u001b[0m\n",
      "Traceback (most recent call last):\n",
      "  File \u001b[35m\"/opt/hostedtoolcache/Python/3.13.7/x64/lib/python3.13/multiprocessing/resource_tracker.py\"\u001b[0m, line \u001b[35m295\u001b[0m, in \u001b[35mmain\u001b[0m\n",
      "    raise ValueError(\n",
      "        f'Cannot register {name} for automatic cleanup: '\n",
      "        f'unknown resource type {rtype}')\n",
      "\u001b[1;35mValueError\u001b[0m: \u001b[35mCannot register /dev/shm/joblib_memmapping_folder_2222_1f2cbaaa9b794419acbc4e611470818f_495f4fefd1f74afa8e02ef03c0564987 for automatic cleanup: unknown resource type folder\u001b[0m\n"
     ]
    },
    {
     "name": "stderr",
     "output_type": "stream",
     "text": [
      "\r",
      "Scraping 68 games on 11/30/24:  16%|█▋        | 30 of 182 days scraped in 232.7 secTraceback (most recent call last):\n"
     ]
    },
    {
     "name": "stderr",
     "output_type": "stream",
     "text": [
      "  File \u001b[35m\"/opt/hostedtoolcache/Python/3.13.7/x64/lib/python3.13/multiprocessing/resource_tracker.py\"\u001b[0m, line \u001b[35m295\u001b[0m, in \u001b[35mmain\u001b[0m\n",
      "    raise ValueError(\n",
      "        f'Cannot register {name} for automatic cleanup: '\n",
      "        f'unknown resource type {rtype}')\n",
      "\u001b[1;35mValueError\u001b[0m: \u001b[35mCannot register /dev/shm/joblib_memmapping_folder_2222_1f2cbaaa9b794419acbc4e611470818f_495f4fefd1f74afa8e02ef03c0564987 for automatic cleanup: unknown resource type folder\u001b[0m\n"
     ]
    },
    {
     "name": "stderr",
     "output_type": "stream",
     "text": [
      "\r",
      "Scraping 34 games on 12/01/24:  16%|█▋        | 30 of 182 days scraped in 233.3 sec"
     ]
    },
    {
     "name": "stderr",
     "output_type": "stream",
     "text": [
      "Traceback (most recent call last):\n",
      "  File \u001b[35m\"/opt/hostedtoolcache/Python/3.13.7/x64/lib/python3.13/multiprocessing/resource_tracker.py\"\u001b[0m, line \u001b[35m295\u001b[0m, in \u001b[35mmain\u001b[0m\n",
      "    raise ValueError(\n",
      "        f'Cannot register {name} for automatic cleanup: '\n",
      "        f'unknown resource type {rtype}')\n",
      "\u001b[1;35mValueError\u001b[0m: \u001b[35mCannot register /dev/shm/joblib_memmapping_folder_2222_2237535b03f944ebb5def4ecd30a6976_7c6fb169eabc45e8bf66dda9f0fa7285 for automatic cleanup: unknown resource type folder\u001b[0m\n",
      "Traceback (most recent call last):\n",
      "  File \u001b[35m\"/opt/hostedtoolcache/Python/3.13.7/x64/lib/python3.13/multiprocessing/resource_tracker.py\"\u001b[0m, line \u001b[35m295\u001b[0m, in \u001b[35mmain\u001b[0m\n",
      "    raise ValueError(\n",
      "        f'Cannot register {name} for automatic cleanup: '\n",
      "        f'unknown resource type {rtype}')\n",
      "\u001b[1;35mValueError\u001b[0m: \u001b[35mCannot register /dev/shm/joblib_memmapping_folder_2222_1f2cbaaa9b794419acbc4e611470818f_bd87e5a64ae947e8a0acbc44ddae27bf for automatic cleanup: unknown resource type folder\u001b[0m\n"
     ]
    },
    {
     "name": "stderr",
     "output_type": "stream",
     "text": [
      "\r",
      "Scraping 34 games on 12/01/24:  17%|█▋        | 31 of 182 days scraped in 237.7 secTraceback (most recent call last):\n"
     ]
    },
    {
     "name": "stderr",
     "output_type": "stream",
     "text": [
      "  File \u001b[35m\"/opt/hostedtoolcache/Python/3.13.7/x64/lib/python3.13/multiprocessing/resource_tracker.py\"\u001b[0m, line \u001b[35m295\u001b[0m, in \u001b[35mmain\u001b[0m\n",
      "    raise ValueError(\n",
      "        f'Cannot register {name} for automatic cleanup: '\n",
      "        f'unknown resource type {rtype}')\n",
      "\u001b[1;35mValueError\u001b[0m: \u001b[35mCannot register /dev/shm/joblib_memmapping_folder_2222_1f2cbaaa9b794419acbc4e611470818f_bd87e5a64ae947e8a0acbc44ddae27bf for automatic cleanup: unknown resource type folder\u001b[0m\n"
     ]
    },
    {
     "name": "stderr",
     "output_type": "stream",
     "text": [
      "\r",
      "Scraping 16 games on 12/02/24:  17%|█▋        | 31 of 182 days scraped in 238.1 sec"
     ]
    },
    {
     "name": "stderr",
     "output_type": "stream",
     "text": [
      "Traceback (most recent call last):\n",
      "  File \u001b[35m\"/opt/hostedtoolcache/Python/3.13.7/x64/lib/python3.13/multiprocessing/resource_tracker.py\"\u001b[0m, line \u001b[35m295\u001b[0m, in \u001b[35mmain\u001b[0m\n",
      "    raise ValueError(\n",
      "        f'Cannot register {name} for automatic cleanup: '\n",
      "        f'unknown resource type {rtype}')\n",
      "\u001b[1;35mValueError\u001b[0m: \u001b[35mCannot register /dev/shm/joblib_memmapping_folder_2222_4ed7b3c9cf0c4f6aaba3f57fd7e84c0b_d20d7c0e372640e1b9de45c6b35165d7 for automatic cleanup: unknown resource type folder\u001b[0m\n",
      "Traceback (most recent call last):\n",
      "  File \u001b[35m\"/opt/hostedtoolcache/Python/3.13.7/x64/lib/python3.13/multiprocessing/resource_tracker.py\"\u001b[0m, line \u001b[35m295\u001b[0m, in \u001b[35mmain\u001b[0m\n",
      "    raise ValueError(\n",
      "        f'Cannot register {name} for automatic cleanup: '\n",
      "        f'unknown resource type {rtype}')\n",
      "\u001b[1;35mValueError\u001b[0m: \u001b[35mCannot register /dev/shm/joblib_memmapping_folder_2222_1f2cbaaa9b794419acbc4e611470818f_80286fbe522a426e84629f3d6b770058 for automatic cleanup: unknown resource type folder\u001b[0m\n"
     ]
    },
    {
     "name": "stderr",
     "output_type": "stream",
     "text": [
      "\r",
      "Scraping 16 games on 12/02/24:  18%|█▊        | 32 of 182 days scraped in 240.5 secTraceback (most recent call last):\n"
     ]
    },
    {
     "name": "stderr",
     "output_type": "stream",
     "text": [
      "  File \u001b[35m\"/opt/hostedtoolcache/Python/3.13.7/x64/lib/python3.13/multiprocessing/resource_tracker.py\"\u001b[0m, line \u001b[35m295\u001b[0m, in \u001b[35mmain\u001b[0m\n",
      "    raise ValueError(\n",
      "        f'Cannot register {name} for automatic cleanup: '\n",
      "        f'unknown resource type {rtype}')\n",
      "\u001b[1;35mValueError\u001b[0m: \u001b[35mCannot register /dev/shm/joblib_memmapping_folder_2222_1f2cbaaa9b794419acbc4e611470818f_80286fbe522a426e84629f3d6b770058 for automatic cleanup: unknown resource type folder\u001b[0m\n"
     ]
    },
    {
     "name": "stderr",
     "output_type": "stream",
     "text": [
      "\r",
      "Scraping 56 games on 12/03/24:  18%|█▊        | 32 of 182 days scraped in 241.4 sec"
     ]
    },
    {
     "name": "stderr",
     "output_type": "stream",
     "text": [
      "Traceback (most recent call last):\n",
      "  File \u001b[35m\"/opt/hostedtoolcache/Python/3.13.7/x64/lib/python3.13/multiprocessing/resource_tracker.py\"\u001b[0m, line \u001b[35m295\u001b[0m, in \u001b[35mmain\u001b[0m\n",
      "    raise ValueError(\n",
      "        f'Cannot register {name} for automatic cleanup: '\n",
      "        f'unknown resource type {rtype}')\n",
      "\u001b[1;35mValueError\u001b[0m: \u001b[35mCannot register /dev/shm/joblib_memmapping_folder_2222_131908013c7a438ba1152dabbb6be144_7768c05c2feb47cd9496d7af39d3307f for automatic cleanup: unknown resource type folder\u001b[0m\n",
      "Traceback (most recent call last):\n",
      "  File \u001b[35m\"/opt/hostedtoolcache/Python/3.13.7/x64/lib/python3.13/multiprocessing/resource_tracker.py\"\u001b[0m, line \u001b[35m295\u001b[0m, in \u001b[35mmain\u001b[0m\n",
      "    raise ValueError(\n",
      "        f'Cannot register {name} for automatic cleanup: '\n",
      "        f'unknown resource type {rtype}')\n",
      "\u001b[1;35mValueError\u001b[0m: \u001b[35mCannot register /dev/shm/joblib_memmapping_folder_2222_1f2cbaaa9b794419acbc4e611470818f_e57f5cdc9c3d48aebc50e85dd3f6785d for automatic cleanup: unknown resource type folder\u001b[0m\n"
     ]
    },
    {
     "name": "stderr",
     "output_type": "stream",
     "text": [
      "\r",
      "Scraping 56 games on 12/03/24:  18%|█▊        | 33 of 182 days scraped in 248.8 sec"
     ]
    },
    {
     "name": "stderr",
     "output_type": "stream",
     "text": [
      "Traceback (most recent call last):\n",
      "  File \u001b[35m\"/opt/hostedtoolcache/Python/3.13.7/x64/lib/python3.13/multiprocessing/resource_tracker.py\"\u001b[0m, line \u001b[35m295\u001b[0m, in \u001b[35mmain\u001b[0m\n",
      "    raise ValueError(\n",
      "        f'Cannot register {name} for automatic cleanup: '\n",
      "        f'unknown resource type {rtype}')\n",
      "\u001b[1;35mValueError\u001b[0m: \u001b[35mCannot register /dev/shm/joblib_memmapping_folder_2222_1f2cbaaa9b794419acbc4e611470818f_e57f5cdc9c3d48aebc50e85dd3f6785d for automatic cleanup: unknown resource type folder\u001b[0m\n"
     ]
    },
    {
     "name": "stderr",
     "output_type": "stream",
     "text": [
      "\r",
      "Scraping 67 games on 12/04/24:  18%|█▊        | 33 of 182 days scraped in 249.7 sec"
     ]
    },
    {
     "name": "stderr",
     "output_type": "stream",
     "text": [
      "Traceback (most recent call last):\n",
      "  File \u001b[35m\"/opt/hostedtoolcache/Python/3.13.7/x64/lib/python3.13/multiprocessing/resource_tracker.py\"\u001b[0m, line \u001b[35m295\u001b[0m, in \u001b[35mmain\u001b[0m\n",
      "    raise ValueError(\n",
      "        f'Cannot register {name} for automatic cleanup: '\n",
      "        f'unknown resource type {rtype}')\n",
      "\u001b[1;35mValueError\u001b[0m: \u001b[35mCannot register /dev/shm/joblib_memmapping_folder_2222_e8f3736fafec44d69fa8b42631837110_3a86931a308847a9875a1a81675a36d4 for automatic cleanup: unknown resource type folder\u001b[0m\n",
      "Traceback (most recent call last):\n",
      "  File \u001b[35m\"/opt/hostedtoolcache/Python/3.13.7/x64/lib/python3.13/multiprocessing/resource_tracker.py\"\u001b[0m, line \u001b[35m295\u001b[0m, in \u001b[35mmain\u001b[0m\n",
      "    raise ValueError(\n",
      "        f'Cannot register {name} for automatic cleanup: '\n",
      "        f'unknown resource type {rtype}')\n",
      "\u001b[1;35mValueError\u001b[0m: \u001b[35mCannot register /dev/shm/joblib_memmapping_folder_2222_1f2cbaaa9b794419acbc4e611470818f_83cb554dcc2147979a7018addfcf1a11 for automatic cleanup: unknown resource type folder\u001b[0m\n"
     ]
    },
    {
     "name": "stderr",
     "output_type": "stream",
     "text": [
      "\r",
      "Scraping 67 games on 12/04/24:  19%|█▊        | 34 of 182 days scraped in 258.8 sec"
     ]
    },
    {
     "name": "stderr",
     "output_type": "stream",
     "text": [
      "Traceback (most recent call last):\n",
      "  File \u001b[35m\"/opt/hostedtoolcache/Python/3.13.7/x64/lib/python3.13/multiprocessing/resource_tracker.py\"\u001b[0m, line \u001b[35m295\u001b[0m, in \u001b[35mmain\u001b[0m\n",
      "    raise ValueError(\n",
      "        f'Cannot register {name} for automatic cleanup: '\n",
      "        f'unknown resource type {rtype}')\n",
      "\u001b[1;35mValueError\u001b[0m: \u001b[35mCannot register /dev/shm/joblib_memmapping_folder_2222_1f2cbaaa9b794419acbc4e611470818f_83cb554dcc2147979a7018addfcf1a11 for automatic cleanup: unknown resource type folder\u001b[0m\n"
     ]
    },
    {
     "name": "stderr",
     "output_type": "stream",
     "text": [
      "\r",
      "Scraping 26 games on 12/05/24:  19%|█▊        | 34 of 182 days scraped in 259.2 sec"
     ]
    },
    {
     "name": "stderr",
     "output_type": "stream",
     "text": [
      "Traceback (most recent call last):\n",
      "  File \u001b[35m\"/opt/hostedtoolcache/Python/3.13.7/x64/lib/python3.13/multiprocessing/resource_tracker.py\"\u001b[0m, line \u001b[35m295\u001b[0m, in \u001b[35mmain\u001b[0m\n",
      "    raise ValueError(\n",
      "        f'Cannot register {name} for automatic cleanup: '\n",
      "        f'unknown resource type {rtype}')\n",
      "\u001b[1;35mValueError\u001b[0m: \u001b[35mCannot register /dev/shm/joblib_memmapping_folder_2222_cf2a292c66cd4424b45ac0ec88eaaa89_d0bbaadf80434b349b2b9b2a66aae67a for automatic cleanup: unknown resource type folder\u001b[0m\n",
      "Traceback (most recent call last):\n",
      "  File \u001b[35m\"/opt/hostedtoolcache/Python/3.13.7/x64/lib/python3.13/multiprocessing/resource_tracker.py\"\u001b[0m, line \u001b[35m295\u001b[0m, in \u001b[35mmain\u001b[0m\n",
      "    raise ValueError(\n",
      "        f'Cannot register {name} for automatic cleanup: '\n",
      "        f'unknown resource type {rtype}')\n",
      "\u001b[1;35mValueError\u001b[0m: \u001b[35mCannot register /dev/shm/joblib_memmapping_folder_2222_1f2cbaaa9b794419acbc4e611470818f_407c61987e30484cba8d4e01e9043b58 for automatic cleanup: unknown resource type folder\u001b[0m\n"
     ]
    },
    {
     "name": "stderr",
     "output_type": "stream",
     "text": [
      "\r",
      "Scraping 26 games on 12/05/24:  19%|█▉        | 35 of 182 days scraped in 262.9 sec"
     ]
    },
    {
     "name": "stderr",
     "output_type": "stream",
     "text": [
      "Traceback (most recent call last):\n",
      "  File \u001b[35m\"/opt/hostedtoolcache/Python/3.13.7/x64/lib/python3.13/multiprocessing/resource_tracker.py\"\u001b[0m, line \u001b[35m295\u001b[0m, in \u001b[35mmain\u001b[0m\n",
      "    raise ValueError(\n",
      "        f'Cannot register {name} for automatic cleanup: '\n",
      "        f'unknown resource type {rtype}')\n",
      "\u001b[1;35mValueError\u001b[0m: \u001b[35mCannot register /dev/shm/joblib_memmapping_folder_2222_1f2cbaaa9b794419acbc4e611470818f_407c61987e30484cba8d4e01e9043b58 for automatic cleanup: unknown resource type folder\u001b[0m\n"
     ]
    },
    {
     "name": "stderr",
     "output_type": "stream",
     "text": [
      "\r",
      "Scraping 22 games on 12/06/24:  19%|█▉        | 35 of 182 days scraped in 263.5 sec"
     ]
    },
    {
     "name": "stderr",
     "output_type": "stream",
     "text": [
      "Traceback (most recent call last):\n",
      "  File \u001b[35m\"/opt/hostedtoolcache/Python/3.13.7/x64/lib/python3.13/multiprocessing/resource_tracker.py\"\u001b[0m, line \u001b[35m295\u001b[0m, in \u001b[35mmain\u001b[0m\n",
      "    raise ValueError(\n",
      "        f'Cannot register {name} for automatic cleanup: '\n",
      "        f'unknown resource type {rtype}')\n",
      "\u001b[1;35mValueError\u001b[0m: \u001b[35mCannot register /dev/shm/joblib_memmapping_folder_2222_6190dba437ef469290d5c1d2058fed7a_ed154b9aa7a14a4ea5306c3e5c254a63 for automatic cleanup: unknown resource type folder\u001b[0m\n",
      "Traceback (most recent call last):\n",
      "  File \u001b[35m\"/opt/hostedtoolcache/Python/3.13.7/x64/lib/python3.13/multiprocessing/resource_tracker.py\"\u001b[0m, line \u001b[35m295\u001b[0m, in \u001b[35mmain\u001b[0m\n",
      "    raise ValueError(\n",
      "        f'Cannot register {name} for automatic cleanup: '\n",
      "        f'unknown resource type {rtype}')\n",
      "\u001b[1;35mValueError\u001b[0m: \u001b[35mCannot register /dev/shm/joblib_memmapping_folder_2222_1f2cbaaa9b794419acbc4e611470818f_fb616c0ac1e04d7a9a2689d08a48f1b8 for automatic cleanup: unknown resource type folder\u001b[0m\n"
     ]
    },
    {
     "name": "stderr",
     "output_type": "stream",
     "text": [
      "\r",
      "Scraping 22 games on 12/06/24:  20%|█▉        | 36 of 182 days scraped in 266.4 secTraceback (most recent call last):\n"
     ]
    },
    {
     "name": "stderr",
     "output_type": "stream",
     "text": [
      "  File \u001b[35m\"/opt/hostedtoolcache/Python/3.13.7/x64/lib/python3.13/multiprocessing/resource_tracker.py\"\u001b[0m, line \u001b[35m295\u001b[0m, in \u001b[35mmain\u001b[0m\n",
      "    raise ValueError(\n",
      "        f'Cannot register {name} for automatic cleanup: '\n",
      "        f'unknown resource type {rtype}')\n",
      "\u001b[1;35mValueError\u001b[0m: \u001b[35mCannot register /dev/shm/joblib_memmapping_folder_2222_1f2cbaaa9b794419acbc4e611470818f_fb616c0ac1e04d7a9a2689d08a48f1b8 for automatic cleanup: unknown resource type folder\u001b[0m\n"
     ]
    },
    {
     "name": "stderr",
     "output_type": "stream",
     "text": [
      "\r",
      "Scraping 108 games on 12/07/24:  20%|█▉        | 36 of 182 days scraped in 267.4 sec"
     ]
    },
    {
     "name": "stderr",
     "output_type": "stream",
     "text": [
      "Traceback (most recent call last):\n",
      "  File \u001b[35m\"/opt/hostedtoolcache/Python/3.13.7/x64/lib/python3.13/multiprocessing/resource_tracker.py\"\u001b[0m, line \u001b[35m295\u001b[0m, in \u001b[35mmain\u001b[0m\n",
      "    raise ValueError(\n",
      "        f'Cannot register {name} for automatic cleanup: '\n",
      "        f'unknown resource type {rtype}')\n",
      "\u001b[1;35mValueError\u001b[0m: \u001b[35mCannot register /dev/shm/joblib_memmapping_folder_2222_a5474ec6b5c043f0aa818b8e4b6ae884_cdd2fc50e91341c98d03416263724442 for automatic cleanup: unknown resource type folder\u001b[0m\n",
      "Traceback (most recent call last):\n",
      "  File \u001b[35m\"/opt/hostedtoolcache/Python/3.13.7/x64/lib/python3.13/multiprocessing/resource_tracker.py\"\u001b[0m, line \u001b[35m295\u001b[0m, in \u001b[35mmain\u001b[0m\n",
      "    raise ValueError(\n",
      "        f'Cannot register {name} for automatic cleanup: '\n",
      "        f'unknown resource type {rtype}')\n",
      "\u001b[1;35mValueError\u001b[0m: \u001b[35mCannot register /dev/shm/joblib_memmapping_folder_2222_1f2cbaaa9b794419acbc4e611470818f_dde6cbfac98a42e68be4ad00685418be for automatic cleanup: unknown resource type folder\u001b[0m\n"
     ]
    },
    {
     "name": "stderr",
     "output_type": "stream",
     "text": [
      "\r",
      "Scraping 108 games on 12/07/24:  20%|██        | 37 of 182 days scraped in 282.3 secTraceback (most recent call last):\n"
     ]
    },
    {
     "name": "stderr",
     "output_type": "stream",
     "text": [
      "  File \u001b[35m\"/opt/hostedtoolcache/Python/3.13.7/x64/lib/python3.13/multiprocessing/resource_tracker.py\"\u001b[0m, line \u001b[35m295\u001b[0m, in \u001b[35mmain\u001b[0m\n",
      "    raise ValueError(\n",
      "        f'Cannot register {name} for automatic cleanup: '\n",
      "        f'unknown resource type {rtype}')\n",
      "\u001b[1;35mValueError\u001b[0m: \u001b[35mCannot register /dev/shm/joblib_memmapping_folder_2222_1f2cbaaa9b794419acbc4e611470818f_dde6cbfac98a42e68be4ad00685418be for automatic cleanup: unknown resource type folder\u001b[0m\n"
     ]
    },
    {
     "name": "stderr",
     "output_type": "stream",
     "text": [
      "\r",
      "Scraping 39 games on 12/08/24:  20%|██        | 37 of 182 days scraped in 282.9 sec "
     ]
    },
    {
     "name": "stderr",
     "output_type": "stream",
     "text": [
      "Traceback (most recent call last):\n",
      "  File \u001b[35m\"/opt/hostedtoolcache/Python/3.13.7/x64/lib/python3.13/multiprocessing/resource_tracker.py\"\u001b[0m, line \u001b[35m295\u001b[0m, in \u001b[35mmain\u001b[0m\n",
      "    raise ValueError(\n",
      "        f'Cannot register {name} for automatic cleanup: '\n",
      "        f'unknown resource type {rtype}')\n",
      "\u001b[1;35mValueError\u001b[0m: \u001b[35mCannot register /dev/shm/joblib_memmapping_folder_2222_476e3ce36a134687bbe00398f35635ac_69bf2a61e044437d805c0a83d3649777 for automatic cleanup: unknown resource type folder\u001b[0m\n",
      "Traceback (most recent call last):\n",
      "  File \u001b[35m\"/opt/hostedtoolcache/Python/3.13.7/x64/lib/python3.13/multiprocessing/resource_tracker.py\"\u001b[0m, line \u001b[35m295\u001b[0m, in \u001b[35mmain\u001b[0m\n",
      "    raise ValueError(\n",
      "        f'Cannot register {name} for automatic cleanup: '\n",
      "        f'unknown resource type {rtype}')\n",
      "\u001b[1;35mValueError\u001b[0m: \u001b[35mCannot register /dev/shm/joblib_memmapping_folder_2222_1f2cbaaa9b794419acbc4e611470818f_8a731c8a916f480b93e42435350b0d0b for automatic cleanup: unknown resource type folder\u001b[0m\n"
     ]
    },
    {
     "name": "stderr",
     "output_type": "stream",
     "text": [
      "\r",
      "Scraping 39 games on 12/08/24:  21%|██        | 38 of 182 days scraped in 288.2 secTraceback (most recent call last):\n"
     ]
    },
    {
     "name": "stderr",
     "output_type": "stream",
     "text": [
      "  File \u001b[35m\"/opt/hostedtoolcache/Python/3.13.7/x64/lib/python3.13/multiprocessing/resource_tracker.py\"\u001b[0m, line \u001b[35m295\u001b[0m, in \u001b[35mmain\u001b[0m\n",
      "    raise ValueError(\n",
      "        f'Cannot register {name} for automatic cleanup: '\n",
      "        f'unknown resource type {rtype}')\n",
      "\u001b[1;35mValueError\u001b[0m: \u001b[35mCannot register /dev/shm/joblib_memmapping_folder_2222_1f2cbaaa9b794419acbc4e611470818f_8a731c8a916f480b93e42435350b0d0b for automatic cleanup: unknown resource type folder\u001b[0m\n"
     ]
    },
    {
     "name": "stderr",
     "output_type": "stream",
     "text": [
      "\r",
      "Scraping 8 games on 12/09/24:  21%|██        | 38 of 182 days scraped in 288.6 sec "
     ]
    },
    {
     "name": "stderr",
     "output_type": "stream",
     "text": [
      "Traceback (most recent call last):\n",
      "  File \u001b[35m\"/opt/hostedtoolcache/Python/3.13.7/x64/lib/python3.13/multiprocessing/resource_tracker.py\"\u001b[0m, line \u001b[35m295\u001b[0m, in \u001b[35mmain\u001b[0m\n",
      "    raise ValueError(\n",
      "        f'Cannot register {name} for automatic cleanup: '\n",
      "        f'unknown resource type {rtype}')\n",
      "\u001b[1;35mValueError\u001b[0m: \u001b[35mCannot register /dev/shm/joblib_memmapping_folder_2222_ecc5904db86845ec96594ac03e50ee0a_f728c8c0851b4207b727c13c891ddac3 for automatic cleanup: unknown resource type folder\u001b[0m\n",
      "Traceback (most recent call last):\n",
      "  File \u001b[35m\"/opt/hostedtoolcache/Python/3.13.7/x64/lib/python3.13/multiprocessing/resource_tracker.py\"\u001b[0m, line \u001b[35m295\u001b[0m, in \u001b[35mmain\u001b[0m\n",
      "    raise ValueError(\n",
      "        f'Cannot register {name} for automatic cleanup: '\n",
      "        f'unknown resource type {rtype}')\n",
      "\u001b[1;35mValueError\u001b[0m: \u001b[35mCannot register /dev/shm/joblib_memmapping_folder_2222_1f2cbaaa9b794419acbc4e611470818f_12f5811a78ea4a44aed04b034c7acb28 for automatic cleanup: unknown resource type folder\u001b[0m\n"
     ]
    },
    {
     "name": "stderr",
     "output_type": "stream",
     "text": [
      "\r",
      "Scraping 8 games on 12/09/24:  21%|██▏       | 39 of 182 days scraped in 289.6 sec"
     ]
    },
    {
     "name": "stderr",
     "output_type": "stream",
     "text": [
      "Traceback (most recent call last):\n",
      "  File \u001b[35m\"/opt/hostedtoolcache/Python/3.13.7/x64/lib/python3.13/multiprocessing/resource_tracker.py\"\u001b[0m, line \u001b[35m295\u001b[0m, in \u001b[35mmain\u001b[0m\n",
      "    raise ValueError(\n",
      "        f'Cannot register {name} for automatic cleanup: '\n",
      "        f'unknown resource type {rtype}')\n",
      "\u001b[1;35mValueError\u001b[0m: \u001b[35mCannot register /dev/shm/joblib_memmapping_folder_2222_1f2cbaaa9b794419acbc4e611470818f_12f5811a78ea4a44aed04b034c7acb28 for automatic cleanup: unknown resource type folder\u001b[0m\n"
     ]
    },
    {
     "name": "stderr",
     "output_type": "stream",
     "text": [
      "\r",
      "Scraping 37 games on 12/10/24:  21%|██▏       | 39 of 182 days scraped in 290.1 sec"
     ]
    },
    {
     "name": "stderr",
     "output_type": "stream",
     "text": [
      "Traceback (most recent call last):\n",
      "  File \u001b[35m\"/opt/hostedtoolcache/Python/3.13.7/x64/lib/python3.13/multiprocessing/resource_tracker.py\"\u001b[0m, line \u001b[35m295\u001b[0m, in \u001b[35mmain\u001b[0m\n",
      "    raise ValueError(\n",
      "        f'Cannot register {name} for automatic cleanup: '\n",
      "        f'unknown resource type {rtype}')\n",
      "\u001b[1;35mValueError\u001b[0m: \u001b[35mCannot register /dev/shm/joblib_memmapping_folder_2222_99dbe5a2a91641f093d0035e075c75a5_f20bb3955db647c59adee54da3aab275 for automatic cleanup: unknown resource type folder\u001b[0m\n",
      "Traceback (most recent call last):\n",
      "  File \u001b[35m\"/opt/hostedtoolcache/Python/3.13.7/x64/lib/python3.13/multiprocessing/resource_tracker.py\"\u001b[0m, line \u001b[35m295\u001b[0m, in \u001b[35mmain\u001b[0m\n",
      "    raise ValueError(\n",
      "        f'Cannot register {name} for automatic cleanup: '\n",
      "        f'unknown resource type {rtype}')\n",
      "\u001b[1;35mValueError\u001b[0m: \u001b[35mCannot register /dev/shm/joblib_memmapping_folder_2222_1f2cbaaa9b794419acbc4e611470818f_99975a0ea69b41fb865470486b57865b for automatic cleanup: unknown resource type folder\u001b[0m\n"
     ]
    },
    {
     "name": "stderr",
     "output_type": "stream",
     "text": [
      "\r",
      "Scraping 37 games on 12/10/24:  22%|██▏       | 40 of 182 days scraped in 294.9 sec"
     ]
    },
    {
     "name": "stderr",
     "output_type": "stream",
     "text": [
      "Traceback (most recent call last):\n",
      "  File \u001b[35m\"/opt/hostedtoolcache/Python/3.13.7/x64/lib/python3.13/multiprocessing/resource_tracker.py\"\u001b[0m, line \u001b[35m295\u001b[0m, in \u001b[35mmain\u001b[0m\n",
      "    raise ValueError(\n",
      "        f'Cannot register {name} for automatic cleanup: '\n",
      "        f'unknown resource type {rtype}')\n",
      "\u001b[1;35mValueError\u001b[0m: \u001b[35mCannot register /dev/shm/joblib_memmapping_folder_2222_1f2cbaaa9b794419acbc4e611470818f_99975a0ea69b41fb865470486b57865b for automatic cleanup: unknown resource type folder\u001b[0m\n"
     ]
    },
    {
     "name": "stderr",
     "output_type": "stream",
     "text": [
      "\r",
      "Scraping 28 games on 12/11/24:  22%|██▏       | 40 of 182 days scraped in 295.4 sec"
     ]
    },
    {
     "name": "stderr",
     "output_type": "stream",
     "text": [
      "Traceback (most recent call last):\n",
      "  File \u001b[35m\"/opt/hostedtoolcache/Python/3.13.7/x64/lib/python3.13/multiprocessing/resource_tracker.py\"\u001b[0m, line \u001b[35m295\u001b[0m, in \u001b[35mmain\u001b[0m\n",
      "    raise ValueError(\n",
      "        f'Cannot register {name} for automatic cleanup: '\n",
      "        f'unknown resource type {rtype}')\n",
      "\u001b[1;35mValueError\u001b[0m: \u001b[35mCannot register /dev/shm/joblib_memmapping_folder_2222_55b5da99fe7c4c14b7a1d71dc0e7a926_acdbc9eed132460281ed2d4548d7e078 for automatic cleanup: unknown resource type folder\u001b[0m\n",
      "Traceback (most recent call last):\n",
      "  File \u001b[35m\"/opt/hostedtoolcache/Python/3.13.7/x64/lib/python3.13/multiprocessing/resource_tracker.py\"\u001b[0m, line \u001b[35m295\u001b[0m, in \u001b[35mmain\u001b[0m\n",
      "    raise ValueError(\n",
      "        f'Cannot register {name} for automatic cleanup: '\n",
      "        f'unknown resource type {rtype}')\n",
      "\u001b[1;35mValueError\u001b[0m: \u001b[35mCannot register /dev/shm/joblib_memmapping_folder_2222_1f2cbaaa9b794419acbc4e611470818f_efd125c3efdc4918b4c639e410152af6 for automatic cleanup: unknown resource type folder\u001b[0m\n"
     ]
    },
    {
     "name": "stderr",
     "output_type": "stream",
     "text": [
      "\r",
      "Scraping 28 games on 12/11/24:  23%|██▎       | 41 of 182 days scraped in 299.4 secTraceback (most recent call last):\n"
     ]
    },
    {
     "name": "stderr",
     "output_type": "stream",
     "text": [
      "  File \u001b[35m\"/opt/hostedtoolcache/Python/3.13.7/x64/lib/python3.13/multiprocessing/resource_tracker.py\"\u001b[0m, line \u001b[35m295\u001b[0m, in \u001b[35mmain\u001b[0m\n",
      "    raise ValueError(\n",
      "        f'Cannot register {name} for automatic cleanup: '\n",
      "        f'unknown resource type {rtype}')\n",
      "\u001b[1;35mValueError\u001b[0m: \u001b[35mCannot register /dev/shm/joblib_memmapping_folder_2222_1f2cbaaa9b794419acbc4e611470818f_efd125c3efdc4918b4c639e410152af6 for automatic cleanup: unknown resource type folder\u001b[0m\n"
     ]
    },
    {
     "name": "stderr",
     "output_type": "stream",
     "text": [
      "\r",
      "Scraping 10 games on 12/12/24:  23%|██▎       | 41 of 182 days scraped in 300.2 sec"
     ]
    },
    {
     "name": "stderr",
     "output_type": "stream",
     "text": [
      "Traceback (most recent call last):\n",
      "  File \u001b[35m\"/opt/hostedtoolcache/Python/3.13.7/x64/lib/python3.13/multiprocessing/resource_tracker.py\"\u001b[0m, line \u001b[35m295\u001b[0m, in \u001b[35mmain\u001b[0m\n",
      "    raise ValueError(\n",
      "        f'Cannot register {name} for automatic cleanup: '\n",
      "        f'unknown resource type {rtype}')\n",
      "\u001b[1;35mValueError\u001b[0m: \u001b[35mCannot register /dev/shm/joblib_memmapping_folder_2222_6977db5f8bab4082875e48ee557f8a1f_c3d510f5bef54590a41e98907b2dca1a for automatic cleanup: unknown resource type folder\u001b[0m\n",
      "Traceback (most recent call last):\n",
      "  File \u001b[35m\"/opt/hostedtoolcache/Python/3.13.7/x64/lib/python3.13/multiprocessing/resource_tracker.py\"\u001b[0m, line \u001b[35m295\u001b[0m, in \u001b[35mmain\u001b[0m\n",
      "    raise ValueError(\n",
      "        f'Cannot register {name} for automatic cleanup: '\n",
      "        f'unknown resource type {rtype}')\n",
      "\u001b[1;35mValueError\u001b[0m: \u001b[35mCannot register /dev/shm/joblib_memmapping_folder_2222_1f2cbaaa9b794419acbc4e611470818f_e9d1537b2a9f4be8bf028e97e540c7ff for automatic cleanup: unknown resource type folder\u001b[0m\n"
     ]
    },
    {
     "name": "stderr",
     "output_type": "stream",
     "text": [
      "\r",
      "Scraping 10 games on 12/12/24:  23%|██▎       | 42 of 182 days scraped in 301.7 secTraceback (most recent call last):\n"
     ]
    },
    {
     "name": "stderr",
     "output_type": "stream",
     "text": [
      "  File \u001b[35m\"/opt/hostedtoolcache/Python/3.13.7/x64/lib/python3.13/multiprocessing/resource_tracker.py\"\u001b[0m, line \u001b[35m295\u001b[0m, in \u001b[35mmain\u001b[0m\n",
      "    raise ValueError(\n",
      "        f'Cannot register {name} for automatic cleanup: '\n",
      "        f'unknown resource type {rtype}')\n",
      "\u001b[1;35mValueError\u001b[0m: \u001b[35mCannot register /dev/shm/joblib_memmapping_folder_2222_1f2cbaaa9b794419acbc4e611470818f_e9d1537b2a9f4be8bf028e97e540c7ff for automatic cleanup: unknown resource type folder\u001b[0m\n"
     ]
    },
    {
     "name": "stderr",
     "output_type": "stream",
     "text": [
      "\r",
      "Scraping 10 games on 12/13/24:  23%|██▎       | 42 of 182 days scraped in 302.1 sec"
     ]
    },
    {
     "name": "stderr",
     "output_type": "stream",
     "text": [
      "Traceback (most recent call last):\n",
      "  File \u001b[35m\"/opt/hostedtoolcache/Python/3.13.7/x64/lib/python3.13/multiprocessing/resource_tracker.py\"\u001b[0m, line \u001b[35m295\u001b[0m, in \u001b[35mmain\u001b[0m\n",
      "    raise ValueError(\n",
      "        f'Cannot register {name} for automatic cleanup: '\n",
      "        f'unknown resource type {rtype}')\n",
      "\u001b[1;35mValueError\u001b[0m: \u001b[35mCannot register /dev/shm/joblib_memmapping_folder_2222_56ec91a06e154be388cb18bd0a48b9cb_cd51308d654246fa8350bf2c7775f936 for automatic cleanup: unknown resource type folder\u001b[0m\n",
      "Traceback (most recent call last):\n",
      "  File \u001b[35m\"/opt/hostedtoolcache/Python/3.13.7/x64/lib/python3.13/multiprocessing/resource_tracker.py\"\u001b[0m, line \u001b[35m295\u001b[0m, in \u001b[35mmain\u001b[0m\n",
      "    raise ValueError(\n",
      "        f'Cannot register {name} for automatic cleanup: '\n",
      "        f'unknown resource type {rtype}')\n",
      "\u001b[1;35mValueError\u001b[0m: \u001b[35mCannot register /dev/shm/joblib_memmapping_folder_2222_1f2cbaaa9b794419acbc4e611470818f_946648d91be84c12a00e2d8b0dc86311 for automatic cleanup: unknown resource type folder\u001b[0m\n"
     ]
    },
    {
     "name": "stderr",
     "output_type": "stream",
     "text": [
      "\r",
      "Scraping 10 games on 12/13/24:  24%|██▎       | 43 of 182 days scraped in 303.7 secTraceback (most recent call last):\n"
     ]
    },
    {
     "name": "stderr",
     "output_type": "stream",
     "text": [
      "  File \u001b[35m\"/opt/hostedtoolcache/Python/3.13.7/x64/lib/python3.13/multiprocessing/resource_tracker.py\"\u001b[0m, line \u001b[35m295\u001b[0m, in \u001b[35mmain\u001b[0m\n",
      "    raise ValueError(\n",
      "        f'Cannot register {name} for automatic cleanup: '\n",
      "        f'unknown resource type {rtype}')\n",
      "\u001b[1;35mValueError\u001b[0m: \u001b[35mCannot register /dev/shm/joblib_memmapping_folder_2222_1f2cbaaa9b794419acbc4e611470818f_946648d91be84c12a00e2d8b0dc86311 for automatic cleanup: unknown resource type folder\u001b[0m\n"
     ]
    },
    {
     "name": "stderr",
     "output_type": "stream",
     "text": [
      "\r",
      "Scraping 97 games on 12/14/24:  24%|██▎       | 43 of 182 days scraped in 304.6 sec"
     ]
    },
    {
     "name": "stderr",
     "output_type": "stream",
     "text": [
      "Traceback (most recent call last):\n",
      "  File \u001b[35m\"/opt/hostedtoolcache/Python/3.13.7/x64/lib/python3.13/multiprocessing/resource_tracker.py\"\u001b[0m, line \u001b[35m295\u001b[0m, in \u001b[35mmain\u001b[0m\n",
      "    raise ValueError(\n",
      "        f'Cannot register {name} for automatic cleanup: '\n",
      "        f'unknown resource type {rtype}')\n",
      "\u001b[1;35mValueError\u001b[0m: \u001b[35mCannot register /dev/shm/joblib_memmapping_folder_2222_433bf4527a444bd084519d9c53f178f9_1a76c24ae4964291b08c3c78de48133c for automatic cleanup: unknown resource type folder\u001b[0m\n",
      "Traceback (most recent call last):\n",
      "  File \u001b[35m\"/opt/hostedtoolcache/Python/3.13.7/x64/lib/python3.13/multiprocessing/resource_tracker.py\"\u001b[0m, line \u001b[35m295\u001b[0m, in \u001b[35mmain\u001b[0m\n",
      "    raise ValueError(\n",
      "        f'Cannot register {name} for automatic cleanup: '\n",
      "        f'unknown resource type {rtype}')\n",
      "\u001b[1;35mValueError\u001b[0m: \u001b[35mCannot register /dev/shm/joblib_memmapping_folder_2222_1f2cbaaa9b794419acbc4e611470818f_8b4231fb4a4347f2abe76f49f5384771 for automatic cleanup: unknown resource type folder\u001b[0m\n"
     ]
    },
    {
     "name": "stderr",
     "output_type": "stream",
     "text": [
      "\r",
      "Scraping 97 games on 12/14/24:  24%|██▍       | 44 of 182 days scraped in 318.2 secTraceback (most recent call last):\n"
     ]
    },
    {
     "name": "stderr",
     "output_type": "stream",
     "text": [
      "  File \u001b[35m\"/opt/hostedtoolcache/Python/3.13.7/x64/lib/python3.13/multiprocessing/resource_tracker.py\"\u001b[0m, line \u001b[35m295\u001b[0m, in \u001b[35mmain\u001b[0m\n",
      "    raise ValueError(\n",
      "        f'Cannot register {name} for automatic cleanup: '\n",
      "        f'unknown resource type {rtype}')\n",
      "\u001b[1;35mValueError\u001b[0m: \u001b[35mCannot register /dev/shm/joblib_memmapping_folder_2222_1f2cbaaa9b794419acbc4e611470818f_8b4231fb4a4347f2abe76f49f5384771 for automatic cleanup: unknown resource type folder\u001b[0m\n"
     ]
    },
    {
     "name": "stderr",
     "output_type": "stream",
     "text": [
      "\r",
      "Scraping 40 games on 12/15/24:  24%|██▍       | 44 of 182 days scraped in 318.8 sec"
     ]
    },
    {
     "name": "stderr",
     "output_type": "stream",
     "text": [
      "Traceback (most recent call last):\n",
      "  File \u001b[35m\"/opt/hostedtoolcache/Python/3.13.7/x64/lib/python3.13/multiprocessing/resource_tracker.py\"\u001b[0m, line \u001b[35m295\u001b[0m, in \u001b[35mmain\u001b[0m\n",
      "    raise ValueError(\n",
      "        f'Cannot register {name} for automatic cleanup: '\n",
      "        f'unknown resource type {rtype}')\n",
      "\u001b[1;35mValueError\u001b[0m: \u001b[35mCannot register /dev/shm/joblib_memmapping_folder_2222_e6483b7fc25148e58d13073fd2c04e29_43d8b3a27ae645e38ae97896b2cccb9c for automatic cleanup: unknown resource type folder\u001b[0m\n",
      "Traceback (most recent call last):\n",
      "  File \u001b[35m\"/opt/hostedtoolcache/Python/3.13.7/x64/lib/python3.13/multiprocessing/resource_tracker.py\"\u001b[0m, line \u001b[35m295\u001b[0m, in \u001b[35mmain\u001b[0m\n",
      "    raise ValueError(\n",
      "        f'Cannot register {name} for automatic cleanup: '\n",
      "        f'unknown resource type {rtype}')\n",
      "\u001b[1;35mValueError\u001b[0m: \u001b[35mCannot register /dev/shm/joblib_memmapping_folder_2222_1f2cbaaa9b794419acbc4e611470818f_9642b0c140004539988d84e8ce44a0f5 for automatic cleanup: unknown resource type folder\u001b[0m\n"
     ]
    },
    {
     "name": "stderr",
     "output_type": "stream",
     "text": [
      "\r",
      "Scraping 40 games on 12/15/24:  25%|██▍       | 45 of 182 days scraped in 324.4 secTraceback (most recent call last):\n"
     ]
    },
    {
     "name": "stderr",
     "output_type": "stream",
     "text": [
      "  File \u001b[35m\"/opt/hostedtoolcache/Python/3.13.7/x64/lib/python3.13/multiprocessing/resource_tracker.py\"\u001b[0m, line \u001b[35m295\u001b[0m, in \u001b[35mmain\u001b[0m\n",
      "    raise ValueError(\n",
      "        f'Cannot register {name} for automatic cleanup: '\n",
      "        f'unknown resource type {rtype}')\n",
      "\u001b[1;35mValueError\u001b[0m: \u001b[35mCannot register /dev/shm/joblib_memmapping_folder_2222_1f2cbaaa9b794419acbc4e611470818f_9642b0c140004539988d84e8ce44a0f5 for automatic cleanup: unknown resource type folder\u001b[0m\n"
     ]
    },
    {
     "name": "stderr",
     "output_type": "stream",
     "text": [
      "\r",
      "Scraping 18 games on 12/16/24:  25%|██▍       | 45 of 182 days scraped in 324.9 sec"
     ]
    },
    {
     "name": "stderr",
     "output_type": "stream",
     "text": [
      "Traceback (most recent call last):\n",
      "  File \u001b[35m\"/opt/hostedtoolcache/Python/3.13.7/x64/lib/python3.13/multiprocessing/resource_tracker.py\"\u001b[0m, line \u001b[35m295\u001b[0m, in \u001b[35mmain\u001b[0m\n",
      "    raise ValueError(\n",
      "        f'Cannot register {name} for automatic cleanup: '\n",
      "        f'unknown resource type {rtype}')\n",
      "\u001b[1;35mValueError\u001b[0m: \u001b[35mCannot register /dev/shm/joblib_memmapping_folder_2222_df78c5586fd84dceb72758015324fca6_20c62d456fac4662adb3b1d1ea75816b for automatic cleanup: unknown resource type folder\u001b[0m\n",
      "Traceback (most recent call last):\n",
      "  File \u001b[35m\"/opt/hostedtoolcache/Python/3.13.7/x64/lib/python3.13/multiprocessing/resource_tracker.py\"\u001b[0m, line \u001b[35m295\u001b[0m, in \u001b[35mmain\u001b[0m\n",
      "    raise ValueError(\n",
      "        f'Cannot register {name} for automatic cleanup: '\n",
      "        f'unknown resource type {rtype}')\n",
      "\u001b[1;35mValueError\u001b[0m: \u001b[35mCannot register /dev/shm/joblib_memmapping_folder_2222_1f2cbaaa9b794419acbc4e611470818f_78c490ac651f4c8187992a10c9c44dd5 for automatic cleanup: unknown resource type folder\u001b[0m\n"
     ]
    },
    {
     "name": "stderr",
     "output_type": "stream",
     "text": [
      "\r",
      "Scraping 18 games on 12/16/24:  25%|██▌       | 46 of 182 days scraped in 327.9 sec"
     ]
    },
    {
     "name": "stderr",
     "output_type": "stream",
     "text": [
      "Traceback (most recent call last):\n",
      "  File \u001b[35m\"/opt/hostedtoolcache/Python/3.13.7/x64/lib/python3.13/multiprocessing/resource_tracker.py\"\u001b[0m, line \u001b[35m295\u001b[0m, in \u001b[35mmain\u001b[0m\n",
      "    raise ValueError(\n",
      "        f'Cannot register {name} for automatic cleanup: '\n",
      "        f'unknown resource type {rtype}')\n",
      "\u001b[1;35mValueError\u001b[0m: \u001b[35mCannot register /dev/shm/joblib_memmapping_folder_2222_1f2cbaaa9b794419acbc4e611470818f_78c490ac651f4c8187992a10c9c44dd5 for automatic cleanup: unknown resource type folder\u001b[0m\n"
     ]
    },
    {
     "name": "stderr",
     "output_type": "stream",
     "text": [
      "\r",
      "Scraping 48 games on 12/17/24:  25%|██▌       | 46 of 182 days scraped in 328.7 sec"
     ]
    },
    {
     "name": "stderr",
     "output_type": "stream",
     "text": [
      "Traceback (most recent call last):\n",
      "  File \u001b[35m\"/opt/hostedtoolcache/Python/3.13.7/x64/lib/python3.13/multiprocessing/resource_tracker.py\"\u001b[0m, line \u001b[35m295\u001b[0m, in \u001b[35mmain\u001b[0m\n",
      "    raise ValueError(\n",
      "        f'Cannot register {name} for automatic cleanup: '\n",
      "        f'unknown resource type {rtype}')\n",
      "\u001b[1;35mValueError\u001b[0m: \u001b[35mCannot register /dev/shm/joblib_memmapping_folder_2222_ff81b4b0db504d539b6b0f1fba158726_5bc3e3a96b03481792599238f2682b0f for automatic cleanup: unknown resource type folder\u001b[0m\n",
      "Traceback (most recent call last):\n",
      "  File \u001b[35m\"/opt/hostedtoolcache/Python/3.13.7/x64/lib/python3.13/multiprocessing/resource_tracker.py\"\u001b[0m, line \u001b[35m295\u001b[0m, in \u001b[35mmain\u001b[0m\n",
      "    raise ValueError(\n",
      "        f'Cannot register {name} for automatic cleanup: '\n",
      "        f'unknown resource type {rtype}')\n",
      "\u001b[1;35mValueError\u001b[0m: \u001b[35mCannot register /dev/shm/joblib_memmapping_folder_2222_1f2cbaaa9b794419acbc4e611470818f_6456471353b14ca586046ca7ae6bd607 for automatic cleanup: unknown resource type folder\u001b[0m\n"
     ]
    },
    {
     "name": "stderr",
     "output_type": "stream",
     "text": [
      "\r",
      "Scraping 48 games on 12/17/24:  26%|██▌       | 47 of 182 days scraped in 335.1 sec"
     ]
    },
    {
     "name": "stderr",
     "output_type": "stream",
     "text": [
      "Traceback (most recent call last):\n",
      "  File \u001b[35m\"/opt/hostedtoolcache/Python/3.13.7/x64/lib/python3.13/multiprocessing/resource_tracker.py\"\u001b[0m, line \u001b[35m295\u001b[0m, in \u001b[35mmain\u001b[0m\n",
      "    raise ValueError(\n",
      "        f'Cannot register {name} for automatic cleanup: '\n",
      "        f'unknown resource type {rtype}')\n",
      "\u001b[1;35mValueError\u001b[0m: \u001b[35mCannot register /dev/shm/joblib_memmapping_folder_2222_1f2cbaaa9b794419acbc4e611470818f_6456471353b14ca586046ca7ae6bd607 for automatic cleanup: unknown resource type folder\u001b[0m\n"
     ]
    },
    {
     "name": "stderr",
     "output_type": "stream",
     "text": [
      "\r",
      "Scraping 64 games on 12/18/24:  26%|██▌       | 47 of 182 days scraped in 335.8 sec"
     ]
    },
    {
     "name": "stderr",
     "output_type": "stream",
     "text": [
      "Traceback (most recent call last):\n",
      "  File \u001b[35m\"/opt/hostedtoolcache/Python/3.13.7/x64/lib/python3.13/multiprocessing/resource_tracker.py\"\u001b[0m, line \u001b[35m295\u001b[0m, in \u001b[35mmain\u001b[0m\n",
      "    raise ValueError(\n",
      "        f'Cannot register {name} for automatic cleanup: '\n",
      "        f'unknown resource type {rtype}')\n",
      "\u001b[1;35mValueError\u001b[0m: \u001b[35mCannot register /dev/shm/joblib_memmapping_folder_2222_c3a588ac1b2e48aabbf62db4d3a524df_ee9fb325f913494e981a651ed490b9e4 for automatic cleanup: unknown resource type folder\u001b[0m\n",
      "Traceback (most recent call last):\n",
      "  File \u001b[35m\"/opt/hostedtoolcache/Python/3.13.7/x64/lib/python3.13/multiprocessing/resource_tracker.py\"\u001b[0m, line \u001b[35m295\u001b[0m, in \u001b[35mmain\u001b[0m\n",
      "    raise ValueError(\n",
      "        f'Cannot register {name} for automatic cleanup: '\n",
      "        f'unknown resource type {rtype}')\n",
      "\u001b[1;35mValueError\u001b[0m: \u001b[35mCannot register /dev/shm/joblib_memmapping_folder_2222_1f2cbaaa9b794419acbc4e611470818f_b7db68655a714e249a40087d166b91c9 for automatic cleanup: unknown resource type folder\u001b[0m\n"
     ]
    },
    {
     "name": "stderr",
     "output_type": "stream",
     "text": [
      "\r",
      "Scraping 64 games on 12/18/24:  26%|██▋       | 48 of 182 days scraped in 344.6 secTraceback (most recent call last):\n"
     ]
    },
    {
     "name": "stderr",
     "output_type": "stream",
     "text": [
      "  File \u001b[35m\"/opt/hostedtoolcache/Python/3.13.7/x64/lib/python3.13/multiprocessing/resource_tracker.py\"\u001b[0m, line \u001b[35m295\u001b[0m, in \u001b[35mmain\u001b[0m\n",
      "    raise ValueError(\n",
      "        f'Cannot register {name} for automatic cleanup: '\n",
      "        f'unknown resource type {rtype}')\n",
      "\u001b[1;35mValueError\u001b[0m: \u001b[35mCannot register /dev/shm/joblib_memmapping_folder_2222_1f2cbaaa9b794419acbc4e611470818f_b7db68655a714e249a40087d166b91c9 for automatic cleanup: unknown resource type folder\u001b[0m\n"
     ]
    },
    {
     "name": "stderr",
     "output_type": "stream",
     "text": [
      "\r",
      "Scraping 26 games on 12/19/24:  26%|██▋       | 48 of 182 days scraped in 345.1 sec"
     ]
    },
    {
     "name": "stderr",
     "output_type": "stream",
     "text": [
      "Traceback (most recent call last):\n",
      "  File \u001b[35m\"/opt/hostedtoolcache/Python/3.13.7/x64/lib/python3.13/multiprocessing/resource_tracker.py\"\u001b[0m, line \u001b[35m295\u001b[0m, in \u001b[35mmain\u001b[0m\n",
      "    raise ValueError(\n",
      "        f'Cannot register {name} for automatic cleanup: '\n",
      "        f'unknown resource type {rtype}')\n",
      "\u001b[1;35mValueError\u001b[0m: \u001b[35mCannot register /dev/shm/joblib_memmapping_folder_2222_d88c61e9fd544663ae2b84d7b0ae3c12_8890568abedb4cda877164dc84f3e1cb for automatic cleanup: unknown resource type folder\u001b[0m\n",
      "Traceback (most recent call last):\n",
      "  File \u001b[35m\"/opt/hostedtoolcache/Python/3.13.7/x64/lib/python3.13/multiprocessing/resource_tracker.py\"\u001b[0m, line \u001b[35m295\u001b[0m, in \u001b[35mmain\u001b[0m\n",
      "    raise ValueError(\n",
      "        f'Cannot register {name} for automatic cleanup: '\n",
      "        f'unknown resource type {rtype}')\n",
      "\u001b[1;35mValueError\u001b[0m: \u001b[35mCannot register /dev/shm/joblib_memmapping_folder_2222_1f2cbaaa9b794419acbc4e611470818f_a09931f8336d4e4bb8e029dd30242ce2 for automatic cleanup: unknown resource type folder\u001b[0m\n"
     ]
    },
    {
     "name": "stderr",
     "output_type": "stream",
     "text": [
      "\r",
      "Scraping 26 games on 12/19/24:  27%|██▋       | 49 of 182 days scraped in 348.4 sec"
     ]
    },
    {
     "name": "stderr",
     "output_type": "stream",
     "text": [
      "Traceback (most recent call last):\n",
      "  File \u001b[35m\"/opt/hostedtoolcache/Python/3.13.7/x64/lib/python3.13/multiprocessing/resource_tracker.py\"\u001b[0m, line \u001b[35m295\u001b[0m, in \u001b[35mmain\u001b[0m\n",
      "    raise ValueError(\n",
      "        f'Cannot register {name} for automatic cleanup: '\n",
      "        f'unknown resource type {rtype}')\n",
      "\u001b[1;35mValueError\u001b[0m: \u001b[35mCannot register /dev/shm/joblib_memmapping_folder_2222_1f2cbaaa9b794419acbc4e611470818f_a09931f8336d4e4bb8e029dd30242ce2 for automatic cleanup: unknown resource type folder\u001b[0m\n"
     ]
    },
    {
     "name": "stderr",
     "output_type": "stream",
     "text": [
      "\r",
      "Scraping 23 games on 12/20/24:  27%|██▋       | 49 of 182 days scraped in 348.8 sec"
     ]
    },
    {
     "name": "stderr",
     "output_type": "stream",
     "text": [
      "Traceback (most recent call last):\n",
      "  File \u001b[35m\"/opt/hostedtoolcache/Python/3.13.7/x64/lib/python3.13/multiprocessing/resource_tracker.py\"\u001b[0m, line \u001b[35m295\u001b[0m, in \u001b[35mmain\u001b[0m\n",
      "    raise ValueError(\n",
      "        f'Cannot register {name} for automatic cleanup: '\n",
      "        f'unknown resource type {rtype}')\n",
      "\u001b[1;35mValueError\u001b[0m: \u001b[35mCannot register /dev/shm/joblib_memmapping_folder_2222_6b2d3610062c46d883bd251dadabbfee_67bfde52886d4c0d8b3cc072f3a6e21b for automatic cleanup: unknown resource type folder\u001b[0m\n",
      "Traceback (most recent call last):\n",
      "  File \u001b[35m\"/opt/hostedtoolcache/Python/3.13.7/x64/lib/python3.13/multiprocessing/resource_tracker.py\"\u001b[0m, line \u001b[35m295\u001b[0m, in \u001b[35mmain\u001b[0m\n",
      "    raise ValueError(\n",
      "        f'Cannot register {name} for automatic cleanup: '\n",
      "        f'unknown resource type {rtype}')\n",
      "\u001b[1;35mValueError\u001b[0m: \u001b[35mCannot register /dev/shm/joblib_memmapping_folder_2222_1f2cbaaa9b794419acbc4e611470818f_275277d41f654c2aa7447cd65f704474 for automatic cleanup: unknown resource type folder\u001b[0m\n"
     ]
    },
    {
     "name": "stderr",
     "output_type": "stream",
     "text": [
      "\r",
      "Scraping 23 games on 12/20/24:  27%|██▋       | 50 of 182 days scraped in 352.1 sec"
     ]
    },
    {
     "name": "stderr",
     "output_type": "stream",
     "text": [
      "Traceback (most recent call last):\n",
      "  File \u001b[35m\"/opt/hostedtoolcache/Python/3.13.7/x64/lib/python3.13/multiprocessing/resource_tracker.py\"\u001b[0m, line \u001b[35m295\u001b[0m, in \u001b[35mmain\u001b[0m\n",
      "    raise ValueError(\n",
      "        f'Cannot register {name} for automatic cleanup: '\n",
      "        f'unknown resource type {rtype}')\n",
      "\u001b[1;35mValueError\u001b[0m: \u001b[35mCannot register /dev/shm/joblib_memmapping_folder_2222_1f2cbaaa9b794419acbc4e611470818f_275277d41f654c2aa7447cd65f704474 for automatic cleanup: unknown resource type folder\u001b[0m\n"
     ]
    },
    {
     "name": "stderr",
     "output_type": "stream",
     "text": [
      "\r",
      "Scraping 114 games on 12/21/24:  27%|██▋       | 50 of 182 days scraped in 353.2 sec"
     ]
    },
    {
     "name": "stderr",
     "output_type": "stream",
     "text": [
      "Traceback (most recent call last):\n",
      "  File \u001b[35m\"/opt/hostedtoolcache/Python/3.13.7/x64/lib/python3.13/multiprocessing/resource_tracker.py\"\u001b[0m, line \u001b[35m295\u001b[0m, in \u001b[35mmain\u001b[0m\n",
      "    raise ValueError(\n",
      "        f'Cannot register {name} for automatic cleanup: '\n",
      "        f'unknown resource type {rtype}')\n",
      "\u001b[1;35mValueError\u001b[0m: \u001b[35mCannot register /dev/shm/joblib_memmapping_folder_2222_131ddd5a89cd4472abe525ce18607b4a_36573b49389d45b2b77d32f5171fdf58 for automatic cleanup: unknown resource type folder\u001b[0m\n",
      "Traceback (most recent call last):\n",
      "  File \u001b[35m\"/opt/hostedtoolcache/Python/3.13.7/x64/lib/python3.13/multiprocessing/resource_tracker.py\"\u001b[0m, line \u001b[35m295\u001b[0m, in \u001b[35mmain\u001b[0m\n",
      "    raise ValueError(\n",
      "        f'Cannot register {name} for automatic cleanup: '\n",
      "        f'unknown resource type {rtype}')\n",
      "\u001b[1;35mValueError\u001b[0m: \u001b[35mCannot register /dev/shm/joblib_memmapping_folder_2222_1f2cbaaa9b794419acbc4e611470818f_3cc3c46ac925434abf5482c65a2ed1f1 for automatic cleanup: unknown resource type folder\u001b[0m\n"
     ]
    },
    {
     "name": "stderr",
     "output_type": "stream",
     "text": [
      "\r",
      "Scraping 114 games on 12/21/24:  28%|██▊       | 51 of 182 days scraped in 368.4 sec"
     ]
    },
    {
     "name": "stderr",
     "output_type": "stream",
     "text": [
      "Traceback (most recent call last):\n",
      "  File \u001b[35m\"/opt/hostedtoolcache/Python/3.13.7/x64/lib/python3.13/multiprocessing/resource_tracker.py\"\u001b[0m, line \u001b[35m295\u001b[0m, in \u001b[35mmain\u001b[0m\n",
      "    raise ValueError(\n",
      "        f'Cannot register {name} for automatic cleanup: '\n",
      "        f'unknown resource type {rtype}')\n",
      "\u001b[1;35mValueError\u001b[0m: \u001b[35mCannot register /dev/shm/joblib_memmapping_folder_2222_1f2cbaaa9b794419acbc4e611470818f_3cc3c46ac925434abf5482c65a2ed1f1 for automatic cleanup: unknown resource type folder\u001b[0m\n"
     ]
    },
    {
     "name": "stderr",
     "output_type": "stream",
     "text": [
      "\r",
      "Scraping 48 games on 12/22/24:  28%|██▊       | 51 of 182 days scraped in 369.0 sec "
     ]
    },
    {
     "name": "stderr",
     "output_type": "stream",
     "text": [
      "Traceback (most recent call last):\n",
      "  File \u001b[35m\"/opt/hostedtoolcache/Python/3.13.7/x64/lib/python3.13/multiprocessing/resource_tracker.py\"\u001b[0m, line \u001b[35m295\u001b[0m, in \u001b[35mmain\u001b[0m\n",
      "    raise ValueError(\n",
      "        f'Cannot register {name} for automatic cleanup: '\n",
      "        f'unknown resource type {rtype}')\n",
      "\u001b[1;35mValueError\u001b[0m: \u001b[35mCannot register /dev/shm/joblib_memmapping_folder_2222_14efd1ee1c19454187a013e90875cc3b_488dca78ebc549ea99736d431a7108e9 for automatic cleanup: unknown resource type folder\u001b[0m\n",
      "Traceback (most recent call last):\n",
      "  File \u001b[35m\"/opt/hostedtoolcache/Python/3.13.7/x64/lib/python3.13/multiprocessing/resource_tracker.py\"\u001b[0m, line \u001b[35m295\u001b[0m, in \u001b[35mmain\u001b[0m\n",
      "    raise ValueError(\n",
      "        f'Cannot register {name} for automatic cleanup: '\n",
      "        f'unknown resource type {rtype}')\n",
      "\u001b[1;35mValueError\u001b[0m: \u001b[35mCannot register /dev/shm/joblib_memmapping_folder_2222_1f2cbaaa9b794419acbc4e611470818f_1ae1696a8a50496e99d457a13639fa06 for automatic cleanup: unknown resource type folder\u001b[0m\n"
     ]
    },
    {
     "name": "stderr",
     "output_type": "stream",
     "text": [
      "\r",
      "Scraping 48 games on 12/22/24:  29%|██▊       | 52 of 182 days scraped in 375.0 sec"
     ]
    },
    {
     "name": "stderr",
     "output_type": "stream",
     "text": [
      "Traceback (most recent call last):\n",
      "  File \u001b[35m\"/opt/hostedtoolcache/Python/3.13.7/x64/lib/python3.13/multiprocessing/resource_tracker.py\"\u001b[0m, line \u001b[35m295\u001b[0m, in \u001b[35mmain\u001b[0m\n",
      "    raise ValueError(\n",
      "        f'Cannot register {name} for automatic cleanup: '\n",
      "        f'unknown resource type {rtype}')\n",
      "\u001b[1;35mValueError\u001b[0m: \u001b[35mCannot register /dev/shm/joblib_memmapping_folder_2222_1f2cbaaa9b794419acbc4e611470818f_1ae1696a8a50496e99d457a13639fa06 for automatic cleanup: unknown resource type folder\u001b[0m\n"
     ]
    },
    {
     "name": "stderr",
     "output_type": "stream",
     "text": [
      "\r",
      "Scraping 9 games on 12/23/24:  29%|██▊       | 52 of 182 days scraped in 375.3 sec "
     ]
    },
    {
     "name": "stderr",
     "output_type": "stream",
     "text": [
      "Traceback (most recent call last):\n",
      "  File \u001b[35m\"/opt/hostedtoolcache/Python/3.13.7/x64/lib/python3.13/multiprocessing/resource_tracker.py\"\u001b[0m, line \u001b[35m295\u001b[0m, in \u001b[35mmain\u001b[0m\n",
      "    raise ValueError(\n",
      "        f'Cannot register {name} for automatic cleanup: '\n",
      "        f'unknown resource type {rtype}')\n",
      "\u001b[1;35mValueError\u001b[0m: \u001b[35mCannot register /dev/shm/joblib_memmapping_folder_2222_e63024525b7f46e39aab20996749a5bd_2cf0bd3dc44d4e6e91a9af4fee90bc97 for automatic cleanup: unknown resource type folder\u001b[0m\n",
      "Traceback (most recent call last):\n",
      "  File \u001b[35m\"/opt/hostedtoolcache/Python/3.13.7/x64/lib/python3.13/multiprocessing/resource_tracker.py\"\u001b[0m, line \u001b[35m295\u001b[0m, in \u001b[35mmain\u001b[0m\n",
      "    raise ValueError(\n",
      "        f'Cannot register {name} for automatic cleanup: '\n",
      "        f'unknown resource type {rtype}')\n",
      "\u001b[1;35mValueError\u001b[0m: \u001b[35mCannot register /dev/shm/joblib_memmapping_folder_2222_1f2cbaaa9b794419acbc4e611470818f_debff3c2223547b680ba89b51e9b72d4 for automatic cleanup: unknown resource type folder\u001b[0m\n"
     ]
    },
    {
     "name": "stderr",
     "output_type": "stream",
     "text": [
      "\r",
      "Scraping 9 games on 12/23/24:  29%|██▉       | 53 of 182 days scraped in 376.8 secTraceback (most recent call last):\n"
     ]
    },
    {
     "name": "stderr",
     "output_type": "stream",
     "text": [
      "  File \u001b[35m\"/opt/hostedtoolcache/Python/3.13.7/x64/lib/python3.13/multiprocessing/resource_tracker.py\"\u001b[0m, line \u001b[35m295\u001b[0m, in \u001b[35mmain\u001b[0m\n",
      "    raise ValueError(\n",
      "        f'Cannot register {name} for automatic cleanup: '\n",
      "        f'unknown resource type {rtype}')\n",
      "\u001b[1;35mValueError\u001b[0m: \u001b[35mCannot register /dev/shm/joblib_memmapping_folder_2222_1f2cbaaa9b794419acbc4e611470818f_debff3c2223547b680ba89b51e9b72d4 for automatic cleanup: unknown resource type folder\u001b[0m\n"
     ]
    },
    {
     "name": "stderr",
     "output_type": "stream",
     "text": [
      "\r",
      "Scraping 0 games on 12/24/24:  29%|██▉       | 53 of 182 days scraped in 377.1 sec"
     ]
    },
    {
     "name": "stderr",
     "output_type": "stream",
     "text": [
      "\r",
      "No games on 12/24/24:  30%|██▉       | 54 of 182 days scraped in 377.1 sec        "
     ]
    },
    {
     "name": "stderr",
     "output_type": "stream",
     "text": [
      "\r",
      "Scraping 4 games on 12/25/24:  30%|██▉       | 54 of 182 days scraped in 377.4 sec"
     ]
    },
    {
     "name": "stderr",
     "output_type": "stream",
     "text": [
      "Traceback (most recent call last):\n",
      "  File \u001b[35m\"/opt/hostedtoolcache/Python/3.13.7/x64/lib/python3.13/multiprocessing/resource_tracker.py\"\u001b[0m, line \u001b[35m295\u001b[0m, in \u001b[35mmain\u001b[0m\n",
      "    raise ValueError(\n",
      "        f'Cannot register {name} for automatic cleanup: '\n",
      "        f'unknown resource type {rtype}')\n",
      "\u001b[1;35mValueError\u001b[0m: \u001b[35mCannot register /dev/shm/joblib_memmapping_folder_2222_7a104c8a1bdc47ab98adfb3774618712_11ba40a12deb4982b8bc4e88196b6cdf for automatic cleanup: unknown resource type folder\u001b[0m\n",
      "Traceback (most recent call last):\n",
      "  File \u001b[35m\"/opt/hostedtoolcache/Python/3.13.7/x64/lib/python3.13/multiprocessing/resource_tracker.py\"\u001b[0m, line \u001b[35m295\u001b[0m, in \u001b[35mmain\u001b[0m\n",
      "    raise ValueError(\n",
      "        f'Cannot register {name} for automatic cleanup: '\n",
      "        f'unknown resource type {rtype}')\n",
      "\u001b[1;35mValueError\u001b[0m: \u001b[35mCannot register /dev/shm/joblib_memmapping_folder_2222_1f2cbaaa9b794419acbc4e611470818f_e25b17e7a03a421ab27ad4522f196093 for automatic cleanup: unknown resource type folder\u001b[0m\n"
     ]
    },
    {
     "name": "stderr",
     "output_type": "stream",
     "text": [
      "\r",
      "Scraping 4 games on 12/25/24:  30%|███       | 55 of 182 days scraped in 378.2 sec"
     ]
    },
    {
     "name": "stderr",
     "output_type": "stream",
     "text": [
      "Traceback (most recent call last):\n",
      "  File \u001b[35m\"/opt/hostedtoolcache/Python/3.13.7/x64/lib/python3.13/multiprocessing/resource_tracker.py\"\u001b[0m, line \u001b[35m295\u001b[0m, in \u001b[35mmain\u001b[0m\n",
      "    raise ValueError(\n",
      "        f'Cannot register {name} for automatic cleanup: '\n",
      "        f'unknown resource type {rtype}')\n",
      "\u001b[1;35mValueError\u001b[0m: \u001b[35mCannot register /dev/shm/joblib_memmapping_folder_2222_1f2cbaaa9b794419acbc4e611470818f_e25b17e7a03a421ab27ad4522f196093 for automatic cleanup: unknown resource type folder\u001b[0m\n"
     ]
    },
    {
     "name": "stderr",
     "output_type": "stream",
     "text": [
      "\r",
      "Scraping 0 games on 12/26/24:  30%|███       | 55 of 182 days scraped in 378.4 sec"
     ]
    },
    {
     "name": "stderr",
     "output_type": "stream",
     "text": [
      "\r",
      "No games on 12/26/24:  31%|███       | 56 of 182 days scraped in 378.4 sec        "
     ]
    },
    {
     "name": "stderr",
     "output_type": "stream",
     "text": [
      "\r",
      "Scraping 2 games on 12/27/24:  31%|███       | 56 of 182 days scraped in 378.6 sec"
     ]
    },
    {
     "name": "stderr",
     "output_type": "stream",
     "text": [
      "Traceback (most recent call last):\n",
      "  File \u001b[35m\"/opt/hostedtoolcache/Python/3.13.7/x64/lib/python3.13/multiprocessing/resource_tracker.py\"\u001b[0m, line \u001b[35m295\u001b[0m, in \u001b[35mmain\u001b[0m\n",
      "    raise ValueError(\n",
      "        f'Cannot register {name} for automatic cleanup: '\n",
      "        f'unknown resource type {rtype}')\n",
      "\u001b[1;35mValueError\u001b[0m: \u001b[35mCannot register /dev/shm/joblib_memmapping_folder_2222_0c43d84195a74cb1abaa5121fd620312_e9698fc04b144421b37e6fceb0acb8dc for automatic cleanup: unknown resource type folder\u001b[0m\n",
      "Traceback (most recent call last):\n",
      "  File \u001b[35m\"/opt/hostedtoolcache/Python/3.13.7/x64/lib/python3.13/multiprocessing/resource_tracker.py\"\u001b[0m, line \u001b[35m295\u001b[0m, in \u001b[35mmain\u001b[0m\n",
      "    raise ValueError(\n",
      "        f'Cannot register {name} for automatic cleanup: '\n",
      "        f'unknown resource type {rtype}')\n",
      "\u001b[1;35mValueError\u001b[0m: \u001b[35mCannot register /dev/shm/joblib_memmapping_folder_2222_1f2cbaaa9b794419acbc4e611470818f_a107ed75b8324d629b8e00a472020de7 for automatic cleanup: unknown resource type folder\u001b[0m\n"
     ]
    },
    {
     "name": "stderr",
     "output_type": "stream",
     "text": [
      "\r",
      "Scraping 2 games on 12/27/24:  31%|███▏      | 57 of 182 days scraped in 379.2 sec"
     ]
    },
    {
     "name": "stderr",
     "output_type": "stream",
     "text": [
      "Traceback (most recent call last):\n",
      "  File \u001b[35m\"/opt/hostedtoolcache/Python/3.13.7/x64/lib/python3.13/multiprocessing/resource_tracker.py\"\u001b[0m, line \u001b[35m295\u001b[0m, in \u001b[35mmain\u001b[0m\n",
      "    raise ValueError(\n",
      "        f'Cannot register {name} for automatic cleanup: '\n",
      "        f'unknown resource type {rtype}')\n",
      "\u001b[1;35mValueError\u001b[0m: \u001b[35mCannot register /dev/shm/joblib_memmapping_folder_2222_1f2cbaaa9b794419acbc4e611470818f_a107ed75b8324d629b8e00a472020de7 for automatic cleanup: unknown resource type folder\u001b[0m\n"
     ]
    },
    {
     "name": "stderr",
     "output_type": "stream",
     "text": [
      "\r",
      "Scraping 53 games on 12/28/24:  31%|███▏      | 57 of 182 days scraped in 379.9 sec"
     ]
    },
    {
     "name": "stderr",
     "output_type": "stream",
     "text": [
      "Traceback (most recent call last):\n",
      "  File \u001b[35m\"/opt/hostedtoolcache/Python/3.13.7/x64/lib/python3.13/multiprocessing/resource_tracker.py\"\u001b[0m, line \u001b[35m295\u001b[0m, in \u001b[35mmain\u001b[0m\n",
      "    raise ValueError(\n",
      "        f'Cannot register {name} for automatic cleanup: '\n",
      "        f'unknown resource type {rtype}')\n",
      "\u001b[1;35mValueError\u001b[0m: \u001b[35mCannot register /dev/shm/joblib_memmapping_folder_2222_254ddd5a5856459796d1489b88b606d9_c6ed5ea654594fb69954745e237b2fce for automatic cleanup: unknown resource type folder\u001b[0m\n",
      "Traceback (most recent call last):\n",
      "  File \u001b[35m\"/opt/hostedtoolcache/Python/3.13.7/x64/lib/python3.13/multiprocessing/resource_tracker.py\"\u001b[0m, line \u001b[35m295\u001b[0m, in \u001b[35mmain\u001b[0m\n",
      "    raise ValueError(\n",
      "        f'Cannot register {name} for automatic cleanup: '\n",
      "        f'unknown resource type {rtype}')\n",
      "\u001b[1;35mValueError\u001b[0m: \u001b[35mCannot register /dev/shm/joblib_memmapping_folder_2222_1f2cbaaa9b794419acbc4e611470818f_3bcebc1670654115b98b7cc94aab009d for automatic cleanup: unknown resource type folder\u001b[0m\n"
     ]
    },
    {
     "name": "stderr",
     "output_type": "stream",
     "text": [
      "\r",
      "Scraping 53 games on 12/28/24:  32%|███▏      | 58 of 182 days scraped in 386.9 secTraceback (most recent call last):\n"
     ]
    },
    {
     "name": "stderr",
     "output_type": "stream",
     "text": [
      "  File \u001b[35m\"/opt/hostedtoolcache/Python/3.13.7/x64/lib/python3.13/multiprocessing/resource_tracker.py\"\u001b[0m, line \u001b[35m295\u001b[0m, in \u001b[35mmain\u001b[0m\n",
      "    raise ValueError(\n",
      "        f'Cannot register {name} for automatic cleanup: '\n",
      "        f'unknown resource type {rtype}')\n",
      "\u001b[1;35mValueError\u001b[0m: \u001b[35mCannot register /dev/shm/joblib_memmapping_folder_2222_1f2cbaaa9b794419acbc4e611470818f_3bcebc1670654115b98b7cc94aab009d for automatic cleanup: unknown resource type folder\u001b[0m\n"
     ]
    },
    {
     "name": "stderr",
     "output_type": "stream",
     "text": [
      "\r",
      "Scraping 60 games on 12/29/24:  32%|███▏      | 58 of 182 days scraped in 387.9 sec"
     ]
    },
    {
     "name": "stderr",
     "output_type": "stream",
     "text": [
      "Traceback (most recent call last):\n",
      "  File \u001b[35m\"/opt/hostedtoolcache/Python/3.13.7/x64/lib/python3.13/multiprocessing/resource_tracker.py\"\u001b[0m, line \u001b[35m295\u001b[0m, in \u001b[35mmain\u001b[0m\n",
      "    raise ValueError(\n",
      "        f'Cannot register {name} for automatic cleanup: '\n",
      "        f'unknown resource type {rtype}')\n",
      "\u001b[1;35mValueError\u001b[0m: \u001b[35mCannot register /dev/shm/joblib_memmapping_folder_2222_91adada9ff444ef7a55739d0f7ddfaa2_51d1faa6fe9943f4ba883a31f4b75d1a for automatic cleanup: unknown resource type folder\u001b[0m\n",
      "Traceback (most recent call last):\n",
      "  File \u001b[35m\"/opt/hostedtoolcache/Python/3.13.7/x64/lib/python3.13/multiprocessing/resource_tracker.py\"\u001b[0m, line \u001b[35m295\u001b[0m, in \u001b[35mmain\u001b[0m\n",
      "    raise ValueError(\n",
      "        f'Cannot register {name} for automatic cleanup: '\n",
      "        f'unknown resource type {rtype}')\n",
      "\u001b[1;35mValueError\u001b[0m: \u001b[35mCannot register /dev/shm/joblib_memmapping_folder_2222_1f2cbaaa9b794419acbc4e611470818f_2124ad37151b465aabb50e512e18ef95 for automatic cleanup: unknown resource type folder\u001b[0m\n"
     ]
    },
    {
     "name": "stderr",
     "output_type": "stream",
     "text": [
      "\r",
      "Scraping 60 games on 12/29/24:  32%|███▏      | 59 of 182 days scraped in 396.4 secTraceback (most recent call last):\n"
     ]
    },
    {
     "name": "stderr",
     "output_type": "stream",
     "text": [
      "  File \u001b[35m\"/opt/hostedtoolcache/Python/3.13.7/x64/lib/python3.13/multiprocessing/resource_tracker.py\"\u001b[0m, line \u001b[35m295\u001b[0m, in \u001b[35mmain\u001b[0m\n",
      "    raise ValueError(\n",
      "        f'Cannot register {name} for automatic cleanup: '\n",
      "        f'unknown resource type {rtype}')\n",
      "\u001b[1;35mValueError\u001b[0m: \u001b[35mCannot register /dev/shm/joblib_memmapping_folder_2222_1f2cbaaa9b794419acbc4e611470818f_2124ad37151b465aabb50e512e18ef95 for automatic cleanup: unknown resource type folder\u001b[0m\n"
     ]
    },
    {
     "name": "stderr",
     "output_type": "stream",
     "text": [
      "\r",
      "Scraping 43 games on 12/30/24:  32%|███▏      | 59 of 182 days scraped in 397.0 sec"
     ]
    },
    {
     "name": "stderr",
     "output_type": "stream",
     "text": [
      "Traceback (most recent call last):\n",
      "  File \u001b[35m\"/opt/hostedtoolcache/Python/3.13.7/x64/lib/python3.13/multiprocessing/resource_tracker.py\"\u001b[0m, line \u001b[35m295\u001b[0m, in \u001b[35mmain\u001b[0m\n",
      "    raise ValueError(\n",
      "        f'Cannot register {name} for automatic cleanup: '\n",
      "        f'unknown resource type {rtype}')\n",
      "\u001b[1;35mValueError\u001b[0m: \u001b[35mCannot register /dev/shm/joblib_memmapping_folder_2222_a8179e55dd344aeaae6861f2cfe73e89_ca9920d0f8c942caae3c8023951ebc49 for automatic cleanup: unknown resource type folder\u001b[0m\n",
      "Traceback (most recent call last):\n",
      "  File \u001b[35m\"/opt/hostedtoolcache/Python/3.13.7/x64/lib/python3.13/multiprocessing/resource_tracker.py\"\u001b[0m, line \u001b[35m295\u001b[0m, in \u001b[35mmain\u001b[0m\n",
      "    raise ValueError(\n",
      "        f'Cannot register {name} for automatic cleanup: '\n",
      "        f'unknown resource type {rtype}')\n",
      "\u001b[1;35mValueError\u001b[0m: \u001b[35mCannot register /dev/shm/joblib_memmapping_folder_2222_1f2cbaaa9b794419acbc4e611470818f_06cec52081e24ed381206aaaa9f62f56 for automatic cleanup: unknown resource type folder\u001b[0m\n"
     ]
    },
    {
     "name": "stderr",
     "output_type": "stream",
     "text": [
      "\r",
      "Scraping 43 games on 12/30/24:  33%|███▎      | 60 of 182 days scraped in 402.6 sec"
     ]
    },
    {
     "name": "stderr",
     "output_type": "stream",
     "text": [
      "Traceback (most recent call last):\n",
      "  File \u001b[35m\"/opt/hostedtoolcache/Python/3.13.7/x64/lib/python3.13/multiprocessing/resource_tracker.py\"\u001b[0m, line \u001b[35m295\u001b[0m, in \u001b[35mmain\u001b[0m\n",
      "    raise ValueError(\n",
      "        f'Cannot register {name} for automatic cleanup: '\n",
      "        f'unknown resource type {rtype}')\n",
      "\u001b[1;35mValueError\u001b[0m: \u001b[35mCannot register /dev/shm/joblib_memmapping_folder_2222_1f2cbaaa9b794419acbc4e611470818f_06cec52081e24ed381206aaaa9f62f56 for automatic cleanup: unknown resource type folder\u001b[0m\n"
     ]
    },
    {
     "name": "stderr",
     "output_type": "stream",
     "text": [
      "\r",
      "Scraping 33 games on 12/31/24:  33%|███▎      | 60 of 182 days scraped in 403.3 sec"
     ]
    },
    {
     "name": "stderr",
     "output_type": "stream",
     "text": [
      "Traceback (most recent call last):\n",
      "  File \u001b[35m\"/opt/hostedtoolcache/Python/3.13.7/x64/lib/python3.13/multiprocessing/resource_tracker.py\"\u001b[0m, line \u001b[35m295\u001b[0m, in \u001b[35mmain\u001b[0m\n",
      "    raise ValueError(\n",
      "        f'Cannot register {name} for automatic cleanup: '\n",
      "        f'unknown resource type {rtype}')\n",
      "\u001b[1;35mValueError\u001b[0m: \u001b[35mCannot register /dev/shm/joblib_memmapping_folder_2222_c91640e7ec83485dbf537d3f07efd401_9ad95beb2d2c4050a5961427f8f21009 for automatic cleanup: unknown resource type folder\u001b[0m\n",
      "Traceback (most recent call last):\n",
      "  File \u001b[35m\"/opt/hostedtoolcache/Python/3.13.7/x64/lib/python3.13/multiprocessing/resource_tracker.py\"\u001b[0m, line \u001b[35m295\u001b[0m, in \u001b[35mmain\u001b[0m\n",
      "    raise ValueError(\n",
      "        f'Cannot register {name} for automatic cleanup: '\n",
      "        f'unknown resource type {rtype}')\n",
      "\u001b[1;35mValueError\u001b[0m: \u001b[35mCannot register /dev/shm/joblib_memmapping_folder_2222_1f2cbaaa9b794419acbc4e611470818f_6d2b5d8c85c248a58947dfc2d816ab0e for automatic cleanup: unknown resource type folder\u001b[0m\n"
     ]
    },
    {
     "name": "stderr",
     "output_type": "stream",
     "text": [
      "\r",
      "Scraping 33 games on 12/31/24:  34%|███▎      | 61 of 182 days scraped in 407.8 sec"
     ]
    },
    {
     "name": "stderr",
     "output_type": "stream",
     "text": [
      "Traceback (most recent call last):\n",
      "  File \u001b[35m\"/opt/hostedtoolcache/Python/3.13.7/x64/lib/python3.13/multiprocessing/resource_tracker.py\"\u001b[0m, line \u001b[35m295\u001b[0m, in \u001b[35mmain\u001b[0m\n",
      "    raise ValueError(\n",
      "        f'Cannot register {name} for automatic cleanup: '\n",
      "        f'unknown resource type {rtype}')\n",
      "\u001b[1;35mValueError\u001b[0m: \u001b[35mCannot register /dev/shm/joblib_memmapping_folder_2222_1f2cbaaa9b794419acbc4e611470818f_6d2b5d8c85c248a58947dfc2d816ab0e for automatic cleanup: unknown resource type folder\u001b[0m\n"
     ]
    },
    {
     "name": "stderr",
     "output_type": "stream",
     "text": [
      "\r",
      "Scraping 21 games on 01/01/25:  34%|███▎      | 61 of 182 days scraped in 408.7 sec"
     ]
    },
    {
     "name": "stderr",
     "output_type": "stream",
     "text": [
      "Traceback (most recent call last):\n",
      "  File \u001b[35m\"/opt/hostedtoolcache/Python/3.13.7/x64/lib/python3.13/multiprocessing/resource_tracker.py\"\u001b[0m, line \u001b[35m295\u001b[0m, in \u001b[35mmain\u001b[0m\n",
      "    raise ValueError(\n",
      "        f'Cannot register {name} for automatic cleanup: '\n",
      "        f'unknown resource type {rtype}')\n",
      "\u001b[1;35mValueError\u001b[0m: \u001b[35mCannot register /dev/shm/joblib_memmapping_folder_2222_20af1cc7f81b4fd8ad543dafb982d9e3_242953b952354c89b6c7631a16f18dc9 for automatic cleanup: unknown resource type folder\u001b[0m\n",
      "Traceback (most recent call last):\n",
      "  File \u001b[35m\"/opt/hostedtoolcache/Python/3.13.7/x64/lib/python3.13/multiprocessing/resource_tracker.py\"\u001b[0m, line \u001b[35m295\u001b[0m, in \u001b[35mmain\u001b[0m\n",
      "    raise ValueError(\n",
      "        f'Cannot register {name} for automatic cleanup: '\n",
      "        f'unknown resource type {rtype}')\n",
      "\u001b[1;35mValueError\u001b[0m: \u001b[35mCannot register /dev/shm/joblib_memmapping_folder_2222_1f2cbaaa9b794419acbc4e611470818f_d45ab1ee0d9d450a98df6537e1870c81 for automatic cleanup: unknown resource type folder\u001b[0m\n"
     ]
    },
    {
     "name": "stderr",
     "output_type": "stream",
     "text": [
      "\r",
      "Scraping 21 games on 01/01/25:  34%|███▍      | 62 of 182 days scraped in 411.7 sec"
     ]
    },
    {
     "name": "stderr",
     "output_type": "stream",
     "text": [
      "Traceback (most recent call last):\n",
      "  File \u001b[35m\"/opt/hostedtoolcache/Python/3.13.7/x64/lib/python3.13/multiprocessing/resource_tracker.py\"\u001b[0m, line \u001b[35m295\u001b[0m, in \u001b[35mmain\u001b[0m\n",
      "    raise ValueError(\n",
      "        f'Cannot register {name} for automatic cleanup: '\n",
      "        f'unknown resource type {rtype}')\n",
      "\u001b[1;35mValueError\u001b[0m: \u001b[35mCannot register /dev/shm/joblib_memmapping_folder_2222_1f2cbaaa9b794419acbc4e611470818f_d45ab1ee0d9d450a98df6537e1870c81 for automatic cleanup: unknown resource type folder\u001b[0m\n"
     ]
    },
    {
     "name": "stderr",
     "output_type": "stream",
     "text": [
      "\r",
      "Scraping 66 games on 01/02/25:  34%|███▍      | 62 of 182 days scraped in 412.6 sec"
     ]
    },
    {
     "name": "stderr",
     "output_type": "stream",
     "text": [
      "Traceback (most recent call last):\n",
      "  File \u001b[35m\"/opt/hostedtoolcache/Python/3.13.7/x64/lib/python3.13/multiprocessing/resource_tracker.py\"\u001b[0m, line \u001b[35m295\u001b[0m, in \u001b[35mmain\u001b[0m\n",
      "    raise ValueError(\n",
      "        f'Cannot register {name} for automatic cleanup: '\n",
      "        f'unknown resource type {rtype}')\n",
      "\u001b[1;35mValueError\u001b[0m: \u001b[35mCannot register /dev/shm/joblib_memmapping_folder_2222_75455627ddf648cead4896eb7f2a9731_3acf74952e994658a4f52f08f7fbe67d for automatic cleanup: unknown resource type folder\u001b[0m\n",
      "Traceback (most recent call last):\n",
      "  File \u001b[35m\"/opt/hostedtoolcache/Python/3.13.7/x64/lib/python3.13/multiprocessing/resource_tracker.py\"\u001b[0m, line \u001b[35m295\u001b[0m, in \u001b[35mmain\u001b[0m\n",
      "    raise ValueError(\n",
      "        f'Cannot register {name} for automatic cleanup: '\n",
      "        f'unknown resource type {rtype}')\n",
      "\u001b[1;35mValueError\u001b[0m: \u001b[35mCannot register /dev/shm/joblib_memmapping_folder_2222_1f2cbaaa9b794419acbc4e611470818f_2720ca05484641d6ba14a47b026c660f for automatic cleanup: unknown resource type folder\u001b[0m\n"
     ]
    },
    {
     "name": "stderr",
     "output_type": "stream",
     "text": [
      "\r",
      "Scraping 66 games on 01/02/25:  35%|███▍      | 63 of 182 days scraped in 421.5 sec"
     ]
    },
    {
     "name": "stderr",
     "output_type": "stream",
     "text": [
      "Traceback (most recent call last):\n",
      "  File \u001b[35m\"/opt/hostedtoolcache/Python/3.13.7/x64/lib/python3.13/multiprocessing/resource_tracker.py\"\u001b[0m, line \u001b[35m295\u001b[0m, in \u001b[35mmain\u001b[0m\n",
      "    raise ValueError(\n",
      "        f'Cannot register {name} for automatic cleanup: '\n",
      "        f'unknown resource type {rtype}')\n",
      "\u001b[1;35mValueError\u001b[0m: \u001b[35mCannot register /dev/shm/joblib_memmapping_folder_2222_1f2cbaaa9b794419acbc4e611470818f_2720ca05484641d6ba14a47b026c660f for automatic cleanup: unknown resource type folder\u001b[0m\n"
     ]
    },
    {
     "name": "stderr",
     "output_type": "stream",
     "text": [
      "\r",
      "Scraping 16 games on 01/03/25:  35%|███▍      | 63 of 182 days scraped in 422.2 sec"
     ]
    },
    {
     "name": "stderr",
     "output_type": "stream",
     "text": [
      "Traceback (most recent call last):\n",
      "  File \u001b[35m\"/opt/hostedtoolcache/Python/3.13.7/x64/lib/python3.13/multiprocessing/resource_tracker.py\"\u001b[0m, line \u001b[35m295\u001b[0m, in \u001b[35mmain\u001b[0m\n",
      "    raise ValueError(\n",
      "        f'Cannot register {name} for automatic cleanup: '\n",
      "        f'unknown resource type {rtype}')\n",
      "\u001b[1;35mValueError\u001b[0m: \u001b[35mCannot register /dev/shm/joblib_memmapping_folder_2222_7873110adc294ff38c8bc7ac2b1efc48_00d0fde4ead24ca4a92a8c353233e68b for automatic cleanup: unknown resource type folder\u001b[0m\n",
      "Traceback (most recent call last):\n",
      "  File \u001b[35m\"/opt/hostedtoolcache/Python/3.13.7/x64/lib/python3.13/multiprocessing/resource_tracker.py\"\u001b[0m, line \u001b[35m295\u001b[0m, in \u001b[35mmain\u001b[0m\n",
      "    raise ValueError(\n",
      "        f'Cannot register {name} for automatic cleanup: '\n",
      "        f'unknown resource type {rtype}')\n",
      "\u001b[1;35mValueError\u001b[0m: \u001b[35mCannot register /dev/shm/joblib_memmapping_folder_2222_1f2cbaaa9b794419acbc4e611470818f_c7bac7a1cf9b4087aa76bd4c02865c2f for automatic cleanup: unknown resource type folder\u001b[0m\n"
     ]
    },
    {
     "name": "stderr",
     "output_type": "stream",
     "text": [
      "\r",
      "Scraping 16 games on 01/03/25:  35%|███▌      | 64 of 182 days scraped in 424.2 secTraceback (most recent call last):\n"
     ]
    },
    {
     "name": "stderr",
     "output_type": "stream",
     "text": [
      "  File \u001b[35m\"/opt/hostedtoolcache/Python/3.13.7/x64/lib/python3.13/multiprocessing/resource_tracker.py\"\u001b[0m, line \u001b[35m295\u001b[0m, in \u001b[35mmain\u001b[0m\n",
      "    raise ValueError(\n",
      "        f'Cannot register {name} for automatic cleanup: '\n",
      "        f'unknown resource type {rtype}')\n",
      "\u001b[1;35mValueError\u001b[0m: \u001b[35mCannot register /dev/shm/joblib_memmapping_folder_2222_1f2cbaaa9b794419acbc4e611470818f_c7bac7a1cf9b4087aa76bd4c02865c2f for automatic cleanup: unknown resource type folder\u001b[0m\n"
     ]
    },
    {
     "name": "stderr",
     "output_type": "stream",
     "text": [
      "\r",
      "Scraping 139 games on 01/04/25:  35%|███▌      | 64 of 182 days scraped in 425.5 sec"
     ]
    },
    {
     "name": "stderr",
     "output_type": "stream",
     "text": [
      "Traceback (most recent call last):\n",
      "  File \u001b[35m\"/opt/hostedtoolcache/Python/3.13.7/x64/lib/python3.13/multiprocessing/resource_tracker.py\"\u001b[0m, line \u001b[35m295\u001b[0m, in \u001b[35mmain\u001b[0m\n",
      "    raise ValueError(\n",
      "        f'Cannot register {name} for automatic cleanup: '\n",
      "        f'unknown resource type {rtype}')\n",
      "\u001b[1;35mValueError\u001b[0m: \u001b[35mCannot register /dev/shm/joblib_memmapping_folder_2222_62c40a36d912478a9a0b172160a8fd0f_8a9e7aed83ab43bf91350d28254e5f26 for automatic cleanup: unknown resource type folder\u001b[0m\n",
      "Traceback (most recent call last):\n",
      "  File \u001b[35m\"/opt/hostedtoolcache/Python/3.13.7/x64/lib/python3.13/multiprocessing/resource_tracker.py\"\u001b[0m, line \u001b[35m295\u001b[0m, in \u001b[35mmain\u001b[0m\n",
      "    raise ValueError(\n",
      "        f'Cannot register {name} for automatic cleanup: '\n",
      "        f'unknown resource type {rtype}')\n",
      "\u001b[1;35mValueError\u001b[0m: \u001b[35mCannot register /dev/shm/joblib_memmapping_folder_2222_1f2cbaaa9b794419acbc4e611470818f_1e1fe042897b45fbb3deb2a57cc308a0 for automatic cleanup: unknown resource type folder\u001b[0m\n"
     ]
    },
    {
     "name": "stderr",
     "output_type": "stream",
     "text": [
      "\r",
      "Scraping 139 games on 01/04/25:  36%|███▌      | 65 of 182 days scraped in 443.9 sec"
     ]
    },
    {
     "name": "stderr",
     "output_type": "stream",
     "text": [
      "Traceback (most recent call last):\n",
      "  File \u001b[35m\"/opt/hostedtoolcache/Python/3.13.7/x64/lib/python3.13/multiprocessing/resource_tracker.py\"\u001b[0m, line \u001b[35m295\u001b[0m, in \u001b[35mmain\u001b[0m\n",
      "    raise ValueError(\n",
      "        f'Cannot register {name} for automatic cleanup: '\n",
      "        f'unknown resource type {rtype}')\n",
      "\u001b[1;35mValueError\u001b[0m: \u001b[35mCannot register /dev/shm/joblib_memmapping_folder_2222_1f2cbaaa9b794419acbc4e611470818f_1e1fe042897b45fbb3deb2a57cc308a0 for automatic cleanup: unknown resource type folder\u001b[0m\n"
     ]
    },
    {
     "name": "stderr",
     "output_type": "stream",
     "text": [
      "\r",
      "Scraping 27 games on 01/05/25:  36%|███▌      | 65 of 182 days scraped in 444.8 sec "
     ]
    },
    {
     "name": "stderr",
     "output_type": "stream",
     "text": [
      "Traceback (most recent call last):\n",
      "  File \u001b[35m\"/opt/hostedtoolcache/Python/3.13.7/x64/lib/python3.13/multiprocessing/resource_tracker.py\"\u001b[0m, line \u001b[35m295\u001b[0m, in \u001b[35mmain\u001b[0m\n",
      "    raise ValueError(\n",
      "        f'Cannot register {name} for automatic cleanup: '\n",
      "        f'unknown resource type {rtype}')\n",
      "\u001b[1;35mValueError\u001b[0m: \u001b[35mCannot register /dev/shm/joblib_memmapping_folder_2222_fb0e6fa9aba7461c87b3dc5c6e940876_aa88792848fa4ba7a740541d52ae4f3e for automatic cleanup: unknown resource type folder\u001b[0m\n",
      "Traceback (most recent call last):\n",
      "  File \u001b[35m\"/opt/hostedtoolcache/Python/3.13.7/x64/lib/python3.13/multiprocessing/resource_tracker.py\"\u001b[0m, line \u001b[35m295\u001b[0m, in \u001b[35mmain\u001b[0m\n",
      "    raise ValueError(\n",
      "        f'Cannot register {name} for automatic cleanup: '\n",
      "        f'unknown resource type {rtype}')\n",
      "\u001b[1;35mValueError\u001b[0m: \u001b[35mCannot register /dev/shm/joblib_memmapping_folder_2222_1f2cbaaa9b794419acbc4e611470818f_218f0169a8ba407c811a6cf53d518f48 for automatic cleanup: unknown resource type folder\u001b[0m\n"
     ]
    },
    {
     "name": "stderr",
     "output_type": "stream",
     "text": [
      "\r",
      "Scraping 27 games on 01/05/25:  36%|███▋      | 66 of 182 days scraped in 448.5 sec"
     ]
    },
    {
     "name": "stderr",
     "output_type": "stream",
     "text": [
      "Traceback (most recent call last):\n",
      "  File \u001b[35m\"/opt/hostedtoolcache/Python/3.13.7/x64/lib/python3.13/multiprocessing/resource_tracker.py\"\u001b[0m, line \u001b[35m295\u001b[0m, in \u001b[35mmain\u001b[0m\n",
      "    raise ValueError(\n",
      "        f'Cannot register {name} for automatic cleanup: '\n",
      "        f'unknown resource type {rtype}')\n",
      "\u001b[1;35mValueError\u001b[0m: \u001b[35mCannot register /dev/shm/joblib_memmapping_folder_2222_1f2cbaaa9b794419acbc4e611470818f_218f0169a8ba407c811a6cf53d518f48 for automatic cleanup: unknown resource type folder\u001b[0m\n"
     ]
    },
    {
     "name": "stderr",
     "output_type": "stream",
     "text": [
      "\r",
      "Scraping 16 games on 01/06/25:  36%|███▋      | 66 of 182 days scraped in 449.2 sec"
     ]
    },
    {
     "name": "stderr",
     "output_type": "stream",
     "text": [
      "Traceback (most recent call last):\n",
      "  File \u001b[35m\"/opt/hostedtoolcache/Python/3.13.7/x64/lib/python3.13/multiprocessing/resource_tracker.py\"\u001b[0m, line \u001b[35m295\u001b[0m, in \u001b[35mmain\u001b[0m\n",
      "    raise ValueError(\n",
      "        f'Cannot register {name} for automatic cleanup: '\n",
      "        f'unknown resource type {rtype}')\n",
      "\u001b[1;35mValueError\u001b[0m: \u001b[35mCannot register /dev/shm/joblib_memmapping_folder_2222_5ad5088acb644af0976b34c928f20c60_4ffb28e972fd4da1a31e2fa867c2003b for automatic cleanup: unknown resource type folder\u001b[0m\n",
      "Traceback (most recent call last):\n",
      "  File \u001b[35m\"/opt/hostedtoolcache/Python/3.13.7/x64/lib/python3.13/multiprocessing/resource_tracker.py\"\u001b[0m, line \u001b[35m295\u001b[0m, in \u001b[35mmain\u001b[0m\n",
      "    raise ValueError(\n",
      "        f'Cannot register {name} for automatic cleanup: '\n",
      "        f'unknown resource type {rtype}')\n",
      "\u001b[1;35mValueError\u001b[0m: \u001b[35mCannot register /dev/shm/joblib_memmapping_folder_2222_1f2cbaaa9b794419acbc4e611470818f_0387db50246542628f0b9f7de2b3229f for automatic cleanup: unknown resource type folder\u001b[0m\n"
     ]
    },
    {
     "name": "stderr",
     "output_type": "stream",
     "text": [
      "\r",
      "Scraping 16 games on 01/06/25:  37%|███▋      | 67 of 182 days scraped in 451.3 secTraceback (most recent call last):\n"
     ]
    },
    {
     "name": "stderr",
     "output_type": "stream",
     "text": [
      "  File \u001b[35m\"/opt/hostedtoolcache/Python/3.13.7/x64/lib/python3.13/multiprocessing/resource_tracker.py\"\u001b[0m, line \u001b[35m295\u001b[0m, in \u001b[35mmain\u001b[0m\n",
      "    raise ValueError(\n",
      "        f'Cannot register {name} for automatic cleanup: '\n",
      "        f'unknown resource type {rtype}')\n",
      "\u001b[1;35mValueError\u001b[0m: \u001b[35mCannot register /dev/shm/joblib_memmapping_folder_2222_1f2cbaaa9b794419acbc4e611470818f_0387db50246542628f0b9f7de2b3229f for automatic cleanup: unknown resource type folder\u001b[0m\n"
     ]
    },
    {
     "name": "stderr",
     "output_type": "stream",
     "text": [
      "\r",
      "Scraping 34 games on 01/07/25:  37%|███▋      | 67 of 182 days scraped in 452.3 sec"
     ]
    },
    {
     "name": "stderr",
     "output_type": "stream",
     "text": [
      "Traceback (most recent call last):\n",
      "  File \u001b[35m\"/opt/hostedtoolcache/Python/3.13.7/x64/lib/python3.13/multiprocessing/resource_tracker.py\"\u001b[0m, line \u001b[35m295\u001b[0m, in \u001b[35mmain\u001b[0m\n",
      "    raise ValueError(\n",
      "        f'Cannot register {name} for automatic cleanup: '\n",
      "        f'unknown resource type {rtype}')\n",
      "\u001b[1;35mValueError\u001b[0m: \u001b[35mCannot register /dev/shm/joblib_memmapping_folder_2222_3d730aa028c247b9bda5d9f659529e69_65e15135e430426283fedc376e1f447f for automatic cleanup: unknown resource type folder\u001b[0m\n",
      "Traceback (most recent call last):\n",
      "  File \u001b[35m\"/opt/hostedtoolcache/Python/3.13.7/x64/lib/python3.13/multiprocessing/resource_tracker.py\"\u001b[0m, line \u001b[35m295\u001b[0m, in \u001b[35mmain\u001b[0m\n",
      "    raise ValueError(\n",
      "        f'Cannot register {name} for automatic cleanup: '\n",
      "        f'unknown resource type {rtype}')\n",
      "\u001b[1;35mValueError\u001b[0m: \u001b[35mCannot register /dev/shm/joblib_memmapping_folder_2222_1f2cbaaa9b794419acbc4e611470818f_fbae3e3c3feb4f94b4b9551b85a334a0 for automatic cleanup: unknown resource type folder\u001b[0m\n"
     ]
    },
    {
     "name": "stderr",
     "output_type": "stream",
     "text": [
      "\r",
      "Scraping 34 games on 01/07/25:  37%|███▋      | 68 of 182 days scraped in 457.5 secTraceback (most recent call last):\n"
     ]
    },
    {
     "name": "stderr",
     "output_type": "stream",
     "text": [
      "  File \u001b[35m\"/opt/hostedtoolcache/Python/3.13.7/x64/lib/python3.13/multiprocessing/resource_tracker.py\"\u001b[0m, line \u001b[35m295\u001b[0m, in \u001b[35mmain\u001b[0m\n",
      "    raise ValueError(\n",
      "        f'Cannot register {name} for automatic cleanup: '\n",
      "        f'unknown resource type {rtype}')\n",
      "\u001b[1;35mValueError\u001b[0m: \u001b[35mCannot register /dev/shm/joblib_memmapping_folder_2222_1f2cbaaa9b794419acbc4e611470818f_fbae3e3c3feb4f94b4b9551b85a334a0 for automatic cleanup: unknown resource type folder\u001b[0m\n"
     ]
    },
    {
     "name": "stderr",
     "output_type": "stream",
     "text": [
      "\r",
      "Scraping 50 games on 01/08/25:  37%|███▋      | 68 of 182 days scraped in 458.2 sec"
     ]
    },
    {
     "name": "stderr",
     "output_type": "stream",
     "text": [
      "Traceback (most recent call last):\n",
      "  File \u001b[35m\"/opt/hostedtoolcache/Python/3.13.7/x64/lib/python3.13/multiprocessing/resource_tracker.py\"\u001b[0m, line \u001b[35m295\u001b[0m, in \u001b[35mmain\u001b[0m\n",
      "    raise ValueError(\n",
      "        f'Cannot register {name} for automatic cleanup: '\n",
      "        f'unknown resource type {rtype}')\n",
      "\u001b[1;35mValueError\u001b[0m: \u001b[35mCannot register /dev/shm/joblib_memmapping_folder_2222_84c4e4fc1cac4e769ed9101ffae1a621_9154de5943524507871007901baa04c6 for automatic cleanup: unknown resource type folder\u001b[0m\n",
      "Traceback (most recent call last):\n",
      "  File \u001b[35m\"/opt/hostedtoolcache/Python/3.13.7/x64/lib/python3.13/multiprocessing/resource_tracker.py\"\u001b[0m, line \u001b[35m295\u001b[0m, in \u001b[35mmain\u001b[0m\n",
      "    raise ValueError(\n",
      "        f'Cannot register {name} for automatic cleanup: '\n",
      "        f'unknown resource type {rtype}')\n",
      "\u001b[1;35mValueError\u001b[0m: \u001b[35mCannot register /dev/shm/joblib_memmapping_folder_2222_1f2cbaaa9b794419acbc4e611470818f_c2dd63acb3b1493eb8e3acadaaaee0d1 for automatic cleanup: unknown resource type folder\u001b[0m\n"
     ]
    },
    {
     "name": "stderr",
     "output_type": "stream",
     "text": [
      "\r",
      "Scraping 50 games on 01/08/25:  38%|███▊      | 69 of 182 days scraped in 465.0 sec"
     ]
    },
    {
     "name": "stderr",
     "output_type": "stream",
     "text": [
      "Traceback (most recent call last):\n",
      "  File \u001b[35m\"/opt/hostedtoolcache/Python/3.13.7/x64/lib/python3.13/multiprocessing/resource_tracker.py\"\u001b[0m, line \u001b[35m295\u001b[0m, in \u001b[35mmain\u001b[0m\n",
      "    raise ValueError(\n",
      "        f'Cannot register {name} for automatic cleanup: '\n",
      "        f'unknown resource type {rtype}')\n",
      "\u001b[1;35mValueError\u001b[0m: \u001b[35mCannot register /dev/shm/joblib_memmapping_folder_2222_1f2cbaaa9b794419acbc4e611470818f_c2dd63acb3b1493eb8e3acadaaaee0d1 for automatic cleanup: unknown resource type folder\u001b[0m\n"
     ]
    },
    {
     "name": "stderr",
     "output_type": "stream",
     "text": [
      "\r",
      "Scraping 55 games on 01/09/25:  38%|███▊      | 69 of 182 days scraped in 465.7 sec"
     ]
    },
    {
     "name": "stderr",
     "output_type": "stream",
     "text": [
      "Traceback (most recent call last):\n",
      "  File \u001b[35m\"/opt/hostedtoolcache/Python/3.13.7/x64/lib/python3.13/multiprocessing/resource_tracker.py\"\u001b[0m, line \u001b[35m295\u001b[0m, in \u001b[35mmain\u001b[0m\n",
      "    raise ValueError(\n",
      "        f'Cannot register {name} for automatic cleanup: '\n",
      "        f'unknown resource type {rtype}')\n",
      "\u001b[1;35mValueError\u001b[0m: \u001b[35mCannot register /dev/shm/joblib_memmapping_folder_2222_145f3bcee8f64385aa52de8c0ced5bef_b5f81160758a4c79bab7b96939a4aa80 for automatic cleanup: unknown resource type folder\u001b[0m\n",
      "Traceback (most recent call last):\n",
      "  File \u001b[35m\"/opt/hostedtoolcache/Python/3.13.7/x64/lib/python3.13/multiprocessing/resource_tracker.py\"\u001b[0m, line \u001b[35m295\u001b[0m, in \u001b[35mmain\u001b[0m\n",
      "    raise ValueError(\n",
      "        f'Cannot register {name} for automatic cleanup: '\n",
      "        f'unknown resource type {rtype}')\n",
      "\u001b[1;35mValueError\u001b[0m: \u001b[35mCannot register /dev/shm/joblib_memmapping_folder_2222_1f2cbaaa9b794419acbc4e611470818f_c00a2357bb8e406089f67caf40fa2113 for automatic cleanup: unknown resource type folder\u001b[0m\n"
     ]
    },
    {
     "name": "stderr",
     "output_type": "stream",
     "text": [
      "\r",
      "Scraping 55 games on 01/09/25:  38%|███▊      | 70 of 182 days scraped in 473.3 sec"
     ]
    },
    {
     "name": "stderr",
     "output_type": "stream",
     "text": [
      "Traceback (most recent call last):\n",
      "  File \u001b[35m\"/opt/hostedtoolcache/Python/3.13.7/x64/lib/python3.13/multiprocessing/resource_tracker.py\"\u001b[0m, line \u001b[35m295\u001b[0m, in \u001b[35mmain\u001b[0m\n",
      "    raise ValueError(\n",
      "        f'Cannot register {name} for automatic cleanup: '\n",
      "        f'unknown resource type {rtype}')\n",
      "\u001b[1;35mValueError\u001b[0m: \u001b[35mCannot register /dev/shm/joblib_memmapping_folder_2222_1f2cbaaa9b794419acbc4e611470818f_c00a2357bb8e406089f67caf40fa2113 for automatic cleanup: unknown resource type folder\u001b[0m\n"
     ]
    },
    {
     "name": "stderr",
     "output_type": "stream",
     "text": [
      "\r",
      "Scraping 14 games on 01/10/25:  38%|███▊      | 70 of 182 days scraped in 473.7 sec"
     ]
    },
    {
     "name": "stderr",
     "output_type": "stream",
     "text": [
      "Traceback (most recent call last):\n",
      "  File \u001b[35m\"/opt/hostedtoolcache/Python/3.13.7/x64/lib/python3.13/multiprocessing/resource_tracker.py\"\u001b[0m, line \u001b[35m295\u001b[0m, in \u001b[35mmain\u001b[0m\n",
      "    raise ValueError(\n",
      "        f'Cannot register {name} for automatic cleanup: '\n",
      "        f'unknown resource type {rtype}')\n",
      "\u001b[1;35mValueError\u001b[0m: \u001b[35mCannot register /dev/shm/joblib_memmapping_folder_2222_f41df6148b2c48c583160e841034cbb9_9dd6b731fb5c4670a04ad0f65f206ba0 for automatic cleanup: unknown resource type folder\u001b[0m\n",
      "Traceback (most recent call last):\n",
      "  File \u001b[35m\"/opt/hostedtoolcache/Python/3.13.7/x64/lib/python3.13/multiprocessing/resource_tracker.py\"\u001b[0m, line \u001b[35m295\u001b[0m, in \u001b[35mmain\u001b[0m\n",
      "    raise ValueError(\n",
      "        f'Cannot register {name} for automatic cleanup: '\n",
      "        f'unknown resource type {rtype}')\n",
      "\u001b[1;35mValueError\u001b[0m: \u001b[35mCannot register /dev/shm/joblib_memmapping_folder_2222_1f2cbaaa9b794419acbc4e611470818f_f002bdc6b4324049baf04265ac3113b6 for automatic cleanup: unknown resource type folder\u001b[0m\n"
     ]
    },
    {
     "name": "stderr",
     "output_type": "stream",
     "text": [
      "\r",
      "Scraping 14 games on 01/10/25:  39%|███▉      | 71 of 182 days scraped in 475.5 secTraceback (most recent call last):\n"
     ]
    },
    {
     "name": "stderr",
     "output_type": "stream",
     "text": [
      "  File \u001b[35m\"/opt/hostedtoolcache/Python/3.13.7/x64/lib/python3.13/multiprocessing/resource_tracker.py\"\u001b[0m, line \u001b[35m295\u001b[0m, in \u001b[35mmain\u001b[0m\n",
      "    raise ValueError(\n",
      "        f'Cannot register {name} for automatic cleanup: '\n",
      "        f'unknown resource type {rtype}')\n",
      "\u001b[1;35mValueError\u001b[0m: \u001b[35mCannot register /dev/shm/joblib_memmapping_folder_2222_1f2cbaaa9b794419acbc4e611470818f_f002bdc6b4324049baf04265ac3113b6 for automatic cleanup: unknown resource type folder\u001b[0m\n"
     ]
    },
    {
     "name": "stderr",
     "output_type": "stream",
     "text": [
      "\r",
      "Scraping 144 games on 01/11/25:  39%|███▉      | 71 of 182 days scraped in 476.8 sec"
     ]
    },
    {
     "name": "stderr",
     "output_type": "stream",
     "text": [
      "Traceback (most recent call last):\n",
      "  File \u001b[35m\"/opt/hostedtoolcache/Python/3.13.7/x64/lib/python3.13/multiprocessing/resource_tracker.py\"\u001b[0m, line \u001b[35m295\u001b[0m, in \u001b[35mmain\u001b[0m\n",
      "    raise ValueError(\n",
      "        f'Cannot register {name} for automatic cleanup: '\n",
      "        f'unknown resource type {rtype}')\n",
      "\u001b[1;35mValueError\u001b[0m: \u001b[35mCannot register /dev/shm/joblib_memmapping_folder_2222_f8c4521f41ab42e289f8c4eccf5d65bd_a97f9eb2c9ce4ccda33735b99a7904ac for automatic cleanup: unknown resource type folder\u001b[0m\n",
      "Traceback (most recent call last):\n",
      "  File \u001b[35m\"/opt/hostedtoolcache/Python/3.13.7/x64/lib/python3.13/multiprocessing/resource_tracker.py\"\u001b[0m, line \u001b[35m295\u001b[0m, in \u001b[35mmain\u001b[0m\n",
      "    raise ValueError(\n",
      "        f'Cannot register {name} for automatic cleanup: '\n",
      "        f'unknown resource type {rtype}')\n",
      "\u001b[1;35mValueError\u001b[0m: \u001b[35mCannot register /dev/shm/joblib_memmapping_folder_2222_1f2cbaaa9b794419acbc4e611470818f_c25539221c0248c8a70bb516db4c23cf for automatic cleanup: unknown resource type folder\u001b[0m\n"
     ]
    },
    {
     "name": "stderr",
     "output_type": "stream",
     "text": [
      "\r",
      "Scraping 144 games on 01/11/25:  40%|███▉      | 72 of 182 days scraped in 495.8 sec"
     ]
    },
    {
     "name": "stderr",
     "output_type": "stream",
     "text": [
      "Traceback (most recent call last):\n",
      "  File \u001b[35m\"/opt/hostedtoolcache/Python/3.13.7/x64/lib/python3.13/multiprocessing/resource_tracker.py\"\u001b[0m, line \u001b[35m295\u001b[0m, in \u001b[35mmain\u001b[0m\n",
      "    raise ValueError(\n",
      "        f'Cannot register {name} for automatic cleanup: '\n",
      "        f'unknown resource type {rtype}')\n",
      "\u001b[1;35mValueError\u001b[0m: \u001b[35mCannot register /dev/shm/joblib_memmapping_folder_2222_1f2cbaaa9b794419acbc4e611470818f_c25539221c0248c8a70bb516db4c23cf for automatic cleanup: unknown resource type folder\u001b[0m\n"
     ]
    },
    {
     "name": "stderr",
     "output_type": "stream",
     "text": [
      "\r",
      "Scraping 21 games on 01/12/25:  40%|███▉      | 72 of 182 days scraped in 496.2 sec "
     ]
    },
    {
     "name": "stderr",
     "output_type": "stream",
     "text": [
      "Traceback (most recent call last):\n",
      "  File \u001b[35m\"/opt/hostedtoolcache/Python/3.13.7/x64/lib/python3.13/multiprocessing/resource_tracker.py\"\u001b[0m, line \u001b[35m295\u001b[0m, in \u001b[35mmain\u001b[0m\n",
      "    raise ValueError(\n",
      "        f'Cannot register {name} for automatic cleanup: '\n",
      "        f'unknown resource type {rtype}')\n",
      "\u001b[1;35mValueError\u001b[0m: \u001b[35mCannot register /dev/shm/joblib_memmapping_folder_2222_b70e4d6640104ab7a013ed59aa5bf3ab_cce308038a174e5bbedbf5f6267c8c67 for automatic cleanup: unknown resource type folder\u001b[0m\n",
      "Traceback (most recent call last):\n",
      "  File \u001b[35m\"/opt/hostedtoolcache/Python/3.13.7/x64/lib/python3.13/multiprocessing/resource_tracker.py\"\u001b[0m, line \u001b[35m295\u001b[0m, in \u001b[35mmain\u001b[0m\n",
      "    raise ValueError(\n",
      "        f'Cannot register {name} for automatic cleanup: '\n",
      "        f'unknown resource type {rtype}')\n",
      "\u001b[1;35mValueError\u001b[0m: \u001b[35mCannot register /dev/shm/joblib_memmapping_folder_2222_1f2cbaaa9b794419acbc4e611470818f_38dff0cc8aed4a93a353c495d252fc21 for automatic cleanup: unknown resource type folder\u001b[0m\n"
     ]
    },
    {
     "name": "stderr",
     "output_type": "stream",
     "text": [
      "\r",
      "Scraping 21 games on 01/12/25:  40%|████      | 73 of 182 days scraped in 498.9 secTraceback (most recent call last):\n"
     ]
    },
    {
     "name": "stderr",
     "output_type": "stream",
     "text": [
      "  File \u001b[35m\"/opt/hostedtoolcache/Python/3.13.7/x64/lib/python3.13/multiprocessing/resource_tracker.py\"\u001b[0m, line \u001b[35m295\u001b[0m, in \u001b[35mmain\u001b[0m\n",
      "    raise ValueError(\n",
      "        f'Cannot register {name} for automatic cleanup: '\n",
      "        f'unknown resource type {rtype}')\n",
      "\u001b[1;35mValueError\u001b[0m: \u001b[35mCannot register /dev/shm/joblib_memmapping_folder_2222_1f2cbaaa9b794419acbc4e611470818f_38dff0cc8aed4a93a353c495d252fc21 for automatic cleanup: unknown resource type folder\u001b[0m\n"
     ]
    },
    {
     "name": "stderr",
     "output_type": "stream",
     "text": [
      "\r",
      "Scraping 22 games on 01/13/25:  40%|████      | 73 of 182 days scraped in 499.8 sec"
     ]
    },
    {
     "name": "stderr",
     "output_type": "stream",
     "text": [
      "Traceback (most recent call last):\n",
      "  File \u001b[35m\"/opt/hostedtoolcache/Python/3.13.7/x64/lib/python3.13/multiprocessing/resource_tracker.py\"\u001b[0m, line \u001b[35m295\u001b[0m, in \u001b[35mmain\u001b[0m\n",
      "    raise ValueError(\n",
      "        f'Cannot register {name} for automatic cleanup: '\n",
      "        f'unknown resource type {rtype}')\n",
      "\u001b[1;35mValueError\u001b[0m: \u001b[35mCannot register /dev/shm/joblib_memmapping_folder_2222_5dcb89dffc2a400ba73d86eb72a2978b_0346c5e0246a49c3b246e67b06b676c0 for automatic cleanup: unknown resource type folder\u001b[0m\n",
      "Traceback (most recent call last):\n",
      "  File \u001b[35m\"/opt/hostedtoolcache/Python/3.13.7/x64/lib/python3.13/multiprocessing/resource_tracker.py\"\u001b[0m, line \u001b[35m295\u001b[0m, in \u001b[35mmain\u001b[0m\n",
      "    raise ValueError(\n",
      "        f'Cannot register {name} for automatic cleanup: '\n",
      "        f'unknown resource type {rtype}')\n",
      "\u001b[1;35mValueError\u001b[0m: \u001b[35mCannot register /dev/shm/joblib_memmapping_folder_2222_1f2cbaaa9b794419acbc4e611470818f_67ff0c1be4bf40df9d66b6500a87ca2e for automatic cleanup: unknown resource type folder\u001b[0m\n"
     ]
    },
    {
     "name": "stderr",
     "output_type": "stream",
     "text": [
      "\r",
      "Scraping 22 games on 01/13/25:  41%|████      | 74 of 182 days scraped in 502.7 secTraceback (most recent call last):\n"
     ]
    },
    {
     "name": "stderr",
     "output_type": "stream",
     "text": [
      "  File \u001b[35m\"/opt/hostedtoolcache/Python/3.13.7/x64/lib/python3.13/multiprocessing/resource_tracker.py\"\u001b[0m, line \u001b[35m295\u001b[0m, in \u001b[35mmain\u001b[0m\n",
      "    raise ValueError(\n",
      "        f'Cannot register {name} for automatic cleanup: '\n",
      "        f'unknown resource type {rtype}')\n",
      "\u001b[1;35mValueError\u001b[0m: \u001b[35mCannot register /dev/shm/joblib_memmapping_folder_2222_1f2cbaaa9b794419acbc4e611470818f_67ff0c1be4bf40df9d66b6500a87ca2e for automatic cleanup: unknown resource type folder\u001b[0m\n"
     ]
    },
    {
     "name": "stderr",
     "output_type": "stream",
     "text": [
      "\r",
      "Scraping 36 games on 01/14/25:  41%|████      | 74 of 182 days scraped in 503.7 sec"
     ]
    },
    {
     "name": "stderr",
     "output_type": "stream",
     "text": [
      "Traceback (most recent call last):\n",
      "  File \u001b[35m\"/opt/hostedtoolcache/Python/3.13.7/x64/lib/python3.13/multiprocessing/resource_tracker.py\"\u001b[0m, line \u001b[35m295\u001b[0m, in \u001b[35mmain\u001b[0m\n",
      "    raise ValueError(\n",
      "        f'Cannot register {name} for automatic cleanup: '\n",
      "        f'unknown resource type {rtype}')\n",
      "\u001b[1;35mValueError\u001b[0m: \u001b[35mCannot register /dev/shm/joblib_memmapping_folder_2222_2c2760fa107848889406a4936582c81f_4a46cd3e42a84950b7f08bdb867cf567 for automatic cleanup: unknown resource type folder\u001b[0m\n",
      "Traceback (most recent call last):\n",
      "  File \u001b[35m\"/opt/hostedtoolcache/Python/3.13.7/x64/lib/python3.13/multiprocessing/resource_tracker.py\"\u001b[0m, line \u001b[35m295\u001b[0m, in \u001b[35mmain\u001b[0m\n",
      "    raise ValueError(\n",
      "        f'Cannot register {name} for automatic cleanup: '\n",
      "        f'unknown resource type {rtype}')\n",
      "\u001b[1;35mValueError\u001b[0m: \u001b[35mCannot register /dev/shm/joblib_memmapping_folder_2222_1f2cbaaa9b794419acbc4e611470818f_e74f57eef44542d6b06307fa168dec8f for automatic cleanup: unknown resource type folder\u001b[0m\n"
     ]
    },
    {
     "name": "stderr",
     "output_type": "stream",
     "text": [
      "\r",
      "Scraping 36 games on 01/14/25:  41%|████      | 75 of 182 days scraped in 508.5 sec"
     ]
    },
    {
     "name": "stderr",
     "output_type": "stream",
     "text": [
      "Traceback (most recent call last):\n",
      "  File \u001b[35m\"/opt/hostedtoolcache/Python/3.13.7/x64/lib/python3.13/multiprocessing/resource_tracker.py\"\u001b[0m, line \u001b[35m295\u001b[0m, in \u001b[35mmain\u001b[0m\n",
      "    raise ValueError(\n",
      "        f'Cannot register {name} for automatic cleanup: '\n",
      "        f'unknown resource type {rtype}')\n",
      "\u001b[1;35mValueError\u001b[0m: \u001b[35mCannot register /dev/shm/joblib_memmapping_folder_2222_1f2cbaaa9b794419acbc4e611470818f_e74f57eef44542d6b06307fa168dec8f for automatic cleanup: unknown resource type folder\u001b[0m\n"
     ]
    },
    {
     "name": "stderr",
     "output_type": "stream",
     "text": [
      "\r",
      "Scraping 48 games on 01/15/25:  41%|████      | 75 of 182 days scraped in 509.1 sec"
     ]
    },
    {
     "name": "stderr",
     "output_type": "stream",
     "text": [
      "Traceback (most recent call last):\n",
      "  File \u001b[35m\"/opt/hostedtoolcache/Python/3.13.7/x64/lib/python3.13/multiprocessing/resource_tracker.py\"\u001b[0m, line \u001b[35m295\u001b[0m, in \u001b[35mmain\u001b[0m\n",
      "    raise ValueError(\n",
      "        f'Cannot register {name} for automatic cleanup: '\n",
      "        f'unknown resource type {rtype}')\n",
      "\u001b[1;35mValueError\u001b[0m: \u001b[35mCannot register /dev/shm/joblib_memmapping_folder_2222_a9dfd98745204cef8c3e84b37c138f14_ce673bbb18dd468098a7b6666a190217 for automatic cleanup: unknown resource type folder\u001b[0m\n",
      "Traceback (most recent call last):\n",
      "  File \u001b[35m\"/opt/hostedtoolcache/Python/3.13.7/x64/lib/python3.13/multiprocessing/resource_tracker.py\"\u001b[0m, line \u001b[35m295\u001b[0m, in \u001b[35mmain\u001b[0m\n",
      "    raise ValueError(\n",
      "        f'Cannot register {name} for automatic cleanup: '\n",
      "        f'unknown resource type {rtype}')\n",
      "\u001b[1;35mValueError\u001b[0m: \u001b[35mCannot register /dev/shm/joblib_memmapping_folder_2222_1f2cbaaa9b794419acbc4e611470818f_38cada8f810c4cc993f5acb4fee162f1 for automatic cleanup: unknown resource type folder\u001b[0m\n"
     ]
    },
    {
     "name": "stderr",
     "output_type": "stream",
     "text": [
      "\r",
      "Scraping 48 games on 01/15/25:  42%|████▏     | 76 of 182 days scraped in 515.9 secTraceback (most recent call last):\n"
     ]
    },
    {
     "name": "stderr",
     "output_type": "stream",
     "text": [
      "  File \u001b[35m\"/opt/hostedtoolcache/Python/3.13.7/x64/lib/python3.13/multiprocessing/resource_tracker.py\"\u001b[0m, line \u001b[35m295\u001b[0m, in \u001b[35mmain\u001b[0m\n",
      "    raise ValueError(\n",
      "        f'Cannot register {name} for automatic cleanup: '\n",
      "        f'unknown resource type {rtype}')\n",
      "\u001b[1;35mValueError\u001b[0m: \u001b[35mCannot register /dev/shm/joblib_memmapping_folder_2222_1f2cbaaa9b794419acbc4e611470818f_38cada8f810c4cc993f5acb4fee162f1 for automatic cleanup: unknown resource type folder\u001b[0m\n"
     ]
    },
    {
     "name": "stderr",
     "output_type": "stream",
     "text": [
      "\r",
      "Scraping 63 games on 01/16/25:  42%|████▏     | 76 of 182 days scraped in 516.8 sec"
     ]
    },
    {
     "name": "stderr",
     "output_type": "stream",
     "text": [
      "Traceback (most recent call last):\n",
      "  File \u001b[35m\"/opt/hostedtoolcache/Python/3.13.7/x64/lib/python3.13/multiprocessing/resource_tracker.py\"\u001b[0m, line \u001b[35m295\u001b[0m, in \u001b[35mmain\u001b[0m\n",
      "    raise ValueError(\n",
      "        f'Cannot register {name} for automatic cleanup: '\n",
      "        f'unknown resource type {rtype}')\n",
      "\u001b[1;35mValueError\u001b[0m: \u001b[35mCannot register /dev/shm/joblib_memmapping_folder_2222_aa8c565da37140a6b5daa499427ab6b2_947b0cd26b37423ba6c69c71b912cdb5 for automatic cleanup: unknown resource type folder\u001b[0m\n",
      "Traceback (most recent call last):\n",
      "  File \u001b[35m\"/opt/hostedtoolcache/Python/3.13.7/x64/lib/python3.13/multiprocessing/resource_tracker.py\"\u001b[0m, line \u001b[35m295\u001b[0m, in \u001b[35mmain\u001b[0m\n",
      "    raise ValueError(\n",
      "        f'Cannot register {name} for automatic cleanup: '\n",
      "        f'unknown resource type {rtype}')\n",
      "\u001b[1;35mValueError\u001b[0m: \u001b[35mCannot register /dev/shm/joblib_memmapping_folder_2222_1f2cbaaa9b794419acbc4e611470818f_14e99184ad654b50881f7ed6987cf3d5 for automatic cleanup: unknown resource type folder\u001b[0m\n"
     ]
    },
    {
     "name": "stderr",
     "output_type": "stream",
     "text": [
      "\r",
      "Scraping 63 games on 01/16/25:  42%|████▏     | 77 of 182 days scraped in 525.0 secTraceback (most recent call last):\n"
     ]
    },
    {
     "name": "stderr",
     "output_type": "stream",
     "text": [
      "  File \u001b[35m\"/opt/hostedtoolcache/Python/3.13.7/x64/lib/python3.13/multiprocessing/resource_tracker.py\"\u001b[0m, line \u001b[35m295\u001b[0m, in \u001b[35mmain\u001b[0m\n",
      "    raise ValueError(\n",
      "        f'Cannot register {name} for automatic cleanup: '\n",
      "        f'unknown resource type {rtype}')\n",
      "\u001b[1;35mValueError\u001b[0m: \u001b[35mCannot register /dev/shm/joblib_memmapping_folder_2222_1f2cbaaa9b794419acbc4e611470818f_14e99184ad654b50881f7ed6987cf3d5 for automatic cleanup: unknown resource type folder\u001b[0m\n"
     ]
    },
    {
     "name": "stderr",
     "output_type": "stream",
     "text": [
      "\r",
      "Scraping 10 games on 01/17/25:  42%|████▏     | 77 of 182 days scraped in 525.4 sec"
     ]
    },
    {
     "name": "stderr",
     "output_type": "stream",
     "text": [
      "Traceback (most recent call last):\n",
      "  File \u001b[35m\"/opt/hostedtoolcache/Python/3.13.7/x64/lib/python3.13/multiprocessing/resource_tracker.py\"\u001b[0m, line \u001b[35m295\u001b[0m, in \u001b[35mmain\u001b[0m\n",
      "    raise ValueError(\n",
      "        f'Cannot register {name} for automatic cleanup: '\n",
      "        f'unknown resource type {rtype}')\n",
      "\u001b[1;35mValueError\u001b[0m: \u001b[35mCannot register /dev/shm/joblib_memmapping_folder_2222_40f231f838fb43d987eb7dbfb0fb0b03_34f564a623ac41538576160483e58af3 for automatic cleanup: unknown resource type folder\u001b[0m\n",
      "Traceback (most recent call last):\n",
      "  File \u001b[35m\"/opt/hostedtoolcache/Python/3.13.7/x64/lib/python3.13/multiprocessing/resource_tracker.py\"\u001b[0m, line \u001b[35m295\u001b[0m, in \u001b[35mmain\u001b[0m\n",
      "    raise ValueError(\n",
      "        f'Cannot register {name} for automatic cleanup: '\n",
      "        f'unknown resource type {rtype}')\n",
      "\u001b[1;35mValueError\u001b[0m: \u001b[35mCannot register /dev/shm/joblib_memmapping_folder_2222_1f2cbaaa9b794419acbc4e611470818f_5391758375f14a8389ee5fbf0123e5d5 for automatic cleanup: unknown resource type folder\u001b[0m\n"
     ]
    },
    {
     "name": "stderr",
     "output_type": "stream",
     "text": [
      "\r",
      "Scraping 10 games on 01/17/25:  43%|████▎     | 78 of 182 days scraped in 527.0 secTraceback (most recent call last):\n"
     ]
    },
    {
     "name": "stderr",
     "output_type": "stream",
     "text": [
      "  File \u001b[35m\"/opt/hostedtoolcache/Python/3.13.7/x64/lib/python3.13/multiprocessing/resource_tracker.py\"\u001b[0m, line \u001b[35m295\u001b[0m, in \u001b[35mmain\u001b[0m\n",
      "    raise ValueError(\n",
      "        f'Cannot register {name} for automatic cleanup: '\n",
      "        f'unknown resource type {rtype}')\n",
      "\u001b[1;35mValueError\u001b[0m: \u001b[35mCannot register /dev/shm/joblib_memmapping_folder_2222_1f2cbaaa9b794419acbc4e611470818f_5391758375f14a8389ee5fbf0123e5d5 for automatic cleanup: unknown resource type folder\u001b[0m\n"
     ]
    },
    {
     "name": "stderr",
     "output_type": "stream",
     "text": [
      "\r",
      "Scraping 148 games on 01/18/25:  43%|████▎     | 78 of 182 days scraped in 528.3 sec"
     ]
    },
    {
     "name": "stderr",
     "output_type": "stream",
     "text": [
      "Traceback (most recent call last):\n",
      "  File \u001b[35m\"/opt/hostedtoolcache/Python/3.13.7/x64/lib/python3.13/multiprocessing/resource_tracker.py\"\u001b[0m, line \u001b[35m295\u001b[0m, in \u001b[35mmain\u001b[0m\n",
      "    raise ValueError(\n",
      "        f'Cannot register {name} for automatic cleanup: '\n",
      "        f'unknown resource type {rtype}')\n",
      "\u001b[1;35mValueError\u001b[0m: \u001b[35mCannot register /dev/shm/joblib_memmapping_folder_2222_5365cf345def46ccbdff51ec165ca381_3f3f9375b5ac4e1b9838a85ec2a2f5ca for automatic cleanup: unknown resource type folder\u001b[0m\n",
      "Traceback (most recent call last):\n",
      "  File \u001b[35m\"/opt/hostedtoolcache/Python/3.13.7/x64/lib/python3.13/multiprocessing/resource_tracker.py\"\u001b[0m, line \u001b[35m295\u001b[0m, in \u001b[35mmain\u001b[0m\n",
      "    raise ValueError(\n",
      "        f'Cannot register {name} for automatic cleanup: '\n",
      "        f'unknown resource type {rtype}')\n",
      "\u001b[1;35mValueError\u001b[0m: \u001b[35mCannot register /dev/shm/joblib_memmapping_folder_2222_1f2cbaaa9b794419acbc4e611470818f_598a418d63e74ee6a1c48b0b9271517c for automatic cleanup: unknown resource type folder\u001b[0m\n"
     ]
    },
    {
     "name": "stderr",
     "output_type": "stream",
     "text": [
      "\r",
      "Scraping 148 games on 01/18/25:  43%|████▎     | 79 of 182 days scraped in 547.9 sec"
     ]
    },
    {
     "name": "stderr",
     "output_type": "stream",
     "text": [
      "Traceback (most recent call last):\n",
      "  File \u001b[35m\"/opt/hostedtoolcache/Python/3.13.7/x64/lib/python3.13/multiprocessing/resource_tracker.py\"\u001b[0m, line \u001b[35m295\u001b[0m, in \u001b[35mmain\u001b[0m\n",
      "    raise ValueError(\n",
      "        f'Cannot register {name} for automatic cleanup: '\n",
      "        f'unknown resource type {rtype}')\n",
      "\u001b[1;35mValueError\u001b[0m: \u001b[35mCannot register /dev/shm/joblib_memmapping_folder_2222_1f2cbaaa9b794419acbc4e611470818f_598a418d63e74ee6a1c48b0b9271517c for automatic cleanup: unknown resource type folder\u001b[0m\n"
     ]
    },
    {
     "name": "stderr",
     "output_type": "stream",
     "text": [
      "\r",
      "Scraping 11 games on 01/19/25:  43%|████▎     | 79 of 182 days scraped in 548.3 sec "
     ]
    },
    {
     "name": "stderr",
     "output_type": "stream",
     "text": [
      "Traceback (most recent call last):\n",
      "  File \u001b[35m\"/opt/hostedtoolcache/Python/3.13.7/x64/lib/python3.13/multiprocessing/resource_tracker.py\"\u001b[0m, line \u001b[35m295\u001b[0m, in \u001b[35mmain\u001b[0m\n",
      "    raise ValueError(\n",
      "        f'Cannot register {name} for automatic cleanup: '\n",
      "        f'unknown resource type {rtype}')\n",
      "\u001b[1;35mValueError\u001b[0m: \u001b[35mCannot register /dev/shm/joblib_memmapping_folder_2222_9511103b894546ad847cd33a8be9cad0_e2fa89c7b5a149d68af7a3d6e6d0e8c4 for automatic cleanup: unknown resource type folder\u001b[0m\n",
      "Traceback (most recent call last):\n",
      "  File \u001b[35m\"/opt/hostedtoolcache/Python/3.13.7/x64/lib/python3.13/multiprocessing/resource_tracker.py\"\u001b[0m, line \u001b[35m295\u001b[0m, in \u001b[35mmain\u001b[0m\n",
      "    raise ValueError(\n",
      "        f'Cannot register {name} for automatic cleanup: '\n",
      "        f'unknown resource type {rtype}')\n",
      "\u001b[1;35mValueError\u001b[0m: \u001b[35mCannot register /dev/shm/joblib_memmapping_folder_2222_1f2cbaaa9b794419acbc4e611470818f_5849af23d3ea4493b04606b0b8ae5f2a for automatic cleanup: unknown resource type folder\u001b[0m\n"
     ]
    },
    {
     "name": "stderr",
     "output_type": "stream",
     "text": [
      "\r",
      "Scraping 11 games on 01/19/25:  44%|████▍     | 80 of 182 days scraped in 550.4 sec"
     ]
    },
    {
     "name": "stderr",
     "output_type": "stream",
     "text": [
      "Traceback (most recent call last):\n",
      "  File \u001b[35m\"/opt/hostedtoolcache/Python/3.13.7/x64/lib/python3.13/multiprocessing/resource_tracker.py\"\u001b[0m, line \u001b[35m295\u001b[0m, in \u001b[35mmain\u001b[0m\n",
      "    raise ValueError(\n",
      "        f'Cannot register {name} for automatic cleanup: '\n",
      "        f'unknown resource type {rtype}')\n",
      "\u001b[1;35mValueError\u001b[0m: \u001b[35mCannot register /dev/shm/joblib_memmapping_folder_2222_1f2cbaaa9b794419acbc4e611470818f_5849af23d3ea4493b04606b0b8ae5f2a for automatic cleanup: unknown resource type folder\u001b[0m\n"
     ]
    },
    {
     "name": "stderr",
     "output_type": "stream",
     "text": [
      "\r",
      "Scraping 29 games on 01/20/25:  44%|████▍     | 80 of 182 days scraped in 550.8 sec"
     ]
    },
    {
     "name": "stderr",
     "output_type": "stream",
     "text": [
      "Traceback (most recent call last):\n",
      "  File \u001b[35m\"/opt/hostedtoolcache/Python/3.13.7/x64/lib/python3.13/multiprocessing/resource_tracker.py\"\u001b[0m, line \u001b[35m295\u001b[0m, in \u001b[35mmain\u001b[0m\n",
      "    raise ValueError(\n",
      "        f'Cannot register {name} for automatic cleanup: '\n",
      "        f'unknown resource type {rtype}')\n",
      "\u001b[1;35mValueError\u001b[0m: \u001b[35mCannot register /dev/shm/joblib_memmapping_folder_2222_c3078aa0168647b08044afd67b1e1cb9_97d723186f014494a01e03eb396ecef0 for automatic cleanup: unknown resource type folder\u001b[0m\n",
      "Traceback (most recent call last):\n",
      "  File \u001b[35m\"/opt/hostedtoolcache/Python/3.13.7/x64/lib/python3.13/multiprocessing/resource_tracker.py\"\u001b[0m, line \u001b[35m295\u001b[0m, in \u001b[35mmain\u001b[0m\n",
      "    raise ValueError(\n",
      "        f'Cannot register {name} for automatic cleanup: '\n",
      "        f'unknown resource type {rtype}')\n",
      "\u001b[1;35mValueError\u001b[0m: \u001b[35mCannot register /dev/shm/joblib_memmapping_folder_2222_1f2cbaaa9b794419acbc4e611470818f_2af0d84e65414e2aba43257c936db941 for automatic cleanup: unknown resource type folder\u001b[0m\n"
     ]
    },
    {
     "name": "stderr",
     "output_type": "stream",
     "text": [
      "\r",
      "Scraping 29 games on 01/20/25:  45%|████▍     | 81 of 182 days scraped in 554.7 secTraceback (most recent call last):\n"
     ]
    },
    {
     "name": "stderr",
     "output_type": "stream",
     "text": [
      "  File \u001b[35m\"/opt/hostedtoolcache/Python/3.13.7/x64/lib/python3.13/multiprocessing/resource_tracker.py\"\u001b[0m, line \u001b[35m295\u001b[0m, in \u001b[35mmain\u001b[0m\n",
      "    raise ValueError(\n",
      "        f'Cannot register {name} for automatic cleanup: '\n",
      "        f'unknown resource type {rtype}')\n",
      "\u001b[1;35mValueError\u001b[0m: \u001b[35mCannot register /dev/shm/joblib_memmapping_folder_2222_1f2cbaaa9b794419acbc4e611470818f_2af0d84e65414e2aba43257c936db941 for automatic cleanup: unknown resource type folder\u001b[0m\n"
     ]
    },
    {
     "name": "stderr",
     "output_type": "stream",
     "text": [
      "\r",
      "Scraping 35 games on 01/21/25:  45%|████▍     | 81 of 182 days scraped in 555.3 sec"
     ]
    },
    {
     "name": "stderr",
     "output_type": "stream",
     "text": [
      "Traceback (most recent call last):\n",
      "  File \u001b[35m\"/opt/hostedtoolcache/Python/3.13.7/x64/lib/python3.13/multiprocessing/resource_tracker.py\"\u001b[0m, line \u001b[35m295\u001b[0m, in \u001b[35mmain\u001b[0m\n",
      "    raise ValueError(\n",
      "        f'Cannot register {name} for automatic cleanup: '\n",
      "        f'unknown resource type {rtype}')\n",
      "\u001b[1;35mValueError\u001b[0m: \u001b[35mCannot register /dev/shm/joblib_memmapping_folder_2222_cc0f3ab250584f1780cdc79e122b8197_c137eae7bee3409f942aad6d7a1cc7de for automatic cleanup: unknown resource type folder\u001b[0m\n",
      "Traceback (most recent call last):\n",
      "  File \u001b[35m\"/opt/hostedtoolcache/Python/3.13.7/x64/lib/python3.13/multiprocessing/resource_tracker.py\"\u001b[0m, line \u001b[35m295\u001b[0m, in \u001b[35mmain\u001b[0m\n",
      "    raise ValueError(\n",
      "        f'Cannot register {name} for automatic cleanup: '\n",
      "        f'unknown resource type {rtype}')\n",
      "\u001b[1;35mValueError\u001b[0m: \u001b[35mCannot register /dev/shm/joblib_memmapping_folder_2222_1f2cbaaa9b794419acbc4e611470818f_ebf2c517b1d840ed9482360d742a3589 for automatic cleanup: unknown resource type folder\u001b[0m\n"
     ]
    },
    {
     "name": "stderr",
     "output_type": "stream",
     "text": [
      "\r",
      "Scraping 35 games on 01/21/25:  45%|████▌     | 82 of 182 days scraped in 560.2 secTraceback (most recent call last):\n"
     ]
    },
    {
     "name": "stderr",
     "output_type": "stream",
     "text": [
      "  File \u001b[35m\"/opt/hostedtoolcache/Python/3.13.7/x64/lib/python3.13/multiprocessing/resource_tracker.py\"\u001b[0m, line \u001b[35m295\u001b[0m, in \u001b[35mmain\u001b[0m\n",
      "    raise ValueError(\n",
      "        f'Cannot register {name} for automatic cleanup: '\n",
      "        f'unknown resource type {rtype}')\n",
      "\u001b[1;35mValueError\u001b[0m: \u001b[35mCannot register /dev/shm/joblib_memmapping_folder_2222_1f2cbaaa9b794419acbc4e611470818f_ebf2c517b1d840ed9482360d742a3589 for automatic cleanup: unknown resource type folder\u001b[0m\n"
     ]
    },
    {
     "name": "stderr",
     "output_type": "stream",
     "text": [
      "\r",
      "Scraping 42 games on 01/22/25:  45%|████▌     | 82 of 182 days scraped in 561.4 sec"
     ]
    },
    {
     "name": "stderr",
     "output_type": "stream",
     "text": [
      "Traceback (most recent call last):\n",
      "  File \u001b[35m\"/opt/hostedtoolcache/Python/3.13.7/x64/lib/python3.13/multiprocessing/resource_tracker.py\"\u001b[0m, line \u001b[35m295\u001b[0m, in \u001b[35mmain\u001b[0m\n",
      "    raise ValueError(\n",
      "        f'Cannot register {name} for automatic cleanup: '\n",
      "        f'unknown resource type {rtype}')\n",
      "\u001b[1;35mValueError\u001b[0m: \u001b[35mCannot register /dev/shm/joblib_memmapping_folder_2222_8ba58b1d32664bacaa821a9e2654e08b_199a6ef6416345718edbccffa92ccee9 for automatic cleanup: unknown resource type folder\u001b[0m\n",
      "Traceback (most recent call last):\n",
      "  File \u001b[35m\"/opt/hostedtoolcache/Python/3.13.7/x64/lib/python3.13/multiprocessing/resource_tracker.py\"\u001b[0m, line \u001b[35m295\u001b[0m, in \u001b[35mmain\u001b[0m\n",
      "    raise ValueError(\n",
      "        f'Cannot register {name} for automatic cleanup: '\n",
      "        f'unknown resource type {rtype}')\n",
      "\u001b[1;35mValueError\u001b[0m: \u001b[35mCannot register /dev/shm/joblib_memmapping_folder_2222_1f2cbaaa9b794419acbc4e611470818f_22970e31234c4cc8984ed9eb2f27066b for automatic cleanup: unknown resource type folder\u001b[0m\n"
     ]
    },
    {
     "name": "stderr",
     "output_type": "stream",
     "text": [
      "\r",
      "Scraping 42 games on 01/22/25:  46%|████▌     | 83 of 182 days scraped in 567.6 secTraceback (most recent call last):\n"
     ]
    },
    {
     "name": "stderr",
     "output_type": "stream",
     "text": [
      "  File \u001b[35m\"/opt/hostedtoolcache/Python/3.13.7/x64/lib/python3.13/multiprocessing/resource_tracker.py\"\u001b[0m, line \u001b[35m295\u001b[0m, in \u001b[35mmain\u001b[0m\n",
      "    raise ValueError(\n",
      "        f'Cannot register {name} for automatic cleanup: '\n",
      "        f'unknown resource type {rtype}')\n",
      "\u001b[1;35mValueError\u001b[0m: \u001b[35mCannot register /dev/shm/joblib_memmapping_folder_2222_1f2cbaaa9b794419acbc4e611470818f_22970e31234c4cc8984ed9eb2f27066b for automatic cleanup: unknown resource type folder\u001b[0m\n"
     ]
    },
    {
     "name": "stderr",
     "output_type": "stream",
     "text": [
      "\r",
      "Scraping 61 games on 01/23/25:  46%|████▌     | 83 of 182 days scraped in 568.3 sec"
     ]
    },
    {
     "name": "stderr",
     "output_type": "stream",
     "text": [
      "Traceback (most recent call last):\n",
      "  File \u001b[35m\"/opt/hostedtoolcache/Python/3.13.7/x64/lib/python3.13/multiprocessing/resource_tracker.py\"\u001b[0m, line \u001b[35m295\u001b[0m, in \u001b[35mmain\u001b[0m\n",
      "    raise ValueError(\n",
      "        f'Cannot register {name} for automatic cleanup: '\n",
      "        f'unknown resource type {rtype}')\n",
      "\u001b[1;35mValueError\u001b[0m: \u001b[35mCannot register /dev/shm/joblib_memmapping_folder_2222_35f8e543c79943e28b5a1bda7467f871_91e3a50141cc48d994090e65376dee75 for automatic cleanup: unknown resource type folder\u001b[0m\n",
      "Traceback (most recent call last):\n",
      "  File \u001b[35m\"/opt/hostedtoolcache/Python/3.13.7/x64/lib/python3.13/multiprocessing/resource_tracker.py\"\u001b[0m, line \u001b[35m295\u001b[0m, in \u001b[35mmain\u001b[0m\n",
      "    raise ValueError(\n",
      "        f'Cannot register {name} for automatic cleanup: '\n",
      "        f'unknown resource type {rtype}')\n",
      "\u001b[1;35mValueError\u001b[0m: \u001b[35mCannot register /dev/shm/joblib_memmapping_folder_2222_1f2cbaaa9b794419acbc4e611470818f_e3e32be71e014a49be6b1ffccb1cf263 for automatic cleanup: unknown resource type folder\u001b[0m\n"
     ]
    },
    {
     "name": "stderr",
     "output_type": "stream",
     "text": [
      "\r",
      "Scraping 61 games on 01/23/25:  46%|████▌     | 84 of 182 days scraped in 576.6 secTraceback (most recent call last):\n"
     ]
    },
    {
     "name": "stderr",
     "output_type": "stream",
     "text": [
      "  File \u001b[35m\"/opt/hostedtoolcache/Python/3.13.7/x64/lib/python3.13/multiprocessing/resource_tracker.py\"\u001b[0m, line \u001b[35m295\u001b[0m, in \u001b[35mmain\u001b[0m\n",
      "    raise ValueError(\n",
      "        f'Cannot register {name} for automatic cleanup: '\n",
      "        f'unknown resource type {rtype}')\n",
      "\u001b[1;35mValueError\u001b[0m: \u001b[35mCannot register /dev/shm/joblib_memmapping_folder_2222_1f2cbaaa9b794419acbc4e611470818f_e3e32be71e014a49be6b1ffccb1cf263 for automatic cleanup: unknown resource type folder\u001b[0m\n"
     ]
    },
    {
     "name": "stderr",
     "output_type": "stream",
     "text": [
      "\r",
      "Scraping 14 games on 01/24/25:  46%|████▌     | 84 of 182 days scraped in 576.9 sec"
     ]
    },
    {
     "name": "stderr",
     "output_type": "stream",
     "text": [
      "Traceback (most recent call last):\n",
      "  File \u001b[35m\"/opt/hostedtoolcache/Python/3.13.7/x64/lib/python3.13/multiprocessing/resource_tracker.py\"\u001b[0m, line \u001b[35m295\u001b[0m, in \u001b[35mmain\u001b[0m\n",
      "    raise ValueError(\n",
      "        f'Cannot register {name} for automatic cleanup: '\n",
      "        f'unknown resource type {rtype}')\n",
      "\u001b[1;35mValueError\u001b[0m: \u001b[35mCannot register /dev/shm/joblib_memmapping_folder_2222_d3a3e8b9d69840178d5f74a9594626d3_866cd2306b4b4690b4c32baf3abd02d6 for automatic cleanup: unknown resource type folder\u001b[0m\n",
      "Traceback (most recent call last):\n",
      "  File \u001b[35m\"/opt/hostedtoolcache/Python/3.13.7/x64/lib/python3.13/multiprocessing/resource_tracker.py\"\u001b[0m, line \u001b[35m295\u001b[0m, in \u001b[35mmain\u001b[0m\n",
      "    raise ValueError(\n",
      "        f'Cannot register {name} for automatic cleanup: '\n",
      "        f'unknown resource type {rtype}')\n",
      "\u001b[1;35mValueError\u001b[0m: \u001b[35mCannot register /dev/shm/joblib_memmapping_folder_2222_1f2cbaaa9b794419acbc4e611470818f_555aa051f3e84f83be14ffdeff2bbcec for automatic cleanup: unknown resource type folder\u001b[0m\n"
     ]
    },
    {
     "name": "stderr",
     "output_type": "stream",
     "text": [
      "\r",
      "Scraping 14 games on 01/24/25:  47%|████▋     | 85 of 182 days scraped in 579.0 sec"
     ]
    },
    {
     "name": "stderr",
     "output_type": "stream",
     "text": [
      "Traceback (most recent call last):\n",
      "  File \u001b[35m\"/opt/hostedtoolcache/Python/3.13.7/x64/lib/python3.13/multiprocessing/resource_tracker.py\"\u001b[0m, line \u001b[35m295\u001b[0m, in \u001b[35mmain\u001b[0m\n",
      "    raise ValueError(\n",
      "        f'Cannot register {name} for automatic cleanup: '\n",
      "        f'unknown resource type {rtype}')\n",
      "\u001b[1;35mValueError\u001b[0m: \u001b[35mCannot register /dev/shm/joblib_memmapping_folder_2222_1f2cbaaa9b794419acbc4e611470818f_555aa051f3e84f83be14ffdeff2bbcec for automatic cleanup: unknown resource type folder\u001b[0m\n"
     ]
    },
    {
     "name": "stderr",
     "output_type": "stream",
     "text": [
      "\r",
      "Scraping 149 games on 01/25/25:  47%|████▋     | 85 of 182 days scraped in 580.6 sec"
     ]
    },
    {
     "name": "stderr",
     "output_type": "stream",
     "text": [
      "Traceback (most recent call last):\n",
      "  File \u001b[35m\"/opt/hostedtoolcache/Python/3.13.7/x64/lib/python3.13/multiprocessing/resource_tracker.py\"\u001b[0m, line \u001b[35m295\u001b[0m, in \u001b[35mmain\u001b[0m\n",
      "    raise ValueError(\n",
      "        f'Cannot register {name} for automatic cleanup: '\n",
      "        f'unknown resource type {rtype}')\n",
      "\u001b[1;35mValueError\u001b[0m: \u001b[35mCannot register /dev/shm/joblib_memmapping_folder_2222_08f874c3ebd6443d9f28f6f977f79013_2d894a3edb7b4e79991eab140de3bd33 for automatic cleanup: unknown resource type folder\u001b[0m\n",
      "Traceback (most recent call last):\n",
      "  File \u001b[35m\"/opt/hostedtoolcache/Python/3.13.7/x64/lib/python3.13/multiprocessing/resource_tracker.py\"\u001b[0m, line \u001b[35m295\u001b[0m, in \u001b[35mmain\u001b[0m\n",
      "    raise ValueError(\n",
      "        f'Cannot register {name} for automatic cleanup: '\n",
      "        f'unknown resource type {rtype}')\n",
      "\u001b[1;35mValueError\u001b[0m: \u001b[35mCannot register /dev/shm/joblib_memmapping_folder_2222_1f2cbaaa9b794419acbc4e611470818f_65b89383aef64854b21398d7d0d0a8f1 for automatic cleanup: unknown resource type folder\u001b[0m\n"
     ]
    },
    {
     "name": "stderr",
     "output_type": "stream",
     "text": [
      "\r",
      "Scraping 149 games on 01/25/25:  47%|████▋     | 86 of 182 days scraped in 599.1 sec"
     ]
    },
    {
     "name": "stderr",
     "output_type": "stream",
     "text": [
      "Traceback (most recent call last):\n",
      "  File \u001b[35m\"/opt/hostedtoolcache/Python/3.13.7/x64/lib/python3.13/multiprocessing/resource_tracker.py\"\u001b[0m, line \u001b[35m295\u001b[0m, in \u001b[35mmain\u001b[0m\n",
      "    raise ValueError(\n",
      "        f'Cannot register {name} for automatic cleanup: '\n",
      "        f'unknown resource type {rtype}')\n",
      "\u001b[1;35mValueError\u001b[0m: \u001b[35mCannot register /dev/shm/joblib_memmapping_folder_2222_1f2cbaaa9b794419acbc4e611470818f_65b89383aef64854b21398d7d0d0a8f1 for automatic cleanup: unknown resource type folder\u001b[0m\n"
     ]
    },
    {
     "name": "stderr",
     "output_type": "stream",
     "text": [
      "\r",
      "Scraping 13 games on 01/26/25:  47%|████▋     | 86 of 182 days scraped in 599.4 sec "
     ]
    },
    {
     "name": "stderr",
     "output_type": "stream",
     "text": [
      "Traceback (most recent call last):\n",
      "  File \u001b[35m\"/opt/hostedtoolcache/Python/3.13.7/x64/lib/python3.13/multiprocessing/resource_tracker.py\"\u001b[0m, line \u001b[35m295\u001b[0m, in \u001b[35mmain\u001b[0m\n",
      "    raise ValueError(\n",
      "        f'Cannot register {name} for automatic cleanup: '\n",
      "        f'unknown resource type {rtype}')\n",
      "\u001b[1;35mValueError\u001b[0m: \u001b[35mCannot register /dev/shm/joblib_memmapping_folder_2222_3c66d046f383446abf7913cbea943e16_46ecaacf30ca4b40af61d8e3a1cdb2fe for automatic cleanup: unknown resource type folder\u001b[0m\n",
      "Traceback (most recent call last):\n",
      "  File \u001b[35m\"/opt/hostedtoolcache/Python/3.13.7/x64/lib/python3.13/multiprocessing/resource_tracker.py\"\u001b[0m, line \u001b[35m295\u001b[0m, in \u001b[35mmain\u001b[0m\n",
      "    raise ValueError(\n",
      "        f'Cannot register {name} for automatic cleanup: '\n",
      "        f'unknown resource type {rtype}')\n",
      "\u001b[1;35mValueError\u001b[0m: \u001b[35mCannot register /dev/shm/joblib_memmapping_folder_2222_1f2cbaaa9b794419acbc4e611470818f_b8ba63b714da44dd963ca2ad356d8fed for automatic cleanup: unknown resource type folder\u001b[0m\n"
     ]
    },
    {
     "name": "stderr",
     "output_type": "stream",
     "text": [
      "\r",
      "Scraping 13 games on 01/26/25:  48%|████▊     | 87 of 182 days scraped in 601.3 secTraceback (most recent call last):\n"
     ]
    },
    {
     "name": "stderr",
     "output_type": "stream",
     "text": [
      "  File \u001b[35m\"/opt/hostedtoolcache/Python/3.13.7/x64/lib/python3.13/multiprocessing/resource_tracker.py\"\u001b[0m, line \u001b[35m295\u001b[0m, in \u001b[35mmain\u001b[0m\n",
      "    raise ValueError(\n",
      "        f'Cannot register {name} for automatic cleanup: '\n",
      "        f'unknown resource type {rtype}')\n",
      "\u001b[1;35mValueError\u001b[0m: \u001b[35mCannot register /dev/shm/joblib_memmapping_folder_2222_1f2cbaaa9b794419acbc4e611470818f_b8ba63b714da44dd963ca2ad356d8fed for automatic cleanup: unknown resource type folder\u001b[0m\n"
     ]
    },
    {
     "name": "stderr",
     "output_type": "stream",
     "text": [
      "\r",
      "Scraping 22 games on 01/27/25:  48%|████▊     | 87 of 182 days scraped in 601.7 sec"
     ]
    },
    {
     "name": "stderr",
     "output_type": "stream",
     "text": [
      "Traceback (most recent call last):\n",
      "  File \u001b[35m\"/opt/hostedtoolcache/Python/3.13.7/x64/lib/python3.13/multiprocessing/resource_tracker.py\"\u001b[0m, line \u001b[35m295\u001b[0m, in \u001b[35mmain\u001b[0m\n",
      "    raise ValueError(\n",
      "        f'Cannot register {name} for automatic cleanup: '\n",
      "        f'unknown resource type {rtype}')\n",
      "\u001b[1;35mValueError\u001b[0m: \u001b[35mCannot register /dev/shm/joblib_memmapping_folder_2222_bef606ac6d954c30bb23f5f3d803344e_fc0b750950904c899aa2734f3aa3401a for automatic cleanup: unknown resource type folder\u001b[0m\n",
      "Traceback (most recent call last):\n",
      "  File \u001b[35m\"/opt/hostedtoolcache/Python/3.13.7/x64/lib/python3.13/multiprocessing/resource_tracker.py\"\u001b[0m, line \u001b[35m295\u001b[0m, in \u001b[35mmain\u001b[0m\n",
      "    raise ValueError(\n",
      "        f'Cannot register {name} for automatic cleanup: '\n",
      "        f'unknown resource type {rtype}')\n",
      "\u001b[1;35mValueError\u001b[0m: \u001b[35mCannot register /dev/shm/joblib_memmapping_folder_2222_1f2cbaaa9b794419acbc4e611470818f_6e82add1cdea441e9f07475c14655a7d for automatic cleanup: unknown resource type folder\u001b[0m\n"
     ]
    },
    {
     "name": "stderr",
     "output_type": "stream",
     "text": [
      "\r",
      "Scraping 22 games on 01/27/25:  48%|████▊     | 88 of 182 days scraped in 604.8 sec"
     ]
    },
    {
     "name": "stderr",
     "output_type": "stream",
     "text": [
      "Traceback (most recent call last):\n",
      "  File \u001b[35m\"/opt/hostedtoolcache/Python/3.13.7/x64/lib/python3.13/multiprocessing/resource_tracker.py\"\u001b[0m, line \u001b[35m295\u001b[0m, in \u001b[35mmain\u001b[0m\n",
      "    raise ValueError(\n",
      "        f'Cannot register {name} for automatic cleanup: '\n",
      "        f'unknown resource type {rtype}')\n",
      "\u001b[1;35mValueError\u001b[0m: \u001b[35mCannot register /dev/shm/joblib_memmapping_folder_2222_1f2cbaaa9b794419acbc4e611470818f_6e82add1cdea441e9f07475c14655a7d for automatic cleanup: unknown resource type folder\u001b[0m\n"
     ]
    },
    {
     "name": "stderr",
     "output_type": "stream",
     "text": [
      "\r",
      "Scraping 29 games on 01/28/25:  48%|████▊     | 88 of 182 days scraped in 605.3 sec"
     ]
    },
    {
     "name": "stderr",
     "output_type": "stream",
     "text": [
      "Traceback (most recent call last):\n",
      "  File \u001b[35m\"/opt/hostedtoolcache/Python/3.13.7/x64/lib/python3.13/multiprocessing/resource_tracker.py\"\u001b[0m, line \u001b[35m295\u001b[0m, in \u001b[35mmain\u001b[0m\n",
      "    raise ValueError(\n",
      "        f'Cannot register {name} for automatic cleanup: '\n",
      "        f'unknown resource type {rtype}')\n",
      "\u001b[1;35mValueError\u001b[0m: \u001b[35mCannot register /dev/shm/joblib_memmapping_folder_2222_af292df99dbf43cc9fb277fa8822a57f_325105207ea249b3aec703bb0c25b346 for automatic cleanup: unknown resource type folder\u001b[0m\n",
      "Traceback (most recent call last):\n",
      "  File \u001b[35m\"/opt/hostedtoolcache/Python/3.13.7/x64/lib/python3.13/multiprocessing/resource_tracker.py\"\u001b[0m, line \u001b[35m295\u001b[0m, in \u001b[35mmain\u001b[0m\n",
      "    raise ValueError(\n",
      "        f'Cannot register {name} for automatic cleanup: '\n",
      "        f'unknown resource type {rtype}')\n",
      "\u001b[1;35mValueError\u001b[0m: \u001b[35mCannot register /dev/shm/joblib_memmapping_folder_2222_1f2cbaaa9b794419acbc4e611470818f_c76abd0a4bc24a0580d976e9dffdbbec for automatic cleanup: unknown resource type folder\u001b[0m\n"
     ]
    },
    {
     "name": "stderr",
     "output_type": "stream",
     "text": [
      "\r",
      "Scraping 29 games on 01/28/25:  49%|████▉     | 89 of 182 days scraped in 609.5 sec"
     ]
    },
    {
     "name": "stderr",
     "output_type": "stream",
     "text": [
      "Traceback (most recent call last):\n",
      "  File \u001b[35m\"/opt/hostedtoolcache/Python/3.13.7/x64/lib/python3.13/multiprocessing/resource_tracker.py\"\u001b[0m, line \u001b[35m295\u001b[0m, in \u001b[35mmain\u001b[0m\n",
      "    raise ValueError(\n",
      "        f'Cannot register {name} for automatic cleanup: '\n",
      "        f'unknown resource type {rtype}')\n",
      "\u001b[1;35mValueError\u001b[0m: \u001b[35mCannot register /dev/shm/joblib_memmapping_folder_2222_1f2cbaaa9b794419acbc4e611470818f_c76abd0a4bc24a0580d976e9dffdbbec for automatic cleanup: unknown resource type folder\u001b[0m\n"
     ]
    },
    {
     "name": "stderr",
     "output_type": "stream",
     "text": [
      "\r",
      "Scraping 52 games on 01/29/25:  49%|████▉     | 89 of 182 days scraped in 610.1 sec"
     ]
    },
    {
     "name": "stderr",
     "output_type": "stream",
     "text": [
      "Traceback (most recent call last):\n",
      "  File \u001b[35m\"/opt/hostedtoolcache/Python/3.13.7/x64/lib/python3.13/multiprocessing/resource_tracker.py\"\u001b[0m, line \u001b[35m295\u001b[0m, in \u001b[35mmain\u001b[0m\n",
      "    raise ValueError(\n",
      "        f'Cannot register {name} for automatic cleanup: '\n",
      "        f'unknown resource type {rtype}')\n",
      "\u001b[1;35mValueError\u001b[0m: \u001b[35mCannot register /dev/shm/joblib_memmapping_folder_2222_a36a8bd303a447ad846aec99e1eea2bf_a41075d9ba88453aafa0d28f87b0bcdf for automatic cleanup: unknown resource type folder\u001b[0m\n",
      "Traceback (most recent call last):\n",
      "  File \u001b[35m\"/opt/hostedtoolcache/Python/3.13.7/x64/lib/python3.13/multiprocessing/resource_tracker.py\"\u001b[0m, line \u001b[35m295\u001b[0m, in \u001b[35mmain\u001b[0m\n",
      "    raise ValueError(\n",
      "        f'Cannot register {name} for automatic cleanup: '\n",
      "        f'unknown resource type {rtype}')\n",
      "\u001b[1;35mValueError\u001b[0m: \u001b[35mCannot register /dev/shm/joblib_memmapping_folder_2222_1f2cbaaa9b794419acbc4e611470818f_840558e916574510a0f89f5dbe452c5e for automatic cleanup: unknown resource type folder\u001b[0m\n"
     ]
    },
    {
     "name": "stderr",
     "output_type": "stream",
     "text": [
      "\r",
      "Scraping 52 games on 01/29/25:  49%|████▉     | 90 of 182 days scraped in 617.2 sec"
     ]
    },
    {
     "name": "stderr",
     "output_type": "stream",
     "text": [
      "Traceback (most recent call last):\n",
      "  File \u001b[35m\"/opt/hostedtoolcache/Python/3.13.7/x64/lib/python3.13/multiprocessing/resource_tracker.py\"\u001b[0m, line \u001b[35m295\u001b[0m, in \u001b[35mmain\u001b[0m\n",
      "    raise ValueError(\n",
      "        f'Cannot register {name} for automatic cleanup: '\n",
      "        f'unknown resource type {rtype}')\n",
      "\u001b[1;35mValueError\u001b[0m: \u001b[35mCannot register /dev/shm/joblib_memmapping_folder_2222_1f2cbaaa9b794419acbc4e611470818f_840558e916574510a0f89f5dbe452c5e for automatic cleanup: unknown resource type folder\u001b[0m\n"
     ]
    },
    {
     "name": "stderr",
     "output_type": "stream",
     "text": [
      "\r",
      "Scraping 58 games on 01/30/25:  49%|████▉     | 90 of 182 days scraped in 617.8 sec"
     ]
    },
    {
     "name": "stderr",
     "output_type": "stream",
     "text": [
      "Traceback (most recent call last):\n",
      "  File \u001b[35m\"/opt/hostedtoolcache/Python/3.13.7/x64/lib/python3.13/multiprocessing/resource_tracker.py\"\u001b[0m, line \u001b[35m295\u001b[0m, in \u001b[35mmain\u001b[0m\n",
      "    raise ValueError(\n",
      "        f'Cannot register {name} for automatic cleanup: '\n",
      "        f'unknown resource type {rtype}')\n",
      "\u001b[1;35mValueError\u001b[0m: \u001b[35mCannot register /dev/shm/joblib_memmapping_folder_2222_0379691568be4c9e948395d5be8bb853_01888ed5caf54423b7b6c9534143f6ac for automatic cleanup: unknown resource type folder\u001b[0m\n",
      "Traceback (most recent call last):\n",
      "  File \u001b[35m\"/opt/hostedtoolcache/Python/3.13.7/x64/lib/python3.13/multiprocessing/resource_tracker.py\"\u001b[0m, line \u001b[35m295\u001b[0m, in \u001b[35mmain\u001b[0m\n",
      "    raise ValueError(\n",
      "        f'Cannot register {name} for automatic cleanup: '\n",
      "        f'unknown resource type {rtype}')\n",
      "\u001b[1;35mValueError\u001b[0m: \u001b[35mCannot register /dev/shm/joblib_memmapping_folder_2222_1f2cbaaa9b794419acbc4e611470818f_32f2ae16a4034de28a2e8b9c7b47e9e5 for automatic cleanup: unknown resource type folder\u001b[0m\n"
     ]
    },
    {
     "name": "stderr",
     "output_type": "stream",
     "text": [
      "\r",
      "Scraping 58 games on 01/30/25:  50%|█████     | 91 of 182 days scraped in 624.9 secTraceback (most recent call last):\n"
     ]
    },
    {
     "name": "stderr",
     "output_type": "stream",
     "text": [
      "  File \u001b[35m\"/opt/hostedtoolcache/Python/3.13.7/x64/lib/python3.13/multiprocessing/resource_tracker.py\"\u001b[0m, line \u001b[35m295\u001b[0m, in \u001b[35mmain\u001b[0m\n",
      "    raise ValueError(\n",
      "        f'Cannot register {name} for automatic cleanup: '\n",
      "        f'unknown resource type {rtype}')\n",
      "\u001b[1;35mValueError\u001b[0m: \u001b[35mCannot register /dev/shm/joblib_memmapping_folder_2222_1f2cbaaa9b794419acbc4e611470818f_32f2ae16a4034de28a2e8b9c7b47e9e5 for automatic cleanup: unknown resource type folder\u001b[0m\n"
     ]
    },
    {
     "name": "stderr",
     "output_type": "stream",
     "text": [
      "\r",
      "Scraping 14 games on 01/31/25:  50%|█████     | 91 of 182 days scraped in 625.4 sec"
     ]
    },
    {
     "name": "stderr",
     "output_type": "stream",
     "text": [
      "Traceback (most recent call last):\n",
      "  File \u001b[35m\"/opt/hostedtoolcache/Python/3.13.7/x64/lib/python3.13/multiprocessing/resource_tracker.py\"\u001b[0m, line \u001b[35m295\u001b[0m, in \u001b[35mmain\u001b[0m\n",
      "    raise ValueError(\n",
      "        f'Cannot register {name} for automatic cleanup: '\n",
      "        f'unknown resource type {rtype}')\n",
      "\u001b[1;35mValueError\u001b[0m: \u001b[35mCannot register /dev/shm/joblib_memmapping_folder_2222_3e5b882bfe2d483da7f388f04001f4b6_2b061a54e86a4f229227c3687a36fe03 for automatic cleanup: unknown resource type folder\u001b[0m\n",
      "Traceback (most recent call last):\n",
      "  File \u001b[35m\"/opt/hostedtoolcache/Python/3.13.7/x64/lib/python3.13/multiprocessing/resource_tracker.py\"\u001b[0m, line \u001b[35m295\u001b[0m, in \u001b[35mmain\u001b[0m\n",
      "    raise ValueError(\n",
      "        f'Cannot register {name} for automatic cleanup: '\n",
      "        f'unknown resource type {rtype}')\n",
      "\u001b[1;35mValueError\u001b[0m: \u001b[35mCannot register /dev/shm/joblib_memmapping_folder_2222_1f2cbaaa9b794419acbc4e611470818f_9aa11d426c8242cf94c023a438b73ca7 for automatic cleanup: unknown resource type folder\u001b[0m\n"
     ]
    },
    {
     "name": "stderr",
     "output_type": "stream",
     "text": [
      "\r",
      "Scraping 14 games on 01/31/25:  51%|█████     | 92 of 182 days scraped in 627.3 sec"
     ]
    },
    {
     "name": "stderr",
     "output_type": "stream",
     "text": [
      "Traceback (most recent call last):\n",
      "  File \u001b[35m\"/opt/hostedtoolcache/Python/3.13.7/x64/lib/python3.13/multiprocessing/resource_tracker.py\"\u001b[0m, line \u001b[35m295\u001b[0m, in \u001b[35mmain\u001b[0m\n",
      "    raise ValueError(\n",
      "        f'Cannot register {name} for automatic cleanup: '\n",
      "        f'unknown resource type {rtype}')\n",
      "\u001b[1;35mValueError\u001b[0m: \u001b[35mCannot register /dev/shm/joblib_memmapping_folder_2222_1f2cbaaa9b794419acbc4e611470818f_9aa11d426c8242cf94c023a438b73ca7 for automatic cleanup: unknown resource type folder\u001b[0m\n"
     ]
    },
    {
     "name": "stderr",
     "output_type": "stream",
     "text": [
      "\r",
      "Scraping 146 games on 02/01/25:  51%|█████     | 92 of 182 days scraped in 628.8 sec"
     ]
    },
    {
     "name": "stderr",
     "output_type": "stream",
     "text": [
      "Traceback (most recent call last):\n",
      "  File \u001b[35m\"/opt/hostedtoolcache/Python/3.13.7/x64/lib/python3.13/multiprocessing/resource_tracker.py\"\u001b[0m, line \u001b[35m295\u001b[0m, in \u001b[35mmain\u001b[0m\n",
      "    raise ValueError(\n",
      "        f'Cannot register {name} for automatic cleanup: '\n",
      "        f'unknown resource type {rtype}')\n",
      "\u001b[1;35mValueError\u001b[0m: \u001b[35mCannot register /dev/shm/joblib_memmapping_folder_2222_f33c09ddf2b84e408d457d9b81b73918_670ca6e7fd0c4c6f80278883ccb9d94f for automatic cleanup: unknown resource type folder\u001b[0m\n",
      "Traceback (most recent call last):\n",
      "  File \u001b[35m\"/opt/hostedtoolcache/Python/3.13.7/x64/lib/python3.13/multiprocessing/resource_tracker.py\"\u001b[0m, line \u001b[35m295\u001b[0m, in \u001b[35mmain\u001b[0m\n",
      "    raise ValueError(\n",
      "        f'Cannot register {name} for automatic cleanup: '\n",
      "        f'unknown resource type {rtype}')\n",
      "\u001b[1;35mValueError\u001b[0m: \u001b[35mCannot register /dev/shm/joblib_memmapping_folder_2222_1f2cbaaa9b794419acbc4e611470818f_ccd2452f8f074309bf46d904340116bc for automatic cleanup: unknown resource type folder\u001b[0m\n"
     ]
    },
    {
     "name": "stderr",
     "output_type": "stream",
     "text": [
      "\r",
      "Scraping 146 games on 02/01/25:  51%|█████     | 93 of 182 days scraped in 647.7 sec"
     ]
    },
    {
     "name": "stderr",
     "output_type": "stream",
     "text": [
      "Traceback (most recent call last):\n",
      "  File \u001b[35m\"/opt/hostedtoolcache/Python/3.13.7/x64/lib/python3.13/multiprocessing/resource_tracker.py\"\u001b[0m, line \u001b[35m295\u001b[0m, in \u001b[35mmain\u001b[0m\n",
      "    raise ValueError(\n",
      "        f'Cannot register {name} for automatic cleanup: '\n",
      "        f'unknown resource type {rtype}')\n",
      "\u001b[1;35mValueError\u001b[0m: \u001b[35mCannot register /dev/shm/joblib_memmapping_folder_2222_1f2cbaaa9b794419acbc4e611470818f_ccd2452f8f074309bf46d904340116bc for automatic cleanup: unknown resource type folder\u001b[0m\n"
     ]
    },
    {
     "name": "stderr",
     "output_type": "stream",
     "text": [
      "\r",
      "Scraping 19 games on 02/02/25:  51%|█████     | 93 of 182 days scraped in 648.2 sec "
     ]
    },
    {
     "name": "stderr",
     "output_type": "stream",
     "text": [
      "Traceback (most recent call last):\n",
      "  File \u001b[35m\"/opt/hostedtoolcache/Python/3.13.7/x64/lib/python3.13/multiprocessing/resource_tracker.py\"\u001b[0m, line \u001b[35m295\u001b[0m, in \u001b[35mmain\u001b[0m\n",
      "    raise ValueError(\n",
      "        f'Cannot register {name} for automatic cleanup: '\n",
      "        f'unknown resource type {rtype}')\n",
      "\u001b[1;35mValueError\u001b[0m: \u001b[35mCannot register /dev/shm/joblib_memmapping_folder_2222_d6e0e2a44fa245b28229a37945d89ed8_4a8ded5bd1ad476ea477d3e2456ca99b for automatic cleanup: unknown resource type folder\u001b[0m\n",
      "Traceback (most recent call last):\n",
      "  File \u001b[35m\"/opt/hostedtoolcache/Python/3.13.7/x64/lib/python3.13/multiprocessing/resource_tracker.py\"\u001b[0m, line \u001b[35m295\u001b[0m, in \u001b[35mmain\u001b[0m\n",
      "    raise ValueError(\n",
      "        f'Cannot register {name} for automatic cleanup: '\n",
      "        f'unknown resource type {rtype}')\n",
      "\u001b[1;35mValueError\u001b[0m: \u001b[35mCannot register /dev/shm/joblib_memmapping_folder_2222_1f2cbaaa9b794419acbc4e611470818f_1b1667a7517547438ae861811d14f632 for automatic cleanup: unknown resource type folder\u001b[0m\n"
     ]
    },
    {
     "name": "stderr",
     "output_type": "stream",
     "text": [
      "\r",
      "Scraping 19 games on 02/02/25:  52%|█████▏    | 94 of 182 days scraped in 650.7 sec"
     ]
    },
    {
     "name": "stderr",
     "output_type": "stream",
     "text": [
      "Traceback (most recent call last):\n",
      "  File \u001b[35m\"/opt/hostedtoolcache/Python/3.13.7/x64/lib/python3.13/multiprocessing/resource_tracker.py\"\u001b[0m, line \u001b[35m295\u001b[0m, in \u001b[35mmain\u001b[0m\n",
      "    raise ValueError(\n",
      "        f'Cannot register {name} for automatic cleanup: '\n",
      "        f'unknown resource type {rtype}')\n",
      "\u001b[1;35mValueError\u001b[0m: \u001b[35mCannot register /dev/shm/joblib_memmapping_folder_2222_1f2cbaaa9b794419acbc4e611470818f_1b1667a7517547438ae861811d14f632 for automatic cleanup: unknown resource type folder\u001b[0m\n"
     ]
    },
    {
     "name": "stderr",
     "output_type": "stream",
     "text": [
      "\r",
      "Scraping 21 games on 02/03/25:  52%|█████▏    | 94 of 182 days scraped in 651.5 sec"
     ]
    },
    {
     "name": "stderr",
     "output_type": "stream",
     "text": [
      "Traceback (most recent call last):\n",
      "  File \u001b[35m\"/opt/hostedtoolcache/Python/3.13.7/x64/lib/python3.13/multiprocessing/resource_tracker.py\"\u001b[0m, line \u001b[35m295\u001b[0m, in \u001b[35mmain\u001b[0m\n",
      "    raise ValueError(\n",
      "        f'Cannot register {name} for automatic cleanup: '\n",
      "        f'unknown resource type {rtype}')\n",
      "\u001b[1;35mValueError\u001b[0m: \u001b[35mCannot register /dev/shm/joblib_memmapping_folder_2222_22640f086da4466b8928b9b4c1874c24_ff3a9f567d334a29bced1856846e4ee9 for automatic cleanup: unknown resource type folder\u001b[0m\n",
      "Traceback (most recent call last):\n",
      "  File \u001b[35m\"/opt/hostedtoolcache/Python/3.13.7/x64/lib/python3.13/multiprocessing/resource_tracker.py\"\u001b[0m, line \u001b[35m295\u001b[0m, in \u001b[35mmain\u001b[0m\n",
      "    raise ValueError(\n",
      "        f'Cannot register {name} for automatic cleanup: '\n",
      "        f'unknown resource type {rtype}')\n",
      "\u001b[1;35mValueError\u001b[0m: \u001b[35mCannot register /dev/shm/joblib_memmapping_folder_2222_1f2cbaaa9b794419acbc4e611470818f_e0d8d7f470de4afcbca962ebf966fc18 for automatic cleanup: unknown resource type folder\u001b[0m\n"
     ]
    },
    {
     "name": "stderr",
     "output_type": "stream",
     "text": [
      "\r",
      "Scraping 21 games on 02/03/25:  52%|█████▏    | 95 of 182 days scraped in 654.0 sec"
     ]
    },
    {
     "name": "stderr",
     "output_type": "stream",
     "text": [
      "Traceback (most recent call last):\n",
      "  File \u001b[35m\"/opt/hostedtoolcache/Python/3.13.7/x64/lib/python3.13/multiprocessing/resource_tracker.py\"\u001b[0m, line \u001b[35m295\u001b[0m, in \u001b[35mmain\u001b[0m\n",
      "    raise ValueError(\n",
      "        f'Cannot register {name} for automatic cleanup: '\n",
      "        f'unknown resource type {rtype}')\n",
      "\u001b[1;35mValueError\u001b[0m: \u001b[35mCannot register /dev/shm/joblib_memmapping_folder_2222_1f2cbaaa9b794419acbc4e611470818f_e0d8d7f470de4afcbca962ebf966fc18 for automatic cleanup: unknown resource type folder\u001b[0m\n"
     ]
    },
    {
     "name": "stderr",
     "output_type": "stream",
     "text": [
      "\r",
      "Scraping 34 games on 02/04/25:  52%|█████▏    | 95 of 182 days scraped in 654.5 sec"
     ]
    },
    {
     "name": "stderr",
     "output_type": "stream",
     "text": [
      "Traceback (most recent call last):\n",
      "  File \u001b[35m\"/opt/hostedtoolcache/Python/3.13.7/x64/lib/python3.13/multiprocessing/resource_tracker.py\"\u001b[0m, line \u001b[35m295\u001b[0m, in \u001b[35mmain\u001b[0m\n",
      "    raise ValueError(\n",
      "        f'Cannot register {name} for automatic cleanup: '\n",
      "        f'unknown resource type {rtype}')\n",
      "\u001b[1;35mValueError\u001b[0m: \u001b[35mCannot register /dev/shm/joblib_memmapping_folder_2222_82cb90af59dc4a70921ae4f0c2d23fa1_42ddeac451374d389be599cd0b13e420 for automatic cleanup: unknown resource type folder\u001b[0m\n",
      "Traceback (most recent call last):\n",
      "  File \u001b[35m\"/opt/hostedtoolcache/Python/3.13.7/x64/lib/python3.13/multiprocessing/resource_tracker.py\"\u001b[0m, line \u001b[35m295\u001b[0m, in \u001b[35mmain\u001b[0m\n",
      "    raise ValueError(\n",
      "        f'Cannot register {name} for automatic cleanup: '\n",
      "        f'unknown resource type {rtype}')\n",
      "\u001b[1;35mValueError\u001b[0m: \u001b[35mCannot register /dev/shm/joblib_memmapping_folder_2222_1f2cbaaa9b794419acbc4e611470818f_da0b7e98533942fca052e1d54d66545c for automatic cleanup: unknown resource type folder\u001b[0m\n"
     ]
    },
    {
     "name": "stderr",
     "output_type": "stream",
     "text": [
      "\r",
      "Scraping 34 games on 02/04/25:  53%|█████▎    | 96 of 182 days scraped in 659.3 secTraceback (most recent call last):\n"
     ]
    },
    {
     "name": "stderr",
     "output_type": "stream",
     "text": [
      "  File \u001b[35m\"/opt/hostedtoolcache/Python/3.13.7/x64/lib/python3.13/multiprocessing/resource_tracker.py\"\u001b[0m, line \u001b[35m295\u001b[0m, in \u001b[35mmain\u001b[0m\n",
      "    raise ValueError(\n",
      "        f'Cannot register {name} for automatic cleanup: '\n",
      "        f'unknown resource type {rtype}')\n",
      "\u001b[1;35mValueError\u001b[0m: \u001b[35mCannot register /dev/shm/joblib_memmapping_folder_2222_1f2cbaaa9b794419acbc4e611470818f_da0b7e98533942fca052e1d54d66545c for automatic cleanup: unknown resource type folder\u001b[0m\n"
     ]
    },
    {
     "name": "stderr",
     "output_type": "stream",
     "text": [
      "\r",
      "Scraping 55 games on 02/05/25:  53%|█████▎    | 96 of 182 days scraped in 659.9 sec"
     ]
    },
    {
     "name": "stderr",
     "output_type": "stream",
     "text": [
      "Traceback (most recent call last):\n",
      "  File \u001b[35m\"/opt/hostedtoolcache/Python/3.13.7/x64/lib/python3.13/multiprocessing/resource_tracker.py\"\u001b[0m, line \u001b[35m295\u001b[0m, in \u001b[35mmain\u001b[0m\n",
      "    raise ValueError(\n",
      "        f'Cannot register {name} for automatic cleanup: '\n",
      "        f'unknown resource type {rtype}')\n",
      "\u001b[1;35mValueError\u001b[0m: \u001b[35mCannot register /dev/shm/joblib_memmapping_folder_2222_6ab5d55c9a4a4ebfa2c5ca6550931038_2bd6686bb512499dac5e0bd94cb243c1 for automatic cleanup: unknown resource type folder\u001b[0m\n",
      "Traceback (most recent call last):\n",
      "  File \u001b[35m\"/opt/hostedtoolcache/Python/3.13.7/x64/lib/python3.13/multiprocessing/resource_tracker.py\"\u001b[0m, line \u001b[35m295\u001b[0m, in \u001b[35mmain\u001b[0m\n",
      "    raise ValueError(\n",
      "        f'Cannot register {name} for automatic cleanup: '\n",
      "        f'unknown resource type {rtype}')\n",
      "\u001b[1;35mValueError\u001b[0m: \u001b[35mCannot register /dev/shm/joblib_memmapping_folder_2222_1f2cbaaa9b794419acbc4e611470818f_7cf7d4a69ec84b0ab6dc383cc64515a1 for automatic cleanup: unknown resource type folder\u001b[0m\n"
     ]
    },
    {
     "name": "stderr",
     "output_type": "stream",
     "text": [
      "\r",
      "Scraping 55 games on 02/05/25:  53%|█████▎    | 97 of 182 days scraped in 667.2 sec"
     ]
    },
    {
     "name": "stderr",
     "output_type": "stream",
     "text": [
      "Traceback (most recent call last):\n",
      "  File \u001b[35m\"/opt/hostedtoolcache/Python/3.13.7/x64/lib/python3.13/multiprocessing/resource_tracker.py\"\u001b[0m, line \u001b[35m295\u001b[0m, in \u001b[35mmain\u001b[0m\n",
      "    raise ValueError(\n",
      "        f'Cannot register {name} for automatic cleanup: '\n",
      "        f'unknown resource type {rtype}')\n",
      "\u001b[1;35mValueError\u001b[0m: \u001b[35mCannot register /dev/shm/joblib_memmapping_folder_2222_1f2cbaaa9b794419acbc4e611470818f_7cf7d4a69ec84b0ab6dc383cc64515a1 for automatic cleanup: unknown resource type folder\u001b[0m\n"
     ]
    },
    {
     "name": "stderr",
     "output_type": "stream",
     "text": [
      "\r",
      "Scraping 59 games on 02/06/25:  53%|█████▎    | 97 of 182 days scraped in 667.8 sec"
     ]
    },
    {
     "name": "stderr",
     "output_type": "stream",
     "text": [
      "Traceback (most recent call last):\n",
      "  File \u001b[35m\"/opt/hostedtoolcache/Python/3.13.7/x64/lib/python3.13/multiprocessing/resource_tracker.py\"\u001b[0m, line \u001b[35m295\u001b[0m, in \u001b[35mmain\u001b[0m\n",
      "    raise ValueError(\n",
      "        f'Cannot register {name} for automatic cleanup: '\n",
      "        f'unknown resource type {rtype}')\n",
      "\u001b[1;35mValueError\u001b[0m: \u001b[35mCannot register /dev/shm/joblib_memmapping_folder_2222_e5802d60a5144327947b2897c60b83d5_34c5a6ae5c13497db6e689eebaf93074 for automatic cleanup: unknown resource type folder\u001b[0m\n",
      "Traceback (most recent call last):\n",
      "  File \u001b[35m\"/opt/hostedtoolcache/Python/3.13.7/x64/lib/python3.13/multiprocessing/resource_tracker.py\"\u001b[0m, line \u001b[35m295\u001b[0m, in \u001b[35mmain\u001b[0m\n",
      "    raise ValueError(\n",
      "        f'Cannot register {name} for automatic cleanup: '\n",
      "        f'unknown resource type {rtype}')\n",
      "\u001b[1;35mValueError\u001b[0m: \u001b[35mCannot register /dev/shm/joblib_memmapping_folder_2222_1f2cbaaa9b794419acbc4e611470818f_84217ef997d0476d987814585acc8db6 for automatic cleanup: unknown resource type folder\u001b[0m\n"
     ]
    },
    {
     "name": "stderr",
     "output_type": "stream",
     "text": [
      "\r",
      "Scraping 59 games on 02/06/25:  54%|█████▍    | 98 of 182 days scraped in 675.8 sec"
     ]
    },
    {
     "name": "stderr",
     "output_type": "stream",
     "text": [
      "Traceback (most recent call last):\n",
      "  File \u001b[35m\"/opt/hostedtoolcache/Python/3.13.7/x64/lib/python3.13/multiprocessing/resource_tracker.py\"\u001b[0m, line \u001b[35m295\u001b[0m, in \u001b[35mmain\u001b[0m\n",
      "    raise ValueError(\n",
      "        f'Cannot register {name} for automatic cleanup: '\n",
      "        f'unknown resource type {rtype}')\n",
      "\u001b[1;35mValueError\u001b[0m: \u001b[35mCannot register /dev/shm/joblib_memmapping_folder_2222_1f2cbaaa9b794419acbc4e611470818f_84217ef997d0476d987814585acc8db6 for automatic cleanup: unknown resource type folder\u001b[0m\n"
     ]
    },
    {
     "name": "stderr",
     "output_type": "stream",
     "text": [
      "\r",
      "Scraping 7 games on 02/07/25:  54%|█████▍    | 98 of 182 days scraped in 676.2 sec "
     ]
    },
    {
     "name": "stderr",
     "output_type": "stream",
     "text": [
      "Traceback (most recent call last):\n",
      "  File \u001b[35m\"/opt/hostedtoolcache/Python/3.13.7/x64/lib/python3.13/multiprocessing/resource_tracker.py\"\u001b[0m, line \u001b[35m295\u001b[0m, in \u001b[35mmain\u001b[0m\n",
      "    raise ValueError(\n",
      "        f'Cannot register {name} for automatic cleanup: '\n",
      "        f'unknown resource type {rtype}')\n",
      "\u001b[1;35mValueError\u001b[0m: \u001b[35mCannot register /dev/shm/joblib_memmapping_folder_2222_9b5d887928c44d498a6ff4b680232b37_7615287b3c184deab099e4fea29cd960 for automatic cleanup: unknown resource type folder\u001b[0m\n",
      "Traceback (most recent call last):\n",
      "  File \u001b[35m\"/opt/hostedtoolcache/Python/3.13.7/x64/lib/python3.13/multiprocessing/resource_tracker.py\"\u001b[0m, line \u001b[35m295\u001b[0m, in \u001b[35mmain\u001b[0m\n",
      "    raise ValueError(\n",
      "        f'Cannot register {name} for automatic cleanup: '\n",
      "        f'unknown resource type {rtype}')\n",
      "\u001b[1;35mValueError\u001b[0m: \u001b[35mCannot register /dev/shm/joblib_memmapping_folder_2222_1f2cbaaa9b794419acbc4e611470818f_f7599167b4d64a28a7d401aa04a7c50e for automatic cleanup: unknown resource type folder\u001b[0m\n"
     ]
    },
    {
     "name": "stderr",
     "output_type": "stream",
     "text": [
      "\r",
      "Scraping 7 games on 02/07/25:  54%|█████▍    | 99 of 182 days scraped in 677.2 secTraceback (most recent call last):\n"
     ]
    },
    {
     "name": "stderr",
     "output_type": "stream",
     "text": [
      "  File \u001b[35m\"/opt/hostedtoolcache/Python/3.13.7/x64/lib/python3.13/multiprocessing/resource_tracker.py\"\u001b[0m, line \u001b[35m295\u001b[0m, in \u001b[35mmain\u001b[0m\n",
      "    raise ValueError(\n",
      "        f'Cannot register {name} for automatic cleanup: '\n",
      "        f'unknown resource type {rtype}')\n",
      "\u001b[1;35mValueError\u001b[0m: \u001b[35mCannot register /dev/shm/joblib_memmapping_folder_2222_1f2cbaaa9b794419acbc4e611470818f_f7599167b4d64a28a7d401aa04a7c50e for automatic cleanup: unknown resource type folder\u001b[0m\n"
     ]
    },
    {
     "name": "stderr",
     "output_type": "stream",
     "text": [
      "\r",
      "Scraping 155 games on 02/08/25:  54%|█████▍    | 99 of 182 days scraped in 678.5 sec"
     ]
    },
    {
     "name": "stderr",
     "output_type": "stream",
     "text": [
      "Traceback (most recent call last):\n",
      "  File \u001b[35m\"/opt/hostedtoolcache/Python/3.13.7/x64/lib/python3.13/multiprocessing/resource_tracker.py\"\u001b[0m, line \u001b[35m295\u001b[0m, in \u001b[35mmain\u001b[0m\n",
      "    raise ValueError(\n",
      "        f'Cannot register {name} for automatic cleanup: '\n",
      "        f'unknown resource type {rtype}')\n",
      "\u001b[1;35mValueError\u001b[0m: \u001b[35mCannot register /dev/shm/joblib_memmapping_folder_2222_fa77d19e8896425eb1b30d7022cea956_b2f9499cfbf64345aff00afbd722d163 for automatic cleanup: unknown resource type folder\u001b[0m\n",
      "Traceback (most recent call last):\n",
      "  File \u001b[35m\"/opt/hostedtoolcache/Python/3.13.7/x64/lib/python3.13/multiprocessing/resource_tracker.py\"\u001b[0m, line \u001b[35m295\u001b[0m, in \u001b[35mmain\u001b[0m\n",
      "    raise ValueError(\n",
      "        f'Cannot register {name} for automatic cleanup: '\n",
      "        f'unknown resource type {rtype}')\n",
      "\u001b[1;35mValueError\u001b[0m: \u001b[35mCannot register /dev/shm/joblib_memmapping_folder_2222_1f2cbaaa9b794419acbc4e611470818f_243f189de4924903b180c010d524b627 for automatic cleanup: unknown resource type folder\u001b[0m\n"
     ]
    },
    {
     "name": "stderr",
     "output_type": "stream",
     "text": [
      "\r",
      "Scraping 155 games on 02/08/25:  55%|█████▍    | 100 of 182 days scraped in 698.3 secTraceback (most recent call last):\n"
     ]
    },
    {
     "name": "stderr",
     "output_type": "stream",
     "text": [
      "  File \u001b[35m\"/opt/hostedtoolcache/Python/3.13.7/x64/lib/python3.13/multiprocessing/resource_tracker.py\"\u001b[0m, line \u001b[35m295\u001b[0m, in \u001b[35mmain\u001b[0m\n",
      "    raise ValueError(\n",
      "        f'Cannot register {name} for automatic cleanup: '\n",
      "        f'unknown resource type {rtype}')\n",
      "\u001b[1;35mValueError\u001b[0m: \u001b[35mCannot register /dev/shm/joblib_memmapping_folder_2222_1f2cbaaa9b794419acbc4e611470818f_243f189de4924903b180c010d524b627 for automatic cleanup: unknown resource type folder\u001b[0m\n"
     ]
    },
    {
     "name": "stderr",
     "output_type": "stream",
     "text": [
      "\r",
      "Scraping 8 games on 02/09/25:  55%|█████▍    | 100 of 182 days scraped in 698.9 sec  "
     ]
    },
    {
     "name": "stderr",
     "output_type": "stream",
     "text": [
      "Traceback (most recent call last):\n",
      "  File \u001b[35m\"/opt/hostedtoolcache/Python/3.13.7/x64/lib/python3.13/multiprocessing/resource_tracker.py\"\u001b[0m, line \u001b[35m295\u001b[0m, in \u001b[35mmain\u001b[0m\n",
      "    raise ValueError(\n",
      "        f'Cannot register {name} for automatic cleanup: '\n",
      "        f'unknown resource type {rtype}')\n",
      "\u001b[1;35mValueError\u001b[0m: \u001b[35mCannot register /dev/shm/joblib_memmapping_folder_2222_3d49c8f9f7f64a6e8f9d0f2b7b0e105a_d68d2b1501d7456e9ca7ca5f6a11d8ea for automatic cleanup: unknown resource type folder\u001b[0m\n",
      "Traceback (most recent call last):\n",
      "  File \u001b[35m\"/opt/hostedtoolcache/Python/3.13.7/x64/lib/python3.13/multiprocessing/resource_tracker.py\"\u001b[0m, line \u001b[35m295\u001b[0m, in \u001b[35mmain\u001b[0m\n",
      "    raise ValueError(\n",
      "        f'Cannot register {name} for automatic cleanup: '\n",
      "        f'unknown resource type {rtype}')\n",
      "\u001b[1;35mValueError\u001b[0m: \u001b[35mCannot register /dev/shm/joblib_memmapping_folder_2222_1f2cbaaa9b794419acbc4e611470818f_e675014d1b8c48ac93fe4240d1cc40b2 for automatic cleanup: unknown resource type folder\u001b[0m\n"
     ]
    },
    {
     "name": "stderr",
     "output_type": "stream",
     "text": [
      "\r",
      "Scraping 8 games on 02/09/25:  55%|█████▌    | 101 of 182 days scraped in 700.1 secTraceback (most recent call last):\n"
     ]
    },
    {
     "name": "stderr",
     "output_type": "stream",
     "text": [
      "  File \u001b[35m\"/opt/hostedtoolcache/Python/3.13.7/x64/lib/python3.13/multiprocessing/resource_tracker.py\"\u001b[0m, line \u001b[35m295\u001b[0m, in \u001b[35mmain\u001b[0m\n",
      "    raise ValueError(\n",
      "        f'Cannot register {name} for automatic cleanup: '\n",
      "        f'unknown resource type {rtype}')\n",
      "\u001b[1;35mValueError\u001b[0m: \u001b[35mCannot register /dev/shm/joblib_memmapping_folder_2222_1f2cbaaa9b794419acbc4e611470818f_e675014d1b8c48ac93fe4240d1cc40b2 for automatic cleanup: unknown resource type folder\u001b[0m\n"
     ]
    },
    {
     "name": "stderr",
     "output_type": "stream",
     "text": [
      "\r",
      "Scraping 19 games on 02/10/25:  55%|█████▌    | 101 of 182 days scraped in 700.5 sec"
     ]
    },
    {
     "name": "stderr",
     "output_type": "stream",
     "text": [
      "Traceback (most recent call last):\n",
      "  File \u001b[35m\"/opt/hostedtoolcache/Python/3.13.7/x64/lib/python3.13/multiprocessing/resource_tracker.py\"\u001b[0m, line \u001b[35m295\u001b[0m, in \u001b[35mmain\u001b[0m\n",
      "    raise ValueError(\n",
      "        f'Cannot register {name} for automatic cleanup: '\n",
      "        f'unknown resource type {rtype}')\n",
      "\u001b[1;35mValueError\u001b[0m: \u001b[35mCannot register /dev/shm/joblib_memmapping_folder_2222_12377fe9e4df432e98fba473b0a81425_44e23a1723074c3589a4b19978a76abd for automatic cleanup: unknown resource type folder\u001b[0m\n",
      "Traceback (most recent call last):\n",
      "  File \u001b[35m\"/opt/hostedtoolcache/Python/3.13.7/x64/lib/python3.13/multiprocessing/resource_tracker.py\"\u001b[0m, line \u001b[35m295\u001b[0m, in \u001b[35mmain\u001b[0m\n",
      "    raise ValueError(\n",
      "        f'Cannot register {name} for automatic cleanup: '\n",
      "        f'unknown resource type {rtype}')\n",
      "\u001b[1;35mValueError\u001b[0m: \u001b[35mCannot register /dev/shm/joblib_memmapping_folder_2222_1f2cbaaa9b794419acbc4e611470818f_77420ef7aa2f4f37b835f55312fc014e for automatic cleanup: unknown resource type folder\u001b[0m\n"
     ]
    },
    {
     "name": "stderr",
     "output_type": "stream",
     "text": [
      "\r",
      "Scraping 19 games on 02/10/25:  56%|█████▌    | 102 of 182 days scraped in 703.2 sec"
     ]
    },
    {
     "name": "stderr",
     "output_type": "stream",
     "text": [
      "Traceback (most recent call last):\n",
      "  File \u001b[35m\"/opt/hostedtoolcache/Python/3.13.7/x64/lib/python3.13/multiprocessing/resource_tracker.py\"\u001b[0m, line \u001b[35m295\u001b[0m, in \u001b[35mmain\u001b[0m\n",
      "    raise ValueError(\n",
      "        f'Cannot register {name} for automatic cleanup: '\n",
      "        f'unknown resource type {rtype}')\n",
      "\u001b[1;35mValueError\u001b[0m: \u001b[35mCannot register /dev/shm/joblib_memmapping_folder_2222_1f2cbaaa9b794419acbc4e611470818f_77420ef7aa2f4f37b835f55312fc014e for automatic cleanup: unknown resource type folder\u001b[0m\n"
     ]
    },
    {
     "name": "stderr",
     "output_type": "stream",
     "text": [
      "\r",
      "Scraping 37 games on 02/11/25:  56%|█████▌    | 102 of 182 days scraped in 704.0 sec"
     ]
    },
    {
     "name": "stderr",
     "output_type": "stream",
     "text": [
      "Traceback (most recent call last):\n",
      "  File \u001b[35m\"/opt/hostedtoolcache/Python/3.13.7/x64/lib/python3.13/multiprocessing/resource_tracker.py\"\u001b[0m, line \u001b[35m295\u001b[0m, in \u001b[35mmain\u001b[0m\n",
      "    raise ValueError(\n",
      "        f'Cannot register {name} for automatic cleanup: '\n",
      "        f'unknown resource type {rtype}')\n",
      "\u001b[1;35mValueError\u001b[0m: \u001b[35mCannot register /dev/shm/joblib_memmapping_folder_2222_22d8891fb74e4b2cb0a63f02a65dd9c1_cbfe8dee3039495994d89e19af368ac2 for automatic cleanup: unknown resource type folder\u001b[0m\n",
      "Traceback (most recent call last):\n",
      "  File \u001b[35m\"/opt/hostedtoolcache/Python/3.13.7/x64/lib/python3.13/multiprocessing/resource_tracker.py\"\u001b[0m, line \u001b[35m295\u001b[0m, in \u001b[35mmain\u001b[0m\n",
      "    raise ValueError(\n",
      "        f'Cannot register {name} for automatic cleanup: '\n",
      "        f'unknown resource type {rtype}')\n",
      "\u001b[1;35mValueError\u001b[0m: \u001b[35mCannot register /dev/shm/joblib_memmapping_folder_2222_1f2cbaaa9b794419acbc4e611470818f_02ec0b96ae85470f9cdbc2178644d93a for automatic cleanup: unknown resource type folder\u001b[0m\n"
     ]
    },
    {
     "name": "stderr",
     "output_type": "stream",
     "text": [
      "\r",
      "Scraping 37 games on 02/11/25:  57%|█████▋    | 103 of 182 days scraped in 708.7 secTraceback (most recent call last):\n"
     ]
    },
    {
     "name": "stderr",
     "output_type": "stream",
     "text": [
      "  File \u001b[35m\"/opt/hostedtoolcache/Python/3.13.7/x64/lib/python3.13/multiprocessing/resource_tracker.py\"\u001b[0m, line \u001b[35m295\u001b[0m, in \u001b[35mmain\u001b[0m\n",
      "    raise ValueError(\n",
      "        f'Cannot register {name} for automatic cleanup: '\n",
      "        f'unknown resource type {rtype}')\n",
      "\u001b[1;35mValueError\u001b[0m: \u001b[35mCannot register /dev/shm/joblib_memmapping_folder_2222_1f2cbaaa9b794419acbc4e611470818f_02ec0b96ae85470f9cdbc2178644d93a for automatic cleanup: unknown resource type folder\u001b[0m\n"
     ]
    },
    {
     "name": "stderr",
     "output_type": "stream",
     "text": [
      "\r",
      "Scraping 44 games on 02/12/25:  57%|█████▋    | 103 of 182 days scraped in 709.4 sec"
     ]
    },
    {
     "name": "stderr",
     "output_type": "stream",
     "text": [
      "Traceback (most recent call last):\n",
      "  File \u001b[35m\"/opt/hostedtoolcache/Python/3.13.7/x64/lib/python3.13/multiprocessing/resource_tracker.py\"\u001b[0m, line \u001b[35m295\u001b[0m, in \u001b[35mmain\u001b[0m\n",
      "    raise ValueError(\n",
      "        f'Cannot register {name} for automatic cleanup: '\n",
      "        f'unknown resource type {rtype}')\n",
      "\u001b[1;35mValueError\u001b[0m: \u001b[35mCannot register /dev/shm/joblib_memmapping_folder_2222_f46f3625bd7241dd802cb674fa181fec_cf3c25853bc847ce848c6c135fb57aff for automatic cleanup: unknown resource type folder\u001b[0m\n",
      "Traceback (most recent call last):\n",
      "  File \u001b[35m\"/opt/hostedtoolcache/Python/3.13.7/x64/lib/python3.13/multiprocessing/resource_tracker.py\"\u001b[0m, line \u001b[35m295\u001b[0m, in \u001b[35mmain\u001b[0m\n",
      "    raise ValueError(\n",
      "        f'Cannot register {name} for automatic cleanup: '\n",
      "        f'unknown resource type {rtype}')\n",
      "\u001b[1;35mValueError\u001b[0m: \u001b[35mCannot register /dev/shm/joblib_memmapping_folder_2222_1f2cbaaa9b794419acbc4e611470818f_a0dc785026594762a1aa4875a27d9a83 for automatic cleanup: unknown resource type folder\u001b[0m\n"
     ]
    },
    {
     "name": "stderr",
     "output_type": "stream",
     "text": [
      "\r",
      "Scraping 44 games on 02/12/25:  57%|█████▋    | 104 of 182 days scraped in 715.4 sec"
     ]
    },
    {
     "name": "stderr",
     "output_type": "stream",
     "text": [
      "Traceback (most recent call last):\n",
      "  File \u001b[35m\"/opt/hostedtoolcache/Python/3.13.7/x64/lib/python3.13/multiprocessing/resource_tracker.py\"\u001b[0m, line \u001b[35m295\u001b[0m, in \u001b[35mmain\u001b[0m\n",
      "    raise ValueError(\n",
      "        f'Cannot register {name} for automatic cleanup: '\n",
      "        f'unknown resource type {rtype}')\n",
      "\u001b[1;35mValueError\u001b[0m: \u001b[35mCannot register /dev/shm/joblib_memmapping_folder_2222_1f2cbaaa9b794419acbc4e611470818f_a0dc785026594762a1aa4875a27d9a83 for automatic cleanup: unknown resource type folder\u001b[0m\n"
     ]
    },
    {
     "name": "stderr",
     "output_type": "stream",
     "text": [
      "\r",
      "Scraping 59 games on 02/13/25:  57%|█████▋    | 104 of 182 days scraped in 716.1 sec"
     ]
    },
    {
     "name": "stderr",
     "output_type": "stream",
     "text": [
      "Traceback (most recent call last):\n",
      "  File \u001b[35m\"/opt/hostedtoolcache/Python/3.13.7/x64/lib/python3.13/multiprocessing/resource_tracker.py\"\u001b[0m, line \u001b[35m295\u001b[0m, in \u001b[35mmain\u001b[0m\n",
      "    raise ValueError(\n",
      "        f'Cannot register {name} for automatic cleanup: '\n",
      "        f'unknown resource type {rtype}')\n",
      "\u001b[1;35mValueError\u001b[0m: \u001b[35mCannot register /dev/shm/joblib_memmapping_folder_2222_ba2f847abfbc45ac917343e510d4d062_47f92d18dbc74db08bc4afe8d82f7b27 for automatic cleanup: unknown resource type folder\u001b[0m\n",
      "Traceback (most recent call last):\n",
      "  File \u001b[35m\"/opt/hostedtoolcache/Python/3.13.7/x64/lib/python3.13/multiprocessing/resource_tracker.py\"\u001b[0m, line \u001b[35m295\u001b[0m, in \u001b[35mmain\u001b[0m\n",
      "    raise ValueError(\n",
      "        f'Cannot register {name} for automatic cleanup: '\n",
      "        f'unknown resource type {rtype}')\n",
      "\u001b[1;35mValueError\u001b[0m: \u001b[35mCannot register /dev/shm/joblib_memmapping_folder_2222_1f2cbaaa9b794419acbc4e611470818f_26fd476edb6b412c84bff0e18388eaad for automatic cleanup: unknown resource type folder\u001b[0m\n"
     ]
    },
    {
     "name": "stderr",
     "output_type": "stream",
     "text": [
      "\r",
      "Scraping 59 games on 02/13/25:  58%|█████▊    | 105 of 182 days scraped in 724.6 sec"
     ]
    },
    {
     "name": "stderr",
     "output_type": "stream",
     "text": [
      "Traceback (most recent call last):\n",
      "  File \u001b[35m\"/opt/hostedtoolcache/Python/3.13.7/x64/lib/python3.13/multiprocessing/resource_tracker.py\"\u001b[0m, line \u001b[35m295\u001b[0m, in \u001b[35mmain\u001b[0m\n",
      "    raise ValueError(\n",
      "        f'Cannot register {name} for automatic cleanup: '\n",
      "        f'unknown resource type {rtype}')\n",
      "\u001b[1;35mValueError\u001b[0m: \u001b[35mCannot register /dev/shm/joblib_memmapping_folder_2222_1f2cbaaa9b794419acbc4e611470818f_26fd476edb6b412c84bff0e18388eaad for automatic cleanup: unknown resource type folder\u001b[0m\n"
     ]
    },
    {
     "name": "stderr",
     "output_type": "stream",
     "text": [
      "\r",
      "Scraping 16 games on 02/14/25:  58%|█████▊    | 105 of 182 days scraped in 725.0 sec"
     ]
    },
    {
     "name": "stderr",
     "output_type": "stream",
     "text": [
      "Traceback (most recent call last):\n",
      "  File \u001b[35m\"/opt/hostedtoolcache/Python/3.13.7/x64/lib/python3.13/multiprocessing/resource_tracker.py\"\u001b[0m, line \u001b[35m295\u001b[0m, in \u001b[35mmain\u001b[0m\n",
      "    raise ValueError(\n",
      "        f'Cannot register {name} for automatic cleanup: '\n",
      "        f'unknown resource type {rtype}')\n",
      "\u001b[1;35mValueError\u001b[0m: \u001b[35mCannot register /dev/shm/joblib_memmapping_folder_2222_096aeb4f833c400c845864c1060a5102_34e0d6d5a49842d3ae3381d78aa4894a for automatic cleanup: unknown resource type folder\u001b[0m\n",
      "Traceback (most recent call last):\n",
      "  File \u001b[35m\"/opt/hostedtoolcache/Python/3.13.7/x64/lib/python3.13/multiprocessing/resource_tracker.py\"\u001b[0m, line \u001b[35m295\u001b[0m, in \u001b[35mmain\u001b[0m\n",
      "    raise ValueError(\n",
      "        f'Cannot register {name} for automatic cleanup: '\n",
      "        f'unknown resource type {rtype}')\n",
      "\u001b[1;35mValueError\u001b[0m: \u001b[35mCannot register /dev/shm/joblib_memmapping_folder_2222_1f2cbaaa9b794419acbc4e611470818f_69c8978d3bbf42e6a984e36338fc8279 for automatic cleanup: unknown resource type folder\u001b[0m\n"
     ]
    },
    {
     "name": "stderr",
     "output_type": "stream",
     "text": [
      "\r",
      "Scraping 16 games on 02/14/25:  58%|█████▊    | 106 of 182 days scraped in 727.1 sec"
     ]
    },
    {
     "name": "stderr",
     "output_type": "stream",
     "text": [
      "Traceback (most recent call last):\n",
      "  File \u001b[35m\"/opt/hostedtoolcache/Python/3.13.7/x64/lib/python3.13/multiprocessing/resource_tracker.py\"\u001b[0m, line \u001b[35m295\u001b[0m, in \u001b[35mmain\u001b[0m\n",
      "    raise ValueError(\n",
      "        f'Cannot register {name} for automatic cleanup: '\n",
      "        f'unknown resource type {rtype}')\n",
      "\u001b[1;35mValueError\u001b[0m: \u001b[35mCannot register /dev/shm/joblib_memmapping_folder_2222_1f2cbaaa9b794419acbc4e611470818f_69c8978d3bbf42e6a984e36338fc8279 for automatic cleanup: unknown resource type folder\u001b[0m\n"
     ]
    },
    {
     "name": "stderr",
     "output_type": "stream",
     "text": [
      "\r",
      "Scraping 146 games on 02/15/25:  58%|█████▊    | 106 of 182 days scraped in 728.5 sec"
     ]
    },
    {
     "name": "stderr",
     "output_type": "stream",
     "text": [
      "Traceback (most recent call last):\n",
      "  File \u001b[35m\"/opt/hostedtoolcache/Python/3.13.7/x64/lib/python3.13/multiprocessing/resource_tracker.py\"\u001b[0m, line \u001b[35m295\u001b[0m, in \u001b[35mmain\u001b[0m\n",
      "    raise ValueError(\n",
      "        f'Cannot register {name} for automatic cleanup: '\n",
      "        f'unknown resource type {rtype}')\n",
      "\u001b[1;35mValueError\u001b[0m: \u001b[35mCannot register /dev/shm/joblib_memmapping_folder_2222_8c60420080de4adeb40c9470ca9d2af2_9991ade94eb843848a43057da1c51df4 for automatic cleanup: unknown resource type folder\u001b[0m\n",
      "Traceback (most recent call last):\n",
      "  File \u001b[35m\"/opt/hostedtoolcache/Python/3.13.7/x64/lib/python3.13/multiprocessing/resource_tracker.py\"\u001b[0m, line \u001b[35m295\u001b[0m, in \u001b[35mmain\u001b[0m\n",
      "    raise ValueError(\n",
      "        f'Cannot register {name} for automatic cleanup: '\n",
      "        f'unknown resource type {rtype}')\n",
      "\u001b[1;35mValueError\u001b[0m: \u001b[35mCannot register /dev/shm/joblib_memmapping_folder_2222_1f2cbaaa9b794419acbc4e611470818f_39cf322f012c4728b0b20a7f32ecf838 for automatic cleanup: unknown resource type folder\u001b[0m\n"
     ]
    },
    {
     "name": "stderr",
     "output_type": "stream",
     "text": [
      "\r",
      "Scraping 146 games on 02/15/25:  59%|█████▉    | 107 of 182 days scraped in 748.6 sec"
     ]
    },
    {
     "name": "stderr",
     "output_type": "stream",
     "text": [
      "Traceback (most recent call last):\n",
      "  File \u001b[35m\"/opt/hostedtoolcache/Python/3.13.7/x64/lib/python3.13/multiprocessing/resource_tracker.py\"\u001b[0m, line \u001b[35m295\u001b[0m, in \u001b[35mmain\u001b[0m\n",
      "    raise ValueError(\n",
      "        f'Cannot register {name} for automatic cleanup: '\n",
      "        f'unknown resource type {rtype}')\n",
      "\u001b[1;35mValueError\u001b[0m: \u001b[35mCannot register /dev/shm/joblib_memmapping_folder_2222_1f2cbaaa9b794419acbc4e611470818f_39cf322f012c4728b0b20a7f32ecf838 for automatic cleanup: unknown resource type folder\u001b[0m\n"
     ]
    },
    {
     "name": "stderr",
     "output_type": "stream",
     "text": [
      "\r",
      "Scraping 25 games on 02/16/25:  59%|█████▉    | 107 of 182 days scraped in 749.0 sec "
     ]
    },
    {
     "name": "stderr",
     "output_type": "stream",
     "text": [
      "Traceback (most recent call last):\n",
      "  File \u001b[35m\"/opt/hostedtoolcache/Python/3.13.7/x64/lib/python3.13/multiprocessing/resource_tracker.py\"\u001b[0m, line \u001b[35m295\u001b[0m, in \u001b[35mmain\u001b[0m\n",
      "    raise ValueError(\n",
      "        f'Cannot register {name} for automatic cleanup: '\n",
      "        f'unknown resource type {rtype}')\n",
      "\u001b[1;35mValueError\u001b[0m: \u001b[35mCannot register /dev/shm/joblib_memmapping_folder_2222_0061dc8889e34f44949498ea5d37b999_1d215f5d4640447e97f11eaa517e10b5 for automatic cleanup: unknown resource type folder\u001b[0m\n",
      "Traceback (most recent call last):\n",
      "  File \u001b[35m\"/opt/hostedtoolcache/Python/3.13.7/x64/lib/python3.13/multiprocessing/resource_tracker.py\"\u001b[0m, line \u001b[35m295\u001b[0m, in \u001b[35mmain\u001b[0m\n",
      "    raise ValueError(\n",
      "        f'Cannot register {name} for automatic cleanup: '\n",
      "        f'unknown resource type {rtype}')\n",
      "\u001b[1;35mValueError\u001b[0m: \u001b[35mCannot register /dev/shm/joblib_memmapping_folder_2222_1f2cbaaa9b794419acbc4e611470818f_3ed269ae627347749e0c882a21097552 for automatic cleanup: unknown resource type folder\u001b[0m\n"
     ]
    },
    {
     "name": "stderr",
     "output_type": "stream",
     "text": [
      "\r",
      "Scraping 25 games on 02/16/25:  59%|█████▉    | 108 of 182 days scraped in 752.5 sec"
     ]
    },
    {
     "name": "stderr",
     "output_type": "stream",
     "text": [
      "Traceback (most recent call last):\n",
      "  File \u001b[35m\"/opt/hostedtoolcache/Python/3.13.7/x64/lib/python3.13/multiprocessing/resource_tracker.py\"\u001b[0m, line \u001b[35m295\u001b[0m, in \u001b[35mmain\u001b[0m\n",
      "    raise ValueError(\n",
      "        f'Cannot register {name} for automatic cleanup: '\n",
      "        f'unknown resource type {rtype}')\n",
      "\u001b[1;35mValueError\u001b[0m: \u001b[35mCannot register /dev/shm/joblib_memmapping_folder_2222_1f2cbaaa9b794419acbc4e611470818f_3ed269ae627347749e0c882a21097552 for automatic cleanup: unknown resource type folder\u001b[0m\n"
     ]
    },
    {
     "name": "stderr",
     "output_type": "stream",
     "text": [
      "\r",
      "Scraping 21 games on 02/17/25:  59%|█████▉    | 108 of 182 days scraped in 752.9 sec"
     ]
    },
    {
     "name": "stderr",
     "output_type": "stream",
     "text": [
      "Traceback (most recent call last):\n",
      "  File \u001b[35m\"/opt/hostedtoolcache/Python/3.13.7/x64/lib/python3.13/multiprocessing/resource_tracker.py\"\u001b[0m, line \u001b[35m295\u001b[0m, in \u001b[35mmain\u001b[0m\n",
      "    raise ValueError(\n",
      "        f'Cannot register {name} for automatic cleanup: '\n",
      "        f'unknown resource type {rtype}')\n",
      "\u001b[1;35mValueError\u001b[0m: \u001b[35mCannot register /dev/shm/joblib_memmapping_folder_2222_603c83c591434a1585330b6f12d7f173_9f637638a20d4e0f92d92a445d0973d3 for automatic cleanup: unknown resource type folder\u001b[0m\n",
      "Traceback (most recent call last):\n",
      "  File \u001b[35m\"/opt/hostedtoolcache/Python/3.13.7/x64/lib/python3.13/multiprocessing/resource_tracker.py\"\u001b[0m, line \u001b[35m295\u001b[0m, in \u001b[35mmain\u001b[0m\n",
      "    raise ValueError(\n",
      "        f'Cannot register {name} for automatic cleanup: '\n",
      "        f'unknown resource type {rtype}')\n",
      "\u001b[1;35mValueError\u001b[0m: \u001b[35mCannot register /dev/shm/joblib_memmapping_folder_2222_1f2cbaaa9b794419acbc4e611470818f_8f9bb33c37b4455c9547c057e5eb3f26 for automatic cleanup: unknown resource type folder\u001b[0m\n"
     ]
    },
    {
     "name": "stderr",
     "output_type": "stream",
     "text": [
      "\r",
      "Scraping 21 games on 02/17/25:  60%|█████▉    | 109 of 182 days scraped in 756.1 sec"
     ]
    },
    {
     "name": "stderr",
     "output_type": "stream",
     "text": [
      "Traceback (most recent call last):\n",
      "  File \u001b[35m\"/opt/hostedtoolcache/Python/3.13.7/x64/lib/python3.13/multiprocessing/resource_tracker.py\"\u001b[0m, line \u001b[35m295\u001b[0m, in \u001b[35mmain\u001b[0m\n",
      "    raise ValueError(\n",
      "        f'Cannot register {name} for automatic cleanup: '\n",
      "        f'unknown resource type {rtype}')\n",
      "\u001b[1;35mValueError\u001b[0m: \u001b[35mCannot register /dev/shm/joblib_memmapping_folder_2222_1f2cbaaa9b794419acbc4e611470818f_8f9bb33c37b4455c9547c057e5eb3f26 for automatic cleanup: unknown resource type folder\u001b[0m\n"
     ]
    },
    {
     "name": "stderr",
     "output_type": "stream",
     "text": [
      "\r",
      "Scraping 32 games on 02/18/25:  60%|█████▉    | 109 of 182 days scraped in 756.8 sec"
     ]
    },
    {
     "name": "stderr",
     "output_type": "stream",
     "text": [
      "Traceback (most recent call last):\n",
      "  File \u001b[35m\"/opt/hostedtoolcache/Python/3.13.7/x64/lib/python3.13/multiprocessing/resource_tracker.py\"\u001b[0m, line \u001b[35m295\u001b[0m, in \u001b[35mmain\u001b[0m\n",
      "    raise ValueError(\n",
      "        f'Cannot register {name} for automatic cleanup: '\n",
      "        f'unknown resource type {rtype}')\n",
      "\u001b[1;35mValueError\u001b[0m: \u001b[35mCannot register /dev/shm/joblib_memmapping_folder_2222_3eaa05bd312343259c4506ee37cbde99_d0d5cf82a0224f48abde6b12883d70f3 for automatic cleanup: unknown resource type folder\u001b[0m\n",
      "Traceback (most recent call last):\n",
      "  File \u001b[35m\"/opt/hostedtoolcache/Python/3.13.7/x64/lib/python3.13/multiprocessing/resource_tracker.py\"\u001b[0m, line \u001b[35m295\u001b[0m, in \u001b[35mmain\u001b[0m\n",
      "    raise ValueError(\n",
      "        f'Cannot register {name} for automatic cleanup: '\n",
      "        f'unknown resource type {rtype}')\n",
      "\u001b[1;35mValueError\u001b[0m: \u001b[35mCannot register /dev/shm/joblib_memmapping_folder_2222_1f2cbaaa9b794419acbc4e611470818f_d0dc5cf58b274228afb4118c57923ad1 for automatic cleanup: unknown resource type folder\u001b[0m\n"
     ]
    },
    {
     "name": "stderr",
     "output_type": "stream",
     "text": [
      "\r",
      "Scraping 32 games on 02/18/25:  60%|██████    | 110 of 182 days scraped in 761.4 sec"
     ]
    },
    {
     "name": "stderr",
     "output_type": "stream",
     "text": [
      "Traceback (most recent call last):\n",
      "  File \u001b[35m\"/opt/hostedtoolcache/Python/3.13.7/x64/lib/python3.13/multiprocessing/resource_tracker.py\"\u001b[0m, line \u001b[35m295\u001b[0m, in \u001b[35mmain\u001b[0m\n",
      "    raise ValueError(\n",
      "        f'Cannot register {name} for automatic cleanup: '\n",
      "        f'unknown resource type {rtype}')\n",
      "\u001b[1;35mValueError\u001b[0m: \u001b[35mCannot register /dev/shm/joblib_memmapping_folder_2222_1f2cbaaa9b794419acbc4e611470818f_d0dc5cf58b274228afb4118c57923ad1 for automatic cleanup: unknown resource type folder\u001b[0m\n"
     ]
    },
    {
     "name": "stderr",
     "output_type": "stream",
     "text": [
      "\r",
      "Scraping 51 games on 02/19/25:  60%|██████    | 110 of 182 days scraped in 762.2 sec"
     ]
    },
    {
     "name": "stderr",
     "output_type": "stream",
     "text": [
      "Traceback (most recent call last):\n",
      "  File \u001b[35m\"/opt/hostedtoolcache/Python/3.13.7/x64/lib/python3.13/multiprocessing/resource_tracker.py\"\u001b[0m, line \u001b[35m295\u001b[0m, in \u001b[35mmain\u001b[0m\n",
      "    raise ValueError(\n",
      "        f'Cannot register {name} for automatic cleanup: '\n",
      "        f'unknown resource type {rtype}')\n",
      "\u001b[1;35mValueError\u001b[0m: \u001b[35mCannot register /dev/shm/joblib_memmapping_folder_2222_033b09509da24c3fb13e470a9148a3b8_f24bd5ad92644f6699a72ff8bbc0bf3a for automatic cleanup: unknown resource type folder\u001b[0m\n",
      "Traceback (most recent call last):\n",
      "  File \u001b[35m\"/opt/hostedtoolcache/Python/3.13.7/x64/lib/python3.13/multiprocessing/resource_tracker.py\"\u001b[0m, line \u001b[35m295\u001b[0m, in \u001b[35mmain\u001b[0m\n",
      "    raise ValueError(\n",
      "        f'Cannot register {name} for automatic cleanup: '\n",
      "        f'unknown resource type {rtype}')\n",
      "\u001b[1;35mValueError\u001b[0m: \u001b[35mCannot register /dev/shm/joblib_memmapping_folder_2222_1f2cbaaa9b794419acbc4e611470818f_e9eac9bef282430288ada2eb01fecb6c for automatic cleanup: unknown resource type folder\u001b[0m\n"
     ]
    },
    {
     "name": "stderr",
     "output_type": "stream",
     "text": [
      "\r",
      "Scraping 51 games on 02/19/25:  61%|██████    | 111 of 182 days scraped in 770.6 sec"
     ]
    },
    {
     "name": "stderr",
     "output_type": "stream",
     "text": [
      "Traceback (most recent call last):\n",
      "  File \u001b[35m\"/opt/hostedtoolcache/Python/3.13.7/x64/lib/python3.13/multiprocessing/resource_tracker.py\"\u001b[0m, line \u001b[35m295\u001b[0m, in \u001b[35mmain\u001b[0m\n",
      "    raise ValueError(\n",
      "        f'Cannot register {name} for automatic cleanup: '\n",
      "        f'unknown resource type {rtype}')\n",
      "\u001b[1;35mValueError\u001b[0m: \u001b[35mCannot register /dev/shm/joblib_memmapping_folder_2222_1f2cbaaa9b794419acbc4e611470818f_e9eac9bef282430288ada2eb01fecb6c for automatic cleanup: unknown resource type folder\u001b[0m\n"
     ]
    },
    {
     "name": "stderr",
     "output_type": "stream",
     "text": [
      "\r",
      "Scraping 52 games on 02/20/25:  61%|██████    | 111 of 182 days scraped in 771.3 sec"
     ]
    },
    {
     "name": "stderr",
     "output_type": "stream",
     "text": [
      "Traceback (most recent call last):\n",
      "  File \u001b[35m\"/opt/hostedtoolcache/Python/3.13.7/x64/lib/python3.13/multiprocessing/resource_tracker.py\"\u001b[0m, line \u001b[35m295\u001b[0m, in \u001b[35mmain\u001b[0m\n",
      "    raise ValueError(\n",
      "        f'Cannot register {name} for automatic cleanup: '\n",
      "        f'unknown resource type {rtype}')\n",
      "\u001b[1;35mValueError\u001b[0m: \u001b[35mCannot register /dev/shm/joblib_memmapping_folder_2222_b7a687b99c45408d95fbb541f0819b50_03663ee907b449189eb8d7a6e7a56ac1 for automatic cleanup: unknown resource type folder\u001b[0m\n",
      "Traceback (most recent call last):\n",
      "  File \u001b[35m\"/opt/hostedtoolcache/Python/3.13.7/x64/lib/python3.13/multiprocessing/resource_tracker.py\"\u001b[0m, line \u001b[35m295\u001b[0m, in \u001b[35mmain\u001b[0m\n",
      "    raise ValueError(\n",
      "        f'Cannot register {name} for automatic cleanup: '\n",
      "        f'unknown resource type {rtype}')\n",
      "\u001b[1;35mValueError\u001b[0m: \u001b[35mCannot register /dev/shm/joblib_memmapping_folder_2222_1f2cbaaa9b794419acbc4e611470818f_ae030a3471884fedb18d4b62c64097b3 for automatic cleanup: unknown resource type folder\u001b[0m\n"
     ]
    },
    {
     "name": "stderr",
     "output_type": "stream",
     "text": [
      "\r",
      "Scraping 52 games on 02/20/25:  62%|██████▏   | 112 of 182 days scraped in 778.7 sec"
     ]
    },
    {
     "name": "stderr",
     "output_type": "stream",
     "text": [
      "Traceback (most recent call last):\n",
      "  File \u001b[35m\"/opt/hostedtoolcache/Python/3.13.7/x64/lib/python3.13/multiprocessing/resource_tracker.py\"\u001b[0m, line \u001b[35m295\u001b[0m, in \u001b[35mmain\u001b[0m\n",
      "    raise ValueError(\n",
      "        f'Cannot register {name} for automatic cleanup: '\n",
      "        f'unknown resource type {rtype}')\n",
      "\u001b[1;35mValueError\u001b[0m: \u001b[35mCannot register /dev/shm/joblib_memmapping_folder_2222_1f2cbaaa9b794419acbc4e611470818f_ae030a3471884fedb18d4b62c64097b3 for automatic cleanup: unknown resource type folder\u001b[0m\n"
     ]
    },
    {
     "name": "stderr",
     "output_type": "stream",
     "text": [
      "\r",
      "Scraping 20 games on 02/21/25:  62%|██████▏   | 112 of 182 days scraped in 779.2 sec"
     ]
    },
    {
     "name": "stderr",
     "output_type": "stream",
     "text": [
      "Traceback (most recent call last):\n",
      "  File \u001b[35m\"/opt/hostedtoolcache/Python/3.13.7/x64/lib/python3.13/multiprocessing/resource_tracker.py\"\u001b[0m, line \u001b[35m295\u001b[0m, in \u001b[35mmain\u001b[0m\n",
      "    raise ValueError(\n",
      "        f'Cannot register {name} for automatic cleanup: '\n",
      "        f'unknown resource type {rtype}')\n",
      "\u001b[1;35mValueError\u001b[0m: \u001b[35mCannot register /dev/shm/joblib_memmapping_folder_2222_ce228f4b6c5a44eeaab4427aa2ea55dd_a0f073be4b6f48ea96654ed297a24532 for automatic cleanup: unknown resource type folder\u001b[0m\n",
      "Traceback (most recent call last):\n",
      "  File \u001b[35m\"/opt/hostedtoolcache/Python/3.13.7/x64/lib/python3.13/multiprocessing/resource_tracker.py\"\u001b[0m, line \u001b[35m295\u001b[0m, in \u001b[35mmain\u001b[0m\n",
      "    raise ValueError(\n",
      "        f'Cannot register {name} for automatic cleanup: '\n",
      "        f'unknown resource type {rtype}')\n",
      "\u001b[1;35mValueError\u001b[0m: \u001b[35mCannot register /dev/shm/joblib_memmapping_folder_2222_1f2cbaaa9b794419acbc4e611470818f_57fdf8423d6a42909c79b05feba965cb for automatic cleanup: unknown resource type folder\u001b[0m\n"
     ]
    },
    {
     "name": "stderr",
     "output_type": "stream",
     "text": [
      "\r",
      "Scraping 20 games on 02/21/25:  62%|██████▏   | 113 of 182 days scraped in 782.1 secTraceback (most recent call last):\n"
     ]
    },
    {
     "name": "stderr",
     "output_type": "stream",
     "text": [
      "  File \u001b[35m\"/opt/hostedtoolcache/Python/3.13.7/x64/lib/python3.13/multiprocessing/resource_tracker.py\"\u001b[0m, line \u001b[35m295\u001b[0m, in \u001b[35mmain\u001b[0m\n",
      "    raise ValueError(\n",
      "        f'Cannot register {name} for automatic cleanup: '\n",
      "        f'unknown resource type {rtype}')\n",
      "\u001b[1;35mValueError\u001b[0m: \u001b[35mCannot register /dev/shm/joblib_memmapping_folder_2222_1f2cbaaa9b794419acbc4e611470818f_57fdf8423d6a42909c79b05feba965cb for automatic cleanup: unknown resource type folder\u001b[0m\n"
     ]
    },
    {
     "name": "stderr",
     "output_type": "stream",
     "text": [
      "\r",
      "Scraping 131 games on 02/22/25:  62%|██████▏   | 113 of 182 days scraped in 783.5 sec"
     ]
    },
    {
     "name": "stderr",
     "output_type": "stream",
     "text": [
      "Traceback (most recent call last):\n",
      "  File \u001b[35m\"/opt/hostedtoolcache/Python/3.13.7/x64/lib/python3.13/multiprocessing/resource_tracker.py\"\u001b[0m, line \u001b[35m295\u001b[0m, in \u001b[35mmain\u001b[0m\n",
      "    raise ValueError(\n",
      "        f'Cannot register {name} for automatic cleanup: '\n",
      "        f'unknown resource type {rtype}')\n",
      "\u001b[1;35mValueError\u001b[0m: \u001b[35mCannot register /dev/shm/joblib_memmapping_folder_2222_79e2693ac2e34fc4a4856e22dbbb0b1e_086b0d2bff35417a96b4362849ebcadd for automatic cleanup: unknown resource type folder\u001b[0m\n",
      "Traceback (most recent call last):\n",
      "  File \u001b[35m\"/opt/hostedtoolcache/Python/3.13.7/x64/lib/python3.13/multiprocessing/resource_tracker.py\"\u001b[0m, line \u001b[35m295\u001b[0m, in \u001b[35mmain\u001b[0m\n",
      "    raise ValueError(\n",
      "        f'Cannot register {name} for automatic cleanup: '\n",
      "        f'unknown resource type {rtype}')\n",
      "\u001b[1;35mValueError\u001b[0m: \u001b[35mCannot register /dev/shm/joblib_memmapping_folder_2222_1f2cbaaa9b794419acbc4e611470818f_569aeab2960743298d6bd3efdadd0a37 for automatic cleanup: unknown resource type folder\u001b[0m\n"
     ]
    },
    {
     "name": "stderr",
     "output_type": "stream",
     "text": [
      "\r",
      "Scraping 131 games on 02/22/25:  63%|██████▎   | 114 of 182 days scraped in 802.4 sec"
     ]
    },
    {
     "name": "stderr",
     "output_type": "stream",
     "text": [
      "Traceback (most recent call last):\n",
      "  File \u001b[35m\"/opt/hostedtoolcache/Python/3.13.7/x64/lib/python3.13/multiprocessing/resource_tracker.py\"\u001b[0m, line \u001b[35m295\u001b[0m, in \u001b[35mmain\u001b[0m\n",
      "    raise ValueError(\n",
      "        f'Cannot register {name} for automatic cleanup: '\n",
      "        f'unknown resource type {rtype}')\n",
      "\u001b[1;35mValueError\u001b[0m: \u001b[35mCannot register /dev/shm/joblib_memmapping_folder_2222_1f2cbaaa9b794419acbc4e611470818f_569aeab2960743298d6bd3efdadd0a37 for automatic cleanup: unknown resource type folder\u001b[0m\n"
     ]
    },
    {
     "name": "stderr",
     "output_type": "stream",
     "text": [
      "\r",
      "Scraping 28 games on 02/23/25:  63%|██████▎   | 114 of 182 days scraped in 802.8 sec "
     ]
    },
    {
     "name": "stderr",
     "output_type": "stream",
     "text": [
      "Traceback (most recent call last):\n",
      "  File \u001b[35m\"/opt/hostedtoolcache/Python/3.13.7/x64/lib/python3.13/multiprocessing/resource_tracker.py\"\u001b[0m, line \u001b[35m295\u001b[0m, in \u001b[35mmain\u001b[0m\n",
      "    raise ValueError(\n",
      "        f'Cannot register {name} for automatic cleanup: '\n",
      "        f'unknown resource type {rtype}')\n",
      "\u001b[1;35mValueError\u001b[0m: \u001b[35mCannot register /dev/shm/joblib_memmapping_folder_2222_eedc71470d704ce88343fd369c24f77f_8fd1436c5440459fa4a7783bde25d381 for automatic cleanup: unknown resource type folder\u001b[0m\n",
      "Traceback (most recent call last):\n",
      "  File \u001b[35m\"/opt/hostedtoolcache/Python/3.13.7/x64/lib/python3.13/multiprocessing/resource_tracker.py\"\u001b[0m, line \u001b[35m295\u001b[0m, in \u001b[35mmain\u001b[0m\n",
      "    raise ValueError(\n",
      "        f'Cannot register {name} for automatic cleanup: '\n",
      "        f'unknown resource type {rtype}')\n",
      "\u001b[1;35mValueError\u001b[0m: \u001b[35mCannot register /dev/shm/joblib_memmapping_folder_2222_1f2cbaaa9b794419acbc4e611470818f_91f40c60e9184a5ab5d6276dbe12400e for automatic cleanup: unknown resource type folder\u001b[0m\n"
     ]
    },
    {
     "name": "stderr",
     "output_type": "stream",
     "text": [
      "\r",
      "Scraping 28 games on 02/23/25:  63%|██████▎   | 115 of 182 days scraped in 807.0 sec"
     ]
    },
    {
     "name": "stderr",
     "output_type": "stream",
     "text": [
      "Traceback (most recent call last):\n",
      "  File \u001b[35m\"/opt/hostedtoolcache/Python/3.13.7/x64/lib/python3.13/multiprocessing/resource_tracker.py\"\u001b[0m, line \u001b[35m295\u001b[0m, in \u001b[35mmain\u001b[0m\n",
      "    raise ValueError(\n",
      "        f'Cannot register {name} for automatic cleanup: '\n",
      "        f'unknown resource type {rtype}')\n",
      "\u001b[1;35mValueError\u001b[0m: \u001b[35mCannot register /dev/shm/joblib_memmapping_folder_2222_1f2cbaaa9b794419acbc4e611470818f_91f40c60e9184a5ab5d6276dbe12400e for automatic cleanup: unknown resource type folder\u001b[0m\n"
     ]
    },
    {
     "name": "stderr",
     "output_type": "stream",
     "text": [
      "\r",
      "Scraping 27 games on 02/24/25:  63%|██████▎   | 115 of 182 days scraped in 807.7 sec"
     ]
    },
    {
     "name": "stderr",
     "output_type": "stream",
     "text": [
      "Traceback (most recent call last):\n",
      "  File \u001b[35m\"/opt/hostedtoolcache/Python/3.13.7/x64/lib/python3.13/multiprocessing/resource_tracker.py\"\u001b[0m, line \u001b[35m295\u001b[0m, in \u001b[35mmain\u001b[0m\n",
      "    raise ValueError(\n",
      "        f'Cannot register {name} for automatic cleanup: '\n",
      "        f'unknown resource type {rtype}')\n",
      "\u001b[1;35mValueError\u001b[0m: \u001b[35mCannot register /dev/shm/joblib_memmapping_folder_2222_37b7efb80e834db5a4233e482f914068_18d9994ace764e409413e20d6348a64b for automatic cleanup: unknown resource type folder\u001b[0m\n",
      "Traceback (most recent call last):\n",
      "  File \u001b[35m\"/opt/hostedtoolcache/Python/3.13.7/x64/lib/python3.13/multiprocessing/resource_tracker.py\"\u001b[0m, line \u001b[35m295\u001b[0m, in \u001b[35mmain\u001b[0m\n",
      "    raise ValueError(\n",
      "        f'Cannot register {name} for automatic cleanup: '\n",
      "        f'unknown resource type {rtype}')\n",
      "\u001b[1;35mValueError\u001b[0m: \u001b[35mCannot register /dev/shm/joblib_memmapping_folder_2222_1f2cbaaa9b794419acbc4e611470818f_c3f9748a2a0544998e70ce3a29cdb074 for automatic cleanup: unknown resource type folder\u001b[0m\n"
     ]
    },
    {
     "name": "stderr",
     "output_type": "stream",
     "text": [
      "\r",
      "Scraping 27 games on 02/24/25:  64%|██████▎   | 116 of 182 days scraped in 812.1 sec"
     ]
    },
    {
     "name": "stderr",
     "output_type": "stream",
     "text": [
      "Traceback (most recent call last):\n",
      "  File \u001b[35m\"/opt/hostedtoolcache/Python/3.13.7/x64/lib/python3.13/multiprocessing/resource_tracker.py\"\u001b[0m, line \u001b[35m295\u001b[0m, in \u001b[35mmain\u001b[0m\n",
      "    raise ValueError(\n",
      "        f'Cannot register {name} for automatic cleanup: '\n",
      "        f'unknown resource type {rtype}')\n",
      "\u001b[1;35mValueError\u001b[0m: \u001b[35mCannot register /dev/shm/joblib_memmapping_folder_2222_1f2cbaaa9b794419acbc4e611470818f_c3f9748a2a0544998e70ce3a29cdb074 for automatic cleanup: unknown resource type folder\u001b[0m\n"
     ]
    },
    {
     "name": "stderr",
     "output_type": "stream",
     "text": [
      "\r",
      "Scraping 35 games on 02/25/25:  64%|██████▎   | 116 of 182 days scraped in 812.6 sec"
     ]
    },
    {
     "name": "stderr",
     "output_type": "stream",
     "text": [
      "Traceback (most recent call last):\n",
      "  File \u001b[35m\"/opt/hostedtoolcache/Python/3.13.7/x64/lib/python3.13/multiprocessing/resource_tracker.py\"\u001b[0m, line \u001b[35m295\u001b[0m, in \u001b[35mmain\u001b[0m\n",
      "    raise ValueError(\n",
      "        f'Cannot register {name} for automatic cleanup: '\n",
      "        f'unknown resource type {rtype}')\n",
      "\u001b[1;35mValueError\u001b[0m: \u001b[35mCannot register /dev/shm/joblib_memmapping_folder_2222_a264c1d55dbf4a5ba7120df929c3ee5e_5cd2a494d89b4dc1a4f7fb83e38f5201 for automatic cleanup: unknown resource type folder\u001b[0m\n",
      "Traceback (most recent call last):\n",
      "  File \u001b[35m\"/opt/hostedtoolcache/Python/3.13.7/x64/lib/python3.13/multiprocessing/resource_tracker.py\"\u001b[0m, line \u001b[35m295\u001b[0m, in \u001b[35mmain\u001b[0m\n",
      "    raise ValueError(\n",
      "        f'Cannot register {name} for automatic cleanup: '\n",
      "        f'unknown resource type {rtype}')\n",
      "\u001b[1;35mValueError\u001b[0m: \u001b[35mCannot register /dev/shm/joblib_memmapping_folder_2222_1f2cbaaa9b794419acbc4e611470818f_b21f7cc5b125410ea191aea42f32f68a for automatic cleanup: unknown resource type folder\u001b[0m\n"
     ]
    },
    {
     "name": "stderr",
     "output_type": "stream",
     "text": [
      "\r",
      "Scraping 35 games on 02/25/25:  64%|██████▍   | 117 of 182 days scraped in 817.8 sec"
     ]
    },
    {
     "name": "stderr",
     "output_type": "stream",
     "text": [
      "Traceback (most recent call last):\n",
      "  File \u001b[35m\"/opt/hostedtoolcache/Python/3.13.7/x64/lib/python3.13/multiprocessing/resource_tracker.py\"\u001b[0m, line \u001b[35m295\u001b[0m, in \u001b[35mmain\u001b[0m\n",
      "    raise ValueError(\n",
      "        f'Cannot register {name} for automatic cleanup: '\n",
      "        f'unknown resource type {rtype}')\n",
      "\u001b[1;35mValueError\u001b[0m: \u001b[35mCannot register /dev/shm/joblib_memmapping_folder_2222_1f2cbaaa9b794419acbc4e611470818f_b21f7cc5b125410ea191aea42f32f68a for automatic cleanup: unknown resource type folder\u001b[0m\n"
     ]
    },
    {
     "name": "stderr",
     "output_type": "stream",
     "text": [
      "\r",
      "Scraping 54 games on 02/26/25:  64%|██████▍   | 117 of 182 days scraped in 818.5 sec"
     ]
    },
    {
     "name": "stderr",
     "output_type": "stream",
     "text": [
      "Traceback (most recent call last):\n",
      "  File \u001b[35m\"/opt/hostedtoolcache/Python/3.13.7/x64/lib/python3.13/multiprocessing/resource_tracker.py\"\u001b[0m, line \u001b[35m295\u001b[0m, in \u001b[35mmain\u001b[0m\n",
      "    raise ValueError(\n",
      "        f'Cannot register {name} for automatic cleanup: '\n",
      "        f'unknown resource type {rtype}')\n",
      "\u001b[1;35mValueError\u001b[0m: \u001b[35mCannot register /dev/shm/joblib_memmapping_folder_2222_cead17425c55421a80bafb18ccfe67e0_1208bb73b6694ba5957668d95f8b983b for automatic cleanup: unknown resource type folder\u001b[0m\n",
      "Traceback (most recent call last):\n",
      "  File \u001b[35m\"/opt/hostedtoolcache/Python/3.13.7/x64/lib/python3.13/multiprocessing/resource_tracker.py\"\u001b[0m, line \u001b[35m295\u001b[0m, in \u001b[35mmain\u001b[0m\n",
      "    raise ValueError(\n",
      "        f'Cannot register {name} for automatic cleanup: '\n",
      "        f'unknown resource type {rtype}')\n",
      "\u001b[1;35mValueError\u001b[0m: \u001b[35mCannot register /dev/shm/joblib_memmapping_folder_2222_1f2cbaaa9b794419acbc4e611470818f_e81e924cb4714542a2c769915cec6c74 for automatic cleanup: unknown resource type folder\u001b[0m\n"
     ]
    },
    {
     "name": "stderr",
     "output_type": "stream",
     "text": [
      "\r",
      "Scraping 54 games on 02/26/25:  65%|██████▍   | 118 of 182 days scraped in 825.9 secTraceback (most recent call last):\n"
     ]
    },
    {
     "name": "stderr",
     "output_type": "stream",
     "text": [
      "  File \u001b[35m\"/opt/hostedtoolcache/Python/3.13.7/x64/lib/python3.13/multiprocessing/resource_tracker.py\"\u001b[0m, line \u001b[35m295\u001b[0m, in \u001b[35mmain\u001b[0m\n",
      "    raise ValueError(\n",
      "        f'Cannot register {name} for automatic cleanup: '\n",
      "        f'unknown resource type {rtype}')\n",
      "\u001b[1;35mValueError\u001b[0m: \u001b[35mCannot register /dev/shm/joblib_memmapping_folder_2222_1f2cbaaa9b794419acbc4e611470818f_e81e924cb4714542a2c769915cec6c74 for automatic cleanup: unknown resource type folder\u001b[0m\n"
     ]
    },
    {
     "name": "stderr",
     "output_type": "stream",
     "text": [
      "\r",
      "Scraping 54 games on 02/27/25:  65%|██████▍   | 118 of 182 days scraped in 826.5 sec"
     ]
    },
    {
     "name": "stderr",
     "output_type": "stream",
     "text": [
      "Traceback (most recent call last):\n",
      "  File \u001b[35m\"/opt/hostedtoolcache/Python/3.13.7/x64/lib/python3.13/multiprocessing/resource_tracker.py\"\u001b[0m, line \u001b[35m295\u001b[0m, in \u001b[35mmain\u001b[0m\n",
      "    raise ValueError(\n",
      "        f'Cannot register {name} for automatic cleanup: '\n",
      "        f'unknown resource type {rtype}')\n",
      "\u001b[1;35mValueError\u001b[0m: \u001b[35mCannot register /dev/shm/joblib_memmapping_folder_2222_c0776901df2549999f32a7fc9bda9dff_51cf3b4f676943f882611a90a14781d8 for automatic cleanup: unknown resource type folder\u001b[0m\n",
      "Traceback (most recent call last):\n",
      "  File \u001b[35m\"/opt/hostedtoolcache/Python/3.13.7/x64/lib/python3.13/multiprocessing/resource_tracker.py\"\u001b[0m, line \u001b[35m295\u001b[0m, in \u001b[35mmain\u001b[0m\n",
      "    raise ValueError(\n",
      "        f'Cannot register {name} for automatic cleanup: '\n",
      "        f'unknown resource type {rtype}')\n",
      "\u001b[1;35mValueError\u001b[0m: \u001b[35mCannot register /dev/shm/joblib_memmapping_folder_2222_1f2cbaaa9b794419acbc4e611470818f_4bc0bdc8eac84a908741d59ddae9c947 for automatic cleanup: unknown resource type folder\u001b[0m\n"
     ]
    },
    {
     "name": "stderr",
     "output_type": "stream",
     "text": [
      "\r",
      "Scraping 54 games on 02/27/25:  65%|██████▌   | 119 of 182 days scraped in 833.7 sec"
     ]
    },
    {
     "name": "stderr",
     "output_type": "stream",
     "text": [
      "Traceback (most recent call last):\n",
      "  File \u001b[35m\"/opt/hostedtoolcache/Python/3.13.7/x64/lib/python3.13/multiprocessing/resource_tracker.py\"\u001b[0m, line \u001b[35m295\u001b[0m, in \u001b[35mmain\u001b[0m\n",
      "    raise ValueError(\n",
      "        f'Cannot register {name} for automatic cleanup: '\n",
      "        f'unknown resource type {rtype}')\n",
      "\u001b[1;35mValueError\u001b[0m: \u001b[35mCannot register /dev/shm/joblib_memmapping_folder_2222_1f2cbaaa9b794419acbc4e611470818f_4bc0bdc8eac84a908741d59ddae9c947 for automatic cleanup: unknown resource type folder\u001b[0m\n"
     ]
    },
    {
     "name": "stderr",
     "output_type": "stream",
     "text": [
      "\r",
      "Scraping 23 games on 02/28/25:  65%|██████▌   | 119 of 182 days scraped in 834.9 sec"
     ]
    },
    {
     "name": "stderr",
     "output_type": "stream",
     "text": [
      "Traceback (most recent call last):\n",
      "  File \u001b[35m\"/opt/hostedtoolcache/Python/3.13.7/x64/lib/python3.13/multiprocessing/resource_tracker.py\"\u001b[0m, line \u001b[35m295\u001b[0m, in \u001b[35mmain\u001b[0m\n",
      "    raise ValueError(\n",
      "        f'Cannot register {name} for automatic cleanup: '\n",
      "        f'unknown resource type {rtype}')\n",
      "\u001b[1;35mValueError\u001b[0m: \u001b[35mCannot register /dev/shm/joblib_memmapping_folder_2222_00601719f8e24148b383fd8fdf0c63af_e2e82ab8692c4f1f95a504e51aa1e4ea for automatic cleanup: unknown resource type folder\u001b[0m\n",
      "Traceback (most recent call last):\n",
      "  File \u001b[35m\"/opt/hostedtoolcache/Python/3.13.7/x64/lib/python3.13/multiprocessing/resource_tracker.py\"\u001b[0m, line \u001b[35m295\u001b[0m, in \u001b[35mmain\u001b[0m\n",
      "    raise ValueError(\n",
      "        f'Cannot register {name} for automatic cleanup: '\n",
      "        f'unknown resource type {rtype}')\n",
      "\u001b[1;35mValueError\u001b[0m: \u001b[35mCannot register /dev/shm/joblib_memmapping_folder_2222_1f2cbaaa9b794419acbc4e611470818f_dd493bd02da9472880364cee2d47ddc2 for automatic cleanup: unknown resource type folder\u001b[0m\n"
     ]
    },
    {
     "name": "stderr",
     "output_type": "stream",
     "text": [
      "\r",
      "Scraping 23 games on 02/28/25:  66%|██████▌   | 120 of 182 days scraped in 838.4 secTraceback (most recent call last):\n"
     ]
    },
    {
     "name": "stderr",
     "output_type": "stream",
     "text": [
      "  File \u001b[35m\"/opt/hostedtoolcache/Python/3.13.7/x64/lib/python3.13/multiprocessing/resource_tracker.py\"\u001b[0m, line \u001b[35m295\u001b[0m, in \u001b[35mmain\u001b[0m\n",
      "    raise ValueError(\n",
      "        f'Cannot register {name} for automatic cleanup: '\n",
      "        f'unknown resource type {rtype}')\n",
      "\u001b[1;35mValueError\u001b[0m: \u001b[35mCannot register /dev/shm/joblib_memmapping_folder_2222_1f2cbaaa9b794419acbc4e611470818f_dd493bd02da9472880364cee2d47ddc2 for automatic cleanup: unknown resource type folder\u001b[0m\n"
     ]
    },
    {
     "name": "stderr",
     "output_type": "stream",
     "text": [
      "\r",
      "Scraping 133 games on 03/01/25:  66%|██████▌   | 120 of 182 days scraped in 839.5 sec"
     ]
    },
    {
     "name": "stderr",
     "output_type": "stream",
     "text": [
      "Traceback (most recent call last):\n",
      "  File \u001b[35m\"/opt/hostedtoolcache/Python/3.13.7/x64/lib/python3.13/multiprocessing/resource_tracker.py\"\u001b[0m, line \u001b[35m295\u001b[0m, in \u001b[35mmain\u001b[0m\n",
      "    raise ValueError(\n",
      "        f'Cannot register {name} for automatic cleanup: '\n",
      "        f'unknown resource type {rtype}')\n",
      "\u001b[1;35mValueError\u001b[0m: \u001b[35mCannot register /dev/shm/joblib_memmapping_folder_2222_371432bf1c01477baaa709a886df7453_5ce6ce125fb04d859ff27df14dad8317 for automatic cleanup: unknown resource type folder\u001b[0m\n",
      "Traceback (most recent call last):\n",
      "  File \u001b[35m\"/opt/hostedtoolcache/Python/3.13.7/x64/lib/python3.13/multiprocessing/resource_tracker.py\"\u001b[0m, line \u001b[35m295\u001b[0m, in \u001b[35mmain\u001b[0m\n",
      "    raise ValueError(\n",
      "        f'Cannot register {name} for automatic cleanup: '\n",
      "        f'unknown resource type {rtype}')\n",
      "\u001b[1;35mValueError\u001b[0m: \u001b[35mCannot register /dev/shm/joblib_memmapping_folder_2222_1f2cbaaa9b794419acbc4e611470818f_5e9dc2251d2740b08e0c3b04f7468798 for automatic cleanup: unknown resource type folder\u001b[0m\n"
     ]
    },
    {
     "name": "stderr",
     "output_type": "stream",
     "text": [
      "\r",
      "Scraping 133 games on 03/01/25:  66%|██████▋   | 121 of 182 days scraped in 857.5 secTraceback (most recent call last):\n"
     ]
    },
    {
     "name": "stderr",
     "output_type": "stream",
     "text": [
      "  File \u001b[35m\"/opt/hostedtoolcache/Python/3.13.7/x64/lib/python3.13/multiprocessing/resource_tracker.py\"\u001b[0m, line \u001b[35m295\u001b[0m, in \u001b[35mmain\u001b[0m\n",
      "    raise ValueError(\n",
      "        f'Cannot register {name} for automatic cleanup: '\n",
      "        f'unknown resource type {rtype}')\n",
      "\u001b[1;35mValueError\u001b[0m: \u001b[35mCannot register /dev/shm/joblib_memmapping_folder_2222_1f2cbaaa9b794419acbc4e611470818f_5e9dc2251d2740b08e0c3b04f7468798 for automatic cleanup: unknown resource type folder\u001b[0m\n"
     ]
    },
    {
     "name": "stderr",
     "output_type": "stream",
     "text": [
      "\r",
      "Scraping 23 games on 03/02/25:  66%|██████▋   | 121 of 182 days scraped in 858.0 sec "
     ]
    },
    {
     "name": "stderr",
     "output_type": "stream",
     "text": [
      "Traceback (most recent call last):\n",
      "  File \u001b[35m\"/opt/hostedtoolcache/Python/3.13.7/x64/lib/python3.13/multiprocessing/resource_tracker.py\"\u001b[0m, line \u001b[35m295\u001b[0m, in \u001b[35mmain\u001b[0m\n",
      "    raise ValueError(\n",
      "        f'Cannot register {name} for automatic cleanup: '\n",
      "        f'unknown resource type {rtype}')\n",
      "\u001b[1;35mValueError\u001b[0m: \u001b[35mCannot register /dev/shm/joblib_memmapping_folder_2222_be82a0a1644d4b9080f275c90701ca06_9b262a2d565242b295f8a6ee3097874d for automatic cleanup: unknown resource type folder\u001b[0m\n",
      "Traceback (most recent call last):\n",
      "  File \u001b[35m\"/opt/hostedtoolcache/Python/3.13.7/x64/lib/python3.13/multiprocessing/resource_tracker.py\"\u001b[0m, line \u001b[35m295\u001b[0m, in \u001b[35mmain\u001b[0m\n",
      "    raise ValueError(\n",
      "        f'Cannot register {name} for automatic cleanup: '\n",
      "        f'unknown resource type {rtype}')\n",
      "\u001b[1;35mValueError\u001b[0m: \u001b[35mCannot register /dev/shm/joblib_memmapping_folder_2222_1f2cbaaa9b794419acbc4e611470818f_00d44ba2f4d9430a8782e24a7de3e8ba for automatic cleanup: unknown resource type folder\u001b[0m\n"
     ]
    },
    {
     "name": "stderr",
     "output_type": "stream",
     "text": [
      "\r",
      "Scraping 23 games on 03/02/25:  67%|██████▋   | 122 of 182 days scraped in 861.3 secTraceback (most recent call last):\n"
     ]
    },
    {
     "name": "stderr",
     "output_type": "stream",
     "text": [
      "  File \u001b[35m\"/opt/hostedtoolcache/Python/3.13.7/x64/lib/python3.13/multiprocessing/resource_tracker.py\"\u001b[0m, line \u001b[35m295\u001b[0m, in \u001b[35mmain\u001b[0m\n",
      "    raise ValueError(\n",
      "        f'Cannot register {name} for automatic cleanup: '\n",
      "        f'unknown resource type {rtype}')\n",
      "\u001b[1;35mValueError\u001b[0m: \u001b[35mCannot register /dev/shm/joblib_memmapping_folder_2222_1f2cbaaa9b794419acbc4e611470818f_00d44ba2f4d9430a8782e24a7de3e8ba for automatic cleanup: unknown resource type folder\u001b[0m\n"
     ]
    },
    {
     "name": "stderr",
     "output_type": "stream",
     "text": [
      "\r",
      "Scraping 27 games on 03/03/25:  67%|██████▋   | 122 of 182 days scraped in 862.0 sec"
     ]
    },
    {
     "name": "stderr",
     "output_type": "stream",
     "text": [
      "Traceback (most recent call last):\n",
      "  File \u001b[35m\"/opt/hostedtoolcache/Python/3.13.7/x64/lib/python3.13/multiprocessing/resource_tracker.py\"\u001b[0m, line \u001b[35m295\u001b[0m, in \u001b[35mmain\u001b[0m\n",
      "    raise ValueError(\n",
      "        f'Cannot register {name} for automatic cleanup: '\n",
      "        f'unknown resource type {rtype}')\n",
      "\u001b[1;35mValueError\u001b[0m: \u001b[35mCannot register /dev/shm/joblib_memmapping_folder_2222_2bb795faca2342629b4179e56fc61b4e_dc279240b05647c3b6cac6864f50360a for automatic cleanup: unknown resource type folder\u001b[0m\n",
      "Traceback (most recent call last):\n",
      "  File \u001b[35m\"/opt/hostedtoolcache/Python/3.13.7/x64/lib/python3.13/multiprocessing/resource_tracker.py\"\u001b[0m, line \u001b[35m295\u001b[0m, in \u001b[35mmain\u001b[0m\n",
      "    raise ValueError(\n",
      "        f'Cannot register {name} for automatic cleanup: '\n",
      "        f'unknown resource type {rtype}')\n",
      "\u001b[1;35mValueError\u001b[0m: \u001b[35mCannot register /dev/shm/joblib_memmapping_folder_2222_1f2cbaaa9b794419acbc4e611470818f_61fb916884844420baf6603b2e83edad for automatic cleanup: unknown resource type folder\u001b[0m\n"
     ]
    },
    {
     "name": "stderr",
     "output_type": "stream",
     "text": [
      "\r",
      "Scraping 27 games on 03/03/25:  68%|██████▊   | 123 of 182 days scraped in 865.9 sec"
     ]
    },
    {
     "name": "stderr",
     "output_type": "stream",
     "text": [
      "Traceback (most recent call last):\n",
      "  File \u001b[35m\"/opt/hostedtoolcache/Python/3.13.7/x64/lib/python3.13/multiprocessing/resource_tracker.py\"\u001b[0m, line \u001b[35m295\u001b[0m, in \u001b[35mmain\u001b[0m\n",
      "    raise ValueError(\n",
      "        f'Cannot register {name} for automatic cleanup: '\n",
      "        f'unknown resource type {rtype}')\n",
      "\u001b[1;35mValueError\u001b[0m: \u001b[35mCannot register /dev/shm/joblib_memmapping_folder_2222_1f2cbaaa9b794419acbc4e611470818f_61fb916884844420baf6603b2e83edad for automatic cleanup: unknown resource type folder\u001b[0m\n"
     ]
    },
    {
     "name": "stderr",
     "output_type": "stream",
     "text": [
      "\r",
      "Scraping 44 games on 03/04/25:  68%|██████▊   | 123 of 182 days scraped in 866.6 sec"
     ]
    },
    {
     "name": "stderr",
     "output_type": "stream",
     "text": [
      "Traceback (most recent call last):\n",
      "  File \u001b[35m\"/opt/hostedtoolcache/Python/3.13.7/x64/lib/python3.13/multiprocessing/resource_tracker.py\"\u001b[0m, line \u001b[35m295\u001b[0m, in \u001b[35mmain\u001b[0m\n",
      "    raise ValueError(\n",
      "        f'Cannot register {name} for automatic cleanup: '\n",
      "        f'unknown resource type {rtype}')\n",
      "\u001b[1;35mValueError\u001b[0m: \u001b[35mCannot register /dev/shm/joblib_memmapping_folder_2222_fb0859a2cb1843eabb0b7cbb283734c0_f327eb8b80094701ad6db05f0fe9c0e8 for automatic cleanup: unknown resource type folder\u001b[0m\n",
      "Traceback (most recent call last):\n",
      "  File \u001b[35m\"/opt/hostedtoolcache/Python/3.13.7/x64/lib/python3.13/multiprocessing/resource_tracker.py\"\u001b[0m, line \u001b[35m295\u001b[0m, in \u001b[35mmain\u001b[0m\n",
      "    raise ValueError(\n",
      "        f'Cannot register {name} for automatic cleanup: '\n",
      "        f'unknown resource type {rtype}')\n",
      "\u001b[1;35mValueError\u001b[0m: \u001b[35mCannot register /dev/shm/joblib_memmapping_folder_2222_1f2cbaaa9b794419acbc4e611470818f_e45828c570e148e595c90cb24135956d for automatic cleanup: unknown resource type folder\u001b[0m\n"
     ]
    },
    {
     "name": "stderr",
     "output_type": "stream",
     "text": [
      "\r",
      "Scraping 44 games on 03/04/25:  68%|██████▊   | 124 of 182 days scraped in 873.3 sec"
     ]
    },
    {
     "name": "stderr",
     "output_type": "stream",
     "text": [
      "Traceback (most recent call last):\n",
      "  File \u001b[35m\"/opt/hostedtoolcache/Python/3.13.7/x64/lib/python3.13/multiprocessing/resource_tracker.py\"\u001b[0m, line \u001b[35m295\u001b[0m, in \u001b[35mmain\u001b[0m\n",
      "    raise ValueError(\n",
      "        f'Cannot register {name} for automatic cleanup: '\n",
      "        f'unknown resource type {rtype}')\n",
      "\u001b[1;35mValueError\u001b[0m: \u001b[35mCannot register /dev/shm/joblib_memmapping_folder_2222_1f2cbaaa9b794419acbc4e611470818f_e45828c570e148e595c90cb24135956d for automatic cleanup: unknown resource type folder\u001b[0m\n"
     ]
    },
    {
     "name": "stderr",
     "output_type": "stream",
     "text": [
      "\r",
      "Scraping 31 games on 03/05/25:  68%|██████▊   | 124 of 182 days scraped in 873.8 sec"
     ]
    },
    {
     "name": "stderr",
     "output_type": "stream",
     "text": [
      "Traceback (most recent call last):\n",
      "  File \u001b[35m\"/opt/hostedtoolcache/Python/3.13.7/x64/lib/python3.13/multiprocessing/resource_tracker.py\"\u001b[0m, line \u001b[35m295\u001b[0m, in \u001b[35mmain\u001b[0m\n",
      "    raise ValueError(\n",
      "        f'Cannot register {name} for automatic cleanup: '\n",
      "        f'unknown resource type {rtype}')\n",
      "\u001b[1;35mValueError\u001b[0m: \u001b[35mCannot register /dev/shm/joblib_memmapping_folder_2222_0e23cd99f1904398881e6ec17f7898d3_c601015c722d4381adc7f5b8da3d0151 for automatic cleanup: unknown resource type folder\u001b[0m\n",
      "Traceback (most recent call last):\n",
      "  File \u001b[35m\"/opt/hostedtoolcache/Python/3.13.7/x64/lib/python3.13/multiprocessing/resource_tracker.py\"\u001b[0m, line \u001b[35m295\u001b[0m, in \u001b[35mmain\u001b[0m\n",
      "    raise ValueError(\n",
      "        f'Cannot register {name} for automatic cleanup: '\n",
      "        f'unknown resource type {rtype}')\n",
      "\u001b[1;35mValueError\u001b[0m: \u001b[35mCannot register /dev/shm/joblib_memmapping_folder_2222_1f2cbaaa9b794419acbc4e611470818f_ba74fcd8232c4a6b8590b34cc79c34f4 for automatic cleanup: unknown resource type folder\u001b[0m\n"
     ]
    },
    {
     "name": "stderr",
     "output_type": "stream",
     "text": [
      "\r",
      "Scraping 31 games on 03/05/25:  69%|██████▊   | 125 of 182 days scraped in 878.3 sec"
     ]
    },
    {
     "name": "stderr",
     "output_type": "stream",
     "text": [
      "Traceback (most recent call last):\n",
      "  File \u001b[35m\"/opt/hostedtoolcache/Python/3.13.7/x64/lib/python3.13/multiprocessing/resource_tracker.py\"\u001b[0m, line \u001b[35m295\u001b[0m, in \u001b[35mmain\u001b[0m\n",
      "    raise ValueError(\n",
      "        f'Cannot register {name} for automatic cleanup: '\n",
      "        f'unknown resource type {rtype}')\n",
      "\u001b[1;35mValueError\u001b[0m: \u001b[35mCannot register /dev/shm/joblib_memmapping_folder_2222_1f2cbaaa9b794419acbc4e611470818f_ba74fcd8232c4a6b8590b34cc79c34f4 for automatic cleanup: unknown resource type folder\u001b[0m\n"
     ]
    },
    {
     "name": "stderr",
     "output_type": "stream",
     "text": [
      "\r",
      "Scraping 53 games on 03/06/25:  69%|██████▊   | 125 of 182 days scraped in 878.9 sec"
     ]
    },
    {
     "name": "stderr",
     "output_type": "stream",
     "text": [
      "Traceback (most recent call last):\n",
      "  File \u001b[35m\"/opt/hostedtoolcache/Python/3.13.7/x64/lib/python3.13/multiprocessing/resource_tracker.py\"\u001b[0m, line \u001b[35m295\u001b[0m, in \u001b[35mmain\u001b[0m\n",
      "    raise ValueError(\n",
      "        f'Cannot register {name} for automatic cleanup: '\n",
      "        f'unknown resource type {rtype}')\n",
      "\u001b[1;35mValueError\u001b[0m: \u001b[35mCannot register /dev/shm/joblib_memmapping_folder_2222_237f114727084ef3abcbcf97250d7ba8_ae78ab5e28ef4fe3917740c46e0826f2 for automatic cleanup: unknown resource type folder\u001b[0m\n",
      "Traceback (most recent call last):\n",
      "  File \u001b[35m\"/opt/hostedtoolcache/Python/3.13.7/x64/lib/python3.13/multiprocessing/resource_tracker.py\"\u001b[0m, line \u001b[35m295\u001b[0m, in \u001b[35mmain\u001b[0m\n",
      "    raise ValueError(\n",
      "        f'Cannot register {name} for automatic cleanup: '\n",
      "        f'unknown resource type {rtype}')\n",
      "\u001b[1;35mValueError\u001b[0m: \u001b[35mCannot register /dev/shm/joblib_memmapping_folder_2222_1f2cbaaa9b794419acbc4e611470818f_3740c9d1b76d44d5bb0b838f571e087a for automatic cleanup: unknown resource type folder\u001b[0m\n"
     ]
    },
    {
     "name": "stderr",
     "output_type": "stream",
     "text": [
      "\r",
      "Scraping 53 games on 03/06/25:  69%|██████▉   | 126 of 182 days scraped in 886.6 sec"
     ]
    },
    {
     "name": "stderr",
     "output_type": "stream",
     "text": [
      "Traceback (most recent call last):\n",
      "  File \u001b[35m\"/opt/hostedtoolcache/Python/3.13.7/x64/lib/python3.13/multiprocessing/resource_tracker.py\"\u001b[0m, line \u001b[35m295\u001b[0m, in \u001b[35mmain\u001b[0m\n",
      "    raise ValueError(\n",
      "        f'Cannot register {name} for automatic cleanup: '\n",
      "        f'unknown resource type {rtype}')\n",
      "\u001b[1;35mValueError\u001b[0m: \u001b[35mCannot register /dev/shm/joblib_memmapping_folder_2222_1f2cbaaa9b794419acbc4e611470818f_3740c9d1b76d44d5bb0b838f571e087a for automatic cleanup: unknown resource type folder\u001b[0m\n"
     ]
    },
    {
     "name": "stderr",
     "output_type": "stream",
     "text": [
      "\r",
      "Scraping 31 games on 03/07/25:  69%|██████▉   | 126 of 182 days scraped in 887.1 sec"
     ]
    },
    {
     "name": "stderr",
     "output_type": "stream",
     "text": [
      "Traceback (most recent call last):\n",
      "  File \u001b[35m\"/opt/hostedtoolcache/Python/3.13.7/x64/lib/python3.13/multiprocessing/resource_tracker.py\"\u001b[0m, line \u001b[35m295\u001b[0m, in \u001b[35mmain\u001b[0m\n",
      "    raise ValueError(\n",
      "        f'Cannot register {name} for automatic cleanup: '\n",
      "        f'unknown resource type {rtype}')\n",
      "\u001b[1;35mValueError\u001b[0m: \u001b[35mCannot register /dev/shm/joblib_memmapping_folder_2222_cc2ddfc6730c4f6b84a5931b77456d9c_7699ad6e62be49dfb6e802ee7317bd47 for automatic cleanup: unknown resource type folder\u001b[0m\n",
      "Traceback (most recent call last):\n",
      "  File \u001b[35m\"/opt/hostedtoolcache/Python/3.13.7/x64/lib/python3.13/multiprocessing/resource_tracker.py\"\u001b[0m, line \u001b[35m295\u001b[0m, in \u001b[35mmain\u001b[0m\n",
      "    raise ValueError(\n",
      "        f'Cannot register {name} for automatic cleanup: '\n",
      "        f'unknown resource type {rtype}')\n",
      "\u001b[1;35mValueError\u001b[0m: \u001b[35mCannot register /dev/shm/joblib_memmapping_folder_2222_1f2cbaaa9b794419acbc4e611470818f_fcdecbf0cd2648e1ae7a1a48156e592e for automatic cleanup: unknown resource type folder\u001b[0m\n"
     ]
    },
    {
     "name": "stderr",
     "output_type": "stream",
     "text": [
      "\r",
      "Scraping 31 games on 03/07/25:  70%|██████▉   | 127 of 182 days scraped in 891.4 sec"
     ]
    },
    {
     "name": "stderr",
     "output_type": "stream",
     "text": [
      "Traceback (most recent call last):\n",
      "  File \u001b[35m\"/opt/hostedtoolcache/Python/3.13.7/x64/lib/python3.13/multiprocessing/resource_tracker.py\"\u001b[0m, line \u001b[35m295\u001b[0m, in \u001b[35mmain\u001b[0m\n",
      "    raise ValueError(\n",
      "        f'Cannot register {name} for automatic cleanup: '\n",
      "        f'unknown resource type {rtype}')\n",
      "\u001b[1;35mValueError\u001b[0m: \u001b[35mCannot register /dev/shm/joblib_memmapping_folder_2222_1f2cbaaa9b794419acbc4e611470818f_fcdecbf0cd2648e1ae7a1a48156e592e for automatic cleanup: unknown resource type folder\u001b[0m\n"
     ]
    },
    {
     "name": "stderr",
     "output_type": "stream",
     "text": [
      "\r",
      "Scraping 100 games on 03/08/25:  70%|██████▉   | 127 of 182 days scraped in 892.7 sec"
     ]
    },
    {
     "name": "stderr",
     "output_type": "stream",
     "text": [
      "Traceback (most recent call last):\n",
      "  File \u001b[35m\"/opt/hostedtoolcache/Python/3.13.7/x64/lib/python3.13/multiprocessing/resource_tracker.py\"\u001b[0m, line \u001b[35m295\u001b[0m, in \u001b[35mmain\u001b[0m\n",
      "    raise ValueError(\n",
      "        f'Cannot register {name} for automatic cleanup: '\n",
      "        f'unknown resource type {rtype}')\n",
      "\u001b[1;35mValueError\u001b[0m: \u001b[35mCannot register /dev/shm/joblib_memmapping_folder_2222_75d81571dcd943bcabe10d989772cd5c_89c9247f39274886a44d4e4c2288021e for automatic cleanup: unknown resource type folder\u001b[0m\n",
      "Traceback (most recent call last):\n",
      "  File \u001b[35m\"/opt/hostedtoolcache/Python/3.13.7/x64/lib/python3.13/multiprocessing/resource_tracker.py\"\u001b[0m, line \u001b[35m295\u001b[0m, in \u001b[35mmain\u001b[0m\n",
      "    raise ValueError(\n",
      "        f'Cannot register {name} for automatic cleanup: '\n",
      "        f'unknown resource type {rtype}')\n",
      "\u001b[1;35mValueError\u001b[0m: \u001b[35mCannot register /dev/shm/joblib_memmapping_folder_2222_1f2cbaaa9b794419acbc4e611470818f_b263006967b546bf92d902be920316d9 for automatic cleanup: unknown resource type folder\u001b[0m\n"
     ]
    },
    {
     "name": "stderr",
     "output_type": "stream",
     "text": [
      "\r",
      "Scraping 100 games on 03/08/25:  70%|███████   | 128 of 182 days scraped in 906.8 sec"
     ]
    },
    {
     "name": "stderr",
     "output_type": "stream",
     "text": [
      "Traceback (most recent call last):\n",
      "  File \u001b[35m\"/opt/hostedtoolcache/Python/3.13.7/x64/lib/python3.13/multiprocessing/resource_tracker.py\"\u001b[0m, line \u001b[35m295\u001b[0m, in \u001b[35mmain\u001b[0m\n",
      "    raise ValueError(\n",
      "        f'Cannot register {name} for automatic cleanup: '\n",
      "        f'unknown resource type {rtype}')\n",
      "\u001b[1;35mValueError\u001b[0m: \u001b[35mCannot register /dev/shm/joblib_memmapping_folder_2222_1f2cbaaa9b794419acbc4e611470818f_b263006967b546bf92d902be920316d9 for automatic cleanup: unknown resource type folder\u001b[0m\n"
     ]
    },
    {
     "name": "stderr",
     "output_type": "stream",
     "text": [
      "\r",
      "Scraping 29 games on 03/09/25:  70%|███████   | 128 of 182 days scraped in 907.7 sec "
     ]
    },
    {
     "name": "stderr",
     "output_type": "stream",
     "text": [
      "Traceback (most recent call last):\n",
      "  File \u001b[35m\"/opt/hostedtoolcache/Python/3.13.7/x64/lib/python3.13/multiprocessing/resource_tracker.py\"\u001b[0m, line \u001b[35m295\u001b[0m, in \u001b[35mmain\u001b[0m\n",
      "    raise ValueError(\n",
      "        f'Cannot register {name} for automatic cleanup: '\n",
      "        f'unknown resource type {rtype}')\n",
      "\u001b[1;35mValueError\u001b[0m: \u001b[35mCannot register /dev/shm/joblib_memmapping_folder_2222_2796fc8ac76b4fe294f588cbf0289c36_8f9694010ee14abf89fad2d5684c80e9 for automatic cleanup: unknown resource type folder\u001b[0m\n",
      "Traceback (most recent call last):\n",
      "  File \u001b[35m\"/opt/hostedtoolcache/Python/3.13.7/x64/lib/python3.13/multiprocessing/resource_tracker.py\"\u001b[0m, line \u001b[35m295\u001b[0m, in \u001b[35mmain\u001b[0m\n",
      "    raise ValueError(\n",
      "        f'Cannot register {name} for automatic cleanup: '\n",
      "        f'unknown resource type {rtype}')\n",
      "\u001b[1;35mValueError\u001b[0m: \u001b[35mCannot register /dev/shm/joblib_memmapping_folder_2222_1f2cbaaa9b794419acbc4e611470818f_f3e94294472a4cdba84038c759ceea57 for automatic cleanup: unknown resource type folder\u001b[0m\n"
     ]
    },
    {
     "name": "stderr",
     "output_type": "stream",
     "text": [
      "\r",
      "Scraping 29 games on 03/09/25:  71%|███████   | 129 of 182 days scraped in 911.9 secTraceback (most recent call last):\n"
     ]
    },
    {
     "name": "stderr",
     "output_type": "stream",
     "text": [
      "  File \u001b[35m\"/opt/hostedtoolcache/Python/3.13.7/x64/lib/python3.13/multiprocessing/resource_tracker.py\"\u001b[0m, line \u001b[35m295\u001b[0m, in \u001b[35mmain\u001b[0m\n",
      "    raise ValueError(\n",
      "        f'Cannot register {name} for automatic cleanup: '\n",
      "        f'unknown resource type {rtype}')\n",
      "\u001b[1;35mValueError\u001b[0m: \u001b[35mCannot register /dev/shm/joblib_memmapping_folder_2222_1f2cbaaa9b794419acbc4e611470818f_f3e94294472a4cdba84038c759ceea57 for automatic cleanup: unknown resource type folder\u001b[0m\n"
     ]
    },
    {
     "name": "stderr",
     "output_type": "stream",
     "text": [
      "\r",
      "Scraping 12 games on 03/10/25:  71%|███████   | 129 of 182 days scraped in 912.2 sec"
     ]
    },
    {
     "name": "stderr",
     "output_type": "stream",
     "text": [
      "Traceback (most recent call last):\n",
      "  File \u001b[35m\"/opt/hostedtoolcache/Python/3.13.7/x64/lib/python3.13/multiprocessing/resource_tracker.py\"\u001b[0m, line \u001b[35m295\u001b[0m, in \u001b[35mmain\u001b[0m\n",
      "    raise ValueError(\n",
      "        f'Cannot register {name} for automatic cleanup: '\n",
      "        f'unknown resource type {rtype}')\n",
      "\u001b[1;35mValueError\u001b[0m: \u001b[35mCannot register /dev/shm/joblib_memmapping_folder_2222_edeffe42b4d54b978e4ef5a4624e0dd2_0e25524b5431418ab22130dd9fd813ee for automatic cleanup: unknown resource type folder\u001b[0m\n",
      "Traceback (most recent call last):\n",
      "  File \u001b[35m\"/opt/hostedtoolcache/Python/3.13.7/x64/lib/python3.13/multiprocessing/resource_tracker.py\"\u001b[0m, line \u001b[35m295\u001b[0m, in \u001b[35mmain\u001b[0m\n",
      "    raise ValueError(\n",
      "        f'Cannot register {name} for automatic cleanup: '\n",
      "        f'unknown resource type {rtype}')\n",
      "\u001b[1;35mValueError\u001b[0m: \u001b[35mCannot register /dev/shm/joblib_memmapping_folder_2222_1f2cbaaa9b794419acbc4e611470818f_7397e3495a764e4da4636b8e80fe3e1b for automatic cleanup: unknown resource type folder\u001b[0m\n"
     ]
    },
    {
     "name": "stderr",
     "output_type": "stream",
     "text": [
      "\r",
      "Scraping 12 games on 03/10/25:  71%|███████▏  | 130 of 182 days scraped in 914.0 secTraceback (most recent call last):\n"
     ]
    },
    {
     "name": "stderr",
     "output_type": "stream",
     "text": [
      "  File \u001b[35m\"/opt/hostedtoolcache/Python/3.13.7/x64/lib/python3.13/multiprocessing/resource_tracker.py\"\u001b[0m, line \u001b[35m295\u001b[0m, in \u001b[35mmain\u001b[0m\n",
      "    raise ValueError(\n",
      "        f'Cannot register {name} for automatic cleanup: '\n",
      "        f'unknown resource type {rtype}')\n",
      "\u001b[1;35mValueError\u001b[0m: \u001b[35mCannot register /dev/shm/joblib_memmapping_folder_2222_1f2cbaaa9b794419acbc4e611470818f_7397e3495a764e4da4636b8e80fe3e1b for automatic cleanup: unknown resource type folder\u001b[0m\n"
     ]
    },
    {
     "name": "stderr",
     "output_type": "stream",
     "text": [
      "\r",
      "Scraping 24 games on 03/11/25:  71%|███████▏  | 130 of 182 days scraped in 914.4 sec"
     ]
    },
    {
     "name": "stderr",
     "output_type": "stream",
     "text": [
      "Traceback (most recent call last):\n",
      "  File \u001b[35m\"/opt/hostedtoolcache/Python/3.13.7/x64/lib/python3.13/multiprocessing/resource_tracker.py\"\u001b[0m, line \u001b[35m295\u001b[0m, in \u001b[35mmain\u001b[0m\n",
      "    raise ValueError(\n",
      "        f'Cannot register {name} for automatic cleanup: '\n",
      "        f'unknown resource type {rtype}')\n",
      "\u001b[1;35mValueError\u001b[0m: \u001b[35mCannot register /dev/shm/joblib_memmapping_folder_2222_cf65f9934d1247aa9c32bd3df8cd31e6_6451efdb890844c3aabe2e4aa12da64b for automatic cleanup: unknown resource type folder\u001b[0m\n",
      "Traceback (most recent call last):\n",
      "  File \u001b[35m\"/opt/hostedtoolcache/Python/3.13.7/x64/lib/python3.13/multiprocessing/resource_tracker.py\"\u001b[0m, line \u001b[35m295\u001b[0m, in \u001b[35mmain\u001b[0m\n",
      "    raise ValueError(\n",
      "        f'Cannot register {name} for automatic cleanup: '\n",
      "        f'unknown resource type {rtype}')\n",
      "\u001b[1;35mValueError\u001b[0m: \u001b[35mCannot register /dev/shm/joblib_memmapping_folder_2222_1f2cbaaa9b794419acbc4e611470818f_157419cc45904d238ae4d5127caa5925 for automatic cleanup: unknown resource type folder\u001b[0m\n"
     ]
    },
    {
     "name": "stderr",
     "output_type": "stream",
     "text": [
      "\r",
      "Scraping 24 games on 03/11/25:  72%|███████▏  | 131 of 182 days scraped in 918.4 sec"
     ]
    },
    {
     "name": "stderr",
     "output_type": "stream",
     "text": [
      "Traceback (most recent call last):\n",
      "  File \u001b[35m\"/opt/hostedtoolcache/Python/3.13.7/x64/lib/python3.13/multiprocessing/resource_tracker.py\"\u001b[0m, line \u001b[35m295\u001b[0m, in \u001b[35mmain\u001b[0m\n",
      "    raise ValueError(\n",
      "        f'Cannot register {name} for automatic cleanup: '\n",
      "        f'unknown resource type {rtype}')\n",
      "\u001b[1;35mValueError\u001b[0m: \u001b[35mCannot register /dev/shm/joblib_memmapping_folder_2222_1f2cbaaa9b794419acbc4e611470818f_157419cc45904d238ae4d5127caa5925 for automatic cleanup: unknown resource type folder\u001b[0m\n"
     ]
    },
    {
     "name": "stderr",
     "output_type": "stream",
     "text": [
      "\r",
      "Scraping 40 games on 03/12/25:  72%|███████▏  | 131 of 182 days scraped in 919.4 sec"
     ]
    },
    {
     "name": "stderr",
     "output_type": "stream",
     "text": [
      "Traceback (most recent call last):\n",
      "  File \u001b[35m\"/opt/hostedtoolcache/Python/3.13.7/x64/lib/python3.13/multiprocessing/resource_tracker.py\"\u001b[0m, line \u001b[35m295\u001b[0m, in \u001b[35mmain\u001b[0m\n",
      "    raise ValueError(\n",
      "        f'Cannot register {name} for automatic cleanup: '\n",
      "        f'unknown resource type {rtype}')\n",
      "\u001b[1;35mValueError\u001b[0m: \u001b[35mCannot register /dev/shm/joblib_memmapping_folder_2222_4577536c51d547c3ab8cc6db43a76423_bfea0224cc39462699b7f3fdbaa91e31 for automatic cleanup: unknown resource type folder\u001b[0m\n",
      "Traceback (most recent call last):\n",
      "  File \u001b[35m\"/opt/hostedtoolcache/Python/3.13.7/x64/lib/python3.13/multiprocessing/resource_tracker.py\"\u001b[0m, line \u001b[35m295\u001b[0m, in \u001b[35mmain\u001b[0m\n",
      "    raise ValueError(\n",
      "        f'Cannot register {name} for automatic cleanup: '\n",
      "        f'unknown resource type {rtype}')\n",
      "\u001b[1;35mValueError\u001b[0m: \u001b[35mCannot register /dev/shm/joblib_memmapping_folder_2222_1f2cbaaa9b794419acbc4e611470818f_0fd5410727e747e9ad3159cde32a4ea4 for automatic cleanup: unknown resource type folder\u001b[0m\n"
     ]
    },
    {
     "name": "stderr",
     "output_type": "stream",
     "text": [
      "\r",
      "Scraping 40 games on 03/12/25:  73%|███████▎  | 132 of 182 days scraped in 925.1 sec"
     ]
    },
    {
     "name": "stderr",
     "output_type": "stream",
     "text": [
      "Traceback (most recent call last):\n",
      "  File \u001b[35m\"/opt/hostedtoolcache/Python/3.13.7/x64/lib/python3.13/multiprocessing/resource_tracker.py\"\u001b[0m, line \u001b[35m295\u001b[0m, in \u001b[35mmain\u001b[0m\n",
      "    raise ValueError(\n",
      "        f'Cannot register {name} for automatic cleanup: '\n",
      "        f'unknown resource type {rtype}')\n",
      "\u001b[1;35mValueError\u001b[0m: \u001b[35mCannot register /dev/shm/joblib_memmapping_folder_2222_1f2cbaaa9b794419acbc4e611470818f_0fd5410727e747e9ad3159cde32a4ea4 for automatic cleanup: unknown resource type folder\u001b[0m\n"
     ]
    },
    {
     "name": "stderr",
     "output_type": "stream",
     "text": [
      "\r",
      "Scraping 48 games on 03/13/25:  73%|███████▎  | 132 of 182 days scraped in 925.7 sec"
     ]
    },
    {
     "name": "stderr",
     "output_type": "stream",
     "text": [
      "Traceback (most recent call last):\n",
      "  File \u001b[35m\"/opt/hostedtoolcache/Python/3.13.7/x64/lib/python3.13/multiprocessing/resource_tracker.py\"\u001b[0m, line \u001b[35m295\u001b[0m, in \u001b[35mmain\u001b[0m\n",
      "    raise ValueError(\n",
      "        f'Cannot register {name} for automatic cleanup: '\n",
      "        f'unknown resource type {rtype}')\n",
      "\u001b[1;35mValueError\u001b[0m: \u001b[35mCannot register /dev/shm/joblib_memmapping_folder_2222_3400d6c1986346a88bba882d0f60618a_fa411161d9c44aa287e0482c4027e1c1 for automatic cleanup: unknown resource type folder\u001b[0m\n",
      "Traceback (most recent call last):\n",
      "  File \u001b[35m\"/opt/hostedtoolcache/Python/3.13.7/x64/lib/python3.13/multiprocessing/resource_tracker.py\"\u001b[0m, line \u001b[35m295\u001b[0m, in \u001b[35mmain\u001b[0m\n",
      "    raise ValueError(\n",
      "        f'Cannot register {name} for automatic cleanup: '\n",
      "        f'unknown resource type {rtype}')\n",
      "\u001b[1;35mValueError\u001b[0m: \u001b[35mCannot register /dev/shm/joblib_memmapping_folder_2222_1f2cbaaa9b794419acbc4e611470818f_30eaebc2589e4e1cbe463bb375fbdf42 for automatic cleanup: unknown resource type folder\u001b[0m\n"
     ]
    },
    {
     "name": "stderr",
     "output_type": "stream",
     "text": [
      "\r",
      "Scraping 48 games on 03/13/25:  73%|███████▎  | 133 of 182 days scraped in 933.2 sec"
     ]
    },
    {
     "name": "stderr",
     "output_type": "stream",
     "text": [
      "Traceback (most recent call last):\n",
      "  File \u001b[35m\"/opt/hostedtoolcache/Python/3.13.7/x64/lib/python3.13/multiprocessing/resource_tracker.py\"\u001b[0m, line \u001b[35m295\u001b[0m, in \u001b[35mmain\u001b[0m\n",
      "    raise ValueError(\n",
      "        f'Cannot register {name} for automatic cleanup: '\n",
      "        f'unknown resource type {rtype}')\n",
      "\u001b[1;35mValueError\u001b[0m: \u001b[35mCannot register /dev/shm/joblib_memmapping_folder_2222_1f2cbaaa9b794419acbc4e611470818f_30eaebc2589e4e1cbe463bb375fbdf42 for automatic cleanup: unknown resource type folder\u001b[0m\n"
     ]
    },
    {
     "name": "stderr",
     "output_type": "stream",
     "text": [
      "\r",
      "Scraping 38 games on 03/14/25:  73%|███████▎  | 133 of 182 days scraped in 933.7 sec"
     ]
    },
    {
     "name": "stderr",
     "output_type": "stream",
     "text": [
      "Traceback (most recent call last):\n",
      "  File \u001b[35m\"/opt/hostedtoolcache/Python/3.13.7/x64/lib/python3.13/multiprocessing/resource_tracker.py\"\u001b[0m, line \u001b[35m295\u001b[0m, in \u001b[35mmain\u001b[0m\n",
      "    raise ValueError(\n",
      "        f'Cannot register {name} for automatic cleanup: '\n",
      "        f'unknown resource type {rtype}')\n",
      "\u001b[1;35mValueError\u001b[0m: \u001b[35mCannot register /dev/shm/joblib_memmapping_folder_2222_3b280e85906b41e19b7c68cf08762d6e_abb3ce0d9aab44c49c56736d7c60e3fa for automatic cleanup: unknown resource type folder\u001b[0m\n",
      "Traceback (most recent call last):\n",
      "  File \u001b[35m\"/opt/hostedtoolcache/Python/3.13.7/x64/lib/python3.13/multiprocessing/resource_tracker.py\"\u001b[0m, line \u001b[35m295\u001b[0m, in \u001b[35mmain\u001b[0m\n",
      "    raise ValueError(\n",
      "        f'Cannot register {name} for automatic cleanup: '\n",
      "        f'unknown resource type {rtype}')\n",
      "\u001b[1;35mValueError\u001b[0m: \u001b[35mCannot register /dev/shm/joblib_memmapping_folder_2222_1f2cbaaa9b794419acbc4e611470818f_534013e13d7e415d87166a54916d522a for automatic cleanup: unknown resource type folder\u001b[0m\n"
     ]
    },
    {
     "name": "stderr",
     "output_type": "stream",
     "text": [
      "\r",
      "Scraping 38 games on 03/14/25:  74%|███████▎  | 134 of 182 days scraped in 939.1 sec"
     ]
    },
    {
     "name": "stderr",
     "output_type": "stream",
     "text": [
      "Traceback (most recent call last):\n",
      "  File \u001b[35m\"/opt/hostedtoolcache/Python/3.13.7/x64/lib/python3.13/multiprocessing/resource_tracker.py\"\u001b[0m, line \u001b[35m295\u001b[0m, in \u001b[35mmain\u001b[0m\n",
      "    raise ValueError(\n",
      "        f'Cannot register {name} for automatic cleanup: '\n",
      "        f'unknown resource type {rtype}')\n",
      "\u001b[1;35mValueError\u001b[0m: \u001b[35mCannot register /dev/shm/joblib_memmapping_folder_2222_1f2cbaaa9b794419acbc4e611470818f_534013e13d7e415d87166a54916d522a for automatic cleanup: unknown resource type folder\u001b[0m\n"
     ]
    },
    {
     "name": "stderr",
     "output_type": "stream",
     "text": [
      "\r",
      "Scraping 22 games on 03/15/25:  74%|███████▎  | 134 of 182 days scraped in 939.5 sec"
     ]
    },
    {
     "name": "stderr",
     "output_type": "stream",
     "text": [
      "Traceback (most recent call last):\n",
      "  File \u001b[35m\"/opt/hostedtoolcache/Python/3.13.7/x64/lib/python3.13/multiprocessing/resource_tracker.py\"\u001b[0m, line \u001b[35m295\u001b[0m, in \u001b[35mmain\u001b[0m\n",
      "    raise ValueError(\n",
      "        f'Cannot register {name} for automatic cleanup: '\n",
      "        f'unknown resource type {rtype}')\n",
      "\u001b[1;35mValueError\u001b[0m: \u001b[35mCannot register /dev/shm/joblib_memmapping_folder_2222_9c8e4da696eb450ba96ade466c3aa05b_1af1bf29f52549bc8608e14b878d6155 for automatic cleanup: unknown resource type folder\u001b[0m\n",
      "Traceback (most recent call last):\n",
      "  File \u001b[35m\"/opt/hostedtoolcache/Python/3.13.7/x64/lib/python3.13/multiprocessing/resource_tracker.py\"\u001b[0m, line \u001b[35m295\u001b[0m, in \u001b[35mmain\u001b[0m\n",
      "    raise ValueError(\n",
      "        f'Cannot register {name} for automatic cleanup: '\n",
      "        f'unknown resource type {rtype}')\n",
      "\u001b[1;35mValueError\u001b[0m: \u001b[35mCannot register /dev/shm/joblib_memmapping_folder_2222_1f2cbaaa9b794419acbc4e611470818f_584b28c914734e4a93e93bd5994fcc27 for automatic cleanup: unknown resource type folder\u001b[0m\n"
     ]
    },
    {
     "name": "stderr",
     "output_type": "stream",
     "text": [
      "\r",
      "Scraping 22 games on 03/15/25:  74%|███████▍  | 135 of 182 days scraped in 943.1 sec"
     ]
    },
    {
     "name": "stderr",
     "output_type": "stream",
     "text": [
      "Traceback (most recent call last):\n",
      "  File \u001b[35m\"/opt/hostedtoolcache/Python/3.13.7/x64/lib/python3.13/multiprocessing/resource_tracker.py\"\u001b[0m, line \u001b[35m295\u001b[0m, in \u001b[35mmain\u001b[0m\n",
      "    raise ValueError(\n",
      "        f'Cannot register {name} for automatic cleanup: '\n",
      "        f'unknown resource type {rtype}')\n",
      "\u001b[1;35mValueError\u001b[0m: \u001b[35mCannot register /dev/shm/joblib_memmapping_folder_2222_1f2cbaaa9b794419acbc4e611470818f_584b28c914734e4a93e93bd5994fcc27 for automatic cleanup: unknown resource type folder\u001b[0m\n"
     ]
    },
    {
     "name": "stderr",
     "output_type": "stream",
     "text": [
      "\r",
      "Scraping 5 games on 03/16/25:  74%|███████▍  | 135 of 182 days scraped in 943.8 sec "
     ]
    },
    {
     "name": "stderr",
     "output_type": "stream",
     "text": [
      "Traceback (most recent call last):\n",
      "  File \u001b[35m\"/opt/hostedtoolcache/Python/3.13.7/x64/lib/python3.13/multiprocessing/resource_tracker.py\"\u001b[0m, line \u001b[35m295\u001b[0m, in \u001b[35mmain\u001b[0m\n",
      "    raise ValueError(\n",
      "        f'Cannot register {name} for automatic cleanup: '\n",
      "        f'unknown resource type {rtype}')\n",
      "\u001b[1;35mValueError\u001b[0m: \u001b[35mCannot register /dev/shm/joblib_memmapping_folder_2222_54b67ed003e04734afefe62bf0fa223e_12a6059270c44cbfbb237a3e65cfb7a7 for automatic cleanup: unknown resource type folder\u001b[0m\n",
      "Traceback (most recent call last):\n",
      "  File \u001b[35m\"/opt/hostedtoolcache/Python/3.13.7/x64/lib/python3.13/multiprocessing/resource_tracker.py\"\u001b[0m, line \u001b[35m295\u001b[0m, in \u001b[35mmain\u001b[0m\n",
      "    raise ValueError(\n",
      "        f'Cannot register {name} for automatic cleanup: '\n",
      "        f'unknown resource type {rtype}')\n",
      "\u001b[1;35mValueError\u001b[0m: \u001b[35mCannot register /dev/shm/joblib_memmapping_folder_2222_1f2cbaaa9b794419acbc4e611470818f_d0216ccaa1764427b99fce18a1876d49 for automatic cleanup: unknown resource type folder\u001b[0m\n"
     ]
    },
    {
     "name": "stderr",
     "output_type": "stream",
     "text": [
      "\r",
      "Scraping 5 games on 03/16/25:  75%|███████▍  | 136 of 182 days scraped in 944.5 secTraceback (most recent call last):\n"
     ]
    },
    {
     "name": "stderr",
     "output_type": "stream",
     "text": [
      "  File \u001b[35m\"/opt/hostedtoolcache/Python/3.13.7/x64/lib/python3.13/multiprocessing/resource_tracker.py\"\u001b[0m, line \u001b[35m295\u001b[0m, in \u001b[35mmain\u001b[0m\n",
      "    raise ValueError(\n",
      "        f'Cannot register {name} for automatic cleanup: '\n",
      "        f'unknown resource type {rtype}')\n",
      "\u001b[1;35mValueError\u001b[0m: \u001b[35mCannot register /dev/shm/joblib_memmapping_folder_2222_1f2cbaaa9b794419acbc4e611470818f_d0216ccaa1764427b99fce18a1876d49 for automatic cleanup: unknown resource type folder\u001b[0m\n"
     ]
    },
    {
     "name": "stderr",
     "output_type": "stream",
     "text": [
      "\r",
      "Scraping 0 games on 03/17/25:  75%|███████▍  | 136 of 182 days scraped in 944.8 sec"
     ]
    },
    {
     "name": "stderr",
     "output_type": "stream",
     "text": [
      "\r",
      "No games on 03/17/25:  75%|███████▌  | 137 of 182 days scraped in 944.8 sec        "
     ]
    },
    {
     "name": "stderr",
     "output_type": "stream",
     "text": [
      "\r",
      "Scraping 9 games on 03/18/25:  75%|███████▌  | 137 of 182 days scraped in 945.2 sec"
     ]
    },
    {
     "name": "stderr",
     "output_type": "stream",
     "text": [
      "Traceback (most recent call last):\n",
      "  File \u001b[35m\"/opt/hostedtoolcache/Python/3.13.7/x64/lib/python3.13/multiprocessing/resource_tracker.py\"\u001b[0m, line \u001b[35m295\u001b[0m, in \u001b[35mmain\u001b[0m\n",
      "    raise ValueError(\n",
      "        f'Cannot register {name} for automatic cleanup: '\n",
      "        f'unknown resource type {rtype}')\n",
      "\u001b[1;35mValueError\u001b[0m: \u001b[35mCannot register /dev/shm/joblib_memmapping_folder_2222_9f9e57ac58504fd984671214d151b462_079292f1fe4a432ebe1a357bb4c9b195 for automatic cleanup: unknown resource type folder\u001b[0m\n",
      "Traceback (most recent call last):\n",
      "  File \u001b[35m\"/opt/hostedtoolcache/Python/3.13.7/x64/lib/python3.13/multiprocessing/resource_tracker.py\"\u001b[0m, line \u001b[35m295\u001b[0m, in \u001b[35mmain\u001b[0m\n",
      "    raise ValueError(\n",
      "        f'Cannot register {name} for automatic cleanup: '\n",
      "        f'unknown resource type {rtype}')\n",
      "\u001b[1;35mValueError\u001b[0m: \u001b[35mCannot register /dev/shm/joblib_memmapping_folder_2222_1f2cbaaa9b794419acbc4e611470818f_519c45aa77b64afab369d773d2cad161 for automatic cleanup: unknown resource type folder\u001b[0m\n"
     ]
    },
    {
     "name": "stderr",
     "output_type": "stream",
     "text": [
      "\r",
      "Scraping 9 games on 03/18/25:  76%|███████▌  | 138 of 182 days scraped in 946.7 secTraceback (most recent call last):\n"
     ]
    },
    {
     "name": "stderr",
     "output_type": "stream",
     "text": [
      "  File \u001b[35m\"/opt/hostedtoolcache/Python/3.13.7/x64/lib/python3.13/multiprocessing/resource_tracker.py\"\u001b[0m, line \u001b[35m295\u001b[0m, in \u001b[35mmain\u001b[0m\n",
      "    raise ValueError(\n",
      "        f'Cannot register {name} for automatic cleanup: '\n",
      "        f'unknown resource type {rtype}')\n",
      "\u001b[1;35mValueError\u001b[0m: \u001b[35mCannot register /dev/shm/joblib_memmapping_folder_2222_1f2cbaaa9b794419acbc4e611470818f_519c45aa77b64afab369d773d2cad161 for automatic cleanup: unknown resource type folder\u001b[0m\n"
     ]
    },
    {
     "name": "stderr",
     "output_type": "stream",
     "text": [
      "\r",
      "Scraping 11 games on 03/19/25:  76%|███████▌  | 138 of 182 days scraped in 947.1 sec"
     ]
    },
    {
     "name": "stderr",
     "output_type": "stream",
     "text": [
      "Traceback (most recent call last):\n",
      "  File \u001b[35m\"/opt/hostedtoolcache/Python/3.13.7/x64/lib/python3.13/multiprocessing/resource_tracker.py\"\u001b[0m, line \u001b[35m295\u001b[0m, in \u001b[35mmain\u001b[0m\n",
      "    raise ValueError(\n",
      "        f'Cannot register {name} for automatic cleanup: '\n",
      "        f'unknown resource type {rtype}')\n",
      "\u001b[1;35mValueError\u001b[0m: \u001b[35mCannot register /dev/shm/joblib_memmapping_folder_2222_f2a4486249204152b7a147e2845cef47_6261896022514233a68d780ced3c2a34 for automatic cleanup: unknown resource type folder\u001b[0m\n",
      "Traceback (most recent call last):\n",
      "  File \u001b[35m\"/opt/hostedtoolcache/Python/3.13.7/x64/lib/python3.13/multiprocessing/resource_tracker.py\"\u001b[0m, line \u001b[35m295\u001b[0m, in \u001b[35mmain\u001b[0m\n",
      "    raise ValueError(\n",
      "        f'Cannot register {name} for automatic cleanup: '\n",
      "        f'unknown resource type {rtype}')\n",
      "\u001b[1;35mValueError\u001b[0m: \u001b[35mCannot register /dev/shm/joblib_memmapping_folder_2222_1f2cbaaa9b794419acbc4e611470818f_d452bf1d0ca54837ad2fb67bd14f05e2 for automatic cleanup: unknown resource type folder\u001b[0m\n"
     ]
    },
    {
     "name": "stderr",
     "output_type": "stream",
     "text": [
      "\r",
      "Scraping 11 games on 03/19/25:  76%|███████▋  | 139 of 182 days scraped in 948.9 secTraceback (most recent call last):\n"
     ]
    },
    {
     "name": "stderr",
     "output_type": "stream",
     "text": [
      "  File \u001b[35m\"/opt/hostedtoolcache/Python/3.13.7/x64/lib/python3.13/multiprocessing/resource_tracker.py\"\u001b[0m, line \u001b[35m295\u001b[0m, in \u001b[35mmain\u001b[0m\n",
      "    raise ValueError(\n",
      "        f'Cannot register {name} for automatic cleanup: '\n",
      "        f'unknown resource type {rtype}')\n",
      "\u001b[1;35mValueError\u001b[0m: \u001b[35mCannot register /dev/shm/joblib_memmapping_folder_2222_1f2cbaaa9b794419acbc4e611470818f_d452bf1d0ca54837ad2fb67bd14f05e2 for automatic cleanup: unknown resource type folder\u001b[0m\n"
     ]
    },
    {
     "name": "stderr",
     "output_type": "stream",
     "text": [
      "\r",
      "Scraping 16 games on 03/20/25:  76%|███████▋  | 139 of 182 days scraped in 949.4 sec"
     ]
    },
    {
     "name": "stderr",
     "output_type": "stream",
     "text": [
      "Traceback (most recent call last):\n",
      "  File \u001b[35m\"/opt/hostedtoolcache/Python/3.13.7/x64/lib/python3.13/multiprocessing/resource_tracker.py\"\u001b[0m, line \u001b[35m295\u001b[0m, in \u001b[35mmain\u001b[0m\n",
      "    raise ValueError(\n",
      "        f'Cannot register {name} for automatic cleanup: '\n",
      "        f'unknown resource type {rtype}')\n",
      "\u001b[1;35mValueError\u001b[0m: \u001b[35mCannot register /dev/shm/joblib_memmapping_folder_2222_30277a2542fb46a89a02672f7a1c71d2_7cae568120fa4ea0af14eb6a54f3fc95 for automatic cleanup: unknown resource type folder\u001b[0m\n",
      "Traceback (most recent call last):\n",
      "  File \u001b[35m\"/opt/hostedtoolcache/Python/3.13.7/x64/lib/python3.13/multiprocessing/resource_tracker.py\"\u001b[0m, line \u001b[35m295\u001b[0m, in \u001b[35mmain\u001b[0m\n",
      "    raise ValueError(\n",
      "        f'Cannot register {name} for automatic cleanup: '\n",
      "        f'unknown resource type {rtype}')\n",
      "\u001b[1;35mValueError\u001b[0m: \u001b[35mCannot register /dev/shm/joblib_memmapping_folder_2222_1f2cbaaa9b794419acbc4e611470818f_c8759e9e2da14b7080c08a267f1961fc for automatic cleanup: unknown resource type folder\u001b[0m\n"
     ]
    },
    {
     "name": "stderr",
     "output_type": "stream",
     "text": [
      "\r",
      "Scraping 16 games on 03/20/25:  77%|███████▋  | 140 of 182 days scraped in 952.3 sec"
     ]
    },
    {
     "name": "stderr",
     "output_type": "stream",
     "text": [
      "Traceback (most recent call last):\n",
      "  File \u001b[35m\"/opt/hostedtoolcache/Python/3.13.7/x64/lib/python3.13/multiprocessing/resource_tracker.py\"\u001b[0m, line \u001b[35m295\u001b[0m, in \u001b[35mmain\u001b[0m\n",
      "    raise ValueError(\n",
      "        f'Cannot register {name} for automatic cleanup: '\n",
      "        f'unknown resource type {rtype}')\n",
      "\u001b[1;35mValueError\u001b[0m: \u001b[35mCannot register /dev/shm/joblib_memmapping_folder_2222_1f2cbaaa9b794419acbc4e611470818f_c8759e9e2da14b7080c08a267f1961fc for automatic cleanup: unknown resource type folder\u001b[0m\n"
     ]
    },
    {
     "name": "stderr",
     "output_type": "stream",
     "text": [
      "\r",
      "Scraping 16 games on 03/21/25:  77%|███████▋  | 140 of 182 days scraped in 952.7 sec"
     ]
    },
    {
     "name": "stderr",
     "output_type": "stream",
     "text": [
      "Traceback (most recent call last):\n",
      "  File \u001b[35m\"/opt/hostedtoolcache/Python/3.13.7/x64/lib/python3.13/multiprocessing/resource_tracker.py\"\u001b[0m, line \u001b[35m295\u001b[0m, in \u001b[35mmain\u001b[0m\n",
      "    raise ValueError(\n",
      "        f'Cannot register {name} for automatic cleanup: '\n",
      "        f'unknown resource type {rtype}')\n",
      "\u001b[1;35mValueError\u001b[0m: \u001b[35mCannot register /dev/shm/joblib_memmapping_folder_2222_eb0c2a784d094971bb329ebf151a821b_2e09c160fe7f4b009bfdcef5293d4be1 for automatic cleanup: unknown resource type folder\u001b[0m\n",
      "Traceback (most recent call last):\n",
      "  File \u001b[35m\"/opt/hostedtoolcache/Python/3.13.7/x64/lib/python3.13/multiprocessing/resource_tracker.py\"\u001b[0m, line \u001b[35m295\u001b[0m, in \u001b[35mmain\u001b[0m\n",
      "    raise ValueError(\n",
      "        f'Cannot register {name} for automatic cleanup: '\n",
      "        f'unknown resource type {rtype}')\n",
      "\u001b[1;35mValueError\u001b[0m: \u001b[35mCannot register /dev/shm/joblib_memmapping_folder_2222_1f2cbaaa9b794419acbc4e611470818f_747c50712ae7475db34b3874e27d5cb1 for automatic cleanup: unknown resource type folder\u001b[0m\n"
     ]
    },
    {
     "name": "stderr",
     "output_type": "stream",
     "text": [
      "\r",
      "Scraping 16 games on 03/21/25:  77%|███████▋  | 141 of 182 days scraped in 955.2 sec"
     ]
    },
    {
     "name": "stderr",
     "output_type": "stream",
     "text": [
      "Traceback (most recent call last):\n",
      "  File \u001b[35m\"/opt/hostedtoolcache/Python/3.13.7/x64/lib/python3.13/multiprocessing/resource_tracker.py\"\u001b[0m, line \u001b[35m295\u001b[0m, in \u001b[35mmain\u001b[0m\n",
      "    raise ValueError(\n",
      "        f'Cannot register {name} for automatic cleanup: '\n",
      "        f'unknown resource type {rtype}')\n",
      "\u001b[1;35mValueError\u001b[0m: \u001b[35mCannot register /dev/shm/joblib_memmapping_folder_2222_1f2cbaaa9b794419acbc4e611470818f_747c50712ae7475db34b3874e27d5cb1 for automatic cleanup: unknown resource type folder\u001b[0m\n"
     ]
    },
    {
     "name": "stderr",
     "output_type": "stream",
     "text": [
      "\r",
      "Scraping 10 games on 03/22/25:  77%|███████▋  | 141 of 182 days scraped in 955.5 sec"
     ]
    },
    {
     "name": "stderr",
     "output_type": "stream",
     "text": [
      "Traceback (most recent call last):\n",
      "  File \u001b[35m\"/opt/hostedtoolcache/Python/3.13.7/x64/lib/python3.13/multiprocessing/resource_tracker.py\"\u001b[0m, line \u001b[35m295\u001b[0m, in \u001b[35mmain\u001b[0m\n",
      "    raise ValueError(\n",
      "        f'Cannot register {name} for automatic cleanup: '\n",
      "        f'unknown resource type {rtype}')\n",
      "\u001b[1;35mValueError\u001b[0m: \u001b[35mCannot register /dev/shm/joblib_memmapping_folder_2222_5b0da48ba2a742eb848447c1d71c59e4_6869f41031944b24805d2616ac2248dc for automatic cleanup: unknown resource type folder\u001b[0m\n",
      "Traceback (most recent call last):\n",
      "  File \u001b[35m\"/opt/hostedtoolcache/Python/3.13.7/x64/lib/python3.13/multiprocessing/resource_tracker.py\"\u001b[0m, line \u001b[35m295\u001b[0m, in \u001b[35mmain\u001b[0m\n",
      "    raise ValueError(\n",
      "        f'Cannot register {name} for automatic cleanup: '\n",
      "        f'unknown resource type {rtype}')\n",
      "\u001b[1;35mValueError\u001b[0m: \u001b[35mCannot register /dev/shm/joblib_memmapping_folder_2222_1f2cbaaa9b794419acbc4e611470818f_4e8768cc34c24aa0bf68bd96b8ad1da8 for automatic cleanup: unknown resource type folder\u001b[0m\n"
     ]
    },
    {
     "name": "stderr",
     "output_type": "stream",
     "text": [
      "\r",
      "Scraping 10 games on 03/22/25:  78%|███████▊  | 142 of 182 days scraped in 957.6 secTraceback (most recent call last):\n"
     ]
    },
    {
     "name": "stderr",
     "output_type": "stream",
     "text": [
      "  File \u001b[35m\"/opt/hostedtoolcache/Python/3.13.7/x64/lib/python3.13/multiprocessing/resource_tracker.py\"\u001b[0m, line \u001b[35m295\u001b[0m, in \u001b[35mmain\u001b[0m\n",
      "    raise ValueError(\n",
      "        f'Cannot register {name} for automatic cleanup: '\n",
      "        f'unknown resource type {rtype}')\n",
      "\u001b[1;35mValueError\u001b[0m: \u001b[35mCannot register /dev/shm/joblib_memmapping_folder_2222_1f2cbaaa9b794419acbc4e611470818f_4e8768cc34c24aa0bf68bd96b8ad1da8 for automatic cleanup: unknown resource type folder\u001b[0m\n"
     ]
    },
    {
     "name": "stderr",
     "output_type": "stream",
     "text": [
      "\r",
      "Scraping 18 games on 03/23/25:  78%|███████▊  | 142 of 182 days scraped in 958.4 sec"
     ]
    },
    {
     "name": "stderr",
     "output_type": "stream",
     "text": [
      "Traceback (most recent call last):\n",
      "  File \u001b[35m\"/opt/hostedtoolcache/Python/3.13.7/x64/lib/python3.13/multiprocessing/resource_tracker.py\"\u001b[0m, line \u001b[35m295\u001b[0m, in \u001b[35mmain\u001b[0m\n",
      "    raise ValueError(\n",
      "        f'Cannot register {name} for automatic cleanup: '\n",
      "        f'unknown resource type {rtype}')\n",
      "\u001b[1;35mValueError\u001b[0m: \u001b[35mCannot register /dev/shm/joblib_memmapping_folder_2222_9a39c8aac4814167a27e4a9b9d85642a_dcf7ba3cff99458a8a28b2351e8aa119 for automatic cleanup: unknown resource type folder\u001b[0m\n",
      "Traceback (most recent call last):\n",
      "  File \u001b[35m\"/opt/hostedtoolcache/Python/3.13.7/x64/lib/python3.13/multiprocessing/resource_tracker.py\"\u001b[0m, line \u001b[35m295\u001b[0m, in \u001b[35mmain\u001b[0m\n",
      "    raise ValueError(\n",
      "        f'Cannot register {name} for automatic cleanup: '\n",
      "        f'unknown resource type {rtype}')\n",
      "\u001b[1;35mValueError\u001b[0m: \u001b[35mCannot register /dev/shm/joblib_memmapping_folder_2222_1f2cbaaa9b794419acbc4e611470818f_0bf00162dbf04eee9d25391fac680fae for automatic cleanup: unknown resource type folder\u001b[0m\n"
     ]
    },
    {
     "name": "stderr",
     "output_type": "stream",
     "text": [
      "\r",
      "Scraping 18 games on 03/23/25:  79%|███████▊  | 143 of 182 days scraped in 961.1 secTraceback (most recent call last):\n"
     ]
    },
    {
     "name": "stderr",
     "output_type": "stream",
     "text": [
      "  File \u001b[35m\"/opt/hostedtoolcache/Python/3.13.7/x64/lib/python3.13/multiprocessing/resource_tracker.py\"\u001b[0m, line \u001b[35m295\u001b[0m, in \u001b[35mmain\u001b[0m\n",
      "    raise ValueError(\n",
      "        f'Cannot register {name} for automatic cleanup: '\n",
      "        f'unknown resource type {rtype}')\n",
      "\u001b[1;35mValueError\u001b[0m: \u001b[35mCannot register /dev/shm/joblib_memmapping_folder_2222_1f2cbaaa9b794419acbc4e611470818f_0bf00162dbf04eee9d25391fac680fae for automatic cleanup: unknown resource type folder\u001b[0m\n"
     ]
    },
    {
     "name": "stderr",
     "output_type": "stream",
     "text": [
      "\r",
      "Scraping 3 games on 03/24/25:  79%|███████▊  | 143 of 182 days scraped in 961.5 sec "
     ]
    },
    {
     "name": "stderr",
     "output_type": "stream",
     "text": [
      "Traceback (most recent call last):\n",
      "  File \u001b[35m\"/opt/hostedtoolcache/Python/3.13.7/x64/lib/python3.13/multiprocessing/resource_tracker.py\"\u001b[0m, line \u001b[35m295\u001b[0m, in \u001b[35mmain\u001b[0m\n",
      "    raise ValueError(\n",
      "        f'Cannot register {name} for automatic cleanup: '\n",
      "        f'unknown resource type {rtype}')\n",
      "\u001b[1;35mValueError\u001b[0m: \u001b[35mCannot register /dev/shm/joblib_memmapping_folder_2222_1f6147b6c78841b298641bee64cb5807_b31d043d38f14828ab378e7cf7aee26e for automatic cleanup: unknown resource type folder\u001b[0m\n",
      "Traceback (most recent call last):\n",
      "  File \u001b[35m\"/opt/hostedtoolcache/Python/3.13.7/x64/lib/python3.13/multiprocessing/resource_tracker.py\"\u001b[0m, line \u001b[35m295\u001b[0m, in \u001b[35mmain\u001b[0m\n",
      "    raise ValueError(\n",
      "        f'Cannot register {name} for automatic cleanup: '\n",
      "        f'unknown resource type {rtype}')\n",
      "\u001b[1;35mValueError\u001b[0m: \u001b[35mCannot register /dev/shm/joblib_memmapping_folder_2222_1f2cbaaa9b794419acbc4e611470818f_be48207ed73e417aae245e361b2b5ad7 for automatic cleanup: unknown resource type folder\u001b[0m\n"
     ]
    },
    {
     "name": "stderr",
     "output_type": "stream",
     "text": [
      "\r",
      "Scraping 3 games on 03/24/25:  79%|███████▉  | 144 of 182 days scraped in 961.9 secTraceback (most recent call last):\n",
      "  File \u001b[35m\"/opt/hostedtoolcache/Python/3.13.7/x64/lib/python3.13/multiprocessing/resource_tracker.py\"\u001b[0m, line \u001b[35m295\u001b[0m, in \u001b[35mmain\u001b[0m\n",
      "    raise ValueError(\n",
      "        f'Cannot register {name} for automatic cleanup: '\n",
      "        f'unknown resource type {rtype}')\n",
      "\u001b[1;35mValueError\u001b[0m: \u001b[35mCannot register /dev/shm/joblib_memmapping_folder_2222_1f2cbaaa9b794419acbc4e611470818f_be48207ed73e417aae245e361b2b5ad7 for automatic cleanup: unknown resource type folder\u001b[0m\n"
     ]
    },
    {
     "name": "stderr",
     "output_type": "stream",
     "text": [
      "\r",
      "Scraping 4 games on 03/25/25:  79%|███████▉  | 144 of 182 days scraped in 962.2 sec"
     ]
    },
    {
     "name": "stderr",
     "output_type": "stream",
     "text": [
      "Traceback (most recent call last):\n",
      "  File \u001b[35m\"/opt/hostedtoolcache/Python/3.13.7/x64/lib/python3.13/multiprocessing/resource_tracker.py\"\u001b[0m, line \u001b[35m295\u001b[0m, in \u001b[35mmain\u001b[0m\n",
      "    raise ValueError(\n",
      "        f'Cannot register {name} for automatic cleanup: '\n",
      "        f'unknown resource type {rtype}')\n",
      "\u001b[1;35mValueError\u001b[0m: \u001b[35mCannot register /dev/shm/joblib_memmapping_folder_2222_6e7803bbb7f94f1190e926692db3702c_2e7fe487ecc6426eb25641b31e8e3c48 for automatic cleanup: unknown resource type folder\u001b[0m\n",
      "Traceback (most recent call last):\n",
      "  File \u001b[35m\"/opt/hostedtoolcache/Python/3.13.7/x64/lib/python3.13/multiprocessing/resource_tracker.py\"\u001b[0m, line \u001b[35m295\u001b[0m, in \u001b[35mmain\u001b[0m\n",
      "    raise ValueError(\n",
      "        f'Cannot register {name} for automatic cleanup: '\n",
      "        f'unknown resource type {rtype}')\n",
      "\u001b[1;35mValueError\u001b[0m: \u001b[35mCannot register /dev/shm/joblib_memmapping_folder_2222_1f2cbaaa9b794419acbc4e611470818f_7b96d610950142979308fcc4e0c4a0ac for automatic cleanup: unknown resource type folder\u001b[0m\n"
     ]
    },
    {
     "name": "stderr",
     "output_type": "stream",
     "text": [
      "\r",
      "Scraping 4 games on 03/25/25:  80%|███████▉  | 145 of 182 days scraped in 963.0 sec"
     ]
    },
    {
     "name": "stderr",
     "output_type": "stream",
     "text": [
      "Traceback (most recent call last):\n",
      "  File \u001b[35m\"/opt/hostedtoolcache/Python/3.13.7/x64/lib/python3.13/multiprocessing/resource_tracker.py\"\u001b[0m, line \u001b[35m295\u001b[0m, in \u001b[35mmain\u001b[0m\n",
      "    raise ValueError(\n",
      "        f'Cannot register {name} for automatic cleanup: '\n",
      "        f'unknown resource type {rtype}')\n",
      "\u001b[1;35mValueError\u001b[0m: \u001b[35mCannot register /dev/shm/joblib_memmapping_folder_2222_1f2cbaaa9b794419acbc4e611470818f_7b96d610950142979308fcc4e0c4a0ac for automatic cleanup: unknown resource type folder\u001b[0m\n"
     ]
    },
    {
     "name": "stderr",
     "output_type": "stream",
     "text": [
      "\r",
      "Scraping 3 games on 03/26/25:  80%|███████▉  | 145 of 182 days scraped in 963.4 sec"
     ]
    },
    {
     "name": "stderr",
     "output_type": "stream",
     "text": [
      "Traceback (most recent call last):\n",
      "  File \u001b[35m\"/opt/hostedtoolcache/Python/3.13.7/x64/lib/python3.13/multiprocessing/resource_tracker.py\"\u001b[0m, line \u001b[35m295\u001b[0m, in \u001b[35mmain\u001b[0m\n",
      "    raise ValueError(\n",
      "        f'Cannot register {name} for automatic cleanup: '\n",
      "        f'unknown resource type {rtype}')\n",
      "\u001b[1;35mValueError\u001b[0m: \u001b[35mCannot register /dev/shm/joblib_memmapping_folder_2222_6a689a48454344d584e78c7f99f8d67b_c4f022e4e5da4fb9904ff2c2a05c156b for automatic cleanup: unknown resource type folder\u001b[0m\n",
      "Traceback (most recent call last):\n",
      "  File \u001b[35m\"/opt/hostedtoolcache/Python/3.13.7/x64/lib/python3.13/multiprocessing/resource_tracker.py\"\u001b[0m, line \u001b[35m295\u001b[0m, in \u001b[35mmain\u001b[0m\n",
      "    raise ValueError(\n",
      "        f'Cannot register {name} for automatic cleanup: '\n",
      "        f'unknown resource type {rtype}')\n",
      "\u001b[1;35mValueError\u001b[0m: \u001b[35mCannot register /dev/shm/joblib_memmapping_folder_2222_1f2cbaaa9b794419acbc4e611470818f_561e8f7d24d44a9089f1806f6deda4f8 for automatic cleanup: unknown resource type folder\u001b[0m\n"
     ]
    },
    {
     "name": "stderr",
     "output_type": "stream",
     "text": [
      "\r",
      "Scraping 3 games on 03/26/25:  80%|████████  | 146 of 182 days scraped in 964.1 sec"
     ]
    },
    {
     "name": "stderr",
     "output_type": "stream",
     "text": [
      "Traceback (most recent call last):\n",
      "  File \u001b[35m\"/opt/hostedtoolcache/Python/3.13.7/x64/lib/python3.13/multiprocessing/resource_tracker.py\"\u001b[0m, line \u001b[35m295\u001b[0m, in \u001b[35mmain\u001b[0m\n",
      "    raise ValueError(\n",
      "        f'Cannot register {name} for automatic cleanup: '\n",
      "        f'unknown resource type {rtype}')\n",
      "\u001b[1;35mValueError\u001b[0m: \u001b[35mCannot register /dev/shm/joblib_memmapping_folder_2222_1f2cbaaa9b794419acbc4e611470818f_561e8f7d24d44a9089f1806f6deda4f8 for automatic cleanup: unknown resource type folder\u001b[0m\n"
     ]
    },
    {
     "name": "stderr",
     "output_type": "stream",
     "text": [
      "\r",
      "Scraping 4 games on 03/27/25:  80%|████████  | 146 of 182 days scraped in 964.4 sec"
     ]
    },
    {
     "name": "stderr",
     "output_type": "stream",
     "text": [
      "Traceback (most recent call last):\n",
      "  File \u001b[35m\"/opt/hostedtoolcache/Python/3.13.7/x64/lib/python3.13/multiprocessing/resource_tracker.py\"\u001b[0m, line \u001b[35m295\u001b[0m, in \u001b[35mmain\u001b[0m\n",
      "    raise ValueError(\n",
      "        f'Cannot register {name} for automatic cleanup: '\n",
      "        f'unknown resource type {rtype}')\n",
      "\u001b[1;35mValueError\u001b[0m: \u001b[35mCannot register /dev/shm/joblib_memmapping_folder_2222_f6e3aa86d04a4b4d8706523a38f066ed_245ebb6c252f461ca0a05b6f87075c2d for automatic cleanup: unknown resource type folder\u001b[0m\n",
      "Traceback (most recent call last):\n",
      "  File \u001b[35m\"/opt/hostedtoolcache/Python/3.13.7/x64/lib/python3.13/multiprocessing/resource_tracker.py\"\u001b[0m, line \u001b[35m295\u001b[0m, in \u001b[35mmain\u001b[0m\n",
      "    raise ValueError(\n",
      "        f'Cannot register {name} for automatic cleanup: '\n",
      "        f'unknown resource type {rtype}')\n",
      "\u001b[1;35mValueError\u001b[0m: \u001b[35mCannot register /dev/shm/joblib_memmapping_folder_2222_1f2cbaaa9b794419acbc4e611470818f_fee2e1e51205456ea53e94547f3133f8 for automatic cleanup: unknown resource type folder\u001b[0m\n"
     ]
    },
    {
     "name": "stderr",
     "output_type": "stream",
     "text": [
      "\r",
      "Scraping 4 games on 03/27/25:  81%|████████  | 147 of 182 days scraped in 965.1 secTraceback (most recent call last):\n"
     ]
    },
    {
     "name": "stderr",
     "output_type": "stream",
     "text": [
      "  File \u001b[35m\"/opt/hostedtoolcache/Python/3.13.7/x64/lib/python3.13/multiprocessing/resource_tracker.py\"\u001b[0m, line \u001b[35m295\u001b[0m, in \u001b[35mmain\u001b[0m\n",
      "    raise ValueError(\n",
      "        f'Cannot register {name} for automatic cleanup: '\n",
      "        f'unknown resource type {rtype}')\n",
      "\u001b[1;35mValueError\u001b[0m: \u001b[35mCannot register /dev/shm/joblib_memmapping_folder_2222_1f2cbaaa9b794419acbc4e611470818f_fee2e1e51205456ea53e94547f3133f8 for automatic cleanup: unknown resource type folder\u001b[0m\n"
     ]
    },
    {
     "name": "stderr",
     "output_type": "stream",
     "text": [
      "\r",
      "Scraping 4 games on 03/28/25:  81%|████████  | 147 of 182 days scraped in 965.7 sec"
     ]
    },
    {
     "name": "stderr",
     "output_type": "stream",
     "text": [
      "Traceback (most recent call last):\n",
      "  File \u001b[35m\"/opt/hostedtoolcache/Python/3.13.7/x64/lib/python3.13/multiprocessing/resource_tracker.py\"\u001b[0m, line \u001b[35m295\u001b[0m, in \u001b[35mmain\u001b[0m\n",
      "    raise ValueError(\n",
      "        f'Cannot register {name} for automatic cleanup: '\n",
      "        f'unknown resource type {rtype}')\n",
      "\u001b[1;35mValueError\u001b[0m: \u001b[35mCannot register /dev/shm/joblib_memmapping_folder_2222_a43d8804fc124c368508b21ecc1694e1_216cd3519dd9426788e11fbd18bf3dc4 for automatic cleanup: unknown resource type folder\u001b[0m\n",
      "Traceback (most recent call last):\n",
      "  File \u001b[35m\"/opt/hostedtoolcache/Python/3.13.7/x64/lib/python3.13/multiprocessing/resource_tracker.py\"\u001b[0m, line \u001b[35m295\u001b[0m, in \u001b[35mmain\u001b[0m\n",
      "    raise ValueError(\n",
      "        f'Cannot register {name} for automatic cleanup: '\n",
      "        f'unknown resource type {rtype}')\n",
      "\u001b[1;35mValueError\u001b[0m: \u001b[35mCannot register /dev/shm/joblib_memmapping_folder_2222_1f2cbaaa9b794419acbc4e611470818f_c2cc3f75b14a41c093f2189abdc70fa3 for automatic cleanup: unknown resource type folder\u001b[0m\n"
     ]
    },
    {
     "name": "stderr",
     "output_type": "stream",
     "text": [
      "\r",
      "Scraping 4 games on 03/28/25:  81%|████████▏ | 148 of 182 days scraped in 966.4 secTraceback (most recent call last):\n"
     ]
    },
    {
     "name": "stderr",
     "output_type": "stream",
     "text": [
      "  File \u001b[35m\"/opt/hostedtoolcache/Python/3.13.7/x64/lib/python3.13/multiprocessing/resource_tracker.py\"\u001b[0m, line \u001b[35m295\u001b[0m, in \u001b[35mmain\u001b[0m\n",
      "    raise ValueError(\n",
      "        f'Cannot register {name} for automatic cleanup: '\n",
      "        f'unknown resource type {rtype}')\n",
      "\u001b[1;35mValueError\u001b[0m: \u001b[35mCannot register /dev/shm/joblib_memmapping_folder_2222_1f2cbaaa9b794419acbc4e611470818f_c2cc3f75b14a41c093f2189abdc70fa3 for automatic cleanup: unknown resource type folder\u001b[0m\n"
     ]
    },
    {
     "name": "stderr",
     "output_type": "stream",
     "text": [
      "\r",
      "Scraping 2 games on 03/29/25:  81%|████████▏ | 148 of 182 days scraped in 967.0 sec"
     ]
    },
    {
     "name": "stderr",
     "output_type": "stream",
     "text": [
      "Traceback (most recent call last):\n",
      "  File \u001b[35m\"/opt/hostedtoolcache/Python/3.13.7/x64/lib/python3.13/multiprocessing/resource_tracker.py\"\u001b[0m, line \u001b[35m295\u001b[0m, in \u001b[35mmain\u001b[0m\n",
      "    raise ValueError(\n",
      "        f'Cannot register {name} for automatic cleanup: '\n",
      "        f'unknown resource type {rtype}')\n",
      "\u001b[1;35mValueError\u001b[0m: \u001b[35mCannot register /dev/shm/joblib_memmapping_folder_2222_a43f032337494ba98406443395b7b000_65e9714e26aa4fe695f72cdf5939697d for automatic cleanup: unknown resource type folder\u001b[0m\n",
      "Traceback (most recent call last):\n",
      "  File \u001b[35m\"/opt/hostedtoolcache/Python/3.13.7/x64/lib/python3.13/multiprocessing/resource_tracker.py\"\u001b[0m, line \u001b[35m295\u001b[0m, in \u001b[35mmain\u001b[0m\n",
      "    raise ValueError(\n",
      "        f'Cannot register {name} for automatic cleanup: '\n",
      "        f'unknown resource type {rtype}')\n",
      "\u001b[1;35mValueError\u001b[0m: \u001b[35mCannot register /dev/shm/joblib_memmapping_folder_2222_1f2cbaaa9b794419acbc4e611470818f_c5be6bf1cae5469c8bf7a40a3ba6e2bc for automatic cleanup: unknown resource type folder\u001b[0m\n"
     ]
    },
    {
     "name": "stderr",
     "output_type": "stream",
     "text": [
      "\r",
      "Scraping 2 games on 03/29/25:  82%|████████▏ | 149 of 182 days scraped in 967.4 sec"
     ]
    },
    {
     "name": "stderr",
     "output_type": "stream",
     "text": [
      "Traceback (most recent call last):\n",
      "  File \u001b[35m\"/opt/hostedtoolcache/Python/3.13.7/x64/lib/python3.13/multiprocessing/resource_tracker.py\"\u001b[0m, line \u001b[35m295\u001b[0m, in \u001b[35mmain\u001b[0m\n",
      "    raise ValueError(\n",
      "        f'Cannot register {name} for automatic cleanup: '\n",
      "        f'unknown resource type {rtype}')\n",
      "\u001b[1;35mValueError\u001b[0m: \u001b[35mCannot register /dev/shm/joblib_memmapping_folder_2222_1f2cbaaa9b794419acbc4e611470818f_c5be6bf1cae5469c8bf7a40a3ba6e2bc for automatic cleanup: unknown resource type folder\u001b[0m\n"
     ]
    },
    {
     "name": "stderr",
     "output_type": "stream",
     "text": [
      "\r",
      "Scraping 2 games on 03/30/25:  82%|████████▏ | 149 of 182 days scraped in 968.0 sec"
     ]
    },
    {
     "name": "stderr",
     "output_type": "stream",
     "text": [
      "Traceback (most recent call last):\n",
      "  File \u001b[35m\"/opt/hostedtoolcache/Python/3.13.7/x64/lib/python3.13/multiprocessing/resource_tracker.py\"\u001b[0m, line \u001b[35m295\u001b[0m, in \u001b[35mmain\u001b[0m\n",
      "    raise ValueError(\n",
      "        f'Cannot register {name} for automatic cleanup: '\n",
      "        f'unknown resource type {rtype}')\n",
      "\u001b[1;35mValueError\u001b[0m: \u001b[35mCannot register /dev/shm/joblib_memmapping_folder_2222_557222bc0a5b418c95f6070eab540f57_157b4db09cdf49c8a4ae37c023115c29 for automatic cleanup: unknown resource type folder\u001b[0m\n",
      "Traceback (most recent call last):\n",
      "  File \u001b[35m\"/opt/hostedtoolcache/Python/3.13.7/x64/lib/python3.13/multiprocessing/resource_tracker.py\"\u001b[0m, line \u001b[35m295\u001b[0m, in \u001b[35mmain\u001b[0m\n",
      "    raise ValueError(\n",
      "        f'Cannot register {name} for automatic cleanup: '\n",
      "        f'unknown resource type {rtype}')\n",
      "\u001b[1;35mValueError\u001b[0m: \u001b[35mCannot register /dev/shm/joblib_memmapping_folder_2222_1f2cbaaa9b794419acbc4e611470818f_e660bef3431941cdb2288dbb75532dad for automatic cleanup: unknown resource type folder\u001b[0m\n"
     ]
    },
    {
     "name": "stderr",
     "output_type": "stream",
     "text": [
      "\r",
      "Scraping 2 games on 03/30/25:  82%|████████▏ | 150 of 182 days scraped in 968.8 secTraceback (most recent call last):\n"
     ]
    },
    {
     "name": "stderr",
     "output_type": "stream",
     "text": [
      "  File \u001b[35m\"/opt/hostedtoolcache/Python/3.13.7/x64/lib/python3.13/multiprocessing/resource_tracker.py\"\u001b[0m, line \u001b[35m295\u001b[0m, in \u001b[35mmain\u001b[0m\n",
      "    raise ValueError(\n",
      "        f'Cannot register {name} for automatic cleanup: '\n",
      "        f'unknown resource type {rtype}')\n",
      "\u001b[1;35mValueError\u001b[0m: \u001b[35mCannot register /dev/shm/joblib_memmapping_folder_2222_1f2cbaaa9b794419acbc4e611470818f_e660bef3431941cdb2288dbb75532dad for automatic cleanup: unknown resource type folder\u001b[0m\n"
     ]
    },
    {
     "name": "stderr",
     "output_type": "stream",
     "text": [
      "\r",
      "Scraping 4 games on 03/31/25:  82%|████████▏ | 150 of 182 days scraped in 969.5 sec"
     ]
    },
    {
     "name": "stderr",
     "output_type": "stream",
     "text": [
      "Traceback (most recent call last):\n",
      "  File \u001b[35m\"/opt/hostedtoolcache/Python/3.13.7/x64/lib/python3.13/multiprocessing/resource_tracker.py\"\u001b[0m, line \u001b[35m295\u001b[0m, in \u001b[35mmain\u001b[0m\n",
      "    raise ValueError(\n",
      "        f'Cannot register {name} for automatic cleanup: '\n",
      "        f'unknown resource type {rtype}')\n",
      "\u001b[1;35mValueError\u001b[0m: \u001b[35mCannot register /dev/shm/joblib_memmapping_folder_2222_57f394e2776b40e3a8cf25020be1a06c_2d8b14597d1a409caedf63664cf54747 for automatic cleanup: unknown resource type folder\u001b[0m\n",
      "Traceback (most recent call last):\n",
      "  File \u001b[35m\"/opt/hostedtoolcache/Python/3.13.7/x64/lib/python3.13/multiprocessing/resource_tracker.py\"\u001b[0m, line \u001b[35m295\u001b[0m, in \u001b[35mmain\u001b[0m\n",
      "    raise ValueError(\n",
      "        f'Cannot register {name} for automatic cleanup: '\n",
      "        f'unknown resource type {rtype}')\n",
      "\u001b[1;35mValueError\u001b[0m: \u001b[35mCannot register /dev/shm/joblib_memmapping_folder_2222_1f2cbaaa9b794419acbc4e611470818f_2b7ea185e5524dafa5a319813344f50e for automatic cleanup: unknown resource type folder\u001b[0m\n"
     ]
    },
    {
     "name": "stderr",
     "output_type": "stream",
     "text": [
      "\r",
      "Scraping 4 games on 03/31/25:  83%|████████▎ | 151 of 182 days scraped in 970.2 secTraceback (most recent call last):\n"
     ]
    },
    {
     "name": "stderr",
     "output_type": "stream",
     "text": [
      "  File \u001b[35m\"/opt/hostedtoolcache/Python/3.13.7/x64/lib/python3.13/multiprocessing/resource_tracker.py\"\u001b[0m, line \u001b[35m295\u001b[0m, in \u001b[35mmain\u001b[0m\n",
      "    raise ValueError(\n",
      "        f'Cannot register {name} for automatic cleanup: '\n",
      "        f'unknown resource type {rtype}')\n",
      "\u001b[1;35mValueError\u001b[0m: \u001b[35mCannot register /dev/shm/joblib_memmapping_folder_2222_1f2cbaaa9b794419acbc4e611470818f_2b7ea185e5524dafa5a319813344f50e for automatic cleanup: unknown resource type folder\u001b[0m\n"
     ]
    },
    {
     "name": "stderr",
     "output_type": "stream",
     "text": [
      "\r",
      "Scraping 6 games on 04/01/25:  83%|████████▎ | 151 of 182 days scraped in 970.5 sec"
     ]
    },
    {
     "name": "stderr",
     "output_type": "stream",
     "text": [
      "Traceback (most recent call last):\n",
      "  File \u001b[35m\"/opt/hostedtoolcache/Python/3.13.7/x64/lib/python3.13/multiprocessing/resource_tracker.py\"\u001b[0m, line \u001b[35m295\u001b[0m, in \u001b[35mmain\u001b[0m\n",
      "    raise ValueError(\n",
      "        f'Cannot register {name} for automatic cleanup: '\n",
      "        f'unknown resource type {rtype}')\n",
      "\u001b[1;35mValueError\u001b[0m: \u001b[35mCannot register /dev/shm/joblib_memmapping_folder_2222_27845f3c53a44713a9e0178fa7f4ca26_e7b2fdd1d0094d01b1e5015d531f4f01 for automatic cleanup: unknown resource type folder\u001b[0m\n",
      "Traceback (most recent call last):\n",
      "  File \u001b[35m\"/opt/hostedtoolcache/Python/3.13.7/x64/lib/python3.13/multiprocessing/resource_tracker.py\"\u001b[0m, line \u001b[35m295\u001b[0m, in \u001b[35mmain\u001b[0m\n",
      "    raise ValueError(\n",
      "        f'Cannot register {name} for automatic cleanup: '\n",
      "        f'unknown resource type {rtype}')\n",
      "\u001b[1;35mValueError\u001b[0m: \u001b[35mCannot register /dev/shm/joblib_memmapping_folder_2222_1f2cbaaa9b794419acbc4e611470818f_2ed4c1ad08fe441bbb46c2ef69cd1482 for automatic cleanup: unknown resource type folder\u001b[0m\n"
     ]
    },
    {
     "name": "stderr",
     "output_type": "stream",
     "text": [
      "\r",
      "Scraping 6 games on 04/01/25:  84%|████████▎ | 152 of 182 days scraped in 971.5 sec"
     ]
    },
    {
     "name": "stderr",
     "output_type": "stream",
     "text": [
      "Traceback (most recent call last):\n",
      "  File \u001b[35m\"/opt/hostedtoolcache/Python/3.13.7/x64/lib/python3.13/multiprocessing/resource_tracker.py\"\u001b[0m, line \u001b[35m295\u001b[0m, in \u001b[35mmain\u001b[0m\n",
      "    raise ValueError(\n",
      "        f'Cannot register {name} for automatic cleanup: '\n",
      "        f'unknown resource type {rtype}')\n",
      "\u001b[1;35mValueError\u001b[0m: \u001b[35mCannot register /dev/shm/joblib_memmapping_folder_2222_1f2cbaaa9b794419acbc4e611470818f_2ed4c1ad08fe441bbb46c2ef69cd1482 for automatic cleanup: unknown resource type folder\u001b[0m\n"
     ]
    },
    {
     "name": "stderr",
     "output_type": "stream",
     "text": [
      "\r",
      "Scraping 2 games on 04/02/25:  84%|████████▎ | 152 of 182 days scraped in 971.8 sec"
     ]
    },
    {
     "name": "stderr",
     "output_type": "stream",
     "text": [
      "Traceback (most recent call last):\n",
      "  File \u001b[35m\"/opt/hostedtoolcache/Python/3.13.7/x64/lib/python3.13/multiprocessing/resource_tracker.py\"\u001b[0m, line \u001b[35m295\u001b[0m, in \u001b[35mmain\u001b[0m\n",
      "    raise ValueError(\n",
      "        f'Cannot register {name} for automatic cleanup: '\n",
      "        f'unknown resource type {rtype}')\n",
      "\u001b[1;35mValueError\u001b[0m: \u001b[35mCannot register /dev/shm/joblib_memmapping_folder_2222_9c4df4e7b3b54259a4436f22e3a2bea5_7df4784d2ef14c0eaa1bb883c2cfcdbb for automatic cleanup: unknown resource type folder\u001b[0m\n",
      "Traceback (most recent call last):\n",
      "  File \u001b[35m\"/opt/hostedtoolcache/Python/3.13.7/x64/lib/python3.13/multiprocessing/resource_tracker.py\"\u001b[0m, line \u001b[35m295\u001b[0m, in \u001b[35mmain\u001b[0m\n",
      "    raise ValueError(\n",
      "        f'Cannot register {name} for automatic cleanup: '\n",
      "        f'unknown resource type {rtype}')\n",
      "\u001b[1;35mValueError\u001b[0m: \u001b[35mCannot register /dev/shm/joblib_memmapping_folder_2222_1f2cbaaa9b794419acbc4e611470818f_fd341847ea9047a1836ceefba6032e1c for automatic cleanup: unknown resource type folder\u001b[0m\n"
     ]
    },
    {
     "name": "stderr",
     "output_type": "stream",
     "text": [
      "\r",
      "Scraping 2 games on 04/02/25:  84%|████████▍ | 153 of 182 days scraped in 972.1 secTraceback (most recent call last):\n"
     ]
    },
    {
     "name": "stderr",
     "output_type": "stream",
     "text": [
      "  File \u001b[35m\"/opt/hostedtoolcache/Python/3.13.7/x64/lib/python3.13/multiprocessing/resource_tracker.py\"\u001b[0m, line \u001b[35m295\u001b[0m, in \u001b[35mmain\u001b[0m\n",
      "    raise ValueError(\n",
      "        f'Cannot register {name} for automatic cleanup: '\n",
      "        f'unknown resource type {rtype}')\n",
      "\u001b[1;35mValueError\u001b[0m: \u001b[35mCannot register /dev/shm/joblib_memmapping_folder_2222_1f2cbaaa9b794419acbc4e611470818f_fd341847ea9047a1836ceefba6032e1c for automatic cleanup: unknown resource type folder\u001b[0m\n"
     ]
    },
    {
     "name": "stderr",
     "output_type": "stream",
     "text": [
      "\r",
      "Scraping 3 games on 04/03/25:  84%|████████▍ | 153 of 182 days scraped in 972.5 sec"
     ]
    },
    {
     "name": "stderr",
     "output_type": "stream",
     "text": [
      "Traceback (most recent call last):\n",
      "  File \u001b[35m\"/opt/hostedtoolcache/Python/3.13.7/x64/lib/python3.13/multiprocessing/resource_tracker.py\"\u001b[0m, line \u001b[35m295\u001b[0m, in \u001b[35mmain\u001b[0m\n",
      "    raise ValueError(\n",
      "        f'Cannot register {name} for automatic cleanup: '\n",
      "        f'unknown resource type {rtype}')\n",
      "\u001b[1;35mValueError\u001b[0m: \u001b[35mCannot register /dev/shm/joblib_memmapping_folder_2222_50f1cab4c7da44099f45a1669b468d02_6b283b9ea05944a8bbd47d54a2a6e9dc for automatic cleanup: unknown resource type folder\u001b[0m\n",
      "Traceback (most recent call last):\n",
      "  File \u001b[35m\"/opt/hostedtoolcache/Python/3.13.7/x64/lib/python3.13/multiprocessing/resource_tracker.py\"\u001b[0m, line \u001b[35m295\u001b[0m, in \u001b[35mmain\u001b[0m\n",
      "    raise ValueError(\n",
      "        f'Cannot register {name} for automatic cleanup: '\n",
      "        f'unknown resource type {rtype}')\n",
      "\u001b[1;35mValueError\u001b[0m: \u001b[35mCannot register /dev/shm/joblib_memmapping_folder_2222_1f2cbaaa9b794419acbc4e611470818f_5188a609f29a4929adb7d04c06a7584c for automatic cleanup: unknown resource type folder\u001b[0m\n"
     ]
    },
    {
     "name": "stderr",
     "output_type": "stream",
     "text": [
      "\r",
      "Scraping 3 games on 04/03/25:  85%|████████▍ | 154 of 182 days scraped in 972.9 secTraceback (most recent call last):\n"
     ]
    },
    {
     "name": "stderr",
     "output_type": "stream",
     "text": [
      "  File \u001b[35m\"/opt/hostedtoolcache/Python/3.13.7/x64/lib/python3.13/multiprocessing/resource_tracker.py\"\u001b[0m, line \u001b[35m295\u001b[0m, in \u001b[35mmain\u001b[0m\n",
      "    raise ValueError(\n",
      "        f'Cannot register {name} for automatic cleanup: '\n",
      "        f'unknown resource type {rtype}')\n",
      "\u001b[1;35mValueError\u001b[0m: \u001b[35mCannot register /dev/shm/joblib_memmapping_folder_2222_1f2cbaaa9b794419acbc4e611470818f_5188a609f29a4929adb7d04c06a7584c for automatic cleanup: unknown resource type folder\u001b[0m\n"
     ]
    },
    {
     "name": "stderr",
     "output_type": "stream",
     "text": [
      "\r",
      "Scraping 0 games on 04/04/25:  85%|████████▍ | 154 of 182 days scraped in 973.5 sec"
     ]
    },
    {
     "name": "stderr",
     "output_type": "stream",
     "text": [
      "\r",
      "No games on 04/04/25:  85%|████████▌ | 155 of 182 days scraped in 973.5 sec        "
     ]
    },
    {
     "name": "stderr",
     "output_type": "stream",
     "text": [
      "\r",
      "Scraping 4 games on 04/05/25:  85%|████████▌ | 155 of 182 days scraped in 973.8 sec"
     ]
    },
    {
     "name": "stderr",
     "output_type": "stream",
     "text": [
      "Traceback (most recent call last):\n",
      "  File \u001b[35m\"/opt/hostedtoolcache/Python/3.13.7/x64/lib/python3.13/multiprocessing/resource_tracker.py\"\u001b[0m, line \u001b[35m295\u001b[0m, in \u001b[35mmain\u001b[0m\n",
      "    raise ValueError(\n",
      "        f'Cannot register {name} for automatic cleanup: '\n",
      "        f'unknown resource type {rtype}')\n",
      "\u001b[1;35mValueError\u001b[0m: \u001b[35mCannot register /dev/shm/joblib_memmapping_folder_2222_e5c4cf137c1b425f9ea4dadae854245e_8b61f9b41aa945deb85d629cfbe5a350 for automatic cleanup: unknown resource type folder\u001b[0m\n",
      "Traceback (most recent call last):\n",
      "  File \u001b[35m\"/opt/hostedtoolcache/Python/3.13.7/x64/lib/python3.13/multiprocessing/resource_tracker.py\"\u001b[0m, line \u001b[35m295\u001b[0m, in \u001b[35mmain\u001b[0m\n",
      "    raise ValueError(\n",
      "        f'Cannot register {name} for automatic cleanup: '\n",
      "        f'unknown resource type {rtype}')\n",
      "\u001b[1;35mValueError\u001b[0m: \u001b[35mCannot register /dev/shm/joblib_memmapping_folder_2222_1f2cbaaa9b794419acbc4e611470818f_198b5ced90fd4b20bd3c2296d9142ab6 for automatic cleanup: unknown resource type folder\u001b[0m\n"
     ]
    },
    {
     "name": "stderr",
     "output_type": "stream",
     "text": [
      "\r",
      "Scraping 4 games on 04/05/25:  86%|████████▌ | 156 of 182 days scraped in 974.6 sec"
     ]
    },
    {
     "name": "stderr",
     "output_type": "stream",
     "text": [
      "Traceback (most recent call last):\n",
      "  File \u001b[35m\"/opt/hostedtoolcache/Python/3.13.7/x64/lib/python3.13/multiprocessing/resource_tracker.py\"\u001b[0m, line \u001b[35m295\u001b[0m, in \u001b[35mmain\u001b[0m\n",
      "    raise ValueError(\n",
      "        f'Cannot register {name} for automatic cleanup: '\n",
      "        f'unknown resource type {rtype}')\n",
      "\u001b[1;35mValueError\u001b[0m: \u001b[35mCannot register /dev/shm/joblib_memmapping_folder_2222_1f2cbaaa9b794419acbc4e611470818f_198b5ced90fd4b20bd3c2296d9142ab6 for automatic cleanup: unknown resource type folder\u001b[0m\n"
     ]
    },
    {
     "name": "stderr",
     "output_type": "stream",
     "text": [
      "\r",
      "Scraping 1 games on 04/06/25:  86%|████████▌ | 156 of 182 days scraped in 974.9 sec"
     ]
    },
    {
     "name": "stderr",
     "output_type": "stream",
     "text": [
      "Traceback (most recent call last):\n",
      "  File \u001b[35m\"/opt/hostedtoolcache/Python/3.13.7/x64/lib/python3.13/multiprocessing/resource_tracker.py\"\u001b[0m, line \u001b[35m295\u001b[0m, in \u001b[35mmain\u001b[0m\n",
      "    raise ValueError(\n",
      "        f'Cannot register {name} for automatic cleanup: '\n",
      "        f'unknown resource type {rtype}')\n",
      "\u001b[1;35mValueError\u001b[0m: \u001b[35mCannot register /dev/shm/joblib_memmapping_folder_2222_2525e2c1b8c941228cf5d0563bd99214_e45a748a915c4c39a454c91c1de21ae7 for automatic cleanup: unknown resource type folder\u001b[0m\n",
      "Traceback (most recent call last):\n",
      "  File \u001b[35m\"/opt/hostedtoolcache/Python/3.13.7/x64/lib/python3.13/multiprocessing/resource_tracker.py\"\u001b[0m, line \u001b[35m295\u001b[0m, in \u001b[35mmain\u001b[0m\n",
      "    raise ValueError(\n",
      "        f'Cannot register {name} for automatic cleanup: '\n",
      "        f'unknown resource type {rtype}')\n",
      "\u001b[1;35mValueError\u001b[0m: \u001b[35mCannot register /dev/shm/joblib_memmapping_folder_2222_1f2cbaaa9b794419acbc4e611470818f_88079b50e9f24c63bdaa7460072d2630 for automatic cleanup: unknown resource type folder\u001b[0m\n"
     ]
    },
    {
     "name": "stderr",
     "output_type": "stream",
     "text": [
      "\r",
      "Scraping 1 games on 04/06/25:  86%|████████▋ | 157 of 182 days scraped in 975.2 sec"
     ]
    },
    {
     "name": "stderr",
     "output_type": "stream",
     "text": [
      "Traceback (most recent call last):\n",
      "  File \u001b[35m\"/opt/hostedtoolcache/Python/3.13.7/x64/lib/python3.13/multiprocessing/resource_tracker.py\"\u001b[0m, line \u001b[35m295\u001b[0m, in \u001b[35mmain\u001b[0m\n",
      "    raise ValueError(\n",
      "        f'Cannot register {name} for automatic cleanup: '\n",
      "        f'unknown resource type {rtype}')\n",
      "\u001b[1;35mValueError\u001b[0m: \u001b[35mCannot register /dev/shm/joblib_memmapping_folder_2222_1f2cbaaa9b794419acbc4e611470818f_88079b50e9f24c63bdaa7460072d2630 for automatic cleanup: unknown resource type folder\u001b[0m\n"
     ]
    },
    {
     "name": "stderr",
     "output_type": "stream",
     "text": [
      "\r",
      "Scraping 1 games on 04/07/25:  86%|████████▋ | 157 of 182 days scraped in 975.7 sec"
     ]
    },
    {
     "name": "stderr",
     "output_type": "stream",
     "text": [
      "Traceback (most recent call last):\n",
      "  File \u001b[35m\"/opt/hostedtoolcache/Python/3.13.7/x64/lib/python3.13/multiprocessing/resource_tracker.py\"\u001b[0m, line \u001b[35m295\u001b[0m, in \u001b[35mmain\u001b[0m\n",
      "    raise ValueError(\n",
      "        f'Cannot register {name} for automatic cleanup: '\n",
      "        f'unknown resource type {rtype}')\n",
      "\u001b[1;35mValueError\u001b[0m: \u001b[35mCannot register /dev/shm/joblib_memmapping_folder_2222_71fb897fe9b844028fabcbe2bc5f730c_8ba3dae279ce408a97ffc052e1a8e592 for automatic cleanup: unknown resource type folder\u001b[0m\n",
      "Traceback (most recent call last):\n",
      "  File \u001b[35m\"/opt/hostedtoolcache/Python/3.13.7/x64/lib/python3.13/multiprocessing/resource_tracker.py\"\u001b[0m, line \u001b[35m295\u001b[0m, in \u001b[35mmain\u001b[0m\n",
      "    raise ValueError(\n",
      "        f'Cannot register {name} for automatic cleanup: '\n",
      "        f'unknown resource type {rtype}')\n",
      "\u001b[1;35mValueError\u001b[0m: \u001b[35mCannot register /dev/shm/joblib_memmapping_folder_2222_1f2cbaaa9b794419acbc4e611470818f_690027b47e6c40f7a108cd3635062bad for automatic cleanup: unknown resource type folder\u001b[0m\n"
     ]
    },
    {
     "name": "stderr",
     "output_type": "stream",
     "text": [
      "\r",
      "Scraping 1 games on 04/07/25:  87%|████████▋ | 158 of 182 days scraped in 976.0 sec"
     ]
    },
    {
     "name": "stderr",
     "output_type": "stream",
     "text": [
      "Traceback (most recent call last):\n",
      "  File \u001b[35m\"/opt/hostedtoolcache/Python/3.13.7/x64/lib/python3.13/multiprocessing/resource_tracker.py\"\u001b[0m, line \u001b[35m295\u001b[0m, in \u001b[35mmain\u001b[0m\n",
      "    raise ValueError(\n",
      "        f'Cannot register {name} for automatic cleanup: '\n",
      "        f'unknown resource type {rtype}')\n",
      "\u001b[1;35mValueError\u001b[0m: \u001b[35mCannot register /dev/shm/joblib_memmapping_folder_2222_1f2cbaaa9b794419acbc4e611470818f_690027b47e6c40f7a108cd3635062bad for automatic cleanup: unknown resource type folder\u001b[0m\n"
     ]
    },
    {
     "name": "stderr",
     "output_type": "stream",
     "text": [
      "\r",
      "Scraping 0 games on 04/08/25:  87%|████████▋ | 158 of 182 days scraped in 976.3 sec"
     ]
    },
    {
     "name": "stderr",
     "output_type": "stream",
     "text": [
      "\r",
      "No games on 04/08/25:  87%|████████▋ | 159 of 182 days scraped in 976.3 sec        "
     ]
    },
    {
     "name": "stderr",
     "output_type": "stream",
     "text": [
      "\r",
      "Scraping 0 games on 04/09/25:  87%|████████▋ | 159 of 182 days scraped in 976.9 sec"
     ]
    },
    {
     "name": "stderr",
     "output_type": "stream",
     "text": [
      "\r",
      "No games on 04/09/25:  88%|████████▊ | 160 of 182 days scraped in 976.9 sec        "
     ]
    },
    {
     "name": "stderr",
     "output_type": "stream",
     "text": [
      "\r",
      "Scraping 0 games on 04/10/25:  88%|████████▊ | 160 of 182 days scraped in 977.2 sec"
     ]
    },
    {
     "name": "stderr",
     "output_type": "stream",
     "text": [
      "\r",
      "No games on 04/10/25:  88%|████████▊ | 161 of 182 days scraped in 977.2 sec        "
     ]
    },
    {
     "name": "stderr",
     "output_type": "stream",
     "text": [
      "\r",
      "Scraping 0 games on 04/11/25:  88%|████████▊ | 161 of 182 days scraped in 977.5 sec"
     ]
    },
    {
     "name": "stderr",
     "output_type": "stream",
     "text": [
      "\r",
      "No games on 04/11/25:  89%|████████▉ | 162 of 182 days scraped in 977.5 sec        "
     ]
    },
    {
     "name": "stderr",
     "output_type": "stream",
     "text": [
      "\r",
      "Scraping 0 games on 04/12/25:  89%|████████▉ | 162 of 182 days scraped in 977.8 sec"
     ]
    },
    {
     "name": "stderr",
     "output_type": "stream",
     "text": [
      "\r",
      "No games on 04/12/25:  90%|████████▉ | 163 of 182 days scraped in 977.8 sec        "
     ]
    },
    {
     "name": "stderr",
     "output_type": "stream",
     "text": [
      "\r",
      "Scraping 0 games on 04/13/25:  90%|████████▉ | 163 of 182 days scraped in 978.0 sec"
     ]
    },
    {
     "name": "stderr",
     "output_type": "stream",
     "text": [
      "\r",
      "No games on 04/13/25:  90%|█████████ | 164 of 182 days scraped in 978.0 sec        "
     ]
    },
    {
     "name": "stderr",
     "output_type": "stream",
     "text": [
      "\r",
      "Scraping 0 games on 04/14/25:  90%|█████████ | 164 of 182 days scraped in 978.3 sec"
     ]
    },
    {
     "name": "stderr",
     "output_type": "stream",
     "text": [
      "\r",
      "No games on 04/14/25:  91%|█████████ | 165 of 182 days scraped in 978.3 sec        "
     ]
    },
    {
     "name": "stderr",
     "output_type": "stream",
     "text": [
      "\r",
      "Scraping 0 games on 04/15/25:  91%|█████████ | 165 of 182 days scraped in 978.9 sec"
     ]
    },
    {
     "name": "stderr",
     "output_type": "stream",
     "text": [
      "\r",
      "No games on 04/15/25:  91%|█████████ | 166 of 182 days scraped in 978.9 sec        "
     ]
    },
    {
     "name": "stderr",
     "output_type": "stream",
     "text": [
      "\r",
      "Scraping 0 games on 04/16/25:  91%|█████████ | 166 of 182 days scraped in 979.3 sec"
     ]
    },
    {
     "name": "stderr",
     "output_type": "stream",
     "text": [
      "\r",
      "No games on 04/16/25:  92%|█████████▏| 167 of 182 days scraped in 979.3 sec        "
     ]
    },
    {
     "name": "stderr",
     "output_type": "stream",
     "text": [
      "\r",
      "Scraping 0 games on 04/17/25:  92%|█████████▏| 167 of 182 days scraped in 979.6 sec"
     ]
    },
    {
     "name": "stderr",
     "output_type": "stream",
     "text": [
      "\r",
      "No games on 04/17/25:  92%|█████████▏| 168 of 182 days scraped in 979.6 sec        "
     ]
    },
    {
     "name": "stderr",
     "output_type": "stream",
     "text": [
      "\r",
      "Scraping 0 games on 04/18/25:  92%|█████████▏| 168 of 182 days scraped in 980.5 sec"
     ]
    },
    {
     "name": "stderr",
     "output_type": "stream",
     "text": [
      "\r",
      "No games on 04/18/25:  93%|█████████▎| 169 of 182 days scraped in 980.5 sec        "
     ]
    },
    {
     "name": "stderr",
     "output_type": "stream",
     "text": [
      "\r",
      "Scraping 0 games on 04/19/25:  93%|█████████▎| 169 of 182 days scraped in 980.8 sec"
     ]
    },
    {
     "name": "stderr",
     "output_type": "stream",
     "text": [
      "\r",
      "No games on 04/19/25:  93%|█████████▎| 170 of 182 days scraped in 980.8 sec        "
     ]
    },
    {
     "name": "stderr",
     "output_type": "stream",
     "text": [
      "\r",
      "Scraping 0 games on 04/20/25:  93%|█████████▎| 170 of 182 days scraped in 981.1 sec"
     ]
    },
    {
     "name": "stderr",
     "output_type": "stream",
     "text": [
      "\r",
      "No games on 04/20/25:  94%|█████████▍| 171 of 182 days scraped in 981.1 sec        "
     ]
    },
    {
     "name": "stderr",
     "output_type": "stream",
     "text": [
      "\r",
      "Scraping 0 games on 04/21/25:  94%|█████████▍| 171 of 182 days scraped in 981.4 sec"
     ]
    },
    {
     "name": "stderr",
     "output_type": "stream",
     "text": [
      "\r",
      "No games on 04/21/25:  95%|█████████▍| 172 of 182 days scraped in 981.4 sec        "
     ]
    },
    {
     "name": "stderr",
     "output_type": "stream",
     "text": [
      "\r",
      "Scraping 0 games on 04/22/25:  95%|█████████▍| 172 of 182 days scraped in 981.7 sec"
     ]
    },
    {
     "name": "stderr",
     "output_type": "stream",
     "text": [
      "\r",
      "No games on 04/22/25:  95%|█████████▌| 173 of 182 days scraped in 981.7 sec        "
     ]
    },
    {
     "name": "stderr",
     "output_type": "stream",
     "text": [
      "\r",
      "Scraping 0 games on 04/23/25:  95%|█████████▌| 173 of 182 days scraped in 982.0 sec"
     ]
    },
    {
     "name": "stderr",
     "output_type": "stream",
     "text": [
      "\r",
      "No games on 04/23/25:  96%|█████████▌| 174 of 182 days scraped in 982.0 sec        "
     ]
    },
    {
     "name": "stderr",
     "output_type": "stream",
     "text": [
      "\r",
      "Scraping 0 games on 04/24/25:  96%|█████████▌| 174 of 182 days scraped in 982.3 sec"
     ]
    },
    {
     "name": "stderr",
     "output_type": "stream",
     "text": [
      "\r",
      "No games on 04/24/25:  96%|█████████▌| 175 of 182 days scraped in 982.3 sec        "
     ]
    },
    {
     "name": "stderr",
     "output_type": "stream",
     "text": [
      "\r",
      "Scraping 0 games on 04/25/25:  96%|█████████▌| 175 of 182 days scraped in 982.6 sec"
     ]
    },
    {
     "name": "stderr",
     "output_type": "stream",
     "text": [
      "\r",
      "No games on 04/25/25:  97%|█████████▋| 176 of 182 days scraped in 982.6 sec        "
     ]
    },
    {
     "name": "stderr",
     "output_type": "stream",
     "text": [
      "\r",
      "Scraping 0 games on 04/26/25:  97%|█████████▋| 176 of 182 days scraped in 982.9 sec"
     ]
    },
    {
     "name": "stderr",
     "output_type": "stream",
     "text": [
      "\r",
      "No games on 04/26/25:  97%|█████████▋| 177 of 182 days scraped in 982.9 sec        "
     ]
    },
    {
     "name": "stderr",
     "output_type": "stream",
     "text": [
      "\r",
      "Scraping 0 games on 04/27/25:  97%|█████████▋| 177 of 182 days scraped in 983.2 sec"
     ]
    },
    {
     "name": "stderr",
     "output_type": "stream",
     "text": [
      "\r",
      "No games on 04/27/25:  98%|█████████▊| 178 of 182 days scraped in 983.2 sec        "
     ]
    },
    {
     "name": "stderr",
     "output_type": "stream",
     "text": [
      "\r",
      "Scraping 0 games on 04/28/25:  98%|█████████▊| 178 of 182 days scraped in 983.8 sec"
     ]
    },
    {
     "name": "stderr",
     "output_type": "stream",
     "text": [
      "\r",
      "No games on 04/28/25:  98%|█████████▊| 179 of 182 days scraped in 983.8 sec        "
     ]
    },
    {
     "name": "stderr",
     "output_type": "stream",
     "text": [
      "\r",
      "Scraping 0 games on 04/29/25:  98%|█████████▊| 179 of 182 days scraped in 984.1 sec"
     ]
    },
    {
     "name": "stderr",
     "output_type": "stream",
     "text": [
      "\r",
      "No games on 04/29/25:  99%|█████████▉| 180 of 182 days scraped in 984.1 sec        "
     ]
    },
    {
     "name": "stderr",
     "output_type": "stream",
     "text": [
      "\r",
      "Scraping 0 games on 04/30/25:  99%|█████████▉| 180 of 182 days scraped in 984.4 sec"
     ]
    },
    {
     "name": "stderr",
     "output_type": "stream",
     "text": [
      "\r",
      "No games on 04/30/25:  99%|█████████▉| 181 of 182 days scraped in 984.4 sec        "
     ]
    },
    {
     "name": "stderr",
     "output_type": "stream",
     "text": [
      "\r",
      "Scraping 0 games on 05/01/25:  99%|█████████▉| 181 of 182 days scraped in 985.2 sec"
     ]
    },
    {
     "name": "stderr",
     "output_type": "stream",
     "text": [
      "\r",
      "No games on 05/01/25: 100%|██████████| 182 of 182 days scraped in 985.2 sec        "
     ]
    },
    {
     "name": "stderr",
     "output_type": "stream",
     "text": [
      "\r",
      "No games on 05/01/25: 100%|██████████| 182 of 182 days scraped in 985.2 sec"
     ]
    },
    {
     "name": "stderr",
     "output_type": "stream",
     "text": [
      "\n"
     ]
    },
    {
     "name": "stdout",
     "output_type": "stream",
     "text": [
      "Log file is located at /home/runner/.local/state/CBBpy/2.1.2/log/CBBpy.log\n"
     ]
    }
   ],
   "source": [
    "import pandas as pd\n",
    "import cbbpy.mens_scraper as s\n",
    "\n",
    "# Create data frames for each season of game info\n",
    "\n",
    "df_2025 = s.get_games_season(2025, box = False, pbp = False)\n"
   ]
  },
  {
   "cell_type": "code",
   "execution_count": 2,
   "metadata": {
    "execution": {
     "iopub.execute_input": "2025-08-24T12:22:01.400683Z",
     "iopub.status.busy": "2025-08-24T12:22:01.400431Z",
     "iopub.status.idle": "2025-08-24T12:22:01.423413Z",
     "shell.execute_reply": "2025-08-24T12:22:01.422952Z"
    }
   },
   "outputs": [
    {
     "data": {
      "text/html": [
       "<div>\n",
       "<style scoped>\n",
       "    .dataframe tbody tr th:only-of-type {\n",
       "        vertical-align: middle;\n",
       "    }\n",
       "\n",
       "    .dataframe tbody tr th {\n",
       "        vertical-align: top;\n",
       "    }\n",
       "\n",
       "    .dataframe thead th {\n",
       "        text-align: right;\n",
       "    }\n",
       "</style>\n",
       "<table border=\"1\" class=\"dataframe\">\n",
       "  <thead>\n",
       "    <tr style=\"text-align: right;\">\n",
       "      <th></th>\n",
       "      <th>game_id</th>\n",
       "      <th>game_status</th>\n",
       "      <th>home_team</th>\n",
       "      <th>home_id</th>\n",
       "      <th>home_rank</th>\n",
       "      <th>home_record</th>\n",
       "      <th>home_score</th>\n",
       "      <th>away_team</th>\n",
       "      <th>away_id</th>\n",
       "      <th>away_rank</th>\n",
       "      <th>...</th>\n",
       "      <th>game_day</th>\n",
       "      <th>game_time</th>\n",
       "      <th>game_loc</th>\n",
       "      <th>arena</th>\n",
       "      <th>arena_capacity</th>\n",
       "      <th>attendance</th>\n",
       "      <th>tv_network</th>\n",
       "      <th>referee_1</th>\n",
       "      <th>referee_2</th>\n",
       "      <th>referee_3</th>\n",
       "    </tr>\n",
       "  </thead>\n",
       "  <tbody>\n",
       "    <tr>\n",
       "      <th>0</th>\n",
       "      <td>401727499</td>\n",
       "      <td>Final</td>\n",
       "      <td>IU Indianapolis Jaguars</td>\n",
       "      <td>85</td>\n",
       "      <td>NaN</td>\n",
       "      <td>1-0</td>\n",
       "      <td>100</td>\n",
       "      <td>IU Columbus Crimson Pride</td>\n",
       "      <td>nd-iu-columbus-crimson-pride</td>\n",
       "      <td>NaN</td>\n",
       "      <td>...</td>\n",
       "      <td>November 04, 2024</td>\n",
       "      <td>08:00 AM PST</td>\n",
       "      <td>Indianapolis, IN</td>\n",
       "      <td>Corteva Coliseum</td>\n",
       "      <td>NaN</td>\n",
       "      <td>3716.0</td>\n",
       "      <td>ESPN+</td>\n",
       "      <td>Rod Mrakovich</td>\n",
       "      <td>Martin Spencer</td>\n",
       "      <td>Adam Sensibaugh</td>\n",
       "    </tr>\n",
       "    <tr>\n",
       "      <th>1</th>\n",
       "      <td>401715872</td>\n",
       "      <td>Final</td>\n",
       "      <td>Southern Illinois Salukis</td>\n",
       "      <td>79</td>\n",
       "      <td>NaN</td>\n",
       "      <td>0-1</td>\n",
       "      <td>80</td>\n",
       "      <td>Charleston Cougars</td>\n",
       "      <td>232</td>\n",
       "      <td>NaN</td>\n",
       "      <td>...</td>\n",
       "      <td>November 04, 2024</td>\n",
       "      <td>09:00 AM PST</td>\n",
       "      <td>Sioux Falls, SD</td>\n",
       "      <td>Sanford Pentagon</td>\n",
       "      <td>NaN</td>\n",
       "      <td>0.0</td>\n",
       "      <td></td>\n",
       "      <td>Brad Ferrie</td>\n",
       "      <td>Antinio Petty</td>\n",
       "      <td>Ben Wolfe</td>\n",
       "    </tr>\n",
       "    <tr>\n",
       "      <th>2</th>\n",
       "      <td>401725796</td>\n",
       "      <td>Final</td>\n",
       "      <td>UT Arlington Mavericks</td>\n",
       "      <td>250</td>\n",
       "      <td>NaN</td>\n",
       "      <td>1-0</td>\n",
       "      <td>90</td>\n",
       "      <td>UNT Dallas Trailblazers</td>\n",
       "      <td>nd-unt-dallas-trailblazers</td>\n",
       "      <td>NaN</td>\n",
       "      <td>...</td>\n",
       "      <td>November 04, 2024</td>\n",
       "      <td>09:00 AM PST</td>\n",
       "      <td>Arlington, TX</td>\n",
       "      <td>College Park Center</td>\n",
       "      <td>NaN</td>\n",
       "      <td>1001.0</td>\n",
       "      <td>ESPN+</td>\n",
       "      <td>Doug George</td>\n",
       "      <td>Randal Anders</td>\n",
       "      <td>Trenton Chaney</td>\n",
       "    </tr>\n",
       "    <tr>\n",
       "      <th>3</th>\n",
       "      <td>401726400</td>\n",
       "      <td>Final</td>\n",
       "      <td>Middle Tennessee Blue Raiders</td>\n",
       "      <td>2393</td>\n",
       "      <td>NaN</td>\n",
       "      <td>1-0</td>\n",
       "      <td>97</td>\n",
       "      <td>Oglethorpe Stormy Petrels</td>\n",
       "      <td>nd-oglethorpe-stormy-petrels</td>\n",
       "      <td>NaN</td>\n",
       "      <td>...</td>\n",
       "      <td>November 04, 2024</td>\n",
       "      <td>09:00 AM PST</td>\n",
       "      <td>Murfreesboro, TN</td>\n",
       "      <td>Murphy Center</td>\n",
       "      <td>NaN</td>\n",
       "      <td>7501.0</td>\n",
       "      <td>ESPN+</td>\n",
       "      <td>Kevin Mathis</td>\n",
       "      <td>James Curran</td>\n",
       "      <td>Klajdi Mulla</td>\n",
       "    </tr>\n",
       "    <tr>\n",
       "      <th>4</th>\n",
       "      <td>401726395</td>\n",
       "      <td>Final</td>\n",
       "      <td>Jacksonville State Gamecocks</td>\n",
       "      <td>55</td>\n",
       "      <td>NaN</td>\n",
       "      <td>1-0</td>\n",
       "      <td>112</td>\n",
       "      <td>LaGrange Panthers</td>\n",
       "      <td>nd-lagrange-panthers</td>\n",
       "      <td>NaN</td>\n",
       "      <td>...</td>\n",
       "      <td>November 04, 2024</td>\n",
       "      <td>09:30 AM PST</td>\n",
       "      <td>Jacksonville, AL</td>\n",
       "      <td>Pete Mathews Coliseum</td>\n",
       "      <td>NaN</td>\n",
       "      <td>2055.0</td>\n",
       "      <td>ESPN+</td>\n",
       "      <td>Barry Mathis</td>\n",
       "      <td>Nick Meyer</td>\n",
       "      <td>Jeremy Trussell</td>\n",
       "    </tr>\n",
       "    <tr>\n",
       "      <th>...</th>\n",
       "      <td>...</td>\n",
       "      <td>...</td>\n",
       "      <td>...</td>\n",
       "      <td>...</td>\n",
       "      <td>...</td>\n",
       "      <td>...</td>\n",
       "      <td>...</td>\n",
       "      <td>...</td>\n",
       "      <td>...</td>\n",
       "      <td>...</td>\n",
       "      <td>...</td>\n",
       "      <td>...</td>\n",
       "      <td>...</td>\n",
       "      <td>...</td>\n",
       "      <td>...</td>\n",
       "      <td>...</td>\n",
       "      <td>...</td>\n",
       "      <td>...</td>\n",
       "      <td>...</td>\n",
       "      <td>...</td>\n",
       "      <td>...</td>\n",
       "    </tr>\n",
       "    <tr>\n",
       "      <th>6294</th>\n",
       "      <td>401758633</td>\n",
       "      <td>Final</td>\n",
       "      <td>Villanova Wildcats</td>\n",
       "      <td>222</td>\n",
       "      <td>NaN</td>\n",
       "      <td>21-15</td>\n",
       "      <td>98</td>\n",
       "      <td>UCF Knights</td>\n",
       "      <td>2116</td>\n",
       "      <td>NaN</td>\n",
       "      <td>...</td>\n",
       "      <td>April 05, 2025</td>\n",
       "      <td>01:00 PM PDT</td>\n",
       "      <td>Las Vegas, NV</td>\n",
       "      <td>T-Mobile Arena</td>\n",
       "      <td>NaN</td>\n",
       "      <td>2972.0</td>\n",
       "      <td>FOX</td>\n",
       "      <td>D.J. Carstensen</td>\n",
       "      <td>Matt Potter</td>\n",
       "      <td>Brooks Wells</td>\n",
       "    </tr>\n",
       "    <tr>\n",
       "      <th>6295</th>\n",
       "      <td>401746081</td>\n",
       "      <td>Final</td>\n",
       "      <td>Auburn Tigers</td>\n",
       "      <td>2</td>\n",
       "      <td>1.0</td>\n",
       "      <td>32-6</td>\n",
       "      <td>73</td>\n",
       "      <td>Florida Gators</td>\n",
       "      <td>57</td>\n",
       "      <td>1.0</td>\n",
       "      <td>...</td>\n",
       "      <td>April 05, 2025</td>\n",
       "      <td>03:09 PM PDT</td>\n",
       "      <td>San Antonio, TX</td>\n",
       "      <td>Alamodome</td>\n",
       "      <td>NaN</td>\n",
       "      <td>68252.0</td>\n",
       "      <td>CBS</td>\n",
       "      <td>Tony Padilla</td>\n",
       "      <td>Roger Ayers</td>\n",
       "      <td>Courtney Green</td>\n",
       "    </tr>\n",
       "    <tr>\n",
       "      <th>6296</th>\n",
       "      <td>401746080</td>\n",
       "      <td>Final</td>\n",
       "      <td>Duke Blue Devils</td>\n",
       "      <td>150</td>\n",
       "      <td>1.0</td>\n",
       "      <td>35-4</td>\n",
       "      <td>67</td>\n",
       "      <td>Houston Cougars</td>\n",
       "      <td>248</td>\n",
       "      <td>1.0</td>\n",
       "      <td>...</td>\n",
       "      <td>April 05, 2025</td>\n",
       "      <td>06:28 PM PDT</td>\n",
       "      <td>San Antonio, TX</td>\n",
       "      <td>Alamodome</td>\n",
       "      <td>NaN</td>\n",
       "      <td>68252.0</td>\n",
       "      <td>CBS</td>\n",
       "      <td>Doug Shows</td>\n",
       "      <td>James Breeding</td>\n",
       "      <td>Keith Kimble</td>\n",
       "    </tr>\n",
       "    <tr>\n",
       "      <th>6297</th>\n",
       "      <td>401758636</td>\n",
       "      <td>Final</td>\n",
       "      <td>UCF Knights</td>\n",
       "      <td>2116</td>\n",
       "      <td>NaN</td>\n",
       "      <td>20-17</td>\n",
       "      <td>66</td>\n",
       "      <td>Nebraska Cornhuskers</td>\n",
       "      <td>158</td>\n",
       "      <td>NaN</td>\n",
       "      <td>...</td>\n",
       "      <td>April 06, 2025</td>\n",
       "      <td>02:30 PM PDT</td>\n",
       "      <td>Las Vegas, NV</td>\n",
       "      <td>T-Mobile Arena</td>\n",
       "      <td>NaN</td>\n",
       "      <td>3314.0</td>\n",
       "      <td>FOX</td>\n",
       "      <td>Brian  O'Connell</td>\n",
       "      <td>D.J. Carstensen</td>\n",
       "      <td>Tyler Kumpf</td>\n",
       "    </tr>\n",
       "    <tr>\n",
       "      <th>6298</th>\n",
       "      <td>401746082</td>\n",
       "      <td>Final</td>\n",
       "      <td>Houston Cougars</td>\n",
       "      <td>248</td>\n",
       "      <td>1.0</td>\n",
       "      <td>35-5</td>\n",
       "      <td>63</td>\n",
       "      <td>Florida Gators</td>\n",
       "      <td>57</td>\n",
       "      <td>1.0</td>\n",
       "      <td>...</td>\n",
       "      <td>April 07, 2025</td>\n",
       "      <td>05:50 PM PDT</td>\n",
       "      <td>San Antonio, TX</td>\n",
       "      <td>Alamodome</td>\n",
       "      <td>NaN</td>\n",
       "      <td>66602.0</td>\n",
       "      <td>CBS</td>\n",
       "      <td>Ron Groover</td>\n",
       "      <td>Terry Oglesby</td>\n",
       "      <td>Doug Sirmons</td>\n",
       "    </tr>\n",
       "  </tbody>\n",
       "</table>\n",
       "<p>6299 rows × 29 columns</p>\n",
       "</div>"
      ],
      "text/plain": [
       "        game_id game_status                      home_team home_id  home_rank  \\\n",
       "0     401727499       Final        IU Indianapolis Jaguars      85        NaN   \n",
       "1     401715872       Final      Southern Illinois Salukis      79        NaN   \n",
       "2     401725796       Final         UT Arlington Mavericks     250        NaN   \n",
       "3     401726400       Final  Middle Tennessee Blue Raiders    2393        NaN   \n",
       "4     401726395       Final   Jacksonville State Gamecocks      55        NaN   \n",
       "...         ...         ...                            ...     ...        ...   \n",
       "6294  401758633       Final             Villanova Wildcats     222        NaN   \n",
       "6295  401746081       Final                  Auburn Tigers       2        1.0   \n",
       "6296  401746080       Final               Duke Blue Devils     150        1.0   \n",
       "6297  401758636       Final                    UCF Knights    2116        NaN   \n",
       "6298  401746082       Final                Houston Cougars     248        1.0   \n",
       "\n",
       "     home_record  home_score                  away_team  \\\n",
       "0            1-0         100  IU Columbus Crimson Pride   \n",
       "1            0-1          80         Charleston Cougars   \n",
       "2            1-0          90    UNT Dallas Trailblazers   \n",
       "3            1-0          97  Oglethorpe Stormy Petrels   \n",
       "4            1-0         112          LaGrange Panthers   \n",
       "...          ...         ...                        ...   \n",
       "6294       21-15          98                UCF Knights   \n",
       "6295        32-6          73             Florida Gators   \n",
       "6296        35-4          67            Houston Cougars   \n",
       "6297       20-17          66       Nebraska Cornhuskers   \n",
       "6298        35-5          63             Florida Gators   \n",
       "\n",
       "                           away_id  away_rank  ...           game_day  \\\n",
       "0     nd-iu-columbus-crimson-pride        NaN  ...  November 04, 2024   \n",
       "1                              232        NaN  ...  November 04, 2024   \n",
       "2       nd-unt-dallas-trailblazers        NaN  ...  November 04, 2024   \n",
       "3     nd-oglethorpe-stormy-petrels        NaN  ...  November 04, 2024   \n",
       "4             nd-lagrange-panthers        NaN  ...  November 04, 2024   \n",
       "...                            ...        ...  ...                ...   \n",
       "6294                          2116        NaN  ...     April 05, 2025   \n",
       "6295                            57        1.0  ...     April 05, 2025   \n",
       "6296                           248        1.0  ...     April 05, 2025   \n",
       "6297                           158        NaN  ...     April 06, 2025   \n",
       "6298                            57        1.0  ...     April 07, 2025   \n",
       "\n",
       "         game_time          game_loc                  arena  arena_capacity  \\\n",
       "0     08:00 AM PST  Indianapolis, IN       Corteva Coliseum             NaN   \n",
       "1     09:00 AM PST   Sioux Falls, SD       Sanford Pentagon             NaN   \n",
       "2     09:00 AM PST     Arlington, TX    College Park Center             NaN   \n",
       "3     09:00 AM PST  Murfreesboro, TN          Murphy Center             NaN   \n",
       "4     09:30 AM PST  Jacksonville, AL  Pete Mathews Coliseum             NaN   \n",
       "...            ...               ...                    ...             ...   \n",
       "6294  01:00 PM PDT     Las Vegas, NV         T-Mobile Arena             NaN   \n",
       "6295  03:09 PM PDT   San Antonio, TX              Alamodome             NaN   \n",
       "6296  06:28 PM PDT   San Antonio, TX              Alamodome             NaN   \n",
       "6297  02:30 PM PDT     Las Vegas, NV         T-Mobile Arena             NaN   \n",
       "6298  05:50 PM PDT   San Antonio, TX              Alamodome             NaN   \n",
       "\n",
       "      attendance  tv_network         referee_1        referee_2  \\\n",
       "0         3716.0       ESPN+     Rod Mrakovich   Martin Spencer   \n",
       "1            0.0                   Brad Ferrie    Antinio Petty   \n",
       "2         1001.0       ESPN+       Doug George    Randal Anders   \n",
       "3         7501.0       ESPN+      Kevin Mathis     James Curran   \n",
       "4         2055.0       ESPN+      Barry Mathis       Nick Meyer   \n",
       "...          ...         ...               ...              ...   \n",
       "6294      2972.0         FOX   D.J. Carstensen      Matt Potter   \n",
       "6295     68252.0         CBS      Tony Padilla      Roger Ayers   \n",
       "6296     68252.0         CBS        Doug Shows   James Breeding   \n",
       "6297      3314.0         FOX  Brian  O'Connell  D.J. Carstensen   \n",
       "6298     66602.0         CBS       Ron Groover    Terry Oglesby   \n",
       "\n",
       "            referee_3  \n",
       "0     Adam Sensibaugh  \n",
       "1           Ben Wolfe  \n",
       "2      Trenton Chaney  \n",
       "3        Klajdi Mulla  \n",
       "4     Jeremy Trussell  \n",
       "...               ...  \n",
       "6294     Brooks Wells  \n",
       "6295   Courtney Green  \n",
       "6296     Keith Kimble  \n",
       "6297      Tyler Kumpf  \n",
       "6298     Doug Sirmons  \n",
       "\n",
       "[6299 rows x 29 columns]"
      ]
     },
     "execution_count": 2,
     "metadata": {},
     "output_type": "execute_result"
    }
   ],
   "source": [
    "df_2025_game_info = df_2025[0]\n",
    "df_2025_game_info"
   ]
  },
  {
   "cell_type": "code",
   "execution_count": 3,
   "metadata": {
    "execution": {
     "iopub.execute_input": "2025-08-24T12:22:01.425108Z",
     "iopub.status.busy": "2025-08-24T12:22:01.424936Z",
     "iopub.status.idle": "2025-08-24T12:22:01.484233Z",
     "shell.execute_reply": "2025-08-24T12:22:01.483717Z"
    }
   },
   "outputs": [
    {
     "name": "stdout",
     "output_type": "stream",
     "text": [
      "Exported 6292 completed games to Completed_Games.csv\n",
      "Exported 1 upcoming games to Upcoming_Games.csv\n"
     ]
    }
   ],
   "source": [
    "# Filter games by status and export to CSV files\n",
    "\n",
    "# Get completed games (status = 'Final')\n",
    "completed_games = df_2025_game_info[df_2025_game_info['game_status'] == 'Final']\n",
    "\n",
    "# Get upcoming games (status = 'Scheduled')\n",
    "upcoming_games = df_2025_game_info[df_2025_game_info['game_status'] == 'Scheduled']\n",
    "\n",
    "# Export to CSV files\n",
    "completed_games.to_csv('Completed_Games.csv', index=False)\n",
    "upcoming_games.to_csv('Upcoming_Games.csv', index=False)\n",
    "\n",
    "# Print summary\n",
    "print(f\"Exported {len(completed_games)} completed games to Completed_Games.csv\")\n",
    "print(f\"Exported {len(upcoming_games)} upcoming games to Upcoming_Games.csv\")"
   ]
  }
 ],
 "metadata": {
  "kernelspec": {
   "display_name": "Python 3",
   "language": "python",
   "name": "python3"
  },
  "language_info": {
   "codemirror_mode": {
    "name": "ipython",
    "version": 3
   },
   "file_extension": ".py",
   "mimetype": "text/x-python",
   "name": "python",
   "nbconvert_exporter": "python",
   "pygments_lexer": "ipython3",
   "version": "3.13.7"
  }
 },
 "nbformat": 4,
 "nbformat_minor": 2
}
