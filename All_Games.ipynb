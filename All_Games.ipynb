{
 "cells": [
  {
   "cell_type": "code",
   "execution_count": 1,
   "metadata": {
    "execution": {
     "iopub.execute_input": "2025-04-05T12:05:21.746237Z",
     "iopub.status.busy": "2025-04-05T12:05:21.745637Z",
     "iopub.status.idle": "2025-04-05T12:20:07.923272Z",
     "shell.execute_reply": "2025-04-05T12:20:07.922719Z"
    }
   },
   "outputs": [
    {
     "name": "stderr",
     "output_type": "stream",
     "text": [
      "\r",
      "  0%|          | 0 of 156 days scraped in 0.0 sec"
     ]
    },
    {
     "name": "stderr",
     "output_type": "stream",
     "text": [
      "\r",
      "Scraping 0 games on 11/01/24:   0%|          | 0 of 156 days scraped in 0.9 sec"
     ]
    },
    {
     "name": "stderr",
     "output_type": "stream",
     "text": [
      "\r",
      "No games on 11/01/24:   1%|          | 1 of 156 days scraped in 1.0 sec        "
     ]
    },
    {
     "name": "stderr",
     "output_type": "stream",
     "text": [
      "\r",
      "Scraping 0 games on 11/02/24:   1%|          | 1 of 156 days scraped in 1.4 sec"
     ]
    },
    {
     "name": "stderr",
     "output_type": "stream",
     "text": [
      "\r",
      "No games on 11/02/24:   1%|▏         | 2 of 156 days scraped in 1.4 sec        "
     ]
    },
    {
     "name": "stderr",
     "output_type": "stream",
     "text": [
      "\r",
      "Scraping 0 games on 11/03/24:   1%|▏         | 2 of 156 days scraped in 1.7 sec"
     ]
    },
    {
     "name": "stderr",
     "output_type": "stream",
     "text": [
      "\r",
      "No games on 11/03/24:   2%|▏         | 3 of 156 days scraped in 1.7 sec        "
     ]
    },
    {
     "name": "stderr",
     "output_type": "stream",
     "text": [
      "\r",
      "Scraping 199 games on 11/04/24:   2%|▏         | 3 of 156 days scraped in 3.3 sec"
     ]
    },
    {
     "name": "stderr",
     "output_type": "stream",
     "text": [
      "\r",
      "Scraping 199 games on 11/04/24:   3%|▎         | 4 of 156 days scraped in 26.7 sec"
     ]
    },
    {
     "name": "stderr",
     "output_type": "stream",
     "text": [
      "\r",
      "Scraping 11 games on 11/05/24:   3%|▎         | 4 of 156 days scraped in 27.6 sec "
     ]
    },
    {
     "name": "stderr",
     "output_type": "stream",
     "text": [
      "\r",
      "Scraping 11 games on 11/05/24:   3%|▎         | 5 of 156 days scraped in 28.9 sec"
     ]
    },
    {
     "name": "stderr",
     "output_type": "stream",
     "text": [
      "\r",
      "Scraping 37 games on 11/06/24:   3%|▎         | 5 of 156 days scraped in 29.5 sec"
     ]
    },
    {
     "name": "stderr",
     "output_type": "stream",
     "text": [
      "\r",
      "Scraping 37 games on 11/06/24:   4%|▍         | 6 of 156 days scraped in 33.6 sec"
     ]
    },
    {
     "name": "stderr",
     "output_type": "stream",
     "text": [
      "\r",
      "Scraping 42 games on 11/07/24:   4%|▍         | 6 of 156 days scraped in 34.1 sec"
     ]
    },
    {
     "name": "stderr",
     "output_type": "stream",
     "text": [
      "\r",
      "Scraping 42 games on 11/07/24:   4%|▍         | 7 of 156 days scraped in 38.9 sec"
     ]
    },
    {
     "name": "stderr",
     "output_type": "stream",
     "text": [
      "\r",
      "Scraping 80 games on 11/08/24:   4%|▍         | 7 of 156 days scraped in 39.7 sec"
     ]
    },
    {
     "name": "stderr",
     "output_type": "stream",
     "text": [
      "\r",
      "Scraping 80 games on 11/08/24:   5%|▌         | 8 of 156 days scraped in 49.1 sec"
     ]
    },
    {
     "name": "stderr",
     "output_type": "stream",
     "text": [
      "\r",
      "Scraping 64 games on 11/09/24:   5%|▌         | 8 of 156 days scraped in 50.1 sec"
     ]
    },
    {
     "name": "stderr",
     "output_type": "stream",
     "text": [
      "\r",
      "Scraping 64 games on 11/09/24:   6%|▌         | 9 of 156 days scraped in 58.3 sec"
     ]
    },
    {
     "name": "stderr",
     "output_type": "stream",
     "text": [
      "\r",
      "Scraping 29 games on 11/10/24:   6%|▌         | 9 of 156 days scraped in 58.9 sec"
     ]
    },
    {
     "name": "stderr",
     "output_type": "stream",
     "text": [
      "\r",
      "Scraping 29 games on 11/10/24:   6%|▋         | 10 of 156 days scraped in 62.4 sec"
     ]
    },
    {
     "name": "stderr",
     "output_type": "stream",
     "text": [
      "\r",
      "Scraping 42 games on 11/11/24:   6%|▋         | 10 of 156 days scraped in 63.1 sec"
     ]
    },
    {
     "name": "stderr",
     "output_type": "stream",
     "text": [
      "\r",
      "Scraping 42 games on 11/11/24:   7%|▋         | 11 of 156 days scraped in 68.2 sec"
     ]
    },
    {
     "name": "stderr",
     "output_type": "stream",
     "text": [
      "\r",
      "Scraping 79 games on 11/12/24:   7%|▋         | 11 of 156 days scraped in 68.9 sec"
     ]
    },
    {
     "name": "stderr",
     "output_type": "stream",
     "text": [
      "\r",
      "Scraping 79 games on 11/12/24:   8%|▊         | 12 of 156 days scraped in 78.0 sec"
     ]
    },
    {
     "name": "stderr",
     "output_type": "stream",
     "text": [
      "\r",
      "Scraping 55 games on 11/13/24:   8%|▊         | 12 of 156 days scraped in 78.7 sec"
     ]
    },
    {
     "name": "stderr",
     "output_type": "stream",
     "text": [
      "\r",
      "Scraping 55 games on 11/13/24:   8%|▊         | 13 of 156 days scraped in 85.3 sec"
     ]
    },
    {
     "name": "stderr",
     "output_type": "stream",
     "text": [
      "\r",
      "Scraping 26 games on 11/14/24:   8%|▊         | 13 of 156 days scraped in 85.8 sec"
     ]
    },
    {
     "name": "stderr",
     "output_type": "stream",
     "text": [
      "\r",
      "Scraping 26 games on 11/14/24:   9%|▉         | 14 of 156 days scraped in 88.6 sec"
     ]
    },
    {
     "name": "stderr",
     "output_type": "stream",
     "text": [
      "\r",
      "Scraping 50 games on 11/15/24:   9%|▉         | 14 of 156 days scraped in 89.2 sec"
     ]
    },
    {
     "name": "stderr",
     "output_type": "stream",
     "text": [
      "\r",
      "Scraping 50 games on 11/15/24:  10%|▉         | 15 of 156 days scraped in 95.0 sec"
     ]
    },
    {
     "name": "stderr",
     "output_type": "stream",
     "text": [
      "\r",
      "Scraping 82 games on 11/16/24:  10%|▉         | 15 of 156 days scraped in 96.2 sec"
     ]
    },
    {
     "name": "stderr",
     "output_type": "stream",
     "text": [
      "\r",
      "Scraping 82 games on 11/16/24:  10%|█         | 16 of 156 days scraped in 107.1 sec"
     ]
    },
    {
     "name": "stderr",
     "output_type": "stream",
     "text": [
      "\r",
      "Scraping 36 games on 11/17/24:  10%|█         | 16 of 156 days scraped in 107.6 sec"
     ]
    },
    {
     "name": "stderr",
     "output_type": "stream",
     "text": [
      "\r",
      "Scraping 36 games on 11/17/24:  11%|█         | 17 of 156 days scraped in 111.5 sec"
     ]
    },
    {
     "name": "stderr",
     "output_type": "stream",
     "text": [
      "\r",
      "Scraping 31 games on 11/18/24:  11%|█         | 17 of 156 days scraped in 112.0 sec"
     ]
    },
    {
     "name": "stderr",
     "output_type": "stream",
     "text": [
      "\r",
      "Scraping 31 games on 11/18/24:  12%|█▏        | 18 of 156 days scraped in 115.7 sec"
     ]
    },
    {
     "name": "stderr",
     "output_type": "stream",
     "text": [
      "\r",
      "Scraping 54 games on 11/19/24:  12%|█▏        | 18 of 156 days scraped in 116.6 sec"
     ]
    },
    {
     "name": "stderr",
     "output_type": "stream",
     "text": [
      "\r",
      "Scraping 54 games on 11/19/24:  12%|█▏        | 19 of 156 days scraped in 124.0 sec"
     ]
    },
    {
     "name": "stderr",
     "output_type": "stream",
     "text": [
      "\r",
      "Scraping 47 games on 11/20/24:  12%|█▏        | 19 of 156 days scraped in 124.6 sec"
     ]
    },
    {
     "name": "stderr",
     "output_type": "stream",
     "text": [
      "\r",
      "Scraping 47 games on 11/20/24:  13%|█▎        | 20 of 156 days scraped in 130.3 sec"
     ]
    },
    {
     "name": "stderr",
     "output_type": "stream",
     "text": [
      "\r",
      "Scraping 44 games on 11/21/24:  13%|█▎        | 20 of 156 days scraped in 130.9 sec"
     ]
    },
    {
     "name": "stderr",
     "output_type": "stream",
     "text": [
      "\r",
      "Scraping 44 games on 11/21/24:  13%|█▎        | 21 of 156 days scraped in 136.3 sec"
     ]
    },
    {
     "name": "stderr",
     "output_type": "stream",
     "text": [
      "\r",
      "Scraping 82 games on 11/22/24:  13%|█▎        | 21 of 156 days scraped in 137.1 sec"
     ]
    },
    {
     "name": "stderr",
     "output_type": "stream",
     "text": [
      "\r",
      "Scraping 82 games on 11/22/24:  14%|█▍        | 22 of 156 days scraped in 147.6 sec"
     ]
    },
    {
     "name": "stderr",
     "output_type": "stream",
     "text": [
      "\r",
      "Scraping 56 games on 11/23/24:  14%|█▍        | 22 of 156 days scraped in 148.5 sec"
     ]
    },
    {
     "name": "stderr",
     "output_type": "stream",
     "text": [
      "\r",
      "Scraping 56 games on 11/23/24:  15%|█▍        | 23 of 156 days scraped in 155.2 sec"
     ]
    },
    {
     "name": "stderr",
     "output_type": "stream",
     "text": [
      "\r",
      "Scraping 54 games on 11/24/24:  15%|█▍        | 23 of 156 days scraped in 156.0 sec"
     ]
    },
    {
     "name": "stderr",
     "output_type": "stream",
     "text": [
      "\r",
      "Scraping 54 games on 11/24/24:  15%|█▌        | 24 of 156 days scraped in 163.0 sec"
     ]
    },
    {
     "name": "stderr",
     "output_type": "stream",
     "text": [
      "\r",
      "Scraping 57 games on 11/25/24:  15%|█▌        | 24 of 156 days scraped in 163.6 sec"
     ]
    },
    {
     "name": "stderr",
     "output_type": "stream",
     "text": [
      "\r",
      "Scraping 57 games on 11/25/24:  16%|█▌        | 25 of 156 days scraped in 170.4 sec"
     ]
    },
    {
     "name": "stderr",
     "output_type": "stream",
     "text": [
      "\r",
      "Scraping 64 games on 11/26/24:  16%|█▌        | 25 of 156 days scraped in 171.2 sec"
     ]
    },
    {
     "name": "stderr",
     "output_type": "stream",
     "text": [
      "\r",
      "Scraping 64 games on 11/26/24:  17%|█▋        | 26 of 156 days scraped in 178.9 sec"
     ]
    },
    {
     "name": "stderr",
     "output_type": "stream",
     "text": [
      "\r",
      "Scraping 70 games on 11/27/24:  17%|█▋        | 26 of 156 days scraped in 179.8 sec"
     ]
    },
    {
     "name": "stderr",
     "output_type": "stream",
     "text": [
      "\r",
      "Scraping 70 games on 11/27/24:  17%|█▋        | 27 of 156 days scraped in 188.6 sec"
     ]
    },
    {
     "name": "stderr",
     "output_type": "stream",
     "text": [
      "\r",
      "Scraping 21 games on 11/28/24:  17%|█▋        | 27 of 156 days scraped in 188.9 sec"
     ]
    },
    {
     "name": "stderr",
     "output_type": "stream",
     "text": [
      "\r",
      "Scraping 21 games on 11/28/24:  18%|█▊        | 28 of 156 days scraped in 191.4 sec"
     ]
    },
    {
     "name": "stderr",
     "output_type": "stream",
     "text": [
      "\r",
      "Scraping 56 games on 11/29/24:  18%|█▊        | 28 of 156 days scraped in 192.0 sec"
     ]
    },
    {
     "name": "stderr",
     "output_type": "stream",
     "text": [
      "\r",
      "Scraping 56 games on 11/29/24:  19%|█▊        | 29 of 156 days scraped in 198.9 sec"
     ]
    },
    {
     "name": "stderr",
     "output_type": "stream",
     "text": [
      "\r",
      "Scraping 68 games on 11/30/24:  19%|█▊        | 29 of 156 days scraped in 199.5 sec"
     ]
    },
    {
     "name": "stderr",
     "output_type": "stream",
     "text": [
      "\r",
      "Scraping 68 games on 11/30/24:  19%|█▉        | 30 of 156 days scraped in 207.9 sec"
     ]
    },
    {
     "name": "stderr",
     "output_type": "stream",
     "text": [
      "\r",
      "Scraping 34 games on 12/01/24:  19%|█▉        | 30 of 156 days scraped in 208.5 sec"
     ]
    },
    {
     "name": "stderr",
     "output_type": "stream",
     "text": [
      "\r",
      "Scraping 34 games on 12/01/24:  20%|█▉        | 31 of 156 days scraped in 212.9 sec"
     ]
    },
    {
     "name": "stderr",
     "output_type": "stream",
     "text": [
      "\r",
      "Scraping 16 games on 12/02/24:  20%|█▉        | 31 of 156 days scraped in 213.3 sec"
     ]
    },
    {
     "name": "stderr",
     "output_type": "stream",
     "text": [
      "\r",
      "Scraping 16 games on 12/02/24:  21%|██        | 32 of 156 days scraped in 215.4 sec"
     ]
    },
    {
     "name": "stderr",
     "output_type": "stream",
     "text": [
      "\r",
      "Scraping 56 games on 12/03/24:  21%|██        | 32 of 156 days scraped in 216.1 sec"
     ]
    },
    {
     "name": "stderr",
     "output_type": "stream",
     "text": [
      "\r",
      "Scraping 56 games on 12/03/24:  21%|██        | 33 of 156 days scraped in 223.5 sec"
     ]
    },
    {
     "name": "stderr",
     "output_type": "stream",
     "text": [
      "\r",
      "Scraping 67 games on 12/04/24:  21%|██        | 33 of 156 days scraped in 224.2 sec"
     ]
    },
    {
     "name": "stderr",
     "output_type": "stream",
     "text": [
      "\r",
      "Scraping 67 games on 12/04/24:  22%|██▏       | 34 of 156 days scraped in 232.7 sec"
     ]
    },
    {
     "name": "stderr",
     "output_type": "stream",
     "text": [
      "\r",
      "Scraping 26 games on 12/05/24:  22%|██▏       | 34 of 156 days scraped in 233.2 sec"
     ]
    },
    {
     "name": "stderr",
     "output_type": "stream",
     "text": [
      "\r",
      "Scraping 26 games on 12/05/24:  22%|██▏       | 35 of 156 days scraped in 236.6 sec"
     ]
    },
    {
     "name": "stderr",
     "output_type": "stream",
     "text": [
      "\r",
      "Scraping 22 games on 12/06/24:  22%|██▏       | 35 of 156 days scraped in 237.0 sec"
     ]
    },
    {
     "name": "stderr",
     "output_type": "stream",
     "text": [
      "\r",
      "Scraping 22 games on 12/06/24:  23%|██▎       | 36 of 156 days scraped in 240.2 sec"
     ]
    },
    {
     "name": "stderr",
     "output_type": "stream",
     "text": [
      "\r",
      "Scraping 108 games on 12/07/24:  23%|██▎       | 36 of 156 days scraped in 241.6 sec"
     ]
    },
    {
     "name": "stderr",
     "output_type": "stream",
     "text": [
      "\r",
      "Scraping 108 games on 12/07/24:  24%|██▎       | 37 of 156 days scraped in 255.2 sec"
     ]
    },
    {
     "name": "stderr",
     "output_type": "stream",
     "text": [
      "\r",
      "Scraping 39 games on 12/08/24:  24%|██▎       | 37 of 156 days scraped in 255.7 sec "
     ]
    },
    {
     "name": "stderr",
     "output_type": "stream",
     "text": [
      "\r",
      "Scraping 39 games on 12/08/24:  24%|██▍       | 38 of 156 days scraped in 261.2 sec"
     ]
    },
    {
     "name": "stderr",
     "output_type": "stream",
     "text": [
      "\r",
      "Scraping 8 games on 12/09/24:  24%|██▍       | 38 of 156 days scraped in 261.5 sec "
     ]
    },
    {
     "name": "stderr",
     "output_type": "stream",
     "text": [
      "\r",
      "Scraping 8 games on 12/09/24:  25%|██▌       | 39 of 156 days scraped in 262.7 sec"
     ]
    },
    {
     "name": "stderr",
     "output_type": "stream",
     "text": [
      "\r",
      "Scraping 37 games on 12/10/24:  25%|██▌       | 39 of 156 days scraped in 263.2 sec"
     ]
    },
    {
     "name": "stderr",
     "output_type": "stream",
     "text": [
      "\r",
      "Scraping 37 games on 12/10/24:  26%|██▌       | 40 of 156 days scraped in 268.2 sec"
     ]
    },
    {
     "name": "stderr",
     "output_type": "stream",
     "text": [
      "\r",
      "Scraping 28 games on 12/11/24:  26%|██▌       | 40 of 156 days scraped in 268.6 sec"
     ]
    },
    {
     "name": "stderr",
     "output_type": "stream",
     "text": [
      "\r",
      "Scraping 28 games on 12/11/24:  26%|██▋       | 41 of 156 days scraped in 272.2 sec"
     ]
    },
    {
     "name": "stderr",
     "output_type": "stream",
     "text": [
      "\r",
      "Scraping 10 games on 12/12/24:  26%|██▋       | 41 of 156 days scraped in 272.7 sec"
     ]
    },
    {
     "name": "stderr",
     "output_type": "stream",
     "text": [
      "\r",
      "Scraping 10 games on 12/12/24:  27%|██▋       | 42 of 156 days scraped in 274.0 sec"
     ]
    },
    {
     "name": "stderr",
     "output_type": "stream",
     "text": [
      "\r",
      "Scraping 10 games on 12/13/24:  27%|██▋       | 42 of 156 days scraped in 274.3 sec"
     ]
    },
    {
     "name": "stderr",
     "output_type": "stream",
     "text": [
      "\r",
      "Scraping 10 games on 12/13/24:  28%|██▊       | 43 of 156 days scraped in 275.5 sec"
     ]
    },
    {
     "name": "stderr",
     "output_type": "stream",
     "text": [
      "\r",
      "Scraping 97 games on 12/14/24:  28%|██▊       | 43 of 156 days scraped in 276.8 sec"
     ]
    },
    {
     "name": "stderr",
     "output_type": "stream",
     "text": [
      "\r",
      "Scraping 97 games on 12/14/24:  28%|██▊       | 44 of 156 days scraped in 289.6 sec"
     ]
    },
    {
     "name": "stderr",
     "output_type": "stream",
     "text": [
      "\r",
      "Scraping 40 games on 12/15/24:  28%|██▊       | 44 of 156 days scraped in 290.2 sec"
     ]
    },
    {
     "name": "stderr",
     "output_type": "stream",
     "text": [
      "\r",
      "Scraping 40 games on 12/15/24:  29%|██▉       | 45 of 156 days scraped in 294.8 sec"
     ]
    },
    {
     "name": "stderr",
     "output_type": "stream",
     "text": [
      "\r",
      "Scraping 18 games on 12/16/24:  29%|██▉       | 45 of 156 days scraped in 295.4 sec"
     ]
    },
    {
     "name": "stderr",
     "output_type": "stream",
     "text": [
      "\r",
      "Scraping 18 games on 12/16/24:  29%|██▉       | 46 of 156 days scraped in 297.9 sec"
     ]
    },
    {
     "name": "stderr",
     "output_type": "stream",
     "text": [
      "\r",
      "Scraping 48 games on 12/17/24:  29%|██▉       | 46 of 156 days scraped in 299.0 sec"
     ]
    },
    {
     "name": "stderr",
     "output_type": "stream",
     "text": [
      "\r",
      "Scraping 48 games on 12/17/24:  30%|███       | 47 of 156 days scraped in 304.9 sec"
     ]
    },
    {
     "name": "stderr",
     "output_type": "stream",
     "text": [
      "\r",
      "Scraping 64 games on 12/18/24:  30%|███       | 47 of 156 days scraped in 305.7 sec"
     ]
    },
    {
     "name": "stderr",
     "output_type": "stream",
     "text": [
      "\r",
      "Scraping 64 games on 12/18/24:  31%|███       | 48 of 156 days scraped in 313.8 sec"
     ]
    },
    {
     "name": "stderr",
     "output_type": "stream",
     "text": [
      "\r",
      "Scraping 26 games on 12/19/24:  31%|███       | 48 of 156 days scraped in 314.3 sec"
     ]
    },
    {
     "name": "stderr",
     "output_type": "stream",
     "text": [
      "\r",
      "Scraping 26 games on 12/19/24:  31%|███▏      | 49 of 156 days scraped in 317.6 sec"
     ]
    },
    {
     "name": "stderr",
     "output_type": "stream",
     "text": [
      "\r",
      "Scraping 23 games on 12/20/24:  31%|███▏      | 49 of 156 days scraped in 318.1 sec"
     ]
    },
    {
     "name": "stderr",
     "output_type": "stream",
     "text": [
      "\r",
      "Scraping 23 games on 12/20/24:  32%|███▏      | 50 of 156 days scraped in 321.4 sec"
     ]
    },
    {
     "name": "stderr",
     "output_type": "stream",
     "text": [
      "\r",
      "Scraping 114 games on 12/21/24:  32%|███▏      | 50 of 156 days scraped in 322.5 sec"
     ]
    },
    {
     "name": "stderr",
     "output_type": "stream",
     "text": [
      "\r",
      "Scraping 114 games on 12/21/24:  33%|███▎      | 51 of 156 days scraped in 336.5 sec"
     ]
    },
    {
     "name": "stderr",
     "output_type": "stream",
     "text": [
      "\r",
      "Scraping 48 games on 12/22/24:  33%|███▎      | 51 of 156 days scraped in 337.1 sec "
     ]
    },
    {
     "name": "stderr",
     "output_type": "stream",
     "text": [
      "\r",
      "Scraping 48 games on 12/22/24:  33%|███▎      | 52 of 156 days scraped in 342.7 sec"
     ]
    },
    {
     "name": "stderr",
     "output_type": "stream",
     "text": [
      "\r",
      "Scraping 9 games on 12/23/24:  33%|███▎      | 52 of 156 days scraped in 343.0 sec "
     ]
    },
    {
     "name": "stderr",
     "output_type": "stream",
     "text": [
      "\r",
      "Scraping 9 games on 12/23/24:  34%|███▍      | 53 of 156 days scraped in 344.0 sec"
     ]
    },
    {
     "name": "stderr",
     "output_type": "stream",
     "text": [
      "\r",
      "Scraping 0 games on 12/24/24:  34%|███▍      | 53 of 156 days scraped in 344.3 sec"
     ]
    },
    {
     "name": "stderr",
     "output_type": "stream",
     "text": [
      "\r",
      "No games on 12/24/24:  35%|███▍      | 54 of 156 days scraped in 344.3 sec        "
     ]
    },
    {
     "name": "stderr",
     "output_type": "stream",
     "text": [
      "\r",
      "Scraping 4 games on 12/25/24:  35%|███▍      | 54 of 156 days scraped in 344.5 sec"
     ]
    },
    {
     "name": "stderr",
     "output_type": "stream",
     "text": [
      "\r",
      "Scraping 4 games on 12/25/24:  35%|███▌      | 55 of 156 days scraped in 345.2 sec"
     ]
    },
    {
     "name": "stderr",
     "output_type": "stream",
     "text": [
      "\r",
      "Scraping 0 games on 12/26/24:  35%|███▌      | 55 of 156 days scraped in 345.5 sec"
     ]
    },
    {
     "name": "stderr",
     "output_type": "stream",
     "text": [
      "\r",
      "No games on 12/26/24:  36%|███▌      | 56 of 156 days scraped in 345.5 sec        "
     ]
    },
    {
     "name": "stderr",
     "output_type": "stream",
     "text": [
      "\r",
      "Scraping 2 games on 12/27/24:  36%|███▌      | 56 of 156 days scraped in 345.8 sec"
     ]
    },
    {
     "name": "stderr",
     "output_type": "stream",
     "text": [
      "\r",
      "Scraping 2 games on 12/27/24:  37%|███▋      | 57 of 156 days scraped in 346.1 sec"
     ]
    },
    {
     "name": "stderr",
     "output_type": "stream",
     "text": [
      "\r",
      "Scraping 53 games on 12/28/24:  37%|███▋      | 57 of 156 days scraped in 346.7 sec"
     ]
    },
    {
     "name": "stderr",
     "output_type": "stream",
     "text": [
      "\r",
      "Scraping 53 games on 12/28/24:  37%|███▋      | 58 of 156 days scraped in 353.8 sec"
     ]
    },
    {
     "name": "stderr",
     "output_type": "stream",
     "text": [
      "\r",
      "Scraping 60 games on 12/29/24:  37%|███▋      | 58 of 156 days scraped in 354.7 sec"
     ]
    },
    {
     "name": "stderr",
     "output_type": "stream",
     "text": [
      "\r",
      "Scraping 60 games on 12/29/24:  38%|███▊      | 59 of 156 days scraped in 361.8 sec"
     ]
    },
    {
     "name": "stderr",
     "output_type": "stream",
     "text": [
      "\r",
      "Scraping 43 games on 12/30/24:  38%|███▊      | 59 of 156 days scraped in 362.5 sec"
     ]
    },
    {
     "name": "stderr",
     "output_type": "stream",
     "text": [
      "\r",
      "Scraping 43 games on 12/30/24:  38%|███▊      | 60 of 156 days scraped in 368.0 sec"
     ]
    },
    {
     "name": "stderr",
     "output_type": "stream",
     "text": [
      "\r",
      "Scraping 33 games on 12/31/24:  38%|███▊      | 60 of 156 days scraped in 368.5 sec"
     ]
    },
    {
     "name": "stderr",
     "output_type": "stream",
     "text": [
      "\r",
      "Scraping 33 games on 12/31/24:  39%|███▉      | 61 of 156 days scraped in 372.2 sec"
     ]
    },
    {
     "name": "stderr",
     "output_type": "stream",
     "text": [
      "\r",
      "Scraping 21 games on 01/01/25:  39%|███▉      | 61 of 156 days scraped in 372.6 sec"
     ]
    },
    {
     "name": "stderr",
     "output_type": "stream",
     "text": [
      "\r",
      "Scraping 21 games on 01/01/25:  40%|███▉      | 62 of 156 days scraped in 374.9 sec"
     ]
    },
    {
     "name": "stderr",
     "output_type": "stream",
     "text": [
      "\r",
      "Scraping 66 games on 01/02/25:  40%|███▉      | 62 of 156 days scraped in 375.7 sec"
     ]
    },
    {
     "name": "stderr",
     "output_type": "stream",
     "text": [
      "\r",
      "Scraping 66 games on 01/02/25:  40%|████      | 63 of 156 days scraped in 383.4 sec"
     ]
    },
    {
     "name": "stderr",
     "output_type": "stream",
     "text": [
      "\r",
      "Scraping 16 games on 01/03/25:  40%|████      | 63 of 156 days scraped in 384.2 sec"
     ]
    },
    {
     "name": "stderr",
     "output_type": "stream",
     "text": [
      "\r",
      "Scraping 16 games on 01/03/25:  41%|████      | 64 of 156 days scraped in 386.4 sec"
     ]
    },
    {
     "name": "stderr",
     "output_type": "stream",
     "text": [
      "\r",
      "Scraping 139 games on 01/04/25:  41%|████      | 64 of 156 days scraped in 387.6 sec"
     ]
    },
    {
     "name": "stderr",
     "output_type": "stream",
     "text": [
      "\r",
      "Scraping 139 games on 01/04/25:  42%|████▏     | 65 of 156 days scraped in 403.5 sec"
     ]
    },
    {
     "name": "stderr",
     "output_type": "stream",
     "text": [
      "\r",
      "Scraping 27 games on 01/05/25:  42%|████▏     | 65 of 156 days scraped in 404.0 sec "
     ]
    },
    {
     "name": "stderr",
     "output_type": "stream",
     "text": [
      "\r",
      "Scraping 27 games on 01/05/25:  42%|████▏     | 66 of 156 days scraped in 407.3 sec"
     ]
    },
    {
     "name": "stderr",
     "output_type": "stream",
     "text": [
      "\r",
      "Scraping 16 games on 01/06/25:  42%|████▏     | 66 of 156 days scraped in 407.7 sec"
     ]
    },
    {
     "name": "stderr",
     "output_type": "stream",
     "text": [
      "\r",
      "Scraping 16 games on 01/06/25:  43%|████▎     | 67 of 156 days scraped in 409.8 sec"
     ]
    },
    {
     "name": "stderr",
     "output_type": "stream",
     "text": [
      "\r",
      "Scraping 34 games on 01/07/25:  43%|████▎     | 67 of 156 days scraped in 410.4 sec"
     ]
    },
    {
     "name": "stderr",
     "output_type": "stream",
     "text": [
      "\r",
      "Scraping 34 games on 01/07/25:  44%|████▎     | 68 of 156 days scraped in 415.4 sec"
     ]
    },
    {
     "name": "stderr",
     "output_type": "stream",
     "text": [
      "\r",
      "Scraping 50 games on 01/08/25:  44%|████▎     | 68 of 156 days scraped in 416.2 sec"
     ]
    },
    {
     "name": "stderr",
     "output_type": "stream",
     "text": [
      "\r",
      "Scraping 50 games on 01/08/25:  44%|████▍     | 69 of 156 days scraped in 422.2 sec"
     ]
    },
    {
     "name": "stderr",
     "output_type": "stream",
     "text": [
      "\r",
      "Scraping 55 games on 01/09/25:  44%|████▍     | 69 of 156 days scraped in 422.8 sec"
     ]
    },
    {
     "name": "stderr",
     "output_type": "stream",
     "text": [
      "\r",
      "Scraping 55 games on 01/09/25:  45%|████▍     | 70 of 156 days scraped in 429.3 sec"
     ]
    },
    {
     "name": "stderr",
     "output_type": "stream",
     "text": [
      "\r",
      "Scraping 14 games on 01/10/25:  45%|████▍     | 70 of 156 days scraped in 429.7 sec"
     ]
    },
    {
     "name": "stderr",
     "output_type": "stream",
     "text": [
      "\r",
      "Scraping 14 games on 01/10/25:  46%|████▌     | 71 of 156 days scraped in 431.5 sec"
     ]
    },
    {
     "name": "stderr",
     "output_type": "stream",
     "text": [
      "\r",
      "Scraping 144 games on 01/11/25:  46%|████▌     | 71 of 156 days scraped in 432.6 sec"
     ]
    },
    {
     "name": "stderr",
     "output_type": "stream",
     "text": [
      "\r",
      "Scraping 144 games on 01/11/25:  46%|████▌     | 72 of 156 days scraped in 449.5 sec"
     ]
    },
    {
     "name": "stderr",
     "output_type": "stream",
     "text": [
      "\r",
      "Scraping 21 games on 01/12/25:  46%|████▌     | 72 of 156 days scraped in 449.9 sec "
     ]
    },
    {
     "name": "stderr",
     "output_type": "stream",
     "text": [
      "\r",
      "Scraping 21 games on 01/12/25:  47%|████▋     | 73 of 156 days scraped in 452.3 sec"
     ]
    },
    {
     "name": "stderr",
     "output_type": "stream",
     "text": [
      "\r",
      "Scraping 22 games on 01/13/25:  47%|████▋     | 73 of 156 days scraped in 452.8 sec"
     ]
    },
    {
     "name": "stderr",
     "output_type": "stream",
     "text": [
      "\r",
      "Scraping 22 games on 01/13/25:  47%|████▋     | 74 of 156 days scraped in 455.5 sec"
     ]
    },
    {
     "name": "stderr",
     "output_type": "stream",
     "text": [
      "\r",
      "Scraping 36 games on 01/14/25:  47%|████▋     | 74 of 156 days scraped in 456.3 sec"
     ]
    },
    {
     "name": "stderr",
     "output_type": "stream",
     "text": [
      "\r",
      "Scraping 36 games on 01/14/25:  48%|████▊     | 75 of 156 days scraped in 461.4 sec"
     ]
    },
    {
     "name": "stderr",
     "output_type": "stream",
     "text": [
      "\r",
      "Scraping 48 games on 01/15/25:  48%|████▊     | 75 of 156 days scraped in 461.9 sec"
     ]
    },
    {
     "name": "stderr",
     "output_type": "stream",
     "text": [
      "\r",
      "Scraping 48 games on 01/15/25:  49%|████▊     | 76 of 156 days scraped in 467.0 sec"
     ]
    },
    {
     "name": "stderr",
     "output_type": "stream",
     "text": [
      "\r",
      "Scraping 63 games on 01/16/25:  49%|████▊     | 76 of 156 days scraped in 467.9 sec"
     ]
    },
    {
     "name": "stderr",
     "output_type": "stream",
     "text": [
      "\r",
      "Scraping 63 games on 01/16/25:  49%|████▉     | 77 of 156 days scraped in 475.2 sec"
     ]
    },
    {
     "name": "stderr",
     "output_type": "stream",
     "text": [
      "\r",
      "Scraping 10 games on 01/17/25:  49%|████▉     | 77 of 156 days scraped in 475.5 sec"
     ]
    },
    {
     "name": "stderr",
     "output_type": "stream",
     "text": [
      "\r",
      "Scraping 10 games on 01/17/25:  50%|█████     | 78 of 156 days scraped in 477.1 sec"
     ]
    },
    {
     "name": "stderr",
     "output_type": "stream",
     "text": [
      "\r",
      "Scraping 148 games on 01/18/25:  50%|█████     | 78 of 156 days scraped in 478.5 sec"
     ]
    },
    {
     "name": "stderr",
     "output_type": "stream",
     "text": [
      "\r",
      "Scraping 148 games on 01/18/25:  51%|█████     | 79 of 156 days scraped in 496.5 sec"
     ]
    },
    {
     "name": "stderr",
     "output_type": "stream",
     "text": [
      "\r",
      "Scraping 11 games on 01/19/25:  51%|█████     | 79 of 156 days scraped in 497.3 sec "
     ]
    },
    {
     "name": "stderr",
     "output_type": "stream",
     "text": [
      "\r",
      "Scraping 11 games on 01/19/25:  51%|█████▏    | 80 of 156 days scraped in 498.8 sec"
     ]
    },
    {
     "name": "stderr",
     "output_type": "stream",
     "text": [
      "\r",
      "Scraping 29 games on 01/20/25:  51%|█████▏    | 80 of 156 days scraped in 499.2 sec"
     ]
    },
    {
     "name": "stderr",
     "output_type": "stream",
     "text": [
      "\r",
      "Scraping 29 games on 01/20/25:  52%|█████▏    | 81 of 156 days scraped in 502.3 sec"
     ]
    },
    {
     "name": "stderr",
     "output_type": "stream",
     "text": [
      "\r",
      "Scraping 35 games on 01/21/25:  52%|█████▏    | 81 of 156 days scraped in 502.9 sec"
     ]
    },
    {
     "name": "stderr",
     "output_type": "stream",
     "text": [
      "\r",
      "Scraping 35 games on 01/21/25:  53%|█████▎    | 82 of 156 days scraped in 507.1 sec"
     ]
    },
    {
     "name": "stderr",
     "output_type": "stream",
     "text": [
      "\r",
      "Scraping 42 games on 01/22/25:  53%|█████▎    | 82 of 156 days scraped in 507.6 sec"
     ]
    },
    {
     "name": "stderr",
     "output_type": "stream",
     "text": [
      "\r",
      "Scraping 42 games on 01/22/25:  53%|█████▎    | 83 of 156 days scraped in 512.8 sec"
     ]
    },
    {
     "name": "stderr",
     "output_type": "stream",
     "text": [
      "\r",
      "Scraping 61 games on 01/23/25:  53%|█████▎    | 83 of 156 days scraped in 513.4 sec"
     ]
    },
    {
     "name": "stderr",
     "output_type": "stream",
     "text": [
      "\r",
      "Scraping 61 games on 01/23/25:  54%|█████▍    | 84 of 156 days scraped in 520.2 sec"
     ]
    },
    {
     "name": "stderr",
     "output_type": "stream",
     "text": [
      "\r",
      "Scraping 14 games on 01/24/25:  54%|█████▍    | 84 of 156 days scraped in 520.9 sec"
     ]
    },
    {
     "name": "stderr",
     "output_type": "stream",
     "text": [
      "\r",
      "Scraping 14 games on 01/24/25:  54%|█████▍    | 85 of 156 days scraped in 522.7 sec"
     ]
    },
    {
     "name": "stderr",
     "output_type": "stream",
     "text": [
      "\r",
      "Scraping 149 games on 01/25/25:  54%|█████▍    | 85 of 156 days scraped in 524.4 sec"
     ]
    },
    {
     "name": "stderr",
     "output_type": "stream",
     "text": [
      "\r",
      "Scraping 149 games on 01/25/25:  55%|█████▌    | 86 of 156 days scraped in 543.1 sec"
     ]
    },
    {
     "name": "stderr",
     "output_type": "stream",
     "text": [
      "\r",
      "Scraping 13 games on 01/26/25:  55%|█████▌    | 86 of 156 days scraped in 543.6 sec "
     ]
    },
    {
     "name": "stderr",
     "output_type": "stream",
     "text": [
      "\r",
      "Scraping 13 games on 01/26/25:  56%|█████▌    | 87 of 156 days scraped in 545.3 sec"
     ]
    },
    {
     "name": "stderr",
     "output_type": "stream",
     "text": [
      "\r",
      "Scraping 22 games on 01/27/25:  56%|█████▌    | 87 of 156 days scraped in 545.8 sec"
     ]
    },
    {
     "name": "stderr",
     "output_type": "stream",
     "text": [
      "\r",
      "Scraping 22 games on 01/27/25:  56%|█████▋    | 88 of 156 days scraped in 548.2 sec"
     ]
    },
    {
     "name": "stderr",
     "output_type": "stream",
     "text": [
      "\r",
      "Scraping 29 games on 01/28/25:  56%|█████▋    | 88 of 156 days scraped in 549.1 sec"
     ]
    },
    {
     "name": "stderr",
     "output_type": "stream",
     "text": [
      "\r",
      "Scraping 29 games on 01/28/25:  57%|█████▋    | 89 of 156 days scraped in 552.6 sec"
     ]
    },
    {
     "name": "stderr",
     "output_type": "stream",
     "text": [
      "\r",
      "Scraping 52 games on 01/29/25:  57%|█████▋    | 89 of 156 days scraped in 553.2 sec"
     ]
    },
    {
     "name": "stderr",
     "output_type": "stream",
     "text": [
      "\r",
      "Scraping 52 games on 01/29/25:  58%|█████▊    | 90 of 156 days scraped in 559.7 sec"
     ]
    },
    {
     "name": "stderr",
     "output_type": "stream",
     "text": [
      "\r",
      "Scraping 58 games on 01/30/25:  58%|█████▊    | 90 of 156 days scraped in 560.5 sec"
     ]
    },
    {
     "name": "stderr",
     "output_type": "stream",
     "text": [
      "\r",
      "Scraping 58 games on 01/30/25:  58%|█████▊    | 91 of 156 days scraped in 567.8 sec"
     ]
    },
    {
     "name": "stderr",
     "output_type": "stream",
     "text": [
      "\r",
      "Scraping 14 games on 01/31/25:  58%|█████▊    | 91 of 156 days scraped in 568.3 sec"
     ]
    },
    {
     "name": "stderr",
     "output_type": "stream",
     "text": [
      "\r",
      "Scraping 14 games on 01/31/25:  59%|█████▉    | 92 of 156 days scraped in 570.1 sec"
     ]
    },
    {
     "name": "stderr",
     "output_type": "stream",
     "text": [
      "\r",
      "Scraping 146 games on 02/01/25:  59%|█████▉    | 92 of 156 days scraped in 571.4 sec"
     ]
    },
    {
     "name": "stderr",
     "output_type": "stream",
     "text": [
      "\r",
      "Scraping 146 games on 02/01/25:  60%|█████▉    | 93 of 156 days scraped in 588.3 sec"
     ]
    },
    {
     "name": "stderr",
     "output_type": "stream",
     "text": [
      "\r",
      "Scraping 19 games on 02/02/25:  60%|█████▉    | 93 of 156 days scraped in 588.7 sec "
     ]
    },
    {
     "name": "stderr",
     "output_type": "stream",
     "text": [
      "\r",
      "Scraping 19 games on 02/02/25:  60%|██████    | 94 of 156 days scraped in 591.7 sec"
     ]
    },
    {
     "name": "stderr",
     "output_type": "stream",
     "text": [
      "\r",
      "Scraping 21 games on 02/03/25:  60%|██████    | 94 of 156 days scraped in 592.1 sec"
     ]
    },
    {
     "name": "stderr",
     "output_type": "stream",
     "text": [
      "\r",
      "Scraping 21 games on 02/03/25:  61%|██████    | 95 of 156 days scraped in 594.5 sec"
     ]
    },
    {
     "name": "stderr",
     "output_type": "stream",
     "text": [
      "\r",
      "Scraping 34 games on 02/04/25:  61%|██████    | 95 of 156 days scraped in 595.1 sec"
     ]
    },
    {
     "name": "stderr",
     "output_type": "stream",
     "text": [
      "\r",
      "Scraping 34 games on 02/04/25:  62%|██████▏   | 96 of 156 days scraped in 599.3 sec"
     ]
    },
    {
     "name": "stderr",
     "output_type": "stream",
     "text": [
      "\r",
      "Scraping 55 games on 02/05/25:  62%|██████▏   | 96 of 156 days scraped in 599.9 sec"
     ]
    },
    {
     "name": "stderr",
     "output_type": "stream",
     "text": [
      "\r",
      "Scraping 55 games on 02/05/25:  62%|██████▏   | 97 of 156 days scraped in 606.3 sec"
     ]
    },
    {
     "name": "stderr",
     "output_type": "stream",
     "text": [
      "\r",
      "Scraping 59 games on 02/06/25:  62%|██████▏   | 97 of 156 days scraped in 606.9 sec"
     ]
    },
    {
     "name": "stderr",
     "output_type": "stream",
     "text": [
      "\r",
      "Scraping 59 games on 02/06/25:  63%|██████▎   | 98 of 156 days scraped in 614.3 sec"
     ]
    },
    {
     "name": "stderr",
     "output_type": "stream",
     "text": [
      "\r",
      "Scraping 7 games on 02/07/25:  63%|██████▎   | 98 of 156 days scraped in 614.6 sec "
     ]
    },
    {
     "name": "stderr",
     "output_type": "stream",
     "text": [
      "\r",
      "Scraping 7 games on 02/07/25:  63%|██████▎   | 99 of 156 days scraped in 615.9 sec"
     ]
    },
    {
     "name": "stderr",
     "output_type": "stream",
     "text": [
      "\r",
      "Scraping 155 games on 02/08/25:  63%|██████▎   | 99 of 156 days scraped in 617.2 sec"
     ]
    },
    {
     "name": "stderr",
     "output_type": "stream",
     "text": [
      "\r",
      "Scraping 155 games on 02/08/25:  64%|██████▍   | 100 of 156 days scraped in 634.6 sec"
     ]
    },
    {
     "name": "stderr",
     "output_type": "stream",
     "text": [
      "\r",
      "Scraping 8 games on 02/09/25:  64%|██████▍   | 100 of 156 days scraped in 634.9 sec  "
     ]
    },
    {
     "name": "stderr",
     "output_type": "stream",
     "text": [
      "\r",
      "Scraping 8 games on 02/09/25:  65%|██████▍   | 101 of 156 days scraped in 636.0 sec"
     ]
    },
    {
     "name": "stderr",
     "output_type": "stream",
     "text": [
      "\r",
      "Scraping 19 games on 02/10/25:  65%|██████▍   | 101 of 156 days scraped in 636.4 sec"
     ]
    },
    {
     "name": "stderr",
     "output_type": "stream",
     "text": [
      "\r",
      "Scraping 19 games on 02/10/25:  65%|██████▌   | 102 of 156 days scraped in 638.4 sec"
     ]
    },
    {
     "name": "stderr",
     "output_type": "stream",
     "text": [
      "\r",
      "Scraping 37 games on 02/11/25:  65%|██████▌   | 102 of 156 days scraped in 639.2 sec"
     ]
    },
    {
     "name": "stderr",
     "output_type": "stream",
     "text": [
      "\r",
      "Scraping 37 games on 02/11/25:  66%|██████▌   | 103 of 156 days scraped in 644.0 sec"
     ]
    },
    {
     "name": "stderr",
     "output_type": "stream",
     "text": [
      "\r",
      "Scraping 44 games on 02/12/25:  66%|██████▌   | 103 of 156 days scraped in 644.6 sec"
     ]
    },
    {
     "name": "stderr",
     "output_type": "stream",
     "text": [
      "\r",
      "Scraping 44 games on 02/12/25:  67%|██████▋   | 104 of 156 days scraped in 650.1 sec"
     ]
    },
    {
     "name": "stderr",
     "output_type": "stream",
     "text": [
      "\r",
      "Scraping 59 games on 02/13/25:  67%|██████▋   | 104 of 156 days scraped in 650.8 sec"
     ]
    },
    {
     "name": "stderr",
     "output_type": "stream",
     "text": [
      "\r",
      "Scraping 59 games on 02/13/25:  67%|██████▋   | 105 of 156 days scraped in 658.1 sec"
     ]
    },
    {
     "name": "stderr",
     "output_type": "stream",
     "text": [
      "\r",
      "Scraping 16 games on 02/14/25:  67%|██████▋   | 105 of 156 days scraped in 658.5 sec"
     ]
    },
    {
     "name": "stderr",
     "output_type": "stream",
     "text": [
      "\r",
      "Scraping 16 games on 02/14/25:  68%|██████▊   | 106 of 156 days scraped in 660.4 sec"
     ]
    },
    {
     "name": "stderr",
     "output_type": "stream",
     "text": [
      "\r",
      "Scraping 146 games on 02/15/25:  68%|██████▊   | 106 of 156 days scraped in 661.8 sec"
     ]
    },
    {
     "name": "stderr",
     "output_type": "stream",
     "text": [
      "\r",
      "Scraping 146 games on 02/15/25:  69%|██████▊   | 107 of 156 days scraped in 682.2 sec"
     ]
    },
    {
     "name": "stderr",
     "output_type": "stream",
     "text": [
      "\r",
      "Scraping 25 games on 02/16/25:  69%|██████▊   | 107 of 156 days scraped in 682.7 sec "
     ]
    },
    {
     "name": "stderr",
     "output_type": "stream",
     "text": [
      "\r",
      "Scraping 25 games on 02/16/25:  69%|██████▉   | 108 of 156 days scraped in 685.9 sec"
     ]
    },
    {
     "name": "stderr",
     "output_type": "stream",
     "text": [
      "\r",
      "Scraping 21 games on 02/17/25:  69%|██████▉   | 108 of 156 days scraped in 686.3 sec"
     ]
    },
    {
     "name": "stderr",
     "output_type": "stream",
     "text": [
      "\r",
      "Scraping 21 games on 02/17/25:  70%|██████▉   | 109 of 156 days scraped in 689.3 sec"
     ]
    },
    {
     "name": "stderr",
     "output_type": "stream",
     "text": [
      "\r",
      "Scraping 32 games on 02/18/25:  70%|██████▉   | 109 of 156 days scraped in 690.1 sec"
     ]
    },
    {
     "name": "stderr",
     "output_type": "stream",
     "text": [
      "\r",
      "Scraping 32 games on 02/18/25:  71%|███████   | 110 of 156 days scraped in 694.0 sec"
     ]
    },
    {
     "name": "stderr",
     "output_type": "stream",
     "text": [
      "\r",
      "Scraping 51 games on 02/19/25:  71%|███████   | 110 of 156 days scraped in 695.1 sec"
     ]
    },
    {
     "name": "stderr",
     "output_type": "stream",
     "text": [
      "\r",
      "Scraping 51 games on 02/19/25:  71%|███████   | 111 of 156 days scraped in 702.4 sec"
     ]
    },
    {
     "name": "stderr",
     "output_type": "stream",
     "text": [
      "\r",
      "Scraping 52 games on 02/20/25:  71%|███████   | 111 of 156 days scraped in 703.2 sec"
     ]
    },
    {
     "name": "stderr",
     "output_type": "stream",
     "text": [
      "\r",
      "Scraping 52 games on 02/20/25:  72%|███████▏  | 112 of 156 days scraped in 710.0 sec"
     ]
    },
    {
     "name": "stderr",
     "output_type": "stream",
     "text": [
      "\r",
      "Scraping 20 games on 02/21/25:  72%|███████▏  | 112 of 156 days scraped in 710.4 sec"
     ]
    },
    {
     "name": "stderr",
     "output_type": "stream",
     "text": [
      "\r",
      "Scraping 20 games on 02/21/25:  72%|███████▏  | 113 of 156 days scraped in 713.2 sec"
     ]
    },
    {
     "name": "stderr",
     "output_type": "stream",
     "text": [
      "\r",
      "Scraping 131 games on 02/22/25:  72%|███████▏  | 113 of 156 days scraped in 714.6 sec"
     ]
    },
    {
     "name": "stderr",
     "output_type": "stream",
     "text": [
      "\r",
      "Scraping 131 games on 02/22/25:  73%|███████▎  | 114 of 156 days scraped in 731.6 sec"
     ]
    },
    {
     "name": "stderr",
     "output_type": "stream",
     "text": [
      "\r",
      "Scraping 28 games on 02/23/25:  73%|███████▎  | 114 of 156 days scraped in 732.2 sec "
     ]
    },
    {
     "name": "stderr",
     "output_type": "stream",
     "text": [
      "\r",
      "Scraping 28 games on 02/23/25:  74%|███████▎  | 115 of 156 days scraped in 735.9 sec"
     ]
    },
    {
     "name": "stderr",
     "output_type": "stream",
     "text": [
      "\r",
      "Scraping 27 games on 02/24/25:  74%|███████▎  | 115 of 156 days scraped in 736.4 sec"
     ]
    },
    {
     "name": "stderr",
     "output_type": "stream",
     "text": [
      "\r",
      "Scraping 27 games on 02/24/25:  74%|███████▍  | 116 of 156 days scraped in 740.1 sec"
     ]
    },
    {
     "name": "stderr",
     "output_type": "stream",
     "text": [
      "\r",
      "Scraping 35 games on 02/25/25:  74%|███████▍  | 116 of 156 days scraped in 740.9 sec"
     ]
    },
    {
     "name": "stderr",
     "output_type": "stream",
     "text": [
      "\r",
      "Scraping 35 games on 02/25/25:  75%|███████▌  | 117 of 156 days scraped in 745.3 sec"
     ]
    },
    {
     "name": "stderr",
     "output_type": "stream",
     "text": [
      "\r",
      "Scraping 54 games on 02/26/25:  75%|███████▌  | 117 of 156 days scraped in 746.3 sec"
     ]
    },
    {
     "name": "stderr",
     "output_type": "stream",
     "text": [
      "\r",
      "Scraping 54 games on 02/26/25:  76%|███████▌  | 118 of 156 days scraped in 753.1 sec"
     ]
    },
    {
     "name": "stderr",
     "output_type": "stream",
     "text": [
      "\r",
      "Scraping 54 games on 02/27/25:  76%|███████▌  | 118 of 156 days scraped in 753.8 sec"
     ]
    },
    {
     "name": "stderr",
     "output_type": "stream",
     "text": [
      "\r",
      "Scraping 54 games on 02/27/25:  76%|███████▋  | 119 of 156 days scraped in 761.3 sec"
     ]
    },
    {
     "name": "stderr",
     "output_type": "stream",
     "text": [
      "\r",
      "Scraping 23 games on 02/28/25:  76%|███████▋  | 119 of 156 days scraped in 761.7 sec"
     ]
    },
    {
     "name": "stderr",
     "output_type": "stream",
     "text": [
      "\r",
      "Scraping 23 games on 02/28/25:  77%|███████▋  | 120 of 156 days scraped in 764.7 sec"
     ]
    },
    {
     "name": "stderr",
     "output_type": "stream",
     "text": [
      "\r",
      "Scraping 133 games on 03/01/25:  77%|███████▋  | 120 of 156 days scraped in 766.5 sec"
     ]
    },
    {
     "name": "stderr",
     "output_type": "stream",
     "text": [
      "\r",
      "Scraping 133 games on 03/01/25:  78%|███████▊  | 121 of 156 days scraped in 783.3 sec"
     ]
    },
    {
     "name": "stderr",
     "output_type": "stream",
     "text": [
      "\r",
      "Scraping 23 games on 03/02/25:  78%|███████▊  | 121 of 156 days scraped in 783.8 sec "
     ]
    },
    {
     "name": "stderr",
     "output_type": "stream",
     "text": [
      "\r",
      "Scraping 23 games on 03/02/25:  78%|███████▊  | 122 of 156 days scraped in 787.1 sec"
     ]
    },
    {
     "name": "stderr",
     "output_type": "stream",
     "text": [
      "\r",
      "Scraping 27 games on 03/03/25:  78%|███████▊  | 122 of 156 days scraped in 787.5 sec"
     ]
    },
    {
     "name": "stderr",
     "output_type": "stream",
     "text": [
      "\r",
      "Scraping 27 games on 03/03/25:  79%|███████▉  | 123 of 156 days scraped in 790.8 sec"
     ]
    },
    {
     "name": "stderr",
     "output_type": "stream",
     "text": [
      "\r",
      "Scraping 44 games on 03/04/25:  79%|███████▉  | 123 of 156 days scraped in 790.9 sec"
     ]
    },
    {
     "name": "stderr",
     "output_type": "stream",
     "text": [
      "\r",
      "Scraping 44 games on 03/04/25:  79%|███████▉  | 124 of 156 days scraped in 796.8 sec"
     ]
    },
    {
     "name": "stderr",
     "output_type": "stream",
     "text": [
      "\r",
      "Scraping 31 games on 03/05/25:  79%|███████▉  | 124 of 156 days scraped in 797.2 sec"
     ]
    },
    {
     "name": "stderr",
     "output_type": "stream",
     "text": [
      "\r",
      "Scraping 31 games on 03/05/25:  80%|████████  | 125 of 156 days scraped in 801.3 sec"
     ]
    },
    {
     "name": "stderr",
     "output_type": "stream",
     "text": [
      "\r",
      "Scraping 53 games on 03/06/25:  80%|████████  | 125 of 156 days scraped in 801.9 sec"
     ]
    },
    {
     "name": "stderr",
     "output_type": "stream",
     "text": [
      "\r",
      "Scraping 53 games on 03/06/25:  81%|████████  | 126 of 156 days scraped in 808.5 sec"
     ]
    },
    {
     "name": "stderr",
     "output_type": "stream",
     "text": [
      "\r",
      "Scraping 31 games on 03/07/25:  81%|████████  | 126 of 156 days scraped in 809.1 sec"
     ]
    },
    {
     "name": "stderr",
     "output_type": "stream",
     "text": [
      "\r",
      "Scraping 31 games on 03/07/25:  81%|████████▏ | 127 of 156 days scraped in 813.2 sec"
     ]
    },
    {
     "name": "stderr",
     "output_type": "stream",
     "text": [
      "\r",
      "Scraping 100 games on 03/08/25:  81%|████████▏ | 127 of 156 days scraped in 814.1 sec"
     ]
    },
    {
     "name": "stderr",
     "output_type": "stream",
     "text": [
      "\r",
      "Scraping 100 games on 03/08/25:  82%|████████▏ | 128 of 156 days scraped in 826.4 sec"
     ]
    },
    {
     "name": "stderr",
     "output_type": "stream",
     "text": [
      "\r",
      "Scraping 29 games on 03/09/25:  82%|████████▏ | 128 of 156 days scraped in 827.2 sec "
     ]
    },
    {
     "name": "stderr",
     "output_type": "stream",
     "text": [
      "\r",
      "Scraping 29 games on 03/09/25:  83%|████████▎ | 129 of 156 days scraped in 831.4 sec"
     ]
    },
    {
     "name": "stderr",
     "output_type": "stream",
     "text": [
      "\r",
      "Scraping 12 games on 03/10/25:  83%|████████▎ | 129 of 156 days scraped in 832.1 sec"
     ]
    },
    {
     "name": "stderr",
     "output_type": "stream",
     "text": [
      "\r",
      "Scraping 12 games on 03/10/25:  83%|████████▎ | 130 of 156 days scraped in 833.6 sec"
     ]
    },
    {
     "name": "stderr",
     "output_type": "stream",
     "text": [
      "\r",
      "Scraping 24 games on 03/11/25:  83%|████████▎ | 130 of 156 days scraped in 834.2 sec"
     ]
    },
    {
     "name": "stderr",
     "output_type": "stream",
     "text": [
      "\r",
      "Scraping 24 games on 03/11/25:  84%|████████▍ | 131 of 156 days scraped in 837.1 sec"
     ]
    },
    {
     "name": "stderr",
     "output_type": "stream",
     "text": [
      "\r",
      "Scraping 40 games on 03/12/25:  84%|████████▍ | 131 of 156 days scraped in 837.7 sec"
     ]
    },
    {
     "name": "stderr",
     "output_type": "stream",
     "text": [
      "\r",
      "Scraping 40 games on 03/12/25:  85%|████████▍ | 132 of 156 days scraped in 842.8 sec"
     ]
    },
    {
     "name": "stderr",
     "output_type": "stream",
     "text": [
      "\r",
      "Scraping 48 games on 03/13/25:  85%|████████▍ | 132 of 156 days scraped in 843.4 sec"
     ]
    },
    {
     "name": "stderr",
     "output_type": "stream",
     "text": [
      "\r",
      "Scraping 48 games on 03/13/25:  85%|████████▌ | 133 of 156 days scraped in 849.6 sec"
     ]
    },
    {
     "name": "stderr",
     "output_type": "stream",
     "text": [
      "\r",
      "Scraping 38 games on 03/14/25:  85%|████████▌ | 133 of 156 days scraped in 850.2 sec"
     ]
    },
    {
     "name": "stderr",
     "output_type": "stream",
     "text": [
      "\r",
      "Scraping 38 games on 03/14/25:  86%|████████▌ | 134 of 156 days scraped in 855.8 sec"
     ]
    },
    {
     "name": "stderr",
     "output_type": "stream",
     "text": [
      "\r",
      "Scraping 22 games on 03/15/25:  86%|████████▌ | 134 of 156 days scraped in 856.2 sec"
     ]
    },
    {
     "name": "stderr",
     "output_type": "stream",
     "text": [
      "\r",
      "Scraping 22 games on 03/15/25:  87%|████████▋ | 135 of 156 days scraped in 859.5 sec"
     ]
    },
    {
     "name": "stderr",
     "output_type": "stream",
     "text": [
      "\r",
      "Scraping 5 games on 03/16/25:  87%|████████▋ | 135 of 156 days scraped in 859.8 sec "
     ]
    },
    {
     "name": "stderr",
     "output_type": "stream",
     "text": [
      "\r",
      "Scraping 5 games on 03/16/25:  87%|████████▋ | 136 of 156 days scraped in 860.6 sec"
     ]
    },
    {
     "name": "stderr",
     "output_type": "stream",
     "text": [
      "\r",
      "Scraping 0 games on 03/17/25:  87%|████████▋ | 136 of 156 days scraped in 860.9 sec"
     ]
    },
    {
     "name": "stderr",
     "output_type": "stream",
     "text": [
      "\r",
      "No games on 03/17/25:  88%|████████▊ | 137 of 156 days scraped in 860.9 sec        "
     ]
    },
    {
     "name": "stderr",
     "output_type": "stream",
     "text": [
      "\r",
      "Scraping 9 games on 03/18/25:  88%|████████▊ | 137 of 156 days scraped in 861.2 sec"
     ]
    },
    {
     "name": "stderr",
     "output_type": "stream",
     "text": [
      "\r",
      "Scraping 9 games on 03/18/25:  88%|████████▊ | 138 of 156 days scraped in 862.6 sec"
     ]
    },
    {
     "name": "stderr",
     "output_type": "stream",
     "text": [
      "\r",
      "Scraping 11 games on 03/19/25:  88%|████████▊ | 138 of 156 days scraped in 863.2 sec"
     ]
    },
    {
     "name": "stderr",
     "output_type": "stream",
     "text": [
      "\r",
      "Scraping 11 games on 03/19/25:  89%|████████▉ | 139 of 156 days scraped in 864.6 sec"
     ]
    },
    {
     "name": "stderr",
     "output_type": "stream",
     "text": [
      "\r",
      "Scraping 16 games on 03/20/25:  89%|████████▉ | 139 of 156 days scraped in 864.9 sec"
     ]
    },
    {
     "name": "stderr",
     "output_type": "stream",
     "text": [
      "\r",
      "Scraping 16 games on 03/20/25:  90%|████████▉ | 140 of 156 days scraped in 866.5 sec"
     ]
    },
    {
     "name": "stderr",
     "output_type": "stream",
     "text": [
      "\r",
      "Scraping 16 games on 03/21/25:  90%|████████▉ | 140 of 156 days scraped in 866.9 sec"
     ]
    },
    {
     "name": "stderr",
     "output_type": "stream",
     "text": [
      "\r",
      "Scraping 16 games on 03/21/25:  90%|█████████ | 141 of 156 days scraped in 868.4 sec"
     ]
    },
    {
     "name": "stderr",
     "output_type": "stream",
     "text": [
      "\r",
      "Scraping 10 games on 03/22/25:  90%|█████████ | 141 of 156 days scraped in 868.7 sec"
     ]
    },
    {
     "name": "stderr",
     "output_type": "stream",
     "text": [
      "\r",
      "Scraping 10 games on 03/22/25:  91%|█████████ | 142 of 156 days scraped in 869.6 sec"
     ]
    },
    {
     "name": "stderr",
     "output_type": "stream",
     "text": [
      "\r",
      "Scraping 18 games on 03/23/25:  91%|█████████ | 142 of 156 days scraped in 870.0 sec"
     ]
    },
    {
     "name": "stderr",
     "output_type": "stream",
     "text": [
      "\r",
      "Scraping 18 games on 03/23/25:  92%|█████████▏| 143 of 156 days scraped in 872.2 sec"
     ]
    },
    {
     "name": "stderr",
     "output_type": "stream",
     "text": [
      "\r",
      "Scraping 3 games on 03/24/25:  92%|█████████▏| 143 of 156 days scraped in 872.5 sec "
     ]
    },
    {
     "name": "stderr",
     "output_type": "stream",
     "text": [
      "\r",
      "Scraping 3 games on 03/24/25:  92%|█████████▏| 144 of 156 days scraped in 873.1 sec"
     ]
    },
    {
     "name": "stderr",
     "output_type": "stream",
     "text": [
      "\r",
      "Scraping 4 games on 03/25/25:  92%|█████████▏| 144 of 156 days scraped in 873.4 sec"
     ]
    },
    {
     "name": "stderr",
     "output_type": "stream",
     "text": [
      "\r",
      "Scraping 4 games on 03/25/25:  93%|█████████▎| 145 of 156 days scraped in 874.2 sec"
     ]
    },
    {
     "name": "stderr",
     "output_type": "stream",
     "text": [
      "\r",
      "Scraping 3 games on 03/26/25:  93%|█████████▎| 145 of 156 days scraped in 874.5 sec"
     ]
    },
    {
     "name": "stderr",
     "output_type": "stream",
     "text": [
      "\r",
      "Scraping 3 games on 03/26/25:  94%|█████████▎| 146 of 156 days scraped in 874.8 sec"
     ]
    },
    {
     "name": "stderr",
     "output_type": "stream",
     "text": [
      "\r",
      "Scraping 4 games on 03/27/25:  94%|█████████▎| 146 of 156 days scraped in 875.3 sec"
     ]
    },
    {
     "name": "stderr",
     "output_type": "stream",
     "text": [
      "\r",
      "Scraping 4 games on 03/27/25:  94%|█████████▍| 147 of 156 days scraped in 875.6 sec"
     ]
    },
    {
     "name": "stderr",
     "output_type": "stream",
     "text": [
      "\r",
      "Scraping 4 games on 03/28/25:  94%|█████████▍| 147 of 156 days scraped in 875.9 sec"
     ]
    },
    {
     "name": "stderr",
     "output_type": "stream",
     "text": [
      "\r",
      "Scraping 4 games on 03/28/25:  95%|█████████▍| 148 of 156 days scraped in 876.4 sec"
     ]
    },
    {
     "name": "stderr",
     "output_type": "stream",
     "text": [
      "\r",
      "Scraping 2 games on 03/29/25:  95%|█████████▍| 148 of 156 days scraped in 876.7 sec"
     ]
    },
    {
     "name": "stderr",
     "output_type": "stream",
     "text": [
      "\r",
      "Scraping 2 games on 03/29/25:  96%|█████████▌| 149 of 156 days scraped in 877.3 sec"
     ]
    },
    {
     "name": "stderr",
     "output_type": "stream",
     "text": [
      "\r",
      "Scraping 2 games on 03/30/25:  96%|█████████▌| 149 of 156 days scraped in 877.6 sec"
     ]
    },
    {
     "name": "stderr",
     "output_type": "stream",
     "text": [
      "\r",
      "Scraping 2 games on 03/30/25:  96%|█████████▌| 150 of 156 days scraped in 877.7 sec"
     ]
    },
    {
     "name": "stderr",
     "output_type": "stream",
     "text": [
      "\r",
      "Scraping 4 games on 03/31/25:  96%|█████████▌| 150 of 156 days scraped in 878.3 sec"
     ]
    },
    {
     "name": "stderr",
     "output_type": "stream",
     "text": [
      "\r",
      "Scraping 4 games on 03/31/25:  97%|█████████▋| 151 of 156 days scraped in 879.0 sec"
     ]
    },
    {
     "name": "stderr",
     "output_type": "stream",
     "text": [
      "\r",
      "Scraping 6 games on 04/01/25:  97%|█████████▋| 151 of 156 days scraped in 879.7 sec"
     ]
    },
    {
     "name": "stderr",
     "output_type": "stream",
     "text": [
      "\r",
      "Scraping 6 games on 04/01/25:  97%|█████████▋| 152 of 156 days scraped in 880.7 sec"
     ]
    },
    {
     "name": "stderr",
     "output_type": "stream",
     "text": [
      "\r",
      "Scraping 2 games on 04/02/25:  97%|█████████▋| 152 of 156 days scraped in 881.3 sec"
     ]
    },
    {
     "name": "stderr",
     "output_type": "stream",
     "text": [
      "\r",
      "Scraping 2 games on 04/02/25:  98%|█████████▊| 153 of 156 days scraped in 881.7 sec"
     ]
    },
    {
     "name": "stderr",
     "output_type": "stream",
     "text": [
      "\r",
      "Scraping 3 games on 04/03/25:  98%|█████████▊| 153 of 156 days scraped in 881.9 sec"
     ]
    },
    {
     "name": "stderr",
     "output_type": "stream",
     "text": [
      "\r",
      "Scraping 3 games on 04/03/25:  99%|█████████▊| 154 of 156 days scraped in 882.6 sec"
     ]
    },
    {
     "name": "stderr",
     "output_type": "stream",
     "text": [
      "\r",
      "Scraping 0 games on 04/04/25:  99%|█████████▊| 154 of 156 days scraped in 883.2 sec"
     ]
    },
    {
     "name": "stderr",
     "output_type": "stream",
     "text": [
      "\r",
      "No games on 04/04/25:  99%|█████████▉| 155 of 156 days scraped in 883.2 sec        "
     ]
    },
    {
     "name": "stderr",
     "output_type": "stream",
     "text": [
      "\r",
      "Scraping 4 games on 04/05/25:  99%|█████████▉| 155 of 156 days scraped in 883.5 sec"
     ]
    },
    {
     "name": "stderr",
     "output_type": "stream",
     "text": [
      "\r",
      "Scraping 4 games on 04/05/25: 100%|██████████| 156 of 156 days scraped in 884.1 sec"
     ]
    },
    {
     "name": "stderr",
     "output_type": "stream",
     "text": [
      "\r",
      "Scraping 4 games on 04/05/25: 100%|██████████| 156 of 156 days scraped in 884.1 sec"
     ]
    },
    {
     "name": "stderr",
     "output_type": "stream",
     "text": [
      "\n"
     ]
    },
    {
     "name": "stdout",
     "output_type": "stream",
     "text": [
      "Log file is located at /home/runner/.local/state/CBBpy/2.1.2/log/CBBpy.log\n"
     ]
    }
   ],
   "source": [
    "import pandas as pd\n",
    "import cbbpy.mens_scraper as s\n",
    "\n",
    "# Create data frames for each season of game info\n",
    "\n",
    "df_2025 = s.get_games_season(2025, box = False, pbp = False)\n"
   ]
  },
  {
   "cell_type": "code",
   "execution_count": 2,
   "metadata": {
    "execution": {
     "iopub.execute_input": "2025-04-05T12:20:07.925363Z",
     "iopub.status.busy": "2025-04-05T12:20:07.924932Z",
     "iopub.status.idle": "2025-04-05T12:20:07.948433Z",
     "shell.execute_reply": "2025-04-05T12:20:07.947976Z"
    }
   },
   "outputs": [
    {
     "data": {
      "text/html": [
       "<div>\n",
       "<style scoped>\n",
       "    .dataframe tbody tr th:only-of-type {\n",
       "        vertical-align: middle;\n",
       "    }\n",
       "\n",
       "    .dataframe tbody tr th {\n",
       "        vertical-align: top;\n",
       "    }\n",
       "\n",
       "    .dataframe thead th {\n",
       "        text-align: right;\n",
       "    }\n",
       "</style>\n",
       "<table border=\"1\" class=\"dataframe\">\n",
       "  <thead>\n",
       "    <tr style=\"text-align: right;\">\n",
       "      <th></th>\n",
       "      <th>game_id</th>\n",
       "      <th>game_status</th>\n",
       "      <th>home_team</th>\n",
       "      <th>home_id</th>\n",
       "      <th>home_rank</th>\n",
       "      <th>home_record</th>\n",
       "      <th>home_score</th>\n",
       "      <th>away_team</th>\n",
       "      <th>away_id</th>\n",
       "      <th>away_rank</th>\n",
       "      <th>...</th>\n",
       "      <th>game_day</th>\n",
       "      <th>game_time</th>\n",
       "      <th>game_loc</th>\n",
       "      <th>arena</th>\n",
       "      <th>arena_capacity</th>\n",
       "      <th>attendance</th>\n",
       "      <th>tv_network</th>\n",
       "      <th>referee_1</th>\n",
       "      <th>referee_2</th>\n",
       "      <th>referee_3</th>\n",
       "    </tr>\n",
       "  </thead>\n",
       "  <tbody>\n",
       "    <tr>\n",
       "      <th>0</th>\n",
       "      <td>401727499</td>\n",
       "      <td>Final</td>\n",
       "      <td>IU Indianapolis Jaguars</td>\n",
       "      <td>85</td>\n",
       "      <td>NaN</td>\n",
       "      <td>1-0</td>\n",
       "      <td>100</td>\n",
       "      <td>IU Columbus Crimson Pride</td>\n",
       "      <td>nd-iu-columbus-crimson-pride</td>\n",
       "      <td>NaN</td>\n",
       "      <td>...</td>\n",
       "      <td>November 04, 2024</td>\n",
       "      <td>08:00 AM PST</td>\n",
       "      <td>Indianapolis, IN</td>\n",
       "      <td>Corteva Coliseum</td>\n",
       "      <td>NaN</td>\n",
       "      <td>3716.0</td>\n",
       "      <td>ESPN+</td>\n",
       "      <td>Rod Mrakovich</td>\n",
       "      <td>Martin Spencer</td>\n",
       "      <td>Adam Sensibaugh</td>\n",
       "    </tr>\n",
       "    <tr>\n",
       "      <th>1</th>\n",
       "      <td>401715872</td>\n",
       "      <td>Final</td>\n",
       "      <td>Southern Illinois Salukis</td>\n",
       "      <td>79</td>\n",
       "      <td>NaN</td>\n",
       "      <td>0-1</td>\n",
       "      <td>80</td>\n",
       "      <td>Charleston Cougars</td>\n",
       "      <td>232</td>\n",
       "      <td>NaN</td>\n",
       "      <td>...</td>\n",
       "      <td>November 04, 2024</td>\n",
       "      <td>09:00 AM PST</td>\n",
       "      <td>Sioux Falls, SD</td>\n",
       "      <td>Sanford Pentagon</td>\n",
       "      <td>NaN</td>\n",
       "      <td>0.0</td>\n",
       "      <td></td>\n",
       "      <td>Brad Ferrie</td>\n",
       "      <td>Antinio Petty</td>\n",
       "      <td>Ben Wolfe</td>\n",
       "    </tr>\n",
       "    <tr>\n",
       "      <th>2</th>\n",
       "      <td>401725796</td>\n",
       "      <td>Final</td>\n",
       "      <td>UT Arlington Mavericks</td>\n",
       "      <td>250</td>\n",
       "      <td>NaN</td>\n",
       "      <td>1-0</td>\n",
       "      <td>90</td>\n",
       "      <td>UNT Dallas Trailblazers</td>\n",
       "      <td>nd-unt-dallas-trailblazers</td>\n",
       "      <td>NaN</td>\n",
       "      <td>...</td>\n",
       "      <td>November 04, 2024</td>\n",
       "      <td>09:00 AM PST</td>\n",
       "      <td>Arlington, TX</td>\n",
       "      <td>College Park Center</td>\n",
       "      <td>NaN</td>\n",
       "      <td>1001.0</td>\n",
       "      <td>ESPN+</td>\n",
       "      <td>Doug George</td>\n",
       "      <td>Randal Anders</td>\n",
       "      <td>Trenton Chaney</td>\n",
       "    </tr>\n",
       "    <tr>\n",
       "      <th>3</th>\n",
       "      <td>401726400</td>\n",
       "      <td>Final</td>\n",
       "      <td>Middle Tennessee Blue Raiders</td>\n",
       "      <td>2393</td>\n",
       "      <td>NaN</td>\n",
       "      <td>1-0</td>\n",
       "      <td>97</td>\n",
       "      <td>Oglethorpe Stormy Petrels</td>\n",
       "      <td>nd-oglethorpe-stormy-petrels</td>\n",
       "      <td>NaN</td>\n",
       "      <td>...</td>\n",
       "      <td>November 04, 2024</td>\n",
       "      <td>09:00 AM PST</td>\n",
       "      <td>Murfreesboro, TN</td>\n",
       "      <td>Murphy Center</td>\n",
       "      <td>NaN</td>\n",
       "      <td>7501.0</td>\n",
       "      <td>ESPN+</td>\n",
       "      <td>Kevin Mathis</td>\n",
       "      <td>James Curran</td>\n",
       "      <td>Klajdi Mulla</td>\n",
       "    </tr>\n",
       "    <tr>\n",
       "      <th>4</th>\n",
       "      <td>401726395</td>\n",
       "      <td>Final</td>\n",
       "      <td>Jacksonville State Gamecocks</td>\n",
       "      <td>55</td>\n",
       "      <td>NaN</td>\n",
       "      <td>1-0</td>\n",
       "      <td>112</td>\n",
       "      <td>LaGrange Panthers</td>\n",
       "      <td>nd-lagrange-panthers</td>\n",
       "      <td>NaN</td>\n",
       "      <td>...</td>\n",
       "      <td>November 04, 2024</td>\n",
       "      <td>09:30 AM PST</td>\n",
       "      <td>Jacksonville, AL</td>\n",
       "      <td>Pete Mathews Coliseum</td>\n",
       "      <td>NaN</td>\n",
       "      <td>2055.0</td>\n",
       "      <td>ESPN+</td>\n",
       "      <td>Barry Mathis</td>\n",
       "      <td>Nick Meyer</td>\n",
       "      <td>Jeremy Trussell</td>\n",
       "    </tr>\n",
       "    <tr>\n",
       "      <th>...</th>\n",
       "      <td>...</td>\n",
       "      <td>...</td>\n",
       "      <td>...</td>\n",
       "      <td>...</td>\n",
       "      <td>...</td>\n",
       "      <td>...</td>\n",
       "      <td>...</td>\n",
       "      <td>...</td>\n",
       "      <td>...</td>\n",
       "      <td>...</td>\n",
       "      <td>...</td>\n",
       "      <td>...</td>\n",
       "      <td>...</td>\n",
       "      <td>...</td>\n",
       "      <td>...</td>\n",
       "      <td>...</td>\n",
       "      <td>...</td>\n",
       "      <td>...</td>\n",
       "      <td>...</td>\n",
       "      <td>...</td>\n",
       "      <td>...</td>\n",
       "    </tr>\n",
       "    <tr>\n",
       "      <th>6292</th>\n",
       "      <td>401758630</td>\n",
       "      <td>Final</td>\n",
       "      <td>USC Trojans</td>\n",
       "      <td>30</td>\n",
       "      <td>NaN</td>\n",
       "      <td>17-18</td>\n",
       "      <td>59</td>\n",
       "      <td>Villanova Wildcats</td>\n",
       "      <td>222</td>\n",
       "      <td>NaN</td>\n",
       "      <td>...</td>\n",
       "      <td>April 03, 2025</td>\n",
       "      <td>06:30 PM PDT</td>\n",
       "      <td>Las Vegas, NV</td>\n",
       "      <td>MGM Grand Garden Arena</td>\n",
       "      <td>NaN</td>\n",
       "      <td>2279.0</td>\n",
       "      <td>FS1</td>\n",
       "      <td>Gregory Nixon</td>\n",
       "      <td>Tony Henderson</td>\n",
       "      <td>Randy Richardson</td>\n",
       "    </tr>\n",
       "    <tr>\n",
       "      <th>6293</th>\n",
       "      <td>401758632</td>\n",
       "      <td>Scheduled</td>\n",
       "      <td>Nebraska Cornhuskers</td>\n",
       "      <td>158</td>\n",
       "      <td>NaN</td>\n",
       "      <td>19-14</td>\n",
       "      <td>0</td>\n",
       "      <td>Boise State Broncos</td>\n",
       "      <td>68</td>\n",
       "      <td>NaN</td>\n",
       "      <td>...</td>\n",
       "      <td>April 05, 2025</td>\n",
       "      <td>10:30 AM PDT</td>\n",
       "      <td>Las Vegas, NV</td>\n",
       "      <td>T-Mobile Arena</td>\n",
       "      <td>NaN</td>\n",
       "      <td>NaN</td>\n",
       "      <td>FOX</td>\n",
       "      <td></td>\n",
       "      <td></td>\n",
       "      <td></td>\n",
       "    </tr>\n",
       "    <tr>\n",
       "      <th>6294</th>\n",
       "      <td>401758633</td>\n",
       "      <td>Scheduled</td>\n",
       "      <td>Villanova Wildcats</td>\n",
       "      <td>222</td>\n",
       "      <td>NaN</td>\n",
       "      <td>21-14</td>\n",
       "      <td>0</td>\n",
       "      <td>UCF Knights</td>\n",
       "      <td>2116</td>\n",
       "      <td>NaN</td>\n",
       "      <td>...</td>\n",
       "      <td>April 05, 2025</td>\n",
       "      <td>01:00 PM PDT</td>\n",
       "      <td>Las Vegas, NV</td>\n",
       "      <td>T-Mobile Arena</td>\n",
       "      <td>NaN</td>\n",
       "      <td>NaN</td>\n",
       "      <td>FOX</td>\n",
       "      <td></td>\n",
       "      <td></td>\n",
       "      <td></td>\n",
       "    </tr>\n",
       "    <tr>\n",
       "      <th>6295</th>\n",
       "      <td>401746081</td>\n",
       "      <td>Scheduled</td>\n",
       "      <td>Auburn Tigers</td>\n",
       "      <td>2</td>\n",
       "      <td>1.0</td>\n",
       "      <td>32-5</td>\n",
       "      <td>0</td>\n",
       "      <td>Florida Gators</td>\n",
       "      <td>57</td>\n",
       "      <td>1.0</td>\n",
       "      <td>...</td>\n",
       "      <td>April 05, 2025</td>\n",
       "      <td>03:09 PM PDT</td>\n",
       "      <td>San Antonio, TX</td>\n",
       "      <td>Alamodome</td>\n",
       "      <td>NaN</td>\n",
       "      <td>NaN</td>\n",
       "      <td>CBS</td>\n",
       "      <td></td>\n",
       "      <td></td>\n",
       "      <td></td>\n",
       "    </tr>\n",
       "    <tr>\n",
       "      <th>6296</th>\n",
       "      <td>401746080</td>\n",
       "      <td>Scheduled</td>\n",
       "      <td>Duke Blue Devils</td>\n",
       "      <td>150</td>\n",
       "      <td>1.0</td>\n",
       "      <td>35-3</td>\n",
       "      <td>0</td>\n",
       "      <td>Houston Cougars</td>\n",
       "      <td>248</td>\n",
       "      <td>1.0</td>\n",
       "      <td>...</td>\n",
       "      <td>April 05, 2025</td>\n",
       "      <td>05:49 PM PDT</td>\n",
       "      <td>San Antonio, TX</td>\n",
       "      <td>Alamodome</td>\n",
       "      <td>NaN</td>\n",
       "      <td>NaN</td>\n",
       "      <td>CBS</td>\n",
       "      <td></td>\n",
       "      <td></td>\n",
       "      <td></td>\n",
       "    </tr>\n",
       "  </tbody>\n",
       "</table>\n",
       "<p>6297 rows × 29 columns</p>\n",
       "</div>"
      ],
      "text/plain": [
       "        game_id game_status                      home_team home_id  home_rank  \\\n",
       "0     401727499       Final        IU Indianapolis Jaguars      85        NaN   \n",
       "1     401715872       Final      Southern Illinois Salukis      79        NaN   \n",
       "2     401725796       Final         UT Arlington Mavericks     250        NaN   \n",
       "3     401726400       Final  Middle Tennessee Blue Raiders    2393        NaN   \n",
       "4     401726395       Final   Jacksonville State Gamecocks      55        NaN   \n",
       "...         ...         ...                            ...     ...        ...   \n",
       "6292  401758630       Final                    USC Trojans      30        NaN   \n",
       "6293  401758632   Scheduled           Nebraska Cornhuskers     158        NaN   \n",
       "6294  401758633   Scheduled             Villanova Wildcats     222        NaN   \n",
       "6295  401746081   Scheduled                  Auburn Tigers       2        1.0   \n",
       "6296  401746080   Scheduled               Duke Blue Devils     150        1.0   \n",
       "\n",
       "     home_record  home_score                  away_team  \\\n",
       "0            1-0         100  IU Columbus Crimson Pride   \n",
       "1            0-1          80         Charleston Cougars   \n",
       "2            1-0          90    UNT Dallas Trailblazers   \n",
       "3            1-0          97  Oglethorpe Stormy Petrels   \n",
       "4            1-0         112          LaGrange Panthers   \n",
       "...          ...         ...                        ...   \n",
       "6292       17-18          59         Villanova Wildcats   \n",
       "6293       19-14           0        Boise State Broncos   \n",
       "6294       21-14           0                UCF Knights   \n",
       "6295        32-5           0             Florida Gators   \n",
       "6296        35-3           0            Houston Cougars   \n",
       "\n",
       "                           away_id  away_rank  ...           game_day  \\\n",
       "0     nd-iu-columbus-crimson-pride        NaN  ...  November 04, 2024   \n",
       "1                              232        NaN  ...  November 04, 2024   \n",
       "2       nd-unt-dallas-trailblazers        NaN  ...  November 04, 2024   \n",
       "3     nd-oglethorpe-stormy-petrels        NaN  ...  November 04, 2024   \n",
       "4             nd-lagrange-panthers        NaN  ...  November 04, 2024   \n",
       "...                            ...        ...  ...                ...   \n",
       "6292                           222        NaN  ...     April 03, 2025   \n",
       "6293                            68        NaN  ...     April 05, 2025   \n",
       "6294                          2116        NaN  ...     April 05, 2025   \n",
       "6295                            57        1.0  ...     April 05, 2025   \n",
       "6296                           248        1.0  ...     April 05, 2025   \n",
       "\n",
       "         game_time          game_loc                   arena  arena_capacity  \\\n",
       "0     08:00 AM PST  Indianapolis, IN        Corteva Coliseum             NaN   \n",
       "1     09:00 AM PST   Sioux Falls, SD        Sanford Pentagon             NaN   \n",
       "2     09:00 AM PST     Arlington, TX     College Park Center             NaN   \n",
       "3     09:00 AM PST  Murfreesboro, TN           Murphy Center             NaN   \n",
       "4     09:30 AM PST  Jacksonville, AL   Pete Mathews Coliseum             NaN   \n",
       "...            ...               ...                     ...             ...   \n",
       "6292  06:30 PM PDT     Las Vegas, NV  MGM Grand Garden Arena             NaN   \n",
       "6293  10:30 AM PDT     Las Vegas, NV          T-Mobile Arena             NaN   \n",
       "6294  01:00 PM PDT     Las Vegas, NV          T-Mobile Arena             NaN   \n",
       "6295  03:09 PM PDT   San Antonio, TX               Alamodome             NaN   \n",
       "6296  05:49 PM PDT   San Antonio, TX               Alamodome             NaN   \n",
       "\n",
       "      attendance  tv_network      referee_1       referee_2         referee_3  \n",
       "0         3716.0       ESPN+  Rod Mrakovich  Martin Spencer   Adam Sensibaugh  \n",
       "1            0.0                Brad Ferrie   Antinio Petty         Ben Wolfe  \n",
       "2         1001.0       ESPN+    Doug George   Randal Anders    Trenton Chaney  \n",
       "3         7501.0       ESPN+   Kevin Mathis    James Curran      Klajdi Mulla  \n",
       "4         2055.0       ESPN+   Barry Mathis      Nick Meyer   Jeremy Trussell  \n",
       "...          ...         ...            ...             ...               ...  \n",
       "6292      2279.0         FS1  Gregory Nixon  Tony Henderson  Randy Richardson  \n",
       "6293         NaN         FOX                                                   \n",
       "6294         NaN         FOX                                                   \n",
       "6295         NaN         CBS                                                   \n",
       "6296         NaN         CBS                                                   \n",
       "\n",
       "[6297 rows x 29 columns]"
      ]
     },
     "execution_count": 2,
     "metadata": {},
     "output_type": "execute_result"
    }
   ],
   "source": [
    "df_2025_game_info = df_2025[0]\n",
    "df_2025_game_info"
   ]
  },
  {
   "cell_type": "code",
   "execution_count": 3,
   "metadata": {
    "execution": {
     "iopub.execute_input": "2025-04-05T12:20:07.950077Z",
     "iopub.status.busy": "2025-04-05T12:20:07.949899Z",
     "iopub.status.idle": "2025-04-05T12:20:08.008831Z",
     "shell.execute_reply": "2025-04-05T12:20:08.008359Z"
    }
   },
   "outputs": [
    {
     "name": "stdout",
     "output_type": "stream",
     "text": [
      "Exported 6286 completed games to Completed_Games.csv\n",
      "Exported 5 upcoming games to Upcoming_Games.csv\n"
     ]
    }
   ],
   "source": [
    "# Filter games by status and export to CSV files\n",
    "\n",
    "# Get completed games (status = 'Final')\n",
    "completed_games = df_2025_game_info[df_2025_game_info['game_status'] == 'Final']\n",
    "\n",
    "# Get upcoming games (status = 'Scheduled')\n",
    "upcoming_games = df_2025_game_info[df_2025_game_info['game_status'] == 'Scheduled']\n",
    "\n",
    "# Export to CSV files\n",
    "completed_games.to_csv('Completed_Games.csv', index=False)\n",
    "upcoming_games.to_csv('Upcoming_Games.csv', index=False)\n",
    "\n",
    "# Print summary\n",
    "print(f\"Exported {len(completed_games)} completed games to Completed_Games.csv\")\n",
    "print(f\"Exported {len(upcoming_games)} upcoming games to Upcoming_Games.csv\")"
   ]
  }
 ],
 "metadata": {
  "kernelspec": {
   "display_name": "Python 3",
   "language": "python",
   "name": "python3"
  },
  "language_info": {
   "codemirror_mode": {
    "name": "ipython",
    "version": 3
   },
   "file_extension": ".py",
   "mimetype": "text/x-python",
   "name": "python",
   "nbconvert_exporter": "python",
   "pygments_lexer": "ipython3",
   "version": "3.13.2"
  }
 },
 "nbformat": 4,
 "nbformat_minor": 2
}
