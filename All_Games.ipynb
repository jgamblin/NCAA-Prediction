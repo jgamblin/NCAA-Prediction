{
 "cells": [
  {
   "cell_type": "code",
   "execution_count": 1,
   "metadata": {
    "execution": {
     "iopub.execute_input": "2025-08-22T12:06:32.255077Z",
     "iopub.status.busy": "2025-08-22T12:06:32.254900Z",
     "iopub.status.idle": "2025-08-22T12:23:26.808452Z",
     "shell.execute_reply": "2025-08-22T12:23:26.807881Z"
    }
   },
   "outputs": [
    {
     "name": "stderr",
     "output_type": "stream",
     "text": [
      "\r",
      "  0%|          | 0 of 182 days scraped in 0.0 sec"
     ]
    },
    {
     "name": "stderr",
     "output_type": "stream",
     "text": [
      "\r",
      "Scraping 0 games on 11/01/24:   0%|          | 0 of 182 days scraped in 0.4 sec"
     ]
    },
    {
     "name": "stderr",
     "output_type": "stream",
     "text": [
      "\r",
      "No games on 11/01/24:   1%|          | 1 of 182 days scraped in 0.4 sec        "
     ]
    },
    {
     "name": "stderr",
     "output_type": "stream",
     "text": [
      "\r",
      "Scraping 0 games on 11/02/24:   1%|          | 1 of 182 days scraped in 0.7 sec"
     ]
    },
    {
     "name": "stderr",
     "output_type": "stream",
     "text": [
      "\r",
      "No games on 11/02/24:   1%|          | 2 of 182 days scraped in 0.7 sec        "
     ]
    },
    {
     "name": "stderr",
     "output_type": "stream",
     "text": [
      "\r",
      "Scraping 0 games on 11/03/24:   1%|          | 2 of 182 days scraped in 1.0 sec"
     ]
    },
    {
     "name": "stderr",
     "output_type": "stream",
     "text": [
      "\r",
      "No games on 11/03/24:   2%|▏         | 3 of 182 days scraped in 1.0 sec        "
     ]
    },
    {
     "name": "stderr",
     "output_type": "stream",
     "text": [
      "\r",
      "Scraping 199 games on 11/04/24:   2%|▏         | 3 of 182 days scraped in 2.5 sec"
     ]
    },
    {
     "name": "stderr",
     "output_type": "stream",
     "text": [
      "Traceback (most recent call last):\n",
      "  File \u001b[35m\"/opt/hostedtoolcache/Python/3.13.7/x64/lib/python3.13/multiprocessing/resource_tracker.py\"\u001b[0m, line \u001b[35m295\u001b[0m, in \u001b[35mmain\u001b[0m\n",
      "    raise ValueError(\n",
      "        f'Cannot register {name} for automatic cleanup: '\n",
      "        f'unknown resource type {rtype}')\n",
      "\u001b[1;35mValueError\u001b[0m: \u001b[35mCannot register /dev/shm/joblib_memmapping_folder_2206_58a0a356de4945feafde8409e289ddf1_cee86b6bfd994eec8ee4b9540bdd6f70 for automatic cleanup: unknown resource type folder\u001b[0m\n",
      "Traceback (most recent call last):\n",
      "  File \u001b[35m\"/opt/hostedtoolcache/Python/3.13.7/x64/lib/python3.13/multiprocessing/resource_tracker.py\"\u001b[0m, line \u001b[35m295\u001b[0m, in \u001b[35mmain\u001b[0m\n",
      "    raise ValueError(\n",
      "        f'Cannot register {name} for automatic cleanup: '\n",
      "        f'unknown resource type {rtype}')\n",
      "\u001b[1;35mValueError\u001b[0m: \u001b[35mCannot register /loky-2206-nqmiobu6 for automatic cleanup: unknown resource type semlock\u001b[0m\n",
      "Traceback (most recent call last):\n",
      "  File \u001b[35m\"/opt/hostedtoolcache/Python/3.13.7/x64/lib/python3.13/multiprocessing/resource_tracker.py\"\u001b[0m, line \u001b[35m295\u001b[0m, in \u001b[35mmain\u001b[0m\n",
      "    raise ValueError(\n",
      "        f'Cannot register {name} for automatic cleanup: '\n",
      "        f'unknown resource type {rtype}')\n",
      "\u001b[1;35mValueError\u001b[0m: \u001b[35mCannot register /loky-2206-augczo_y for automatic cleanup: unknown resource type semlock\u001b[0m\n",
      "Traceback (most recent call last):\n",
      "  File \u001b[35m\"/opt/hostedtoolcache/Python/3.13.7/x64/lib/python3.13/multiprocessing/resource_tracker.py\"\u001b[0m, line \u001b[35m295\u001b[0m, in \u001b[35mmain\u001b[0m\n",
      "    raise ValueError(\n",
      "        f'Cannot register {name} for automatic cleanup: '\n",
      "        f'unknown resource type {rtype}')\n",
      "\u001b[1;35mValueError\u001b[0m: \u001b[35mCannot register /loky-2206-de_bfrk3 for automatic cleanup: unknown resource type semlock\u001b[0m\n",
      "Traceback (most recent call last):\n",
      "  File \u001b[35m\"/opt/hostedtoolcache/Python/3.13.7/x64/lib/python3.13/multiprocessing/resource_tracker.py\"\u001b[0m, line \u001b[35m295\u001b[0m, in \u001b[35mmain\u001b[0m\n",
      "    raise ValueError(\n",
      "        f'Cannot register {name} for automatic cleanup: '\n",
      "        f'unknown resource type {rtype}')\n",
      "\u001b[1;35mValueError\u001b[0m: \u001b[35mCannot register /loky-2206-qwdr7sxb for automatic cleanup: unknown resource type semlock\u001b[0m\n",
      "Traceback (most recent call last):\n",
      "  File \u001b[35m\"/opt/hostedtoolcache/Python/3.13.7/x64/lib/python3.13/multiprocessing/resource_tracker.py\"\u001b[0m, line \u001b[35m295\u001b[0m, in \u001b[35mmain\u001b[0m\n",
      "    raise ValueError(\n",
      "        f'Cannot register {name} for automatic cleanup: '\n",
      "        f'unknown resource type {rtype}')\n",
      "\u001b[1;35mValueError\u001b[0m: \u001b[35mCannot register /loky-2206-2qc3pdnx for automatic cleanup: unknown resource type semlock\u001b[0m\n",
      "Traceback (most recent call last):\n",
      "  File \u001b[35m\"/opt/hostedtoolcache/Python/3.13.7/x64/lib/python3.13/multiprocessing/resource_tracker.py\"\u001b[0m, line \u001b[35m295\u001b[0m, in \u001b[35mmain\u001b[0m\n",
      "    raise ValueError(\n",
      "        f'Cannot register {name} for automatic cleanup: '\n",
      "        f'unknown resource type {rtype}')\n",
      "\u001b[1;35mValueError\u001b[0m: \u001b[35mCannot register /loky-2206-qzsmjdpb for automatic cleanup: unknown resource type semlock\u001b[0m\n",
      "Traceback (most recent call last):\n",
      "  File \u001b[35m\"/opt/hostedtoolcache/Python/3.13.7/x64/lib/python3.13/multiprocessing/resource_tracker.py\"\u001b[0m, line \u001b[35m295\u001b[0m, in \u001b[35mmain\u001b[0m\n",
      "    raise ValueError(\n",
      "        f'Cannot register {name} for automatic cleanup: '\n",
      "        f'unknown resource type {rtype}')\n",
      "\u001b[1;35mValueError\u001b[0m: \u001b[35mCannot register /dev/shm/joblib_memmapping_folder_2206_58a0a356de4945feafde8409e289ddf1_bf2370e402d0404ba0c98f21b600fe46 for automatic cleanup: unknown resource type folder\u001b[0m\n",
      "Traceback (most recent call last):\n",
      "  File \u001b[35m\"/opt/hostedtoolcache/Python/3.13.7/x64/lib/python3.13/multiprocessing/resource_tracker.py\"\u001b[0m, line \u001b[35m295\u001b[0m, in \u001b[35mmain\u001b[0m\n",
      "    raise ValueError(\n",
      "        f'Cannot register {name} for automatic cleanup: '\n",
      "        f'unknown resource type {rtype}')\n",
      "\u001b[1;35mValueError\u001b[0m: \u001b[35mCannot register /loky-2206-crc70dec for automatic cleanup: unknown resource type semlock\u001b[0m\n",
      "Traceback (most recent call last):\n",
      "  File \u001b[35m\"/opt/hostedtoolcache/Python/3.13.7/x64/lib/python3.13/multiprocessing/resource_tracker.py\"\u001b[0m, line \u001b[35m295\u001b[0m, in \u001b[35mmain\u001b[0m\n",
      "    raise ValueError(\n",
      "        f'Cannot register {name} for automatic cleanup: '\n",
      "        f'unknown resource type {rtype}')\n",
      "\u001b[1;35mValueError\u001b[0m: \u001b[35mCannot register /loky-2206-11vi2_vq for automatic cleanup: unknown resource type semlock\u001b[0m\n",
      "Traceback (most recent call last):\n",
      "  File \u001b[35m\"/opt/hostedtoolcache/Python/3.13.7/x64/lib/python3.13/multiprocessing/resource_tracker.py\"\u001b[0m, line \u001b[35m295\u001b[0m, in \u001b[35mmain\u001b[0m\n",
      "    raise ValueError(\n",
      "        f'Cannot register {name} for automatic cleanup: '\n",
      "        f'unknown resource type {rtype}')\n",
      "\u001b[1;35mValueError\u001b[0m: \u001b[35mCannot register /loky-2206-mf50bs35 for automatic cleanup: unknown resource type semlock\u001b[0m\n"
     ]
    },
    {
     "name": "stderr",
     "output_type": "stream",
     "text": [
      "\r",
      "Scraping 199 games on 11/04/24:   2%|▏         | 4 of 182 days scraped in 29.8 sec"
     ]
    },
    {
     "name": "stderr",
     "output_type": "stream",
     "text": [
      "Traceback (most recent call last):\n",
      "  File \u001b[35m\"/opt/hostedtoolcache/Python/3.13.7/x64/lib/python3.13/multiprocessing/resource_tracker.py\"\u001b[0m, line \u001b[35m295\u001b[0m, in \u001b[35mmain\u001b[0m\n",
      "    raise ValueError(\n",
      "        f'Cannot register {name} for automatic cleanup: '\n",
      "        f'unknown resource type {rtype}')\n",
      "\u001b[1;35mValueError\u001b[0m: \u001b[35mCannot register /dev/shm/joblib_memmapping_folder_2206_58a0a356de4945feafde8409e289ddf1_bf2370e402d0404ba0c98f21b600fe46 for automatic cleanup: unknown resource type folder\u001b[0m\n"
     ]
    },
    {
     "name": "stderr",
     "output_type": "stream",
     "text": [
      "\r",
      "Scraping 11 games on 11/05/24:   2%|▏         | 4 of 182 days scraped in 30.5 sec "
     ]
    },
    {
     "name": "stderr",
     "output_type": "stream",
     "text": [
      "Traceback (most recent call last):\n",
      "  File \u001b[35m\"/opt/hostedtoolcache/Python/3.13.7/x64/lib/python3.13/multiprocessing/resource_tracker.py\"\u001b[0m, line \u001b[35m295\u001b[0m, in \u001b[35mmain\u001b[0m\n",
      "    raise ValueError(\n",
      "        f'Cannot register {name} for automatic cleanup: '\n",
      "        f'unknown resource type {rtype}')\n",
      "\u001b[1;35mValueError\u001b[0m: \u001b[35mCannot register /dev/shm/joblib_memmapping_folder_2206_7cececb6e7174c8c815357cd375754e1_f7f45cbeb93149ffa6382d2c6fb36d08 for automatic cleanup: unknown resource type folder\u001b[0m\n",
      "Traceback (most recent call last):\n",
      "  File \u001b[35m\"/opt/hostedtoolcache/Python/3.13.7/x64/lib/python3.13/multiprocessing/resource_tracker.py\"\u001b[0m, line \u001b[35m295\u001b[0m, in \u001b[35mmain\u001b[0m\n",
      "    raise ValueError(\n",
      "        f'Cannot register {name} for automatic cleanup: '\n",
      "        f'unknown resource type {rtype}')\n",
      "\u001b[1;35mValueError\u001b[0m: \u001b[35mCannot register /dev/shm/joblib_memmapping_folder_2206_58a0a356de4945feafde8409e289ddf1_bbb8c0d23c9b45f1a399544a45cd1ee0 for automatic cleanup: unknown resource type folder\u001b[0m\n"
     ]
    },
    {
     "name": "stderr",
     "output_type": "stream",
     "text": [
      "\r",
      "Scraping 11 games on 11/05/24:   3%|▎         | 5 of 182 days scraped in 31.7 sec"
     ]
    },
    {
     "name": "stderr",
     "output_type": "stream",
     "text": [
      "Traceback (most recent call last):\n",
      "  File \u001b[35m\"/opt/hostedtoolcache/Python/3.13.7/x64/lib/python3.13/multiprocessing/resource_tracker.py\"\u001b[0m, line \u001b[35m295\u001b[0m, in \u001b[35mmain\u001b[0m\n",
      "    raise ValueError(\n",
      "        f'Cannot register {name} for automatic cleanup: '\n",
      "        f'unknown resource type {rtype}')\n",
      "\u001b[1;35mValueError\u001b[0m: \u001b[35mCannot register /dev/shm/joblib_memmapping_folder_2206_58a0a356de4945feafde8409e289ddf1_bbb8c0d23c9b45f1a399544a45cd1ee0 for automatic cleanup: unknown resource type folder\u001b[0m\n"
     ]
    },
    {
     "name": "stderr",
     "output_type": "stream",
     "text": [
      "\r",
      "Scraping 37 games on 11/06/24:   3%|▎         | 5 of 182 days scraped in 32.3 sec"
     ]
    },
    {
     "name": "stderr",
     "output_type": "stream",
     "text": [
      "Traceback (most recent call last):\n",
      "  File \u001b[35m\"/opt/hostedtoolcache/Python/3.13.7/x64/lib/python3.13/multiprocessing/resource_tracker.py\"\u001b[0m, line \u001b[35m295\u001b[0m, in \u001b[35mmain\u001b[0m\n",
      "    raise ValueError(\n",
      "        f'Cannot register {name} for automatic cleanup: '\n",
      "        f'unknown resource type {rtype}')\n",
      "\u001b[1;35mValueError\u001b[0m: \u001b[35mCannot register /dev/shm/joblib_memmapping_folder_2206_4ad94c9e46cc4d43ae9fc9eb8ce59b6f_db9db316c76540e189aff0c9fc8353e8 for automatic cleanup: unknown resource type folder\u001b[0m\n",
      "Traceback (most recent call last):\n",
      "  File \u001b[35m\"/opt/hostedtoolcache/Python/3.13.7/x64/lib/python3.13/multiprocessing/resource_tracker.py\"\u001b[0m, line \u001b[35m295\u001b[0m, in \u001b[35mmain\u001b[0m\n",
      "    raise ValueError(\n",
      "        f'Cannot register {name} for automatic cleanup: '\n",
      "        f'unknown resource type {rtype}')\n",
      "\u001b[1;35mValueError\u001b[0m: \u001b[35mCannot register /dev/shm/joblib_memmapping_folder_2206_58a0a356de4945feafde8409e289ddf1_b8179bd0c3e44ed9a9afa96b5496fdb1 for automatic cleanup: unknown resource type folder\u001b[0m\n"
     ]
    },
    {
     "name": "stderr",
     "output_type": "stream",
     "text": [
      "\r",
      "Scraping 37 games on 11/06/24:   3%|▎         | 6 of 182 days scraped in 37.8 sec"
     ]
    },
    {
     "name": "stderr",
     "output_type": "stream",
     "text": [
      "Traceback (most recent call last):\n",
      "  File \u001b[35m\"/opt/hostedtoolcache/Python/3.13.7/x64/lib/python3.13/multiprocessing/resource_tracker.py\"\u001b[0m, line \u001b[35m295\u001b[0m, in \u001b[35mmain\u001b[0m\n",
      "    raise ValueError(\n",
      "        f'Cannot register {name} for automatic cleanup: '\n",
      "        f'unknown resource type {rtype}')\n",
      "\u001b[1;35mValueError\u001b[0m: \u001b[35mCannot register /dev/shm/joblib_memmapping_folder_2206_58a0a356de4945feafde8409e289ddf1_b8179bd0c3e44ed9a9afa96b5496fdb1 for automatic cleanup: unknown resource type folder\u001b[0m\n"
     ]
    },
    {
     "name": "stderr",
     "output_type": "stream",
     "text": [
      "\r",
      "Scraping 42 games on 11/07/24:   3%|▎         | 6 of 182 days scraped in 38.5 sec"
     ]
    },
    {
     "name": "stderr",
     "output_type": "stream",
     "text": [
      "Traceback (most recent call last):\n",
      "  File \u001b[35m\"/opt/hostedtoolcache/Python/3.13.7/x64/lib/python3.13/multiprocessing/resource_tracker.py\"\u001b[0m, line \u001b[35m295\u001b[0m, in \u001b[35mmain\u001b[0m\n",
      "    raise ValueError(\n",
      "        f'Cannot register {name} for automatic cleanup: '\n",
      "        f'unknown resource type {rtype}')\n",
      "\u001b[1;35mValueError\u001b[0m: \u001b[35mCannot register /dev/shm/joblib_memmapping_folder_2206_0c5d3282813c43b89d82f59f9488aaa5_f2cb19528f3a4769860d5a443a8e3f81 for automatic cleanup: unknown resource type folder\u001b[0m\n",
      "Traceback (most recent call last):\n",
      "  File \u001b[35m\"/opt/hostedtoolcache/Python/3.13.7/x64/lib/python3.13/multiprocessing/resource_tracker.py\"\u001b[0m, line \u001b[35m295\u001b[0m, in \u001b[35mmain\u001b[0m\n",
      "    raise ValueError(\n",
      "        f'Cannot register {name} for automatic cleanup: '\n",
      "        f'unknown resource type {rtype}')\n",
      "\u001b[1;35mValueError\u001b[0m: \u001b[35mCannot register /dev/shm/joblib_memmapping_folder_2206_58a0a356de4945feafde8409e289ddf1_ae5dcf105b60480ea36efd86674c70f6 for automatic cleanup: unknown resource type folder\u001b[0m\n"
     ]
    },
    {
     "name": "stderr",
     "output_type": "stream",
     "text": [
      "\r",
      "Scraping 42 games on 11/07/24:   4%|▍         | 7 of 182 days scraped in 44.6 secTraceback (most recent call last):\n"
     ]
    },
    {
     "name": "stderr",
     "output_type": "stream",
     "text": [
      "  File \u001b[35m\"/opt/hostedtoolcache/Python/3.13.7/x64/lib/python3.13/multiprocessing/resource_tracker.py\"\u001b[0m, line \u001b[35m295\u001b[0m, in \u001b[35mmain\u001b[0m\n",
      "    raise ValueError(\n",
      "        f'Cannot register {name} for automatic cleanup: '\n",
      "        f'unknown resource type {rtype}')\n",
      "\u001b[1;35mValueError\u001b[0m: \u001b[35mCannot register /dev/shm/joblib_memmapping_folder_2206_58a0a356de4945feafde8409e289ddf1_ae5dcf105b60480ea36efd86674c70f6 for automatic cleanup: unknown resource type folder\u001b[0m\n"
     ]
    },
    {
     "name": "stderr",
     "output_type": "stream",
     "text": [
      "\r",
      "Scraping 80 games on 11/08/24:   4%|▍         | 7 of 182 days scraped in 45.5 sec"
     ]
    },
    {
     "name": "stderr",
     "output_type": "stream",
     "text": [
      "Traceback (most recent call last):\n",
      "  File \u001b[35m\"/opt/hostedtoolcache/Python/3.13.7/x64/lib/python3.13/multiprocessing/resource_tracker.py\"\u001b[0m, line \u001b[35m295\u001b[0m, in \u001b[35mmain\u001b[0m\n",
      "    raise ValueError(\n",
      "        f'Cannot register {name} for automatic cleanup: '\n",
      "        f'unknown resource type {rtype}')\n",
      "\u001b[1;35mValueError\u001b[0m: \u001b[35mCannot register /dev/shm/joblib_memmapping_folder_2206_82fcbdd590014b9abadbc30d470012b9_64ba15b41a2947958545b3d35ae144a5 for automatic cleanup: unknown resource type folder\u001b[0m\n",
      "Traceback (most recent call last):\n",
      "  File \u001b[35m\"/opt/hostedtoolcache/Python/3.13.7/x64/lib/python3.13/multiprocessing/resource_tracker.py\"\u001b[0m, line \u001b[35m295\u001b[0m, in \u001b[35mmain\u001b[0m\n",
      "    raise ValueError(\n",
      "        f'Cannot register {name} for automatic cleanup: '\n",
      "        f'unknown resource type {rtype}')\n",
      "\u001b[1;35mValueError\u001b[0m: \u001b[35mCannot register /dev/shm/joblib_memmapping_folder_2206_58a0a356de4945feafde8409e289ddf1_7213f79a7b02432e985d65214681d973 for automatic cleanup: unknown resource type folder\u001b[0m\n"
     ]
    },
    {
     "name": "stderr",
     "output_type": "stream",
     "text": [
      "\r",
      "Scraping 80 games on 11/08/24:   4%|▍         | 8 of 182 days scraped in 56.2 sec"
     ]
    },
    {
     "name": "stderr",
     "output_type": "stream",
     "text": [
      "Traceback (most recent call last):\n",
      "  File \u001b[35m\"/opt/hostedtoolcache/Python/3.13.7/x64/lib/python3.13/multiprocessing/resource_tracker.py\"\u001b[0m, line \u001b[35m295\u001b[0m, in \u001b[35mmain\u001b[0m\n",
      "    raise ValueError(\n",
      "        f'Cannot register {name} for automatic cleanup: '\n",
      "        f'unknown resource type {rtype}')\n",
      "\u001b[1;35mValueError\u001b[0m: \u001b[35mCannot register /dev/shm/joblib_memmapping_folder_2206_58a0a356de4945feafde8409e289ddf1_7213f79a7b02432e985d65214681d973 for automatic cleanup: unknown resource type folder\u001b[0m\n"
     ]
    },
    {
     "name": "stderr",
     "output_type": "stream",
     "text": [
      "\r",
      "Scraping 64 games on 11/09/24:   4%|▍         | 8 of 182 days scraped in 56.9 sec"
     ]
    },
    {
     "name": "stderr",
     "output_type": "stream",
     "text": [
      "Traceback (most recent call last):\n",
      "  File \u001b[35m\"/opt/hostedtoolcache/Python/3.13.7/x64/lib/python3.13/multiprocessing/resource_tracker.py\"\u001b[0m, line \u001b[35m295\u001b[0m, in \u001b[35mmain\u001b[0m\n",
      "    raise ValueError(\n",
      "        f'Cannot register {name} for automatic cleanup: '\n",
      "        f'unknown resource type {rtype}')\n",
      "\u001b[1;35mValueError\u001b[0m: \u001b[35mCannot register /dev/shm/joblib_memmapping_folder_2206_dd4cf3e5ad0d40caa8158f15bdecabdb_4c20b0e160684afba5c5c708e71c3a00 for automatic cleanup: unknown resource type folder\u001b[0m\n",
      "Traceback (most recent call last):\n",
      "  File \u001b[35m\"/opt/hostedtoolcache/Python/3.13.7/x64/lib/python3.13/multiprocessing/resource_tracker.py\"\u001b[0m, line \u001b[35m295\u001b[0m, in \u001b[35mmain\u001b[0m\n",
      "    raise ValueError(\n",
      "        f'Cannot register {name} for automatic cleanup: '\n",
      "        f'unknown resource type {rtype}')\n",
      "\u001b[1;35mValueError\u001b[0m: \u001b[35mCannot register /dev/shm/joblib_memmapping_folder_2206_58a0a356de4945feafde8409e289ddf1_a8fff9bb903844bb9f078c4d89073240 for automatic cleanup: unknown resource type folder\u001b[0m\n"
     ]
    },
    {
     "name": "stderr",
     "output_type": "stream",
     "text": [
      "\r",
      "Scraping 64 games on 11/09/24:   5%|▍         | 9 of 182 days scraped in 66.0 sec"
     ]
    },
    {
     "name": "stderr",
     "output_type": "stream",
     "text": [
      "Traceback (most recent call last):\n",
      "  File \u001b[35m\"/opt/hostedtoolcache/Python/3.13.7/x64/lib/python3.13/multiprocessing/resource_tracker.py\"\u001b[0m, line \u001b[35m295\u001b[0m, in \u001b[35mmain\u001b[0m\n",
      "    raise ValueError(\n",
      "        f'Cannot register {name} for automatic cleanup: '\n",
      "        f'unknown resource type {rtype}')\n",
      "\u001b[1;35mValueError\u001b[0m: \u001b[35mCannot register /dev/shm/joblib_memmapping_folder_2206_58a0a356de4945feafde8409e289ddf1_a8fff9bb903844bb9f078c4d89073240 for automatic cleanup: unknown resource type folder\u001b[0m\n"
     ]
    },
    {
     "name": "stderr",
     "output_type": "stream",
     "text": [
      "\r",
      "Scraping 29 games on 11/10/24:   5%|▍         | 9 of 182 days scraped in 66.5 sec"
     ]
    },
    {
     "name": "stderr",
     "output_type": "stream",
     "text": [
      "Traceback (most recent call last):\n",
      "  File \u001b[35m\"/opt/hostedtoolcache/Python/3.13.7/x64/lib/python3.13/multiprocessing/resource_tracker.py\"\u001b[0m, line \u001b[35m295\u001b[0m, in \u001b[35mmain\u001b[0m\n",
      "    raise ValueError(\n",
      "        f'Cannot register {name} for automatic cleanup: '\n",
      "        f'unknown resource type {rtype}')\n",
      "\u001b[1;35mValueError\u001b[0m: \u001b[35mCannot register /dev/shm/joblib_memmapping_folder_2206_a8b23cde2ad747e39476982626d1dd09_99b855447e99426999c22fa82165aaf2 for automatic cleanup: unknown resource type folder\u001b[0m\n",
      "Traceback (most recent call last):\n",
      "  File \u001b[35m\"/opt/hostedtoolcache/Python/3.13.7/x64/lib/python3.13/multiprocessing/resource_tracker.py\"\u001b[0m, line \u001b[35m295\u001b[0m, in \u001b[35mmain\u001b[0m\n",
      "    raise ValueError(\n",
      "        f'Cannot register {name} for automatic cleanup: '\n",
      "        f'unknown resource type {rtype}')\n",
      "\u001b[1;35mValueError\u001b[0m: \u001b[35mCannot register /dev/shm/joblib_memmapping_folder_2206_58a0a356de4945feafde8409e289ddf1_183a7d26a02f45a682467648ca0f6a50 for automatic cleanup: unknown resource type folder\u001b[0m\n"
     ]
    },
    {
     "name": "stderr",
     "output_type": "stream",
     "text": [
      "\r",
      "Scraping 29 games on 11/10/24:   5%|▌         | 10 of 182 days scraped in 70.7 secTraceback (most recent call last):\n"
     ]
    },
    {
     "name": "stderr",
     "output_type": "stream",
     "text": [
      "  File \u001b[35m\"/opt/hostedtoolcache/Python/3.13.7/x64/lib/python3.13/multiprocessing/resource_tracker.py\"\u001b[0m, line \u001b[35m295\u001b[0m, in \u001b[35mmain\u001b[0m\n",
      "    raise ValueError(\n",
      "        f'Cannot register {name} for automatic cleanup: '\n",
      "        f'unknown resource type {rtype}')\n",
      "\u001b[1;35mValueError\u001b[0m: \u001b[35mCannot register /dev/shm/joblib_memmapping_folder_2206_58a0a356de4945feafde8409e289ddf1_183a7d26a02f45a682467648ca0f6a50 for automatic cleanup: unknown resource type folder\u001b[0m\n"
     ]
    },
    {
     "name": "stderr",
     "output_type": "stream",
     "text": [
      "\r",
      "Scraping 42 games on 11/11/24:   5%|▌         | 10 of 182 days scraped in 71.4 sec"
     ]
    },
    {
     "name": "stderr",
     "output_type": "stream",
     "text": [
      "Traceback (most recent call last):\n",
      "  File \u001b[35m\"/opt/hostedtoolcache/Python/3.13.7/x64/lib/python3.13/multiprocessing/resource_tracker.py\"\u001b[0m, line \u001b[35m295\u001b[0m, in \u001b[35mmain\u001b[0m\n",
      "    raise ValueError(\n",
      "        f'Cannot register {name} for automatic cleanup: '\n",
      "        f'unknown resource type {rtype}')\n",
      "\u001b[1;35mValueError\u001b[0m: \u001b[35mCannot register /dev/shm/joblib_memmapping_folder_2206_4220dcfc58ee4c72a4fdd36c754a4653_0da75a6b48d24d2bbfd74591d08161b8 for automatic cleanup: unknown resource type folder\u001b[0m\n",
      "Traceback (most recent call last):\n",
      "  File \u001b[35m\"/opt/hostedtoolcache/Python/3.13.7/x64/lib/python3.13/multiprocessing/resource_tracker.py\"\u001b[0m, line \u001b[35m295\u001b[0m, in \u001b[35mmain\u001b[0m\n",
      "    raise ValueError(\n",
      "        f'Cannot register {name} for automatic cleanup: '\n",
      "        f'unknown resource type {rtype}')\n",
      "\u001b[1;35mValueError\u001b[0m: \u001b[35mCannot register /dev/shm/joblib_memmapping_folder_2206_58a0a356de4945feafde8409e289ddf1_767cebeae3b54361be280edc296de644 for automatic cleanup: unknown resource type folder\u001b[0m\n"
     ]
    },
    {
     "name": "stderr",
     "output_type": "stream",
     "text": [
      "\r",
      "Scraping 42 games on 11/11/24:   6%|▌         | 11 of 182 days scraped in 76.7 sec"
     ]
    },
    {
     "name": "stderr",
     "output_type": "stream",
     "text": [
      "Traceback (most recent call last):\n",
      "  File \u001b[35m\"/opt/hostedtoolcache/Python/3.13.7/x64/lib/python3.13/multiprocessing/resource_tracker.py\"\u001b[0m, line \u001b[35m295\u001b[0m, in \u001b[35mmain\u001b[0m\n",
      "    raise ValueError(\n",
      "        f'Cannot register {name} for automatic cleanup: '\n",
      "        f'unknown resource type {rtype}')\n",
      "\u001b[1;35mValueError\u001b[0m: \u001b[35mCannot register /dev/shm/joblib_memmapping_folder_2206_58a0a356de4945feafde8409e289ddf1_767cebeae3b54361be280edc296de644 for automatic cleanup: unknown resource type folder\u001b[0m\n"
     ]
    },
    {
     "name": "stderr",
     "output_type": "stream",
     "text": [
      "\r",
      "Scraping 79 games on 11/12/24:   6%|▌         | 11 of 182 days scraped in 77.5 sec"
     ]
    },
    {
     "name": "stderr",
     "output_type": "stream",
     "text": [
      "Traceback (most recent call last):\n",
      "  File \u001b[35m\"/opt/hostedtoolcache/Python/3.13.7/x64/lib/python3.13/multiprocessing/resource_tracker.py\"\u001b[0m, line \u001b[35m295\u001b[0m, in \u001b[35mmain\u001b[0m\n",
      "    raise ValueError(\n",
      "        f'Cannot register {name} for automatic cleanup: '\n",
      "        f'unknown resource type {rtype}')\n",
      "\u001b[1;35mValueError\u001b[0m: \u001b[35mCannot register /dev/shm/joblib_memmapping_folder_2206_8b4bc11023534b26878eb7864f06fecc_adf03bb5388443b88c31a4f73c0d7754 for automatic cleanup: unknown resource type folder\u001b[0m\n",
      "Traceback (most recent call last):\n",
      "  File \u001b[35m\"/opt/hostedtoolcache/Python/3.13.7/x64/lib/python3.13/multiprocessing/resource_tracker.py\"\u001b[0m, line \u001b[35m295\u001b[0m, in \u001b[35mmain\u001b[0m\n",
      "    raise ValueError(\n",
      "        f'Cannot register {name} for automatic cleanup: '\n",
      "        f'unknown resource type {rtype}')\n",
      "\u001b[1;35mValueError\u001b[0m: \u001b[35mCannot register /dev/shm/joblib_memmapping_folder_2206_58a0a356de4945feafde8409e289ddf1_8bdeea1b33ea4bb8beaa1527834730cb for automatic cleanup: unknown resource type folder\u001b[0m\n"
     ]
    },
    {
     "name": "stderr",
     "output_type": "stream",
     "text": [
      "\r",
      "Scraping 79 games on 11/12/24:   7%|▋         | 12 of 182 days scraped in 88.3 secTraceback (most recent call last):\n"
     ]
    },
    {
     "name": "stderr",
     "output_type": "stream",
     "text": [
      "  File \u001b[35m\"/opt/hostedtoolcache/Python/3.13.7/x64/lib/python3.13/multiprocessing/resource_tracker.py\"\u001b[0m, line \u001b[35m295\u001b[0m, in \u001b[35mmain\u001b[0m\n",
      "    raise ValueError(\n",
      "        f'Cannot register {name} for automatic cleanup: '\n",
      "        f'unknown resource type {rtype}')\n",
      "\u001b[1;35mValueError\u001b[0m: \u001b[35mCannot register /dev/shm/joblib_memmapping_folder_2206_58a0a356de4945feafde8409e289ddf1_8bdeea1b33ea4bb8beaa1527834730cb for automatic cleanup: unknown resource type folder\u001b[0m\n"
     ]
    },
    {
     "name": "stderr",
     "output_type": "stream",
     "text": [
      "\r",
      "Scraping 55 games on 11/13/24:   7%|▋         | 12 of 182 days scraped in 89.0 sec"
     ]
    },
    {
     "name": "stderr",
     "output_type": "stream",
     "text": [
      "Traceback (most recent call last):\n",
      "  File \u001b[35m\"/opt/hostedtoolcache/Python/3.13.7/x64/lib/python3.13/multiprocessing/resource_tracker.py\"\u001b[0m, line \u001b[35m295\u001b[0m, in \u001b[35mmain\u001b[0m\n",
      "    raise ValueError(\n",
      "        f'Cannot register {name} for automatic cleanup: '\n",
      "        f'unknown resource type {rtype}')\n",
      "\u001b[1;35mValueError\u001b[0m: \u001b[35mCannot register /dev/shm/joblib_memmapping_folder_2206_6b4d83577b1c4c8a8c4dace59d5a5961_70cdec56234c4b7f8151be02573f4b39 for automatic cleanup: unknown resource type folder\u001b[0m\n",
      "Traceback (most recent call last):\n",
      "  File \u001b[35m\"/opt/hostedtoolcache/Python/3.13.7/x64/lib/python3.13/multiprocessing/resource_tracker.py\"\u001b[0m, line \u001b[35m295\u001b[0m, in \u001b[35mmain\u001b[0m\n",
      "    raise ValueError(\n",
      "        f'Cannot register {name} for automatic cleanup: '\n",
      "        f'unknown resource type {rtype}')\n",
      "\u001b[1;35mValueError\u001b[0m: \u001b[35mCannot register /dev/shm/joblib_memmapping_folder_2206_58a0a356de4945feafde8409e289ddf1_281b71927ce3422096eac3efaf91bc46 for automatic cleanup: unknown resource type folder\u001b[0m\n"
     ]
    },
    {
     "name": "stderr",
     "output_type": "stream",
     "text": [
      "\r",
      "Scraping 55 games on 11/13/24:   7%|▋         | 13 of 182 days scraped in 96.6 sec"
     ]
    },
    {
     "name": "stderr",
     "output_type": "stream",
     "text": [
      "Traceback (most recent call last):\n",
      "  File \u001b[35m\"/opt/hostedtoolcache/Python/3.13.7/x64/lib/python3.13/multiprocessing/resource_tracker.py\"\u001b[0m, line \u001b[35m295\u001b[0m, in \u001b[35mmain\u001b[0m\n",
      "    raise ValueError(\n",
      "        f'Cannot register {name} for automatic cleanup: '\n",
      "        f'unknown resource type {rtype}')\n",
      "\u001b[1;35mValueError\u001b[0m: \u001b[35mCannot register /dev/shm/joblib_memmapping_folder_2206_58a0a356de4945feafde8409e289ddf1_281b71927ce3422096eac3efaf91bc46 for automatic cleanup: unknown resource type folder\u001b[0m\n"
     ]
    },
    {
     "name": "stderr",
     "output_type": "stream",
     "text": [
      "\r",
      "Scraping 26 games on 11/14/24:   7%|▋         | 13 of 182 days scraped in 97.0 sec"
     ]
    },
    {
     "name": "stderr",
     "output_type": "stream",
     "text": [
      "Traceback (most recent call last):\n",
      "  File \u001b[35m\"/opt/hostedtoolcache/Python/3.13.7/x64/lib/python3.13/multiprocessing/resource_tracker.py\"\u001b[0m, line \u001b[35m295\u001b[0m, in \u001b[35mmain\u001b[0m\n",
      "    raise ValueError(\n",
      "        f'Cannot register {name} for automatic cleanup: '\n",
      "        f'unknown resource type {rtype}')\n",
      "\u001b[1;35mValueError\u001b[0m: \u001b[35mCannot register /dev/shm/joblib_memmapping_folder_2206_d042799af8634ec890462e67e55ab96e_134635d28e4e4aca9f0b1b2992bc8cfc for automatic cleanup: unknown resource type folder\u001b[0m\n",
      "Traceback (most recent call last):\n",
      "  File \u001b[35m\"/opt/hostedtoolcache/Python/3.13.7/x64/lib/python3.13/multiprocessing/resource_tracker.py\"\u001b[0m, line \u001b[35m295\u001b[0m, in \u001b[35mmain\u001b[0m\n",
      "    raise ValueError(\n",
      "        f'Cannot register {name} for automatic cleanup: '\n",
      "        f'unknown resource type {rtype}')\n",
      "\u001b[1;35mValueError\u001b[0m: \u001b[35mCannot register /dev/shm/joblib_memmapping_folder_2206_58a0a356de4945feafde8409e289ddf1_2cca5683b7934180bb2ded83f85ad73b for automatic cleanup: unknown resource type folder\u001b[0m\n"
     ]
    },
    {
     "name": "stderr",
     "output_type": "stream",
     "text": [
      "\r",
      "Scraping 26 games on 11/14/24:   8%|▊         | 14 of 182 days scraped in 100.8 secTraceback (most recent call last):\n"
     ]
    },
    {
     "name": "stderr",
     "output_type": "stream",
     "text": [
      "  File \u001b[35m\"/opt/hostedtoolcache/Python/3.13.7/x64/lib/python3.13/multiprocessing/resource_tracker.py\"\u001b[0m, line \u001b[35m295\u001b[0m, in \u001b[35mmain\u001b[0m\n",
      "    raise ValueError(\n",
      "        f'Cannot register {name} for automatic cleanup: '\n",
      "        f'unknown resource type {rtype}')\n",
      "\u001b[1;35mValueError\u001b[0m: \u001b[35mCannot register /dev/shm/joblib_memmapping_folder_2206_58a0a356de4945feafde8409e289ddf1_2cca5683b7934180bb2ded83f85ad73b for automatic cleanup: unknown resource type folder\u001b[0m\n"
     ]
    },
    {
     "name": "stderr",
     "output_type": "stream",
     "text": [
      "\r",
      "Scraping 50 games on 11/15/24:   8%|▊         | 14 of 182 days scraped in 101.6 sec"
     ]
    },
    {
     "name": "stderr",
     "output_type": "stream",
     "text": [
      "Traceback (most recent call last):\n",
      "  File \u001b[35m\"/opt/hostedtoolcache/Python/3.13.7/x64/lib/python3.13/multiprocessing/resource_tracker.py\"\u001b[0m, line \u001b[35m295\u001b[0m, in \u001b[35mmain\u001b[0m\n",
      "    raise ValueError(\n",
      "        f'Cannot register {name} for automatic cleanup: '\n",
      "        f'unknown resource type {rtype}')\n",
      "\u001b[1;35mValueError\u001b[0m: \u001b[35mCannot register /dev/shm/joblib_memmapping_folder_2206_a75d81334d734b40a539db9f9b607dc9_8438bddd6c584e76991577635e8c0307 for automatic cleanup: unknown resource type folder\u001b[0m\n",
      "Traceback (most recent call last):\n",
      "  File \u001b[35m\"/opt/hostedtoolcache/Python/3.13.7/x64/lib/python3.13/multiprocessing/resource_tracker.py\"\u001b[0m, line \u001b[35m295\u001b[0m, in \u001b[35mmain\u001b[0m\n",
      "    raise ValueError(\n",
      "        f'Cannot register {name} for automatic cleanup: '\n",
      "        f'unknown resource type {rtype}')\n",
      "\u001b[1;35mValueError\u001b[0m: \u001b[35mCannot register /dev/shm/joblib_memmapping_folder_2206_58a0a356de4945feafde8409e289ddf1_bb261f2d977d4e8e954346e221c07db8 for automatic cleanup: unknown resource type folder\u001b[0m\n"
     ]
    },
    {
     "name": "stderr",
     "output_type": "stream",
     "text": [
      "\r",
      "Scraping 50 games on 11/15/24:   8%|▊         | 15 of 182 days scraped in 108.7 sec"
     ]
    },
    {
     "name": "stderr",
     "output_type": "stream",
     "text": [
      "Traceback (most recent call last):\n",
      "  File \u001b[35m\"/opt/hostedtoolcache/Python/3.13.7/x64/lib/python3.13/multiprocessing/resource_tracker.py\"\u001b[0m, line \u001b[35m295\u001b[0m, in \u001b[35mmain\u001b[0m\n",
      "    raise ValueError(\n",
      "        f'Cannot register {name} for automatic cleanup: '\n",
      "        f'unknown resource type {rtype}')\n",
      "\u001b[1;35mValueError\u001b[0m: \u001b[35mCannot register /dev/shm/joblib_memmapping_folder_2206_58a0a356de4945feafde8409e289ddf1_bb261f2d977d4e8e954346e221c07db8 for automatic cleanup: unknown resource type folder\u001b[0m\n"
     ]
    },
    {
     "name": "stderr",
     "output_type": "stream",
     "text": [
      "\r",
      "Scraping 82 games on 11/16/24:   8%|▊         | 15 of 182 days scraped in 109.6 sec"
     ]
    },
    {
     "name": "stderr",
     "output_type": "stream",
     "text": [
      "Traceback (most recent call last):\n",
      "  File \u001b[35m\"/opt/hostedtoolcache/Python/3.13.7/x64/lib/python3.13/multiprocessing/resource_tracker.py\"\u001b[0m, line \u001b[35m295\u001b[0m, in \u001b[35mmain\u001b[0m\n",
      "    raise ValueError(\n",
      "        f'Cannot register {name} for automatic cleanup: '\n",
      "        f'unknown resource type {rtype}')\n",
      "\u001b[1;35mValueError\u001b[0m: \u001b[35mCannot register /dev/shm/joblib_memmapping_folder_2206_c060063e39764cc2a91d27f383ec38a4_fd46648126234e0a88f7a169bb1150ee for automatic cleanup: unknown resource type folder\u001b[0m\n",
      "Traceback (most recent call last):\n",
      "  File \u001b[35m\"/opt/hostedtoolcache/Python/3.13.7/x64/lib/python3.13/multiprocessing/resource_tracker.py\"\u001b[0m, line \u001b[35m295\u001b[0m, in \u001b[35mmain\u001b[0m\n",
      "    raise ValueError(\n",
      "        f'Cannot register {name} for automatic cleanup: '\n",
      "        f'unknown resource type {rtype}')\n",
      "\u001b[1;35mValueError\u001b[0m: \u001b[35mCannot register /dev/shm/joblib_memmapping_folder_2206_58a0a356de4945feafde8409e289ddf1_e2b6554f653e4690855d021a5e2bbbe8 for automatic cleanup: unknown resource type folder\u001b[0m\n"
     ]
    },
    {
     "name": "stderr",
     "output_type": "stream",
     "text": [
      "\r",
      "Scraping 82 games on 11/16/24:   9%|▉         | 16 of 182 days scraped in 121.8 sec"
     ]
    },
    {
     "name": "stderr",
     "output_type": "stream",
     "text": [
      "Traceback (most recent call last):\n",
      "  File \u001b[35m\"/opt/hostedtoolcache/Python/3.13.7/x64/lib/python3.13/multiprocessing/resource_tracker.py\"\u001b[0m, line \u001b[35m295\u001b[0m, in \u001b[35mmain\u001b[0m\n",
      "    raise ValueError(\n",
      "        f'Cannot register {name} for automatic cleanup: '\n",
      "        f'unknown resource type {rtype}')\n",
      "\u001b[1;35mValueError\u001b[0m: \u001b[35mCannot register /dev/shm/joblib_memmapping_folder_2206_58a0a356de4945feafde8409e289ddf1_e2b6554f653e4690855d021a5e2bbbe8 for automatic cleanup: unknown resource type folder\u001b[0m\n"
     ]
    },
    {
     "name": "stderr",
     "output_type": "stream",
     "text": [
      "\r",
      "Scraping 36 games on 11/17/24:   9%|▉         | 16 of 182 days scraped in 122.3 sec"
     ]
    },
    {
     "name": "stderr",
     "output_type": "stream",
     "text": [
      "Traceback (most recent call last):\n",
      "  File \u001b[35m\"/opt/hostedtoolcache/Python/3.13.7/x64/lib/python3.13/multiprocessing/resource_tracker.py\"\u001b[0m, line \u001b[35m295\u001b[0m, in \u001b[35mmain\u001b[0m\n",
      "    raise ValueError(\n",
      "        f'Cannot register {name} for automatic cleanup: '\n",
      "        f'unknown resource type {rtype}')\n",
      "\u001b[1;35mValueError\u001b[0m: \u001b[35mCannot register /dev/shm/joblib_memmapping_folder_2206_55daa28c7998476fbb66e6d24872e5e0_00c9e8cfc1944fce81fb19b37f7382f6 for automatic cleanup: unknown resource type folder\u001b[0m\n",
      "Traceback (most recent call last):\n",
      "  File \u001b[35m\"/opt/hostedtoolcache/Python/3.13.7/x64/lib/python3.13/multiprocessing/resource_tracker.py\"\u001b[0m, line \u001b[35m295\u001b[0m, in \u001b[35mmain\u001b[0m\n",
      "    raise ValueError(\n",
      "        f'Cannot register {name} for automatic cleanup: '\n",
      "        f'unknown resource type {rtype}')\n",
      "\u001b[1;35mValueError\u001b[0m: \u001b[35mCannot register /dev/shm/joblib_memmapping_folder_2206_58a0a356de4945feafde8409e289ddf1_260f489fb09b4deeaffdd1e4f0e5bc1b for automatic cleanup: unknown resource type folder\u001b[0m\n"
     ]
    },
    {
     "name": "stderr",
     "output_type": "stream",
     "text": [
      "\r",
      "Scraping 36 games on 11/17/24:   9%|▉         | 17 of 182 days scraped in 127.2 sec"
     ]
    },
    {
     "name": "stderr",
     "output_type": "stream",
     "text": [
      "Traceback (most recent call last):\n",
      "  File \u001b[35m\"/opt/hostedtoolcache/Python/3.13.7/x64/lib/python3.13/multiprocessing/resource_tracker.py\"\u001b[0m, line \u001b[35m295\u001b[0m, in \u001b[35mmain\u001b[0m\n",
      "    raise ValueError(\n",
      "        f'Cannot register {name} for automatic cleanup: '\n",
      "        f'unknown resource type {rtype}')\n",
      "\u001b[1;35mValueError\u001b[0m: \u001b[35mCannot register /dev/shm/joblib_memmapping_folder_2206_58a0a356de4945feafde8409e289ddf1_260f489fb09b4deeaffdd1e4f0e5bc1b for automatic cleanup: unknown resource type folder\u001b[0m\n"
     ]
    },
    {
     "name": "stderr",
     "output_type": "stream",
     "text": [
      "\r",
      "Scraping 31 games on 11/18/24:   9%|▉         | 17 of 182 days scraped in 127.7 sec"
     ]
    },
    {
     "name": "stderr",
     "output_type": "stream",
     "text": [
      "Traceback (most recent call last):\n",
      "  File \u001b[35m\"/opt/hostedtoolcache/Python/3.13.7/x64/lib/python3.13/multiprocessing/resource_tracker.py\"\u001b[0m, line \u001b[35m295\u001b[0m, in \u001b[35mmain\u001b[0m\n",
      "    raise ValueError(\n",
      "        f'Cannot register {name} for automatic cleanup: '\n",
      "        f'unknown resource type {rtype}')\n",
      "\u001b[1;35mValueError\u001b[0m: \u001b[35mCannot register /dev/shm/joblib_memmapping_folder_2206_12b70c220a2b46f3b49200e597961d42_d411d8c5c0c84b0db8dd1e6256efd13f for automatic cleanup: unknown resource type folder\u001b[0m\n",
      "Traceback (most recent call last):\n",
      "  File \u001b[35m\"/opt/hostedtoolcache/Python/3.13.7/x64/lib/python3.13/multiprocessing/resource_tracker.py\"\u001b[0m, line \u001b[35m295\u001b[0m, in \u001b[35mmain\u001b[0m\n",
      "    raise ValueError(\n",
      "        f'Cannot register {name} for automatic cleanup: '\n",
      "        f'unknown resource type {rtype}')\n",
      "\u001b[1;35mValueError\u001b[0m: \u001b[35mCannot register /dev/shm/joblib_memmapping_folder_2206_58a0a356de4945feafde8409e289ddf1_e2135a2582ad4831803ae493e8ac33c6 for automatic cleanup: unknown resource type folder\u001b[0m\n"
     ]
    },
    {
     "name": "stderr",
     "output_type": "stream",
     "text": [
      "\r",
      "Scraping 31 games on 11/18/24:  10%|▉         | 18 of 182 days scraped in 132.2 sec"
     ]
    },
    {
     "name": "stderr",
     "output_type": "stream",
     "text": [
      "Traceback (most recent call last):\n",
      "  File \u001b[35m\"/opt/hostedtoolcache/Python/3.13.7/x64/lib/python3.13/multiprocessing/resource_tracker.py\"\u001b[0m, line \u001b[35m295\u001b[0m, in \u001b[35mmain\u001b[0m\n",
      "    raise ValueError(\n",
      "        f'Cannot register {name} for automatic cleanup: '\n",
      "        f'unknown resource type {rtype}')\n",
      "\u001b[1;35mValueError\u001b[0m: \u001b[35mCannot register /dev/shm/joblib_memmapping_folder_2206_58a0a356de4945feafde8409e289ddf1_e2135a2582ad4831803ae493e8ac33c6 for automatic cleanup: unknown resource type folder\u001b[0m\n"
     ]
    },
    {
     "name": "stderr",
     "output_type": "stream",
     "text": [
      "\r",
      "Scraping 54 games on 11/19/24:  10%|▉         | 18 of 182 days scraped in 133.1 sec"
     ]
    },
    {
     "name": "stderr",
     "output_type": "stream",
     "text": [
      "Traceback (most recent call last):\n",
      "  File \u001b[35m\"/opt/hostedtoolcache/Python/3.13.7/x64/lib/python3.13/multiprocessing/resource_tracker.py\"\u001b[0m, line \u001b[35m295\u001b[0m, in \u001b[35mmain\u001b[0m\n",
      "    raise ValueError(\n",
      "        f'Cannot register {name} for automatic cleanup: '\n",
      "        f'unknown resource type {rtype}')\n",
      "\u001b[1;35mValueError\u001b[0m: \u001b[35mCannot register /dev/shm/joblib_memmapping_folder_2206_752a48064ef44381b26c7c25ffebf03b_3976a160ec7d4ee391614e7bf59ccb14 for automatic cleanup: unknown resource type folder\u001b[0m\n",
      "Traceback (most recent call last):\n",
      "  File \u001b[35m\"/opt/hostedtoolcache/Python/3.13.7/x64/lib/python3.13/multiprocessing/resource_tracker.py\"\u001b[0m, line \u001b[35m295\u001b[0m, in \u001b[35mmain\u001b[0m\n",
      "    raise ValueError(\n",
      "        f'Cannot register {name} for automatic cleanup: '\n",
      "        f'unknown resource type {rtype}')\n",
      "\u001b[1;35mValueError\u001b[0m: \u001b[35mCannot register /dev/shm/joblib_memmapping_folder_2206_58a0a356de4945feafde8409e289ddf1_689a113cb9a448878aaaf61af8d2e4dd for automatic cleanup: unknown resource type folder\u001b[0m\n"
     ]
    },
    {
     "name": "stderr",
     "output_type": "stream",
     "text": [
      "\r",
      "Scraping 54 games on 11/19/24:  10%|█         | 19 of 182 days scraped in 140.9 secTraceback (most recent call last):\n"
     ]
    },
    {
     "name": "stderr",
     "output_type": "stream",
     "text": [
      "  File \u001b[35m\"/opt/hostedtoolcache/Python/3.13.7/x64/lib/python3.13/multiprocessing/resource_tracker.py\"\u001b[0m, line \u001b[35m295\u001b[0m, in \u001b[35mmain\u001b[0m\n",
      "    raise ValueError(\n",
      "        f'Cannot register {name} for automatic cleanup: '\n",
      "        f'unknown resource type {rtype}')\n",
      "\u001b[1;35mValueError\u001b[0m: \u001b[35mCannot register /dev/shm/joblib_memmapping_folder_2206_58a0a356de4945feafde8409e289ddf1_689a113cb9a448878aaaf61af8d2e4dd for automatic cleanup: unknown resource type folder\u001b[0m\n"
     ]
    },
    {
     "name": "stderr",
     "output_type": "stream",
     "text": [
      "\r",
      "Scraping 47 games on 11/20/24:  10%|█         | 19 of 182 days scraped in 141.5 sec"
     ]
    },
    {
     "name": "stderr",
     "output_type": "stream",
     "text": [
      "Traceback (most recent call last):\n",
      "  File \u001b[35m\"/opt/hostedtoolcache/Python/3.13.7/x64/lib/python3.13/multiprocessing/resource_tracker.py\"\u001b[0m, line \u001b[35m295\u001b[0m, in \u001b[35mmain\u001b[0m\n",
      "    raise ValueError(\n",
      "        f'Cannot register {name} for automatic cleanup: '\n",
      "        f'unknown resource type {rtype}')\n",
      "\u001b[1;35mValueError\u001b[0m: \u001b[35mCannot register /dev/shm/joblib_memmapping_folder_2206_82e572df369b40828ea1183da412da9f_83f6df72359b47259be96cd666b96de9 for automatic cleanup: unknown resource type folder\u001b[0m\n",
      "Traceback (most recent call last):\n",
      "  File \u001b[35m\"/opt/hostedtoolcache/Python/3.13.7/x64/lib/python3.13/multiprocessing/resource_tracker.py\"\u001b[0m, line \u001b[35m295\u001b[0m, in \u001b[35mmain\u001b[0m\n",
      "    raise ValueError(\n",
      "        f'Cannot register {name} for automatic cleanup: '\n",
      "        f'unknown resource type {rtype}')\n",
      "\u001b[1;35mValueError\u001b[0m: \u001b[35mCannot register /dev/shm/joblib_memmapping_folder_2206_58a0a356de4945feafde8409e289ddf1_5c50940cc8974d91a07eb25250a6e91e for automatic cleanup: unknown resource type folder\u001b[0m\n"
     ]
    },
    {
     "name": "stderr",
     "output_type": "stream",
     "text": [
      "\r",
      "Scraping 47 games on 11/20/24:  11%|█         | 20 of 182 days scraped in 148.6 sec"
     ]
    },
    {
     "name": "stderr",
     "output_type": "stream",
     "text": [
      "Traceback (most recent call last):\n",
      "  File \u001b[35m\"/opt/hostedtoolcache/Python/3.13.7/x64/lib/python3.13/multiprocessing/resource_tracker.py\"\u001b[0m, line \u001b[35m295\u001b[0m, in \u001b[35mmain\u001b[0m\n",
      "    raise ValueError(\n",
      "        f'Cannot register {name} for automatic cleanup: '\n",
      "        f'unknown resource type {rtype}')\n",
      "\u001b[1;35mValueError\u001b[0m: \u001b[35mCannot register /dev/shm/joblib_memmapping_folder_2206_58a0a356de4945feafde8409e289ddf1_5c50940cc8974d91a07eb25250a6e91e for automatic cleanup: unknown resource type folder\u001b[0m\n"
     ]
    },
    {
     "name": "stderr",
     "output_type": "stream",
     "text": [
      "\r",
      "Scraping 44 games on 11/21/24:  11%|█         | 20 of 182 days scraped in 149.2 sec"
     ]
    },
    {
     "name": "stderr",
     "output_type": "stream",
     "text": [
      "Traceback (most recent call last):\n",
      "  File \u001b[35m\"/opt/hostedtoolcache/Python/3.13.7/x64/lib/python3.13/multiprocessing/resource_tracker.py\"\u001b[0m, line \u001b[35m295\u001b[0m, in \u001b[35mmain\u001b[0m\n",
      "    raise ValueError(\n",
      "        f'Cannot register {name} for automatic cleanup: '\n",
      "        f'unknown resource type {rtype}')\n",
      "\u001b[1;35mValueError\u001b[0m: \u001b[35mCannot register /dev/shm/joblib_memmapping_folder_2206_44e39503e5fa41b6b16e3bccdcddfb78_545e28e56bed46a28c88b12f094c7a2e for automatic cleanup: unknown resource type folder\u001b[0m\n",
      "Traceback (most recent call last):\n",
      "  File \u001b[35m\"/opt/hostedtoolcache/Python/3.13.7/x64/lib/python3.13/multiprocessing/resource_tracker.py\"\u001b[0m, line \u001b[35m295\u001b[0m, in \u001b[35mmain\u001b[0m\n",
      "    raise ValueError(\n",
      "        f'Cannot register {name} for automatic cleanup: '\n",
      "        f'unknown resource type {rtype}')\n",
      "\u001b[1;35mValueError\u001b[0m: \u001b[35mCannot register /dev/shm/joblib_memmapping_folder_2206_58a0a356de4945feafde8409e289ddf1_d348ddbe6ffe488f851abc4126d34a4c for automatic cleanup: unknown resource type folder\u001b[0m\n"
     ]
    },
    {
     "name": "stderr",
     "output_type": "stream",
     "text": [
      "\r",
      "Scraping 44 games on 11/21/24:  12%|█▏        | 21 of 182 days scraped in 155.7 sec"
     ]
    },
    {
     "name": "stderr",
     "output_type": "stream",
     "text": [
      "Traceback (most recent call last):\n",
      "  File \u001b[35m\"/opt/hostedtoolcache/Python/3.13.7/x64/lib/python3.13/multiprocessing/resource_tracker.py\"\u001b[0m, line \u001b[35m295\u001b[0m, in \u001b[35mmain\u001b[0m\n",
      "    raise ValueError(\n",
      "        f'Cannot register {name} for automatic cleanup: '\n",
      "        f'unknown resource type {rtype}')\n",
      "\u001b[1;35mValueError\u001b[0m: \u001b[35mCannot register /dev/shm/joblib_memmapping_folder_2206_58a0a356de4945feafde8409e289ddf1_d348ddbe6ffe488f851abc4126d34a4c for automatic cleanup: unknown resource type folder\u001b[0m\n"
     ]
    },
    {
     "name": "stderr",
     "output_type": "stream",
     "text": [
      "\r",
      "Scraping 82 games on 11/22/24:  12%|█▏        | 21 of 182 days scraped in 156.6 sec"
     ]
    },
    {
     "name": "stderr",
     "output_type": "stream",
     "text": [
      "Traceback (most recent call last):\n",
      "  File \u001b[35m\"/opt/hostedtoolcache/Python/3.13.7/x64/lib/python3.13/multiprocessing/resource_tracker.py\"\u001b[0m, line \u001b[35m295\u001b[0m, in \u001b[35mmain\u001b[0m\n",
      "    raise ValueError(\n",
      "        f'Cannot register {name} for automatic cleanup: '\n",
      "        f'unknown resource type {rtype}')\n",
      "\u001b[1;35mValueError\u001b[0m: \u001b[35mCannot register /dev/shm/joblib_memmapping_folder_2206_c8a5c1248e904bcbb6789582dc71669a_ddd70cdb3e104f59b56cfd44d2623846 for automatic cleanup: unknown resource type folder\u001b[0m\n",
      "Traceback (most recent call last):\n",
      "  File \u001b[35m\"/opt/hostedtoolcache/Python/3.13.7/x64/lib/python3.13/multiprocessing/resource_tracker.py\"\u001b[0m, line \u001b[35m295\u001b[0m, in \u001b[35mmain\u001b[0m\n",
      "    raise ValueError(\n",
      "        f'Cannot register {name} for automatic cleanup: '\n",
      "        f'unknown resource type {rtype}')\n",
      "\u001b[1;35mValueError\u001b[0m: \u001b[35mCannot register /dev/shm/joblib_memmapping_folder_2206_58a0a356de4945feafde8409e289ddf1_1fead2677b8049659713af8cc893e594 for automatic cleanup: unknown resource type folder\u001b[0m\n"
     ]
    },
    {
     "name": "stderr",
     "output_type": "stream",
     "text": [
      "\r",
      "Scraping 82 games on 11/22/24:  12%|█▏        | 22 of 182 days scraped in 168.1 sec"
     ]
    },
    {
     "name": "stderr",
     "output_type": "stream",
     "text": [
      "Traceback (most recent call last):\n",
      "  File \u001b[35m\"/opt/hostedtoolcache/Python/3.13.7/x64/lib/python3.13/multiprocessing/resource_tracker.py\"\u001b[0m, line \u001b[35m295\u001b[0m, in \u001b[35mmain\u001b[0m\n",
      "    raise ValueError(\n",
      "        f'Cannot register {name} for automatic cleanup: '\n",
      "        f'unknown resource type {rtype}')\n",
      "\u001b[1;35mValueError\u001b[0m: \u001b[35mCannot register /dev/shm/joblib_memmapping_folder_2206_58a0a356de4945feafde8409e289ddf1_1fead2677b8049659713af8cc893e594 for automatic cleanup: unknown resource type folder\u001b[0m\n"
     ]
    },
    {
     "name": "stderr",
     "output_type": "stream",
     "text": [
      "\r",
      "Scraping 56 games on 11/23/24:  12%|█▏        | 22 of 182 days scraped in 168.7 sec"
     ]
    },
    {
     "name": "stderr",
     "output_type": "stream",
     "text": [
      "Traceback (most recent call last):\n",
      "  File \u001b[35m\"/opt/hostedtoolcache/Python/3.13.7/x64/lib/python3.13/multiprocessing/resource_tracker.py\"\u001b[0m, line \u001b[35m295\u001b[0m, in \u001b[35mmain\u001b[0m\n",
      "    raise ValueError(\n",
      "        f'Cannot register {name} for automatic cleanup: '\n",
      "        f'unknown resource type {rtype}')\n",
      "\u001b[1;35mValueError\u001b[0m: \u001b[35mCannot register /dev/shm/joblib_memmapping_folder_2206_20080ed365274014bba5e26be209a8c3_9c0f6f090125496f93a5738c93d01148 for automatic cleanup: unknown resource type folder\u001b[0m\n",
      "Traceback (most recent call last):\n",
      "  File \u001b[35m\"/opt/hostedtoolcache/Python/3.13.7/x64/lib/python3.13/multiprocessing/resource_tracker.py\"\u001b[0m, line \u001b[35m295\u001b[0m, in \u001b[35mmain\u001b[0m\n",
      "    raise ValueError(\n",
      "        f'Cannot register {name} for automatic cleanup: '\n",
      "        f'unknown resource type {rtype}')\n",
      "\u001b[1;35mValueError\u001b[0m: \u001b[35mCannot register /dev/shm/joblib_memmapping_folder_2206_58a0a356de4945feafde8409e289ddf1_19f7e26b25ee4eba86c46db962e8ae67 for automatic cleanup: unknown resource type folder\u001b[0m\n"
     ]
    },
    {
     "name": "stderr",
     "output_type": "stream",
     "text": [
      "\r",
      "Scraping 56 games on 11/23/24:  13%|█▎        | 23 of 182 days scraped in 175.9 secTraceback (most recent call last):\n"
     ]
    },
    {
     "name": "stderr",
     "output_type": "stream",
     "text": [
      "  File \u001b[35m\"/opt/hostedtoolcache/Python/3.13.7/x64/lib/python3.13/multiprocessing/resource_tracker.py\"\u001b[0m, line \u001b[35m295\u001b[0m, in \u001b[35mmain\u001b[0m\n",
      "    raise ValueError(\n",
      "        f'Cannot register {name} for automatic cleanup: '\n",
      "        f'unknown resource type {rtype}')\n",
      "\u001b[1;35mValueError\u001b[0m: \u001b[35mCannot register /dev/shm/joblib_memmapping_folder_2206_58a0a356de4945feafde8409e289ddf1_19f7e26b25ee4eba86c46db962e8ae67 for automatic cleanup: unknown resource type folder\u001b[0m\n"
     ]
    },
    {
     "name": "stderr",
     "output_type": "stream",
     "text": [
      "\r",
      "Scraping 54 games on 11/24/24:  13%|█▎        | 23 of 182 days scraped in 176.6 sec"
     ]
    },
    {
     "name": "stderr",
     "output_type": "stream",
     "text": [
      "Traceback (most recent call last):\n",
      "  File \u001b[35m\"/opt/hostedtoolcache/Python/3.13.7/x64/lib/python3.13/multiprocessing/resource_tracker.py\"\u001b[0m, line \u001b[35m295\u001b[0m, in \u001b[35mmain\u001b[0m\n",
      "    raise ValueError(\n",
      "        f'Cannot register {name} for automatic cleanup: '\n",
      "        f'unknown resource type {rtype}')\n",
      "\u001b[1;35mValueError\u001b[0m: \u001b[35mCannot register /dev/shm/joblib_memmapping_folder_2206_048eb77eb9d3479e9f74fa5292ea6f30_9f42741384fb46ae8391fb11b4d09f83 for automatic cleanup: unknown resource type folder\u001b[0m\n",
      "Traceback (most recent call last):\n",
      "  File \u001b[35m\"/opt/hostedtoolcache/Python/3.13.7/x64/lib/python3.13/multiprocessing/resource_tracker.py\"\u001b[0m, line \u001b[35m295\u001b[0m, in \u001b[35mmain\u001b[0m\n",
      "    raise ValueError(\n",
      "        f'Cannot register {name} for automatic cleanup: '\n",
      "        f'unknown resource type {rtype}')\n",
      "\u001b[1;35mValueError\u001b[0m: \u001b[35mCannot register /dev/shm/joblib_memmapping_folder_2206_58a0a356de4945feafde8409e289ddf1_a98399af942643a88979974da574580c for automatic cleanup: unknown resource type folder\u001b[0m\n"
     ]
    },
    {
     "name": "stderr",
     "output_type": "stream",
     "text": [
      "\r",
      "Scraping 54 games on 11/24/24:  13%|█▎        | 24 of 182 days scraped in 184.1 secTraceback (most recent call last):\n"
     ]
    },
    {
     "name": "stderr",
     "output_type": "stream",
     "text": [
      "  File \u001b[35m\"/opt/hostedtoolcache/Python/3.13.7/x64/lib/python3.13/multiprocessing/resource_tracker.py\"\u001b[0m, line \u001b[35m295\u001b[0m, in \u001b[35mmain\u001b[0m\n",
      "    raise ValueError(\n",
      "        f'Cannot register {name} for automatic cleanup: '\n",
      "        f'unknown resource type {rtype}')\n",
      "\u001b[1;35mValueError\u001b[0m: \u001b[35mCannot register /dev/shm/joblib_memmapping_folder_2206_58a0a356de4945feafde8409e289ddf1_a98399af942643a88979974da574580c for automatic cleanup: unknown resource type folder\u001b[0m\n"
     ]
    },
    {
     "name": "stderr",
     "output_type": "stream",
     "text": [
      "\r",
      "Scraping 57 games on 11/25/24:  13%|█▎        | 24 of 182 days scraped in 184.8 sec"
     ]
    },
    {
     "name": "stderr",
     "output_type": "stream",
     "text": [
      "Traceback (most recent call last):\n",
      "  File \u001b[35m\"/opt/hostedtoolcache/Python/3.13.7/x64/lib/python3.13/multiprocessing/resource_tracker.py\"\u001b[0m, line \u001b[35m295\u001b[0m, in \u001b[35mmain\u001b[0m\n",
      "    raise ValueError(\n",
      "        f'Cannot register {name} for automatic cleanup: '\n",
      "        f'unknown resource type {rtype}')\n",
      "\u001b[1;35mValueError\u001b[0m: \u001b[35mCannot register /dev/shm/joblib_memmapping_folder_2206_c027a46cc072451f8aee7b0b1d344fb3_a1a4910ca57b486587b6d15513609920 for automatic cleanup: unknown resource type folder\u001b[0m\n",
      "Traceback (most recent call last):\n",
      "  File \u001b[35m\"/opt/hostedtoolcache/Python/3.13.7/x64/lib/python3.13/multiprocessing/resource_tracker.py\"\u001b[0m, line \u001b[35m295\u001b[0m, in \u001b[35mmain\u001b[0m\n",
      "    raise ValueError(\n",
      "        f'Cannot register {name} for automatic cleanup: '\n",
      "        f'unknown resource type {rtype}')\n",
      "\u001b[1;35mValueError\u001b[0m: \u001b[35mCannot register /dev/shm/joblib_memmapping_folder_2206_58a0a356de4945feafde8409e289ddf1_1264a7c1696c4ddfb4b78678127a9add for automatic cleanup: unknown resource type folder\u001b[0m\n"
     ]
    },
    {
     "name": "stderr",
     "output_type": "stream",
     "text": [
      "\r",
      "Scraping 57 games on 11/25/24:  14%|█▎        | 25 of 182 days scraped in 192.7 sec"
     ]
    },
    {
     "name": "stderr",
     "output_type": "stream",
     "text": [
      "Traceback (most recent call last):\n",
      "  File \u001b[35m\"/opt/hostedtoolcache/Python/3.13.7/x64/lib/python3.13/multiprocessing/resource_tracker.py\"\u001b[0m, line \u001b[35m295\u001b[0m, in \u001b[35mmain\u001b[0m\n",
      "    raise ValueError(\n",
      "        f'Cannot register {name} for automatic cleanup: '\n",
      "        f'unknown resource type {rtype}')\n",
      "\u001b[1;35mValueError\u001b[0m: \u001b[35mCannot register /dev/shm/joblib_memmapping_folder_2206_58a0a356de4945feafde8409e289ddf1_1264a7c1696c4ddfb4b78678127a9add for automatic cleanup: unknown resource type folder\u001b[0m\n"
     ]
    },
    {
     "name": "stderr",
     "output_type": "stream",
     "text": [
      "\r",
      "Scraping 64 games on 11/26/24:  14%|█▎        | 25 of 182 days scraped in 193.4 sec"
     ]
    },
    {
     "name": "stderr",
     "output_type": "stream",
     "text": [
      "Traceback (most recent call last):\n",
      "  File \u001b[35m\"/opt/hostedtoolcache/Python/3.13.7/x64/lib/python3.13/multiprocessing/resource_tracker.py\"\u001b[0m, line \u001b[35m295\u001b[0m, in \u001b[35mmain\u001b[0m\n",
      "    raise ValueError(\n",
      "        f'Cannot register {name} for automatic cleanup: '\n",
      "        f'unknown resource type {rtype}')\n",
      "\u001b[1;35mValueError\u001b[0m: \u001b[35mCannot register /dev/shm/joblib_memmapping_folder_2206_7ce47aeae3c548a19fbbb428d090bb49_73e3a20cd3e442eeba6e991e02f52b66 for automatic cleanup: unknown resource type folder\u001b[0m\n",
      "Traceback (most recent call last):\n",
      "  File \u001b[35m\"/opt/hostedtoolcache/Python/3.13.7/x64/lib/python3.13/multiprocessing/resource_tracker.py\"\u001b[0m, line \u001b[35m295\u001b[0m, in \u001b[35mmain\u001b[0m\n",
      "    raise ValueError(\n",
      "        f'Cannot register {name} for automatic cleanup: '\n",
      "        f'unknown resource type {rtype}')\n",
      "\u001b[1;35mValueError\u001b[0m: \u001b[35mCannot register /dev/shm/joblib_memmapping_folder_2206_58a0a356de4945feafde8409e289ddf1_2bd187bf3c8e4d9a9cebc75fdec2be05 for automatic cleanup: unknown resource type folder\u001b[0m\n"
     ]
    },
    {
     "name": "stderr",
     "output_type": "stream",
     "text": [
      "\r",
      "Scraping 64 games on 11/26/24:  14%|█▍        | 26 of 182 days scraped in 202.1 sec"
     ]
    },
    {
     "name": "stderr",
     "output_type": "stream",
     "text": [
      "Traceback (most recent call last):\n",
      "  File \u001b[35m\"/opt/hostedtoolcache/Python/3.13.7/x64/lib/python3.13/multiprocessing/resource_tracker.py\"\u001b[0m, line \u001b[35m295\u001b[0m, in \u001b[35mmain\u001b[0m\n",
      "    raise ValueError(\n",
      "        f'Cannot register {name} for automatic cleanup: '\n",
      "        f'unknown resource type {rtype}')\n",
      "\u001b[1;35mValueError\u001b[0m: \u001b[35mCannot register /dev/shm/joblib_memmapping_folder_2206_58a0a356de4945feafde8409e289ddf1_2bd187bf3c8e4d9a9cebc75fdec2be05 for automatic cleanup: unknown resource type folder\u001b[0m\n"
     ]
    },
    {
     "name": "stderr",
     "output_type": "stream",
     "text": [
      "\r",
      "Scraping 70 games on 11/27/24:  14%|█▍        | 26 of 182 days scraped in 203.3 sec"
     ]
    },
    {
     "name": "stderr",
     "output_type": "stream",
     "text": [
      "Traceback (most recent call last):\n",
      "  File \u001b[35m\"/opt/hostedtoolcache/Python/3.13.7/x64/lib/python3.13/multiprocessing/resource_tracker.py\"\u001b[0m, line \u001b[35m295\u001b[0m, in \u001b[35mmain\u001b[0m\n",
      "    raise ValueError(\n",
      "        f'Cannot register {name} for automatic cleanup: '\n",
      "        f'unknown resource type {rtype}')\n",
      "\u001b[1;35mValueError\u001b[0m: \u001b[35mCannot register /dev/shm/joblib_memmapping_folder_2206_63c0939c19754709ac1e6e5dd1e4b773_e2884a3bbfff459088e7260be618dd12 for automatic cleanup: unknown resource type folder\u001b[0m\n",
      "Traceback (most recent call last):\n",
      "  File \u001b[35m\"/opt/hostedtoolcache/Python/3.13.7/x64/lib/python3.13/multiprocessing/resource_tracker.py\"\u001b[0m, line \u001b[35m295\u001b[0m, in \u001b[35mmain\u001b[0m\n",
      "    raise ValueError(\n",
      "        f'Cannot register {name} for automatic cleanup: '\n",
      "        f'unknown resource type {rtype}')\n",
      "\u001b[1;35mValueError\u001b[0m: \u001b[35mCannot register /dev/shm/joblib_memmapping_folder_2206_58a0a356de4945feafde8409e289ddf1_62958808fb80489c8a01d462d5e5041c for automatic cleanup: unknown resource type folder\u001b[0m\n"
     ]
    },
    {
     "name": "stderr",
     "output_type": "stream",
     "text": [
      "\r",
      "Scraping 70 games on 11/27/24:  15%|█▍        | 27 of 182 days scraped in 212.9 sec"
     ]
    },
    {
     "name": "stderr",
     "output_type": "stream",
     "text": [
      "Traceback (most recent call last):\n",
      "  File \u001b[35m\"/opt/hostedtoolcache/Python/3.13.7/x64/lib/python3.13/multiprocessing/resource_tracker.py\"\u001b[0m, line \u001b[35m295\u001b[0m, in \u001b[35mmain\u001b[0m\n",
      "    raise ValueError(\n",
      "        f'Cannot register {name} for automatic cleanup: '\n",
      "        f'unknown resource type {rtype}')\n",
      "\u001b[1;35mValueError\u001b[0m: \u001b[35mCannot register /dev/shm/joblib_memmapping_folder_2206_58a0a356de4945feafde8409e289ddf1_62958808fb80489c8a01d462d5e5041c for automatic cleanup: unknown resource type folder\u001b[0m\n"
     ]
    },
    {
     "name": "stderr",
     "output_type": "stream",
     "text": [
      "\r",
      "Scraping 21 games on 11/28/24:  15%|█▍        | 27 of 182 days scraped in 213.7 sec"
     ]
    },
    {
     "name": "stderr",
     "output_type": "stream",
     "text": [
      "Traceback (most recent call last):\n",
      "  File \u001b[35m\"/opt/hostedtoolcache/Python/3.13.7/x64/lib/python3.13/multiprocessing/resource_tracker.py\"\u001b[0m, line \u001b[35m295\u001b[0m, in \u001b[35mmain\u001b[0m\n",
      "    raise ValueError(\n",
      "        f'Cannot register {name} for automatic cleanup: '\n",
      "        f'unknown resource type {rtype}')\n",
      "\u001b[1;35mValueError\u001b[0m: \u001b[35mCannot register /dev/shm/joblib_memmapping_folder_2206_86ba3977cbac4f978dcced4d227d175d_090b13d4fcf4411db57d7d062be19779 for automatic cleanup: unknown resource type folder\u001b[0m\n",
      "Traceback (most recent call last):\n",
      "  File \u001b[35m\"/opt/hostedtoolcache/Python/3.13.7/x64/lib/python3.13/multiprocessing/resource_tracker.py\"\u001b[0m, line \u001b[35m295\u001b[0m, in \u001b[35mmain\u001b[0m\n",
      "    raise ValueError(\n",
      "        f'Cannot register {name} for automatic cleanup: '\n",
      "        f'unknown resource type {rtype}')\n",
      "\u001b[1;35mValueError\u001b[0m: \u001b[35mCannot register /dev/shm/joblib_memmapping_folder_2206_58a0a356de4945feafde8409e289ddf1_d2e7e1e3d1c24a46816fd3df5a1c3b02 for automatic cleanup: unknown resource type folder\u001b[0m\n"
     ]
    },
    {
     "name": "stderr",
     "output_type": "stream",
     "text": [
      "\r",
      "Scraping 21 games on 11/28/24:  15%|█▌        | 28 of 182 days scraped in 216.9 sec"
     ]
    },
    {
     "name": "stderr",
     "output_type": "stream",
     "text": [
      "Traceback (most recent call last):\n",
      "  File \u001b[35m\"/opt/hostedtoolcache/Python/3.13.7/x64/lib/python3.13/multiprocessing/resource_tracker.py\"\u001b[0m, line \u001b[35m295\u001b[0m, in \u001b[35mmain\u001b[0m\n",
      "    raise ValueError(\n",
      "        f'Cannot register {name} for automatic cleanup: '\n",
      "        f'unknown resource type {rtype}')\n",
      "\u001b[1;35mValueError\u001b[0m: \u001b[35mCannot register /dev/shm/joblib_memmapping_folder_2206_58a0a356de4945feafde8409e289ddf1_d2e7e1e3d1c24a46816fd3df5a1c3b02 for automatic cleanup: unknown resource type folder\u001b[0m\n"
     ]
    },
    {
     "name": "stderr",
     "output_type": "stream",
     "text": [
      "\r",
      "Scraping 56 games on 11/29/24:  15%|█▌        | 28 of 182 days scraped in 217.5 sec"
     ]
    },
    {
     "name": "stderr",
     "output_type": "stream",
     "text": [
      "Traceback (most recent call last):\n",
      "  File \u001b[35m\"/opt/hostedtoolcache/Python/3.13.7/x64/lib/python3.13/multiprocessing/resource_tracker.py\"\u001b[0m, line \u001b[35m295\u001b[0m, in \u001b[35mmain\u001b[0m\n",
      "    raise ValueError(\n",
      "        f'Cannot register {name} for automatic cleanup: '\n",
      "        f'unknown resource type {rtype}')\n",
      "\u001b[1;35mValueError\u001b[0m: \u001b[35mCannot register /dev/shm/joblib_memmapping_folder_2206_9d03e229be0441f7abce0773ec9998c7_6bef1d3e0e794aa295783eac639dad81 for automatic cleanup: unknown resource type folder\u001b[0m\n",
      "Traceback (most recent call last):\n",
      "  File \u001b[35m\"/opt/hostedtoolcache/Python/3.13.7/x64/lib/python3.13/multiprocessing/resource_tracker.py\"\u001b[0m, line \u001b[35m295\u001b[0m, in \u001b[35mmain\u001b[0m\n",
      "    raise ValueError(\n",
      "        f'Cannot register {name} for automatic cleanup: '\n",
      "        f'unknown resource type {rtype}')\n",
      "\u001b[1;35mValueError\u001b[0m: \u001b[35mCannot register /dev/shm/joblib_memmapping_folder_2206_58a0a356de4945feafde8409e289ddf1_e07076d9e1c1498185dfd7a3137c3720 for automatic cleanup: unknown resource type folder\u001b[0m\n"
     ]
    },
    {
     "name": "stderr",
     "output_type": "stream",
     "text": [
      "\r",
      "Scraping 56 games on 11/29/24:  16%|█▌        | 29 of 182 days scraped in 226.2 sec"
     ]
    },
    {
     "name": "stderr",
     "output_type": "stream",
     "text": [
      "Traceback (most recent call last):\n",
      "  File \u001b[35m\"/opt/hostedtoolcache/Python/3.13.7/x64/lib/python3.13/multiprocessing/resource_tracker.py\"\u001b[0m, line \u001b[35m295\u001b[0m, in \u001b[35mmain\u001b[0m\n",
      "    raise ValueError(\n",
      "        f'Cannot register {name} for automatic cleanup: '\n",
      "        f'unknown resource type {rtype}')\n",
      "\u001b[1;35mValueError\u001b[0m: \u001b[35mCannot register /dev/shm/joblib_memmapping_folder_2206_58a0a356de4945feafde8409e289ddf1_e07076d9e1c1498185dfd7a3137c3720 for automatic cleanup: unknown resource type folder\u001b[0m\n"
     ]
    },
    {
     "name": "stderr",
     "output_type": "stream",
     "text": [
      "\r",
      "Scraping 68 games on 11/30/24:  16%|█▌        | 29 of 182 days scraped in 227.0 sec"
     ]
    },
    {
     "name": "stderr",
     "output_type": "stream",
     "text": [
      "Traceback (most recent call last):\n",
      "  File \u001b[35m\"/opt/hostedtoolcache/Python/3.13.7/x64/lib/python3.13/multiprocessing/resource_tracker.py\"\u001b[0m, line \u001b[35m295\u001b[0m, in \u001b[35mmain\u001b[0m\n",
      "    raise ValueError(\n",
      "        f'Cannot register {name} for automatic cleanup: '\n",
      "        f'unknown resource type {rtype}')\n",
      "\u001b[1;35mValueError\u001b[0m: \u001b[35mCannot register /dev/shm/joblib_memmapping_folder_2206_504873c116f84acabbdff533d6027d3d_cd4c24722804432fb60bd55d72276ef8 for automatic cleanup: unknown resource type folder\u001b[0m\n",
      "Traceback (most recent call last):\n",
      "  File \u001b[35m\"/opt/hostedtoolcache/Python/3.13.7/x64/lib/python3.13/multiprocessing/resource_tracker.py\"\u001b[0m, line \u001b[35m295\u001b[0m, in \u001b[35mmain\u001b[0m\n",
      "    raise ValueError(\n",
      "        f'Cannot register {name} for automatic cleanup: '\n",
      "        f'unknown resource type {rtype}')\n",
      "\u001b[1;35mValueError\u001b[0m: \u001b[35mCannot register /dev/shm/joblib_memmapping_folder_2206_58a0a356de4945feafde8409e289ddf1_10d58936b3c44dbd93f292eaed693495 for automatic cleanup: unknown resource type folder\u001b[0m\n"
     ]
    },
    {
     "name": "stderr",
     "output_type": "stream",
     "text": [
      "\r",
      "Scraping 68 games on 11/30/24:  16%|█▋        | 30 of 182 days scraped in 236.2 sec"
     ]
    },
    {
     "name": "stderr",
     "output_type": "stream",
     "text": [
      "Traceback (most recent call last):\n",
      "  File \u001b[35m\"/opt/hostedtoolcache/Python/3.13.7/x64/lib/python3.13/multiprocessing/resource_tracker.py\"\u001b[0m, line \u001b[35m295\u001b[0m, in \u001b[35mmain\u001b[0m\n",
      "    raise ValueError(\n",
      "        f'Cannot register {name} for automatic cleanup: '\n",
      "        f'unknown resource type {rtype}')\n",
      "\u001b[1;35mValueError\u001b[0m: \u001b[35mCannot register /dev/shm/joblib_memmapping_folder_2206_58a0a356de4945feafde8409e289ddf1_10d58936b3c44dbd93f292eaed693495 for automatic cleanup: unknown resource type folder\u001b[0m\n"
     ]
    },
    {
     "name": "stderr",
     "output_type": "stream",
     "text": [
      "\r",
      "Scraping 34 games on 12/01/24:  16%|█▋        | 30 of 182 days scraped in 236.7 sec"
     ]
    },
    {
     "name": "stderr",
     "output_type": "stream",
     "text": [
      "Traceback (most recent call last):\n",
      "  File \u001b[35m\"/opt/hostedtoolcache/Python/3.13.7/x64/lib/python3.13/multiprocessing/resource_tracker.py\"\u001b[0m, line \u001b[35m295\u001b[0m, in \u001b[35mmain\u001b[0m\n",
      "    raise ValueError(\n",
      "        f'Cannot register {name} for automatic cleanup: '\n",
      "        f'unknown resource type {rtype}')\n",
      "\u001b[1;35mValueError\u001b[0m: \u001b[35mCannot register /dev/shm/joblib_memmapping_folder_2206_eb8b38698c964d13a96947c26ee1e390_7270525296a242e9af537e1c92d06500 for automatic cleanup: unknown resource type folder\u001b[0m\n",
      "Traceback (most recent call last):\n",
      "  File \u001b[35m\"/opt/hostedtoolcache/Python/3.13.7/x64/lib/python3.13/multiprocessing/resource_tracker.py\"\u001b[0m, line \u001b[35m295\u001b[0m, in \u001b[35mmain\u001b[0m\n",
      "    raise ValueError(\n",
      "        f'Cannot register {name} for automatic cleanup: '\n",
      "        f'unknown resource type {rtype}')\n",
      "\u001b[1;35mValueError\u001b[0m: \u001b[35mCannot register /dev/shm/joblib_memmapping_folder_2206_58a0a356de4945feafde8409e289ddf1_b08e2e392576433b8a7d4352ca6ecad4 for automatic cleanup: unknown resource type folder\u001b[0m\n"
     ]
    },
    {
     "name": "stderr",
     "output_type": "stream",
     "text": [
      "\r",
      "Scraping 34 games on 12/01/24:  17%|█▋        | 31 of 182 days scraped in 241.4 secTraceback (most recent call last):\n"
     ]
    },
    {
     "name": "stderr",
     "output_type": "stream",
     "text": [
      "  File \u001b[35m\"/opt/hostedtoolcache/Python/3.13.7/x64/lib/python3.13/multiprocessing/resource_tracker.py\"\u001b[0m, line \u001b[35m295\u001b[0m, in \u001b[35mmain\u001b[0m\n",
      "    raise ValueError(\n",
      "        f'Cannot register {name} for automatic cleanup: '\n",
      "        f'unknown resource type {rtype}')\n",
      "\u001b[1;35mValueError\u001b[0m: \u001b[35mCannot register /dev/shm/joblib_memmapping_folder_2206_58a0a356de4945feafde8409e289ddf1_b08e2e392576433b8a7d4352ca6ecad4 for automatic cleanup: unknown resource type folder\u001b[0m\n"
     ]
    },
    {
     "name": "stderr",
     "output_type": "stream",
     "text": [
      "\r",
      "Scraping 16 games on 12/02/24:  17%|█▋        | 31 of 182 days scraped in 241.7 sec"
     ]
    },
    {
     "name": "stderr",
     "output_type": "stream",
     "text": [
      "Traceback (most recent call last):\n",
      "  File \u001b[35m\"/opt/hostedtoolcache/Python/3.13.7/x64/lib/python3.13/multiprocessing/resource_tracker.py\"\u001b[0m, line \u001b[35m295\u001b[0m, in \u001b[35mmain\u001b[0m\n",
      "    raise ValueError(\n",
      "        f'Cannot register {name} for automatic cleanup: '\n",
      "        f'unknown resource type {rtype}')\n",
      "\u001b[1;35mValueError\u001b[0m: \u001b[35mCannot register /dev/shm/joblib_memmapping_folder_2206_31ceecce8aa944faaeec34de94731f9f_e88430f72d1d43f3861c0a69936ce28b for automatic cleanup: unknown resource type folder\u001b[0m\n",
      "Traceback (most recent call last):\n",
      "  File \u001b[35m\"/opt/hostedtoolcache/Python/3.13.7/x64/lib/python3.13/multiprocessing/resource_tracker.py\"\u001b[0m, line \u001b[35m295\u001b[0m, in \u001b[35mmain\u001b[0m\n",
      "    raise ValueError(\n",
      "        f'Cannot register {name} for automatic cleanup: '\n",
      "        f'unknown resource type {rtype}')\n",
      "\u001b[1;35mValueError\u001b[0m: \u001b[35mCannot register /dev/shm/joblib_memmapping_folder_2206_58a0a356de4945feafde8409e289ddf1_e7e6bdbf537042d3ae0391e1876ddc80 for automatic cleanup: unknown resource type folder\u001b[0m\n"
     ]
    },
    {
     "name": "stderr",
     "output_type": "stream",
     "text": [
      "\r",
      "Scraping 16 games on 12/02/24:  18%|█▊        | 32 of 182 days scraped in 244.1 sec"
     ]
    },
    {
     "name": "stderr",
     "output_type": "stream",
     "text": [
      "Traceback (most recent call last):\n",
      "  File \u001b[35m\"/opt/hostedtoolcache/Python/3.13.7/x64/lib/python3.13/multiprocessing/resource_tracker.py\"\u001b[0m, line \u001b[35m295\u001b[0m, in \u001b[35mmain\u001b[0m\n",
      "    raise ValueError(\n",
      "        f'Cannot register {name} for automatic cleanup: '\n",
      "        f'unknown resource type {rtype}')\n",
      "\u001b[1;35mValueError\u001b[0m: \u001b[35mCannot register /dev/shm/joblib_memmapping_folder_2206_58a0a356de4945feafde8409e289ddf1_e7e6bdbf537042d3ae0391e1876ddc80 for automatic cleanup: unknown resource type folder\u001b[0m\n"
     ]
    },
    {
     "name": "stderr",
     "output_type": "stream",
     "text": [
      "\r",
      "Scraping 56 games on 12/03/24:  18%|█▊        | 32 of 182 days scraped in 244.8 sec"
     ]
    },
    {
     "name": "stderr",
     "output_type": "stream",
     "text": [
      "Traceback (most recent call last):\n",
      "  File \u001b[35m\"/opt/hostedtoolcache/Python/3.13.7/x64/lib/python3.13/multiprocessing/resource_tracker.py\"\u001b[0m, line \u001b[35m295\u001b[0m, in \u001b[35mmain\u001b[0m\n",
      "    raise ValueError(\n",
      "        f'Cannot register {name} for automatic cleanup: '\n",
      "        f'unknown resource type {rtype}')\n",
      "\u001b[1;35mValueError\u001b[0m: \u001b[35mCannot register /dev/shm/joblib_memmapping_folder_2206_e1f7e89cf55e4b8a9b0042021bf18c09_fca20876ee444fa48c94fe415357d690 for automatic cleanup: unknown resource type folder\u001b[0m\n",
      "Traceback (most recent call last):\n",
      "  File \u001b[35m\"/opt/hostedtoolcache/Python/3.13.7/x64/lib/python3.13/multiprocessing/resource_tracker.py\"\u001b[0m, line \u001b[35m295\u001b[0m, in \u001b[35mmain\u001b[0m\n",
      "    raise ValueError(\n",
      "        f'Cannot register {name} for automatic cleanup: '\n",
      "        f'unknown resource type {rtype}')\n",
      "\u001b[1;35mValueError\u001b[0m: \u001b[35mCannot register /dev/shm/joblib_memmapping_folder_2206_58a0a356de4945feafde8409e289ddf1_a939482b94df4a6285f2602d738c1376 for automatic cleanup: unknown resource type folder\u001b[0m\n"
     ]
    },
    {
     "name": "stderr",
     "output_type": "stream",
     "text": [
      "\r",
      "Scraping 56 games on 12/03/24:  18%|█▊        | 33 of 182 days scraped in 252.3 sec"
     ]
    },
    {
     "name": "stderr",
     "output_type": "stream",
     "text": [
      "Traceback (most recent call last):\n",
      "  File \u001b[35m\"/opt/hostedtoolcache/Python/3.13.7/x64/lib/python3.13/multiprocessing/resource_tracker.py\"\u001b[0m, line \u001b[35m295\u001b[0m, in \u001b[35mmain\u001b[0m\n",
      "    raise ValueError(\n",
      "        f'Cannot register {name} for automatic cleanup: '\n",
      "        f'unknown resource type {rtype}')\n",
      "\u001b[1;35mValueError\u001b[0m: \u001b[35mCannot register /dev/shm/joblib_memmapping_folder_2206_58a0a356de4945feafde8409e289ddf1_a939482b94df4a6285f2602d738c1376 for automatic cleanup: unknown resource type folder\u001b[0m\n"
     ]
    },
    {
     "name": "stderr",
     "output_type": "stream",
     "text": [
      "\r",
      "Scraping 67 games on 12/04/24:  18%|█▊        | 33 of 182 days scraped in 253.1 sec"
     ]
    },
    {
     "name": "stderr",
     "output_type": "stream",
     "text": [
      "Traceback (most recent call last):\n",
      "  File \u001b[35m\"/opt/hostedtoolcache/Python/3.13.7/x64/lib/python3.13/multiprocessing/resource_tracker.py\"\u001b[0m, line \u001b[35m295\u001b[0m, in \u001b[35mmain\u001b[0m\n",
      "    raise ValueError(\n",
      "        f'Cannot register {name} for automatic cleanup: '\n",
      "        f'unknown resource type {rtype}')\n",
      "\u001b[1;35mValueError\u001b[0m: \u001b[35mCannot register /dev/shm/joblib_memmapping_folder_2206_8cab027e98cf439c98c62ea8bab8d5f0_a803d2c0efe24833b65a145747f77198 for automatic cleanup: unknown resource type folder\u001b[0m\n",
      "Traceback (most recent call last):\n",
      "  File \u001b[35m\"/opt/hostedtoolcache/Python/3.13.7/x64/lib/python3.13/multiprocessing/resource_tracker.py\"\u001b[0m, line \u001b[35m295\u001b[0m, in \u001b[35mmain\u001b[0m\n",
      "    raise ValueError(\n",
      "        f'Cannot register {name} for automatic cleanup: '\n",
      "        f'unknown resource type {rtype}')\n",
      "\u001b[1;35mValueError\u001b[0m: \u001b[35mCannot register /dev/shm/joblib_memmapping_folder_2206_58a0a356de4945feafde8409e289ddf1_cd51e05d485d42d4ad0eaaca5a2ae04f for automatic cleanup: unknown resource type folder\u001b[0m\n"
     ]
    },
    {
     "name": "stderr",
     "output_type": "stream",
     "text": [
      "\r",
      "Scraping 67 games on 12/04/24:  19%|█▊        | 34 of 182 days scraped in 262.6 sec"
     ]
    },
    {
     "name": "stderr",
     "output_type": "stream",
     "text": [
      "Traceback (most recent call last):\n",
      "  File \u001b[35m\"/opt/hostedtoolcache/Python/3.13.7/x64/lib/python3.13/multiprocessing/resource_tracker.py\"\u001b[0m, line \u001b[35m295\u001b[0m, in \u001b[35mmain\u001b[0m\n",
      "    raise ValueError(\n",
      "        f'Cannot register {name} for automatic cleanup: '\n",
      "        f'unknown resource type {rtype}')\n",
      "\u001b[1;35mValueError\u001b[0m: \u001b[35mCannot register /dev/shm/joblib_memmapping_folder_2206_58a0a356de4945feafde8409e289ddf1_cd51e05d485d42d4ad0eaaca5a2ae04f for automatic cleanup: unknown resource type folder\u001b[0m\n"
     ]
    },
    {
     "name": "stderr",
     "output_type": "stream",
     "text": [
      "\r",
      "Scraping 26 games on 12/05/24:  19%|█▊        | 34 of 182 days scraped in 263.4 sec"
     ]
    },
    {
     "name": "stderr",
     "output_type": "stream",
     "text": [
      "Traceback (most recent call last):\n",
      "  File \u001b[35m\"/opt/hostedtoolcache/Python/3.13.7/x64/lib/python3.13/multiprocessing/resource_tracker.py\"\u001b[0m, line \u001b[35m295\u001b[0m, in \u001b[35mmain\u001b[0m\n",
      "    raise ValueError(\n",
      "        f'Cannot register {name} for automatic cleanup: '\n",
      "        f'unknown resource type {rtype}')\n",
      "\u001b[1;35mValueError\u001b[0m: \u001b[35mCannot register /dev/shm/joblib_memmapping_folder_2206_d5d5fa459ef346098832b411e37c9fde_3142fef7ee264d0eb1a0f818ce03f83a for automatic cleanup: unknown resource type folder\u001b[0m\n",
      "Traceback (most recent call last):\n",
      "  File \u001b[35m\"/opt/hostedtoolcache/Python/3.13.7/x64/lib/python3.13/multiprocessing/resource_tracker.py\"\u001b[0m, line \u001b[35m295\u001b[0m, in \u001b[35mmain\u001b[0m\n",
      "    raise ValueError(\n",
      "        f'Cannot register {name} for automatic cleanup: '\n",
      "        f'unknown resource type {rtype}')\n",
      "\u001b[1;35mValueError\u001b[0m: \u001b[35mCannot register /dev/shm/joblib_memmapping_folder_2206_58a0a356de4945feafde8409e289ddf1_7d8b2ee2387b419582e057029342800a for automatic cleanup: unknown resource type folder\u001b[0m\n"
     ]
    },
    {
     "name": "stderr",
     "output_type": "stream",
     "text": [
      "\r",
      "Scraping 26 games on 12/05/24:  19%|█▉        | 35 of 182 days scraped in 267.5 secTraceback (most recent call last):\n"
     ]
    },
    {
     "name": "stderr",
     "output_type": "stream",
     "text": [
      "  File \u001b[35m\"/opt/hostedtoolcache/Python/3.13.7/x64/lib/python3.13/multiprocessing/resource_tracker.py\"\u001b[0m, line \u001b[35m295\u001b[0m, in \u001b[35mmain\u001b[0m\n",
      "    raise ValueError(\n",
      "        f'Cannot register {name} for automatic cleanup: '\n",
      "        f'unknown resource type {rtype}')\n",
      "\u001b[1;35mValueError\u001b[0m: \u001b[35mCannot register /dev/shm/joblib_memmapping_folder_2206_58a0a356de4945feafde8409e289ddf1_7d8b2ee2387b419582e057029342800a for automatic cleanup: unknown resource type folder\u001b[0m\n"
     ]
    },
    {
     "name": "stderr",
     "output_type": "stream",
     "text": [
      "\r",
      "Scraping 22 games on 12/06/24:  19%|█▉        | 35 of 182 days scraped in 268.2 sec"
     ]
    },
    {
     "name": "stderr",
     "output_type": "stream",
     "text": [
      "Traceback (most recent call last):\n",
      "  File \u001b[35m\"/opt/hostedtoolcache/Python/3.13.7/x64/lib/python3.13/multiprocessing/resource_tracker.py\"\u001b[0m, line \u001b[35m295\u001b[0m, in \u001b[35mmain\u001b[0m\n",
      "    raise ValueError(\n",
      "        f'Cannot register {name} for automatic cleanup: '\n",
      "        f'unknown resource type {rtype}')\n",
      "\u001b[1;35mValueError\u001b[0m: \u001b[35mCannot register /dev/shm/joblib_memmapping_folder_2206_cddc1b475a294384bdcf062a7b13a93c_056dec1845804ccca3af49ece53749be for automatic cleanup: unknown resource type folder\u001b[0m\n",
      "Traceback (most recent call last):\n",
      "  File \u001b[35m\"/opt/hostedtoolcache/Python/3.13.7/x64/lib/python3.13/multiprocessing/resource_tracker.py\"\u001b[0m, line \u001b[35m295\u001b[0m, in \u001b[35mmain\u001b[0m\n",
      "    raise ValueError(\n",
      "        f'Cannot register {name} for automatic cleanup: '\n",
      "        f'unknown resource type {rtype}')\n",
      "\u001b[1;35mValueError\u001b[0m: \u001b[35mCannot register /dev/shm/joblib_memmapping_folder_2206_58a0a356de4945feafde8409e289ddf1_a75f1c7ecf87434abbb7b506e1d64c5a for automatic cleanup: unknown resource type folder\u001b[0m\n"
     ]
    },
    {
     "name": "stderr",
     "output_type": "stream",
     "text": [
      "\r",
      "Scraping 22 games on 12/06/24:  20%|█▉        | 36 of 182 days scraped in 271.2 secTraceback (most recent call last):\n"
     ]
    },
    {
     "name": "stderr",
     "output_type": "stream",
     "text": [
      "  File \u001b[35m\"/opt/hostedtoolcache/Python/3.13.7/x64/lib/python3.13/multiprocessing/resource_tracker.py\"\u001b[0m, line \u001b[35m295\u001b[0m, in \u001b[35mmain\u001b[0m\n",
      "    raise ValueError(\n",
      "        f'Cannot register {name} for automatic cleanup: '\n",
      "        f'unknown resource type {rtype}')\n",
      "\u001b[1;35mValueError\u001b[0m: \u001b[35mCannot register /dev/shm/joblib_memmapping_folder_2206_58a0a356de4945feafde8409e289ddf1_a75f1c7ecf87434abbb7b506e1d64c5a for automatic cleanup: unknown resource type folder\u001b[0m\n"
     ]
    },
    {
     "name": "stderr",
     "output_type": "stream",
     "text": [
      "\r",
      "Scraping 108 games on 12/07/24:  20%|█▉        | 36 of 182 days scraped in 272.3 sec"
     ]
    },
    {
     "name": "stderr",
     "output_type": "stream",
     "text": [
      "Traceback (most recent call last):\n",
      "  File \u001b[35m\"/opt/hostedtoolcache/Python/3.13.7/x64/lib/python3.13/multiprocessing/resource_tracker.py\"\u001b[0m, line \u001b[35m295\u001b[0m, in \u001b[35mmain\u001b[0m\n",
      "    raise ValueError(\n",
      "        f'Cannot register {name} for automatic cleanup: '\n",
      "        f'unknown resource type {rtype}')\n",
      "\u001b[1;35mValueError\u001b[0m: \u001b[35mCannot register /dev/shm/joblib_memmapping_folder_2206_f01b315b492642f8b79ab9db608290e5_66e76bc617e34287984ed471f49d8cae for automatic cleanup: unknown resource type folder\u001b[0m\n",
      "Traceback (most recent call last):\n",
      "  File \u001b[35m\"/opt/hostedtoolcache/Python/3.13.7/x64/lib/python3.13/multiprocessing/resource_tracker.py\"\u001b[0m, line \u001b[35m295\u001b[0m, in \u001b[35mmain\u001b[0m\n",
      "    raise ValueError(\n",
      "        f'Cannot register {name} for automatic cleanup: '\n",
      "        f'unknown resource type {rtype}')\n",
      "\u001b[1;35mValueError\u001b[0m: \u001b[35mCannot register /dev/shm/joblib_memmapping_folder_2206_58a0a356de4945feafde8409e289ddf1_95ff6322d420477099f576b50fc3f82d for automatic cleanup: unknown resource type folder\u001b[0m\n"
     ]
    },
    {
     "name": "stderr",
     "output_type": "stream",
     "text": [
      "\r",
      "Scraping 108 games on 12/07/24:  20%|██        | 37 of 182 days scraped in 287.8 sec"
     ]
    },
    {
     "name": "stderr",
     "output_type": "stream",
     "text": [
      "Traceback (most recent call last):\n",
      "  File \u001b[35m\"/opt/hostedtoolcache/Python/3.13.7/x64/lib/python3.13/multiprocessing/resource_tracker.py\"\u001b[0m, line \u001b[35m295\u001b[0m, in \u001b[35mmain\u001b[0m\n",
      "    raise ValueError(\n",
      "        f'Cannot register {name} for automatic cleanup: '\n",
      "        f'unknown resource type {rtype}')\n",
      "\u001b[1;35mValueError\u001b[0m: \u001b[35mCannot register /dev/shm/joblib_memmapping_folder_2206_58a0a356de4945feafde8409e289ddf1_95ff6322d420477099f576b50fc3f82d for automatic cleanup: unknown resource type folder\u001b[0m\n"
     ]
    },
    {
     "name": "stderr",
     "output_type": "stream",
     "text": [
      "\r",
      "Scraping 39 games on 12/08/24:  20%|██        | 37 of 182 days scraped in 288.4 sec "
     ]
    },
    {
     "name": "stderr",
     "output_type": "stream",
     "text": [
      "Traceback (most recent call last):\n",
      "  File \u001b[35m\"/opt/hostedtoolcache/Python/3.13.7/x64/lib/python3.13/multiprocessing/resource_tracker.py\"\u001b[0m, line \u001b[35m295\u001b[0m, in \u001b[35mmain\u001b[0m\n",
      "    raise ValueError(\n",
      "        f'Cannot register {name} for automatic cleanup: '\n",
      "        f'unknown resource type {rtype}')\n",
      "\u001b[1;35mValueError\u001b[0m: \u001b[35mCannot register /dev/shm/joblib_memmapping_folder_2206_46b40cc73f2f40f6b6b20bff80962890_b543be3073584325b3e74085f434f9bd for automatic cleanup: unknown resource type folder\u001b[0m\n",
      "Traceback (most recent call last):\n",
      "  File \u001b[35m\"/opt/hostedtoolcache/Python/3.13.7/x64/lib/python3.13/multiprocessing/resource_tracker.py\"\u001b[0m, line \u001b[35m295\u001b[0m, in \u001b[35mmain\u001b[0m\n",
      "    raise ValueError(\n",
      "        f'Cannot register {name} for automatic cleanup: '\n",
      "        f'unknown resource type {rtype}')\n",
      "\u001b[1;35mValueError\u001b[0m: \u001b[35mCannot register /dev/shm/joblib_memmapping_folder_2206_58a0a356de4945feafde8409e289ddf1_749e01c52960476b8ab5a581675c69e8 for automatic cleanup: unknown resource type folder\u001b[0m\n"
     ]
    },
    {
     "name": "stderr",
     "output_type": "stream",
     "text": [
      "\r",
      "Scraping 39 games on 12/08/24:  21%|██        | 38 of 182 days scraped in 302.9 secTraceback (most recent call last):\n"
     ]
    },
    {
     "name": "stderr",
     "output_type": "stream",
     "text": [
      "  File \u001b[35m\"/opt/hostedtoolcache/Python/3.13.7/x64/lib/python3.13/multiprocessing/resource_tracker.py\"\u001b[0m, line \u001b[35m295\u001b[0m, in \u001b[35mmain\u001b[0m\n",
      "    raise ValueError(\n",
      "        f'Cannot register {name} for automatic cleanup: '\n",
      "        f'unknown resource type {rtype}')\n",
      "\u001b[1;35mValueError\u001b[0m: \u001b[35mCannot register /dev/shm/joblib_memmapping_folder_2206_58a0a356de4945feafde8409e289ddf1_749e01c52960476b8ab5a581675c69e8 for automatic cleanup: unknown resource type folder\u001b[0m\n"
     ]
    },
    {
     "name": "stderr",
     "output_type": "stream",
     "text": [
      "\r",
      "Scraping 8 games on 12/09/24:  21%|██        | 38 of 182 days scraped in 303.3 sec "
     ]
    },
    {
     "name": "stderr",
     "output_type": "stream",
     "text": [
      "Traceback (most recent call last):\n",
      "  File \u001b[35m\"/opt/hostedtoolcache/Python/3.13.7/x64/lib/python3.13/multiprocessing/resource_tracker.py\"\u001b[0m, line \u001b[35m295\u001b[0m, in \u001b[35mmain\u001b[0m\n",
      "    raise ValueError(\n",
      "        f'Cannot register {name} for automatic cleanup: '\n",
      "        f'unknown resource type {rtype}')\n",
      "\u001b[1;35mValueError\u001b[0m: \u001b[35mCannot register /dev/shm/joblib_memmapping_folder_2206_75379408c73344f098629ae47c7c5fa6_3b659272e0f442c1b705db3425e9a93d for automatic cleanup: unknown resource type folder\u001b[0m\n",
      "Traceback (most recent call last):\n",
      "  File \u001b[35m\"/opt/hostedtoolcache/Python/3.13.7/x64/lib/python3.13/multiprocessing/resource_tracker.py\"\u001b[0m, line \u001b[35m295\u001b[0m, in \u001b[35mmain\u001b[0m\n",
      "    raise ValueError(\n",
      "        f'Cannot register {name} for automatic cleanup: '\n",
      "        f'unknown resource type {rtype}')\n",
      "\u001b[1;35mValueError\u001b[0m: \u001b[35mCannot register /dev/shm/joblib_memmapping_folder_2206_58a0a356de4945feafde8409e289ddf1_a028aa83fcef405a8f24b8b8aafe5825 for automatic cleanup: unknown resource type folder\u001b[0m\n"
     ]
    },
    {
     "name": "stderr",
     "output_type": "stream",
     "text": [
      "\r",
      "Scraping 8 games on 12/09/24:  21%|██▏       | 39 of 182 days scraped in 304.2 secTraceback (most recent call last):\n"
     ]
    },
    {
     "name": "stderr",
     "output_type": "stream",
     "text": [
      "  File \u001b[35m\"/opt/hostedtoolcache/Python/3.13.7/x64/lib/python3.13/multiprocessing/resource_tracker.py\"\u001b[0m, line \u001b[35m295\u001b[0m, in \u001b[35mmain\u001b[0m\n",
      "    raise ValueError(\n",
      "        f'Cannot register {name} for automatic cleanup: '\n",
      "        f'unknown resource type {rtype}')\n",
      "\u001b[1;35mValueError\u001b[0m: \u001b[35mCannot register /dev/shm/joblib_memmapping_folder_2206_58a0a356de4945feafde8409e289ddf1_a028aa83fcef405a8f24b8b8aafe5825 for automatic cleanup: unknown resource type folder\u001b[0m\n"
     ]
    },
    {
     "name": "stderr",
     "output_type": "stream",
     "text": [
      "\r",
      "Scraping 37 games on 12/10/24:  21%|██▏       | 39 of 182 days scraped in 305.1 sec"
     ]
    },
    {
     "name": "stderr",
     "output_type": "stream",
     "text": [
      "Traceback (most recent call last):\n",
      "  File \u001b[35m\"/opt/hostedtoolcache/Python/3.13.7/x64/lib/python3.13/multiprocessing/resource_tracker.py\"\u001b[0m, line \u001b[35m295\u001b[0m, in \u001b[35mmain\u001b[0m\n",
      "    raise ValueError(\n",
      "        f'Cannot register {name} for automatic cleanup: '\n",
      "        f'unknown resource type {rtype}')\n",
      "\u001b[1;35mValueError\u001b[0m: \u001b[35mCannot register /dev/shm/joblib_memmapping_folder_2206_03c41c1780854a05b4db0e4c2f87b9e6_c5d2169a490f4f19a79c2934e294a247 for automatic cleanup: unknown resource type folder\u001b[0m\n",
      "Traceback (most recent call last):\n",
      "  File \u001b[35m\"/opt/hostedtoolcache/Python/3.13.7/x64/lib/python3.13/multiprocessing/resource_tracker.py\"\u001b[0m, line \u001b[35m295\u001b[0m, in \u001b[35mmain\u001b[0m\n",
      "    raise ValueError(\n",
      "        f'Cannot register {name} for automatic cleanup: '\n",
      "        f'unknown resource type {rtype}')\n",
      "\u001b[1;35mValueError\u001b[0m: \u001b[35mCannot register /dev/shm/joblib_memmapping_folder_2206_58a0a356de4945feafde8409e289ddf1_e6ecfe55c60047b1ad30fa15ddb741f6 for automatic cleanup: unknown resource type folder\u001b[0m\n"
     ]
    },
    {
     "name": "stderr",
     "output_type": "stream",
     "text": [
      "\r",
      "Scraping 37 games on 12/10/24:  22%|██▏       | 40 of 182 days scraped in 310.3 sec"
     ]
    },
    {
     "name": "stderr",
     "output_type": "stream",
     "text": [
      "Traceback (most recent call last):\n",
      "  File \u001b[35m\"/opt/hostedtoolcache/Python/3.13.7/x64/lib/python3.13/multiprocessing/resource_tracker.py\"\u001b[0m, line \u001b[35m295\u001b[0m, in \u001b[35mmain\u001b[0m\n",
      "    raise ValueError(\n",
      "        f'Cannot register {name} for automatic cleanup: '\n",
      "        f'unknown resource type {rtype}')\n",
      "\u001b[1;35mValueError\u001b[0m: \u001b[35mCannot register /dev/shm/joblib_memmapping_folder_2206_58a0a356de4945feafde8409e289ddf1_e6ecfe55c60047b1ad30fa15ddb741f6 for automatic cleanup: unknown resource type folder\u001b[0m\n"
     ]
    },
    {
     "name": "stderr",
     "output_type": "stream",
     "text": [
      "\r",
      "Scraping 28 games on 12/11/24:  22%|██▏       | 40 of 182 days scraped in 310.8 sec"
     ]
    },
    {
     "name": "stderr",
     "output_type": "stream",
     "text": [
      "Traceback (most recent call last):\n",
      "  File \u001b[35m\"/opt/hostedtoolcache/Python/3.13.7/x64/lib/python3.13/multiprocessing/resource_tracker.py\"\u001b[0m, line \u001b[35m295\u001b[0m, in \u001b[35mmain\u001b[0m\n",
      "    raise ValueError(\n",
      "        f'Cannot register {name} for automatic cleanup: '\n",
      "        f'unknown resource type {rtype}')\n",
      "\u001b[1;35mValueError\u001b[0m: \u001b[35mCannot register /dev/shm/joblib_memmapping_folder_2206_f30fc665dc3446638dea9b3b6484ca9d_f5f4763c8d65496a9fc42f16ea28db18 for automatic cleanup: unknown resource type folder\u001b[0m\n",
      "Traceback (most recent call last):\n",
      "  File \u001b[35m\"/opt/hostedtoolcache/Python/3.13.7/x64/lib/python3.13/multiprocessing/resource_tracker.py\"\u001b[0m, line \u001b[35m295\u001b[0m, in \u001b[35mmain\u001b[0m\n",
      "    raise ValueError(\n",
      "        f'Cannot register {name} for automatic cleanup: '\n",
      "        f'unknown resource type {rtype}')\n",
      "\u001b[1;35mValueError\u001b[0m: \u001b[35mCannot register /dev/shm/joblib_memmapping_folder_2206_58a0a356de4945feafde8409e289ddf1_cb0b9a5eebcb48068c83b78e016d3c30 for automatic cleanup: unknown resource type folder\u001b[0m\n"
     ]
    },
    {
     "name": "stderr",
     "output_type": "stream",
     "text": [
      "\r",
      "Scraping 28 games on 12/11/24:  23%|██▎       | 41 of 182 days scraped in 315.7 sec"
     ]
    },
    {
     "name": "stderr",
     "output_type": "stream",
     "text": [
      "Traceback (most recent call last):\n",
      "  File \u001b[35m\"/opt/hostedtoolcache/Python/3.13.7/x64/lib/python3.13/multiprocessing/resource_tracker.py\"\u001b[0m, line \u001b[35m295\u001b[0m, in \u001b[35mmain\u001b[0m\n",
      "    raise ValueError(\n",
      "        f'Cannot register {name} for automatic cleanup: '\n",
      "        f'unknown resource type {rtype}')\n",
      "\u001b[1;35mValueError\u001b[0m: \u001b[35mCannot register /dev/shm/joblib_memmapping_folder_2206_58a0a356de4945feafde8409e289ddf1_cb0b9a5eebcb48068c83b78e016d3c30 for automatic cleanup: unknown resource type folder\u001b[0m\n"
     ]
    },
    {
     "name": "stderr",
     "output_type": "stream",
     "text": [
      "\r",
      "Scraping 10 games on 12/12/24:  23%|██▎       | 41 of 182 days scraped in 316.2 sec"
     ]
    },
    {
     "name": "stderr",
     "output_type": "stream",
     "text": [
      "Traceback (most recent call last):\n",
      "  File \u001b[35m\"/opt/hostedtoolcache/Python/3.13.7/x64/lib/python3.13/multiprocessing/resource_tracker.py\"\u001b[0m, line \u001b[35m295\u001b[0m, in \u001b[35mmain\u001b[0m\n",
      "    raise ValueError(\n",
      "        f'Cannot register {name} for automatic cleanup: '\n",
      "        f'unknown resource type {rtype}')\n",
      "\u001b[1;35mValueError\u001b[0m: \u001b[35mCannot register /dev/shm/joblib_memmapping_folder_2206_a839799ad6664144b92903dcf8265480_623b8f27c3f64b13a32a16b9767002b0 for automatic cleanup: unknown resource type folder\u001b[0m\n",
      "Traceback (most recent call last):\n",
      "  File \u001b[35m\"/opt/hostedtoolcache/Python/3.13.7/x64/lib/python3.13/multiprocessing/resource_tracker.py\"\u001b[0m, line \u001b[35m295\u001b[0m, in \u001b[35mmain\u001b[0m\n",
      "    raise ValueError(\n",
      "        f'Cannot register {name} for automatic cleanup: '\n",
      "        f'unknown resource type {rtype}')\n",
      "\u001b[1;35mValueError\u001b[0m: \u001b[35mCannot register /dev/shm/joblib_memmapping_folder_2206_58a0a356de4945feafde8409e289ddf1_057e134270dd4019aa3d844c8aa29a89 for automatic cleanup: unknown resource type folder\u001b[0m\n"
     ]
    },
    {
     "name": "stderr",
     "output_type": "stream",
     "text": [
      "\r",
      "Scraping 10 games on 12/12/24:  23%|██▎       | 42 of 182 days scraped in 318.0 secTraceback (most recent call last):\n"
     ]
    },
    {
     "name": "stderr",
     "output_type": "stream",
     "text": [
      "  File \u001b[35m\"/opt/hostedtoolcache/Python/3.13.7/x64/lib/python3.13/multiprocessing/resource_tracker.py\"\u001b[0m, line \u001b[35m295\u001b[0m, in \u001b[35mmain\u001b[0m\n",
      "    raise ValueError(\n",
      "        f'Cannot register {name} for automatic cleanup: '\n",
      "        f'unknown resource type {rtype}')\n",
      "\u001b[1;35mValueError\u001b[0m: \u001b[35mCannot register /dev/shm/joblib_memmapping_folder_2206_58a0a356de4945feafde8409e289ddf1_057e134270dd4019aa3d844c8aa29a89 for automatic cleanup: unknown resource type folder\u001b[0m\n"
     ]
    },
    {
     "name": "stderr",
     "output_type": "stream",
     "text": [
      "\r",
      "Scraping 10 games on 12/13/24:  23%|██▎       | 42 of 182 days scraped in 318.4 sec"
     ]
    },
    {
     "name": "stderr",
     "output_type": "stream",
     "text": [
      "Traceback (most recent call last):\n",
      "  File \u001b[35m\"/opt/hostedtoolcache/Python/3.13.7/x64/lib/python3.13/multiprocessing/resource_tracker.py\"\u001b[0m, line \u001b[35m295\u001b[0m, in \u001b[35mmain\u001b[0m\n",
      "    raise ValueError(\n",
      "        f'Cannot register {name} for automatic cleanup: '\n",
      "        f'unknown resource type {rtype}')\n",
      "\u001b[1;35mValueError\u001b[0m: \u001b[35mCannot register /dev/shm/joblib_memmapping_folder_2206_1405b002f92943e19bd8439d77ba3dd0_f773f1147f524329813a927c10c6d7e4 for automatic cleanup: unknown resource type folder\u001b[0m\n",
      "Traceback (most recent call last):\n",
      "  File \u001b[35m\"/opt/hostedtoolcache/Python/3.13.7/x64/lib/python3.13/multiprocessing/resource_tracker.py\"\u001b[0m, line \u001b[35m295\u001b[0m, in \u001b[35mmain\u001b[0m\n",
      "    raise ValueError(\n",
      "        f'Cannot register {name} for automatic cleanup: '\n",
      "        f'unknown resource type {rtype}')\n",
      "\u001b[1;35mValueError\u001b[0m: \u001b[35mCannot register /dev/shm/joblib_memmapping_folder_2206_58a0a356de4945feafde8409e289ddf1_9640e0f0f5d944ba824060deba8d720f for automatic cleanup: unknown resource type folder\u001b[0m\n"
     ]
    },
    {
     "name": "stderr",
     "output_type": "stream",
     "text": [
      "\r",
      "Scraping 10 games on 12/13/24:  24%|██▎       | 43 of 182 days scraped in 319.8 sec"
     ]
    },
    {
     "name": "stderr",
     "output_type": "stream",
     "text": [
      "Traceback (most recent call last):\n",
      "  File \u001b[35m\"/opt/hostedtoolcache/Python/3.13.7/x64/lib/python3.13/multiprocessing/resource_tracker.py\"\u001b[0m, line \u001b[35m295\u001b[0m, in \u001b[35mmain\u001b[0m\n",
      "    raise ValueError(\n",
      "        f'Cannot register {name} for automatic cleanup: '\n",
      "        f'unknown resource type {rtype}')\n",
      "\u001b[1;35mValueError\u001b[0m: \u001b[35mCannot register /dev/shm/joblib_memmapping_folder_2206_58a0a356de4945feafde8409e289ddf1_9640e0f0f5d944ba824060deba8d720f for automatic cleanup: unknown resource type folder\u001b[0m\n"
     ]
    },
    {
     "name": "stderr",
     "output_type": "stream",
     "text": [
      "\r",
      "Scraping 97 games on 12/14/24:  24%|██▎       | 43 of 182 days scraped in 320.8 sec"
     ]
    },
    {
     "name": "stderr",
     "output_type": "stream",
     "text": [
      "Traceback (most recent call last):\n",
      "  File \u001b[35m\"/opt/hostedtoolcache/Python/3.13.7/x64/lib/python3.13/multiprocessing/resource_tracker.py\"\u001b[0m, line \u001b[35m295\u001b[0m, in \u001b[35mmain\u001b[0m\n",
      "    raise ValueError(\n",
      "        f'Cannot register {name} for automatic cleanup: '\n",
      "        f'unknown resource type {rtype}')\n",
      "\u001b[1;35mValueError\u001b[0m: \u001b[35mCannot register /dev/shm/joblib_memmapping_folder_2206_b052238ba60d4c039256447d53e911dc_f08355d761f34284939deab1696a4847 for automatic cleanup: unknown resource type folder\u001b[0m\n",
      "Traceback (most recent call last):\n",
      "  File \u001b[35m\"/opt/hostedtoolcache/Python/3.13.7/x64/lib/python3.13/multiprocessing/resource_tracker.py\"\u001b[0m, line \u001b[35m295\u001b[0m, in \u001b[35mmain\u001b[0m\n",
      "    raise ValueError(\n",
      "        f'Cannot register {name} for automatic cleanup: '\n",
      "        f'unknown resource type {rtype}')\n",
      "\u001b[1;35mValueError\u001b[0m: \u001b[35mCannot register /dev/shm/joblib_memmapping_folder_2206_58a0a356de4945feafde8409e289ddf1_2ef084f3890a4b698776f26a8efbdb8f for automatic cleanup: unknown resource type folder\u001b[0m\n"
     ]
    },
    {
     "name": "stderr",
     "output_type": "stream",
     "text": [
      "\r",
      "Scraping 97 games on 12/14/24:  24%|██▍       | 44 of 182 days scraped in 333.9 secTraceback (most recent call last):\n"
     ]
    },
    {
     "name": "stderr",
     "output_type": "stream",
     "text": [
      "  File \u001b[35m\"/opt/hostedtoolcache/Python/3.13.7/x64/lib/python3.13/multiprocessing/resource_tracker.py\"\u001b[0m, line \u001b[35m295\u001b[0m, in \u001b[35mmain\u001b[0m\n",
      "    raise ValueError(\n",
      "        f'Cannot register {name} for automatic cleanup: '\n",
      "        f'unknown resource type {rtype}')\n",
      "\u001b[1;35mValueError\u001b[0m: \u001b[35mCannot register /dev/shm/joblib_memmapping_folder_2206_58a0a356de4945feafde8409e289ddf1_2ef084f3890a4b698776f26a8efbdb8f for automatic cleanup: unknown resource type folder\u001b[0m\n"
     ]
    },
    {
     "name": "stderr",
     "output_type": "stream",
     "text": [
      "\r",
      "Scraping 40 games on 12/15/24:  24%|██▍       | 44 of 182 days scraped in 334.6 sec"
     ]
    },
    {
     "name": "stderr",
     "output_type": "stream",
     "text": [
      "Traceback (most recent call last):\n",
      "  File \u001b[35m\"/opt/hostedtoolcache/Python/3.13.7/x64/lib/python3.13/multiprocessing/resource_tracker.py\"\u001b[0m, line \u001b[35m295\u001b[0m, in \u001b[35mmain\u001b[0m\n",
      "    raise ValueError(\n",
      "        f'Cannot register {name} for automatic cleanup: '\n",
      "        f'unknown resource type {rtype}')\n",
      "\u001b[1;35mValueError\u001b[0m: \u001b[35mCannot register /dev/shm/joblib_memmapping_folder_2206_8d49726658814e57b497f614c73293f6_2d320c5f252b4260abab61f225fbadbb for automatic cleanup: unknown resource type folder\u001b[0m\n",
      "Traceback (most recent call last):\n",
      "  File \u001b[35m\"/opt/hostedtoolcache/Python/3.13.7/x64/lib/python3.13/multiprocessing/resource_tracker.py\"\u001b[0m, line \u001b[35m295\u001b[0m, in \u001b[35mmain\u001b[0m\n",
      "    raise ValueError(\n",
      "        f'Cannot register {name} for automatic cleanup: '\n",
      "        f'unknown resource type {rtype}')\n",
      "\u001b[1;35mValueError\u001b[0m: \u001b[35mCannot register /dev/shm/joblib_memmapping_folder_2206_58a0a356de4945feafde8409e289ddf1_071ee668a8da4361957ba985403e3c54 for automatic cleanup: unknown resource type folder\u001b[0m\n"
     ]
    },
    {
     "name": "stderr",
     "output_type": "stream",
     "text": [
      "\r",
      "Scraping 40 games on 12/15/24:  25%|██▍       | 45 of 182 days scraped in 340.6 sec"
     ]
    },
    {
     "name": "stderr",
     "output_type": "stream",
     "text": [
      "Traceback (most recent call last):\n",
      "  File \u001b[35m\"/opt/hostedtoolcache/Python/3.13.7/x64/lib/python3.13/multiprocessing/resource_tracker.py\"\u001b[0m, line \u001b[35m295\u001b[0m, in \u001b[35mmain\u001b[0m\n",
      "    raise ValueError(\n",
      "        f'Cannot register {name} for automatic cleanup: '\n",
      "        f'unknown resource type {rtype}')\n",
      "\u001b[1;35mValueError\u001b[0m: \u001b[35mCannot register /dev/shm/joblib_memmapping_folder_2206_58a0a356de4945feafde8409e289ddf1_071ee668a8da4361957ba985403e3c54 for automatic cleanup: unknown resource type folder\u001b[0m\n"
     ]
    },
    {
     "name": "stderr",
     "output_type": "stream",
     "text": [
      "\r",
      "Scraping 18 games on 12/16/24:  25%|██▍       | 45 of 182 days scraped in 341.0 sec"
     ]
    },
    {
     "name": "stderr",
     "output_type": "stream",
     "text": [
      "Traceback (most recent call last):\n",
      "  File \u001b[35m\"/opt/hostedtoolcache/Python/3.13.7/x64/lib/python3.13/multiprocessing/resource_tracker.py\"\u001b[0m, line \u001b[35m295\u001b[0m, in \u001b[35mmain\u001b[0m\n",
      "    raise ValueError(\n",
      "        f'Cannot register {name} for automatic cleanup: '\n",
      "        f'unknown resource type {rtype}')\n",
      "\u001b[1;35mValueError\u001b[0m: \u001b[35mCannot register /dev/shm/joblib_memmapping_folder_2206_72a5b580d7e341f5bcba2bb3ceaee36c_d4bfd52829614a62898fae6e1961d4fb for automatic cleanup: unknown resource type folder\u001b[0m\n",
      "Traceback (most recent call last):\n",
      "  File \u001b[35m\"/opt/hostedtoolcache/Python/3.13.7/x64/lib/python3.13/multiprocessing/resource_tracker.py\"\u001b[0m, line \u001b[35m295\u001b[0m, in \u001b[35mmain\u001b[0m\n",
      "    raise ValueError(\n",
      "        f'Cannot register {name} for automatic cleanup: '\n",
      "        f'unknown resource type {rtype}')\n",
      "\u001b[1;35mValueError\u001b[0m: \u001b[35mCannot register /dev/shm/joblib_memmapping_folder_2206_58a0a356de4945feafde8409e289ddf1_c4c284753f814a6ca99167dfcf438f45 for automatic cleanup: unknown resource type folder\u001b[0m\n"
     ]
    },
    {
     "name": "stderr",
     "output_type": "stream",
     "text": [
      "\r",
      "Scraping 18 games on 12/16/24:  25%|██▌       | 46 of 182 days scraped in 343.5 secTraceback (most recent call last):\n"
     ]
    },
    {
     "name": "stderr",
     "output_type": "stream",
     "text": [
      "  File \u001b[35m\"/opt/hostedtoolcache/Python/3.13.7/x64/lib/python3.13/multiprocessing/resource_tracker.py\"\u001b[0m, line \u001b[35m295\u001b[0m, in \u001b[35mmain\u001b[0m\n",
      "    raise ValueError(\n",
      "        f'Cannot register {name} for automatic cleanup: '\n",
      "        f'unknown resource type {rtype}')\n",
      "\u001b[1;35mValueError\u001b[0m: \u001b[35mCannot register /dev/shm/joblib_memmapping_folder_2206_58a0a356de4945feafde8409e289ddf1_c4c284753f814a6ca99167dfcf438f45 for automatic cleanup: unknown resource type folder\u001b[0m\n"
     ]
    },
    {
     "name": "stderr",
     "output_type": "stream",
     "text": [
      "\r",
      "Scraping 48 games on 12/17/24:  25%|██▌       | 46 of 182 days scraped in 344.3 sec"
     ]
    },
    {
     "name": "stderr",
     "output_type": "stream",
     "text": [
      "Traceback (most recent call last):\n",
      "  File \u001b[35m\"/opt/hostedtoolcache/Python/3.13.7/x64/lib/python3.13/multiprocessing/resource_tracker.py\"\u001b[0m, line \u001b[35m295\u001b[0m, in \u001b[35mmain\u001b[0m\n",
      "    raise ValueError(\n",
      "        f'Cannot register {name} for automatic cleanup: '\n",
      "        f'unknown resource type {rtype}')\n",
      "\u001b[1;35mValueError\u001b[0m: \u001b[35mCannot register /dev/shm/joblib_memmapping_folder_2206_d96a796f43fb4f798fb9ccc0676e50ab_df3d41c252354956ab3db4ff8c8a253d for automatic cleanup: unknown resource type folder\u001b[0m\n",
      "Traceback (most recent call last):\n",
      "  File \u001b[35m\"/opt/hostedtoolcache/Python/3.13.7/x64/lib/python3.13/multiprocessing/resource_tracker.py\"\u001b[0m, line \u001b[35m295\u001b[0m, in \u001b[35mmain\u001b[0m\n",
      "    raise ValueError(\n",
      "        f'Cannot register {name} for automatic cleanup: '\n",
      "        f'unknown resource type {rtype}')\n",
      "\u001b[1;35mValueError\u001b[0m: \u001b[35mCannot register /dev/shm/joblib_memmapping_folder_2206_58a0a356de4945feafde8409e289ddf1_a365bfb0f59e4024abdc459e96336803 for automatic cleanup: unknown resource type folder\u001b[0m\n"
     ]
    },
    {
     "name": "stderr",
     "output_type": "stream",
     "text": [
      "\r",
      "Scraping 48 games on 12/17/24:  26%|██▌       | 47 of 182 days scraped in 351.0 sec"
     ]
    },
    {
     "name": "stderr",
     "output_type": "stream",
     "text": [
      "Traceback (most recent call last):\n",
      "  File \u001b[35m\"/opt/hostedtoolcache/Python/3.13.7/x64/lib/python3.13/multiprocessing/resource_tracker.py\"\u001b[0m, line \u001b[35m295\u001b[0m, in \u001b[35mmain\u001b[0m\n",
      "    raise ValueError(\n",
      "        f'Cannot register {name} for automatic cleanup: '\n",
      "        f'unknown resource type {rtype}')\n",
      "\u001b[1;35mValueError\u001b[0m: \u001b[35mCannot register /dev/shm/joblib_memmapping_folder_2206_58a0a356de4945feafde8409e289ddf1_a365bfb0f59e4024abdc459e96336803 for automatic cleanup: unknown resource type folder\u001b[0m\n"
     ]
    },
    {
     "name": "stderr",
     "output_type": "stream",
     "text": [
      "\r",
      "Scraping 64 games on 12/18/24:  26%|██▌       | 47 of 182 days scraped in 351.8 sec"
     ]
    },
    {
     "name": "stderr",
     "output_type": "stream",
     "text": [
      "Traceback (most recent call last):\n",
      "  File \u001b[35m\"/opt/hostedtoolcache/Python/3.13.7/x64/lib/python3.13/multiprocessing/resource_tracker.py\"\u001b[0m, line \u001b[35m295\u001b[0m, in \u001b[35mmain\u001b[0m\n",
      "    raise ValueError(\n",
      "        f'Cannot register {name} for automatic cleanup: '\n",
      "        f'unknown resource type {rtype}')\n",
      "\u001b[1;35mValueError\u001b[0m: \u001b[35mCannot register /dev/shm/joblib_memmapping_folder_2206_7b09850ea4164116983107d1208e6c66_16df8028180f407db76a3fae73edbfab for automatic cleanup: unknown resource type folder\u001b[0m\n",
      "Traceback (most recent call last):\n",
      "  File \u001b[35m\"/opt/hostedtoolcache/Python/3.13.7/x64/lib/python3.13/multiprocessing/resource_tracker.py\"\u001b[0m, line \u001b[35m295\u001b[0m, in \u001b[35mmain\u001b[0m\n",
      "    raise ValueError(\n",
      "        f'Cannot register {name} for automatic cleanup: '\n",
      "        f'unknown resource type {rtype}')\n",
      "\u001b[1;35mValueError\u001b[0m: \u001b[35mCannot register /dev/shm/joblib_memmapping_folder_2206_58a0a356de4945feafde8409e289ddf1_b0c3622ddf8a4f0aae01b6fa8721693b for automatic cleanup: unknown resource type folder\u001b[0m\n"
     ]
    },
    {
     "name": "stderr",
     "output_type": "stream",
     "text": [
      "\r",
      "Scraping 64 games on 12/18/24:  26%|██▋       | 48 of 182 days scraped in 361.1 sec"
     ]
    },
    {
     "name": "stderr",
     "output_type": "stream",
     "text": [
      "Traceback (most recent call last):\n",
      "  File \u001b[35m\"/opt/hostedtoolcache/Python/3.13.7/x64/lib/python3.13/multiprocessing/resource_tracker.py\"\u001b[0m, line \u001b[35m295\u001b[0m, in \u001b[35mmain\u001b[0m\n",
      "    raise ValueError(\n",
      "        f'Cannot register {name} for automatic cleanup: '\n",
      "        f'unknown resource type {rtype}')\n",
      "\u001b[1;35mValueError\u001b[0m: \u001b[35mCannot register /dev/shm/joblib_memmapping_folder_2206_58a0a356de4945feafde8409e289ddf1_b0c3622ddf8a4f0aae01b6fa8721693b for automatic cleanup: unknown resource type folder\u001b[0m\n"
     ]
    },
    {
     "name": "stderr",
     "output_type": "stream",
     "text": [
      "\r",
      "Scraping 26 games on 12/19/24:  26%|██▋       | 48 of 182 days scraped in 361.6 sec"
     ]
    },
    {
     "name": "stderr",
     "output_type": "stream",
     "text": [
      "Traceback (most recent call last):\n",
      "  File \u001b[35m\"/opt/hostedtoolcache/Python/3.13.7/x64/lib/python3.13/multiprocessing/resource_tracker.py\"\u001b[0m, line \u001b[35m295\u001b[0m, in \u001b[35mmain\u001b[0m\n",
      "    raise ValueError(\n",
      "        f'Cannot register {name} for automatic cleanup: '\n",
      "        f'unknown resource type {rtype}')\n",
      "\u001b[1;35mValueError\u001b[0m: \u001b[35mCannot register /dev/shm/joblib_memmapping_folder_2206_24bbdd47a4014470b595adab3ea4831d_79c44b0e7cba43bdaa5ead802aa46fe2 for automatic cleanup: unknown resource type folder\u001b[0m\n",
      "Traceback (most recent call last):\n",
      "  File \u001b[35m\"/opt/hostedtoolcache/Python/3.13.7/x64/lib/python3.13/multiprocessing/resource_tracker.py\"\u001b[0m, line \u001b[35m295\u001b[0m, in \u001b[35mmain\u001b[0m\n",
      "    raise ValueError(\n",
      "        f'Cannot register {name} for automatic cleanup: '\n",
      "        f'unknown resource type {rtype}')\n",
      "\u001b[1;35mValueError\u001b[0m: \u001b[35mCannot register /dev/shm/joblib_memmapping_folder_2206_58a0a356de4945feafde8409e289ddf1_e555c68e0b48483d806896f2909634fb for automatic cleanup: unknown resource type folder\u001b[0m\n"
     ]
    },
    {
     "name": "stderr",
     "output_type": "stream",
     "text": [
      "\r",
      "Scraping 26 games on 12/19/24:  27%|██▋       | 49 of 182 days scraped in 365.3 sec"
     ]
    },
    {
     "name": "stderr",
     "output_type": "stream",
     "text": [
      "Traceback (most recent call last):\n",
      "  File \u001b[35m\"/opt/hostedtoolcache/Python/3.13.7/x64/lib/python3.13/multiprocessing/resource_tracker.py\"\u001b[0m, line \u001b[35m295\u001b[0m, in \u001b[35mmain\u001b[0m\n",
      "    raise ValueError(\n",
      "        f'Cannot register {name} for automatic cleanup: '\n",
      "        f'unknown resource type {rtype}')\n",
      "\u001b[1;35mValueError\u001b[0m: \u001b[35mCannot register /dev/shm/joblib_memmapping_folder_2206_58a0a356de4945feafde8409e289ddf1_e555c68e0b48483d806896f2909634fb for automatic cleanup: unknown resource type folder\u001b[0m\n"
     ]
    },
    {
     "name": "stderr",
     "output_type": "stream",
     "text": [
      "\r",
      "Scraping 23 games on 12/20/24:  27%|██▋       | 49 of 182 days scraped in 365.8 sec"
     ]
    },
    {
     "name": "stderr",
     "output_type": "stream",
     "text": [
      "Traceback (most recent call last):\n",
      "  File \u001b[35m\"/opt/hostedtoolcache/Python/3.13.7/x64/lib/python3.13/multiprocessing/resource_tracker.py\"\u001b[0m, line \u001b[35m295\u001b[0m, in \u001b[35mmain\u001b[0m\n",
      "    raise ValueError(\n",
      "        f'Cannot register {name} for automatic cleanup: '\n",
      "        f'unknown resource type {rtype}')\n",
      "\u001b[1;35mValueError\u001b[0m: \u001b[35mCannot register /dev/shm/joblib_memmapping_folder_2206_b40d348f3bb84e0cac5ebf3db153525e_d481828e9c884ca09169d684f089de2c for automatic cleanup: unknown resource type folder\u001b[0m\n",
      "Traceback (most recent call last):\n",
      "  File \u001b[35m\"/opt/hostedtoolcache/Python/3.13.7/x64/lib/python3.13/multiprocessing/resource_tracker.py\"\u001b[0m, line \u001b[35m295\u001b[0m, in \u001b[35mmain\u001b[0m\n",
      "    raise ValueError(\n",
      "        f'Cannot register {name} for automatic cleanup: '\n",
      "        f'unknown resource type {rtype}')\n",
      "\u001b[1;35mValueError\u001b[0m: \u001b[35mCannot register /dev/shm/joblib_memmapping_folder_2206_58a0a356de4945feafde8409e289ddf1_ce9d07aebe4d439abf34315757acb559 for automatic cleanup: unknown resource type folder\u001b[0m\n"
     ]
    },
    {
     "name": "stderr",
     "output_type": "stream",
     "text": [
      "\r",
      "Scraping 23 games on 12/20/24:  27%|██▋       | 50 of 182 days scraped in 369.4 secTraceback (most recent call last):\n"
     ]
    },
    {
     "name": "stderr",
     "output_type": "stream",
     "text": [
      "  File \u001b[35m\"/opt/hostedtoolcache/Python/3.13.7/x64/lib/python3.13/multiprocessing/resource_tracker.py\"\u001b[0m, line \u001b[35m295\u001b[0m, in \u001b[35mmain\u001b[0m\n",
      "    raise ValueError(\n",
      "        f'Cannot register {name} for automatic cleanup: '\n",
      "        f'unknown resource type {rtype}')\n",
      "\u001b[1;35mValueError\u001b[0m: \u001b[35mCannot register /dev/shm/joblib_memmapping_folder_2206_58a0a356de4945feafde8409e289ddf1_ce9d07aebe4d439abf34315757acb559 for automatic cleanup: unknown resource type folder\u001b[0m\n"
     ]
    },
    {
     "name": "stderr",
     "output_type": "stream",
     "text": [
      "\r",
      "Scraping 114 games on 12/21/24:  27%|██▋       | 50 of 182 days scraped in 370.5 sec"
     ]
    },
    {
     "name": "stderr",
     "output_type": "stream",
     "text": [
      "Traceback (most recent call last):\n",
      "  File \u001b[35m\"/opt/hostedtoolcache/Python/3.13.7/x64/lib/python3.13/multiprocessing/resource_tracker.py\"\u001b[0m, line \u001b[35m295\u001b[0m, in \u001b[35mmain\u001b[0m\n",
      "    raise ValueError(\n",
      "        f'Cannot register {name} for automatic cleanup: '\n",
      "        f'unknown resource type {rtype}')\n",
      "\u001b[1;35mValueError\u001b[0m: \u001b[35mCannot register /dev/shm/joblib_memmapping_folder_2206_1f7bd84459dc401197b589bb7304b4fe_4b6acb36b38e45a29817c7d66854e239 for automatic cleanup: unknown resource type folder\u001b[0m\n",
      "Traceback (most recent call last):\n",
      "  File \u001b[35m\"/opt/hostedtoolcache/Python/3.13.7/x64/lib/python3.13/multiprocessing/resource_tracker.py\"\u001b[0m, line \u001b[35m295\u001b[0m, in \u001b[35mmain\u001b[0m\n",
      "    raise ValueError(\n",
      "        f'Cannot register {name} for automatic cleanup: '\n",
      "        f'unknown resource type {rtype}')\n",
      "\u001b[1;35mValueError\u001b[0m: \u001b[35mCannot register /dev/shm/joblib_memmapping_folder_2206_58a0a356de4945feafde8409e289ddf1_a762e36d925343a1bcf25edb2ebc4fb9 for automatic cleanup: unknown resource type folder\u001b[0m\n"
     ]
    },
    {
     "name": "stderr",
     "output_type": "stream",
     "text": [
      "\r",
      "Scraping 114 games on 12/21/24:  28%|██▊       | 51 of 182 days scraped in 386.6 sec"
     ]
    },
    {
     "name": "stderr",
     "output_type": "stream",
     "text": [
      "Traceback (most recent call last):\n",
      "  File \u001b[35m\"/opt/hostedtoolcache/Python/3.13.7/x64/lib/python3.13/multiprocessing/resource_tracker.py\"\u001b[0m, line \u001b[35m295\u001b[0m, in \u001b[35mmain\u001b[0m\n",
      "    raise ValueError(\n",
      "        f'Cannot register {name} for automatic cleanup: '\n",
      "        f'unknown resource type {rtype}')\n",
      "\u001b[1;35mValueError\u001b[0m: \u001b[35mCannot register /dev/shm/joblib_memmapping_folder_2206_58a0a356de4945feafde8409e289ddf1_a762e36d925343a1bcf25edb2ebc4fb9 for automatic cleanup: unknown resource type folder\u001b[0m\n"
     ]
    },
    {
     "name": "stderr",
     "output_type": "stream",
     "text": [
      "\r",
      "Scraping 48 games on 12/22/24:  28%|██▊       | 51 of 182 days scraped in 387.4 sec "
     ]
    },
    {
     "name": "stderr",
     "output_type": "stream",
     "text": [
      "Traceback (most recent call last):\n",
      "  File \u001b[35m\"/opt/hostedtoolcache/Python/3.13.7/x64/lib/python3.13/multiprocessing/resource_tracker.py\"\u001b[0m, line \u001b[35m295\u001b[0m, in \u001b[35mmain\u001b[0m\n",
      "    raise ValueError(\n",
      "        f'Cannot register {name} for automatic cleanup: '\n",
      "        f'unknown resource type {rtype}')\n",
      "\u001b[1;35mValueError\u001b[0m: \u001b[35mCannot register /dev/shm/joblib_memmapping_folder_2206_62f0bbe5451c4c19b9782c911406c031_24e387a469454635a11c82ad92275e8d for automatic cleanup: unknown resource type folder\u001b[0m\n",
      "Traceback (most recent call last):\n",
      "  File \u001b[35m\"/opt/hostedtoolcache/Python/3.13.7/x64/lib/python3.13/multiprocessing/resource_tracker.py\"\u001b[0m, line \u001b[35m295\u001b[0m, in \u001b[35mmain\u001b[0m\n",
      "    raise ValueError(\n",
      "        f'Cannot register {name} for automatic cleanup: '\n",
      "        f'unknown resource type {rtype}')\n",
      "\u001b[1;35mValueError\u001b[0m: \u001b[35mCannot register /dev/shm/joblib_memmapping_folder_2206_58a0a356de4945feafde8409e289ddf1_338c244ab7764793839e7280bc631622 for automatic cleanup: unknown resource type folder\u001b[0m\n"
     ]
    },
    {
     "name": "stderr",
     "output_type": "stream",
     "text": [
      "\r",
      "Scraping 48 games on 12/22/24:  29%|██▊       | 52 of 182 days scraped in 394.2 sec"
     ]
    },
    {
     "name": "stderr",
     "output_type": "stream",
     "text": [
      "Traceback (most recent call last):\n",
      "  File \u001b[35m\"/opt/hostedtoolcache/Python/3.13.7/x64/lib/python3.13/multiprocessing/resource_tracker.py\"\u001b[0m, line \u001b[35m295\u001b[0m, in \u001b[35mmain\u001b[0m\n",
      "    raise ValueError(\n",
      "        f'Cannot register {name} for automatic cleanup: '\n",
      "        f'unknown resource type {rtype}')\n",
      "\u001b[1;35mValueError\u001b[0m: \u001b[35mCannot register /dev/shm/joblib_memmapping_folder_2206_58a0a356de4945feafde8409e289ddf1_338c244ab7764793839e7280bc631622 for automatic cleanup: unknown resource type folder\u001b[0m\n"
     ]
    },
    {
     "name": "stderr",
     "output_type": "stream",
     "text": [
      "\r",
      "Scraping 9 games on 12/23/24:  29%|██▊       | 52 of 182 days scraped in 394.8 sec "
     ]
    },
    {
     "name": "stderr",
     "output_type": "stream",
     "text": [
      "Traceback (most recent call last):\n",
      "  File \u001b[35m\"/opt/hostedtoolcache/Python/3.13.7/x64/lib/python3.13/multiprocessing/resource_tracker.py\"\u001b[0m, line \u001b[35m295\u001b[0m, in \u001b[35mmain\u001b[0m\n",
      "    raise ValueError(\n",
      "        f'Cannot register {name} for automatic cleanup: '\n",
      "        f'unknown resource type {rtype}')\n",
      "\u001b[1;35mValueError\u001b[0m: \u001b[35mCannot register /dev/shm/joblib_memmapping_folder_2206_f00681afe9a6401e946dcc8081dd0a72_95d7528de4384306842dc5c3cfbb3264 for automatic cleanup: unknown resource type folder\u001b[0m\n",
      "Traceback (most recent call last):\n",
      "  File \u001b[35m\"/opt/hostedtoolcache/Python/3.13.7/x64/lib/python3.13/multiprocessing/resource_tracker.py\"\u001b[0m, line \u001b[35m295\u001b[0m, in \u001b[35mmain\u001b[0m\n",
      "    raise ValueError(\n",
      "        f'Cannot register {name} for automatic cleanup: '\n",
      "        f'unknown resource type {rtype}')\n",
      "\u001b[1;35mValueError\u001b[0m: \u001b[35mCannot register /dev/shm/joblib_memmapping_folder_2206_58a0a356de4945feafde8409e289ddf1_30930420c3d440fc9620f0db9f703337 for automatic cleanup: unknown resource type folder\u001b[0m\n"
     ]
    },
    {
     "name": "stderr",
     "output_type": "stream",
     "text": [
      "\r",
      "Scraping 9 games on 12/23/24:  29%|██▉       | 53 of 182 days scraped in 396.1 secTraceback (most recent call last):\n"
     ]
    },
    {
     "name": "stderr",
     "output_type": "stream",
     "text": [
      "  File \u001b[35m\"/opt/hostedtoolcache/Python/3.13.7/x64/lib/python3.13/multiprocessing/resource_tracker.py\"\u001b[0m, line \u001b[35m295\u001b[0m, in \u001b[35mmain\u001b[0m\n",
      "    raise ValueError(\n",
      "        f'Cannot register {name} for automatic cleanup: '\n",
      "        f'unknown resource type {rtype}')\n",
      "\u001b[1;35mValueError\u001b[0m: \u001b[35mCannot register /dev/shm/joblib_memmapping_folder_2206_58a0a356de4945feafde8409e289ddf1_30930420c3d440fc9620f0db9f703337 for automatic cleanup: unknown resource type folder\u001b[0m\n"
     ]
    },
    {
     "name": "stderr",
     "output_type": "stream",
     "text": [
      "\r",
      "Scraping 0 games on 12/24/24:  29%|██▉       | 53 of 182 days scraped in 396.4 sec"
     ]
    },
    {
     "name": "stderr",
     "output_type": "stream",
     "text": [
      "\r",
      "No games on 12/24/24:  30%|██▉       | 54 of 182 days scraped in 396.4 sec        "
     ]
    },
    {
     "name": "stderr",
     "output_type": "stream",
     "text": [
      "\r",
      "Scraping 4 games on 12/25/24:  30%|██▉       | 54 of 182 days scraped in 396.7 sec"
     ]
    },
    {
     "name": "stderr",
     "output_type": "stream",
     "text": [
      "Traceback (most recent call last):\n",
      "  File \u001b[35m\"/opt/hostedtoolcache/Python/3.13.7/x64/lib/python3.13/multiprocessing/resource_tracker.py\"\u001b[0m, line \u001b[35m295\u001b[0m, in \u001b[35mmain\u001b[0m\n",
      "    raise ValueError(\n",
      "        f'Cannot register {name} for automatic cleanup: '\n",
      "        f'unknown resource type {rtype}')\n",
      "\u001b[1;35mValueError\u001b[0m: \u001b[35mCannot register /dev/shm/joblib_memmapping_folder_2206_196ac446818640d099110d1aa6f0fd46_880ee8d46eb24e8196b302e67c738611 for automatic cleanup: unknown resource type folder\u001b[0m\n",
      "Traceback (most recent call last):\n",
      "  File \u001b[35m\"/opt/hostedtoolcache/Python/3.13.7/x64/lib/python3.13/multiprocessing/resource_tracker.py\"\u001b[0m, line \u001b[35m295\u001b[0m, in \u001b[35mmain\u001b[0m\n",
      "    raise ValueError(\n",
      "        f'Cannot register {name} for automatic cleanup: '\n",
      "        f'unknown resource type {rtype}')\n",
      "\u001b[1;35mValueError\u001b[0m: \u001b[35mCannot register /dev/shm/joblib_memmapping_folder_2206_58a0a356de4945feafde8409e289ddf1_538c0b9316cc4cd9ab1a3992ed00d3cd for automatic cleanup: unknown resource type folder\u001b[0m\n"
     ]
    },
    {
     "name": "stderr",
     "output_type": "stream",
     "text": [
      "\r",
      "Scraping 4 games on 12/25/24:  30%|███       | 55 of 182 days scraped in 397.7 sec"
     ]
    },
    {
     "name": "stderr",
     "output_type": "stream",
     "text": [
      "Traceback (most recent call last):\n",
      "  File \u001b[35m\"/opt/hostedtoolcache/Python/3.13.7/x64/lib/python3.13/multiprocessing/resource_tracker.py\"\u001b[0m, line \u001b[35m295\u001b[0m, in \u001b[35mmain\u001b[0m\n",
      "    raise ValueError(\n",
      "        f'Cannot register {name} for automatic cleanup: '\n",
      "        f'unknown resource type {rtype}')\n",
      "\u001b[1;35mValueError\u001b[0m: \u001b[35mCannot register /dev/shm/joblib_memmapping_folder_2206_58a0a356de4945feafde8409e289ddf1_538c0b9316cc4cd9ab1a3992ed00d3cd for automatic cleanup: unknown resource type folder\u001b[0m\n"
     ]
    },
    {
     "name": "stderr",
     "output_type": "stream",
     "text": [
      "\r",
      "Scraping 0 games on 12/26/24:  30%|███       | 55 of 182 days scraped in 398.0 sec"
     ]
    },
    {
     "name": "stderr",
     "output_type": "stream",
     "text": [
      "\r",
      "No games on 12/26/24:  31%|███       | 56 of 182 days scraped in 398.0 sec        "
     ]
    },
    {
     "name": "stderr",
     "output_type": "stream",
     "text": [
      "\r",
      "Scraping 2 games on 12/27/24:  31%|███       | 56 of 182 days scraped in 398.3 sec"
     ]
    },
    {
     "name": "stderr",
     "output_type": "stream",
     "text": [
      "Traceback (most recent call last):\n",
      "  File \u001b[35m\"/opt/hostedtoolcache/Python/3.13.7/x64/lib/python3.13/multiprocessing/resource_tracker.py\"\u001b[0m, line \u001b[35m295\u001b[0m, in \u001b[35mmain\u001b[0m\n",
      "    raise ValueError(\n",
      "        f'Cannot register {name} for automatic cleanup: '\n",
      "        f'unknown resource type {rtype}')\n",
      "\u001b[1;35mValueError\u001b[0m: \u001b[35mCannot register /dev/shm/joblib_memmapping_folder_2206_e7b2a28243d2437993329042f7c84f5f_4eb2a47bf56947048bb8f6ab81d1d3be for automatic cleanup: unknown resource type folder\u001b[0m\n",
      "Traceback (most recent call last):\n",
      "  File \u001b[35m\"/opt/hostedtoolcache/Python/3.13.7/x64/lib/python3.13/multiprocessing/resource_tracker.py\"\u001b[0m, line \u001b[35m295\u001b[0m, in \u001b[35mmain\u001b[0m\n",
      "    raise ValueError(\n",
      "        f'Cannot register {name} for automatic cleanup: '\n",
      "        f'unknown resource type {rtype}')\n",
      "\u001b[1;35mValueError\u001b[0m: \u001b[35mCannot register /dev/shm/joblib_memmapping_folder_2206_58a0a356de4945feafde8409e289ddf1_302ffec973a54132ad6f1f2e8fe0f1c7 for automatic cleanup: unknown resource type folder\u001b[0m\n"
     ]
    },
    {
     "name": "stderr",
     "output_type": "stream",
     "text": [
      "\r",
      "Scraping 2 games on 12/27/24:  31%|███▏      | 57 of 182 days scraped in 398.6 secTraceback (most recent call last):\n"
     ]
    },
    {
     "name": "stderr",
     "output_type": "stream",
     "text": [
      "  File \u001b[35m\"/opt/hostedtoolcache/Python/3.13.7/x64/lib/python3.13/multiprocessing/resource_tracker.py\"\u001b[0m, line \u001b[35m295\u001b[0m, in \u001b[35mmain\u001b[0m\n",
      "    raise ValueError(\n",
      "        f'Cannot register {name} for automatic cleanup: '\n",
      "        f'unknown resource type {rtype}')\n",
      "\u001b[1;35mValueError\u001b[0m: \u001b[35mCannot register /dev/shm/joblib_memmapping_folder_2206_58a0a356de4945feafde8409e289ddf1_302ffec973a54132ad6f1f2e8fe0f1c7 for automatic cleanup: unknown resource type folder\u001b[0m\n"
     ]
    },
    {
     "name": "stderr",
     "output_type": "stream",
     "text": [
      "\r",
      "Scraping 53 games on 12/28/24:  31%|███▏      | 57 of 182 days scraped in 399.2 sec"
     ]
    },
    {
     "name": "stderr",
     "output_type": "stream",
     "text": [
      "Traceback (most recent call last):\n",
      "  File \u001b[35m\"/opt/hostedtoolcache/Python/3.13.7/x64/lib/python3.13/multiprocessing/resource_tracker.py\"\u001b[0m, line \u001b[35m295\u001b[0m, in \u001b[35mmain\u001b[0m\n",
      "    raise ValueError(\n",
      "        f'Cannot register {name} for automatic cleanup: '\n",
      "        f'unknown resource type {rtype}')\n",
      "\u001b[1;35mValueError\u001b[0m: \u001b[35mCannot register /dev/shm/joblib_memmapping_folder_2206_374d41cbce5f43c8b56b5fa2e939ab0b_723b3e9613734392aed6689170ad34fb for automatic cleanup: unknown resource type folder\u001b[0m\n",
      "Traceback (most recent call last):\n",
      "  File \u001b[35m\"/opt/hostedtoolcache/Python/3.13.7/x64/lib/python3.13/multiprocessing/resource_tracker.py\"\u001b[0m, line \u001b[35m295\u001b[0m, in \u001b[35mmain\u001b[0m\n",
      "    raise ValueError(\n",
      "        f'Cannot register {name} for automatic cleanup: '\n",
      "        f'unknown resource type {rtype}')\n",
      "\u001b[1;35mValueError\u001b[0m: \u001b[35mCannot register /dev/shm/joblib_memmapping_folder_2206_58a0a356de4945feafde8409e289ddf1_856f87b1c0e846df86732c7d3a02beaf for automatic cleanup: unknown resource type folder\u001b[0m\n"
     ]
    },
    {
     "name": "stderr",
     "output_type": "stream",
     "text": [
      "\r",
      "Scraping 53 games on 12/28/24:  32%|███▏      | 58 of 182 days scraped in 406.0 sec"
     ]
    },
    {
     "name": "stderr",
     "output_type": "stream",
     "text": [
      "Traceback (most recent call last):\n",
      "  File \u001b[35m\"/opt/hostedtoolcache/Python/3.13.7/x64/lib/python3.13/multiprocessing/resource_tracker.py\"\u001b[0m, line \u001b[35m295\u001b[0m, in \u001b[35mmain\u001b[0m\n",
      "    raise ValueError(\n",
      "        f'Cannot register {name} for automatic cleanup: '\n",
      "        f'unknown resource type {rtype}')\n",
      "\u001b[1;35mValueError\u001b[0m: \u001b[35mCannot register /dev/shm/joblib_memmapping_folder_2206_58a0a356de4945feafde8409e289ddf1_856f87b1c0e846df86732c7d3a02beaf for automatic cleanup: unknown resource type folder\u001b[0m\n"
     ]
    },
    {
     "name": "stderr",
     "output_type": "stream",
     "text": [
      "\r",
      "Scraping 60 games on 12/29/24:  32%|███▏      | 58 of 182 days scraped in 406.9 sec"
     ]
    },
    {
     "name": "stderr",
     "output_type": "stream",
     "text": [
      "Traceback (most recent call last):\n",
      "  File \u001b[35m\"/opt/hostedtoolcache/Python/3.13.7/x64/lib/python3.13/multiprocessing/resource_tracker.py\"\u001b[0m, line \u001b[35m295\u001b[0m, in \u001b[35mmain\u001b[0m\n",
      "    raise ValueError(\n",
      "        f'Cannot register {name} for automatic cleanup: '\n",
      "        f'unknown resource type {rtype}')\n",
      "\u001b[1;35mValueError\u001b[0m: \u001b[35mCannot register /dev/shm/joblib_memmapping_folder_2206_4a28bcb960fc4f4b96a8cde452b26cbf_ff44d19d24ca427fa86108124dca8168 for automatic cleanup: unknown resource type folder\u001b[0m\n",
      "Traceback (most recent call last):\n",
      "  File \u001b[35m\"/opt/hostedtoolcache/Python/3.13.7/x64/lib/python3.13/multiprocessing/resource_tracker.py\"\u001b[0m, line \u001b[35m295\u001b[0m, in \u001b[35mmain\u001b[0m\n",
      "    raise ValueError(\n",
      "        f'Cannot register {name} for automatic cleanup: '\n",
      "        f'unknown resource type {rtype}')\n",
      "\u001b[1;35mValueError\u001b[0m: \u001b[35mCannot register /dev/shm/joblib_memmapping_folder_2206_58a0a356de4945feafde8409e289ddf1_d249a49bf6cd4633961e9708746dd43f for automatic cleanup: unknown resource type folder\u001b[0m\n"
     ]
    },
    {
     "name": "stderr",
     "output_type": "stream",
     "text": [
      "\r",
      "Scraping 60 games on 12/29/24:  32%|███▏      | 59 of 182 days scraped in 415.7 sec"
     ]
    },
    {
     "name": "stderr",
     "output_type": "stream",
     "text": [
      "Traceback (most recent call last):\n",
      "  File \u001b[35m\"/opt/hostedtoolcache/Python/3.13.7/x64/lib/python3.13/multiprocessing/resource_tracker.py\"\u001b[0m, line \u001b[35m295\u001b[0m, in \u001b[35mmain\u001b[0m\n",
      "    raise ValueError(\n",
      "        f'Cannot register {name} for automatic cleanup: '\n",
      "        f'unknown resource type {rtype}')\n",
      "\u001b[1;35mValueError\u001b[0m: \u001b[35mCannot register /dev/shm/joblib_memmapping_folder_2206_58a0a356de4945feafde8409e289ddf1_d249a49bf6cd4633961e9708746dd43f for automatic cleanup: unknown resource type folder\u001b[0m\n"
     ]
    },
    {
     "name": "stderr",
     "output_type": "stream",
     "text": [
      "\r",
      "Scraping 43 games on 12/30/24:  32%|███▏      | 59 of 182 days scraped in 416.4 sec"
     ]
    },
    {
     "name": "stderr",
     "output_type": "stream",
     "text": [
      "Traceback (most recent call last):\n",
      "  File \u001b[35m\"/opt/hostedtoolcache/Python/3.13.7/x64/lib/python3.13/multiprocessing/resource_tracker.py\"\u001b[0m, line \u001b[35m295\u001b[0m, in \u001b[35mmain\u001b[0m\n",
      "    raise ValueError(\n",
      "        f'Cannot register {name} for automatic cleanup: '\n",
      "        f'unknown resource type {rtype}')\n",
      "\u001b[1;35mValueError\u001b[0m: \u001b[35mCannot register /dev/shm/joblib_memmapping_folder_2206_ae2635ca5c8a4a41ac7085796b3b5a36_94b1296d14ff4416b1b5a14c8dd4f487 for automatic cleanup: unknown resource type folder\u001b[0m\n",
      "Traceback (most recent call last):\n",
      "  File \u001b[35m\"/opt/hostedtoolcache/Python/3.13.7/x64/lib/python3.13/multiprocessing/resource_tracker.py\"\u001b[0m, line \u001b[35m295\u001b[0m, in \u001b[35mmain\u001b[0m\n",
      "    raise ValueError(\n",
      "        f'Cannot register {name} for automatic cleanup: '\n",
      "        f'unknown resource type {rtype}')\n",
      "\u001b[1;35mValueError\u001b[0m: \u001b[35mCannot register /dev/shm/joblib_memmapping_folder_2206_58a0a356de4945feafde8409e289ddf1_c9081a8f76f548539cea3479defe60c5 for automatic cleanup: unknown resource type folder\u001b[0m\n"
     ]
    },
    {
     "name": "stderr",
     "output_type": "stream",
     "text": [
      "\r",
      "Scraping 43 games on 12/30/24:  33%|███▎      | 60 of 182 days scraped in 422.4 secTraceback (most recent call last):\n"
     ]
    },
    {
     "name": "stderr",
     "output_type": "stream",
     "text": [
      "  File \u001b[35m\"/opt/hostedtoolcache/Python/3.13.7/x64/lib/python3.13/multiprocessing/resource_tracker.py\"\u001b[0m, line \u001b[35m295\u001b[0m, in \u001b[35mmain\u001b[0m\n",
      "    raise ValueError(\n",
      "        f'Cannot register {name} for automatic cleanup: '\n",
      "        f'unknown resource type {rtype}')\n",
      "\u001b[1;35mValueError\u001b[0m: \u001b[35mCannot register /dev/shm/joblib_memmapping_folder_2206_58a0a356de4945feafde8409e289ddf1_c9081a8f76f548539cea3479defe60c5 for automatic cleanup: unknown resource type folder\u001b[0m\n"
     ]
    },
    {
     "name": "stderr",
     "output_type": "stream",
     "text": [
      "\r",
      "Scraping 33 games on 12/31/24:  33%|███▎      | 60 of 182 days scraped in 423.2 sec"
     ]
    },
    {
     "name": "stderr",
     "output_type": "stream",
     "text": [
      "Traceback (most recent call last):\n",
      "  File \u001b[35m\"/opt/hostedtoolcache/Python/3.13.7/x64/lib/python3.13/multiprocessing/resource_tracker.py\"\u001b[0m, line \u001b[35m295\u001b[0m, in \u001b[35mmain\u001b[0m\n",
      "    raise ValueError(\n",
      "        f'Cannot register {name} for automatic cleanup: '\n",
      "        f'unknown resource type {rtype}')\n",
      "\u001b[1;35mValueError\u001b[0m: \u001b[35mCannot register /dev/shm/joblib_memmapping_folder_2206_df87c209bf4d4365a4bc4bf8875ba8b9_81725dabd2d44882a185e0feee525504 for automatic cleanup: unknown resource type folder\u001b[0m\n",
      "Traceback (most recent call last):\n",
      "  File \u001b[35m\"/opt/hostedtoolcache/Python/3.13.7/x64/lib/python3.13/multiprocessing/resource_tracker.py\"\u001b[0m, line \u001b[35m295\u001b[0m, in \u001b[35mmain\u001b[0m\n",
      "    raise ValueError(\n",
      "        f'Cannot register {name} for automatic cleanup: '\n",
      "        f'unknown resource type {rtype}')\n",
      "\u001b[1;35mValueError\u001b[0m: \u001b[35mCannot register /dev/shm/joblib_memmapping_folder_2206_58a0a356de4945feafde8409e289ddf1_a8b3c8297da549848ecad9390c45b881 for automatic cleanup: unknown resource type folder\u001b[0m\n"
     ]
    },
    {
     "name": "stderr",
     "output_type": "stream",
     "text": [
      "\r",
      "Scraping 33 games on 12/31/24:  34%|███▎      | 61 of 182 days scraped in 427.7 sec"
     ]
    },
    {
     "name": "stderr",
     "output_type": "stream",
     "text": [
      "Traceback (most recent call last):\n",
      "  File \u001b[35m\"/opt/hostedtoolcache/Python/3.13.7/x64/lib/python3.13/multiprocessing/resource_tracker.py\"\u001b[0m, line \u001b[35m295\u001b[0m, in \u001b[35mmain\u001b[0m\n",
      "    raise ValueError(\n",
      "        f'Cannot register {name} for automatic cleanup: '\n",
      "        f'unknown resource type {rtype}')\n",
      "\u001b[1;35mValueError\u001b[0m: \u001b[35mCannot register /dev/shm/joblib_memmapping_folder_2206_58a0a356de4945feafde8409e289ddf1_a8b3c8297da549848ecad9390c45b881 for automatic cleanup: unknown resource type folder\u001b[0m\n"
     ]
    },
    {
     "name": "stderr",
     "output_type": "stream",
     "text": [
      "\r",
      "Scraping 21 games on 01/01/25:  34%|███▎      | 61 of 182 days scraped in 428.1 sec"
     ]
    },
    {
     "name": "stderr",
     "output_type": "stream",
     "text": [
      "Traceback (most recent call last):\n",
      "  File \u001b[35m\"/opt/hostedtoolcache/Python/3.13.7/x64/lib/python3.13/multiprocessing/resource_tracker.py\"\u001b[0m, line \u001b[35m295\u001b[0m, in \u001b[35mmain\u001b[0m\n",
      "    raise ValueError(\n",
      "        f'Cannot register {name} for automatic cleanup: '\n",
      "        f'unknown resource type {rtype}')\n",
      "\u001b[1;35mValueError\u001b[0m: \u001b[35mCannot register /dev/shm/joblib_memmapping_folder_2206_e19746d0a19143b3950b8755f568f58e_b84615e161a04d79af44ac11e72f5ea1 for automatic cleanup: unknown resource type folder\u001b[0m\n",
      "Traceback (most recent call last):\n",
      "  File \u001b[35m\"/opt/hostedtoolcache/Python/3.13.7/x64/lib/python3.13/multiprocessing/resource_tracker.py\"\u001b[0m, line \u001b[35m295\u001b[0m, in \u001b[35mmain\u001b[0m\n",
      "    raise ValueError(\n",
      "        f'Cannot register {name} for automatic cleanup: '\n",
      "        f'unknown resource type {rtype}')\n",
      "\u001b[1;35mValueError\u001b[0m: \u001b[35mCannot register /dev/shm/joblib_memmapping_folder_2206_58a0a356de4945feafde8409e289ddf1_ca91d90e514a42baa836506eb291fad5 for automatic cleanup: unknown resource type folder\u001b[0m\n"
     ]
    },
    {
     "name": "stderr",
     "output_type": "stream",
     "text": [
      "\r",
      "Scraping 21 games on 01/01/25:  34%|███▍      | 62 of 182 days scraped in 431.1 sec"
     ]
    },
    {
     "name": "stderr",
     "output_type": "stream",
     "text": [
      "Traceback (most recent call last):\n",
      "  File \u001b[35m\"/opt/hostedtoolcache/Python/3.13.7/x64/lib/python3.13/multiprocessing/resource_tracker.py\"\u001b[0m, line \u001b[35m295\u001b[0m, in \u001b[35mmain\u001b[0m\n",
      "    raise ValueError(\n",
      "        f'Cannot register {name} for automatic cleanup: '\n",
      "        f'unknown resource type {rtype}')\n",
      "\u001b[1;35mValueError\u001b[0m: \u001b[35mCannot register /dev/shm/joblib_memmapping_folder_2206_58a0a356de4945feafde8409e289ddf1_ca91d90e514a42baa836506eb291fad5 for automatic cleanup: unknown resource type folder\u001b[0m\n"
     ]
    },
    {
     "name": "stderr",
     "output_type": "stream",
     "text": [
      "\r",
      "Scraping 66 games on 01/02/25:  34%|███▍      | 62 of 182 days scraped in 431.9 sec"
     ]
    },
    {
     "name": "stderr",
     "output_type": "stream",
     "text": [
      "Traceback (most recent call last):\n",
      "  File \u001b[35m\"/opt/hostedtoolcache/Python/3.13.7/x64/lib/python3.13/multiprocessing/resource_tracker.py\"\u001b[0m, line \u001b[35m295\u001b[0m, in \u001b[35mmain\u001b[0m\n",
      "    raise ValueError(\n",
      "        f'Cannot register {name} for automatic cleanup: '\n",
      "        f'unknown resource type {rtype}')\n",
      "\u001b[1;35mValueError\u001b[0m: \u001b[35mCannot register /dev/shm/joblib_memmapping_folder_2206_9033a14b3a6d49068c441333504ce291_97152223374a4a2baa87407a64036927 for automatic cleanup: unknown resource type folder\u001b[0m\n",
      "Traceback (most recent call last):\n",
      "  File \u001b[35m\"/opt/hostedtoolcache/Python/3.13.7/x64/lib/python3.13/multiprocessing/resource_tracker.py\"\u001b[0m, line \u001b[35m295\u001b[0m, in \u001b[35mmain\u001b[0m\n",
      "    raise ValueError(\n",
      "        f'Cannot register {name} for automatic cleanup: '\n",
      "        f'unknown resource type {rtype}')\n",
      "\u001b[1;35mValueError\u001b[0m: \u001b[35mCannot register /dev/shm/joblib_memmapping_folder_2206_58a0a356de4945feafde8409e289ddf1_c7c0564734c843058b1be46df1867fd9 for automatic cleanup: unknown resource type folder\u001b[0m\n"
     ]
    },
    {
     "name": "stderr",
     "output_type": "stream",
     "text": [
      "\r",
      "Scraping 66 games on 01/02/25:  35%|███▍      | 63 of 182 days scraped in 440.9 secTraceback (most recent call last):\n"
     ]
    },
    {
     "name": "stderr",
     "output_type": "stream",
     "text": [
      "  File \u001b[35m\"/opt/hostedtoolcache/Python/3.13.7/x64/lib/python3.13/multiprocessing/resource_tracker.py\"\u001b[0m, line \u001b[35m295\u001b[0m, in \u001b[35mmain\u001b[0m\n",
      "    raise ValueError(\n",
      "        f'Cannot register {name} for automatic cleanup: '\n",
      "        f'unknown resource type {rtype}')\n",
      "\u001b[1;35mValueError\u001b[0m: \u001b[35mCannot register /dev/shm/joblib_memmapping_folder_2206_58a0a356de4945feafde8409e289ddf1_c7c0564734c843058b1be46df1867fd9 for automatic cleanup: unknown resource type folder\u001b[0m\n"
     ]
    },
    {
     "name": "stderr",
     "output_type": "stream",
     "text": [
      "\r",
      "Scraping 16 games on 01/03/25:  35%|███▍      | 63 of 182 days scraped in 441.6 sec"
     ]
    },
    {
     "name": "stderr",
     "output_type": "stream",
     "text": [
      "Traceback (most recent call last):\n",
      "  File \u001b[35m\"/opt/hostedtoolcache/Python/3.13.7/x64/lib/python3.13/multiprocessing/resource_tracker.py\"\u001b[0m, line \u001b[35m295\u001b[0m, in \u001b[35mmain\u001b[0m\n",
      "    raise ValueError(\n",
      "        f'Cannot register {name} for automatic cleanup: '\n",
      "        f'unknown resource type {rtype}')\n",
      "\u001b[1;35mValueError\u001b[0m: \u001b[35mCannot register /dev/shm/joblib_memmapping_folder_2206_de1ed812c48a415892cdad8c80d25444_a7f917467a8c4fdeb9255f003f28ece6 for automatic cleanup: unknown resource type folder\u001b[0m\n",
      "Traceback (most recent call last):\n",
      "  File \u001b[35m\"/opt/hostedtoolcache/Python/3.13.7/x64/lib/python3.13/multiprocessing/resource_tracker.py\"\u001b[0m, line \u001b[35m295\u001b[0m, in \u001b[35mmain\u001b[0m\n",
      "    raise ValueError(\n",
      "        f'Cannot register {name} for automatic cleanup: '\n",
      "        f'unknown resource type {rtype}')\n",
      "\u001b[1;35mValueError\u001b[0m: \u001b[35mCannot register /dev/shm/joblib_memmapping_folder_2206_58a0a356de4945feafde8409e289ddf1_d2a76e5372724377be5c62c2cc234946 for automatic cleanup: unknown resource type folder\u001b[0m\n"
     ]
    },
    {
     "name": "stderr",
     "output_type": "stream",
     "text": [
      "\r",
      "Scraping 16 games on 01/03/25:  35%|███▌      | 64 of 182 days scraped in 444.0 sec"
     ]
    },
    {
     "name": "stderr",
     "output_type": "stream",
     "text": [
      "Traceback (most recent call last):\n",
      "  File \u001b[35m\"/opt/hostedtoolcache/Python/3.13.7/x64/lib/python3.13/multiprocessing/resource_tracker.py\"\u001b[0m, line \u001b[35m295\u001b[0m, in \u001b[35mmain\u001b[0m\n",
      "    raise ValueError(\n",
      "        f'Cannot register {name} for automatic cleanup: '\n",
      "        f'unknown resource type {rtype}')\n",
      "\u001b[1;35mValueError\u001b[0m: \u001b[35mCannot register /dev/shm/joblib_memmapping_folder_2206_58a0a356de4945feafde8409e289ddf1_d2a76e5372724377be5c62c2cc234946 for automatic cleanup: unknown resource type folder\u001b[0m\n"
     ]
    },
    {
     "name": "stderr",
     "output_type": "stream",
     "text": [
      "\r",
      "Scraping 139 games on 01/04/25:  35%|███▌      | 64 of 182 days scraped in 445.3 sec"
     ]
    },
    {
     "name": "stderr",
     "output_type": "stream",
     "text": [
      "Traceback (most recent call last):\n",
      "  File \u001b[35m\"/opt/hostedtoolcache/Python/3.13.7/x64/lib/python3.13/multiprocessing/resource_tracker.py\"\u001b[0m, line \u001b[35m295\u001b[0m, in \u001b[35mmain\u001b[0m\n",
      "    raise ValueError(\n",
      "        f'Cannot register {name} for automatic cleanup: '\n",
      "        f'unknown resource type {rtype}')\n",
      "\u001b[1;35mValueError\u001b[0m: \u001b[35mCannot register /dev/shm/joblib_memmapping_folder_2206_08d5885189be4a4fb2f1928eac76e09e_9b8904c5eaf8438cbaa8463a8f134592 for automatic cleanup: unknown resource type folder\u001b[0m\n",
      "Traceback (most recent call last):\n",
      "  File \u001b[35m\"/opt/hostedtoolcache/Python/3.13.7/x64/lib/python3.13/multiprocessing/resource_tracker.py\"\u001b[0m, line \u001b[35m295\u001b[0m, in \u001b[35mmain\u001b[0m\n",
      "    raise ValueError(\n",
      "        f'Cannot register {name} for automatic cleanup: '\n",
      "        f'unknown resource type {rtype}')\n",
      "\u001b[1;35mValueError\u001b[0m: \u001b[35mCannot register /dev/shm/joblib_memmapping_folder_2206_58a0a356de4945feafde8409e289ddf1_3c8f36d877d641fbaebf113c0a897c64 for automatic cleanup: unknown resource type folder\u001b[0m\n"
     ]
    },
    {
     "name": "stderr",
     "output_type": "stream",
     "text": [
      "\r",
      "Scraping 139 games on 01/04/25:  36%|███▌      | 65 of 182 days scraped in 464.9 sec"
     ]
    },
    {
     "name": "stderr",
     "output_type": "stream",
     "text": [
      "Traceback (most recent call last):\n",
      "  File \u001b[35m\"/opt/hostedtoolcache/Python/3.13.7/x64/lib/python3.13/multiprocessing/resource_tracker.py\"\u001b[0m, line \u001b[35m295\u001b[0m, in \u001b[35mmain\u001b[0m\n",
      "    raise ValueError(\n",
      "        f'Cannot register {name} for automatic cleanup: '\n",
      "        f'unknown resource type {rtype}')\n",
      "\u001b[1;35mValueError\u001b[0m: \u001b[35mCannot register /dev/shm/joblib_memmapping_folder_2206_58a0a356de4945feafde8409e289ddf1_3c8f36d877d641fbaebf113c0a897c64 for automatic cleanup: unknown resource type folder\u001b[0m\n"
     ]
    },
    {
     "name": "stderr",
     "output_type": "stream",
     "text": [
      "\r",
      "Scraping 27 games on 01/05/25:  36%|███▌      | 65 of 182 days scraped in 465.4 sec "
     ]
    },
    {
     "name": "stderr",
     "output_type": "stream",
     "text": [
      "Traceback (most recent call last):\n",
      "  File \u001b[35m\"/opt/hostedtoolcache/Python/3.13.7/x64/lib/python3.13/multiprocessing/resource_tracker.py\"\u001b[0m, line \u001b[35m295\u001b[0m, in \u001b[35mmain\u001b[0m\n",
      "    raise ValueError(\n",
      "        f'Cannot register {name} for automatic cleanup: '\n",
      "        f'unknown resource type {rtype}')\n",
      "\u001b[1;35mValueError\u001b[0m: \u001b[35mCannot register /dev/shm/joblib_memmapping_folder_2206_cc177ab6e9f747a39b62385eb87595f6_d09e67e4859d4ea8802dbb8c1f2f328e for automatic cleanup: unknown resource type folder\u001b[0m\n",
      "Traceback (most recent call last):\n",
      "  File \u001b[35m\"/opt/hostedtoolcache/Python/3.13.7/x64/lib/python3.13/multiprocessing/resource_tracker.py\"\u001b[0m, line \u001b[35m295\u001b[0m, in \u001b[35mmain\u001b[0m\n",
      "    raise ValueError(\n",
      "        f'Cannot register {name} for automatic cleanup: '\n",
      "        f'unknown resource type {rtype}')\n",
      "\u001b[1;35mValueError\u001b[0m: \u001b[35mCannot register /dev/shm/joblib_memmapping_folder_2206_58a0a356de4945feafde8409e289ddf1_4346f6a3bbb34119954aef248dc1f206 for automatic cleanup: unknown resource type folder\u001b[0m\n"
     ]
    },
    {
     "name": "stderr",
     "output_type": "stream",
     "text": [
      "\r",
      "Scraping 27 games on 01/05/25:  36%|███▋      | 66 of 182 days scraped in 469.2 secTraceback (most recent call last):\n"
     ]
    },
    {
     "name": "stderr",
     "output_type": "stream",
     "text": [
      "  File \u001b[35m\"/opt/hostedtoolcache/Python/3.13.7/x64/lib/python3.13/multiprocessing/resource_tracker.py\"\u001b[0m, line \u001b[35m295\u001b[0m, in \u001b[35mmain\u001b[0m\n",
      "    raise ValueError(\n",
      "        f'Cannot register {name} for automatic cleanup: '\n",
      "        f'unknown resource type {rtype}')\n",
      "\u001b[1;35mValueError\u001b[0m: \u001b[35mCannot register /dev/shm/joblib_memmapping_folder_2206_58a0a356de4945feafde8409e289ddf1_4346f6a3bbb34119954aef248dc1f206 for automatic cleanup: unknown resource type folder\u001b[0m\n"
     ]
    },
    {
     "name": "stderr",
     "output_type": "stream",
     "text": [
      "\r",
      "Scraping 16 games on 01/06/25:  36%|███▋      | 66 of 182 days scraped in 469.6 sec"
     ]
    },
    {
     "name": "stderr",
     "output_type": "stream",
     "text": [
      "Traceback (most recent call last):\n",
      "  File \u001b[35m\"/opt/hostedtoolcache/Python/3.13.7/x64/lib/python3.13/multiprocessing/resource_tracker.py\"\u001b[0m, line \u001b[35m295\u001b[0m, in \u001b[35mmain\u001b[0m\n",
      "    raise ValueError(\n",
      "        f'Cannot register {name} for automatic cleanup: '\n",
      "        f'unknown resource type {rtype}')\n",
      "\u001b[1;35mValueError\u001b[0m: \u001b[35mCannot register /dev/shm/joblib_memmapping_folder_2206_7f55a50d7034403c9f3bf72035018952_57625b9e7d7b4f2ebece4b06efb8cf8e for automatic cleanup: unknown resource type folder\u001b[0m\n",
      "Traceback (most recent call last):\n",
      "  File \u001b[35m\"/opt/hostedtoolcache/Python/3.13.7/x64/lib/python3.13/multiprocessing/resource_tracker.py\"\u001b[0m, line \u001b[35m295\u001b[0m, in \u001b[35mmain\u001b[0m\n",
      "    raise ValueError(\n",
      "        f'Cannot register {name} for automatic cleanup: '\n",
      "        f'unknown resource type {rtype}')\n",
      "\u001b[1;35mValueError\u001b[0m: \u001b[35mCannot register /dev/shm/joblib_memmapping_folder_2206_58a0a356de4945feafde8409e289ddf1_18122318faec43a998ba2b999b9f086e for automatic cleanup: unknown resource type folder\u001b[0m\n"
     ]
    },
    {
     "name": "stderr",
     "output_type": "stream",
     "text": [
      "\r",
      "Scraping 16 games on 01/06/25:  37%|███▋      | 67 of 182 days scraped in 471.6 secTraceback (most recent call last):\n"
     ]
    },
    {
     "name": "stderr",
     "output_type": "stream",
     "text": [
      "  File \u001b[35m\"/opt/hostedtoolcache/Python/3.13.7/x64/lib/python3.13/multiprocessing/resource_tracker.py\"\u001b[0m, line \u001b[35m295\u001b[0m, in \u001b[35mmain\u001b[0m\n",
      "    raise ValueError(\n",
      "        f'Cannot register {name} for automatic cleanup: '\n",
      "        f'unknown resource type {rtype}')\n",
      "\u001b[1;35mValueError\u001b[0m: \u001b[35mCannot register /dev/shm/joblib_memmapping_folder_2206_58a0a356de4945feafde8409e289ddf1_18122318faec43a998ba2b999b9f086e for automatic cleanup: unknown resource type folder\u001b[0m\n"
     ]
    },
    {
     "name": "stderr",
     "output_type": "stream",
     "text": [
      "\r",
      "Scraping 34 games on 01/07/25:  37%|███▋      | 67 of 182 days scraped in 472.6 sec"
     ]
    },
    {
     "name": "stderr",
     "output_type": "stream",
     "text": [
      "Traceback (most recent call last):\n",
      "  File \u001b[35m\"/opt/hostedtoolcache/Python/3.13.7/x64/lib/python3.13/multiprocessing/resource_tracker.py\"\u001b[0m, line \u001b[35m295\u001b[0m, in \u001b[35mmain\u001b[0m\n",
      "    raise ValueError(\n",
      "        f'Cannot register {name} for automatic cleanup: '\n",
      "        f'unknown resource type {rtype}')\n",
      "\u001b[1;35mValueError\u001b[0m: \u001b[35mCannot register /dev/shm/joblib_memmapping_folder_2206_6c8735254bb64dbaba5f28a9d7cba543_4d360252c15b4c27bcd6a43118135ebf for automatic cleanup: unknown resource type folder\u001b[0m\n",
      "Traceback (most recent call last):\n",
      "  File \u001b[35m\"/opt/hostedtoolcache/Python/3.13.7/x64/lib/python3.13/multiprocessing/resource_tracker.py\"\u001b[0m, line \u001b[35m295\u001b[0m, in \u001b[35mmain\u001b[0m\n",
      "    raise ValueError(\n",
      "        f'Cannot register {name} for automatic cleanup: '\n",
      "        f'unknown resource type {rtype}')\n",
      "\u001b[1;35mValueError\u001b[0m: \u001b[35mCannot register /dev/shm/joblib_memmapping_folder_2206_58a0a356de4945feafde8409e289ddf1_5e16c2004342479c9904e0d621cb47ce for automatic cleanup: unknown resource type folder\u001b[0m\n"
     ]
    },
    {
     "name": "stderr",
     "output_type": "stream",
     "text": [
      "\r",
      "Scraping 34 games on 01/07/25:  37%|███▋      | 68 of 182 days scraped in 476.7 sec"
     ]
    },
    {
     "name": "stderr",
     "output_type": "stream",
     "text": [
      "Traceback (most recent call last):\n",
      "  File \u001b[35m\"/opt/hostedtoolcache/Python/3.13.7/x64/lib/python3.13/multiprocessing/resource_tracker.py\"\u001b[0m, line \u001b[35m295\u001b[0m, in \u001b[35mmain\u001b[0m\n",
      "    raise ValueError(\n",
      "        f'Cannot register {name} for automatic cleanup: '\n",
      "        f'unknown resource type {rtype}')\n",
      "\u001b[1;35mValueError\u001b[0m: \u001b[35mCannot register /dev/shm/joblib_memmapping_folder_2206_58a0a356de4945feafde8409e289ddf1_5e16c2004342479c9904e0d621cb47ce for automatic cleanup: unknown resource type folder\u001b[0m\n"
     ]
    },
    {
     "name": "stderr",
     "output_type": "stream",
     "text": [
      "\r",
      "Scraping 50 games on 01/08/25:  37%|███▋      | 68 of 182 days scraped in 477.3 sec"
     ]
    },
    {
     "name": "stderr",
     "output_type": "stream",
     "text": [
      "Traceback (most recent call last):\n",
      "  File \u001b[35m\"/opt/hostedtoolcache/Python/3.13.7/x64/lib/python3.13/multiprocessing/resource_tracker.py\"\u001b[0m, line \u001b[35m295\u001b[0m, in \u001b[35mmain\u001b[0m\n",
      "    raise ValueError(\n",
      "        f'Cannot register {name} for automatic cleanup: '\n",
      "        f'unknown resource type {rtype}')\n",
      "\u001b[1;35mValueError\u001b[0m: \u001b[35mCannot register /dev/shm/joblib_memmapping_folder_2206_971fcff2e9e24911ac6da0b115557553_f509b9cbbbd24a6c8ef7568ffe452069 for automatic cleanup: unknown resource type folder\u001b[0m\n",
      "Traceback (most recent call last):\n",
      "  File \u001b[35m\"/opt/hostedtoolcache/Python/3.13.7/x64/lib/python3.13/multiprocessing/resource_tracker.py\"\u001b[0m, line \u001b[35m295\u001b[0m, in \u001b[35mmain\u001b[0m\n",
      "    raise ValueError(\n",
      "        f'Cannot register {name} for automatic cleanup: '\n",
      "        f'unknown resource type {rtype}')\n",
      "\u001b[1;35mValueError\u001b[0m: \u001b[35mCannot register /dev/shm/joblib_memmapping_folder_2206_58a0a356de4945feafde8409e289ddf1_1548935d3f004094ae3274e509051b6a for automatic cleanup: unknown resource type folder\u001b[0m\n"
     ]
    },
    {
     "name": "stderr",
     "output_type": "stream",
     "text": [
      "\r",
      "Scraping 50 games on 01/08/25:  38%|███▊      | 69 of 182 days scraped in 484.2 sec"
     ]
    },
    {
     "name": "stderr",
     "output_type": "stream",
     "text": [
      "Traceback (most recent call last):\n",
      "  File \u001b[35m\"/opt/hostedtoolcache/Python/3.13.7/x64/lib/python3.13/multiprocessing/resource_tracker.py\"\u001b[0m, line \u001b[35m295\u001b[0m, in \u001b[35mmain\u001b[0m\n",
      "    raise ValueError(\n",
      "        f'Cannot register {name} for automatic cleanup: '\n",
      "        f'unknown resource type {rtype}')\n",
      "\u001b[1;35mValueError\u001b[0m: \u001b[35mCannot register /dev/shm/joblib_memmapping_folder_2206_58a0a356de4945feafde8409e289ddf1_1548935d3f004094ae3274e509051b6a for automatic cleanup: unknown resource type folder\u001b[0m\n"
     ]
    },
    {
     "name": "stderr",
     "output_type": "stream",
     "text": [
      "\r",
      "Scraping 55 games on 01/09/25:  38%|███▊      | 69 of 182 days scraped in 484.8 sec"
     ]
    },
    {
     "name": "stderr",
     "output_type": "stream",
     "text": [
      "Traceback (most recent call last):\n",
      "  File \u001b[35m\"/opt/hostedtoolcache/Python/3.13.7/x64/lib/python3.13/multiprocessing/resource_tracker.py\"\u001b[0m, line \u001b[35m295\u001b[0m, in \u001b[35mmain\u001b[0m\n",
      "    raise ValueError(\n",
      "        f'Cannot register {name} for automatic cleanup: '\n",
      "        f'unknown resource type {rtype}')\n",
      "\u001b[1;35mValueError\u001b[0m: \u001b[35mCannot register /dev/shm/joblib_memmapping_folder_2206_398ab9a878014bec9084af311abeaa11_18337cbebfcb49d990ba49dd5ff759fc for automatic cleanup: unknown resource type folder\u001b[0m\n",
      "Traceback (most recent call last):\n",
      "  File \u001b[35m\"/opt/hostedtoolcache/Python/3.13.7/x64/lib/python3.13/multiprocessing/resource_tracker.py\"\u001b[0m, line \u001b[35m295\u001b[0m, in \u001b[35mmain\u001b[0m\n",
      "    raise ValueError(\n",
      "        f'Cannot register {name} for automatic cleanup: '\n",
      "        f'unknown resource type {rtype}')\n",
      "\u001b[1;35mValueError\u001b[0m: \u001b[35mCannot register /dev/shm/joblib_memmapping_folder_2206_58a0a356de4945feafde8409e289ddf1_ab6ed78281c8450a88af26dc61e095d7 for automatic cleanup: unknown resource type folder\u001b[0m\n"
     ]
    },
    {
     "name": "stderr",
     "output_type": "stream",
     "text": [
      "\r",
      "Scraping 55 games on 01/09/25:  38%|███▊      | 70 of 182 days scraped in 491.6 sec"
     ]
    },
    {
     "name": "stderr",
     "output_type": "stream",
     "text": [
      "Traceback (most recent call last):\n",
      "  File \u001b[35m\"/opt/hostedtoolcache/Python/3.13.7/x64/lib/python3.13/multiprocessing/resource_tracker.py\"\u001b[0m, line \u001b[35m295\u001b[0m, in \u001b[35mmain\u001b[0m\n",
      "    raise ValueError(\n",
      "        f'Cannot register {name} for automatic cleanup: '\n",
      "        f'unknown resource type {rtype}')\n",
      "\u001b[1;35mValueError\u001b[0m: \u001b[35mCannot register /dev/shm/joblib_memmapping_folder_2206_58a0a356de4945feafde8409e289ddf1_ab6ed78281c8450a88af26dc61e095d7 for automatic cleanup: unknown resource type folder\u001b[0m\n"
     ]
    },
    {
     "name": "stderr",
     "output_type": "stream",
     "text": [
      "\r",
      "Scraping 14 games on 01/10/25:  38%|███▊      | 70 of 182 days scraped in 492.0 sec"
     ]
    },
    {
     "name": "stderr",
     "output_type": "stream",
     "text": [
      "Traceback (most recent call last):\n",
      "  File \u001b[35m\"/opt/hostedtoolcache/Python/3.13.7/x64/lib/python3.13/multiprocessing/resource_tracker.py\"\u001b[0m, line \u001b[35m295\u001b[0m, in \u001b[35mmain\u001b[0m\n",
      "    raise ValueError(\n",
      "        f'Cannot register {name} for automatic cleanup: '\n",
      "        f'unknown resource type {rtype}')\n",
      "\u001b[1;35mValueError\u001b[0m: \u001b[35mCannot register /dev/shm/joblib_memmapping_folder_2206_6fccb11b9a1747ff98e730f7fd957c97_58c393a720e34cb5a39518365a5012a2 for automatic cleanup: unknown resource type folder\u001b[0m\n",
      "Traceback (most recent call last):\n",
      "  File \u001b[35m\"/opt/hostedtoolcache/Python/3.13.7/x64/lib/python3.13/multiprocessing/resource_tracker.py\"\u001b[0m, line \u001b[35m295\u001b[0m, in \u001b[35mmain\u001b[0m\n",
      "    raise ValueError(\n",
      "        f'Cannot register {name} for automatic cleanup: '\n",
      "        f'unknown resource type {rtype}')\n",
      "\u001b[1;35mValueError\u001b[0m: \u001b[35mCannot register /dev/shm/joblib_memmapping_folder_2206_58a0a356de4945feafde8409e289ddf1_0f06c9344c0d4929ad1cb3039d299a0d for automatic cleanup: unknown resource type folder\u001b[0m\n"
     ]
    },
    {
     "name": "stderr",
     "output_type": "stream",
     "text": [
      "\r",
      "Scraping 14 games on 01/10/25:  39%|███▉      | 71 of 182 days scraped in 494.1 secTraceback (most recent call last):\n"
     ]
    },
    {
     "name": "stderr",
     "output_type": "stream",
     "text": [
      "  File \u001b[35m\"/opt/hostedtoolcache/Python/3.13.7/x64/lib/python3.13/multiprocessing/resource_tracker.py\"\u001b[0m, line \u001b[35m295\u001b[0m, in \u001b[35mmain\u001b[0m\n",
      "    raise ValueError(\n",
      "        f'Cannot register {name} for automatic cleanup: '\n",
      "        f'unknown resource type {rtype}')\n",
      "\u001b[1;35mValueError\u001b[0m: \u001b[35mCannot register /dev/shm/joblib_memmapping_folder_2206_58a0a356de4945feafde8409e289ddf1_0f06c9344c0d4929ad1cb3039d299a0d for automatic cleanup: unknown resource type folder\u001b[0m\n"
     ]
    },
    {
     "name": "stderr",
     "output_type": "stream",
     "text": [
      "\r",
      "Scraping 144 games on 01/11/25:  39%|███▉      | 71 of 182 days scraped in 495.4 sec"
     ]
    },
    {
     "name": "stderr",
     "output_type": "stream",
     "text": [
      "Traceback (most recent call last):\n",
      "  File \u001b[35m\"/opt/hostedtoolcache/Python/3.13.7/x64/lib/python3.13/multiprocessing/resource_tracker.py\"\u001b[0m, line \u001b[35m295\u001b[0m, in \u001b[35mmain\u001b[0m\n",
      "    raise ValueError(\n",
      "        f'Cannot register {name} for automatic cleanup: '\n",
      "        f'unknown resource type {rtype}')\n",
      "\u001b[1;35mValueError\u001b[0m: \u001b[35mCannot register /dev/shm/joblib_memmapping_folder_2206_6660608f38844b7c8db7f725c507dc68_de8ed431c447475da428984b0e77aff0 for automatic cleanup: unknown resource type folder\u001b[0m\n",
      "Traceback (most recent call last):\n",
      "  File \u001b[35m\"/opt/hostedtoolcache/Python/3.13.7/x64/lib/python3.13/multiprocessing/resource_tracker.py\"\u001b[0m, line \u001b[35m295\u001b[0m, in \u001b[35mmain\u001b[0m\n",
      "    raise ValueError(\n",
      "        f'Cannot register {name} for automatic cleanup: '\n",
      "        f'unknown resource type {rtype}')\n",
      "\u001b[1;35mValueError\u001b[0m: \u001b[35mCannot register /dev/shm/joblib_memmapping_folder_2206_58a0a356de4945feafde8409e289ddf1_41ae46f0bd964b7687f4f8aad64e7d2e for automatic cleanup: unknown resource type folder\u001b[0m\n"
     ]
    },
    {
     "name": "stderr",
     "output_type": "stream",
     "text": [
      "\r",
      "Scraping 144 games on 01/11/25:  40%|███▉      | 72 of 182 days scraped in 515.8 sec"
     ]
    },
    {
     "name": "stderr",
     "output_type": "stream",
     "text": [
      "Traceback (most recent call last):\n",
      "  File \u001b[35m\"/opt/hostedtoolcache/Python/3.13.7/x64/lib/python3.13/multiprocessing/resource_tracker.py\"\u001b[0m, line \u001b[35m295\u001b[0m, in \u001b[35mmain\u001b[0m\n",
      "    raise ValueError(\n",
      "        f'Cannot register {name} for automatic cleanup: '\n",
      "        f'unknown resource type {rtype}')\n",
      "\u001b[1;35mValueError\u001b[0m: \u001b[35mCannot register /dev/shm/joblib_memmapping_folder_2206_58a0a356de4945feafde8409e289ddf1_41ae46f0bd964b7687f4f8aad64e7d2e for automatic cleanup: unknown resource type folder\u001b[0m\n"
     ]
    },
    {
     "name": "stderr",
     "output_type": "stream",
     "text": [
      "\r",
      "Scraping 21 games on 01/12/25:  40%|███▉      | 72 of 182 days scraped in 516.3 sec "
     ]
    },
    {
     "name": "stderr",
     "output_type": "stream",
     "text": [
      "Traceback (most recent call last):\n",
      "  File \u001b[35m\"/opt/hostedtoolcache/Python/3.13.7/x64/lib/python3.13/multiprocessing/resource_tracker.py\"\u001b[0m, line \u001b[35m295\u001b[0m, in \u001b[35mmain\u001b[0m\n",
      "    raise ValueError(\n",
      "        f'Cannot register {name} for automatic cleanup: '\n",
      "        f'unknown resource type {rtype}')\n",
      "\u001b[1;35mValueError\u001b[0m: \u001b[35mCannot register /dev/shm/joblib_memmapping_folder_2206_c4edda52882548e7a5363fd12c308169_850f1b8eea4a4c859106bd4f5e3a775e for automatic cleanup: unknown resource type folder\u001b[0m\n",
      "Traceback (most recent call last):\n",
      "  File \u001b[35m\"/opt/hostedtoolcache/Python/3.13.7/x64/lib/python3.13/multiprocessing/resource_tracker.py\"\u001b[0m, line \u001b[35m295\u001b[0m, in \u001b[35mmain\u001b[0m\n",
      "    raise ValueError(\n",
      "        f'Cannot register {name} for automatic cleanup: '\n",
      "        f'unknown resource type {rtype}')\n",
      "\u001b[1;35mValueError\u001b[0m: \u001b[35mCannot register /dev/shm/joblib_memmapping_folder_2206_58a0a356de4945feafde8409e289ddf1_c94e873e75f840288088028fa3be3ecd for automatic cleanup: unknown resource type folder\u001b[0m\n"
     ]
    },
    {
     "name": "stderr",
     "output_type": "stream",
     "text": [
      "\r",
      "Scraping 21 games on 01/12/25:  40%|████      | 73 of 182 days scraped in 519.2 secTraceback (most recent call last):\n"
     ]
    },
    {
     "name": "stderr",
     "output_type": "stream",
     "text": [
      "  File \u001b[35m\"/opt/hostedtoolcache/Python/3.13.7/x64/lib/python3.13/multiprocessing/resource_tracker.py\"\u001b[0m, line \u001b[35m295\u001b[0m, in \u001b[35mmain\u001b[0m\n",
      "    raise ValueError(\n",
      "        f'Cannot register {name} for automatic cleanup: '\n",
      "        f'unknown resource type {rtype}')\n",
      "\u001b[1;35mValueError\u001b[0m: \u001b[35mCannot register /dev/shm/joblib_memmapping_folder_2206_58a0a356de4945feafde8409e289ddf1_c94e873e75f840288088028fa3be3ecd for automatic cleanup: unknown resource type folder\u001b[0m\n"
     ]
    },
    {
     "name": "stderr",
     "output_type": "stream",
     "text": [
      "\r",
      "Scraping 22 games on 01/13/25:  40%|████      | 73 of 182 days scraped in 519.6 sec"
     ]
    },
    {
     "name": "stderr",
     "output_type": "stream",
     "text": [
      "Traceback (most recent call last):\n",
      "  File \u001b[35m\"/opt/hostedtoolcache/Python/3.13.7/x64/lib/python3.13/multiprocessing/resource_tracker.py\"\u001b[0m, line \u001b[35m295\u001b[0m, in \u001b[35mmain\u001b[0m\n",
      "    raise ValueError(\n",
      "        f'Cannot register {name} for automatic cleanup: '\n",
      "        f'unknown resource type {rtype}')\n",
      "\u001b[1;35mValueError\u001b[0m: \u001b[35mCannot register /dev/shm/joblib_memmapping_folder_2206_b237c41d924d48b89d08a59bed2b84f5_29d0432bac874f7c8ad3b2e166cdc1ef for automatic cleanup: unknown resource type folder\u001b[0m\n",
      "Traceback (most recent call last):\n",
      "  File \u001b[35m\"/opt/hostedtoolcache/Python/3.13.7/x64/lib/python3.13/multiprocessing/resource_tracker.py\"\u001b[0m, line \u001b[35m295\u001b[0m, in \u001b[35mmain\u001b[0m\n",
      "    raise ValueError(\n",
      "        f'Cannot register {name} for automatic cleanup: '\n",
      "        f'unknown resource type {rtype}')\n",
      "\u001b[1;35mValueError\u001b[0m: \u001b[35mCannot register /dev/shm/joblib_memmapping_folder_2206_58a0a356de4945feafde8409e289ddf1_600e1e38c8044cd89c888f35671ad31f for automatic cleanup: unknown resource type folder\u001b[0m\n"
     ]
    },
    {
     "name": "stderr",
     "output_type": "stream",
     "text": [
      "\r",
      "Scraping 22 games on 01/13/25:  41%|████      | 74 of 182 days scraped in 522.8 sec"
     ]
    },
    {
     "name": "stderr",
     "output_type": "stream",
     "text": [
      "Traceback (most recent call last):\n",
      "  File \u001b[35m\"/opt/hostedtoolcache/Python/3.13.7/x64/lib/python3.13/multiprocessing/resource_tracker.py\"\u001b[0m, line \u001b[35m295\u001b[0m, in \u001b[35mmain\u001b[0m\n",
      "    raise ValueError(\n",
      "        f'Cannot register {name} for automatic cleanup: '\n",
      "        f'unknown resource type {rtype}')\n",
      "\u001b[1;35mValueError\u001b[0m: \u001b[35mCannot register /dev/shm/joblib_memmapping_folder_2206_58a0a356de4945feafde8409e289ddf1_600e1e38c8044cd89c888f35671ad31f for automatic cleanup: unknown resource type folder\u001b[0m\n"
     ]
    },
    {
     "name": "stderr",
     "output_type": "stream",
     "text": [
      "\r",
      "Scraping 36 games on 01/14/25:  41%|████      | 74 of 182 days scraped in 523.4 sec"
     ]
    },
    {
     "name": "stderr",
     "output_type": "stream",
     "text": [
      "Traceback (most recent call last):\n",
      "  File \u001b[35m\"/opt/hostedtoolcache/Python/3.13.7/x64/lib/python3.13/multiprocessing/resource_tracker.py\"\u001b[0m, line \u001b[35m295\u001b[0m, in \u001b[35mmain\u001b[0m\n",
      "    raise ValueError(\n",
      "        f'Cannot register {name} for automatic cleanup: '\n",
      "        f'unknown resource type {rtype}')\n",
      "\u001b[1;35mValueError\u001b[0m: \u001b[35mCannot register /dev/shm/joblib_memmapping_folder_2206_5a0729e4f11b4d0686855e9fe7c234cc_6249a17495e146ed907a49ade7a8b66f for automatic cleanup: unknown resource type folder\u001b[0m\n",
      "Traceback (most recent call last):\n",
      "  File \u001b[35m\"/opt/hostedtoolcache/Python/3.13.7/x64/lib/python3.13/multiprocessing/resource_tracker.py\"\u001b[0m, line \u001b[35m295\u001b[0m, in \u001b[35mmain\u001b[0m\n",
      "    raise ValueError(\n",
      "        f'Cannot register {name} for automatic cleanup: '\n",
      "        f'unknown resource type {rtype}')\n",
      "\u001b[1;35mValueError\u001b[0m: \u001b[35mCannot register /dev/shm/joblib_memmapping_folder_2206_58a0a356de4945feafde8409e289ddf1_d6b9d1304be448cb905acb129520a34c for automatic cleanup: unknown resource type folder\u001b[0m\n"
     ]
    },
    {
     "name": "stderr",
     "output_type": "stream",
     "text": [
      "\r",
      "Scraping 36 games on 01/14/25:  41%|████      | 75 of 182 days scraped in 528.5 sec"
     ]
    },
    {
     "name": "stderr",
     "output_type": "stream",
     "text": [
      "Traceback (most recent call last):\n",
      "  File \u001b[35m\"/opt/hostedtoolcache/Python/3.13.7/x64/lib/python3.13/multiprocessing/resource_tracker.py\"\u001b[0m, line \u001b[35m295\u001b[0m, in \u001b[35mmain\u001b[0m\n",
      "    raise ValueError(\n",
      "        f'Cannot register {name} for automatic cleanup: '\n",
      "        f'unknown resource type {rtype}')\n",
      "\u001b[1;35mValueError\u001b[0m: \u001b[35mCannot register /dev/shm/joblib_memmapping_folder_2206_58a0a356de4945feafde8409e289ddf1_d6b9d1304be448cb905acb129520a34c for automatic cleanup: unknown resource type folder\u001b[0m\n"
     ]
    },
    {
     "name": "stderr",
     "output_type": "stream",
     "text": [
      "\r",
      "Scraping 48 games on 01/15/25:  41%|████      | 75 of 182 days scraped in 529.2 sec"
     ]
    },
    {
     "name": "stderr",
     "output_type": "stream",
     "text": [
      "Traceback (most recent call last):\n",
      "  File \u001b[35m\"/opt/hostedtoolcache/Python/3.13.7/x64/lib/python3.13/multiprocessing/resource_tracker.py\"\u001b[0m, line \u001b[35m295\u001b[0m, in \u001b[35mmain\u001b[0m\n",
      "    raise ValueError(\n",
      "        f'Cannot register {name} for automatic cleanup: '\n",
      "        f'unknown resource type {rtype}')\n",
      "\u001b[1;35mValueError\u001b[0m: \u001b[35mCannot register /dev/shm/joblib_memmapping_folder_2206_ac1e129c129e4f85bd8bccfee2be55be_ef1385c74fed49feadd68a13e6fa687f for automatic cleanup: unknown resource type folder\u001b[0m\n",
      "Traceback (most recent call last):\n",
      "  File \u001b[35m\"/opt/hostedtoolcache/Python/3.13.7/x64/lib/python3.13/multiprocessing/resource_tracker.py\"\u001b[0m, line \u001b[35m295\u001b[0m, in \u001b[35mmain\u001b[0m\n",
      "    raise ValueError(\n",
      "        f'Cannot register {name} for automatic cleanup: '\n",
      "        f'unknown resource type {rtype}')\n",
      "\u001b[1;35mValueError\u001b[0m: \u001b[35mCannot register /dev/shm/joblib_memmapping_folder_2206_58a0a356de4945feafde8409e289ddf1_5457aaa4cdd144ef8546010d324f4066 for automatic cleanup: unknown resource type folder\u001b[0m\n"
     ]
    },
    {
     "name": "stderr",
     "output_type": "stream",
     "text": [
      "\r",
      "Scraping 48 games on 01/15/25:  42%|████▏     | 76 of 182 days scraped in 535.9 sec"
     ]
    },
    {
     "name": "stderr",
     "output_type": "stream",
     "text": [
      "Traceback (most recent call last):\n",
      "  File \u001b[35m\"/opt/hostedtoolcache/Python/3.13.7/x64/lib/python3.13/multiprocessing/resource_tracker.py\"\u001b[0m, line \u001b[35m295\u001b[0m, in \u001b[35mmain\u001b[0m\n",
      "    raise ValueError(\n",
      "        f'Cannot register {name} for automatic cleanup: '\n",
      "        f'unknown resource type {rtype}')\n",
      "\u001b[1;35mValueError\u001b[0m: \u001b[35mCannot register /dev/shm/joblib_memmapping_folder_2206_58a0a356de4945feafde8409e289ddf1_5457aaa4cdd144ef8546010d324f4066 for automatic cleanup: unknown resource type folder\u001b[0m\n"
     ]
    },
    {
     "name": "stderr",
     "output_type": "stream",
     "text": [
      "\r",
      "Scraping 63 games on 01/16/25:  42%|████▏     | 76 of 182 days scraped in 536.9 sec"
     ]
    },
    {
     "name": "stderr",
     "output_type": "stream",
     "text": [
      "Traceback (most recent call last):\n",
      "  File \u001b[35m\"/opt/hostedtoolcache/Python/3.13.7/x64/lib/python3.13/multiprocessing/resource_tracker.py\"\u001b[0m, line \u001b[35m295\u001b[0m, in \u001b[35mmain\u001b[0m\n",
      "    raise ValueError(\n",
      "        f'Cannot register {name} for automatic cleanup: '\n",
      "        f'unknown resource type {rtype}')\n",
      "\u001b[1;35mValueError\u001b[0m: \u001b[35mCannot register /dev/shm/joblib_memmapping_folder_2206_8c86f457d2174c01965346dc43047aa7_1ee930336b7c42958689d3dfc750ca5b for automatic cleanup: unknown resource type folder\u001b[0m\n",
      "Traceback (most recent call last):\n",
      "  File \u001b[35m\"/opt/hostedtoolcache/Python/3.13.7/x64/lib/python3.13/multiprocessing/resource_tracker.py\"\u001b[0m, line \u001b[35m295\u001b[0m, in \u001b[35mmain\u001b[0m\n",
      "    raise ValueError(\n",
      "        f'Cannot register {name} for automatic cleanup: '\n",
      "        f'unknown resource type {rtype}')\n",
      "\u001b[1;35mValueError\u001b[0m: \u001b[35mCannot register /dev/shm/joblib_memmapping_folder_2206_58a0a356de4945feafde8409e289ddf1_e2b74c6d3b5342afaebb172c7af942c4 for automatic cleanup: unknown resource type folder\u001b[0m\n"
     ]
    },
    {
     "name": "stderr",
     "output_type": "stream",
     "text": [
      "\r",
      "Scraping 63 games on 01/16/25:  42%|████▏     | 77 of 182 days scraped in 545.8 sec"
     ]
    },
    {
     "name": "stderr",
     "output_type": "stream",
     "text": [
      "Traceback (most recent call last):\n",
      "  File \u001b[35m\"/opt/hostedtoolcache/Python/3.13.7/x64/lib/python3.13/multiprocessing/resource_tracker.py\"\u001b[0m, line \u001b[35m295\u001b[0m, in \u001b[35mmain\u001b[0m\n",
      "    raise ValueError(\n",
      "        f'Cannot register {name} for automatic cleanup: '\n",
      "        f'unknown resource type {rtype}')\n",
      "\u001b[1;35mValueError\u001b[0m: \u001b[35mCannot register /dev/shm/joblib_memmapping_folder_2206_58a0a356de4945feafde8409e289ddf1_e2b74c6d3b5342afaebb172c7af942c4 for automatic cleanup: unknown resource type folder\u001b[0m\n"
     ]
    },
    {
     "name": "stderr",
     "output_type": "stream",
     "text": [
      "\r",
      "Scraping 10 games on 01/17/25:  42%|████▏     | 77 of 182 days scraped in 546.1 sec"
     ]
    },
    {
     "name": "stderr",
     "output_type": "stream",
     "text": [
      "Traceback (most recent call last):\n",
      "  File \u001b[35m\"/opt/hostedtoolcache/Python/3.13.7/x64/lib/python3.13/multiprocessing/resource_tracker.py\"\u001b[0m, line \u001b[35m295\u001b[0m, in \u001b[35mmain\u001b[0m\n",
      "    raise ValueError(\n",
      "        f'Cannot register {name} for automatic cleanup: '\n",
      "        f'unknown resource type {rtype}')\n",
      "\u001b[1;35mValueError\u001b[0m: \u001b[35mCannot register /dev/shm/joblib_memmapping_folder_2206_9152cb0b88f44ae8b76f5dd53ca1c5e0_28f29f58d73548df9cc024fa173ae5bf for automatic cleanup: unknown resource type folder\u001b[0m\n",
      "Traceback (most recent call last):\n",
      "  File \u001b[35m\"/opt/hostedtoolcache/Python/3.13.7/x64/lib/python3.13/multiprocessing/resource_tracker.py\"\u001b[0m, line \u001b[35m295\u001b[0m, in \u001b[35mmain\u001b[0m\n",
      "    raise ValueError(\n",
      "        f'Cannot register {name} for automatic cleanup: '\n",
      "        f'unknown resource type {rtype}')\n",
      "\u001b[1;35mValueError\u001b[0m: \u001b[35mCannot register /dev/shm/joblib_memmapping_folder_2206_58a0a356de4945feafde8409e289ddf1_3c20a8ee5c914c599ca0f11549266651 for automatic cleanup: unknown resource type folder\u001b[0m\n"
     ]
    },
    {
     "name": "stderr",
     "output_type": "stream",
     "text": [
      "\r",
      "Scraping 10 games on 01/17/25:  43%|████▎     | 78 of 182 days scraped in 547.9 secTraceback (most recent call last):\n"
     ]
    },
    {
     "name": "stderr",
     "output_type": "stream",
     "text": [
      "  File \u001b[35m\"/opt/hostedtoolcache/Python/3.13.7/x64/lib/python3.13/multiprocessing/resource_tracker.py\"\u001b[0m, line \u001b[35m295\u001b[0m, in \u001b[35mmain\u001b[0m\n",
      "    raise ValueError(\n",
      "        f'Cannot register {name} for automatic cleanup: '\n",
      "        f'unknown resource type {rtype}')\n",
      "\u001b[1;35mValueError\u001b[0m: \u001b[35mCannot register /dev/shm/joblib_memmapping_folder_2206_58a0a356de4945feafde8409e289ddf1_3c20a8ee5c914c599ca0f11549266651 for automatic cleanup: unknown resource type folder\u001b[0m\n"
     ]
    },
    {
     "name": "stderr",
     "output_type": "stream",
     "text": [
      "\r",
      "Scraping 148 games on 01/18/25:  43%|████▎     | 78 of 182 days scraped in 549.2 sec"
     ]
    },
    {
     "name": "stderr",
     "output_type": "stream",
     "text": [
      "Traceback (most recent call last):\n",
      "  File \u001b[35m\"/opt/hostedtoolcache/Python/3.13.7/x64/lib/python3.13/multiprocessing/resource_tracker.py\"\u001b[0m, line \u001b[35m295\u001b[0m, in \u001b[35mmain\u001b[0m\n",
      "    raise ValueError(\n",
      "        f'Cannot register {name} for automatic cleanup: '\n",
      "        f'unknown resource type {rtype}')\n",
      "\u001b[1;35mValueError\u001b[0m: \u001b[35mCannot register /dev/shm/joblib_memmapping_folder_2206_d4610f1b1b0c42a6b7d24d28720ae7f6_90b51b8858874e8093e7cbc0f1f0cc6d for automatic cleanup: unknown resource type folder\u001b[0m\n",
      "Traceback (most recent call last):\n",
      "  File \u001b[35m\"/opt/hostedtoolcache/Python/3.13.7/x64/lib/python3.13/multiprocessing/resource_tracker.py\"\u001b[0m, line \u001b[35m295\u001b[0m, in \u001b[35mmain\u001b[0m\n",
      "    raise ValueError(\n",
      "        f'Cannot register {name} for automatic cleanup: '\n",
      "        f'unknown resource type {rtype}')\n",
      "\u001b[1;35mValueError\u001b[0m: \u001b[35mCannot register /dev/shm/joblib_memmapping_folder_2206_58a0a356de4945feafde8409e289ddf1_5314b06656ec46f6b3c16a5cc172c068 for automatic cleanup: unknown resource type folder\u001b[0m\n"
     ]
    },
    {
     "name": "stderr",
     "output_type": "stream",
     "text": [
      "\r",
      "Scraping 148 games on 01/18/25:  43%|████▎     | 79 of 182 days scraped in 570.0 secTraceback (most recent call last):\n"
     ]
    },
    {
     "name": "stderr",
     "output_type": "stream",
     "text": [
      "  File \u001b[35m\"/opt/hostedtoolcache/Python/3.13.7/x64/lib/python3.13/multiprocessing/resource_tracker.py\"\u001b[0m, line \u001b[35m295\u001b[0m, in \u001b[35mmain\u001b[0m\n",
      "    raise ValueError(\n",
      "        f'Cannot register {name} for automatic cleanup: '\n",
      "        f'unknown resource type {rtype}')\n",
      "\u001b[1;35mValueError\u001b[0m: \u001b[35mCannot register /dev/shm/joblib_memmapping_folder_2206_58a0a356de4945feafde8409e289ddf1_5314b06656ec46f6b3c16a5cc172c068 for automatic cleanup: unknown resource type folder\u001b[0m\n"
     ]
    },
    {
     "name": "stderr",
     "output_type": "stream",
     "text": [
      "\r",
      "Scraping 11 games on 01/19/25:  43%|████▎     | 79 of 182 days scraped in 570.4 sec "
     ]
    },
    {
     "name": "stderr",
     "output_type": "stream",
     "text": [
      "Traceback (most recent call last):\n",
      "  File \u001b[35m\"/opt/hostedtoolcache/Python/3.13.7/x64/lib/python3.13/multiprocessing/resource_tracker.py\"\u001b[0m, line \u001b[35m295\u001b[0m, in \u001b[35mmain\u001b[0m\n",
      "    raise ValueError(\n",
      "        f'Cannot register {name} for automatic cleanup: '\n",
      "        f'unknown resource type {rtype}')\n",
      "\u001b[1;35mValueError\u001b[0m: \u001b[35mCannot register /dev/shm/joblib_memmapping_folder_2206_507d128a81b64b06acb3288ff2617656_aa1e83e8fa9d450db35fff9965201137 for automatic cleanup: unknown resource type folder\u001b[0m\n",
      "Traceback (most recent call last):\n",
      "  File \u001b[35m\"/opt/hostedtoolcache/Python/3.13.7/x64/lib/python3.13/multiprocessing/resource_tracker.py\"\u001b[0m, line \u001b[35m295\u001b[0m, in \u001b[35mmain\u001b[0m\n",
      "    raise ValueError(\n",
      "        f'Cannot register {name} for automatic cleanup: '\n",
      "        f'unknown resource type {rtype}')\n",
      "\u001b[1;35mValueError\u001b[0m: \u001b[35mCannot register /dev/shm/joblib_memmapping_folder_2206_58a0a356de4945feafde8409e289ddf1_72321a05b7034d9ca9eb98c7d5032397 for automatic cleanup: unknown resource type folder\u001b[0m\n"
     ]
    },
    {
     "name": "stderr",
     "output_type": "stream",
     "text": [
      "\r",
      "Scraping 11 games on 01/19/25:  44%|████▍     | 80 of 182 days scraped in 572.5 sec"
     ]
    },
    {
     "name": "stderr",
     "output_type": "stream",
     "text": [
      "Traceback (most recent call last):\n",
      "  File \u001b[35m\"/opt/hostedtoolcache/Python/3.13.7/x64/lib/python3.13/multiprocessing/resource_tracker.py\"\u001b[0m, line \u001b[35m295\u001b[0m, in \u001b[35mmain\u001b[0m\n",
      "    raise ValueError(\n",
      "        f'Cannot register {name} for automatic cleanup: '\n",
      "        f'unknown resource type {rtype}')\n",
      "\u001b[1;35mValueError\u001b[0m: \u001b[35mCannot register /dev/shm/joblib_memmapping_folder_2206_58a0a356de4945feafde8409e289ddf1_72321a05b7034d9ca9eb98c7d5032397 for automatic cleanup: unknown resource type folder\u001b[0m\n"
     ]
    },
    {
     "name": "stderr",
     "output_type": "stream",
     "text": [
      "\r",
      "Scraping 29 games on 01/20/25:  44%|████▍     | 80 of 182 days scraped in 573.0 sec"
     ]
    },
    {
     "name": "stderr",
     "output_type": "stream",
     "text": [
      "Traceback (most recent call last):\n",
      "  File \u001b[35m\"/opt/hostedtoolcache/Python/3.13.7/x64/lib/python3.13/multiprocessing/resource_tracker.py\"\u001b[0m, line \u001b[35m295\u001b[0m, in \u001b[35mmain\u001b[0m\n",
      "    raise ValueError(\n",
      "        f'Cannot register {name} for automatic cleanup: '\n",
      "        f'unknown resource type {rtype}')\n",
      "\u001b[1;35mValueError\u001b[0m: \u001b[35mCannot register /dev/shm/joblib_memmapping_folder_2206_27daef3cfd37477685c38f38a1039771_ecfdee3885f84aee939c4290aa2a888d for automatic cleanup: unknown resource type folder\u001b[0m\n",
      "Traceback (most recent call last):\n",
      "  File \u001b[35m\"/opt/hostedtoolcache/Python/3.13.7/x64/lib/python3.13/multiprocessing/resource_tracker.py\"\u001b[0m, line \u001b[35m295\u001b[0m, in \u001b[35mmain\u001b[0m\n",
      "    raise ValueError(\n",
      "        f'Cannot register {name} for automatic cleanup: '\n",
      "        f'unknown resource type {rtype}')\n",
      "\u001b[1;35mValueError\u001b[0m: \u001b[35mCannot register /dev/shm/joblib_memmapping_folder_2206_58a0a356de4945feafde8409e289ddf1_7532292a01c14ed9a9cff6cc17a33381 for automatic cleanup: unknown resource type folder\u001b[0m\n"
     ]
    },
    {
     "name": "stderr",
     "output_type": "stream",
     "text": [
      "\r",
      "Scraping 29 games on 01/20/25:  45%|████▍     | 81 of 182 days scraped in 577.2 secTraceback (most recent call last):\n"
     ]
    },
    {
     "name": "stderr",
     "output_type": "stream",
     "text": [
      "  File \u001b[35m\"/opt/hostedtoolcache/Python/3.13.7/x64/lib/python3.13/multiprocessing/resource_tracker.py\"\u001b[0m, line \u001b[35m295\u001b[0m, in \u001b[35mmain\u001b[0m\n",
      "    raise ValueError(\n",
      "        f'Cannot register {name} for automatic cleanup: '\n",
      "        f'unknown resource type {rtype}')\n",
      "\u001b[1;35mValueError\u001b[0m: \u001b[35mCannot register /dev/shm/joblib_memmapping_folder_2206_58a0a356de4945feafde8409e289ddf1_7532292a01c14ed9a9cff6cc17a33381 for automatic cleanup: unknown resource type folder\u001b[0m\n"
     ]
    },
    {
     "name": "stderr",
     "output_type": "stream",
     "text": [
      "\r",
      "Scraping 35 games on 01/21/25:  45%|████▍     | 81 of 182 days scraped in 577.8 sec"
     ]
    },
    {
     "name": "stderr",
     "output_type": "stream",
     "text": [
      "Traceback (most recent call last):\n",
      "  File \u001b[35m\"/opt/hostedtoolcache/Python/3.13.7/x64/lib/python3.13/multiprocessing/resource_tracker.py\"\u001b[0m, line \u001b[35m295\u001b[0m, in \u001b[35mmain\u001b[0m\n",
      "    raise ValueError(\n",
      "        f'Cannot register {name} for automatic cleanup: '\n",
      "        f'unknown resource type {rtype}')\n",
      "\u001b[1;35mValueError\u001b[0m: \u001b[35mCannot register /dev/shm/joblib_memmapping_folder_2206_bbf80a62ad6d4307bb341aa2790ae68e_6b7cb0d6809a460ca97dc8c0aa73d9cf for automatic cleanup: unknown resource type folder\u001b[0m\n",
      "Traceback (most recent call last):\n",
      "  File \u001b[35m\"/opt/hostedtoolcache/Python/3.13.7/x64/lib/python3.13/multiprocessing/resource_tracker.py\"\u001b[0m, line \u001b[35m295\u001b[0m, in \u001b[35mmain\u001b[0m\n",
      "    raise ValueError(\n",
      "        f'Cannot register {name} for automatic cleanup: '\n",
      "        f'unknown resource type {rtype}')\n",
      "\u001b[1;35mValueError\u001b[0m: \u001b[35mCannot register /dev/shm/joblib_memmapping_folder_2206_58a0a356de4945feafde8409e289ddf1_cc2228f3d730486d97dcc588fea3bd3b for automatic cleanup: unknown resource type folder\u001b[0m\n"
     ]
    },
    {
     "name": "stderr",
     "output_type": "stream",
     "text": [
      "\r",
      "Scraping 35 games on 01/21/25:  45%|████▌     | 82 of 182 days scraped in 582.4 secTraceback (most recent call last):\n"
     ]
    },
    {
     "name": "stderr",
     "output_type": "stream",
     "text": [
      "  File \u001b[35m\"/opt/hostedtoolcache/Python/3.13.7/x64/lib/python3.13/multiprocessing/resource_tracker.py\"\u001b[0m, line \u001b[35m295\u001b[0m, in \u001b[35mmain\u001b[0m\n",
      "    raise ValueError(\n",
      "        f'Cannot register {name} for automatic cleanup: '\n",
      "        f'unknown resource type {rtype}')\n",
      "\u001b[1;35mValueError\u001b[0m: \u001b[35mCannot register /dev/shm/joblib_memmapping_folder_2206_58a0a356de4945feafde8409e289ddf1_cc2228f3d730486d97dcc588fea3bd3b for automatic cleanup: unknown resource type folder\u001b[0m\n"
     ]
    },
    {
     "name": "stderr",
     "output_type": "stream",
     "text": [
      "\r",
      "Scraping 42 games on 01/22/25:  45%|████▌     | 82 of 182 days scraped in 583.4 sec"
     ]
    },
    {
     "name": "stderr",
     "output_type": "stream",
     "text": [
      "Traceback (most recent call last):\n",
      "  File \u001b[35m\"/opt/hostedtoolcache/Python/3.13.7/x64/lib/python3.13/multiprocessing/resource_tracker.py\"\u001b[0m, line \u001b[35m295\u001b[0m, in \u001b[35mmain\u001b[0m\n",
      "    raise ValueError(\n",
      "        f'Cannot register {name} for automatic cleanup: '\n",
      "        f'unknown resource type {rtype}')\n",
      "\u001b[1;35mValueError\u001b[0m: \u001b[35mCannot register /dev/shm/joblib_memmapping_folder_2206_e19b86e3725349aa9c98c012f250a9b9_a5576a2f6ca0438da69e24b61a730b6a for automatic cleanup: unknown resource type folder\u001b[0m\n",
      "Traceback (most recent call last):\n",
      "  File \u001b[35m\"/opt/hostedtoolcache/Python/3.13.7/x64/lib/python3.13/multiprocessing/resource_tracker.py\"\u001b[0m, line \u001b[35m295\u001b[0m, in \u001b[35mmain\u001b[0m\n",
      "    raise ValueError(\n",
      "        f'Cannot register {name} for automatic cleanup: '\n",
      "        f'unknown resource type {rtype}')\n",
      "\u001b[1;35mValueError\u001b[0m: \u001b[35mCannot register /dev/shm/joblib_memmapping_folder_2206_58a0a356de4945feafde8409e289ddf1_b524ec8ace90427c9345f33a3f05508b for automatic cleanup: unknown resource type folder\u001b[0m\n"
     ]
    },
    {
     "name": "stderr",
     "output_type": "stream",
     "text": [
      "\r",
      "Scraping 42 games on 01/22/25:  46%|████▌     | 83 of 182 days scraped in 588.8 secTraceback (most recent call last):\n"
     ]
    },
    {
     "name": "stderr",
     "output_type": "stream",
     "text": [
      "  File \u001b[35m\"/opt/hostedtoolcache/Python/3.13.7/x64/lib/python3.13/multiprocessing/resource_tracker.py\"\u001b[0m, line \u001b[35m295\u001b[0m, in \u001b[35mmain\u001b[0m\n",
      "    raise ValueError(\n",
      "        f'Cannot register {name} for automatic cleanup: '\n",
      "        f'unknown resource type {rtype}')\n",
      "\u001b[1;35mValueError\u001b[0m: \u001b[35mCannot register /dev/shm/joblib_memmapping_folder_2206_58a0a356de4945feafde8409e289ddf1_b524ec8ace90427c9345f33a3f05508b for automatic cleanup: unknown resource type folder\u001b[0m\n"
     ]
    },
    {
     "name": "stderr",
     "output_type": "stream",
     "text": [
      "\r",
      "Scraping 61 games on 01/23/25:  46%|████▌     | 83 of 182 days scraped in 589.9 sec"
     ]
    },
    {
     "name": "stderr",
     "output_type": "stream",
     "text": [
      "Traceback (most recent call last):\n",
      "  File \u001b[35m\"/opt/hostedtoolcache/Python/3.13.7/x64/lib/python3.13/multiprocessing/resource_tracker.py\"\u001b[0m, line \u001b[35m295\u001b[0m, in \u001b[35mmain\u001b[0m\n",
      "    raise ValueError(\n",
      "        f'Cannot register {name} for automatic cleanup: '\n",
      "        f'unknown resource type {rtype}')\n",
      "\u001b[1;35mValueError\u001b[0m: \u001b[35mCannot register /dev/shm/joblib_memmapping_folder_2206_c493036f46ff4693964f741f9a924285_87ec12d0270842cfa4ca6db084774842 for automatic cleanup: unknown resource type folder\u001b[0m\n",
      "Traceback (most recent call last):\n",
      "  File \u001b[35m\"/opt/hostedtoolcache/Python/3.13.7/x64/lib/python3.13/multiprocessing/resource_tracker.py\"\u001b[0m, line \u001b[35m295\u001b[0m, in \u001b[35mmain\u001b[0m\n",
      "    raise ValueError(\n",
      "        f'Cannot register {name} for automatic cleanup: '\n",
      "        f'unknown resource type {rtype}')\n",
      "\u001b[1;35mValueError\u001b[0m: \u001b[35mCannot register /dev/shm/joblib_memmapping_folder_2206_58a0a356de4945feafde8409e289ddf1_470a2a11e4ae4c76a8bff3b2e09aa65a for automatic cleanup: unknown resource type folder\u001b[0m\n"
     ]
    },
    {
     "name": "stderr",
     "output_type": "stream",
     "text": [
      "\r",
      "Scraping 61 games on 01/23/25:  46%|████▌     | 84 of 182 days scraped in 598.4 sec"
     ]
    },
    {
     "name": "stderr",
     "output_type": "stream",
     "text": [
      "Traceback (most recent call last):\n",
      "  File \u001b[35m\"/opt/hostedtoolcache/Python/3.13.7/x64/lib/python3.13/multiprocessing/resource_tracker.py\"\u001b[0m, line \u001b[35m295\u001b[0m, in \u001b[35mmain\u001b[0m\n",
      "    raise ValueError(\n",
      "        f'Cannot register {name} for automatic cleanup: '\n",
      "        f'unknown resource type {rtype}')\n",
      "\u001b[1;35mValueError\u001b[0m: \u001b[35mCannot register /dev/shm/joblib_memmapping_folder_2206_58a0a356de4945feafde8409e289ddf1_470a2a11e4ae4c76a8bff3b2e09aa65a for automatic cleanup: unknown resource type folder\u001b[0m\n"
     ]
    },
    {
     "name": "stderr",
     "output_type": "stream",
     "text": [
      "\r",
      "Scraping 14 games on 01/24/25:  46%|████▌     | 84 of 182 days scraped in 598.9 sec"
     ]
    },
    {
     "name": "stderr",
     "output_type": "stream",
     "text": [
      "Traceback (most recent call last):\n",
      "  File \u001b[35m\"/opt/hostedtoolcache/Python/3.13.7/x64/lib/python3.13/multiprocessing/resource_tracker.py\"\u001b[0m, line \u001b[35m295\u001b[0m, in \u001b[35mmain\u001b[0m\n",
      "    raise ValueError(\n",
      "        f'Cannot register {name} for automatic cleanup: '\n",
      "        f'unknown resource type {rtype}')\n",
      "\u001b[1;35mValueError\u001b[0m: \u001b[35mCannot register /dev/shm/joblib_memmapping_folder_2206_159739140358410cb7439e423342deb3_1c678843c8164ec2a83c41ab93207bdd for automatic cleanup: unknown resource type folder\u001b[0m\n",
      "Traceback (most recent call last):\n",
      "  File \u001b[35m\"/opt/hostedtoolcache/Python/3.13.7/x64/lib/python3.13/multiprocessing/resource_tracker.py\"\u001b[0m, line \u001b[35m295\u001b[0m, in \u001b[35mmain\u001b[0m\n",
      "    raise ValueError(\n",
      "        f'Cannot register {name} for automatic cleanup: '\n",
      "        f'unknown resource type {rtype}')\n",
      "\u001b[1;35mValueError\u001b[0m: \u001b[35mCannot register /dev/shm/joblib_memmapping_folder_2206_58a0a356de4945feafde8409e289ddf1_4de5d8c6af7740c88b4ea080f6fb7a70 for automatic cleanup: unknown resource type folder\u001b[0m\n"
     ]
    },
    {
     "name": "stderr",
     "output_type": "stream",
     "text": [
      "\r",
      "Scraping 14 games on 01/24/25:  47%|████▋     | 85 of 182 days scraped in 600.7 secTraceback (most recent call last):\n"
     ]
    },
    {
     "name": "stderr",
     "output_type": "stream",
     "text": [
      "  File \u001b[35m\"/opt/hostedtoolcache/Python/3.13.7/x64/lib/python3.13/multiprocessing/resource_tracker.py\"\u001b[0m, line \u001b[35m295\u001b[0m, in \u001b[35mmain\u001b[0m\n",
      "    raise ValueError(\n",
      "        f'Cannot register {name} for automatic cleanup: '\n",
      "        f'unknown resource type {rtype}')\n",
      "\u001b[1;35mValueError\u001b[0m: \u001b[35mCannot register /dev/shm/joblib_memmapping_folder_2206_58a0a356de4945feafde8409e289ddf1_4de5d8c6af7740c88b4ea080f6fb7a70 for automatic cleanup: unknown resource type folder\u001b[0m\n"
     ]
    },
    {
     "name": "stderr",
     "output_type": "stream",
     "text": [
      "\r",
      "Scraping 149 games on 01/25/25:  47%|████▋     | 85 of 182 days scraped in 602.3 sec"
     ]
    },
    {
     "name": "stderr",
     "output_type": "stream",
     "text": [
      "Traceback (most recent call last):\n",
      "  File \u001b[35m\"/opt/hostedtoolcache/Python/3.13.7/x64/lib/python3.13/multiprocessing/resource_tracker.py\"\u001b[0m, line \u001b[35m295\u001b[0m, in \u001b[35mmain\u001b[0m\n",
      "    raise ValueError(\n",
      "        f'Cannot register {name} for automatic cleanup: '\n",
      "        f'unknown resource type {rtype}')\n",
      "\u001b[1;35mValueError\u001b[0m: \u001b[35mCannot register /dev/shm/joblib_memmapping_folder_2206_dce73e1e6ad2450a8b8216b3a114c3ac_d978727e257b47a7977bec3a59f2e0d9 for automatic cleanup: unknown resource type folder\u001b[0m\n",
      "Traceback (most recent call last):\n",
      "  File \u001b[35m\"/opt/hostedtoolcache/Python/3.13.7/x64/lib/python3.13/multiprocessing/resource_tracker.py\"\u001b[0m, line \u001b[35m295\u001b[0m, in \u001b[35mmain\u001b[0m\n",
      "    raise ValueError(\n",
      "        f'Cannot register {name} for automatic cleanup: '\n",
      "        f'unknown resource type {rtype}')\n",
      "\u001b[1;35mValueError\u001b[0m: \u001b[35mCannot register /dev/shm/joblib_memmapping_folder_2206_58a0a356de4945feafde8409e289ddf1_5a72ce4048c5455fa33c5066ea20b235 for automatic cleanup: unknown resource type folder\u001b[0m\n"
     ]
    },
    {
     "name": "stderr",
     "output_type": "stream",
     "text": [
      "\r",
      "Scraping 149 games on 01/25/25:  47%|████▋     | 86 of 182 days scraped in 622.3 sec"
     ]
    },
    {
     "name": "stderr",
     "output_type": "stream",
     "text": [
      "Traceback (most recent call last):\n",
      "  File \u001b[35m\"/opt/hostedtoolcache/Python/3.13.7/x64/lib/python3.13/multiprocessing/resource_tracker.py\"\u001b[0m, line \u001b[35m295\u001b[0m, in \u001b[35mmain\u001b[0m\n",
      "    raise ValueError(\n",
      "        f'Cannot register {name} for automatic cleanup: '\n",
      "        f'unknown resource type {rtype}')\n",
      "\u001b[1;35mValueError\u001b[0m: \u001b[35mCannot register /dev/shm/joblib_memmapping_folder_2206_58a0a356de4945feafde8409e289ddf1_5a72ce4048c5455fa33c5066ea20b235 for automatic cleanup: unknown resource type folder\u001b[0m\n"
     ]
    },
    {
     "name": "stderr",
     "output_type": "stream",
     "text": [
      "\r",
      "Scraping 13 games on 01/26/25:  47%|████▋     | 86 of 182 days scraped in 622.7 sec "
     ]
    },
    {
     "name": "stderr",
     "output_type": "stream",
     "text": [
      "Traceback (most recent call last):\n",
      "  File \u001b[35m\"/opt/hostedtoolcache/Python/3.13.7/x64/lib/python3.13/multiprocessing/resource_tracker.py\"\u001b[0m, line \u001b[35m295\u001b[0m, in \u001b[35mmain\u001b[0m\n",
      "    raise ValueError(\n",
      "        f'Cannot register {name} for automatic cleanup: '\n",
      "        f'unknown resource type {rtype}')\n",
      "\u001b[1;35mValueError\u001b[0m: \u001b[35mCannot register /dev/shm/joblib_memmapping_folder_2206_e8f4eaf003f443709ff110935f32155b_ad128f59df0a4c97b5bb99b2f9908c63 for automatic cleanup: unknown resource type folder\u001b[0m\n",
      "Traceback (most recent call last):\n",
      "  File \u001b[35m\"/opt/hostedtoolcache/Python/3.13.7/x64/lib/python3.13/multiprocessing/resource_tracker.py\"\u001b[0m, line \u001b[35m295\u001b[0m, in \u001b[35mmain\u001b[0m\n",
      "    raise ValueError(\n",
      "        f'Cannot register {name} for automatic cleanup: '\n",
      "        f'unknown resource type {rtype}')\n",
      "\u001b[1;35mValueError\u001b[0m: \u001b[35mCannot register /dev/shm/joblib_memmapping_folder_2206_58a0a356de4945feafde8409e289ddf1_d6aa6603658e4d0aabe9b7b17e2ba523 for automatic cleanup: unknown resource type folder\u001b[0m\n"
     ]
    },
    {
     "name": "stderr",
     "output_type": "stream",
     "text": [
      "\r",
      "Scraping 13 games on 01/26/25:  48%|████▊     | 87 of 182 days scraped in 624.4 sec"
     ]
    },
    {
     "name": "stderr",
     "output_type": "stream",
     "text": [
      "Traceback (most recent call last):\n",
      "  File \u001b[35m\"/opt/hostedtoolcache/Python/3.13.7/x64/lib/python3.13/multiprocessing/resource_tracker.py\"\u001b[0m, line \u001b[35m295\u001b[0m, in \u001b[35mmain\u001b[0m\n",
      "    raise ValueError(\n",
      "        f'Cannot register {name} for automatic cleanup: '\n",
      "        f'unknown resource type {rtype}')\n",
      "\u001b[1;35mValueError\u001b[0m: \u001b[35mCannot register /dev/shm/joblib_memmapping_folder_2206_58a0a356de4945feafde8409e289ddf1_d6aa6603658e4d0aabe9b7b17e2ba523 for automatic cleanup: unknown resource type folder\u001b[0m\n"
     ]
    },
    {
     "name": "stderr",
     "output_type": "stream",
     "text": [
      "\r",
      "Scraping 22 games on 01/27/25:  48%|████▊     | 87 of 182 days scraped in 624.8 sec"
     ]
    },
    {
     "name": "stderr",
     "output_type": "stream",
     "text": [
      "Traceback (most recent call last):\n",
      "  File \u001b[35m\"/opt/hostedtoolcache/Python/3.13.7/x64/lib/python3.13/multiprocessing/resource_tracker.py\"\u001b[0m, line \u001b[35m295\u001b[0m, in \u001b[35mmain\u001b[0m\n",
      "    raise ValueError(\n",
      "        f'Cannot register {name} for automatic cleanup: '\n",
      "        f'unknown resource type {rtype}')\n",
      "\u001b[1;35mValueError\u001b[0m: \u001b[35mCannot register /dev/shm/joblib_memmapping_folder_2206_f14d46c9fce5451ea0130071c2f2d670_9be0111cf4d64fbe9d03e074d2cfd5c0 for automatic cleanup: unknown resource type folder\u001b[0m\n",
      "Traceback (most recent call last):\n",
      "  File \u001b[35m\"/opt/hostedtoolcache/Python/3.13.7/x64/lib/python3.13/multiprocessing/resource_tracker.py\"\u001b[0m, line \u001b[35m295\u001b[0m, in \u001b[35mmain\u001b[0m\n",
      "    raise ValueError(\n",
      "        f'Cannot register {name} for automatic cleanup: '\n",
      "        f'unknown resource type {rtype}')\n",
      "\u001b[1;35mValueError\u001b[0m: \u001b[35mCannot register /dev/shm/joblib_memmapping_folder_2206_58a0a356de4945feafde8409e289ddf1_50006117e4cc435bb44243418ce30726 for automatic cleanup: unknown resource type folder\u001b[0m\n"
     ]
    },
    {
     "name": "stderr",
     "output_type": "stream",
     "text": [
      "\r",
      "Scraping 22 games on 01/27/25:  48%|████▊     | 88 of 182 days scraped in 627.8 sec"
     ]
    },
    {
     "name": "stderr",
     "output_type": "stream",
     "text": [
      "Traceback (most recent call last):\n",
      "  File \u001b[35m\"/opt/hostedtoolcache/Python/3.13.7/x64/lib/python3.13/multiprocessing/resource_tracker.py\"\u001b[0m, line \u001b[35m295\u001b[0m, in \u001b[35mmain\u001b[0m\n",
      "    raise ValueError(\n",
      "        f'Cannot register {name} for automatic cleanup: '\n",
      "        f'unknown resource type {rtype}')\n",
      "\u001b[1;35mValueError\u001b[0m: \u001b[35mCannot register /dev/shm/joblib_memmapping_folder_2206_58a0a356de4945feafde8409e289ddf1_50006117e4cc435bb44243418ce30726 for automatic cleanup: unknown resource type folder\u001b[0m\n"
     ]
    },
    {
     "name": "stderr",
     "output_type": "stream",
     "text": [
      "\r",
      "Scraping 29 games on 01/28/25:  48%|████▊     | 88 of 182 days scraped in 628.5 sec"
     ]
    },
    {
     "name": "stderr",
     "output_type": "stream",
     "text": [
      "Traceback (most recent call last):\n",
      "  File \u001b[35m\"/opt/hostedtoolcache/Python/3.13.7/x64/lib/python3.13/multiprocessing/resource_tracker.py\"\u001b[0m, line \u001b[35m295\u001b[0m, in \u001b[35mmain\u001b[0m\n",
      "    raise ValueError(\n",
      "        f'Cannot register {name} for automatic cleanup: '\n",
      "        f'unknown resource type {rtype}')\n",
      "\u001b[1;35mValueError\u001b[0m: \u001b[35mCannot register /dev/shm/joblib_memmapping_folder_2206_090c014ec6604919b5aa2b2cc948c4e6_6f6b4f745ae645c9a015f8f6ae26285c for automatic cleanup: unknown resource type folder\u001b[0m\n",
      "Traceback (most recent call last):\n",
      "  File \u001b[35m\"/opt/hostedtoolcache/Python/3.13.7/x64/lib/python3.13/multiprocessing/resource_tracker.py\"\u001b[0m, line \u001b[35m295\u001b[0m, in \u001b[35mmain\u001b[0m\n",
      "    raise ValueError(\n",
      "        f'Cannot register {name} for automatic cleanup: '\n",
      "        f'unknown resource type {rtype}')\n",
      "\u001b[1;35mValueError\u001b[0m: \u001b[35mCannot register /dev/shm/joblib_memmapping_folder_2206_58a0a356de4945feafde8409e289ddf1_543d81a3b1ba4147827077503fc4af1b for automatic cleanup: unknown resource type folder\u001b[0m\n"
     ]
    },
    {
     "name": "stderr",
     "output_type": "stream",
     "text": [
      "\r",
      "Scraping 29 games on 01/28/25:  49%|████▉     | 89 of 182 days scraped in 632.8 secTraceback (most recent call last):\n"
     ]
    },
    {
     "name": "stderr",
     "output_type": "stream",
     "text": [
      "  File \u001b[35m\"/opt/hostedtoolcache/Python/3.13.7/x64/lib/python3.13/multiprocessing/resource_tracker.py\"\u001b[0m, line \u001b[35m295\u001b[0m, in \u001b[35mmain\u001b[0m\n",
      "    raise ValueError(\n",
      "        f'Cannot register {name} for automatic cleanup: '\n",
      "        f'unknown resource type {rtype}')\n",
      "\u001b[1;35mValueError\u001b[0m: \u001b[35mCannot register /dev/shm/joblib_memmapping_folder_2206_58a0a356de4945feafde8409e289ddf1_543d81a3b1ba4147827077503fc4af1b for automatic cleanup: unknown resource type folder\u001b[0m\n"
     ]
    },
    {
     "name": "stderr",
     "output_type": "stream",
     "text": [
      "\r",
      "Scraping 52 games on 01/29/25:  49%|████▉     | 89 of 182 days scraped in 633.4 sec"
     ]
    },
    {
     "name": "stderr",
     "output_type": "stream",
     "text": [
      "Traceback (most recent call last):\n",
      "  File \u001b[35m\"/opt/hostedtoolcache/Python/3.13.7/x64/lib/python3.13/multiprocessing/resource_tracker.py\"\u001b[0m, line \u001b[35m295\u001b[0m, in \u001b[35mmain\u001b[0m\n",
      "    raise ValueError(\n",
      "        f'Cannot register {name} for automatic cleanup: '\n",
      "        f'unknown resource type {rtype}')\n",
      "\u001b[1;35mValueError\u001b[0m: \u001b[35mCannot register /dev/shm/joblib_memmapping_folder_2206_55cd44fba0ae4682b96d45149108b17a_434e6911635e41dfb28eb17ff0538c0f for automatic cleanup: unknown resource type folder\u001b[0m\n",
      "Traceback (most recent call last):\n",
      "  File \u001b[35m\"/opt/hostedtoolcache/Python/3.13.7/x64/lib/python3.13/multiprocessing/resource_tracker.py\"\u001b[0m, line \u001b[35m295\u001b[0m, in \u001b[35mmain\u001b[0m\n",
      "    raise ValueError(\n",
      "        f'Cannot register {name} for automatic cleanup: '\n",
      "        f'unknown resource type {rtype}')\n",
      "\u001b[1;35mValueError\u001b[0m: \u001b[35mCannot register /dev/shm/joblib_memmapping_folder_2206_58a0a356de4945feafde8409e289ddf1_3988b99b091e48dc9658941b8061c123 for automatic cleanup: unknown resource type folder\u001b[0m\n"
     ]
    },
    {
     "name": "stderr",
     "output_type": "stream",
     "text": [
      "\r",
      "Scraping 52 games on 01/29/25:  49%|████▉     | 90 of 182 days scraped in 640.6 secTraceback (most recent call last):\n"
     ]
    },
    {
     "name": "stderr",
     "output_type": "stream",
     "text": [
      "  File \u001b[35m\"/opt/hostedtoolcache/Python/3.13.7/x64/lib/python3.13/multiprocessing/resource_tracker.py\"\u001b[0m, line \u001b[35m295\u001b[0m, in \u001b[35mmain\u001b[0m\n",
      "    raise ValueError(\n",
      "        f'Cannot register {name} for automatic cleanup: '\n",
      "        f'unknown resource type {rtype}')\n",
      "\u001b[1;35mValueError\u001b[0m: \u001b[35mCannot register /dev/shm/joblib_memmapping_folder_2206_58a0a356de4945feafde8409e289ddf1_3988b99b091e48dc9658941b8061c123 for automatic cleanup: unknown resource type folder\u001b[0m\n"
     ]
    },
    {
     "name": "stderr",
     "output_type": "stream",
     "text": [
      "\r",
      "Scraping 58 games on 01/30/25:  49%|████▉     | 90 of 182 days scraped in 641.4 sec"
     ]
    },
    {
     "name": "stderr",
     "output_type": "stream",
     "text": [
      "Traceback (most recent call last):\n",
      "  File \u001b[35m\"/opt/hostedtoolcache/Python/3.13.7/x64/lib/python3.13/multiprocessing/resource_tracker.py\"\u001b[0m, line \u001b[35m295\u001b[0m, in \u001b[35mmain\u001b[0m\n",
      "    raise ValueError(\n",
      "        f'Cannot register {name} for automatic cleanup: '\n",
      "        f'unknown resource type {rtype}')\n",
      "\u001b[1;35mValueError\u001b[0m: \u001b[35mCannot register /dev/shm/joblib_memmapping_folder_2206_1e546ba5bb014365b12ee61704d4459e_1d5fa5b136f64e899eca1d8899321697 for automatic cleanup: unknown resource type folder\u001b[0m\n",
      "Traceback (most recent call last):\n",
      "  File \u001b[35m\"/opt/hostedtoolcache/Python/3.13.7/x64/lib/python3.13/multiprocessing/resource_tracker.py\"\u001b[0m, line \u001b[35m295\u001b[0m, in \u001b[35mmain\u001b[0m\n",
      "    raise ValueError(\n",
      "        f'Cannot register {name} for automatic cleanup: '\n",
      "        f'unknown resource type {rtype}')\n",
      "\u001b[1;35mValueError\u001b[0m: \u001b[35mCannot register /dev/shm/joblib_memmapping_folder_2206_58a0a356de4945feafde8409e289ddf1_2ce9c3903d644465aa9dd09c80a3e598 for automatic cleanup: unknown resource type folder\u001b[0m\n"
     ]
    },
    {
     "name": "stderr",
     "output_type": "stream",
     "text": [
      "\r",
      "Scraping 58 games on 01/30/25:  50%|█████     | 91 of 182 days scraped in 649.3 sec"
     ]
    },
    {
     "name": "stderr",
     "output_type": "stream",
     "text": [
      "Traceback (most recent call last):\n",
      "  File \u001b[35m\"/opt/hostedtoolcache/Python/3.13.7/x64/lib/python3.13/multiprocessing/resource_tracker.py\"\u001b[0m, line \u001b[35m295\u001b[0m, in \u001b[35mmain\u001b[0m\n",
      "    raise ValueError(\n",
      "        f'Cannot register {name} for automatic cleanup: '\n",
      "        f'unknown resource type {rtype}')\n",
      "\u001b[1;35mValueError\u001b[0m: \u001b[35mCannot register /dev/shm/joblib_memmapping_folder_2206_58a0a356de4945feafde8409e289ddf1_2ce9c3903d644465aa9dd09c80a3e598 for automatic cleanup: unknown resource type folder\u001b[0m\n"
     ]
    },
    {
     "name": "stderr",
     "output_type": "stream",
     "text": [
      "\r",
      "Scraping 14 games on 01/31/25:  50%|█████     | 91 of 182 days scraped in 649.8 sec"
     ]
    },
    {
     "name": "stderr",
     "output_type": "stream",
     "text": [
      "Traceback (most recent call last):\n",
      "  File \u001b[35m\"/opt/hostedtoolcache/Python/3.13.7/x64/lib/python3.13/multiprocessing/resource_tracker.py\"\u001b[0m, line \u001b[35m295\u001b[0m, in \u001b[35mmain\u001b[0m\n",
      "    raise ValueError(\n",
      "        f'Cannot register {name} for automatic cleanup: '\n",
      "        f'unknown resource type {rtype}')\n",
      "\u001b[1;35mValueError\u001b[0m: \u001b[35mCannot register /dev/shm/joblib_memmapping_folder_2206_7c70c8eb1ff646ab93141d3e095c3feb_dff3f20a011a47c0900159ff37f8ff48 for automatic cleanup: unknown resource type folder\u001b[0m\n",
      "Traceback (most recent call last):\n",
      "  File \u001b[35m\"/opt/hostedtoolcache/Python/3.13.7/x64/lib/python3.13/multiprocessing/resource_tracker.py\"\u001b[0m, line \u001b[35m295\u001b[0m, in \u001b[35mmain\u001b[0m\n",
      "    raise ValueError(\n",
      "        f'Cannot register {name} for automatic cleanup: '\n",
      "        f'unknown resource type {rtype}')\n",
      "\u001b[1;35mValueError\u001b[0m: \u001b[35mCannot register /dev/shm/joblib_memmapping_folder_2206_58a0a356de4945feafde8409e289ddf1_ae33844e7bc8446bb1ec22232868ca3a for automatic cleanup: unknown resource type folder\u001b[0m\n"
     ]
    },
    {
     "name": "stderr",
     "output_type": "stream",
     "text": [
      "\r",
      "Scraping 14 games on 01/31/25:  51%|█████     | 92 of 182 days scraped in 651.7 sec"
     ]
    },
    {
     "name": "stderr",
     "output_type": "stream",
     "text": [
      "Traceback (most recent call last):\n",
      "  File \u001b[35m\"/opt/hostedtoolcache/Python/3.13.7/x64/lib/python3.13/multiprocessing/resource_tracker.py\"\u001b[0m, line \u001b[35m295\u001b[0m, in \u001b[35mmain\u001b[0m\n",
      "    raise ValueError(\n",
      "        f'Cannot register {name} for automatic cleanup: '\n",
      "        f'unknown resource type {rtype}')\n",
      "\u001b[1;35mValueError\u001b[0m: \u001b[35mCannot register /dev/shm/joblib_memmapping_folder_2206_58a0a356de4945feafde8409e289ddf1_ae33844e7bc8446bb1ec22232868ca3a for automatic cleanup: unknown resource type folder\u001b[0m\n"
     ]
    },
    {
     "name": "stderr",
     "output_type": "stream",
     "text": [
      "\r",
      "Scraping 146 games on 02/01/25:  51%|█████     | 92 of 182 days scraped in 653.3 sec"
     ]
    },
    {
     "name": "stderr",
     "output_type": "stream",
     "text": [
      "Traceback (most recent call last):\n",
      "  File \u001b[35m\"/opt/hostedtoolcache/Python/3.13.7/x64/lib/python3.13/multiprocessing/resource_tracker.py\"\u001b[0m, line \u001b[35m295\u001b[0m, in \u001b[35mmain\u001b[0m\n",
      "    raise ValueError(\n",
      "        f'Cannot register {name} for automatic cleanup: '\n",
      "        f'unknown resource type {rtype}')\n",
      "\u001b[1;35mValueError\u001b[0m: \u001b[35mCannot register /dev/shm/joblib_memmapping_folder_2206_5616faf21b4e45fc83a81e1db391c075_3740747bfe0640fda717978544ca2ae9 for automatic cleanup: unknown resource type folder\u001b[0m\n",
      "Traceback (most recent call last):\n",
      "  File \u001b[35m\"/opt/hostedtoolcache/Python/3.13.7/x64/lib/python3.13/multiprocessing/resource_tracker.py\"\u001b[0m, line \u001b[35m295\u001b[0m, in \u001b[35mmain\u001b[0m\n",
      "    raise ValueError(\n",
      "        f'Cannot register {name} for automatic cleanup: '\n",
      "        f'unknown resource type {rtype}')\n",
      "\u001b[1;35mValueError\u001b[0m: \u001b[35mCannot register /dev/shm/joblib_memmapping_folder_2206_58a0a356de4945feafde8409e289ddf1_1cea536660e14c9686ed14b603f45794 for automatic cleanup: unknown resource type folder\u001b[0m\n"
     ]
    },
    {
     "name": "stderr",
     "output_type": "stream",
     "text": [
      "\r",
      "Scraping 146 games on 02/01/25:  51%|█████     | 93 of 182 days scraped in 671.7 secTraceback (most recent call last):\n"
     ]
    },
    {
     "name": "stderr",
     "output_type": "stream",
     "text": [
      "  File \u001b[35m\"/opt/hostedtoolcache/Python/3.13.7/x64/lib/python3.13/multiprocessing/resource_tracker.py\"\u001b[0m, line \u001b[35m295\u001b[0m, in \u001b[35mmain\u001b[0m\n",
      "    raise ValueError(\n",
      "        f'Cannot register {name} for automatic cleanup: '\n",
      "        f'unknown resource type {rtype}')\n",
      "\u001b[1;35mValueError\u001b[0m: \u001b[35mCannot register /dev/shm/joblib_memmapping_folder_2206_58a0a356de4945feafde8409e289ddf1_1cea536660e14c9686ed14b603f45794 for automatic cleanup: unknown resource type folder\u001b[0m\n"
     ]
    },
    {
     "name": "stderr",
     "output_type": "stream",
     "text": [
      "\r",
      "Scraping 19 games on 02/02/25:  51%|█████     | 93 of 182 days scraped in 672.2 sec "
     ]
    },
    {
     "name": "stderr",
     "output_type": "stream",
     "text": [
      "Traceback (most recent call last):\n",
      "  File \u001b[35m\"/opt/hostedtoolcache/Python/3.13.7/x64/lib/python3.13/multiprocessing/resource_tracker.py\"\u001b[0m, line \u001b[35m295\u001b[0m, in \u001b[35mmain\u001b[0m\n",
      "    raise ValueError(\n",
      "        f'Cannot register {name} for automatic cleanup: '\n",
      "        f'unknown resource type {rtype}')\n",
      "\u001b[1;35mValueError\u001b[0m: \u001b[35mCannot register /dev/shm/joblib_memmapping_folder_2206_7505c291ae8c40be967421dbeb4ddd20_90eb56816d28464793859424d482eb1f for automatic cleanup: unknown resource type folder\u001b[0m\n",
      "Traceback (most recent call last):\n",
      "  File \u001b[35m\"/opt/hostedtoolcache/Python/3.13.7/x64/lib/python3.13/multiprocessing/resource_tracker.py\"\u001b[0m, line \u001b[35m295\u001b[0m, in \u001b[35mmain\u001b[0m\n",
      "    raise ValueError(\n",
      "        f'Cannot register {name} for automatic cleanup: '\n",
      "        f'unknown resource type {rtype}')\n",
      "\u001b[1;35mValueError\u001b[0m: \u001b[35mCannot register /dev/shm/joblib_memmapping_folder_2206_58a0a356de4945feafde8409e289ddf1_6b397d000b3448879ad3915f7b4f95da for automatic cleanup: unknown resource type folder\u001b[0m\n"
     ]
    },
    {
     "name": "stderr",
     "output_type": "stream",
     "text": [
      "\r",
      "Scraping 19 games on 02/02/25:  52%|█████▏    | 94 of 182 days scraped in 675.1 sec"
     ]
    },
    {
     "name": "stderr",
     "output_type": "stream",
     "text": [
      "Traceback (most recent call last):\n",
      "  File \u001b[35m\"/opt/hostedtoolcache/Python/3.13.7/x64/lib/python3.13/multiprocessing/resource_tracker.py\"\u001b[0m, line \u001b[35m295\u001b[0m, in \u001b[35mmain\u001b[0m\n",
      "    raise ValueError(\n",
      "        f'Cannot register {name} for automatic cleanup: '\n",
      "        f'unknown resource type {rtype}')\n",
      "\u001b[1;35mValueError\u001b[0m: \u001b[35mCannot register /dev/shm/joblib_memmapping_folder_2206_58a0a356de4945feafde8409e289ddf1_6b397d000b3448879ad3915f7b4f95da for automatic cleanup: unknown resource type folder\u001b[0m\n"
     ]
    },
    {
     "name": "stderr",
     "output_type": "stream",
     "text": [
      "\r",
      "Scraping 21 games on 02/03/25:  52%|█████▏    | 94 of 182 days scraped in 675.6 sec"
     ]
    },
    {
     "name": "stderr",
     "output_type": "stream",
     "text": [
      "Traceback (most recent call last):\n",
      "  File \u001b[35m\"/opt/hostedtoolcache/Python/3.13.7/x64/lib/python3.13/multiprocessing/resource_tracker.py\"\u001b[0m, line \u001b[35m295\u001b[0m, in \u001b[35mmain\u001b[0m\n",
      "    raise ValueError(\n",
      "        f'Cannot register {name} for automatic cleanup: '\n",
      "        f'unknown resource type {rtype}')\n",
      "\u001b[1;35mValueError\u001b[0m: \u001b[35mCannot register /dev/shm/joblib_memmapping_folder_2206_2a615253e2204883aca9741232b5e031_6bd405588fe1475e999d5224c1ce57aa for automatic cleanup: unknown resource type folder\u001b[0m\n",
      "Traceback (most recent call last):\n",
      "  File \u001b[35m\"/opt/hostedtoolcache/Python/3.13.7/x64/lib/python3.13/multiprocessing/resource_tracker.py\"\u001b[0m, line \u001b[35m295\u001b[0m, in \u001b[35mmain\u001b[0m\n",
      "    raise ValueError(\n",
      "        f'Cannot register {name} for automatic cleanup: '\n",
      "        f'unknown resource type {rtype}')\n",
      "\u001b[1;35mValueError\u001b[0m: \u001b[35mCannot register /dev/shm/joblib_memmapping_folder_2206_58a0a356de4945feafde8409e289ddf1_69c73c82e3964a2fa818b74877f55900 for automatic cleanup: unknown resource type folder\u001b[0m\n"
     ]
    },
    {
     "name": "stderr",
     "output_type": "stream",
     "text": [
      "\r",
      "Scraping 21 games on 02/03/25:  52%|█████▏    | 95 of 182 days scraped in 678.3 secTraceback (most recent call last):\n"
     ]
    },
    {
     "name": "stderr",
     "output_type": "stream",
     "text": [
      "  File \u001b[35m\"/opt/hostedtoolcache/Python/3.13.7/x64/lib/python3.13/multiprocessing/resource_tracker.py\"\u001b[0m, line \u001b[35m295\u001b[0m, in \u001b[35mmain\u001b[0m\n",
      "    raise ValueError(\n",
      "        f'Cannot register {name} for automatic cleanup: '\n",
      "        f'unknown resource type {rtype}')\n",
      "\u001b[1;35mValueError\u001b[0m: \u001b[35mCannot register /dev/shm/joblib_memmapping_folder_2206_58a0a356de4945feafde8409e289ddf1_69c73c82e3964a2fa818b74877f55900 for automatic cleanup: unknown resource type folder\u001b[0m\n"
     ]
    },
    {
     "name": "stderr",
     "output_type": "stream",
     "text": [
      "\r",
      "Scraping 34 games on 02/04/25:  52%|█████▏    | 95 of 182 days scraped in 679.8 sec"
     ]
    },
    {
     "name": "stderr",
     "output_type": "stream",
     "text": [
      "Traceback (most recent call last):\n",
      "  File \u001b[35m\"/opt/hostedtoolcache/Python/3.13.7/x64/lib/python3.13/multiprocessing/resource_tracker.py\"\u001b[0m, line \u001b[35m295\u001b[0m, in \u001b[35mmain\u001b[0m\n",
      "    raise ValueError(\n",
      "        f'Cannot register {name} for automatic cleanup: '\n",
      "        f'unknown resource type {rtype}')\n",
      "\u001b[1;35mValueError\u001b[0m: \u001b[35mCannot register /dev/shm/joblib_memmapping_folder_2206_89e86f0a69f04633875c6a83a7c3178a_58d3c6315209421f841a6de62c2eada3 for automatic cleanup: unknown resource type folder\u001b[0m\n",
      "Traceback (most recent call last):\n",
      "  File \u001b[35m\"/opt/hostedtoolcache/Python/3.13.7/x64/lib/python3.13/multiprocessing/resource_tracker.py\"\u001b[0m, line \u001b[35m295\u001b[0m, in \u001b[35mmain\u001b[0m\n",
      "    raise ValueError(\n",
      "        f'Cannot register {name} for automatic cleanup: '\n",
      "        f'unknown resource type {rtype}')\n",
      "\u001b[1;35mValueError\u001b[0m: \u001b[35mCannot register /dev/shm/joblib_memmapping_folder_2206_58a0a356de4945feafde8409e289ddf1_dcfc5c1d5a6d49df9f48848f4c6d3fb5 for automatic cleanup: unknown resource type folder\u001b[0m\n"
     ]
    },
    {
     "name": "stderr",
     "output_type": "stream",
     "text": [
      "\r",
      "Scraping 34 games on 02/04/25:  53%|█████▎    | 96 of 182 days scraped in 684.5 sec"
     ]
    },
    {
     "name": "stderr",
     "output_type": "stream",
     "text": [
      "Traceback (most recent call last):\n",
      "  File \u001b[35m\"/opt/hostedtoolcache/Python/3.13.7/x64/lib/python3.13/multiprocessing/resource_tracker.py\"\u001b[0m, line \u001b[35m295\u001b[0m, in \u001b[35mmain\u001b[0m\n",
      "    raise ValueError(\n",
      "        f'Cannot register {name} for automatic cleanup: '\n",
      "        f'unknown resource type {rtype}')\n",
      "\u001b[1;35mValueError\u001b[0m: \u001b[35mCannot register /dev/shm/joblib_memmapping_folder_2206_58a0a356de4945feafde8409e289ddf1_dcfc5c1d5a6d49df9f48848f4c6d3fb5 for automatic cleanup: unknown resource type folder\u001b[0m\n"
     ]
    },
    {
     "name": "stderr",
     "output_type": "stream",
     "text": [
      "\r",
      "Scraping 55 games on 02/05/25:  53%|█████▎    | 96 of 182 days scraped in 685.2 sec"
     ]
    },
    {
     "name": "stderr",
     "output_type": "stream",
     "text": [
      "Traceback (most recent call last):\n",
      "  File \u001b[35m\"/opt/hostedtoolcache/Python/3.13.7/x64/lib/python3.13/multiprocessing/resource_tracker.py\"\u001b[0m, line \u001b[35m295\u001b[0m, in \u001b[35mmain\u001b[0m\n",
      "    raise ValueError(\n",
      "        f'Cannot register {name} for automatic cleanup: '\n",
      "        f'unknown resource type {rtype}')\n",
      "\u001b[1;35mValueError\u001b[0m: \u001b[35mCannot register /dev/shm/joblib_memmapping_folder_2206_d306a61ecd05479daadfc7522dcf9ebe_74b20db5b3a043dea51756803ebbd0d4 for automatic cleanup: unknown resource type folder\u001b[0m\n",
      "Traceback (most recent call last):\n",
      "  File \u001b[35m\"/opt/hostedtoolcache/Python/3.13.7/x64/lib/python3.13/multiprocessing/resource_tracker.py\"\u001b[0m, line \u001b[35m295\u001b[0m, in \u001b[35mmain\u001b[0m\n",
      "    raise ValueError(\n",
      "        f'Cannot register {name} for automatic cleanup: '\n",
      "        f'unknown resource type {rtype}')\n",
      "\u001b[1;35mValueError\u001b[0m: \u001b[35mCannot register /dev/shm/joblib_memmapping_folder_2206_58a0a356de4945feafde8409e289ddf1_423a59be6e324d7c96809aec1736333c for automatic cleanup: unknown resource type folder\u001b[0m\n"
     ]
    },
    {
     "name": "stderr",
     "output_type": "stream",
     "text": [
      "\r",
      "Scraping 55 games on 02/05/25:  53%|█████▎    | 97 of 182 days scraped in 693.2 secTraceback (most recent call last):\n"
     ]
    },
    {
     "name": "stderr",
     "output_type": "stream",
     "text": [
      "  File \u001b[35m\"/opt/hostedtoolcache/Python/3.13.7/x64/lib/python3.13/multiprocessing/resource_tracker.py\"\u001b[0m, line \u001b[35m295\u001b[0m, in \u001b[35mmain\u001b[0m\n",
      "    raise ValueError(\n",
      "        f'Cannot register {name} for automatic cleanup: '\n",
      "        f'unknown resource type {rtype}')\n",
      "\u001b[1;35mValueError\u001b[0m: \u001b[35mCannot register /dev/shm/joblib_memmapping_folder_2206_58a0a356de4945feafde8409e289ddf1_423a59be6e324d7c96809aec1736333c for automatic cleanup: unknown resource type folder\u001b[0m\n"
     ]
    },
    {
     "name": "stderr",
     "output_type": "stream",
     "text": [
      "\r",
      "Scraping 59 games on 02/06/25:  53%|█████▎    | 97 of 182 days scraped in 694.0 sec"
     ]
    },
    {
     "name": "stderr",
     "output_type": "stream",
     "text": [
      "Traceback (most recent call last):\n",
      "  File \u001b[35m\"/opt/hostedtoolcache/Python/3.13.7/x64/lib/python3.13/multiprocessing/resource_tracker.py\"\u001b[0m, line \u001b[35m295\u001b[0m, in \u001b[35mmain\u001b[0m\n",
      "    raise ValueError(\n",
      "        f'Cannot register {name} for automatic cleanup: '\n",
      "        f'unknown resource type {rtype}')\n",
      "\u001b[1;35mValueError\u001b[0m: \u001b[35mCannot register /dev/shm/joblib_memmapping_folder_2206_4072a13ded18476ba6cea8a8f9261bbe_2f9eba69aea5489baa669ff541dd1009 for automatic cleanup: unknown resource type folder\u001b[0m\n",
      "Traceback (most recent call last):\n",
      "  File \u001b[35m\"/opt/hostedtoolcache/Python/3.13.7/x64/lib/python3.13/multiprocessing/resource_tracker.py\"\u001b[0m, line \u001b[35m295\u001b[0m, in \u001b[35mmain\u001b[0m\n",
      "    raise ValueError(\n",
      "        f'Cannot register {name} for automatic cleanup: '\n",
      "        f'unknown resource type {rtype}')\n",
      "\u001b[1;35mValueError\u001b[0m: \u001b[35mCannot register /dev/shm/joblib_memmapping_folder_2206_58a0a356de4945feafde8409e289ddf1_75a8c66aaa05472dbb88294740471720 for automatic cleanup: unknown resource type folder\u001b[0m\n"
     ]
    },
    {
     "name": "stderr",
     "output_type": "stream",
     "text": [
      "\r",
      "Scraping 59 games on 02/06/25:  54%|█████▍    | 98 of 182 days scraped in 701.9 sec"
     ]
    },
    {
     "name": "stderr",
     "output_type": "stream",
     "text": [
      "Traceback (most recent call last):\n",
      "  File \u001b[35m\"/opt/hostedtoolcache/Python/3.13.7/x64/lib/python3.13/multiprocessing/resource_tracker.py\"\u001b[0m, line \u001b[35m295\u001b[0m, in \u001b[35mmain\u001b[0m\n",
      "    raise ValueError(\n",
      "        f'Cannot register {name} for automatic cleanup: '\n",
      "        f'unknown resource type {rtype}')\n",
      "\u001b[1;35mValueError\u001b[0m: \u001b[35mCannot register /dev/shm/joblib_memmapping_folder_2206_58a0a356de4945feafde8409e289ddf1_75a8c66aaa05472dbb88294740471720 for automatic cleanup: unknown resource type folder\u001b[0m\n"
     ]
    },
    {
     "name": "stderr",
     "output_type": "stream",
     "text": [
      "\r",
      "Scraping 7 games on 02/07/25:  54%|█████▍    | 98 of 182 days scraped in 702.4 sec "
     ]
    },
    {
     "name": "stderr",
     "output_type": "stream",
     "text": [
      "Traceback (most recent call last):\n",
      "  File \u001b[35m\"/opt/hostedtoolcache/Python/3.13.7/x64/lib/python3.13/multiprocessing/resource_tracker.py\"\u001b[0m, line \u001b[35m295\u001b[0m, in \u001b[35mmain\u001b[0m\n",
      "    raise ValueError(\n",
      "        f'Cannot register {name} for automatic cleanup: '\n",
      "        f'unknown resource type {rtype}')\n",
      "\u001b[1;35mValueError\u001b[0m: \u001b[35mCannot register /dev/shm/joblib_memmapping_folder_2206_ab75d3e175734261a5ed4506dbd889af_b83f0191eff84bef95e14cdd74346d80 for automatic cleanup: unknown resource type folder\u001b[0m\n",
      "Traceback (most recent call last):\n",
      "  File \u001b[35m\"/opt/hostedtoolcache/Python/3.13.7/x64/lib/python3.13/multiprocessing/resource_tracker.py\"\u001b[0m, line \u001b[35m295\u001b[0m, in \u001b[35mmain\u001b[0m\n",
      "    raise ValueError(\n",
      "        f'Cannot register {name} for automatic cleanup: '\n",
      "        f'unknown resource type {rtype}')\n",
      "\u001b[1;35mValueError\u001b[0m: \u001b[35mCannot register /dev/shm/joblib_memmapping_folder_2206_58a0a356de4945feafde8409e289ddf1_2737ae777472414d9eacf1d8777e6c06 for automatic cleanup: unknown resource type folder\u001b[0m\n"
     ]
    },
    {
     "name": "stderr",
     "output_type": "stream",
     "text": [
      "\r",
      "Scraping 7 games on 02/07/25:  54%|█████▍    | 99 of 182 days scraped in 703.4 sec"
     ]
    },
    {
     "name": "stderr",
     "output_type": "stream",
     "text": [
      "Traceback (most recent call last):\n",
      "  File \u001b[35m\"/opt/hostedtoolcache/Python/3.13.7/x64/lib/python3.13/multiprocessing/resource_tracker.py\"\u001b[0m, line \u001b[35m295\u001b[0m, in \u001b[35mmain\u001b[0m\n",
      "    raise ValueError(\n",
      "        f'Cannot register {name} for automatic cleanup: '\n",
      "        f'unknown resource type {rtype}')\n",
      "\u001b[1;35mValueError\u001b[0m: \u001b[35mCannot register /dev/shm/joblib_memmapping_folder_2206_58a0a356de4945feafde8409e289ddf1_2737ae777472414d9eacf1d8777e6c06 for automatic cleanup: unknown resource type folder\u001b[0m\n"
     ]
    },
    {
     "name": "stderr",
     "output_type": "stream",
     "text": [
      "\r",
      "Scraping 155 games on 02/08/25:  54%|█████▍    | 99 of 182 days scraped in 705.0 sec"
     ]
    },
    {
     "name": "stderr",
     "output_type": "stream",
     "text": [
      "Traceback (most recent call last):\n",
      "  File \u001b[35m\"/opt/hostedtoolcache/Python/3.13.7/x64/lib/python3.13/multiprocessing/resource_tracker.py\"\u001b[0m, line \u001b[35m295\u001b[0m, in \u001b[35mmain\u001b[0m\n",
      "    raise ValueError(\n",
      "        f'Cannot register {name} for automatic cleanup: '\n",
      "        f'unknown resource type {rtype}')\n",
      "\u001b[1;35mValueError\u001b[0m: \u001b[35mCannot register /dev/shm/joblib_memmapping_folder_2206_87f5a12cfa2a45118c691c8ed6539bca_30d37330a58049bc9c46ee84e4e0bb2e for automatic cleanup: unknown resource type folder\u001b[0m\n",
      "Traceback (most recent call last):\n",
      "  File \u001b[35m\"/opt/hostedtoolcache/Python/3.13.7/x64/lib/python3.13/multiprocessing/resource_tracker.py\"\u001b[0m, line \u001b[35m295\u001b[0m, in \u001b[35mmain\u001b[0m\n",
      "    raise ValueError(\n",
      "        f'Cannot register {name} for automatic cleanup: '\n",
      "        f'unknown resource type {rtype}')\n",
      "\u001b[1;35mValueError\u001b[0m: \u001b[35mCannot register /dev/shm/joblib_memmapping_folder_2206_58a0a356de4945feafde8409e289ddf1_dfbbc36600ee40cb86924dc67bf512b4 for automatic cleanup: unknown resource type folder\u001b[0m\n"
     ]
    },
    {
     "name": "stderr",
     "output_type": "stream",
     "text": [
      "\r",
      "Scraping 155 games on 02/08/25:  55%|█████▍    | 100 of 182 days scraped in 725.0 secTraceback (most recent call last):\n"
     ]
    },
    {
     "name": "stderr",
     "output_type": "stream",
     "text": [
      "  File \u001b[35m\"/opt/hostedtoolcache/Python/3.13.7/x64/lib/python3.13/multiprocessing/resource_tracker.py\"\u001b[0m, line \u001b[35m295\u001b[0m, in \u001b[35mmain\u001b[0m\n",
      "    raise ValueError(\n",
      "        f'Cannot register {name} for automatic cleanup: '\n",
      "        f'unknown resource type {rtype}')\n",
      "\u001b[1;35mValueError\u001b[0m: \u001b[35mCannot register /dev/shm/joblib_memmapping_folder_2206_58a0a356de4945feafde8409e289ddf1_dfbbc36600ee40cb86924dc67bf512b4 for automatic cleanup: unknown resource type folder\u001b[0m\n"
     ]
    },
    {
     "name": "stderr",
     "output_type": "stream",
     "text": [
      "\r",
      "Scraping 8 games on 02/09/25:  55%|█████▍    | 100 of 182 days scraped in 725.4 sec  "
     ]
    },
    {
     "name": "stderr",
     "output_type": "stream",
     "text": [
      "Traceback (most recent call last):\n",
      "  File \u001b[35m\"/opt/hostedtoolcache/Python/3.13.7/x64/lib/python3.13/multiprocessing/resource_tracker.py\"\u001b[0m, line \u001b[35m295\u001b[0m, in \u001b[35mmain\u001b[0m\n",
      "    raise ValueError(\n",
      "        f'Cannot register {name} for automatic cleanup: '\n",
      "        f'unknown resource type {rtype}')\n",
      "\u001b[1;35mValueError\u001b[0m: \u001b[35mCannot register /dev/shm/joblib_memmapping_folder_2206_472c04263bd742048cc772db8c2810f2_d516e684b8a74e80ba0b08075cca32a2 for automatic cleanup: unknown resource type folder\u001b[0m\n",
      "Traceback (most recent call last):\n",
      "  File \u001b[35m\"/opt/hostedtoolcache/Python/3.13.7/x64/lib/python3.13/multiprocessing/resource_tracker.py\"\u001b[0m, line \u001b[35m295\u001b[0m, in \u001b[35mmain\u001b[0m\n",
      "    raise ValueError(\n",
      "        f'Cannot register {name} for automatic cleanup: '\n",
      "        f'unknown resource type {rtype}')\n",
      "\u001b[1;35mValueError\u001b[0m: \u001b[35mCannot register /dev/shm/joblib_memmapping_folder_2206_58a0a356de4945feafde8409e289ddf1_ba26d54dcd7640719891d427d6221335 for automatic cleanup: unknown resource type folder\u001b[0m\n"
     ]
    },
    {
     "name": "stderr",
     "output_type": "stream",
     "text": [
      "\r",
      "Scraping 8 games on 02/09/25:  55%|█████▌    | 101 of 182 days scraped in 726.6 sec"
     ]
    },
    {
     "name": "stderr",
     "output_type": "stream",
     "text": [
      "Traceback (most recent call last):\n",
      "  File \u001b[35m\"/opt/hostedtoolcache/Python/3.13.7/x64/lib/python3.13/multiprocessing/resource_tracker.py\"\u001b[0m, line \u001b[35m295\u001b[0m, in \u001b[35mmain\u001b[0m\n",
      "    raise ValueError(\n",
      "        f'Cannot register {name} for automatic cleanup: '\n",
      "        f'unknown resource type {rtype}')\n",
      "\u001b[1;35mValueError\u001b[0m: \u001b[35mCannot register /dev/shm/joblib_memmapping_folder_2206_58a0a356de4945feafde8409e289ddf1_ba26d54dcd7640719891d427d6221335 for automatic cleanup: unknown resource type folder\u001b[0m\n"
     ]
    },
    {
     "name": "stderr",
     "output_type": "stream",
     "text": [
      "\r",
      "Scraping 19 games on 02/10/25:  55%|█████▌    | 101 of 182 days scraped in 727.1 sec"
     ]
    },
    {
     "name": "stderr",
     "output_type": "stream",
     "text": [
      "Traceback (most recent call last):\n",
      "  File \u001b[35m\"/opt/hostedtoolcache/Python/3.13.7/x64/lib/python3.13/multiprocessing/resource_tracker.py\"\u001b[0m, line \u001b[35m295\u001b[0m, in \u001b[35mmain\u001b[0m\n",
      "    raise ValueError(\n",
      "        f'Cannot register {name} for automatic cleanup: '\n",
      "        f'unknown resource type {rtype}')\n",
      "\u001b[1;35mValueError\u001b[0m: \u001b[35mCannot register /dev/shm/joblib_memmapping_folder_2206_41229b0a4711457d9fd519f5993b563b_46a272454de24d0a8cc3a16ffcdd7ced for automatic cleanup: unknown resource type folder\u001b[0m\n",
      "Traceback (most recent call last):\n",
      "  File \u001b[35m\"/opt/hostedtoolcache/Python/3.13.7/x64/lib/python3.13/multiprocessing/resource_tracker.py\"\u001b[0m, line \u001b[35m295\u001b[0m, in \u001b[35mmain\u001b[0m\n",
      "    raise ValueError(\n",
      "        f'Cannot register {name} for automatic cleanup: '\n",
      "        f'unknown resource type {rtype}')\n",
      "\u001b[1;35mValueError\u001b[0m: \u001b[35mCannot register /dev/shm/joblib_memmapping_folder_2206_58a0a356de4945feafde8409e289ddf1_a5a4ee71ee394466b6846f6d6e20f272 for automatic cleanup: unknown resource type folder\u001b[0m\n"
     ]
    },
    {
     "name": "stderr",
     "output_type": "stream",
     "text": [
      "\r",
      "Scraping 19 games on 02/10/25:  56%|█████▌    | 102 of 182 days scraped in 729.6 secTraceback (most recent call last):\n"
     ]
    },
    {
     "name": "stderr",
     "output_type": "stream",
     "text": [
      "  File \u001b[35m\"/opt/hostedtoolcache/Python/3.13.7/x64/lib/python3.13/multiprocessing/resource_tracker.py\"\u001b[0m, line \u001b[35m295\u001b[0m, in \u001b[35mmain\u001b[0m\n",
      "    raise ValueError(\n",
      "        f'Cannot register {name} for automatic cleanup: '\n",
      "        f'unknown resource type {rtype}')\n",
      "\u001b[1;35mValueError\u001b[0m: \u001b[35mCannot register /dev/shm/joblib_memmapping_folder_2206_58a0a356de4945feafde8409e289ddf1_a5a4ee71ee394466b6846f6d6e20f272 for automatic cleanup: unknown resource type folder\u001b[0m\n"
     ]
    },
    {
     "name": "stderr",
     "output_type": "stream",
     "text": [
      "\r",
      "Scraping 37 games on 02/11/25:  56%|█████▌    | 102 of 182 days scraped in 730.5 sec"
     ]
    },
    {
     "name": "stderr",
     "output_type": "stream",
     "text": [
      "Traceback (most recent call last):\n",
      "  File \u001b[35m\"/opt/hostedtoolcache/Python/3.13.7/x64/lib/python3.13/multiprocessing/resource_tracker.py\"\u001b[0m, line \u001b[35m295\u001b[0m, in \u001b[35mmain\u001b[0m\n",
      "    raise ValueError(\n",
      "        f'Cannot register {name} for automatic cleanup: '\n",
      "        f'unknown resource type {rtype}')\n",
      "\u001b[1;35mValueError\u001b[0m: \u001b[35mCannot register /dev/shm/joblib_memmapping_folder_2206_7174be0a99f546d48add6b1d55a25b4c_cf4d6ec781d741ce830b2a9b12222846 for automatic cleanup: unknown resource type folder\u001b[0m\n",
      "Traceback (most recent call last):\n",
      "  File \u001b[35m\"/opt/hostedtoolcache/Python/3.13.7/x64/lib/python3.13/multiprocessing/resource_tracker.py\"\u001b[0m, line \u001b[35m295\u001b[0m, in \u001b[35mmain\u001b[0m\n",
      "    raise ValueError(\n",
      "        f'Cannot register {name} for automatic cleanup: '\n",
      "        f'unknown resource type {rtype}')\n",
      "\u001b[1;35mValueError\u001b[0m: \u001b[35mCannot register /dev/shm/joblib_memmapping_folder_2206_58a0a356de4945feafde8409e289ddf1_518bff2e5dd64986a69e6851ea57e2cf for automatic cleanup: unknown resource type folder\u001b[0m\n"
     ]
    },
    {
     "name": "stderr",
     "output_type": "stream",
     "text": [
      "\r",
      "Scraping 37 games on 02/11/25:  57%|█████▋    | 103 of 182 days scraped in 735.7 sec"
     ]
    },
    {
     "name": "stderr",
     "output_type": "stream",
     "text": [
      "Traceback (most recent call last):\n",
      "  File \u001b[35m\"/opt/hostedtoolcache/Python/3.13.7/x64/lib/python3.13/multiprocessing/resource_tracker.py\"\u001b[0m, line \u001b[35m295\u001b[0m, in \u001b[35mmain\u001b[0m\n",
      "    raise ValueError(\n",
      "        f'Cannot register {name} for automatic cleanup: '\n",
      "        f'unknown resource type {rtype}')\n",
      "\u001b[1;35mValueError\u001b[0m: \u001b[35mCannot register /dev/shm/joblib_memmapping_folder_2206_58a0a356de4945feafde8409e289ddf1_518bff2e5dd64986a69e6851ea57e2cf for automatic cleanup: unknown resource type folder\u001b[0m\n"
     ]
    },
    {
     "name": "stderr",
     "output_type": "stream",
     "text": [
      "\r",
      "Scraping 44 games on 02/12/25:  57%|█████▋    | 103 of 182 days scraped in 736.3 sec"
     ]
    },
    {
     "name": "stderr",
     "output_type": "stream",
     "text": [
      "Traceback (most recent call last):\n",
      "  File \u001b[35m\"/opt/hostedtoolcache/Python/3.13.7/x64/lib/python3.13/multiprocessing/resource_tracker.py\"\u001b[0m, line \u001b[35m295\u001b[0m, in \u001b[35mmain\u001b[0m\n",
      "    raise ValueError(\n",
      "        f'Cannot register {name} for automatic cleanup: '\n",
      "        f'unknown resource type {rtype}')\n",
      "\u001b[1;35mValueError\u001b[0m: \u001b[35mCannot register /dev/shm/joblib_memmapping_folder_2206_eaa9a52864854478ba29884b606e7cf7_82cbbf7c773e4744a1ab3bdc81a0c4c4 for automatic cleanup: unknown resource type folder\u001b[0m\n",
      "Traceback (most recent call last):\n",
      "  File \u001b[35m\"/opt/hostedtoolcache/Python/3.13.7/x64/lib/python3.13/multiprocessing/resource_tracker.py\"\u001b[0m, line \u001b[35m295\u001b[0m, in \u001b[35mmain\u001b[0m\n",
      "    raise ValueError(\n",
      "        f'Cannot register {name} for automatic cleanup: '\n",
      "        f'unknown resource type {rtype}')\n",
      "\u001b[1;35mValueError\u001b[0m: \u001b[35mCannot register /dev/shm/joblib_memmapping_folder_2206_58a0a356de4945feafde8409e289ddf1_5e0f4d345f03458f86e771187378c684 for automatic cleanup: unknown resource type folder\u001b[0m\n"
     ]
    },
    {
     "name": "stderr",
     "output_type": "stream",
     "text": [
      "\r",
      "Scraping 44 games on 02/12/25:  57%|█████▋    | 104 of 182 days scraped in 743.1 sec"
     ]
    },
    {
     "name": "stderr",
     "output_type": "stream",
     "text": [
      "Traceback (most recent call last):\n",
      "  File \u001b[35m\"/opt/hostedtoolcache/Python/3.13.7/x64/lib/python3.13/multiprocessing/resource_tracker.py\"\u001b[0m, line \u001b[35m295\u001b[0m, in \u001b[35mmain\u001b[0m\n",
      "    raise ValueError(\n",
      "        f'Cannot register {name} for automatic cleanup: '\n",
      "        f'unknown resource type {rtype}')\n",
      "\u001b[1;35mValueError\u001b[0m: \u001b[35mCannot register /dev/shm/joblib_memmapping_folder_2206_58a0a356de4945feafde8409e289ddf1_5e0f4d345f03458f86e771187378c684 for automatic cleanup: unknown resource type folder\u001b[0m\n"
     ]
    },
    {
     "name": "stderr",
     "output_type": "stream",
     "text": [
      "\r",
      "Scraping 59 games on 02/13/25:  57%|█████▋    | 104 of 182 days scraped in 743.8 sec"
     ]
    },
    {
     "name": "stderr",
     "output_type": "stream",
     "text": [
      "Traceback (most recent call last):\n",
      "  File \u001b[35m\"/opt/hostedtoolcache/Python/3.13.7/x64/lib/python3.13/multiprocessing/resource_tracker.py\"\u001b[0m, line \u001b[35m295\u001b[0m, in \u001b[35mmain\u001b[0m\n",
      "    raise ValueError(\n",
      "        f'Cannot register {name} for automatic cleanup: '\n",
      "        f'unknown resource type {rtype}')\n",
      "\u001b[1;35mValueError\u001b[0m: \u001b[35mCannot register /dev/shm/joblib_memmapping_folder_2206_dd4e8e8d7be4488ea1659745475f5310_1ced5f9a2fbe48e6901f69d41d809bb6 for automatic cleanup: unknown resource type folder\u001b[0m\n",
      "Traceback (most recent call last):\n",
      "  File \u001b[35m\"/opt/hostedtoolcache/Python/3.13.7/x64/lib/python3.13/multiprocessing/resource_tracker.py\"\u001b[0m, line \u001b[35m295\u001b[0m, in \u001b[35mmain\u001b[0m\n",
      "    raise ValueError(\n",
      "        f'Cannot register {name} for automatic cleanup: '\n",
      "        f'unknown resource type {rtype}')\n",
      "\u001b[1;35mValueError\u001b[0m: \u001b[35mCannot register /dev/shm/joblib_memmapping_folder_2206_58a0a356de4945feafde8409e289ddf1_a7bb5ea9dc4240f698c4229b689ab5cd for automatic cleanup: unknown resource type folder\u001b[0m\n"
     ]
    },
    {
     "name": "stderr",
     "output_type": "stream",
     "text": [
      "\r",
      "Scraping 59 games on 02/13/25:  58%|█████▊    | 105 of 182 days scraped in 752.9 sec"
     ]
    },
    {
     "name": "stderr",
     "output_type": "stream",
     "text": [
      "Traceback (most recent call last):\n",
      "  File \u001b[35m\"/opt/hostedtoolcache/Python/3.13.7/x64/lib/python3.13/multiprocessing/resource_tracker.py\"\u001b[0m, line \u001b[35m295\u001b[0m, in \u001b[35mmain\u001b[0m\n",
      "    raise ValueError(\n",
      "        f'Cannot register {name} for automatic cleanup: '\n",
      "        f'unknown resource type {rtype}')\n",
      "\u001b[1;35mValueError\u001b[0m: \u001b[35mCannot register /dev/shm/joblib_memmapping_folder_2206_58a0a356de4945feafde8409e289ddf1_a7bb5ea9dc4240f698c4229b689ab5cd for automatic cleanup: unknown resource type folder\u001b[0m\n"
     ]
    },
    {
     "name": "stderr",
     "output_type": "stream",
     "text": [
      "\r",
      "Scraping 16 games on 02/14/25:  58%|█████▊    | 105 of 182 days scraped in 753.5 sec"
     ]
    },
    {
     "name": "stderr",
     "output_type": "stream",
     "text": [
      "Traceback (most recent call last):\n",
      "  File \u001b[35m\"/opt/hostedtoolcache/Python/3.13.7/x64/lib/python3.13/multiprocessing/resource_tracker.py\"\u001b[0m, line \u001b[35m295\u001b[0m, in \u001b[35mmain\u001b[0m\n",
      "    raise ValueError(\n",
      "        f'Cannot register {name} for automatic cleanup: '\n",
      "        f'unknown resource type {rtype}')\n",
      "\u001b[1;35mValueError\u001b[0m: \u001b[35mCannot register /dev/shm/joblib_memmapping_folder_2206_e2aa5246931c48cdbfd08e9c8efc7797_91cf0ca7a30f466fa12f20d723c58b11 for automatic cleanup: unknown resource type folder\u001b[0m\n",
      "Traceback (most recent call last):\n",
      "  File \u001b[35m\"/opt/hostedtoolcache/Python/3.13.7/x64/lib/python3.13/multiprocessing/resource_tracker.py\"\u001b[0m, line \u001b[35m295\u001b[0m, in \u001b[35mmain\u001b[0m\n",
      "    raise ValueError(\n",
      "        f'Cannot register {name} for automatic cleanup: '\n",
      "        f'unknown resource type {rtype}')\n",
      "\u001b[1;35mValueError\u001b[0m: \u001b[35mCannot register /dev/shm/joblib_memmapping_folder_2206_58a0a356de4945feafde8409e289ddf1_702eb2bb6e614f21901e288922520de3 for automatic cleanup: unknown resource type folder\u001b[0m\n"
     ]
    },
    {
     "name": "stderr",
     "output_type": "stream",
     "text": [
      "\r",
      "Scraping 16 games on 02/14/25:  58%|█████▊    | 106 of 182 days scraped in 756.3 sec"
     ]
    },
    {
     "name": "stderr",
     "output_type": "stream",
     "text": [
      "Traceback (most recent call last):\n",
      "  File \u001b[35m\"/opt/hostedtoolcache/Python/3.13.7/x64/lib/python3.13/multiprocessing/resource_tracker.py\"\u001b[0m, line \u001b[35m295\u001b[0m, in \u001b[35mmain\u001b[0m\n",
      "    raise ValueError(\n",
      "        f'Cannot register {name} for automatic cleanup: '\n",
      "        f'unknown resource type {rtype}')\n",
      "\u001b[1;35mValueError\u001b[0m: \u001b[35mCannot register /dev/shm/joblib_memmapping_folder_2206_58a0a356de4945feafde8409e289ddf1_702eb2bb6e614f21901e288922520de3 for automatic cleanup: unknown resource type folder\u001b[0m\n"
     ]
    },
    {
     "name": "stderr",
     "output_type": "stream",
     "text": [
      "\r",
      "Scraping 146 games on 02/15/25:  58%|█████▊    | 106 of 182 days scraped in 757.7 sec"
     ]
    },
    {
     "name": "stderr",
     "output_type": "stream",
     "text": [
      "Traceback (most recent call last):\n",
      "  File \u001b[35m\"/opt/hostedtoolcache/Python/3.13.7/x64/lib/python3.13/multiprocessing/resource_tracker.py\"\u001b[0m, line \u001b[35m295\u001b[0m, in \u001b[35mmain\u001b[0m\n",
      "    raise ValueError(\n",
      "        f'Cannot register {name} for automatic cleanup: '\n",
      "        f'unknown resource type {rtype}')\n",
      "\u001b[1;35mValueError\u001b[0m: \u001b[35mCannot register /dev/shm/joblib_memmapping_folder_2206_62334b1a31274709becd57194434a830_45186e11ab1b476eb614af40f65f19fa for automatic cleanup: unknown resource type folder\u001b[0m\n",
      "Traceback (most recent call last):\n",
      "  File \u001b[35m\"/opt/hostedtoolcache/Python/3.13.7/x64/lib/python3.13/multiprocessing/resource_tracker.py\"\u001b[0m, line \u001b[35m295\u001b[0m, in \u001b[35mmain\u001b[0m\n",
      "    raise ValueError(\n",
      "        f'Cannot register {name} for automatic cleanup: '\n",
      "        f'unknown resource type {rtype}')\n",
      "\u001b[1;35mValueError\u001b[0m: \u001b[35mCannot register /dev/shm/joblib_memmapping_folder_2206_58a0a356de4945feafde8409e289ddf1_e230bae447c44a108dcb97c4c8ef60c8 for automatic cleanup: unknown resource type folder\u001b[0m\n"
     ]
    },
    {
     "name": "stderr",
     "output_type": "stream",
     "text": [
      "\r",
      "Scraping 146 games on 02/15/25:  59%|█████▉    | 107 of 182 days scraped in 778.0 secTraceback (most recent call last):\n"
     ]
    },
    {
     "name": "stderr",
     "output_type": "stream",
     "text": [
      "  File \u001b[35m\"/opt/hostedtoolcache/Python/3.13.7/x64/lib/python3.13/multiprocessing/resource_tracker.py\"\u001b[0m, line \u001b[35m295\u001b[0m, in \u001b[35mmain\u001b[0m\n",
      "    raise ValueError(\n",
      "        f'Cannot register {name} for automatic cleanup: '\n",
      "        f'unknown resource type {rtype}')\n",
      "\u001b[1;35mValueError\u001b[0m: \u001b[35mCannot register /dev/shm/joblib_memmapping_folder_2206_58a0a356de4945feafde8409e289ddf1_e230bae447c44a108dcb97c4c8ef60c8 for automatic cleanup: unknown resource type folder\u001b[0m\n"
     ]
    },
    {
     "name": "stderr",
     "output_type": "stream",
     "text": [
      "\r",
      "Scraping 25 games on 02/16/25:  59%|█████▉    | 107 of 182 days scraped in 778.5 sec "
     ]
    },
    {
     "name": "stderr",
     "output_type": "stream",
     "text": [
      "Traceback (most recent call last):\n",
      "  File \u001b[35m\"/opt/hostedtoolcache/Python/3.13.7/x64/lib/python3.13/multiprocessing/resource_tracker.py\"\u001b[0m, line \u001b[35m295\u001b[0m, in \u001b[35mmain\u001b[0m\n",
      "    raise ValueError(\n",
      "        f'Cannot register {name} for automatic cleanup: '\n",
      "        f'unknown resource type {rtype}')\n",
      "\u001b[1;35mValueError\u001b[0m: \u001b[35mCannot register /dev/shm/joblib_memmapping_folder_2206_194ed0757496457ba964d665ffe521d2_9c9a41d087be41a78b70a342a605c53a for automatic cleanup: unknown resource type folder\u001b[0m\n",
      "Traceback (most recent call last):\n",
      "  File \u001b[35m\"/opt/hostedtoolcache/Python/3.13.7/x64/lib/python3.13/multiprocessing/resource_tracker.py\"\u001b[0m, line \u001b[35m295\u001b[0m, in \u001b[35mmain\u001b[0m\n",
      "    raise ValueError(\n",
      "        f'Cannot register {name} for automatic cleanup: '\n",
      "        f'unknown resource type {rtype}')\n",
      "\u001b[1;35mValueError\u001b[0m: \u001b[35mCannot register /dev/shm/joblib_memmapping_folder_2206_58a0a356de4945feafde8409e289ddf1_b79347c6789a4078801a7b29b868c9ce for automatic cleanup: unknown resource type folder\u001b[0m\n"
     ]
    },
    {
     "name": "stderr",
     "output_type": "stream",
     "text": [
      "\r",
      "Scraping 25 games on 02/16/25:  59%|█████▉    | 108 of 182 days scraped in 781.9 sec"
     ]
    },
    {
     "name": "stderr",
     "output_type": "stream",
     "text": [
      "Traceback (most recent call last):\n",
      "  File \u001b[35m\"/opt/hostedtoolcache/Python/3.13.7/x64/lib/python3.13/multiprocessing/resource_tracker.py\"\u001b[0m, line \u001b[35m295\u001b[0m, in \u001b[35mmain\u001b[0m\n",
      "    raise ValueError(\n",
      "        f'Cannot register {name} for automatic cleanup: '\n",
      "        f'unknown resource type {rtype}')\n",
      "\u001b[1;35mValueError\u001b[0m: \u001b[35mCannot register /dev/shm/joblib_memmapping_folder_2206_58a0a356de4945feafde8409e289ddf1_b79347c6789a4078801a7b29b868c9ce for automatic cleanup: unknown resource type folder\u001b[0m\n"
     ]
    },
    {
     "name": "stderr",
     "output_type": "stream",
     "text": [
      "\r",
      "Scraping 21 games on 02/17/25:  59%|█████▉    | 108 of 182 days scraped in 782.3 sec"
     ]
    },
    {
     "name": "stderr",
     "output_type": "stream",
     "text": [
      "Traceback (most recent call last):\n",
      "  File \u001b[35m\"/opt/hostedtoolcache/Python/3.13.7/x64/lib/python3.13/multiprocessing/resource_tracker.py\"\u001b[0m, line \u001b[35m295\u001b[0m, in \u001b[35mmain\u001b[0m\n",
      "    raise ValueError(\n",
      "        f'Cannot register {name} for automatic cleanup: '\n",
      "        f'unknown resource type {rtype}')\n",
      "\u001b[1;35mValueError\u001b[0m: \u001b[35mCannot register /dev/shm/joblib_memmapping_folder_2206_a9418e7cef7345d0bb0608164372a7ee_629b1ef0ea8a43b89bb5cbad305388a4 for automatic cleanup: unknown resource type folder\u001b[0m\n",
      "Traceback (most recent call last):\n",
      "  File \u001b[35m\"/opt/hostedtoolcache/Python/3.13.7/x64/lib/python3.13/multiprocessing/resource_tracker.py\"\u001b[0m, line \u001b[35m295\u001b[0m, in \u001b[35mmain\u001b[0m\n",
      "    raise ValueError(\n",
      "        f'Cannot register {name} for automatic cleanup: '\n",
      "        f'unknown resource type {rtype}')\n",
      "\u001b[1;35mValueError\u001b[0m: \u001b[35mCannot register /dev/shm/joblib_memmapping_folder_2206_58a0a356de4945feafde8409e289ddf1_3a3381a2f83a4c8988164aaa7d17af3e for automatic cleanup: unknown resource type folder\u001b[0m\n"
     ]
    },
    {
     "name": "stderr",
     "output_type": "stream",
     "text": [
      "\r",
      "Scraping 21 games on 02/17/25:  60%|█████▉    | 109 of 182 days scraped in 785.3 secTraceback (most recent call last):\n"
     ]
    },
    {
     "name": "stderr",
     "output_type": "stream",
     "text": [
      "  File \u001b[35m\"/opt/hostedtoolcache/Python/3.13.7/x64/lib/python3.13/multiprocessing/resource_tracker.py\"\u001b[0m, line \u001b[35m295\u001b[0m, in \u001b[35mmain\u001b[0m\n",
      "    raise ValueError(\n",
      "        f'Cannot register {name} for automatic cleanup: '\n",
      "        f'unknown resource type {rtype}')\n",
      "\u001b[1;35mValueError\u001b[0m: \u001b[35mCannot register /dev/shm/joblib_memmapping_folder_2206_58a0a356de4945feafde8409e289ddf1_3a3381a2f83a4c8988164aaa7d17af3e for automatic cleanup: unknown resource type folder\u001b[0m\n"
     ]
    },
    {
     "name": "stderr",
     "output_type": "stream",
     "text": [
      "\r",
      "Scraping 32 games on 02/18/25:  60%|█████▉    | 109 of 182 days scraped in 785.8 sec"
     ]
    },
    {
     "name": "stderr",
     "output_type": "stream",
     "text": [
      "Traceback (most recent call last):\n",
      "  File \u001b[35m\"/opt/hostedtoolcache/Python/3.13.7/x64/lib/python3.13/multiprocessing/resource_tracker.py\"\u001b[0m, line \u001b[35m295\u001b[0m, in \u001b[35mmain\u001b[0m\n",
      "    raise ValueError(\n",
      "        f'Cannot register {name} for automatic cleanup: '\n",
      "        f'unknown resource type {rtype}')\n",
      "\u001b[1;35mValueError\u001b[0m: \u001b[35mCannot register /dev/shm/joblib_memmapping_folder_2206_22ef0127d96146aaace988d412605390_0527751a2b6540eb8fcdd843949eee3f for automatic cleanup: unknown resource type folder\u001b[0m\n",
      "Traceback (most recent call last):\n",
      "  File \u001b[35m\"/opt/hostedtoolcache/Python/3.13.7/x64/lib/python3.13/multiprocessing/resource_tracker.py\"\u001b[0m, line \u001b[35m295\u001b[0m, in \u001b[35mmain\u001b[0m\n",
      "    raise ValueError(\n",
      "        f'Cannot register {name} for automatic cleanup: '\n",
      "        f'unknown resource type {rtype}')\n",
      "\u001b[1;35mValueError\u001b[0m: \u001b[35mCannot register /dev/shm/joblib_memmapping_folder_2206_58a0a356de4945feafde8409e289ddf1_ad74e181401a4813bd7f282dac4cc7ed for automatic cleanup: unknown resource type folder\u001b[0m\n"
     ]
    },
    {
     "name": "stderr",
     "output_type": "stream",
     "text": [
      "\r",
      "Scraping 32 games on 02/18/25:  60%|██████    | 110 of 182 days scraped in 790.7 secTraceback (most recent call last):\n"
     ]
    },
    {
     "name": "stderr",
     "output_type": "stream",
     "text": [
      "  File \u001b[35m\"/opt/hostedtoolcache/Python/3.13.7/x64/lib/python3.13/multiprocessing/resource_tracker.py\"\u001b[0m, line \u001b[35m295\u001b[0m, in \u001b[35mmain\u001b[0m\n",
      "    raise ValueError(\n",
      "        f'Cannot register {name} for automatic cleanup: '\n",
      "        f'unknown resource type {rtype}')\n",
      "\u001b[1;35mValueError\u001b[0m: \u001b[35mCannot register /dev/shm/joblib_memmapping_folder_2206_58a0a356de4945feafde8409e289ddf1_ad74e181401a4813bd7f282dac4cc7ed for automatic cleanup: unknown resource type folder\u001b[0m\n"
     ]
    },
    {
     "name": "stderr",
     "output_type": "stream",
     "text": [
      "\r",
      "Scraping 51 games on 02/19/25:  60%|██████    | 110 of 182 days scraped in 791.6 sec"
     ]
    },
    {
     "name": "stderr",
     "output_type": "stream",
     "text": [
      "Traceback (most recent call last):\n",
      "  File \u001b[35m\"/opt/hostedtoolcache/Python/3.13.7/x64/lib/python3.13/multiprocessing/resource_tracker.py\"\u001b[0m, line \u001b[35m295\u001b[0m, in \u001b[35mmain\u001b[0m\n",
      "    raise ValueError(\n",
      "        f'Cannot register {name} for automatic cleanup: '\n",
      "        f'unknown resource type {rtype}')\n",
      "\u001b[1;35mValueError\u001b[0m: \u001b[35mCannot register /dev/shm/joblib_memmapping_folder_2206_5f3ffe045eb64dafb4245533880a0e48_c5b3e0bf50d64e779ed75ddc8f018d1e for automatic cleanup: unknown resource type folder\u001b[0m\n",
      "Traceback (most recent call last):\n",
      "  File \u001b[35m\"/opt/hostedtoolcache/Python/3.13.7/x64/lib/python3.13/multiprocessing/resource_tracker.py\"\u001b[0m, line \u001b[35m295\u001b[0m, in \u001b[35mmain\u001b[0m\n",
      "    raise ValueError(\n",
      "        f'Cannot register {name} for automatic cleanup: '\n",
      "        f'unknown resource type {rtype}')\n",
      "\u001b[1;35mValueError\u001b[0m: \u001b[35mCannot register /dev/shm/joblib_memmapping_folder_2206_58a0a356de4945feafde8409e289ddf1_4c573ca971434e5cbaea98b8a03c3a08 for automatic cleanup: unknown resource type folder\u001b[0m\n"
     ]
    },
    {
     "name": "stderr",
     "output_type": "stream",
     "text": [
      "\r",
      "Scraping 51 games on 02/19/25:  61%|██████    | 111 of 182 days scraped in 799.2 secTraceback (most recent call last):\n"
     ]
    },
    {
     "name": "stderr",
     "output_type": "stream",
     "text": [
      "  File \u001b[35m\"/opt/hostedtoolcache/Python/3.13.7/x64/lib/python3.13/multiprocessing/resource_tracker.py\"\u001b[0m, line \u001b[35m295\u001b[0m, in \u001b[35mmain\u001b[0m\n",
      "    raise ValueError(\n",
      "        f'Cannot register {name} for automatic cleanup: '\n",
      "        f'unknown resource type {rtype}')\n",
      "\u001b[1;35mValueError\u001b[0m: \u001b[35mCannot register /dev/shm/joblib_memmapping_folder_2206_58a0a356de4945feafde8409e289ddf1_4c573ca971434e5cbaea98b8a03c3a08 for automatic cleanup: unknown resource type folder\u001b[0m\n"
     ]
    },
    {
     "name": "stderr",
     "output_type": "stream",
     "text": [
      "\r",
      "Scraping 52 games on 02/20/25:  61%|██████    | 111 of 182 days scraped in 799.9 sec"
     ]
    },
    {
     "name": "stderr",
     "output_type": "stream",
     "text": [
      "Traceback (most recent call last):\n",
      "  File \u001b[35m\"/opt/hostedtoolcache/Python/3.13.7/x64/lib/python3.13/multiprocessing/resource_tracker.py\"\u001b[0m, line \u001b[35m295\u001b[0m, in \u001b[35mmain\u001b[0m\n",
      "    raise ValueError(\n",
      "        f'Cannot register {name} for automatic cleanup: '\n",
      "        f'unknown resource type {rtype}')\n",
      "\u001b[1;35mValueError\u001b[0m: \u001b[35mCannot register /dev/shm/joblib_memmapping_folder_2206_131da14c724b424c8e06f8ab660e853e_c1424a81060d4009a484e0cb4ee152c3 for automatic cleanup: unknown resource type folder\u001b[0m\n",
      "Traceback (most recent call last):\n",
      "  File \u001b[35m\"/opt/hostedtoolcache/Python/3.13.7/x64/lib/python3.13/multiprocessing/resource_tracker.py\"\u001b[0m, line \u001b[35m295\u001b[0m, in \u001b[35mmain\u001b[0m\n",
      "    raise ValueError(\n",
      "        f'Cannot register {name} for automatic cleanup: '\n",
      "        f'unknown resource type {rtype}')\n",
      "\u001b[1;35mValueError\u001b[0m: \u001b[35mCannot register /dev/shm/joblib_memmapping_folder_2206_58a0a356de4945feafde8409e289ddf1_1e0c80e7d9e34309b80a3f95847c8a73 for automatic cleanup: unknown resource type folder\u001b[0m\n"
     ]
    },
    {
     "name": "stderr",
     "output_type": "stream",
     "text": [
      "\r",
      "Scraping 52 games on 02/20/25:  62%|██████▏   | 112 of 182 days scraped in 807.1 sec"
     ]
    },
    {
     "name": "stderr",
     "output_type": "stream",
     "text": [
      "Traceback (most recent call last):\n",
      "  File \u001b[35m\"/opt/hostedtoolcache/Python/3.13.7/x64/lib/python3.13/multiprocessing/resource_tracker.py\"\u001b[0m, line \u001b[35m295\u001b[0m, in \u001b[35mmain\u001b[0m\n",
      "    raise ValueError(\n",
      "        f'Cannot register {name} for automatic cleanup: '\n",
      "        f'unknown resource type {rtype}')\n",
      "\u001b[1;35mValueError\u001b[0m: \u001b[35mCannot register /dev/shm/joblib_memmapping_folder_2206_58a0a356de4945feafde8409e289ddf1_1e0c80e7d9e34309b80a3f95847c8a73 for automatic cleanup: unknown resource type folder\u001b[0m\n"
     ]
    },
    {
     "name": "stderr",
     "output_type": "stream",
     "text": [
      "\r",
      "Scraping 20 games on 02/21/25:  62%|██████▏   | 112 of 182 days scraped in 807.7 sec"
     ]
    },
    {
     "name": "stderr",
     "output_type": "stream",
     "text": [
      "Traceback (most recent call last):\n",
      "  File \u001b[35m\"/opt/hostedtoolcache/Python/3.13.7/x64/lib/python3.13/multiprocessing/resource_tracker.py\"\u001b[0m, line \u001b[35m295\u001b[0m, in \u001b[35mmain\u001b[0m\n",
      "    raise ValueError(\n",
      "        f'Cannot register {name} for automatic cleanup: '\n",
      "        f'unknown resource type {rtype}')\n",
      "\u001b[1;35mValueError\u001b[0m: \u001b[35mCannot register /dev/shm/joblib_memmapping_folder_2206_33bd301698574d35b37c41400a00d54e_32ee418781f841b98e4f38fec71e86fb for automatic cleanup: unknown resource type folder\u001b[0m\n",
      "Traceback (most recent call last):\n",
      "  File \u001b[35m\"/opt/hostedtoolcache/Python/3.13.7/x64/lib/python3.13/multiprocessing/resource_tracker.py\"\u001b[0m, line \u001b[35m295\u001b[0m, in \u001b[35mmain\u001b[0m\n",
      "    raise ValueError(\n",
      "        f'Cannot register {name} for automatic cleanup: '\n",
      "        f'unknown resource type {rtype}')\n",
      "\u001b[1;35mValueError\u001b[0m: \u001b[35mCannot register /dev/shm/joblib_memmapping_folder_2206_58a0a356de4945feafde8409e289ddf1_278f401f78994e7c8603033f5474d69c for automatic cleanup: unknown resource type folder\u001b[0m\n"
     ]
    },
    {
     "name": "stderr",
     "output_type": "stream",
     "text": [
      "\r",
      "Scraping 20 games on 02/21/25:  62%|██████▏   | 113 of 182 days scraped in 810.5 secTraceback (most recent call last):\n"
     ]
    },
    {
     "name": "stderr",
     "output_type": "stream",
     "text": [
      "  File \u001b[35m\"/opt/hostedtoolcache/Python/3.13.7/x64/lib/python3.13/multiprocessing/resource_tracker.py\"\u001b[0m, line \u001b[35m295\u001b[0m, in \u001b[35mmain\u001b[0m\n",
      "    raise ValueError(\n",
      "        f'Cannot register {name} for automatic cleanup: '\n",
      "        f'unknown resource type {rtype}')\n",
      "\u001b[1;35mValueError\u001b[0m: \u001b[35mCannot register /dev/shm/joblib_memmapping_folder_2206_58a0a356de4945feafde8409e289ddf1_278f401f78994e7c8603033f5474d69c for automatic cleanup: unknown resource type folder\u001b[0m\n"
     ]
    },
    {
     "name": "stderr",
     "output_type": "stream",
     "text": [
      "\r",
      "Scraping 131 games on 02/22/25:  62%|██████▏   | 113 of 182 days scraped in 811.9 sec"
     ]
    },
    {
     "name": "stderr",
     "output_type": "stream",
     "text": [
      "Traceback (most recent call last):\n",
      "  File \u001b[35m\"/opt/hostedtoolcache/Python/3.13.7/x64/lib/python3.13/multiprocessing/resource_tracker.py\"\u001b[0m, line \u001b[35m295\u001b[0m, in \u001b[35mmain\u001b[0m\n",
      "    raise ValueError(\n",
      "        f'Cannot register {name} for automatic cleanup: '\n",
      "        f'unknown resource type {rtype}')\n",
      "\u001b[1;35mValueError\u001b[0m: \u001b[35mCannot register /dev/shm/joblib_memmapping_folder_2206_6bf3e69a24ec4c289b23af51b69f5c67_3aa8bfd767bc49029b3812e54fa51e00 for automatic cleanup: unknown resource type folder\u001b[0m\n",
      "Traceback (most recent call last):\n",
      "  File \u001b[35m\"/opt/hostedtoolcache/Python/3.13.7/x64/lib/python3.13/multiprocessing/resource_tracker.py\"\u001b[0m, line \u001b[35m295\u001b[0m, in \u001b[35mmain\u001b[0m\n",
      "    raise ValueError(\n",
      "        f'Cannot register {name} for automatic cleanup: '\n",
      "        f'unknown resource type {rtype}')\n",
      "\u001b[1;35mValueError\u001b[0m: \u001b[35mCannot register /dev/shm/joblib_memmapping_folder_2206_58a0a356de4945feafde8409e289ddf1_e27f47f095de4fb6b583c2d1fbcd4fa1 for automatic cleanup: unknown resource type folder\u001b[0m\n"
     ]
    },
    {
     "name": "stderr",
     "output_type": "stream",
     "text": [
      "\r",
      "Scraping 131 games on 02/22/25:  63%|██████▎   | 114 of 182 days scraped in 830.1 sec"
     ]
    },
    {
     "name": "stderr",
     "output_type": "stream",
     "text": [
      "Traceback (most recent call last):\n",
      "  File \u001b[35m\"/opt/hostedtoolcache/Python/3.13.7/x64/lib/python3.13/multiprocessing/resource_tracker.py\"\u001b[0m, line \u001b[35m295\u001b[0m, in \u001b[35mmain\u001b[0m\n",
      "    raise ValueError(\n",
      "        f'Cannot register {name} for automatic cleanup: '\n",
      "        f'unknown resource type {rtype}')\n",
      "\u001b[1;35mValueError\u001b[0m: \u001b[35mCannot register /dev/shm/joblib_memmapping_folder_2206_58a0a356de4945feafde8409e289ddf1_e27f47f095de4fb6b583c2d1fbcd4fa1 for automatic cleanup: unknown resource type folder\u001b[0m\n"
     ]
    },
    {
     "name": "stderr",
     "output_type": "stream",
     "text": [
      "\r",
      "Scraping 28 games on 02/23/25:  63%|██████▎   | 114 of 182 days scraped in 830.6 sec "
     ]
    },
    {
     "name": "stderr",
     "output_type": "stream",
     "text": [
      "Traceback (most recent call last):\n",
      "  File \u001b[35m\"/opt/hostedtoolcache/Python/3.13.7/x64/lib/python3.13/multiprocessing/resource_tracker.py\"\u001b[0m, line \u001b[35m295\u001b[0m, in \u001b[35mmain\u001b[0m\n",
      "    raise ValueError(\n",
      "        f'Cannot register {name} for automatic cleanup: '\n",
      "        f'unknown resource type {rtype}')\n",
      "\u001b[1;35mValueError\u001b[0m: \u001b[35mCannot register /dev/shm/joblib_memmapping_folder_2206_b0c8e9eae22f456b809159c3fe694dac_f0fbb59d35e14840bb1fbe75bb65cf5b for automatic cleanup: unknown resource type folder\u001b[0m\n",
      "Traceback (most recent call last):\n",
      "  File \u001b[35m\"/opt/hostedtoolcache/Python/3.13.7/x64/lib/python3.13/multiprocessing/resource_tracker.py\"\u001b[0m, line \u001b[35m295\u001b[0m, in \u001b[35mmain\u001b[0m\n",
      "    raise ValueError(\n",
      "        f'Cannot register {name} for automatic cleanup: '\n",
      "        f'unknown resource type {rtype}')\n",
      "\u001b[1;35mValueError\u001b[0m: \u001b[35mCannot register /dev/shm/joblib_memmapping_folder_2206_58a0a356de4945feafde8409e289ddf1_9675015d129c440ab6b9d8515588f301 for automatic cleanup: unknown resource type folder\u001b[0m\n"
     ]
    },
    {
     "name": "stderr",
     "output_type": "stream",
     "text": [
      "\r",
      "Scraping 28 games on 02/23/25:  63%|██████▎   | 115 of 182 days scraped in 834.8 sec"
     ]
    },
    {
     "name": "stderr",
     "output_type": "stream",
     "text": [
      "Traceback (most recent call last):\n",
      "  File \u001b[35m\"/opt/hostedtoolcache/Python/3.13.7/x64/lib/python3.13/multiprocessing/resource_tracker.py\"\u001b[0m, line \u001b[35m295\u001b[0m, in \u001b[35mmain\u001b[0m\n",
      "    raise ValueError(\n",
      "        f'Cannot register {name} for automatic cleanup: '\n",
      "        f'unknown resource type {rtype}')\n",
      "\u001b[1;35mValueError\u001b[0m: \u001b[35mCannot register /dev/shm/joblib_memmapping_folder_2206_58a0a356de4945feafde8409e289ddf1_9675015d129c440ab6b9d8515588f301 for automatic cleanup: unknown resource type folder\u001b[0m\n"
     ]
    },
    {
     "name": "stderr",
     "output_type": "stream",
     "text": [
      "\r",
      "Scraping 27 games on 02/24/25:  63%|██████▎   | 115 of 182 days scraped in 835.2 sec"
     ]
    },
    {
     "name": "stderr",
     "output_type": "stream",
     "text": [
      "Traceback (most recent call last):\n",
      "  File \u001b[35m\"/opt/hostedtoolcache/Python/3.13.7/x64/lib/python3.13/multiprocessing/resource_tracker.py\"\u001b[0m, line \u001b[35m295\u001b[0m, in \u001b[35mmain\u001b[0m\n",
      "    raise ValueError(\n",
      "        f'Cannot register {name} for automatic cleanup: '\n",
      "        f'unknown resource type {rtype}')\n",
      "\u001b[1;35mValueError\u001b[0m: \u001b[35mCannot register /dev/shm/joblib_memmapping_folder_2206_81ba72a2145d4fa78ca8d7f172d679f0_917256ccb82c4bdebe30caf54308d85d for automatic cleanup: unknown resource type folder\u001b[0m\n",
      "Traceback (most recent call last):\n",
      "  File \u001b[35m\"/opt/hostedtoolcache/Python/3.13.7/x64/lib/python3.13/multiprocessing/resource_tracker.py\"\u001b[0m, line \u001b[35m295\u001b[0m, in \u001b[35mmain\u001b[0m\n",
      "    raise ValueError(\n",
      "        f'Cannot register {name} for automatic cleanup: '\n",
      "        f'unknown resource type {rtype}')\n",
      "\u001b[1;35mValueError\u001b[0m: \u001b[35mCannot register /dev/shm/joblib_memmapping_folder_2206_58a0a356de4945feafde8409e289ddf1_4c0b4535d14744a1982ceca409b146f7 for automatic cleanup: unknown resource type folder\u001b[0m\n"
     ]
    },
    {
     "name": "stderr",
     "output_type": "stream",
     "text": [
      "\r",
      "Scraping 27 games on 02/24/25:  64%|██████▎   | 116 of 182 days scraped in 839.1 sec"
     ]
    },
    {
     "name": "stderr",
     "output_type": "stream",
     "text": [
      "Traceback (most recent call last):\n",
      "  File \u001b[35m\"/opt/hostedtoolcache/Python/3.13.7/x64/lib/python3.13/multiprocessing/resource_tracker.py\"\u001b[0m, line \u001b[35m295\u001b[0m, in \u001b[35mmain\u001b[0m\n",
      "    raise ValueError(\n",
      "        f'Cannot register {name} for automatic cleanup: '\n",
      "        f'unknown resource type {rtype}')\n",
      "\u001b[1;35mValueError\u001b[0m: \u001b[35mCannot register /dev/shm/joblib_memmapping_folder_2206_58a0a356de4945feafde8409e289ddf1_4c0b4535d14744a1982ceca409b146f7 for automatic cleanup: unknown resource type folder\u001b[0m\n"
     ]
    },
    {
     "name": "stderr",
     "output_type": "stream",
     "text": [
      "\r",
      "Scraping 35 games on 02/25/25:  64%|██████▎   | 116 of 182 days scraped in 839.6 sec"
     ]
    },
    {
     "name": "stderr",
     "output_type": "stream",
     "text": [
      "Traceback (most recent call last):\n",
      "  File \u001b[35m\"/opt/hostedtoolcache/Python/3.13.7/x64/lib/python3.13/multiprocessing/resource_tracker.py\"\u001b[0m, line \u001b[35m295\u001b[0m, in \u001b[35mmain\u001b[0m\n",
      "    raise ValueError(\n",
      "        f'Cannot register {name} for automatic cleanup: '\n",
      "        f'unknown resource type {rtype}')\n",
      "\u001b[1;35mValueError\u001b[0m: \u001b[35mCannot register /dev/shm/joblib_memmapping_folder_2206_172648f875724808b35956e69cc2ef6e_24bc03a71cd945e7a4bbbacebff34865 for automatic cleanup: unknown resource type folder\u001b[0m\n",
      "Traceback (most recent call last):\n",
      "  File \u001b[35m\"/opt/hostedtoolcache/Python/3.13.7/x64/lib/python3.13/multiprocessing/resource_tracker.py\"\u001b[0m, line \u001b[35m295\u001b[0m, in \u001b[35mmain\u001b[0m\n",
      "    raise ValueError(\n",
      "        f'Cannot register {name} for automatic cleanup: '\n",
      "        f'unknown resource type {rtype}')\n",
      "\u001b[1;35mValueError\u001b[0m: \u001b[35mCannot register /dev/shm/joblib_memmapping_folder_2206_58a0a356de4945feafde8409e289ddf1_e3c21b79fc6045e888da41f5152657ee for automatic cleanup: unknown resource type folder\u001b[0m\n"
     ]
    },
    {
     "name": "stderr",
     "output_type": "stream",
     "text": [
      "\r",
      "Scraping 35 games on 02/25/25:  64%|██████▍   | 117 of 182 days scraped in 845.2 sec"
     ]
    },
    {
     "name": "stderr",
     "output_type": "stream",
     "text": [
      "Traceback (most recent call last):\n",
      "  File \u001b[35m\"/opt/hostedtoolcache/Python/3.13.7/x64/lib/python3.13/multiprocessing/resource_tracker.py\"\u001b[0m, line \u001b[35m295\u001b[0m, in \u001b[35mmain\u001b[0m\n",
      "    raise ValueError(\n",
      "        f'Cannot register {name} for automatic cleanup: '\n",
      "        f'unknown resource type {rtype}')\n",
      "\u001b[1;35mValueError\u001b[0m: \u001b[35mCannot register /dev/shm/joblib_memmapping_folder_2206_58a0a356de4945feafde8409e289ddf1_e3c21b79fc6045e888da41f5152657ee for automatic cleanup: unknown resource type folder\u001b[0m\n"
     ]
    },
    {
     "name": "stderr",
     "output_type": "stream",
     "text": [
      "\r",
      "Scraping 54 games on 02/26/25:  64%|██████▍   | 117 of 182 days scraped in 846.1 sec"
     ]
    },
    {
     "name": "stderr",
     "output_type": "stream",
     "text": [
      "Traceback (most recent call last):\n",
      "  File \u001b[35m\"/opt/hostedtoolcache/Python/3.13.7/x64/lib/python3.13/multiprocessing/resource_tracker.py\"\u001b[0m, line \u001b[35m295\u001b[0m, in \u001b[35mmain\u001b[0m\n",
      "    raise ValueError(\n",
      "        f'Cannot register {name} for automatic cleanup: '\n",
      "        f'unknown resource type {rtype}')\n",
      "\u001b[1;35mValueError\u001b[0m: \u001b[35mCannot register /dev/shm/joblib_memmapping_folder_2206_29f6538b63654e7f9fad7d308ae7a734_0abe40360c1f4bd2a6596fbe0bbac989 for automatic cleanup: unknown resource type folder\u001b[0m\n",
      "Traceback (most recent call last):\n",
      "  File \u001b[35m\"/opt/hostedtoolcache/Python/3.13.7/x64/lib/python3.13/multiprocessing/resource_tracker.py\"\u001b[0m, line \u001b[35m295\u001b[0m, in \u001b[35mmain\u001b[0m\n",
      "    raise ValueError(\n",
      "        f'Cannot register {name} for automatic cleanup: '\n",
      "        f'unknown resource type {rtype}')\n",
      "\u001b[1;35mValueError\u001b[0m: \u001b[35mCannot register /dev/shm/joblib_memmapping_folder_2206_58a0a356de4945feafde8409e289ddf1_c9585385efb243778de4377bbbe88a4d for automatic cleanup: unknown resource type folder\u001b[0m\n"
     ]
    },
    {
     "name": "stderr",
     "output_type": "stream",
     "text": [
      "\r",
      "Scraping 54 games on 02/26/25:  65%|██████▍   | 118 of 182 days scraped in 853.7 secTraceback (most recent call last):\n"
     ]
    },
    {
     "name": "stderr",
     "output_type": "stream",
     "text": [
      "  File \u001b[35m\"/opt/hostedtoolcache/Python/3.13.7/x64/lib/python3.13/multiprocessing/resource_tracker.py\"\u001b[0m, line \u001b[35m295\u001b[0m, in \u001b[35mmain\u001b[0m\n",
      "    raise ValueError(\n",
      "        f'Cannot register {name} for automatic cleanup: '\n",
      "        f'unknown resource type {rtype}')\n",
      "\u001b[1;35mValueError\u001b[0m: \u001b[35mCannot register /dev/shm/joblib_memmapping_folder_2206_58a0a356de4945feafde8409e289ddf1_c9585385efb243778de4377bbbe88a4d for automatic cleanup: unknown resource type folder\u001b[0m\n"
     ]
    },
    {
     "name": "stderr",
     "output_type": "stream",
     "text": [
      "\r",
      "Scraping 54 games on 02/27/25:  65%|██████▍   | 118 of 182 days scraped in 854.5 sec"
     ]
    },
    {
     "name": "stderr",
     "output_type": "stream",
     "text": [
      "Traceback (most recent call last):\n",
      "  File \u001b[35m\"/opt/hostedtoolcache/Python/3.13.7/x64/lib/python3.13/multiprocessing/resource_tracker.py\"\u001b[0m, line \u001b[35m295\u001b[0m, in \u001b[35mmain\u001b[0m\n",
      "    raise ValueError(\n",
      "        f'Cannot register {name} for automatic cleanup: '\n",
      "        f'unknown resource type {rtype}')\n",
      "\u001b[1;35mValueError\u001b[0m: \u001b[35mCannot register /dev/shm/joblib_memmapping_folder_2206_7d52740a0ac74b3e95ba00b39cf355bc_5fa6dd70e4f24ed898e48762ea927d94 for automatic cleanup: unknown resource type folder\u001b[0m\n",
      "Traceback (most recent call last):\n",
      "  File \u001b[35m\"/opt/hostedtoolcache/Python/3.13.7/x64/lib/python3.13/multiprocessing/resource_tracker.py\"\u001b[0m, line \u001b[35m295\u001b[0m, in \u001b[35mmain\u001b[0m\n",
      "    raise ValueError(\n",
      "        f'Cannot register {name} for automatic cleanup: '\n",
      "        f'unknown resource type {rtype}')\n",
      "\u001b[1;35mValueError\u001b[0m: \u001b[35mCannot register /dev/shm/joblib_memmapping_folder_2206_58a0a356de4945feafde8409e289ddf1_eefeb825179b4bdaa91e294bc88db935 for automatic cleanup: unknown resource type folder\u001b[0m\n"
     ]
    },
    {
     "name": "stderr",
     "output_type": "stream",
     "text": [
      "\r",
      "Scraping 54 games on 02/27/25:  65%|██████▌   | 119 of 182 days scraped in 861.9 sec"
     ]
    },
    {
     "name": "stderr",
     "output_type": "stream",
     "text": [
      "Traceback (most recent call last):\n",
      "  File \u001b[35m\"/opt/hostedtoolcache/Python/3.13.7/x64/lib/python3.13/multiprocessing/resource_tracker.py\"\u001b[0m, line \u001b[35m295\u001b[0m, in \u001b[35mmain\u001b[0m\n",
      "    raise ValueError(\n",
      "        f'Cannot register {name} for automatic cleanup: '\n",
      "        f'unknown resource type {rtype}')\n",
      "\u001b[1;35mValueError\u001b[0m: \u001b[35mCannot register /dev/shm/joblib_memmapping_folder_2206_58a0a356de4945feafde8409e289ddf1_eefeb825179b4bdaa91e294bc88db935 for automatic cleanup: unknown resource type folder\u001b[0m\n"
     ]
    },
    {
     "name": "stderr",
     "output_type": "stream",
     "text": [
      "\r",
      "Scraping 23 games on 02/28/25:  65%|██████▌   | 119 of 182 days scraped in 862.7 sec"
     ]
    },
    {
     "name": "stderr",
     "output_type": "stream",
     "text": [
      "Traceback (most recent call last):\n",
      "  File \u001b[35m\"/opt/hostedtoolcache/Python/3.13.7/x64/lib/python3.13/multiprocessing/resource_tracker.py\"\u001b[0m, line \u001b[35m295\u001b[0m, in \u001b[35mmain\u001b[0m\n",
      "    raise ValueError(\n",
      "        f'Cannot register {name} for automatic cleanup: '\n",
      "        f'unknown resource type {rtype}')\n",
      "\u001b[1;35mValueError\u001b[0m: \u001b[35mCannot register /dev/shm/joblib_memmapping_folder_2206_5754f426107645fbb57fe8f2d9e2660a_a7a491bc35a9460c94689ba9517c5750 for automatic cleanup: unknown resource type folder\u001b[0m\n",
      "Traceback (most recent call last):\n",
      "  File \u001b[35m\"/opt/hostedtoolcache/Python/3.13.7/x64/lib/python3.13/multiprocessing/resource_tracker.py\"\u001b[0m, line \u001b[35m295\u001b[0m, in \u001b[35mmain\u001b[0m\n",
      "    raise ValueError(\n",
      "        f'Cannot register {name} for automatic cleanup: '\n",
      "        f'unknown resource type {rtype}')\n",
      "\u001b[1;35mValueError\u001b[0m: \u001b[35mCannot register /dev/shm/joblib_memmapping_folder_2206_58a0a356de4945feafde8409e289ddf1_8420d02b79534cd6bd1d4ddf8157f48d for automatic cleanup: unknown resource type folder\u001b[0m\n"
     ]
    },
    {
     "name": "stderr",
     "output_type": "stream",
     "text": [
      "\r",
      "Scraping 23 games on 02/28/25:  66%|██████▌   | 120 of 182 days scraped in 866.1 secTraceback (most recent call last):\n"
     ]
    },
    {
     "name": "stderr",
     "output_type": "stream",
     "text": [
      "  File \u001b[35m\"/opt/hostedtoolcache/Python/3.13.7/x64/lib/python3.13/multiprocessing/resource_tracker.py\"\u001b[0m, line \u001b[35m295\u001b[0m, in \u001b[35mmain\u001b[0m\n",
      "    raise ValueError(\n",
      "        f'Cannot register {name} for automatic cleanup: '\n",
      "        f'unknown resource type {rtype}')\n",
      "\u001b[1;35mValueError\u001b[0m: \u001b[35mCannot register /dev/shm/joblib_memmapping_folder_2206_58a0a356de4945feafde8409e289ddf1_8420d02b79534cd6bd1d4ddf8157f48d for automatic cleanup: unknown resource type folder\u001b[0m\n"
     ]
    },
    {
     "name": "stderr",
     "output_type": "stream",
     "text": [
      "\r",
      "Scraping 133 games on 03/01/25:  66%|██████▌   | 120 of 182 days scraped in 867.5 sec"
     ]
    },
    {
     "name": "stderr",
     "output_type": "stream",
     "text": [
      "Traceback (most recent call last):\n",
      "  File \u001b[35m\"/opt/hostedtoolcache/Python/3.13.7/x64/lib/python3.13/multiprocessing/resource_tracker.py\"\u001b[0m, line \u001b[35m295\u001b[0m, in \u001b[35mmain\u001b[0m\n",
      "    raise ValueError(\n",
      "        f'Cannot register {name} for automatic cleanup: '\n",
      "        f'unknown resource type {rtype}')\n",
      "\u001b[1;35mValueError\u001b[0m: \u001b[35mCannot register /dev/shm/joblib_memmapping_folder_2206_c6ad5db98dee4854823b774685d8724f_0210637298964fe7bf423403752c8136 for automatic cleanup: unknown resource type folder\u001b[0m\n",
      "Traceback (most recent call last):\n",
      "  File \u001b[35m\"/opt/hostedtoolcache/Python/3.13.7/x64/lib/python3.13/multiprocessing/resource_tracker.py\"\u001b[0m, line \u001b[35m295\u001b[0m, in \u001b[35mmain\u001b[0m\n",
      "    raise ValueError(\n",
      "        f'Cannot register {name} for automatic cleanup: '\n",
      "        f'unknown resource type {rtype}')\n",
      "\u001b[1;35mValueError\u001b[0m: \u001b[35mCannot register /dev/shm/joblib_memmapping_folder_2206_58a0a356de4945feafde8409e289ddf1_7f6c16db687145be81460afbfdc6036c for automatic cleanup: unknown resource type folder\u001b[0m\n"
     ]
    },
    {
     "name": "stderr",
     "output_type": "stream",
     "text": [
      "\r",
      "Scraping 133 games on 03/01/25:  66%|██████▋   | 121 of 182 days scraped in 886.6 sec"
     ]
    },
    {
     "name": "stderr",
     "output_type": "stream",
     "text": [
      "Traceback (most recent call last):\n",
      "  File \u001b[35m\"/opt/hostedtoolcache/Python/3.13.7/x64/lib/python3.13/multiprocessing/resource_tracker.py\"\u001b[0m, line \u001b[35m295\u001b[0m, in \u001b[35mmain\u001b[0m\n",
      "    raise ValueError(\n",
      "        f'Cannot register {name} for automatic cleanup: '\n",
      "        f'unknown resource type {rtype}')\n",
      "\u001b[1;35mValueError\u001b[0m: \u001b[35mCannot register /dev/shm/joblib_memmapping_folder_2206_58a0a356de4945feafde8409e289ddf1_7f6c16db687145be81460afbfdc6036c for automatic cleanup: unknown resource type folder\u001b[0m\n"
     ]
    },
    {
     "name": "stderr",
     "output_type": "stream",
     "text": [
      "\r",
      "Scraping 23 games on 03/02/25:  66%|██████▋   | 121 of 182 days scraped in 887.4 sec "
     ]
    },
    {
     "name": "stderr",
     "output_type": "stream",
     "text": [
      "Traceback (most recent call last):\n",
      "  File \u001b[35m\"/opt/hostedtoolcache/Python/3.13.7/x64/lib/python3.13/multiprocessing/resource_tracker.py\"\u001b[0m, line \u001b[35m295\u001b[0m, in \u001b[35mmain\u001b[0m\n",
      "    raise ValueError(\n",
      "        f'Cannot register {name} for automatic cleanup: '\n",
      "        f'unknown resource type {rtype}')\n",
      "\u001b[1;35mValueError\u001b[0m: \u001b[35mCannot register /dev/shm/joblib_memmapping_folder_2206_5b7b24105f89497b809276eb7ce6cebb_f1fe6c5366624f2b9cc087ef377b6892 for automatic cleanup: unknown resource type folder\u001b[0m\n",
      "Traceback (most recent call last):\n",
      "  File \u001b[35m\"/opt/hostedtoolcache/Python/3.13.7/x64/lib/python3.13/multiprocessing/resource_tracker.py\"\u001b[0m, line \u001b[35m295\u001b[0m, in \u001b[35mmain\u001b[0m\n",
      "    raise ValueError(\n",
      "        f'Cannot register {name} for automatic cleanup: '\n",
      "        f'unknown resource type {rtype}')\n",
      "\u001b[1;35mValueError\u001b[0m: \u001b[35mCannot register /dev/shm/joblib_memmapping_folder_2206_58a0a356de4945feafde8409e289ddf1_c93eacecd84b488689c638d4b50299de for automatic cleanup: unknown resource type folder\u001b[0m\n"
     ]
    },
    {
     "name": "stderr",
     "output_type": "stream",
     "text": [
      "\r",
      "Scraping 23 games on 03/02/25:  67%|██████▋   | 122 of 182 days scraped in 890.5 sec"
     ]
    },
    {
     "name": "stderr",
     "output_type": "stream",
     "text": [
      "Traceback (most recent call last):\n",
      "  File \u001b[35m\"/opt/hostedtoolcache/Python/3.13.7/x64/lib/python3.13/multiprocessing/resource_tracker.py\"\u001b[0m, line \u001b[35m295\u001b[0m, in \u001b[35mmain\u001b[0m\n",
      "    raise ValueError(\n",
      "        f'Cannot register {name} for automatic cleanup: '\n",
      "        f'unknown resource type {rtype}')\n",
      "\u001b[1;35mValueError\u001b[0m: \u001b[35mCannot register /dev/shm/joblib_memmapping_folder_2206_58a0a356de4945feafde8409e289ddf1_c93eacecd84b488689c638d4b50299de for automatic cleanup: unknown resource type folder\u001b[0m\n"
     ]
    },
    {
     "name": "stderr",
     "output_type": "stream",
     "text": [
      "\r",
      "Scraping 27 games on 03/03/25:  67%|██████▋   | 122 of 182 days scraped in 891.0 sec"
     ]
    },
    {
     "name": "stderr",
     "output_type": "stream",
     "text": [
      "Traceback (most recent call last):\n",
      "  File \u001b[35m\"/opt/hostedtoolcache/Python/3.13.7/x64/lib/python3.13/multiprocessing/resource_tracker.py\"\u001b[0m, line \u001b[35m295\u001b[0m, in \u001b[35mmain\u001b[0m\n",
      "    raise ValueError(\n",
      "        f'Cannot register {name} for automatic cleanup: '\n",
      "        f'unknown resource type {rtype}')\n",
      "\u001b[1;35mValueError\u001b[0m: \u001b[35mCannot register /dev/shm/joblib_memmapping_folder_2206_1a137b8feb914116bee8fdbcaa97b9bd_514ee6e86e1e459f913dc09e22e1e28e for automatic cleanup: unknown resource type folder\u001b[0m\n",
      "Traceback (most recent call last):\n",
      "  File \u001b[35m\"/opt/hostedtoolcache/Python/3.13.7/x64/lib/python3.13/multiprocessing/resource_tracker.py\"\u001b[0m, line \u001b[35m295\u001b[0m, in \u001b[35mmain\u001b[0m\n",
      "    raise ValueError(\n",
      "        f'Cannot register {name} for automatic cleanup: '\n",
      "        f'unknown resource type {rtype}')\n",
      "\u001b[1;35mValueError\u001b[0m: \u001b[35mCannot register /dev/shm/joblib_memmapping_folder_2206_58a0a356de4945feafde8409e289ddf1_7d61ddb894794318aa16aa67180e944b for automatic cleanup: unknown resource type folder\u001b[0m\n"
     ]
    },
    {
     "name": "stderr",
     "output_type": "stream",
     "text": [
      "\r",
      "Scraping 27 games on 03/03/25:  68%|██████▊   | 123 of 182 days scraped in 895.0 sec"
     ]
    },
    {
     "name": "stderr",
     "output_type": "stream",
     "text": [
      "Traceback (most recent call last):\n",
      "  File \u001b[35m\"/opt/hostedtoolcache/Python/3.13.7/x64/lib/python3.13/multiprocessing/resource_tracker.py\"\u001b[0m, line \u001b[35m295\u001b[0m, in \u001b[35mmain\u001b[0m\n",
      "    raise ValueError(\n",
      "        f'Cannot register {name} for automatic cleanup: '\n",
      "        f'unknown resource type {rtype}')\n",
      "\u001b[1;35mValueError\u001b[0m: \u001b[35mCannot register /dev/shm/joblib_memmapping_folder_2206_58a0a356de4945feafde8409e289ddf1_7d61ddb894794318aa16aa67180e944b for automatic cleanup: unknown resource type folder\u001b[0m\n"
     ]
    },
    {
     "name": "stderr",
     "output_type": "stream",
     "text": [
      "\r",
      "Scraping 44 games on 03/04/25:  68%|██████▊   | 123 of 182 days scraped in 895.9 sec"
     ]
    },
    {
     "name": "stderr",
     "output_type": "stream",
     "text": [
      "Traceback (most recent call last):\n",
      "  File \u001b[35m\"/opt/hostedtoolcache/Python/3.13.7/x64/lib/python3.13/multiprocessing/resource_tracker.py\"\u001b[0m, line \u001b[35m295\u001b[0m, in \u001b[35mmain\u001b[0m\n",
      "    raise ValueError(\n",
      "        f'Cannot register {name} for automatic cleanup: '\n",
      "        f'unknown resource type {rtype}')\n",
      "\u001b[1;35mValueError\u001b[0m: \u001b[35mCannot register /dev/shm/joblib_memmapping_folder_2206_f5d90b1f1fc04b9c81a4b7cd158b5cd9_2e7f88d44ce14002a89c45f0233aabc9 for automatic cleanup: unknown resource type folder\u001b[0m\n",
      "Traceback (most recent call last):\n",
      "  File \u001b[35m\"/opt/hostedtoolcache/Python/3.13.7/x64/lib/python3.13/multiprocessing/resource_tracker.py\"\u001b[0m, line \u001b[35m295\u001b[0m, in \u001b[35mmain\u001b[0m\n",
      "    raise ValueError(\n",
      "        f'Cannot register {name} for automatic cleanup: '\n",
      "        f'unknown resource type {rtype}')\n",
      "\u001b[1;35mValueError\u001b[0m: \u001b[35mCannot register /dev/shm/joblib_memmapping_folder_2206_58a0a356de4945feafde8409e289ddf1_b9b862ef54354888978812c726493600 for automatic cleanup: unknown resource type folder\u001b[0m\n"
     ]
    },
    {
     "name": "stderr",
     "output_type": "stream",
     "text": [
      "\r",
      "Scraping 44 games on 03/04/25:  68%|██████▊   | 124 of 182 days scraped in 902.4 sec"
     ]
    },
    {
     "name": "stderr",
     "output_type": "stream",
     "text": [
      "Traceback (most recent call last):\n",
      "  File \u001b[35m\"/opt/hostedtoolcache/Python/3.13.7/x64/lib/python3.13/multiprocessing/resource_tracker.py\"\u001b[0m, line \u001b[35m295\u001b[0m, in \u001b[35mmain\u001b[0m\n",
      "    raise ValueError(\n",
      "        f'Cannot register {name} for automatic cleanup: '\n",
      "        f'unknown resource type {rtype}')\n",
      "\u001b[1;35mValueError\u001b[0m: \u001b[35mCannot register /dev/shm/joblib_memmapping_folder_2206_58a0a356de4945feafde8409e289ddf1_b9b862ef54354888978812c726493600 for automatic cleanup: unknown resource type folder\u001b[0m\n"
     ]
    },
    {
     "name": "stderr",
     "output_type": "stream",
     "text": [
      "\r",
      "Scraping 31 games on 03/05/25:  68%|██████▊   | 124 of 182 days scraped in 903.0 sec"
     ]
    },
    {
     "name": "stderr",
     "output_type": "stream",
     "text": [
      "Traceback (most recent call last):\n",
      "  File \u001b[35m\"/opt/hostedtoolcache/Python/3.13.7/x64/lib/python3.13/multiprocessing/resource_tracker.py\"\u001b[0m, line \u001b[35m295\u001b[0m, in \u001b[35mmain\u001b[0m\n",
      "    raise ValueError(\n",
      "        f'Cannot register {name} for automatic cleanup: '\n",
      "        f'unknown resource type {rtype}')\n",
      "\u001b[1;35mValueError\u001b[0m: \u001b[35mCannot register /dev/shm/joblib_memmapping_folder_2206_605a2f9da7b94c5c9e52172a4869d149_f3f89d59595a430d8e6a9a6a9168e51b for automatic cleanup: unknown resource type folder\u001b[0m\n",
      "Traceback (most recent call last):\n",
      "  File \u001b[35m\"/opt/hostedtoolcache/Python/3.13.7/x64/lib/python3.13/multiprocessing/resource_tracker.py\"\u001b[0m, line \u001b[35m295\u001b[0m, in \u001b[35mmain\u001b[0m\n",
      "    raise ValueError(\n",
      "        f'Cannot register {name} for automatic cleanup: '\n",
      "        f'unknown resource type {rtype}')\n",
      "\u001b[1;35mValueError\u001b[0m: \u001b[35mCannot register /dev/shm/joblib_memmapping_folder_2206_58a0a356de4945feafde8409e289ddf1_6a12eeed47ee421caa219e962979660d for automatic cleanup: unknown resource type folder\u001b[0m\n"
     ]
    },
    {
     "name": "stderr",
     "output_type": "stream",
     "text": [
      "\r",
      "Scraping 31 games on 03/05/25:  69%|██████▊   | 125 of 182 days scraped in 907.5 sec"
     ]
    },
    {
     "name": "stderr",
     "output_type": "stream",
     "text": [
      "Traceback (most recent call last):\n",
      "  File \u001b[35m\"/opt/hostedtoolcache/Python/3.13.7/x64/lib/python3.13/multiprocessing/resource_tracker.py\"\u001b[0m, line \u001b[35m295\u001b[0m, in \u001b[35mmain\u001b[0m\n",
      "    raise ValueError(\n",
      "        f'Cannot register {name} for automatic cleanup: '\n",
      "        f'unknown resource type {rtype}')\n",
      "\u001b[1;35mValueError\u001b[0m: \u001b[35mCannot register /dev/shm/joblib_memmapping_folder_2206_58a0a356de4945feafde8409e289ddf1_6a12eeed47ee421caa219e962979660d for automatic cleanup: unknown resource type folder\u001b[0m\n"
     ]
    },
    {
     "name": "stderr",
     "output_type": "stream",
     "text": [
      "\r",
      "Scraping 53 games on 03/06/25:  69%|██████▊   | 125 of 182 days scraped in 908.1 sec"
     ]
    },
    {
     "name": "stderr",
     "output_type": "stream",
     "text": [
      "Traceback (most recent call last):\n",
      "  File \u001b[35m\"/opt/hostedtoolcache/Python/3.13.7/x64/lib/python3.13/multiprocessing/resource_tracker.py\"\u001b[0m, line \u001b[35m295\u001b[0m, in \u001b[35mmain\u001b[0m\n",
      "    raise ValueError(\n",
      "        f'Cannot register {name} for automatic cleanup: '\n",
      "        f'unknown resource type {rtype}')\n",
      "\u001b[1;35mValueError\u001b[0m: \u001b[35mCannot register /dev/shm/joblib_memmapping_folder_2206_dc9192160f3f46e7a60725ee19d1f5c7_c9a63996decb4e949941564b3ddd1d70 for automatic cleanup: unknown resource type folder\u001b[0m\n",
      "Traceback (most recent call last):\n",
      "  File \u001b[35m\"/opt/hostedtoolcache/Python/3.13.7/x64/lib/python3.13/multiprocessing/resource_tracker.py\"\u001b[0m, line \u001b[35m295\u001b[0m, in \u001b[35mmain\u001b[0m\n",
      "    raise ValueError(\n",
      "        f'Cannot register {name} for automatic cleanup: '\n",
      "        f'unknown resource type {rtype}')\n",
      "\u001b[1;35mValueError\u001b[0m: \u001b[35mCannot register /dev/shm/joblib_memmapping_folder_2206_58a0a356de4945feafde8409e289ddf1_3cca4e86c9c0428780fa3980bd939dcc for automatic cleanup: unknown resource type folder\u001b[0m\n"
     ]
    },
    {
     "name": "stderr",
     "output_type": "stream",
     "text": [
      "\r",
      "Scraping 53 games on 03/06/25:  69%|██████▉   | 126 of 182 days scraped in 915.5 sec"
     ]
    },
    {
     "name": "stderr",
     "output_type": "stream",
     "text": [
      "Traceback (most recent call last):\n",
      "  File \u001b[35m\"/opt/hostedtoolcache/Python/3.13.7/x64/lib/python3.13/multiprocessing/resource_tracker.py\"\u001b[0m, line \u001b[35m295\u001b[0m, in \u001b[35mmain\u001b[0m\n",
      "    raise ValueError(\n",
      "        f'Cannot register {name} for automatic cleanup: '\n",
      "        f'unknown resource type {rtype}')\n",
      "\u001b[1;35mValueError\u001b[0m: \u001b[35mCannot register /dev/shm/joblib_memmapping_folder_2206_58a0a356de4945feafde8409e289ddf1_3cca4e86c9c0428780fa3980bd939dcc for automatic cleanup: unknown resource type folder\u001b[0m\n"
     ]
    },
    {
     "name": "stderr",
     "output_type": "stream",
     "text": [
      "\r",
      "Scraping 31 games on 03/07/25:  69%|██████▉   | 126 of 182 days scraped in 916.0 sec"
     ]
    },
    {
     "name": "stderr",
     "output_type": "stream",
     "text": [
      "Traceback (most recent call last):\n",
      "  File \u001b[35m\"/opt/hostedtoolcache/Python/3.13.7/x64/lib/python3.13/multiprocessing/resource_tracker.py\"\u001b[0m, line \u001b[35m295\u001b[0m, in \u001b[35mmain\u001b[0m\n",
      "    raise ValueError(\n",
      "        f'Cannot register {name} for automatic cleanup: '\n",
      "        f'unknown resource type {rtype}')\n",
      "\u001b[1;35mValueError\u001b[0m: \u001b[35mCannot register /dev/shm/joblib_memmapping_folder_2206_ba5342a77c764f529e38fd550157bf2c_936a83735833471bbf2bba6580089abe for automatic cleanup: unknown resource type folder\u001b[0m\n",
      "Traceback (most recent call last):\n",
      "  File \u001b[35m\"/opt/hostedtoolcache/Python/3.13.7/x64/lib/python3.13/multiprocessing/resource_tracker.py\"\u001b[0m, line \u001b[35m295\u001b[0m, in \u001b[35mmain\u001b[0m\n",
      "    raise ValueError(\n",
      "        f'Cannot register {name} for automatic cleanup: '\n",
      "        f'unknown resource type {rtype}')\n",
      "\u001b[1;35mValueError\u001b[0m: \u001b[35mCannot register /dev/shm/joblib_memmapping_folder_2206_58a0a356de4945feafde8409e289ddf1_773270bd7f804beba8ab7b27a121289f for automatic cleanup: unknown resource type folder\u001b[0m\n"
     ]
    },
    {
     "name": "stderr",
     "output_type": "stream",
     "text": [
      "\r",
      "Scraping 31 games on 03/07/25:  70%|██████▉   | 127 of 182 days scraped in 921.1 sec"
     ]
    },
    {
     "name": "stderr",
     "output_type": "stream",
     "text": [
      "Traceback (most recent call last):\n",
      "  File \u001b[35m\"/opt/hostedtoolcache/Python/3.13.7/x64/lib/python3.13/multiprocessing/resource_tracker.py\"\u001b[0m, line \u001b[35m295\u001b[0m, in \u001b[35mmain\u001b[0m\n",
      "    raise ValueError(\n",
      "        f'Cannot register {name} for automatic cleanup: '\n",
      "        f'unknown resource type {rtype}')\n",
      "\u001b[1;35mValueError\u001b[0m: \u001b[35mCannot register /dev/shm/joblib_memmapping_folder_2206_58a0a356de4945feafde8409e289ddf1_773270bd7f804beba8ab7b27a121289f for automatic cleanup: unknown resource type folder\u001b[0m\n"
     ]
    },
    {
     "name": "stderr",
     "output_type": "stream",
     "text": [
      "\r",
      "Scraping 100 games on 03/08/25:  70%|██████▉   | 127 of 182 days scraped in 922.3 sec"
     ]
    },
    {
     "name": "stderr",
     "output_type": "stream",
     "text": [
      "Traceback (most recent call last):\n",
      "  File \u001b[35m\"/opt/hostedtoolcache/Python/3.13.7/x64/lib/python3.13/multiprocessing/resource_tracker.py\"\u001b[0m, line \u001b[35m295\u001b[0m, in \u001b[35mmain\u001b[0m\n",
      "    raise ValueError(\n",
      "        f'Cannot register {name} for automatic cleanup: '\n",
      "        f'unknown resource type {rtype}')\n",
      "\u001b[1;35mValueError\u001b[0m: \u001b[35mCannot register /dev/shm/joblib_memmapping_folder_2206_29300d2e43df44599452eb9a6ee4cea8_6e779a7cf2bd45e6b5decc1e70f742bc for automatic cleanup: unknown resource type folder\u001b[0m\n",
      "Traceback (most recent call last):\n",
      "  File \u001b[35m\"/opt/hostedtoolcache/Python/3.13.7/x64/lib/python3.13/multiprocessing/resource_tracker.py\"\u001b[0m, line \u001b[35m295\u001b[0m, in \u001b[35mmain\u001b[0m\n",
      "    raise ValueError(\n",
      "        f'Cannot register {name} for automatic cleanup: '\n",
      "        f'unknown resource type {rtype}')\n",
      "\u001b[1;35mValueError\u001b[0m: \u001b[35mCannot register /dev/shm/joblib_memmapping_folder_2206_58a0a356de4945feafde8409e289ddf1_a639dea773564545a55eb4128e5fa0e0 for automatic cleanup: unknown resource type folder\u001b[0m\n"
     ]
    },
    {
     "name": "stderr",
     "output_type": "stream",
     "text": [
      "\r",
      "Scraping 100 games on 03/08/25:  70%|███████   | 128 of 182 days scraped in 935.9 sec"
     ]
    },
    {
     "name": "stderr",
     "output_type": "stream",
     "text": [
      "Traceback (most recent call last):\n",
      "  File \u001b[35m\"/opt/hostedtoolcache/Python/3.13.7/x64/lib/python3.13/multiprocessing/resource_tracker.py\"\u001b[0m, line \u001b[35m295\u001b[0m, in \u001b[35mmain\u001b[0m\n",
      "    raise ValueError(\n",
      "        f'Cannot register {name} for automatic cleanup: '\n",
      "        f'unknown resource type {rtype}')\n",
      "\u001b[1;35mValueError\u001b[0m: \u001b[35mCannot register /dev/shm/joblib_memmapping_folder_2206_58a0a356de4945feafde8409e289ddf1_a639dea773564545a55eb4128e5fa0e0 for automatic cleanup: unknown resource type folder\u001b[0m\n"
     ]
    },
    {
     "name": "stderr",
     "output_type": "stream",
     "text": [
      "\r",
      "Scraping 29 games on 03/09/25:  70%|███████   | 128 of 182 days scraped in 936.4 sec "
     ]
    },
    {
     "name": "stderr",
     "output_type": "stream",
     "text": [
      "Traceback (most recent call last):\n",
      "  File \u001b[35m\"/opt/hostedtoolcache/Python/3.13.7/x64/lib/python3.13/multiprocessing/resource_tracker.py\"\u001b[0m, line \u001b[35m295\u001b[0m, in \u001b[35mmain\u001b[0m\n",
      "    raise ValueError(\n",
      "        f'Cannot register {name} for automatic cleanup: '\n",
      "        f'unknown resource type {rtype}')\n",
      "\u001b[1;35mValueError\u001b[0m: \u001b[35mCannot register /dev/shm/joblib_memmapping_folder_2206_f36c7567792b47a4aaa89de6f71dc031_e1e91aa2a4a24522bc5061464d80f55f for automatic cleanup: unknown resource type folder\u001b[0m\n",
      "Traceback (most recent call last):\n",
      "  File \u001b[35m\"/opt/hostedtoolcache/Python/3.13.7/x64/lib/python3.13/multiprocessing/resource_tracker.py\"\u001b[0m, line \u001b[35m295\u001b[0m, in \u001b[35mmain\u001b[0m\n",
      "    raise ValueError(\n",
      "        f'Cannot register {name} for automatic cleanup: '\n",
      "        f'unknown resource type {rtype}')\n",
      "\u001b[1;35mValueError\u001b[0m: \u001b[35mCannot register /dev/shm/joblib_memmapping_folder_2206_58a0a356de4945feafde8409e289ddf1_2888c2967c6c4b378416d618aa8f8350 for automatic cleanup: unknown resource type folder\u001b[0m\n"
     ]
    },
    {
     "name": "stderr",
     "output_type": "stream",
     "text": [
      "\r",
      "Scraping 29 games on 03/09/25:  71%|███████   | 129 of 182 days scraped in 940.8 sec"
     ]
    },
    {
     "name": "stderr",
     "output_type": "stream",
     "text": [
      "Traceback (most recent call last):\n",
      "  File \u001b[35m\"/opt/hostedtoolcache/Python/3.13.7/x64/lib/python3.13/multiprocessing/resource_tracker.py\"\u001b[0m, line \u001b[35m295\u001b[0m, in \u001b[35mmain\u001b[0m\n",
      "    raise ValueError(\n",
      "        f'Cannot register {name} for automatic cleanup: '\n",
      "        f'unknown resource type {rtype}')\n",
      "\u001b[1;35mValueError\u001b[0m: \u001b[35mCannot register /dev/shm/joblib_memmapping_folder_2206_58a0a356de4945feafde8409e289ddf1_2888c2967c6c4b378416d618aa8f8350 for automatic cleanup: unknown resource type folder\u001b[0m\n"
     ]
    },
    {
     "name": "stderr",
     "output_type": "stream",
     "text": [
      "\r",
      "Scraping 12 games on 03/10/25:  71%|███████   | 129 of 182 days scraped in 941.5 sec"
     ]
    },
    {
     "name": "stderr",
     "output_type": "stream",
     "text": [
      "Traceback (most recent call last):\n",
      "  File \u001b[35m\"/opt/hostedtoolcache/Python/3.13.7/x64/lib/python3.13/multiprocessing/resource_tracker.py\"\u001b[0m, line \u001b[35m295\u001b[0m, in \u001b[35mmain\u001b[0m\n",
      "    raise ValueError(\n",
      "        f'Cannot register {name} for automatic cleanup: '\n",
      "        f'unknown resource type {rtype}')\n",
      "\u001b[1;35mValueError\u001b[0m: \u001b[35mCannot register /dev/shm/joblib_memmapping_folder_2206_ccc79902d84e4f6f8446859a906573da_e2829c21da2d4d10a8c0a9f823477422 for automatic cleanup: unknown resource type folder\u001b[0m\n",
      "Traceback (most recent call last):\n",
      "  File \u001b[35m\"/opt/hostedtoolcache/Python/3.13.7/x64/lib/python3.13/multiprocessing/resource_tracker.py\"\u001b[0m, line \u001b[35m295\u001b[0m, in \u001b[35mmain\u001b[0m\n",
      "    raise ValueError(\n",
      "        f'Cannot register {name} for automatic cleanup: '\n",
      "        f'unknown resource type {rtype}')\n",
      "\u001b[1;35mValueError\u001b[0m: \u001b[35mCannot register /dev/shm/joblib_memmapping_folder_2206_58a0a356de4945feafde8409e289ddf1_0e167faf39464617b9bff6913f3d4e78 for automatic cleanup: unknown resource type folder\u001b[0m\n"
     ]
    },
    {
     "name": "stderr",
     "output_type": "stream",
     "text": [
      "\r",
      "Scraping 12 games on 03/10/25:  71%|███████▏  | 130 of 182 days scraped in 943.0 sec"
     ]
    },
    {
     "name": "stderr",
     "output_type": "stream",
     "text": [
      "Traceback (most recent call last):\n",
      "  File \u001b[35m\"/opt/hostedtoolcache/Python/3.13.7/x64/lib/python3.13/multiprocessing/resource_tracker.py\"\u001b[0m, line \u001b[35m295\u001b[0m, in \u001b[35mmain\u001b[0m\n",
      "    raise ValueError(\n",
      "        f'Cannot register {name} for automatic cleanup: '\n",
      "        f'unknown resource type {rtype}')\n",
      "\u001b[1;35mValueError\u001b[0m: \u001b[35mCannot register /dev/shm/joblib_memmapping_folder_2206_58a0a356de4945feafde8409e289ddf1_0e167faf39464617b9bff6913f3d4e78 for automatic cleanup: unknown resource type folder\u001b[0m\n"
     ]
    },
    {
     "name": "stderr",
     "output_type": "stream",
     "text": [
      "\r",
      "Scraping 24 games on 03/11/25:  71%|███████▏  | 130 of 182 days scraped in 943.5 sec"
     ]
    },
    {
     "name": "stderr",
     "output_type": "stream",
     "text": [
      "Traceback (most recent call last):\n",
      "  File \u001b[35m\"/opt/hostedtoolcache/Python/3.13.7/x64/lib/python3.13/multiprocessing/resource_tracker.py\"\u001b[0m, line \u001b[35m295\u001b[0m, in \u001b[35mmain\u001b[0m\n",
      "    raise ValueError(\n",
      "        f'Cannot register {name} for automatic cleanup: '\n",
      "        f'unknown resource type {rtype}')\n",
      "\u001b[1;35mValueError\u001b[0m: \u001b[35mCannot register /dev/shm/joblib_memmapping_folder_2206_049e448e41cb4f179f264951dc22e1a0_b6f0ef2e08f54740a7c4f2043893b2e4 for automatic cleanup: unknown resource type folder\u001b[0m\n",
      "Traceback (most recent call last):\n",
      "  File \u001b[35m\"/opt/hostedtoolcache/Python/3.13.7/x64/lib/python3.13/multiprocessing/resource_tracker.py\"\u001b[0m, line \u001b[35m295\u001b[0m, in \u001b[35mmain\u001b[0m\n",
      "    raise ValueError(\n",
      "        f'Cannot register {name} for automatic cleanup: '\n",
      "        f'unknown resource type {rtype}')\n",
      "\u001b[1;35mValueError\u001b[0m: \u001b[35mCannot register /dev/shm/joblib_memmapping_folder_2206_58a0a356de4945feafde8409e289ddf1_7931c92d16fa4b97a2cc0728d98d26ab for automatic cleanup: unknown resource type folder\u001b[0m\n"
     ]
    },
    {
     "name": "stderr",
     "output_type": "stream",
     "text": [
      "\r",
      "Scraping 24 games on 03/11/25:  72%|███████▏  | 131 of 182 days scraped in 946.5 sec"
     ]
    },
    {
     "name": "stderr",
     "output_type": "stream",
     "text": [
      "Traceback (most recent call last):\n",
      "  File \u001b[35m\"/opt/hostedtoolcache/Python/3.13.7/x64/lib/python3.13/multiprocessing/resource_tracker.py\"\u001b[0m, line \u001b[35m295\u001b[0m, in \u001b[35mmain\u001b[0m\n",
      "    raise ValueError(\n",
      "        f'Cannot register {name} for automatic cleanup: '\n",
      "        f'unknown resource type {rtype}')\n",
      "\u001b[1;35mValueError\u001b[0m: \u001b[35mCannot register /dev/shm/joblib_memmapping_folder_2206_58a0a356de4945feafde8409e289ddf1_7931c92d16fa4b97a2cc0728d98d26ab for automatic cleanup: unknown resource type folder\u001b[0m\n"
     ]
    },
    {
     "name": "stderr",
     "output_type": "stream",
     "text": [
      "\r",
      "Scraping 40 games on 03/12/25:  72%|███████▏  | 131 of 182 days scraped in 947.1 sec"
     ]
    },
    {
     "name": "stderr",
     "output_type": "stream",
     "text": [
      "Traceback (most recent call last):\n",
      "  File \u001b[35m\"/opt/hostedtoolcache/Python/3.13.7/x64/lib/python3.13/multiprocessing/resource_tracker.py\"\u001b[0m, line \u001b[35m295\u001b[0m, in \u001b[35mmain\u001b[0m\n",
      "    raise ValueError(\n",
      "        f'Cannot register {name} for automatic cleanup: '\n",
      "        f'unknown resource type {rtype}')\n",
      "\u001b[1;35mValueError\u001b[0m: \u001b[35mCannot register /dev/shm/joblib_memmapping_folder_2206_813dce366e6340f5a02d71e1190721ae_5c4b0ce682a64f54a35eef014a195650 for automatic cleanup: unknown resource type folder\u001b[0m\n",
      "Traceback (most recent call last):\n",
      "  File \u001b[35m\"/opt/hostedtoolcache/Python/3.13.7/x64/lib/python3.13/multiprocessing/resource_tracker.py\"\u001b[0m, line \u001b[35m295\u001b[0m, in \u001b[35mmain\u001b[0m\n",
      "    raise ValueError(\n",
      "        f'Cannot register {name} for automatic cleanup: '\n",
      "        f'unknown resource type {rtype}')\n",
      "\u001b[1;35mValueError\u001b[0m: \u001b[35mCannot register /dev/shm/joblib_memmapping_folder_2206_58a0a356de4945feafde8409e289ddf1_f4995cca75e24ca68d8710153305c3dd for automatic cleanup: unknown resource type folder\u001b[0m\n"
     ]
    },
    {
     "name": "stderr",
     "output_type": "stream",
     "text": [
      "\r",
      "Scraping 40 games on 03/12/25:  73%|███████▎  | 132 of 182 days scraped in 952.3 sec"
     ]
    },
    {
     "name": "stderr",
     "output_type": "stream",
     "text": [
      "Traceback (most recent call last):\n",
      "  File \u001b[35m\"/opt/hostedtoolcache/Python/3.13.7/x64/lib/python3.13/multiprocessing/resource_tracker.py\"\u001b[0m, line \u001b[35m295\u001b[0m, in \u001b[35mmain\u001b[0m\n",
      "    raise ValueError(\n",
      "        f'Cannot register {name} for automatic cleanup: '\n",
      "        f'unknown resource type {rtype}')\n",
      "\u001b[1;35mValueError\u001b[0m: \u001b[35mCannot register /dev/shm/joblib_memmapping_folder_2206_58a0a356de4945feafde8409e289ddf1_f4995cca75e24ca68d8710153305c3dd for automatic cleanup: unknown resource type folder\u001b[0m\n"
     ]
    },
    {
     "name": "stderr",
     "output_type": "stream",
     "text": [
      "\r",
      "Scraping 48 games on 03/13/25:  73%|███████▎  | 132 of 182 days scraped in 953.0 sec"
     ]
    },
    {
     "name": "stderr",
     "output_type": "stream",
     "text": [
      "Traceback (most recent call last):\n",
      "  File \u001b[35m\"/opt/hostedtoolcache/Python/3.13.7/x64/lib/python3.13/multiprocessing/resource_tracker.py\"\u001b[0m, line \u001b[35m295\u001b[0m, in \u001b[35mmain\u001b[0m\n",
      "    raise ValueError(\n",
      "        f'Cannot register {name} for automatic cleanup: '\n",
      "        f'unknown resource type {rtype}')\n",
      "\u001b[1;35mValueError\u001b[0m: \u001b[35mCannot register /dev/shm/joblib_memmapping_folder_2206_b73b0a30102b4dd2a09ade7a0f4058a1_2c1c9d66aea44afb8cb3200e17f287ba for automatic cleanup: unknown resource type folder\u001b[0m\n",
      "Traceback (most recent call last):\n",
      "  File \u001b[35m\"/opt/hostedtoolcache/Python/3.13.7/x64/lib/python3.13/multiprocessing/resource_tracker.py\"\u001b[0m, line \u001b[35m295\u001b[0m, in \u001b[35mmain\u001b[0m\n",
      "    raise ValueError(\n",
      "        f'Cannot register {name} for automatic cleanup: '\n",
      "        f'unknown resource type {rtype}')\n",
      "\u001b[1;35mValueError\u001b[0m: \u001b[35mCannot register /dev/shm/joblib_memmapping_folder_2206_58a0a356de4945feafde8409e289ddf1_d1fc4ce805a949479dc1593fdb87adcd for automatic cleanup: unknown resource type folder\u001b[0m\n"
     ]
    },
    {
     "name": "stderr",
     "output_type": "stream",
     "text": [
      "\r",
      "Scraping 48 games on 03/13/25:  73%|███████▎  | 133 of 182 days scraped in 960.1 secTraceback (most recent call last):\n"
     ]
    },
    {
     "name": "stderr",
     "output_type": "stream",
     "text": [
      "  File \u001b[35m\"/opt/hostedtoolcache/Python/3.13.7/x64/lib/python3.13/multiprocessing/resource_tracker.py\"\u001b[0m, line \u001b[35m295\u001b[0m, in \u001b[35mmain\u001b[0m\n",
      "    raise ValueError(\n",
      "        f'Cannot register {name} for automatic cleanup: '\n",
      "        f'unknown resource type {rtype}')\n",
      "\u001b[1;35mValueError\u001b[0m: \u001b[35mCannot register /dev/shm/joblib_memmapping_folder_2206_58a0a356de4945feafde8409e289ddf1_d1fc4ce805a949479dc1593fdb87adcd for automatic cleanup: unknown resource type folder\u001b[0m\n"
     ]
    },
    {
     "name": "stderr",
     "output_type": "stream",
     "text": [
      "\r",
      "Scraping 38 games on 03/14/25:  73%|███████▎  | 133 of 182 days scraped in 961.0 sec"
     ]
    },
    {
     "name": "stderr",
     "output_type": "stream",
     "text": [
      "Traceback (most recent call last):\n",
      "  File \u001b[35m\"/opt/hostedtoolcache/Python/3.13.7/x64/lib/python3.13/multiprocessing/resource_tracker.py\"\u001b[0m, line \u001b[35m295\u001b[0m, in \u001b[35mmain\u001b[0m\n",
      "    raise ValueError(\n",
      "        f'Cannot register {name} for automatic cleanup: '\n",
      "        f'unknown resource type {rtype}')\n",
      "\u001b[1;35mValueError\u001b[0m: \u001b[35mCannot register /dev/shm/joblib_memmapping_folder_2206_6933434a71be44ff92215dc352383292_8428eaea773248ac905fad35d9432d6d for automatic cleanup: unknown resource type folder\u001b[0m\n",
      "Traceback (most recent call last):\n",
      "  File \u001b[35m\"/opt/hostedtoolcache/Python/3.13.7/x64/lib/python3.13/multiprocessing/resource_tracker.py\"\u001b[0m, line \u001b[35m295\u001b[0m, in \u001b[35mmain\u001b[0m\n",
      "    raise ValueError(\n",
      "        f'Cannot register {name} for automatic cleanup: '\n",
      "        f'unknown resource type {rtype}')\n",
      "\u001b[1;35mValueError\u001b[0m: \u001b[35mCannot register /dev/shm/joblib_memmapping_folder_2206_58a0a356de4945feafde8409e289ddf1_09e34f9ce23e4334905d9b8d0b57be49 for automatic cleanup: unknown resource type folder\u001b[0m\n"
     ]
    },
    {
     "name": "stderr",
     "output_type": "stream",
     "text": [
      "\r",
      "Scraping 38 games on 03/14/25:  74%|███████▎  | 134 of 182 days scraped in 966.4 sec"
     ]
    },
    {
     "name": "stderr",
     "output_type": "stream",
     "text": [
      "Traceback (most recent call last):\n",
      "  File \u001b[35m\"/opt/hostedtoolcache/Python/3.13.7/x64/lib/python3.13/multiprocessing/resource_tracker.py\"\u001b[0m, line \u001b[35m295\u001b[0m, in \u001b[35mmain\u001b[0m\n",
      "    raise ValueError(\n",
      "        f'Cannot register {name} for automatic cleanup: '\n",
      "        f'unknown resource type {rtype}')\n",
      "\u001b[1;35mValueError\u001b[0m: \u001b[35mCannot register /dev/shm/joblib_memmapping_folder_2206_58a0a356de4945feafde8409e289ddf1_09e34f9ce23e4334905d9b8d0b57be49 for automatic cleanup: unknown resource type folder\u001b[0m\n"
     ]
    },
    {
     "name": "stderr",
     "output_type": "stream",
     "text": [
      "\r",
      "Scraping 22 games on 03/15/25:  74%|███████▎  | 134 of 182 days scraped in 966.8 sec"
     ]
    },
    {
     "name": "stderr",
     "output_type": "stream",
     "text": [
      "Traceback (most recent call last):\n",
      "  File \u001b[35m\"/opt/hostedtoolcache/Python/3.13.7/x64/lib/python3.13/multiprocessing/resource_tracker.py\"\u001b[0m, line \u001b[35m295\u001b[0m, in \u001b[35mmain\u001b[0m\n",
      "    raise ValueError(\n",
      "        f'Cannot register {name} for automatic cleanup: '\n",
      "        f'unknown resource type {rtype}')\n",
      "\u001b[1;35mValueError\u001b[0m: \u001b[35mCannot register /dev/shm/joblib_memmapping_folder_2206_cfeb53ce25574f108368e5cb34d43c1a_7eae61d3a8cd4b3e964b4b1ca2ba2b3a for automatic cleanup: unknown resource type folder\u001b[0m\n",
      "Traceback (most recent call last):\n",
      "  File \u001b[35m\"/opt/hostedtoolcache/Python/3.13.7/x64/lib/python3.13/multiprocessing/resource_tracker.py\"\u001b[0m, line \u001b[35m295\u001b[0m, in \u001b[35mmain\u001b[0m\n",
      "    raise ValueError(\n",
      "        f'Cannot register {name} for automatic cleanup: '\n",
      "        f'unknown resource type {rtype}')\n",
      "\u001b[1;35mValueError\u001b[0m: \u001b[35mCannot register /dev/shm/joblib_memmapping_folder_2206_58a0a356de4945feafde8409e289ddf1_e18f0a247a9140e0bea1514e35648350 for automatic cleanup: unknown resource type folder\u001b[0m\n"
     ]
    },
    {
     "name": "stderr",
     "output_type": "stream",
     "text": [
      "\r",
      "Scraping 22 games on 03/15/25:  74%|███████▍  | 135 of 182 days scraped in 969.8 sec"
     ]
    },
    {
     "name": "stderr",
     "output_type": "stream",
     "text": [
      "Traceback (most recent call last):\n",
      "  File \u001b[35m\"/opt/hostedtoolcache/Python/3.13.7/x64/lib/python3.13/multiprocessing/resource_tracker.py\"\u001b[0m, line \u001b[35m295\u001b[0m, in \u001b[35mmain\u001b[0m\n",
      "    raise ValueError(\n",
      "        f'Cannot register {name} for automatic cleanup: '\n",
      "        f'unknown resource type {rtype}')\n",
      "\u001b[1;35mValueError\u001b[0m: \u001b[35mCannot register /dev/shm/joblib_memmapping_folder_2206_58a0a356de4945feafde8409e289ddf1_e18f0a247a9140e0bea1514e35648350 for automatic cleanup: unknown resource type folder\u001b[0m\n"
     ]
    },
    {
     "name": "stderr",
     "output_type": "stream",
     "text": [
      "\r",
      "Scraping 5 games on 03/16/25:  74%|███████▍  | 135 of 182 days scraped in 970.2 sec "
     ]
    },
    {
     "name": "stderr",
     "output_type": "stream",
     "text": [
      "Traceback (most recent call last):\n",
      "  File \u001b[35m\"/opt/hostedtoolcache/Python/3.13.7/x64/lib/python3.13/multiprocessing/resource_tracker.py\"\u001b[0m, line \u001b[35m295\u001b[0m, in \u001b[35mmain\u001b[0m\n",
      "    raise ValueError(\n",
      "        f'Cannot register {name} for automatic cleanup: '\n",
      "        f'unknown resource type {rtype}')\n",
      "\u001b[1;35mValueError\u001b[0m: \u001b[35mCannot register /dev/shm/joblib_memmapping_folder_2206_bb2e93a98c89400691e8eeb4727a85f1_19ac2427f03842d0982f7c62a97c9d50 for automatic cleanup: unknown resource type folder\u001b[0m\n",
      "Traceback (most recent call last):\n",
      "  File \u001b[35m\"/opt/hostedtoolcache/Python/3.13.7/x64/lib/python3.13/multiprocessing/resource_tracker.py\"\u001b[0m, line \u001b[35m295\u001b[0m, in \u001b[35mmain\u001b[0m\n",
      "    raise ValueError(\n",
      "        f'Cannot register {name} for automatic cleanup: '\n",
      "        f'unknown resource type {rtype}')\n",
      "\u001b[1;35mValueError\u001b[0m: \u001b[35mCannot register /dev/shm/joblib_memmapping_folder_2206_58a0a356de4945feafde8409e289ddf1_85ee846f9f4142c2948cf7b8cb5ee1b1 for automatic cleanup: unknown resource type folder\u001b[0m\n"
     ]
    },
    {
     "name": "stderr",
     "output_type": "stream",
     "text": [
      "\r",
      "Scraping 5 games on 03/16/25:  75%|███████▍  | 136 of 182 days scraped in 970.8 secTraceback (most recent call last):\n"
     ]
    },
    {
     "name": "stderr",
     "output_type": "stream",
     "text": [
      "  File \u001b[35m\"/opt/hostedtoolcache/Python/3.13.7/x64/lib/python3.13/multiprocessing/resource_tracker.py\"\u001b[0m, line \u001b[35m295\u001b[0m, in \u001b[35mmain\u001b[0m\n",
      "    raise ValueError(\n",
      "        f'Cannot register {name} for automatic cleanup: '\n",
      "        f'unknown resource type {rtype}')\n",
      "\u001b[1;35mValueError\u001b[0m: \u001b[35mCannot register /dev/shm/joblib_memmapping_folder_2206_58a0a356de4945feafde8409e289ddf1_85ee846f9f4142c2948cf7b8cb5ee1b1 for automatic cleanup: unknown resource type folder\u001b[0m\n"
     ]
    },
    {
     "name": "stderr",
     "output_type": "stream",
     "text": [
      "\r",
      "Scraping 0 games on 03/17/25:  75%|███████▍  | 136 of 182 days scraped in 971.1 sec"
     ]
    },
    {
     "name": "stderr",
     "output_type": "stream",
     "text": [
      "\r",
      "No games on 03/17/25:  75%|███████▌  | 137 of 182 days scraped in 971.1 sec        "
     ]
    },
    {
     "name": "stderr",
     "output_type": "stream",
     "text": [
      "\r",
      "Scraping 9 games on 03/18/25:  75%|███████▌  | 137 of 182 days scraped in 971.6 sec"
     ]
    },
    {
     "name": "stderr",
     "output_type": "stream",
     "text": [
      "Traceback (most recent call last):\n",
      "  File \u001b[35m\"/opt/hostedtoolcache/Python/3.13.7/x64/lib/python3.13/multiprocessing/resource_tracker.py\"\u001b[0m, line \u001b[35m295\u001b[0m, in \u001b[35mmain\u001b[0m\n",
      "    raise ValueError(\n",
      "        f'Cannot register {name} for automatic cleanup: '\n",
      "        f'unknown resource type {rtype}')\n",
      "\u001b[1;35mValueError\u001b[0m: \u001b[35mCannot register /dev/shm/joblib_memmapping_folder_2206_185d6e9d30874b04a2a2b57aaee6d5c4_0847822642a94477a151224a15e8924f for automatic cleanup: unknown resource type folder\u001b[0m\n",
      "Traceback (most recent call last):\n",
      "  File \u001b[35m\"/opt/hostedtoolcache/Python/3.13.7/x64/lib/python3.13/multiprocessing/resource_tracker.py\"\u001b[0m, line \u001b[35m295\u001b[0m, in \u001b[35mmain\u001b[0m\n",
      "    raise ValueError(\n",
      "        f'Cannot register {name} for automatic cleanup: '\n",
      "        f'unknown resource type {rtype}')\n",
      "\u001b[1;35mValueError\u001b[0m: \u001b[35mCannot register /dev/shm/joblib_memmapping_folder_2206_58a0a356de4945feafde8409e289ddf1_cc4cf65d5e5944bd95d610243fc6aee1 for automatic cleanup: unknown resource type folder\u001b[0m\n"
     ]
    },
    {
     "name": "stderr",
     "output_type": "stream",
     "text": [
      "\r",
      "Scraping 9 games on 03/18/25:  76%|███████▌  | 138 of 182 days scraped in 973.1 secTraceback (most recent call last):\n"
     ]
    },
    {
     "name": "stderr",
     "output_type": "stream",
     "text": [
      "  File \u001b[35m\"/opt/hostedtoolcache/Python/3.13.7/x64/lib/python3.13/multiprocessing/resource_tracker.py\"\u001b[0m, line \u001b[35m295\u001b[0m, in \u001b[35mmain\u001b[0m\n",
      "    raise ValueError(\n",
      "        f'Cannot register {name} for automatic cleanup: '\n",
      "        f'unknown resource type {rtype}')\n",
      "\u001b[1;35mValueError\u001b[0m: \u001b[35mCannot register /dev/shm/joblib_memmapping_folder_2206_58a0a356de4945feafde8409e289ddf1_cc4cf65d5e5944bd95d610243fc6aee1 for automatic cleanup: unknown resource type folder\u001b[0m\n"
     ]
    },
    {
     "name": "stderr",
     "output_type": "stream",
     "text": [
      "\r",
      "Scraping 11 games on 03/19/25:  76%|███████▌  | 138 of 182 days scraped in 973.5 sec"
     ]
    },
    {
     "name": "stderr",
     "output_type": "stream",
     "text": [
      "Traceback (most recent call last):\n",
      "  File \u001b[35m\"/opt/hostedtoolcache/Python/3.13.7/x64/lib/python3.13/multiprocessing/resource_tracker.py\"\u001b[0m, line \u001b[35m295\u001b[0m, in \u001b[35mmain\u001b[0m\n",
      "    raise ValueError(\n",
      "        f'Cannot register {name} for automatic cleanup: '\n",
      "        f'unknown resource type {rtype}')\n",
      "\u001b[1;35mValueError\u001b[0m: \u001b[35mCannot register /dev/shm/joblib_memmapping_folder_2206_f4cf5111fb8943f2be5db7723b076caf_cb690a2ea3d54f2ab81f338b6e54eb04 for automatic cleanup: unknown resource type folder\u001b[0m\n",
      "Traceback (most recent call last):\n",
      "  File \u001b[35m\"/opt/hostedtoolcache/Python/3.13.7/x64/lib/python3.13/multiprocessing/resource_tracker.py\"\u001b[0m, line \u001b[35m295\u001b[0m, in \u001b[35mmain\u001b[0m\n",
      "    raise ValueError(\n",
      "        f'Cannot register {name} for automatic cleanup: '\n",
      "        f'unknown resource type {rtype}')\n",
      "\u001b[1;35mValueError\u001b[0m: \u001b[35mCannot register /dev/shm/joblib_memmapping_folder_2206_58a0a356de4945feafde8409e289ddf1_05f1622585ee4ceea7b4fa32752d67e2 for automatic cleanup: unknown resource type folder\u001b[0m\n"
     ]
    },
    {
     "name": "stderr",
     "output_type": "stream",
     "text": [
      "\r",
      "Scraping 11 games on 03/19/25:  76%|███████▋  | 139 of 182 days scraped in 975.1 sec"
     ]
    },
    {
     "name": "stderr",
     "output_type": "stream",
     "text": [
      "Traceback (most recent call last):\n",
      "  File \u001b[35m\"/opt/hostedtoolcache/Python/3.13.7/x64/lib/python3.13/multiprocessing/resource_tracker.py\"\u001b[0m, line \u001b[35m295\u001b[0m, in \u001b[35mmain\u001b[0m\n",
      "    raise ValueError(\n",
      "        f'Cannot register {name} for automatic cleanup: '\n",
      "        f'unknown resource type {rtype}')\n",
      "\u001b[1;35mValueError\u001b[0m: \u001b[35mCannot register /dev/shm/joblib_memmapping_folder_2206_58a0a356de4945feafde8409e289ddf1_05f1622585ee4ceea7b4fa32752d67e2 for automatic cleanup: unknown resource type folder\u001b[0m\n"
     ]
    },
    {
     "name": "stderr",
     "output_type": "stream",
     "text": [
      "\r",
      "Scraping 16 games on 03/20/25:  76%|███████▋  | 139 of 182 days scraped in 975.5 sec"
     ]
    },
    {
     "name": "stderr",
     "output_type": "stream",
     "text": [
      "Traceback (most recent call last):\n",
      "  File \u001b[35m\"/opt/hostedtoolcache/Python/3.13.7/x64/lib/python3.13/multiprocessing/resource_tracker.py\"\u001b[0m, line \u001b[35m295\u001b[0m, in \u001b[35mmain\u001b[0m\n",
      "    raise ValueError(\n",
      "        f'Cannot register {name} for automatic cleanup: '\n",
      "        f'unknown resource type {rtype}')\n",
      "\u001b[1;35mValueError\u001b[0m: \u001b[35mCannot register /dev/shm/joblib_memmapping_folder_2206_de3eb48b96f241f3a46457a882661b46_6443397dac3546788d79de0b3c622baf for automatic cleanup: unknown resource type folder\u001b[0m\n",
      "Traceback (most recent call last):\n",
      "  File \u001b[35m\"/opt/hostedtoolcache/Python/3.13.7/x64/lib/python3.13/multiprocessing/resource_tracker.py\"\u001b[0m, line \u001b[35m295\u001b[0m, in \u001b[35mmain\u001b[0m\n",
      "    raise ValueError(\n",
      "        f'Cannot register {name} for automatic cleanup: '\n",
      "        f'unknown resource type {rtype}')\n",
      "\u001b[1;35mValueError\u001b[0m: \u001b[35mCannot register /dev/shm/joblib_memmapping_folder_2206_58a0a356de4945feafde8409e289ddf1_7874a845851f417f8a180d827ee9a714 for automatic cleanup: unknown resource type folder\u001b[0m\n"
     ]
    },
    {
     "name": "stderr",
     "output_type": "stream",
     "text": [
      "\r",
      "Scraping 16 games on 03/20/25:  77%|███████▋  | 140 of 182 days scraped in 978.0 sec"
     ]
    },
    {
     "name": "stderr",
     "output_type": "stream",
     "text": [
      "Traceback (most recent call last):\n",
      "  File \u001b[35m\"/opt/hostedtoolcache/Python/3.13.7/x64/lib/python3.13/multiprocessing/resource_tracker.py\"\u001b[0m, line \u001b[35m295\u001b[0m, in \u001b[35mmain\u001b[0m\n",
      "    raise ValueError(\n",
      "        f'Cannot register {name} for automatic cleanup: '\n",
      "        f'unknown resource type {rtype}')\n",
      "\u001b[1;35mValueError\u001b[0m: \u001b[35mCannot register /dev/shm/joblib_memmapping_folder_2206_58a0a356de4945feafde8409e289ddf1_7874a845851f417f8a180d827ee9a714 for automatic cleanup: unknown resource type folder\u001b[0m\n"
     ]
    },
    {
     "name": "stderr",
     "output_type": "stream",
     "text": [
      "\r",
      "Scraping 16 games on 03/21/25:  77%|███████▋  | 140 of 182 days scraped in 978.5 sec"
     ]
    },
    {
     "name": "stderr",
     "output_type": "stream",
     "text": [
      "Traceback (most recent call last):\n",
      "  File \u001b[35m\"/opt/hostedtoolcache/Python/3.13.7/x64/lib/python3.13/multiprocessing/resource_tracker.py\"\u001b[0m, line \u001b[35m295\u001b[0m, in \u001b[35mmain\u001b[0m\n",
      "    raise ValueError(\n",
      "        f'Cannot register {name} for automatic cleanup: '\n",
      "        f'unknown resource type {rtype}')\n",
      "\u001b[1;35mValueError\u001b[0m: \u001b[35mCannot register /dev/shm/joblib_memmapping_folder_2206_de5524e121bc4d759970120746875928_aa3f30a9fddd4b05804c5783ebd021df for automatic cleanup: unknown resource type folder\u001b[0m\n",
      "Traceback (most recent call last):\n",
      "  File \u001b[35m\"/opt/hostedtoolcache/Python/3.13.7/x64/lib/python3.13/multiprocessing/resource_tracker.py\"\u001b[0m, line \u001b[35m295\u001b[0m, in \u001b[35mmain\u001b[0m\n",
      "    raise ValueError(\n",
      "        f'Cannot register {name} for automatic cleanup: '\n",
      "        f'unknown resource type {rtype}')\n",
      "\u001b[1;35mValueError\u001b[0m: \u001b[35mCannot register /dev/shm/joblib_memmapping_folder_2206_58a0a356de4945feafde8409e289ddf1_6cf2b1511ad64b51a6ba03034eec5c5a for automatic cleanup: unknown resource type folder\u001b[0m\n"
     ]
    },
    {
     "name": "stderr",
     "output_type": "stream",
     "text": [
      "\r",
      "Scraping 16 games on 03/21/25:  77%|███████▋  | 141 of 182 days scraped in 980.6 sec"
     ]
    },
    {
     "name": "stderr",
     "output_type": "stream",
     "text": [
      "Traceback (most recent call last):\n",
      "  File \u001b[35m\"/opt/hostedtoolcache/Python/3.13.7/x64/lib/python3.13/multiprocessing/resource_tracker.py\"\u001b[0m, line \u001b[35m295\u001b[0m, in \u001b[35mmain\u001b[0m\n",
      "    raise ValueError(\n",
      "        f'Cannot register {name} for automatic cleanup: '\n",
      "        f'unknown resource type {rtype}')\n",
      "\u001b[1;35mValueError\u001b[0m: \u001b[35mCannot register /dev/shm/joblib_memmapping_folder_2206_58a0a356de4945feafde8409e289ddf1_6cf2b1511ad64b51a6ba03034eec5c5a for automatic cleanup: unknown resource type folder\u001b[0m\n"
     ]
    },
    {
     "name": "stderr",
     "output_type": "stream",
     "text": [
      "\r",
      "Scraping 10 games on 03/22/25:  77%|███████▋  | 141 of 182 days scraped in 981.0 sec"
     ]
    },
    {
     "name": "stderr",
     "output_type": "stream",
     "text": [
      "Traceback (most recent call last):\n",
      "  File \u001b[35m\"/opt/hostedtoolcache/Python/3.13.7/x64/lib/python3.13/multiprocessing/resource_tracker.py\"\u001b[0m, line \u001b[35m295\u001b[0m, in \u001b[35mmain\u001b[0m\n",
      "    raise ValueError(\n",
      "        f'Cannot register {name} for automatic cleanup: '\n",
      "        f'unknown resource type {rtype}')\n",
      "\u001b[1;35mValueError\u001b[0m: \u001b[35mCannot register /dev/shm/joblib_memmapping_folder_2206_ab7c7d8ee1db4cf69404db4cb3f3ab33_482cee7375d84e7db55de8ac8ab4f06a for automatic cleanup: unknown resource type folder\u001b[0m\n",
      "Traceback (most recent call last):\n",
      "  File \u001b[35m\"/opt/hostedtoolcache/Python/3.13.7/x64/lib/python3.13/multiprocessing/resource_tracker.py\"\u001b[0m, line \u001b[35m295\u001b[0m, in \u001b[35mmain\u001b[0m\n",
      "    raise ValueError(\n",
      "        f'Cannot register {name} for automatic cleanup: '\n",
      "        f'unknown resource type {rtype}')\n",
      "\u001b[1;35mValueError\u001b[0m: \u001b[35mCannot register /dev/shm/joblib_memmapping_folder_2206_58a0a356de4945feafde8409e289ddf1_389905408d6144f596f9ebf2859d3495 for automatic cleanup: unknown resource type folder\u001b[0m\n"
     ]
    },
    {
     "name": "stderr",
     "output_type": "stream",
     "text": [
      "\r",
      "Scraping 10 games on 03/22/25:  78%|███████▊  | 142 of 182 days scraped in 982.5 secTraceback (most recent call last):\n",
      "  File \u001b[35m\"/opt/hostedtoolcache/Python/3.13.7/x64/lib/python3.13/multiprocessing/resource_tracker.py\"\u001b[0m, line \u001b[35m295\u001b[0m, in \u001b[35mmain\u001b[0m\n",
      "    raise ValueError(\n",
      "        f'Cannot register {name} for automatic cleanup: '\n",
      "        f'unknown resource type {rtype}')\n",
      "\u001b[1;35mValueError\u001b[0m: \u001b[35mCannot register /dev/shm/joblib_memmapping_folder_2206_58a0a356de4945feafde8409e289ddf1_389905408d6144f596f9ebf2859d3495 for automatic cleanup: unknown resource type folder\u001b[0m\n"
     ]
    },
    {
     "name": "stderr",
     "output_type": "stream",
     "text": [
      "\r",
      "Scraping 18 games on 03/23/25:  78%|███████▊  | 142 of 182 days scraped in 983.0 sec"
     ]
    },
    {
     "name": "stderr",
     "output_type": "stream",
     "text": [
      "Traceback (most recent call last):\n",
      "  File \u001b[35m\"/opt/hostedtoolcache/Python/3.13.7/x64/lib/python3.13/multiprocessing/resource_tracker.py\"\u001b[0m, line \u001b[35m295\u001b[0m, in \u001b[35mmain\u001b[0m\n",
      "    raise ValueError(\n",
      "        f'Cannot register {name} for automatic cleanup: '\n",
      "        f'unknown resource type {rtype}')\n",
      "\u001b[1;35mValueError\u001b[0m: \u001b[35mCannot register /dev/shm/joblib_memmapping_folder_2206_c1eaff4627514d3584322901a07efa38_0c2a3fe175fe48bda53fd84a41fdd802 for automatic cleanup: unknown resource type folder\u001b[0m\n",
      "Traceback (most recent call last):\n",
      "  File \u001b[35m\"/opt/hostedtoolcache/Python/3.13.7/x64/lib/python3.13/multiprocessing/resource_tracker.py\"\u001b[0m, line \u001b[35m295\u001b[0m, in \u001b[35mmain\u001b[0m\n",
      "    raise ValueError(\n",
      "        f'Cannot register {name} for automatic cleanup: '\n",
      "        f'unknown resource type {rtype}')\n",
      "\u001b[1;35mValueError\u001b[0m: \u001b[35mCannot register /dev/shm/joblib_memmapping_folder_2206_58a0a356de4945feafde8409e289ddf1_d5257747fc854f33add27b25ff1f1034 for automatic cleanup: unknown resource type folder\u001b[0m\n"
     ]
    },
    {
     "name": "stderr",
     "output_type": "stream",
     "text": [
      "\r",
      "Scraping 18 games on 03/23/25:  79%|███████▊  | 143 of 182 days scraped in 985.4 sec"
     ]
    },
    {
     "name": "stderr",
     "output_type": "stream",
     "text": [
      "Traceback (most recent call last):\n",
      "  File \u001b[35m\"/opt/hostedtoolcache/Python/3.13.7/x64/lib/python3.13/multiprocessing/resource_tracker.py\"\u001b[0m, line \u001b[35m295\u001b[0m, in \u001b[35mmain\u001b[0m\n",
      "    raise ValueError(\n",
      "        f'Cannot register {name} for automatic cleanup: '\n",
      "        f'unknown resource type {rtype}')\n",
      "\u001b[1;35mValueError\u001b[0m: \u001b[35mCannot register /dev/shm/joblib_memmapping_folder_2206_58a0a356de4945feafde8409e289ddf1_d5257747fc854f33add27b25ff1f1034 for automatic cleanup: unknown resource type folder\u001b[0m\n"
     ]
    },
    {
     "name": "stderr",
     "output_type": "stream",
     "text": [
      "\r",
      "Scraping 3 games on 03/24/25:  79%|███████▊  | 143 of 182 days scraped in 985.8 sec "
     ]
    },
    {
     "name": "stderr",
     "output_type": "stream",
     "text": [
      "Traceback (most recent call last):\n",
      "  File \u001b[35m\"/opt/hostedtoolcache/Python/3.13.7/x64/lib/python3.13/multiprocessing/resource_tracker.py\"\u001b[0m, line \u001b[35m295\u001b[0m, in \u001b[35mmain\u001b[0m\n",
      "    raise ValueError(\n",
      "        f'Cannot register {name} for automatic cleanup: '\n",
      "        f'unknown resource type {rtype}')\n",
      "\u001b[1;35mValueError\u001b[0m: \u001b[35mCannot register /dev/shm/joblib_memmapping_folder_2206_f875013097264e92a7c5a36f09719b11_61dd6b9315b2422598cda30529259817 for automatic cleanup: unknown resource type folder\u001b[0m\n",
      "Traceback (most recent call last):\n",
      "  File \u001b[35m\"/opt/hostedtoolcache/Python/3.13.7/x64/lib/python3.13/multiprocessing/resource_tracker.py\"\u001b[0m, line \u001b[35m295\u001b[0m, in \u001b[35mmain\u001b[0m\n",
      "    raise ValueError(\n",
      "        f'Cannot register {name} for automatic cleanup: '\n",
      "        f'unknown resource type {rtype}')\n",
      "\u001b[1;35mValueError\u001b[0m: \u001b[35mCannot register /dev/shm/joblib_memmapping_folder_2206_58a0a356de4945feafde8409e289ddf1_46de32b1fad24162a1dbbf810cf0674b for automatic cleanup: unknown resource type folder\u001b[0m\n"
     ]
    },
    {
     "name": "stderr",
     "output_type": "stream",
     "text": [
      "\r",
      "Scraping 3 games on 03/24/25:  79%|███████▉  | 144 of 182 days scraped in 986.2 sec"
     ]
    },
    {
     "name": "stderr",
     "output_type": "stream",
     "text": [
      "Traceback (most recent call last):\n",
      "  File \u001b[35m\"/opt/hostedtoolcache/Python/3.13.7/x64/lib/python3.13/multiprocessing/resource_tracker.py\"\u001b[0m, line \u001b[35m295\u001b[0m, in \u001b[35mmain\u001b[0m\n",
      "    raise ValueError(\n",
      "        f'Cannot register {name} for automatic cleanup: '\n",
      "        f'unknown resource type {rtype}')\n",
      "\u001b[1;35mValueError\u001b[0m: \u001b[35mCannot register /dev/shm/joblib_memmapping_folder_2206_58a0a356de4945feafde8409e289ddf1_46de32b1fad24162a1dbbf810cf0674b for automatic cleanup: unknown resource type folder\u001b[0m\n"
     ]
    },
    {
     "name": "stderr",
     "output_type": "stream",
     "text": [
      "\r",
      "Scraping 4 games on 03/25/25:  79%|███████▉  | 144 of 182 days scraped in 986.5 sec"
     ]
    },
    {
     "name": "stderr",
     "output_type": "stream",
     "text": [
      "Traceback (most recent call last):\n",
      "  File \u001b[35m\"/opt/hostedtoolcache/Python/3.13.7/x64/lib/python3.13/multiprocessing/resource_tracker.py\"\u001b[0m, line \u001b[35m295\u001b[0m, in \u001b[35mmain\u001b[0m\n",
      "    raise ValueError(\n",
      "        f'Cannot register {name} for automatic cleanup: '\n",
      "        f'unknown resource type {rtype}')\n",
      "\u001b[1;35mValueError\u001b[0m: \u001b[35mCannot register /dev/shm/joblib_memmapping_folder_2206_a4ed13de4a1c499ab0a8dbfd42f06422_cbf2b6bff75e4ab4931925630dd967a9 for automatic cleanup: unknown resource type folder\u001b[0m\n",
      "Traceback (most recent call last):\n",
      "  File \u001b[35m\"/opt/hostedtoolcache/Python/3.13.7/x64/lib/python3.13/multiprocessing/resource_tracker.py\"\u001b[0m, line \u001b[35m295\u001b[0m, in \u001b[35mmain\u001b[0m\n",
      "    raise ValueError(\n",
      "        f'Cannot register {name} for automatic cleanup: '\n",
      "        f'unknown resource type {rtype}')\n",
      "\u001b[1;35mValueError\u001b[0m: \u001b[35mCannot register /dev/shm/joblib_memmapping_folder_2206_58a0a356de4945feafde8409e289ddf1_95436b2b92944daa9cc6973391f9015a for automatic cleanup: unknown resource type folder\u001b[0m\n"
     ]
    },
    {
     "name": "stderr",
     "output_type": "stream",
     "text": [
      "\r",
      "Scraping 4 games on 03/25/25:  80%|███████▉  | 145 of 182 days scraped in 987.3 secTraceback (most recent call last):\n"
     ]
    },
    {
     "name": "stderr",
     "output_type": "stream",
     "text": [
      "  File \u001b[35m\"/opt/hostedtoolcache/Python/3.13.7/x64/lib/python3.13/multiprocessing/resource_tracker.py\"\u001b[0m, line \u001b[35m295\u001b[0m, in \u001b[35mmain\u001b[0m\n",
      "    raise ValueError(\n",
      "        f'Cannot register {name} for automatic cleanup: '\n",
      "        f'unknown resource type {rtype}')\n",
      "\u001b[1;35mValueError\u001b[0m: \u001b[35mCannot register /dev/shm/joblib_memmapping_folder_2206_58a0a356de4945feafde8409e289ddf1_95436b2b92944daa9cc6973391f9015a for automatic cleanup: unknown resource type folder\u001b[0m\n"
     ]
    },
    {
     "name": "stderr",
     "output_type": "stream",
     "text": [
      "\r",
      "Scraping 3 games on 03/26/25:  80%|███████▉  | 145 of 182 days scraped in 987.7 sec"
     ]
    },
    {
     "name": "stderr",
     "output_type": "stream",
     "text": [
      "Traceback (most recent call last):\n",
      "  File \u001b[35m\"/opt/hostedtoolcache/Python/3.13.7/x64/lib/python3.13/multiprocessing/resource_tracker.py\"\u001b[0m, line \u001b[35m295\u001b[0m, in \u001b[35mmain\u001b[0m\n",
      "    raise ValueError(\n",
      "        f'Cannot register {name} for automatic cleanup: '\n",
      "        f'unknown resource type {rtype}')\n",
      "\u001b[1;35mValueError\u001b[0m: \u001b[35mCannot register /dev/shm/joblib_memmapping_folder_2206_b49505b5ce7342fe8b7817bea70b797c_35d0d45abff94ef3a8bf88a220d12443 for automatic cleanup: unknown resource type folder\u001b[0m\n",
      "Traceback (most recent call last):\n",
      "  File \u001b[35m\"/opt/hostedtoolcache/Python/3.13.7/x64/lib/python3.13/multiprocessing/resource_tracker.py\"\u001b[0m, line \u001b[35m295\u001b[0m, in \u001b[35mmain\u001b[0m\n",
      "    raise ValueError(\n",
      "        f'Cannot register {name} for automatic cleanup: '\n",
      "        f'unknown resource type {rtype}')\n",
      "\u001b[1;35mValueError\u001b[0m: \u001b[35mCannot register /dev/shm/joblib_memmapping_folder_2206_58a0a356de4945feafde8409e289ddf1_e769351fc0ec4a21b1d5971684d8cfd7 for automatic cleanup: unknown resource type folder\u001b[0m\n"
     ]
    },
    {
     "name": "stderr",
     "output_type": "stream",
     "text": [
      "\r",
      "Scraping 3 games on 03/26/25:  80%|████████  | 146 of 182 days scraped in 988.1 sec"
     ]
    },
    {
     "name": "stderr",
     "output_type": "stream",
     "text": [
      "Traceback (most recent call last):\n",
      "  File \u001b[35m\"/opt/hostedtoolcache/Python/3.13.7/x64/lib/python3.13/multiprocessing/resource_tracker.py\"\u001b[0m, line \u001b[35m295\u001b[0m, in \u001b[35mmain\u001b[0m\n",
      "    raise ValueError(\n",
      "        f'Cannot register {name} for automatic cleanup: '\n",
      "        f'unknown resource type {rtype}')\n",
      "\u001b[1;35mValueError\u001b[0m: \u001b[35mCannot register /dev/shm/joblib_memmapping_folder_2206_58a0a356de4945feafde8409e289ddf1_e769351fc0ec4a21b1d5971684d8cfd7 for automatic cleanup: unknown resource type folder\u001b[0m\n"
     ]
    },
    {
     "name": "stderr",
     "output_type": "stream",
     "text": [
      "\r",
      "Scraping 4 games on 03/27/25:  80%|████████  | 146 of 182 days scraped in 988.7 sec"
     ]
    },
    {
     "name": "stderr",
     "output_type": "stream",
     "text": [
      "Traceback (most recent call last):\n",
      "  File \u001b[35m\"/opt/hostedtoolcache/Python/3.13.7/x64/lib/python3.13/multiprocessing/resource_tracker.py\"\u001b[0m, line \u001b[35m295\u001b[0m, in \u001b[35mmain\u001b[0m\n",
      "    raise ValueError(\n",
      "        f'Cannot register {name} for automatic cleanup: '\n",
      "        f'unknown resource type {rtype}')\n",
      "\u001b[1;35mValueError\u001b[0m: \u001b[35mCannot register /dev/shm/joblib_memmapping_folder_2206_f30cd63d449e4be5a14ac282da98efed_40729ee4c2ba4959b77341f2e6807e30 for automatic cleanup: unknown resource type folder\u001b[0m\n",
      "Traceback (most recent call last):\n",
      "  File \u001b[35m\"/opt/hostedtoolcache/Python/3.13.7/x64/lib/python3.13/multiprocessing/resource_tracker.py\"\u001b[0m, line \u001b[35m295\u001b[0m, in \u001b[35mmain\u001b[0m\n",
      "    raise ValueError(\n",
      "        f'Cannot register {name} for automatic cleanup: '\n",
      "        f'unknown resource type {rtype}')\n",
      "\u001b[1;35mValueError\u001b[0m: \u001b[35mCannot register /dev/shm/joblib_memmapping_folder_2206_58a0a356de4945feafde8409e289ddf1_1d73ea7c8d54424ab558e718be537880 for automatic cleanup: unknown resource type folder\u001b[0m\n"
     ]
    },
    {
     "name": "stderr",
     "output_type": "stream",
     "text": [
      "\r",
      "Scraping 4 games on 03/27/25:  81%|████████  | 147 of 182 days scraped in 989.4 sec"
     ]
    },
    {
     "name": "stderr",
     "output_type": "stream",
     "text": [
      "Traceback (most recent call last):\n",
      "  File \u001b[35m\"/opt/hostedtoolcache/Python/3.13.7/x64/lib/python3.13/multiprocessing/resource_tracker.py\"\u001b[0m, line \u001b[35m295\u001b[0m, in \u001b[35mmain\u001b[0m\n",
      "    raise ValueError(\n",
      "        f'Cannot register {name} for automatic cleanup: '\n",
      "        f'unknown resource type {rtype}')\n",
      "\u001b[1;35mValueError\u001b[0m: \u001b[35mCannot register /dev/shm/joblib_memmapping_folder_2206_58a0a356de4945feafde8409e289ddf1_1d73ea7c8d54424ab558e718be537880 for automatic cleanup: unknown resource type folder\u001b[0m\n"
     ]
    },
    {
     "name": "stderr",
     "output_type": "stream",
     "text": [
      "\r",
      "Scraping 4 games on 03/28/25:  81%|████████  | 147 of 182 days scraped in 990.9 sec"
     ]
    },
    {
     "name": "stderr",
     "output_type": "stream",
     "text": [
      "Traceback (most recent call last):\n",
      "  File \u001b[35m\"/opt/hostedtoolcache/Python/3.13.7/x64/lib/python3.13/multiprocessing/resource_tracker.py\"\u001b[0m, line \u001b[35m295\u001b[0m, in \u001b[35mmain\u001b[0m\n",
      "    raise ValueError(\n",
      "        f'Cannot register {name} for automatic cleanup: '\n",
      "        f'unknown resource type {rtype}')\n",
      "\u001b[1;35mValueError\u001b[0m: \u001b[35mCannot register /dev/shm/joblib_memmapping_folder_2206_ea8119a2432c43989189746f724f3c8a_58c5ee09ae74452e8619d1b737c750fd for automatic cleanup: unknown resource type folder\u001b[0m\n",
      "Traceback (most recent call last):\n",
      "  File \u001b[35m\"/opt/hostedtoolcache/Python/3.13.7/x64/lib/python3.13/multiprocessing/resource_tracker.py\"\u001b[0m, line \u001b[35m295\u001b[0m, in \u001b[35mmain\u001b[0m\n",
      "    raise ValueError(\n",
      "        f'Cannot register {name} for automatic cleanup: '\n",
      "        f'unknown resource type {rtype}')\n",
      "\u001b[1;35mValueError\u001b[0m: \u001b[35mCannot register /dev/shm/joblib_memmapping_folder_2206_58a0a356de4945feafde8409e289ddf1_1afa2c0cad164839801a068f6b1fd128 for automatic cleanup: unknown resource type folder\u001b[0m\n"
     ]
    },
    {
     "name": "stderr",
     "output_type": "stream",
     "text": [
      "\r",
      "Scraping 4 games on 03/28/25:  81%|████████▏ | 148 of 182 days scraped in 991.8 sec"
     ]
    },
    {
     "name": "stderr",
     "output_type": "stream",
     "text": [
      "Traceback (most recent call last):\n",
      "  File \u001b[35m\"/opt/hostedtoolcache/Python/3.13.7/x64/lib/python3.13/multiprocessing/resource_tracker.py\"\u001b[0m, line \u001b[35m295\u001b[0m, in \u001b[35mmain\u001b[0m\n",
      "    raise ValueError(\n",
      "        f'Cannot register {name} for automatic cleanup: '\n",
      "        f'unknown resource type {rtype}')\n",
      "\u001b[1;35mValueError\u001b[0m: \u001b[35mCannot register /dev/shm/joblib_memmapping_folder_2206_58a0a356de4945feafde8409e289ddf1_1afa2c0cad164839801a068f6b1fd128 for automatic cleanup: unknown resource type folder\u001b[0m\n"
     ]
    },
    {
     "name": "stderr",
     "output_type": "stream",
     "text": [
      "\r",
      "Scraping 2 games on 03/29/25:  81%|████████▏ | 148 of 182 days scraped in 992.2 sec"
     ]
    },
    {
     "name": "stderr",
     "output_type": "stream",
     "text": [
      "Traceback (most recent call last):\n",
      "  File \u001b[35m\"/opt/hostedtoolcache/Python/3.13.7/x64/lib/python3.13/multiprocessing/resource_tracker.py\"\u001b[0m, line \u001b[35m295\u001b[0m, in \u001b[35mmain\u001b[0m\n",
      "    raise ValueError(\n",
      "        f'Cannot register {name} for automatic cleanup: '\n",
      "        f'unknown resource type {rtype}')\n",
      "\u001b[1;35mValueError\u001b[0m: \u001b[35mCannot register /dev/shm/joblib_memmapping_folder_2206_a35e49cb0276423da22799e449a07f00_fbc35c85a7dc4fac9d1410419ce8379c for automatic cleanup: unknown resource type folder\u001b[0m\n",
      "Traceback (most recent call last):\n",
      "  File \u001b[35m\"/opt/hostedtoolcache/Python/3.13.7/x64/lib/python3.13/multiprocessing/resource_tracker.py\"\u001b[0m, line \u001b[35m295\u001b[0m, in \u001b[35mmain\u001b[0m\n",
      "    raise ValueError(\n",
      "        f'Cannot register {name} for automatic cleanup: '\n",
      "        f'unknown resource type {rtype}')\n",
      "\u001b[1;35mValueError\u001b[0m: \u001b[35mCannot register /dev/shm/joblib_memmapping_folder_2206_58a0a356de4945feafde8409e289ddf1_ee747eb1ba9a4e37b2648015e7e886f0 for automatic cleanup: unknown resource type folder\u001b[0m\n"
     ]
    },
    {
     "name": "stderr",
     "output_type": "stream",
     "text": [
      "\r",
      "Scraping 2 games on 03/29/25:  82%|████████▏ | 149 of 182 days scraped in 992.7 sec"
     ]
    },
    {
     "name": "stderr",
     "output_type": "stream",
     "text": [
      "Traceback (most recent call last):\n",
      "  File \u001b[35m\"/opt/hostedtoolcache/Python/3.13.7/x64/lib/python3.13/multiprocessing/resource_tracker.py\"\u001b[0m, line \u001b[35m295\u001b[0m, in \u001b[35mmain\u001b[0m\n",
      "    raise ValueError(\n",
      "        f'Cannot register {name} for automatic cleanup: '\n",
      "        f'unknown resource type {rtype}')\n",
      "\u001b[1;35mValueError\u001b[0m: \u001b[35mCannot register /dev/shm/joblib_memmapping_folder_2206_58a0a356de4945feafde8409e289ddf1_ee747eb1ba9a4e37b2648015e7e886f0 for automatic cleanup: unknown resource type folder\u001b[0m\n"
     ]
    },
    {
     "name": "stderr",
     "output_type": "stream",
     "text": [
      "\r",
      "Scraping 2 games on 03/30/25:  82%|████████▏ | 149 of 182 days scraped in 993.3 sec"
     ]
    },
    {
     "name": "stderr",
     "output_type": "stream",
     "text": [
      "Traceback (most recent call last):\n",
      "  File \u001b[35m\"/opt/hostedtoolcache/Python/3.13.7/x64/lib/python3.13/multiprocessing/resource_tracker.py\"\u001b[0m, line \u001b[35m295\u001b[0m, in \u001b[35mmain\u001b[0m\n",
      "    raise ValueError(\n",
      "        f'Cannot register {name} for automatic cleanup: '\n",
      "        f'unknown resource type {rtype}')\n",
      "\u001b[1;35mValueError\u001b[0m: \u001b[35mCannot register /dev/shm/joblib_memmapping_folder_2206_46f28c1cbcaf40769e980bafea47b2a0_d9fd9c9d5ded4addbb0c20c6c73dcc42 for automatic cleanup: unknown resource type folder\u001b[0m\n",
      "Traceback (most recent call last):\n",
      "  File \u001b[35m\"/opt/hostedtoolcache/Python/3.13.7/x64/lib/python3.13/multiprocessing/resource_tracker.py\"\u001b[0m, line \u001b[35m295\u001b[0m, in \u001b[35mmain\u001b[0m\n",
      "    raise ValueError(\n",
      "        f'Cannot register {name} for automatic cleanup: '\n",
      "        f'unknown resource type {rtype}')\n",
      "\u001b[1;35mValueError\u001b[0m: \u001b[35mCannot register /dev/shm/joblib_memmapping_folder_2206_58a0a356de4945feafde8409e289ddf1_b28ef31fbabe48958e1a36e58f050d77 for automatic cleanup: unknown resource type folder\u001b[0m\n"
     ]
    },
    {
     "name": "stderr",
     "output_type": "stream",
     "text": [
      "\r",
      "Scraping 2 games on 03/30/25:  82%|████████▏ | 150 of 182 days scraped in 994.0 sec"
     ]
    },
    {
     "name": "stderr",
     "output_type": "stream",
     "text": [
      "Traceback (most recent call last):\n",
      "  File \u001b[35m\"/opt/hostedtoolcache/Python/3.13.7/x64/lib/python3.13/multiprocessing/resource_tracker.py\"\u001b[0m, line \u001b[35m295\u001b[0m, in \u001b[35mmain\u001b[0m\n",
      "    raise ValueError(\n",
      "        f'Cannot register {name} for automatic cleanup: '\n",
      "        f'unknown resource type {rtype}')\n",
      "\u001b[1;35mValueError\u001b[0m: \u001b[35mCannot register /dev/shm/joblib_memmapping_folder_2206_58a0a356de4945feafde8409e289ddf1_b28ef31fbabe48958e1a36e58f050d77 for automatic cleanup: unknown resource type folder\u001b[0m\n"
     ]
    },
    {
     "name": "stderr",
     "output_type": "stream",
     "text": [
      "\r",
      "Scraping 4 games on 03/31/25:  82%|████████▏ | 150 of 182 days scraped in 994.4 sec"
     ]
    },
    {
     "name": "stderr",
     "output_type": "stream",
     "text": [
      "Traceback (most recent call last):\n",
      "  File \u001b[35m\"/opt/hostedtoolcache/Python/3.13.7/x64/lib/python3.13/multiprocessing/resource_tracker.py\"\u001b[0m, line \u001b[35m295\u001b[0m, in \u001b[35mmain\u001b[0m\n",
      "    raise ValueError(\n",
      "        f'Cannot register {name} for automatic cleanup: '\n",
      "        f'unknown resource type {rtype}')\n",
      "\u001b[1;35mValueError\u001b[0m: \u001b[35mCannot register /dev/shm/joblib_memmapping_folder_2206_decef5101f1440d3ace7fbba232cbc9e_0d15d67ffda34509a30fc93a568640f7 for automatic cleanup: unknown resource type folder\u001b[0m\n",
      "Traceback (most recent call last):\n",
      "  File \u001b[35m\"/opt/hostedtoolcache/Python/3.13.7/x64/lib/python3.13/multiprocessing/resource_tracker.py\"\u001b[0m, line \u001b[35m295\u001b[0m, in \u001b[35mmain\u001b[0m\n",
      "    raise ValueError(\n",
      "        f'Cannot register {name} for automatic cleanup: '\n",
      "        f'unknown resource type {rtype}')\n",
      "\u001b[1;35mValueError\u001b[0m: \u001b[35mCannot register /dev/shm/joblib_memmapping_folder_2206_58a0a356de4945feafde8409e289ddf1_fe0b687c0ecf452cbb06eb17c01b51c9 for automatic cleanup: unknown resource type folder\u001b[0m\n"
     ]
    },
    {
     "name": "stderr",
     "output_type": "stream",
     "text": [
      "\r",
      "Scraping 4 games on 03/31/25:  83%|████████▎ | 151 of 182 days scraped in 995.2 sec"
     ]
    },
    {
     "name": "stderr",
     "output_type": "stream",
     "text": [
      "Traceback (most recent call last):\n",
      "  File \u001b[35m\"/opt/hostedtoolcache/Python/3.13.7/x64/lib/python3.13/multiprocessing/resource_tracker.py\"\u001b[0m, line \u001b[35m295\u001b[0m, in \u001b[35mmain\u001b[0m\n",
      "    raise ValueError(\n",
      "        f'Cannot register {name} for automatic cleanup: '\n",
      "        f'unknown resource type {rtype}')\n",
      "\u001b[1;35mValueError\u001b[0m: \u001b[35mCannot register /dev/shm/joblib_memmapping_folder_2206_58a0a356de4945feafde8409e289ddf1_fe0b687c0ecf452cbb06eb17c01b51c9 for automatic cleanup: unknown resource type folder\u001b[0m\n"
     ]
    },
    {
     "name": "stderr",
     "output_type": "stream",
     "text": [
      "\r",
      "Scraping 6 games on 04/01/25:  83%|████████▎ | 151 of 182 days scraped in 995.5 sec"
     ]
    },
    {
     "name": "stderr",
     "output_type": "stream",
     "text": [
      "Traceback (most recent call last):\n",
      "  File \u001b[35m\"/opt/hostedtoolcache/Python/3.13.7/x64/lib/python3.13/multiprocessing/resource_tracker.py\"\u001b[0m, line \u001b[35m295\u001b[0m, in \u001b[35mmain\u001b[0m\n",
      "    raise ValueError(\n",
      "        f'Cannot register {name} for automatic cleanup: '\n",
      "        f'unknown resource type {rtype}')\n",
      "\u001b[1;35mValueError\u001b[0m: \u001b[35mCannot register /dev/shm/joblib_memmapping_folder_2206_3860d8a8d0e543c78cff28667b286459_228ce32458194fcc8a16b5f218ceaa32 for automatic cleanup: unknown resource type folder\u001b[0m\n",
      "Traceback (most recent call last):\n",
      "  File \u001b[35m\"/opt/hostedtoolcache/Python/3.13.7/x64/lib/python3.13/multiprocessing/resource_tracker.py\"\u001b[0m, line \u001b[35m295\u001b[0m, in \u001b[35mmain\u001b[0m\n",
      "    raise ValueError(\n",
      "        f'Cannot register {name} for automatic cleanup: '\n",
      "        f'unknown resource type {rtype}')\n",
      "\u001b[1;35mValueError\u001b[0m: \u001b[35mCannot register /dev/shm/joblib_memmapping_folder_2206_58a0a356de4945feafde8409e289ddf1_f65edf3d665944108043214bbdf8cb8c for automatic cleanup: unknown resource type folder\u001b[0m\n"
     ]
    },
    {
     "name": "stderr",
     "output_type": "stream",
     "text": [
      "\r",
      "Scraping 6 games on 04/01/25:  84%|████████▎ | 152 of 182 days scraped in 996.3 secTraceback (most recent call last):\n"
     ]
    },
    {
     "name": "stderr",
     "output_type": "stream",
     "text": [
      "  File \u001b[35m\"/opt/hostedtoolcache/Python/3.13.7/x64/lib/python3.13/multiprocessing/resource_tracker.py\"\u001b[0m, line \u001b[35m295\u001b[0m, in \u001b[35mmain\u001b[0m\n",
      "    raise ValueError(\n",
      "        f'Cannot register {name} for automatic cleanup: '\n",
      "        f'unknown resource type {rtype}')\n",
      "\u001b[1;35mValueError\u001b[0m: \u001b[35mCannot register /dev/shm/joblib_memmapping_folder_2206_58a0a356de4945feafde8409e289ddf1_f65edf3d665944108043214bbdf8cb8c for automatic cleanup: unknown resource type folder\u001b[0m\n"
     ]
    },
    {
     "name": "stderr",
     "output_type": "stream",
     "text": [
      "\r",
      "Scraping 2 games on 04/02/25:  84%|████████▎ | 152 of 182 days scraped in 996.6 sec"
     ]
    },
    {
     "name": "stderr",
     "output_type": "stream",
     "text": [
      "Traceback (most recent call last):\n",
      "  File \u001b[35m\"/opt/hostedtoolcache/Python/3.13.7/x64/lib/python3.13/multiprocessing/resource_tracker.py\"\u001b[0m, line \u001b[35m295\u001b[0m, in \u001b[35mmain\u001b[0m\n",
      "    raise ValueError(\n",
      "        f'Cannot register {name} for automatic cleanup: '\n",
      "        f'unknown resource type {rtype}')\n",
      "\u001b[1;35mValueError\u001b[0m: \u001b[35mCannot register /dev/shm/joblib_memmapping_folder_2206_b4306f493c6e410cbf16144a8faf8b06_682928cae12f4c04b1e79d140c827e68 for automatic cleanup: unknown resource type folder\u001b[0m\n",
      "Traceback (most recent call last):\n",
      "  File \u001b[35m\"/opt/hostedtoolcache/Python/3.13.7/x64/lib/python3.13/multiprocessing/resource_tracker.py\"\u001b[0m, line \u001b[35m295\u001b[0m, in \u001b[35mmain\u001b[0m\n",
      "    raise ValueError(\n",
      "        f'Cannot register {name} for automatic cleanup: '\n",
      "        f'unknown resource type {rtype}')\n",
      "\u001b[1;35mValueError\u001b[0m: \u001b[35mCannot register /dev/shm/joblib_memmapping_folder_2206_58a0a356de4945feafde8409e289ddf1_8f47d2bc0c414667a18ae584a61aa8ee for automatic cleanup: unknown resource type folder\u001b[0m\n"
     ]
    },
    {
     "name": "stderr",
     "output_type": "stream",
     "text": [
      "\r",
      "Scraping 2 games on 04/02/25:  84%|████████▍ | 153 of 182 days scraped in 997.0 sec"
     ]
    },
    {
     "name": "stderr",
     "output_type": "stream",
     "text": [
      "Traceback (most recent call last):\n",
      "  File \u001b[35m\"/opt/hostedtoolcache/Python/3.13.7/x64/lib/python3.13/multiprocessing/resource_tracker.py\"\u001b[0m, line \u001b[35m295\u001b[0m, in \u001b[35mmain\u001b[0m\n",
      "    raise ValueError(\n",
      "        f'Cannot register {name} for automatic cleanup: '\n",
      "        f'unknown resource type {rtype}')\n",
      "\u001b[1;35mValueError\u001b[0m: \u001b[35mCannot register /dev/shm/joblib_memmapping_folder_2206_58a0a356de4945feafde8409e289ddf1_8f47d2bc0c414667a18ae584a61aa8ee for automatic cleanup: unknown resource type folder\u001b[0m\n"
     ]
    },
    {
     "name": "stderr",
     "output_type": "stream",
     "text": [
      "\r",
      "Scraping 3 games on 04/03/25:  84%|████████▍ | 153 of 182 days scraped in 997.5 sec"
     ]
    },
    {
     "name": "stderr",
     "output_type": "stream",
     "text": [
      "Traceback (most recent call last):\n",
      "  File \u001b[35m\"/opt/hostedtoolcache/Python/3.13.7/x64/lib/python3.13/multiprocessing/resource_tracker.py\"\u001b[0m, line \u001b[35m295\u001b[0m, in \u001b[35mmain\u001b[0m\n",
      "    raise ValueError(\n",
      "        f'Cannot register {name} for automatic cleanup: '\n",
      "        f'unknown resource type {rtype}')\n",
      "\u001b[1;35mValueError\u001b[0m: \u001b[35mCannot register /dev/shm/joblib_memmapping_folder_2206_cb29f90e99cb479fa8ffb23e4bf011b7_92b30a72bea445abacd1bae8a0711369 for automatic cleanup: unknown resource type folder\u001b[0m\n",
      "Traceback (most recent call last):\n",
      "  File \u001b[35m\"/opt/hostedtoolcache/Python/3.13.7/x64/lib/python3.13/multiprocessing/resource_tracker.py\"\u001b[0m, line \u001b[35m295\u001b[0m, in \u001b[35mmain\u001b[0m\n",
      "    raise ValueError(\n",
      "        f'Cannot register {name} for automatic cleanup: '\n",
      "        f'unknown resource type {rtype}')\n",
      "\u001b[1;35mValueError\u001b[0m: \u001b[35mCannot register /dev/shm/joblib_memmapping_folder_2206_58a0a356de4945feafde8409e289ddf1_18842532a41548d7bdc75eb23c8ee35a for automatic cleanup: unknown resource type folder\u001b[0m\n"
     ]
    },
    {
     "name": "stderr",
     "output_type": "stream",
     "text": [
      "\r",
      "Scraping 3 games on 04/03/25:  85%|████████▍ | 154 of 182 days scraped in 998.2 sec"
     ]
    },
    {
     "name": "stderr",
     "output_type": "stream",
     "text": [
      "Traceback (most recent call last):\n",
      "  File \u001b[35m\"/opt/hostedtoolcache/Python/3.13.7/x64/lib/python3.13/multiprocessing/resource_tracker.py\"\u001b[0m, line \u001b[35m295\u001b[0m, in \u001b[35mmain\u001b[0m\n",
      "    raise ValueError(\n",
      "        f'Cannot register {name} for automatic cleanup: '\n",
      "        f'unknown resource type {rtype}')\n",
      "\u001b[1;35mValueError\u001b[0m: \u001b[35mCannot register /dev/shm/joblib_memmapping_folder_2206_58a0a356de4945feafde8409e289ddf1_18842532a41548d7bdc75eb23c8ee35a for automatic cleanup: unknown resource type folder\u001b[0m\n"
     ]
    },
    {
     "name": "stderr",
     "output_type": "stream",
     "text": [
      "\r",
      "Scraping 0 games on 04/04/25:  85%|████████▍ | 154 of 182 days scraped in 999.0 sec"
     ]
    },
    {
     "name": "stderr",
     "output_type": "stream",
     "text": [
      "\r",
      "No games on 04/04/25:  85%|████████▌ | 155 of 182 days scraped in 999.0 sec        "
     ]
    },
    {
     "name": "stderr",
     "output_type": "stream",
     "text": [
      "\r",
      "Scraping 4 games on 04/05/25:  85%|████████▌ | 155 of 182 days scraped in 999.6 sec"
     ]
    },
    {
     "name": "stderr",
     "output_type": "stream",
     "text": [
      "Traceback (most recent call last):\n",
      "  File \u001b[35m\"/opt/hostedtoolcache/Python/3.13.7/x64/lib/python3.13/multiprocessing/resource_tracker.py\"\u001b[0m, line \u001b[35m295\u001b[0m, in \u001b[35mmain\u001b[0m\n",
      "    raise ValueError(\n",
      "        f'Cannot register {name} for automatic cleanup: '\n",
      "        f'unknown resource type {rtype}')\n",
      "\u001b[1;35mValueError\u001b[0m: \u001b[35mCannot register /dev/shm/joblib_memmapping_folder_2206_ef8fdd3317da4418a2b7483ccb3b7df6_b0aa18baebfa41e39f9a47210dafe46e for automatic cleanup: unknown resource type folder\u001b[0m\n",
      "Traceback (most recent call last):\n",
      "  File \u001b[35m\"/opt/hostedtoolcache/Python/3.13.7/x64/lib/python3.13/multiprocessing/resource_tracker.py\"\u001b[0m, line \u001b[35m295\u001b[0m, in \u001b[35mmain\u001b[0m\n",
      "    raise ValueError(\n",
      "        f'Cannot register {name} for automatic cleanup: '\n",
      "        f'unknown resource type {rtype}')\n",
      "\u001b[1;35mValueError\u001b[0m: \u001b[35mCannot register /dev/shm/joblib_memmapping_folder_2206_58a0a356de4945feafde8409e289ddf1_af9dbf0d6fde4eb8ac6bb7fb014adcf6 for automatic cleanup: unknown resource type folder\u001b[0m\n"
     ]
    },
    {
     "name": "stderr",
     "output_type": "stream",
     "text": [
      "\r",
      "Scraping 4 games on 04/05/25:  86%|████████▌ | 156 of 182 days scraped in 1000.4 sec"
     ]
    },
    {
     "name": "stderr",
     "output_type": "stream",
     "text": [
      "Traceback (most recent call last):\n",
      "  File \u001b[35m\"/opt/hostedtoolcache/Python/3.13.7/x64/lib/python3.13/multiprocessing/resource_tracker.py\"\u001b[0m, line \u001b[35m295\u001b[0m, in \u001b[35mmain\u001b[0m\n",
      "    raise ValueError(\n",
      "        f'Cannot register {name} for automatic cleanup: '\n",
      "        f'unknown resource type {rtype}')\n",
      "\u001b[1;35mValueError\u001b[0m: \u001b[35mCannot register /dev/shm/joblib_memmapping_folder_2206_58a0a356de4945feafde8409e289ddf1_af9dbf0d6fde4eb8ac6bb7fb014adcf6 for automatic cleanup: unknown resource type folder\u001b[0m\n"
     ]
    },
    {
     "name": "stderr",
     "output_type": "stream",
     "text": [
      "\r",
      "Scraping 1 games on 04/06/25:  86%|████████▌ | 156 of 182 days scraped in 1001.1 sec"
     ]
    },
    {
     "name": "stderr",
     "output_type": "stream",
     "text": [
      "Traceback (most recent call last):\n",
      "  File \u001b[35m\"/opt/hostedtoolcache/Python/3.13.7/x64/lib/python3.13/multiprocessing/resource_tracker.py\"\u001b[0m, line \u001b[35m295\u001b[0m, in \u001b[35mmain\u001b[0m\n",
      "    raise ValueError(\n",
      "        f'Cannot register {name} for automatic cleanup: '\n",
      "        f'unknown resource type {rtype}')\n",
      "\u001b[1;35mValueError\u001b[0m: \u001b[35mCannot register /dev/shm/joblib_memmapping_folder_2206_ba273cd9a2d940c599aa93ed08d48df2_004c7956ccb74b7aa2009599927f3fc1 for automatic cleanup: unknown resource type folder\u001b[0m\n",
      "Traceback (most recent call last):\n",
      "  File \u001b[35m\"/opt/hostedtoolcache/Python/3.13.7/x64/lib/python3.13/multiprocessing/resource_tracker.py\"\u001b[0m, line \u001b[35m295\u001b[0m, in \u001b[35mmain\u001b[0m\n",
      "    raise ValueError(\n",
      "        f'Cannot register {name} for automatic cleanup: '\n",
      "        f'unknown resource type {rtype}')\n",
      "\u001b[1;35mValueError\u001b[0m: \u001b[35mCannot register /dev/shm/joblib_memmapping_folder_2206_58a0a356de4945feafde8409e289ddf1_4d0efc165d8048748cdf069bafc3e1ac for automatic cleanup: unknown resource type folder\u001b[0m\n"
     ]
    },
    {
     "name": "stderr",
     "output_type": "stream",
     "text": [
      "\r",
      "Scraping 1 games on 04/06/25:  86%|████████▋ | 157 of 182 days scraped in 1001.5 secTraceback (most recent call last):\n"
     ]
    },
    {
     "name": "stderr",
     "output_type": "stream",
     "text": [
      "  File \u001b[35m\"/opt/hostedtoolcache/Python/3.13.7/x64/lib/python3.13/multiprocessing/resource_tracker.py\"\u001b[0m, line \u001b[35m295\u001b[0m, in \u001b[35mmain\u001b[0m\n",
      "    raise ValueError(\n",
      "        f'Cannot register {name} for automatic cleanup: '\n",
      "        f'unknown resource type {rtype}')\n",
      "\u001b[1;35mValueError\u001b[0m: \u001b[35mCannot register /dev/shm/joblib_memmapping_folder_2206_58a0a356de4945feafde8409e289ddf1_4d0efc165d8048748cdf069bafc3e1ac for automatic cleanup: unknown resource type folder\u001b[0m\n"
     ]
    },
    {
     "name": "stderr",
     "output_type": "stream",
     "text": [
      "\r",
      "Scraping 1 games on 04/07/25:  86%|████████▋ | 157 of 182 days scraped in 1001.8 sec"
     ]
    },
    {
     "name": "stderr",
     "output_type": "stream",
     "text": [
      "Traceback (most recent call last):\n",
      "  File \u001b[35m\"/opt/hostedtoolcache/Python/3.13.7/x64/lib/python3.13/multiprocessing/resource_tracker.py\"\u001b[0m, line \u001b[35m295\u001b[0m, in \u001b[35mmain\u001b[0m\n",
      "    raise ValueError(\n",
      "        f'Cannot register {name} for automatic cleanup: '\n",
      "        f'unknown resource type {rtype}')\n",
      "\u001b[1;35mValueError\u001b[0m: \u001b[35mCannot register /dev/shm/joblib_memmapping_folder_2206_62b3c71134794a60a41528976f1b80ad_badf1c3e6acd48579cff9e6c759552f3 for automatic cleanup: unknown resource type folder\u001b[0m\n",
      "Traceback (most recent call last):\n",
      "  File \u001b[35m\"/opt/hostedtoolcache/Python/3.13.7/x64/lib/python3.13/multiprocessing/resource_tracker.py\"\u001b[0m, line \u001b[35m295\u001b[0m, in \u001b[35mmain\u001b[0m\n",
      "    raise ValueError(\n",
      "        f'Cannot register {name} for automatic cleanup: '\n",
      "        f'unknown resource type {rtype}')\n",
      "\u001b[1;35mValueError\u001b[0m: \u001b[35mCannot register /dev/shm/joblib_memmapping_folder_2206_58a0a356de4945feafde8409e289ddf1_166fe4aad2324149a84e671b6d633077 for automatic cleanup: unknown resource type folder\u001b[0m\n"
     ]
    },
    {
     "name": "stderr",
     "output_type": "stream",
     "text": [
      "\r",
      "Scraping 1 games on 04/07/25:  87%|████████▋ | 158 of 182 days scraped in 1002.1 sec"
     ]
    },
    {
     "name": "stderr",
     "output_type": "stream",
     "text": [
      "Traceback (most recent call last):\n",
      "  File \u001b[35m\"/opt/hostedtoolcache/Python/3.13.7/x64/lib/python3.13/multiprocessing/resource_tracker.py\"\u001b[0m, line \u001b[35m295\u001b[0m, in \u001b[35mmain\u001b[0m\n",
      "    raise ValueError(\n",
      "        f'Cannot register {name} for automatic cleanup: '\n",
      "        f'unknown resource type {rtype}')\n",
      "\u001b[1;35mValueError\u001b[0m: \u001b[35mCannot register /dev/shm/joblib_memmapping_folder_2206_58a0a356de4945feafde8409e289ddf1_166fe4aad2324149a84e671b6d633077 for automatic cleanup: unknown resource type folder\u001b[0m\n"
     ]
    },
    {
     "name": "stderr",
     "output_type": "stream",
     "text": [
      "\r",
      "Scraping 0 games on 04/08/25:  87%|████████▋ | 158 of 182 days scraped in 1002.7 sec"
     ]
    },
    {
     "name": "stderr",
     "output_type": "stream",
     "text": [
      "\r",
      "No games on 04/08/25:  87%|████████▋ | 159 of 182 days scraped in 1002.7 sec        "
     ]
    },
    {
     "name": "stderr",
     "output_type": "stream",
     "text": [
      "\r",
      "Scraping 0 games on 04/09/25:  87%|████████▋ | 159 of 182 days scraped in 1003.1 sec"
     ]
    },
    {
     "name": "stderr",
     "output_type": "stream",
     "text": [
      "\r",
      "No games on 04/09/25:  88%|████████▊ | 160 of 182 days scraped in 1003.1 sec        "
     ]
    },
    {
     "name": "stderr",
     "output_type": "stream",
     "text": [
      "\r",
      "Scraping 0 games on 04/10/25:  88%|████████▊ | 160 of 182 days scraped in 1003.4 sec"
     ]
    },
    {
     "name": "stderr",
     "output_type": "stream",
     "text": [
      "\r",
      "No games on 04/10/25:  88%|████████▊ | 161 of 182 days scraped in 1003.4 sec        "
     ]
    },
    {
     "name": "stderr",
     "output_type": "stream",
     "text": [
      "\r",
      "Scraping 0 games on 04/11/25:  88%|████████▊ | 161 of 182 days scraped in 1004.1 sec"
     ]
    },
    {
     "name": "stderr",
     "output_type": "stream",
     "text": [
      "\r",
      "No games on 04/11/25:  89%|████████▉ | 162 of 182 days scraped in 1004.1 sec        "
     ]
    },
    {
     "name": "stderr",
     "output_type": "stream",
     "text": [
      "\r",
      "Scraping 0 games on 04/12/25:  89%|████████▉ | 162 of 182 days scraped in 1004.6 sec"
     ]
    },
    {
     "name": "stderr",
     "output_type": "stream",
     "text": [
      "\r",
      "No games on 04/12/25:  90%|████████▉ | 163 of 182 days scraped in 1004.6 sec        "
     ]
    },
    {
     "name": "stderr",
     "output_type": "stream",
     "text": [
      "\r",
      "Scraping 0 games on 04/13/25:  90%|████████▉ | 163 of 182 days scraped in 1005.3 sec"
     ]
    },
    {
     "name": "stderr",
     "output_type": "stream",
     "text": [
      "\r",
      "No games on 04/13/25:  90%|█████████ | 164 of 182 days scraped in 1005.3 sec        "
     ]
    },
    {
     "name": "stderr",
     "output_type": "stream",
     "text": [
      "\r",
      "Scraping 0 games on 04/14/25:  90%|█████████ | 164 of 182 days scraped in 1005.8 sec"
     ]
    },
    {
     "name": "stderr",
     "output_type": "stream",
     "text": [
      "\r",
      "No games on 04/14/25:  91%|█████████ | 165 of 182 days scraped in 1005.8 sec        "
     ]
    },
    {
     "name": "stderr",
     "output_type": "stream",
     "text": [
      "\r",
      "Scraping 0 games on 04/15/25:  91%|█████████ | 165 of 182 days scraped in 1006.1 sec"
     ]
    },
    {
     "name": "stderr",
     "output_type": "stream",
     "text": [
      "\r",
      "No games on 04/15/25:  91%|█████████ | 166 of 182 days scraped in 1006.1 sec        "
     ]
    },
    {
     "name": "stderr",
     "output_type": "stream",
     "text": [
      "\r",
      "Scraping 0 games on 04/16/25:  91%|█████████ | 166 of 182 days scraped in 1006.4 sec"
     ]
    },
    {
     "name": "stderr",
     "output_type": "stream",
     "text": [
      "\r",
      "No games on 04/16/25:  92%|█████████▏| 167 of 182 days scraped in 1006.4 sec        "
     ]
    },
    {
     "name": "stderr",
     "output_type": "stream",
     "text": [
      "\r",
      "Scraping 0 games on 04/17/25:  92%|█████████▏| 167 of 182 days scraped in 1006.8 sec"
     ]
    },
    {
     "name": "stderr",
     "output_type": "stream",
     "text": [
      "\r",
      "No games on 04/17/25:  92%|█████████▏| 168 of 182 days scraped in 1006.8 sec        "
     ]
    },
    {
     "name": "stderr",
     "output_type": "stream",
     "text": [
      "\r",
      "Scraping 0 games on 04/18/25:  92%|█████████▏| 168 of 182 days scraped in 1007.2 sec"
     ]
    },
    {
     "name": "stderr",
     "output_type": "stream",
     "text": [
      "\r",
      "No games on 04/18/25:  93%|█████████▎| 169 of 182 days scraped in 1007.2 sec        "
     ]
    },
    {
     "name": "stderr",
     "output_type": "stream",
     "text": [
      "\r",
      "Scraping 0 games on 04/19/25:  93%|█████████▎| 169 of 182 days scraped in 1007.6 sec"
     ]
    },
    {
     "name": "stderr",
     "output_type": "stream",
     "text": [
      "\r",
      "No games on 04/19/25:  93%|█████████▎| 170 of 182 days scraped in 1007.6 sec        "
     ]
    },
    {
     "name": "stderr",
     "output_type": "stream",
     "text": [
      "\r",
      "Scraping 0 games on 04/20/25:  93%|█████████▎| 170 of 182 days scraped in 1008.2 sec"
     ]
    },
    {
     "name": "stderr",
     "output_type": "stream",
     "text": [
      "\r",
      "No games on 04/20/25:  94%|█████████▍| 171 of 182 days scraped in 1008.2 sec        "
     ]
    },
    {
     "name": "stderr",
     "output_type": "stream",
     "text": [
      "\r",
      "Scraping 0 games on 04/21/25:  94%|█████████▍| 171 of 182 days scraped in 1009.0 sec"
     ]
    },
    {
     "name": "stderr",
     "output_type": "stream",
     "text": [
      "\r",
      "No games on 04/21/25:  95%|█████████▍| 172 of 182 days scraped in 1009.0 sec        "
     ]
    },
    {
     "name": "stderr",
     "output_type": "stream",
     "text": [
      "\r",
      "Scraping 0 games on 04/22/25:  95%|█████████▍| 172 of 182 days scraped in 1009.3 sec"
     ]
    },
    {
     "name": "stderr",
     "output_type": "stream",
     "text": [
      "\r",
      "No games on 04/22/25:  95%|█████████▌| 173 of 182 days scraped in 1009.3 sec        "
     ]
    },
    {
     "name": "stderr",
     "output_type": "stream",
     "text": [
      "\r",
      "Scraping 0 games on 04/23/25:  95%|█████████▌| 173 of 182 days scraped in 1009.6 sec"
     ]
    },
    {
     "name": "stderr",
     "output_type": "stream",
     "text": [
      "\r",
      "No games on 04/23/25:  96%|█████████▌| 174 of 182 days scraped in 1009.6 sec        "
     ]
    },
    {
     "name": "stderr",
     "output_type": "stream",
     "text": [
      "\r",
      "Scraping 0 games on 04/24/25:  96%|█████████▌| 174 of 182 days scraped in 1009.8 sec"
     ]
    },
    {
     "name": "stderr",
     "output_type": "stream",
     "text": [
      "\r",
      "No games on 04/24/25:  96%|█████████▌| 175 of 182 days scraped in 1009.8 sec        "
     ]
    },
    {
     "name": "stderr",
     "output_type": "stream",
     "text": [
      "\r",
      "Scraping 0 games on 04/25/25:  96%|█████████▌| 175 of 182 days scraped in 1010.2 sec"
     ]
    },
    {
     "name": "stderr",
     "output_type": "stream",
     "text": [
      "\r",
      "No games on 04/25/25:  97%|█████████▋| 176 of 182 days scraped in 1010.2 sec        "
     ]
    },
    {
     "name": "stderr",
     "output_type": "stream",
     "text": [
      "\r",
      "Scraping 0 games on 04/26/25:  97%|█████████▋| 176 of 182 days scraped in 1010.5 sec"
     ]
    },
    {
     "name": "stderr",
     "output_type": "stream",
     "text": [
      "\r",
      "No games on 04/26/25:  97%|█████████▋| 177 of 182 days scraped in 1010.5 sec        "
     ]
    },
    {
     "name": "stderr",
     "output_type": "stream",
     "text": [
      "\r",
      "Scraping 0 games on 04/27/25:  97%|█████████▋| 177 of 182 days scraped in 1010.8 sec"
     ]
    },
    {
     "name": "stderr",
     "output_type": "stream",
     "text": [
      "\r",
      "No games on 04/27/25:  98%|█████████▊| 178 of 182 days scraped in 1010.8 sec        "
     ]
    },
    {
     "name": "stderr",
     "output_type": "stream",
     "text": [
      "\r",
      "Scraping 0 games on 04/28/25:  98%|█████████▊| 178 of 182 days scraped in 1011.1 sec"
     ]
    },
    {
     "name": "stderr",
     "output_type": "stream",
     "text": [
      "\r",
      "No games on 04/28/25:  98%|█████████▊| 179 of 182 days scraped in 1011.1 sec        "
     ]
    },
    {
     "name": "stderr",
     "output_type": "stream",
     "text": [
      "\r",
      "Scraping 0 games on 04/29/25:  98%|█████████▊| 179 of 182 days scraped in 1011.5 sec"
     ]
    },
    {
     "name": "stderr",
     "output_type": "stream",
     "text": [
      "\r",
      "No games on 04/29/25:  99%|█████████▉| 180 of 182 days scraped in 1011.5 sec        "
     ]
    },
    {
     "name": "stderr",
     "output_type": "stream",
     "text": [
      "\r",
      "Scraping 0 games on 04/30/25:  99%|█████████▉| 180 of 182 days scraped in 1012.0 sec"
     ]
    },
    {
     "name": "stderr",
     "output_type": "stream",
     "text": [
      "\r",
      "No games on 04/30/25:  99%|█████████▉| 181 of 182 days scraped in 1012.0 sec        "
     ]
    },
    {
     "name": "stderr",
     "output_type": "stream",
     "text": [
      "\r",
      "Scraping 0 games on 05/01/25:  99%|█████████▉| 181 of 182 days scraped in 1012.3 sec"
     ]
    },
    {
     "name": "stderr",
     "output_type": "stream",
     "text": [
      "\r",
      "No games on 05/01/25: 100%|██████████| 182 of 182 days scraped in 1012.3 sec        "
     ]
    },
    {
     "name": "stderr",
     "output_type": "stream",
     "text": [
      "\r",
      "No games on 05/01/25: 100%|██████████| 182 of 182 days scraped in 1012.3 sec"
     ]
    },
    {
     "name": "stderr",
     "output_type": "stream",
     "text": [
      "\n"
     ]
    },
    {
     "name": "stdout",
     "output_type": "stream",
     "text": [
      "Log file is located at /home/runner/.local/state/CBBpy/2.1.2/log/CBBpy.log\n"
     ]
    }
   ],
   "source": [
    "import pandas as pd\n",
    "import cbbpy.mens_scraper as s\n",
    "\n",
    "# Create data frames for each season of game info\n",
    "\n",
    "df_2025 = s.get_games_season(2025, box = False, pbp = False)\n"
   ]
  },
  {
   "cell_type": "code",
   "execution_count": 2,
   "metadata": {
    "execution": {
     "iopub.execute_input": "2025-08-22T12:23:26.810491Z",
     "iopub.status.busy": "2025-08-22T12:23:26.810242Z",
     "iopub.status.idle": "2025-08-22T12:23:26.833286Z",
     "shell.execute_reply": "2025-08-22T12:23:26.832793Z"
    }
   },
   "outputs": [
    {
     "data": {
      "text/html": [
       "<div>\n",
       "<style scoped>\n",
       "    .dataframe tbody tr th:only-of-type {\n",
       "        vertical-align: middle;\n",
       "    }\n",
       "\n",
       "    .dataframe tbody tr th {\n",
       "        vertical-align: top;\n",
       "    }\n",
       "\n",
       "    .dataframe thead th {\n",
       "        text-align: right;\n",
       "    }\n",
       "</style>\n",
       "<table border=\"1\" class=\"dataframe\">\n",
       "  <thead>\n",
       "    <tr style=\"text-align: right;\">\n",
       "      <th></th>\n",
       "      <th>game_id</th>\n",
       "      <th>game_status</th>\n",
       "      <th>home_team</th>\n",
       "      <th>home_id</th>\n",
       "      <th>home_rank</th>\n",
       "      <th>home_record</th>\n",
       "      <th>home_score</th>\n",
       "      <th>away_team</th>\n",
       "      <th>away_id</th>\n",
       "      <th>away_rank</th>\n",
       "      <th>...</th>\n",
       "      <th>game_day</th>\n",
       "      <th>game_time</th>\n",
       "      <th>game_loc</th>\n",
       "      <th>arena</th>\n",
       "      <th>arena_capacity</th>\n",
       "      <th>attendance</th>\n",
       "      <th>tv_network</th>\n",
       "      <th>referee_1</th>\n",
       "      <th>referee_2</th>\n",
       "      <th>referee_3</th>\n",
       "    </tr>\n",
       "  </thead>\n",
       "  <tbody>\n",
       "    <tr>\n",
       "      <th>0</th>\n",
       "      <td>401727499</td>\n",
       "      <td>Final</td>\n",
       "      <td>IU Indianapolis Jaguars</td>\n",
       "      <td>85</td>\n",
       "      <td>NaN</td>\n",
       "      <td>1-0</td>\n",
       "      <td>100</td>\n",
       "      <td>IU Columbus Crimson Pride</td>\n",
       "      <td>nd-iu-columbus-crimson-pride</td>\n",
       "      <td>NaN</td>\n",
       "      <td>...</td>\n",
       "      <td>November 04, 2024</td>\n",
       "      <td>08:00 AM PST</td>\n",
       "      <td>Indianapolis, IN</td>\n",
       "      <td>Corteva Coliseum</td>\n",
       "      <td>NaN</td>\n",
       "      <td>3716.0</td>\n",
       "      <td>ESPN+</td>\n",
       "      <td>Rod Mrakovich</td>\n",
       "      <td>Martin Spencer</td>\n",
       "      <td>Adam Sensibaugh</td>\n",
       "    </tr>\n",
       "    <tr>\n",
       "      <th>1</th>\n",
       "      <td>401715872</td>\n",
       "      <td>Final</td>\n",
       "      <td>Southern Illinois Salukis</td>\n",
       "      <td>79</td>\n",
       "      <td>NaN</td>\n",
       "      <td>0-1</td>\n",
       "      <td>80</td>\n",
       "      <td>Charleston Cougars</td>\n",
       "      <td>232</td>\n",
       "      <td>NaN</td>\n",
       "      <td>...</td>\n",
       "      <td>November 04, 2024</td>\n",
       "      <td>09:00 AM PST</td>\n",
       "      <td>Sioux Falls, SD</td>\n",
       "      <td>Sanford Pentagon</td>\n",
       "      <td>NaN</td>\n",
       "      <td>0.0</td>\n",
       "      <td></td>\n",
       "      <td>Brad Ferrie</td>\n",
       "      <td>Antinio Petty</td>\n",
       "      <td>Ben Wolfe</td>\n",
       "    </tr>\n",
       "    <tr>\n",
       "      <th>2</th>\n",
       "      <td>401725796</td>\n",
       "      <td>Final</td>\n",
       "      <td>UT Arlington Mavericks</td>\n",
       "      <td>250</td>\n",
       "      <td>NaN</td>\n",
       "      <td>1-0</td>\n",
       "      <td>90</td>\n",
       "      <td>UNT Dallas Trailblazers</td>\n",
       "      <td>nd-unt-dallas-trailblazers</td>\n",
       "      <td>NaN</td>\n",
       "      <td>...</td>\n",
       "      <td>November 04, 2024</td>\n",
       "      <td>09:00 AM PST</td>\n",
       "      <td>Arlington, TX</td>\n",
       "      <td>College Park Center</td>\n",
       "      <td>NaN</td>\n",
       "      <td>1001.0</td>\n",
       "      <td>ESPN+</td>\n",
       "      <td>Doug George</td>\n",
       "      <td>Randal Anders</td>\n",
       "      <td>Trenton Chaney</td>\n",
       "    </tr>\n",
       "    <tr>\n",
       "      <th>3</th>\n",
       "      <td>401726400</td>\n",
       "      <td>Final</td>\n",
       "      <td>Middle Tennessee Blue Raiders</td>\n",
       "      <td>2393</td>\n",
       "      <td>NaN</td>\n",
       "      <td>1-0</td>\n",
       "      <td>97</td>\n",
       "      <td>Oglethorpe Stormy Petrels</td>\n",
       "      <td>nd-oglethorpe-stormy-petrels</td>\n",
       "      <td>NaN</td>\n",
       "      <td>...</td>\n",
       "      <td>November 04, 2024</td>\n",
       "      <td>09:00 AM PST</td>\n",
       "      <td>Murfreesboro, TN</td>\n",
       "      <td>Murphy Center</td>\n",
       "      <td>NaN</td>\n",
       "      <td>7501.0</td>\n",
       "      <td>ESPN+</td>\n",
       "      <td>Kevin Mathis</td>\n",
       "      <td>James Curran</td>\n",
       "      <td>Klajdi Mulla</td>\n",
       "    </tr>\n",
       "    <tr>\n",
       "      <th>4</th>\n",
       "      <td>401726395</td>\n",
       "      <td>Final</td>\n",
       "      <td>Jacksonville State Gamecocks</td>\n",
       "      <td>55</td>\n",
       "      <td>NaN</td>\n",
       "      <td>1-0</td>\n",
       "      <td>112</td>\n",
       "      <td>LaGrange Panthers</td>\n",
       "      <td>nd-lagrange-panthers</td>\n",
       "      <td>NaN</td>\n",
       "      <td>...</td>\n",
       "      <td>November 04, 2024</td>\n",
       "      <td>09:30 AM PST</td>\n",
       "      <td>Jacksonville, AL</td>\n",
       "      <td>Pete Mathews Coliseum</td>\n",
       "      <td>NaN</td>\n",
       "      <td>2055.0</td>\n",
       "      <td>ESPN+</td>\n",
       "      <td>Barry Mathis</td>\n",
       "      <td>Nick Meyer</td>\n",
       "      <td>Jeremy Trussell</td>\n",
       "    </tr>\n",
       "    <tr>\n",
       "      <th>...</th>\n",
       "      <td>...</td>\n",
       "      <td>...</td>\n",
       "      <td>...</td>\n",
       "      <td>...</td>\n",
       "      <td>...</td>\n",
       "      <td>...</td>\n",
       "      <td>...</td>\n",
       "      <td>...</td>\n",
       "      <td>...</td>\n",
       "      <td>...</td>\n",
       "      <td>...</td>\n",
       "      <td>...</td>\n",
       "      <td>...</td>\n",
       "      <td>...</td>\n",
       "      <td>...</td>\n",
       "      <td>...</td>\n",
       "      <td>...</td>\n",
       "      <td>...</td>\n",
       "      <td>...</td>\n",
       "      <td>...</td>\n",
       "      <td>...</td>\n",
       "    </tr>\n",
       "    <tr>\n",
       "      <th>6294</th>\n",
       "      <td>401758633</td>\n",
       "      <td>Final</td>\n",
       "      <td>Villanova Wildcats</td>\n",
       "      <td>222</td>\n",
       "      <td>NaN</td>\n",
       "      <td>21-15</td>\n",
       "      <td>98</td>\n",
       "      <td>UCF Knights</td>\n",
       "      <td>2116</td>\n",
       "      <td>NaN</td>\n",
       "      <td>...</td>\n",
       "      <td>April 05, 2025</td>\n",
       "      <td>01:00 PM PDT</td>\n",
       "      <td>Las Vegas, NV</td>\n",
       "      <td>T-Mobile Arena</td>\n",
       "      <td>NaN</td>\n",
       "      <td>2972.0</td>\n",
       "      <td>FOX</td>\n",
       "      <td>D.J. Carstensen</td>\n",
       "      <td>Matt Potter</td>\n",
       "      <td>Brooks Wells</td>\n",
       "    </tr>\n",
       "    <tr>\n",
       "      <th>6295</th>\n",
       "      <td>401746081</td>\n",
       "      <td>Final</td>\n",
       "      <td>Auburn Tigers</td>\n",
       "      <td>2</td>\n",
       "      <td>1.0</td>\n",
       "      <td>32-6</td>\n",
       "      <td>73</td>\n",
       "      <td>Florida Gators</td>\n",
       "      <td>57</td>\n",
       "      <td>1.0</td>\n",
       "      <td>...</td>\n",
       "      <td>April 05, 2025</td>\n",
       "      <td>03:09 PM PDT</td>\n",
       "      <td>San Antonio, TX</td>\n",
       "      <td>Alamodome</td>\n",
       "      <td>NaN</td>\n",
       "      <td>68252.0</td>\n",
       "      <td>CBS</td>\n",
       "      <td>Tony Padilla</td>\n",
       "      <td>Roger Ayers</td>\n",
       "      <td>Courtney Green</td>\n",
       "    </tr>\n",
       "    <tr>\n",
       "      <th>6296</th>\n",
       "      <td>401746080</td>\n",
       "      <td>Final</td>\n",
       "      <td>Duke Blue Devils</td>\n",
       "      <td>150</td>\n",
       "      <td>1.0</td>\n",
       "      <td>35-4</td>\n",
       "      <td>67</td>\n",
       "      <td>Houston Cougars</td>\n",
       "      <td>248</td>\n",
       "      <td>1.0</td>\n",
       "      <td>...</td>\n",
       "      <td>April 05, 2025</td>\n",
       "      <td>06:28 PM PDT</td>\n",
       "      <td>San Antonio, TX</td>\n",
       "      <td>Alamodome</td>\n",
       "      <td>NaN</td>\n",
       "      <td>68252.0</td>\n",
       "      <td>CBS</td>\n",
       "      <td>Doug Shows</td>\n",
       "      <td>James Breeding</td>\n",
       "      <td>Keith Kimble</td>\n",
       "    </tr>\n",
       "    <tr>\n",
       "      <th>6297</th>\n",
       "      <td>401758636</td>\n",
       "      <td>Final</td>\n",
       "      <td>UCF Knights</td>\n",
       "      <td>2116</td>\n",
       "      <td>NaN</td>\n",
       "      <td>20-17</td>\n",
       "      <td>66</td>\n",
       "      <td>Nebraska Cornhuskers</td>\n",
       "      <td>158</td>\n",
       "      <td>NaN</td>\n",
       "      <td>...</td>\n",
       "      <td>April 06, 2025</td>\n",
       "      <td>02:30 PM PDT</td>\n",
       "      <td>Las Vegas, NV</td>\n",
       "      <td>T-Mobile Arena</td>\n",
       "      <td>NaN</td>\n",
       "      <td>3314.0</td>\n",
       "      <td>FOX</td>\n",
       "      <td>Brian  O'Connell</td>\n",
       "      <td>D.J. Carstensen</td>\n",
       "      <td>Tyler Kumpf</td>\n",
       "    </tr>\n",
       "    <tr>\n",
       "      <th>6298</th>\n",
       "      <td>401746082</td>\n",
       "      <td>Final</td>\n",
       "      <td>Houston Cougars</td>\n",
       "      <td>248</td>\n",
       "      <td>1.0</td>\n",
       "      <td>35-5</td>\n",
       "      <td>63</td>\n",
       "      <td>Florida Gators</td>\n",
       "      <td>57</td>\n",
       "      <td>1.0</td>\n",
       "      <td>...</td>\n",
       "      <td>April 07, 2025</td>\n",
       "      <td>05:50 PM PDT</td>\n",
       "      <td>San Antonio, TX</td>\n",
       "      <td>Alamodome</td>\n",
       "      <td>NaN</td>\n",
       "      <td>66602.0</td>\n",
       "      <td>CBS</td>\n",
       "      <td>Ron Groover</td>\n",
       "      <td>Terry Oglesby</td>\n",
       "      <td>Doug Sirmons</td>\n",
       "    </tr>\n",
       "  </tbody>\n",
       "</table>\n",
       "<p>6299 rows × 29 columns</p>\n",
       "</div>"
      ],
      "text/plain": [
       "        game_id game_status                      home_team home_id  home_rank  \\\n",
       "0     401727499       Final        IU Indianapolis Jaguars      85        NaN   \n",
       "1     401715872       Final      Southern Illinois Salukis      79        NaN   \n",
       "2     401725796       Final         UT Arlington Mavericks     250        NaN   \n",
       "3     401726400       Final  Middle Tennessee Blue Raiders    2393        NaN   \n",
       "4     401726395       Final   Jacksonville State Gamecocks      55        NaN   \n",
       "...         ...         ...                            ...     ...        ...   \n",
       "6294  401758633       Final             Villanova Wildcats     222        NaN   \n",
       "6295  401746081       Final                  Auburn Tigers       2        1.0   \n",
       "6296  401746080       Final               Duke Blue Devils     150        1.0   \n",
       "6297  401758636       Final                    UCF Knights    2116        NaN   \n",
       "6298  401746082       Final                Houston Cougars     248        1.0   \n",
       "\n",
       "     home_record  home_score                  away_team  \\\n",
       "0            1-0         100  IU Columbus Crimson Pride   \n",
       "1            0-1          80         Charleston Cougars   \n",
       "2            1-0          90    UNT Dallas Trailblazers   \n",
       "3            1-0          97  Oglethorpe Stormy Petrels   \n",
       "4            1-0         112          LaGrange Panthers   \n",
       "...          ...         ...                        ...   \n",
       "6294       21-15          98                UCF Knights   \n",
       "6295        32-6          73             Florida Gators   \n",
       "6296        35-4          67            Houston Cougars   \n",
       "6297       20-17          66       Nebraska Cornhuskers   \n",
       "6298        35-5          63             Florida Gators   \n",
       "\n",
       "                           away_id  away_rank  ...           game_day  \\\n",
       "0     nd-iu-columbus-crimson-pride        NaN  ...  November 04, 2024   \n",
       "1                              232        NaN  ...  November 04, 2024   \n",
       "2       nd-unt-dallas-trailblazers        NaN  ...  November 04, 2024   \n",
       "3     nd-oglethorpe-stormy-petrels        NaN  ...  November 04, 2024   \n",
       "4             nd-lagrange-panthers        NaN  ...  November 04, 2024   \n",
       "...                            ...        ...  ...                ...   \n",
       "6294                          2116        NaN  ...     April 05, 2025   \n",
       "6295                            57        1.0  ...     April 05, 2025   \n",
       "6296                           248        1.0  ...     April 05, 2025   \n",
       "6297                           158        NaN  ...     April 06, 2025   \n",
       "6298                            57        1.0  ...     April 07, 2025   \n",
       "\n",
       "         game_time          game_loc                  arena  arena_capacity  \\\n",
       "0     08:00 AM PST  Indianapolis, IN       Corteva Coliseum             NaN   \n",
       "1     09:00 AM PST   Sioux Falls, SD       Sanford Pentagon             NaN   \n",
       "2     09:00 AM PST     Arlington, TX    College Park Center             NaN   \n",
       "3     09:00 AM PST  Murfreesboro, TN          Murphy Center             NaN   \n",
       "4     09:30 AM PST  Jacksonville, AL  Pete Mathews Coliseum             NaN   \n",
       "...            ...               ...                    ...             ...   \n",
       "6294  01:00 PM PDT     Las Vegas, NV         T-Mobile Arena             NaN   \n",
       "6295  03:09 PM PDT   San Antonio, TX              Alamodome             NaN   \n",
       "6296  06:28 PM PDT   San Antonio, TX              Alamodome             NaN   \n",
       "6297  02:30 PM PDT     Las Vegas, NV         T-Mobile Arena             NaN   \n",
       "6298  05:50 PM PDT   San Antonio, TX              Alamodome             NaN   \n",
       "\n",
       "      attendance  tv_network         referee_1        referee_2  \\\n",
       "0         3716.0       ESPN+     Rod Mrakovich   Martin Spencer   \n",
       "1            0.0                   Brad Ferrie    Antinio Petty   \n",
       "2         1001.0       ESPN+       Doug George    Randal Anders   \n",
       "3         7501.0       ESPN+      Kevin Mathis     James Curran   \n",
       "4         2055.0       ESPN+      Barry Mathis       Nick Meyer   \n",
       "...          ...         ...               ...              ...   \n",
       "6294      2972.0         FOX   D.J. Carstensen      Matt Potter   \n",
       "6295     68252.0         CBS      Tony Padilla      Roger Ayers   \n",
       "6296     68252.0         CBS        Doug Shows   James Breeding   \n",
       "6297      3314.0         FOX  Brian  O'Connell  D.J. Carstensen   \n",
       "6298     66602.0         CBS       Ron Groover    Terry Oglesby   \n",
       "\n",
       "            referee_3  \n",
       "0     Adam Sensibaugh  \n",
       "1           Ben Wolfe  \n",
       "2      Trenton Chaney  \n",
       "3        Klajdi Mulla  \n",
       "4     Jeremy Trussell  \n",
       "...               ...  \n",
       "6294     Brooks Wells  \n",
       "6295   Courtney Green  \n",
       "6296     Keith Kimble  \n",
       "6297      Tyler Kumpf  \n",
       "6298     Doug Sirmons  \n",
       "\n",
       "[6299 rows x 29 columns]"
      ]
     },
     "execution_count": 2,
     "metadata": {},
     "output_type": "execute_result"
    }
   ],
   "source": [
    "df_2025_game_info = df_2025[0]\n",
    "df_2025_game_info"
   ]
  },
  {
   "cell_type": "code",
   "execution_count": 3,
   "metadata": {
    "execution": {
     "iopub.execute_input": "2025-08-22T12:23:26.834870Z",
     "iopub.status.busy": "2025-08-22T12:23:26.834706Z",
     "iopub.status.idle": "2025-08-22T12:23:26.894174Z",
     "shell.execute_reply": "2025-08-22T12:23:26.893638Z"
    }
   },
   "outputs": [
    {
     "name": "stdout",
     "output_type": "stream",
     "text": [
      "Exported 6292 completed games to Completed_Games.csv\n",
      "Exported 1 upcoming games to Upcoming_Games.csv\n"
     ]
    }
   ],
   "source": [
    "# Filter games by status and export to CSV files\n",
    "\n",
    "# Get completed games (status = 'Final')\n",
    "completed_games = df_2025_game_info[df_2025_game_info['game_status'] == 'Final']\n",
    "\n",
    "# Get upcoming games (status = 'Scheduled')\n",
    "upcoming_games = df_2025_game_info[df_2025_game_info['game_status'] == 'Scheduled']\n",
    "\n",
    "# Export to CSV files\n",
    "completed_games.to_csv('Completed_Games.csv', index=False)\n",
    "upcoming_games.to_csv('Upcoming_Games.csv', index=False)\n",
    "\n",
    "# Print summary\n",
    "print(f\"Exported {len(completed_games)} completed games to Completed_Games.csv\")\n",
    "print(f\"Exported {len(upcoming_games)} upcoming games to Upcoming_Games.csv\")"
   ]
  }
 ],
 "metadata": {
  "kernelspec": {
   "display_name": "Python 3",
   "language": "python",
   "name": "python3"
  },
  "language_info": {
   "codemirror_mode": {
    "name": "ipython",
    "version": 3
   },
   "file_extension": ".py",
   "mimetype": "text/x-python",
   "name": "python",
   "nbconvert_exporter": "python",
   "pygments_lexer": "ipython3",
   "version": "3.13.7"
  }
 },
 "nbformat": 4,
 "nbformat_minor": 2
}
